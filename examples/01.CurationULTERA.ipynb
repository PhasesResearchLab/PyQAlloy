{
 "cells": [
  {
   "cell_type": "markdown",
   "metadata": {
    "collapsed": false
   },
   "source": [
    "# PyQAlloy Basic Usage Examples (over the ULTERA Database)\n",
    "\n",
    "**Welcome to this minimal Jupyter notebook tutorial that shows how to use the PyQAlloy package functions over an established dataset following the expected schema (of the ULTERA Database). It showcases PyQAlloy's deployment over an older snapshot (`CURATED_Dec2022` collection in `ULTERA_internal` sub-database) to curate the dataset with all core methods:**\n",
    "- [Single Composition Analyzer](#Single-Composition-Analyzer) which operates within scope of a single composition, i.e., does not require any study reference, property data, or other compositions from the database.\n",
    "- [Single DOI Analyzer](#Single-DOI-Analyzer) which operates within scope of a single study / reference, which should ideally be a DOI, putting many compositions and properties together.\n",
    "- [All Data (Entire Database) Analyzer](#All-Data-(Entire-Database)-Analyzer) which operates within the scope of the entire database, leveraging multi-study patterns and relationships to curate the data.\n",
    "\n",
    "**Please note that to execute run this notebook, you need to have API credentials either stored in `credentials.json` file, set using `pyqalloy.setCredentials`, or set using `pyqalloy.setCredentialsFromURI`. If you don't have them, you can still follow it along looking at the pre-computed results to learn the usage of `PyQAlloy` over static and explained results.** Tutorials 2 and 3 will later show you how to use a static snapshot of a database (in-memory) and how to use the PyQAlloy package to curate your data conforming to the ULTERA schema standards.\n",
    "\n",
    "Let's start by:\n",
    "- Setting up the ULTERA API credentials. \n",
    "- Importing the `analysis` submodule from `pyqalloy`."
   ]
  },
  {
   "cell_type": "code",
   "execution_count": null,
   "metadata": {},
   "outputs": [],
   "source": [
    "from pyqalloy import setCredentials\n",
    "\n",
    "# Once again, if you don't have them, you can still follow along looking at the pre-computed results in this notebook - just don't run the cells.\n",
    "setCredentials(\n",
    "    name='myname',\n",
    "    dbKey='mydbkey',\n",
    "    dataServer='mycluster.h20x21.mongodb.net'\n",
    ")"
   ]
  },
  {
   "cell_type": "code",
   "execution_count": 1,
   "metadata": {},
   "outputs": [],
   "source": [
    "# All relevant classes for this tutorial are in the analysis submodule\n",
    "from pyqalloy.curation import analysis"
   ]
  },
  {
   "cell_type": "markdown",
   "metadata": {},
   "source": [
    "## Single Composition Analyzer\n",
    "\n",
    "Mehtods of the `SingleCompositionAnalyzer` class explicitly operate within the scope of a single composition, i.e., interpretation of a chemical formula stored in the database and then parsed into several formats (raw, fractional, percentile, relational) defined in ULTERA. \n",
    "\n",
    "In the context of compositionally complex materials (CCMs), like multi-principle element alloys (MPEAs), high-entropy alloys (HEAs), high-entropy ceramics (HECs), Ni-based superalloys, or advanced steels, the most powerful (yet simple) method is the `scanCompositionsAround100` method which, as the name suggests, scans looking for compositions that sum to around `100%` (or `1` in fractional form), yet not exactly `100%`; thus, suggesting either (a) parsing errors or (b) normalization errors.\n",
    "\n",
    "Start by setting up a `SingleCompositionAnalyzer` object called, e.g. `sC`. By default, it will connect to the `'ULTERA_internal'` database's `'CURATED_Dec2022'` collection we use for demonstration purposes in PyQAlloy as of `v0.4.0`."
   ]
  },
  {
   "cell_type": "code",
   "execution_count": 2,
   "metadata": {
    "ExecuteTime": {
     "end_time": "2023-03-28T12:56:42.761768Z",
     "start_time": "2023-03-28T12:56:42.435086Z"
    },
    "collapsed": false
   },
   "outputs": [
    {
     "name": "stdout",
     "output_type": "stream",
     "text": [
      "Loading the database credentials from default location: /Users/adam/VSCode Projects/PyQAlloy-1/pyqalloy/credentials.json\n",
      "Connected to the CURATED_Dec2022 in ULTERA_internal with 6073 data points detected.\n"
     ]
    }
   ],
   "source": [
    "sC = analysis.SingleCompositionAnalyzer()"
   ]
  },
  {
   "cell_type": "markdown",
   "metadata": {},
   "source": [
    "However, you can easily point it to another database, by pointing it to a MongoDB-compatible Collection object or custom server by providing custom `collection`, `database`, and `credentialsFile` arguments, as shown in the commented-out line below."
   ]
  },
  {
   "cell_type": "code",
   "execution_count": 3,
   "metadata": {},
   "outputs": [],
   "source": [
    "# sC = analysis.SingleCompositionAnalyzer(collectionManualOverride=my_mongo_collection_obejct)\n",
    "# sC = analysis.SingleCompositionAnalyzer(database='mydatabase', collection='mycollection', credentialsFile='../mycredentials.json')"
   ]
  },
  {
   "cell_type": "markdown",
   "metadata": {
    "collapsed": false
   },
   "source": [
    "Once connected, the use is quite straightforward and the default values tend to work well for most cases. Start by scanning through all the compositions with `scanCompositionsAround100`, described earlier, looking for the the fraction sums that are close to `100%` but not exactly `100%`. To keep things simple, you can request to limit the results up to `10` results and print them to the console on the fly, so you that you can just visually inspect them as you go."
   ]
  },
  {
   "cell_type": "code",
   "execution_count": 4,
   "metadata": {},
   "outputs": [
    {
     "name": "stdout",
     "output_type": "stream",
     "text": [
      "DOI: 10.1016/j.msea.2017.04.111\n",
      "F:   Cr19 Fe19 Co19 Ni37 Cu4 Al4\n",
      "PF:  Cr18.6 Fe18.6 Co18.6 Ni36.3 Cu3.9 Al3.9\n",
      "Raw:  Al4Co19Cr19Cu4Fe19Ni37\n",
      "RF:  Cr4.75 Fe4.75 Co4.75 Ni9.25 Cu1 Al1\n",
      "[19.0, 19.0, 19.0, 37.0, 4.0, 4.0]\n",
      "-->  102.0\n",
      "\n",
      "DOI: 10.3390/ma12071136\n",
      "F:   Li38 Ca1 Mg48 Al15 Si1\n",
      "PF:  Li36.9 Ca1 Mg46.6 Al14.6 Si1\n",
      "Raw:  Al15Li38Mg48Ca1 Si1\n",
      "RF:  Li38 Ca1 Mg48 Al15 Si1\n",
      "[38.0, 1.0, 48.0, 15.0, 1.0]\n",
      "-->  103.0\n",
      "\n",
      "DOI: 10.1016/j.msea.2012.04.067  --> F9\n",
      "F:   Hf1.4 Zr0.007 Ti0.4 Ta3.3 W9.4 Mo0.5 Cr8.1 Co9.3 Ni61.5 Al5.7 B0.017 C0.07\n",
      "PF:  Hf1.4 Zr0 Ti0.4 Ta3.3 W9.4 Mo0.5 Cr8.1 Co9.3 Ni61.7 Al5.7 B0 C0.1\n",
      "Raw:  Ni61.5 W9.4 Co9.3 Cr8.1 Al5.7 Ta3.3 Hf1.4 Ti0.4 Mo0.5 C0.07 B0.017 Zr0.007\n",
      "RF:  Hf2.8 Zr0.01 Ti0.8 Ta6.6 W18.8 Mo1 Cr16.2 Co18.6 Ni123 Al11.4 B0.03 C0.14\n",
      "[1.4, 0.007, 0.4, 3.3, 9.4, 0.5, 8.1, 9.3, 61.5, 5.7, 0.017, 0.07]\n",
      "-->  99.694\n",
      "\n",
      "DOI: 10.1016/j.ijfatigue.2018.08.029  --> T6\n",
      "F:   Ti86.2 V3.15 Al10.2\n",
      "PF:  Ti86.6 V3.2 Al10.2\n",
      "Raw:  Ti86.2 Al10.2 V3.15\n",
      "RF:  Ti27.37 V1 Al3.24\n",
      "[86.2, 3.15, 10.2]\n",
      "-->  99.55\n",
      "\n",
      "DOI: 10.1016/j.actamat.2016.06.063\n",
      "F:   Mo7 Cr23 Fe23 Co23 Ni23\n",
      "PF:  Mo7.1 Cr23.2 Fe23.2 Co23.2 Ni23.2\n",
      "Raw:  Co23Cr23Fe23Ni23Mo7\n",
      "RF:  Mo1 Cr3.29 Fe3.29 Co3.29 Ni3.29\n",
      "[7.0, 23.0, 23.0, 23.0, 23.0]\n",
      "-->  99.0\n",
      "\n",
      "DOI: 10.1016/j.actamat.2016.11.016\n",
      "F:   Cr16 Fe16 Co16 Ni34.4 Al16\n",
      "PF:  Cr16.3 Fe16.3 Co16.3 Ni35 Al16.3\n",
      "Raw:  Al16Co16Cr16Fe16Ni34.4\n",
      "RF:  Cr1 Fe1 Co1 Ni2.15 Al1\n",
      "[16.0, 16.0, 16.0, 34.4, 16.0]\n",
      "-->  98.4\n",
      "\n",
      "DOI: 10.1016/j.matlet.2017.04.072\n",
      "F:   Cr23 Fe23 Co23 Ni23 Al7\n",
      "PF:  Cr23.2 Fe23.2 Co23.2 Ni23.2 Al7.1\n",
      "Raw:  Al7Co23Cr23Fe23Ni23\n",
      "RF:  Cr3.29 Fe3.29 Co3.29 Ni3.29 Al1\n",
      "[23.0, 23.0, 23.0, 23.0, 7.0]\n",
      "-->  99.0\n",
      "\n",
      "DOI: 10.1016/j.msea.2016.11.019\n",
      "F:   Cr26 Fe26 Ni26 Al23\n",
      "PF:  Cr25.7 Fe25.7 Ni25.7 Al22.8\n",
      "Raw:  Al23Cr26Fe26Ni26\n",
      "RF:  Cr1.13 Fe1.13 Ni1.13 Al1\n",
      "[26.0, 26.0, 26.0, 23.0]\n",
      "-->  101.0\n",
      "\n",
      "DOI: Liu_1999_ProcessingAndHighTemperature  --> F2\n",
      "F:   Hf0.9 Mo91\n",
      "PF:  Hf1 Mo99\n",
      "Raw:  Mo91 Hf0.9\n",
      "RF:  Hf1 Mo101.11\n",
      "[0.9, 91.0]\n",
      "-->  91.9\n",
      "\n",
      "DOI: 10.1016/j.msea.2015.09.089\n",
      "F:   Cr17 Fe17 Ni33 Cu17 Al17\n",
      "PF:  Cr16.8 Fe16.8 Ni32.7 Cu16.8 Al16.8\n",
      "Raw:  Al17Cr17Cu17Fe17Ni33\n",
      "RF:  Cr1 Fe1 Ni1.94 Cu1 Al1\n",
      "[17.0, 17.0, 33.0, 17.0, 17.0]\n",
      "-->  101.0\n",
      "\n"
     ]
    }
   ],
   "source": [
    "sC.scanCompositionsAround100(resultLimit=10, printOnFly=True)"
   ]
  },
  {
   "cell_type": "markdown",
   "metadata": {},
   "source": [
    "You should now see a number of suspecious compositions! For each of them, we get:\n",
    "- `DOI` of the study where the composition was found.\n",
    "- `F` is the interpreted formula created by parsing the chemical formula string provided in the uploaded data.\n",
    "- `PF` is the percentile formula, where all the elements have been normalized to sum to `100%`.\n",
    "- `Raw` is the raw formula provided in the uploaded data, from which the `F`/`PF`/`RF` were derived.\n",
    "- `RF` is the relational formula, where the element ratios are normalized to the lest common one, conveniently expressing relative ratios.\n",
    "\n",
    "Let's have a quick look at three of them!\n",
    "\n",
    "1. The fist, coming from `10.1016/j.msea.2017.04.111`, sums to `102%`. A quick comparison between `F` and `PF` shows that the formula has probably been approximated too much, in order to match `1%` quantization, while it was originally designed to be relational. A quick journey to the abstract of the paper confirms that - it was `Al0.2CrFeCoNi2Cu0.2` or `AlCr5Fe5Co5Ni10Cu1` in the relational form. Comparing that to the `RF` of the database entry, we can quickly see that the fractions of Cu and Al are overestimated, while the rest is underestimated, with Ni being underestimated the most.\n",
    "\n",
    "2. Next one, coming from `10.3390/ma12071136` may seem to follow a similar problem at first, but it is more trivial. A quick look at the abstract reveals that the studies formula was `Al15Li35Mg48Ca1Si1` and someone parsing the publication typed `Li38` instead of `Li35` because the next fraction `Mg48` ended with `8` and human brains are prone to repetition.\n",
    "\n",
    "3. Lastly, the one from `10.1016/j.msea.2012.04.067` adds up to `99.694`, which tipped of the detection algorithm under the `0.2%` uncertainty threshold, but could be accounted as a rounding error without significant effect on the ratio of the elements in the composition and could be considered as a false-positive."
   ]
  },
  {
   "cell_type": "markdown",
   "metadata": {
    "collapsed": false
   },
   "source": [
    "Now, if you saw a lot of anomalies detected which seem like rounding errors, you can re-initialize the `sC` object and run again with custom settings (e.g., `uncertainty=1`, i.e., `+/-1%` passed as close enough to `100%`). There are quite a few settings you can modify, so feel free to explore the documentation or ask for help if you need it."
   ]
  },
  {
   "cell_type": "code",
   "execution_count": 5,
   "metadata": {
    "ExecuteTime": {
     "end_time": "2023-03-28T12:56:47.303422Z",
     "start_time": "2023-03-28T12:56:44.388396Z"
    },
    "collapsed": false
   },
   "outputs": [
    {
     "name": "stdout",
     "output_type": "stream",
     "text": [
      "Loading the database credentials from default location: /Users/adam/VSCode Projects/PyQAlloy-1/pyqalloy/credentials.json\n",
      "Connected to the CURATED_Dec2022 in ULTERA_internal with 6073 data points detected.\n",
      "DOI: 10.1016/j.msea.2017.04.111\n",
      "F:   Cr19 Fe19 Co19 Ni37 Cu4 Al4\n",
      "PF:  Cr18.6 Fe18.6 Co18.6 Ni36.3 Cu3.9 Al3.9\n",
      "Raw:  Al4Co19Cr19Cu4Fe19Ni37\n",
      "RF:  Cr4.75 Fe4.75 Co4.75 Ni9.25 Cu1 Al1\n",
      "[19.0, 19.0, 19.0, 37.0, 4.0, 4.0]\n",
      "-->  102.0\n",
      "\n",
      "DOI: 10.3390/ma12071136\n",
      "F:   Li38 Ca1 Mg48 Al15 Si1\n",
      "PF:  Li36.9 Ca1 Mg46.6 Al14.6 Si1\n",
      "Raw:  Al15Li38Mg48Ca1 Si1\n",
      "RF:  Li38 Ca1 Mg48 Al15 Si1\n",
      "[38.0, 1.0, 48.0, 15.0, 1.0]\n",
      "-->  103.0\n",
      "\n",
      "DOI: 10.1016/j.actamat.2016.11.016\n",
      "F:   Cr16 Fe16 Co16 Ni34.4 Al16\n",
      "PF:  Cr16.3 Fe16.3 Co16.3 Ni35 Al16.3\n",
      "Raw:  Al16Co16Cr16Fe16Ni34.4\n",
      "RF:  Cr1 Fe1 Co1 Ni2.15 Al1\n",
      "[16.0, 16.0, 16.0, 34.4, 16.0]\n",
      "-->  98.4\n",
      "\n",
      "DOI: Liu_1999_ProcessingAndHighTemperature  --> F2\n",
      "F:   Hf0.9 Mo91\n",
      "PF:  Hf1 Mo99\n",
      "Raw:  Mo91 Hf0.9\n",
      "RF:  Hf1 Mo101.11\n",
      "[0.9, 91.0]\n",
      "-->  91.9\n",
      "\n",
      "DOI: 10.1134/S2070205120040231  --> T2\n",
      "F:   Ta1 Nb0.103\n",
      "PF:  Ta90.7 Nb9.3\n",
      "Raw:  TaNb0.103\n",
      "RF:  Ta9.71 Nb1\n",
      "[1.0, 0.103]\n",
      "-->  1.103\n",
      "\n",
      "DOI: 10.1155/2019/2157592\n",
      "F:   Ti0.8 Mn28 Fe31 Ni15 Al24\n",
      "PF:  Ti0.8 Mn28.3 Fe31.4 Ni15.2 Al24.3\n",
      "Raw:  Fe31Mn28 Ni15Al24Ti0.8\n",
      "RF:  Ti1 Mn35 Fe38.75 Ni18.75 Al30\n",
      "[0.8, 28.0, 31.0, 15.0, 24.0]\n",
      "-->  98.8\n",
      "\n",
      "DOI: 10.1016/j.jmst.2014.09.011\n",
      "F:   Ti9 Cr18 Fe17 Ni33 Al18\n",
      "PF:  Ti9.5 Cr18.9 Fe17.9 Ni34.7 Al18.9\n",
      "Raw:  Al18Cr18Fe17Ni33Ti9\n",
      "RF:  Ti1 Cr2 Fe1.89 Ni3.67 Al2\n",
      "[9.0, 18.0, 17.0, 33.0, 18.0]\n",
      "-->  95.0\n",
      "\n",
      "DOI: 10.1016/j.actamat.2016.11.016\n",
      "F:   Cr17 Fe17 Co17 Ni33.3 Al17\n",
      "PF:  Cr16.8 Fe16.8 Co16.8 Ni32.9 Al16.8\n",
      "Raw:  Al17Cr17Co17Fe17Ni33.3\n",
      "RF:  Cr1 Fe1 Co1 Ni1.96 Al1\n",
      "[17.0, 17.0, 17.0, 33.3, 17.0]\n",
      "-->  101.3\n",
      "\n",
      "DOI: 10.1134/S0031918X17060084\n",
      "F:   V13 Cr17 Mn17 Fe17 Co17 Ni17\n",
      "PF:  V13.3 Cr17.3 Mn17.3 Fe17.3 Co17.3 Ni17.3\n",
      "Raw:  Co17Cr17Fe17Mn17Ni17V13\n",
      "RF:  V1 Cr1.31 Mn1.31 Fe1.31 Co1.31 Ni1.31\n",
      "[13.0, 17.0, 17.0, 17.0, 17.0, 17.0]\n",
      "-->  98.0\n",
      "\n",
      "DOI: 10.1134/S2070205120040231  --> T2\n",
      "F:   Ta1 W0.05\n",
      "PF:  Ta95.2 W4.8\n",
      "Raw:  TaW0.05\n",
      "RF:  Ta20 W1\n",
      "[1.0, 0.05]\n",
      "-->  1.05\n",
      "\n"
     ]
    }
   ],
   "source": [
    "sC = analysis.SingleCompositionAnalyzer()\n",
    "sC.scanCompositionsAround100(resultLimit=10, printOnFly=True, uncertainty=1)"
   ]
  },
  {
   "cell_type": "markdown",
   "metadata": {},
   "source": [
    "Now, you will more frequently see some \"far off\" cases that may require deeper interpretation. For instance:\n",
    "\n",
    "1. The `Ta1 Nb0.103` from `10.1134/S2070205120040231` sums to `1.103` and a quick look at its `RF` of `TaNb0.103` can point us to suspect that it was parsed from a formula like `Ta-Nb10`, where fraction of `Ta` has been implicit (being in fact `0.897`) and was not included when the formula was parsed, thus overestimating the fraction of `Ta`. Were did the `.3` come from then? A quick look at the abstract confirms the conjecture about implicit `Ta` fraction, but complicates things because the formulas were mass-based! To some surprise, if we then run another composition `Ta-Nb5` or `Ta95 N5 (wt%)` through `pymatgen` with `from pymatgen.core import Composition; print(Composition.from_weight_dict({'Ta': 0.95, 'Nb': 0.05}))` we get the `Ta90.7 Nb9.3` percentile formula `PyQAlloy` just presented to us based on the `Ta1 Nb0.103`; hence, the datapoint was actually correct all along because someone went to extended lenghts to adjust an implicit weight fraction based formula to a molar fraction relational formula!\n",
    "\n",
    "2. Going forward, the same study on `10.1134/S2070205120040231` appears again and one may be quick to dismiss it as another peticiular false-positive but just like in an M. Night Shyamalan's movie, there can be yet another plot twist comming, i.e, unlike in the last case, here the `RF` is integer based, so the conversion from implicit weight fraction based formula to a molar fraction relational formula is unlikely, what is confirmed when numbers are run - in the case of `Ta-W` system, the person parsing the paper forgot to apply the same method and data contains the error we suspected in the first place!"
   ]
  },
  {
   "cell_type": "markdown",
   "metadata": {
    "collapsed": false
   },
   "source": [
    "For more granular analysis, especially over larger collaborative databases, you may want to only look at compositions that a specific researcher uploaded by initilizing the `sC` with the `name` field specified. This time the `printOnFly` is set to `False`, so that the results are not printed on the fly, but rather stored inside `sC` object for further analysis."
   ]
  },
  {
   "cell_type": "code",
   "execution_count": 6,
   "metadata": {
    "ExecuteTime": {
     "end_time": "2023-03-28T12:56:48.962185Z",
     "start_time": "2023-03-28T12:56:47.304388Z"
    },
    "collapsed": false
   },
   "outputs": [
    {
     "name": "stdout",
     "output_type": "stream",
     "text": [
      "Loading the database credentials from default location: /Users/adam/VSCode Projects/PyQAlloy-1/pyqalloy/credentials.json\n",
      "Connected to the CURATED_Dec2022 in ULTERA_internal with 6073 data points detected.\n"
     ]
    }
   ],
   "source": [
    "sC = analysis.SingleCompositionAnalyzer(name='Adam Krajewski')\n",
    "sC.scanCompositionsAround100(\n",
    "    printOnFly=False, \n",
    "    resultLimit=100, \n",
    "    uncertainty=0.21)"
   ]
  },
  {
   "cell_type": "markdown",
   "metadata": {
    "collapsed": false
   },
   "source": [
    "Now, you can save that list into a file for later analysis!"
   ]
  },
  {
   "cell_type": "code",
   "execution_count": 7,
   "metadata": {},
   "outputs": [],
   "source": [
    "sC.writeResultsToFile('singleComp_Adam.txt')"
   ]
  },
  {
   "cell_type": "markdown",
   "metadata": {},
   "source": [
    "Or, you can also see them by accessing the internal `list` of `str` with result printouts. Let's have a look at the first three of them."
   ]
  },
  {
   "cell_type": "code",
   "execution_count": 8,
   "metadata": {
    "ExecuteTime": {
     "end_time": "2023-03-28T12:56:48.974801Z",
     "start_time": "2023-03-28T12:56:48.962642Z"
    },
    "collapsed": false
   },
   "outputs": [
    {
     "data": {
      "text/plain": [
       "['DOI: 10.1016/j.msea.2017.04.111\\nF:   Cr19 Fe19 Co19 Ni37 Cu4 Al4\\nPF:  Cr18.6 Fe18.6 Co18.6 Ni36.3 Cu3.9 Al3.9\\nRaw:  Al4Co19Cr19Cu4Fe19Ni37\\nRF:  Cr4.75 Fe4.75 Co4.75 Ni9.25 Cu1 Al1\\n[19.0, 19.0, 19.0, 37.0, 4.0, 4.0]\\n-->  102.0\\n',\n",
       " 'DOI: 10.3390/ma12071136\\nF:   Li38 Ca1 Mg48 Al15 Si1\\nPF:  Li36.9 Ca1 Mg46.6 Al14.6 Si1\\nRaw:  Al15Li38Mg48Ca1 Si1\\nRF:  Li38 Ca1 Mg48 Al15 Si1\\n[38.0, 1.0, 48.0, 15.0, 1.0]\\n-->  103.0\\n',\n",
       " 'DOI: 10.1016/j.actamat.2016.06.063\\nF:   Mo7 Cr23 Fe23 Co23 Ni23\\nPF:  Mo7.1 Cr23.2 Fe23.2 Co23.2 Ni23.2\\nRaw:  Co23Cr23Fe23Ni23Mo7\\nRF:  Mo1 Cr3.29 Fe3.29 Co3.29 Ni3.29\\n[7.0, 23.0, 23.0, 23.0, 23.0]\\n-->  99.0\\n']"
      ]
     },
     "execution_count": 8,
     "metadata": {},
     "output_type": "execute_result"
    }
   ],
   "source": [
    "sC.printOuts[:3]"
   ]
  },
  {
   "cell_type": "markdown",
   "metadata": {
    "collapsed": false
   },
   "source": [
    "## Single DOI Analyzer\n",
    "\n",
    "The next context in which we can look at the alloy data in a database is the `SingleDOIAnalyzer` class, which operates within the scope of a single study / reference, which should ideally be a DOI, putting many data points together. \n",
    "\n",
    "It also enables us to deploy more robust methods when it comes to detecting anomalies, including investigation of the distance between nearest neighbors in the compositional space and investigation of patterns they from once projected into lower dimensional spaces."
   ]
  },
  {
   "cell_type": "markdown",
   "metadata": {},
   "source": [
    "Let's start by picking some DOI present in the ULTERA database, like `10.1016/j.jallcom.2008.11.059`, and looking at the data coming from it. To do so, we will initialize the `dDOI` object with the DOI of interest."
   ]
  },
  {
   "cell_type": "code",
   "execution_count": 9,
   "metadata": {
    "ExecuteTime": {
     "end_time": "2023-03-28T12:56:49.200115Z",
     "start_time": "2023-03-28T12:56:48.965204Z"
    },
    "collapsed": false
   },
   "outputs": [
    {
     "name": "stdout",
     "output_type": "stream",
     "text": [
      "Loading the database credentials from default location: /Users/adam/VSCode Projects/PyQAlloy-1/pyqalloy/credentials.json\n",
      "Connected to the CURATED_Dec2022 in ULTERA_internal with 6073 data points detected.\n",
      "********  Analyzer Initialized  ********\n"
     ]
    }
   ],
   "source": [
    "doi = '10.1016/j.jallcom.2008.11.059'\n",
    "sDOI = analysis.SingleDOIAnalyzer(doi=doi)"
   ]
  },
  {
   "cell_type": "markdown",
   "metadata": {
    "collapsed": false
   },
   "source": [
    "In the later part of the tutorial, scanning all DOI will be covered. To get a list of all of them, you can call `get_allDOIs` function on any `SingleDOIAnalyzer` object (even initialized without the `doi` field) and store this list for later use. "
   ]
  },
  {
   "cell_type": "code",
   "execution_count": 10,
   "metadata": {
    "ExecuteTime": {
     "end_time": "2023-03-28T12:56:49.283098Z",
     "start_time": "2023-03-28T12:56:49.200764Z"
    },
    "collapsed": false
   },
   "outputs": [],
   "source": [
    "doiList = sDOI.get_allDOIs()"
   ]
  },
  {
   "cell_type": "markdown",
   "metadata": {
    "collapsed": false
   },
   "source": [
    "### NN Distance Analysis\n",
    "\n",
    "First, let's analyze distances between all the compositions in the specified publication and print them out. \n",
    "\n",
    "You will see the L1 distances in the compositional space displayed in the form of (left) absolute value and (right) normalized to maximum value."
   ]
  },
  {
   "cell_type": "code",
   "execution_count": 11,
   "metadata": {
    "ExecuteTime": {
     "end_time": "2023-03-28T12:56:49.345392Z",
     "start_time": "2023-03-28T12:56:49.284188Z"
    },
    "collapsed": false
   },
   "outputs": [
    {
     "name": "stdout",
     "output_type": "stream",
     "text": [
      "\n",
      "--->  10.1016/j.jallcom.2008.11.059 uploaded by Adam Krajewski (based on MPEA)\n",
      "0.0866    |  0.9524     <-- F: Ti0.5 Cr1 Fe1 Co1 Ni1 Cu0.5 Al0.5   | PF: Ti9.1 Cr18.2 Fe18.2 Co18.2 Ni18.2 Cu9.1 Al9.1  | Raw: Al0.5CoCrCu0.5FeNiTi0.5   | RF: Ti1 Cr2 Fe2 Co2 Ni2 Cu1 Al1\n",
      "0.0909    |  1.0        <-- F: Ti0.5 Cr1 Fe1 Co1 Ni1 Cu0.25 Al0.75 | PF: Ti9.1 Cr18.2 Fe18.2 Co18.2 Ni18.2 Cu4.5 Al13.6 | Raw: Al0.75CoCrCu0.25FeNiTi0.5 | RF: Ti2 Cr4 Fe4 Co4 Ni4 Cu1 Al3\n",
      "0.0823    |  0.9048     <-- F: Ti0.5 Cr1 Fe1 Co1 Ni1 Cu0.75 Al0.25 | PF: Ti9.1 Cr18.2 Fe18.2 Co18.2 Ni18.2 Cu13.6 Al4.5 | Raw: Al0.25CoCrCu0.75FeNiTi0.5 | RF: Ti2 Cr4 Fe4 Co4 Ni4 Cu3 Al1\n",
      "0.0909    |  1.0        <-- F: Ti0.5 Cr1 Fe1 Co1 Ni1 Cu1           | PF: Ti9.1 Cr18.2 Fe18.2 Co18.2 Ni18.2 Cu18.2       | Raw: CoCrCuFeNiTi0.5           | RF: Ti1 Cr2 Fe2 Co2 Ni2 Cu2    \n",
      "0.0823    |  0.9048     <-- F: Ti0.5 Cr1 Fe1 Co1 Ni1 Cu0.5 Al0.25  | PF: Ti9.5 Cr19 Fe19 Co19 Ni19 Cu9.5 Al4.8          | Raw: Al0.25CoCrCu0.5FeNiTi0.5  | RF: Ti2 Cr4 Fe4 Co4 Ni4 Cu2 Al1\n",
      "\n",
      "\n"
     ]
    }
   ],
   "source": [
    "sDOI.analyze_nnDistances()\n",
    "sDOI.print_nnDistances()"
   ]
  },
  {
   "cell_type": "markdown",
   "metadata": {},
   "source": [
    "The left one is primarily useful for understanding if the distances follow expectations, i.e., are not too low (e.g. 0.001%) or too high, while the right distance metric is useful for gauging the consistency of the data, i.e., is it roughly uniformly spaced or some point appear to be missing or out-of-order far.\n",
    "\n",
    "In the case of the first DOI we looked at, the `'10.1016/j.jallcom.2008.11.059'`, we see that all of them are consistently spaced by around `9%`, what matches our"
   ]
  },
  {
   "cell_type": "markdown",
   "metadata": {
    "collapsed": false
   },
   "source": [
    "You can also set the name of the researcher to get the same results, but only if they have contributed to the data reported for the study of interest, i.e., they are points of contact if the data appears to be abnormal or needs corrections."
   ]
  },
  {
   "cell_type": "code",
   "execution_count": 12,
   "metadata": {
    "ExecuteTime": {
     "end_time": "2023-03-28T12:56:49.350885Z",
     "start_time": "2023-03-28T12:56:49.348882Z"
    },
    "collapsed": false
   },
   "outputs": [],
   "source": [
    "sDOI.setName('Zi-Kui')"
   ]
  },
  {
   "cell_type": "code",
   "execution_count": 13,
   "metadata": {
    "ExecuteTime": {
     "end_time": "2023-03-28T12:56:49.403787Z",
     "start_time": "2023-03-28T12:56:49.350594Z"
    },
    "collapsed": false
   },
   "outputs": [
    {
     "name": "stdout",
     "output_type": "stream",
     "text": [
      "Skipping 10.1016/j.jallcom.2008.11.059. Specified researcher (Zi-Kui) not present in the group ({'Adam Krajewski'})\n",
      "\n"
     ]
    }
   ],
   "source": [
    "sDOI.analyze_nnDistances()\n",
    "sDOI.print_nnDistances()"
   ]
  },
  {
   "cell_type": "markdown",
   "metadata": {},
   "source": [
    "If you are iterating over many DOI, you may not want to see all the verbose output if there is nothing to analyze. In that case, you can set the `skipFailed=True` to mute the output."
   ]
  },
  {
   "cell_type": "code",
   "execution_count": 14,
   "metadata": {},
   "outputs": [],
   "source": [
    "sDOI.analyze_nnDistances()\n",
    "sDOI.print_nnDistances(skipFailed=True)"
   ]
  },
  {
   "cell_type": "markdown",
   "metadata": {},
   "source": [
    "We can now set the name to match any of the researchers by setting it to `None` and iterate over the list of all DOIs to get the distances present in each individual study. Let's go over 20 studies between `50`th and `70`th DOI in the database snapshot, which were tested before preparing this tutorial and are known to contain some interesting patterns.\n",
    "\n",
    "To skip over some of the DOIs for which the data is less likely to be anomalous, we can apply a couple additional options that filter for certain patterns. For instance, `skipNearEquidistant` let's us focus on studies in which the spacing was not uniform (distance is over `nearEquidistantThreshold` fraction of the maximum one for all)."
   ]
  },
  {
   "cell_type": "code",
   "execution_count": 15,
   "metadata": {},
   "outputs": [
    {
     "name": "stdout",
     "output_type": "stream",
     "text": [
      "\n",
      "--->  10.3390/ma14071660 data from Table 2 uploaded by Shuang Lin\n",
      "0.0488    |  0.078      <-- F: W1 Fe2.1 Ni4.9       | PF: W12.5 Fe26.2 Ni61.3       | Raw: WNi4.9Fe2.1      | RF: W1 Fe2.1 Ni4.9         \n",
      "0.5392    |  0.8627     <-- F: W1 Re6 Fe2 Ni8       | PF: W5.9 Re35.3 Fe11.8 Ni47.1 | Raw: WNi8Fe2Re6       | RF: W1 Re6 Fe2 Ni8         \n",
      "0.625     |  1.0        <-- F: Ta5 W1 Fe3 Ni7       | PF: Ta31.2 W6.2 Fe18.8 Ni43.8 | Raw: WNi7Fe3Ta5       | RF: Ta5 W1 Fe3 Ni7         \n",
      "0.0714    |  0.1143     <-- F: W1 Re1 Fe3 Ni7       | PF: W8.3 Re8.3 Fe25 Ni58.3    | Raw: WNi7Fe3Re        | RF: W1 Re1 Fe3 Ni7         \n",
      "0.0682    |  0.1091     <-- F: W1 Fe3 Ni7           | PF: W9.1 Fe27.3 Ni63.6        | Raw: WNi7Fe3          | RF: W1 Fe3 Ni7             \n",
      "0.0465    |  0.0743     <-- F: W1 Re0.2 Fe2.1 Ni4.9 | PF: W12.2 Re2.4 Fe25.6 Ni59.8 | Raw: WNi4.9Fe2.1Re0.2 | RF: W5 Re1 Fe10.5 Ni24.5   \n",
      "0.0465    |  0.0743     <-- F: W1 Re0.4 Fe2.1 Ni4.9 | PF: W11.9 Re4.8 Fe25 Ni58.3   | Raw: WNi4.9Fe2.1Re0.4 | RF: W2.5 Re1 Fe5.25 Ni12.25\n",
      "\n",
      "\n",
      "\n",
      "--->  10.1016/j.ijrmhm.2020.105451 data from Table 1 uploaded by Shuang Lin\n",
      "0.5       |  1.0        <-- F: Hf1 Zr1 Nb1               | PF: Hf33.3 Zr33.3 Nb33.3         | Raw: HfNbZr             | RF: Hf1 Zr1 Nb1        \n",
      "0.125     |  0.25       <-- F: Hf1 Zr1 Ta1 Nb1           | PF: Hf25 Zr25 Ta25 Nb25          | Raw: HfNbZrTa           | RF: Hf1 Zr1 Ta1 Nb1    \n",
      "0.125     |  0.25       <-- F: Hf1 Zr1 Ti0.25 Ta0.75 Nb1 | PF: Hf25 Zr25 Ti6.2 Ta18.8 Nb25  | Raw: HfNbZrTa0.75Ti0.25 | RF: Hf4 Zr4 Ti1 Ta3 Nb4\n",
      "0.125     |  0.25       <-- F: Hf1 Zr1 Ti0.5 Ta0.5 Nb1   | PF: Hf25 Zr25 Ti12.5 Ta12.5 Nb25 | Raw: HfNbZrTa0.5Ti0.5   | RF: Hf2 Zr2 Ti1 Ta1 Nb2\n",
      "0.125     |  0.25       <-- F: Hf1 Zr1 Ti0.75 Ta0.25 Nb1 | PF: Hf25 Zr25 Ti18.8 Ta6.2 Nb25  | Raw: HfNbZrTa0.25Ti0.75 | RF: Hf4 Zr4 Ti3 Ta1 Nb4\n",
      "0.125     |  0.25       <-- F: Hf1 Zr1 Ti1 Nb1           | PF: Hf25 Zr25 Ti25 Nb25          | Raw: HfNbZrTi           | RF: Hf1 Zr1 Ti1 Nb1    \n",
      "\n",
      "\n",
      "\n",
      "--->  10.1016/j.jallcom.2021.159505 data from Fig 4 uploaded by Shuang Lin\n",
      "0.06      |  0.1442     <-- F: W0.08 Cr0.184 Mn0.184 Fe0.184 Co0.184 Ni0.184 | PF: W8 Cr18.4 Mn18.4 Fe18.4 Co18.4 Ni18.4  | Raw: Co0.184Cr0.184Fe0.184Mn0.184Ni0.184W0.08 | RF: W1 Cr2.3 Mn2.3 Fe2.3 Co2.3 Ni2.3     \n",
      "0.02      |  0.0481     <-- F: W0.04 Cr0.192 Mn0.192 Fe0.192 Co0.192 Ni0.192 | PF: W4 Cr19.2 Mn19.2 Fe19.2 Co19.2 Ni19.2  | Raw: Co0.192Cr0.192Fe0.192Mn0.192Ni0.192W0.04 | RF: W1 Cr4.8 Mn4.8 Fe4.8 Co4.8 Ni4.8     \n",
      "0.02      |  0.0481     <-- F: W0.03 Cr0.194 Mn0.194 Fe0.194 Co0.194 Ni0.194 | PF: W3 Cr19.4 Mn19.4 Fe19.4 Co19.4 Ni19.4  | Raw: Co0.194Cr0.194Fe0.194Mn0.194Ni0.194W0.03 | RF: W1 Cr6.47 Mn6.47 Fe6.47 Co6.47 Ni6.47\n",
      "0.416     |  1.0        <-- F: W0.11 Cr0.178 Mn0.178 Fe0.178 Co0.178 N0.178  | PF: W11 Cr17.8 Mn17.8 Fe17.8 Co17.8 N17.8  | Raw: Co0.178Cr0.178Fe0.178Mn0.178N0.178W0.11  | RF: W1 Cr1.62 Mn1.62 Fe1.62 Co1.62 N1.62 \n",
      "0.02      |  0.0481     <-- F: W0.05 Cr0.19 Mn0.19 Fe0.19 Co0.19 Ni0.19      | PF: W5 Cr19 Mn19 Fe19 Co19 Ni19            | Raw: Co0.19Cr0.19Fe0.19Mn0.19Ni0.19W0.05      | RF: W1 Cr3.8 Mn3.8 Fe3.8 Co3.8 Ni3.8     \n",
      "0.26      |  0.625      <-- F: W0.21 Cr0.158 Mn0.158 Fe0.158 Co0.158 Ni0.158 | PF: W21 Cr15.8 Mn15.8 Fe15.8 Co15.8 Ni15.8 | Raw: Co0.158Cr0.158Fe0.158Mn0.158Ni0.158W0.21 | RF: W1.33 Cr1 Mn1 Fe1 Co1 Ni1            \n",
      "0.06      |  0.1442     <-- F: Cr1 Mn1 Fe1 Co1 Ni1                           | PF: Cr20 Mn20 Fe20 Co20 Ni20               | Raw: CoCrFeMnNi                               | RF: Cr1 Mn1 Fe1 Co1 Ni1                  \n",
      "\n",
      "\n",
      "\n",
      "--->  10.1016/j.jallcom.2021.159740 data from Fig 12 uploaded by Shuang Lin\n",
      "0.2       |  1.0        <-- F: Ta0.28 Nb0.28 W0.29 Mo0.15    | PF: Ta28 Nb28 W29 Mo15      | Raw: Nb0.28Ta0.28W0.29Mo0.15    | RF: Ta1.87 Nb1.87 W1.93 Mo1\n",
      "0.1       |  0.5        <-- F: Ta1 Nb1 W1                    | PF: Ta33.3 Nb33.3 W33.3     | Raw: NbTaW                      | RF: Ta1 Nb1 W1             \n",
      "0.2       |  1.0        <-- F: Ta0.25 Nb0.25 W0.25 Mo0.25    | PF: Ta25 Nb25 W25 Mo25      | Raw: Nb0.25Ta0.25W0.25Mo0.25    | RF: Ta1 Nb1 W1 Mo1         \n",
      "0.1       |  0.5        <-- F: Ta0.316 Nb0.316 W0.318 Mo0.05 | PF: Ta31.6 Nb31.6 W31.8 Mo5 | Raw: Nb0.316Ta0.316W0.318Mo0.05 | RF: Ta6.32 Nb6.32 W6.36 Mo1\n",
      "\n",
      "\n"
     ]
    }
   ],
   "source": [
    "sDOI.setName(None)\n",
    "for doi in doiList[50:70]:\n",
    "    sDOI.setDOI(doi)\n",
    "    sDOI.analyze_nnDistances()\n",
    "    sDOI.print_nnDistances(\n",
    "        minSamples=3,\n",
    "        skipNearEquidistant=True,\n",
    "        nearEquidistantThreshold=0.5,\n",
    "        skipFailed=True)"
   ]
  },
  {
   "cell_type": "markdown",
   "metadata": {},
   "source": [
    "While the method is capturing quite many correct compositions and requires careful manual inspection by an expert to detect anomalies, it can quicky capture some patterns that may be missed otherwise. The first study we get to look at, `10.3390/ma14071660`, may seem to have ordinary at first, but a close inspection reveals that two of the alloys are quite dissimilar in a consistent fashion while their `Raw` formulas are oddly similar. A quick look into the methods section of the manuscript quickly reveals that the alloys were reported using notation like `W–8Ni–2Fe–6Re` and `W–4.9Ni–2.1Fe` which got incorrectly parsed as `W8Ni2Fe6Re` and `W4.9Ni2.1Fe` and the two events of change in the minor alloying elements present represented major unwarranted compositional change.\n",
    "\n",
    "It is worth noting, however, that such cases of much higher errors can also be attributed to many other patterns, such as authors reporting on one or two alloys used as a reference in the study, such as is the case in the next report from `10.1016/j.ijrmhm.2020.105451` being detected by the method."
   ]
  },
  {
   "cell_type": "markdown",
   "metadata": {},
   "source": [
    "### Projection Pattern Analysis\n",
    "\n",
    "As shown above, investigating absolute and relative distances between compositions can be quite useful; however, it does not capture the full potential of the high dimensional compositional data we have at our disposal. Now, we will use the same `SingleDOIAnalyzer` but look at how patterns in these high-dimensional spaces project into lower-dimensional ones through linear transformations (like PCA) and how low dimensional patterns can be used to detect anomalies.\n",
    "\n",
    "To get started, lets have a look at the composition we already looked at before using `'10.1016/j.jallcom.2008.11.059'` and concluded that since the distances between the compositions were consistent, the data is likely correct."
   ]
  },
  {
   "cell_type": "code",
   "execution_count": 16,
   "metadata": {},
   "outputs": [
    {
     "name": "stdout",
     "output_type": "stream",
     "text": [
      "Loading the database credentials from default location: /Users/adam/VSCode Projects/PyQAlloy-1/pyqalloy/credentials.json\n",
      "Connected to the CURATED_Dec2022 in ULTERA_internal with 6073 data points detected.\n",
      "********  Analyzer Initialized  ********\n"
     ]
    }
   ],
   "source": [
    "doi = '10.1016/j.jallcom.2008.11.059'\n",
    "sDOI = analysis.SingleDOIAnalyzer(doi=doi)"
   ]
  },
  {
   "cell_type": "markdown",
   "metadata": {},
   "source": [
    "We need to call two functions. First, the `get_compVecs_2DPCA` which will obtain composition vectors if `get_compVecs` was not called before and then project them into 2D space using PCA. The second function, `plot_2DPCA` will perform several checks to determine if the data is potentially anomalous and then plot it interactive fashion with `plotly`. Later on, we will also show how to save these plots as static images in a spreadsheet."
   ]
  },
  {
   "cell_type": "code",
   "execution_count": 17,
   "metadata": {
    "ExecuteTime": {
     "end_time": "2023-03-28T12:56:50.887841Z",
     "start_time": "2023-03-28T12:56:49.733113Z"
    },
    "collapsed": false
   },
   "outputs": [
    {
     "name": "stdout",
     "output_type": "stream",
     "text": [
      "------>  10.1016/j.jallcom.2008.11.059 - non-linear trends detected (minRangeInDim: 0.033>0.001)\n",
      "\n"
     ]
    },
    {
     "data": {
      "application/vnd.plotly.v1+json": {
       "config": {
        "plotlyServerURL": "https://plot.ly"
       },
       "data": [
        {
         "hovertemplate": "<b>%{hovertext}</b><br><br>Alloy Reported (Parsed Formula)=Al0.5CoCrCu0.5FeNiTi0.5   | Ti9.1 Cr18.2 Fe18.2 Co18.2 Ni18.2 Cu9.1 Al9.1 <br>PCA1=%{x}<br>PCA2=%{y}<extra></extra>",
         "hovertext": [
          "F: Ti0.5 Cr1 Fe1 Co1 Ni1 Cu0.5 Al0.5<br>PF: Ti9.1 Cr18.2 Fe18.2 Co18.2 Ni18.2 Cu9.1 Al9.1<br>Raw: Al0.5CoCrCu0.5FeNiTi0.5<br>RF: Ti1 Cr2 Fe2 Co2 Ni2 Cu1 Al1"
         ],
         "legendgroup": "Al0.5CoCrCu0.5FeNiTi0.5   | Ti9.1 Cr18.2 Fe18.2 Co18.2 Ni18.2 Cu9.1 Al9.1 ",
         "marker": {
          "color": "#2E91E5",
          "line": {
           "color": "DarkSlateGrey",
           "width": 2
          },
          "size": 12,
          "symbol": "circle"
         },
         "mode": "markers",
         "name": "Al0.5CoCrCu0.5FeNiTi0.5   | Ti9.1 Cr18.2 Fe18.2 Co18.2 Ni18.2 Cu9.1 Al9.1 ",
         "orientation": "v",
         "showlegend": true,
         "type": "scatter",
         "x": [
          0.03246058385634368
         ],
         "xaxis": "x",
         "y": [
          0.006499383143587947
         ],
         "yaxis": "y"
        },
        {
         "hovertemplate": "<b>%{hovertext}</b><br><br>Alloy Reported (Parsed Formula)=Al0.75CoCrCu0.25FeNiTi0.5 | Ti9.1 Cr18.2 Fe18.2 Co18.2 Ni18.2 Cu4.5 Al13.6<br>PCA1=%{x}<br>PCA2=%{y}<extra></extra>",
         "hovertext": [
          "F: Ti0.5 Cr1 Fe1 Co1 Ni1 Cu0.25 Al0.75<br>PF: Ti9.1 Cr18.2 Fe18.2 Co18.2 Ni18.2 Cu4.5 Al13.6<br>Raw: Al0.75CoCrCu0.25FeNiTi0.5<br>RF: Ti2 Cr4 Fe4 Co4 Ni4 Cu1 Al3"
         ],
         "legendgroup": "Al0.75CoCrCu0.25FeNiTi0.5 | Ti9.1 Cr18.2 Fe18.2 Co18.2 Ni18.2 Cu4.5 Al13.6",
         "marker": {
          "color": "#E15F99",
          "line": {
           "color": "DarkSlateGrey",
           "width": 2
          },
          "size": 12,
          "symbol": "circle"
         },
         "mode": "markers",
         "name": "Al0.75CoCrCu0.25FeNiTi0.5 | Ti9.1 Cr18.2 Fe18.2 Co18.2 Ni18.2 Cu4.5 Al13.6",
         "orientation": "v",
         "showlegend": true,
         "type": "scatter",
         "x": [
          0.0967428860773364
         ],
         "xaxis": "x",
         "y": [
          0.006368898939053183
         ],
         "yaxis": "y"
        },
        {
         "hovertemplate": "<b>%{hovertext}</b><br><br>Alloy Reported (Parsed Formula)=Al0.25CoCrCu0.75FeNiTi0.5 | Ti9.1 Cr18.2 Fe18.2 Co18.2 Ni18.2 Cu13.6 Al4.5<br>PCA1=%{x}<br>PCA2=%{y}<extra></extra>",
         "hovertext": [
          "F: Ti0.5 Cr1 Fe1 Co1 Ni1 Cu0.75 Al0.25<br>PF: Ti9.1 Cr18.2 Fe18.2 Co18.2 Ni18.2 Cu13.6 Al4.5<br>Raw: Al0.25CoCrCu0.75FeNiTi0.5<br>RF: Ti2 Cr4 Fe4 Co4 Ni4 Cu3 Al1"
         ],
         "legendgroup": "Al0.25CoCrCu0.75FeNiTi0.5 | Ti9.1 Cr18.2 Fe18.2 Co18.2 Ni18.2 Cu13.6 Al4.5",
         "marker": {
          "color": "#1CA71C",
          "line": {
           "color": "DarkSlateGrey",
           "width": 2
          },
          "size": 12,
          "symbol": "circle"
         },
         "mode": "markers",
         "name": "Al0.25CoCrCu0.75FeNiTi0.5 | Ti9.1 Cr18.2 Fe18.2 Co18.2 Ni18.2 Cu13.6 Al4.5",
         "orientation": "v",
         "showlegend": true,
         "type": "scatter",
         "x": [
          -0.031821718364649025
         ],
         "xaxis": "x",
         "y": [
          0.006629867348122696
         ],
         "yaxis": "y"
        },
        {
         "hovertemplate": "<b>%{hovertext}</b><br><br>Alloy Reported (Parsed Formula)=CoCrCuFeNiTi0.5           | Ti9.1 Cr18.2 Fe18.2 Co18.2 Ni18.2 Cu18.2      <br>PCA1=%{x}<br>PCA2=%{y}<extra></extra>",
         "hovertext": [
          "F: Ti0.5 Cr1 Fe1 Co1 Ni1 Cu1<br>PF: Ti9.1 Cr18.2 Fe18.2 Co18.2 Ni18.2 Cu18.2<br>Raw: CoCrCuFeNiTi0.5<br>RF: Ti1 Cr2 Fe2 Co2 Ni2 Cu2"
         ],
         "legendgroup": "CoCrCuFeNiTi0.5           | Ti9.1 Cr18.2 Fe18.2 Co18.2 Ni18.2 Cu18.2      ",
         "marker": {
          "color": "#FB0D0D",
          "line": {
           "color": "DarkSlateGrey",
           "width": 2
          },
          "size": 12,
          "symbol": "circle"
         },
         "mode": "markers",
         "name": "CoCrCuFeNiTi0.5           | Ti9.1 Cr18.2 Fe18.2 Co18.2 Ni18.2 Cu18.2      ",
         "orientation": "v",
         "showlegend": true,
         "type": "scatter",
         "x": [
          -0.09610402058564176
         ],
         "xaxis": "x",
         "y": [
          0.006760351552657453
         ],
         "yaxis": "y"
        },
        {
         "hovertemplate": "<b>%{hovertext}</b><br><br>Alloy Reported (Parsed Formula)=Al0.25CoCrCu0.5FeNiTi0.5  | Ti9.5 Cr19 Fe19 Co19 Ni19 Cu9.5 Al4.8         <br>PCA1=%{x}<br>PCA2=%{y}<extra></extra>",
         "hovertext": [
          "F: Ti0.5 Cr1 Fe1 Co1 Ni1 Cu0.5 Al0.25<br>PF: Ti9.5 Cr19 Fe19 Co19 Ni19 Cu9.5 Al4.8<br>Raw: Al0.25CoCrCu0.5FeNiTi0.5<br>RF: Ti2 Cr4 Fe4 Co4 Ni4 Cu2 Al1"
         ],
         "legendgroup": "Al0.25CoCrCu0.5FeNiTi0.5  | Ti9.5 Cr19 Fe19 Co19 Ni19 Cu9.5 Al4.8         ",
         "marker": {
          "color": "#DA16FF",
          "line": {
           "color": "DarkSlateGrey",
           "width": 2
          },
          "size": 12,
          "symbol": "circle"
         },
         "mode": "markers",
         "name": "Al0.25CoCrCu0.5FeNiTi0.5  | Ti9.5 Cr19 Fe19 Co19 Ni19 Cu9.5 Al4.8         ",
         "orientation": "v",
         "showlegend": true,
         "type": "scatter",
         "x": [
          -0.0012777309833893102
         ],
         "xaxis": "x",
         "y": [
          -0.02625850098342128
         ],
         "yaxis": "y"
        }
       ],
       "layout": {
        "font": {
         "family": "Consolas, monospace"
        },
        "height": 400,
        "legend": {
         "title": {
          "text": "Alloy Reported (Parsed Formula)"
         },
         "tracegroupgap": 0
        },
        "template": {
         "data": {
          "bar": [
           {
            "error_x": {
             "color": "#2a3f5f"
            },
            "error_y": {
             "color": "#2a3f5f"
            },
            "marker": {
             "line": {
              "color": "white",
              "width": 0.5
             },
             "pattern": {
              "fillmode": "overlay",
              "size": 10,
              "solidity": 0.2
             }
            },
            "type": "bar"
           }
          ],
          "barpolar": [
           {
            "marker": {
             "line": {
              "color": "white",
              "width": 0.5
             },
             "pattern": {
              "fillmode": "overlay",
              "size": 10,
              "solidity": 0.2
             }
            },
            "type": "barpolar"
           }
          ],
          "carpet": [
           {
            "aaxis": {
             "endlinecolor": "#2a3f5f",
             "gridcolor": "#C8D4E3",
             "linecolor": "#C8D4E3",
             "minorgridcolor": "#C8D4E3",
             "startlinecolor": "#2a3f5f"
            },
            "baxis": {
             "endlinecolor": "#2a3f5f",
             "gridcolor": "#C8D4E3",
             "linecolor": "#C8D4E3",
             "minorgridcolor": "#C8D4E3",
             "startlinecolor": "#2a3f5f"
            },
            "type": "carpet"
           }
          ],
          "choropleth": [
           {
            "colorbar": {
             "outlinewidth": 0,
             "ticks": ""
            },
            "type": "choropleth"
           }
          ],
          "contour": [
           {
            "colorbar": {
             "outlinewidth": 0,
             "ticks": ""
            },
            "colorscale": [
             [
              0,
              "#0d0887"
             ],
             [
              0.1111111111111111,
              "#46039f"
             ],
             [
              0.2222222222222222,
              "#7201a8"
             ],
             [
              0.3333333333333333,
              "#9c179e"
             ],
             [
              0.4444444444444444,
              "#bd3786"
             ],
             [
              0.5555555555555556,
              "#d8576b"
             ],
             [
              0.6666666666666666,
              "#ed7953"
             ],
             [
              0.7777777777777778,
              "#fb9f3a"
             ],
             [
              0.8888888888888888,
              "#fdca26"
             ],
             [
              1,
              "#f0f921"
             ]
            ],
            "type": "contour"
           }
          ],
          "contourcarpet": [
           {
            "colorbar": {
             "outlinewidth": 0,
             "ticks": ""
            },
            "type": "contourcarpet"
           }
          ],
          "heatmap": [
           {
            "colorbar": {
             "outlinewidth": 0,
             "ticks": ""
            },
            "colorscale": [
             [
              0,
              "#0d0887"
             ],
             [
              0.1111111111111111,
              "#46039f"
             ],
             [
              0.2222222222222222,
              "#7201a8"
             ],
             [
              0.3333333333333333,
              "#9c179e"
             ],
             [
              0.4444444444444444,
              "#bd3786"
             ],
             [
              0.5555555555555556,
              "#d8576b"
             ],
             [
              0.6666666666666666,
              "#ed7953"
             ],
             [
              0.7777777777777778,
              "#fb9f3a"
             ],
             [
              0.8888888888888888,
              "#fdca26"
             ],
             [
              1,
              "#f0f921"
             ]
            ],
            "type": "heatmap"
           }
          ],
          "heatmapgl": [
           {
            "colorbar": {
             "outlinewidth": 0,
             "ticks": ""
            },
            "colorscale": [
             [
              0,
              "#0d0887"
             ],
             [
              0.1111111111111111,
              "#46039f"
             ],
             [
              0.2222222222222222,
              "#7201a8"
             ],
             [
              0.3333333333333333,
              "#9c179e"
             ],
             [
              0.4444444444444444,
              "#bd3786"
             ],
             [
              0.5555555555555556,
              "#d8576b"
             ],
             [
              0.6666666666666666,
              "#ed7953"
             ],
             [
              0.7777777777777778,
              "#fb9f3a"
             ],
             [
              0.8888888888888888,
              "#fdca26"
             ],
             [
              1,
              "#f0f921"
             ]
            ],
            "type": "heatmapgl"
           }
          ],
          "histogram": [
           {
            "marker": {
             "pattern": {
              "fillmode": "overlay",
              "size": 10,
              "solidity": 0.2
             }
            },
            "type": "histogram"
           }
          ],
          "histogram2d": [
           {
            "colorbar": {
             "outlinewidth": 0,
             "ticks": ""
            },
            "colorscale": [
             [
              0,
              "#0d0887"
             ],
             [
              0.1111111111111111,
              "#46039f"
             ],
             [
              0.2222222222222222,
              "#7201a8"
             ],
             [
              0.3333333333333333,
              "#9c179e"
             ],
             [
              0.4444444444444444,
              "#bd3786"
             ],
             [
              0.5555555555555556,
              "#d8576b"
             ],
             [
              0.6666666666666666,
              "#ed7953"
             ],
             [
              0.7777777777777778,
              "#fb9f3a"
             ],
             [
              0.8888888888888888,
              "#fdca26"
             ],
             [
              1,
              "#f0f921"
             ]
            ],
            "type": "histogram2d"
           }
          ],
          "histogram2dcontour": [
           {
            "colorbar": {
             "outlinewidth": 0,
             "ticks": ""
            },
            "colorscale": [
             [
              0,
              "#0d0887"
             ],
             [
              0.1111111111111111,
              "#46039f"
             ],
             [
              0.2222222222222222,
              "#7201a8"
             ],
             [
              0.3333333333333333,
              "#9c179e"
             ],
             [
              0.4444444444444444,
              "#bd3786"
             ],
             [
              0.5555555555555556,
              "#d8576b"
             ],
             [
              0.6666666666666666,
              "#ed7953"
             ],
             [
              0.7777777777777778,
              "#fb9f3a"
             ],
             [
              0.8888888888888888,
              "#fdca26"
             ],
             [
              1,
              "#f0f921"
             ]
            ],
            "type": "histogram2dcontour"
           }
          ],
          "mesh3d": [
           {
            "colorbar": {
             "outlinewidth": 0,
             "ticks": ""
            },
            "type": "mesh3d"
           }
          ],
          "parcoords": [
           {
            "line": {
             "colorbar": {
              "outlinewidth": 0,
              "ticks": ""
             }
            },
            "type": "parcoords"
           }
          ],
          "pie": [
           {
            "automargin": true,
            "type": "pie"
           }
          ],
          "scatter": [
           {
            "fillpattern": {
             "fillmode": "overlay",
             "size": 10,
             "solidity": 0.2
            },
            "type": "scatter"
           }
          ],
          "scatter3d": [
           {
            "line": {
             "colorbar": {
              "outlinewidth": 0,
              "ticks": ""
             }
            },
            "marker": {
             "colorbar": {
              "outlinewidth": 0,
              "ticks": ""
             }
            },
            "type": "scatter3d"
           }
          ],
          "scattercarpet": [
           {
            "marker": {
             "colorbar": {
              "outlinewidth": 0,
              "ticks": ""
             }
            },
            "type": "scattercarpet"
           }
          ],
          "scattergeo": [
           {
            "marker": {
             "colorbar": {
              "outlinewidth": 0,
              "ticks": ""
             }
            },
            "type": "scattergeo"
           }
          ],
          "scattergl": [
           {
            "marker": {
             "colorbar": {
              "outlinewidth": 0,
              "ticks": ""
             }
            },
            "type": "scattergl"
           }
          ],
          "scattermapbox": [
           {
            "marker": {
             "colorbar": {
              "outlinewidth": 0,
              "ticks": ""
             }
            },
            "type": "scattermapbox"
           }
          ],
          "scatterpolar": [
           {
            "marker": {
             "colorbar": {
              "outlinewidth": 0,
              "ticks": ""
             }
            },
            "type": "scatterpolar"
           }
          ],
          "scatterpolargl": [
           {
            "marker": {
             "colorbar": {
              "outlinewidth": 0,
              "ticks": ""
             }
            },
            "type": "scatterpolargl"
           }
          ],
          "scatterternary": [
           {
            "marker": {
             "colorbar": {
              "outlinewidth": 0,
              "ticks": ""
             }
            },
            "type": "scatterternary"
           }
          ],
          "surface": [
           {
            "colorbar": {
             "outlinewidth": 0,
             "ticks": ""
            },
            "colorscale": [
             [
              0,
              "#0d0887"
             ],
             [
              0.1111111111111111,
              "#46039f"
             ],
             [
              0.2222222222222222,
              "#7201a8"
             ],
             [
              0.3333333333333333,
              "#9c179e"
             ],
             [
              0.4444444444444444,
              "#bd3786"
             ],
             [
              0.5555555555555556,
              "#d8576b"
             ],
             [
              0.6666666666666666,
              "#ed7953"
             ],
             [
              0.7777777777777778,
              "#fb9f3a"
             ],
             [
              0.8888888888888888,
              "#fdca26"
             ],
             [
              1,
              "#f0f921"
             ]
            ],
            "type": "surface"
           }
          ],
          "table": [
           {
            "cells": {
             "fill": {
              "color": "#EBF0F8"
             },
             "line": {
              "color": "white"
             }
            },
            "header": {
             "fill": {
              "color": "#C8D4E3"
             },
             "line": {
              "color": "white"
             }
            },
            "type": "table"
           }
          ]
         },
         "layout": {
          "annotationdefaults": {
           "arrowcolor": "#2a3f5f",
           "arrowhead": 0,
           "arrowwidth": 1
          },
          "autotypenumbers": "strict",
          "coloraxis": {
           "colorbar": {
            "outlinewidth": 0,
            "ticks": ""
           }
          },
          "colorscale": {
           "diverging": [
            [
             0,
             "#8e0152"
            ],
            [
             0.1,
             "#c51b7d"
            ],
            [
             0.2,
             "#de77ae"
            ],
            [
             0.3,
             "#f1b6da"
            ],
            [
             0.4,
             "#fde0ef"
            ],
            [
             0.5,
             "#f7f7f7"
            ],
            [
             0.6,
             "#e6f5d0"
            ],
            [
             0.7,
             "#b8e186"
            ],
            [
             0.8,
             "#7fbc41"
            ],
            [
             0.9,
             "#4d9221"
            ],
            [
             1,
             "#276419"
            ]
           ],
           "sequential": [
            [
             0,
             "#0d0887"
            ],
            [
             0.1111111111111111,
             "#46039f"
            ],
            [
             0.2222222222222222,
             "#7201a8"
            ],
            [
             0.3333333333333333,
             "#9c179e"
            ],
            [
             0.4444444444444444,
             "#bd3786"
            ],
            [
             0.5555555555555556,
             "#d8576b"
            ],
            [
             0.6666666666666666,
             "#ed7953"
            ],
            [
             0.7777777777777778,
             "#fb9f3a"
            ],
            [
             0.8888888888888888,
             "#fdca26"
            ],
            [
             1,
             "#f0f921"
            ]
           ],
           "sequentialminus": [
            [
             0,
             "#0d0887"
            ],
            [
             0.1111111111111111,
             "#46039f"
            ],
            [
             0.2222222222222222,
             "#7201a8"
            ],
            [
             0.3333333333333333,
             "#9c179e"
            ],
            [
             0.4444444444444444,
             "#bd3786"
            ],
            [
             0.5555555555555556,
             "#d8576b"
            ],
            [
             0.6666666666666666,
             "#ed7953"
            ],
            [
             0.7777777777777778,
             "#fb9f3a"
            ],
            [
             0.8888888888888888,
             "#fdca26"
            ],
            [
             1,
             "#f0f921"
            ]
           ]
          },
          "colorway": [
           "#636efa",
           "#EF553B",
           "#00cc96",
           "#ab63fa",
           "#FFA15A",
           "#19d3f3",
           "#FF6692",
           "#B6E880",
           "#FF97FF",
           "#FECB52"
          ],
          "font": {
           "color": "#2a3f5f"
          },
          "geo": {
           "bgcolor": "white",
           "lakecolor": "white",
           "landcolor": "white",
           "showlakes": true,
           "showland": true,
           "subunitcolor": "#C8D4E3"
          },
          "hoverlabel": {
           "align": "left"
          },
          "hovermode": "closest",
          "mapbox": {
           "style": "light"
          },
          "paper_bgcolor": "white",
          "plot_bgcolor": "white",
          "polar": {
           "angularaxis": {
            "gridcolor": "#EBF0F8",
            "linecolor": "#EBF0F8",
            "ticks": ""
           },
           "bgcolor": "white",
           "radialaxis": {
            "gridcolor": "#EBF0F8",
            "linecolor": "#EBF0F8",
            "ticks": ""
           }
          },
          "scene": {
           "xaxis": {
            "backgroundcolor": "white",
            "gridcolor": "#DFE8F3",
            "gridwidth": 2,
            "linecolor": "#EBF0F8",
            "showbackground": true,
            "ticks": "",
            "zerolinecolor": "#EBF0F8"
           },
           "yaxis": {
            "backgroundcolor": "white",
            "gridcolor": "#DFE8F3",
            "gridwidth": 2,
            "linecolor": "#EBF0F8",
            "showbackground": true,
            "ticks": "",
            "zerolinecolor": "#EBF0F8"
           },
           "zaxis": {
            "backgroundcolor": "white",
            "gridcolor": "#DFE8F3",
            "gridwidth": 2,
            "linecolor": "#EBF0F8",
            "showbackground": true,
            "ticks": "",
            "zerolinecolor": "#EBF0F8"
           }
          },
          "shapedefaults": {
           "line": {
            "color": "#2a3f5f"
           }
          },
          "ternary": {
           "aaxis": {
            "gridcolor": "#DFE8F3",
            "linecolor": "#A2B1C6",
            "ticks": ""
           },
           "baxis": {
            "gridcolor": "#DFE8F3",
            "linecolor": "#A2B1C6",
            "ticks": ""
           },
           "bgcolor": "white",
           "caxis": {
            "gridcolor": "#DFE8F3",
            "linecolor": "#A2B1C6",
            "ticks": ""
           }
          },
          "title": {
           "x": 0.05
          },
          "xaxis": {
           "automargin": true,
           "gridcolor": "#EBF0F8",
           "linecolor": "#EBF0F8",
           "ticks": "",
           "title": {
            "standoff": 15
           },
           "zerolinecolor": "#EBF0F8",
           "zerolinewidth": 2
          },
          "yaxis": {
           "automargin": true,
           "gridcolor": "#EBF0F8",
           "linecolor": "#EBF0F8",
           "ticks": "",
           "title": {
            "standoff": 15
           },
           "zerolinecolor": "#EBF0F8",
           "zerolinewidth": 2
          }
         }
        },
        "title": {
         "text": "<b>10.1016/j.jallcom.2008.11.059</b><br>uploaded by Adam Krajewski (based on MPEA)"
        },
        "width": 1211,
        "xaxis": {
         "anchor": "y",
         "domain": [
          0,
          1
         ],
         "title": {
          "text": "PCA1"
         }
        },
        "yaxis": {
         "anchor": "x",
         "domain": [
          0,
          1
         ],
         "title": {
          "text": "PCA2"
         }
        }
       }
      }
     },
     "metadata": {},
     "output_type": "display_data"
    },
    {
     "data": {
      "text/plain": [
       "<_io.BytesIO at 0x30175b380>"
      ]
     },
     "execution_count": 17,
     "metadata": {},
     "output_type": "execute_result"
    }
   ],
   "source": [
    "sDOI.get_compVecs_2DPCA()\n",
    "sDOI.analyze_compVecs_2DPCA()"
   ]
  },
  {
   "cell_type": "markdown",
   "metadata": {},
   "source": [
    "Now, that's interesting! While the data parsed from `10.1016/j.jallcom.2008.11.059` is indeed spaced consistently, 4 of the points form a clear line, while a single point is breaking that pattern. Let's break down the analysis to understand what is happening here:\n",
    "\n",
    "1. Looking at the `Raw` formulas in the table, we see that **red** point looks suspeciously different from the rest - it is shorter and has only a single decimal fraction; however, it actually follows the pattern exactly (leftmost in the line).\n",
    "\n",
    "2. The `Raw` formula of the **magenta** point, on the other hand, looks perfectly unassuming and would almost certainly be missed by an expert looking through the data unarmed with `PyQAlloy`. However, a close look, combined with `PF`, reveals that all the other formulas follow a trend of gradually replacing `Cu` with `Al` but this one does not contain constant sum of them.\n",
    "\n",
    "4. Based on the trend we see, we can quickly see that the **magenta** point should have `Al1` and `Cu0` in order to be the next point in the line (on the right).\n",
    "\n",
    "3. With a quick look at the `10.1016/j.jallcom.2008.11.059` paper, we immediately see that the formula was indeed `Ti0.5CrFeCoNiAl` and the person parsing the composition into the Ctirine/UCSB dataset probably started writing the green composition and then finished with the blue one, but missed the error because 5 unique compositions went into the table as expected."
   ]
  },
  {
   "cell_type": "markdown",
   "metadata": {},
   "source": [
    "Now, let's scan through the same 20 DOIs we looked at before, but this time we will look at the patterns in the 2D PCA space. The `analyze_compVecs_2DPCA` allows us to set the `minSamples` parameter to filter out studies with not too many data points, so that we can focus on the ones that are more likely to contain interpretable patterns. \n",
    "\n",
    "In general, this loop will iterate over the DOIs and generate, for each, either (1) info study was skipped because it contained less than `minSamples` data points, (2) info about study being skipped because the data points were on a single line in the high-dimensional compositional space of the specific study, or (3) a nice plot like we saw before!"
   ]
  },
  {
   "cell_type": "code",
   "execution_count": 18,
   "metadata": {
    "ExecuteTime": {
     "end_time": "2023-03-28T12:56:59.311115Z",
     "start_time": "2023-03-28T12:56:58.852500Z"
    },
    "collapsed": false
   },
   "outputs": [
    {
     "name": "stdout",
     "output_type": "stream",
     "text": [
      "Skipping 10.1039/d0mh01341b  . 1 samples are below the minimum requirement set (minSamples=4).\n",
      "Skipping 10.1080-02670836.2018.1446267. 1 samples are below the minimum requirement set (minSamples=4).\n",
      "Skipping 10.1126/sciadv.aba7802. 3 samples are below the minimum requirement set (minSamples=4).\n",
      "------>  10.2320/matertrans.MT-MK2019003 - non-linear trends detected (minRangeInDim: 0.3058>0.001)\n",
      "\n"
     ]
    },
    {
     "data": {
      "application/vnd.plotly.v1+json": {
       "config": {
        "plotlyServerURL": "https://plot.ly"
       },
       "data": [
        {
         "hovertemplate": "<b>%{hovertext}</b><br><br>Alloy Reported (Parsed Formula)=HfNbTaZr | Hf25 Zr25 Ta25 Nb25<br>PCA1=%{x}<br>PCA2=%{y}<extra></extra>",
         "hovertext": [
          "F: Hf1 Zr1 Ta1 Nb1<br>PF: Hf25 Zr25 Ta25 Nb25<br>Raw: HfNbTaZr<br>RF: Hf1 Zr1 Ta1 Nb1"
         ],
         "legendgroup": "HfNbTaZr | Hf25 Zr25 Ta25 Nb25",
         "marker": {
          "color": "#2E91E5",
          "line": {
           "color": "DarkSlateGrey",
           "width": 2
          },
          "size": 12,
          "symbol": "circle"
         },
         "mode": "markers",
         "name": "HfNbTaZr | Hf25 Zr25 Ta25 Nb25",
         "orientation": "v",
         "showlegend": true,
         "type": "scatter",
         "x": [
          -0.21331255730122214
         ],
         "xaxis": "x",
         "y": [
          0.030013015808577084
         ],
         "yaxis": "y"
        },
        {
         "hovertemplate": "<b>%{hovertext}</b><br><br>Alloy Reported (Parsed Formula)=HfNbTaTi | Hf25 Ti25 Ta25 Nb25<br>PCA1=%{x}<br>PCA2=%{y}<extra></extra>",
         "hovertext": [
          "F: Hf1 Ti1 Ta1 Nb1<br>PF: Hf25 Ti25 Ta25 Nb25<br>Raw: HfNbTaTi<br>RF: Hf1 Ti1 Ta1 Nb1"
         ],
         "legendgroup": "HfNbTaTi | Hf25 Ti25 Ta25 Nb25",
         "marker": {
          "color": "#E15F99",
          "line": {
           "color": "DarkSlateGrey",
           "width": 2
          },
          "size": 12,
          "symbol": "circle"
         },
         "mode": "markers",
         "name": "HfNbTaTi | Hf25 Ti25 Ta25 Nb25",
         "orientation": "v",
         "showlegend": true,
         "type": "scatter",
         "x": [
          0.04326302212945388
         ],
         "xaxis": "x",
         "y": [
          -0.2121354540082039
         ],
         "yaxis": "y"
        },
        {
         "hovertemplate": "<b>%{hovertext}</b><br><br>Alloy Reported (Parsed Formula)=HfTaTiZr | Hf25 Zr25 Ti25 Ta25<br>PCA1=%{x}<br>PCA2=%{y}<extra></extra>",
         "hovertext": [
          "F: Hf1 Zr1 Ti1 Ta1<br>PF: Hf25 Zr25 Ti25 Ta25<br>Raw: HfTaTiZr<br>RF: Hf1 Zr1 Ti1 Ta1"
         ],
         "legendgroup": "HfTaTiZr | Hf25 Zr25 Ti25 Ta25",
         "marker": {
          "color": "#1CA71C",
          "line": {
           "color": "DarkSlateGrey",
           "width": 2
          },
          "size": 12,
          "symbol": "circle"
         },
         "mode": "markers",
         "name": "HfTaTiZr | Hf25 Zr25 Ti25 Ta25",
         "orientation": "v",
         "showlegend": true,
         "type": "scatter",
         "x": [
          -1.2114847642151518e-16
         ],
         "xaxis": "x",
         "y": [
          1.1490714658053432e-16
         ],
         "yaxis": "y"
        },
        {
         "hovertemplate": "<b>%{hovertext}</b><br><br>Alloy Reported (Parsed Formula)=NbTaTiZr | Zr25 Ti25 Ta25 Nb25<br>PCA1=%{x}<br>PCA2=%{y}<extra></extra>",
         "hovertext": [
          "F: Zr1 Ti1 Ta1 Nb1<br>PF: Zr25 Ti25 Ta25 Nb25<br>Raw: NbTaTiZr<br>RF: Zr1 Ti1 Ta1 Nb1"
         ],
         "legendgroup": "NbTaTiZr | Zr25 Ti25 Ta25 Nb25",
         "marker": {
          "color": "#FB0D0D",
          "line": {
           "color": "DarkSlateGrey",
           "width": 2
          },
          "size": 12,
          "symbol": "circle"
         },
         "mode": "markers",
         "name": "NbTaTiZr | Zr25 Ti25 Ta25 Nb25",
         "orientation": "v",
         "showlegend": true,
         "type": "scatter",
         "x": [
          0.06675400394869584
         ],
         "xaxis": "x",
         "y": [
          0.08846537752925918
         ],
         "yaxis": "y"
        },
        {
         "hovertemplate": "<b>%{hovertext}</b><br><br>Alloy Reported (Parsed Formula)=HfNbTiZr | Hf25 Zr25 Ti25 Nb25<br>PCA1=%{x}<br>PCA2=%{y}<extra></extra>",
         "hovertext": [
          "F: Hf1 Zr1 Ti1 Nb1<br>PF: Hf25 Zr25 Ti25 Nb25<br>Raw: HfNbTiZr<br>RF: Hf1 Zr1 Ti1 Nb1"
         ],
         "legendgroup": "HfNbTiZr | Hf25 Zr25 Ti25 Nb25",
         "marker": {
          "color": "#DA16FF",
          "line": {
           "color": "DarkSlateGrey",
           "width": 2
          },
          "size": 12,
          "symbol": "circle"
         },
         "mode": "markers",
         "name": "HfNbTiZr | Hf25 Zr25 Ti25 Nb25",
         "orientation": "v",
         "showlegend": true,
         "type": "scatter",
         "x": [
          0.1032955312230725
         ],
         "xaxis": "x",
         "y": [
          0.09365706067036808
         ],
         "yaxis": "y"
        }
       ],
       "layout": {
        "font": {
         "family": "Consolas, monospace"
        },
        "height": 400,
        "legend": {
         "title": {
          "text": "Alloy Reported (Parsed Formula)"
         },
         "tracegroupgap": 0
        },
        "template": {
         "data": {
          "bar": [
           {
            "error_x": {
             "color": "#2a3f5f"
            },
            "error_y": {
             "color": "#2a3f5f"
            },
            "marker": {
             "line": {
              "color": "white",
              "width": 0.5
             },
             "pattern": {
              "fillmode": "overlay",
              "size": 10,
              "solidity": 0.2
             }
            },
            "type": "bar"
           }
          ],
          "barpolar": [
           {
            "marker": {
             "line": {
              "color": "white",
              "width": 0.5
             },
             "pattern": {
              "fillmode": "overlay",
              "size": 10,
              "solidity": 0.2
             }
            },
            "type": "barpolar"
           }
          ],
          "carpet": [
           {
            "aaxis": {
             "endlinecolor": "#2a3f5f",
             "gridcolor": "#C8D4E3",
             "linecolor": "#C8D4E3",
             "minorgridcolor": "#C8D4E3",
             "startlinecolor": "#2a3f5f"
            },
            "baxis": {
             "endlinecolor": "#2a3f5f",
             "gridcolor": "#C8D4E3",
             "linecolor": "#C8D4E3",
             "minorgridcolor": "#C8D4E3",
             "startlinecolor": "#2a3f5f"
            },
            "type": "carpet"
           }
          ],
          "choropleth": [
           {
            "colorbar": {
             "outlinewidth": 0,
             "ticks": ""
            },
            "type": "choropleth"
           }
          ],
          "contour": [
           {
            "colorbar": {
             "outlinewidth": 0,
             "ticks": ""
            },
            "colorscale": [
             [
              0,
              "#0d0887"
             ],
             [
              0.1111111111111111,
              "#46039f"
             ],
             [
              0.2222222222222222,
              "#7201a8"
             ],
             [
              0.3333333333333333,
              "#9c179e"
             ],
             [
              0.4444444444444444,
              "#bd3786"
             ],
             [
              0.5555555555555556,
              "#d8576b"
             ],
             [
              0.6666666666666666,
              "#ed7953"
             ],
             [
              0.7777777777777778,
              "#fb9f3a"
             ],
             [
              0.8888888888888888,
              "#fdca26"
             ],
             [
              1,
              "#f0f921"
             ]
            ],
            "type": "contour"
           }
          ],
          "contourcarpet": [
           {
            "colorbar": {
             "outlinewidth": 0,
             "ticks": ""
            },
            "type": "contourcarpet"
           }
          ],
          "heatmap": [
           {
            "colorbar": {
             "outlinewidth": 0,
             "ticks": ""
            },
            "colorscale": [
             [
              0,
              "#0d0887"
             ],
             [
              0.1111111111111111,
              "#46039f"
             ],
             [
              0.2222222222222222,
              "#7201a8"
             ],
             [
              0.3333333333333333,
              "#9c179e"
             ],
             [
              0.4444444444444444,
              "#bd3786"
             ],
             [
              0.5555555555555556,
              "#d8576b"
             ],
             [
              0.6666666666666666,
              "#ed7953"
             ],
             [
              0.7777777777777778,
              "#fb9f3a"
             ],
             [
              0.8888888888888888,
              "#fdca26"
             ],
             [
              1,
              "#f0f921"
             ]
            ],
            "type": "heatmap"
           }
          ],
          "heatmapgl": [
           {
            "colorbar": {
             "outlinewidth": 0,
             "ticks": ""
            },
            "colorscale": [
             [
              0,
              "#0d0887"
             ],
             [
              0.1111111111111111,
              "#46039f"
             ],
             [
              0.2222222222222222,
              "#7201a8"
             ],
             [
              0.3333333333333333,
              "#9c179e"
             ],
             [
              0.4444444444444444,
              "#bd3786"
             ],
             [
              0.5555555555555556,
              "#d8576b"
             ],
             [
              0.6666666666666666,
              "#ed7953"
             ],
             [
              0.7777777777777778,
              "#fb9f3a"
             ],
             [
              0.8888888888888888,
              "#fdca26"
             ],
             [
              1,
              "#f0f921"
             ]
            ],
            "type": "heatmapgl"
           }
          ],
          "histogram": [
           {
            "marker": {
             "pattern": {
              "fillmode": "overlay",
              "size": 10,
              "solidity": 0.2
             }
            },
            "type": "histogram"
           }
          ],
          "histogram2d": [
           {
            "colorbar": {
             "outlinewidth": 0,
             "ticks": ""
            },
            "colorscale": [
             [
              0,
              "#0d0887"
             ],
             [
              0.1111111111111111,
              "#46039f"
             ],
             [
              0.2222222222222222,
              "#7201a8"
             ],
             [
              0.3333333333333333,
              "#9c179e"
             ],
             [
              0.4444444444444444,
              "#bd3786"
             ],
             [
              0.5555555555555556,
              "#d8576b"
             ],
             [
              0.6666666666666666,
              "#ed7953"
             ],
             [
              0.7777777777777778,
              "#fb9f3a"
             ],
             [
              0.8888888888888888,
              "#fdca26"
             ],
             [
              1,
              "#f0f921"
             ]
            ],
            "type": "histogram2d"
           }
          ],
          "histogram2dcontour": [
           {
            "colorbar": {
             "outlinewidth": 0,
             "ticks": ""
            },
            "colorscale": [
             [
              0,
              "#0d0887"
             ],
             [
              0.1111111111111111,
              "#46039f"
             ],
             [
              0.2222222222222222,
              "#7201a8"
             ],
             [
              0.3333333333333333,
              "#9c179e"
             ],
             [
              0.4444444444444444,
              "#bd3786"
             ],
             [
              0.5555555555555556,
              "#d8576b"
             ],
             [
              0.6666666666666666,
              "#ed7953"
             ],
             [
              0.7777777777777778,
              "#fb9f3a"
             ],
             [
              0.8888888888888888,
              "#fdca26"
             ],
             [
              1,
              "#f0f921"
             ]
            ],
            "type": "histogram2dcontour"
           }
          ],
          "mesh3d": [
           {
            "colorbar": {
             "outlinewidth": 0,
             "ticks": ""
            },
            "type": "mesh3d"
           }
          ],
          "parcoords": [
           {
            "line": {
             "colorbar": {
              "outlinewidth": 0,
              "ticks": ""
             }
            },
            "type": "parcoords"
           }
          ],
          "pie": [
           {
            "automargin": true,
            "type": "pie"
           }
          ],
          "scatter": [
           {
            "fillpattern": {
             "fillmode": "overlay",
             "size": 10,
             "solidity": 0.2
            },
            "type": "scatter"
           }
          ],
          "scatter3d": [
           {
            "line": {
             "colorbar": {
              "outlinewidth": 0,
              "ticks": ""
             }
            },
            "marker": {
             "colorbar": {
              "outlinewidth": 0,
              "ticks": ""
             }
            },
            "type": "scatter3d"
           }
          ],
          "scattercarpet": [
           {
            "marker": {
             "colorbar": {
              "outlinewidth": 0,
              "ticks": ""
             }
            },
            "type": "scattercarpet"
           }
          ],
          "scattergeo": [
           {
            "marker": {
             "colorbar": {
              "outlinewidth": 0,
              "ticks": ""
             }
            },
            "type": "scattergeo"
           }
          ],
          "scattergl": [
           {
            "marker": {
             "colorbar": {
              "outlinewidth": 0,
              "ticks": ""
             }
            },
            "type": "scattergl"
           }
          ],
          "scattermapbox": [
           {
            "marker": {
             "colorbar": {
              "outlinewidth": 0,
              "ticks": ""
             }
            },
            "type": "scattermapbox"
           }
          ],
          "scatterpolar": [
           {
            "marker": {
             "colorbar": {
              "outlinewidth": 0,
              "ticks": ""
             }
            },
            "type": "scatterpolar"
           }
          ],
          "scatterpolargl": [
           {
            "marker": {
             "colorbar": {
              "outlinewidth": 0,
              "ticks": ""
             }
            },
            "type": "scatterpolargl"
           }
          ],
          "scatterternary": [
           {
            "marker": {
             "colorbar": {
              "outlinewidth": 0,
              "ticks": ""
             }
            },
            "type": "scatterternary"
           }
          ],
          "surface": [
           {
            "colorbar": {
             "outlinewidth": 0,
             "ticks": ""
            },
            "colorscale": [
             [
              0,
              "#0d0887"
             ],
             [
              0.1111111111111111,
              "#46039f"
             ],
             [
              0.2222222222222222,
              "#7201a8"
             ],
             [
              0.3333333333333333,
              "#9c179e"
             ],
             [
              0.4444444444444444,
              "#bd3786"
             ],
             [
              0.5555555555555556,
              "#d8576b"
             ],
             [
              0.6666666666666666,
              "#ed7953"
             ],
             [
              0.7777777777777778,
              "#fb9f3a"
             ],
             [
              0.8888888888888888,
              "#fdca26"
             ],
             [
              1,
              "#f0f921"
             ]
            ],
            "type": "surface"
           }
          ],
          "table": [
           {
            "cells": {
             "fill": {
              "color": "#EBF0F8"
             },
             "line": {
              "color": "white"
             }
            },
            "header": {
             "fill": {
              "color": "#C8D4E3"
             },
             "line": {
              "color": "white"
             }
            },
            "type": "table"
           }
          ]
         },
         "layout": {
          "annotationdefaults": {
           "arrowcolor": "#2a3f5f",
           "arrowhead": 0,
           "arrowwidth": 1
          },
          "autotypenumbers": "strict",
          "coloraxis": {
           "colorbar": {
            "outlinewidth": 0,
            "ticks": ""
           }
          },
          "colorscale": {
           "diverging": [
            [
             0,
             "#8e0152"
            ],
            [
             0.1,
             "#c51b7d"
            ],
            [
             0.2,
             "#de77ae"
            ],
            [
             0.3,
             "#f1b6da"
            ],
            [
             0.4,
             "#fde0ef"
            ],
            [
             0.5,
             "#f7f7f7"
            ],
            [
             0.6,
             "#e6f5d0"
            ],
            [
             0.7,
             "#b8e186"
            ],
            [
             0.8,
             "#7fbc41"
            ],
            [
             0.9,
             "#4d9221"
            ],
            [
             1,
             "#276419"
            ]
           ],
           "sequential": [
            [
             0,
             "#0d0887"
            ],
            [
             0.1111111111111111,
             "#46039f"
            ],
            [
             0.2222222222222222,
             "#7201a8"
            ],
            [
             0.3333333333333333,
             "#9c179e"
            ],
            [
             0.4444444444444444,
             "#bd3786"
            ],
            [
             0.5555555555555556,
             "#d8576b"
            ],
            [
             0.6666666666666666,
             "#ed7953"
            ],
            [
             0.7777777777777778,
             "#fb9f3a"
            ],
            [
             0.8888888888888888,
             "#fdca26"
            ],
            [
             1,
             "#f0f921"
            ]
           ],
           "sequentialminus": [
            [
             0,
             "#0d0887"
            ],
            [
             0.1111111111111111,
             "#46039f"
            ],
            [
             0.2222222222222222,
             "#7201a8"
            ],
            [
             0.3333333333333333,
             "#9c179e"
            ],
            [
             0.4444444444444444,
             "#bd3786"
            ],
            [
             0.5555555555555556,
             "#d8576b"
            ],
            [
             0.6666666666666666,
             "#ed7953"
            ],
            [
             0.7777777777777778,
             "#fb9f3a"
            ],
            [
             0.8888888888888888,
             "#fdca26"
            ],
            [
             1,
             "#f0f921"
            ]
           ]
          },
          "colorway": [
           "#636efa",
           "#EF553B",
           "#00cc96",
           "#ab63fa",
           "#FFA15A",
           "#19d3f3",
           "#FF6692",
           "#B6E880",
           "#FF97FF",
           "#FECB52"
          ],
          "font": {
           "color": "#2a3f5f"
          },
          "geo": {
           "bgcolor": "white",
           "lakecolor": "white",
           "landcolor": "white",
           "showlakes": true,
           "showland": true,
           "subunitcolor": "#C8D4E3"
          },
          "hoverlabel": {
           "align": "left"
          },
          "hovermode": "closest",
          "mapbox": {
           "style": "light"
          },
          "paper_bgcolor": "white",
          "plot_bgcolor": "white",
          "polar": {
           "angularaxis": {
            "gridcolor": "#EBF0F8",
            "linecolor": "#EBF0F8",
            "ticks": ""
           },
           "bgcolor": "white",
           "radialaxis": {
            "gridcolor": "#EBF0F8",
            "linecolor": "#EBF0F8",
            "ticks": ""
           }
          },
          "scene": {
           "xaxis": {
            "backgroundcolor": "white",
            "gridcolor": "#DFE8F3",
            "gridwidth": 2,
            "linecolor": "#EBF0F8",
            "showbackground": true,
            "ticks": "",
            "zerolinecolor": "#EBF0F8"
           },
           "yaxis": {
            "backgroundcolor": "white",
            "gridcolor": "#DFE8F3",
            "gridwidth": 2,
            "linecolor": "#EBF0F8",
            "showbackground": true,
            "ticks": "",
            "zerolinecolor": "#EBF0F8"
           },
           "zaxis": {
            "backgroundcolor": "white",
            "gridcolor": "#DFE8F3",
            "gridwidth": 2,
            "linecolor": "#EBF0F8",
            "showbackground": true,
            "ticks": "",
            "zerolinecolor": "#EBF0F8"
           }
          },
          "shapedefaults": {
           "line": {
            "color": "#2a3f5f"
           }
          },
          "ternary": {
           "aaxis": {
            "gridcolor": "#DFE8F3",
            "linecolor": "#A2B1C6",
            "ticks": ""
           },
           "baxis": {
            "gridcolor": "#DFE8F3",
            "linecolor": "#A2B1C6",
            "ticks": ""
           },
           "bgcolor": "white",
           "caxis": {
            "gridcolor": "#DFE8F3",
            "linecolor": "#A2B1C6",
            "ticks": ""
           }
          },
          "title": {
           "x": 0.05
          },
          "xaxis": {
           "automargin": true,
           "gridcolor": "#EBF0F8",
           "linecolor": "#EBF0F8",
           "ticks": "",
           "title": {
            "standoff": 15
           },
           "zerolinecolor": "#EBF0F8",
           "zerolinewidth": 2
          },
          "yaxis": {
           "automargin": true,
           "gridcolor": "#EBF0F8",
           "linecolor": "#EBF0F8",
           "ticks": "",
           "title": {
            "standoff": 15
           },
           "zerolinecolor": "#EBF0F8",
           "zerolinewidth": 2
          }
         }
        },
        "title": {
         "text": "<b>10.2320/matertrans.MT-MK2019003</b> data from Table 3, Table 2<br>uploaded by Shuang Lin"
        },
        "width": 894,
        "xaxis": {
         "anchor": "y",
         "domain": [
          0,
          1
         ],
         "title": {
          "text": "PCA1"
         }
        },
        "yaxis": {
         "anchor": "x",
         "domain": [
          0,
          1
         ],
         "title": {
          "text": "PCA2"
         }
        }
       }
      }
     },
     "metadata": {},
     "output_type": "display_data"
    },
    {
     "name": "stdout",
     "output_type": "stream",
     "text": [
      "Skipping 10.3389/fmats.2020.589052 Nearly 1D linear trand detected.\n",
      "------>  10.3390/ma14071660 - non-linear trends detected (minRangeInDim: 0.3657>0.001)\n",
      "\n"
     ]
    },
    {
     "data": {
      "application/vnd.plotly.v1+json": {
       "config": {
        "plotlyServerURL": "https://plot.ly"
       },
       "data": [
        {
         "hovertemplate": "<b>%{hovertext}</b><br><br>Alloy Reported (Parsed Formula)=WNi4.9Fe2.1      | W12.5 Fe26.2 Ni61.3      <br>PCA1=%{x}<br>PCA2=%{y}<extra></extra>",
         "hovertext": [
          "F: W1 Fe2.1 Ni4.9<br>PF: W12.5 Fe26.2 Ni61.3<br>Raw: WNi4.9Fe2.1<br>RF: W1 Fe2.1 Ni4.9"
         ],
         "legendgroup": "WNi4.9Fe2.1      | W12.5 Fe26.2 Ni61.3      ",
         "marker": {
          "color": "#2E91E5",
          "line": {
           "color": "DarkSlateGrey",
           "width": 2
          },
          "size": 12,
          "symbol": "circle"
         },
         "mode": "markers",
         "name": "WNi4.9Fe2.1      | W12.5 Fe26.2 Ni61.3      ",
         "orientation": "v",
         "showlegend": true,
         "type": "scatter",
         "x": [
          -0.09790024718124463
         ],
         "xaxis": "x",
         "y": [
          -0.04808140264070614
         ],
         "yaxis": "y"
        },
        {
         "hovertemplate": "<b>%{hovertext}</b><br><br>Alloy Reported (Parsed Formula)=WNi8Fe2Re6       | W5.9 Re35.3 Fe11.8 Ni47.1<br>PCA1=%{x}<br>PCA2=%{y}<extra></extra>",
         "hovertext": [
          "F: W1 Re6 Fe2 Ni8<br>PF: W5.9 Re35.3 Fe11.8 Ni47.1<br>Raw: WNi8Fe2Re6<br>RF: W1 Re6 Fe2 Ni8"
         ],
         "legendgroup": "WNi8Fe2Re6       | W5.9 Re35.3 Fe11.8 Ni47.1",
         "marker": {
          "color": "#E15F99",
          "line": {
           "color": "DarkSlateGrey",
           "width": 2
          },
          "size": 12,
          "symbol": "circle"
         },
         "mode": "markers",
         "name": "WNi8Fe2Re6       | W5.9 Re35.3 Fe11.8 Ni47.1",
         "orientation": "v",
         "showlegend": true,
         "type": "scatter",
         "x": [
          0.31414685704485623
         ],
         "xaxis": "x",
         "y": [
          -0.058028323315879454
         ],
         "yaxis": "y"
        },
        {
         "hovertemplate": "<b>%{hovertext}</b><br><br>Alloy Reported (Parsed Formula)=WNi7Fe3Ta5       | Ta31.2 W6.2 Fe18.8 Ni43.8<br>PCA1=%{x}<br>PCA2=%{y}<extra></extra>",
         "hovertext": [
          "F: Ta5 W1 Fe3 Ni7<br>PF: Ta31.2 W6.2 Fe18.8 Ni43.8<br>Raw: WNi7Fe3Ta5<br>RF: Ta5 W1 Fe3 Ni7"
         ],
         "legendgroup": "WNi7Fe3Ta5       | Ta31.2 W6.2 Fe18.8 Ni43.8",
         "marker": {
          "color": "#1CA71C",
          "line": {
           "color": "DarkSlateGrey",
           "width": 2
          },
          "size": 12,
          "symbol": "circle"
         },
         "mode": "markers",
         "name": "WNi7Fe3Ta5       | Ta31.2 W6.2 Fe18.8 Ni43.8",
         "orientation": "v",
         "showlegend": true,
         "type": "scatter",
         "x": [
          0.006854506876269068
         ],
         "xaxis": "x",
         "y": [
          0.3077174899253725
         ],
         "yaxis": "y"
        },
        {
         "hovertemplate": "<b>%{hovertext}</b><br><br>Alloy Reported (Parsed Formula)=WNi7Fe3Re        | W8.3 Re8.3 Fe25 Ni58.3   <br>PCA1=%{x}<br>PCA2=%{y}<extra></extra>",
         "hovertext": [
          "F: W1 Re1 Fe3 Ni7<br>PF: W8.3 Re8.3 Fe25 Ni58.3<br>Raw: WNi7Fe3Re<br>RF: W1 Re1 Fe3 Ni7"
         ],
         "legendgroup": "WNi7Fe3Re        | W8.3 Re8.3 Fe25 Ni58.3   ",
         "marker": {
          "color": "#FB0D0D",
          "line": {
           "color": "DarkSlateGrey",
           "width": 2
          },
          "size": 12,
          "symbol": "circle"
         },
         "mode": "markers",
         "name": "WNi7Fe3Re        | W8.3 Re8.3 Fe25 Ni58.3   ",
         "orientation": "v",
         "showlegend": true,
         "type": "scatter",
         "x": [
          -0.006632686731755388
         ],
         "xaxis": "x",
         "y": [
          -0.05225129986599564
         ],
         "yaxis": "y"
        },
        {
         "hovertemplate": "<b>%{hovertext}</b><br><br>Alloy Reported (Parsed Formula)=WNi7Fe3          | W9.1 Fe27.3 Ni63.6       <br>PCA1=%{x}<br>PCA2=%{y}<extra></extra>",
         "hovertext": [
          "F: W1 Fe3 Ni7<br>PF: W9.1 Fe27.3 Ni63.6<br>Raw: WNi7Fe3<br>RF: W1 Fe3 Ni7"
         ],
         "legendgroup": "WNi7Fe3          | W9.1 Fe27.3 Ni63.6       ",
         "marker": {
          "color": "#DA16FF",
          "line": {
           "color": "DarkSlateGrey",
           "width": 2
          },
          "size": 12,
          "symbol": "circle"
         },
         "mode": "markers",
         "name": "WNi7Fe3          | W9.1 Fe27.3 Ni63.6       ",
         "orientation": "v",
         "showlegend": true,
         "type": "scatter",
         "x": [
          -0.10575524574136261
         ],
         "xaxis": "x",
         "y": [
          -0.055339777143186816
         ],
         "yaxis": "y"
        },
        {
         "hovertemplate": "<b>%{hovertext}</b><br><br>Alloy Reported (Parsed Formula)=WNi4.9Fe2.1Re0.2 | W12.2 Re2.4 Fe25.6 Ni59.8<br>PCA1=%{x}<br>PCA2=%{y}<extra></extra>",
         "hovertext": [
          "F: W1 Re0.2 Fe2.1 Ni4.9<br>PF: W12.2 Re2.4 Fe25.6 Ni59.8<br>Raw: WNi4.9Fe2.1Re0.2<br>RF: W5 Re1 Fe10.5 Ni24.5"
         ],
         "legendgroup": "WNi4.9Fe2.1Re0.2 | W12.2 Re2.4 Fe25.6 Ni59.8",
         "marker": {
          "color": "#222A2A",
          "line": {
           "color": "DarkSlateGrey",
           "width": 2
          },
          "size": 12,
          "symbol": "circle"
         },
         "mode": "markers",
         "name": "WNi4.9Fe2.1Re0.2 | W12.2 Re2.4 Fe25.6 Ni59.8",
         "orientation": "v",
         "showlegend": true,
         "type": "scatter",
         "x": [
          -0.0690803518262404
         ],
         "xaxis": "x",
         "y": [
          -0.04735449159622279
         ],
         "yaxis": "y"
        },
        {
         "hovertemplate": "<b>%{hovertext}</b><br><br>Alloy Reported (Parsed Formula)=WNi4.9Fe2.1Re0.4 | W11.9 Re4.8 Fe25 Ni58.3  <br>PCA1=%{x}<br>PCA2=%{y}<extra></extra>",
         "hovertext": [
          "F: W1 Re0.4 Fe2.1 Ni4.9<br>PF: W11.9 Re4.8 Fe25 Ni58.3<br>Raw: WNi4.9Fe2.1Re0.4<br>RF: W2.5 Re1 Fe5.25 Ni12.25"
         ],
         "legendgroup": "WNi4.9Fe2.1Re0.4 | W11.9 Re4.8 Fe25 Ni58.3  ",
         "marker": {
          "color": "#B68100",
          "line": {
           "color": "DarkSlateGrey",
           "width": 2
          },
          "size": 12,
          "symbol": "circle"
         },
         "mode": "markers",
         "name": "WNi4.9Fe2.1Re0.4 | W11.9 Re4.8 Fe25 Ni58.3  ",
         "orientation": "v",
         "showlegend": true,
         "type": "scatter",
         "x": [
          -0.04163283244052222
         ],
         "xaxis": "x",
         "y": [
          -0.04666219536338163
         ],
         "yaxis": "y"
        }
       ],
       "layout": {
        "font": {
         "family": "Consolas, monospace"
        },
        "height": 400,
        "legend": {
         "title": {
          "text": "Alloy Reported (Parsed Formula)"
         },
         "tracegroupgap": 0
        },
        "template": {
         "data": {
          "bar": [
           {
            "error_x": {
             "color": "#2a3f5f"
            },
            "error_y": {
             "color": "#2a3f5f"
            },
            "marker": {
             "line": {
              "color": "white",
              "width": 0.5
             },
             "pattern": {
              "fillmode": "overlay",
              "size": 10,
              "solidity": 0.2
             }
            },
            "type": "bar"
           }
          ],
          "barpolar": [
           {
            "marker": {
             "line": {
              "color": "white",
              "width": 0.5
             },
             "pattern": {
              "fillmode": "overlay",
              "size": 10,
              "solidity": 0.2
             }
            },
            "type": "barpolar"
           }
          ],
          "carpet": [
           {
            "aaxis": {
             "endlinecolor": "#2a3f5f",
             "gridcolor": "#C8D4E3",
             "linecolor": "#C8D4E3",
             "minorgridcolor": "#C8D4E3",
             "startlinecolor": "#2a3f5f"
            },
            "baxis": {
             "endlinecolor": "#2a3f5f",
             "gridcolor": "#C8D4E3",
             "linecolor": "#C8D4E3",
             "minorgridcolor": "#C8D4E3",
             "startlinecolor": "#2a3f5f"
            },
            "type": "carpet"
           }
          ],
          "choropleth": [
           {
            "colorbar": {
             "outlinewidth": 0,
             "ticks": ""
            },
            "type": "choropleth"
           }
          ],
          "contour": [
           {
            "colorbar": {
             "outlinewidth": 0,
             "ticks": ""
            },
            "colorscale": [
             [
              0,
              "#0d0887"
             ],
             [
              0.1111111111111111,
              "#46039f"
             ],
             [
              0.2222222222222222,
              "#7201a8"
             ],
             [
              0.3333333333333333,
              "#9c179e"
             ],
             [
              0.4444444444444444,
              "#bd3786"
             ],
             [
              0.5555555555555556,
              "#d8576b"
             ],
             [
              0.6666666666666666,
              "#ed7953"
             ],
             [
              0.7777777777777778,
              "#fb9f3a"
             ],
             [
              0.8888888888888888,
              "#fdca26"
             ],
             [
              1,
              "#f0f921"
             ]
            ],
            "type": "contour"
           }
          ],
          "contourcarpet": [
           {
            "colorbar": {
             "outlinewidth": 0,
             "ticks": ""
            },
            "type": "contourcarpet"
           }
          ],
          "heatmap": [
           {
            "colorbar": {
             "outlinewidth": 0,
             "ticks": ""
            },
            "colorscale": [
             [
              0,
              "#0d0887"
             ],
             [
              0.1111111111111111,
              "#46039f"
             ],
             [
              0.2222222222222222,
              "#7201a8"
             ],
             [
              0.3333333333333333,
              "#9c179e"
             ],
             [
              0.4444444444444444,
              "#bd3786"
             ],
             [
              0.5555555555555556,
              "#d8576b"
             ],
             [
              0.6666666666666666,
              "#ed7953"
             ],
             [
              0.7777777777777778,
              "#fb9f3a"
             ],
             [
              0.8888888888888888,
              "#fdca26"
             ],
             [
              1,
              "#f0f921"
             ]
            ],
            "type": "heatmap"
           }
          ],
          "heatmapgl": [
           {
            "colorbar": {
             "outlinewidth": 0,
             "ticks": ""
            },
            "colorscale": [
             [
              0,
              "#0d0887"
             ],
             [
              0.1111111111111111,
              "#46039f"
             ],
             [
              0.2222222222222222,
              "#7201a8"
             ],
             [
              0.3333333333333333,
              "#9c179e"
             ],
             [
              0.4444444444444444,
              "#bd3786"
             ],
             [
              0.5555555555555556,
              "#d8576b"
             ],
             [
              0.6666666666666666,
              "#ed7953"
             ],
             [
              0.7777777777777778,
              "#fb9f3a"
             ],
             [
              0.8888888888888888,
              "#fdca26"
             ],
             [
              1,
              "#f0f921"
             ]
            ],
            "type": "heatmapgl"
           }
          ],
          "histogram": [
           {
            "marker": {
             "pattern": {
              "fillmode": "overlay",
              "size": 10,
              "solidity": 0.2
             }
            },
            "type": "histogram"
           }
          ],
          "histogram2d": [
           {
            "colorbar": {
             "outlinewidth": 0,
             "ticks": ""
            },
            "colorscale": [
             [
              0,
              "#0d0887"
             ],
             [
              0.1111111111111111,
              "#46039f"
             ],
             [
              0.2222222222222222,
              "#7201a8"
             ],
             [
              0.3333333333333333,
              "#9c179e"
             ],
             [
              0.4444444444444444,
              "#bd3786"
             ],
             [
              0.5555555555555556,
              "#d8576b"
             ],
             [
              0.6666666666666666,
              "#ed7953"
             ],
             [
              0.7777777777777778,
              "#fb9f3a"
             ],
             [
              0.8888888888888888,
              "#fdca26"
             ],
             [
              1,
              "#f0f921"
             ]
            ],
            "type": "histogram2d"
           }
          ],
          "histogram2dcontour": [
           {
            "colorbar": {
             "outlinewidth": 0,
             "ticks": ""
            },
            "colorscale": [
             [
              0,
              "#0d0887"
             ],
             [
              0.1111111111111111,
              "#46039f"
             ],
             [
              0.2222222222222222,
              "#7201a8"
             ],
             [
              0.3333333333333333,
              "#9c179e"
             ],
             [
              0.4444444444444444,
              "#bd3786"
             ],
             [
              0.5555555555555556,
              "#d8576b"
             ],
             [
              0.6666666666666666,
              "#ed7953"
             ],
             [
              0.7777777777777778,
              "#fb9f3a"
             ],
             [
              0.8888888888888888,
              "#fdca26"
             ],
             [
              1,
              "#f0f921"
             ]
            ],
            "type": "histogram2dcontour"
           }
          ],
          "mesh3d": [
           {
            "colorbar": {
             "outlinewidth": 0,
             "ticks": ""
            },
            "type": "mesh3d"
           }
          ],
          "parcoords": [
           {
            "line": {
             "colorbar": {
              "outlinewidth": 0,
              "ticks": ""
             }
            },
            "type": "parcoords"
           }
          ],
          "pie": [
           {
            "automargin": true,
            "type": "pie"
           }
          ],
          "scatter": [
           {
            "fillpattern": {
             "fillmode": "overlay",
             "size": 10,
             "solidity": 0.2
            },
            "type": "scatter"
           }
          ],
          "scatter3d": [
           {
            "line": {
             "colorbar": {
              "outlinewidth": 0,
              "ticks": ""
             }
            },
            "marker": {
             "colorbar": {
              "outlinewidth": 0,
              "ticks": ""
             }
            },
            "type": "scatter3d"
           }
          ],
          "scattercarpet": [
           {
            "marker": {
             "colorbar": {
              "outlinewidth": 0,
              "ticks": ""
             }
            },
            "type": "scattercarpet"
           }
          ],
          "scattergeo": [
           {
            "marker": {
             "colorbar": {
              "outlinewidth": 0,
              "ticks": ""
             }
            },
            "type": "scattergeo"
           }
          ],
          "scattergl": [
           {
            "marker": {
             "colorbar": {
              "outlinewidth": 0,
              "ticks": ""
             }
            },
            "type": "scattergl"
           }
          ],
          "scattermapbox": [
           {
            "marker": {
             "colorbar": {
              "outlinewidth": 0,
              "ticks": ""
             }
            },
            "type": "scattermapbox"
           }
          ],
          "scatterpolar": [
           {
            "marker": {
             "colorbar": {
              "outlinewidth": 0,
              "ticks": ""
             }
            },
            "type": "scatterpolar"
           }
          ],
          "scatterpolargl": [
           {
            "marker": {
             "colorbar": {
              "outlinewidth": 0,
              "ticks": ""
             }
            },
            "type": "scatterpolargl"
           }
          ],
          "scatterternary": [
           {
            "marker": {
             "colorbar": {
              "outlinewidth": 0,
              "ticks": ""
             }
            },
            "type": "scatterternary"
           }
          ],
          "surface": [
           {
            "colorbar": {
             "outlinewidth": 0,
             "ticks": ""
            },
            "colorscale": [
             [
              0,
              "#0d0887"
             ],
             [
              0.1111111111111111,
              "#46039f"
             ],
             [
              0.2222222222222222,
              "#7201a8"
             ],
             [
              0.3333333333333333,
              "#9c179e"
             ],
             [
              0.4444444444444444,
              "#bd3786"
             ],
             [
              0.5555555555555556,
              "#d8576b"
             ],
             [
              0.6666666666666666,
              "#ed7953"
             ],
             [
              0.7777777777777778,
              "#fb9f3a"
             ],
             [
              0.8888888888888888,
              "#fdca26"
             ],
             [
              1,
              "#f0f921"
             ]
            ],
            "type": "surface"
           }
          ],
          "table": [
           {
            "cells": {
             "fill": {
              "color": "#EBF0F8"
             },
             "line": {
              "color": "white"
             }
            },
            "header": {
             "fill": {
              "color": "#C8D4E3"
             },
             "line": {
              "color": "white"
             }
            },
            "type": "table"
           }
          ]
         },
         "layout": {
          "annotationdefaults": {
           "arrowcolor": "#2a3f5f",
           "arrowhead": 0,
           "arrowwidth": 1
          },
          "autotypenumbers": "strict",
          "coloraxis": {
           "colorbar": {
            "outlinewidth": 0,
            "ticks": ""
           }
          },
          "colorscale": {
           "diverging": [
            [
             0,
             "#8e0152"
            ],
            [
             0.1,
             "#c51b7d"
            ],
            [
             0.2,
             "#de77ae"
            ],
            [
             0.3,
             "#f1b6da"
            ],
            [
             0.4,
             "#fde0ef"
            ],
            [
             0.5,
             "#f7f7f7"
            ],
            [
             0.6,
             "#e6f5d0"
            ],
            [
             0.7,
             "#b8e186"
            ],
            [
             0.8,
             "#7fbc41"
            ],
            [
             0.9,
             "#4d9221"
            ],
            [
             1,
             "#276419"
            ]
           ],
           "sequential": [
            [
             0,
             "#0d0887"
            ],
            [
             0.1111111111111111,
             "#46039f"
            ],
            [
             0.2222222222222222,
             "#7201a8"
            ],
            [
             0.3333333333333333,
             "#9c179e"
            ],
            [
             0.4444444444444444,
             "#bd3786"
            ],
            [
             0.5555555555555556,
             "#d8576b"
            ],
            [
             0.6666666666666666,
             "#ed7953"
            ],
            [
             0.7777777777777778,
             "#fb9f3a"
            ],
            [
             0.8888888888888888,
             "#fdca26"
            ],
            [
             1,
             "#f0f921"
            ]
           ],
           "sequentialminus": [
            [
             0,
             "#0d0887"
            ],
            [
             0.1111111111111111,
             "#46039f"
            ],
            [
             0.2222222222222222,
             "#7201a8"
            ],
            [
             0.3333333333333333,
             "#9c179e"
            ],
            [
             0.4444444444444444,
             "#bd3786"
            ],
            [
             0.5555555555555556,
             "#d8576b"
            ],
            [
             0.6666666666666666,
             "#ed7953"
            ],
            [
             0.7777777777777778,
             "#fb9f3a"
            ],
            [
             0.8888888888888888,
             "#fdca26"
            ],
            [
             1,
             "#f0f921"
            ]
           ]
          },
          "colorway": [
           "#636efa",
           "#EF553B",
           "#00cc96",
           "#ab63fa",
           "#FFA15A",
           "#19d3f3",
           "#FF6692",
           "#B6E880",
           "#FF97FF",
           "#FECB52"
          ],
          "font": {
           "color": "#2a3f5f"
          },
          "geo": {
           "bgcolor": "white",
           "lakecolor": "white",
           "landcolor": "white",
           "showlakes": true,
           "showland": true,
           "subunitcolor": "#C8D4E3"
          },
          "hoverlabel": {
           "align": "left"
          },
          "hovermode": "closest",
          "mapbox": {
           "style": "light"
          },
          "paper_bgcolor": "white",
          "plot_bgcolor": "white",
          "polar": {
           "angularaxis": {
            "gridcolor": "#EBF0F8",
            "linecolor": "#EBF0F8",
            "ticks": ""
           },
           "bgcolor": "white",
           "radialaxis": {
            "gridcolor": "#EBF0F8",
            "linecolor": "#EBF0F8",
            "ticks": ""
           }
          },
          "scene": {
           "xaxis": {
            "backgroundcolor": "white",
            "gridcolor": "#DFE8F3",
            "gridwidth": 2,
            "linecolor": "#EBF0F8",
            "showbackground": true,
            "ticks": "",
            "zerolinecolor": "#EBF0F8"
           },
           "yaxis": {
            "backgroundcolor": "white",
            "gridcolor": "#DFE8F3",
            "gridwidth": 2,
            "linecolor": "#EBF0F8",
            "showbackground": true,
            "ticks": "",
            "zerolinecolor": "#EBF0F8"
           },
           "zaxis": {
            "backgroundcolor": "white",
            "gridcolor": "#DFE8F3",
            "gridwidth": 2,
            "linecolor": "#EBF0F8",
            "showbackground": true,
            "ticks": "",
            "zerolinecolor": "#EBF0F8"
           }
          },
          "shapedefaults": {
           "line": {
            "color": "#2a3f5f"
           }
          },
          "ternary": {
           "aaxis": {
            "gridcolor": "#DFE8F3",
            "linecolor": "#A2B1C6",
            "ticks": ""
           },
           "baxis": {
            "gridcolor": "#DFE8F3",
            "linecolor": "#A2B1C6",
            "ticks": ""
           },
           "bgcolor": "white",
           "caxis": {
            "gridcolor": "#DFE8F3",
            "linecolor": "#A2B1C6",
            "ticks": ""
           }
          },
          "title": {
           "x": 0.05
          },
          "xaxis": {
           "automargin": true,
           "gridcolor": "#EBF0F8",
           "linecolor": "#EBF0F8",
           "ticks": "",
           "title": {
            "standoff": 15
           },
           "zerolinecolor": "#EBF0F8",
           "zerolinewidth": 2
          },
          "yaxis": {
           "automargin": true,
           "gridcolor": "#EBF0F8",
           "linecolor": "#EBF0F8",
           "ticks": "",
           "title": {
            "standoff": 15
           },
           "zerolinecolor": "#EBF0F8",
           "zerolinewidth": 2
          }
         }
        },
        "title": {
         "text": "<b>10.3390/ma14071660</b> data from Table 2<br>uploaded by Shuang Lin"
        },
        "width": 995,
        "xaxis": {
         "anchor": "y",
         "domain": [
          0,
          1
         ],
         "title": {
          "text": "PCA1"
         }
        },
        "yaxis": {
         "anchor": "x",
         "domain": [
          0,
          1
         ],
         "title": {
          "text": "PCA2"
         }
        }
       }
      }
     },
     "metadata": {},
     "output_type": "display_data"
    },
    {
     "name": "stdout",
     "output_type": "stream",
     "text": [
      "Skipping 10.3390/met9121351  . 1 samples are below the minimum requirement set (minSamples=4).\n",
      "Skipping 10.1007/s11665-020-04744-7 Nearly 1D linear trand detected.\n",
      "Skipping 10.1007/s11837-019-03861-6. 2 samples are below the minimum requirement set (minSamples=4).\n",
      "Skipping 10.1016/j.apsusc.2021.149338. 2 samples are below the minimum requirement set (minSamples=4).\n",
      "Skipping 10.1016/j.apt.2020.10.008. 1 samples are below the minimum requirement set (minSamples=4).\n",
      "------>  10.1016/j.ijrmhm.2020.105451 - non-linear trends detected (minRangeInDim: 0.2282>0.001)\n",
      "\n"
     ]
    },
    {
     "data": {
      "application/vnd.plotly.v1+json": {
       "config": {
        "plotlyServerURL": "https://plot.ly"
       },
       "data": [
        {
         "hovertemplate": "<b>%{hovertext}</b><br><br>Alloy Reported (Parsed Formula)=HfNbZr             | Hf33.3 Zr33.3 Nb33.3        <br>PCA1=%{x}<br>PCA2=%{y}<extra></extra>",
         "hovertext": [
          "F: Hf1 Zr1 Nb1<br>PF: Hf33.3 Zr33.3 Nb33.3<br>Raw: HfNbZr<br>RF: Hf1 Zr1 Nb1"
         ],
         "legendgroup": "HfNbZr             | Hf33.3 Zr33.3 Nb33.3        ",
         "marker": {
          "color": "#2E91E5",
          "line": {
           "color": "DarkSlateGrey",
           "width": 2
          },
          "size": 12,
          "symbol": "circle"
         },
         "mode": "markers",
         "name": "HfNbZr             | Hf33.3 Zr33.3 Nb33.3        ",
         "orientation": "v",
         "showlegend": true,
         "type": "scatter",
         "x": [
          -6.20633538311818e-17
         ],
         "xaxis": "x",
         "y": [
          -0.19018144357818267
         ],
         "yaxis": "y"
        },
        {
         "hovertemplate": "<b>%{hovertext}</b><br><br>Alloy Reported (Parsed Formula)=HfNbZrTa           | Hf25 Zr25 Ta25 Nb25         <br>PCA1=%{x}<br>PCA2=%{y}<extra></extra>",
         "hovertext": [
          "F: Hf1 Zr1 Ta1 Nb1<br>PF: Hf25 Zr25 Ta25 Nb25<br>Raw: HfNbZrTa<br>RF: Hf1 Zr1 Ta1 Nb1"
         ],
         "legendgroup": "HfNbZrTa           | Hf25 Zr25 Ta25 Nb25         ",
         "marker": {
          "color": "#E15F99",
          "line": {
           "color": "DarkSlateGrey",
           "width": 2
          },
          "size": 12,
          "symbol": "circle"
         },
         "mode": "markers",
         "name": "HfNbZrTa           | Hf25 Zr25 Ta25 Nb25         ",
         "orientation": "v",
         "showlegend": true,
         "type": "scatter",
         "x": [
          -0.17677669529663687
         ],
         "xaxis": "x",
         "y": [
          0.038036288715636676
         ],
         "yaxis": "y"
        },
        {
         "hovertemplate": "<b>%{hovertext}</b><br><br>Alloy Reported (Parsed Formula)=HfNbZrTa0.75Ti0.25 | Hf25 Zr25 Ti6.2 Ta18.8 Nb25 <br>PCA1=%{x}<br>PCA2=%{y}<extra></extra>",
         "hovertext": [
          "F: Hf1 Zr1 Ti0.25 Ta0.75 Nb1<br>PF: Hf25 Zr25 Ti6.2 Ta18.8 Nb25<br>Raw: HfNbZrTa0.75Ti0.25<br>RF: Hf4 Zr4 Ti1 Ta3 Nb4"
         ],
         "legendgroup": "HfNbZrTa0.75Ti0.25 | Hf25 Zr25 Ti6.2 Ta18.8 Nb25 ",
         "marker": {
          "color": "#1CA71C",
          "line": {
           "color": "DarkSlateGrey",
           "width": 2
          },
          "size": 12,
          "symbol": "circle"
         },
         "mode": "markers",
         "name": "HfNbZrTa0.75Ti0.25 | Hf25 Zr25 Ti6.2 Ta18.8 Nb25 ",
         "orientation": "v",
         "showlegend": true,
         "type": "scatter",
         "x": [
          -0.08838834764831843
         ],
         "xaxis": "x",
         "y": [
          0.03803628871563657
         ],
         "yaxis": "y"
        },
        {
         "hovertemplate": "<b>%{hovertext}</b><br><br>Alloy Reported (Parsed Formula)=HfNbZrTa0.5Ti0.5   | Hf25 Zr25 Ti12.5 Ta12.5 Nb25<br>PCA1=%{x}<br>PCA2=%{y}<extra></extra>",
         "hovertext": [
          "F: Hf1 Zr1 Ti0.5 Ta0.5 Nb1<br>PF: Hf25 Zr25 Ti12.5 Ta12.5 Nb25<br>Raw: HfNbZrTa0.5Ti0.5<br>RF: Hf2 Zr2 Ti1 Ta1 Nb2"
         ],
         "legendgroup": "HfNbZrTa0.5Ti0.5   | Hf25 Zr25 Ti12.5 Ta12.5 Nb25",
         "marker": {
          "color": "#FB0D0D",
          "line": {
           "color": "DarkSlateGrey",
           "width": 2
          },
          "size": 12,
          "symbol": "circle"
         },
         "mode": "markers",
         "name": "HfNbZrTa0.5Ti0.5   | Hf25 Zr25 Ti12.5 Ta12.5 Nb25",
         "orientation": "v",
         "showlegend": true,
         "type": "scatter",
         "x": [
          1.6211790696946238e-17
         ],
         "xaxis": "x",
         "y": [
          0.038036288715636545
         ],
         "yaxis": "y"
        },
        {
         "hovertemplate": "<b>%{hovertext}</b><br><br>Alloy Reported (Parsed Formula)=HfNbZrTa0.25Ti0.75 | Hf25 Zr25 Ti18.8 Ta6.2 Nb25 <br>PCA1=%{x}<br>PCA2=%{y}<extra></extra>",
         "hovertext": [
          "F: Hf1 Zr1 Ti0.75 Ta0.25 Nb1<br>PF: Hf25 Zr25 Ti18.8 Ta6.2 Nb25<br>Raw: HfNbZrTa0.25Ti0.75<br>RF: Hf4 Zr4 Ti3 Ta1 Nb4"
         ],
         "legendgroup": "HfNbZrTa0.25Ti0.75 | Hf25 Zr25 Ti18.8 Ta6.2 Nb25 ",
         "marker": {
          "color": "#DA16FF",
          "line": {
           "color": "DarkSlateGrey",
           "width": 2
          },
          "size": 12,
          "symbol": "circle"
         },
         "mode": "markers",
         "name": "HfNbZrTa0.25Ti0.75 | Hf25 Zr25 Ti18.8 Ta6.2 Nb25 ",
         "orientation": "v",
         "showlegend": true,
         "type": "scatter",
         "x": [
          0.08838834764831846
         ],
         "xaxis": "x",
         "y": [
          0.03803628871563652
         ],
         "yaxis": "y"
        },
        {
         "hovertemplate": "<b>%{hovertext}</b><br><br>Alloy Reported (Parsed Formula)=HfNbZrTi           | Hf25 Zr25 Ti25 Nb25         <br>PCA1=%{x}<br>PCA2=%{y}<extra></extra>",
         "hovertext": [
          "F: Hf1 Zr1 Ti1 Nb1<br>PF: Hf25 Zr25 Ti25 Nb25<br>Raw: HfNbZrTi<br>RF: Hf1 Zr1 Ti1 Nb1"
         ],
         "legendgroup": "HfNbZrTi           | Hf25 Zr25 Ti25 Nb25         ",
         "marker": {
          "color": "#222A2A",
          "line": {
           "color": "DarkSlateGrey",
           "width": 2
          },
          "size": 12,
          "symbol": "circle"
         },
         "mode": "markers",
         "name": "HfNbZrTi           | Hf25 Zr25 Ti25 Nb25         ",
         "orientation": "v",
         "showlegend": true,
         "type": "scatter",
         "x": [
          0.1767766952966369
         ],
         "xaxis": "x",
         "y": [
          0.03803628871563646
         ],
         "yaxis": "y"
        }
       ],
       "layout": {
        "font": {
         "family": "Consolas, monospace"
        },
        "height": 400,
        "legend": {
         "title": {
          "text": "Alloy Reported (Parsed Formula)"
         },
         "tracegroupgap": 0
        },
        "template": {
         "data": {
          "bar": [
           {
            "error_x": {
             "color": "#2a3f5f"
            },
            "error_y": {
             "color": "#2a3f5f"
            },
            "marker": {
             "line": {
              "color": "white",
              "width": 0.5
             },
             "pattern": {
              "fillmode": "overlay",
              "size": 10,
              "solidity": 0.2
             }
            },
            "type": "bar"
           }
          ],
          "barpolar": [
           {
            "marker": {
             "line": {
              "color": "white",
              "width": 0.5
             },
             "pattern": {
              "fillmode": "overlay",
              "size": 10,
              "solidity": 0.2
             }
            },
            "type": "barpolar"
           }
          ],
          "carpet": [
           {
            "aaxis": {
             "endlinecolor": "#2a3f5f",
             "gridcolor": "#C8D4E3",
             "linecolor": "#C8D4E3",
             "minorgridcolor": "#C8D4E3",
             "startlinecolor": "#2a3f5f"
            },
            "baxis": {
             "endlinecolor": "#2a3f5f",
             "gridcolor": "#C8D4E3",
             "linecolor": "#C8D4E3",
             "minorgridcolor": "#C8D4E3",
             "startlinecolor": "#2a3f5f"
            },
            "type": "carpet"
           }
          ],
          "choropleth": [
           {
            "colorbar": {
             "outlinewidth": 0,
             "ticks": ""
            },
            "type": "choropleth"
           }
          ],
          "contour": [
           {
            "colorbar": {
             "outlinewidth": 0,
             "ticks": ""
            },
            "colorscale": [
             [
              0,
              "#0d0887"
             ],
             [
              0.1111111111111111,
              "#46039f"
             ],
             [
              0.2222222222222222,
              "#7201a8"
             ],
             [
              0.3333333333333333,
              "#9c179e"
             ],
             [
              0.4444444444444444,
              "#bd3786"
             ],
             [
              0.5555555555555556,
              "#d8576b"
             ],
             [
              0.6666666666666666,
              "#ed7953"
             ],
             [
              0.7777777777777778,
              "#fb9f3a"
             ],
             [
              0.8888888888888888,
              "#fdca26"
             ],
             [
              1,
              "#f0f921"
             ]
            ],
            "type": "contour"
           }
          ],
          "contourcarpet": [
           {
            "colorbar": {
             "outlinewidth": 0,
             "ticks": ""
            },
            "type": "contourcarpet"
           }
          ],
          "heatmap": [
           {
            "colorbar": {
             "outlinewidth": 0,
             "ticks": ""
            },
            "colorscale": [
             [
              0,
              "#0d0887"
             ],
             [
              0.1111111111111111,
              "#46039f"
             ],
             [
              0.2222222222222222,
              "#7201a8"
             ],
             [
              0.3333333333333333,
              "#9c179e"
             ],
             [
              0.4444444444444444,
              "#bd3786"
             ],
             [
              0.5555555555555556,
              "#d8576b"
             ],
             [
              0.6666666666666666,
              "#ed7953"
             ],
             [
              0.7777777777777778,
              "#fb9f3a"
             ],
             [
              0.8888888888888888,
              "#fdca26"
             ],
             [
              1,
              "#f0f921"
             ]
            ],
            "type": "heatmap"
           }
          ],
          "heatmapgl": [
           {
            "colorbar": {
             "outlinewidth": 0,
             "ticks": ""
            },
            "colorscale": [
             [
              0,
              "#0d0887"
             ],
             [
              0.1111111111111111,
              "#46039f"
             ],
             [
              0.2222222222222222,
              "#7201a8"
             ],
             [
              0.3333333333333333,
              "#9c179e"
             ],
             [
              0.4444444444444444,
              "#bd3786"
             ],
             [
              0.5555555555555556,
              "#d8576b"
             ],
             [
              0.6666666666666666,
              "#ed7953"
             ],
             [
              0.7777777777777778,
              "#fb9f3a"
             ],
             [
              0.8888888888888888,
              "#fdca26"
             ],
             [
              1,
              "#f0f921"
             ]
            ],
            "type": "heatmapgl"
           }
          ],
          "histogram": [
           {
            "marker": {
             "pattern": {
              "fillmode": "overlay",
              "size": 10,
              "solidity": 0.2
             }
            },
            "type": "histogram"
           }
          ],
          "histogram2d": [
           {
            "colorbar": {
             "outlinewidth": 0,
             "ticks": ""
            },
            "colorscale": [
             [
              0,
              "#0d0887"
             ],
             [
              0.1111111111111111,
              "#46039f"
             ],
             [
              0.2222222222222222,
              "#7201a8"
             ],
             [
              0.3333333333333333,
              "#9c179e"
             ],
             [
              0.4444444444444444,
              "#bd3786"
             ],
             [
              0.5555555555555556,
              "#d8576b"
             ],
             [
              0.6666666666666666,
              "#ed7953"
             ],
             [
              0.7777777777777778,
              "#fb9f3a"
             ],
             [
              0.8888888888888888,
              "#fdca26"
             ],
             [
              1,
              "#f0f921"
             ]
            ],
            "type": "histogram2d"
           }
          ],
          "histogram2dcontour": [
           {
            "colorbar": {
             "outlinewidth": 0,
             "ticks": ""
            },
            "colorscale": [
             [
              0,
              "#0d0887"
             ],
             [
              0.1111111111111111,
              "#46039f"
             ],
             [
              0.2222222222222222,
              "#7201a8"
             ],
             [
              0.3333333333333333,
              "#9c179e"
             ],
             [
              0.4444444444444444,
              "#bd3786"
             ],
             [
              0.5555555555555556,
              "#d8576b"
             ],
             [
              0.6666666666666666,
              "#ed7953"
             ],
             [
              0.7777777777777778,
              "#fb9f3a"
             ],
             [
              0.8888888888888888,
              "#fdca26"
             ],
             [
              1,
              "#f0f921"
             ]
            ],
            "type": "histogram2dcontour"
           }
          ],
          "mesh3d": [
           {
            "colorbar": {
             "outlinewidth": 0,
             "ticks": ""
            },
            "type": "mesh3d"
           }
          ],
          "parcoords": [
           {
            "line": {
             "colorbar": {
              "outlinewidth": 0,
              "ticks": ""
             }
            },
            "type": "parcoords"
           }
          ],
          "pie": [
           {
            "automargin": true,
            "type": "pie"
           }
          ],
          "scatter": [
           {
            "fillpattern": {
             "fillmode": "overlay",
             "size": 10,
             "solidity": 0.2
            },
            "type": "scatter"
           }
          ],
          "scatter3d": [
           {
            "line": {
             "colorbar": {
              "outlinewidth": 0,
              "ticks": ""
             }
            },
            "marker": {
             "colorbar": {
              "outlinewidth": 0,
              "ticks": ""
             }
            },
            "type": "scatter3d"
           }
          ],
          "scattercarpet": [
           {
            "marker": {
             "colorbar": {
              "outlinewidth": 0,
              "ticks": ""
             }
            },
            "type": "scattercarpet"
           }
          ],
          "scattergeo": [
           {
            "marker": {
             "colorbar": {
              "outlinewidth": 0,
              "ticks": ""
             }
            },
            "type": "scattergeo"
           }
          ],
          "scattergl": [
           {
            "marker": {
             "colorbar": {
              "outlinewidth": 0,
              "ticks": ""
             }
            },
            "type": "scattergl"
           }
          ],
          "scattermapbox": [
           {
            "marker": {
             "colorbar": {
              "outlinewidth": 0,
              "ticks": ""
             }
            },
            "type": "scattermapbox"
           }
          ],
          "scatterpolar": [
           {
            "marker": {
             "colorbar": {
              "outlinewidth": 0,
              "ticks": ""
             }
            },
            "type": "scatterpolar"
           }
          ],
          "scatterpolargl": [
           {
            "marker": {
             "colorbar": {
              "outlinewidth": 0,
              "ticks": ""
             }
            },
            "type": "scatterpolargl"
           }
          ],
          "scatterternary": [
           {
            "marker": {
             "colorbar": {
              "outlinewidth": 0,
              "ticks": ""
             }
            },
            "type": "scatterternary"
           }
          ],
          "surface": [
           {
            "colorbar": {
             "outlinewidth": 0,
             "ticks": ""
            },
            "colorscale": [
             [
              0,
              "#0d0887"
             ],
             [
              0.1111111111111111,
              "#46039f"
             ],
             [
              0.2222222222222222,
              "#7201a8"
             ],
             [
              0.3333333333333333,
              "#9c179e"
             ],
             [
              0.4444444444444444,
              "#bd3786"
             ],
             [
              0.5555555555555556,
              "#d8576b"
             ],
             [
              0.6666666666666666,
              "#ed7953"
             ],
             [
              0.7777777777777778,
              "#fb9f3a"
             ],
             [
              0.8888888888888888,
              "#fdca26"
             ],
             [
              1,
              "#f0f921"
             ]
            ],
            "type": "surface"
           }
          ],
          "table": [
           {
            "cells": {
             "fill": {
              "color": "#EBF0F8"
             },
             "line": {
              "color": "white"
             }
            },
            "header": {
             "fill": {
              "color": "#C8D4E3"
             },
             "line": {
              "color": "white"
             }
            },
            "type": "table"
           }
          ]
         },
         "layout": {
          "annotationdefaults": {
           "arrowcolor": "#2a3f5f",
           "arrowhead": 0,
           "arrowwidth": 1
          },
          "autotypenumbers": "strict",
          "coloraxis": {
           "colorbar": {
            "outlinewidth": 0,
            "ticks": ""
           }
          },
          "colorscale": {
           "diverging": [
            [
             0,
             "#8e0152"
            ],
            [
             0.1,
             "#c51b7d"
            ],
            [
             0.2,
             "#de77ae"
            ],
            [
             0.3,
             "#f1b6da"
            ],
            [
             0.4,
             "#fde0ef"
            ],
            [
             0.5,
             "#f7f7f7"
            ],
            [
             0.6,
             "#e6f5d0"
            ],
            [
             0.7,
             "#b8e186"
            ],
            [
             0.8,
             "#7fbc41"
            ],
            [
             0.9,
             "#4d9221"
            ],
            [
             1,
             "#276419"
            ]
           ],
           "sequential": [
            [
             0,
             "#0d0887"
            ],
            [
             0.1111111111111111,
             "#46039f"
            ],
            [
             0.2222222222222222,
             "#7201a8"
            ],
            [
             0.3333333333333333,
             "#9c179e"
            ],
            [
             0.4444444444444444,
             "#bd3786"
            ],
            [
             0.5555555555555556,
             "#d8576b"
            ],
            [
             0.6666666666666666,
             "#ed7953"
            ],
            [
             0.7777777777777778,
             "#fb9f3a"
            ],
            [
             0.8888888888888888,
             "#fdca26"
            ],
            [
             1,
             "#f0f921"
            ]
           ],
           "sequentialminus": [
            [
             0,
             "#0d0887"
            ],
            [
             0.1111111111111111,
             "#46039f"
            ],
            [
             0.2222222222222222,
             "#7201a8"
            ],
            [
             0.3333333333333333,
             "#9c179e"
            ],
            [
             0.4444444444444444,
             "#bd3786"
            ],
            [
             0.5555555555555556,
             "#d8576b"
            ],
            [
             0.6666666666666666,
             "#ed7953"
            ],
            [
             0.7777777777777778,
             "#fb9f3a"
            ],
            [
             0.8888888888888888,
             "#fdca26"
            ],
            [
             1,
             "#f0f921"
            ]
           ]
          },
          "colorway": [
           "#636efa",
           "#EF553B",
           "#00cc96",
           "#ab63fa",
           "#FFA15A",
           "#19d3f3",
           "#FF6692",
           "#B6E880",
           "#FF97FF",
           "#FECB52"
          ],
          "font": {
           "color": "#2a3f5f"
          },
          "geo": {
           "bgcolor": "white",
           "lakecolor": "white",
           "landcolor": "white",
           "showlakes": true,
           "showland": true,
           "subunitcolor": "#C8D4E3"
          },
          "hoverlabel": {
           "align": "left"
          },
          "hovermode": "closest",
          "mapbox": {
           "style": "light"
          },
          "paper_bgcolor": "white",
          "plot_bgcolor": "white",
          "polar": {
           "angularaxis": {
            "gridcolor": "#EBF0F8",
            "linecolor": "#EBF0F8",
            "ticks": ""
           },
           "bgcolor": "white",
           "radialaxis": {
            "gridcolor": "#EBF0F8",
            "linecolor": "#EBF0F8",
            "ticks": ""
           }
          },
          "scene": {
           "xaxis": {
            "backgroundcolor": "white",
            "gridcolor": "#DFE8F3",
            "gridwidth": 2,
            "linecolor": "#EBF0F8",
            "showbackground": true,
            "ticks": "",
            "zerolinecolor": "#EBF0F8"
           },
           "yaxis": {
            "backgroundcolor": "white",
            "gridcolor": "#DFE8F3",
            "gridwidth": 2,
            "linecolor": "#EBF0F8",
            "showbackground": true,
            "ticks": "",
            "zerolinecolor": "#EBF0F8"
           },
           "zaxis": {
            "backgroundcolor": "white",
            "gridcolor": "#DFE8F3",
            "gridwidth": 2,
            "linecolor": "#EBF0F8",
            "showbackground": true,
            "ticks": "",
            "zerolinecolor": "#EBF0F8"
           }
          },
          "shapedefaults": {
           "line": {
            "color": "#2a3f5f"
           }
          },
          "ternary": {
           "aaxis": {
            "gridcolor": "#DFE8F3",
            "linecolor": "#A2B1C6",
            "ticks": ""
           },
           "baxis": {
            "gridcolor": "#DFE8F3",
            "linecolor": "#A2B1C6",
            "ticks": ""
           },
           "bgcolor": "white",
           "caxis": {
            "gridcolor": "#DFE8F3",
            "linecolor": "#A2B1C6",
            "ticks": ""
           }
          },
          "title": {
           "x": 0.05
          },
          "xaxis": {
           "automargin": true,
           "gridcolor": "#EBF0F8",
           "linecolor": "#EBF0F8",
           "ticks": "",
           "title": {
            "standoff": 15
           },
           "zerolinecolor": "#EBF0F8",
           "zerolinewidth": 2
          },
          "yaxis": {
           "automargin": true,
           "gridcolor": "#EBF0F8",
           "linecolor": "#EBF0F8",
           "ticks": "",
           "title": {
            "standoff": 15
           },
           "zerolinecolor": "#EBF0F8",
           "zerolinewidth": 2
          }
         }
        },
        "title": {
         "text": "<b>10.1016/j.ijrmhm.2020.105451</b> data from Table 1<br>uploaded by Shuang Lin"
        },
        "width": 1031,
        "xaxis": {
         "anchor": "y",
         "domain": [
          0,
          1
         ],
         "title": {
          "text": "PCA1"
         }
        },
        "yaxis": {
         "anchor": "x",
         "domain": [
          0,
          1
         ],
         "title": {
          "text": "PCA2"
         }
        }
       }
      }
     },
     "metadata": {},
     "output_type": "display_data"
    },
    {
     "name": "stdout",
     "output_type": "stream",
     "text": [
      "------>  10.1016/j.ijrmhm.2021.105568 - non-linear trends detected (minRangeInDim: 1.3341>0.001)\n",
      "\n"
     ]
    },
    {
     "data": {
      "application/vnd.plotly.v1+json": {
       "config": {
        "plotlyServerURL": "https://plot.ly"
       },
       "data": [
        {
         "hovertemplate": "<b>%{hovertext}</b><br><br>Alloy Reported (Parsed Formula)=Mo         | Mo100                   <br>PCA1=%{x}<br>PCA2=%{y}<extra></extra>",
         "hovertext": [
          "F: Mo1<br>PF: Mo100<br>Raw: Mo<br>RF: Mo1"
         ],
         "legendgroup": "Mo         | Mo100                   ",
         "marker": {
          "color": "#2E91E5",
          "line": {
           "color": "DarkSlateGrey",
           "width": 2
          },
          "size": 12,
          "symbol": "circle"
         },
         "mode": "markers",
         "name": "Mo         | Mo100                   ",
         "orientation": "v",
         "showlegend": true,
         "type": "scatter",
         "x": [
          -0.2709392543350367
         ],
         "xaxis": "x",
         "y": [
          0.7702328135875799
         ],
         "yaxis": "y"
        },
        {
         "hovertemplate": "<b>%{hovertext}</b><br><br>Alloy Reported (Parsed Formula)=Ta         | Ta100                   <br>PCA1=%{x}<br>PCA2=%{y}<extra></extra>",
         "hovertext": [
          "F: Ta1<br>PF: Ta100<br>Raw: Ta<br>RF: Ta1"
         ],
         "legendgroup": "Ta         | Ta100                   ",
         "marker": {
          "color": "#E15F99",
          "line": {
           "color": "DarkSlateGrey",
           "width": 2
          },
          "size": 12,
          "symbol": "circle"
         },
         "mode": "markers",
         "name": "Ta         | Ta100                   ",
         "orientation": "v",
         "showlegend": true,
         "type": "scatter",
         "x": [
          -1.2766197550845567e-17
         ],
         "xaxis": "x",
         "y": [
          -3.636470884441317e-16
         ],
         "yaxis": "y"
        },
        {
         "hovertemplate": "<b>%{hovertext}</b><br><br>Alloy Reported (Parsed Formula)=Zr         | Zr100                   <br>PCA1=%{x}<br>PCA2=%{y}<extra></extra>",
         "hovertext": [
          "F: Zr1<br>PF: Zr100<br>Raw: Zr<br>RF: Zr1"
         ],
         "legendgroup": "Zr         | Zr100                   ",
         "marker": {
          "color": "#1CA71C",
          "line": {
           "color": "DarkSlateGrey",
           "width": 2
          },
          "size": 12,
          "symbol": "circle"
         },
         "mode": "markers",
         "name": "Zr         | Zr100                   ",
         "orientation": "v",
         "showlegend": true,
         "type": "scatter",
         "x": [
          0.8025108105627276
         ],
         "xaxis": "x",
         "y": [
          -0.15047612965723603
         ],
         "yaxis": "y"
        },
        {
         "hovertemplate": "<b>%{hovertext}</b><br><br>Alloy Reported (Parsed Formula)=HfMoScTaZr | Sc20 Hf20 Zr20 Ta20 Mo20<br>PCA1=%{x}<br>PCA2=%{y}<extra></extra>",
         "hovertext": [
          "F: Sc1 Hf1 Zr1 Ta1 Mo1<br>PF: Sc20 Hf20 Zr20 Ta20 Mo20<br>Raw: HfMoScTaZr<br>RF: Sc1 Hf1 Zr1 Ta1 Mo1"
         ],
         "legendgroup": "HfMoScTaZr | Sc20 Hf20 Zr20 Ta20 Mo20",
         "marker": {
          "color": "#FB0D0D",
          "line": {
           "color": "DarkSlateGrey",
           "width": 2
          },
          "size": 12,
          "symbol": "circle"
         },
         "mode": "markers",
         "name": "HfMoScTaZr | Sc20 Hf20 Zr20 Ta20 Mo20",
         "orientation": "v",
         "showlegend": true,
         "type": "scatter",
         "x": [
          -2.9516358587367474e-17
         ],
         "xaxis": "x",
         "y": [
          2.172368630828855e-15
         ],
         "yaxis": "y"
        },
        {
         "hovertemplate": "<b>%{hovertext}</b><br><br>Alloy Reported (Parsed Formula)=Hf         | Hf100                   <br>PCA1=%{x}<br>PCA2=%{y}<extra></extra>",
         "hovertext": [
          "F: Hf1<br>PF: Hf100<br>Raw: Hf<br>RF: Hf1"
         ],
         "legendgroup": "Hf         | Hf100                   ",
         "marker": {
          "color": "#DA16FF",
          "line": {
           "color": "DarkSlateGrey",
           "width": 2
          },
          "size": 12,
          "symbol": "circle"
         },
         "mode": "markers",
         "name": "Hf         | Hf100                   ",
         "orientation": "v",
         "showlegend": true,
         "type": "scatter",
         "x": [
          -0.5315715562276906
         ],
         "xaxis": "x",
         "y": [
          -0.6197566839303459
         ],
         "yaxis": "y"
        }
       ],
       "layout": {
        "font": {
         "family": "Consolas, monospace"
        },
        "height": 400,
        "legend": {
         "title": {
          "text": "Alloy Reported (Parsed Formula)"
         },
         "tracegroupgap": 0
        },
        "template": {
         "data": {
          "bar": [
           {
            "error_x": {
             "color": "#2a3f5f"
            },
            "error_y": {
             "color": "#2a3f5f"
            },
            "marker": {
             "line": {
              "color": "white",
              "width": 0.5
             },
             "pattern": {
              "fillmode": "overlay",
              "size": 10,
              "solidity": 0.2
             }
            },
            "type": "bar"
           }
          ],
          "barpolar": [
           {
            "marker": {
             "line": {
              "color": "white",
              "width": 0.5
             },
             "pattern": {
              "fillmode": "overlay",
              "size": 10,
              "solidity": 0.2
             }
            },
            "type": "barpolar"
           }
          ],
          "carpet": [
           {
            "aaxis": {
             "endlinecolor": "#2a3f5f",
             "gridcolor": "#C8D4E3",
             "linecolor": "#C8D4E3",
             "minorgridcolor": "#C8D4E3",
             "startlinecolor": "#2a3f5f"
            },
            "baxis": {
             "endlinecolor": "#2a3f5f",
             "gridcolor": "#C8D4E3",
             "linecolor": "#C8D4E3",
             "minorgridcolor": "#C8D4E3",
             "startlinecolor": "#2a3f5f"
            },
            "type": "carpet"
           }
          ],
          "choropleth": [
           {
            "colorbar": {
             "outlinewidth": 0,
             "ticks": ""
            },
            "type": "choropleth"
           }
          ],
          "contour": [
           {
            "colorbar": {
             "outlinewidth": 0,
             "ticks": ""
            },
            "colorscale": [
             [
              0,
              "#0d0887"
             ],
             [
              0.1111111111111111,
              "#46039f"
             ],
             [
              0.2222222222222222,
              "#7201a8"
             ],
             [
              0.3333333333333333,
              "#9c179e"
             ],
             [
              0.4444444444444444,
              "#bd3786"
             ],
             [
              0.5555555555555556,
              "#d8576b"
             ],
             [
              0.6666666666666666,
              "#ed7953"
             ],
             [
              0.7777777777777778,
              "#fb9f3a"
             ],
             [
              0.8888888888888888,
              "#fdca26"
             ],
             [
              1,
              "#f0f921"
             ]
            ],
            "type": "contour"
           }
          ],
          "contourcarpet": [
           {
            "colorbar": {
             "outlinewidth": 0,
             "ticks": ""
            },
            "type": "contourcarpet"
           }
          ],
          "heatmap": [
           {
            "colorbar": {
             "outlinewidth": 0,
             "ticks": ""
            },
            "colorscale": [
             [
              0,
              "#0d0887"
             ],
             [
              0.1111111111111111,
              "#46039f"
             ],
             [
              0.2222222222222222,
              "#7201a8"
             ],
             [
              0.3333333333333333,
              "#9c179e"
             ],
             [
              0.4444444444444444,
              "#bd3786"
             ],
             [
              0.5555555555555556,
              "#d8576b"
             ],
             [
              0.6666666666666666,
              "#ed7953"
             ],
             [
              0.7777777777777778,
              "#fb9f3a"
             ],
             [
              0.8888888888888888,
              "#fdca26"
             ],
             [
              1,
              "#f0f921"
             ]
            ],
            "type": "heatmap"
           }
          ],
          "heatmapgl": [
           {
            "colorbar": {
             "outlinewidth": 0,
             "ticks": ""
            },
            "colorscale": [
             [
              0,
              "#0d0887"
             ],
             [
              0.1111111111111111,
              "#46039f"
             ],
             [
              0.2222222222222222,
              "#7201a8"
             ],
             [
              0.3333333333333333,
              "#9c179e"
             ],
             [
              0.4444444444444444,
              "#bd3786"
             ],
             [
              0.5555555555555556,
              "#d8576b"
             ],
             [
              0.6666666666666666,
              "#ed7953"
             ],
             [
              0.7777777777777778,
              "#fb9f3a"
             ],
             [
              0.8888888888888888,
              "#fdca26"
             ],
             [
              1,
              "#f0f921"
             ]
            ],
            "type": "heatmapgl"
           }
          ],
          "histogram": [
           {
            "marker": {
             "pattern": {
              "fillmode": "overlay",
              "size": 10,
              "solidity": 0.2
             }
            },
            "type": "histogram"
           }
          ],
          "histogram2d": [
           {
            "colorbar": {
             "outlinewidth": 0,
             "ticks": ""
            },
            "colorscale": [
             [
              0,
              "#0d0887"
             ],
             [
              0.1111111111111111,
              "#46039f"
             ],
             [
              0.2222222222222222,
              "#7201a8"
             ],
             [
              0.3333333333333333,
              "#9c179e"
             ],
             [
              0.4444444444444444,
              "#bd3786"
             ],
             [
              0.5555555555555556,
              "#d8576b"
             ],
             [
              0.6666666666666666,
              "#ed7953"
             ],
             [
              0.7777777777777778,
              "#fb9f3a"
             ],
             [
              0.8888888888888888,
              "#fdca26"
             ],
             [
              1,
              "#f0f921"
             ]
            ],
            "type": "histogram2d"
           }
          ],
          "histogram2dcontour": [
           {
            "colorbar": {
             "outlinewidth": 0,
             "ticks": ""
            },
            "colorscale": [
             [
              0,
              "#0d0887"
             ],
             [
              0.1111111111111111,
              "#46039f"
             ],
             [
              0.2222222222222222,
              "#7201a8"
             ],
             [
              0.3333333333333333,
              "#9c179e"
             ],
             [
              0.4444444444444444,
              "#bd3786"
             ],
             [
              0.5555555555555556,
              "#d8576b"
             ],
             [
              0.6666666666666666,
              "#ed7953"
             ],
             [
              0.7777777777777778,
              "#fb9f3a"
             ],
             [
              0.8888888888888888,
              "#fdca26"
             ],
             [
              1,
              "#f0f921"
             ]
            ],
            "type": "histogram2dcontour"
           }
          ],
          "mesh3d": [
           {
            "colorbar": {
             "outlinewidth": 0,
             "ticks": ""
            },
            "type": "mesh3d"
           }
          ],
          "parcoords": [
           {
            "line": {
             "colorbar": {
              "outlinewidth": 0,
              "ticks": ""
             }
            },
            "type": "parcoords"
           }
          ],
          "pie": [
           {
            "automargin": true,
            "type": "pie"
           }
          ],
          "scatter": [
           {
            "fillpattern": {
             "fillmode": "overlay",
             "size": 10,
             "solidity": 0.2
            },
            "type": "scatter"
           }
          ],
          "scatter3d": [
           {
            "line": {
             "colorbar": {
              "outlinewidth": 0,
              "ticks": ""
             }
            },
            "marker": {
             "colorbar": {
              "outlinewidth": 0,
              "ticks": ""
             }
            },
            "type": "scatter3d"
           }
          ],
          "scattercarpet": [
           {
            "marker": {
             "colorbar": {
              "outlinewidth": 0,
              "ticks": ""
             }
            },
            "type": "scattercarpet"
           }
          ],
          "scattergeo": [
           {
            "marker": {
             "colorbar": {
              "outlinewidth": 0,
              "ticks": ""
             }
            },
            "type": "scattergeo"
           }
          ],
          "scattergl": [
           {
            "marker": {
             "colorbar": {
              "outlinewidth": 0,
              "ticks": ""
             }
            },
            "type": "scattergl"
           }
          ],
          "scattermapbox": [
           {
            "marker": {
             "colorbar": {
              "outlinewidth": 0,
              "ticks": ""
             }
            },
            "type": "scattermapbox"
           }
          ],
          "scatterpolar": [
           {
            "marker": {
             "colorbar": {
              "outlinewidth": 0,
              "ticks": ""
             }
            },
            "type": "scatterpolar"
           }
          ],
          "scatterpolargl": [
           {
            "marker": {
             "colorbar": {
              "outlinewidth": 0,
              "ticks": ""
             }
            },
            "type": "scatterpolargl"
           }
          ],
          "scatterternary": [
           {
            "marker": {
             "colorbar": {
              "outlinewidth": 0,
              "ticks": ""
             }
            },
            "type": "scatterternary"
           }
          ],
          "surface": [
           {
            "colorbar": {
             "outlinewidth": 0,
             "ticks": ""
            },
            "colorscale": [
             [
              0,
              "#0d0887"
             ],
             [
              0.1111111111111111,
              "#46039f"
             ],
             [
              0.2222222222222222,
              "#7201a8"
             ],
             [
              0.3333333333333333,
              "#9c179e"
             ],
             [
              0.4444444444444444,
              "#bd3786"
             ],
             [
              0.5555555555555556,
              "#d8576b"
             ],
             [
              0.6666666666666666,
              "#ed7953"
             ],
             [
              0.7777777777777778,
              "#fb9f3a"
             ],
             [
              0.8888888888888888,
              "#fdca26"
             ],
             [
              1,
              "#f0f921"
             ]
            ],
            "type": "surface"
           }
          ],
          "table": [
           {
            "cells": {
             "fill": {
              "color": "#EBF0F8"
             },
             "line": {
              "color": "white"
             }
            },
            "header": {
             "fill": {
              "color": "#C8D4E3"
             },
             "line": {
              "color": "white"
             }
            },
            "type": "table"
           }
          ]
         },
         "layout": {
          "annotationdefaults": {
           "arrowcolor": "#2a3f5f",
           "arrowhead": 0,
           "arrowwidth": 1
          },
          "autotypenumbers": "strict",
          "coloraxis": {
           "colorbar": {
            "outlinewidth": 0,
            "ticks": ""
           }
          },
          "colorscale": {
           "diverging": [
            [
             0,
             "#8e0152"
            ],
            [
             0.1,
             "#c51b7d"
            ],
            [
             0.2,
             "#de77ae"
            ],
            [
             0.3,
             "#f1b6da"
            ],
            [
             0.4,
             "#fde0ef"
            ],
            [
             0.5,
             "#f7f7f7"
            ],
            [
             0.6,
             "#e6f5d0"
            ],
            [
             0.7,
             "#b8e186"
            ],
            [
             0.8,
             "#7fbc41"
            ],
            [
             0.9,
             "#4d9221"
            ],
            [
             1,
             "#276419"
            ]
           ],
           "sequential": [
            [
             0,
             "#0d0887"
            ],
            [
             0.1111111111111111,
             "#46039f"
            ],
            [
             0.2222222222222222,
             "#7201a8"
            ],
            [
             0.3333333333333333,
             "#9c179e"
            ],
            [
             0.4444444444444444,
             "#bd3786"
            ],
            [
             0.5555555555555556,
             "#d8576b"
            ],
            [
             0.6666666666666666,
             "#ed7953"
            ],
            [
             0.7777777777777778,
             "#fb9f3a"
            ],
            [
             0.8888888888888888,
             "#fdca26"
            ],
            [
             1,
             "#f0f921"
            ]
           ],
           "sequentialminus": [
            [
             0,
             "#0d0887"
            ],
            [
             0.1111111111111111,
             "#46039f"
            ],
            [
             0.2222222222222222,
             "#7201a8"
            ],
            [
             0.3333333333333333,
             "#9c179e"
            ],
            [
             0.4444444444444444,
             "#bd3786"
            ],
            [
             0.5555555555555556,
             "#d8576b"
            ],
            [
             0.6666666666666666,
             "#ed7953"
            ],
            [
             0.7777777777777778,
             "#fb9f3a"
            ],
            [
             0.8888888888888888,
             "#fdca26"
            ],
            [
             1,
             "#f0f921"
            ]
           ]
          },
          "colorway": [
           "#636efa",
           "#EF553B",
           "#00cc96",
           "#ab63fa",
           "#FFA15A",
           "#19d3f3",
           "#FF6692",
           "#B6E880",
           "#FF97FF",
           "#FECB52"
          ],
          "font": {
           "color": "#2a3f5f"
          },
          "geo": {
           "bgcolor": "white",
           "lakecolor": "white",
           "landcolor": "white",
           "showlakes": true,
           "showland": true,
           "subunitcolor": "#C8D4E3"
          },
          "hoverlabel": {
           "align": "left"
          },
          "hovermode": "closest",
          "mapbox": {
           "style": "light"
          },
          "paper_bgcolor": "white",
          "plot_bgcolor": "white",
          "polar": {
           "angularaxis": {
            "gridcolor": "#EBF0F8",
            "linecolor": "#EBF0F8",
            "ticks": ""
           },
           "bgcolor": "white",
           "radialaxis": {
            "gridcolor": "#EBF0F8",
            "linecolor": "#EBF0F8",
            "ticks": ""
           }
          },
          "scene": {
           "xaxis": {
            "backgroundcolor": "white",
            "gridcolor": "#DFE8F3",
            "gridwidth": 2,
            "linecolor": "#EBF0F8",
            "showbackground": true,
            "ticks": "",
            "zerolinecolor": "#EBF0F8"
           },
           "yaxis": {
            "backgroundcolor": "white",
            "gridcolor": "#DFE8F3",
            "gridwidth": 2,
            "linecolor": "#EBF0F8",
            "showbackground": true,
            "ticks": "",
            "zerolinecolor": "#EBF0F8"
           },
           "zaxis": {
            "backgroundcolor": "white",
            "gridcolor": "#DFE8F3",
            "gridwidth": 2,
            "linecolor": "#EBF0F8",
            "showbackground": true,
            "ticks": "",
            "zerolinecolor": "#EBF0F8"
           }
          },
          "shapedefaults": {
           "line": {
            "color": "#2a3f5f"
           }
          },
          "ternary": {
           "aaxis": {
            "gridcolor": "#DFE8F3",
            "linecolor": "#A2B1C6",
            "ticks": ""
           },
           "baxis": {
            "gridcolor": "#DFE8F3",
            "linecolor": "#A2B1C6",
            "ticks": ""
           },
           "bgcolor": "white",
           "caxis": {
            "gridcolor": "#DFE8F3",
            "linecolor": "#A2B1C6",
            "ticks": ""
           }
          },
          "title": {
           "x": 0.05
          },
          "xaxis": {
           "automargin": true,
           "gridcolor": "#EBF0F8",
           "linecolor": "#EBF0F8",
           "ticks": "",
           "title": {
            "standoff": 15
           },
           "zerolinecolor": "#EBF0F8",
           "zerolinewidth": 2
          },
          "yaxis": {
           "automargin": true,
           "gridcolor": "#EBF0F8",
           "linecolor": "#EBF0F8",
           "ticks": "",
           "title": {
            "standoff": 15
           },
           "zerolinecolor": "#EBF0F8",
           "zerolinewidth": 2
          }
         }
        },
        "title": {
         "text": "<b>10.1016/j.ijrmhm.2021.105568</b> data from Table 4, Page 1<br>uploaded by Shuang Lin"
        },
        "width": 944,
        "xaxis": {
         "anchor": "y",
         "domain": [
          0,
          1
         ],
         "title": {
          "text": "PCA1"
         }
        },
        "yaxis": {
         "anchor": "x",
         "domain": [
          0,
          1
         ],
         "title": {
          "text": "PCA2"
         }
        }
       }
      }
     },
     "metadata": {},
     "output_type": "display_data"
    },
    {
     "name": "stdout",
     "output_type": "stream",
     "text": [
      "Skipping 10.1016/j.intermet.2020.106935. 1 samples are below the minimum requirement set (minSamples=4).\n",
      "Skipping 10.1016/j.jallcom.2019.153352 Nearly 1D linear trand detected.\n",
      "Skipping 10.1016/j.jallcom.2020.153963. 1 samples are below the minimum requirement set (minSamples=4).\n",
      "Skipping 10.1016/j.jallcom.2021.158975. 1 samples are below the minimum requirement set (minSamples=4).\n",
      "Skipping 10.1016/j.jallcom.2021.159193. 1 samples are below the minimum requirement set (minSamples=4).\n",
      "------>  10.1016/j.jallcom.2021.159505 - non-linear trends detected (minRangeInDim: 0.1999>0.001)\n",
      "\n"
     ]
    },
    {
     "data": {
      "application/vnd.plotly.v1+json": {
       "config": {
        "plotlyServerURL": "https://plot.ly"
       },
       "data": [
        {
         "hovertemplate": "<b>%{hovertext}</b><br><br>Alloy Reported (Parsed Formula)=Co0.184Cr0.184Fe0.184Mn0.184Ni0.184W0.08 | W8 Cr18.4 Mn18.4 Fe18.4 Co18.4 Ni18.4 <br>PCA1=%{x}<br>PCA2=%{y}<extra></extra>",
         "hovertext": [
          "F: W0.08 Cr0.184 Mn0.184 Fe0.184 Co0.184 Ni0.184<br>PF: W8 Cr18.4 Mn18.4 Fe18.4 Co18.4 Ni18.4<br>Raw: Co0.184Cr0.184Fe0.184Mn0.184Ni0.184W0.08<br>RF: W1 Cr2.3 Mn2.3 Fe2.3 Co2.3 Ni2.3"
         ],
         "legendgroup": "Co0.184Cr0.184Fe0.184Mn0.184Ni0.184W0.08 | W8 Cr18.4 Mn18.4 Fe18.4 Co18.4 Ni18.4 ",
         "marker": {
          "color": "#2E91E5",
          "line": {
           "color": "DarkSlateGrey",
           "width": 2
          },
          "size": 12,
          "symbol": "circle"
         },
         "mode": "markers",
         "name": "Co0.184Cr0.184Fe0.184Mn0.184Ni0.184W0.08 | W8 Cr18.4 Mn18.4 Fe18.4 Co18.4 Ni18.4 ",
         "orientation": "v",
         "showlegend": true,
         "type": "scatter",
         "x": [
          0.029106153498084607
         ],
         "xaxis": "x",
         "y": [
          0.020666822272222902
         ],
         "yaxis": "y"
        },
        {
         "hovertemplate": "<b>%{hovertext}</b><br><br>Alloy Reported (Parsed Formula)=Co0.192Cr0.192Fe0.192Mn0.192Ni0.192W0.04 | W4 Cr19.2 Mn19.2 Fe19.2 Co19.2 Ni19.2 <br>PCA1=%{x}<br>PCA2=%{y}<extra></extra>",
         "hovertext": [
          "F: W0.04 Cr0.192 Mn0.192 Fe0.192 Co0.192 Ni0.192<br>PF: W4 Cr19.2 Mn19.2 Fe19.2 Co19.2 Ni19.2<br>Raw: Co0.192Cr0.192Fe0.192Mn0.192Ni0.192W0.04<br>RF: W1 Cr4.8 Mn4.8 Fe4.8 Co4.8 Ni4.8"
         ],
         "legendgroup": "Co0.192Cr0.192Fe0.192Mn0.192Ni0.192W0.04 | W4 Cr19.2 Mn19.2 Fe19.2 Co19.2 Ni19.2 ",
         "marker": {
          "color": "#E15F99",
          "line": {
           "color": "DarkSlateGrey",
           "width": 2
          },
          "size": 12,
          "symbol": "circle"
         },
         "mode": "markers",
         "name": "Co0.192Cr0.192Fe0.192Mn0.192Ni0.192W0.04 | W4 Cr19.2 Mn19.2 Fe19.2 Co19.2 Ni19.2 ",
         "orientation": "v",
         "showlegend": true,
         "type": "scatter",
         "x": [
          0.052829925747739925
         ],
         "xaxis": "x",
         "y": [
          -0.016173137421654098
         ],
         "yaxis": "y"
        },
        {
         "hovertemplate": "<b>%{hovertext}</b><br><br>Alloy Reported (Parsed Formula)=Co0.194Cr0.194Fe0.194Mn0.194Ni0.194W0.03 | W3 Cr19.4 Mn19.4 Fe19.4 Co19.4 Ni19.4 <br>PCA1=%{x}<br>PCA2=%{y}<extra></extra>",
         "hovertext": [
          "F: W0.03 Cr0.194 Mn0.194 Fe0.194 Co0.194 Ni0.194<br>PF: W3 Cr19.4 Mn19.4 Fe19.4 Co19.4 Ni19.4<br>Raw: Co0.194Cr0.194Fe0.194Mn0.194Ni0.194W0.03<br>RF: W1 Cr6.47 Mn6.47 Fe6.47 Co6.47 Ni6.47"
         ],
         "legendgroup": "Co0.194Cr0.194Fe0.194Mn0.194Ni0.194W0.03 | W3 Cr19.4 Mn19.4 Fe19.4 Co19.4 Ni19.4 ",
         "marker": {
          "color": "#1CA71C",
          "line": {
           "color": "DarkSlateGrey",
           "width": 2
          },
          "size": 12,
          "symbol": "circle"
         },
         "mode": "markers",
         "name": "Co0.194Cr0.194Fe0.194Mn0.194Ni0.194W0.03 | W3 Cr19.4 Mn19.4 Fe19.4 Co19.4 Ni19.4 ",
         "orientation": "v",
         "showlegend": true,
         "type": "scatter",
         "x": [
          0.05876086881015386
         ],
         "xaxis": "x",
         "y": [
          -0.02538312734512332
         ],
         "yaxis": "y"
        },
        {
         "hovertemplate": "<b>%{hovertext}</b><br><br>Alloy Reported (Parsed Formula)=Co0.178Cr0.178Fe0.178Mn0.178N0.178W0.11  | W11 Cr17.8 Mn17.8 Fe17.8 Co17.8 N17.8 <br>PCA1=%{x}<br>PCA2=%{y}<extra></extra>",
         "hovertext": [
          "F: W0.11 Cr0.178 Mn0.178 Fe0.178 Co0.178 N0.178<br>PF: W11 Cr17.8 Mn17.8 Fe17.8 Co17.8 N17.8<br>Raw: Co0.178Cr0.178Fe0.178Mn0.178N0.178W0.11<br>RF: W1 Cr1.62 Mn1.62 Fe1.62 Co1.62 N1.62"
         ],
         "legendgroup": "Co0.178Cr0.178Fe0.178Mn0.178N0.178W0.11  | W11 Cr17.8 Mn17.8 Fe17.8 Co17.8 N17.8 ",
         "marker": {
          "color": "#FB0D0D",
          "line": {
           "color": "DarkSlateGrey",
           "width": 2
          },
          "size": 12,
          "symbol": "circle"
         },
         "mode": "markers",
         "name": "Co0.178Cr0.178Fe0.178Mn0.178N0.178W0.11  | W11 Cr17.8 Mn17.8 Fe17.8 Co17.8 N17.8 ",
         "orientation": "v",
         "showlegend": true,
         "type": "scatter",
         "x": [
          -0.21615352242540464
         ],
         "xaxis": "x",
         "y": [
          -0.05953100416905295
         ],
         "yaxis": "y"
        },
        {
         "hovertemplate": "<b>%{hovertext}</b><br><br>Alloy Reported (Parsed Formula)=Co0.19Cr0.19Fe0.19Mn0.19Ni0.19W0.05      | W5 Cr19 Mn19 Fe19 Co19 Ni19           <br>PCA1=%{x}<br>PCA2=%{y}<extra></extra>",
         "hovertext": [
          "F: W0.05 Cr0.19 Mn0.19 Fe0.19 Co0.19 Ni0.19<br>PF: W5 Cr19 Mn19 Fe19 Co19 Ni19<br>Raw: Co0.19Cr0.19Fe0.19Mn0.19Ni0.19W0.05<br>RF: W1 Cr3.8 Mn3.8 Fe3.8 Co3.8 Ni3.8"
         ],
         "legendgroup": "Co0.19Cr0.19Fe0.19Mn0.19Ni0.19W0.05      | W5 Cr19 Mn19 Fe19 Co19 Ni19           ",
         "marker": {
          "color": "#DA16FF",
          "line": {
           "color": "DarkSlateGrey",
           "width": 2
          },
          "size": 12,
          "symbol": "circle"
         },
         "mode": "markers",
         "name": "Co0.19Cr0.19Fe0.19Mn0.19Ni0.19W0.05      | W5 Cr19 Mn19 Fe19 Co19 Ni19           ",
         "orientation": "v",
         "showlegend": true,
         "type": "scatter",
         "x": [
          0.04689898268532617
         ],
         "xaxis": "x",
         "y": [
          -0.00696314749818482
         ],
         "yaxis": "y"
        },
        {
         "hovertemplate": "<b>%{hovertext}</b><br><br>Alloy Reported (Parsed Formula)=Co0.158Cr0.158Fe0.158Mn0.158Ni0.158W0.21 | W21 Cr15.8 Mn15.8 Fe15.8 Co15.8 Ni15.8<br>PCA1=%{x}<br>PCA2=%{y}<extra></extra>",
         "hovertext": [
          "F: W0.21 Cr0.158 Mn0.158 Fe0.158 Co0.158 Ni0.158<br>PF: W21 Cr15.8 Mn15.8 Fe15.8 Co15.8 Ni15.8<br>Raw: Co0.158Cr0.158Fe0.158Mn0.158Ni0.158W0.21<br>RF: W1.33 Cr1 Mn1 Fe1 Co1 Ni1"
         ],
         "legendgroup": "Co0.158Cr0.158Fe0.158Mn0.158Ni0.158W0.21 | W21 Cr15.8 Mn15.8 Fe15.8 Co15.8 Ni15.8",
         "marker": {
          "color": "#222A2A",
          "line": {
           "color": "DarkSlateGrey",
           "width": 2
          },
          "size": 12,
          "symbol": "circle"
         },
         "mode": "markers",
         "name": "Co0.158Cr0.158Fe0.158Mn0.158Ni0.158W0.21 | W21 Cr15.8 Mn15.8 Fe15.8 Co15.8 Ni15.8",
         "orientation": "v",
         "showlegend": true,
         "type": "scatter",
         "x": [
          -0.04799610631329536
         ],
         "xaxis": "x",
         "y": [
          0.14039669127732313
         ],
         "yaxis": "y"
        },
        {
         "hovertemplate": "<b>%{hovertext}</b><br><br>Alloy Reported (Parsed Formula)=CoCrFeMnNi                               | Cr20 Mn20 Fe20 Co20 Ni20              <br>PCA1=%{x}<br>PCA2=%{y}<extra></extra>",
         "hovertext": [
          "F: Cr1 Mn1 Fe1 Co1 Ni1<br>PF: Cr20 Mn20 Fe20 Co20 Ni20<br>Raw: CoCrFeMnNi<br>RF: Cr1 Mn1 Fe1 Co1 Ni1"
         ],
         "legendgroup": "CoCrFeMnNi                               | Cr20 Mn20 Fe20 Co20 Ni20              ",
         "marker": {
          "color": "#B68100",
          "line": {
           "color": "DarkSlateGrey",
           "width": 2
          },
          "size": 12,
          "symbol": "circle"
         },
         "mode": "markers",
         "name": "CoCrFeMnNi                               | Cr20 Mn20 Fe20 Co20 Ni20              ",
         "orientation": "v",
         "showlegend": true,
         "type": "scatter",
         "x": [
          0.0765536979973954
         ],
         "xaxis": "x",
         "y": [
          -0.05301309711553106
         ],
         "yaxis": "y"
        }
       ],
       "layout": {
        "font": {
         "family": "Consolas, monospace"
        },
        "height": 400,
        "legend": {
         "title": {
          "text": "Alloy Reported (Parsed Formula)"
         },
         "tracegroupgap": 0
        },
        "template": {
         "data": {
          "bar": [
           {
            "error_x": {
             "color": "#2a3f5f"
            },
            "error_y": {
             "color": "#2a3f5f"
            },
            "marker": {
             "line": {
              "color": "white",
              "width": 0.5
             },
             "pattern": {
              "fillmode": "overlay",
              "size": 10,
              "solidity": 0.2
             }
            },
            "type": "bar"
           }
          ],
          "barpolar": [
           {
            "marker": {
             "line": {
              "color": "white",
              "width": 0.5
             },
             "pattern": {
              "fillmode": "overlay",
              "size": 10,
              "solidity": 0.2
             }
            },
            "type": "barpolar"
           }
          ],
          "carpet": [
           {
            "aaxis": {
             "endlinecolor": "#2a3f5f",
             "gridcolor": "#C8D4E3",
             "linecolor": "#C8D4E3",
             "minorgridcolor": "#C8D4E3",
             "startlinecolor": "#2a3f5f"
            },
            "baxis": {
             "endlinecolor": "#2a3f5f",
             "gridcolor": "#C8D4E3",
             "linecolor": "#C8D4E3",
             "minorgridcolor": "#C8D4E3",
             "startlinecolor": "#2a3f5f"
            },
            "type": "carpet"
           }
          ],
          "choropleth": [
           {
            "colorbar": {
             "outlinewidth": 0,
             "ticks": ""
            },
            "type": "choropleth"
           }
          ],
          "contour": [
           {
            "colorbar": {
             "outlinewidth": 0,
             "ticks": ""
            },
            "colorscale": [
             [
              0,
              "#0d0887"
             ],
             [
              0.1111111111111111,
              "#46039f"
             ],
             [
              0.2222222222222222,
              "#7201a8"
             ],
             [
              0.3333333333333333,
              "#9c179e"
             ],
             [
              0.4444444444444444,
              "#bd3786"
             ],
             [
              0.5555555555555556,
              "#d8576b"
             ],
             [
              0.6666666666666666,
              "#ed7953"
             ],
             [
              0.7777777777777778,
              "#fb9f3a"
             ],
             [
              0.8888888888888888,
              "#fdca26"
             ],
             [
              1,
              "#f0f921"
             ]
            ],
            "type": "contour"
           }
          ],
          "contourcarpet": [
           {
            "colorbar": {
             "outlinewidth": 0,
             "ticks": ""
            },
            "type": "contourcarpet"
           }
          ],
          "heatmap": [
           {
            "colorbar": {
             "outlinewidth": 0,
             "ticks": ""
            },
            "colorscale": [
             [
              0,
              "#0d0887"
             ],
             [
              0.1111111111111111,
              "#46039f"
             ],
             [
              0.2222222222222222,
              "#7201a8"
             ],
             [
              0.3333333333333333,
              "#9c179e"
             ],
             [
              0.4444444444444444,
              "#bd3786"
             ],
             [
              0.5555555555555556,
              "#d8576b"
             ],
             [
              0.6666666666666666,
              "#ed7953"
             ],
             [
              0.7777777777777778,
              "#fb9f3a"
             ],
             [
              0.8888888888888888,
              "#fdca26"
             ],
             [
              1,
              "#f0f921"
             ]
            ],
            "type": "heatmap"
           }
          ],
          "heatmapgl": [
           {
            "colorbar": {
             "outlinewidth": 0,
             "ticks": ""
            },
            "colorscale": [
             [
              0,
              "#0d0887"
             ],
             [
              0.1111111111111111,
              "#46039f"
             ],
             [
              0.2222222222222222,
              "#7201a8"
             ],
             [
              0.3333333333333333,
              "#9c179e"
             ],
             [
              0.4444444444444444,
              "#bd3786"
             ],
             [
              0.5555555555555556,
              "#d8576b"
             ],
             [
              0.6666666666666666,
              "#ed7953"
             ],
             [
              0.7777777777777778,
              "#fb9f3a"
             ],
             [
              0.8888888888888888,
              "#fdca26"
             ],
             [
              1,
              "#f0f921"
             ]
            ],
            "type": "heatmapgl"
           }
          ],
          "histogram": [
           {
            "marker": {
             "pattern": {
              "fillmode": "overlay",
              "size": 10,
              "solidity": 0.2
             }
            },
            "type": "histogram"
           }
          ],
          "histogram2d": [
           {
            "colorbar": {
             "outlinewidth": 0,
             "ticks": ""
            },
            "colorscale": [
             [
              0,
              "#0d0887"
             ],
             [
              0.1111111111111111,
              "#46039f"
             ],
             [
              0.2222222222222222,
              "#7201a8"
             ],
             [
              0.3333333333333333,
              "#9c179e"
             ],
             [
              0.4444444444444444,
              "#bd3786"
             ],
             [
              0.5555555555555556,
              "#d8576b"
             ],
             [
              0.6666666666666666,
              "#ed7953"
             ],
             [
              0.7777777777777778,
              "#fb9f3a"
             ],
             [
              0.8888888888888888,
              "#fdca26"
             ],
             [
              1,
              "#f0f921"
             ]
            ],
            "type": "histogram2d"
           }
          ],
          "histogram2dcontour": [
           {
            "colorbar": {
             "outlinewidth": 0,
             "ticks": ""
            },
            "colorscale": [
             [
              0,
              "#0d0887"
             ],
             [
              0.1111111111111111,
              "#46039f"
             ],
             [
              0.2222222222222222,
              "#7201a8"
             ],
             [
              0.3333333333333333,
              "#9c179e"
             ],
             [
              0.4444444444444444,
              "#bd3786"
             ],
             [
              0.5555555555555556,
              "#d8576b"
             ],
             [
              0.6666666666666666,
              "#ed7953"
             ],
             [
              0.7777777777777778,
              "#fb9f3a"
             ],
             [
              0.8888888888888888,
              "#fdca26"
             ],
             [
              1,
              "#f0f921"
             ]
            ],
            "type": "histogram2dcontour"
           }
          ],
          "mesh3d": [
           {
            "colorbar": {
             "outlinewidth": 0,
             "ticks": ""
            },
            "type": "mesh3d"
           }
          ],
          "parcoords": [
           {
            "line": {
             "colorbar": {
              "outlinewidth": 0,
              "ticks": ""
             }
            },
            "type": "parcoords"
           }
          ],
          "pie": [
           {
            "automargin": true,
            "type": "pie"
           }
          ],
          "scatter": [
           {
            "fillpattern": {
             "fillmode": "overlay",
             "size": 10,
             "solidity": 0.2
            },
            "type": "scatter"
           }
          ],
          "scatter3d": [
           {
            "line": {
             "colorbar": {
              "outlinewidth": 0,
              "ticks": ""
             }
            },
            "marker": {
             "colorbar": {
              "outlinewidth": 0,
              "ticks": ""
             }
            },
            "type": "scatter3d"
           }
          ],
          "scattercarpet": [
           {
            "marker": {
             "colorbar": {
              "outlinewidth": 0,
              "ticks": ""
             }
            },
            "type": "scattercarpet"
           }
          ],
          "scattergeo": [
           {
            "marker": {
             "colorbar": {
              "outlinewidth": 0,
              "ticks": ""
             }
            },
            "type": "scattergeo"
           }
          ],
          "scattergl": [
           {
            "marker": {
             "colorbar": {
              "outlinewidth": 0,
              "ticks": ""
             }
            },
            "type": "scattergl"
           }
          ],
          "scattermapbox": [
           {
            "marker": {
             "colorbar": {
              "outlinewidth": 0,
              "ticks": ""
             }
            },
            "type": "scattermapbox"
           }
          ],
          "scatterpolar": [
           {
            "marker": {
             "colorbar": {
              "outlinewidth": 0,
              "ticks": ""
             }
            },
            "type": "scatterpolar"
           }
          ],
          "scatterpolargl": [
           {
            "marker": {
             "colorbar": {
              "outlinewidth": 0,
              "ticks": ""
             }
            },
            "type": "scatterpolargl"
           }
          ],
          "scatterternary": [
           {
            "marker": {
             "colorbar": {
              "outlinewidth": 0,
              "ticks": ""
             }
            },
            "type": "scatterternary"
           }
          ],
          "surface": [
           {
            "colorbar": {
             "outlinewidth": 0,
             "ticks": ""
            },
            "colorscale": [
             [
              0,
              "#0d0887"
             ],
             [
              0.1111111111111111,
              "#46039f"
             ],
             [
              0.2222222222222222,
              "#7201a8"
             ],
             [
              0.3333333333333333,
              "#9c179e"
             ],
             [
              0.4444444444444444,
              "#bd3786"
             ],
             [
              0.5555555555555556,
              "#d8576b"
             ],
             [
              0.6666666666666666,
              "#ed7953"
             ],
             [
              0.7777777777777778,
              "#fb9f3a"
             ],
             [
              0.8888888888888888,
              "#fdca26"
             ],
             [
              1,
              "#f0f921"
             ]
            ],
            "type": "surface"
           }
          ],
          "table": [
           {
            "cells": {
             "fill": {
              "color": "#EBF0F8"
             },
             "line": {
              "color": "white"
             }
            },
            "header": {
             "fill": {
              "color": "#C8D4E3"
             },
             "line": {
              "color": "white"
             }
            },
            "type": "table"
           }
          ]
         },
         "layout": {
          "annotationdefaults": {
           "arrowcolor": "#2a3f5f",
           "arrowhead": 0,
           "arrowwidth": 1
          },
          "autotypenumbers": "strict",
          "coloraxis": {
           "colorbar": {
            "outlinewidth": 0,
            "ticks": ""
           }
          },
          "colorscale": {
           "diverging": [
            [
             0,
             "#8e0152"
            ],
            [
             0.1,
             "#c51b7d"
            ],
            [
             0.2,
             "#de77ae"
            ],
            [
             0.3,
             "#f1b6da"
            ],
            [
             0.4,
             "#fde0ef"
            ],
            [
             0.5,
             "#f7f7f7"
            ],
            [
             0.6,
             "#e6f5d0"
            ],
            [
             0.7,
             "#b8e186"
            ],
            [
             0.8,
             "#7fbc41"
            ],
            [
             0.9,
             "#4d9221"
            ],
            [
             1,
             "#276419"
            ]
           ],
           "sequential": [
            [
             0,
             "#0d0887"
            ],
            [
             0.1111111111111111,
             "#46039f"
            ],
            [
             0.2222222222222222,
             "#7201a8"
            ],
            [
             0.3333333333333333,
             "#9c179e"
            ],
            [
             0.4444444444444444,
             "#bd3786"
            ],
            [
             0.5555555555555556,
             "#d8576b"
            ],
            [
             0.6666666666666666,
             "#ed7953"
            ],
            [
             0.7777777777777778,
             "#fb9f3a"
            ],
            [
             0.8888888888888888,
             "#fdca26"
            ],
            [
             1,
             "#f0f921"
            ]
           ],
           "sequentialminus": [
            [
             0,
             "#0d0887"
            ],
            [
             0.1111111111111111,
             "#46039f"
            ],
            [
             0.2222222222222222,
             "#7201a8"
            ],
            [
             0.3333333333333333,
             "#9c179e"
            ],
            [
             0.4444444444444444,
             "#bd3786"
            ],
            [
             0.5555555555555556,
             "#d8576b"
            ],
            [
             0.6666666666666666,
             "#ed7953"
            ],
            [
             0.7777777777777778,
             "#fb9f3a"
            ],
            [
             0.8888888888888888,
             "#fdca26"
            ],
            [
             1,
             "#f0f921"
            ]
           ]
          },
          "colorway": [
           "#636efa",
           "#EF553B",
           "#00cc96",
           "#ab63fa",
           "#FFA15A",
           "#19d3f3",
           "#FF6692",
           "#B6E880",
           "#FF97FF",
           "#FECB52"
          ],
          "font": {
           "color": "#2a3f5f"
          },
          "geo": {
           "bgcolor": "white",
           "lakecolor": "white",
           "landcolor": "white",
           "showlakes": true,
           "showland": true,
           "subunitcolor": "#C8D4E3"
          },
          "hoverlabel": {
           "align": "left"
          },
          "hovermode": "closest",
          "mapbox": {
           "style": "light"
          },
          "paper_bgcolor": "white",
          "plot_bgcolor": "white",
          "polar": {
           "angularaxis": {
            "gridcolor": "#EBF0F8",
            "linecolor": "#EBF0F8",
            "ticks": ""
           },
           "bgcolor": "white",
           "radialaxis": {
            "gridcolor": "#EBF0F8",
            "linecolor": "#EBF0F8",
            "ticks": ""
           }
          },
          "scene": {
           "xaxis": {
            "backgroundcolor": "white",
            "gridcolor": "#DFE8F3",
            "gridwidth": 2,
            "linecolor": "#EBF0F8",
            "showbackground": true,
            "ticks": "",
            "zerolinecolor": "#EBF0F8"
           },
           "yaxis": {
            "backgroundcolor": "white",
            "gridcolor": "#DFE8F3",
            "gridwidth": 2,
            "linecolor": "#EBF0F8",
            "showbackground": true,
            "ticks": "",
            "zerolinecolor": "#EBF0F8"
           },
           "zaxis": {
            "backgroundcolor": "white",
            "gridcolor": "#DFE8F3",
            "gridwidth": 2,
            "linecolor": "#EBF0F8",
            "showbackground": true,
            "ticks": "",
            "zerolinecolor": "#EBF0F8"
           }
          },
          "shapedefaults": {
           "line": {
            "color": "#2a3f5f"
           }
          },
          "ternary": {
           "aaxis": {
            "gridcolor": "#DFE8F3",
            "linecolor": "#A2B1C6",
            "ticks": ""
           },
           "baxis": {
            "gridcolor": "#DFE8F3",
            "linecolor": "#A2B1C6",
            "ticks": ""
           },
           "bgcolor": "white",
           "caxis": {
            "gridcolor": "#DFE8F3",
            "linecolor": "#A2B1C6",
            "ticks": ""
           }
          },
          "title": {
           "x": 0.05
          },
          "xaxis": {
           "automargin": true,
           "gridcolor": "#EBF0F8",
           "linecolor": "#EBF0F8",
           "ticks": "",
           "title": {
            "standoff": 15
           },
           "zerolinecolor": "#EBF0F8",
           "zerolinewidth": 2
          },
          "yaxis": {
           "automargin": true,
           "gridcolor": "#EBF0F8",
           "linecolor": "#EBF0F8",
           "ticks": "",
           "title": {
            "standoff": 15
           },
           "zerolinecolor": "#EBF0F8",
           "zerolinewidth": 2
          }
         }
        },
        "title": {
         "text": "<b>10.1016/j.jallcom.2021.159505</b> data from Fig 4<br>uploaded by Shuang Lin"
        },
        "width": 1261,
        "xaxis": {
         "anchor": "y",
         "domain": [
          0,
          1
         ],
         "title": {
          "text": "PCA1"
         }
        },
        "yaxis": {
         "anchor": "x",
         "domain": [
          0,
          1
         ],
         "title": {
          "text": "PCA2"
         }
        }
       }
      }
     },
     "metadata": {},
     "output_type": "display_data"
    },
    {
     "name": "stdout",
     "output_type": "stream",
     "text": [
      "------>  10.1016/j.jallcom.2021.159740 - non-linear trends detected (minRangeInDim: 0.0087>0.001)\n",
      "\n"
     ]
    },
    {
     "data": {
      "application/vnd.plotly.v1+json": {
       "config": {
        "plotlyServerURL": "https://plot.ly"
       },
       "data": [
        {
         "hovertemplate": "<b>%{hovertext}</b><br><br>Alloy Reported (Parsed Formula)=Nb0.28Ta0.28W0.29Mo0.15    | Ta28 Nb28 W29 Mo15     <br>PCA1=%{x}<br>PCA2=%{y}<extra></extra>",
         "hovertext": [
          "F: Ta0.28 Nb0.28 W0.29 Mo0.15<br>PF: Ta28 Nb28 W29 Mo15<br>Raw: Nb0.28Ta0.28W0.29Mo0.15<br>RF: Ta1.87 Nb1.87 W1.93 Mo1"
         ],
         "legendgroup": "Nb0.28Ta0.28W0.29Mo0.15    | Ta28 Nb28 W29 Mo15     ",
         "marker": {
          "color": "#2E91E5",
          "line": {
           "color": "DarkSlateGrey",
           "width": 2
          },
          "size": 12,
          "symbol": "circle"
         },
         "mode": "markers",
         "name": "Nb0.28Ta0.28W0.29Mo0.15    | Ta28 Nb28 W29 Mo15     ",
         "orientation": "v",
         "showlegend": true,
         "type": "scatter",
         "x": [
          0.043328195742614616
         ],
         "xaxis": "x",
         "y": [
          0.005507641996020841
         ],
         "yaxis": "y"
        },
        {
         "hovertemplate": "<b>%{hovertext}</b><br><br>Alloy Reported (Parsed Formula)=NbTaW                      | Ta33.3 Nb33.3 W33.3    <br>PCA1=%{x}<br>PCA2=%{y}<extra></extra>",
         "hovertext": [
          "F: Ta1 Nb1 W1<br>PF: Ta33.3 Nb33.3 W33.3<br>Raw: NbTaW<br>RF: Ta1 Nb1 W1"
         ],
         "legendgroup": "NbTaW                      | Ta33.3 Nb33.3 W33.3    ",
         "marker": {
          "color": "#E15F99",
          "line": {
           "color": "DarkSlateGrey",
           "width": 2
          },
          "size": 12,
          "symbol": "circle"
         },
         "mode": "markers",
         "name": "NbTaW                      | Ta33.3 Nb33.3 W33.3    ",
         "orientation": "v",
         "showlegend": true,
         "type": "scatter",
         "x": [
          -0.12991406833616892
         ],
         "xaxis": "x",
         "y": [
          -0.0018261567143101206
         ],
         "yaxis": "y"
        },
        {
         "hovertemplate": "<b>%{hovertext}</b><br><br>Alloy Reported (Parsed Formula)=Nb0.25Ta0.25W0.25Mo0.25    | Ta25 Nb25 W25 Mo25     <br>PCA1=%{x}<br>PCA2=%{y}<extra></extra>",
         "hovertext": [
          "F: Ta0.25 Nb0.25 W0.25 Mo0.25<br>PF: Ta25 Nb25 W25 Mo25<br>Raw: Nb0.25Ta0.25W0.25Mo0.25<br>RF: Ta1 Nb1 W1 Mo1"
         ],
         "legendgroup": "Nb0.25Ta0.25W0.25Mo0.25    | Ta25 Nb25 W25 Mo25     ",
         "marker": {
          "color": "#1CA71C",
          "line": {
           "color": "DarkSlateGrey",
           "width": 2
          },
          "size": 12,
          "symbol": "circle"
         },
         "mode": "markers",
         "name": "Nb0.25Ta0.25W0.25Mo0.25    | Ta25 Nb25 W25 Mo25     ",
         "orientation": "v",
         "showlegend": true,
         "type": "scatter",
         "x": [
          0.15875774319173422
         ],
         "xaxis": "x",
         "y": [
          -0.003211278561677468
         ],
         "yaxis": "y"
        },
        {
         "hovertemplate": "<b>%{hovertext}</b><br><br>Alloy Reported (Parsed Formula)=Nb0.316Ta0.316W0.318Mo0.05 | Ta31.6 Nb31.6 W31.8 Mo5<br>PCA1=%{x}<br>PCA2=%{y}<extra></extra>",
         "hovertext": [
          "F: Ta0.316 Nb0.316 W0.318 Mo0.05<br>PF: Ta31.6 Nb31.6 W31.8 Mo5<br>Raw: Nb0.316Ta0.316W0.318Mo0.05<br>RF: Ta6.32 Nb6.32 W6.36 Mo1"
         ],
         "legendgroup": "Nb0.316Ta0.316W0.318Mo0.05 | Ta31.6 Nb31.6 W31.8 Mo5",
         "marker": {
          "color": "#FB0D0D",
          "line": {
           "color": "DarkSlateGrey",
           "width": 2
          },
          "size": 12,
          "symbol": "circle"
         },
         "mode": "markers",
         "name": "Nb0.316Ta0.316W0.318Mo0.05 | Ta31.6 Nb31.6 W31.8 Mo5",
         "orientation": "v",
         "showlegend": true,
         "type": "scatter",
         "x": [
          -0.07217187059817996
         ],
         "xaxis": "x",
         "y": [
          -0.0004702067200333065
         ],
         "yaxis": "y"
        }
       ],
       "layout": {
        "font": {
         "family": "Consolas, monospace"
        },
        "height": 400,
        "legend": {
         "title": {
          "text": "Alloy Reported (Parsed Formula)"
         },
         "tracegroupgap": 0
        },
        "template": {
         "data": {
          "bar": [
           {
            "error_x": {
             "color": "#2a3f5f"
            },
            "error_y": {
             "color": "#2a3f5f"
            },
            "marker": {
             "line": {
              "color": "white",
              "width": 0.5
             },
             "pattern": {
              "fillmode": "overlay",
              "size": 10,
              "solidity": 0.2
             }
            },
            "type": "bar"
           }
          ],
          "barpolar": [
           {
            "marker": {
             "line": {
              "color": "white",
              "width": 0.5
             },
             "pattern": {
              "fillmode": "overlay",
              "size": 10,
              "solidity": 0.2
             }
            },
            "type": "barpolar"
           }
          ],
          "carpet": [
           {
            "aaxis": {
             "endlinecolor": "#2a3f5f",
             "gridcolor": "#C8D4E3",
             "linecolor": "#C8D4E3",
             "minorgridcolor": "#C8D4E3",
             "startlinecolor": "#2a3f5f"
            },
            "baxis": {
             "endlinecolor": "#2a3f5f",
             "gridcolor": "#C8D4E3",
             "linecolor": "#C8D4E3",
             "minorgridcolor": "#C8D4E3",
             "startlinecolor": "#2a3f5f"
            },
            "type": "carpet"
           }
          ],
          "choropleth": [
           {
            "colorbar": {
             "outlinewidth": 0,
             "ticks": ""
            },
            "type": "choropleth"
           }
          ],
          "contour": [
           {
            "colorbar": {
             "outlinewidth": 0,
             "ticks": ""
            },
            "colorscale": [
             [
              0,
              "#0d0887"
             ],
             [
              0.1111111111111111,
              "#46039f"
             ],
             [
              0.2222222222222222,
              "#7201a8"
             ],
             [
              0.3333333333333333,
              "#9c179e"
             ],
             [
              0.4444444444444444,
              "#bd3786"
             ],
             [
              0.5555555555555556,
              "#d8576b"
             ],
             [
              0.6666666666666666,
              "#ed7953"
             ],
             [
              0.7777777777777778,
              "#fb9f3a"
             ],
             [
              0.8888888888888888,
              "#fdca26"
             ],
             [
              1,
              "#f0f921"
             ]
            ],
            "type": "contour"
           }
          ],
          "contourcarpet": [
           {
            "colorbar": {
             "outlinewidth": 0,
             "ticks": ""
            },
            "type": "contourcarpet"
           }
          ],
          "heatmap": [
           {
            "colorbar": {
             "outlinewidth": 0,
             "ticks": ""
            },
            "colorscale": [
             [
              0,
              "#0d0887"
             ],
             [
              0.1111111111111111,
              "#46039f"
             ],
             [
              0.2222222222222222,
              "#7201a8"
             ],
             [
              0.3333333333333333,
              "#9c179e"
             ],
             [
              0.4444444444444444,
              "#bd3786"
             ],
             [
              0.5555555555555556,
              "#d8576b"
             ],
             [
              0.6666666666666666,
              "#ed7953"
             ],
             [
              0.7777777777777778,
              "#fb9f3a"
             ],
             [
              0.8888888888888888,
              "#fdca26"
             ],
             [
              1,
              "#f0f921"
             ]
            ],
            "type": "heatmap"
           }
          ],
          "heatmapgl": [
           {
            "colorbar": {
             "outlinewidth": 0,
             "ticks": ""
            },
            "colorscale": [
             [
              0,
              "#0d0887"
             ],
             [
              0.1111111111111111,
              "#46039f"
             ],
             [
              0.2222222222222222,
              "#7201a8"
             ],
             [
              0.3333333333333333,
              "#9c179e"
             ],
             [
              0.4444444444444444,
              "#bd3786"
             ],
             [
              0.5555555555555556,
              "#d8576b"
             ],
             [
              0.6666666666666666,
              "#ed7953"
             ],
             [
              0.7777777777777778,
              "#fb9f3a"
             ],
             [
              0.8888888888888888,
              "#fdca26"
             ],
             [
              1,
              "#f0f921"
             ]
            ],
            "type": "heatmapgl"
           }
          ],
          "histogram": [
           {
            "marker": {
             "pattern": {
              "fillmode": "overlay",
              "size": 10,
              "solidity": 0.2
             }
            },
            "type": "histogram"
           }
          ],
          "histogram2d": [
           {
            "colorbar": {
             "outlinewidth": 0,
             "ticks": ""
            },
            "colorscale": [
             [
              0,
              "#0d0887"
             ],
             [
              0.1111111111111111,
              "#46039f"
             ],
             [
              0.2222222222222222,
              "#7201a8"
             ],
             [
              0.3333333333333333,
              "#9c179e"
             ],
             [
              0.4444444444444444,
              "#bd3786"
             ],
             [
              0.5555555555555556,
              "#d8576b"
             ],
             [
              0.6666666666666666,
              "#ed7953"
             ],
             [
              0.7777777777777778,
              "#fb9f3a"
             ],
             [
              0.8888888888888888,
              "#fdca26"
             ],
             [
              1,
              "#f0f921"
             ]
            ],
            "type": "histogram2d"
           }
          ],
          "histogram2dcontour": [
           {
            "colorbar": {
             "outlinewidth": 0,
             "ticks": ""
            },
            "colorscale": [
             [
              0,
              "#0d0887"
             ],
             [
              0.1111111111111111,
              "#46039f"
             ],
             [
              0.2222222222222222,
              "#7201a8"
             ],
             [
              0.3333333333333333,
              "#9c179e"
             ],
             [
              0.4444444444444444,
              "#bd3786"
             ],
             [
              0.5555555555555556,
              "#d8576b"
             ],
             [
              0.6666666666666666,
              "#ed7953"
             ],
             [
              0.7777777777777778,
              "#fb9f3a"
             ],
             [
              0.8888888888888888,
              "#fdca26"
             ],
             [
              1,
              "#f0f921"
             ]
            ],
            "type": "histogram2dcontour"
           }
          ],
          "mesh3d": [
           {
            "colorbar": {
             "outlinewidth": 0,
             "ticks": ""
            },
            "type": "mesh3d"
           }
          ],
          "parcoords": [
           {
            "line": {
             "colorbar": {
              "outlinewidth": 0,
              "ticks": ""
             }
            },
            "type": "parcoords"
           }
          ],
          "pie": [
           {
            "automargin": true,
            "type": "pie"
           }
          ],
          "scatter": [
           {
            "fillpattern": {
             "fillmode": "overlay",
             "size": 10,
             "solidity": 0.2
            },
            "type": "scatter"
           }
          ],
          "scatter3d": [
           {
            "line": {
             "colorbar": {
              "outlinewidth": 0,
              "ticks": ""
             }
            },
            "marker": {
             "colorbar": {
              "outlinewidth": 0,
              "ticks": ""
             }
            },
            "type": "scatter3d"
           }
          ],
          "scattercarpet": [
           {
            "marker": {
             "colorbar": {
              "outlinewidth": 0,
              "ticks": ""
             }
            },
            "type": "scattercarpet"
           }
          ],
          "scattergeo": [
           {
            "marker": {
             "colorbar": {
              "outlinewidth": 0,
              "ticks": ""
             }
            },
            "type": "scattergeo"
           }
          ],
          "scattergl": [
           {
            "marker": {
             "colorbar": {
              "outlinewidth": 0,
              "ticks": ""
             }
            },
            "type": "scattergl"
           }
          ],
          "scattermapbox": [
           {
            "marker": {
             "colorbar": {
              "outlinewidth": 0,
              "ticks": ""
             }
            },
            "type": "scattermapbox"
           }
          ],
          "scatterpolar": [
           {
            "marker": {
             "colorbar": {
              "outlinewidth": 0,
              "ticks": ""
             }
            },
            "type": "scatterpolar"
           }
          ],
          "scatterpolargl": [
           {
            "marker": {
             "colorbar": {
              "outlinewidth": 0,
              "ticks": ""
             }
            },
            "type": "scatterpolargl"
           }
          ],
          "scatterternary": [
           {
            "marker": {
             "colorbar": {
              "outlinewidth": 0,
              "ticks": ""
             }
            },
            "type": "scatterternary"
           }
          ],
          "surface": [
           {
            "colorbar": {
             "outlinewidth": 0,
             "ticks": ""
            },
            "colorscale": [
             [
              0,
              "#0d0887"
             ],
             [
              0.1111111111111111,
              "#46039f"
             ],
             [
              0.2222222222222222,
              "#7201a8"
             ],
             [
              0.3333333333333333,
              "#9c179e"
             ],
             [
              0.4444444444444444,
              "#bd3786"
             ],
             [
              0.5555555555555556,
              "#d8576b"
             ],
             [
              0.6666666666666666,
              "#ed7953"
             ],
             [
              0.7777777777777778,
              "#fb9f3a"
             ],
             [
              0.8888888888888888,
              "#fdca26"
             ],
             [
              1,
              "#f0f921"
             ]
            ],
            "type": "surface"
           }
          ],
          "table": [
           {
            "cells": {
             "fill": {
              "color": "#EBF0F8"
             },
             "line": {
              "color": "white"
             }
            },
            "header": {
             "fill": {
              "color": "#C8D4E3"
             },
             "line": {
              "color": "white"
             }
            },
            "type": "table"
           }
          ]
         },
         "layout": {
          "annotationdefaults": {
           "arrowcolor": "#2a3f5f",
           "arrowhead": 0,
           "arrowwidth": 1
          },
          "autotypenumbers": "strict",
          "coloraxis": {
           "colorbar": {
            "outlinewidth": 0,
            "ticks": ""
           }
          },
          "colorscale": {
           "diverging": [
            [
             0,
             "#8e0152"
            ],
            [
             0.1,
             "#c51b7d"
            ],
            [
             0.2,
             "#de77ae"
            ],
            [
             0.3,
             "#f1b6da"
            ],
            [
             0.4,
             "#fde0ef"
            ],
            [
             0.5,
             "#f7f7f7"
            ],
            [
             0.6,
             "#e6f5d0"
            ],
            [
             0.7,
             "#b8e186"
            ],
            [
             0.8,
             "#7fbc41"
            ],
            [
             0.9,
             "#4d9221"
            ],
            [
             1,
             "#276419"
            ]
           ],
           "sequential": [
            [
             0,
             "#0d0887"
            ],
            [
             0.1111111111111111,
             "#46039f"
            ],
            [
             0.2222222222222222,
             "#7201a8"
            ],
            [
             0.3333333333333333,
             "#9c179e"
            ],
            [
             0.4444444444444444,
             "#bd3786"
            ],
            [
             0.5555555555555556,
             "#d8576b"
            ],
            [
             0.6666666666666666,
             "#ed7953"
            ],
            [
             0.7777777777777778,
             "#fb9f3a"
            ],
            [
             0.8888888888888888,
             "#fdca26"
            ],
            [
             1,
             "#f0f921"
            ]
           ],
           "sequentialminus": [
            [
             0,
             "#0d0887"
            ],
            [
             0.1111111111111111,
             "#46039f"
            ],
            [
             0.2222222222222222,
             "#7201a8"
            ],
            [
             0.3333333333333333,
             "#9c179e"
            ],
            [
             0.4444444444444444,
             "#bd3786"
            ],
            [
             0.5555555555555556,
             "#d8576b"
            ],
            [
             0.6666666666666666,
             "#ed7953"
            ],
            [
             0.7777777777777778,
             "#fb9f3a"
            ],
            [
             0.8888888888888888,
             "#fdca26"
            ],
            [
             1,
             "#f0f921"
            ]
           ]
          },
          "colorway": [
           "#636efa",
           "#EF553B",
           "#00cc96",
           "#ab63fa",
           "#FFA15A",
           "#19d3f3",
           "#FF6692",
           "#B6E880",
           "#FF97FF",
           "#FECB52"
          ],
          "font": {
           "color": "#2a3f5f"
          },
          "geo": {
           "bgcolor": "white",
           "lakecolor": "white",
           "landcolor": "white",
           "showlakes": true,
           "showland": true,
           "subunitcolor": "#C8D4E3"
          },
          "hoverlabel": {
           "align": "left"
          },
          "hovermode": "closest",
          "mapbox": {
           "style": "light"
          },
          "paper_bgcolor": "white",
          "plot_bgcolor": "white",
          "polar": {
           "angularaxis": {
            "gridcolor": "#EBF0F8",
            "linecolor": "#EBF0F8",
            "ticks": ""
           },
           "bgcolor": "white",
           "radialaxis": {
            "gridcolor": "#EBF0F8",
            "linecolor": "#EBF0F8",
            "ticks": ""
           }
          },
          "scene": {
           "xaxis": {
            "backgroundcolor": "white",
            "gridcolor": "#DFE8F3",
            "gridwidth": 2,
            "linecolor": "#EBF0F8",
            "showbackground": true,
            "ticks": "",
            "zerolinecolor": "#EBF0F8"
           },
           "yaxis": {
            "backgroundcolor": "white",
            "gridcolor": "#DFE8F3",
            "gridwidth": 2,
            "linecolor": "#EBF0F8",
            "showbackground": true,
            "ticks": "",
            "zerolinecolor": "#EBF0F8"
           },
           "zaxis": {
            "backgroundcolor": "white",
            "gridcolor": "#DFE8F3",
            "gridwidth": 2,
            "linecolor": "#EBF0F8",
            "showbackground": true,
            "ticks": "",
            "zerolinecolor": "#EBF0F8"
           }
          },
          "shapedefaults": {
           "line": {
            "color": "#2a3f5f"
           }
          },
          "ternary": {
           "aaxis": {
            "gridcolor": "#DFE8F3",
            "linecolor": "#A2B1C6",
            "ticks": ""
           },
           "baxis": {
            "gridcolor": "#DFE8F3",
            "linecolor": "#A2B1C6",
            "ticks": ""
           },
           "bgcolor": "white",
           "caxis": {
            "gridcolor": "#DFE8F3",
            "linecolor": "#A2B1C6",
            "ticks": ""
           }
          },
          "title": {
           "x": 0.05
          },
          "xaxis": {
           "automargin": true,
           "gridcolor": "#EBF0F8",
           "linecolor": "#EBF0F8",
           "ticks": "",
           "title": {
            "standoff": 15
           },
           "zerolinecolor": "#EBF0F8",
           "zerolinewidth": 2
          },
          "yaxis": {
           "automargin": true,
           "gridcolor": "#EBF0F8",
           "linecolor": "#EBF0F8",
           "ticks": "",
           "title": {
            "standoff": 15
           },
           "zerolinecolor": "#EBF0F8",
           "zerolinewidth": 2
          }
         }
        },
        "title": {
         "text": "<b>10.1016/j.jallcom.2021.159740</b> data from Fig 12<br>uploaded by Shuang Lin"
        },
        "width": 1052,
        "xaxis": {
         "anchor": "y",
         "domain": [
          0,
          1
         ],
         "title": {
          "text": "PCA1"
         }
        },
        "yaxis": {
         "anchor": "x",
         "domain": [
          0,
          1
         ],
         "title": {
          "text": "PCA2"
         }
        }
       }
      }
     },
     "metadata": {},
     "output_type": "display_data"
    }
   ],
   "source": [
    "doiList = sDOI.get_allDOIs()\n",
    "\n",
    "for doi in doiList[50:70]:\n",
    "    sDOI.setDOI(doi)\n",
    "    sDOI.get_compVecs_2DPCA()\n",
    "    sDOI.analyze_compVecs_2DPCA(\n",
    "        showFigure=True,\n",
    "        minSamples=4\n",
    "        )"
   ]
  },
  {
   "cell_type": "markdown",
   "metadata": {},
   "source": [
    "We see quite a few interesting patterns, let'g go through them one by one:\n",
    "\n",
    "1. The first one, `10.2320/matertrans.MT-MK2019003`, looks like a broken pattern, but the formulas quickly reveal that it was just a low-dimensional combinatorial screening (4 out of 5 elements) and the patten occured by chance - false positive.\n",
    "\n",
    "2. The second one, `10.3390/ma14071660` we already looked at before, but now we can see the anomalous point even more clearly in the 2D space.\n",
    "\n",
    "3. The fourth one, `10.1016/j.ijrmhm.2020.105451` is another typical false positive, already discussed before, where the authors added a simpler alloy to the study as a reference.\n",
    "\n",
    "4. The fifth one, `10.1016/j.ijrmhm.2021.105568` is detected because it included pure element references (skipped by ULTERA production pipeline) what results in no clear patterns - false positive.\n",
    "\n",
    "5. This one is particularly interesting! The **red** point formula from `10.1016/j.jallcom.2021.159505` looks perfectly in line with the others and even in the percentile (normalized) form looks exactly as expected; yet it lands in a completely different place in the projection. One needs to look really carefully to spot that the alloy has `17.8% of N` rather than expected `17.8 of Ni` because a single `i` keystroke hasn't been registered when parsing.\n",
    "\n",
    "6. Lastly, the `10.1016/j.jallcom.2021.159740` reveals another false positive pattern - authors just tried a bunch of different compositions and no pattern was actually expected."
   ]
  },
  {
   "cell_type": "markdown",
   "metadata": {},
   "source": [
    "To focus on a single researcher's uploads, just like before, simply set the `name` field. Now, only DOIs from studies that were (at least partially) uploaded by the specified researcher will be returned by `get_allDOIs`."
   ]
  },
  {
   "cell_type": "code",
   "execution_count": 19,
   "metadata": {
    "ExecuteTime": {
     "end_time": "2023-03-28T12:57:01.067171Z",
     "start_time": "2023-03-28T12:57:00.310707Z"
    },
    "collapsed": false
   },
   "outputs": [
    {
     "name": "stdout",
     "output_type": "stream",
     "text": [
      "Loading the database credentials from default location: /Users/adam/VSCode Projects/PyQAlloy-1/pyqalloy/credentials.json\n",
      "Connected to the CURATED_Dec2022 in ULTERA_internal with 6073 data points detected.\n",
      "********  Analyzer Initialized  ********\n",
      "276 DOIs to process\n",
      "Skipping 10.1007-s10854-020-04470-9. 3 samples are below the minimum requirement set (minSamples=4).\n",
      "Skipping 10.1016-j.apt.2020.12.019. 1 samples are below the minimum requirement set (minSamples=4).\n",
      "Skipping 10.1016-j.jallcom.2016.04.320. 3 samples are below the minimum requirement set (minSamples=4).\n",
      "------>  10.1016-j.jallcom.2018.02.251 - non-linear trends detected (minRangeInDim: 0.5174>0.001)\n",
      "\n"
     ]
    },
    {
     "data": {
      "application/vnd.plotly.v1+json": {
       "config": {
        "plotlyServerURL": "https://plot.ly"
       },
       "data": [
        {
         "hovertemplate": "<b>%{hovertext}</b><br><br>Alloy Reported (Parsed Formula)=FeCoNi   | Fe33.3 Co33.3 Ni33.3<br>PCA1=%{x}<br>PCA2=%{y}<extra></extra>",
         "hovertext": [
          "F: Fe1 Co1 Ni1<br>PF: Fe33.3 Co33.3 Ni33.3<br>Raw: FeCoNi<br>RF: Fe1 Co1 Ni1"
         ],
         "legendgroup": "FeCoNi   | Fe33.3 Co33.3 Ni33.3",
         "marker": {
          "color": "#2E91E5",
          "line": {
           "color": "DarkSlateGrey",
           "width": 2
          },
          "size": 12,
          "symbol": "circle"
         },
         "mode": "markers",
         "name": "FeCoNi   | Fe33.3 Co33.3 Ni33.3",
         "orientation": "v",
         "showlegend": true,
         "type": "scatter",
         "x": [
          0.005191953988482359
         ],
         "xaxis": "x",
         "y": [
          0.014768651016157217
         ],
         "yaxis": "y"
        },
        {
         "hovertemplate": "<b>%{hovertext}</b><br><br>Alloy Reported (Parsed Formula)=CrCoNi   | Cr33.3 Co33.3 Ni33.3<br>PCA1=%{x}<br>PCA2=%{y}<extra></extra>",
         "hovertext": [
          "F: Cr1 Co1 Ni1<br>PF: Cr33.3 Co33.3 Ni33.3<br>Raw: CrCoNi<br>RF: Cr1 Co1 Ni1"
         ],
         "legendgroup": "CrCoNi   | Cr33.3 Co33.3 Ni33.3",
         "marker": {
          "color": "#E15F99",
          "line": {
           "color": "DarkSlateGrey",
           "width": 2
          },
          "size": 12,
          "symbol": "circle"
         },
         "mode": "markers",
         "name": "CrCoNi   | Cr33.3 Co33.3 Ni33.3",
         "orientation": "v",
         "showlegend": true,
         "type": "scatter",
         "x": [
          0.1268088603546178
         ],
         "xaxis": "x",
         "y": [
          -0.22244800891662425
         ],
         "yaxis": "y"
        },
        {
         "hovertemplate": "<b>%{hovertext}</b><br><br>Alloy Reported (Parsed Formula)=CoNi     | Co50 Ni50           <br>PCA1=%{x}<br>PCA2=%{y}<extra></extra>",
         "hovertext": [
          "F: Co1 Ni1<br>PF: Co50 Ni50<br>Raw: CoNi<br>RF: Co1 Ni1"
         ],
         "legendgroup": "CoNi     | Co50 Ni50           ",
         "marker": {
          "color": "#1CA71C",
          "line": {
           "color": "DarkSlateGrey",
           "width": 2
          },
          "size": 12,
          "symbol": "circle"
         },
         "mode": "markers",
         "name": "CoNi     | Co50 Ni50           ",
         "orientation": "v",
         "showlegend": true,
         "type": "scatter",
         "x": [
          0.3591609706185795
         ],
         "xaxis": "x",
         "y": [
          -0.00816923666724903
         ],
         "yaxis": "y"
        },
        {
         "hovertemplate": "<b>%{hovertext}</b><br><br>Alloy Reported (Parsed Formula)=CrFeNi   | Cr33.3 Fe33.3 Ni33.3<br>PCA1=%{x}<br>PCA2=%{y}<extra></extra>",
         "hovertext": [
          "F: Cr1 Fe1 Ni1<br>PF: Cr33.3 Fe33.3 Ni33.3<br>Raw: CrFeNi<br>RF: Cr1 Fe1 Ni1"
         ],
         "legendgroup": "CrFeNi   | Cr33.3 Fe33.3 Ni33.3",
         "marker": {
          "color": "#FB0D0D",
          "line": {
           "color": "DarkSlateGrey",
           "width": 2
          },
          "size": 12,
          "symbol": "circle"
         },
         "mode": "markers",
         "name": "CrFeNi   | Cr33.3 Fe33.3 Ni33.3",
         "orientation": "v",
         "showlegend": true,
         "type": "scatter",
         "x": [
          -0.3186680689654985
         ],
         "xaxis": "x",
         "y": [
          -0.17213012332667507
         ],
         "yaxis": "y"
        },
        {
         "hovertemplate": "<b>%{hovertext}</b><br><br>Alloy Reported (Parsed Formula)=MnFeNi   | Mn33.3 Fe33.3 Ni33.3<br>PCA1=%{x}<br>PCA2=%{y}<extra></extra>",
         "hovertext": [
          "F: Mn1 Fe1 Ni1<br>PF: Mn33.3 Fe33.3 Ni33.3<br>Raw: MnFeNi<br>RF: Mn1 Fe1 Ni1"
         ],
         "legendgroup": "MnFeNi   | Mn33.3 Fe33.3 Ni33.3",
         "marker": {
          "color": "#DA16FF",
          "line": {
           "color": "DarkSlateGrey",
           "width": 2
          },
          "size": 12,
          "symbol": "circle"
         },
         "mode": "markers",
         "name": "MnFeNi   | Mn33.3 Fe33.3 Ni33.3",
         "orientation": "v",
         "showlegend": true,
         "type": "scatter",
         "x": [
          -0.2686953853821661
         ],
         "xaxis": "x",
         "y": [
          0.2949857517880331
         ],
         "yaxis": "y"
        },
        {
         "hovertemplate": "<b>%{hovertext}</b><br><br>Alloy Reported (Parsed Formula)=MnCoNi   | Mn33.3 Co33.3 Ni33.3<br>PCA1=%{x}<br>PCA2=%{y}<extra></extra>",
         "hovertext": [
          "F: Mn1 Co1 Ni1<br>PF: Mn33.3 Co33.3 Ni33.3<br>Raw: MnCoNi<br>RF: Mn1 Co1 Ni1"
         ],
         "legendgroup": "MnCoNi   | Mn33.3 Co33.3 Ni33.3",
         "marker": {
          "color": "#222A2A",
          "line": {
           "color": "DarkSlateGrey",
           "width": 2
          },
          "size": 12,
          "symbol": "circle"
         },
         "mode": "markers",
         "name": "MnCoNi   | Mn33.3 Co33.3 Ni33.3",
         "orientation": "v",
         "showlegend": true,
         "type": "scatter",
         "x": [
          0.17678154393795
         ],
         "xaxis": "x",
         "y": [
          0.24466786619808392
         ],
         "yaxis": "y"
        },
        {
         "hovertemplate": "<b>%{hovertext}</b><br><br>Alloy Reported (Parsed Formula)=CrFeCoNi | Cr25 Fe25 Co25 Ni25 <br>PCA1=%{x}<br>PCA2=%{y}<extra></extra>",
         "hovertext": [
          "F: Cr1 Fe1 Co1 Ni1<br>PF: Cr25 Fe25 Co25 Ni25<br>Raw: CrFeCoNi<br>RF: Cr1 Fe1 Co1 Ni1"
         ],
         "legendgroup": "CrFeCoNi | Cr25 Fe25 Co25 Ni25 ",
         "marker": {
          "color": "#B68100",
          "line": {
           "color": "DarkSlateGrey",
           "width": 2
          },
          "size": 12,
          "symbol": "circle"
         },
         "mode": "markers",
         "name": "CrFeCoNi | Cr25 Fe25 Co25 Ni25 ",
         "orientation": "v",
         "showlegend": true,
         "type": "scatter",
         "x": [
          -0.08057987455196486
         ],
         "xaxis": "x",
         "y": [
          -0.1516749000917258
         ],
         "yaxis": "y"
        }
       ],
       "layout": {
        "font": {
         "family": "Consolas, monospace"
        },
        "height": 400,
        "legend": {
         "title": {
          "text": "Alloy Reported (Parsed Formula)"
         },
         "tracegroupgap": 0
        },
        "template": {
         "data": {
          "bar": [
           {
            "error_x": {
             "color": "#2a3f5f"
            },
            "error_y": {
             "color": "#2a3f5f"
            },
            "marker": {
             "line": {
              "color": "white",
              "width": 0.5
             },
             "pattern": {
              "fillmode": "overlay",
              "size": 10,
              "solidity": 0.2
             }
            },
            "type": "bar"
           }
          ],
          "barpolar": [
           {
            "marker": {
             "line": {
              "color": "white",
              "width": 0.5
             },
             "pattern": {
              "fillmode": "overlay",
              "size": 10,
              "solidity": 0.2
             }
            },
            "type": "barpolar"
           }
          ],
          "carpet": [
           {
            "aaxis": {
             "endlinecolor": "#2a3f5f",
             "gridcolor": "#C8D4E3",
             "linecolor": "#C8D4E3",
             "minorgridcolor": "#C8D4E3",
             "startlinecolor": "#2a3f5f"
            },
            "baxis": {
             "endlinecolor": "#2a3f5f",
             "gridcolor": "#C8D4E3",
             "linecolor": "#C8D4E3",
             "minorgridcolor": "#C8D4E3",
             "startlinecolor": "#2a3f5f"
            },
            "type": "carpet"
           }
          ],
          "choropleth": [
           {
            "colorbar": {
             "outlinewidth": 0,
             "ticks": ""
            },
            "type": "choropleth"
           }
          ],
          "contour": [
           {
            "colorbar": {
             "outlinewidth": 0,
             "ticks": ""
            },
            "colorscale": [
             [
              0,
              "#0d0887"
             ],
             [
              0.1111111111111111,
              "#46039f"
             ],
             [
              0.2222222222222222,
              "#7201a8"
             ],
             [
              0.3333333333333333,
              "#9c179e"
             ],
             [
              0.4444444444444444,
              "#bd3786"
             ],
             [
              0.5555555555555556,
              "#d8576b"
             ],
             [
              0.6666666666666666,
              "#ed7953"
             ],
             [
              0.7777777777777778,
              "#fb9f3a"
             ],
             [
              0.8888888888888888,
              "#fdca26"
             ],
             [
              1,
              "#f0f921"
             ]
            ],
            "type": "contour"
           }
          ],
          "contourcarpet": [
           {
            "colorbar": {
             "outlinewidth": 0,
             "ticks": ""
            },
            "type": "contourcarpet"
           }
          ],
          "heatmap": [
           {
            "colorbar": {
             "outlinewidth": 0,
             "ticks": ""
            },
            "colorscale": [
             [
              0,
              "#0d0887"
             ],
             [
              0.1111111111111111,
              "#46039f"
             ],
             [
              0.2222222222222222,
              "#7201a8"
             ],
             [
              0.3333333333333333,
              "#9c179e"
             ],
             [
              0.4444444444444444,
              "#bd3786"
             ],
             [
              0.5555555555555556,
              "#d8576b"
             ],
             [
              0.6666666666666666,
              "#ed7953"
             ],
             [
              0.7777777777777778,
              "#fb9f3a"
             ],
             [
              0.8888888888888888,
              "#fdca26"
             ],
             [
              1,
              "#f0f921"
             ]
            ],
            "type": "heatmap"
           }
          ],
          "heatmapgl": [
           {
            "colorbar": {
             "outlinewidth": 0,
             "ticks": ""
            },
            "colorscale": [
             [
              0,
              "#0d0887"
             ],
             [
              0.1111111111111111,
              "#46039f"
             ],
             [
              0.2222222222222222,
              "#7201a8"
             ],
             [
              0.3333333333333333,
              "#9c179e"
             ],
             [
              0.4444444444444444,
              "#bd3786"
             ],
             [
              0.5555555555555556,
              "#d8576b"
             ],
             [
              0.6666666666666666,
              "#ed7953"
             ],
             [
              0.7777777777777778,
              "#fb9f3a"
             ],
             [
              0.8888888888888888,
              "#fdca26"
             ],
             [
              1,
              "#f0f921"
             ]
            ],
            "type": "heatmapgl"
           }
          ],
          "histogram": [
           {
            "marker": {
             "pattern": {
              "fillmode": "overlay",
              "size": 10,
              "solidity": 0.2
             }
            },
            "type": "histogram"
           }
          ],
          "histogram2d": [
           {
            "colorbar": {
             "outlinewidth": 0,
             "ticks": ""
            },
            "colorscale": [
             [
              0,
              "#0d0887"
             ],
             [
              0.1111111111111111,
              "#46039f"
             ],
             [
              0.2222222222222222,
              "#7201a8"
             ],
             [
              0.3333333333333333,
              "#9c179e"
             ],
             [
              0.4444444444444444,
              "#bd3786"
             ],
             [
              0.5555555555555556,
              "#d8576b"
             ],
             [
              0.6666666666666666,
              "#ed7953"
             ],
             [
              0.7777777777777778,
              "#fb9f3a"
             ],
             [
              0.8888888888888888,
              "#fdca26"
             ],
             [
              1,
              "#f0f921"
             ]
            ],
            "type": "histogram2d"
           }
          ],
          "histogram2dcontour": [
           {
            "colorbar": {
             "outlinewidth": 0,
             "ticks": ""
            },
            "colorscale": [
             [
              0,
              "#0d0887"
             ],
             [
              0.1111111111111111,
              "#46039f"
             ],
             [
              0.2222222222222222,
              "#7201a8"
             ],
             [
              0.3333333333333333,
              "#9c179e"
             ],
             [
              0.4444444444444444,
              "#bd3786"
             ],
             [
              0.5555555555555556,
              "#d8576b"
             ],
             [
              0.6666666666666666,
              "#ed7953"
             ],
             [
              0.7777777777777778,
              "#fb9f3a"
             ],
             [
              0.8888888888888888,
              "#fdca26"
             ],
             [
              1,
              "#f0f921"
             ]
            ],
            "type": "histogram2dcontour"
           }
          ],
          "mesh3d": [
           {
            "colorbar": {
             "outlinewidth": 0,
             "ticks": ""
            },
            "type": "mesh3d"
           }
          ],
          "parcoords": [
           {
            "line": {
             "colorbar": {
              "outlinewidth": 0,
              "ticks": ""
             }
            },
            "type": "parcoords"
           }
          ],
          "pie": [
           {
            "automargin": true,
            "type": "pie"
           }
          ],
          "scatter": [
           {
            "fillpattern": {
             "fillmode": "overlay",
             "size": 10,
             "solidity": 0.2
            },
            "type": "scatter"
           }
          ],
          "scatter3d": [
           {
            "line": {
             "colorbar": {
              "outlinewidth": 0,
              "ticks": ""
             }
            },
            "marker": {
             "colorbar": {
              "outlinewidth": 0,
              "ticks": ""
             }
            },
            "type": "scatter3d"
           }
          ],
          "scattercarpet": [
           {
            "marker": {
             "colorbar": {
              "outlinewidth": 0,
              "ticks": ""
             }
            },
            "type": "scattercarpet"
           }
          ],
          "scattergeo": [
           {
            "marker": {
             "colorbar": {
              "outlinewidth": 0,
              "ticks": ""
             }
            },
            "type": "scattergeo"
           }
          ],
          "scattergl": [
           {
            "marker": {
             "colorbar": {
              "outlinewidth": 0,
              "ticks": ""
             }
            },
            "type": "scattergl"
           }
          ],
          "scattermapbox": [
           {
            "marker": {
             "colorbar": {
              "outlinewidth": 0,
              "ticks": ""
             }
            },
            "type": "scattermapbox"
           }
          ],
          "scatterpolar": [
           {
            "marker": {
             "colorbar": {
              "outlinewidth": 0,
              "ticks": ""
             }
            },
            "type": "scatterpolar"
           }
          ],
          "scatterpolargl": [
           {
            "marker": {
             "colorbar": {
              "outlinewidth": 0,
              "ticks": ""
             }
            },
            "type": "scatterpolargl"
           }
          ],
          "scatterternary": [
           {
            "marker": {
             "colorbar": {
              "outlinewidth": 0,
              "ticks": ""
             }
            },
            "type": "scatterternary"
           }
          ],
          "surface": [
           {
            "colorbar": {
             "outlinewidth": 0,
             "ticks": ""
            },
            "colorscale": [
             [
              0,
              "#0d0887"
             ],
             [
              0.1111111111111111,
              "#46039f"
             ],
             [
              0.2222222222222222,
              "#7201a8"
             ],
             [
              0.3333333333333333,
              "#9c179e"
             ],
             [
              0.4444444444444444,
              "#bd3786"
             ],
             [
              0.5555555555555556,
              "#d8576b"
             ],
             [
              0.6666666666666666,
              "#ed7953"
             ],
             [
              0.7777777777777778,
              "#fb9f3a"
             ],
             [
              0.8888888888888888,
              "#fdca26"
             ],
             [
              1,
              "#f0f921"
             ]
            ],
            "type": "surface"
           }
          ],
          "table": [
           {
            "cells": {
             "fill": {
              "color": "#EBF0F8"
             },
             "line": {
              "color": "white"
             }
            },
            "header": {
             "fill": {
              "color": "#C8D4E3"
             },
             "line": {
              "color": "white"
             }
            },
            "type": "table"
           }
          ]
         },
         "layout": {
          "annotationdefaults": {
           "arrowcolor": "#2a3f5f",
           "arrowhead": 0,
           "arrowwidth": 1
          },
          "autotypenumbers": "strict",
          "coloraxis": {
           "colorbar": {
            "outlinewidth": 0,
            "ticks": ""
           }
          },
          "colorscale": {
           "diverging": [
            [
             0,
             "#8e0152"
            ],
            [
             0.1,
             "#c51b7d"
            ],
            [
             0.2,
             "#de77ae"
            ],
            [
             0.3,
             "#f1b6da"
            ],
            [
             0.4,
             "#fde0ef"
            ],
            [
             0.5,
             "#f7f7f7"
            ],
            [
             0.6,
             "#e6f5d0"
            ],
            [
             0.7,
             "#b8e186"
            ],
            [
             0.8,
             "#7fbc41"
            ],
            [
             0.9,
             "#4d9221"
            ],
            [
             1,
             "#276419"
            ]
           ],
           "sequential": [
            [
             0,
             "#0d0887"
            ],
            [
             0.1111111111111111,
             "#46039f"
            ],
            [
             0.2222222222222222,
             "#7201a8"
            ],
            [
             0.3333333333333333,
             "#9c179e"
            ],
            [
             0.4444444444444444,
             "#bd3786"
            ],
            [
             0.5555555555555556,
             "#d8576b"
            ],
            [
             0.6666666666666666,
             "#ed7953"
            ],
            [
             0.7777777777777778,
             "#fb9f3a"
            ],
            [
             0.8888888888888888,
             "#fdca26"
            ],
            [
             1,
             "#f0f921"
            ]
           ],
           "sequentialminus": [
            [
             0,
             "#0d0887"
            ],
            [
             0.1111111111111111,
             "#46039f"
            ],
            [
             0.2222222222222222,
             "#7201a8"
            ],
            [
             0.3333333333333333,
             "#9c179e"
            ],
            [
             0.4444444444444444,
             "#bd3786"
            ],
            [
             0.5555555555555556,
             "#d8576b"
            ],
            [
             0.6666666666666666,
             "#ed7953"
            ],
            [
             0.7777777777777778,
             "#fb9f3a"
            ],
            [
             0.8888888888888888,
             "#fdca26"
            ],
            [
             1,
             "#f0f921"
            ]
           ]
          },
          "colorway": [
           "#636efa",
           "#EF553B",
           "#00cc96",
           "#ab63fa",
           "#FFA15A",
           "#19d3f3",
           "#FF6692",
           "#B6E880",
           "#FF97FF",
           "#FECB52"
          ],
          "font": {
           "color": "#2a3f5f"
          },
          "geo": {
           "bgcolor": "white",
           "lakecolor": "white",
           "landcolor": "white",
           "showlakes": true,
           "showland": true,
           "subunitcolor": "#C8D4E3"
          },
          "hoverlabel": {
           "align": "left"
          },
          "hovermode": "closest",
          "mapbox": {
           "style": "light"
          },
          "paper_bgcolor": "white",
          "plot_bgcolor": "white",
          "polar": {
           "angularaxis": {
            "gridcolor": "#EBF0F8",
            "linecolor": "#EBF0F8",
            "ticks": ""
           },
           "bgcolor": "white",
           "radialaxis": {
            "gridcolor": "#EBF0F8",
            "linecolor": "#EBF0F8",
            "ticks": ""
           }
          },
          "scene": {
           "xaxis": {
            "backgroundcolor": "white",
            "gridcolor": "#DFE8F3",
            "gridwidth": 2,
            "linecolor": "#EBF0F8",
            "showbackground": true,
            "ticks": "",
            "zerolinecolor": "#EBF0F8"
           },
           "yaxis": {
            "backgroundcolor": "white",
            "gridcolor": "#DFE8F3",
            "gridwidth": 2,
            "linecolor": "#EBF0F8",
            "showbackground": true,
            "ticks": "",
            "zerolinecolor": "#EBF0F8"
           },
           "zaxis": {
            "backgroundcolor": "white",
            "gridcolor": "#DFE8F3",
            "gridwidth": 2,
            "linecolor": "#EBF0F8",
            "showbackground": true,
            "ticks": "",
            "zerolinecolor": "#EBF0F8"
           }
          },
          "shapedefaults": {
           "line": {
            "color": "#2a3f5f"
           }
          },
          "ternary": {
           "aaxis": {
            "gridcolor": "#DFE8F3",
            "linecolor": "#A2B1C6",
            "ticks": ""
           },
           "baxis": {
            "gridcolor": "#DFE8F3",
            "linecolor": "#A2B1C6",
            "ticks": ""
           },
           "bgcolor": "white",
           "caxis": {
            "gridcolor": "#DFE8F3",
            "linecolor": "#A2B1C6",
            "ticks": ""
           }
          },
          "title": {
           "x": 0.05
          },
          "xaxis": {
           "automargin": true,
           "gridcolor": "#EBF0F8",
           "linecolor": "#EBF0F8",
           "ticks": "",
           "title": {
            "standoff": 15
           },
           "zerolinecolor": "#EBF0F8",
           "zerolinewidth": 2
          },
          "yaxis": {
           "automargin": true,
           "gridcolor": "#EBF0F8",
           "linecolor": "#EBF0F8",
           "ticks": "",
           "title": {
            "standoff": 15
           },
           "zerolinecolor": "#EBF0F8",
           "zerolinewidth": 2
          }
         }
        },
        "title": {
         "text": "<b>10.1016-j.jallcom.2018.02.251</b> data from Fig 6, Table 3<br>uploaded by Adam Krajewski"
        },
        "width": 901,
        "xaxis": {
         "anchor": "y",
         "domain": [
          0,
          1
         ],
         "title": {
          "text": "PCA1"
         }
        },
        "yaxis": {
         "anchor": "x",
         "domain": [
          0,
          1
         ],
         "title": {
          "text": "PCA2"
         }
        }
       }
      }
     },
     "metadata": {},
     "output_type": "display_data"
    },
    {
     "name": "stdout",
     "output_type": "stream",
     "text": [
      "------>  10.1016-j.matchemphys.2021.124907 - non-linear trends detected (minRangeInDim: 0.0913>0.001)\n",
      "\n"
     ]
    },
    {
     "data": {
      "application/vnd.plotly.v1+json": {
       "config": {
        "plotlyServerURL": "https://plot.ly"
       },
       "data": [
        {
         "hovertemplate": "<b>%{hovertext}</b><br><br>Alloy Reported (Parsed Formula)=Fe30 Co30 Ni30 Cr10    | Cr10 Fe30 Co30 Ni30   <br>PCA1=%{x}<br>PCA2=%{y}<extra></extra>",
         "hovertext": [
          "F: Cr1 Fe3 Co3 Ni3<br>PF: Cr10 Fe30 Co30 Ni30<br>Raw: Fe30 Co30 Ni30 Cr10<br>RF: Cr1 Fe3 Co3 Ni3"
         ],
         "legendgroup": "Fe30 Co30 Ni30 Cr10    | Cr10 Fe30 Co30 Ni30   ",
         "marker": {
          "color": "#2E91E5",
          "line": {
           "color": "DarkSlateGrey",
           "width": 2
          },
          "size": 12,
          "symbol": "circle"
         },
         "mode": "markers",
         "name": "Fe30 Co30 Ni30 Cr10    | Cr10 Fe30 Co30 Ni30   ",
         "orientation": "v",
         "showlegend": true,
         "type": "scatter",
         "x": [
          0.07071067811865477
         ],
         "xaxis": "x",
         "y": [
          0.022821773229381927
         ],
         "yaxis": "y"
        },
        {
         "hovertemplate": "<b>%{hovertext}</b><br><br>Alloy Reported (Parsed Formula)=FeCoNi                 | Fe33.3 Co33.3 Ni33.3  <br>PCA1=%{x}<br>PCA2=%{y}<extra></extra>",
         "hovertext": [
          "F: Fe1 Co1 Ni1<br>PF: Fe33.3 Co33.3 Ni33.3<br>Raw: FeCoNi<br>RF: Fe1 Co1 Ni1"
         ],
         "legendgroup": "FeCoNi                 | Fe33.3 Co33.3 Ni33.3  ",
         "marker": {
          "color": "#E15F99",
          "line": {
           "color": "DarkSlateGrey",
           "width": 2
          },
          "size": 12,
          "symbol": "circle"
         },
         "mode": "markers",
         "name": "FeCoNi                 | Fe33.3 Co33.3 Ni33.3  ",
         "orientation": "v",
         "showlegend": true,
         "type": "scatter",
         "x": [
          -2.2204460492503135e-17
         ],
         "xaxis": "x",
         "y": [
          -0.06846531968814573
         ],
         "yaxis": "y"
        },
        {
         "hovertemplate": "<b>%{hovertext}</b><br><br>Alloy Reported (Parsed Formula)=Fe30 Co30 Ni30 Cr5 Mn5 | Cr5 Mn5 Fe30 Co30 Ni30<br>PCA1=%{x}<br>PCA2=%{y}<extra></extra>",
         "hovertext": [
          "F: Cr1 Mn1 Fe6 Co6 Ni6<br>PF: Cr5 Mn5 Fe30 Co30 Ni30<br>Raw: Fe30 Co30 Ni30 Cr5 Mn5<br>RF: Cr1 Mn1 Fe6 Co6 Ni6"
         ],
         "legendgroup": "Fe30 Co30 Ni30 Cr5 Mn5 | Cr5 Mn5 Fe30 Co30 Ni30",
         "marker": {
          "color": "#1CA71C",
          "line": {
           "color": "DarkSlateGrey",
           "width": 2
          },
          "size": 12,
          "symbol": "circle"
         },
         "mode": "markers",
         "name": "Fe30 Co30 Ni30 Cr5 Mn5 | Cr5 Mn5 Fe30 Co30 Ni30",
         "orientation": "v",
         "showlegend": true,
         "type": "scatter",
         "x": [
          3.6919598579905205e-18
         ],
         "xaxis": "x",
         "y": [
          0.022821773229381948
         ],
         "yaxis": "y"
        },
        {
         "hovertemplate": "<b>%{hovertext}</b><br><br>Alloy Reported (Parsed Formula)=Fe30 Co30 Ni30 Mn10    | Mn10 Fe30 Co30 Ni30   <br>PCA1=%{x}<br>PCA2=%{y}<extra></extra>",
         "hovertext": [
          "F: Mn1 Fe3 Co3 Ni3<br>PF: Mn10 Fe30 Co30 Ni30<br>Raw: Fe30 Co30 Ni30 Mn10<br>RF: Mn1 Fe3 Co3 Ni3"
         ],
         "legendgroup": "Fe30 Co30 Ni30 Mn10    | Mn10 Fe30 Co30 Ni30   ",
         "marker": {
          "color": "#FB0D0D",
          "line": {
           "color": "DarkSlateGrey",
           "width": 2
          },
          "size": 12,
          "symbol": "circle"
         },
         "mode": "markers",
         "name": "Fe30 Co30 Ni30 Mn10    | Mn10 Fe30 Co30 Ni30   ",
         "orientation": "v",
         "showlegend": true,
         "type": "scatter",
         "x": [
          -0.07071067811865477
         ],
         "xaxis": "x",
         "y": [
          0.022821773229381937
         ],
         "yaxis": "y"
        }
       ],
       "layout": {
        "font": {
         "family": "Consolas, monospace"
        },
        "height": 400,
        "legend": {
         "title": {
          "text": "Alloy Reported (Parsed Formula)"
         },
         "tracegroupgap": 0
        },
        "template": {
         "data": {
          "bar": [
           {
            "error_x": {
             "color": "#2a3f5f"
            },
            "error_y": {
             "color": "#2a3f5f"
            },
            "marker": {
             "line": {
              "color": "white",
              "width": 0.5
             },
             "pattern": {
              "fillmode": "overlay",
              "size": 10,
              "solidity": 0.2
             }
            },
            "type": "bar"
           }
          ],
          "barpolar": [
           {
            "marker": {
             "line": {
              "color": "white",
              "width": 0.5
             },
             "pattern": {
              "fillmode": "overlay",
              "size": 10,
              "solidity": 0.2
             }
            },
            "type": "barpolar"
           }
          ],
          "carpet": [
           {
            "aaxis": {
             "endlinecolor": "#2a3f5f",
             "gridcolor": "#C8D4E3",
             "linecolor": "#C8D4E3",
             "minorgridcolor": "#C8D4E3",
             "startlinecolor": "#2a3f5f"
            },
            "baxis": {
             "endlinecolor": "#2a3f5f",
             "gridcolor": "#C8D4E3",
             "linecolor": "#C8D4E3",
             "minorgridcolor": "#C8D4E3",
             "startlinecolor": "#2a3f5f"
            },
            "type": "carpet"
           }
          ],
          "choropleth": [
           {
            "colorbar": {
             "outlinewidth": 0,
             "ticks": ""
            },
            "type": "choropleth"
           }
          ],
          "contour": [
           {
            "colorbar": {
             "outlinewidth": 0,
             "ticks": ""
            },
            "colorscale": [
             [
              0,
              "#0d0887"
             ],
             [
              0.1111111111111111,
              "#46039f"
             ],
             [
              0.2222222222222222,
              "#7201a8"
             ],
             [
              0.3333333333333333,
              "#9c179e"
             ],
             [
              0.4444444444444444,
              "#bd3786"
             ],
             [
              0.5555555555555556,
              "#d8576b"
             ],
             [
              0.6666666666666666,
              "#ed7953"
             ],
             [
              0.7777777777777778,
              "#fb9f3a"
             ],
             [
              0.8888888888888888,
              "#fdca26"
             ],
             [
              1,
              "#f0f921"
             ]
            ],
            "type": "contour"
           }
          ],
          "contourcarpet": [
           {
            "colorbar": {
             "outlinewidth": 0,
             "ticks": ""
            },
            "type": "contourcarpet"
           }
          ],
          "heatmap": [
           {
            "colorbar": {
             "outlinewidth": 0,
             "ticks": ""
            },
            "colorscale": [
             [
              0,
              "#0d0887"
             ],
             [
              0.1111111111111111,
              "#46039f"
             ],
             [
              0.2222222222222222,
              "#7201a8"
             ],
             [
              0.3333333333333333,
              "#9c179e"
             ],
             [
              0.4444444444444444,
              "#bd3786"
             ],
             [
              0.5555555555555556,
              "#d8576b"
             ],
             [
              0.6666666666666666,
              "#ed7953"
             ],
             [
              0.7777777777777778,
              "#fb9f3a"
             ],
             [
              0.8888888888888888,
              "#fdca26"
             ],
             [
              1,
              "#f0f921"
             ]
            ],
            "type": "heatmap"
           }
          ],
          "heatmapgl": [
           {
            "colorbar": {
             "outlinewidth": 0,
             "ticks": ""
            },
            "colorscale": [
             [
              0,
              "#0d0887"
             ],
             [
              0.1111111111111111,
              "#46039f"
             ],
             [
              0.2222222222222222,
              "#7201a8"
             ],
             [
              0.3333333333333333,
              "#9c179e"
             ],
             [
              0.4444444444444444,
              "#bd3786"
             ],
             [
              0.5555555555555556,
              "#d8576b"
             ],
             [
              0.6666666666666666,
              "#ed7953"
             ],
             [
              0.7777777777777778,
              "#fb9f3a"
             ],
             [
              0.8888888888888888,
              "#fdca26"
             ],
             [
              1,
              "#f0f921"
             ]
            ],
            "type": "heatmapgl"
           }
          ],
          "histogram": [
           {
            "marker": {
             "pattern": {
              "fillmode": "overlay",
              "size": 10,
              "solidity": 0.2
             }
            },
            "type": "histogram"
           }
          ],
          "histogram2d": [
           {
            "colorbar": {
             "outlinewidth": 0,
             "ticks": ""
            },
            "colorscale": [
             [
              0,
              "#0d0887"
             ],
             [
              0.1111111111111111,
              "#46039f"
             ],
             [
              0.2222222222222222,
              "#7201a8"
             ],
             [
              0.3333333333333333,
              "#9c179e"
             ],
             [
              0.4444444444444444,
              "#bd3786"
             ],
             [
              0.5555555555555556,
              "#d8576b"
             ],
             [
              0.6666666666666666,
              "#ed7953"
             ],
             [
              0.7777777777777778,
              "#fb9f3a"
             ],
             [
              0.8888888888888888,
              "#fdca26"
             ],
             [
              1,
              "#f0f921"
             ]
            ],
            "type": "histogram2d"
           }
          ],
          "histogram2dcontour": [
           {
            "colorbar": {
             "outlinewidth": 0,
             "ticks": ""
            },
            "colorscale": [
             [
              0,
              "#0d0887"
             ],
             [
              0.1111111111111111,
              "#46039f"
             ],
             [
              0.2222222222222222,
              "#7201a8"
             ],
             [
              0.3333333333333333,
              "#9c179e"
             ],
             [
              0.4444444444444444,
              "#bd3786"
             ],
             [
              0.5555555555555556,
              "#d8576b"
             ],
             [
              0.6666666666666666,
              "#ed7953"
             ],
             [
              0.7777777777777778,
              "#fb9f3a"
             ],
             [
              0.8888888888888888,
              "#fdca26"
             ],
             [
              1,
              "#f0f921"
             ]
            ],
            "type": "histogram2dcontour"
           }
          ],
          "mesh3d": [
           {
            "colorbar": {
             "outlinewidth": 0,
             "ticks": ""
            },
            "type": "mesh3d"
           }
          ],
          "parcoords": [
           {
            "line": {
             "colorbar": {
              "outlinewidth": 0,
              "ticks": ""
             }
            },
            "type": "parcoords"
           }
          ],
          "pie": [
           {
            "automargin": true,
            "type": "pie"
           }
          ],
          "scatter": [
           {
            "fillpattern": {
             "fillmode": "overlay",
             "size": 10,
             "solidity": 0.2
            },
            "type": "scatter"
           }
          ],
          "scatter3d": [
           {
            "line": {
             "colorbar": {
              "outlinewidth": 0,
              "ticks": ""
             }
            },
            "marker": {
             "colorbar": {
              "outlinewidth": 0,
              "ticks": ""
             }
            },
            "type": "scatter3d"
           }
          ],
          "scattercarpet": [
           {
            "marker": {
             "colorbar": {
              "outlinewidth": 0,
              "ticks": ""
             }
            },
            "type": "scattercarpet"
           }
          ],
          "scattergeo": [
           {
            "marker": {
             "colorbar": {
              "outlinewidth": 0,
              "ticks": ""
             }
            },
            "type": "scattergeo"
           }
          ],
          "scattergl": [
           {
            "marker": {
             "colorbar": {
              "outlinewidth": 0,
              "ticks": ""
             }
            },
            "type": "scattergl"
           }
          ],
          "scattermapbox": [
           {
            "marker": {
             "colorbar": {
              "outlinewidth": 0,
              "ticks": ""
             }
            },
            "type": "scattermapbox"
           }
          ],
          "scatterpolar": [
           {
            "marker": {
             "colorbar": {
              "outlinewidth": 0,
              "ticks": ""
             }
            },
            "type": "scatterpolar"
           }
          ],
          "scatterpolargl": [
           {
            "marker": {
             "colorbar": {
              "outlinewidth": 0,
              "ticks": ""
             }
            },
            "type": "scatterpolargl"
           }
          ],
          "scatterternary": [
           {
            "marker": {
             "colorbar": {
              "outlinewidth": 0,
              "ticks": ""
             }
            },
            "type": "scatterternary"
           }
          ],
          "surface": [
           {
            "colorbar": {
             "outlinewidth": 0,
             "ticks": ""
            },
            "colorscale": [
             [
              0,
              "#0d0887"
             ],
             [
              0.1111111111111111,
              "#46039f"
             ],
             [
              0.2222222222222222,
              "#7201a8"
             ],
             [
              0.3333333333333333,
              "#9c179e"
             ],
             [
              0.4444444444444444,
              "#bd3786"
             ],
             [
              0.5555555555555556,
              "#d8576b"
             ],
             [
              0.6666666666666666,
              "#ed7953"
             ],
             [
              0.7777777777777778,
              "#fb9f3a"
             ],
             [
              0.8888888888888888,
              "#fdca26"
             ],
             [
              1,
              "#f0f921"
             ]
            ],
            "type": "surface"
           }
          ],
          "table": [
           {
            "cells": {
             "fill": {
              "color": "#EBF0F8"
             },
             "line": {
              "color": "white"
             }
            },
            "header": {
             "fill": {
              "color": "#C8D4E3"
             },
             "line": {
              "color": "white"
             }
            },
            "type": "table"
           }
          ]
         },
         "layout": {
          "annotationdefaults": {
           "arrowcolor": "#2a3f5f",
           "arrowhead": 0,
           "arrowwidth": 1
          },
          "autotypenumbers": "strict",
          "coloraxis": {
           "colorbar": {
            "outlinewidth": 0,
            "ticks": ""
           }
          },
          "colorscale": {
           "diverging": [
            [
             0,
             "#8e0152"
            ],
            [
             0.1,
             "#c51b7d"
            ],
            [
             0.2,
             "#de77ae"
            ],
            [
             0.3,
             "#f1b6da"
            ],
            [
             0.4,
             "#fde0ef"
            ],
            [
             0.5,
             "#f7f7f7"
            ],
            [
             0.6,
             "#e6f5d0"
            ],
            [
             0.7,
             "#b8e186"
            ],
            [
             0.8,
             "#7fbc41"
            ],
            [
             0.9,
             "#4d9221"
            ],
            [
             1,
             "#276419"
            ]
           ],
           "sequential": [
            [
             0,
             "#0d0887"
            ],
            [
             0.1111111111111111,
             "#46039f"
            ],
            [
             0.2222222222222222,
             "#7201a8"
            ],
            [
             0.3333333333333333,
             "#9c179e"
            ],
            [
             0.4444444444444444,
             "#bd3786"
            ],
            [
             0.5555555555555556,
             "#d8576b"
            ],
            [
             0.6666666666666666,
             "#ed7953"
            ],
            [
             0.7777777777777778,
             "#fb9f3a"
            ],
            [
             0.8888888888888888,
             "#fdca26"
            ],
            [
             1,
             "#f0f921"
            ]
           ],
           "sequentialminus": [
            [
             0,
             "#0d0887"
            ],
            [
             0.1111111111111111,
             "#46039f"
            ],
            [
             0.2222222222222222,
             "#7201a8"
            ],
            [
             0.3333333333333333,
             "#9c179e"
            ],
            [
             0.4444444444444444,
             "#bd3786"
            ],
            [
             0.5555555555555556,
             "#d8576b"
            ],
            [
             0.6666666666666666,
             "#ed7953"
            ],
            [
             0.7777777777777778,
             "#fb9f3a"
            ],
            [
             0.8888888888888888,
             "#fdca26"
            ],
            [
             1,
             "#f0f921"
            ]
           ]
          },
          "colorway": [
           "#636efa",
           "#EF553B",
           "#00cc96",
           "#ab63fa",
           "#FFA15A",
           "#19d3f3",
           "#FF6692",
           "#B6E880",
           "#FF97FF",
           "#FECB52"
          ],
          "font": {
           "color": "#2a3f5f"
          },
          "geo": {
           "bgcolor": "white",
           "lakecolor": "white",
           "landcolor": "white",
           "showlakes": true,
           "showland": true,
           "subunitcolor": "#C8D4E3"
          },
          "hoverlabel": {
           "align": "left"
          },
          "hovermode": "closest",
          "mapbox": {
           "style": "light"
          },
          "paper_bgcolor": "white",
          "plot_bgcolor": "white",
          "polar": {
           "angularaxis": {
            "gridcolor": "#EBF0F8",
            "linecolor": "#EBF0F8",
            "ticks": ""
           },
           "bgcolor": "white",
           "radialaxis": {
            "gridcolor": "#EBF0F8",
            "linecolor": "#EBF0F8",
            "ticks": ""
           }
          },
          "scene": {
           "xaxis": {
            "backgroundcolor": "white",
            "gridcolor": "#DFE8F3",
            "gridwidth": 2,
            "linecolor": "#EBF0F8",
            "showbackground": true,
            "ticks": "",
            "zerolinecolor": "#EBF0F8"
           },
           "yaxis": {
            "backgroundcolor": "white",
            "gridcolor": "#DFE8F3",
            "gridwidth": 2,
            "linecolor": "#EBF0F8",
            "showbackground": true,
            "ticks": "",
            "zerolinecolor": "#EBF0F8"
           },
           "zaxis": {
            "backgroundcolor": "white",
            "gridcolor": "#DFE8F3",
            "gridwidth": 2,
            "linecolor": "#EBF0F8",
            "showbackground": true,
            "ticks": "",
            "zerolinecolor": "#EBF0F8"
           }
          },
          "shapedefaults": {
           "line": {
            "color": "#2a3f5f"
           }
          },
          "ternary": {
           "aaxis": {
            "gridcolor": "#DFE8F3",
            "linecolor": "#A2B1C6",
            "ticks": ""
           },
           "baxis": {
            "gridcolor": "#DFE8F3",
            "linecolor": "#A2B1C6",
            "ticks": ""
           },
           "bgcolor": "white",
           "caxis": {
            "gridcolor": "#DFE8F3",
            "linecolor": "#A2B1C6",
            "ticks": ""
           }
          },
          "title": {
           "x": 0.05
          },
          "xaxis": {
           "automargin": true,
           "gridcolor": "#EBF0F8",
           "linecolor": "#EBF0F8",
           "ticks": "",
           "title": {
            "standoff": 15
           },
           "zerolinecolor": "#EBF0F8",
           "zerolinewidth": 2
          },
          "yaxis": {
           "automargin": true,
           "gridcolor": "#EBF0F8",
           "linecolor": "#EBF0F8",
           "ticks": "",
           "title": {
            "standoff": 15
           },
           "zerolinecolor": "#EBF0F8",
           "zerolinewidth": 2
          }
         }
        },
        "title": {
         "text": "<b>10.1016-j.matchemphys.2021.124907</b> data from Table 2<br>uploaded by Adam Krajewski"
        },
        "width": 1016,
        "xaxis": {
         "anchor": "y",
         "domain": [
          0,
          1
         ],
         "title": {
          "text": "PCA1"
         }
        },
        "yaxis": {
         "anchor": "x",
         "domain": [
          0,
          1
         ],
         "title": {
          "text": "PCA2"
         }
        }
       }
      }
     },
     "metadata": {},
     "output_type": "display_data"
    },
    {
     "name": "stdout",
     "output_type": "stream",
     "text": [
      "Skipping 10.1016/j.jallcom.2014.11.061. 1 samples are below the minimum requirement set (minSamples=4).\n",
      "Skipping 10.1016/j.jallcom.2021.162154. 1 samples are below the minimum requirement set (minSamples=4).\n",
      "Skipping 10.1016/j.mseb.2009.05.024 Nearly 1D linear trand detected.\n",
      "Skipping 10.1063/1.4985724   . 1 samples are below the minimum requirement set (minSamples=4).\n",
      "------>  10.1088-2515-7655-ac6f7e - non-linear trends detected (minRangeInDim: 0.8044>0.001)\n",
      "\n"
     ]
    },
    {
     "data": {
      "application/vnd.plotly.v1+json": {
       "config": {
        "plotlyServerURL": "https://plot.ly"
       },
       "data": [
        {
         "hovertemplate": "<b>%{hovertext}</b><br><br>Alloy Reported (Parsed Formula)=MoTaW     | Ta33.3 W33.3 Mo33.3    <br>PCA1=%{x}<br>PCA2=%{y}<extra></extra>",
         "hovertext": [
          "F: Ta1 W1 Mo1<br>PF: Ta33.3 W33.3 Mo33.3<br>Raw: MoTaW<br>RF: Ta1 W1 Mo1"
         ],
         "legendgroup": "MoTaW     | Ta33.3 W33.3 Mo33.3    ",
         "marker": {
          "color": "#2E91E5",
          "line": {
           "color": "DarkSlateGrey",
           "width": 2
          },
          "size": 12,
          "symbol": "circle"
         },
         "mode": "markers",
         "name": "MoTaW     | Ta33.3 W33.3 Mo33.3    ",
         "orientation": "v",
         "showlegend": true,
         "type": "scatter",
         "x": [
          0.010748298135592482
         ],
         "xaxis": "x",
         "y": [
          -0.1642417296019732
         ],
         "yaxis": "y"
        },
        {
         "hovertemplate": "<b>%{hovertext}</b><br><br>Alloy Reported (Parsed Formula)=MoTaTiW   | Ti25 Ta25 W25 Mo25     <br>PCA1=%{x}<br>PCA2=%{y}<extra></extra>",
         "hovertext": [
          "F: Ti1 Ta1 W1 Mo1<br>PF: Ti25 Ta25 W25 Mo25<br>Raw: MoTaTiW<br>RF: Ti1 Ta1 W1 Mo1"
         ],
         "legendgroup": "MoTaTiW   | Ti25 Ta25 W25 Mo25     ",
         "marker": {
          "color": "#E15F99",
          "line": {
           "color": "DarkSlateGrey",
           "width": 2
          },
          "size": 12,
          "symbol": "circle"
         },
         "mode": "markers",
         "name": "MoTaTiW   | Ti25 Ta25 W25 Mo25     ",
         "orientation": "v",
         "showlegend": true,
         "type": "scatter",
         "x": [
          -0.055270339482949
         ],
         "xaxis": "x",
         "y": [
          -0.20741497712173954
         ],
         "yaxis": "y"
        },
        {
         "hovertemplate": "<b>%{hovertext}</b><br><br>Alloy Reported (Parsed Formula)=NbTaW     | Ta33.3 Nb33.3 W33.3    <br>PCA1=%{x}<br>PCA2=%{y}<extra></extra>",
         "hovertext": [
          "F: Ta1 Nb1 W1<br>PF: Ta33.3 Nb33.3 W33.3<br>Raw: NbTaW<br>RF: Ta1 Nb1 W1"
         ],
         "legendgroup": "NbTaW     | Ta33.3 Nb33.3 W33.3    ",
         "marker": {
          "color": "#1CA71C",
          "line": {
           "color": "DarkSlateGrey",
           "width": 2
          },
          "size": 12,
          "symbol": "circle"
         },
         "mode": "markers",
         "name": "NbTaW     | Ta33.3 Nb33.3 W33.3    ",
         "orientation": "v",
         "showlegend": true,
         "type": "scatter",
         "x": [
          0.3009824551803147
         ],
         "xaxis": "x",
         "y": [
          0.12913381838929658
         ],
         "yaxis": "y"
        },
        {
         "hovertemplate": "<b>%{hovertext}</b><br><br>Alloy Reported (Parsed Formula)=MoNbTaW   | Ta25 Nb25 W25 Mo25     <br>PCA1=%{x}<br>PCA2=%{y}<extra></extra>",
         "hovertext": [
          "F: Ta1 Nb1 W1 Mo1<br>PF: Ta25 Nb25 W25 Mo25<br>Raw: MoNbTaW<br>RF: Ta1 Nb1 W1 Mo1"
         ],
         "legendgroup": "MoNbTaW   | Ta25 Nb25 W25 Mo25     ",
         "marker": {
          "color": "#FB0D0D",
          "line": {
           "color": "DarkSlateGrey",
           "width": 2
          },
          "size": 12,
          "symbol": "circle"
         },
         "mode": "markers",
         "name": "MoNbTaW   | Ta25 Nb25 W25 Mo25     ",
         "orientation": "v",
         "showlegend": true,
         "type": "scatter",
         "x": [
          0.06333156308464291
         ],
         "xaxis": "x",
         "y": [
          0.08423367992025953
         ],
         "yaxis": "y"
        },
        {
         "hovertemplate": "<b>%{hovertext}</b><br><br>Alloy Reported (Parsed Formula)=MoNbTaTiW | Ti20 Ta20 Nb20 W20 Mo20<br>PCA1=%{x}<br>PCA2=%{y}<extra></extra>",
         "hovertext": [
          "F: Ti1 Ta1 Nb1 W1 Mo1<br>PF: Ti20 Ta20 Nb20 W20 Mo20<br>Raw: MoNbTaTiW<br>RF: Ti1 Ta1 Nb1 W1 Mo1"
         ],
         "legendgroup": "MoNbTaTiW | Ti20 Ta20 Nb20 W20 Mo20",
         "marker": {
          "color": "#DA16FF",
          "line": {
           "color": "DarkSlateGrey",
           "width": 2
          },
          "size": 12,
          "symbol": "circle"
         },
         "mode": "markers",
         "name": "MoNbTaTiW | Ti20 Ta20 Nb20 W20 Mo20",
         "orientation": "v",
         "showlegend": true,
         "type": "scatter",
         "x": [
          0
         ],
         "xaxis": "x",
         "y": [
          0
         ],
         "yaxis": "y"
        },
        {
         "hovertemplate": "<b>%{hovertext}</b><br><br>Alloy Reported (Parsed Formula)=MoTi      | Ti50 Mo50              <br>PCA1=%{x}<br>PCA2=%{y}<extra></extra>",
         "hovertext": [
          "F: Ti1 Mo1<br>PF: Ti50 Mo50<br>Raw: MoTi<br>RF: Ti1 Mo1"
         ],
         "legendgroup": "MoTi      | Ti50 Mo50              ",
         "marker": {
          "color": "#222A2A",
          "line": {
           "color": "DarkSlateGrey",
           "width": 2
          },
          "size": 12,
          "symbol": "circle"
         },
         "mode": "markers",
         "name": "MoTi      | Ti50 Mo50              ",
         "orientation": "v",
         "showlegend": true,
         "type": "scatter",
         "x": [
          -0.4514736827704724
         ],
         "xaxis": "x",
         "y": [
          -0.19370072758394494
         ],
         "yaxis": "y"
        },
        {
         "hovertemplate": "<b>%{hovertext}</b><br><br>Alloy Reported (Parsed Formula)=NbTa      | Ta50 Nb50              <br>PCA1=%{x}<br>PCA2=%{y}<extra></extra>",
         "hovertext": [
          "F: Ta1 Nb1<br>PF: Ta50 Nb50<br>Raw: NbTa<br>RF: Ta1 Nb1"
         ],
         "legendgroup": "NbTa      | Ta50 Nb50              ",
         "marker": {
          "color": "#B68100",
          "line": {
           "color": "DarkSlateGrey",
           "width": 2
          },
          "size": 12,
          "symbol": "circle"
         },
         "mode": "markers",
         "name": "NbTa      | Ta50 Nb50              ",
         "orientation": "v",
         "showlegend": true,
         "type": "scatter",
         "x": [
          0.4514736827704724
         ],
         "xaxis": "x",
         "y": [
          0.19370072758394483
         ],
         "yaxis": "y"
        },
        {
         "hovertemplate": "<b>%{hovertext}</b><br><br>Alloy Reported (Parsed Formula)=MoNbW     | Nb33.3 W33.3 Mo33.3    <br>PCA1=%{x}<br>PCA2=%{y}<extra></extra>",
         "hovertext": [
          "F: Nb1 W1 Mo1<br>PF: Nb33.3 W33.3 Mo33.3<br>Raw: MoNbW<br>RF: Nb1 W1 Mo1"
         ],
         "legendgroup": "MoNbW     | Nb33.3 W33.3 Mo33.3    ",
         "marker": {
          "color": "#750D86",
          "line": {
           "color": "DarkSlateGrey",
           "width": 2
          },
          "size": 12,
          "symbol": "circle"
         },
         "mode": "markers",
         "name": "MoNbW     | Nb33.3 W33.3 Mo33.3    ",
         "orientation": "v",
         "showlegend": true,
         "type": "scatter",
         "x": [
          -0.1428465850901917
         ],
         "xaxis": "x",
         "y": [
          0.2597310576667018
         ],
         "yaxis": "y"
        },
        {
         "hovertemplate": "<b>%{hovertext}</b><br><br>Alloy Reported (Parsed Formula)=MoNbTaTi  | Ti25 Ta25 Nb25 Mo25    <br>PCA1=%{x}<br>PCA2=%{y}<extra></extra>",
         "hovertext": [
          "F: Ti1 Ta1 Nb1 Mo1<br>PF: Ti25 Ta25 Nb25 Mo25<br>Raw: MoNbTaTi<br>RF: Ti1 Ta1 Nb1 Mo1"
         ],
         "legendgroup": "MoNbTaTi  | Ti25 Ta25 Nb25 Mo25    ",
         "marker": {
          "color": "#EB663B",
          "line": {
           "color": "DarkSlateGrey",
           "width": 2
          },
          "size": 12,
          "symbol": "circle"
         },
         "mode": "markers",
         "name": "MoNbTaTi  | Ti25 Ta25 Nb25 Mo25    ",
         "orientation": "v",
         "showlegend": true,
         "type": "scatter",
         "x": [
          2.6670753924561145e-17
         ],
         "xaxis": "x",
         "y": [
          -2.0947948447719077e-18
         ],
         "yaxis": "y"
        },
        {
         "hovertemplate": "<b>%{hovertext}</b><br><br>Alloy Reported (Parsed Formula)=TaTiW     | Ti33.3 Ta33.3 W33.3    <br>PCA1=%{x}<br>PCA2=%{y}<extra></extra>",
         "hovertext": [
          "F: Ti1 Ta1 W1<br>PF: Ti33.3 Ta33.3 W33.3<br>Raw: TaTiW<br>RF: Ti1 Ta1 W1"
         ],
         "legendgroup": "TaTiW     | Ti33.3 Ta33.3 W33.3    ",
         "marker": {
          "color": "#511CFB",
          "line": {
           "color": "DarkSlateGrey",
           "width": 2
          },
          "size": 12,
          "symbol": "circle"
         },
         "mode": "markers",
         "name": "TaTiW     | Ti33.3 Ta33.3 W33.3    ",
         "orientation": "v",
         "showlegend": true,
         "type": "scatter",
         "x": [
          0.14284658509019188
         ],
         "xaxis": "x",
         "y": [
          -0.2597310576667019
         ],
         "yaxis": "y"
        },
        {
         "hovertemplate": "<b>%{hovertext}</b><br><br>Alloy Reported (Parsed Formula)=MoNbTi    | Ti33.3 Nb33.3 Mo33.3   <br>PCA1=%{x}<br>PCA2=%{y}<extra></extra>",
         "hovertext": [
          "F: Ti1 Nb1 Mo1<br>PF: Ti33.3 Nb33.3 Mo33.3<br>Raw: MoNbTi<br>RF: Ti1 Nb1 Mo1"
         ],
         "legendgroup": "MoNbTi    | Ti33.3 Nb33.3 Mo33.3   ",
         "marker": {
          "color": "#00A08B",
          "line": {
           "color": "DarkSlateGrey",
           "width": 2
          },
          "size": 12,
          "symbol": "circle"
         },
         "mode": "markers",
         "name": "MoNbTi    | Ti33.3 Nb33.3 Mo33.3   ",
         "orientation": "v",
         "showlegend": true,
         "type": "scatter",
         "x": [
          -0.22728866920304935
         ],
         "xaxis": "x",
         "y": [
          0.1474194844396892
         ],
         "yaxis": "y"
        },
        {
         "hovertemplate": "<b>%{hovertext}</b><br><br>Alloy Reported (Parsed Formula)=MoTiW     | Ti33.3 W33.3 Mo33.3    <br>PCA1=%{x}<br>PCA2=%{y}<extra></extra>",
         "hovertext": [
          "F: Ti1 W1 Mo1<br>PF: Ti33.3 W33.3 Mo33.3<br>Raw: MoTiW<br>RF: Ti1 W1 Mo1"
         ],
         "legendgroup": "MoTiW     | Ti33.3 W33.3 Mo33.3    ",
         "marker": {
          "color": "#FB00D1",
          "line": {
           "color": "DarkSlateGrey",
           "width": 2
          },
          "size": 12,
          "symbol": "circle"
         },
         "mode": "markers",
         "name": "MoTiW     | Ti33.3 W33.3 Mo33.3    ",
         "orientation": "v",
         "showlegend": true,
         "type": "scatter",
         "x": [
          -0.3009824551803148
         ],
         "xaxis": "x",
         "y": [
          -0.12913381838929663
         ],
         "yaxis": "y"
        },
        {
         "hovertemplate": "<b>%{hovertext}</b><br><br>Alloy Reported (Parsed Formula)=NbTaTiW   | Ti25 Ta25 Nb25 W25     <br>PCA1=%{x}<br>PCA2=%{y}<extra></extra>",
         "hovertext": [
          "F: Ti1 Ta1 Nb1 W1<br>PF: Ti25 Ta25 Nb25 W25<br>Raw: NbTaTiW<br>RF: Ti1 Ta1 Nb1 W1"
         ],
         "legendgroup": "NbTaTiW   | Ti25 Ta25 Nb25 W25     ",
         "marker": {
          "color": "#FC0080",
          "line": {
           "color": "DarkSlateGrey",
           "width": 2
          },
          "size": 12,
          "symbol": "circle"
         },
         "mode": "markers",
         "name": "NbTaTiW   | Ti25 Ta25 Nb25 W25     ",
         "orientation": "v",
         "showlegend": true,
         "type": "scatter",
         "x": [
          0.16240527830059298
         ],
         "xaxis": "x",
         "y": [
          0.01261668387171291
         ],
         "yaxis": "y"
        },
        {
         "hovertemplate": "<b>%{hovertext}</b><br><br>Alloy Reported (Parsed Formula)=MoTaTi    | Ti33.3 Ta33.3 Mo33.3   <br>PCA1=%{x}<br>PCA2=%{y}<extra></extra>",
         "hovertext": [
          "F: Ti1 Ta1 Mo1<br>PF: Ti33.3 Ta33.3 Mo33.3<br>Raw: MoTaTi<br>RF: Ti1 Ta1 Mo1"
         ],
         "legendgroup": "MoTaTi    | Ti33.3 Ta33.3 Mo33.3   ",
         "marker": {
          "color": "#B2828D",
          "line": {
           "color": "DarkSlateGrey",
           "width": 2
          },
          "size": 12,
          "symbol": "circle"
         },
         "mode": "markers",
         "name": "MoTaTi    | Ti33.3 Ta33.3 Mo33.3   ",
         "orientation": "v",
         "showlegend": true,
         "type": "scatter",
         "x": [
          -0.07369378597726536
         ],
         "xaxis": "x",
         "y": [
          -0.2765533028289858
         ],
         "yaxis": "y"
        },
        {
         "hovertemplate": "<b>%{hovertext}</b><br><br>Alloy Reported (Parsed Formula)=NbTaTi    | Ti33.3 Ta33.3 Nb33.3   <br>PCA1=%{x}<br>PCA2=%{y}<extra></extra>",
         "hovertext": [
          "F: Ti1 Ta1 Nb1<br>PF: Ti33.3 Ta33.3 Nb33.3<br>Raw: NbTaTi<br>RF: Ti1 Ta1 Nb1"
         ],
         "legendgroup": "NbTaTi    | Ti33.3 Ta33.3 Nb33.3   ",
         "marker": {
          "color": "#6C7C32",
          "line": {
           "color": "DarkSlateGrey",
           "width": 2
          },
          "size": 12,
          "symbol": "circle"
         },
         "mode": "markers",
         "name": "NbTaTi    | Ti33.3 Ta33.3 Nb33.3   ",
         "orientation": "v",
         "showlegend": true,
         "type": "scatter",
         "x": [
          0.21654037106745735
         ],
         "xaxis": "x",
         "y": [
          0.01682224516228392
         ],
         "yaxis": "y"
        },
        {
         "hovertemplate": "<b>%{hovertext}</b><br><br>Alloy Reported (Parsed Formula)=MoTa      | Ta50 Mo50              <br>PCA1=%{x}<br>PCA2=%{y}<extra></extra>",
         "hovertext": [
          "F: Ta1 Mo1<br>PF: Ta50 Mo50<br>Raw: MoTa<br>RF: Ta1 Mo1"
         ],
         "legendgroup": "MoTa      | Ta50 Mo50              ",
         "marker": {
          "color": "#778AAE",
          "line": {
           "color": "DarkSlateGrey",
           "width": 2
          },
          "size": 12,
          "symbol": "circle"
         },
         "mode": "markers",
         "name": "MoTa      | Ta50 Mo50              ",
         "orientation": "v",
         "showlegend": true,
         "type": "scatter",
         "x": [
          0.01612244720338825
         ],
         "xaxis": "x",
         "y": [
          -0.24636259440295974
         ],
         "yaxis": "y"
        },
        {
         "hovertemplate": "<b>%{hovertext}</b><br><br>Alloy Reported (Parsed Formula)=TiW       | Ti50 W50               <br>PCA1=%{x}<br>PCA2=%{y}<extra></extra>",
         "hovertext": [
          "F: Ti1 W1<br>PF: Ti50 W50<br>Raw: TiW<br>RF: Ti1 W1"
         ],
         "legendgroup": "TiW       | Ti50 W50               ",
         "marker": {
          "color": "#862A16",
          "line": {
           "color": "DarkSlateGrey",
           "width": 2
          },
          "size": 12,
          "symbol": "circle"
         },
         "mode": "markers",
         "name": "TiW       | Ti50 W50               ",
         "orientation": "v",
         "showlegend": true,
         "type": "scatter",
         "x": [
          -0.12666312616928638
         ],
         "xaxis": "x",
         "y": [
          -0.168467359840519
         ],
         "yaxis": "y"
        },
        {
         "hovertemplate": "<b>%{hovertext}</b><br><br>Alloy Reported (Parsed Formula)=TaTi      | Ti50 Ta50              <br>PCA1=%{x}<br>PCA2=%{y}<extra></extra>",
         "hovertext": [
          "F: Ti1 Ta1<br>PF: Ti50 Ta50<br>Raw: TaTi<br>RF: Ti1 Ta1"
         ],
         "legendgroup": "TaTi      | Ti50 Ta50              ",
         "marker": {
          "color": "#A777F1",
          "line": {
           "color": "DarkSlateGrey",
           "width": 2
          },
          "size": 12,
          "symbol": "circle"
         },
         "mode": "markers",
         "name": "TaTi      | Ti50 Ta50              ",
         "orientation": "v",
         "showlegend": true,
         "type": "scatter",
         "x": [
          0.21426987763528785
         ],
         "xaxis": "x",
         "y": [
          -0.3895965865000528
         ],
         "yaxis": "y"
        },
        {
         "hovertemplate": "<b>%{hovertext}</b><br><br>Alloy Reported (Parsed Formula)=NbTiW     | Ti33.3 Nb33.3 W33.3    <br>PCA1=%{x}<br>PCA2=%{y}<extra></extra>",
         "hovertext": [
          "F: Ti1 Nb1 W1<br>PF: Ti33.3 Nb33.3 W33.3<br>Raw: NbTiW<br>RF: Ti1 Nb1 W1"
         ],
         "legendgroup": "NbTiW     | Ti33.3 Nb33.3 W33.3    ",
         "marker": {
          "color": "#620042",
          "line": {
           "color": "DarkSlateGrey",
           "width": 2
          },
          "size": 12,
          "symbol": "circle"
         },
         "mode": "markers",
         "name": "NbTiW     | Ti33.3 Nb33.3 W33.3    ",
         "orientation": "v",
         "showlegend": true,
         "type": "scatter",
         "x": [
          -0.010748298135592098
         ],
         "xaxis": "x",
         "y": [
          0.16424172960197306
         ],
         "yaxis": "y"
        },
        {
         "hovertemplate": "<b>%{hovertext}</b><br><br>Alloy Reported (Parsed Formula)=MoW       | W50 Mo50               <br>PCA1=%{x}<br>PCA2=%{y}<extra></extra>",
         "hovertext": [
          "F: W1 Mo1<br>PF: W50 Mo50<br>Raw: MoW<br>RF: W1 Mo1"
         ],
         "legendgroup": "MoW       | W50 Mo50               ",
         "marker": {
          "color": "#1616A7",
          "line": {
           "color": "DarkSlateGrey",
           "width": 2
          },
          "size": 12,
          "symbol": "circle"
         },
         "mode": "markers",
         "name": "MoW       | W50 Mo50               ",
         "orientation": "v",
         "showlegend": true,
         "type": "scatter",
         "x": [
          -0.32481055660118585
         ],
         "xaxis": "x",
         "y": [
          -0.025233367743425914
         ],
         "yaxis": "y"
        },
        {
         "hovertemplate": "<b>%{hovertext}</b><br><br>Alloy Reported (Parsed Formula)=NbTi      | Ti50 Nb50              <br>PCA1=%{x}<br>PCA2=%{y}<extra></extra>",
         "hovertext": [
          "F: Ti1 Nb1<br>PF: Ti50 Nb50<br>Raw: NbTi<br>RF: Ti1 Nb1"
         ],
         "legendgroup": "NbTi      | Ti50 Nb50              ",
         "marker": {
          "color": "#DA60CA",
          "line": {
           "color": "DarkSlateGrey",
           "width": 2
          },
          "size": 12,
          "symbol": "circle"
         },
         "mode": "markers",
         "name": "NbTi      | Ti50 Nb50              ",
         "orientation": "v",
         "showlegend": true,
         "type": "scatter",
         "x": [
          -0.0161224472033882
         ],
         "xaxis": "x",
         "y": [
          0.24636259440295966
         ],
         "yaxis": "y"
        },
        {
         "hovertemplate": "<b>%{hovertext}</b><br><br>Alloy Reported (Parsed Formula)=NbW       | Nb50 W50               <br>PCA1=%{x}<br>PCA2=%{y}<extra></extra>",
         "hovertext": [
          "F: Nb1 W1<br>PF: Nb50 W50<br>Raw: NbW<br>RF: Nb1 W1"
         ],
         "legendgroup": "NbW       | Nb50 W50               ",
         "marker": {
          "color": "#6C4516",
          "line": {
           "color": "DarkSlateGrey",
           "width": 2
          },
          "size": 12,
          "symbol": "circle"
         },
         "mode": "markers",
         "name": "NbW       | Nb50 W50               ",
         "orientation": "v",
         "showlegend": true,
         "type": "scatter",
         "x": [
          0.11054067896589817
         ],
         "xaxis": "x",
         "y": [
          0.4148299542434787
         ],
         "yaxis": "y"
        },
        {
         "hovertemplate": "<b>%{hovertext}</b><br><br>Alloy Reported (Parsed Formula)=MoNbTa    | Ta33.3 Nb33.3 Mo33.3   <br>PCA1=%{x}<br>PCA2=%{y}<extra></extra>",
         "hovertext": [
          "F: Ta1 Nb1 Mo1<br>PF: Ta33.3 Nb33.3 Mo33.3<br>Raw: MoNbTa<br>RF: Ta1 Nb1 Mo1"
         ],
         "legendgroup": "MoNbTa    | Ta33.3 Nb33.3 Mo33.3   ",
         "marker": {
          "color": "#0D2A63",
          "line": {
           "color": "DarkSlateGrey",
           "width": 2
          },
          "size": 12,
          "symbol": "circle"
         },
         "mode": "markers",
         "name": "MoNbTa    | Ta33.3 Nb33.3 Mo33.3   ",
         "orientation": "v",
         "showlegend": true,
         "type": "scatter",
         "x": [
          0.08444208411285768
         ],
         "xaxis": "x",
         "y": [
          0.11231157322701264
         ],
         "yaxis": "y"
        },
        {
         "hovertemplate": "<b>%{hovertext}</b><br><br>Alloy Reported (Parsed Formula)=TaW       | Ta50 W50               <br>PCA1=%{x}<br>PCA2=%{y}<extra></extra>",
         "hovertext": [
          "F: Ta1 W1<br>PF: Ta50 W50<br>Raw: TaW<br>RF: Ta1 W1"
         ],
         "legendgroup": "TaW       | Ta50 W50               ",
         "marker": {
          "color": "#AF0038",
          "line": {
           "color": "DarkSlateGrey",
           "width": 2
          },
          "size": 12,
          "symbol": "circle"
         },
         "mode": "markers",
         "name": "TaW       | Ta50 W50               ",
         "orientation": "v",
         "showlegend": true,
         "type": "scatter",
         "x": [
          0.3409330038045742
         ],
         "xaxis": "x",
         "y": [
          -0.22112922665953383
         ],
         "yaxis": "y"
        },
        {
         "hovertemplate": "<b>%{hovertext}</b><br><br>Alloy Reported (Parsed Formula)=MoNb      | Nb50 Mo50              <br>PCA1=%{x}<br>PCA2=%{y}<extra></extra>",
         "hovertext": [
          "F: Nb1 Mo1<br>PF: Nb50 Mo50<br>Raw: MoNb<br>RF: Nb1 Mo1"
         ],
         "legendgroup": "MoNb      | Nb50 Mo50              ",
         "marker": {
          "color": "#2E91E5",
          "line": {
           "color": "DarkSlateGrey",
           "width": 2
          },
          "size": 12,
          "symbol": "circle"
         },
         "mode": "markers",
         "name": "MoNb      | Nb50 Mo50              ",
         "orientation": "v",
         "showlegend": true,
         "type": "scatter",
         "x": [
          -0.21426987763528774
         ],
         "xaxis": "x",
         "y": [
          0.3895965865000528
         ],
         "yaxis": "y"
        },
        {
         "hovertemplate": "<b>%{hovertext}</b><br><br>Alloy Reported (Parsed Formula)=MoNbTiW   | Ti25 Nb25 W25 Mo25     <br>PCA1=%{x}<br>PCA2=%{y}<extra></extra>",
         "hovertext": [
          "F: Ti1 Nb1 W1 Mo1<br>PF: Ti25 Nb25 W25 Mo25<br>Raw: MoNbTiW<br>RF: Ti1 Nb1 W1 Mo1"
         ],
         "legendgroup": "MoNbTiW   | Ti25 Nb25 W25 Mo25     ",
         "marker": {
          "color": "#E15F99",
          "line": {
           "color": "DarkSlateGrey",
           "width": 2
          },
          "size": 12,
          "symbol": "circle"
         },
         "mode": "markers",
         "name": "MoNbTiW   | Ti25 Nb25 W25 Mo25     ",
         "orientation": "v",
         "showlegend": true,
         "type": "scatter",
         "x": [
          -0.17046650190228704
         ],
         "xaxis": "x",
         "y": [
          0.11056461332976687
         ],
         "yaxis": "y"
        }
       ],
       "layout": {
        "font": {
         "family": "Consolas, monospace"
        },
        "height": 400,
        "legend": {
         "title": {
          "text": "Alloy Reported (Parsed Formula)"
         },
         "tracegroupgap": 0
        },
        "template": {
         "data": {
          "bar": [
           {
            "error_x": {
             "color": "#2a3f5f"
            },
            "error_y": {
             "color": "#2a3f5f"
            },
            "marker": {
             "line": {
              "color": "white",
              "width": 0.5
             },
             "pattern": {
              "fillmode": "overlay",
              "size": 10,
              "solidity": 0.2
             }
            },
            "type": "bar"
           }
          ],
          "barpolar": [
           {
            "marker": {
             "line": {
              "color": "white",
              "width": 0.5
             },
             "pattern": {
              "fillmode": "overlay",
              "size": 10,
              "solidity": 0.2
             }
            },
            "type": "barpolar"
           }
          ],
          "carpet": [
           {
            "aaxis": {
             "endlinecolor": "#2a3f5f",
             "gridcolor": "#C8D4E3",
             "linecolor": "#C8D4E3",
             "minorgridcolor": "#C8D4E3",
             "startlinecolor": "#2a3f5f"
            },
            "baxis": {
             "endlinecolor": "#2a3f5f",
             "gridcolor": "#C8D4E3",
             "linecolor": "#C8D4E3",
             "minorgridcolor": "#C8D4E3",
             "startlinecolor": "#2a3f5f"
            },
            "type": "carpet"
           }
          ],
          "choropleth": [
           {
            "colorbar": {
             "outlinewidth": 0,
             "ticks": ""
            },
            "type": "choropleth"
           }
          ],
          "contour": [
           {
            "colorbar": {
             "outlinewidth": 0,
             "ticks": ""
            },
            "colorscale": [
             [
              0,
              "#0d0887"
             ],
             [
              0.1111111111111111,
              "#46039f"
             ],
             [
              0.2222222222222222,
              "#7201a8"
             ],
             [
              0.3333333333333333,
              "#9c179e"
             ],
             [
              0.4444444444444444,
              "#bd3786"
             ],
             [
              0.5555555555555556,
              "#d8576b"
             ],
             [
              0.6666666666666666,
              "#ed7953"
             ],
             [
              0.7777777777777778,
              "#fb9f3a"
             ],
             [
              0.8888888888888888,
              "#fdca26"
             ],
             [
              1,
              "#f0f921"
             ]
            ],
            "type": "contour"
           }
          ],
          "contourcarpet": [
           {
            "colorbar": {
             "outlinewidth": 0,
             "ticks": ""
            },
            "type": "contourcarpet"
           }
          ],
          "heatmap": [
           {
            "colorbar": {
             "outlinewidth": 0,
             "ticks": ""
            },
            "colorscale": [
             [
              0,
              "#0d0887"
             ],
             [
              0.1111111111111111,
              "#46039f"
             ],
             [
              0.2222222222222222,
              "#7201a8"
             ],
             [
              0.3333333333333333,
              "#9c179e"
             ],
             [
              0.4444444444444444,
              "#bd3786"
             ],
             [
              0.5555555555555556,
              "#d8576b"
             ],
             [
              0.6666666666666666,
              "#ed7953"
             ],
             [
              0.7777777777777778,
              "#fb9f3a"
             ],
             [
              0.8888888888888888,
              "#fdca26"
             ],
             [
              1,
              "#f0f921"
             ]
            ],
            "type": "heatmap"
           }
          ],
          "heatmapgl": [
           {
            "colorbar": {
             "outlinewidth": 0,
             "ticks": ""
            },
            "colorscale": [
             [
              0,
              "#0d0887"
             ],
             [
              0.1111111111111111,
              "#46039f"
             ],
             [
              0.2222222222222222,
              "#7201a8"
             ],
             [
              0.3333333333333333,
              "#9c179e"
             ],
             [
              0.4444444444444444,
              "#bd3786"
             ],
             [
              0.5555555555555556,
              "#d8576b"
             ],
             [
              0.6666666666666666,
              "#ed7953"
             ],
             [
              0.7777777777777778,
              "#fb9f3a"
             ],
             [
              0.8888888888888888,
              "#fdca26"
             ],
             [
              1,
              "#f0f921"
             ]
            ],
            "type": "heatmapgl"
           }
          ],
          "histogram": [
           {
            "marker": {
             "pattern": {
              "fillmode": "overlay",
              "size": 10,
              "solidity": 0.2
             }
            },
            "type": "histogram"
           }
          ],
          "histogram2d": [
           {
            "colorbar": {
             "outlinewidth": 0,
             "ticks": ""
            },
            "colorscale": [
             [
              0,
              "#0d0887"
             ],
             [
              0.1111111111111111,
              "#46039f"
             ],
             [
              0.2222222222222222,
              "#7201a8"
             ],
             [
              0.3333333333333333,
              "#9c179e"
             ],
             [
              0.4444444444444444,
              "#bd3786"
             ],
             [
              0.5555555555555556,
              "#d8576b"
             ],
             [
              0.6666666666666666,
              "#ed7953"
             ],
             [
              0.7777777777777778,
              "#fb9f3a"
             ],
             [
              0.8888888888888888,
              "#fdca26"
             ],
             [
              1,
              "#f0f921"
             ]
            ],
            "type": "histogram2d"
           }
          ],
          "histogram2dcontour": [
           {
            "colorbar": {
             "outlinewidth": 0,
             "ticks": ""
            },
            "colorscale": [
             [
              0,
              "#0d0887"
             ],
             [
              0.1111111111111111,
              "#46039f"
             ],
             [
              0.2222222222222222,
              "#7201a8"
             ],
             [
              0.3333333333333333,
              "#9c179e"
             ],
             [
              0.4444444444444444,
              "#bd3786"
             ],
             [
              0.5555555555555556,
              "#d8576b"
             ],
             [
              0.6666666666666666,
              "#ed7953"
             ],
             [
              0.7777777777777778,
              "#fb9f3a"
             ],
             [
              0.8888888888888888,
              "#fdca26"
             ],
             [
              1,
              "#f0f921"
             ]
            ],
            "type": "histogram2dcontour"
           }
          ],
          "mesh3d": [
           {
            "colorbar": {
             "outlinewidth": 0,
             "ticks": ""
            },
            "type": "mesh3d"
           }
          ],
          "parcoords": [
           {
            "line": {
             "colorbar": {
              "outlinewidth": 0,
              "ticks": ""
             }
            },
            "type": "parcoords"
           }
          ],
          "pie": [
           {
            "automargin": true,
            "type": "pie"
           }
          ],
          "scatter": [
           {
            "fillpattern": {
             "fillmode": "overlay",
             "size": 10,
             "solidity": 0.2
            },
            "type": "scatter"
           }
          ],
          "scatter3d": [
           {
            "line": {
             "colorbar": {
              "outlinewidth": 0,
              "ticks": ""
             }
            },
            "marker": {
             "colorbar": {
              "outlinewidth": 0,
              "ticks": ""
             }
            },
            "type": "scatter3d"
           }
          ],
          "scattercarpet": [
           {
            "marker": {
             "colorbar": {
              "outlinewidth": 0,
              "ticks": ""
             }
            },
            "type": "scattercarpet"
           }
          ],
          "scattergeo": [
           {
            "marker": {
             "colorbar": {
              "outlinewidth": 0,
              "ticks": ""
             }
            },
            "type": "scattergeo"
           }
          ],
          "scattergl": [
           {
            "marker": {
             "colorbar": {
              "outlinewidth": 0,
              "ticks": ""
             }
            },
            "type": "scattergl"
           }
          ],
          "scattermapbox": [
           {
            "marker": {
             "colorbar": {
              "outlinewidth": 0,
              "ticks": ""
             }
            },
            "type": "scattermapbox"
           }
          ],
          "scatterpolar": [
           {
            "marker": {
             "colorbar": {
              "outlinewidth": 0,
              "ticks": ""
             }
            },
            "type": "scatterpolar"
           }
          ],
          "scatterpolargl": [
           {
            "marker": {
             "colorbar": {
              "outlinewidth": 0,
              "ticks": ""
             }
            },
            "type": "scatterpolargl"
           }
          ],
          "scatterternary": [
           {
            "marker": {
             "colorbar": {
              "outlinewidth": 0,
              "ticks": ""
             }
            },
            "type": "scatterternary"
           }
          ],
          "surface": [
           {
            "colorbar": {
             "outlinewidth": 0,
             "ticks": ""
            },
            "colorscale": [
             [
              0,
              "#0d0887"
             ],
             [
              0.1111111111111111,
              "#46039f"
             ],
             [
              0.2222222222222222,
              "#7201a8"
             ],
             [
              0.3333333333333333,
              "#9c179e"
             ],
             [
              0.4444444444444444,
              "#bd3786"
             ],
             [
              0.5555555555555556,
              "#d8576b"
             ],
             [
              0.6666666666666666,
              "#ed7953"
             ],
             [
              0.7777777777777778,
              "#fb9f3a"
             ],
             [
              0.8888888888888888,
              "#fdca26"
             ],
             [
              1,
              "#f0f921"
             ]
            ],
            "type": "surface"
           }
          ],
          "table": [
           {
            "cells": {
             "fill": {
              "color": "#EBF0F8"
             },
             "line": {
              "color": "white"
             }
            },
            "header": {
             "fill": {
              "color": "#C8D4E3"
             },
             "line": {
              "color": "white"
             }
            },
            "type": "table"
           }
          ]
         },
         "layout": {
          "annotationdefaults": {
           "arrowcolor": "#2a3f5f",
           "arrowhead": 0,
           "arrowwidth": 1
          },
          "autotypenumbers": "strict",
          "coloraxis": {
           "colorbar": {
            "outlinewidth": 0,
            "ticks": ""
           }
          },
          "colorscale": {
           "diverging": [
            [
             0,
             "#8e0152"
            ],
            [
             0.1,
             "#c51b7d"
            ],
            [
             0.2,
             "#de77ae"
            ],
            [
             0.3,
             "#f1b6da"
            ],
            [
             0.4,
             "#fde0ef"
            ],
            [
             0.5,
             "#f7f7f7"
            ],
            [
             0.6,
             "#e6f5d0"
            ],
            [
             0.7,
             "#b8e186"
            ],
            [
             0.8,
             "#7fbc41"
            ],
            [
             0.9,
             "#4d9221"
            ],
            [
             1,
             "#276419"
            ]
           ],
           "sequential": [
            [
             0,
             "#0d0887"
            ],
            [
             0.1111111111111111,
             "#46039f"
            ],
            [
             0.2222222222222222,
             "#7201a8"
            ],
            [
             0.3333333333333333,
             "#9c179e"
            ],
            [
             0.4444444444444444,
             "#bd3786"
            ],
            [
             0.5555555555555556,
             "#d8576b"
            ],
            [
             0.6666666666666666,
             "#ed7953"
            ],
            [
             0.7777777777777778,
             "#fb9f3a"
            ],
            [
             0.8888888888888888,
             "#fdca26"
            ],
            [
             1,
             "#f0f921"
            ]
           ],
           "sequentialminus": [
            [
             0,
             "#0d0887"
            ],
            [
             0.1111111111111111,
             "#46039f"
            ],
            [
             0.2222222222222222,
             "#7201a8"
            ],
            [
             0.3333333333333333,
             "#9c179e"
            ],
            [
             0.4444444444444444,
             "#bd3786"
            ],
            [
             0.5555555555555556,
             "#d8576b"
            ],
            [
             0.6666666666666666,
             "#ed7953"
            ],
            [
             0.7777777777777778,
             "#fb9f3a"
            ],
            [
             0.8888888888888888,
             "#fdca26"
            ],
            [
             1,
             "#f0f921"
            ]
           ]
          },
          "colorway": [
           "#636efa",
           "#EF553B",
           "#00cc96",
           "#ab63fa",
           "#FFA15A",
           "#19d3f3",
           "#FF6692",
           "#B6E880",
           "#FF97FF",
           "#FECB52"
          ],
          "font": {
           "color": "#2a3f5f"
          },
          "geo": {
           "bgcolor": "white",
           "lakecolor": "white",
           "landcolor": "white",
           "showlakes": true,
           "showland": true,
           "subunitcolor": "#C8D4E3"
          },
          "hoverlabel": {
           "align": "left"
          },
          "hovermode": "closest",
          "mapbox": {
           "style": "light"
          },
          "paper_bgcolor": "white",
          "plot_bgcolor": "white",
          "polar": {
           "angularaxis": {
            "gridcolor": "#EBF0F8",
            "linecolor": "#EBF0F8",
            "ticks": ""
           },
           "bgcolor": "white",
           "radialaxis": {
            "gridcolor": "#EBF0F8",
            "linecolor": "#EBF0F8",
            "ticks": ""
           }
          },
          "scene": {
           "xaxis": {
            "backgroundcolor": "white",
            "gridcolor": "#DFE8F3",
            "gridwidth": 2,
            "linecolor": "#EBF0F8",
            "showbackground": true,
            "ticks": "",
            "zerolinecolor": "#EBF0F8"
           },
           "yaxis": {
            "backgroundcolor": "white",
            "gridcolor": "#DFE8F3",
            "gridwidth": 2,
            "linecolor": "#EBF0F8",
            "showbackground": true,
            "ticks": "",
            "zerolinecolor": "#EBF0F8"
           },
           "zaxis": {
            "backgroundcolor": "white",
            "gridcolor": "#DFE8F3",
            "gridwidth": 2,
            "linecolor": "#EBF0F8",
            "showbackground": true,
            "ticks": "",
            "zerolinecolor": "#EBF0F8"
           }
          },
          "shapedefaults": {
           "line": {
            "color": "#2a3f5f"
           }
          },
          "ternary": {
           "aaxis": {
            "gridcolor": "#DFE8F3",
            "linecolor": "#A2B1C6",
            "ticks": ""
           },
           "baxis": {
            "gridcolor": "#DFE8F3",
            "linecolor": "#A2B1C6",
            "ticks": ""
           },
           "bgcolor": "white",
           "caxis": {
            "gridcolor": "#DFE8F3",
            "linecolor": "#A2B1C6",
            "ticks": ""
           }
          },
          "title": {
           "x": 0.05
          },
          "xaxis": {
           "automargin": true,
           "gridcolor": "#EBF0F8",
           "linecolor": "#EBF0F8",
           "ticks": "",
           "title": {
            "standoff": 15
           },
           "zerolinecolor": "#EBF0F8",
           "zerolinewidth": 2
          },
          "yaxis": {
           "automargin": true,
           "gridcolor": "#EBF0F8",
           "linecolor": "#EBF0F8",
           "ticks": "",
           "title": {
            "standoff": 15
           },
           "zerolinecolor": "#EBF0F8",
           "zerolinewidth": 2
          }
         }
        },
        "title": {
         "text": "<b>10.1088-2515-7655-ac6f7e</b> data from Fig 9<br>uploaded by Adam Krajewski"
        },
        "width": 930,
        "xaxis": {
         "anchor": "y",
         "domain": [
          0,
          1
         ],
         "title": {
          "text": "PCA1"
         }
        },
        "yaxis": {
         "anchor": "x",
         "domain": [
          0,
          1
         ],
         "title": {
          "text": "PCA2"
         }
        }
       }
      }
     },
     "metadata": {},
     "output_type": "display_data"
    }
   ],
   "source": [
    "sDOI = analysis.SingleDOIAnalyzer(doi='', name='Adam Krajewski')\n",
    "doiList = sDOI.get_allDOIs() # Only considers DOIs with Adam's contributions\n",
    "print(f\"{len(doiList)} DOIs to process\")\n",
    "for doi in doiList[0:10]:\n",
    "    sDOI.setDOI(doi)\n",
    "    sDOI.get_compVecs_2DPCA()\n",
    "    sDOI.analyze_compVecs_2DPCA(\n",
    "        minSamples=4,\n",
    "        showFigure=True\n",
    "        )"
   ]
  },
  {
   "cell_type": "markdown",
   "metadata": {},
   "source": [
    "And lastly, if you want to persist the results for later use, you can either play with the (very flexible) raw PNG bytestreams of the plots returned by `analyze_compVecs_2DPCA` or collect them and save them into Excel spreadsheet using the `writeManyPlots` function - that way you will be able to easily annotate them and share with your team as a single file. You can also set the `skipFailed` flag to `True` to skip over the studies that will not be persisted in the results."
   ]
  },
  {
   "cell_type": "code",
   "execution_count": 20,
   "metadata": {
    "ExecuteTime": {
     "end_time": "2023-03-28T12:57:30.680686Z",
     "start_time": "2023-03-28T12:57:02.628871Z"
    },
    "collapsed": false
   },
   "outputs": [
    {
     "name": "stdout",
     "output_type": "stream",
     "text": [
      "Loading the database credentials from default location: /Users/adam/VSCode Projects/PyQAlloy-1/pyqalloy/credentials.json\n",
      "Connected to the CURATED_Dec2022 in ULTERA_internal with 6073 data points detected.\n",
      "********  Analyzer Initialized  ********\n",
      "43 DOIs to process\n",
      "------>  10.1007/s11837-015-1563-9 - non-linear trends detected (minRangeInDim: 0.3362>0.001)\n",
      "\n",
      "------>  10.1016/S0921-5093(97)00555-8 - non-linear trends detected (minRangeInDim: 0.1804>0.001)\n",
      "\n",
      "------>  10.1016/j.actamat.2020.01.012 - non-linear trends detected (minRangeInDim: 0.0013>0.001)\n",
      "\n",
      "------>  10.1016/j.intermet.2018.05.013 - non-linear trends detected (minRangeInDim: 0.4375>0.001)\n",
      "\n",
      "------>  10.1016/j.scriptamat.2013.05.020 - non-linear trends detected (minRangeInDim: 0.5556>0.001)\n",
      "\n",
      "------>  Cahn_1999_High-temperature Structural Materials - non-linear trends detected (minRangeInDim: 0.1736>0.001)\n",
      "\n",
      "------>  10.1007/s40195-015-0254-4 - non-linear trends detected (minRangeInDim: 0.0872>0.001)\n",
      "\n",
      "------>  10.1016/j.actamat.2012.11.032 - non-linear trends detected (minRangeInDim: 0.1662>0.001)\n",
      "\n",
      "------>  10.1016/j.ijrmhm.2014.07.009 - non-linear trends detected (minRangeInDim: 0.2471>0.001)\n",
      "\n",
      "------>  10.1016/j.intermet.2014.07.021 - non-linear trends detected (minRangeInDim: 0.0193>0.001)\n",
      "\n",
      "------>  10.1016/j.intermet.2014.10.010 - non-linear trends detected (minRangeInDim: 0.4776>0.001)\n",
      "\n",
      "------>  10.1016/j.msec.2015.04.005 - non-linear trends detected (minRangeInDim: 1.0954>0.001)\n",
      "\n",
      "------>  10.1016/j.surfcoat.2015.09.015 - non-linear trends detected (minRangeInDim: 0.4054>0.001)\n",
      "\n",
      "------>  2015_Guo_MicrostructurePropertiesNovel - non-linear trends detected (minRangeInDim: 0.2828>0.001)\n",
      "\n",
      "Initializing the workbook at SingleDOI_ResultPCA_Hui.xlsx\n",
      "Writing 14 plots to the workbook\n",
      "Plots written to the workbook successfully!\n",
      "\n"
     ]
    }
   ],
   "source": [
    "sDOI = analysis.SingleDOIAnalyzer(name='Hui Sun')\n",
    "doiList = sDOI.get_allDOIs()\n",
    "print(f'{len(doiList)} DOIs to process')\n",
    "toPrintList = []\n",
    "for doi in doiList:\n",
    "    sDOI.setDOI(doi)\n",
    "    sDOI.get_compVecs_2DPCA()\n",
    "    out = sDOI.analyze_compVecs_2DPCA(\n",
    "        skipFailed=True,\n",
    "        showFigure=False\n",
    "        )\n",
    "    if out:\n",
    "        toPrintList.append(out)\n",
    "sDOI.writeManyPlots(toPlotList=toPrintList, workbookPath='SingleDOI_ResultPCA_Hui.xlsx')"
   ]
  },
  {
   "cell_type": "markdown",
   "metadata": {},
   "source": [
    "You should now be able to see the results in the generared Excel (`.xlsx`) file!"
   ]
  },
  {
   "cell_type": "markdown",
   "metadata": {
    "collapsed": false
   },
   "source": [
    "### All Data (Entire Database) Analyzer \n",
    "\n",
    "So far, we covered looking at a single data point or their collection within a single study - utilizing very different approaches of looking at individual entities or or relations between them. The latter of which required at least a few datapoints to work properly. However, many studies in the database did not contain such a number of data points (e.g. 1 or 2) and were skipped by the methods we used before. Now, we will look at the patterns formed by all the data in the database, leveraging multi-study information to detect anomalies relative to work by the *community* of researchers."
   ]
  },
  {
   "cell_type": "code",
   "execution_count": 21,
   "metadata": {
    "ExecuteTime": {
     "end_time": "2023-03-28T12:57:30.682780Z",
     "start_time": "2023-03-28T12:57:30.680353Z"
    },
    "collapsed": false
   },
   "outputs": [],
   "source": [
    "from pyqalloy.curation import analysis"
   ]
  },
  {
   "cell_type": "code",
   "execution_count": 22,
   "metadata": {
    "ExecuteTime": {
     "end_time": "2023-03-28T12:57:35.002650Z",
     "start_time": "2023-03-28T12:57:30.683007Z"
    },
    "collapsed": false
   },
   "outputs": [
    {
     "name": "stdout",
     "output_type": "stream",
     "text": [
      "Loading the database credentials from default location: /Users/adam/VSCode Projects/PyQAlloy-1/pyqalloy/credentials.json\n",
      "Connected to the CURATED_Dec2022 in ULTERA_internal with 6073 data points detected.\n",
      "Updating the list of all unique composition points...\n",
      "Number of unique formulas found: 1311\n",
      "Elements Found: {'C', 'Ru', 'Sc', 'V', 'Cu', 'W', 'Re', 'Cr', 'Y', 'Pd', 'Si', 'Ga', 'O', 'Ag', 'Mg', 'Nb', 'Ta', 'Ca', 'Zn', 'Ni', 'Ir', 'S', 'Fe', 'Mn', 'Al', 'Mo', 'Ge', 'Sn', 'B', 'N', 'Hf', 'Zr', 'Be', 'Co', 'Li', 'Ti', 'Nd'}\n",
      "Done!\n"
     ]
    }
   ],
   "source": [
    "allD = analysis.AllDataAnalyzer()"
   ]
  },
  {
   "cell_type": "code",
   "execution_count": 23,
   "metadata": {
    "ExecuteTime": {
     "end_time": "2023-03-28T14:48:51.161382Z",
     "start_time": "2023-03-28T14:48:46.598664Z"
    },
    "collapsed": false
   },
   "outputs": [
    {
     "data": {
      "text/plain": [
       "array([[-2.5952484e+01,  3.5279499e+01],\n",
       "       [ 4.9784188e+00,  6.7044334e+01],\n",
       "       [-4.6604988e+01,  2.6536434e+00],\n",
       "       ...,\n",
       "       [-1.4140003e+01,  4.9580617e+00],\n",
       "       [ 3.4433388e+01,  1.2834120e-02],\n",
       "       [-3.9706459e+01, -2.3695835e+01]], dtype=float32)"
      ]
     },
     "execution_count": 23,
     "metadata": {},
     "output_type": "execute_result"
    }
   ],
   "source": [
    "allD.getTSNE(perplexity=5)"
   ]
  },
  {
   "cell_type": "code",
   "execution_count": 24,
   "metadata": {
    "ExecuteTime": {
     "end_time": "2023-03-28T14:48:51.190038Z",
     "start_time": "2023-03-28T14:48:51.165910Z"
    },
    "collapsed": false
   },
   "outputs": [
    {
     "data": {
      "application/vnd.plotly.v1+json": {
       "config": {
        "plotlyServerURL": "https://plot.ly"
       },
       "data": [
        {
         "hovertemplate": "<b>%{hovertext}</b><br><br>37D->2D TSNE1=%{x}<br>37D->2D TSNE2=%{y}<extra></extra>",
         "hovertext": [
          "Cr5 Fe1 Co13 Ni1",
          "Re1 Co1.17 B1.17",
          "V2.39 Cr1.99 Fe1.99 Co1.99 Ni1.99 Cu1.99 Al1",
          "Ta1.5 V1 W8.5 Re1",
          "Ti1 Nb1 W3 Re1",
          "Ti2 Nb2 V2 Mo1 Cr1",
          "Ta2 W2 Mo1 Re1",
          "Mo11.4 B1 Si7.4",
          "Ti1.67 Cr1.67 Ni1.67 Cu1.67 Al1",
          "Cr1 Mn4 Fe4 Co1",
          "Hf1 Zr1 Ti1.5 Nb1 Mo1",
          "Mn6.34 Ni6.34 Cu6.34 Sn1",
          "Cr2.25 Fe2.25 Co2.25 Ni1 Cu2.25",
          "V1 Cr2 Mn2 Fe2 Co2 Ni2",
          "Ti22.1 V1 Al2.62",
          "Ti1 Cr1 Fe1 Co1 Cu1 Al1",
          "Cr4.76 Fe1 Co4.76 Ni4.76 Al4.76",
          "Cr1 Fe2 Co2 Ni1 Cu1 Al6",
          "Ta3 Nb1 W1 Mo1",
          "Ti1 Ta1 V1 W1 Cr1",
          "Zr4.33 Ti4.67 Ta3.33 Nb3.33 Al1",
          "Ti1.67 Ta1.67 V1.67 Mo1.67 Al1",
          "Zr2 Ti1 Nb1 V2",
          "Fe1.25 Co1.25 Ni1 Cu1.25 Al1.25",
          "Cr1.81 Fe1.54 Co1.54 Ni1.81 Al1",
          "Ti1.33 Nb1.33 V1.33 Mo1.33 Al1",
          "V1 Cr5 Fe5 Co5 Ni5 Cu5 Al2.51",
          "Nb2 W2 Mo2 Re1",
          "Hf1 Zr1 Ti2 Nb2 Mo1",
          "Ta1 Nb1 V1 Mo1",
          "Hf1 Zr1.8 Ti2 Nb2 Mo1",
          "Hf1 Zr1.5 Ti1 Nb1 Mo1",
          "Ti1 Cr1.99 Fe1.99 Co1.99 Ni1.99 Al2.4",
          "Hf4 Zr4 Ti3 Ta1 Nb4",
          "Nd1 Fe1 Co1 Ni1 Cu1 Al1",
          "W1.5 Mo6.33 Co1 Ni1.83 Al6",
          "Cr1.43 Fe1.43 Co1.43 Ni1.43 Al1",
          "Ti6 Nb2 V4 Ni1 Al1",
          "Fe2 Co2 Ni1 Cu2 Al2",
          "Cr1 Mn1 Co1 Ni1",
          "Ti1 Cr2.49 Fe2.49 Co2.49 Ni2.49 Cu2.49 Al1.25",
          "W1 Cr4.8 Mn4.8 Fe4.8 Co4.8 Ni4.8",
          "Zr3.33 Ti3.33 Nb3.33 V1 Mo1.67",
          "Ti2.76 Nb1 Al1",
          "Ti24.5 Nb1 Cr1 Al23.5",
          "Hf1.5 Ta3 Nb1 V6.5",
          "Cr1.42 Fe1.42 Co1 Ni1.42 Cu1.42",
          "Mo1 Cr1.05 Mn1.05 Fe1.05 Co1.05 Ni1.05",
          "Cr1.8 Mn2.2 Fe5 Ni1",
          "Ti1 Nb1 Ag1 Zn1 Al1",
          "Zr1 Ti1 Ta1 Nb1 V1",
          "Cr1 Mn3 Fe5 Ni1",
          "W1 Cr6.47 Mn6.47 Fe6.47 Co6.47 Ni6.47",
          "V2 Cr2 Fe2 Co2 Ni2 Cu2 Al1",
          "Ti5.03 Cr5.03 Fe5.03 Co7.56 Ni7.56 Al1",
          "Ti1 Ni1 Cu1 Al1",
          "Ti23.94 V1 Al2.83",
          "Cr1 Fe1 Co1 Ni1.99 Al1",
          "Mo1 Cr10.17 Fe10.17 Co10.17 Ni10.17",
          "V1 Mo1 Fe1 Co1 Ni1",
          "V1 Cr5 Fe5 Co5 Ni5 Cu5 Al2.5",
          "V1 W3 Mo1 Ru1",
          "Ti1 Cr1 Fe1 Co1 Ni1 Cu1 Al1",
          "Ta3.16 Nb3.15 V2.79 W3.15 Mo3.15 Cr1",
          "Cr4.75 Fe4.75 Co4.75 Ni9.25 Cu1 Al1",
          "Cr2.25 Fe1 Co2.25 Ni2.25 Al2.25",
          "Ti1 Cr2.5 Fe2.5 Co2.5 Ni2.5 Cu2.5 Al1.25",
          "Mo1 Cr2.5 Fe2.5 Co2.5 Ni2.5 Al2.5",
          "Li7 Ca2 Mg7 Al3 Si1",
          "Cr1 Fe1 Co1 Ni1 Cu1 Al1.3",
          "Ti1 V23 Cr1",
          "Mo1 Cr3.33 Fe3.33 Co10 Ni9.67 Al6",
          "Hf7.5 Ti33 Nb1 Si16",
          "Cr1 Fe1 Co1 Ni1 Ge1",
          "Mn1 Fe3 Co3 Ni3",
          "Zr0.09 Ti1 Mo97.63 B14.23 C3.33",
          "Cr2 Fe2 Co2 Ni2 Al2 C1",
          "W1 Fe1.4 B1.2",
          "Cr10 Mn12.5 Fe20 Ni7.5 Al1",
          "Fe20 Co20 Ni20 Cu20 Sn1",
          "V1 Cr1 Mn1 Fe1 Co1 Ni1",
          "Cr2 Fe2 Ni2 Cu1 Al2",
          "V2.5 Mo1 Fe5 Co5 Ni10",
          "Cr4.4 Fe2 Co2.2 Ni1 Cu1 Al9.4",
          "V1 Mo1 Cr1 Fe1",
          "Cr3.8 Fe1 Co3.8 Ni1 Cu1 Al9.4",
          "Ti1 Cr10 Mn10 Fe10 Co10 Ni10 C1",
          "Mo20.5 B1 Si3.5",
          "Cr2.25 Fe2.25 Co1 Ni2.25 Al2.25",
          "Zr1.99 Ti2.18 Ta1.39 Nb2.5 Mo1.14 Al1",
          "Ti1 Cr5 Fe5 Ni5",
          "Ti1 Nb1 V1 Cr1 Ni1",
          "Cr1 Fe2 Co1 Ni1",
          "Ti1 Ta1.67 V2.67 W2.67",
          "V1 W2 Cr2 Fe2 Ni2",
          "Hf1 Zr1 Ti1 Ta1 Nb1 V1 Mo1",
          "Cr1.25 Fe1.25 Ni2.5 Cu1.25 Al1",
          "W1 Ir7.33 Al1.19",
          "Ta6.32 Nb6.32 W6.36 Mo1",
          "Li2.5 Mg5 Cu2.5 Al5 Sn1",
          "Hf18.27 Zr18.27 Ti18.27 Ta4.35 Nb4.35 Mo1",
          "Zr3.33 Ti3.33 Nb3.33 Re1",
          "W1 Cr1.17 Fe1.17 Co1.17 Ni1.17 C1",
          "Fe1 Co1 Ni1.5 Cu1 Al1",
          "Zr2 Ti2 Ta1 Nb2 Mo1 Cr2",
          "Cr1.04 Mn1 Fe1.02 Co1.08 Ni1.09",
          "Ti1 Cr1 Ni1 Cu1 Al1",
          "Ta1 Nb3 W1 Ru1",
          "Cr1 Fe1 Co1 Cu1 Al1.3",
          "Hf1 Zr2 Ti4 Nb1 V2",
          "V1 Cr2 Fe2 Co2 Ni2",
          "Ti1 Ta1 Nb1",
          "Hf2 Zr2 Ti2 Ta2 Nb2 Al1",
          "Cr4.4 Fe1 Co5 Ni1 Al8.6",
          "Cr1.25 Fe1.25 Co1.25 Ni1.25 Al1.25 Si1",
          "Cr1 Co1 Ni1 Cu1",
          "Hf1 Zr1 Ti1 Ta1 V1",
          "Ti1.42 Nb1.42 W1.42 Mo1.42 Cr1",
          "Ti1 Fe1 Ni1 Cu1 Al1",
          "Hf1 Ti1 Ta1 Nb1",
          "Zr4 Ti4 Nb4 V1 Mo4",
          "Cr4 Fe1.8 Co2.8 Ni1 Cu1 Al9.4",
          "W42.24 Fe1 Ni2.43",
          "Ti1 Nb1 W1 Re1",
          "Ti1 Fe1 Co1 Ni1 Al1",
          "Zr1 Ti3 Ta1 Nb3 Al2",
          "Cr1 Fe2 Ni2 Al1",
          "Cr3.33 Fe3.33 Co1 Ni3.33 Al2.33",
          "Cr1.5 Fe2.5 Co2.5 Ni2.5 Al1",
          "Re1.17 Co1 B1.17",
          "Hf1.33 Zr1.33 Ti1.33 Ta1.33 Nb1.33 Al1",
          "Ti1 Fe1 Co1 Ni1 Cu1",
          "Hf1 Ta5.5 Nb2 V3.5",
          "Cr1 Mn1 Fe1 Co1 Ni1.1",
          "Nb10 V10 Mo10 Cr10 Al1",
          "Cr1 Fe5 Co5 Ni5 Si1",
          "Mg1 Fe1 Cu1 Zn1 Al13 Si3",
          "Cr1 Fe1 Ni1 Al1.12",
          "Zr1 Ti1 Ta1 Nb1",
          "Ti1 Cr10 Fe10 Co10 Ni10 Al3",
          "Mo7.38 B1 Si4.12",
          "Ti2 Nb2 V2 Mo1",
          "Cr1.25 Fe1.25 Co1.25 Ni1.25 Cu1.25 Al1",
          "Cr3.33 Fe3.33 Co3.33 Ni3.33 Al1",
          "Cr1 Fe4.76 Co4.76 Ni4.76 Cu4.76",
          "Zr2 Ti2 Ta1 Nb2 Mo1 Al1",
          "Cr1 Fe1 Co1 Ni1 Sn1",
          "Hf1 Zr1 Nb1 V1 Mo1",
          "Ti1 Cr2.5 Fe2.5 Ni2.5",
          "W6.32 Ni9.2 Cu1 B3.48",
          "Zr1 Ti30 Nb54 Al15",
          "Mo1 Cr1.47 Mn1.47 Fe1.47 Co1.47 Ni1.47",
          "Ti2 Cr2 Fe2 Ni2 Cu1",
          "Cr1.79 Mn1.79 Fe1.79 Co1.79 Ni1.79 Al1",
          "Zr1 Ti1 Nb1 Cr1",
          "Ta1 W6.5 Mo1.5 Re3",
          "Cr1 Fe1 Co1 Ni1 Al1.25",
          "Hf1.67 Zr1 Ti3.33 Nb3.33 Mo1.67",
          "W3 Fe3.8 B2.2 C1",
          "Ta1 Nb1 V1 W1 Mo1 Cr1 Re1",
          "Hf1 Zr2 Ti2 Nb2 Mo2",
          "Ti2.51 Cr5 Fe5 Co7.51 Ni7.51 Al1",
          "Ti1 Mo1 Cr1 Al1",
          "Cr1.42 Fe1.42 Ni2.85 Cu1.42 Al1",
          "Cr1 Fe1 Co1 Ni1 Cu1 Al2",
          "Cr1 Fe1 Co1 Ni1 Cu1 Al1.5",
          "Ta1 V1 W1 Mo1 Cr1",
          "Cr1 Fe1 Ni2 Cu1 Al1",
          "Cr1 Mn3 Fe4.97 Co1 B0.03",
          "Hf12.5 Ti21 Nb1 Si16",
          "Cr1.25 Fe1.25 Ni1 Cu1.25 Al1.25",
          "Cr1 Fe1 Ni2 Al1",
          "Ti2.8 Cr2 Fe2 Co2 Ni2 Cu2 Al1",
          "Cr1 Fe1 Co1 Ni1 Al2.5",
          "Y1 Ti2 Cr2 Co2 Ni2 Cu2 Al2",
          "Cr1 Fe1 Ni2 Cu1 Al1.5",
          "Mo6.18 B1.91 Si1",
          "Cr1 Fe4.76 Co4.76 Ni4.76 Al4.76",
          "Hf1 Zr1 Ta1 Nb1 Mo1",
          "W1 Ir8 Al1",
          "Ti1 Mo1.25 Cr2.5 Fe2.5 Ni2.5 Al2.5",
          "W1.17 Fe1.17 B1",
          "Hf2.25 Zr2.25 Ti2.25 Nb2.25 Al1",
          "Cr1.99 Fe1 Co1 Ni1 Al1",
          "Cr1.43 Mn1.43 Fe1.43 Ni1.43 Al1",
          "Mo1 Cr2.01 Fe2.01 Co2.01 Ni2.01 Al3.01",
          "Ti1 Cr2 Fe2 Co1 Ni2",
          "Ti1 Nb1 W2",
          "Fe25 Co25 Ni25 Cu25 Sn1",
          "Cr4.76 Fe4.76 Co1 Ni4.76 Al4.76",
          "Nb7.5 Fe1 Co1 Ni1 Cu1",
          "Ti2.2 Nb5.2 Mo1 Si1.6",
          "Hf1 Zr1 Ti1 Nb1 O2",
          "Cr2.67 Fe2.67 Co2.67 Ni2.67 Al1",
          "Co2.5 Ni2.5 Cu1.5 Al1",
          "V1 Mo1 Fe1 Co1 Ni1.6",
          "Hf12.5 Ti33 Nb1 Si16",
          "Hf1 Zr1 Ti1 Nb1 V1",
          "Fe1 Co1 Ni1 Cu1 Al1",
          "Cr1 Fe1 Co1 Ni4 Al1",
          "Cr5 Fe5 Co5 Ni5 Al5 Si1",
          "Ta3.5 Nb1 V2.5 W5",
          "Ti23.3 V1 Al2.76",
          "Ti1 Ta1 Nb1 V1",
          "Cr1 Fe1 Co1 Ni1 Al3",
          "Hf2.01 Ti2.01 Nb2.01 V1 Mo1 Si1.41",
          "Ti1 Cr1.67 Fe1.67 Ni1.67",
          "Hf1 Zr2 Ti4 V2",
          "Zr2 Ti2 Nb2 V1 Mo2",
          "Cr1 Fe1 Co1 Ni2.1 Al1",
          "Cr4 Fe5 Co5 Ni5 Al1",
          "Ti1 Nb1 V1 Cr1.5 Al1",
          "Ti1 Fe2 Co2 Ni2 Al1",
          "Mo1 Cr3.33 Fe3.33 Co3.33 Ni3.33 Al3.33",
          "Fe2 Co1 Ni2 Cu2 Al2",
          "Cr1 Fe1 Co1 Cu1 Al2.8",
          "Ta3.5 Nb2 W2 Mo1.5 Re1",
          "Zr1 Ti1 V1 Cr1 Fe1 Co1 Ni1 Al1",
          "Ti1 Cr3.33 Fe3.33 Co5 Ni3.33 Al1.33",
          "Cr1 Fe1 Co1 Ni2.22 Al1",
          "V1 Cr1.31 Mn1.31 Fe1.31 Co1.31 Ni1.31",
          "Ta1 W2 Mo2 Ru1",
          "Ti1 Nb1 W1 Mo1 Cr1",
          "Zr1 Ti2 Ta1 Nb2 Al2",
          "Ti1 W2 Re1",
          "Cr1.42 Fe1.42 Co1.42 Ni1 Cu1.42",
          "Zr1.5 Ti1 Nb1 V1 Al1",
          "Cr1 Fe1 Co1 Ni1 Al2",
          "Ta3 V2.5 W5.5 Mo1",
          "Cr3.8 Mn3.8 Fe3.8 Co3.8 Ni3.8 C1",
          "Cr2.49 Fe3.74 Ni1.25 Al1",
          "Cr1.67 Mn1 Fe1.67 Co1.67 Ni1.67 Al1.67",
          "Nb8 W2.33 Cr1 Co11 Al11",
          "Ta1 Nb1 W1 Mo1 Re1",
          "Cr3.34 Mn2 Fe3.34 Co3.34 Ni3.34 Al1",
          "Cr1.25 Fe1.25 Ni2.75 Al1",
          "Ti1 Cr2 Fe2 Co2 Ni2 Cu2",
          "Ti1 Cr2 Fe2 Co2 Ni2 Al2",
          "Cr2 Fe2 Ni4 Al1",
          "Ti1 Cr4.98 Fe4.98 Ni4.98 Al1",
          "Li1 Mg1 Zn1 Al16 Sn1",
          "Cr1 Fe1 Co1 Ni1",
          "Ti1.6 Cr2 Fe2 Co2 Ni2 Cu2 Al1",
          "V1.67 Mo1 Fe1.67 Co1.67 Ni1.67",
          "Cr1 Mn1 Fe1 Co1 Ni1 Al1",
          "Ti1 Nb1 W1 Cr1",
          "Zr3.33 Ti3.33 Ta1 Nb3.33",
          "Cr2.01 Fe3.01 Co2.01 Ni2.01 Cu1 Al2.01",
          "Mn1 Fe1 Co1 Ni1 Cu1",
          "Ta1 V1 W9 Mo1",
          "Ta1.87 Nb1.87 W1.93 Mo1",
          "Cr1 Mn1 Fe1 Co1",
          "Mo1 Cr2 Fe2 Co3 Ni2 Al2",
          "Cr1 Fe1 Co1 Ni1.5 Al1",
          "Cr1 Fe1 Ni1 Cu1 Al1.99",
          "Ti1.61 Cr2.01 Fe2.01 Co2.01 Ni2.01 Cu2.01 Al1",
          "Nb15 Fe1 Co1 Ni1 Cu1",
          "V1 Cr2.3 Fe2.3 Co2.3 Ni2.3 Cu2.3",
          "Ta1.43 Nb1.38 V1 W1.02",
          "Cr2.25 Fe2.25 Co1 Ni2.25 Cu2.25",
          "W1.2 Fe1.8 B1",
          "V2 Fe2 Co2 Ni2 Cu1",
          "V1.6 Cr2 Fe2 Co2 Ni2 Cu2 Al1",
          "Ti1 Cr3.33 Fe3.33 Ni6.67",
          "Mo1 Cr6.67 Fe6.67 Co6.67 Ni6.67",
          "Hf1 Zr1 Ti1 Nb1 O1",
          "Cr1.23 Mn1.23 Fe1.23 Co1.23 Ni1.23 Al1",
          "Mo1 Cr2 Fe2 Ni2 Al2",
          "V1 Cr1 Fe1 Co1 Ni1 Cu1 Al1",
          "Cr2 Fe2 Co2 Ni2 Cu2 Al1",
          "Ti1 V1 Cr1 Mn1 Fe1 Co1 Ni1 Cu1 Al5.33",
          "Zr1 Ti3.2 Nb1.5 Cr2 Al2.3",
          "Hf4 Zr4 Ti1 Ta3 Nb4",
          "Cr1 Co9.5 Ni9.5",
          "Cr3.33 Mn3.33 Fe5 Ni1.67 Al1",
          "Ta1 Co7.12 B4.38",
          "Ti8 Nb8 Al1 Si3",
          "Mo1 Cr10 Fe10 Co30 Ni31 Al18",
          "Cr4.4 Fe1.8 Co2.8 Ni1.2 Cu1 Al8.8",
          "Hf2.5 Zr3 Ti2 Nb1.5 V1",
          "Ta1 Co9.83 B5.83",
          "Ti27.63 V1 Al3.27",
          "Cr1.25 Fe1.25 Co1.25 Cu1.25 Al1",
          "Zr1 Ti10 Nb10 V10 Al10",
          "Hf1 Zr1 Ti1",
          "Fe1.33 Co1.33 Ni1.33 Si1",
          "Ti3.33 Nb3.33 V3.33 Mo3.33 Cr3.33 Al1.67 Si1",
          "Ta1 Nb1 W1.9 Mo1",
          "Cr2.88 Fe1.88 Co1.88 Ni2 Cu1 Al2.88",
          "Ti1 Ta1 Nb1 V1 Mo1",
          "V1 Cr1.47 Fe1.47 Co1.47 Ni1.47 Cu1.47",
          "Mo109.94 B0.17 Si1",
          "Mo1 Cr2 Fe4 Co2 Ni2 Al2",
          "Ta1.5 W8 Re1.5 Ru1",
          "Cr2 Fe2 Co2 Ni2 Cu1.51 Al1",
          "Ti20.2 Ta1.03 Nb7.01 Fe1",
          "Cr1 Fe1 Co1 Ni1 Al2.99",
          "Zr1 Ti1 Ta1 Nb1 V1 W1 Mo1 Cr1",
          "Ti2.5 Cr5 Fe5 Co7.5 Ni7.5 Al1",
          "Mo1 Cr5 Fe5 Co15 Ni15 Al9",
          "Cr1 Fe2.25 Co2.25 Ni2.25 Cu2.25",
          "Nb1 W1 Mo1",
          "Cr4.67 Fe1 Ni4.67 Cu4.5 Al1.83",
          "Cr3.98 Fe3.98 Co3.98 Ni3.98 Al1",
          "Nb1 Mo1 Cr1 Co1",
          "Zr1 Ti1 Nb1 Al1",
          "Hf1 Zr1 Ti1 W1 Mo1",
          "Cr1 Fe1 Co1 Ni1 Cu1 Al1.8",
          "Zr1 Ti1 Ta1 Nb1 V1 Mo1 Cr1",
          "Cr4.2 Fe2.4 Co2.8 Ni1 Cu1 Al8.6",
          "Cr1.42 Fe1 Co1.42 Ni1.42 Cu1.42",
          "Cr5.8 Fe1 Ni5.2 Cu5.8 Al2.2",
          "Zr0.08 Ti1 Mo94.25 B35.44 C8.1",
          "Mo1 Cr2 Fe2 Co2 Ni4 Al2",
          "Cr1.42 Fe1.42 Co1.42 Ni1 Al1.42",
          "Ti1.5 Fe1 Ni1.33 Cu1.33 Al1.5",
          "Cr3.29 Fe3.29 Co3.29 Ni3.29 Al1",
          "Cr1.5 Fe2.92 Co1.5 Ni1.5 Al1",
          "Ti1.34 Cr1.34 Fe1.34 Co1.34 Cu1 Al1.34",
          "Ti3.37 Nb1.79 V1 Cr1.79",
          "Zr1 Ti1 V1 Mo1 Cr1 Fe1 Co1 Ni1",
          "Ti1 Ta1.52 Nb1.36 V1.04 W1.08",
          "Zr1.33 Ti1.33 Nb1.33 V1 Mo1.33",
          "Cr1 Fe1 Ni1 Cu1 Al1.5",
          "Ti1 Ta1 Nb1 V1 Al1",
          "Cr3.32 Fe3.32 Ni6.61 Cu3.32 Al1",
          "Zr3.33 Ti3.33 Nb3.33 V1 Mo2.33",
          "V1 Co1 Ni1",
          "Cr1 Mn1 Fe1 Co1 Ni1 C1",
          "Ti1.5 V1 Mo1 Cr1 Fe1",
          "Re1 Co1.6 B1.4",
          "Ti1 Nb2.5 Mo2.5 Cr2.5 Co2.5",
          "Ti2 V2 Cr2 Fe2 Ni2 Cu2 Al1",
          "Ti19.07 Ta1 Nb6.81 Fe1.46",
          "Be2.25 Zr4.12 Ti1.38 Ni1 Cu1.25",
          "V1 Cr1 Fe1 Co1 Ni1",
          "Ti20 Ta20 Mo20 Cr20 Al20 Si1",
          "Ti1 Ta1 Mo1 Cr1",
          "Zr2.25 Ti2.25 Ta2.25 Nb2.25 Mo1",
          "Zr5 Ti5 Ta2.5 Nb5 Al1",
          "Ti2.44 Nb2.51 V2.47 Mo2.57 Al1",
          "Ti4.5 Nb1 Al4.5",
          "Ti2 Nb2 V2 Mo1 Cr1.5",
          "Ti1 Ta1 Nb1 Mo1",
          "Cr1 Fe10 Co10 Ni10 Al9",
          "Zr1 Ti1 V1 Fe1 Ni1 Al1",
          "Ti1.5 Cr1.25 Fe1.25 Co1.25 Ni1.25 Al1",
          "Zr1 Ti1 Ta1",
          "Zr3.09 Ti69.8 Nb1.27 W1.2 Mo1 Al5.26 Sn3.49 Si0.37",
          "Cr2 Fe4 Co2 Ni2 Cu1 Al2",
          "Ti3.2 Cr2 Fe2 Co2 Ni2 Cu2 Al1",
          "Cr1 Fe1 Co1 Ni2",
          "Ti1 Cr2 Fe2 Co2 Ni2 Cu1 Al1",
          "Ti1.33 Ta4.67 V1 W1",
          "Ti1.47 Nb3.13 Mo1 Si1.07",
          "V1 Cr3.96 Mn3.96 Fe3.96 Co3.96 Ni3.96",
          "Ti2.49 Cr2.49 Ni2.49 Cu2.49 Al1",
          "Fe1 Co1.99 Ni1 Cu1 Al1",
          "Ti1 Mn9.33 Fe10.33 Ni5 Al8",
          "Zr3.33 Ti3.33 Nb3.33 V1 Mo3.33",
          "Cr1.78 Mn1.78 Fe1.78 Co1.78 Ni1.78 Al1",
          "Zr1.95 Ti2.07 Ta1.05 Nb2.09 Mo1 Al1.74",
          "Mo1 Cr1 Fe1 Ni1 Cu1",
          "Cr2 Fe2 Co2 Ni4 Cu1 Al2",
          "Re1.6 Co1 B1.4",
          "Hf5 Zr10 Ti10 Nb10 Mo5 Si1",
          "Zr3.33 Ti3.33 Nb3.33 V1 Mo4.33",
          "Cr10 Fe10 Co10 Ni10 Al1",
          "Cr1.47 Mn1.47 Fe1.47 Co1.47 Ni1.47 Al1",
          "V1 Cr1.34 Mn1.34 Fe1.34 Co1.34 Ni1.34",
          "Mo1 Cr2 Fe1.2 Co2 Ni2 Al2",
          "Hf1.5 Zr1 Ti1 Nb1 Mo1",
          "V1 W1 Mo1 Ru1",
          "Ti1 Nb1 Mo1 Cr1 Co1",
          "Ti1 Nb2 W2",
          "W4.54 Cr1 Ni3.38 B2.42",
          "Cr1.89 Fe1.89 Co1.89 Ni1",
          "Ti3.01 V2.01 Fe2.01 Co2.01 Ni2.01 Cu1",
          "Cr1 Fe1 Co1 Ni1 Al1 Si1",
          "Cr1 Fe1 Co1 Ni2 Al1",
          "Cr2 Fe1 Co2 Ni2 Cu1 Al2",
          "Ta1 W1 Mo1 Ru1",
          "Ti1 Cr1.33 Fe2.5 Co4.17 Ni6 Al1.67",
          "Hf2 Zr1 Ti2 Nb2 Mo2",
          "Mo1 Cr12 Fe12 Co12 Ni12",
          "Cr3.33 Mn3.33 Fe3.33 Co3.33 Ni3.33 Al1",
          "Hf2 Ti13 Nb25.5 Cr1 Al1 Si7.5",
          "Cr7 Fe1 Ni5 Cu5 Al2",
          "Cr1 Fe1 Co1 Ni1 Cu1 Al3",
          "Ti1.5 Mo1 Cr2 Fe2 Ni2 Al2",
          "Zr30.5 Ti1 Cu12.5 Al6",
          "Ti22.68 V1 Al2.68",
          "Cr1.42 Fe1.42 Co1.42 Ni1.42 Al1",
          "Ti2.85 Nb1.28 Al1",
          "Cr3.2 Fe3.2 Co1.4 Ni1 Cu1.8 Al9.4",
          "Cr2.5 Fe2.5 Co2.5 Ni2.5 Al2.5 C1",
          "Ta1.09 Cr1.82 Mn1.82 Fe1.82 Co1.82 Ni1.82 Al1",
          "Ti1 Cr1.25 Fe1.25 Co1.25 Ni1.25 Al1.25",
          "Zr2 W1 C2",
          "Zr1 Ti1 Nb1 V1 Mo2",
          "Cr3.33 Mn3.33 Fe4.99 Ni1.66 Al1",
          "Zr1 Ti1 V1 Mo1 Fe1 Co1 Ni1",
          "Mn1.33 Ni1.33 Cu1.33 Zn1",
          "Mo1 Cr2 Fe2 Co2 Ni2 Al2",
          "Ti2 Nb2 V2 Mo2 Al1",
          "Zr1 Ti2 Nb1 V1",
          "Cr1 Fe1 Co1.99 Ni1 Al1",
          "Ti2 Nb1 W1",
          "Cr3.98 Fe4.96 Co3.98 Ni4.96 Al1",
          "Fe10 Co10 Ni10 Cu10 Sn1",
          "Hf1 Ti5 Ta5 V1",
          "Ti1 Cr3.98 Fe3.98 Co3.98 Ni3.98 Al4.78",
          "V4 Cr2 Fe2 Co2 Ni2 Cu2 Al1",
          "Ta1 Nb1 Mo1",
          "Cr1.43 Fe1.43 Ni2.86 Cu1.43 Al1",
          "Ti9.75 Ta1 Nb7.75 W1 Co5.5",
          "Hf1 Zr1.6 Ti2.22 Ta3.85 Nb3.85",
          "Ti1 V1 Cr1 Fe1 Ni1 Cu1",
          "Cr1 Fe1 Ni2 Cu1 Al1.6",
          "Ti1 Nb2 W2 Re1",
          "Cr4 Fe4 Co4 Ni4 Cu1 Al3",
          "Ta1 Nb1 W1 Mo1",
          "Hf1 Cr14.14 Co7.94 Ni56.1 Al24.65 C0 N0 O0.12",
          "Nb1 W3 Mo1 Ru1",
          "Mo1 Cr2.01 Fe2.01 Co3.01 Ni2.01 Al2.01",
          "Hf1.67 Zr3.33 Ti3.33 Nb3.33 Mo1.67 C1",
          "W1 Cr20 Mn20 Fe20 Cu20 Al20",
          "V1 W3 Mo5 Re3",
          "Zr1 Ti1.02 Nb1.15",
          "Cr3.14 Fe1.14 Co2.86 Ni1 Al6.14",
          "Zr0.05 W26.69 Re1 C0.05",
          "Ti1.05 Ta1.27 Nb1.29 V1",
          "Ti1 Cr1 Co1 Ni1 Cu1 Al1",
          "Zr8.5 Ti8.5 Ta1 Nb1 Mo1",
          "Cr1.13 Fe1.13 Ni1.13 Al1",
          "Cr1 Fe1 Co1 Cu1 Al3",
          "Cr1.62 Mn1.62 Fe1.62 Co1.62 Ni1.62 Al1",
          "Ti1 Nb1 V1 Al1",
          "Cr7 Fe1 Ni4.8 Cu5.2 Al2",
          "Ti5 Ta5 V5 Mo5 Al1",
          "Ta1 Nb1 W9 Re1",
          "Ti1 Ta1 V1 Mo1",
          "Zr1 Ti1 Ta1 Nb1 Mo1",
          "Hf1 Ti1 Nb1",
          "Mo1 Cr1.25 Fe1.25 Ni1.25 Al1.25",
          "Zr9 Ti9 Ta1 Nb1",
          "Ti2 Nb2 Mo2 Cr2 Al1",
          "Y1 Mo7 Cr7.5 Fe20.5 Co3.5 B3 C7.5",
          "Cr3.32 Mn1 Fe3.32 Co3.32 Ni3.32 Al3.32",
          "Cr2.33 Fe3.33 Co3.33 Ni3.33 Al1",
          "Cr1 Mn3 Fe5 Co1",
          "Ta5 W1 Fe3 Ni7",
          "Cr1.24 Mn1.24 Fe1.24 Co1.24 Ni1.24 Al1",
          "Ti2.25 Nb2.25 W2.25 Mo2.25 Cr1",
          "Ti1 Nb2 Mo2 Cr2 Co2",
          "Zr1 Ti1 V1 Mo1 Fe1 Ni1",
          "Cr1 Fe1 Co1 Ni1 Al1.5",
          "Ti1.38 Nb2.62 Mo1.25 Si1",
          "Cr1.67 Fe1.67 Ni4 Al1",
          "Ti4 Nb2 V1 Cr2 Al1",
          "Cr1 Fe1 Co1 Ni3 Al1",
          "W2 Fe2.53 B1.13 C1",
          "Cr1 Fe1 Ni1 Cu1.99 Al1",
          "Cr1 Fe1 Co1 Cu1 Al2",
          "Hf5 Zr10 Ti10 Nb10 Mo5 C1",
          "Hf1 Zr1 Ti1 Nb3",
          "Zr1 Ta1 Nb1",
          "Mo4.5 Ni4.5 B1.11 Si1",
          "Hf0.2 Ti1 Ta10 W10 Mo2 Cr8 Re8 Ru8 Ni140.6 Al12 Si0.2",
          "Ta4 Nb1 V3.5 W3.5",
          "Fe2 Co2 Ni2 Al1",
          "Cr1 Fe1 Co1 Ni1 Al1 C1.5",
          "Ti1 Cr1 Fe1 Co1 Ni1 Al1.2",
          "Cr3.32 Fe3.32 Co3.32 Ni3.32 Cu3.32 Al1",
          "Cr1 Fe1 Ni2 Cu1 Al2",
          "Cr1 Fe1 Ni3 Cu1 Al1",
          "Cr2.62 Mn2.62 Fe2.62 Co2.62 Ni2.62 Al1",
          "Cr3.6 Fe1 Co4 Ni1 Cu1 Al9.4",
          "Zr1 Ti3.3 Nb3.3 V1.98 Mo3.3 Cr1 Al1.98",
          "Ti3.99 Cr1.99 Fe1.99 Co1.99 Ni1.99 Cu1.99 Al1",
          "Zr1 Ti3.35 Nb3.35 V2.01 Mo3.35 Cr1",
          "Hf3.38 Ti3.38 Nb3.38 V1.68 Mo1.68 Si1",
          "Ti1 Ta7.18 W5.18 Mo1.82 Cr7.09 Co5.91 Ni58 Al4.73",
          "Mo4 B1 Si1.25",
          "Ta1.5 W8 Mo1.5 Re1",
          "W1.18 Fe1.45 B1",
          "Ta1 Nb1 V1 W1 Mo1",
          "Hf1 Zr1 Ti1 V1 Mo1",
          "Cr3.01 Fe2.01 Co2.01 Ni2.01 Cu1 Al2.01",
          "Mo1 Cr1.5 Fe2 Co3.5 Ni2",
          "Cr1 Fe1 Co1 Cu1 Al1.99",
          "Cr9.8 Mn9.8 Fe9.8 Co9.8 Ni9.8 Al1",
          "Hf2 Zr2 Ti2 Ta2 Nb2 Mo1",
          "Hf2 Ti2 Nb2 V1 Mo1 Si1.01",
          "Ti1.5 Ta1 Cr1.83 Co2 Ni2",
          "Zr1 Mo82 B8 Si9",
          "Cr1 Fe3.33 Co3.33 Ni3.33 Al2.33",
          "Zr2.85 Ti2.69 Nb3.17 Re1",
          "Hf1.67 Zr3.33 Ti3.33 Nb3.33 Mo1.67 Si1",
          "Ti41.7 Ta2.06 Nb14.06 Fe1",
          "Zr3.33 Ti3.33 Nb3.33 V1 Mo1",
          "Cr4 Mn4 Fe4 Ni4 Cu2 Al1",
          "Ti1 Nb1 Mo1 Al1",
          "Nb1 Cr1.33 Fe1.33 Co1.33 Ni1.33 Al1.33",
          "Ta4 Nb4 W4 Mo4 Si1",
          "Cr4.8 Fe2 Co3.6 Ni1 Al8.6",
          "Zr1 Ti1 Nb1 W1 Mo1",
          "Ti1 W1 Mo1",
          "Ti1 Nb1 V1 Cr1 Ni1 Al7",
          "W1 Fe1.64 B1",
          "W1.33 Cr1 Mn1 Fe1 Co1 Ni1",
          "Ti1 Ta1 Mo1 Cr1 Al1",
          "Cr2.01 Fe1 Co2.01 Ni2.01 Cu1 Al6.04",
          "Cr5 Fe1 Co4.4 Ni1 Al8.6",
          "Zr9 Ti9 Nb1 Mo1",
          "Cr4.76 Fe4.76 Co1 Ni4.76 Cu4.76",
          "Ti1 Ta3.33 V3.33 W3.33 Cr3.33",
          "Ti27.72 V1 Al3.28",
          "Zr1 Ti2 Ta1 Nb2 Mo1 Al2",
          "Cr1.15 Fe1.15 Co1.15 Ni1.15 Al1",
          "Cr2.52 Fe2.52 Co2.52 Ni2.52 Cu1 Al2.27",
          "Cr2.5 Fe2.5 Ni5 Cu2.5 Al1",
          "Mo1.07 Cr1.79 Fe7.86 Co2.57 Ni1",
          "Zr2 Ti2 Nb1 V1",
          "Ti2 Cr2 Fe2 Co2 Cu1 Al2",
          "Ta1 W3 Mo1 Re1",
          "Ti1 Cr2 Fe2 Co2 Ni2 Al1.8",
          "Cr2 Fe2 Co2 Ni2 Cu1 Al1.51",
          "Ta1 Co6.22 B3.89",
          "Ti1 Cr2 Fe2 Co2 Ni2 Al1",
          "Hf2.8 Zr0.01 Ti0.8 Ta6.6 W18.8 Mo1 Cr16.2 Co18.6 Ni123 Al11.4 B0.03 C0.14",
          "Ti1 Cr3.33 Fe3.33 Ni3.33",
          "Cr5 Fe5 Co5 Ni5 Al5 C1",
          "Mn1 Ni1 Cu1 Zn1",
          "V1 Cr4 Mn4 Fe4 Co4 Ni4",
          "Cr1 Fe1 Co1 Cu1 Al1.5",
          "Cr4 Fe4 Co4 Ni4 Cu1 Al4",
          "Ti27.19 V1 Al3.22",
          "Cr2 Fe2 Co2 Cu2 Al1",
          "Nb1 Cr6.45 Fe6.45 Co6.45 Ni6.45",
          "Cr1.33 Fe1.33 Co1 Ni1.33 Al1.33",
          "W12 Cr1 Fe1.29",
          "Cr2 Fe2 Co4 Ni2 Cu1 Al2",
          "Hf1 Zr1 Ti1 Nb1",
          "Cr1 Co1 Ni1 Cu1 Zn1",
          "Nb1 V1 Mo1 Cr1 Fe1",
          "Ti1 W38 C1",
          "Cr5 Mn1 Fe5 Co5 Pd5 Ni5",
          "Cr4 Fe2 Co2.6 Ni1 Cu1 Al9.4",
          "Ti4.96 Cr4.96 Ni4.96 Cu4.96 Al1",
          "Cr2.25 Fe2.25 Co2.25 Ni1 Al2.25",
          "Cr4 Fe2.2 Co2.4 Ni1 Cu1 Al9.4",
          "Zr3.8 Ti4.22 Ta5.78 Nb5.2 Al1",
          "Ti1 Ta1 Nb1 Cr1",
          "Mo1 Cr2 Fe2 Co2 Ni2 Al4",
          "Cr1 Mn1 Fe1 Co1 Ni1 Cu1 Al1",
          "Fe4 Co4 Ni4 Si1",
          "Zr3.33 Ti3.33 Nb3.33 V3.33 Mo1",
          "Fe1 Co1 Ni1",
          "Cr4 Fe4 Co1 Ni4 Al4",
          "W1 Fe1.45 B1.18",
          "W4.29 Fe5.43 B3.57 C1",
          "Hf1 Zr2 Ti4 Nb1.5 V2",
          "Ta1 Cr5 Mn5 Fe5 Co5 Ni5 Al2.5",
          "Mn1 Co1 Ni1",
          "Zr1 Ti1 V1 Fe1 Co1 Ni1 Cu1",
          "Cr1 Fe1 Co1 Ni1 Cu1 Al2.3",
          "Cr1 Fe1.42 Co1.42 Ni1.42 Cu1.42",
          "Mo4.64 B1 Si1.5",
          "Ti9.33 B3 Si1",
          "Cr6.72 Mn6.72 Fe6.72 Ni10.09 Cu1",
          "Mo42 B1 Si7",
          "Ti1 W0.1 Mo0.1 Cr14 Fe17 Co17 Ni35 Cu8 Al8",
          "Cr1 Fe1 Ni2.01 Cu1 Al2.5",
          "Cr1.25 Fe1.25 Co1.25 Ni1.25 Al1",
          "Mg1 Mn1 Cu1 Zn1 Al13 Si3",
          "Cr1 Fe1 Ni2 Cu1 Al1.2",
          "Cr4 Fe2 Co2 Ni2 Cu1 Al2",
          "Ta4 V1.33 W1.67 Mo1",
          "Zr1 Ti1 Nb1 V1 W1 Mo1 Cr1",
          "W1 Mo1 Cr2 Co4 Ni4",
          "Cr10 Fe10 Co10 Ni10 Al10 C1",
          "Zr3.33 Ti3.33 Nb3.33 V1",
          "Ti1 W1 Mo1 Cr1 Al1",
          "Cr1 Mn1 Fe1 Ni1 Cu1 Al1.5",
          "Ta2.33 Co1 Ni2.22",
          "Ti1.5 Cr1 Fe1 Co1 Ni1 Al1",
          "Ta1 Cr2.5 Mn2.5 Fe2.5 Co2.5 Ni2.5",
          "Mo1 Cr4.8 Mn4.8 Fe4.8 Co4.8 Ni4.8",
          "Zr3.33 Ti5 Nb3.33 Al1",
          "Fe1 Co1 Ni2 Cu1 Al1",
          "Cr4.6 Fe1.4 Co4.4 Ni1 Al8.6",
          "Ti0.02 Nb1 Mo1 Cr1 Co1",
          "W30 Fe1 Ni2.33",
          "Ti1 Ta1 V1 Mo1 Al1",
          "Zr1 Ti1 V1 Cr1 Fe1 Co1 Ni1 Cu1",
          "Cr4.67 Fe1 Ni5.17 Cu3.67 Al2.17",
          "Li25.33 Ca0.33 Mg30 Al10 Si1",
          "Cr3 Fe2.6 Co2.8 Ni1.2 Cu1 Al9.4",
          "Ta3.61 Nb3.58 V2.28 W3.53 Mo3.54 Cr1",
          "Cr1 Fe1 Ni1 Al1.21",
          "Cr1 Fe3 Co3 Ni3",
          "Cr10 Mn10 Fe10 Ni10 C1",
          "Hf1 Zr2 Ti3 Ta1 Nb1",
          "Zr1 Ti1 Nb1 V1 Cr1",
          "Zr1 Ti4 Nb3 Cr2",
          "Hf1 Zr2 Ti4 Nb2 V2",
          "Hf1 Zr1 Ti1 Ta1 Nb1 W1",
          "Cr2.01 Fe2.01 Co1 Ni2.01 Cu1 Al6.04",
          "Ta1 V1 W1 Mo1",
          "Ta1 Co8.29 B5",
          "Mo9.62 B1.01 Si1",
          "V1 Cr1.33 Mn1.33 Fe1.33 Co1.33 Ni1.33",
          "Cr5.05 Fe5.05 Ni10.13 Cu5.05 Al1",
          "Ti1 Cr2 Fe2 Co2 Ni2 Al3",
          "Ti10.17 Cr10.17 Fe10.17 Ni10.17 Cu1",
          "Cr6.8 Fe1 Co3.4 Ni2 Al6.8",
          "Cr1 Fe1 Co1 Cu1 Al2.3",
          "Ta1 Cr1.67 Mn1.67 Fe1.67 Co1.67 Ni1.67",
          "Mo1 Cr10 Fe10 Co10 Ni10 Al3",
          "Zr1 Ti1.33 Nb1",
          "Ti27.28 V1 Al3.23",
          "Cr4.4 Fe1.6 Co4.4 Ni1 Al8.6",
          "Cr2 Fe1 Co2 Ni2 Cu2 Al2",
          "W5 Re1 Fe10.5 Ni24.5",
          "Zr8 Ti6 Ta1 Nb3 Al2",
          "Zr10 Ti8 Ni29.5 Sn1.5 Si1",
          "Cr1 Fe1 Ni1.99 Cu1 Al1",
          "Cr1 Fe1 Ni1",
          "Cr1 Fe1 Co2.01 Ni3.01 Cu1 Al6.04",
          "Cr1 Fe1 Co1 Ni2.5 Al1",
          "Cr1 Fe1 Co1 Ni1 Al6",
          "Hf2 Ti2 Nb2 V2 Si1",
          "Nb1 Cr3.24 Fe3.24 Co3.24 Ni3.24",
          "Re1 Co3.33 B2.33",
          "Cr2 Fe2 Co2 Ni2 Cu2 Al1 B1.2",
          "Mo1 Cr2 Fe2 Co1 Ni2 Al2",
          "Ti1 Nb1 Mo1 Cr1 Al1",
          "Hf1 Zr1 Ti1 Nb1 Cr1",
          "W1 Cr10 Mn10 Fe10 Cu10 Al10",
          "Hf12.25 Zr12.25 Ti12.25 Ta6.12 Nb6.12 N1",
          "Cr1.33 Mn1.67 Fe2.67 Ni1",
          "Ta1 W3 Mo1 Ru1",
          "Mo31.33 B1 Si1",
          "Mn1.87 Fe2.07 Ni1 Al1.6",
          "Nb1 Cr9.71 Fe9.71 Co9.71 Ni9.71",
          "Cr1 Fe1.94 Ni1.94 Al1",
          "Ta1 W1 Mo1",
          "Ta1 Nb1 W1",
          "Cr1 Fe1 Ni1 Cu1",
          "Ti4 V2 Fe2 Co2 Ni2 Cu1",
          "Hf1.5 Ti2.5 Ta1 V7",
          "Hf1 Zr1 Ti1 Nb1 Mo1",
          "Ti1 Cr12 Fe12 Co12 Ni12 Al2",
          "W2.31 Fe2.92 B1.46 C1",
          "Ti1 Nb1 V1 Mo1 Fe1",
          "Ta1 Nb2 W2 Ru1",
          "Hf10 Ti33 Nb1 Si16",
          "Cr2 Mn2 Fe2 Co2 Ni2 C1",
          "Ta1.33 Nb1.33 W1.33 Mo1.33 Si1",
          "Zr4.75 Ti4.75 Ta4.75 Nb4.75 Mo1",
          "Cr5.88 Mn17.65 Fe28.41 Co5.88 B1",
          "Ti1 Nb2 Ru1",
          "Zr1 Ti1 Nb1 V1.5 Mo1",
          "V2.5 Mo1 Fe2.5 Co2.5 Ni2.5",
          "Ti1 V1 Mo1 Cr1 Fe1",
          "Ti1 Nb1 W1 Mo1",
          "Mo45.5 B1 Si3.5",
          "Zr1 Ti1 Nb1 V1 Al1",
          "Cr1 Fe1 Ni1 Cu1 Al1",
          "Cr10 Mn10 Fe10 Co10 Ni10 Al1",
          "Cr1.33 Fe1.33 Co1.33 Ni1",
          "Cr1 Fe1 Co1 Ni1 Cu1 Al2.8",
          "Ti1.5 Cr1 Fe1 Ni1 Cu1 Al1",
          "Mo1 Cr2 Fe3 Co2 Ni2 Al2",
          "Cr5 Fe5 Ni10 Cu5 Al1",
          "Fe14.29 Co14.29 Ni14.29 Cu14.29 Sn1",
          "Cr2.5 Fe2.5 Co2.5 Ni2.5 Al2.5 Si1",
          "Ti1 Ta1 V1 W1",
          "Cr1.42 Fe1 Co1.42 Ni1.42 Al1.42",
          "Hf1.5 Zr2.5 Ti3 Ta1 Nb2",
          "V3.2 Cr2 Fe2 Co2 Ni2 Cu2 Al1",
          "Cr1.33 Fe1.33 Co1.33 Al1",
          "Nb1 Cr24.6 Mn24.6 Fe24.6 Co24.6 Ni24.6 C1",
          "Ti1 Cr1.25 Fe1.25 Co1.25 Ni1.25 Al1.5",
          "Ti1 V1 Cr1 Fe1 Ni1 Cu1 Al1.5",
          "Ti1.2 Mo1 Cr2 Fe2 Ni2 Al2",
          "Ti1 Nb1 W1 Ru1",
          "Cr4.6 Fe1.4 Co2.8 Ni1 Cu1 Al9.2",
          "Ti1 Cr5 Fe5 Co5 Ni5",
          "Mo1 Cr2 Fe2 Co4 Ni2 Al2",
          "Mg1 Zr1 Cu1 Zn1 Al13 Si3",
          "Cr1 Mn1 Fe1 Co1 Ni1 Al1.25",
          "Ti1 Ta1 Nb1 V1 W1",
          "Ti20.83 Ta1 Nb6.83",
          "Cr1.67 Mn1 Fe1.67 Co1.67 Pd1.67 Ni1.67",
          "Ti2.83 Nb2.83 Si1",
          "Zr1 Ti1.94 Ta1.31 Nb2.14 Mo1.22 Al1.99",
          "Cr1 Fe1 Ni1.99 Cu1.01 Al1",
          "Cr3.4 Fe2.8 Co3 Ni1.2 Cu1 Al8.6",
          "Cr1.11 Fe1.11 Co1.11 Ni1.11 Al1",
          "Hf1.33 Zr1.33 Ti1.33 Ta1.33 Nb1.33 Mo1",
          "Mo3.62 Ni3.08 Si1",
          "Hf1 Zr1 Ti1 Ta1 Mo1",
          "Hf2 Ti2 Nb2 V1 Mo1 Si1.4",
          "Zr1 Ti1 Nb1 V1 Mo1.3",
          "Ti1 Cr5 Fe5 Co5 Ni5 Al4",
          "Fe1 Co1 Ni3 Cu1 Al1",
          "Cr1 Fe1.42 Co1.42 Ni1.42 Al1.42",
          "Hf1 Ta1 Nb1",
          "Cr1 Fe2.25 Co2.25 Ni2.25 Al2.25",
          "Cr2.25 Fe1 Co2.25 Ni2.25 Cu2.25",
          "Cr2 Fe2 Co2 Ni1 Cu2 Al2",
          "Cr1.15 Fe1 Co1 Ni1",
          "Zr2 Ti2 Ta1 Nb2 Mo1 Al2",
          "Ti1 Cr3.33 Fe3.33 Co1.67 Ni5",
          "V2.8 Cr2 Fe2 Co2 Ni2 Cu2 Al1",
          "Ti1.5 V1 Fe1 Co1 Ni1 Cu1",
          "Ti3.6 Cr2 Fe2 Co2 Ni2 Cu2 Al1",
          "Re1 Co2.25 B1.75",
          "Cr2.11 Fe1 Co2.22 Ni1 Al4.78",
          "Cr1 Fe1 Co1 Ni2.15 Al1",
          "Zr1 Ti1 Nb1 V1 Mo1.5",
          "Mn5 Fe5 Co5 Ni5 Cu5 Sn1",
          "Li1 Mg1 Cu1 Zn1 Al16",
          "Ti1 Co1 Ni1 Al1",
          "Cr1 Fe2.5 Co2.5 Ni2.5 Al1.5",
          "Cr1.34 Mn1.34 Fe1.34 Co1.34 Ni1.34 Al1",
          "Mo46 B1 Si3",
          "Mo14.33 B1.33 Si1",
          "Ta2.5 Nb2.5 V1 W4 Mo2.5",
          "Ti2.4 Cr2 Fe2 Co2 Ni2 Cu2 Al1",
          "Cr4.2 Fe1.6 Co4.6 Ni1 Al8.6",
          "W1 Fe1.33 B1",
          "Zr1 Ti3.35 Nb3.35 Mo3.35 Cr1",
          "Cr2.5 Fe1 Co5.5 Ni1",
          "V1 Mo1 Fe1 Co1 Ni2",
          "Hf1 Ti4 Ta2.5 V4.5",
          "Zr1 Mo19.75 B2 Si2.25",
          "Ti1 Cr1 Fe1 Ni1 Cu1 Al1",
          "W3.33 Fe2 Co1 Ni2",
          "Hf1 Ti1 Nb1 Al1",
          "W2.69 Fe2 Co1 Ni2",
          "Ta1 Nb1 W3 Mo1",
          "Ti1 Nb1 V1 Mo1",
          "Mo1 Cr3.29 Fe3.29 Co3.29 Ni3.29",
          "Cr1 Fe1 Co1 Cu1",
          "Cr1.2 Fe6.2 Co2.2 Ni1 Cu1.8 Al7.6",
          "Cr2 Mn2.5 Fe4 Ni1.5 Al1",
          "Hf2 Zr2 Ti2 Ta1 Nb1",
          "V1 Fe1 Co1 Ni1",
          "Zr4.17 Ti4.17 Nb4.17 V4.17 Al1",
          "Zr0 Ta38.86 Nb0.06 W1 Mo0 Fe0.08 C0 N0 O0",
          "Cr1.33 Fe1.33 Co1.33 Ni1.33 Al1",
          "Mo4.14 B1 Si2",
          "Ta2 Nb1.33 W1.33 Mo1 Re1",
          "Cr2.66 Fe2.66 Co2.66 Ni2.66 Al1",
          "Cr1.67 Fe1.67 Ni1 Cu1.67 Al1.67",
          "Ti2 Nb2 V2 Mo1 Cr3",
          "V1.99 Cr1 Fe1 Co1 Ni1",
          "Fe1 Co1 Ni1 Al1",
          "Ti1 V2 Fe2 Co2 Ni2 Cu1",
          "W1.2 Cr1 Ni3.38 B2.42",
          "Ti1 Ta4 V5 W2",
          "Hf1 Zr1 Ti1 Ta1 C4",
          "Cr3.33 Mn4.17 Fe6.67 Ni2.5 Al1",
          "Ti3.21 Cr2.01 Fe2.01 Co2.01 Ni2.01 Cu2.01 Al1",
          "Hf0.02 Cr1.91 Fe4.85 Co1 Ni5.09 Al6",
          "Cr1 Fe1 Co1 Ni1 Cu1",
          "Cr1 Fe2 Co2 Ni2 Cu2 Al2",
          "Mo1 Cr3.33 Fe1 Co5.67 Ni5.67",
          "Y1 Ti1 Cr1 Co1 Ni1 Cu1 Al1",
          "Ti1 Cr2 Fe1.89 Ni3.67 Al2",
          "Cr1 Mn1 Fe1 Co1 Ni1.05",
          "Zr0.09 Ti1 Mo97.69 B7.05 C1.71",
          "V3.63 Cr2.01 Fe2.01 Co2.01 Ni2.01 Cu2.01 Al1",
          "Ti2 Ta2 Nb2 V2 Al1",
          "Mo10.38 B1 Si1.12",
          "Cr2.01 Fe2.01 Co2.01 Ni2.01 Cu1 Al3.01",
          "Ta8 Ir7 Ni4 B1",
          "Ta1 W1 Mo1 Re1",
          "Fe12.33 Co8.52 Ni8.52 Al6.7 C1",
          "Ti1 Nb2 Cr2 Al45",
          "Hf1 Ti1 Ta1 Al1",
          "Fe1.05 Co1.05 Ni2.16 Al1",
          "Ti1.34 Cr1.34 Fe1.34 Ni1.34 Cu1",
          "Ti1 Ta2.88 Nb2.88 W2.88 Mo2.88",
          "Ti1 Ta1 Nb1 V1 W1 Mo1",
          "Cr1.33 Mn1.33 Fe1.33 Co1.33 Ni1.33 Al1",
          "Mo89 B1 Si10",
          "V3.99 Cr1.99 Fe1.99 Co1.99 Ni1.99 Cu1.99 Al1",
          "Ti1 Cr1 Fe1 Co1 Ni1 Al2",
          "Cr1 Fe1.99 Co1 Ni1 Al1",
          "V1.5 Cr1 Fe1 Co1 Ni1",
          "Nb1 Cr4.85 Fe4.85 Co4.85 Ni4.85",
          "Cr2 Fe2 Co1 Ni2 Cu1 Al2",
          "Hf2 Zr1 Ti1 Nb2",
          "Li2.5 Mg5 Zn2.5 Al5 Sn1",
          "Ti2 Nb2 V2 Mo2 Cr2 Al1",
          "Cr1 Fe2.99 Co1.99 Ni1 Cu1.99 Al5.97",
          "Ti1 Cr5 Fe5 Ni5 Al1",
          "Li1 Mg1 Zn1 Al1 Sn1",
          "Zr1 Mo40.5 B4 Si4.5",
          "Cr3.33 Fe3.33 Co3.33 Ni3.33 Cu1 Al1",
          "V3.6 Cr2 Fe2 Co2 Ni2 Cu2 Al1",
          "W1 Cr4.5 Fe4.5 Co4.5 Ni4.5 C1",
          "Hf1 Zr1 Ti1 Nb1.5 Mo1",
          "V1 Cr2.5 Fe2.5 Co2.5 Ni2.5 Cu2.5 Al1.25",
          "Cr1.61 Mn1.61 Fe1.61 Co1.61 Ni1.61 Al1",
          "Ti2 Mo2 Cr2 Fe2 Co2 Ni2 Cu2 Al2 B1 Si2",
          "Cr4.4 Fe1 Co4.8 Ni1.2 Al8.6",
          "Ti1 W1 Re1",
          "Cr5 Fe5 Co5 Ni5 Al1",
          "W1.82 Ni2.93 B1",
          "Ti1 V2 Mo2 Cr2 Fe2",
          "Hf1 Zr1 Ti1 Nb1 Mo1.5",
          "Cr6 Fe1.4 Co2 Ni1.2 Cu1 Al8.4",
          "Hf4.75 Zr4.75 Ti4.75 Nb4.75 Al1",
          "Sc1 Hf1 Zr1 Ti1",
          "Ti2 Cr4 Fe4 Co4 Ni4 Cu2 Al1",
          "Cr4 Fe1.33 Co3.17 Ni1 Al7.17",
          "Hf1.83 Zr1.83 Ti1.83 Nb1.83 Al1",
          "Cr1 Co2 Ni2",
          "W4.09 Fe2 Co1 Ni2",
          "Ti1 Ta1 Mo1",
          "Ti2 Cr4 Fe4 Co4 Ni4 Cu3 Al1",
          "Cr1.25 Mn1.25 Fe1.25 Ni1.25 Al1",
          "Y1.67 Zr1.67 Ta1.67 Mo14.67 Fe1 Co4 Si8.67",
          "Cr2 Mn2 Fe2 Co2 Ni2 Al1",
          "Ti1.2 Cr2 Fe2 Co2 Ni2 Cu2 Al1",
          "Ti22 Nb10.5 Cr10.5 Co6 Ni1",
          "Cr1 Fe1 Ni2.01 Cu1 Al1.2",
          "Cr1.67 Fe1.67 Ni3.34 Cu1.67 Al1",
          "Hf12.25 Zr12.25 Ti12.25 Ta6.12 Nb6.12 O1",
          "Ti2 Ta1 Nb1 V1 Mo1",
          "Fe4.96 Co1 Ni4.96 Cu4.96 Al4.96",
          "Ti1 Mo1 Cr2 Fe2 Ni2 Al2",
          "Cr6.2 Fe1 Ni6.2 Cu4.2 Al2.4",
          "Zr3.33 Ti3.33 Nb3.33 V1 Mo5",
          "Hf1 W7.5 Re2.5 Ru1",
          "Mg1 Cr1 Cu1 Zn1 Al13 Si3",
          "Cr1 Fe1 Co1 Ni1.99 Al1.3",
          "Ta1 Nb5 W5 Mo5 Re2.5 C1",
          "Cr2 Fe2 Ni4 Cu2 Al1",
          "Zr1 Ti1 Nb1 V2",
          "Cr14.78 Mn14.19 Fe14.26 Co14.78 Ni14.56 C1",
          "Zr1 Ti4 Nb1.5 Cr2 Al1.5",
          "Nb1 V1 W3 Ru1",
          "Ti27.54 V1 Al3.26",
          "Ti1 Nb1 Mo1 Cr1",
          "Ta2.67 Nb1 V2.33 W2",
          "Mo1 Cr4.8 Fe4.8 Co4.8 Ni4.8",
          "Ti1 Ta1 Nb1 W1 Mo1",
          "Zr6.5 Ti7 Ta4 Nb5 V1 Al1.5",
          "Cr1.1 Fe1.1 Ni2.22 Cu1.1 Al1",
          "Cr9.8 Mn9.8 Fe9.8 Co9.8 Ni9.8 C1",
          "Hf1 Zr1 Ti1 Ta1 Nb1 W1 Mo1",
          "Ti1 Ta1 Nb1 Al1",
          "Hf2.5 Zr2.5 Ti1.14 Ta1",
          "Hf1.6 Ti2.53 Nb1.53 V1",
          "Ti1 Nb1 V1 Mo1 Al1",
          "Cr5.5 Fe1 Co1 Ni1 Cu1 Al7.17",
          "Ti1 V1 Cr1 Mn1 Fe1 Co1 Ni1 Cu1 Al2",
          "Ti1.5 Ta1 Nb1 V1 Mo1",
          "Cr1 Fe1 Co1 Ni1 Al1.4",
          "Zr3.5 Ti4.5 Ta1 Al1",
          "Cr16.67 Mn50 Fe82.33 Co16.67 B1",
          "Ti1 Nb2 W2 Ru1",
          "Li2 Mg1 Sc2 Ti3 Al2",
          "Hf10 Ti21 Nb1 Si16",
          "Mn4 Fe4 Co1 Ni1",
          "Ti24.75 W1 Al24 Si0.25",
          "Li6 Ca1 Mg7 Y0.02 Al3.98 Si2",
          "Ti1 Fe1 Co1 Ni1 Cu1 Al1",
          "Ta1.2 Nb2 W2 Mo2 Re1 C1.2",
          "Ti1 Ta1 W1 Mo1",
          "Cr1 Fe1 Co1 Ni1 Al1.8",
          "Zr2 Ti2 Nb2 V2 Mo1",
          "Ti1 Ta1 W1",
          "Nb1 Cr10 Fe10 Co10 Ni10 Al10",
          "Ti1 Nb1 Mo1",
          "W1 Ir22 Al2",
          "W1 Cr3.8 Mn3.8 Fe3.8 Co3.8 Ni3.8",
          "Hf5.56 Zr5.56 Ti7.06 Ta1 Nb1",
          "Cr5 Mn5 Fe5 Co5 Ni5 Al1",
          "Zr1 Ti1 V1 Fe1 Co1 Ni1 Al1",
          "Mo1 Cr5 Fe5 Co5 Ni5 Al5",
          "W5 Fe2 Co1 Ni2",
          "Zr1 Ti1 Ta1 V1 Mo1",
          "Cr5.05 Mn5.05 Fe5.05 Co5.05 Ni5.05 Al1",
          "Cr3.3 Mn1 Fe3.3 Co3.3 Ni3.3 Al1.65",
          "Zr1 Ti1 Nb1 V1",
          "Zr1 Ti1 Nb1 Cr3",
          "Cr1 Fe1 Ni1.99 Cu1 Al1.59",
          "Hf1.67 Zr1.67 Ti1.67 Ta1",
          "Fe1 Co1.5 Ni1 Cu1 Al1",
          "Mo1 Cr5 Fe5 Ni5 Al5",
          "Cr1 Fe5 Co5 Ni5 Al4",
          "Zr1 Ti1 V1 Fe1 Ni1 Cu1",
          "Fe5 Co5 Ni5 Cu5 Sn1",
          "Zr3 Ti2 Ta2 Nb1",
          "Cr1.43 Mn1.79 Fe2.86 Ni1.07 Al1",
          "Cr1 Fe1 Co1 Ni1 Cu1 Al1",
          "Ti3.33 Ni2.33 C1",
          "Ti1 Nb1 V1 Cr1 Ni1 Al10",
          "Cr1 Mn1 Fe1 Ni1",
          "Mn12.5 Fe12.5 Co12.5 Ni12.5 Cu12.5 Sn1",
          "Ti1 Cr5 Fe5 Co5 Ni5 Cu5 Al2.51",
          "Ti4 Ta4 Nb4 V4 Al1",
          "Mg1 Ni1 Cu1 Zn1 Al13 Si3",
          "Ti3.44 Nb2.06 V1 Cr1 Ni1.5 Al1",
          "Ti4.4 Nb11.4 Mo1 Si3.2",
          "Ti2 Cr2 Fe2 Co2 Ni2 Cu2 Al1",
          "Mo1 Cr1 Fe1 Co1 Ni1 Al1",
          "Nb2 V2 Mo2 Cr2 Al1",
          "Mn3 Ni3 Cu3 Al1",
          "Fe1 Co1 Ni1 Cu1 Sn0.02",
          "Cr1 Fe1 Co1 Cu1 Al2.5",
          "Hf3.33 Zr3.33 Ti3.33 Ta3.33 Nb3.33 Al1",
          "Cr1 Fe1 Ni1.99 Cu1.59 Al1",
          "V1 Cr4.8 Fe4.8 Co4.8 Ni4.8 Cu4.8",
          "Cr1 Fe1 Ni1 Al1.3",
          "Zr2.59 Ti2.53 Ta1 Nb2.89",
          "Hf1.15 Ti9.85 Nb31.31 W1 Mo3.62 Cr2.08 Al3.54 Sn3.85 Ge4.54 Si16",
          "Zr1 Ti1 Ta1 Nb1 V1 Mo1",
          "Nb1 Cr2.5 Fe2.5 Co2.5 Ni5.25",
          "Cr2 Mn1.2 Fe2 Co2 Ni2 Al1",
          "Cr1 Fe1 Ni1.2 Cu1 Al1",
          "V2.4 Cr2 Fe2 Co2 Ni2 Cu2 Al1",
          "Mo1 Cr5 Fe5 Co5 Ni5",
          "Cr2.12 Fe2.12 Co2.12 Ni4.12 Cu1 Al1",
          "Hf1 Zr1 Ti1 Ta1 Nb1 Mo1",
          "Cr1 Co1 Ni1 Al1",
          "Zr1 Fe1 Co1 Ni1 Cu1 Al1",
          "W63.76 Fe1 Ni2.34",
          "Mn20 Fe20 Co20 Ni20 Cu20 Sn1",
          "Ti1 Nb1 Mo1 Cr1 Fe1",
          "W1 Cr5 Fe5 Co5 Ni5",
          "Cr1 Fe1 Ni2 Cu1 Al1.8",
          "Mn1 Fe1 Co1 Ni1",
          "Cr1.14 Mn1.14 Fe1.14 Co1.14 Ni1.14 Al1",
          "Cr1 Fe1 Co1 Al1",
          "Zr2 Ti2 Ta1 Nb2 Al1",
          "Ti1 Nb3 W1 Ru1",
          "Mo1 Cr2 Fe2 Co2 Ni2",
          "Ti5 Ni4 C1",
          "Cr2 Mn2 Fe3 Ni1 Al1",
          "Zr1 Ta2.13 Ru3.53",
          "Ti1 Ta1.33 Nb1.33 W1.33 Mo1.33",
          "Ta1 Nb2 W2 Mo2 Re1 C1",
          "Cr18.53 Mn17.98 Fe17.89 Co17.89 Ni18.44 C1",
          "Ti1 Cr1 Fe1 Co1 Ni1",
          "V1.2 Cr2 Fe2 Co2 Ni2 Cu2 Al1",
          "Zr2 Ti2 Ta1 Nb2",
          "Zr0.08 Ti1 Mo98.79 C0.13",
          "Cr2.38 Fe1.38 Co2.38 Ni1 Al5.38",
          "Cr2 Fe2 Co2 Ni6 Cu1 Al2",
          "Li2.5 Mg5 Cu1 Zn2.5 Al5",
          "Cr1.17 Fe1.11 Co1.11 Ni1.17 Al1",
          "W112.94 Fe1 Ni2.34",
          "Ti1 Nb1 V1 Mo1 Al1.25",
          "Ta1 Cr2.5 Mn2.5 Fe2.5 Co2.5 Ni2.5 Al1.25",
          "Cr1 Fe1 Co3.01 Ni2.01 Cu1 Al6.04",
          "Cr1.14 Fe1.14 Co1.14 Ni1.14 Al1",
          "Ta1 V1.33 W4 Mo1.67",
          "Mo1 Cr2 Fe2 Co2 Al2",
          "W1 Fe3 Ni7",
          "Cr2 Fe2 Co2 Ni2 Cu1 Al4",
          "Nb1 Cr2 Fe2 Co2 Ni2 Al2",
          "Mo82 B1 Si16",
          "Ta1 Nb1 W9 Mo1",
          "Cr1.43 Mn1.43 Fe1.43 Co1.43 Ni1.43 Al1",
          "Ti1 Nb1 V1 Cr1 Ni1 Al5",
          "Li38 Ca1 Mg48 Al15 Si1",
          "V3.21 Cr2.01 Fe2.01 Co2.01 Ni2.01 Cu2.01 Al1",
          "W1 Cr2.3 Mn2.3 Fe2.3 Co2.3 Ni2.3",
          "Cr3.33 Fe3.33 Ni6.67 Cu1.67 Al1",
          "Ti1 Ta4 Nb4 W4 Mo4",
          "Cr2.86 Fe1.71 Co2.57 Ni1 Al6.14",
          "Cr1.13 Mn1.13 Fe1.13 Co1.13 Ni1.13 Al1",
          "Mo1 Cr2.3 Mn2.3 Fe2.3 Co2.3 Ni2.3",
          "Hf2 Zr2 Ti2 Ta1",
          "Mo1 Cr2 Fe2 Co2 Ni2 Al1",
          "Nb1 Mo29.89 B2.85 Si3.3",
          "Cr1.67 Fe1.67 Co1.67 Ni1.67 Al1",
          "Ti1 Cr3.33 Fe3.33 Co3.33 Ni3.33",
          "Ti1 Cr1 Fe1 Co1.5 Ni1.5",
          "Cr9.8 Fe9.8 Co9.8 Ni9.8 Cu1 Al9.8",
          "Y1 Hf1 Zr1 Ti1",
          "Mo1 Cr2.5 Fe11 Co3.5 Ni2",
          "Mo1 Cr2 Fe2 Co2 Ni2 Al3",
          "Ta2 Nb2 W2 Mo2 Si1",
          "Cr1 Fe3.99 Co1 Ni1",
          "Cr6.2 Fe1.6 Co2 Ni1.4 Cu1 Al7.8",
          "Mo1 Cr1 Fe1 Ni1 Al1",
          "Cr1 Fe1 Co1 Ni1.99 Cu1",
          "Cr1 Fe1 Co1 Ni1 Ga1",
          "Cr1 Mn1 Fe1 Cu1 Al1",
          "Cr2 Fe2 Co2 Ni2 Al1",
          "Ti1.89 Mo1.89 Cr1.89 Al1",
          "Ti1 Cr1 Fe1 Co1 Ni1 Al1",
          "Cr1 Fe2.99 Co1 Ni1",
          "Mn3 Ni3 Cu3 Sn1",
          "Zr0 Ti1 Mo84.97 Co0.21 S0.25",
          "Ti2.39 Cr1.99 Fe1.99 Co1.99 Ni1.99 Cu1.99 Al1",
          "Ti2 V2 Fe2 Co2 Ni2 Cu1",
          "V1 Cr3.8 Mn3.8 Fe3.8 Co3.8 Ni3.8",
          "Ta2 Nb2 W1 Mo1",
          "Ta1 Nb1 V1 W1 Mo1 Cr1",
          "Ta1.62 Nb1.57 V1 W1.56 Mo1.54 Cr1.47",
          "Nb1 Mo1 Cr1 Al1",
          "W1 Re1 Fe3 Ni7",
          "Zr1 Ti1 Nb1 V1.25 Mo1",
          "Ti1 Nb1 Ru1",
          "Cr1 Mn1.06 Fe1.75 Co1.83 Ni1.81",
          "W1 Cr2 Fe2 Co2 Ni2",
          "Ti1 Cr2 Fe2 Co2 Ni2",
          "Ti4 Cr2 Fe2 Co2 Ni2 Cu2 Al1",
          "Mo1 Cr10 Fe10 Co10 Ni10 Al10",
          "Hf1 Zr1 Ti1 Ta1",
          "Cr2.6 Fe2.4 Co2.6 Ni2 Cu1 Al9.4",
          "Ti3.98 Cr3.98 Fe3.98 Ni3.98 Cu1",
          "Zr1 Ti2.04 Ta1.14 Nb2.1 Al2.19",
          "Ti3.63 Cr2.01 Fe2.01 Co2.01 Ni2.01 Cu2.01 Al1",
          "Ti2 Cr4 Fe4 Co4 Ni4 Al1",
          "Cr1 Fe1 Ni1.94 Cu1 Al1",
          "Cr3.21 Co1 Ni7.21 Cu7.14 Si2",
          "Zr10 Ti10 Nb10 V3 Mo1",
          "Cr1 Mn1 Fe6 Co6 Ni6",
          "V3 W5.5 Re2.5 Ru1",
          "W1 Cr1.62 Mn1.62 Fe1.62 Co1.62 N1.62",
          "Zr1 Ti2.7 Nb1.5 Cr2 Al2.8",
          "Hf4 Zr4 Ti4 Ta4 Nb4 Mo1",
          "Ti32 Ta1 Nb9 Cr19 Co39",
          "Hf1 Zr1 Nb1",
          "Cr2.87 Fe1.88 Co1.88 Ni1.88 Cu1 Al2.87",
          "Cr3.34 Mn1 Fe3.34 Co3.34 Ni3.34 Al1",
          "Ti1 Cr1 Fe1 Ni1 Cu1",
          "Cr5.17 Fe1.5 Co1.67 Ni1.33 Cu1 Al6",
          "Mo1 Cr2.01 Fe2.01 Co2.01 Ni3.01 Al2.01",
          "Mn1 Fe1 Ni1",
          "Cr1.67 Fe1 Co3 Ni1",
          "Nb2 V1 W2 Ru1",
          "Hf1 Zr1 Ti1 Ta1 Nb1 V1 N1",
          "Cr5.36 Mn31.09 Fe36 Ni10.18 Al6.73 C1",
          "Ti27.11 V1 Al3.21",
          "Ti6 Nb35 V1 Cr8 Al5",
          "Cr2 Fe2 Co2 Ni1 Cu1 Al2",
          "Cr1 Fe1 Co1 Ni1 Al1 C1",
          "Hf8.08 Zr8.08 Ti8.08 Nb8.08 Al1",
          "Ti1 V1 Mo1 Cr1 Al1",
          "Cr1.05 Mn1.05 Fe1.05 Co1.05 Ni1.05 Al1",
          "Mn33.33 Fe33.33 Co33.33 Ni33.33 Cu33.33 Sn1",
          "Ta1 Nb2.5 W2.5 Mo2.5 Re1.25 C1",
          "Ti1 Nb1 W3 Ru1",
          "Cr10.17 Fe10.17 Co10.17 Ni10.17 Al1",
          "Hf1 Ti1 Ta1 Nb1 Mo1",
          "Cr3 Fe1.29 Co2.86 Ni1 Al6.14",
          "Fe1 Co1 Ni1 Cu1",
          "Hf1 Zr1 Ti1 Ta1 Nb1",
          "Cr6.2 Fe1 Ni6.4 Cu4 Al2.4",
          "Hf1 Ti2 Nb2 Mo1",
          "Ti2 Nb2 V2 Mo1 Cr4",
          "Cr2 Fe2 Co1 Ni2 Cu2 Al2",
          "Hf7.5 Ti21 Nb1 Si16",
          "Ti1 Cr2 Fe2 Ni2 Cu2 Al2",
          "V1 Mo1 Fe1 Co1 Ni1.2",
          "Cr2 Fe2 Co2 Cu1 Al2",
          "Ti40 Nb1 Al5 Si15",
          "Ti4 V7 Mo1 Cr2 Al6",
          "Fe2 Co2 Ni2 Cu2 Sn1",
          "Cr3.2 Fe2 Co3.4 Ni1 Cu1 Al9.4",
          "Mn6.34 Ni6.34 Cu6.34 Al1",
          "Cr1 Fe1 Ni2 Cu1 Al2.2",
          "Cr4 Fe1 Ni3.57 Cu4.14 Al1.57",
          "Cr3.8 Fe2 Co2.8 Ni1 Cu1 Al9.4",
          "Ti1 Mn35 Fe38.75 Ni18.75 Al30",
          "Cr1 Fe1 Co1.99 Ni1 Cu1",
          "V1 Cr1 Fe4.5 Co2 Ni1.5",
          "Hf1 Zr1 Ti1 Nb1 O1.5",
          "Cr1.99 Fe1 Co1 Ni1 Cu1",
          "Cr1.67 Fe1.67 Ni3.33 Cu1.67 Al1",
          "Ti4.5 Ta6 Nb15 Co1 Ni23.5",
          "Be1 Ti1.91 Mo1.91 Cr1.91 Fe1.91 Co1.91 Ni1.91 Cu1.91 Al1.91 Si1.91",
          "Cr1 Fe1 Co1 Pd1 Ni1",
          "Cr23.73 Mn24.58 Fe23.37 Co23.61 Ni24.1 C1",
          "Cr1 Mn1 Fe1 Ni1 Cu1",
          "Fe4 Co4 Ni4 Al1",
          "Hf1 Ti1 Nb1 V1",
          "Cr1 Fe1 Co1 Ni1.96 Al1",
          "Cr1.44 Fe1.29 Co1.29 Ni1.44 Al1",
          "Cr1.67 Mn1.67 Fe1.67 Ni1.67 Al1",
          "Zr1 Ti1 Nb1 V2 Mo1",
          "Cr2 Fe2 Co2 Ni2 Cu1 Al1.41",
          "Sc1 Hf1 Zr1 Ta1 Mo1",
          "Ti33 Nb1 Si16",
          "Cr1 Fe1 Co2 Ni2 Al1",
          "Cr2.01 Fe2.01 Co3.01 Ni2.01 Cu1 Al2.01",
          "Cr1 Co1 Ni1 Cu1 Al1",
          "Ti13 Ta1 Nb42 V12 Mo20 Cr12",
          "Cr2.63 Mn2.63 Fe2.63 Co2.63 Ni2.63 Al1",
          "Mo1 Cr4.96 Fe4.96 Ni4.96 Al4.96",
          "Zr1 Ti1.5 Nb1 V1",
          "Ti1 Nb1 W8.5 Mo1.5",
          "Ti1 Nb3 W1 Re1",
          "Zr1.43 Ti1.43 Nb1.43 V1.43 Mo1",
          "Cr5 Co4.5 Ni5 Cu4.5 Al1",
          "V2 Cr3 Mn1 Fe7 Co2 Ni5",
          "Cr3.33 Fe3.33 Co3.33 Ni3.33 Al3.33 C1",
          "Ti2 Cr4 Fe4 Co4 Ni4 Cu1 Al3",
          "Hf1 Zr2 Ti2 Nb2 Mo1 Si1",
          "Hf1 Zr2 Ti2 Nb2 Mo1 Si1.8",
          "Ti1 Ta5.88 V5.88 W5.88 Cr5.88",
          "W1 Cr2 Mn2 Fe2 Cu2 Al2",
          "Ti4 Nb4 V4 Mo4 Al1",
          "Cr3 Fe2 Co3.6 Ni1 Cu1 Al9.4",
          "Cr4.97 Fe7.44 Ni2.48 Al1",
          "Cr6.8 Fe1 Co4.4 Ni2 Al5.8",
          "Cr2.33 Mn2.33 Fe2.33 Co2.33 Ni2.33 Al1",
          "Cr1 Fe1 Co1 Ni1 Al1",
          "Ti1 Cr5 Fe5 Co5 Ni5 Cu5 Al2.5",
          "Cr1 Fe1 Co1 Cu1 Al1.8",
          "Cr1.36 Fe1.27 Co1.55 Ni1 Al3.91",
          "W30.51 Fe1 Ni2.3",
          "Mo1 Fe1 Co1 Ni1",
          "W2.14 Fe2 Co1 Ni2",
          "Cr1 Fe2 Co2 Ni2 Cu1 Al2",
          "Ti3.38 Nb5.12 Cr1 Al1.12 Si1.88",
          "W1 Fe2.1 Ni4.9",
          "Hf1.02 Zr1.01 Ti1.07 Ta1.08 Nb1",
          "Ti2.5 Ni1.5 C1",
          "Hf2 Zr2 Ti1 Nb2 Mo2",
          "Ti2 Cr2 Fe2 Co2 Ni2 Al1",
          "Zr1 Ti1 Nb1",
          "Hf1 Zr1 Ti1 Ta1 Nb1 V1 W1 Mo1",
          "Hf3 Mo1 B14 Si10",
          "Ta1 Co5.5 B3.5",
          "Zr1 Ti4 Nb4 V4 Al4",
          "Hf2 Zr2 Ti1 Ta1 Nb2",
          "Cr1.34 Fe1.34 Co1.34 Ni1.34 Al1",
          "Ti1 V1 Cr1 Fe1 Ni1 Cu1 Al1",
          "Mo10.17 B1 Si5.5",
          "Cr1.25 Fe1 Co1.75 Ni1",
          "Zr1 Ti1 Nb1 V1 Mo1",
          "Ti2.82 Cr2.01 Fe2.01 Co2.01 Ni2.01 Cu2.01 Al1",
          "Ti1 Nb1 W1",
          "V1 Mo1 Fe1 Co1 Ni1.8",
          "Ti1 Fe1 Ni1 Al1",
          "Cr3 Fe3 Co3 Al1",
          "Zr1 Ti1 Nb1 V3 Mo1",
          "V2.82 Cr2.01 Fe2.01 Co2.01 Ni2.01 Cu2.01 Al1",
          "Ta1 Nb1 V1 W1",
          "Mo27.33 B1 Si5",
          "Cr1 Fe1 Co1 Ni1 Cu1 Al2.5",
          "Cr3.6 Fe1 Co4.2 Ni1 Cu1 Al9.2",
          "Hf2 Zr2 Ti2 Nb2 V2 Si1",
          "Cr3.33 Fe3.33 Co3.33 Cu3.33 Al1",
          "Mo1 Cr2.01 Fe3.01 Co2.01 Ni2.01 Al2.01",
          "Zr1.27 Ta1.07 Ru1",
          "Cr2.4 Mn5.6 Fe7 Ni4 Al1",
          "Ti2 Nb2 V2 Mo1 Cr2",
          "Ti1 Nb1 V1 Mo1 Al1.5",
          "Nb1 Cr2.43 Fe2.43 Co2.43 Ni2.43",
          "Mo40.5 B1 Si8.5",
          "Cr1 Fe2 Co2 Ni2 Al1",
          "Cr1.43 Fe1.43 Ni3.29 Al1",
          "V2 W1 Cr1 Co4 Ni4",
          "Fe2 Co2 Ni2 Si1",
          "Cr1.89 Fe1.89 Co1.89 Al1",
          "Nb1 Cr4 Fe4 Co4 Ni4 Al4",
          "Zr1 Ti1 Nb1 V1 Mo1.7",
          "Hf1 Zr1 Ti1 Ta1 Nb1 Al1",
          "Ti2 V3 Mo1 Cr2 Al2",
          "Li2.6 Ca0.03 Mg3 Al1 Si0.03",
          "Hf1 Ti6.5 Ta2.5 Nb2",
          "Cr2.4 Fe2.6 Co2.4 Ni2.2 Cu1 Al9.4",
          "Cr4.96 Fe4.96 Co4.96 Ni4.96 Al1",
          "Cr4 Fe4 Co4 Ni4 Al1",
          "W3 Mo5 Re3 Ru1",
          "Ti4 Ta3.5 Nb1 V3.5",
          "Ti1 W64.67 C1",
          "Ti1 Cr5.05 Fe5.05 Co5.05 Ni5.05 Al5.05",
          "Cr4.76 Fe4.76 Co4.76 Ni1 Al4.76",
          "Cr4.76 Fe1 Co4.76 Ni4.76 Cu4.76",
          "Fe1.33 Co1.33 Ni1.33 Al1",
          "Cr1 Fe1 Co1 Al2",
          "Ti1 Cr1 Fe1 Ni1 Al1",
          "Cr2.21 Fe2.21 Co2.21 Ni2.21 Cu1 Al1.77",
          "Hf1 Zr1.4 Ti2 Nb2 Mo1",
          "Fe1 Co3 Ni1 Cu1 Al1",
          "Ti1 V1 Cr1 Mn1 Fe1 Co1 Ni1 Cu1",
          "Cr1.2 Mn2.3 Fe3.5 Ni2 Al1",
          "Nb1 V5.5 W4.5 Mo1",
          "V1 Cr2.49 Fe2.49 Co2.49 Ni2.49 Cu2.49 Al1.25",
          "Zr1 Ti2.2 Nb1.5 Cr2 Al3.3",
          "Cr2 Co1 Ni2",
          "Cr1 Fe1.99 Co1 Ni1 Cu1",
          "V1.25 Mo1 Fe1.25 Co1.25 Ni1.25",
          "Mo5 B2 Si1",
          "Cr2 Fe2 Co2 Ni2 Cu1 Al2",
          "Ti1 V1 Fe1 Co1 Ni1",
          "Cr1 Fe1 Co3 Ni3.2 Al1.8",
          "Mo1 Cr2 Fe2 Co2 Ni3 Al2",
          "Cr2 Mn2 Fe2 Ni2 Al1",
          "Mo1 Cr6.69 Fe6.69 Co6.69 Ni6.69",
          "Ti1 Cr1.25 Fe1.25 Co1.25 Ni1.25 Cu1.25",
          "Hf1 Zr2 Ti2 Nb2 Mo1 Si1.4",
          "Cr2 Fe2 Co2 Ni2 Cu1",
          "Cr1 Mn5.8 Fe6.73 Ni1.88 Al1.25",
          "Ti1 Cr2 Fe2 Ni2",
          "Nb5 Fe1 Co1 Ni1 Cu1",
          "Cr1 Fe1 Co1 Cu1 Al1",
          "Cr1 Fe1 Ni2 Cu1 Al2.5",
          "Zr1 Ti2 Nb2 V2 Al2",
          "Cr2 Fe2 Ni2 Cu2 Al1",
          "Ti2 Nb2 W1",
          "Y1 Sc1 Hf1 Zr1 Ti1",
          "Ti1.33 Ta1 V2 W3.67",
          "Hf2 Zr2 Ti2 Nb1 Mo2",
          "Hf1 Zr1 Ta1 Nb1",
          "Cr2 Fe2 Co2 Ni2 Cu1 Al1",
          "Cr1.11 Fe1.11 Ni2.33 Al1",
          "Ti4.75 Nb4.75 W4.75 Mo4.75 Cr1",
          "Cr3.6 Fe1 Co5.8 Ni1 Al8.6",
          "Hf1 Zr1 Ti1 Ta1 Nb1 V1",
          "Ti10.78 Mo10.78 Cr10.78 Al1",
          "Zr5 Ti7.5 Ta4 Nb5 V1 Al2.5",
          "Ti2 Nb2 V2 Cr1 Al2",
          "Zr0.09 Ti1.08 Mo106.37 B3.82 C1",
          "Cr2.04 Mn2.04 Fe2.04 Co2.04 Ni2.04 Al1",
          "Zr1 Ti1 V1 Mo1",
          "Cr2.01 Fe2.01 Co2.01 Ni3.01 Cu1 Al2.01",
          "V5 Mo1 Fe5 Co5 Ni5",
          "Zr4 Ti4 Ta4 Nb4 Al1",
          "Mn10 Fe10 Co10 Ni10 Cu10 Sn1",
          "Ti1.99 V1 Mo1 Cr1 Fe1",
          "Mo1 Cr33 Ni33 Al33",
          "Cr3.33 Fe3.33 Ni6.64 Al1",
          "Cr1 Mn1 Fe1 Co1 Ni1",
          "Ti1 V1 Cr1 Mn1 Fe1 Co1 Ni1 Cu1 Al1",
          "V1 Mo1 Fe1 Co1 Ni1.4",
          "Cr1.25 Mn1 Fe1.25 Co1.25 Pd1.25 Ni1.25",
          "Ti1 Nb2 W1",
          "Fe2 Co2 Ni2 Cu1 Al2",
          "Ti1 Ta1 Nb1 W1",
          "Ti1 Ta88.5 W10 C1.5",
          "Ti21 Nb1 Si16",
          "Nb1 V1 W1 Ru1",
          "V2 W41 Mo1 Co4 Ni2",
          "V1.61 Cr2.01 Fe2.01 Co2.01 Ni2.01 Cu2.01 Al1",
          "Ti4 Nb4 V4 Mo2 Cr1",
          "Hf3.32 Zr3.32 Ti3.32 Nb3.32 Al1",
          "Ta1 Cr5 Mn5 Fe5 Co5 Ni5",
          "Nb1 Fe2 Co2 Ni2 Cu2",
          "Ti1 Ta2 Nb2 V2 Mo2",
          "Hf2 Zr2 Ti2 Nb2 O1",
          "Zr1 Ti1 Nb1 Mo1",
          "Hf5 Zr1 Ti10 Nb10 Mo5",
          "Ti27.81 V1 Al3.29",
          "Hf1 Zr2 Ti2 Nb2 Mo1",
          "Ti1 Mo2 Cr4 Fe4 Ni4 Al4",
          "Cr2 Fe2 Co2 Ni2 Cu2 Al1 B2",
          "Hf2 Ti2 Nb2 V1 Mo1",
          "Cr1 Fe1 Ni1.4 Cu1 Al1",
          "Nb11.6 Fe1 Co1 Ni1 Cu1",
          "Ti27.37 V1 Al3.24",
          "Zr3.18 Ti3.36 Nb3.95 Cr1",
          "Hf2 Zr4 Ti8 Nb1 V4",
          "Ti1 Cr5 Fe5 Co5 Ni5 Al9",
          "W1 Fe1.8 B1.2",
          "Ti1 Cr2 Fe2 Co3 Ni3",
          "Hf2.5 Zr2.5 Ti2.5 Ta1",
          "Ta3 Co28.5 Ni1 B17.5",
          "Hf3.33 Ti3.33 Nb3.33 V1.67 Mo1.67 Si1",
          "Ta1 V1 W1 Cr1",
          "W1 Re6 Fe2 Ni8",
          "Cr1 Fe1 Ni1 Al1",
          "Ti1 Nb1 V1 Cr1 Al1",
          "Ti5 Cr5 Fe5 Co7.5 Ni7.5 Al1",
          "Ti1 Ta2 Nb2 W2 Mo2",
          "Cr4.6 Fe1 Co4.8 Ni1 Al8.6",
          "W2.5 Re1 Fe5.25 Ni12.25",
          "Cr1.67 Fe1.67 Co1.67 Ni1.67 Al1.67 Si1",
          "Cr1 Co1 Ni1",
          "V1 Cr1.05 Fe1.05 Co1.05 Ni1.05 Cu1.05",
          "Mo1 Cr2 Fe1 Co2 Ni2 Al2",
          "Mo1 Fe1 Co1 Ni1 Al1",
          "Hf1.5 Zr2.5 Ti2.5 Ta2.5 Nb2.5 Al1",
          "Mo5.3 B1 Si3.7",
          "Hf2 Ti6 Ta3 Nb1",
          "Cr9 Fe10 Co10 Ni10 Al1",
          "Hf2 Ti2 Nb2 V1 Mo1 Si1",
          "Zr1 Ti2 Ta2 Nb3",
          "Cr5 Fe5 Co5 Ni5 Cu5 Al2.5 B1",
          "Cr2 Fe2 Co1 Ni2 Al2",
          "Ti1 Cr1 Fe1 Co1 Ni1 Cu1",
          "Mo1 Cr2 Fe2 Co2 Ni1 Al2",
          "Cr6.34 Fe6.34 Co6.34 Al1",
          "Ti27.45 V1 Al3.25",
          "Cr7 Fe1 Ni5.2 Cu4.8 Al2",
          "Y1 Ti1.25 Cr1.25 Co1.25 Ni1.25 Cu1.25 Al1.25",
          "Ti1 Cr1 Fe1 Co1 Ni1 Al1.5",
          "Nb1 Cr5 Fe5 Co5 Ni10.5",
          "V1 Cr10.25 Fe10.25 Co10.25 Ni10.25 Cu10.25 Al10.25",
          "Ti10 Ni9 C1",
          "Cr2.5 Mn1 Fe2.5 Co2.5 Pd2.5 Ni2.5",
          "Ti1 Nb5 Mo5 Cr5 Co5",
          "Cr4.96 Fe1 Co4.96 Ni4.96 Al4.96",
          "Ti1 Cr1.33 Fe1.33 Co1.33 Ni1.33 Al1.6",
          "Ti1.32 Nb1.32 V1.34 Mo1.34 Al1",
          "Fe1 Co1 Ni1 Cu1 Al1 Si1"
         ],
         "legendgroup": "",
         "marker": {
          "color": "#2E91E5",
          "symbol": "circle"
         },
         "mode": "markers",
         "name": "",
         "showlegend": false,
         "type": "scattergl",
         "x": [
          -25.952484130859375,
          4.978418827056885,
          -46.60498809814453,
          56.91315460205078,
          62.445701599121094,
          28.86591911315918,
          48.71148681640625,
          17.839252471923828,
          8.359329223632812,
          -84.85936737060547,
          72.27338409423828,
          -88.27233123779297,
          -56.24018096923828,
          -53.291011810302734,
          18.30480194091797,
          -3.4901466369628906,
          5.1704206466674805,
          -15.66789722442627,
          38.456016540527344,
          30.89618682861328,
          40.889892578125,
          36.58790969848633,
          47.64972686767578,
          -40.5353889465332,
          -13.552093505859375,
          34.476627349853516,
          -41.85792922973633,
          42.17572021484375,
          80.6822509765625,
          37.586429595947266,
          79.35945892333984,
          71.2971420288086,
          -12.249707221984863,
          70.93215942382812,
          -41.20494079589844,
          -7.847455978393555,
          -11.60372543334961,
          42.912376403808594,
          -40.2749137878418,
          -41.56789779663086,
          -2.018230438232422,
          -43.16175079345703,
          50.455753326416016,
          22.851606369018555,
          20.377344131469727,
          50.11387634277344,
          -57.58407974243164,
          -48.654335021972656,
          -82.3068618774414,
          25.799667358398438,
          61.230220794677734,
          -82.5389175415039,
          -43.36205291748047,
          -45.7054443359375,
          -16.676326751708984,
          3.644916534423828,
          17.53725814819336,
          -12.291947364807129,
          -29.175933837890625,
          12.505548477172852,
          -41.85701370239258,
          53.190956115722656,
          1.8393689393997192,
          35.75444793701172,
          -13.1613130569458,
          4.533118724822998,
          -2.025017738342285,
          -8.199071884155273,
          6.764477252960205,
          -32.136966705322266,
          50.88299560546875,
          -0.7654446363449097,
          33.464664459228516,
          -32.23714828491211,
          -30.259016036987305,
          22.885639190673828,
          -3.065398931503296,
          -8.203239440917969,
          -82.03993225097656,
          -63.85800552368164,
          -53.90165710449219,
          -59.65274429321289,
          10.020723342895508,
          -7.601534843444824,
          19.635639190673828,
          -16.15730857849121,
          -46.67667770385742,
          28.274742126464844,
          -43.07810592651367,
          30.666833877563477,
          -3.570997953414917,
          27.348276138305664,
          -25.237756729125977,
          48.15861129760742,
          -34.949745178222656,
          62.04431915283203,
          -73.88185119628906,
          7.5617523193359375,
          42.9840087890625,
          6.738785266876221,
          51.570770263671875,
          35.28621292114258,
          -34.737449645996094,
          -43.74142837524414,
          46.383567810058594,
          -41.91670608520508,
          7.922853469848633,
          60.519798278808594,
          -27.255178451538086,
          44.12409591674805,
          -46.964839935302734,
          45.62689971923828,
          60.9919319152832,
          -11.41391658782959,
          2.8481571674346924,
          -51.38819885253906,
          63.99631118774414,
          54.766666412353516,
          2.629944324493408,
          64.32195281982422,
          52.65073776245117,
          -8.841415405273438,
          48.80022430419922,
          64.708740234375,
          -20.587339401245117,
          25.496795654296875,
          -49.197906494140625,
          -44.15533447265625,
          -29.042816162109375,
          5.091642379760742,
          60.42034149169922,
          0.5684005618095398,
          48.46454620361328,
          -42.32908630371094,
          22.513505935668945,
          -28.629030227661133,
          7.513209819793701,
          -46.54326629638672,
          44.09992980957031,
          -33.426998138427734,
          17.937837600708008,
          30.320032119750977,
          -33.54597091674805,
          -34.30803298950195,
          -62.51626205444336,
          30.540863037109375,
          -32.23714828491211,
          71.00273895263672,
          -2.511162281036377,
          -15.252570152282715,
          72.26042938232422,
          -48.4174919128418,
          1.8981462717056274,
          -57.57244110107422,
          46.34234619140625,
          55.79616165161133,
          -2.1578369140625,
          81.2547607421875,
          -10.315640449523926,
          33.50886917114258,
          73.06515502929688,
          -19.035297393798828,
          27.29081916809082,
          -74.54170227050781,
          -30.538732528686523,
          -31.820817947387695,
          33.864501953125,
          -71.71864318847656,
          -83.6275634765625,
          35.19089126586914,
          -57.435203552246094,
          -52.532535552978516,
          4.805115699768066,
          -7.1003193855285645,
          7.189421653747559,
          -68.16020202636719,
          19.643972396850586,
          -27.409347534179688,
          65.7203369140625,
          7.561113357543945,
          -40.03803634643555,
          -9.48283863067627,
          73.36560821533203,
          -23.023685455322266,
          -78.25634002685547,
          -4.990675926208496,
          -15.06303596496582,
          62.26228332519531,
          -63.70472717285156,
          -44.167869567871094,
          76.90715789794922,
          71.65807342529297,
          71.99835205078125,
          -35.00993728637695,
          -43.26118469238281,
          11.636504173278809,
          34.00638198852539,
          76.32054138183594,
          -40.896183013916016,
          -10.166781425476074,
          1.0073630809783936,
          50.62677764892578,
          17.76030158996582,
          46.03147506713867,
          -7.538219928741455,
          93.31610107421875,
          -1.6224312782287598,
          43.97686767578125,
          52.62529373168945,
          -11.716812133789062,
          -29.68898582458496,
          29.205215454101562,
          -21.072694778442383,
          -7.963443279266357,
          -43.637569427490234,
          -23.511077880859375,
          39.893043518066406,
          16.845577239990234,
          -20.624380111694336,
          -11.295791625976562,
          -53.93052673339844,
          50.52093505859375,
          55.07842254638672,
          25.907365798950195,
          62.690982818603516,
          -56.081825256347656,
          34.794620513916016,
          -4.0335564613342285,
          50.82463836669922,
          -46.62089920043945,
          -7.483184814453125,
          -61.96663284301758,
          -12.235373497009277,
          40.79997634887695,
          -49.885887145996094,
          -53.21772384643555,
          -2.7404661178588867,
          -11.390848159790039,
          -54.335853576660156,
          -4.371247291564941,
          6.667832851409912,
          -30.713903427124023,
          0.5670885443687439,
          12.638999938964844,
          -61.755279541015625,
          55.774173736572266,
          37.54701232910156,
          -23.094093322753906,
          -88.46726989746094,
          56.45132827758789,
          41.95609664916992,
          -43.474037170410156,
          -13.733552932739258,
          -13.691225051879883,
          -57.351707458496094,
          0.5703911185264587,
          76.6587905883789,
          -53.197052001953125,
          46.404476165771484,
          -58.26310348510742,
          -7.065493106842041,
          13.38197135925293,
          -45.009971618652344,
          -55.41238784790039,
          -28.09677505493164,
          72.02203369140625,
          -60.798709869384766,
          -40.79370880126953,
          -44.78579330444336,
          -40.07717514038086,
          -28.708160400390625,
          25.091691970825195,
          67.58349609375,
          -1.414394497871399,
          -81.33533477783203,
          3.388746500015259,
          69.92240905761719,
          -1.1632202863693237,
          -9.499247550964355,
          74.70896911621094,
          2.8087024688720703,
          19.48031997680664,
          -28.92626953125,
          31.96878433227539,
          51.45746994018555,
          -26.77335548400879,
          25.932714462280273,
          47.13744354248047,
          -25.98655891418457,
          37.630210876464844,
          -52.5019416809082,
          17.961685180664062,
          -19.373905181884766,
          56.81349563598633,
          -40.17597579956055,
          24.21459197998047,
          -7.531426429748535,
          57.54817581176758,
          -19.04501724243164,
          -0.9367117881774902,
          -58.32230758666992,
          42.219078063964844,
          -91.05224609375,
          -33.618228912353516,
          14.500833511352539,
          28.87309455871582,
          68.86077117919922,
          -30.880939483642578,
          58.228424072265625,
          -10.268119812011719,
          -53.6197624206543,
          -91.08246612548828,
          19.94330406188965,
          -2.7827491760253906,
          -14.742083549499512,
          2.8417305946350098,
          -34.346248626708984,
          -21.225467681884766,
          -3.5206758975982666,
          23.21017074584961,
          18.205474853515625,
          42.905487060546875,
          53.45392608642578,
          -57.23884963989258,
          45.55625534057617,
          -75.7756118774414,
          50.953792572021484,
          1.7746633291244507,
          -47.138526916503906,
          17.972198486328125,
          4.838389873504639,
          15.386143684387207,
          9.013673782348633,
          24.203773498535156,
          38.05600357055664,
          -47.202449798583984,
          29.06299591064453,
          29.550127029418945,
          44.82410430908203,
          38.16767501831055,
          33.76744842529297,
          20.393352508544922,
          28.048465728759766,
          36.25837326049805,
          -26.618778228759766,
          16.830501556396484,
          -15.176274299621582,
          41.86974334716797,
          19.537412643432617,
          -22.766109466552734,
          6.3688063621521,
          -13.310226440429688,
          -5.412237644195557,
          36.59794616699219,
          71.54623413085938,
          -51.96104049682617,
          8.711380004882812,
          -41.08624267578125,
          -90.41618347167969,
          52.627296447753906,
          -57.6265869140625,
          29.488143920898438,
          -59.2431755065918,
          -13.94085693359375,
          5.157705307006836,
          79.27713775634766,
          53.886863708496094,
          -32.14695358276367,
          -59.32046890258789,
          -53.65346145629883,
          -3.8806354999542236,
          71.37767028808594,
          52.331478118896484,
          16.202449798583984,
          64.05098724365234,
          -15.529226303100586,
          -29.303871154785156,
          14.495519638061523,
          3.0806376934051514,
          -12.01089859008789,
          -28.635774612426758,
          50.584720611572266,
          -2.9415199756622314,
          73.29751586914062,
          -29.557340621948242,
          -53.79753875732422,
          71.56414794921875,
          -92.9256820678711,
          -29.493223190307617,
          -39.544342041015625,
          37.814456939697266,
          18.027530670166016,
          -11.585182189941406,
          22.855424880981445,
          -11.584705352783203,
          -3.324971914291382,
          -60.41889572143555,
          -14.183004379272461,
          54.8427848815918,
          55.917179107666016,
          -81.33019256591797,
          18.519855499267578,
          -87.09793090820312,
          -8.338728904724121,
          33.97715377807617,
          44.694541931152344,
          -15.957474708557129,
          66.08860778808594,
          -29.972183227539062,
          -64.3600845336914,
          29.31072425842285,
          -11.809026718139648,
          -49.206417083740234,
          40.23115539550781,
          -74.49182891845703,
          20.96101951599121,
          45.319976806640625,
          8.64310073852539,
          -67.88545989990234,
          64.65135192871094,
          -26.524242401123047,
          40.86924362182617,
          -10.113882064819336,
          53.83906173706055,
          -13.731043815612793,
          77.95946502685547,
          -53.78627395629883,
          46.536460876464844,
          36.934242248535156,
          -12.726685523986816,
          46.69392776489258,
          45.93053436279297,
          7.177807807922363,
          40.2310676574707,
          -45.32756805419922,
          -23.341459274291992,
          -58.31544494628906,
          31.800947189331055,
          -92.8143081665039,
          36.4084358215332,
          57.315914154052734,
          36.32692337036133,
          45.291080474853516,
          88.60084533691406,
          -40.452823638916016,
          40.30800247192383,
          24.284162521362305,
          -23.787382125854492,
          -61.96771240234375,
          -29.38057518005371,
          -83.64640808105469,
          -1.373307466506958,
          -60.72911071777344,
          54.27975845336914,
          15.577731132507324,
          18.883146286010742,
          -2.7047030925750732,
          71.62914276123047,
          -53.9164924621582,
          23.601470947265625,
          -10.240979194641113,
          -10.66042423248291,
          -56.56122970581055,
          -25.274812698364258,
          78.6832275390625,
          71.78751373291016,
          45.92841339111328,
          14.279227256774902,
          -9.567475318908691,
          48.90385818481445,
          -24.45969581604004,
          -1.768912434577942,
          -15.048661231994629,
          -40.355098724365234,
          -66.56382751464844,
          -75.06430053710938,
          -54.677433013916016,
          -16.167591094970703,
          36.424739837646484,
          8.533257484436035,
          37.60175323486328,
          91.84371948242188,
          -9.426497459411621,
          19.011919021606445,
          56.13439178466797,
          -8.733808517456055,
          36.2100715637207,
          56.86732482910156,
          -24.007160186767578,
          -26.683542251586914,
          -25.308292388916016,
          -51.01739501953125,
          63.894493103027344,
          92.62019348144531,
          -16.7854061126709,
          24.829030990600586,
          -27.79443359375,
          35.23971176147461,
          79.64949798583984,
          24.054115295410156,
          38.198307037353516,
          -79.72563934326172,
          36.74188232421875,
          -10.748004913330078,
          40.00413513183594,
          -13.953683853149414,
          53.39517593383789,
          52.27239227294922,
          2.423267364501953,
          -6.872010707855225,
          -41.415557861328125,
          29.063434600830078,
          -12.362177848815918,
          -10.664785385131836,
          40.11846923828125,
          -58.775108337402344,
          30.914077758789062,
          19.86345863342285,
          27.736501693725586,
          -9.13078784942627,
          -27.25640106201172,
          -75.61152648925781,
          -24.192493438720703,
          45.703086853027344,
          -3.5770339965820312,
          55.67950439453125,
          -11.072693824768066,
          -28.027589797973633,
          3.7565557956695557,
          -15.505331039428711,
          -9.487546920776367,
          -3.120619535446167,
          -4.494760513305664,
          -87.04331970214844,
          -51.95514678955078,
          -26.767213821411133,
          -25.761096954345703,
          17.140714645385742,
          -30.04442596435547,
          -36.51333999633789,
          -6.7170515060424805,
          50.434322357177734,
          -17.050081253051758,
          72.23461151123047,
          -51.163429260253906,
          21.00094223022461,
          47.13408279418945,
          -34.9152717590332,
          -8.510149955749512,
          8.957501411437988,
          -14.630278587341309,
          -8.184808731079102,
          44.84053421020508,
          46.1807975769043,
          -4.903171062469482,
          -35.020179748535156,
          -28.005481719970703,
          49.64638900756836,
          -28.87103271484375,
          -44.068485260009766,
          -8.087498664855957,
          -10.114619255065918,
          44.24314880371094,
          -59.76105499267578,
          -39.971614837646484,
          15.605257987976074,
          -30.03318977355957,
          -57.70290756225586,
          18.94355583190918,
          20.273773193359375,
          -81.55452728271484,
          27.81650733947754,
          -12.897638320922852,
          -65.56745910644531,
          -10.729487419128418,
          7.5438666343688965,
          -70.7672348022461,
          -23.59352684020996,
          36.90018081665039,
          57.17400360107422,
          -0.664351761341095,
          -5.31105899810791,
          37.86591720581055,
          27.83576011657715,
          -55.68122482299805,
          -1.2420566082000732,
          -15.433774948120117,
          -53.189212799072266,
          -46.88520431518555,
          38.60205078125,
          -44.27862548828125,
          -11.672510147094727,
          14.68277359008789,
          49.36493682861328,
          36.642879486083984,
          15.776147842407227,
          -92.59430694580078,
          6.70225715637207,
          -12.461359977722168,
          35.76613998413086,
          -47.102718353271484,
          -29.373748779296875,
          -81.41372680664062,
          53.6639289855957,
          49.22684097290039,
          22.617511749267578,
          44.36495590209961,
          61.97804260253906,
          -14.020403861999512,
          35.408836364746094,
          3.0115692615509033,
          24.54613494873047,
          -53.654808044433594,
          -75.69084167480469,
          -12.830171585083008,
          0.9333682060241699,
          -3.9496679306030273,
          -24.486995697021484,
          -53.526451110839844,
          -35.497867584228516,
          38.16916275024414,
          17.520444869995117,
          -12.047435760498047,
          -30.030494689941406,
          -5.759187698364258,
          39.12933349609375,
          -10.401731491088867,
          -71.59262084960938,
          -4.14065408706665,
          -11.669926643371582,
          -10.668595314025879,
          -13.245142936706543,
          89.38153839111328,
          -37.852481842041016,
          4.587213516235352,
          -37.81843948364258,
          -7.289527416229248,
          24.544191360473633,
          71.12047576904297,
          -53.71879196166992,
          53.02787399291992,
          -81.98725891113281,
          52.71866226196289,
          19.81195068359375,
          -90.409423828125,
          -36.146240234375,
          -49.19679641723633,
          49.660194396972656,
          43.18373107910156,
          -58.98362731933594,
          14.699810981750488,
          50.1729850769043,
          72.1593246459961,
          -32.433231353759766,
          -10.568581581115723,
          33.89200973510742,
          59.688751220703125,
          33.7782096862793,
          -46.902828216552734,
          38.87162780761719,
          44.43383026123047,
          -84.02256774902344,
          63.38829040527344,
          51.66844177246094,
          12.76608657836914,
          18.443431854248047,
          53.51860809326172,
          21.098081588745117,
          34.50856018066406,
          -58.18998718261719,
          -51.00886917114258,
          -29.063016891479492,
          -29.669069290161133,
          4.554744720458984,
          -18.583389282226562,
          -75.6711196899414,
          -64.08496856689453,
          1.546248197555542,
          47.474910736083984,
          4.008524417877197,
          53.67286682128906,
          -48.148868560791016,
          -14.44526195526123,
          -45.51771926879883,
          -14.32160758972168,
          9.937066078186035,
          -39.72847366333008,
          61.54133605957031,
          -8.932319641113281,
          -17.548477172851562,
          -14.70189094543457,
          7.17372989654541,
          -62.125885009765625,
          42.827606201171875,
          24.04352378845215,
          -35.73300552368164,
          69.82941436767578,
          27.881898880004883,
          -71.35501098632812,
          -11.79508113861084,
          -8.762593269348145,
          64.21177673339844,
          14.288803100585938,
          65.0206527709961,
          93.19973754882812,
          54.75432205200195,
          -11.624568939208984,
          -44.94419860839844,
          -29.320274353027344,
          65.93282318115234,
          -28.895599365234375,
          -52.56489181518555,
          -32.14683532714844,
          -30.349584579467773,
          29.257614135742188,
          -14.743483543395996,
          -47.36444091796875,
          14.17326545715332,
          7.699645042419434,
          4.684230804443359,
          -12.248147010803223,
          -11.527536392211914,
          55.30855178833008,
          -89.2857437133789,
          6.674521446228027,
          -19.71588706970215,
          -28.26970863342285,
          -60.080474853515625,
          20.789710998535156,
          23.687620162963867,
          46.78353500366211,
          3.4015605449676514,
          -12.261466026306152,
          -8.471027374267578,
          41.05199432373047,
          -26.1192684173584,
          10.827964782714844,
          48.49744415283203,
          25.293302536010742,
          4.225807189941406,
          -18.948017120361328,
          74.4886245727539,
          -19.330907821655273,
          47.843910217285156,
          33.019386291503906,
          -26.153383255004883,
          -31.1118106842041,
          -17.569547653198242,
          -82.64131164550781,
          53.00871276855469,
          12.953987121582031,
          48.52143859863281,
          34.69199752807617,
          -11.226556777954102,
          18.229129791259766,
          40.26511001586914,
          -35.015892028808594,
          -57.18411636352539,
          26.52313804626465,
          -47.735565185546875,
          -26.434120178222656,
          13.839426040649414,
          -15.213616371154785,
          49.63706970214844,
          54.851070404052734,
          -82.292236328125,
          6.349406719207764,
          -48.03916931152344,
          -54.97687911987305,
          -35.517581939697266,
          -1.0243656635284424,
          7.200301170349121,
          -51.97077560424805,
          -42.76148986816406,
          20.04759979248047,
          -48.82929229736328,
          45.70992660522461,
          24.55449104309082,
          -27.73805809020996,
          -0.523268461227417,
          48.56084060668945,
          -24.83344268798828,
          6.540395259857178,
          59.582420349121094,
          -3.8607616424560547,
          2.421740770339966,
          41.1217155456543,
          39.8490104675293,
          -60.153167724609375,
          21.54250717163086,
          -49.21403503417969,
          -15.69973087310791,
          -21.227455139160156,
          -47.604942321777344,
          -36.99559783935547,
          -31.197254180908203,
          71.47016143798828,
          7.336447238922119,
          25.941728591918945,
          -17.027698516845703,
          -4.370307922363281,
          7.856809616088867,
          25.04488754272461,
          -29.645042419433594,
          -48.81064224243164,
          -33.73039627075195,
          73.24818420410156,
          -43.058353424072266,
          -58.370582580566406,
          6.070660591125488,
          -11.3584623336792,
          62.92204284667969,
          -33.094757080078125,
          -15.195685386657715,
          19.149152755737305,
          72.27770233154297,
          -3.7349629402160645,
          72.48426818847656,
          54.420196533203125,
          -4.992625713348389,
          -13.648468971252441,
          73.70604705810547,
          -1.3217345476150513,
          -18.56053352355957,
          34.6871223449707,
          -4.561233997344971,
          -78.0858383178711,
          16.78459358215332,
          -56.68252182006836,
          -0.8160695433616638,
          22.030040740966797,
          -70.77348327636719,
          -74.9019546508789,
          53.0305061340332,
          37.824459075927734,
          -43.731014251708984,
          -39.881629943847656,
          -92.9424057006836,
          54.20405578613281,
          56.772274017333984,
          6.894697666168213,
          -12.708220481872559,
          42.07582473754883,
          -75.263916015625,
          47.69636154174805,
          -45.579734802246094,
          24.61549186706543,
          54.731327056884766,
          18.980178833007812,
          23.986087799072266,
          48.69873809814453,
          -27.043344497680664,
          41.447017669677734,
          40.31401062011719,
          -72.29012298583984,
          -45.97896194458008,
          62.060367584228516,
          25.431316375732422,
          48.857200622558594,
          88.97242736816406,
          34.3401985168457,
          -3.7192492485046387,
          12.850104331970215,
          37.63090515136719,
          -2.399221181869507,
          40.97287368774414,
          -83.90591430664062,
          61.56470489501953,
          24.477949142456055,
          35.061004638671875,
          -85.52285766601562,
          20.373144149780273,
          6.769784927368164,
          1.8193408250808716,
          41.80813217163086,
          41.863521575927734,
          -3.775390386581421,
          50.49410629272461,
          43.124935150146484,
          -8.29850959777832,
          41.13392639160156,
          7.559183120727539,
          -42.85443115234375,
          51.57917785644531,
          -52.10359573364258,
          16.840011596679688,
          -7.7683634757995605,
          -18.29950523376465,
          59.49574279785156,
          -52.08426284790039,
          -48.34950637817383,
          48.424495697021484,
          46.280372619628906,
          -67.90423583984375,
          49.534751892089844,
          -40.95625305175781,
          -44.46564483642578,
          -27.165010452270508,
          15.340153694152832,
          -65.35386657714844,
          41.74675369262695,
          -82.81915283203125,
          -33.14047622680664,
          15.735727310180664,
          2.8030056953430176,
          -81.42880249023438,
          -89.23291778564453,
          -38.18815612792969,
          45.88206481933594,
          7.100555896759033,
          24.304004669189453,
          71.88125610351562,
          1.8829681873321533,
          -7.8608293533325195,
          22.613935470581055,
          -87.85994720458984,
          -63.99995422363281,
          -24.012535095214844,
          61.57769775390625,
          -70.13870239257812,
          -54.3614387512207,
          -47.54280471801758,
          37.60231018066406,
          70.44104766845703,
          59.60752487182617,
          -13.311631202697754,
          -49.89081954956055,
          -58.91905212402344,
          -46.60627746582031,
          -27.195383071899414,
          -12.866262435913086,
          64.34814453125,
          5.518854141235352,
          -38.8152961730957,
          47.94978332519531,
          -88.43801879882812,
          23.42112159729004,
          -33.07840347290039,
          -67.23085021972656,
          -39.2333984375,
          -61.29712677001953,
          -14.226550102233887,
          38.45256423950195,
          63.214271545410156,
          -25.54628562927246,
          15.523435592651367,
          -81.864990234375,
          50.484649658203125,
          41.364925384521484,
          41.84989547729492,
          -45.29862976074219,
          -15.394479751586914,
          -44.18358612060547,
          37.81283950805664,
          17.953723907470703,
          -12.458468437194824,
          -9.785100936889648,
          7.154610633850098,
          -8.67589282989502,
          47.460140228271484,
          34.373626708984375,
          -60.16555404663086,
          -11.676460266113281,
          -9.025221824645996,
          51.39372634887695,
          -12.63022232055664,
          -5.30027961730957,
          -27.962181091308594,
          -10.598563194274902,
          28.18266487121582,
          56.856536865234375,
          -59.54745101928711,
          2.096281051635742,
          6.447274208068848,
          -48.13909912109375,
          -42.152774810791016,
          -76.91824340820312,
          41.05391311645508,
          -12.636109352111816,
          -61.34389114379883,
          -47.94668197631836,
          49.76998519897461,
          -9.464452743530273,
          25.60282325744629,
          -12.515737533569336,
          -17.307954788208008,
          -16.460159301757812,
          -7.197834491729736,
          53.81127166748047,
          -24.36153793334961,
          -4.990514278411865,
          39.18260192871094,
          -24.438615798950195,
          -3.7382895946502686,
          -40.358421325683594,
          -12.280437469482422,
          -32.23714828491211,
          -53.846553802490234,
          -12.793641090393066,
          26.84185218811035,
          -14.823564529418945,
          -24.864612579345703,
          -88.4108657836914,
          18.066997528076172,
          3.40543532371521,
          14.236442565917969,
          -51.99266052246094,
          40.88728713989258,
          34.05729675292969,
          34.16942596435547,
          24.662580490112305,
          -6.325615882873535,
          52.30926513671875,
          63.4293098449707,
          -40.690834045410156,
          -33.84833526611328,
          -16.377309799194336,
          8.520773887634277,
          -7.616024494171143,
          49.12097930908203,
          -13.532851219177246,
          1.2274127006530762,
          25.880746841430664,
          7.738335132598877,
          -15.721477508544922,
          -71.01779174804688,
          -89.85884094238281,
          37.9368782043457,
          -29.715049743652344,
          54.052791595458984,
          -42.70222473144531,
          25.587116241455078,
          63.36123275756836,
          18.44222068786621,
          69.32732391357422,
          -25.964298248291016,
          -48.322444915771484,
          2.64811110496521,
          -3.7464051246643066,
          -3.4095113277435303,
          -85.96176147460938,
          -26.44357681274414,
          57.42130661010742,
          63.053707122802734,
          -85.71336364746094,
          16.934389114379883,
          75.39558410644531,
          -28.44516944885254,
          -1.8729054927825928,
          72.33790588378906,
          29.844221115112305,
          -61.62873077392578,
          -88.93270874023438,
          41.91789245605469,
          61.434326171875,
          -32.144256591796875,
          63.25898742675781,
          -12.592206001281738,
          -64.39226531982422,
          63.04405212402344,
          -92.99446868896484,
          81.85721588134766,
          26.264657974243164,
          -32.211875915527344,
          34.9381217956543,
          3.6278789043426514,
          12.42379093170166,
          -27.278383255004883,
          31.82025909423828,
          30.414609909057617,
          -65.9998550415039,
          -13.659682273864746,
          -87.9701919555664,
          -66.05729675292969,
          -91.06214141845703,
          -9.002609252929688,
          -90.4116439819336,
          -56.24871063232422,
          -25.525733947753906,
          72.00371551513672,
          -55.565650939941406,
          -74.88951110839844,
          -8.63247013092041,
          5.968216896057129,
          -34.633018493652344,
          -44.72573471069336,
          -79.72882843017578,
          -28.84592628479004,
          89.24381256103516,
          -12.535311698913574,
          -12.789088249206543,
          -78.47331237792969,
          50.76915740966797,
          -28.176231384277344,
          66.20150756835938,
          32.080665588378906,
          -1.777241826057434,
          -17.422374725341797,
          -29.664146423339844,
          38.1757698059082,
          -54.65597915649414,
          -44.462554931640625,
          45.250831604003906,
          56.860225677490234,
          64.48829650878906,
          51.15510940551758,
          -51.24737548828125,
          -25.75809097290039,
          -3.7935967445373535,
          -10.115686416625977,
          79.84379577636719,
          80.03273010253906,
          30.927011489868164,
          -53.34394073486328,
          33.48888397216797,
          -13.78851318359375,
          -7.4761152267456055,
          -3.9591734409332275,
          -55.296993255615234,
          -7.268185615539551,
          -38.19099044799805,
          -25.79826545715332,
          -7.69517183303833,
          49.33021545410156,
          13.362964630126953,
          -19.58824920654297,
          -35.43708038330078,
          70.80931091308594,
          -5.423685073852539,
          63.14157485961914,
          15.893052101135254,
          71.52207946777344,
          -15.015922546386719,
          37.14384460449219,
          61.960472106933594,
          6.671257019042969,
          3.9284088611602783,
          32.358253479003906,
          68.33186340332031,
          -11.313207626342773,
          9.640152931213379,
          18.134159088134766,
          -27.557701110839844,
          53.12648391723633,
          4.834942817687988,
          64.96509552001953,
          11.203276634216309,
          1.1416517496109009,
          -14.944337844848633,
          50.126102447509766,
          -47.379756927490234,
          46.461856842041016,
          28.33971405029297,
          -29.854398727416992,
          -16.19260597229004,
          76.40812683105469,
          -30.560871124267578,
          -18.580921173095703,
          50.459197998046875,
          -85.15625,
          27.470298767089844,
          34.36546325683594,
          -38.1328239440918,
          28.64340591430664,
          -28.670391082763672,
          -53.66321563720703,
          1.4409749507904053,
          -27.060413360595703,
          -14.733712196350098,
          -9.306403160095215,
          55.663414001464844,
          60.15291213989258,
          30.115320205688477,
          6.718101501464844,
          28.35964584350586,
          -13.693252563476562,
          -33.10188293457031,
          -33.59520721435547,
          46.53956985473633,
          48.30862045288086,
          47.10017395019531,
          -11.717805862426758,
          -14.359796524047852,
          -51.810115814208984,
          -25.5189208984375,
          -12.902791976928711,
          -39.19438171386719,
          -27.674909591674805,
          80.05767059326172,
          -40.9130744934082,
          13.583685874938965,
          -84.91409301757812,
          48.363521575927734,
          -43.067222595214844,
          25.90164566040039,
          -2.6057510375976562,
          -58.10376739501953,
          12.524336814880371,
          19.616378784179688,
          -27.93611717224121,
          14.69588851928711,
          -1.366196632385254,
          -3.4052469730377197,
          -78.70382690429688,
          -28.108753204345703,
          -2.0847976207733154,
          79.977783203125,
          -30.07379722595215,
          -85.7038803100586,
          -1.9793916940689087,
          77.16481018066406,
          -28.261995315551758,
          -65.55876159667969,
          33.00525665283203,
          -58.46499252319336,
          65.54087829589844,
          54.14873504638672,
          48.66547393798828,
          70.21361541748047,
          67.18411254882812,
          -29.103771209716797,
          -52.81652069091797,
          53.80651092529297,
          -11.950057029724121,
          63.05457305908203,
          26.377519607543945,
          39.83567810058594,
          30.42900276184082,
          19.410537719726562,
          -56.51519775390625,
          55.88309860229492,
          -13.977370262145996,
          12.88548755645752,
          43.80796432495117,
          -88.76435852050781,
          17.77150535583496,
          -48.4425163269043,
          -54.846744537353516,
          -43.498165130615234,
          13.140277862548828,
          12.126925468444824,
          -35.9631462097168,
          64.5771713256836,
          -41.88481140136719,
          42.74980163574219,
          34.7318229675293,
          32.521244049072266,
          57.352333068847656,
          49.75975036621094,
          -45.016937255859375,
          29.77644157409668,
          72.85374450683594,
          -52.7635612487793,
          -63.20954513549805,
          37.617637634277344,
          72.04572296142578,
          52.649024963378906,
          81.73591613769531,
          20.111553192138672,
          79.18869018554688,
          -40.283260345458984,
          -37.7677116394043,
          91.02848815917969,
          -59.227935791015625,
          76.57550048828125,
          18.02197265625,
          36.38404083251953,
          44.031097412109375,
          -3.7444236278533936,
          -6.771553993225098,
          -18.719528198242188,
          50.11275100708008,
          3.220569372177124,
          91.86763763427734,
          30.929956436157227,
          -7.23239803314209,
          -45.72017288208008,
          29.499975204467773,
          -16.669208526611328,
          41.22120666503906,
          -11.14400577545166,
          -5.940014362335205,
          2.3232638835906982,
          -2.237914562225342,
          -52.21645736694336,
          -3.8519089221954346,
          -7.856210231781006,
          60.683799743652344,
          17.4023380279541,
          28.639938354492188,
          -32.17093276977539,
          92.6312484741211,
          45.40867614746094,
          -39.42451858520508,
          -42.90916442871094,
          -1.7377161979675293,
          -9.3219575881958,
          -15.045830726623535,
          18.433141708374023,
          -93.03591918945312,
          7.1976823806762695,
          -15.450732231140137,
          -13.308876991271973,
          -33.35574722290039,
          15.35633373260498,
          -35.34278106689453,
          14.888642311096191,
          5.193810939788818,
          -14.140003204345703,
          34.433387756347656,
          -39.706459045410156
         ],
         "xaxis": "x",
         "y": [
          35.27949905395508,
          67.0443344116211,
          2.6536433696746826,
          51.69382095336914,
          39.594722747802734,
          -4.547367572784424,
          43.475460052490234,
          55.15092086791992,
          -5.297708034515381,
          37.7935676574707,
          -6.279995918273926,
          -3.7155508995056152,
          -7.08599328994751,
          62.480716705322266,
          -72.82588195800781,
          -1.301362156867981,
          -32.500553131103516,
          -52.199378967285156,
          43.2486457824707,
          30.894933700561523,
          -34.65620803833008,
          12.668325424194336,
          -8.493339538574219,
          -22.223207473754883,
          -10.393303871154785,
          0.010479158721864223,
          -3.5512378215789795,
          50.32517623901367,
          -3.4071502685546875,
          20.33204460144043,
          -1.3526335954666138,
          -6.475826263427734,
          2.696629047393799,
          -35.259605407714844,
          -23.612512588500977,
          -30.895084381103516,
          -10.692934036254883,
          -12.95776653289795,
          -21.72958755493164,
          48.606117248535156,
          4.946205139160156,
          39.397220611572266,
          0.5303863286972046,
          -48.986934661865234,
          -44.66012954711914,
          21.894804000854492,
          -9.426616668701172,
          43.658973693847656,
          34.51755905151367,
          -36.61265563964844,
          -17.24948501586914,
          34.95161437988281,
          39.32386016845703,
          1.253020167350769,
          18.36116600036621,
          -5.677926063537598,
          -72.67933654785156,
          45.536746978759766,
          28.206371307373047,
          41.04310989379883,
          -3.553297281265259,
          35.82736587524414,
          6.883044242858887,
          26.01132583618164,
          33.322147369384766,
          -31.84576988220215,
          4.945363998413086,
          -26.208097457885742,
          -96.79401397705078,
          -29.221376419067383,
          21.022953033447266,
          43.752140045166016,
          -73.48572540283203,
          21.176422119140625,
          48.90419006347656,
          71.24286651611328,
          -16.90395736694336,
          86.81825256347656,
          31.936229705810547,
          0.6014983057975769,
          63.971656799316406,
          -23.746740341186523,
          44.19212341308594,
          -57.843143463134766,
          -0.7660354971885681,
          -61.31448745727539,
          48.39686584472656,
          79.09519958496094,
          -52.938392639160156,
          -36.13582992553711,
          22.643264770507812,
          -7.261811256408691,
          -5.268700122833252,
          29.696229934692383,
          32.440650939941406,
          -19.67984390258789,
          -18.383386611938477,
          25.99782371520996,
          38.41034698486328,
          -94.38351440429688,
          -54.46243667602539,
          -24.246923446655273,
          30.752262115478516,
          -21.760181427001953,
          -25.537378311157227,
          47.13085174560547,
          -5.410615921020508,
          32.695274353027344,
          -46.2974967956543,
          -15.529078483581543,
          13.489080429077148,
          -29.75209617614746,
          -30.363784790039062,
          -76.53977966308594,
          -21.303958892822266,
          -9.566584587097168,
          -17.818462371826172,
          9.380990028381348,
          -5.403777122497559,
          -30.023014068603516,
          1.4018232822418213,
          -58.13892364501953,
          64.3691635131836,
          38.7335205078125,
          6.384217262268066,
          -35.354103088378906,
          -49.61832046508789,
          -52.77778625488281,
          10.958171844482422,
          66.59459686279297,
          -30.937843322753906,
          9.638080596923828,
          24.979568481445312,
          46.72768783569336,
          -1.5678528547286987,
          49.605133056640625,
          -58.351470947265625,
          -56.839603424072266,
          -33.64565658569336,
          15.512067794799805,
          55.76354217529297,
          -3.994736671447754,
          -27.09994888305664,
          16.236547470092773,
          -0.6355053186416626,
          -36.09127426147461,
          21.176422119140625,
          -10.281295776367188,
          21.939268112182617,
          66.6554183959961,
          21.092750549316406,
          43.85403060913086,
          19.375741958618164,
          31.304702758789062,
          -25.16144561767578,
          48.28102111816406,
          -39.15614700317383,
          -4.146137237548828,
          91.16998291015625,
          25.458314895629883,
          -5.287288188934326,
          19.881959915161133,
          10.228918075561523,
          -17.586442947387695,
          -32.51124954223633,
          -30.067062377929688,
          27.4371395111084,
          -21.564739227294922,
          38.62849044799805,
          -74.42382049560547,
          -23.673797607421875,
          -44.57599639892578,
          4.565397262573242,
          -46.25083541870117,
          -10.808022499084473,
          -28.583599090576172,
          59.494571685791016,
          6.27267599105835,
          -25.981712341308594,
          25.998760223388672,
          -64.92239379882812,
          87.92767333984375,
          -38.041133880615234,
          -26.95443344116211,
          18.319595336914062,
          -34.36164093017578,
          27.435924530029297,
          38.255126953125,
          0.32882624864578247,
          -53.99440383911133,
          23.112167358398438,
          18.936180114746094,
          -43.75181579589844,
          14.806388854980469,
          -19.50477409362793,
          42.94004821777344,
          -73.9185562133789,
          -33.79647445678711,
          -22.435840606689453,
          50.13230514526367,
          -20.942331314086914,
          29.26167106628418,
          -72.73121643066406,
          17.4146671295166,
          -46.929481506347656,
          -14.675300598144531,
          21.504196166992188,
          -16.431617736816406,
          0.28276175260543823,
          46.150726318359375,
          12.78958511352539,
          -11.738375663757324,
          6.459272384643555,
          -25.223386764526367,
          -24.50592613220215,
          -50.0098991394043,
          43.57328796386719,
          23.32044792175293,
          20.053983688354492,
          46.884029388427734,
          63.413291931152344,
          40.942264556884766,
          9.602815628051758,
          -35.08346939086914,
          40.570430755615234,
          -6.990716934204102,
          -13.331194877624512,
          -41.25510787963867,
          29.794788360595703,
          49.71257400512695,
          19.22597312927246,
          19.189016342163086,
          -78.354736328125,
          44.47507858276367,
          27.385665893554688,
          -43.855796813964844,
          9.146050453186035,
          3.3563733100891113,
          -42.89578628540039,
          21.999099731445312,
          -55.36721420288086,
          29.10049057006836,
          5.452306747436523,
          39.466190338134766,
          22.859201431274414,
          10.124289512634277,
          -31.111852645874023,
          -17.426340103149414,
          5.112401008605957,
          52.74669647216797,
          38.05976104736328,
          43.93744659423828,
          -26.013280868530273,
          44.425987243652344,
          -26.46979522705078,
          5.448776721954346,
          22.570783615112305,
          -4.867616653442383,
          25.825881958007812,
          -10.287620544433594,
          88.54484558105469,
          35.991878509521484,
          0.10204199701547623,
          -41.93315124511719,
          27.796316146850586,
          -42.95145034790039,
          25.32732391357422,
          -63.181121826171875,
          1.547293782234192,
          -5.450206756591797,
          -36.62666320800781,
          -21.986265182495117,
          -32.9077033996582,
          36.65978240966797,
          29.74386215209961,
          74.20809173583984,
          21.505460739135742,
          43.62925338745117,
          -59.52613067626953,
          -34.999855041503906,
          73.69768524169922,
          -65.2848129272461,
          -45.377845764160156,
          -12.735339164733887,
          -55.44205093383789,
          49.839176177978516,
          -2.4870147705078125,
          37.16541290283203,
          -28.213502883911133,
          18.83631134033203,
          -4.110452651977539,
          75.4749755859375,
          -17.261472702026367,
          50.907188415527344,
          -6.738383769989014,
          -51.38261032104492,
          -46.91962814331055,
          -17.986644744873047,
          19.884483337402344,
          43.81301498413086,
          -4.23700475692749,
          50.874794006347656,
          -32.196319580078125,
          17.552087783813477,
          -22.226360321044922,
          -33.91752624511719,
          -7.008756160736084,
          -31.916872024536133,
          -17.776201248168945,
          -59.19123458862305,
          -8.175040245056152,
          -31.848312377929688,
          60.16707229614258,
          -26.430431365966797,
          -32.836551666259766,
          -5.4482741355896,
          16.160694122314453,
          -16.342710494995117,
          -1.305195927619934,
          -18.809715270996094,
          25.06153106689453,
          26.778905868530273,
          -5.201970100402832,
          -26.31048583984375,
          15.76772403717041,
          -13.546104431152344,
          0.7049213647842407,
          35.9151611328125,
          51.0028190612793,
          0.21145807206630707,
          67.59749603271484,
          -21.78645133972168,
          17.14459800720215,
          -51.20741653442383,
          -40.378929138183594,
          13.036298751831055,
          12.186806678771973,
          12.733882904052734,
          -34.840518951416016,
          -32.64097213745117,
          -1.6291961669921875,
          -44.67337417602539,
          -4.861765384674072,
          17.26839828491211,
          6.49043607711792,
          22.59865951538086,
          8.3909273147583,
          -36.49906921386719,
          -72.72030639648438,
          -17.24588966369629,
          4.004574775695801,
          32.437530517578125,
          6.670435905456543,
          43.2530403137207,
          18.2489070892334,
          59.81208419799805,
          -5.205190181732178,
          -19.714632034301758,
          29.769798278808594,
          1.1414673328399658,
          31.22138786315918,
          -35.78589630126953,
          -12.003429412841797,
          38.88731002807617,
          66.34458923339844,
          -0.4215478301048279,
          1.2857190370559692,
          25.960641860961914,
          28.3148250579834,
          63.176551818847656,
          -30.10226821899414,
          -7.712656021118164,
          35.69578552246094,
          -21.24008560180664,
          36.493309020996094,
          67.07221984863281,
          31.95367431640625,
          32.56398010253906,
          -21.347627639770508,
          45.44144821166992,
          -26.679012298583984,
          40.85493087768555,
          44.5688591003418,
          -7.862185001373291,
          28.391618728637695,
          34.87525177001953,
          20.115966796875,
          -31.021465301513672,
          -35.04710388183594,
          -66.10658264160156,
          -40.34963607788086,
          -72.78258514404297,
          -10.795741081237793,
          -48.989315032958984,
          -55.70951461791992,
          -17.1187686920166,
          34.960716247558594,
          5.997147560119629,
          -25.43010902404785,
          -4.4467668533325195,
          29.73652458190918,
          25.179052352905273,
          -2.2790300846099854,
          -26.795549392700195,
          -1.1470645666122437,
          -13.318910598754883,
          -25.475923538208008,
          35.92966079711914,
          13.540409088134766,
          1.3924928903579712,
          -52.106719970703125,
          -1.1119775772094727,
          7.457054138183594,
          39.040000915527344,
          -17.453474044799805,
          -18.644668579101562,
          -31.10531234741211,
          17.36281394958496,
          -28.92363739013672,
          38.507171630859375,
          -20.916879653930664,
          35.984317779541016,
          50.926239013671875,
          36.953277587890625,
          -26.013689041137695,
          -0.819661021232605,
          -30.522714614868164,
          47.67183303833008,
          -25.425703048706055,
          -71.49128723144531,
          65.38909149169922,
          17.47146224975586,
          -10.292470932006836,
          -42.66748046875,
          -56.65940475463867,
          -50.1550178527832,
          30.064653396606445,
          -12.701337814331055,
          -30.924556732177734,
          13.363265991210938,
          52.379547119140625,
          13.596702575683594,
          -35.55202102661133,
          -12.912574768066406,
          -62.450889587402344,
          -42.88193130493164,
          4.285406589508057,
          -8.327622413635254,
          19.069700241088867,
          11.865826606750488,
          38.840728759765625,
          55.446475982666016,
          25.481611251831055,
          9.06467342376709,
          -21.61445426940918,
          25.30724334716797,
          -39.76176834106445,
          17.855121612548828,
          -43.06218338012695,
          -18.720809936523438,
          49.116268157958984,
          91.81499481201172,
          -22.88834571838379,
          -48.410465240478516,
          -0.8917563557624817,
          -33.58842468261719,
          -32.62258529663086,
          48.27716064453125,
          55.81133270263672,
          26.49789047241211,
          7.046825885772705,
          -15.749173164367676,
          5.74879264831543,
          -5.446926593780518,
          -30.232154846191406,
          -18.782651901245117,
          34.03801727294922,
          -61.319942474365234,
          -0.04663706198334694,
          3.2848827838897705,
          -0.8164876103401184,
          -13.801332473754883,
          55.45173645019531,
          58.12610626220703,
          51.61022186279297,
          88.0596694946289,
          26.22785186767578,
          -8.16210651397705,
          -27.128889083862305,
          32.09518051147461,
          -48.38149642944336,
          38.02542495727539,
          -26.904630661010742,
          -14.372576713562012,
          17.192049026489258,
          69.423583984375,
          8.174304962158203,
          -24.23273277282715,
          1.2488596439361572,
          -51.54597091674805,
          -21.42654800415039,
          15.754637718200684,
          1.3298944234848022,
          -19.69265365600586,
          35.97966003417969,
          -71.93699645996094,
          5.8709588050842285,
          9.100456237792969,
          -55.738956451416016,
          88.1421890258789,
          39.98933410644531,
          12.188066482543945,
          -50.72505569458008,
          -75.1082992553711,
          -42.91034698486328,
          -10.96052360534668,
          30.247703552246094,
          -64.99223327636719,
          -36.089141845703125,
          -15.43963623046875,
          -21.455018997192383,
          -14.267401695251465,
          -7.492009162902832,
          -12.492565155029297,
          -1.313502550125122,
          48.12002182006836,
          3.571106195449829,
          -20.182397842407227,
          73.67395782470703,
          23.721466064453125,
          55.42921829223633,
          22.285808563232422,
          -17.958053588867188,
          -2.193117380142212,
          59.802677154541016,
          -46.84483337402344,
          -21.98049545288086,
          -67.11022186279297,
          -44.988094329833984,
          26.469676971435547,
          -20.370651245117188,
          64.27427673339844,
          -25.195674896240234,
          -36.240108489990234,
          -10.695300102233887,
          -1.1993578672409058,
          66.03771209716797,
          69.38826751708984,
          -57.81744384765625,
          -5.143085956573486,
          -33.42620849609375,
          -57.50246810913086,
          -32.422271728515625,
          -27.358592987060547,
          -35.09619140625,
          -28.227088928222656,
          49.3110237121582,
          -9.744912147521973,
          48.23826217651367,
          -53.851139068603516,
          86.93462371826172,
          90.7947769165039,
          -14.926836013793945,
          34.43693542480469,
          49.01491165161133,
          26.205751419067383,
          -33.446048736572266,
          -4.8305487632751465,
          57.975093841552734,
          -72.6148910522461,
          17.192546844482422,
          79.46023559570312,
          34.98677062988281,
          -31.074108123779297,
          -12.384993553161621,
          -58.73423385620117,
          -23.59687042236328,
          -27.056943893432617,
          43.21821212768555,
          -18.052736282348633,
          35.4229850769043,
          -18.48246192932129,
          -22.33066749572754,
          9.804585456848145,
          -27.818695068359375,
          55.3587646484375,
          8.0305814743042,
          47.42843246459961,
          45.103145599365234,
          -25.49696159362793,
          -21.375255584716797,
          -74.30360412597656,
          -22.37783432006836,
          63.970306396484375,
          12.35844612121582,
          25.8939208984375,
          -33.567626953125,
          -97.51921081542969,
          -56.49496841430664,
          25.92140007019043,
          -56.84367370605469,
          49.77622985839844,
          17.660785675048828,
          -49.13056945800781,
          -11.47520637512207,
          -19.242292404174805,
          -14.551065444946289,
          -22.25928497314453,
          -51.07876968383789,
          27.81427001953125,
          74.06547546386719,
          69.8664779663086,
          63.32368850708008,
          -12.998136520385742,
          2.2325751781463623,
          20.037227630615234,
          -68.60913848876953,
          -49.13644027709961,
          47.38205337524414,
          16.383548736572266,
          -25.4475154876709,
          -66.77855682373047,
          -74.0250473022461,
          -27.426868438720703,
          60.48556900024414,
          -40.524330139160156,
          56.12187576293945,
          -21.69341278076172,
          23.30777359008789,
          -49.885108947753906,
          48.05680465698242,
          -53.12125015258789,
          -15.06747055053711,
          26.160898208618164,
          68.58360290527344,
          -3.1322896480560303,
          -27.02438735961914,
          3.8182761669158936,
          -37.66816711425781,
          -30.556976318359375,
          -51.78166961669922,
          32.211952209472656,
          37.804561614990234,
          75.50048828125,
          29.7755126953125,
          26.591150283813477,
          -49.6197624206543,
          42.11716842651367,
          38.48108673095703,
          -11.167943954467773,
          32.160804748535156,
          21.226055145263672,
          -6.932587623596191,
          20.601184844970703,
          91.64083862304688,
          -3.294529438018799,
          33.15626907348633,
          -73.69868469238281,
          50.45753860473633,
          35.99074935913086,
          -34.20377731323242,
          38.53620147705078,
          31.638633728027344,
          -6.56029748916626,
          38.55148696899414,
          -0.08801966160535812,
          8.615069389343262,
          76.48790740966797,
          -13.27499771118164,
          -23.251867294311523,
          38.03632354736328,
          31.81101417541504,
          -34.66041564941406,
          -1.9579488039016724,
          -17.653226852416992,
          -13.01011848449707,
          1.0076473951339722,
          -21.04707145690918,
          29.442670822143555,
          -31.309232711791992,
          -49.167633056640625,
          5.453269004821777,
          -35.82514953613281,
          46.45401382446289,
          5.121278285980225,
          16.626615524291992,
          -65.71174621582031,
          35.32624435424805,
          -59.63002014160156,
          25.70170783996582,
          -25.793739318847656,
          -58.905311584472656,
          22.140342712402344,
          26.692543029785156,
          -51.67811965942383,
          69.07421875,
          21.586227416992188,
          -36.123199462890625,
          -21.364418029785156,
          -57.535491943359375,
          -16.003572463989258,
          -26.111881256103516,
          48.29755401611328,
          -24.768775939941406,
          -14.846293449401855,
          -5.511054515838623,
          -2.216766357421875,
          -21.18550682067871,
          5.0037150382995605,
          -31.54775047302246,
          5.450612545013428,
          -8.910143852233887,
          -27.827003479003906,
          29.95639419555664,
          -35.6273078918457,
          28.125843048095703,
          3.9646739959716797,
          32.24717330932617,
          3.5226190090179443,
          68.20094299316406,
          -70.06108093261719,
          46.48270034790039,
          -5.142370223999023,
          4.316381931304932,
          -55.38258361816406,
          6.2375898361206055,
          9.135193824768066,
          26.876617431640625,
          76.27471923828125,
          70.62663269042969,
          37.138519287109375,
          5.07034158706665,
          -74.22429656982422,
          87.5752944946289,
          0.25957465171813965,
          35.014892578125,
          43.60894775390625,
          19.17296600341797,
          68.33111572265625,
          -1.920912265777588,
          72.77175903320312,
          -38.95204544067383,
          72.83821105957031,
          37.16190719604492,
          -2.646660804748535,
          27.872154235839844,
          -44.588172912597656,
          -51.883514404296875,
          30.14486312866211,
          -51.800697326660156,
          37.38467788696289,
          -10.404518127441406,
          43.87822723388672,
          -11.628397941589355,
          56.538150787353516,
          43.85554504394531,
          14.791959762573242,
          -23.934667587280273,
          -5.4539408683776855,
          11.97295093536377,
          6.060734748840332,
          34.63801193237305,
          66.03192138671875,
          25.69682502746582,
          -25.441932678222656,
          31.020679473876953,
          4.012969493865967,
          -55.77738952636719,
          -6.695691108703613,
          -25.160438537597656,
          35.390380859375,
          -11.375563621520996,
          -45.15542984008789,
          46.57809066772461,
          74.4685287475586,
          6.7374138832092285,
          16.3114070892334,
          69.89787292480469,
          -31.367528915405273,
          54.99345397949219,
          43.66185760498047,
          5.976660251617432,
          -54.983489990234375,
          -31.949485778808594,
          44.9648323059082,
          18.999404907226562,
          34.3599739074707,
          26.01262092590332,
          26.71506118774414,
          76.80042266845703,
          7.469834804534912,
          3.6669437885284424,
          -16.44537925720215,
          12.246901512145996,
          26.340484619140625,
          -24.417158126831055,
          -34.2906379699707,
          -94.12272644042969,
          -2.506613254547119,
          -51.9660758972168,
          22.002132415771484,
          -93.80264282226562,
          68.96275329589844,
          -17.39471435546875,
          6.70106840133667,
          30.022565841674805,
          -6.904810428619385,
          -2.3561782836914062,
          29.97908592224121,
          10.223859786987305,
          -76.28843688964844,
          40.833370208740234,
          18.734914779663086,
          66.60751342773438,
          -0.5048295855522156,
          -7.698938369750977,
          -65.50663757324219,
          -37.173885345458984,
          -56.89331817626953,
          6.8647074699401855,
          -72.00574493408203,
          -38.33036804199219,
          35.777462005615234,
          72.69277954101562,
          15.057639122009277,
          7.028058052062988,
          18.419261932373047,
          54.4804801940918,
          32.406375885009766,
          5.214439392089844,
          -18.9390811920166,
          -23.587203979492188,
          -16.35744285583496,
          -51.78105926513672,
          17.827558517456055,
          -24.62018585205078,
          -65.34454345703125,
          -33.52357864379883,
          1.2622132301330566,
          49.908206939697266,
          -58.60186767578125,
          44.281654357910156,
          49.69953536987305,
          -15.279143333435059,
          -8.23658275604248,
          47.587860107421875,
          -21.175323486328125,
          35.85277557373047,
          -65.64896392822266,
          4.785036087036133,
          26.159563064575195,
          27.64793586730957,
          32.27491760253906,
          -34.56126022338867,
          -20.677703857421875,
          48.13019561767578,
          -21.632034301757812,
          -34.0311164855957,
          -54.951717376708984,
          -13.729619979858398,
          0.9441933631896973,
          -65.18502807617188,
          17.162067413330078,
          18.044708251953125,
          -39.43263244628906,
          -42.86457824707031,
          38.82609939575195,
          35.38761520385742,
          -22.91853904724121,
          -74.18151092529297,
          36.56874465942383,
          -44.65569305419922,
          -96.57473754882812,
          7.709687232971191,
          48.43143081665039,
          31.36109733581543,
          -40.923004150390625,
          -9.116119384765625,
          29.727460861206055,
          -19.625930786132812,
          0.2833927571773529,
          25.996368408203125,
          39.541011810302734,
          -54.739776611328125,
          36.7209587097168,
          23.042850494384766,
          -24.07638931274414,
          72.64751434326172,
          -16.362751007080078,
          36.74456024169922,
          25.94850730895996,
          -10.208356857299805,
          -23.982378005981445,
          -28.90065574645996,
          -53.88239288330078,
          -20.459182739257812,
          -58.09309768676758,
          7.17504358291626,
          26.61001968383789,
          1.797533631324768,
          -36.08449172973633,
          29.63631248474121,
          -27.343048095703125,
          -10.715096473693848,
          -55.782005310058594,
          17.659347534179688,
          4.878429889678955,
          -6.076431751251221,
          16.893959045410156,
          -58.2747688293457,
          -18.024744033813477,
          19.46556282043457,
          5.482087135314941,
          -29.18994903564453,
          -1.5597985982894897,
          -4.018087387084961,
          -0.04979328811168671,
          -49.564029693603516,
          -29.926008224487305,
          -20.748699188232422,
          -6.103839874267578,
          -56.820804595947266,
          -31.315587997436523,
          18.61027717590332,
          -17.27168846130371,
          31.92406463623047,
          27.37350082397461,
          -22.833532333374023,
          2.6502721309661865,
          27.648696899414062,
          34.9894905090332,
          -25.735532760620117,
          -32.8553581237793,
          -22.169490814208984,
          64.9629898071289,
          4.626622676849365,
          5.188100814819336,
          29.879039764404297,
          -29.59237289428711,
          48.135040283203125,
          24.119287490844727,
          -35.134193420410156,
          -33.57938003540039,
          32.65078353881836,
          28.14529800415039,
          -10.562355995178223,
          29.220962524414062,
          -37.757259368896484,
          32.770301818847656,
          48.590576171875,
          47.24492263793945,
          18.72368812561035,
          -1.0627237558364868,
          -31.7965145111084,
          75.32528686523438,
          -69.49473571777344,
          48.773704528808594,
          -94.21675109863281,
          -15.189916610717773,
          65.27942657470703,
          1.6235417127609253,
          34.762454986572266,
          -49.91697311401367,
          -15.59455680847168,
          30.90360450744629,
          -34.32084274291992,
          60.839962005615234,
          -31.71025848388672,
          -19.690969467163086,
          79.93197631835938,
          53.05577850341797,
          27.90077781677246,
          -55.69316101074219,
          -97.5340576171875,
          5.434232711791992,
          39.96839904785156,
          -12.923717498779297,
          34.83260726928711,
          -69.07510375976562,
          23.993255615234375,
          44.23368835449219,
          -54.15345001220703,
          -26.232730865478516,
          69.64069366455078,
          -9.151078224182129,
          25.618459701538086,
          18.42433738708496,
          -19.029804229736328,
          -57.550758361816406,
          -7.190051078796387,
          -34.36475372314453,
          35.995201110839844,
          -6.739361763000488,
          -65.85379028320312,
          -62.23414993286133,
          35.624027252197266,
          21.176422119140625,
          -30.49404525756836,
          -8.565199851989746,
          10.43797492980957,
          6.615875720977783,
          -6.209519386291504,
          -3.6490895748138428,
          75.29525756835938,
          5.072317600250244,
          33.379146575927734,
          59.872352600097656,
          38.74848175048828,
          26.15244483947754,
          26.002944946289062,
          2.8885657787323,
          61.006248474121094,
          -6.647609233856201,
          31.32341766357422,
          47.011356353759766,
          30.909452438354492,
          25.236696243286133,
          3.293454647064209,
          -23.054080963134766,
          -53.16423797607422,
          -52.08628463745117,
          19.843313217163086,
          -35.00214767456055,
          3.507774591445923,
          24.066946029663086,
          -21.62751007080078,
          -32.28742980957031,
          -22.128360748291016,
          49.203025817871094,
          34.79509735107422,
          42.27543640136719,
          -22.20526695251465,
          -28.146591186523438,
          -20.09095573425293,
          -33.901371002197266,
          -28.227336883544922,
          25.927392959594727,
          18.82868003845215,
          -66.1855239868164,
          -26.613290786743164,
          31.27958106994629,
          34.47322463989258,
          34.64273452758789,
          -18.36878776550293,
          35.07984924316406,
          -67.25366973876953,
          22.261816024780273,
          -23.707786560058594,
          -15.842581748962402,
          -36.71588134765625,
          6.337761878967285,
          23.19081687927246,
          5.193650722503662,
          48.89911651611328,
          38.17075729370117,
          25.97821807861328,
          -25.483234405517578,
          -71.0857925415039,
          -0.22350168228149414,
          -29.08597183227539,
          -33.60816955566406,
          -4.8852314949035645,
          -5.535888671875,
          -25.6065731048584,
          -73.8967056274414,
          -1.830098271369934,
          41.65468978881836,
          -45.14593505859375,
          -72.71073913574219,
          5.728663444519043,
          2.127553701400757,
          -57.35379409790039,
          -3.911832571029663,
          -30.68084144592285,
          -31.796178817749023,
          -57.67642593383789,
          29.772253036499023,
          -5.102553367614746,
          -6.234991550445557,
          -43.534786224365234,
          -8.910600662231445,
          -16.365840911865234,
          54.699302673339844,
          10.065656661987305,
          69.49179077148438,
          46.8419189453125,
          15.565037727355957,
          47.529823303222656,
          -14.771069526672363,
          45.25168228149414,
          -11.219819068908691,
          18.1529483795166,
          -6.238253593444824,
          -19.851316452026367,
          -24.86794662475586,
          -72.51127624511719,
          44.26468276977539,
          -25.09540367126465,
          -27.706037521362305,
          -1.3305583000183105,
          34.057212829589844,
          -58.09712219238281,
          -12.897397994995117,
          53.786888122558594,
          33.987850189208984,
          -8.495162010192871,
          -9.639538764953613,
          -4.555014133453369,
          -17.47492218017578,
          4.148853302001953,
          2.013815402984619,
          2.7771809101104736,
          30.027006149291992,
          -30.81802749633789,
          -2.212714910507202,
          -57.421817779541016,
          19.231910705566406,
          -68.70155334472656,
          33.5291862487793,
          -19.549453735351562,
          -6.075728893280029,
          -47.88203811645508,
          -47.365447998046875,
          64.00505828857422,
          42.902034759521484,
          72.89073181152344,
          -24.28055763244629,
          20.624357223510742,
          60.51481628417969,
          -29.16653060913086,
          -10.831910133361816,
          -8.936455726623535,
          9.02489948272705,
          -25.35978126525879,
          -20.543636322021484,
          11.152460098266602,
          74.06597900390625,
          -12.821893692016602,
          -33.44861602783203,
          -11.508710861206055,
          16.78032875061035,
          55.533363342285156,
          32.53883361816406,
          -6.0559258460998535,
          4.554995059967041,
          36.16334533691406,
          43.31404113769531,
          -5.874457836151123,
          -37.30691146850586,
          -6.1183695793151855,
          3.9932210445404053,
          25.857398986816406,
          79.36231994628906,
          -34.02240753173828,
          -61.363006591796875,
          -33.73216247558594,
          -44.79984664916992,
          -17.6539306640625,
          -37.75335693359375,
          30.89821434020996,
          -5.135776042938232,
          1.9094271659851074,
          26.099891662597656,
          79.87101745605469,
          10.04371452331543,
          -43.40686798095703,
          35.874969482421875,
          49.73090362548828,
          -36.691139221191406,
          -19.645116806030273,
          -4.737526893615723,
          -31.27007293701172,
          6.034412384033203,
          -97.60344696044922,
          -52.011775970458984,
          -51.990116119384766,
          18.698854446411133,
          17.594478607177734,
          47.66911315917969,
          18.981595993041992,
          65.79656219482422,
          -1.6351932287216187,
          -34.477012634277344,
          -9.420058250427246,
          6.5592169761657715,
          -67.9056625366211,
          -66.84467315673828,
          -20.659208297729492,
          -2.5237514972686768,
          -19.151060104370117,
          17.720497131347656,
          30.67397117614746,
          30.910486221313477,
          -2.3442089557647705,
          -22.28316307067871,
          34.35906219482422,
          -7.00046968460083,
          40.455894470214844,
          59.43487548828125,
          -22.195507049560547,
          33.593013763427734,
          43.5964469909668,
          -26.612289428710938,
          18.002460479736328,
          27.79932975769043,
          9.445809364318848,
          2.549872636795044,
          -16.749797821044922,
          35.0915412902832,
          21.675756454467773,
          23.402597427368164,
          -45.597442626953125,
          -31.078533172607422,
          -12.964692115783691,
          -21.624910354614258,
          35.69419860839844,
          -57.249290466308594,
          29.801828384399414,
          -6.93292236328125,
          -32.606712341308594,
          -18.31210708618164,
          -44.277015686035156,
          8.63355541229248,
          -77.7109146118164,
          -18.297529220581055,
          10.63579273223877,
          -34.401912689208984,
          -12.238130569458008,
          75.08861541748047,
          32.5660400390625,
          -7.475876808166504,
          38.9047966003418,
          37.781822204589844,
          -33.30791473388672,
          4.344839096069336,
          0.3373691439628601,
          -57.487159729003906,
          -42.421234130859375,
          46.133060455322266,
          17.374984741210938,
          42.39925003051758,
          68.98219299316406,
          34.69571304321289,
          -22.053556442260742,
          28.006925582885742,
          43.865936279296875,
          -72.13710021972656,
          34.6552619934082,
          62.89149475097656,
          0.09920261800289154,
          -4.213741302490234,
          -37.57246398925781,
          47.47473907470703,
          2.152571201324463,
          19.82232666015625,
          -42.30398178100586,
          2.204547643661499,
          -4.740272045135498,
          -64.83060455322266,
          -0.9508593678474426,
          -64.30509185791016,
          -3.078608274459839,
          -13.36913013458252,
          -22.60660171508789,
          22.703834533691406,
          -66.39237976074219,
          -25.908830642700195,
          -16.10926055908203,
          -40.75972366333008,
          87.6745376586914,
          19.93377113342285,
          -54.36297607421875,
          73.35359191894531,
          -13.811053276062012,
          29.829681396484375,
          61.46098709106445,
          -56.746273040771484,
          -11.875850677490234,
          18.362546920776367,
          33.69696044921875,
          -76.034912109375,
          60.82062530517578,
          -21.198904037475586,
          34.65345764160156,
          -3.796201229095459,
          -30.117612838745117,
          -30.129440307617188,
          -29.8200740814209,
          55.3192253112793,
          -52.04636001586914,
          25.32485008239746,
          -14.308929443359375,
          -30.54439353942871,
          -4.672122955322266,
          -52.830970764160156,
          9.559550285339355,
          -27.725948333740234,
          -37.601951599121094,
          -66.07166290283203,
          -31.140338897705078,
          -11.223946571350098,
          4.4477643966674805,
          32.18092727661133,
          -27.497751235961914,
          -10.44144344329834,
          69.22662353515625,
          -21.92101287841797,
          -32.52433395385742,
          4.958061695098877,
          0.012834119610488415,
          -23.69583511352539
         ],
         "yaxis": "y"
        }
       ],
       "layout": {
        "legend": {
         "tracegroupgap": 0
        },
        "margin": {
         "t": 60
        },
        "template": {
         "data": {
          "bar": [
           {
            "error_x": {
             "color": "#2a3f5f"
            },
            "error_y": {
             "color": "#2a3f5f"
            },
            "marker": {
             "line": {
              "color": "white",
              "width": 0.5
             },
             "pattern": {
              "fillmode": "overlay",
              "size": 10,
              "solidity": 0.2
             }
            },
            "type": "bar"
           }
          ],
          "barpolar": [
           {
            "marker": {
             "line": {
              "color": "white",
              "width": 0.5
             },
             "pattern": {
              "fillmode": "overlay",
              "size": 10,
              "solidity": 0.2
             }
            },
            "type": "barpolar"
           }
          ],
          "carpet": [
           {
            "aaxis": {
             "endlinecolor": "#2a3f5f",
             "gridcolor": "#C8D4E3",
             "linecolor": "#C8D4E3",
             "minorgridcolor": "#C8D4E3",
             "startlinecolor": "#2a3f5f"
            },
            "baxis": {
             "endlinecolor": "#2a3f5f",
             "gridcolor": "#C8D4E3",
             "linecolor": "#C8D4E3",
             "minorgridcolor": "#C8D4E3",
             "startlinecolor": "#2a3f5f"
            },
            "type": "carpet"
           }
          ],
          "choropleth": [
           {
            "colorbar": {
             "outlinewidth": 0,
             "ticks": ""
            },
            "type": "choropleth"
           }
          ],
          "contour": [
           {
            "colorbar": {
             "outlinewidth": 0,
             "ticks": ""
            },
            "colorscale": [
             [
              0,
              "#0d0887"
             ],
             [
              0.1111111111111111,
              "#46039f"
             ],
             [
              0.2222222222222222,
              "#7201a8"
             ],
             [
              0.3333333333333333,
              "#9c179e"
             ],
             [
              0.4444444444444444,
              "#bd3786"
             ],
             [
              0.5555555555555556,
              "#d8576b"
             ],
             [
              0.6666666666666666,
              "#ed7953"
             ],
             [
              0.7777777777777778,
              "#fb9f3a"
             ],
             [
              0.8888888888888888,
              "#fdca26"
             ],
             [
              1,
              "#f0f921"
             ]
            ],
            "type": "contour"
           }
          ],
          "contourcarpet": [
           {
            "colorbar": {
             "outlinewidth": 0,
             "ticks": ""
            },
            "type": "contourcarpet"
           }
          ],
          "heatmap": [
           {
            "colorbar": {
             "outlinewidth": 0,
             "ticks": ""
            },
            "colorscale": [
             [
              0,
              "#0d0887"
             ],
             [
              0.1111111111111111,
              "#46039f"
             ],
             [
              0.2222222222222222,
              "#7201a8"
             ],
             [
              0.3333333333333333,
              "#9c179e"
             ],
             [
              0.4444444444444444,
              "#bd3786"
             ],
             [
              0.5555555555555556,
              "#d8576b"
             ],
             [
              0.6666666666666666,
              "#ed7953"
             ],
             [
              0.7777777777777778,
              "#fb9f3a"
             ],
             [
              0.8888888888888888,
              "#fdca26"
             ],
             [
              1,
              "#f0f921"
             ]
            ],
            "type": "heatmap"
           }
          ],
          "heatmapgl": [
           {
            "colorbar": {
             "outlinewidth": 0,
             "ticks": ""
            },
            "colorscale": [
             [
              0,
              "#0d0887"
             ],
             [
              0.1111111111111111,
              "#46039f"
             ],
             [
              0.2222222222222222,
              "#7201a8"
             ],
             [
              0.3333333333333333,
              "#9c179e"
             ],
             [
              0.4444444444444444,
              "#bd3786"
             ],
             [
              0.5555555555555556,
              "#d8576b"
             ],
             [
              0.6666666666666666,
              "#ed7953"
             ],
             [
              0.7777777777777778,
              "#fb9f3a"
             ],
             [
              0.8888888888888888,
              "#fdca26"
             ],
             [
              1,
              "#f0f921"
             ]
            ],
            "type": "heatmapgl"
           }
          ],
          "histogram": [
           {
            "marker": {
             "pattern": {
              "fillmode": "overlay",
              "size": 10,
              "solidity": 0.2
             }
            },
            "type": "histogram"
           }
          ],
          "histogram2d": [
           {
            "colorbar": {
             "outlinewidth": 0,
             "ticks": ""
            },
            "colorscale": [
             [
              0,
              "#0d0887"
             ],
             [
              0.1111111111111111,
              "#46039f"
             ],
             [
              0.2222222222222222,
              "#7201a8"
             ],
             [
              0.3333333333333333,
              "#9c179e"
             ],
             [
              0.4444444444444444,
              "#bd3786"
             ],
             [
              0.5555555555555556,
              "#d8576b"
             ],
             [
              0.6666666666666666,
              "#ed7953"
             ],
             [
              0.7777777777777778,
              "#fb9f3a"
             ],
             [
              0.8888888888888888,
              "#fdca26"
             ],
             [
              1,
              "#f0f921"
             ]
            ],
            "type": "histogram2d"
           }
          ],
          "histogram2dcontour": [
           {
            "colorbar": {
             "outlinewidth": 0,
             "ticks": ""
            },
            "colorscale": [
             [
              0,
              "#0d0887"
             ],
             [
              0.1111111111111111,
              "#46039f"
             ],
             [
              0.2222222222222222,
              "#7201a8"
             ],
             [
              0.3333333333333333,
              "#9c179e"
             ],
             [
              0.4444444444444444,
              "#bd3786"
             ],
             [
              0.5555555555555556,
              "#d8576b"
             ],
             [
              0.6666666666666666,
              "#ed7953"
             ],
             [
              0.7777777777777778,
              "#fb9f3a"
             ],
             [
              0.8888888888888888,
              "#fdca26"
             ],
             [
              1,
              "#f0f921"
             ]
            ],
            "type": "histogram2dcontour"
           }
          ],
          "mesh3d": [
           {
            "colorbar": {
             "outlinewidth": 0,
             "ticks": ""
            },
            "type": "mesh3d"
           }
          ],
          "parcoords": [
           {
            "line": {
             "colorbar": {
              "outlinewidth": 0,
              "ticks": ""
             }
            },
            "type": "parcoords"
           }
          ],
          "pie": [
           {
            "automargin": true,
            "type": "pie"
           }
          ],
          "scatter": [
           {
            "fillpattern": {
             "fillmode": "overlay",
             "size": 10,
             "solidity": 0.2
            },
            "type": "scatter"
           }
          ],
          "scatter3d": [
           {
            "line": {
             "colorbar": {
              "outlinewidth": 0,
              "ticks": ""
             }
            },
            "marker": {
             "colorbar": {
              "outlinewidth": 0,
              "ticks": ""
             }
            },
            "type": "scatter3d"
           }
          ],
          "scattercarpet": [
           {
            "marker": {
             "colorbar": {
              "outlinewidth": 0,
              "ticks": ""
             }
            },
            "type": "scattercarpet"
           }
          ],
          "scattergeo": [
           {
            "marker": {
             "colorbar": {
              "outlinewidth": 0,
              "ticks": ""
             }
            },
            "type": "scattergeo"
           }
          ],
          "scattergl": [
           {
            "marker": {
             "colorbar": {
              "outlinewidth": 0,
              "ticks": ""
             }
            },
            "type": "scattergl"
           }
          ],
          "scattermapbox": [
           {
            "marker": {
             "colorbar": {
              "outlinewidth": 0,
              "ticks": ""
             }
            },
            "type": "scattermapbox"
           }
          ],
          "scatterpolar": [
           {
            "marker": {
             "colorbar": {
              "outlinewidth": 0,
              "ticks": ""
             }
            },
            "type": "scatterpolar"
           }
          ],
          "scatterpolargl": [
           {
            "marker": {
             "colorbar": {
              "outlinewidth": 0,
              "ticks": ""
             }
            },
            "type": "scatterpolargl"
           }
          ],
          "scatterternary": [
           {
            "marker": {
             "colorbar": {
              "outlinewidth": 0,
              "ticks": ""
             }
            },
            "type": "scatterternary"
           }
          ],
          "surface": [
           {
            "colorbar": {
             "outlinewidth": 0,
             "ticks": ""
            },
            "colorscale": [
             [
              0,
              "#0d0887"
             ],
             [
              0.1111111111111111,
              "#46039f"
             ],
             [
              0.2222222222222222,
              "#7201a8"
             ],
             [
              0.3333333333333333,
              "#9c179e"
             ],
             [
              0.4444444444444444,
              "#bd3786"
             ],
             [
              0.5555555555555556,
              "#d8576b"
             ],
             [
              0.6666666666666666,
              "#ed7953"
             ],
             [
              0.7777777777777778,
              "#fb9f3a"
             ],
             [
              0.8888888888888888,
              "#fdca26"
             ],
             [
              1,
              "#f0f921"
             ]
            ],
            "type": "surface"
           }
          ],
          "table": [
           {
            "cells": {
             "fill": {
              "color": "#EBF0F8"
             },
             "line": {
              "color": "white"
             }
            },
            "header": {
             "fill": {
              "color": "#C8D4E3"
             },
             "line": {
              "color": "white"
             }
            },
            "type": "table"
           }
          ]
         },
         "layout": {
          "annotationdefaults": {
           "arrowcolor": "#2a3f5f",
           "arrowhead": 0,
           "arrowwidth": 1
          },
          "autotypenumbers": "strict",
          "coloraxis": {
           "colorbar": {
            "outlinewidth": 0,
            "ticks": ""
           }
          },
          "colorscale": {
           "diverging": [
            [
             0,
             "#8e0152"
            ],
            [
             0.1,
             "#c51b7d"
            ],
            [
             0.2,
             "#de77ae"
            ],
            [
             0.3,
             "#f1b6da"
            ],
            [
             0.4,
             "#fde0ef"
            ],
            [
             0.5,
             "#f7f7f7"
            ],
            [
             0.6,
             "#e6f5d0"
            ],
            [
             0.7,
             "#b8e186"
            ],
            [
             0.8,
             "#7fbc41"
            ],
            [
             0.9,
             "#4d9221"
            ],
            [
             1,
             "#276419"
            ]
           ],
           "sequential": [
            [
             0,
             "#0d0887"
            ],
            [
             0.1111111111111111,
             "#46039f"
            ],
            [
             0.2222222222222222,
             "#7201a8"
            ],
            [
             0.3333333333333333,
             "#9c179e"
            ],
            [
             0.4444444444444444,
             "#bd3786"
            ],
            [
             0.5555555555555556,
             "#d8576b"
            ],
            [
             0.6666666666666666,
             "#ed7953"
            ],
            [
             0.7777777777777778,
             "#fb9f3a"
            ],
            [
             0.8888888888888888,
             "#fdca26"
            ],
            [
             1,
             "#f0f921"
            ]
           ],
           "sequentialminus": [
            [
             0,
             "#0d0887"
            ],
            [
             0.1111111111111111,
             "#46039f"
            ],
            [
             0.2222222222222222,
             "#7201a8"
            ],
            [
             0.3333333333333333,
             "#9c179e"
            ],
            [
             0.4444444444444444,
             "#bd3786"
            ],
            [
             0.5555555555555556,
             "#d8576b"
            ],
            [
             0.6666666666666666,
             "#ed7953"
            ],
            [
             0.7777777777777778,
             "#fb9f3a"
            ],
            [
             0.8888888888888888,
             "#fdca26"
            ],
            [
             1,
             "#f0f921"
            ]
           ]
          },
          "colorway": [
           "#636efa",
           "#EF553B",
           "#00cc96",
           "#ab63fa",
           "#FFA15A",
           "#19d3f3",
           "#FF6692",
           "#B6E880",
           "#FF97FF",
           "#FECB52"
          ],
          "font": {
           "color": "#2a3f5f"
          },
          "geo": {
           "bgcolor": "white",
           "lakecolor": "white",
           "landcolor": "white",
           "showlakes": true,
           "showland": true,
           "subunitcolor": "#C8D4E3"
          },
          "hoverlabel": {
           "align": "left"
          },
          "hovermode": "closest",
          "mapbox": {
           "style": "light"
          },
          "paper_bgcolor": "white",
          "plot_bgcolor": "white",
          "polar": {
           "angularaxis": {
            "gridcolor": "#EBF0F8",
            "linecolor": "#EBF0F8",
            "ticks": ""
           },
           "bgcolor": "white",
           "radialaxis": {
            "gridcolor": "#EBF0F8",
            "linecolor": "#EBF0F8",
            "ticks": ""
           }
          },
          "scene": {
           "xaxis": {
            "backgroundcolor": "white",
            "gridcolor": "#DFE8F3",
            "gridwidth": 2,
            "linecolor": "#EBF0F8",
            "showbackground": true,
            "ticks": "",
            "zerolinecolor": "#EBF0F8"
           },
           "yaxis": {
            "backgroundcolor": "white",
            "gridcolor": "#DFE8F3",
            "gridwidth": 2,
            "linecolor": "#EBF0F8",
            "showbackground": true,
            "ticks": "",
            "zerolinecolor": "#EBF0F8"
           },
           "zaxis": {
            "backgroundcolor": "white",
            "gridcolor": "#DFE8F3",
            "gridwidth": 2,
            "linecolor": "#EBF0F8",
            "showbackground": true,
            "ticks": "",
            "zerolinecolor": "#EBF0F8"
           }
          },
          "shapedefaults": {
           "line": {
            "color": "#2a3f5f"
           }
          },
          "ternary": {
           "aaxis": {
            "gridcolor": "#DFE8F3",
            "linecolor": "#A2B1C6",
            "ticks": ""
           },
           "baxis": {
            "gridcolor": "#DFE8F3",
            "linecolor": "#A2B1C6",
            "ticks": ""
           },
           "bgcolor": "white",
           "caxis": {
            "gridcolor": "#DFE8F3",
            "linecolor": "#A2B1C6",
            "ticks": ""
           }
          },
          "title": {
           "x": 0.05
          },
          "xaxis": {
           "automargin": true,
           "gridcolor": "#EBF0F8",
           "linecolor": "#EBF0F8",
           "ticks": "",
           "title": {
            "standoff": 15
           },
           "zerolinecolor": "#EBF0F8",
           "zerolinewidth": 2
          },
          "yaxis": {
           "automargin": true,
           "gridcolor": "#EBF0F8",
           "linecolor": "#EBF0F8",
           "ticks": "",
           "title": {
            "standoff": 15
           },
           "zerolinecolor": "#EBF0F8",
           "zerolinewidth": 2
          }
         }
        },
        "xaxis": {
         "anchor": "y",
         "domain": [
          0,
          1
         ],
         "title": {
          "text": "37D->2D TSNE1"
         }
        },
        "yaxis": {
         "anchor": "x",
         "domain": [
          0,
          1
         ],
         "title": {
          "text": "37D->2D TSNE2"
         }
        }
       }
      }
     },
     "metadata": {},
     "output_type": "display_data"
    }
   ],
   "source": [
    "allD.showTSNE()"
   ]
  },
  {
   "cell_type": "code",
   "execution_count": 25,
   "metadata": {
    "ExecuteTime": {
     "end_time": "2023-03-28T14:50:51.040161Z",
     "start_time": "2023-03-28T14:50:51.001134Z"
    },
    "collapsed": false
   },
   "outputs": [
    {
     "name": "stdout",
     "output_type": "stream",
     "text": [
      "Found 115 clusters and 427 outliers.\n",
      "Outlier ratio: 32.6%\n"
     ]
    },
    {
     "data": {
      "text/plain": [
       "(array([-1,  0,  1, ...,  1, 10, -1]), 427)"
      ]
     },
     "execution_count": 25,
     "metadata": {},
     "output_type": "execute_result"
    }
   ],
   "source": [
    "allD.getDBSCAN(eps=0.075, min_samples=2)"
   ]
  },
  {
   "cell_type": "code",
   "execution_count": 26,
   "metadata": {
    "ExecuteTime": {
     "end_time": "2023-03-28T14:50:51.438575Z",
     "start_time": "2023-03-28T14:50:51.363435Z"
    },
    "collapsed": false
   },
   "outputs": [
    {
     "data": {
      "application/vnd.plotly.v1+json": {
       "config": {
        "plotlyServerURL": "https://plot.ly"
       },
       "data": [
        {
         "hovertemplate": "<b>%{hovertext}</b><br><br>Cluster #=-1<br>37D->2D TSNE1=%{x}<br>37D->2D TSNE2=%{y}<extra></extra>",
         "hovertext": [
          "Cr5 Fe1 Co13 Ni1",
          "Ta1.5 V1 W8.5 Re1",
          "Ti1 Nb1 W3 Re1",
          "Ta2 W2 Mo1 Re1",
          "Cr1 Mn4 Fe4 Co1",
          "Hf1 Zr1 Ti1.5 Nb1 Mo1",
          "Ta3 Nb1 W1 Mo1",
          "Ti1 Ta1 V1 W1 Cr1",
          "Ti1.67 Ta1.67 V1.67 Mo1.67 Al1",
          "Zr2 Ti1 Nb1 V2",
          "Nb2 W2 Mo2 Re1",
          "Ta1 Nb1 V1 Mo1",
          "Hf1 Zr1.5 Ti1 Nb1 Mo1",
          "Hf4 Zr4 Ti3 Ta1 Nb4",
          "Nd1 Fe1 Co1 Ni1 Cu1 Al1",
          "W1.5 Mo6.33 Co1 Ni1.83 Al6",
          "Ti6 Nb2 V4 Ni1 Al1",
          "Cr1 Mn1 Co1 Ni1",
          "Hf1.5 Ta3 Nb1 V6.5",
          "Cr1.8 Mn2.2 Fe5 Ni1",
          "Ti1 Nb1 Ag1 Zn1 Al1",
          "Zr1 Ti1 Ta1 Nb1 V1",
          "Cr1 Mn3 Fe5 Ni1",
          "Ti1 Ni1 Cu1 Al1",
          "V1 W3 Mo1 Ru1",
          "Li7 Ca2 Mg7 Al3 Si1",
          "Ti1 V23 Cr1",
          "Cr1 Fe1 Co1 Ni1 Ge1",
          "Zr0.09 Ti1 Mo97.63 B14.23 C3.33",
          "Cr2 Fe2 Ni2 Cu1 Al2",
          "V2.5 Mo1 Fe5 Co5 Ni10",
          "V1 Mo1 Cr1 Fe1",
          "Ti1 Nb1 V1 Cr1 Ni1",
          "Cr1 Fe2 Co1 Ni1",
          "Ti1 Ta1.67 V2.67 W2.67",
          "V1 W2 Cr2 Fe2 Ni2",
          "Hf1 Zr1 Ti1 Ta1 Nb1 V1 Mo1",
          "Li2.5 Mg5 Cu2.5 Al5 Sn1",
          "W1 Cr1.17 Fe1.17 Co1.17 Ni1.17 C1",
          "Zr2 Ti2 Ta1 Nb2 Mo1 Cr2",
          "Ti1 Cr1 Ni1 Cu1 Al1",
          "Ta1 Nb3 W1 Ru1",
          "V1 Cr2 Fe2 Co2 Ni2",
          "Ti1 Ta1 Nb1",
          "Hf1 Zr1 Ti1 Ta1 V1",
          "Hf1 Ti1 Ta1 Nb1",
          "Ti1 Nb1 W1 Re1",
          "Ti1 Fe1 Co1 Ni1 Al1",
          "Zr1 Ti3 Ta1 Nb3 Al2",
          "Ti1 Fe1 Co1 Ni1 Cu1",
          "Hf1 Ta5.5 Nb2 V3.5",
          "Nb10 V10 Mo10 Cr10 Al1",
          "Cr1 Fe1 Co1 Ni1 Sn1",
          "Hf1 Zr1 Nb1 V1 Mo1",
          "Zr1 Ti30 Nb54 Al15",
          "Zr1 Ti1 Nb1 Cr1",
          "Ta1 W6.5 Mo1.5 Re3",
          "Ta1 Nb1 V1 W1 Mo1 Cr1 Re1",
          "Hf1 Zr2 Ti2 Nb2 Mo2",
          "Ti1 Mo1 Cr1 Al1",
          "Ta1 V1 W1 Mo1 Cr1",
          "Hf1 Zr1 Ta1 Nb1 Mo1",
          "Cr1.99 Fe1 Co1 Ni1 Al1",
          "Ti1 Cr2 Fe2 Co1 Ni2",
          "Ti1 Nb1 W2",
          "Nb7.5 Fe1 Co1 Ni1 Cu1",
          "Co2.5 Ni2.5 Cu1.5 Al1",
          "Hf1 Zr1 Ti1 Nb1 V1",
          "Cr1 Fe1 Co1 Ni4 Al1",
          "Ta3.5 Nb1 V2.5 W5",
          "Ti1 Nb1 V1 Cr1.5 Al1",
          "Ti1 Fe2 Co2 Ni2 Al1",
          "Zr1 Ti1 V1 Cr1 Fe1 Co1 Ni1 Al1",
          "Ti1 Cr3.33 Fe3.33 Co5 Ni3.33 Al1.33",
          "Ta1 W2 Mo2 Ru1",
          "Ti1 W2 Re1",
          "Zr1.5 Ti1 Nb1 V1 Al1",
          "Ta3 V2.5 W5.5 Mo1",
          "Nb8 W2.33 Cr1 Co11 Al11",
          "Ta1 Nb1 W1 Mo1 Re1",
          "Ti1 Nb1 W1 Cr1",
          "Ta1 V1 W9 Mo1",
          "Ta1.87 Nb1.87 W1.93 Mo1",
          "Cr1 Mn1 Fe1 Co1",
          "Ta1.43 Nb1.38 V1 W1.02",
          "V2 Fe2 Co2 Ni2 Cu1",
          "Ti1 Cr3.33 Fe3.33 Ni6.67",
          "Hf1 Zr1 Ti1 Nb1 O1",
          "Ti1 V1 Cr1 Mn1 Fe1 Co1 Ni1 Cu1 Al5.33",
          "Hf4 Zr4 Ti1 Ta3 Nb4",
          "Cr1 Co9.5 Ni9.5",
          "Hf2.5 Zr3 Ti2 Nb1.5 V1",
          "Hf1 Zr1 Ti1",
          "Ta1 Nb1 W1.9 Mo1",
          "Ti1 Ta1 Nb1 V1 Mo1",
          "Ta1.5 W8 Re1.5 Ru1",
          "Zr1 Ti1 Ta1 Nb1 V1 W1 Mo1 Cr1",
          "Nb1 W1 Mo1",
          "Zr1 Ti1 Nb1 Al1",
          "Hf1 Zr1 Ti1 W1 Mo1",
          "Zr1 Ti1 Ta1 Nb1 V1 Mo1 Cr1",
          "Zr0.08 Ti1 Mo94.25 B35.44 C8.1",
          "Ti3.37 Nb1.79 V1 Cr1.79",
          "Zr1 Ti1 V1 Mo1 Cr1 Fe1 Co1 Ni1",
          "Ti1 Ta1.52 Nb1.36 V1.04 W1.08",
          "Ti1 Ta1 Nb1 V1 Al1",
          "V1 Co1 Ni1",
          "Cr1 Mn1 Fe1 Co1 Ni1 C1",
          "Be2.25 Zr4.12 Ti1.38 Ni1 Cu1.25",
          "V1 Cr1 Fe1 Co1 Ni1",
          "Ti1 Ta1 Mo1 Cr1",
          "Ti4.5 Nb1 Al4.5",
          "Ti1 Ta1 Nb1 Mo1",
          "Zr1 Ti1 V1 Fe1 Ni1 Al1",
          "Zr1 Ti1 Ta1",
          "Zr3.09 Ti69.8 Nb1.27 W1.2 Mo1 Al5.26 Sn3.49 Si0.37",
          "Ti1.33 Ta4.67 V1 W1",
          "Mo1 Cr1 Fe1 Ni1 Cu1",
          "Hf1.5 Zr1 Ti1 Nb1 Mo1",
          "V1 W1 Mo1 Ru1",
          "Ti1 Nb1 Mo1 Cr1 Co1",
          "Ti1 Nb2 W2",
          "W4.54 Cr1 Ni3.38 B2.42",
          "Cr2 Fe1 Co2 Ni2 Cu1 Al2",
          "Ta1 W1 Mo1 Ru1",
          "Ti1 Cr1.33 Fe2.5 Co4.17 Ni6 Al1.67",
          "Hf2 Zr1 Ti2 Nb2 Mo2",
          "Hf2 Ti13 Nb25.5 Cr1 Al1 Si7.5",
          "Zr30.5 Ti1 Cu12.5 Al6",
          "Cr3.2 Fe3.2 Co1.4 Ni1 Cu1.8 Al9.4",
          "Zr2 W1 C2",
          "Zr1 Ti1 V1 Mo1 Fe1 Co1 Ni1",
          "Zr1 Ti2 Nb1 V1",
          "Cr1 Fe1 Co1.99 Ni1 Al1",
          "Ti2 Nb1 W1",
          "Hf1 Ti5 Ta5 V1",
          "Ta1 Nb1 Mo1",
          "Ti9.75 Ta1 Nb7.75 W1 Co5.5",
          "Hf1 Zr1.6 Ti2.22 Ta3.85 Nb3.85",
          "Ti1 V1 Cr1 Fe1 Ni1 Cu1",
          "Ti1 Nb2 W2 Re1",
          "Hf1 Cr14.14 Co7.94 Ni56.1 Al24.65 C0 N0 O0.12",
          "Nb1 W3 Mo1 Ru1",
          "V1 W3 Mo5 Re3",
          "Ti1 Cr1 Co1 Ni1 Cu1 Al1",
          "Ta1 Nb1 W9 Re1",
          "Zr1 Ti1 Ta1 Nb1 Mo1",
          "Hf1 Ti1 Nb1",
          "Ti2 Nb2 Mo2 Cr2 Al1",
          "Y1 Mo7 Cr7.5 Fe20.5 Co3.5 B3 C7.5",
          "Ta5 W1 Fe3 Ni7",
          "Zr1 Ti1 V1 Mo1 Fe1 Ni1",
          "Ti4 Nb2 V1 Cr2 Al1",
          "Cr1 Fe1 Ni1 Cu1.99 Al1",
          "Hf1 Zr1 Ti1 Nb3",
          "Zr1 Ta1 Nb1",
          "Mo4.5 Ni4.5 B1.11 Si1",
          "Hf0.2 Ti1 Ta10 W10 Mo2 Cr8 Re8 Ru8 Ni140.6 Al12 Si0.2",
          "Cr1 Fe1 Ni3 Cu1 Al1",
          "Zr1 Ti3.3 Nb3.3 V1.98 Mo3.3 Cr1 Al1.98",
          "Zr1 Ti3.35 Nb3.35 V2.01 Mo3.35 Cr1",
          "Ta1.5 W8 Mo1.5 Re1",
          "Hf1 Zr1 Ti1 V1 Mo1",
          "Mo1 Cr1.5 Fe2 Co3.5 Ni2",
          "Ti1.5 Ta1 Cr1.83 Co2 Ni2",
          "Cr4 Mn4 Fe4 Ni4 Cu2 Al1",
          "Ti1 Nb1 Mo1 Al1",
          "Zr1 Ti1 Nb1 W1 Mo1",
          "Ti1 W1 Mo1",
          "Ti1 Nb1 V1 Cr1 Ni1 Al7",
          "W1.33 Cr1 Mn1 Fe1 Co1 Ni1",
          "Cr2.01 Fe1 Co2.01 Ni2.01 Cu1 Al6.04",
          "Zr2 Ti2 Nb1 V1",
          "Ta1 W3 Mo1 Re1",
          "W12 Cr1 Fe1.29",
          "Cr1 Co1 Ni1 Cu1 Zn1",
          "Nb1 V1 Mo1 Cr1 Fe1",
          "Zr3.8 Ti4.22 Ta5.78 Nb5.2 Al1",
          "Ti1 Ta1 Nb1 Cr1",
          "Cr1 Mn1 Fe1 Co1 Ni1 Cu1 Al1",
          "Fe1 Co1 Ni1",
          "Mn1 Co1 Ni1",
          "Zr1 Ti1 V1 Fe1 Co1 Ni1 Cu1",
          "Ti9.33 B3 Si1",
          "Cr6.72 Mn6.72 Fe6.72 Ni10.09 Cu1",
          "Ta4 V1.33 W1.67 Mo1",
          "Zr1 Ti1 Nb1 V1 W1 Mo1 Cr1",
          "W1 Mo1 Cr2 Co4 Ni4",
          "Ti1 W1 Mo1 Cr1 Al1",
          "Cr1 Mn1 Fe1 Ni1 Cu1 Al1.5",
          "Ta2.33 Co1 Ni2.22",
          "Zr3.33 Ti5 Nb3.33 Al1",
          "Ti1 Ta1 V1 Mo1 Al1",
          "Zr1 Ti1 V1 Cr1 Fe1 Co1 Ni1 Cu1",
          "Hf1 Zr2 Ti3 Ta1 Nb1",
          "Zr1 Ti1 Nb1 V1 Cr1",
          "Zr1 Ti4 Nb3 Cr2",
          "Hf1 Zr1 Ti1 Ta1 Nb1 W1",
          "Cr2.01 Fe2.01 Co1 Ni2.01 Cu1 Al6.04",
          "Ta1 V1 W1 Mo1",
          "Zr1 Ti1.33 Nb1",
          "Cr2 Fe1 Co2 Ni2 Cu2 Al2",
          "Zr8 Ti6 Ta1 Nb3 Al2",
          "Zr10 Ti8 Ni29.5 Sn1.5 Si1",
          "Cr1 Fe1 Co2.01 Ni3.01 Cu1 Al6.04",
          "Cr1 Fe1 Co1 Ni1 Al6",
          "Hf2 Ti2 Nb2 V2 Si1",
          "Mo1 Cr2 Fe2 Co1 Ni2 Al2",
          "Ti1 Nb1 Mo1 Cr1 Al1",
          "Hf1 Zr1 Ti1 Nb1 Cr1",
          "Ta1 W3 Mo1 Ru1",
          "Ta1 W1 Mo1",
          "Hf1.5 Ti2.5 Ta1 V7",
          "Hf1 Zr1 Ti1 Nb1 Mo1",
          "Ti1 Nb1 V1 Mo1 Fe1",
          "Ta1 Nb2 W2 Ru1",
          "Ti1 Nb2 Ru1",
          "Ti1 V1 Mo1 Cr1 Fe1",
          "Zr1 Ti1 Nb1 V1 Al1",
          "Ti1 Ta1 V1 W1",
          "Hf1.5 Zr2.5 Ti3 Ta1 Nb2",
          "Ti1 Nb1 W1 Ru1",
          "Ti1 Ta1 Nb1 V1 W1",
          "Mo3.62 Ni3.08 Si1",
          "Hf1 Zr1 Ti1 Ta1 Mo1",
          "Fe1 Co1 Ni3 Cu1 Al1",
          "Hf1 Ta1 Nb1",
          "Cr2 Fe2 Co2 Ni1 Cu2 Al2",
          "Ti1 Cr3.33 Fe3.33 Co1.67 Ni5",
          "Ti1.5 V1 Fe1 Co1 Ni1 Cu1",
          "Ti1 Co1 Ni1 Al1",
          "Ta2.5 Nb2.5 V1 W4 Mo2.5",
          "Zr1 Ti3.35 Nb3.35 Mo3.35 Cr1",
          "Cr2.5 Fe1 Co5.5 Ni1",
          "Hf1 Ti4 Ta2.5 V4.5",
          "Hf1 Ti1 Nb1 Al1",
          "Ta1 Nb1 W3 Mo1",
          "Cr1 Fe1 Co1 Cu1",
          "Cr1.2 Fe6.2 Co2.2 Ni1 Cu1.8 Al7.6",
          "Zr0 Ta38.86 Nb0.06 W1 Mo0 Fe0.08 C0 N0 O0",
          "Mo4.14 B1 Si2",
          "Ti1 V2 Fe2 Co2 Ni2 Cu1",
          "W1.2 Cr1 Ni3.38 B2.42",
          "Ti1 Ta4 V5 W2",
          "Hf1 Zr1 Ti1 Ta1 C4",
          "Hf0.02 Cr1.91 Fe4.85 Co1 Ni5.09 Al6",
          "Cr1 Fe2 Co2 Ni2 Cu2 Al2",
          "Mo1 Cr3.33 Fe1 Co5.67 Ni5.67",
          "Ti1 Cr2 Fe1.89 Ni3.67 Al2",
          "Ta8 Ir7 Ni4 B1",
          "Ta1 W1 Mo1 Re1",
          "Fe12.33 Co8.52 Ni8.52 Al6.7 C1",
          "Ti1 Nb2 Cr2 Al45",
          "Hf1 Ti1 Ta1 Al1",
          "Fe1.05 Co1.05 Ni2.16 Al1",
          "Ti1 Ta1 Nb1 V1 W1 Mo1",
          "Cr2 Fe2 Co1 Ni2 Cu1 Al2",
          "Hf2 Zr1 Ti1 Nb2",
          "Li2.5 Mg5 Zn2.5 Al5 Sn1",
          "Cr1 Fe2.99 Co1.99 Ni1 Cu1.99 Al5.97",
          "Li1 Mg1 Zn1 Al1 Sn1",
          "Hf1 Zr1 Ti1 Nb1.5 Mo1",
          "Ti2 Mo2 Cr2 Fe2 Co2 Ni2 Cu2 Al2 B1 Si2",
          "Ti1 W1 Re1",
          "Ti1 V2 Mo2 Cr2 Fe2",
          "Hf1 Zr1 Ti1 Nb1 Mo1.5",
          "Sc1 Hf1 Zr1 Ti1",
          "Cr1 Co2 Ni2",
          "Ti1 Ta1 Mo1",
          "Y1.67 Zr1.67 Ta1.67 Mo14.67 Fe1 Co4 Si8.67",
          "Ti22 Nb10.5 Cr10.5 Co6 Ni1",
          "Hf1 W7.5 Re2.5 Ru1",
          "Zr1 Ti1 Nb1 V2",
          "Zr1 Ti4 Nb1.5 Cr2 Al1.5",
          "Nb1 V1 W3 Ru1",
          "Ti1 Nb1 Mo1 Cr1",
          "Hf1 Zr1 Ti1 Ta1 Nb1 W1 Mo1",
          "Ti1 Ta1 Nb1 Al1",
          "Hf2.5 Zr2.5 Ti1.14 Ta1",
          "Hf1.6 Ti2.53 Nb1.53 V1",
          "Ti1 V1 Cr1 Mn1 Fe1 Co1 Ni1 Cu1 Al2",
          "Zr3.5 Ti4.5 Ta1 Al1",
          "Ti1 Nb2 W2 Ru1",
          "Li2 Mg1 Sc2 Ti3 Al2",
          "Mn4 Fe4 Co1 Ni1",
          "Li6 Ca1 Mg7 Y0.02 Al3.98 Si2",
          "Ti1 Fe1 Co1 Ni1 Cu1 Al1",
          "Ti1 Ta1 W1 Mo1",
          "Ti1 Ta1 W1",
          "Ti1 Nb1 Mo1",
          "W1 Ir22 Al2",
          "Zr1 Ti1 V1 Fe1 Co1 Ni1 Al1",
          "Zr1 Ti1 Ta1 V1 Mo1",
          "Zr1 Ti1 Nb1 Cr3",
          "Zr1 Ti1 V1 Fe1 Ni1 Cu1",
          "Zr3 Ti2 Ta2 Nb1",
          "Ti1 Nb1 V1 Cr1 Ni1 Al10",
          "Ti3.44 Nb2.06 V1 Cr1 Ni1.5 Al1",
          "Mo1 Cr1 Fe1 Co1 Ni1 Al1",
          "Nb2 V2 Mo2 Cr2 Al1",
          "Cr1 Fe1 Ni1.99 Cu1.59 Al1",
          "Hf1.15 Ti9.85 Nb31.31 W1 Mo3.62 Cr2.08 Al3.54 Sn3.85 Ge4.54 Si16",
          "Zr1 Ti1 Ta1 Nb1 V1 Mo1",
          "Zr1 Fe1 Co1 Ni1 Cu1 Al1",
          "Ti1 Nb1 Mo1 Cr1 Fe1",
          "Mn1 Fe1 Co1 Ni1",
          "Zr2 Ti2 Ta1 Nb2 Al1",
          "Ti1 Nb3 W1 Ru1",
          "Zr1 Ta2.13 Ru3.53",
          "Ti1 Cr1 Fe1 Co1 Ni1",
          "Li2.5 Mg5 Cu1 Zn2.5 Al5",
          "Cr1 Fe1 Co3.01 Ni2.01 Cu1 Al6.04",
          "Ta1 V1.33 W4 Mo1.67",
          "Mo1 Cr2 Fe2 Co2 Al2",
          "Ta1 Nb1 W9 Mo1",
          "Ti1 Nb1 V1 Cr1 Ni1 Al5",
          "Cr3.33 Fe3.33 Ni6.67 Cu1.67 Al1",
          "Mo1 Cr2 Fe2 Co2 Ni2 Al1",
          "Y1 Hf1 Zr1 Ti1",
          "Cr1 Fe3.99 Co1 Ni1",
          "Cr1 Fe1 Co1 Ni1.99 Cu1",
          "Cr1 Fe1 Co1 Ni1 Ga1",
          "Ti1.89 Mo1.89 Cr1.89 Al1",
          "Cr1 Fe2.99 Co1 Ni1",
          "Ta2 Nb2 W1 Mo1",
          "Nb1 Mo1 Cr1 Al1",
          "Ti1 Nb1 Ru1",
          "Cr1 Mn1.06 Fe1.75 Co1.83 Ni1.81",
          "Hf1 Zr1 Ti1 Ta1",
          "Cr3.21 Co1 Ni7.21 Cu7.14 Si2",
          "V3 W5.5 Re2.5 Ru1",
          "W1 Cr1.62 Mn1.62 Fe1.62 Co1.62 N1.62",
          "Ti32 Ta1 Nb9 Cr19 Co39",
          "Hf1 Zr1 Nb1",
          "Mn1 Fe1 Ni1",
          "Cr1.67 Fe1 Co3 Ni1",
          "Nb2 V1 W2 Ru1",
          "Hf1 Zr1 Ti1 Ta1 Nb1 V1 N1",
          "Ti6 Nb35 V1 Cr8 Al5",
          "Cr2 Fe2 Co2 Ni1 Cu1 Al2",
          "Ti1 V1 Mo1 Cr1 Al1",
          "Ti1 Nb1 W3 Ru1",
          "Hf1 Ti1 Ta1 Nb1 Mo1",
          "Cr2 Fe2 Co1 Ni2 Cu2 Al2",
          "Ti1 Cr2 Fe2 Ni2 Cu2 Al2",
          "Cr2 Fe2 Co2 Cu1 Al2",
          "Ti40 Nb1 Al5 Si15",
          "Ti4 V7 Mo1 Cr2 Al6",
          "Cr1 Fe1 Co1.99 Ni1 Cu1",
          "V1 Cr1 Fe4.5 Co2 Ni1.5",
          "Cr1.99 Fe1 Co1 Ni1 Cu1",
          "Ti4.5 Ta6 Nb15 Co1 Ni23.5",
          "Be1 Ti1.91 Mo1.91 Cr1.91 Fe1.91 Co1.91 Ni1.91 Cu1.91 Al1.91 Si1.91",
          "Cr1 Mn1 Fe1 Ni1 Cu1",
          "Fe4 Co4 Ni4 Al1",
          "Hf1 Ti1 Nb1 V1",
          "Sc1 Hf1 Zr1 Ta1 Mo1",
          "Ti33 Nb1 Si16",
          "Cr1 Fe1 Co2 Ni2 Al1",
          "Cr1 Co1 Ni1 Cu1 Al1",
          "Ti13 Ta1 Nb42 V12 Mo20 Cr12",
          "Zr1 Ti1.5 Nb1 V1",
          "Ti1 Nb1 W8.5 Mo1.5",
          "Ti1 Nb3 W1 Re1",
          "V2 Cr3 Mn1 Fe7 Co2 Ni5",
          "W1 Cr2 Mn2 Fe2 Cu2 Al2",
          "Mo1 Fe1 Co1 Ni1",
          "Cr1 Fe2 Co2 Ni2 Cu1 Al2",
          "Ti3.38 Nb5.12 Cr1 Al1.12 Si1.88",
          "Hf2 Zr2 Ti1 Nb2 Mo2",
          "Hf1 Zr1 Ti1 Ta1 Nb1 V1 W1 Mo1",
          "Hf3 Mo1 B14 Si10",
          "Hf2 Zr2 Ti1 Ta1 Nb2",
          "Cr1.25 Fe1 Co1.75 Ni1",
          "Ti1 Nb1 W1",
          "Ti1 Fe1 Ni1 Al1",
          "Zr1 Ti1 Nb1 V3 Mo1",
          "Ta1 Nb1 V1 W1",
          "Hf2 Zr2 Ti2 Nb2 V2 Si1",
          "Zr1.27 Ta1.07 Ru1",
          "V2 W1 Cr1 Co4 Ni4",
          "Ti2 V3 Mo1 Cr2 Al2",
          "Hf1 Ti6.5 Ta2.5 Nb2",
          "W3 Mo5 Re3 Ru1",
          "Ti4 Ta3.5 Nb1 V3.5",
          "Cr1 Fe1 Co1 Al2",
          "Ti1 Cr1 Fe1 Ni1 Al1",
          "Fe1 Co3 Ni1 Cu1 Al1",
          "Ti1 V1 Cr1 Mn1 Fe1 Co1 Ni1 Cu1",
          "Nb1 V5.5 W4.5 Mo1",
          "Cr2 Co1 Ni2",
          "Cr1 Fe1.99 Co1 Ni1 Cu1",
          "Ti1 V1 Fe1 Co1 Ni1",
          "Cr2 Fe2 Co2 Ni2 Cu1",
          "Nb5 Fe1 Co1 Ni1 Cu1",
          "Cr2 Fe2 Ni2 Cu2 Al1",
          "Ti2 Nb2 W1",
          "Y1 Sc1 Hf1 Zr1 Ti1",
          "Ti1.33 Ta1 V2 W3.67",
          "Hf2 Zr2 Ti2 Nb1 Mo2",
          "Hf1 Zr1 Ta1 Nb1",
          "Hf1 Zr1 Ti1 Ta1 Nb1 V1",
          "Ti10.78 Mo10.78 Cr10.78 Al1",
          "Ti2 Nb2 V2 Cr1 Al2",
          "Zr1 Ti1 V1 Mo1",
          "Mo1 Cr33 Ni33 Al33",
          "Ti1 V1 Cr1 Mn1 Fe1 Co1 Ni1 Cu1 Al1",
          "Ti1 Nb2 W1",
          "Fe2 Co2 Ni2 Cu1 Al2",
          "Ti1 Ta1 Nb1 W1",
          "Ti1 Ta88.5 W10 C1.5",
          "Ti21 Nb1 Si16",
          "Nb1 V1 W1 Ru1",
          "V2 W41 Mo1 Co4 Ni2",
          "Nb1 Fe2 Co2 Ni2 Cu2",
          "Ti1 Ta2 Nb2 V2 Mo2",
          "Hf2 Zr2 Ti2 Nb2 O1",
          "Hf2 Ti2 Nb2 V1 Mo1",
          "Zr3.18 Ti3.36 Nb3.95 Cr1",
          "W1 Re6 Fe2 Ni8",
          "Ti1 Nb1 V1 Cr1 Al1",
          "Cr1 Co1 Ni1",
          "Mo1 Fe1 Co1 Ni1 Al1",
          "Hf2 Ti6 Ta3 Nb1",
          "Zr1 Ti2 Ta2 Nb3",
          "Mo1 Cr2 Fe2 Co2 Ni1 Al2",
          "Fe1 Co1 Ni1 Cu1 Al1 Si1"
         ],
         "legendgroup": "-1",
         "marker": {
          "color": "#2E91E5",
          "symbol": "circle"
         },
         "mode": "markers",
         "name": "-1",
         "showlegend": true,
         "type": "scattergl",
         "x": [
          -25.952484130859375,
          56.91315460205078,
          62.445701599121094,
          48.71148681640625,
          -84.85936737060547,
          72.27338409423828,
          38.456016540527344,
          30.89618682861328,
          36.58790969848633,
          47.64972686767578,
          42.17572021484375,
          37.586429595947266,
          71.2971420288086,
          70.93215942382812,
          -41.20494079589844,
          -7.847455978393555,
          42.912376403808594,
          -41.56789779663086,
          50.11387634277344,
          -82.3068618774414,
          25.799667358398438,
          61.230220794677734,
          -82.5389175415039,
          3.644916534423828,
          53.190956115722656,
          6.764477252960205,
          50.88299560546875,
          -32.23714828491211,
          22.885639190673828,
          -59.65274429321289,
          10.020723342895508,
          19.635639190673828,
          27.348276138305664,
          -25.237756729125977,
          48.15861129760742,
          -34.949745178222656,
          62.04431915283203,
          6.738785266876221,
          -34.737449645996094,
          46.383567810058594,
          7.922853469848633,
          60.519798278808594,
          -46.964839935302734,
          45.62689971923828,
          63.99631118774414,
          64.32195281982422,
          64.708740234375,
          -20.587339401245117,
          25.496795654296875,
          0.5684005618095398,
          48.46454620361328,
          22.513505935668945,
          -32.23714828491211,
          71.00273895263672,
          72.26042938232422,
          46.34234619140625,
          55.79616165161133,
          33.50886917114258,
          73.06515502929688,
          27.29081916809082,
          33.864501953125,
          65.7203369140625,
          -23.023685455322266,
          -15.06303596496582,
          62.26228332519531,
          76.90715789794922,
          -43.26118469238281,
          76.32054138183594,
          -10.166781425476074,
          50.62677764892578,
          29.205215454101562,
          -21.072694778442383,
          16.845577239990234,
          -20.624380111694336,
          50.52093505859375,
          62.690982818603516,
          34.794620513916016,
          50.82463836669922,
          -12.235373497009277,
          40.79997634887695,
          55.774173736572266,
          56.45132827758789,
          41.95609664916992,
          -43.474037170410156,
          46.404476165771484,
          13.38197135925293,
          -55.41238784790039,
          72.02203369140625,
          -28.708160400390625,
          67.58349609375,
          -1.414394497871399,
          74.70896911621094,
          51.45746994018555,
          47.13744354248047,
          37.630210876464844,
          56.81349563598633,
          57.54817581176758,
          42.219078063964844,
          28.87309455871582,
          68.86077117919922,
          58.228424072265625,
          19.94330406188965,
          23.21017074584961,
          18.205474853515625,
          42.905487060546875,
          45.55625534057617,
          1.7746633291244507,
          -47.138526916503906,
          38.05600357055664,
          -47.202449798583984,
          29.550127029418945,
          20.393352508544922,
          36.25837326049805,
          16.830501556396484,
          41.86974334716797,
          19.537412643432617,
          36.59794616699219,
          -59.2431755065918,
          71.37767028808594,
          52.331478118896484,
          16.202449798583984,
          64.05098724365234,
          -15.529226303100586,
          -28.635774612426758,
          50.584720611572266,
          -2.9415199756622314,
          73.29751586914062,
          71.56414794921875,
          37.814456939697266,
          -11.584705352783203,
          54.8427848815918,
          18.519855499267578,
          44.694541931152344,
          -15.957474708557129,
          66.08860778808594,
          29.31072425842285,
          40.23115539550781,
          20.96101951599121,
          45.319976806640625,
          8.64310073852539,
          64.65135192871094,
          -10.113882064819336,
          53.83906173706055,
          46.536460876464844,
          7.177807807922363,
          57.315914154052734,
          45.291080474853516,
          88.60084533691406,
          24.284162521362305,
          -23.787382125854492,
          -1.373307466506958,
          18.883146286010742,
          23.601470947265625,
          -56.56122970581055,
          71.78751373291016,
          45.92841339111328,
          14.279227256774902,
          -9.567475318908691,
          -75.06430053710938,
          36.424739837646484,
          37.60175323486328,
          56.13439178466797,
          56.86732482910156,
          -26.683542251586914,
          -16.7854061126709,
          -79.72563934326172,
          36.74188232421875,
          53.39517593383789,
          52.27239227294922,
          2.423267364501953,
          -41.415557861328125,
          -12.362177848815918,
          45.703086853027344,
          55.67950439453125,
          50.434322357177734,
          -51.163429260253906,
          21.00094223022461,
          44.84053421020508,
          46.1807975769043,
          -35.020179748535156,
          -28.87103271484375,
          -39.971614837646484,
          15.605257987976074,
          20.273773193359375,
          -81.55452728271484,
          36.90018081665039,
          57.17400360107422,
          -0.664351761341095,
          27.83576011657715,
          -55.68122482299805,
          -1.2420566082000732,
          38.60205078125,
          36.642879486083984,
          15.776147842407227,
          53.6639289855957,
          49.22684097290039,
          22.617511749267578,
          61.97804260253906,
          -14.020403861999512,
          35.408836364746094,
          38.16916275024414,
          -30.030494689941406,
          39.12933349609375,
          -10.401731491088867,
          -11.669926643371582,
          -13.245142936706543,
          89.38153839111328,
          -7.289527416229248,
          24.544191360473633,
          71.12047576904297,
          52.71866226196289,
          49.660194396972656,
          50.1729850769043,
          72.1593246459961,
          33.89200973510742,
          59.688751220703125,
          63.38829040527344,
          18.443431854248047,
          34.50856018066406,
          47.474910736083984,
          53.67286682128906,
          61.54133605957031,
          42.827606201171875,
          14.288803100585938,
          65.0206527709961,
          -44.94419860839844,
          65.93282318115234,
          -32.14683532714844,
          -14.743483543395996,
          14.17326545715332,
          -19.71588706970215,
          46.78353500366211,
          41.05199432373047,
          -26.1192684173584,
          48.49744415283203,
          74.4886245727539,
          47.843910217285156,
          -31.1118106842041,
          -17.569547653198242,
          34.69199752807617,
          18.229129791259766,
          13.839426040649414,
          -15.213616371154785,
          49.63706970214844,
          54.851070404052734,
          -48.03916931152344,
          -35.517581939697266,
          -1.0243656635284424,
          -51.97077560424805,
          -0.523268461227417,
          48.56084060668945,
          -24.83344268798828,
          6.540395259857178,
          59.582420349121094,
          -3.8607616424560547,
          39.8490104675293,
          -31.197254180908203,
          71.47016143798828,
          7.336447238922119,
          -17.027698516845703,
          7.856809616088867,
          73.24818420410156,
          6.070660591125488,
          62.92204284667969,
          19.149152755737305,
          72.27770233154297,
          54.420196533203125,
          -1.3217345476150513,
          34.6871223449707,
          16.78459358215332,
          22.030040740966797,
          56.772274017333984,
          47.69636154174805,
          24.61549186706543,
          54.731327056884766,
          23.986087799072266,
          62.060367584228516,
          25.431316375732422,
          48.857200622558594,
          88.97242736816406,
          12.850104331970215,
          40.97287368774414,
          61.56470489501953,
          24.477949142456055,
          -85.52285766601562,
          6.769784927368164,
          1.8193408250808716,
          41.863521575927734,
          43.124935150146484,
          41.13392639160156,
          7.559183120727539,
          16.840011596679688,
          59.49574279785156,
          46.280372619628906,
          15.340153694152832,
          41.74675369262695,
          2.8030056953430176,
          24.304004669189453,
          -7.8608293533325195,
          22.613935470581055,
          -70.13870239257812,
          70.44104766845703,
          59.60752487182617,
          -38.8152961730957,
          23.42112159729004,
          -39.2333984375,
          38.45256423950195,
          63.214271545410156,
          50.484649658203125,
          -15.394479751586914,
          7.154610633850098,
          -11.676460266113281,
          51.39372634887695,
          -12.63022232055664,
          56.856536865234375,
          2.096281051635742,
          -76.91824340820312,
          -9.464452743530273,
          53.81127166748047,
          -24.438615798950195,
          -12.280437469482422,
          -32.23714828491211,
          26.84185218811035,
          -24.864612579345703,
          40.88728713989258,
          24.662580490112305,
          63.4293098449707,
          -40.690834045410156,
          49.12097930908203,
          -89.85884094238281,
          54.052791595458984,
          -42.70222473144531,
          18.44222068786621,
          69.32732391357422,
          -85.96176147460938,
          -26.44357681274414,
          57.42130661010742,
          63.053707122802734,
          75.39558410644531,
          -28.44516944885254,
          29.844221115112305,
          61.434326171875,
          63.25898742675781,
          -32.211875915527344,
          3.6278789043426514,
          -27.278383255004883,
          31.82025909423828,
          30.414609909057617,
          -56.24871063232422,
          -25.525733947753906,
          -55.565650939941406,
          -8.63247013092041,
          5.968216896057129,
          -79.72882843017578,
          -28.84592628479004,
          89.24381256103516,
          66.20150756835938,
          32.080665588378906,
          -1.777241826057434,
          -29.664146423339844,
          38.1757698059082,
          45.250831604003906,
          56.860225677490234,
          64.48829650878906,
          -25.75809097290039,
          -53.34394073486328,
          13.362964630126953,
          -35.43708038330078,
          70.80931091308594,
          71.52207946777344,
          61.960472106933594,
          6.671257019042969,
          68.33186340332031,
          -27.557701110839844,
          64.96509552001953,
          1.1416517496109009,
          50.126102447509766,
          46.461856842041016,
          76.40812683105469,
          50.459197998046875,
          1.4409749507904053,
          30.115320205688477,
          28.35964584350586,
          46.53956985473633,
          48.30862045288086,
          -12.902791976928711,
          -39.19438171386719,
          -40.9130744934082,
          13.583685874938965,
          48.363521575927734,
          -2.6057510375976562,
          -58.10376739501953,
          14.69588851928711,
          -30.07379722595215,
          77.16481018066406,
          -58.46499252319336,
          65.54087829589844,
          54.14873504638672,
          48.66547393798828,
          70.21361541748047,
          67.18411254882812,
          63.05457305908203,
          26.377519607543945,
          30.42900276184082,
          55.88309860229492,
          -48.4425163269043,
          13.140277862548828,
          64.5771713256836,
          -41.88481140136719,
          42.74980163574219,
          34.7318229675293,
          32.521244049072266,
          57.352333068847656,
          49.75975036621094,
          -63.20954513549805,
          37.617637634277344,
          72.04572296142578,
          91.02848815917969,
          36.38404083251953,
          -7.23239803314209,
          29.499975204467773,
          -2.237914562225342,
          -7.856210231781006,
          28.639938354492188,
          45.40867614746094,
          -9.3219575881958,
          -39.706459045410156
         ],
         "xaxis": "x",
         "y": [
          35.27949905395508,
          51.69382095336914,
          39.594722747802734,
          43.475460052490234,
          37.7935676574707,
          -6.279995918273926,
          43.2486457824707,
          30.894933700561523,
          12.668325424194336,
          -8.493339538574219,
          50.32517623901367,
          20.33204460144043,
          -6.475826263427734,
          -35.259605407714844,
          -23.612512588500977,
          -30.895084381103516,
          -12.95776653289795,
          48.606117248535156,
          21.894804000854492,
          34.51755905151367,
          -36.61265563964844,
          -17.24948501586914,
          34.95161437988281,
          -5.677926063537598,
          35.82736587524414,
          -96.79401397705078,
          21.022953033447266,
          21.176422119140625,
          71.24286651611328,
          -23.746740341186523,
          44.19212341308594,
          -0.7660354971885681,
          -7.261811256408691,
          -5.268700122833252,
          29.696229934692383,
          32.440650939941406,
          -19.67984390258789,
          -94.38351440429688,
          30.752262115478516,
          -25.537378311157227,
          -5.410615921020508,
          32.695274353027344,
          13.489080429077148,
          -29.75209617614746,
          -17.818462371826172,
          -30.023014068603516,
          38.7335205078125,
          6.384217262268066,
          -35.354103088378906,
          9.638080596923828,
          24.979568481445312,
          -1.5678528547286987,
          21.176422119140625,
          -10.281295776367188,
          21.092750549316406,
          -25.16144561767578,
          48.28102111816406,
          25.458314895629883,
          -5.287288188934326,
          10.228918075561523,
          27.4371395111084,
          -25.981712341308594,
          -26.95443344116211,
          27.435924530029297,
          38.255126953125,
          23.112167358398438,
          -19.50477409362793,
          -33.79647445678711,
          50.13230514526367,
          29.26167106628418,
          -11.738375663757324,
          6.459272384643555,
          23.32044792175293,
          20.053983688354492,
          40.942264556884766,
          40.570430755615234,
          -13.331194877624512,
          29.794788360595703,
          -78.354736328125,
          44.47507858276367,
          10.124289512634277,
          52.74669647216797,
          38.05976104736328,
          43.93744659423828,
          25.825881958007812,
          35.991878509521484,
          -41.93315124511719,
          -42.95145034790039,
          -36.62666320800781,
          -32.9077033996582,
          36.65978240966797,
          -34.999855041503906,
          -55.44205093383789,
          37.16541290283203,
          18.83631134033203,
          50.907188415527344,
          -17.986644744873047,
          50.874794006347656,
          -33.91752624511719,
          -7.008756160736084,
          -17.776201248168945,
          60.16707229614258,
          -18.809715270996094,
          25.06153106689453,
          26.778905868530273,
          15.76772403717041,
          35.9151611328125,
          51.0028190612793,
          -40.378929138183594,
          13.036298751831055,
          12.733882904052734,
          -44.67337417602539,
          17.26839828491211,
          22.59865951538086,
          -36.49906921386719,
          -72.72030639648438,
          43.2530403137207,
          -12.003429412841797,
          -7.712656021118164,
          35.69578552246094,
          -21.24008560180664,
          36.493309020996094,
          67.07221984863281,
          -26.679012298583984,
          40.85493087768555,
          44.5688591003418,
          -7.862185001373291,
          20.115966796875,
          -40.34963607788086,
          -55.70951461791992,
          -25.43010902404785,
          25.179052352905273,
          -13.318910598754883,
          -25.475923538208008,
          35.92966079711914,
          -52.106719970703125,
          39.040000915527344,
          -18.644668579101562,
          -31.10531234741211,
          17.36281394958496,
          38.507171630859375,
          50.926239013671875,
          36.953277587890625,
          47.67183303833008,
          -10.292470932006836,
          52.379547119140625,
          -35.55202102661133,
          -12.912574768066406,
          4.285406589508057,
          -8.327622413635254,
          55.446475982666016,
          25.30724334716797,
          -18.720809936523438,
          -22.88834571838379,
          -33.58842468261719,
          -32.62258529663086,
          48.27716064453125,
          55.81133270263672,
          -18.782651901245117,
          -0.04663706198334694,
          -0.8164876103401184,
          51.61022186279297,
          -8.16210651397705,
          32.09518051147461,
          17.192049026489258,
          15.754637718200684,
          1.3298944234848022,
          5.8709588050842285,
          9.100456237792969,
          -55.738956451416016,
          39.98933410644531,
          -50.72505569458008,
          -12.492565155029297,
          48.12002182006836,
          64.27427673339844,
          -10.695300102233887,
          -1.1993578672409058,
          -32.422271728515625,
          -27.358592987060547,
          -28.227088928222656,
          48.23826217651367,
          49.01491165161133,
          26.205751419067383,
          -72.6148910522461,
          17.192546844482422,
          43.21821212768555,
          -18.052736282348633,
          35.4229850769043,
          9.804585456848145,
          -27.818695068359375,
          55.3587646484375,
          -25.49696159362793,
          12.35844612121582,
          25.8939208984375,
          -49.13056945800781,
          -11.47520637512207,
          -19.242292404174805,
          -22.25928497314453,
          -51.07876968383789,
          27.81427001953125,
          -25.4475154876709,
          -27.426868438720703,
          -40.524330139160156,
          56.12187576293945,
          -49.885108947753906,
          -53.12125015258789,
          -15.06747055053711,
          -27.02438735961914,
          3.8182761669158936,
          -37.66816711425781,
          37.804561614990234,
          42.11716842651367,
          21.226055145263672,
          -6.932587623596191,
          -3.294529438018799,
          33.15626907348633,
          31.638633728027344,
          -0.08801966160535812,
          -13.27499771118164,
          29.442670822143555,
          -49.167633056640625,
          35.32624435424805,
          26.692543029785156,
          48.29755401611328,
          -24.768775939941406,
          -21.18550682067871,
          -31.54775047302246,
          -27.827003479003906,
          28.125843048095703,
          32.24717330932617,
          6.2375898361206055,
          37.138519287109375,
          0.25957465171813965,
          35.014892578125,
          19.17296600341797,
          -38.95204544067383,
          37.16190719604492,
          -44.588172912597656,
          -51.883514404296875,
          43.87822723388672,
          56.538150787353516,
          34.63801193237305,
          66.03192138671875,
          25.69682502746582,
          -25.441932678222656,
          -55.77738952636719,
          -25.160438537597656,
          35.390380859375,
          -45.15542984008789,
          54.99345397949219,
          43.66185760498047,
          5.976660251617432,
          -54.983489990234375,
          -31.949485778808594,
          44.9648323059082,
          26.01262092590332,
          -24.417158126831055,
          -34.2906379699707,
          -94.12272644042969,
          -51.9660758972168,
          -93.80264282226562,
          -6.904810428619385,
          10.223859786987305,
          40.833370208740234,
          -0.5048295855522156,
          -7.698938369750977,
          -56.89331817626953,
          35.777462005615234,
          15.057639122009277,
          54.4804801940918,
          -18.9390811920166,
          49.908206939697266,
          -8.23658275604248,
          -21.175323486328125,
          35.85277557373047,
          4.785036087036133,
          -21.632034301757812,
          -34.0311164855957,
          -54.951717376708984,
          -13.729619979858398,
          17.162067413330078,
          -42.86457824707031,
          35.38761520385742,
          -22.91853904724121,
          36.56874465942383,
          -96.57473754882812,
          7.709687232971191,
          31.36109733581543,
          29.727460861206055,
          0.2833927571773529,
          25.996368408203125,
          23.042850494384766,
          -16.362751007080078,
          -23.982378005981445,
          26.61001968383789,
          -36.08449172973633,
          -55.782005310058594,
          -18.024744033813477,
          -29.18994903564453,
          -1.5597985982894897,
          -20.748699188232422,
          18.61027717590332,
          -17.27168846130371,
          -22.169490814208984,
          5.188100814819336,
          48.135040283203125,
          -33.57938003540039,
          32.65078353881836,
          -37.757259368896484,
          18.72368812561035,
          -94.21675109863281,
          -49.91697311401367,
          30.90360450744629,
          -34.32084274291992,
          53.05577850341797,
          -55.69316101074219,
          -12.923717498779297,
          -26.232730865478516,
          -57.550758361816406,
          -6.739361763000488,
          35.624027252197266,
          21.176422119140625,
          10.43797492980957,
          -6.209519386291504,
          38.74848175048828,
          2.8885657787323,
          31.32341766357422,
          47.011356353759766,
          -53.16423797607422,
          -32.28742980957031,
          34.79509735107422,
          42.27543640136719,
          -20.09095573425293,
          -33.901371002197266,
          31.27958106994629,
          34.47322463989258,
          34.64273452758789,
          -18.36878776550293,
          22.261816024780273,
          -23.707786560058594,
          6.337761878967285,
          38.17075729370117,
          -25.483234405517578,
          -25.6065731048584,
          -1.830098271369934,
          -45.14593505859375,
          -72.71073913574219,
          5.728663444519043,
          -5.102553367614746,
          -6.234991550445557,
          -8.910600662231445,
          54.699302673339844,
          10.065656661987305,
          15.565037727355957,
          47.529823303222656,
          -14.771069526672363,
          -24.86794662475586,
          -72.51127624511719,
          44.26468276977539,
          -27.706037521362305,
          -1.3305583000183105,
          -12.897397994995117,
          53.786888122558594,
          33.987850189208984,
          -4.555014133453369,
          -30.81802749633789,
          42.902034759521484,
          -24.28055763244629,
          20.624357223510742,
          -8.936455726623535,
          -20.543636322021484,
          11.152460098266602,
          -33.44861602783203,
          32.53883361816406,
          36.16334533691406,
          -5.874457836151123,
          -6.1183695793151855,
          25.857398986816406,
          -33.73216247558594,
          -37.75335693359375,
          35.874969482421875,
          6.034412384033203,
          -52.011775970458984,
          47.66911315917969,
          18.981595993041992,
          -67.9056625366211,
          -66.84467315673828,
          -19.151060104370117,
          17.720497131347656,
          30.910486221313477,
          34.35906219482422,
          -7.00046968460083,
          33.593013763427734,
          -16.749797821044922,
          23.402597427368164,
          -21.624910354614258,
          35.69419860839844,
          -57.249290466308594,
          29.801828384399414,
          -6.93292236328125,
          -32.606712341308594,
          -18.297529220581055,
          10.63579273223877,
          -12.238130569458008,
          -7.475876808166504,
          -57.487159729003906,
          17.374984741210938,
          34.69571304321289,
          -22.053556442260742,
          28.006925582885742,
          43.865936279296875,
          -72.13710021972656,
          34.6552619934082,
          62.89149475097656,
          2.152571201324463,
          19.82232666015625,
          -42.30398178100586,
          -13.36913013458252,
          -25.908830642700195,
          61.46098709106445,
          -11.875850677490234,
          34.65345764160156,
          -30.129440307617188,
          -52.04636001586914,
          -30.54439353942871,
          -27.725948333740234,
          -23.69583511352539
         ],
         "yaxis": "y"
        },
        {
         "hovertemplate": "<b>%{hovertext}</b><br><br>Cluster #=0<br>37D->2D TSNE1=%{x}<br>37D->2D TSNE2=%{y}<extra></extra>",
         "hovertext": [
          "Re1 Co1.17 B1.17",
          "Re1.17 Co1 B1.17",
          "Re1 Co1.6 B1.4",
          "Re1.6 Co1 B1.4",
          "Re1 Co3.33 B2.33",
          "Re1 Co2.25 B1.75"
         ],
         "legendgroup": "0",
         "marker": {
          "color": "#E15F99",
          "symbol": "circle"
         },
         "mode": "markers",
         "name": "0",
         "showlegend": true,
         "type": "scattergl",
         "x": [
          4.978418827056885,
          5.091642379760742,
          4.838389873504639,
          5.157705307006836,
          4.587213516235352,
          4.684230804443359
         ],
         "xaxis": "x",
         "y": [
          67.0443344116211,
          66.59459686279297,
          67.59749603271484,
          66.34458923339844,
          68.58360290527344,
          68.20094299316406
         ],
         "yaxis": "y"
        },
        {
         "hovertemplate": "<b>%{hovertext}</b><br><br>Cluster #=1<br>37D->2D TSNE1=%{x}<br>37D->2D TSNE2=%{y}<extra></extra>",
         "hovertext": [
          "V2.39 Cr1.99 Fe1.99 Co1.99 Ni1.99 Cu1.99 Al1",
          "Cr2.25 Fe2.25 Co2.25 Ni1 Cu2.25",
          "V1 Cr2 Mn2 Fe2 Co2 Ni2",
          "Cr4.76 Fe1 Co4.76 Ni4.76 Al4.76",
          "Cr1 Fe2 Co2 Ni1 Cu1 Al6",
          "Cr1.81 Fe1.54 Co1.54 Ni1.81 Al1",
          "V1 Cr5 Fe5 Co5 Ni5 Cu5 Al2.51",
          "Ti1 Cr1.99 Fe1.99 Co1.99 Ni1.99 Al2.4",
          "Cr1.43 Fe1.43 Co1.43 Ni1.43 Al1",
          "Ti1 Cr2.49 Fe2.49 Co2.49 Ni2.49 Cu2.49 Al1.25",
          "W1 Cr4.8 Mn4.8 Fe4.8 Co4.8 Ni4.8",
          "Cr1.42 Fe1.42 Co1 Ni1.42 Cu1.42",
          "Mo1 Cr1.05 Mn1.05 Fe1.05 Co1.05 Ni1.05",
          "W1 Cr6.47 Mn6.47 Fe6.47 Co6.47 Ni6.47",
          "V2 Cr2 Fe2 Co2 Ni2 Cu2 Al1",
          "Cr1 Fe1 Co1 Ni1.99 Al1",
          "Mo1 Cr10.17 Fe10.17 Co10.17 Ni10.17",
          "V1 Cr5 Fe5 Co5 Ni5 Cu5 Al2.5",
          "Ti1 Cr1 Fe1 Co1 Ni1 Cu1 Al1",
          "Cr2.25 Fe1 Co2.25 Ni2.25 Al2.25",
          "Ti1 Cr2.5 Fe2.5 Co2.5 Ni2.5 Cu2.5 Al1.25",
          "Mo1 Cr2.5 Fe2.5 Co2.5 Ni2.5 Al2.5",
          "Cr1 Fe1 Co1 Ni1 Cu1 Al1.3",
          "Cr2 Fe2 Co2 Ni2 Al2 C1",
          "Fe20 Co20 Ni20 Cu20 Sn1",
          "V1 Cr1 Mn1 Fe1 Co1 Ni1",
          "Cr4.4 Fe2 Co2.2 Ni1 Cu1 Al9.4",
          "Cr3.8 Fe1 Co3.8 Ni1 Cu1 Al9.4",
          "Ti1 Cr10 Mn10 Fe10 Co10 Ni10 C1",
          "Cr2.25 Fe2.25 Co1 Ni2.25 Al2.25",
          "Cr1.04 Mn1 Fe1.02 Co1.08 Ni1.09",
          "Cr4.4 Fe1 Co5 Ni1 Al8.6",
          "Cr1.25 Fe1.25 Co1.25 Ni1.25 Al1.25 Si1",
          "Cr1 Co1 Ni1 Cu1",
          "Cr4 Fe1.8 Co2.8 Ni1 Cu1 Al9.4",
          "Cr3.33 Fe3.33 Co1 Ni3.33 Al2.33",
          "Cr1.5 Fe2.5 Co2.5 Ni2.5 Al1",
          "Cr1 Mn1 Fe1 Co1 Ni1.1",
          "Cr1 Fe1 Ni1 Al1.12",
          "Ti1 Cr10 Fe10 Co10 Ni10 Al3",
          "Cr1.25 Fe1.25 Co1.25 Ni1.25 Cu1.25 Al1",
          "Cr3.33 Fe3.33 Co3.33 Ni3.33 Al1",
          "Cr1 Fe4.76 Co4.76 Ni4.76 Cu4.76",
          "Mo1 Cr1.47 Mn1.47 Fe1.47 Co1.47 Ni1.47",
          "Cr1.79 Mn1.79 Fe1.79 Co1.79 Ni1.79 Al1",
          "Cr1 Fe1 Co1 Ni1 Al1.25",
          "Cr1 Fe1 Co1 Ni1 Cu1 Al2",
          "Cr1 Fe1 Co1 Ni1 Cu1 Al1.5",
          "Ti2.8 Cr2 Fe2 Co2 Ni2 Cu2 Al1",
          "Cr1 Fe1 Co1 Ni1 Al2.5",
          "Cr1 Fe4.76 Co4.76 Ni4.76 Al4.76",
          "Ti1 Mo1.25 Cr2.5 Fe2.5 Ni2.5 Al2.5",
          "Mo1 Cr2.01 Fe2.01 Co2.01 Ni2.01 Al3.01",
          "Fe25 Co25 Ni25 Cu25 Sn1",
          "Cr4.76 Fe4.76 Co1 Ni4.76 Al4.76",
          "Cr2.67 Fe2.67 Co2.67 Ni2.67 Al1",
          "Cr5 Fe5 Co5 Ni5 Al5 Si1",
          "Cr1 Fe1 Co1 Ni1 Al3",
          "Cr1 Fe1 Co1 Ni2.1 Al1",
          "Cr4 Fe5 Co5 Ni5 Al1",
          "Mo1 Cr3.33 Fe3.33 Co3.33 Ni3.33 Al3.33",
          "Cr1 Fe1 Co1 Ni2.22 Al1",
          "V1 Cr1.31 Mn1.31 Fe1.31 Co1.31 Ni1.31",
          "Cr1.42 Fe1.42 Co1.42 Ni1 Cu1.42",
          "Cr1 Fe1 Co1 Ni1 Al2",
          "Cr3.8 Mn3.8 Fe3.8 Co3.8 Ni3.8 C1",
          "Cr1.67 Mn1 Fe1.67 Co1.67 Ni1.67 Al1.67",
          "Cr3.34 Mn2 Fe3.34 Co3.34 Ni3.34 Al1",
          "Ti1 Cr2 Fe2 Co2 Ni2 Cu2",
          "Ti1 Cr2 Fe2 Co2 Ni2 Al2",
          "Cr1 Fe1 Co1 Ni1",
          "Ti1.6 Cr2 Fe2 Co2 Ni2 Cu2 Al1",
          "Cr1 Mn1 Fe1 Co1 Ni1 Al1",
          "Cr2.01 Fe3.01 Co2.01 Ni2.01 Cu1 Al2.01",
          "Mo1 Cr2 Fe2 Co3 Ni2 Al2",
          "Cr1 Fe1 Co1 Ni1.5 Al1",
          "Ti1.61 Cr2.01 Fe2.01 Co2.01 Ni2.01 Cu2.01 Al1",
          "V1 Cr2.3 Fe2.3 Co2.3 Ni2.3 Cu2.3",
          "Cr2.25 Fe2.25 Co1 Ni2.25 Cu2.25",
          "V1.6 Cr2 Fe2 Co2 Ni2 Cu2 Al1",
          "Mo1 Cr6.67 Fe6.67 Co6.67 Ni6.67",
          "Cr1.23 Mn1.23 Fe1.23 Co1.23 Ni1.23 Al1",
          "Mo1 Cr2 Fe2 Ni2 Al2",
          "V1 Cr1 Fe1 Co1 Ni1 Cu1 Al1",
          "Cr2 Fe2 Co2 Ni2 Cu2 Al1",
          "Cr4.4 Fe1.8 Co2.8 Ni1.2 Cu1 Al8.8",
          "Cr2.88 Fe1.88 Co1.88 Ni2 Cu1 Al2.88",
          "V1 Cr1.47 Fe1.47 Co1.47 Ni1.47 Cu1.47",
          "Mo1 Cr2 Fe4 Co2 Ni2 Al2",
          "Cr2 Fe2 Co2 Ni2 Cu1.51 Al1",
          "Cr1 Fe1 Co1 Ni1 Al2.99",
          "Cr1 Fe2.25 Co2.25 Ni2.25 Cu2.25",
          "Cr3.98 Fe3.98 Co3.98 Ni3.98 Al1",
          "Cr1 Fe1 Co1 Ni1 Cu1 Al1.8",
          "Cr4.2 Fe2.4 Co2.8 Ni1 Cu1 Al8.6",
          "Cr1.42 Fe1 Co1.42 Ni1.42 Cu1.42",
          "Mo1 Cr2 Fe2 Co2 Ni4 Al2",
          "Cr1.42 Fe1.42 Co1.42 Ni1 Al1.42",
          "Cr3.29 Fe3.29 Co3.29 Ni3.29 Al1",
          "Cr1 Fe10 Co10 Ni10 Al9",
          "Ti1.5 Cr1.25 Fe1.25 Co1.25 Ni1.25 Al1",
          "Cr2 Fe4 Co2 Ni2 Cu1 Al2",
          "Ti3.2 Cr2 Fe2 Co2 Ni2 Cu2 Al1",
          "Ti1 Cr2 Fe2 Co2 Ni2 Cu1 Al1",
          "V1 Cr3.96 Mn3.96 Fe3.96 Co3.96 Ni3.96",
          "Cr1.78 Mn1.78 Fe1.78 Co1.78 Ni1.78 Al1",
          "Cr2 Fe2 Co2 Ni4 Cu1 Al2",
          "Cr10 Fe10 Co10 Ni10 Al1",
          "Cr1.47 Mn1.47 Fe1.47 Co1.47 Ni1.47 Al1",
          "V1 Cr1.34 Mn1.34 Fe1.34 Co1.34 Ni1.34",
          "Mo1 Cr2 Fe1.2 Co2 Ni2 Al2",
          "Cr1.89 Fe1.89 Co1.89 Ni1",
          "Cr1 Fe1 Co1 Ni1 Al1 Si1",
          "Cr1 Fe1 Co1 Ni2 Al1",
          "Mo1 Cr12 Fe12 Co12 Ni12",
          "Cr3.33 Mn3.33 Fe3.33 Co3.33 Ni3.33 Al1",
          "Cr1 Fe1 Co1 Ni1 Cu1 Al3",
          "Ti1.5 Mo1 Cr2 Fe2 Ni2 Al2",
          "Cr1.42 Fe1.42 Co1.42 Ni1.42 Al1",
          "Cr2.5 Fe2.5 Co2.5 Ni2.5 Al2.5 C1",
          "Ta1.09 Cr1.82 Mn1.82 Fe1.82 Co1.82 Ni1.82 Al1",
          "Ti1 Cr1.25 Fe1.25 Co1.25 Ni1.25 Al1.25",
          "Mo1 Cr2 Fe2 Co2 Ni2 Al2",
          "Cr3.98 Fe4.96 Co3.98 Ni4.96 Al1",
          "Fe10 Co10 Ni10 Cu10 Sn1",
          "Ti1 Cr3.98 Fe3.98 Co3.98 Ni3.98 Al4.78",
          "V4 Cr2 Fe2 Co2 Ni2 Cu2 Al1",
          "Cr4 Fe4 Co4 Ni4 Cu1 Al3",
          "Mo1 Cr2.01 Fe2.01 Co3.01 Ni2.01 Al2.01",
          "Cr3.14 Fe1.14 Co2.86 Ni1 Al6.14",
          "Cr1.13 Fe1.13 Ni1.13 Al1",
          "Cr1.62 Mn1.62 Fe1.62 Co1.62 Ni1.62 Al1",
          "Mo1 Cr1.25 Fe1.25 Ni1.25 Al1.25",
          "Cr3.32 Mn1 Fe3.32 Co3.32 Ni3.32 Al3.32",
          "Cr2.33 Fe3.33 Co3.33 Ni3.33 Al1",
          "Cr1.24 Mn1.24 Fe1.24 Co1.24 Ni1.24 Al1",
          "Cr1 Fe1 Co1 Ni1 Al1.5",
          "Cr1 Fe1 Co1 Ni3 Al1",
          "Fe2 Co2 Ni2 Al1",
          "Ti1 Cr1 Fe1 Co1 Ni1 Al1.2",
          "Cr3.32 Fe3.32 Co3.32 Ni3.32 Cu3.32 Al1",
          "Cr2.62 Mn2.62 Fe2.62 Co2.62 Ni2.62 Al1",
          "Cr3.6 Fe1 Co4 Ni1 Cu1 Al9.4",
          "Ti3.99 Cr1.99 Fe1.99 Co1.99 Ni1.99 Cu1.99 Al1",
          "Cr3.01 Fe2.01 Co2.01 Ni2.01 Cu1 Al2.01",
          "Cr9.8 Mn9.8 Fe9.8 Co9.8 Ni9.8 Al1",
          "Cr1 Fe3.33 Co3.33 Ni3.33 Al2.33",
          "Nb1 Cr1.33 Fe1.33 Co1.33 Ni1.33 Al1.33",
          "Cr4.8 Fe2 Co3.6 Ni1 Al8.6",
          "Cr5 Fe1 Co4.4 Ni1 Al8.6",
          "Cr4.76 Fe4.76 Co1 Ni4.76 Cu4.76",
          "Cr1.15 Fe1.15 Co1.15 Ni1.15 Al1",
          "Cr2.52 Fe2.52 Co2.52 Ni2.52 Cu1 Al2.27",
          "Ti1 Cr2 Fe2 Co2 Ni2 Al1.8",
          "Cr2 Fe2 Co2 Ni2 Cu1 Al1.51",
          "Ti1 Cr2 Fe2 Co2 Ni2 Al1",
          "Cr5 Fe5 Co5 Ni5 Al5 C1",
          "V1 Cr4 Mn4 Fe4 Co4 Ni4",
          "Cr4 Fe4 Co4 Ni4 Cu1 Al4",
          "Nb1 Cr6.45 Fe6.45 Co6.45 Ni6.45",
          "Cr1.33 Fe1.33 Co1 Ni1.33 Al1.33",
          "Cr2 Fe2 Co4 Ni2 Cu1 Al2",
          "Cr4 Fe2 Co2.6 Ni1 Cu1 Al9.4",
          "Cr2.25 Fe2.25 Co2.25 Ni1 Al2.25",
          "Cr4 Fe2.2 Co2.4 Ni1 Cu1 Al9.4",
          "Mo1 Cr2 Fe2 Co2 Ni2 Al4",
          "Cr4 Fe4 Co1 Ni4 Al4",
          "Ta1 Cr5 Mn5 Fe5 Co5 Ni5 Al2.5",
          "Cr1 Fe1 Co1 Ni1 Cu1 Al2.3",
          "Cr1 Fe1.42 Co1.42 Ni1.42 Cu1.42",
          "Cr1.25 Fe1.25 Co1.25 Ni1.25 Al1",
          "Cr4 Fe2 Co2 Ni2 Cu1 Al2",
          "Cr10 Fe10 Co10 Ni10 Al10 C1",
          "Ti1.5 Cr1 Fe1 Co1 Ni1 Al1",
          "Ta1 Cr2.5 Mn2.5 Fe2.5 Co2.5 Ni2.5",
          "Mo1 Cr4.8 Mn4.8 Fe4.8 Co4.8 Ni4.8",
          "Cr4.6 Fe1.4 Co4.4 Ni1 Al8.6",
          "Cr3 Fe2.6 Co2.8 Ni1.2 Cu1 Al9.4",
          "Cr1 Fe1 Ni1 Al1.21",
          "V1 Cr1.33 Mn1.33 Fe1.33 Co1.33 Ni1.33",
          "Ti1 Cr2 Fe2 Co2 Ni2 Al3",
          "Ta1 Cr1.67 Mn1.67 Fe1.67 Co1.67 Ni1.67",
          "Mo1 Cr10 Fe10 Co10 Ni10 Al3",
          "Cr4.4 Fe1.6 Co4.4 Ni1 Al8.6",
          "Cr1 Fe1 Co1 Ni2.5 Al1",
          "Nb1 Cr3.24 Fe3.24 Co3.24 Ni3.24",
          "Cr2 Fe2 Co2 Ni2 Cu2 Al1 B1.2",
          "Nb1 Cr9.71 Fe9.71 Co9.71 Ni9.71",
          "Cr1 Fe1 Ni1 Cu1",
          "Ti1 Cr12 Fe12 Co12 Ni12 Al2",
          "Cr2 Mn2 Fe2 Co2 Ni2 C1",
          "Cr10 Mn10 Fe10 Co10 Ni10 Al1",
          "Cr1.33 Fe1.33 Co1.33 Ni1",
          "Cr1 Fe1 Co1 Ni1 Cu1 Al2.8",
          "Mo1 Cr2 Fe3 Co2 Ni2 Al2",
          "Fe14.29 Co14.29 Ni14.29 Cu14.29 Sn1",
          "Cr2.5 Fe2.5 Co2.5 Ni2.5 Al2.5 Si1",
          "Cr1.42 Fe1 Co1.42 Ni1.42 Al1.42",
          "V3.2 Cr2 Fe2 Co2 Ni2 Cu2 Al1",
          "Cr1.33 Fe1.33 Co1.33 Al1",
          "Nb1 Cr24.6 Mn24.6 Fe24.6 Co24.6 Ni24.6 C1",
          "Ti1 Cr1.25 Fe1.25 Co1.25 Ni1.25 Al1.5",
          "Ti1.2 Mo1 Cr2 Fe2 Ni2 Al2",
          "Cr4.6 Fe1.4 Co2.8 Ni1 Cu1 Al9.2",
          "Ti1 Cr5 Fe5 Co5 Ni5",
          "Mo1 Cr2 Fe2 Co4 Ni2 Al2",
          "Cr1 Mn1 Fe1 Co1 Ni1 Al1.25",
          "Cr3.4 Fe2.8 Co3 Ni1.2 Cu1 Al8.6",
          "Cr1.11 Fe1.11 Co1.11 Ni1.11 Al1",
          "Ti1 Cr5 Fe5 Co5 Ni5 Al4",
          "Cr1 Fe1.42 Co1.42 Ni1.42 Al1.42",
          "Cr1 Fe2.25 Co2.25 Ni2.25 Al2.25",
          "Cr2.25 Fe1 Co2.25 Ni2.25 Cu2.25",
          "Cr1.15 Fe1 Co1 Ni1",
          "V2.8 Cr2 Fe2 Co2 Ni2 Cu2 Al1",
          "Ti3.6 Cr2 Fe2 Co2 Ni2 Cu2 Al1",
          "Cr2.11 Fe1 Co2.22 Ni1 Al4.78",
          "Cr1 Fe1 Co1 Ni2.15 Al1",
          "Cr1 Fe2.5 Co2.5 Ni2.5 Al1.5",
          "Cr1.34 Mn1.34 Fe1.34 Co1.34 Ni1.34 Al1",
          "Ti2.4 Cr2 Fe2 Co2 Ni2 Cu2 Al1",
          "Cr4.2 Fe1.6 Co4.6 Ni1 Al8.6",
          "Mo1 Cr3.29 Fe3.29 Co3.29 Ni3.29",
          "Cr1.33 Fe1.33 Co1.33 Ni1.33 Al1",
          "Cr2.66 Fe2.66 Co2.66 Ni2.66 Al1",
          "Fe1 Co1 Ni1 Al1",
          "Ti3.21 Cr2.01 Fe2.01 Co2.01 Ni2.01 Cu2.01 Al1",
          "Cr1 Fe1 Co1 Ni1 Cu1",
          "Cr1 Mn1 Fe1 Co1 Ni1.05",
          "V3.63 Cr2.01 Fe2.01 Co2.01 Ni2.01 Cu2.01 Al1",
          "Cr2.01 Fe2.01 Co2.01 Ni2.01 Cu1 Al3.01",
          "Cr1.33 Mn1.33 Fe1.33 Co1.33 Ni1.33 Al1",
          "V3.99 Cr1.99 Fe1.99 Co1.99 Ni1.99 Cu1.99 Al1",
          "Ti1 Cr1 Fe1 Co1 Ni1 Al2",
          "Nb1 Cr4.85 Fe4.85 Co4.85 Ni4.85",
          "Cr3.33 Fe3.33 Co3.33 Ni3.33 Cu1 Al1",
          "V3.6 Cr2 Fe2 Co2 Ni2 Cu2 Al1",
          "W1 Cr4.5 Fe4.5 Co4.5 Ni4.5 C1",
          "V1 Cr2.5 Fe2.5 Co2.5 Ni2.5 Cu2.5 Al1.25",
          "Cr1.61 Mn1.61 Fe1.61 Co1.61 Ni1.61 Al1",
          "Cr4.4 Fe1 Co4.8 Ni1.2 Al8.6",
          "Cr5 Fe5 Co5 Ni5 Al1",
          "Ti2 Cr4 Fe4 Co4 Ni4 Cu2 Al1",
          "Cr4 Fe1.33 Co3.17 Ni1 Al7.17",
          "Ti2 Cr4 Fe4 Co4 Ni4 Cu3 Al1",
          "Cr2 Mn2 Fe2 Co2 Ni2 Al1",
          "Ti1.2 Cr2 Fe2 Co2 Ni2 Cu2 Al1",
          "Ti1 Mo1 Cr2 Fe2 Ni2 Al2",
          "Cr1 Fe1 Co1 Ni1.99 Al1.3",
          "Cr14.78 Mn14.19 Fe14.26 Co14.78 Ni14.56 C1",
          "Mo1 Cr4.8 Fe4.8 Co4.8 Ni4.8",
          "Cr9.8 Mn9.8 Fe9.8 Co9.8 Ni9.8 C1",
          "Cr1 Fe1 Co1 Ni1 Al1.4",
          "Cr1 Fe1 Co1 Ni1 Al1.8",
          "Nb1 Cr10 Fe10 Co10 Ni10 Al10",
          "W1 Cr3.8 Mn3.8 Fe3.8 Co3.8 Ni3.8",
          "Cr5 Mn5 Fe5 Co5 Ni5 Al1",
          "Mo1 Cr5 Fe5 Co5 Ni5 Al5",
          "Cr5.05 Mn5.05 Fe5.05 Co5.05 Ni5.05 Al1",
          "Cr3.3 Mn1 Fe3.3 Co3.3 Ni3.3 Al1.65",
          "Mo1 Cr5 Fe5 Ni5 Al5",
          "Cr1 Fe5 Co5 Ni5 Al4",
          "Fe5 Co5 Ni5 Cu5 Sn1",
          "Cr1 Fe1 Co1 Ni1 Cu1 Al1",
          "Ti1 Cr5 Fe5 Co5 Ni5 Cu5 Al2.51",
          "Ti2 Cr2 Fe2 Co2 Ni2 Cu2 Al1",
          "Fe1 Co1 Ni1 Cu1 Sn0.02",
          "V1 Cr4.8 Fe4.8 Co4.8 Ni4.8 Cu4.8",
          "Cr1 Fe1 Ni1 Al1.3",
          "Cr2 Mn1.2 Fe2 Co2 Ni2 Al1",
          "V2.4 Cr2 Fe2 Co2 Ni2 Cu2 Al1",
          "Mo1 Cr5 Fe5 Co5 Ni5",
          "Cr1 Co1 Ni1 Al1",
          "W1 Cr5 Fe5 Co5 Ni5",
          "Cr1.14 Mn1.14 Fe1.14 Co1.14 Ni1.14 Al1",
          "Cr1 Fe1 Co1 Al1",
          "Mo1 Cr2 Fe2 Co2 Ni2",
          "Cr18.53 Mn17.98 Fe17.89 Co17.89 Ni18.44 C1",
          "V1.2 Cr2 Fe2 Co2 Ni2 Cu2 Al1",
          "Cr2.38 Fe1.38 Co2.38 Ni1 Al5.38",
          "Cr2 Fe2 Co2 Ni6 Cu1 Al2",
          "Cr1.17 Fe1.11 Co1.11 Ni1.17 Al1",
          "Ta1 Cr2.5 Mn2.5 Fe2.5 Co2.5 Ni2.5 Al1.25",
          "Cr1.14 Fe1.14 Co1.14 Ni1.14 Al1",
          "Cr2 Fe2 Co2 Ni2 Cu1 Al4",
          "Nb1 Cr2 Fe2 Co2 Ni2 Al2",
          "Cr1.43 Mn1.43 Fe1.43 Co1.43 Ni1.43 Al1",
          "V3.21 Cr2.01 Fe2.01 Co2.01 Ni2.01 Cu2.01 Al1",
          "W1 Cr2.3 Mn2.3 Fe2.3 Co2.3 Ni2.3",
          "Cr2.86 Fe1.71 Co2.57 Ni1 Al6.14",
          "Cr1.13 Mn1.13 Fe1.13 Co1.13 Ni1.13 Al1",
          "Mo1 Cr2.3 Mn2.3 Fe2.3 Co2.3 Ni2.3",
          "Cr1.67 Fe1.67 Co1.67 Ni1.67 Al1",
          "Ti1 Cr3.33 Fe3.33 Co3.33 Ni3.33",
          "Cr9.8 Fe9.8 Co9.8 Ni9.8 Cu1 Al9.8",
          "Mo1 Cr2 Fe2 Co2 Ni2 Al3",
          "Mo1 Cr1 Fe1 Ni1 Al1",
          "Cr2 Fe2 Co2 Ni2 Al1",
          "Ti1 Cr1 Fe1 Co1 Ni1 Al1",
          "Ti2.39 Cr1.99 Fe1.99 Co1.99 Ni1.99 Cu1.99 Al1",
          "V1 Cr3.8 Mn3.8 Fe3.8 Co3.8 Ni3.8",
          "W1 Cr2 Fe2 Co2 Ni2",
          "Ti1 Cr2 Fe2 Co2 Ni2",
          "Ti4 Cr2 Fe2 Co2 Ni2 Cu2 Al1",
          "Mo1 Cr10 Fe10 Co10 Ni10 Al10",
          "Cr2.6 Fe2.4 Co2.6 Ni2 Cu1 Al9.4",
          "Ti3.63 Cr2.01 Fe2.01 Co2.01 Ni2.01 Cu2.01 Al1",
          "Ti2 Cr4 Fe4 Co4 Ni4 Al1",
          "Cr2.87 Fe1.88 Co1.88 Ni1.88 Cu1 Al2.87",
          "Cr3.34 Mn1 Fe3.34 Co3.34 Ni3.34 Al1",
          "Mo1 Cr2.01 Fe2.01 Co2.01 Ni3.01 Al2.01",
          "Cr1.05 Mn1.05 Fe1.05 Co1.05 Ni1.05 Al1",
          "Cr10.17 Fe10.17 Co10.17 Ni10.17 Al1",
          "Cr3 Fe1.29 Co2.86 Ni1 Al6.14",
          "Fe1 Co1 Ni1 Cu1",
          "Fe2 Co2 Ni2 Cu2 Sn1",
          "Cr3.2 Fe2 Co3.4 Ni1 Cu1 Al9.4",
          "Cr3.8 Fe2 Co2.8 Ni1 Cu1 Al9.4",
          "Cr23.73 Mn24.58 Fe23.37 Co23.61 Ni24.1 C1",
          "Cr1 Fe1 Co1 Ni1.96 Al1",
          "Cr1.44 Fe1.29 Co1.29 Ni1.44 Al1",
          "Cr2 Fe2 Co2 Ni2 Cu1 Al1.41",
          "Cr2.01 Fe2.01 Co3.01 Ni2.01 Cu1 Al2.01",
          "Cr2.63 Mn2.63 Fe2.63 Co2.63 Ni2.63 Al1",
          "Mo1 Cr4.96 Fe4.96 Ni4.96 Al4.96",
          "Cr5 Co4.5 Ni5 Cu4.5 Al1",
          "Cr3.33 Fe3.33 Co3.33 Ni3.33 Al3.33 C1",
          "Ti2 Cr4 Fe4 Co4 Ni4 Cu1 Al3",
          "Cr3 Fe2 Co3.6 Ni1 Cu1 Al9.4",
          "Cr2.33 Mn2.33 Fe2.33 Co2.33 Ni2.33 Al1",
          "Cr1 Fe1 Co1 Ni1 Al1",
          "Ti1 Cr5 Fe5 Co5 Ni5 Cu5 Al2.5",
          "Cr1.36 Fe1.27 Co1.55 Ni1 Al3.91",
          "Ti2 Cr2 Fe2 Co2 Ni2 Al1",
          "Cr1.34 Fe1.34 Co1.34 Ni1.34 Al1",
          "Ti2.82 Cr2.01 Fe2.01 Co2.01 Ni2.01 Cu2.01 Al1",
          "Cr3 Fe3 Co3 Al1",
          "V2.82 Cr2.01 Fe2.01 Co2.01 Ni2.01 Cu2.01 Al1",
          "Cr1 Fe1 Co1 Ni1 Cu1 Al2.5",
          "Cr3.6 Fe1 Co4.2 Ni1 Cu1 Al9.2",
          "Mo1 Cr2.01 Fe3.01 Co2.01 Ni2.01 Al2.01",
          "Nb1 Cr2.43 Fe2.43 Co2.43 Ni2.43",
          "Cr1 Fe2 Co2 Ni2 Al1",
          "Cr1.89 Fe1.89 Co1.89 Al1",
          "Nb1 Cr4 Fe4 Co4 Ni4 Al4",
          "Cr2.4 Fe2.6 Co2.4 Ni2.2 Cu1 Al9.4",
          "Cr4.96 Fe4.96 Co4.96 Ni4.96 Al1",
          "Cr4 Fe4 Co4 Ni4 Al1",
          "Ti1 Cr5.05 Fe5.05 Co5.05 Ni5.05 Al5.05",
          "Cr4.76 Fe4.76 Co4.76 Ni1 Al4.76",
          "Cr4.76 Fe1 Co4.76 Ni4.76 Cu4.76",
          "Fe1.33 Co1.33 Ni1.33 Al1",
          "Cr2.21 Fe2.21 Co2.21 Ni2.21 Cu1 Al1.77",
          "V1 Cr2.49 Fe2.49 Co2.49 Ni2.49 Cu2.49 Al1.25",
          "Cr2 Fe2 Co2 Ni2 Cu1 Al2",
          "Mo1 Cr2 Fe2 Co2 Ni3 Al2",
          "Mo1 Cr6.69 Fe6.69 Co6.69 Ni6.69",
          "Ti1 Cr1.25 Fe1.25 Co1.25 Ni1.25 Cu1.25",
          "Cr2 Fe2 Co2 Ni2 Cu1 Al1",
          "Cr3.6 Fe1 Co5.8 Ni1 Al8.6",
          "Cr2.04 Mn2.04 Fe2.04 Co2.04 Ni2.04 Al1",
          "Cr2.01 Fe2.01 Co2.01 Ni3.01 Cu1 Al2.01",
          "Cr1 Mn1 Fe1 Co1 Ni1",
          "V1.61 Cr2.01 Fe2.01 Co2.01 Ni2.01 Cu2.01 Al1",
          "Ta1 Cr5 Mn5 Fe5 Co5 Ni5",
          "Ti1 Mo2 Cr4 Fe4 Ni4 Al4",
          "Cr2 Fe2 Co2 Ni2 Cu2 Al1 B2",
          "Ti1 Cr5 Fe5 Co5 Ni5 Al9",
          "Cr1 Fe1 Ni1 Al1",
          "Cr4.6 Fe1 Co4.8 Ni1 Al8.6",
          "Cr1.67 Fe1.67 Co1.67 Ni1.67 Al1.67 Si1",
          "V1 Cr1.05 Fe1.05 Co1.05 Ni1.05 Cu1.05",
          "Mo1 Cr2 Fe1 Co2 Ni2 Al2",
          "Cr9 Fe10 Co10 Ni10 Al1",
          "Cr5 Fe5 Co5 Ni5 Cu5 Al2.5 B1",
          "Cr2 Fe2 Co1 Ni2 Al2",
          "Ti1 Cr1 Fe1 Co1 Ni1 Cu1",
          "Cr6.34 Fe6.34 Co6.34 Al1",
          "Ti1 Cr1 Fe1 Co1 Ni1 Al1.5",
          "V1 Cr10.25 Fe10.25 Co10.25 Ni10.25 Cu10.25 Al10.25",
          "Cr4.96 Fe1 Co4.96 Ni4.96 Al4.96",
          "Ti1 Cr1.33 Fe1.33 Co1.33 Ni1.33 Al1.6"
         ],
         "legendgroup": "1",
         "marker": {
          "color": "#1CA71C",
          "symbol": "circle"
         },
         "mode": "markers",
         "name": "1",
         "showlegend": true,
         "type": "scattergl",
         "x": [
          -46.60498809814453,
          -56.24018096923828,
          -53.291011810302734,
          5.1704206466674805,
          -15.66789722442627,
          -13.552093505859375,
          -41.85792922973633,
          -12.249707221984863,
          -11.60372543334961,
          -2.018230438232422,
          -43.16175079345703,
          -57.58407974243164,
          -48.654335021972656,
          -43.36205291748047,
          -45.7054443359375,
          -12.291947364807129,
          -29.175933837890625,
          -41.85701370239258,
          1.8393689393997192,
          4.533118724822998,
          -2.025017738342285,
          -8.199071884155273,
          -32.136966705322266,
          -3.065398931503296,
          -63.85800552368164,
          -53.90165710449219,
          -7.601534843444824,
          -16.15730857849121,
          -46.67667770385742,
          -43.07810592651367,
          -41.91670608520508,
          -11.41391658782959,
          2.8481571674346924,
          -51.38819885253906,
          -8.841415405273438,
          -44.15533447265625,
          -29.042816162109375,
          -42.32908630371094,
          -46.54326629638672,
          -33.426998138427734,
          -33.54597091674805,
          -34.30803298950195,
          -62.51626205444336,
          -48.4174919128418,
          -57.57244110107422,
          -2.1578369140625,
          -30.538732528686523,
          -31.820817947387695,
          4.805115699768066,
          -7.1003193855285645,
          -27.409347534179688,
          -40.03803634643555,
          -4.990675926208496,
          -63.70472717285156,
          -44.167869567871094,
          -35.00993728637695,
          1.0073630809783936,
          -7.538219928741455,
          -11.716812133789062,
          -29.68898582458496,
          -7.963443279266357,
          -11.295791625976562,
          -53.93052673339844,
          -56.081825256347656,
          -4.0335564613342285,
          -46.62089920043945,
          -61.96663284301758,
          -49.885887145996094,
          -2.7404661178588867,
          -11.390848159790039,
          -30.713903427124023,
          0.5670885443687439,
          -61.755279541015625,
          -23.094093322753906,
          -13.733552932739258,
          -13.691225051879883,
          0.5703911185264587,
          -53.197052001953125,
          -58.26310348510742,
          -45.009971618652344,
          -28.09677505493164,
          -60.798709869384766,
          -40.79370880126953,
          -44.78579330444336,
          -40.07717514038086,
          -9.499247550964355,
          -25.98655891418457,
          -52.5019416809082,
          -19.373905181884766,
          -40.17597579956055,
          -7.531426429748535,
          -58.32230758666992,
          -33.618228912353516,
          -30.880939483642578,
          -10.268119812011719,
          -53.6197624206543,
          -2.7827491760253906,
          -14.742083549499512,
          -34.346248626708984,
          -26.618778228759766,
          -15.176274299621582,
          -22.766109466552734,
          6.3688063621521,
          -5.412237644195557,
          -51.96104049682617,
          -57.6265869140625,
          -13.94085693359375,
          -32.14695358276367,
          -59.32046890258789,
          -53.65346145629883,
          -3.8806354999542236,
          -29.303871154785156,
          3.0806376934051514,
          -12.01089859008789,
          -29.557340621948242,
          -53.79753875732422,
          -29.493223190307617,
          -39.544342041015625,
          -11.585182189941406,
          -3.324971914291382,
          -60.41889572143555,
          -14.183004379272461,
          -8.338728904724121,
          -29.972183227539062,
          -64.3600845336914,
          -11.809026718139648,
          -49.206417083740234,
          -26.524242401123047,
          -13.731043815612793,
          -12.726685523986816,
          -45.32756805419922,
          -58.31544494628906,
          -40.452823638916016,
          -61.96771240234375,
          -29.38057518005371,
          -60.72911071777344,
          -2.7047030925750732,
          -10.240979194641113,
          -24.45969581604004,
          -15.048661231994629,
          -40.355098724365234,
          -54.677433013916016,
          -16.167591094970703,
          8.533257484436035,
          -24.007160186767578,
          -51.01739501953125,
          -27.79443359375,
          -10.748004913330078,
          -13.953683853149414,
          -10.664785385131836,
          -58.775108337402344,
          -9.13078784942627,
          -27.25640106201172,
          -11.072693824768066,
          -28.027589797973633,
          -15.505331039428711,
          -4.494760513305664,
          -51.95514678955078,
          -25.761096954345703,
          -36.51333999633789,
          -6.7170515060424805,
          -17.050081253051758,
          -8.510149955749512,
          -14.630278587341309,
          -8.184808731079102,
          -4.903171062469482,
          -44.068485260009766,
          -59.76105499267578,
          -30.03318977355957,
          -57.70290756225586,
          -10.729487419128418,
          -23.59352684020996,
          -5.31105899810791,
          -15.433774948120117,
          -53.189212799072266,
          -46.88520431518555,
          -11.672510147094727,
          -12.461359977722168,
          -47.102718353271484,
          -53.654808044433594,
          -12.830171585083008,
          -53.526451110839844,
          -35.497867584228516,
          -12.047435760498047,
          -10.668595314025879,
          -37.852481842041016,
          -37.81843948364258,
          -36.146240234375,
          -58.98362731933594,
          -32.433231353759766,
          -46.902828216552734,
          -51.00886917114258,
          -29.063016891479492,
          -29.669069290161133,
          -18.583389282226562,
          -64.08496856689453,
          1.546248197555542,
          4.008524417877197,
          -48.148868560791016,
          -14.44526195526123,
          -45.51771926879883,
          -14.32160758972168,
          -39.72847366333008,
          -8.932319641113281,
          -17.548477172851562,
          -14.70189094543457,
          -62.125885009765625,
          -11.79508113861084,
          -8.762593269348145,
          -11.624568939208984,
          -29.320274353027344,
          -28.895599365234375,
          -52.56489181518555,
          -30.349584579467773,
          -47.36444091796875,
          7.699645042419434,
          -12.248147010803223,
          -11.527536392211914,
          -28.26970863342285,
          -60.080474853515625,
          3.4015605449676514,
          -12.261466026306152,
          -26.153383255004883,
          -11.226556777954102,
          -35.015892028808594,
          -26.434120178222656,
          6.349406719207764,
          -54.97687911987305,
          -42.76148986816406,
          -48.82929229736328,
          -27.73805809020996,
          -60.153167724609375,
          -49.21403503417969,
          -15.69973087310791,
          -36.99559783935547,
          -29.645042419433594,
          -48.81064224243164,
          -33.73039627075195,
          -43.058353424072266,
          -58.370582580566406,
          -11.3584623336792,
          -33.094757080078125,
          -4.992625713348389,
          -13.648468971252441,
          -4.561233997344971,
          -56.68252182006836,
          -0.8160695433616638,
          -39.881629943847656,
          -12.708220481872559,
          -45.579734802246094,
          -27.043344497680664,
          -45.97896194458008,
          -2.399221181869507,
          -3.775390386581421,
          -8.29850959777832,
          -42.85443115234375,
          -52.10359573364258,
          -7.7683634757995605,
          -52.08426284790039,
          -48.34950637817383,
          -44.46564483642578,
          -27.165010452270508,
          -65.35386657714844,
          -33.14047622680664,
          -38.18815612792969,
          1.8829681873321533,
          -63.99995422363281,
          -54.3614387512207,
          -47.54280471801758,
          -49.89081954956055,
          -46.60627746582031,
          -27.195383071899414,
          5.518854141235352,
          -33.07840347290039,
          -61.29712677001953,
          -14.226550102233887,
          -25.54628562927246,
          -45.29862976074219,
          -44.18358612060547,
          -12.458468437194824,
          -9.785100936889648,
          -8.67589282989502,
          -60.16555404663086,
          -9.025221824645996,
          -27.962181091308594,
          -10.598563194274902,
          -59.54745101928711,
          -48.13909912109375,
          -42.152774810791016,
          -12.636109352111816,
          -61.34389114379883,
          -47.94668197631836,
          -12.515737533569336,
          -17.307954788208008,
          -7.197834491729736,
          -4.990514278411865,
          -40.358421325683594,
          -12.793641090393066,
          -14.823564529418945,
          3.40543532371521,
          -51.99266052246094,
          -33.84833526611328,
          -16.377309799194336,
          8.520773887634277,
          -7.616024494171143,
          -13.532851219177246,
          7.738335132598877,
          -15.721477508544922,
          -25.964298248291016,
          -48.322444915771484,
          -3.4095113277435303,
          -61.62873077392578,
          -32.144256591796875,
          -12.592206001281738,
          -64.39226531982422,
          -65.9998550415039,
          -13.659682273864746,
          -9.002609252929688,
          -44.72573471069336,
          -12.535311698913574,
          -12.789088249206543,
          -28.176231384277344,
          -17.422374725341797,
          -54.65597915649414,
          -44.462554931640625,
          -51.24737548828125,
          -3.7935967445373535,
          -10.115686416625977,
          -13.78851318359375,
          -55.296993255615234,
          -7.268185615539551,
          -38.19099044799805,
          -7.69517183303833,
          -15.015922546386719,
          -11.313207626342773,
          4.834942817687988,
          -14.944337844848633,
          -47.379756927490234,
          -29.854398727416992,
          -16.19260597229004,
          -18.580921173095703,
          -38.1328239440918,
          -28.670391082763672,
          -14.733712196350098,
          -9.306403160095215,
          -13.693252563476562,
          -33.10188293457031,
          -33.59520721435547,
          -11.717805862426758,
          -14.359796524047852,
          -51.810115814208984,
          -25.5189208984375,
          -27.674909591674805,
          -43.067222595214844,
          -27.93611717224121,
          -3.4052469730377197,
          -28.108753204345703,
          -2.0847976207733154,
          -29.103771209716797,
          -11.950057029724121,
          -56.51519775390625,
          -13.977370262145996,
          -43.498165130615234,
          -45.016937255859375,
          -52.7635612487793,
          -40.283260345458984,
          -37.7677116394043,
          -3.7444236278533936,
          -45.72017288208008,
          -11.14400577545166,
          2.3232638835906982,
          -52.21645736694336,
          -3.8519089221954346,
          -32.17093276977539,
          -39.42451858520508,
          -42.90916442871094,
          -1.7377161979675293,
          -15.045830726623535,
          -15.450732231140137,
          -33.35574722290039,
          5.193810939788818,
          -14.140003204345703
         ],
         "xaxis": "x",
         "y": [
          2.6536433696746826,
          -7.08599328994751,
          62.480716705322266,
          -32.500553131103516,
          -52.199378967285156,
          -10.393303871154785,
          -3.5512378215789795,
          2.696629047393799,
          -10.692934036254883,
          4.946205139160156,
          39.397220611572266,
          -9.426616668701172,
          43.658973693847656,
          39.32386016845703,
          1.253020167350769,
          45.536746978759766,
          28.206371307373047,
          -3.553297281265259,
          6.883044242858887,
          -31.84576988220215,
          4.945363998413086,
          -26.208097457885742,
          -29.221376419067383,
          -16.90395736694336,
          0.6014983057975769,
          63.971656799316406,
          -57.843143463134766,
          -61.31448745727539,
          48.39686584472656,
          -52.938392639160156,
          47.13085174560547,
          -76.53977966308594,
          -21.303958892822266,
          -9.566584587097168,
          -58.13892364501953,
          -52.77778625488281,
          10.958171844482422,
          46.72768783569336,
          -56.839603424072266,
          15.512067794799805,
          -27.09994888305664,
          16.236547470092773,
          -0.6355053186416626,
          43.85403060913086,
          31.304702758789062,
          -39.15614700317383,
          -32.51124954223633,
          -30.067062377929688,
          4.565397262573242,
          -46.25083541870117,
          6.27267599105835,
          -64.92239379882812,
          -34.36164093017578,
          0.32882624864578247,
          -53.99440383911133,
          14.806388854980469,
          -20.942331314086914,
          -46.929481506347656,
          46.150726318359375,
          12.78958511352539,
          -25.223386764526367,
          46.884029388427734,
          63.413291931152344,
          -6.990716934204102,
          -41.25510787963867,
          49.71257400512695,
          19.189016342163086,
          27.385665893554688,
          9.146050453186035,
          3.3563733100891113,
          29.10049057006836,
          5.452306747436523,
          22.859201431274414,
          -17.426340103149414,
          -26.013280868530273,
          44.425987243652344,
          5.448776721954346,
          -4.867616653442383,
          -10.287620544433594,
          0.10204199701547623,
          27.796316146850586,
          25.32732391357422,
          -63.181121826171875,
          1.547293782234192,
          -5.450206756591797,
          -59.52613067626953,
          -28.213502883911133,
          -4.110452651977539,
          -17.261472702026367,
          -6.738383769989014,
          -46.91962814331055,
          -4.23700475692749,
          17.552087783813477,
          -31.916872024536133,
          -59.19123458862305,
          -8.175040245056152,
          -26.430431365966797,
          -32.836551666259766,
          16.160694122314453,
          6.49043607711792,
          8.3909273147583,
          -17.24588966369629,
          4.004574775695801,
          6.670435905456543,
          59.81208419799805,
          31.22138786315918,
          38.88731002807617,
          25.960641860961914,
          28.3148250579834,
          63.176551818847656,
          -30.10226821899414,
          31.95367431640625,
          -21.347627639770508,
          45.44144821166992,
          28.391618728637695,
          34.87525177001953,
          -35.04710388183594,
          -66.10658264160156,
          -10.795741081237793,
          -17.1187686920166,
          34.960716247558594,
          5.997147560119629,
          -26.795549392700195,
          13.540409088134766,
          1.3924928903579712,
          -1.1119775772094727,
          7.457054138183594,
          -20.916879653930664,
          -26.013689041137695,
          -71.49128723144531,
          -56.65940475463867,
          30.064653396606445,
          -62.450889587402344,
          19.069700241088867,
          11.865826606750488,
          25.481611251831055,
          -39.76176834106445,
          49.116268157958984,
          7.046825885772705,
          5.74879264831543,
          -5.446926593780518,
          34.03801727294922,
          -61.319942474365234,
          3.2848827838897705,
          -27.128889083862305,
          38.02542495727539,
          8.174304962158203,
          -19.69265365600586,
          -71.93699645996094,
          -75.1082992553711,
          -10.96052360534668,
          -15.43963623046875,
          -21.455018997192383,
          3.571106195449829,
          -20.182397842407227,
          23.721466064453125,
          -17.958053588867188,
          59.802677154541016,
          -21.98049545288086,
          26.469676971435547,
          -20.370651245117188,
          -25.195674896240234,
          -57.81744384765625,
          -33.42620849609375,
          -57.50246810913086,
          -35.09619140625,
          -53.851139068603516,
          34.43693542480469,
          -33.446048736572266,
          -4.8305487632751465,
          -12.384993553161621,
          -27.056943893432617,
          -18.48246192932129,
          8.0305814743042,
          47.42843246459961,
          45.103145599365234,
          -74.30360412597656,
          -56.49496841430664,
          -56.84367370605469,
          63.32368850708008,
          2.2325751781463623,
          47.38205337524414,
          16.383548736572266,
          -74.0250473022461,
          48.05680465698242,
          26.160898208618164,
          -3.1322896480560303,
          26.591150283813477,
          -11.167943954467773,
          20.601184844970703,
          50.45753860473633,
          38.03632354736328,
          31.81101417541504,
          -34.66041564941406,
          -17.653226852416992,
          1.0076473951339722,
          -21.04707145690918,
          -31.309232711791992,
          5.453269004821777,
          -35.82514953613281,
          46.45401382446289,
          5.121278285980225,
          -65.71174621582031,
          -59.63002014160156,
          25.70170783996582,
          -25.793739318847656,
          22.140342712402344,
          -57.535491943359375,
          -16.003572463989258,
          -2.216766357421875,
          5.0037150382995605,
          5.450612545013428,
          -8.910143852233887,
          29.95639419555664,
          3.9646739959716797,
          3.5226190090179443,
          -70.06108093261719,
          46.48270034790039,
          9.135193824768066,
          26.876617431640625,
          5.07034158706665,
          -74.22429656982422,
          27.872154235839844,
          -11.628397941589355,
          14.791959762573242,
          6.060734748840332,
          4.012969493865967,
          -6.695691108703613,
          46.57809066772461,
          6.7374138832092285,
          -31.367528915405273,
          26.71506118774414,
          7.469834804534912,
          3.6669437885284424,
          26.340484619140625,
          -17.39471435546875,
          6.70106840133667,
          30.022565841674805,
          -2.3561782836914062,
          29.97908592224121,
          -76.28843688964844,
          18.734914779663086,
          6.8647074699401855,
          -72.00574493408203,
          7.028058052062988,
          32.406375885009766,
          5.214439392089844,
          -65.34454345703125,
          44.281654357910156,
          47.587860107421875,
          27.64793586730957,
          48.13019561767578,
          -39.43263244628906,
          -40.923004150390625,
          -19.625930786132812,
          39.541011810302734,
          36.7209587097168,
          -24.07638931274414,
          36.74456024169922,
          25.94850730895996,
          -58.09309768676758,
          7.17504358291626,
          1.797533631324768,
          -27.343048095703125,
          -6.076431751251221,
          5.482087135314941,
          -0.04979328811168671,
          -6.103839874267578,
          -56.820804595947266,
          27.37350082397461,
          2.6502721309661865,
          27.648696899414062,
          -32.8553581237793,
          29.879039764404297,
          24.119287490844727,
          -35.134193420410156,
          28.14529800415039,
          47.24492263793945,
          -1.0627237558364868,
          -69.49473571777344,
          48.773704528808594,
          -15.189916610717773,
          34.762454986572266,
          -15.59455680847168,
          -31.71025848388672,
          -19.690969467163086,
          27.90077781677246,
          5.434232711791992,
          39.96839904785156,
          -69.07510375976562,
          23.993255615234375,
          44.23368835449219,
          -9.151078224182129,
          25.618459701538086,
          -19.029804229736328,
          -34.36475372314453,
          -62.23414993286133,
          -8.565199851989746,
          6.615875720977783,
          5.072317600250244,
          59.872352600097656,
          30.909452438354492,
          25.236696243286133,
          3.293454647064209,
          -23.054080963134766,
          -52.08628463745117,
          3.507774591445923,
          24.066946029663086,
          -28.227336883544922,
          25.927392959594727,
          -26.613290786743164,
          23.19081687927246,
          25.97821807861328,
          -71.0857925415039,
          -0.22350168228149414,
          2.127553701400757,
          -57.35379409790039,
          -57.67642593383789,
          46.8419189453125,
          45.25168228149414,
          -11.219819068908691,
          -19.851316452026367,
          -25.09540367126465,
          34.057212829589844,
          -58.09712219238281,
          -9.639538764953613,
          -17.47492218017578,
          4.148853302001953,
          -57.421817779541016,
          33.5291862487793,
          -19.549453735351562,
          -6.075728893280029,
          -47.365447998046875,
          9.02489948272705,
          -11.508710861206055,
          4.554995059967041,
          -37.30691146850586,
          3.9932210445404053,
          -34.02240753173828,
          -61.363006591796875,
          -17.6539306640625,
          26.099891662597656,
          10.04371452331543,
          -36.691139221191406,
          -19.645116806030273,
          -51.990116119384766,
          18.698854446411133,
          17.594478607177734,
          -1.6351932287216187,
          -34.477012634277344,
          -9.420058250427246,
          6.5592169761657715,
          -20.659208297729492,
          -2.3442089557647705,
          -22.195507049560547,
          -26.612289428710938,
          27.79932975769043,
          9.445809364318848,
          -18.31210708618164,
          -77.7109146118164,
          32.5660400390625,
          38.9047966003418,
          46.133060455322266,
          0.09920261800289154,
          47.47473907470703,
          -64.30509185791016,
          -3.078608274459839,
          -40.75972366333008,
          -56.746273040771484,
          -76.034912109375,
          -21.198904037475586,
          -3.796201229095459,
          -30.117612838745117,
          25.32485008239746,
          -4.672122955322266,
          -52.830970764160156,
          9.559550285339355,
          -37.601951599121094,
          4.4477643966674805,
          -27.497751235961914,
          -32.52433395385742,
          4.958061695098877
         ],
         "yaxis": "y"
        },
        {
         "hovertemplate": "<b>%{hovertext}</b><br><br>Cluster #=2<br>37D->2D TSNE1=%{x}<br>37D->2D TSNE2=%{y}<extra></extra>",
         "hovertext": [
          "Ti2 Nb2 V2 Mo1 Cr1",
          "Ti2 Nb2 V2 Mo1",
          "Ti2 Nb2 V2 Mo1 Cr1.5",
          "Ti2 Nb2 V2 Mo1 Cr2",
          "Ti4 Nb4 V4 Mo2 Cr1"
         ],
         "legendgroup": "2",
         "marker": {
          "color": "#FB0D0D",
          "symbol": "circle"
         },
         "mode": "markers",
         "name": "2",
         "showlegend": true,
         "type": "scattergl",
         "x": [
          28.86591911315918,
          30.320032119750977,
          28.048465728759766,
          27.470298767089844,
          29.77644157409668
         ],
         "xaxis": "x",
         "y": [
          -4.547367572784424,
          -3.994736671447754,
          -4.861765384674072,
          -5.135776042938232,
          -4.213741302490234
         ],
         "yaxis": "y"
        },
        {
         "hovertemplate": "<b>%{hovertext}</b><br><br>Cluster #=3<br>37D->2D TSNE1=%{x}<br>37D->2D TSNE2=%{y}<extra></extra>",
         "hovertext": [
          "Mo11.4 B1 Si7.4",
          "Mo7.38 B1 Si4.12",
          "Mo10.17 B1 Si5.5",
          "Mo5.3 B1 Si3.7"
         ],
         "legendgroup": "3",
         "marker": {
          "color": "#DA16FF",
          "symbol": "circle"
         },
         "mode": "markers",
         "name": "3",
         "showlegend": true,
         "type": "scattergl",
         "x": [
          17.839252471923828,
          17.937837600708008,
          18.134159088134766,
          17.4023380279541
         ],
         "xaxis": "x",
         "y": [
          55.15092086791992,
          55.76354217529297,
          55.533363342285156,
          55.3192253112793
         ],
         "yaxis": "y"
        },
        {
         "hovertemplate": "<b>%{hovertext}</b><br><br>Cluster #=4<br>37D->2D TSNE1=%{x}<br>37D->2D TSNE2=%{y}<extra></extra>",
         "hovertext": [
          "Ti1.67 Cr1.67 Ni1.67 Cu1.67 Al1",
          "Ti2.49 Cr2.49 Ni2.49 Cu2.49 Al1",
          "Ti4.96 Cr4.96 Ni4.96 Cu4.96 Al1"
         ],
         "legendgroup": "4",
         "marker": {
          "color": "#222A2A",
          "symbol": "circle"
         },
         "mode": "markers",
         "name": "4",
         "showlegend": true,
         "type": "scattergl",
         "x": [
          8.359329223632812,
          8.711380004882812,
          8.957501411437988
         ],
         "xaxis": "x",
         "y": [
          -5.297708034515381,
          -5.205190181732178,
          -5.143085956573486
         ],
         "yaxis": "y"
        },
        {
         "hovertemplate": "<b>%{hovertext}</b><br><br>Cluster #=5<br>37D->2D TSNE1=%{x}<br>37D->2D TSNE2=%{y}<extra></extra>",
         "hovertext": [
          "Mn6.34 Ni6.34 Cu6.34 Sn1",
          "Mn3 Ni3 Cu3 Al1",
          "Mn3 Ni3 Cu3 Sn1",
          "Mn6.34 Ni6.34 Cu6.34 Al1"
         ],
         "legendgroup": "5",
         "marker": {
          "color": "#B68100",
          "symbol": "circle"
         },
         "mode": "markers",
         "name": "5",
         "showlegend": true,
         "type": "scattergl",
         "x": [
          -88.27233123779297,
          -87.85994720458984,
          -88.4108657836914,
          -87.9701919555664
         ],
         "xaxis": "x",
         "y": [
          -3.7155508995056152,
          -4.018087387084961,
          -3.6490895748138428,
          -3.911832571029663
         ],
         "yaxis": "y"
        },
        {
         "hovertemplate": "<b>%{hovertext}</b><br><br>Cluster #=6<br>37D->2D TSNE1=%{x}<br>37D->2D TSNE2=%{y}<extra></extra>",
         "hovertext": [
          "Ti22.1 V1 Al2.62",
          "Ti23.94 V1 Al2.83",
          "Ti23.3 V1 Al2.76",
          "Ti27.63 V1 Al3.27",
          "Ti22.68 V1 Al2.68",
          "Ti27.72 V1 Al3.28",
          "Ti27.19 V1 Al3.22",
          "Ti27.28 V1 Al3.23",
          "Ti27.54 V1 Al3.26",
          "Ti27.11 V1 Al3.21",
          "Ti27.81 V1 Al3.29",
          "Ti27.37 V1 Al3.24",
          "Ti27.45 V1 Al3.25"
         ],
         "legendgroup": "6",
         "marker": {
          "color": "#750D86",
          "symbol": "circle"
         },
         "mode": "markers",
         "name": "6",
         "showlegend": true,
         "type": "scattergl",
         "x": [
          18.30480194091797,
          17.53725814819336,
          17.76030158996582,
          19.48031997680664,
          18.027530670166016,
          19.86345863342285,
          17.140714645385742,
          17.520444869995117,
          18.980178833007812,
          16.934389114379883,
          20.111553192138672,
          18.02197265625,
          18.433141708374023
         ],
         "xaxis": "x",
         "y": [
          -72.82588195800781,
          -72.67933654785156,
          -72.73121643066406,
          -65.2848129272461,
          -72.78258514404297,
          -64.99223327636719,
          -67.11022186279297,
          -66.77855682373047,
          -65.64896392822266,
          -67.25366973876953,
          -64.83060455322266,
          -66.39237976074219,
          -66.07166290283203
         ],
         "yaxis": "y"
        },
        {
         "hovertemplate": "<b>%{hovertext}</b><br><br>Cluster #=7<br>37D->2D TSNE1=%{x}<br>37D->2D TSNE2=%{y}<extra></extra>",
         "hovertext": [
          "Ti1 Cr1 Fe1 Co1 Cu1 Al1",
          "Ti1.34 Cr1.34 Fe1.34 Co1.34 Cu1 Al1.34",
          "Ti2 Cr2 Fe2 Co2 Cu1 Al2"
         ],
         "legendgroup": "7",
         "marker": {
          "color": "#EB663B",
          "symbol": "circle"
         },
         "mode": "markers",
         "name": "7",
         "showlegend": true,
         "type": "scattergl",
         "x": [
          -3.4901466369628906,
          -3.5206758975982666,
          -3.5770339965820312
         ],
         "xaxis": "x",
         "y": [
          -1.301362156867981,
          -1.305195927619934,
          -1.313502550125122
         ],
         "yaxis": "y"
        },
        {
         "hovertemplate": "<b>%{hovertext}</b><br><br>Cluster #=8<br>37D->2D TSNE1=%{x}<br>37D->2D TSNE2=%{y}<extra></extra>",
         "hovertext": [
          "Zr4.33 Ti4.67 Ta3.33 Nb3.33 Al1",
          "Zr1 Ti1 Ta1 Nb1",
          "Zr2.25 Ti2.25 Ta2.25 Nb2.25 Mo1",
          "Zr4.75 Ti4.75 Ta4.75 Nb4.75 Mo1",
          "Zr6.5 Ti7 Ta4 Nb5 V1 Al1.5",
          "Zr5 Ti7.5 Ta4 Nb5 V1 Al2.5",
          "Zr4 Ti4 Ta4 Nb4 Al1"
         ],
         "legendgroup": "8",
         "marker": {
          "color": "#511CFB",
          "symbol": "circle"
         },
         "mode": "markers",
         "name": "8",
         "showlegend": true,
         "type": "scattergl",
         "x": [
          40.889892578125,
          44.09992980957031,
          44.82410430908203,
          44.43383026123047,
          40.31401062011719,
          39.83567810058594,
          43.80796432495117
         ],
         "xaxis": "x",
         "y": [
          -34.65620803833008,
          -33.64565658569336,
          -34.840518951416016,
          -34.20377731323242,
          -34.56126022338867,
          -34.401912689208984,
          -33.30791473388672
         ],
         "yaxis": "y"
        },
        {
         "hovertemplate": "<b>%{hovertext}</b><br><br>Cluster #=9<br>37D->2D TSNE1=%{x}<br>37D->2D TSNE2=%{y}<extra></extra>",
         "hovertext": [
          "Fe1.25 Co1.25 Ni1 Cu1.25 Al1.25",
          "Fe2 Co2 Ni1 Cu2 Al2",
          "Fe1 Co1 Ni1 Cu1 Al1"
         ],
         "legendgroup": "9",
         "marker": {
          "color": "#00A08B",
          "symbol": "circle"
         },
         "mode": "markers",
         "name": "9",
         "showlegend": true,
         "type": "scattergl",
         "x": [
          -40.5353889465332,
          -40.2749137878418,
          -40.896183013916016
         ],
         "xaxis": "x",
         "y": [
          -22.223207473754883,
          -21.72958755493164,
          -22.435840606689453
         ],
         "yaxis": "y"
        },
        {
         "hovertemplate": "<b>%{hovertext}</b><br><br>Cluster #=10<br>37D->2D TSNE1=%{x}<br>37D->2D TSNE2=%{y}<extra></extra>",
         "hovertext": [
          "Ti1.33 Nb1.33 V1.33 Mo1.33 Al1",
          "Ti2.44 Nb2.51 V2.47 Mo2.57 Al1",
          "Ti2 Nb2 V2 Mo2 Al1",
          "Ti1 Nb1 V1 Mo1",
          "Ti1 Nb1 V1 Mo1 Al1",
          "Ti1 Nb1 V1 Mo1 Al1.25",
          "Ti4 Nb4 V4 Mo4 Al1",
          "Ti1 Nb1 V1 Mo1 Al1.5",
          "Ti1.32 Nb1.32 V1.34 Mo1.34 Al1"
         ],
         "legendgroup": "10",
         "marker": {
          "color": "#FB00D1",
          "symbol": "circle"
         },
         "mode": "markers",
         "name": "10",
         "showlegend": true,
         "type": "scattergl",
         "x": [
          34.476627349853516,
          33.76744842529297,
          33.97715377807617,
          33.019386291503906,
          34.3401985168457,
          34.373626708984375,
          33.48888397216797,
          34.36546325683594,
          34.433387756347656
         ],
         "xaxis": "x",
         "y": [
          0.010479158721864223,
          -1.6291961669921875,
          -1.1470645666122437,
          -2.646660804748535,
          0.9441933631896973,
          1.6235417127609253,
          -2.212714910507202,
          1.9094271659851074,
          0.012834119610488415
         ],
         "yaxis": "y"
        },
        {
         "hovertemplate": "<b>%{hovertext}</b><br><br>Cluster #=11<br>37D->2D TSNE1=%{x}<br>37D->2D TSNE2=%{y}<extra></extra>",
         "hovertext": [
          "Hf1 Zr1 Ti2 Nb2 Mo1",
          "Hf1 Zr1.8 Ti2 Nb2 Mo1",
          "Hf1.67 Zr1 Ti3.33 Nb3.33 Mo1.67",
          "Hf5 Zr10 Ti10 Nb10 Mo5 Si1",
          "Hf1.67 Zr3.33 Ti3.33 Nb3.33 Mo1.67 C1",
          "Hf5 Zr10 Ti10 Nb10 Mo5 C1",
          "Hf1.67 Zr3.33 Ti3.33 Nb3.33 Mo1.67 Si1",
          "Hf1 Ti2 Nb2 Mo1",
          "Hf1 Zr2 Ti2 Nb2 Mo1 Si1",
          "Hf1 Zr2 Ti2 Nb2 Mo1 Si1.8",
          "Hf1 Zr1.4 Ti2 Nb2 Mo1",
          "Hf1 Zr2 Ti2 Nb2 Mo1 Si1.4",
          "Hf5 Zr1 Ti10 Nb10 Mo5",
          "Hf1 Zr2 Ti2 Nb2 Mo1"
         ],
         "legendgroup": "11",
         "marker": {
          "color": "#FC0080",
          "symbol": "circle"
         },
         "mode": "markers",
         "name": "11",
         "showlegend": true,
         "type": "scattergl",
         "x": [
          80.6822509765625,
          79.35945892333984,
          81.2547607421875,
          79.27713775634766,
          77.95946502685547,
          78.6832275390625,
          79.64949798583984,
          81.85721588134766,
          79.84379577636719,
          80.03273010253906,
          80.05767059326172,
          79.977783203125,
          81.73591613769531,
          79.18869018554688
         ],
         "xaxis": "x",
         "y": [
          -3.4071502685546875,
          -1.3526335954666138,
          -4.146137237548828,
          -0.4215478301048279,
          -0.819661021232605,
          -0.8917563557624817,
          1.2488596439361572,
          -4.8852314949035645,
          2.013815402984619,
          2.7771809101104736,
          -2.5237514972686768,
          2.549872636795044,
          -4.740272045135498,
          -0.9508593678474426
         ],
         "yaxis": "y"
        },
        {
         "hovertemplate": "<b>%{hovertext}</b><br><br>Cluster #=12<br>37D->2D TSNE1=%{x}<br>37D->2D TSNE2=%{y}<extra></extra>",
         "hovertext": [
          "Zr3.33 Ti3.33 Nb3.33 V1 Mo1.67",
          "Zr4 Ti4 Nb4 V1 Mo4",
          "Zr2 Ti2 Nb2 V1 Mo2",
          "Zr1.33 Ti1.33 Nb1.33 V1 Mo1.33",
          "Zr3.33 Ti3.33 Nb3.33 V1 Mo2.33",
          "Zr3.33 Ti3.33 Nb3.33 V1 Mo3.33",
          "Zr3.33 Ti3.33 Nb3.33 V1 Mo4.33",
          "Zr1 Ti1 Nb1 V1 Mo2",
          "Zr3.33 Ti3.33 Nb3.33 V1 Mo1",
          "Zr3.33 Ti3.33 Nb3.33 V3.33 Mo1",
          "Zr3.33 Ti3.33 Nb3.33 V1",
          "Zr1 Ti1 Nb1 V1.5 Mo1",
          "Zr1 Ti1 Nb1 V1 Mo1.3",
          "Zr1 Ti1 Nb1 V1 Mo1.5",
          "Zr3.33 Ti3.33 Nb3.33 V1 Mo5",
          "Zr2 Ti2 Nb2 V2 Mo1",
          "Zr1 Ti1 Nb1 V1.25 Mo1",
          "Zr10 Ti10 Nb10 V3 Mo1",
          "Zr1 Ti1 Nb1 V2 Mo1",
          "Zr1.43 Ti1.43 Nb1.43 V1.43 Mo1",
          "Zr1 Ti1 Nb1 V1 Mo1",
          "Zr1 Ti1 Nb1 V1 Mo1.7",
          "Zr1 Ti1 Nb1 Mo1"
         ],
         "legendgroup": "12",
         "marker": {
          "color": "#B2828D",
          "symbol": "circle"
         },
         "mode": "markers",
         "name": "12",
         "showlegend": true,
         "type": "scattergl",
         "x": [
          50.455753326416016,
          52.65073776245117,
          52.62529373168945,
          53.45392608642578,
          50.953792572021484,
          52.627296447753906,
          53.886863708496094,
          55.917179107666016,
          38.198307037353516,
          49.64638900756836,
          37.86591720581055,
          51.66844177246094,
          54.75432205200195,
          55.30855178833008,
          54.20405578613281,
          50.49410629272461,
          52.30926513671875,
          37.9368782043457,
          50.76915740966797,
          51.15510940551758,
          53.12648391723633,
          55.663414001464844,
          52.649024963378906
         ],
         "xaxis": "x",
         "y": [
          0.5303863286972046,
          1.4018232822418213,
          0.28276175260543823,
          -5.201970100402832,
          0.7049213647842407,
          1.1414673328399658,
          1.2857190370559692,
          -4.4467668533325195,
          -21.42654800415039,
          -9.744912147521973,
          -22.33066749572754,
          -6.56029748916626,
          -5.511054515838623,
          -5.142370223999023,
          1.2622132301330566,
          -9.116119384765625,
          -6.647609233856201,
          -22.128360748291016,
          -6.238253593444824,
          -8.495162010192871,
          -6.0559258460998535,
          -4.737526893615723,
          2.204547643661499
         ],
         "yaxis": "y"
        },
        {
         "hovertemplate": "<b>%{hovertext}</b><br><br>Cluster #=13<br>37D->2D TSNE1=%{x}<br>37D->2D TSNE2=%{y}<extra></extra>",
         "hovertext": [
          "Ti2.76 Nb1 Al1",
          "Ti2.85 Nb1.28 Al1"
         ],
         "legendgroup": "13",
         "marker": {
          "color": "#6C7C32",
          "symbol": "circle"
         },
         "mode": "markers",
         "name": "13",
         "showlegend": true,
         "type": "scattergl",
         "x": [
          22.851606369018555,
          22.855424880981445
         ],
         "xaxis": "x",
         "y": [
          -48.986934661865234,
          -48.989315032958984
         ],
         "yaxis": "y"
        },
        {
         "hovertemplate": "<b>%{hovertext}</b><br><br>Cluster #=14<br>37D->2D TSNE1=%{x}<br>37D->2D TSNE2=%{y}<extra></extra>",
         "hovertext": [
          "Ti24.5 Nb1 Cr1 Al23.5",
          "Ti24.75 W1 Al24 Si0.25"
         ],
         "legendgroup": "14",
         "marker": {
          "color": "#778AAE",
          "symbol": "circle"
         },
         "mode": "markers",
         "name": "14",
         "showlegend": true,
         "type": "scattergl",
         "x": [
          20.377344131469727,
          20.373144149780273
         ],
         "xaxis": "x",
         "y": [
          -44.66012954711914,
          -44.65569305419922
         ],
         "yaxis": "y"
        },
        {
         "hovertemplate": "<b>%{hovertext}</b><br><br>Cluster #=15<br>37D->2D TSNE1=%{x}<br>37D->2D TSNE2=%{y}<extra></extra>",
         "hovertext": [
          "Ti5.03 Cr5.03 Fe5.03 Co7.56 Ni7.56 Al1",
          "Ti1 Cr1 Fe1 Co1.5 Ni1.5",
          "Ti5 Cr5 Fe5 Co7.5 Ni7.5 Al1"
         ],
         "legendgroup": "15",
         "marker": {
          "color": "#862A16",
          "symbol": "circle"
         },
         "mode": "markers",
         "name": "15",
         "showlegend": true,
         "type": "scattergl",
         "x": [
          -16.676326751708984,
          -16.460159301757812,
          -16.669208526611328
         ],
         "xaxis": "x",
         "y": [
          18.36116600036621,
          18.42433738708496,
          18.362546920776367
         ],
         "yaxis": "y"
        },
        {
         "hovertemplate": "<b>%{hovertext}</b><br><br>Cluster #=16<br>37D->2D TSNE1=%{x}<br>37D->2D TSNE2=%{y}<extra></extra>",
         "hovertext": [
          "V1 Mo1 Fe1 Co1 Ni1",
          "V1 Mo1 Fe1 Co1 Ni1.6",
          "V1.67 Mo1 Fe1.67 Co1.67 Ni1.67",
          "V2.5 Mo1 Fe2.5 Co2.5 Ni2.5",
          "V1 Mo1 Fe1 Co1 Ni2",
          "V1 Fe1 Co1 Ni1",
          "V1 Mo1 Fe1 Co1 Ni1.2",
          "V1 Mo1 Fe1 Co1 Ni1.8",
          "V1.25 Mo1 Fe1.25 Co1.25 Ni1.25",
          "V5 Mo1 Fe5 Co5 Ni5",
          "V1 Mo1 Fe1 Co1 Ni1.4"
         ],
         "legendgroup": "16",
         "marker": {
          "color": "#A777F1",
          "symbol": "circle"
         },
         "mode": "markers",
         "name": "16",
         "showlegend": true,
         "type": "scattergl",
         "x": [
          12.505548477172852,
          11.636504173278809,
          12.638999938964844,
          12.76608657836914,
          10.827964782714844,
          12.953987121582031,
          12.42379093170166,
          11.203276634216309,
          12.524336814880371,
          12.88548755645752,
          12.126925468444824
         ],
         "xaxis": "x",
         "y": [
          41.04310989379883,
          42.94004821777344,
          39.466190338134766,
          38.55148696899414,
          43.60894775390625,
          37.38467788696289,
          41.65468978881836,
          43.31404113769531,
          40.455894470214844,
          37.781822204589844,
          42.39925003051758
         ],
         "yaxis": "y"
        },
        {
         "hovertemplate": "<b>%{hovertext}</b><br><br>Cluster #=17<br>37D->2D TSNE1=%{x}<br>37D->2D TSNE2=%{y}<extra></extra>",
         "hovertext": [
          "Ta3.16 Nb3.15 V2.79 W3.15 Mo3.15 Cr1",
          "Ta1 Nb1 V1 W1 Mo1",
          "Ta3.61 Nb3.58 V2.28 W3.53 Mo3.54 Cr1"
         ],
         "legendgroup": "17",
         "marker": {
          "color": "#620042",
          "symbol": "circle"
         },
         "mode": "markers",
         "name": "17",
         "showlegend": true,
         "type": "scattergl",
         "x": [
          35.75444793701172,
          36.2100715637207,
          35.76613998413086
         ],
         "xaxis": "x",
         "y": [
          26.01132583618164,
          26.22785186767578,
          25.92140007019043
         ],
         "yaxis": "y"
        },
        {
         "hovertemplate": "<b>%{hovertext}</b><br><br>Cluster #=18<br>37D->2D TSNE1=%{x}<br>37D->2D TSNE2=%{y}<extra></extra>",
         "hovertext": [
          "Cr4.75 Fe4.75 Co4.75 Ni9.25 Cu1 Al1",
          "Cr1 Fe1 Co1 Ni2",
          "Ti1 W0.1 Mo0.1 Cr14 Fe17 Co17 Ni35 Cu8 Al8",
          "Nb1 Cr2.5 Fe2.5 Co2.5 Ni5.25",
          "Cr2.12 Fe2.12 Co2.12 Ni4.12 Cu1 Al1",
          "Nb1 Cr5 Fe5 Co5 Ni10.5"
         ],
         "legendgroup": "18",
         "marker": {
          "color": "#1616A7",
          "symbol": "circle"
         },
         "mode": "markers",
         "name": "18",
         "showlegend": true,
         "type": "scattergl",
         "x": [
          -13.1613130569458,
          -13.310226440429688,
          -12.897638320922852,
          -13.311631202697754,
          -12.866262435913086,
          -13.308876991271973
         ],
         "xaxis": "x",
         "y": [
          33.322147369384766,
          32.437530517578125,
          34.98677062988281,
          31.92406463623047,
          34.9894905090332,
          32.18092727661133
         ],
         "yaxis": "y"
        },
        {
         "hovertemplate": "<b>%{hovertext}</b><br><br>Cluster #=19<br>37D->2D TSNE1=%{x}<br>37D->2D TSNE2=%{y}<extra></extra>",
         "hovertext": [
          "Mo1 Cr3.33 Fe3.33 Co10 Ni9.67 Al6",
          "Mo1 Cr10 Fe10 Co30 Ni31 Al18",
          "Mo1 Cr5 Fe5 Co15 Ni15 Al9",
          "Cr1 Fe1 Co3 Ni3.2 Al1.8"
         ],
         "legendgroup": "19",
         "marker": {
          "color": "#DA60CA",
          "symbol": "circle"
         },
         "mode": "markers",
         "name": "19",
         "showlegend": true,
         "type": "scattergl",
         "x": [
          -0.7654446363449097,
          -1.1632202863693237,
          -0.9367117881774902,
          -1.366196632385254
         ],
         "xaxis": "x",
         "y": [
          43.752140045166016,
          43.62925338745117,
          43.81301498413086,
          43.5964469909668
         ],
         "yaxis": "y"
        },
        {
         "hovertemplate": "<b>%{hovertext}</b><br><br>Cluster #=20<br>37D->2D TSNE1=%{x}<br>37D->2D TSNE2=%{y}<extra></extra>",
         "hovertext": [
          "Hf7.5 Ti33 Nb1 Si16",
          "Hf12.5 Ti33 Nb1 Si16",
          "Hf10 Ti33 Nb1 Si16"
         ],
         "legendgroup": "20",
         "marker": {
          "color": "#6C4516",
          "symbol": "circle"
         },
         "mode": "markers",
         "name": "20",
         "showlegend": true,
         "type": "scattergl",
         "x": [
          33.464664459228516,
          34.00638198852539,
          33.7782096862793
         ],
         "xaxis": "x",
         "y": [
          -73.48572540283203,
          -73.9185562133789,
          -73.69868469238281
         ],
         "yaxis": "y"
        },
        {
         "hovertemplate": "<b>%{hovertext}</b><br><br>Cluster #=21<br>37D->2D TSNE1=%{x}<br>37D->2D TSNE2=%{y}<extra></extra>",
         "hovertext": [
          "Mn1 Fe3 Co3 Ni3",
          "Cr1 Fe5 Co5 Ni5 Si1",
          "Fe4 Co4 Ni4 Si1",
          "Cr1 Fe3 Co3 Ni3",
          "Cr1 Mn1 Fe6 Co6 Ni6"
         ],
         "legendgroup": "21",
         "marker": {
          "color": "#0D2A63",
          "symbol": "circle"
         },
         "mode": "markers",
         "name": "21",
         "showlegend": true,
         "type": "scattergl",
         "x": [
          -30.259016036987305,
          -28.629030227661133,
          -28.005481719970703,
          -29.373748779296875,
          -29.715049743652344
         ],
         "xaxis": "x",
         "y": [
          48.90419006347656,
          49.605133056640625,
          49.3110237121582,
          49.77622985839844,
          49.203025817871094
         ],
         "yaxis": "y"
        },
        {
         "hovertemplate": "<b>%{hovertext}</b><br><br>Cluster #=22<br>37D->2D TSNE1=%{x}<br>37D->2D TSNE2=%{y}<extra></extra>",
         "hovertext": [
          "W1 Fe1.4 B1.2",
          "W1.17 Fe1.17 B1",
          "W1.2 Fe1.8 B1",
          "W1.18 Fe1.45 B1",
          "W1 Fe1.64 B1",
          "W1 Fe1.45 B1.18",
          "W1 Fe1.33 B1",
          "W1 Fe1.8 B1.2"
         ],
         "legendgroup": "22",
         "marker": {
          "color": "#AF0038",
          "symbol": "circle"
         },
         "mode": "markers",
         "name": "22",
         "showlegend": true,
         "type": "scattergl",
         "x": [
          -8.203239440917969,
          -9.48283863067627,
          -7.065493106842041,
          -8.733808517456055,
          -6.872010707855225,
          -8.087498664855957,
          -8.471027374267578,
          -6.771553993225098
         ],
         "xaxis": "x",
         "y": [
          86.81825256347656,
          87.92767333984375,
          88.54484558105469,
          88.0596694946289,
          88.1421890258789,
          86.93462371826172,
          87.5752944946289,
          87.6745376586914
         ],
         "yaxis": "y"
        },
        {
         "hovertemplate": "<b>%{hovertext}</b><br><br>Cluster #=23<br>37D->2D TSNE1=%{x}<br>37D->2D TSNE2=%{y}<extra></extra>",
         "hovertext": [
          "Cr10 Mn12.5 Fe20 Ni7.5 Al1",
          "Cr3.33 Mn3.33 Fe5 Ni1.67 Al1",
          "Cr3.33 Mn3.33 Fe4.99 Ni1.66 Al1",
          "Cr1.33 Mn1.67 Fe2.67 Ni1",
          "Cr2 Mn2.5 Fe4 Ni1.5 Al1",
          "Cr3.33 Mn4.17 Fe6.67 Ni2.5 Al1",
          "Cr1.43 Mn1.79 Fe2.86 Ni1.07 Al1",
          "Cr2 Mn2 Fe3 Ni1 Al1"
         ],
         "legendgroup": "23",
         "marker": {
          "color": "#2E91E5",
          "symbol": "circle"
         },
         "mode": "markers",
         "name": "23",
         "showlegend": true,
         "type": "scattergl",
         "x": [
          -82.03993225097656,
          -81.33533477783203,
          -81.33019256591797,
          -81.98725891113281,
          -82.64131164550781,
          -82.292236328125,
          -82.81915283203125,
          -81.864990234375
         ],
         "xaxis": "x",
         "y": [
          31.936229705810547,
          29.74386215209961,
          29.73652458190918,
          32.211952209472656,
          30.14486312866211,
          31.020679473876953,
          29.63631248474121,
          29.220962524414062
         ],
         "yaxis": "y"
        },
        {
         "hovertemplate": "<b>%{hovertext}</b><br><br>Cluster #=24<br>37D->2D TSNE1=%{x}<br>37D->2D TSNE2=%{y}<extra></extra>",
         "hovertext": [
          "Mo20.5 B1 Si3.5",
          "Mo109.94 B0.17 Si1",
          "Zr1 Mo82 B8 Si9",
          "Mo42 B1 Si7",
          "Mo9.62 B1.01 Si1",
          "Mo31.33 B1 Si1",
          "Mo45.5 B1 Si3.5",
          "Mo46 B1 Si3",
          "Mo14.33 B1.33 Si1",
          "Zr1 Mo19.75 B2 Si2.25",
          "Zr0.09 Ti1 Mo97.69 B7.05 C1.71",
          "Mo10.38 B1 Si1.12",
          "Mo89 B1 Si10",
          "Zr1 Mo40.5 B4 Si4.5",
          "Zr0.08 Ti1 Mo98.79 C0.13",
          "Mo82 B1 Si16",
          "Nb1 Mo29.89 B2.85 Si3.3",
          "Zr0 Ti1 Mo84.97 Co0.21 S0.25",
          "Mo27.33 B1 Si5",
          "Mo40.5 B1 Si8.5",
          "Zr0.09 Ti1.08 Mo106.37 B3.82 C1"
         ],
         "legendgroup": "24",
         "marker": {
          "color": "#E15F99",
          "symbol": "circle"
         },
         "mode": "markers",
         "name": "24",
         "showlegend": true,
         "type": "scattergl",
         "x": [
          28.274742126464844,
          17.961685180664062,
          24.829030990600586,
          27.81650733947754,
          24.54613494873047,
          19.81195068359375,
          21.098081588745117,
          20.789710998535156,
          23.687620162963867,
          25.293302536010742,
          20.04759979248047,
          24.55449104309082,
          21.54250717163086,
          25.04488754272461,
          17.953723907470703,
          28.18266487121582,
          25.60282325744629,
          18.066997528076172,
          28.33971405029297,
          28.64340591430664,
          19.410537719726562
         ],
         "xaxis": "x",
         "y": [
          79.09519958496094,
          75.4749755859375,
          69.423583984375,
          79.46023559570312,
          69.8664779663086,
          75.50048828125,
          76.48790740966797,
          76.27471923828125,
          70.62663269042969,
          68.33111572265625,
          74.4685287475586,
          69.89787292480469,
          76.80042266845703,
          68.96275329589844,
          75.32528686523438,
          79.93197631835938,
          69.64069366455078,
          75.29525756835938,
          79.36231994628906,
          79.87101745605469,
          75.08861541748047
         ],
         "yaxis": "y"
        },
        {
         "hovertemplate": "<b>%{hovertext}</b><br><br>Cluster #=25<br>37D->2D TSNE1=%{x}<br>37D->2D TSNE2=%{y}<extra></extra>",
         "hovertext": [
          "Zr1.99 Ti2.18 Ta1.39 Nb2.5 Mo1.14 Al1",
          "Zr2 Ti2 Ta1 Nb2 Mo1 Al1",
          "Zr1.95 Ti2.07 Ta1.05 Nb2.09 Mo1 Al1.74",
          "Zr2 Ti2 Ta1 Nb2 Mo1 Al2"
         ],
         "legendgroup": "25",
         "marker": {
          "color": "#1CA71C",
          "symbol": "circle"
         },
         "mode": "markers",
         "name": "25",
         "showlegend": true,
         "type": "scattergl",
         "x": [
          30.666833877563477,
          30.540863037109375,
          29.488143920898438,
          29.257614135742188
         ],
         "xaxis": "x",
         "y": [
          -36.13582992553711,
          -36.09127426147461,
          -35.78589630126953,
          -35.6273078918457
         ],
         "yaxis": "y"
        },
        {
         "hovertemplate": "<b>%{hovertext}</b><br><br>Cluster #=26<br>37D->2D TSNE1=%{x}<br>37D->2D TSNE2=%{y}<extra></extra>",
         "hovertext": [
          "Ti1 Cr5 Fe5 Ni5",
          "Ti1 Cr2.5 Fe2.5 Ni2.5",
          "Ti1 Cr1.67 Fe1.67 Ni1.67",
          "Ti1 Cr4.98 Fe4.98 Ni4.98 Al1",
          "Ti1 Cr3.33 Fe3.33 Ni3.33",
          "Cr1 Fe1 Ni1",
          "Ti1 Cr5 Fe5 Ni5 Al1",
          "Ti1 Cr2 Fe2 Ni2"
         ],
         "legendgroup": "26",
         "marker": {
          "color": "#FB0D0D",
          "symbol": "circle"
         },
         "mode": "markers",
         "name": "26",
         "showlegend": true,
         "type": "scattergl",
         "x": [
          -3.570997953414917,
          -2.511162281036377,
          -1.6224312782287598,
          -4.371247291564941,
          -3.120619535446167,
          -4.14065408706665,
          -4.370307922363281,
          -1.9793916940689087
         ],
         "xaxis": "x",
         "y": [
          22.643264770507812,
          21.939268112182617,
          21.504196166992188,
          21.999099731445312,
          22.285808563232422,
          23.30777359008789,
          22.002132415771484,
          21.675756454467773
         ],
         "yaxis": "y"
        },
        {
         "hovertemplate": "<b>%{hovertext}</b><br><br>Cluster #=27<br>37D->2D TSNE1=%{x}<br>37D->2D TSNE2=%{y}<extra></extra>",
         "hovertext": [
          "Cr1.25 Fe1.25 Ni2.5 Cu1.25 Al1",
          "Cr1.42 Fe1.42 Ni2.85 Cu1.42 Al1",
          "Cr1 Fe1 Ni2 Cu1 Al1",
          "Cr1 Fe1 Ni2 Cu1 Al1.5",
          "Cr3.32 Fe3.32 Ni6.61 Cu3.32 Al1",
          "Cr1.43 Fe1.43 Ni2.86 Cu1.43 Al1",
          "Cr1 Fe1 Ni2 Cu1 Al1.6",
          "Cr1 Fe1 Ni2 Cu1 Al2",
          "Cr2.5 Fe2.5 Ni5 Cu2.5 Al1",
          "Cr1 Fe1 Ni2.01 Cu1 Al2.5",
          "Cr1 Fe1 Ni2 Cu1 Al1.2",
          "Cr5.05 Fe5.05 Ni10.13 Cu5.05 Al1",
          "Cr1 Fe1 Ni1.99 Cu1 Al1",
          "Cr5 Fe5 Ni10 Cu5 Al1",
          "Cr1 Fe1 Ni1.99 Cu1.01 Al1",
          "Cr1 Fe1 Ni2.01 Cu1 Al1.2",
          "Cr1.67 Fe1.67 Ni3.34 Cu1.67 Al1",
          "Cr2 Fe2 Ni4 Cu2 Al1",
          "Cr1.1 Fe1.1 Ni2.22 Cu1.1 Al1",
          "Cr1 Fe1 Ni1.99 Cu1 Al1.59",
          "Cr1 Fe1 Ni2 Cu1 Al1.8",
          "Cr1 Fe1 Ni1.94 Cu1 Al1",
          "Cr1 Fe1 Ni2 Cu1 Al2.2",
          "Cr1.67 Fe1.67 Ni3.33 Cu1.67 Al1",
          "Cr1 Fe1 Ni2 Cu1 Al2.5"
         ],
         "legendgroup": "27",
         "marker": {
          "color": "#DA16FF",
          "symbol": "circle"
         },
         "mode": "markers",
         "name": "27",
         "showlegend": true,
         "type": "scattergl",
         "x": [
          -73.88185119628906,
          -74.54170227050781,
          -71.71864318847656,
          -68.16020202636719,
          -75.7756118774414,
          -74.49182891845703,
          -67.88545989990234,
          -66.56382751464844,
          -75.61152648925781,
          -65.56745910644531,
          -70.7672348022461,
          -75.69084167480469,
          -71.59262084960938,
          -75.6711196899414,
          -71.35501098632812,
          -70.77348327636719,
          -74.9019546508789,
          -75.263916015625,
          -72.29012298583984,
          -67.90423583984375,
          -67.23085021972656,
          -71.01779174804688,
          -66.05729675292969,
          -74.88951110839844,
          -65.55876159667969
         ],
         "xaxis": "x",
         "y": [
          -18.383386611938477,
          -17.586442947387695,
          -21.564739227294922,
          -28.583599090576172,
          -13.546104431152344,
          -17.453474044799805,
          -28.92363739013672,
          -30.232154846191406,
          -14.267401695251465,
          -31.074108123779297,
          -23.59687042236328,
          -12.998136520385742,
          -21.69341278076172,
          -13.01011848449707,
          -21.364418029785156,
          -23.587203979492188,
          -16.35744285583496,
          -15.279143333435059,
          -20.677703857421875,
          -28.90065574645996,
          -29.59237289428711,
          -21.62751007080078,
          -30.68084144592285,
          -16.365840911865234,
          -31.078533172607422
         ],
         "yaxis": "y"
        },
        {
         "hovertemplate": "<b>%{hovertext}</b><br><br>Cluster #=28<br>37D->2D TSNE1=%{x}<br>37D->2D TSNE2=%{y}<extra></extra>",
         "hovertext": [
          "W1 Ir7.33 Al1.19",
          "W1 Ir8 Al1"
         ],
         "legendgroup": "28",
         "marker": {
          "color": "#222A2A",
          "symbol": "circle"
         },
         "mode": "markers",
         "name": "28",
         "showlegend": true,
         "type": "scattergl",
         "x": [
          7.5617523193359375,
          7.561113357543945
         ],
         "xaxis": "x",
         "y": [
          25.99782371520996,
          25.998760223388672
         ],
         "yaxis": "y"
        },
        {
         "hovertemplate": "<b>%{hovertext}</b><br><br>Cluster #=29<br>37D->2D TSNE1=%{x}<br>37D->2D TSNE2=%{y}<extra></extra>",
         "hovertext": [
          "Ta6.32 Nb6.32 W6.36 Mo1",
          "Ta1 Nb1 W1"
         ],
         "legendgroup": "29",
         "marker": {
          "color": "#B68100",
          "symbol": "circle"
         },
         "mode": "markers",
         "name": "29",
         "showlegend": true,
         "type": "scattergl",
         "x": [
          42.9840087890625,
          43.18373107910156
         ],
         "xaxis": "x",
         "y": [
          38.41034698486328,
          38.48108673095703
         ],
         "yaxis": "y"
        },
        {
         "hovertemplate": "<b>%{hovertext}</b><br><br>Cluster #=30<br>37D->2D TSNE1=%{x}<br>37D->2D TSNE2=%{y}<extra></extra>",
         "hovertext": [
          "Hf18.27 Zr18.27 Ti18.27 Ta4.35 Nb4.35 Mo1",
          "Hf5.56 Zr5.56 Ti7.06 Ta1 Nb1"
         ],
         "legendgroup": "30",
         "marker": {
          "color": "#750D86",
          "symbol": "circle"
         },
         "mode": "markers",
         "name": "30",
         "showlegend": true,
         "type": "scattergl",
         "x": [
          51.570770263671875,
          51.57917785644531
         ],
         "xaxis": "x",
         "y": [
          -54.46243667602539,
          -54.739776611328125
         ],
         "yaxis": "y"
        },
        {
         "hovertemplate": "<b>%{hovertext}</b><br><br>Cluster #=31<br>37D->2D TSNE1=%{x}<br>37D->2D TSNE2=%{y}<extra></extra>",
         "hovertext": [
          "Zr3.33 Ti3.33 Nb3.33 Re1",
          "Zr2.85 Ti2.69 Nb3.17 Re1"
         ],
         "legendgroup": "31",
         "marker": {
          "color": "#EB663B",
          "symbol": "circle"
         },
         "mode": "markers",
         "name": "31",
         "showlegend": true,
         "type": "scattergl",
         "x": [
          35.28621292114258,
          35.23971176147461
         ],
         "xaxis": "x",
         "y": [
          -24.246923446655273,
          -24.23273277282715
         ],
         "yaxis": "y"
        },
        {
         "hovertemplate": "<b>%{hovertext}</b><br><br>Cluster #=32<br>37D->2D TSNE1=%{x}<br>37D->2D TSNE2=%{y}<extra></extra>",
         "hovertext": [
          "Fe1 Co1 Ni1.5 Cu1 Al1",
          "Fe1 Co1 Ni2 Cu1 Al1"
         ],
         "legendgroup": "32",
         "marker": {
          "color": "#511CFB",
          "symbol": "circle"
         },
         "mode": "markers",
         "name": "32",
         "showlegend": true,
         "type": "scattergl",
         "x": [
          -43.74142837524414,
          -44.27862548828125
         ],
         "xaxis": "x",
         "y": [
          -21.760181427001953,
          -21.375255584716797
         ],
         "yaxis": "y"
        },
        {
         "hovertemplate": "<b>%{hovertext}</b><br><br>Cluster #=33<br>37D->2D TSNE1=%{x}<br>37D->2D TSNE2=%{y}<extra></extra>",
         "hovertext": [
          "Cr1 Fe1 Co1 Cu1 Al1.3",
          "Cr1 Fe1 Co1 Cu1 Al2.8",
          "Cr1.25 Fe1.25 Co1.25 Cu1.25 Al1",
          "Cr1 Fe1 Co1 Cu1 Al3",
          "Cr1 Fe1 Co1 Cu1 Al2",
          "Cr1 Fe1 Co1 Cu1 Al1.99",
          "Cr1 Fe1 Co1 Cu1 Al1.5",
          "Cr2 Fe2 Co2 Cu2 Al1",
          "Cr1 Fe1 Co1 Cu1 Al2.3",
          "Cr1 Fe1 Co1 Cu1 Al2.5",
          "Cr1 Fe1 Co1 Cu1 Al1.8",
          "Cr3.33 Fe3.33 Co3.33 Cu3.33 Al1",
          "Cr1 Fe1 Co1 Cu1 Al1"
         ],
         "legendgroup": "33",
         "marker": {
          "color": "#00A08B",
          "symbol": "circle"
         },
         "mode": "markers",
         "name": "33",
         "showlegend": true,
         "type": "scattergl",
         "x": [
          -27.255178451538086,
          -23.511077880859375,
          -28.92626953125,
          -23.341459274291992,
          -25.274812698364258,
          -25.308292388916016,
          -26.767213821411133,
          -30.04442596435547,
          -24.486995697021484,
          -24.012535095214844,
          -25.79826545715332,
          -30.560871124267578,
          -28.261995315551758
         ],
         "xaxis": "x",
         "y": [
          -46.2974967956543,
          -50.0098991394043,
          -45.377845764160156,
          -50.1550178527832,
          -48.410465240478516,
          -48.38149642944336,
          -46.84483337402344,
          -44.988094329833984,
          -49.13644027709961,
          -49.564029693603516,
          -47.88203811645508,
          -44.79984664916992,
          -45.597442626953125
         ],
         "yaxis": "y"
        },
        {
         "hovertemplate": "<b>%{hovertext}</b><br><br>Cluster #=34<br>37D->2D TSNE1=%{x}<br>37D->2D TSNE2=%{y}<extra></extra>",
         "hovertext": [
          "Hf1 Zr2 Ti4 Nb1 V2",
          "Hf1 Zr2 Ti4 V2",
          "Hf1 Zr2 Ti4 Nb1.5 V2",
          "Hf1 Zr2 Ti4 Nb2 V2",
          "Hf2 Zr4 Ti8 Nb1 V4"
         ],
         "legendgroup": "34",
         "marker": {
          "color": "#FB00D1",
          "symbol": "circle"
         },
         "mode": "markers",
         "name": "34",
         "showlegend": true,
         "type": "scattergl",
         "x": [
          44.12409591674805,
          43.97686767578125,
          44.24314880371094,
          44.36495590209961,
          44.031097412109375
         ],
         "xaxis": "x",
         "y": [
          -15.529078483581543,
          -16.431617736816406,
          -14.926836013793945,
          -14.551065444946289,
          -16.10926055908203
         ],
         "yaxis": "y"
        },
        {
         "hovertemplate": "<b>%{hovertext}</b><br><br>Cluster #=35<br>37D->2D TSNE1=%{x}<br>37D->2D TSNE2=%{y}<extra></extra>",
         "hovertext": [
          "Hf2 Zr2 Ti2 Ta2 Nb2 Al1",
          "Hf1.33 Zr1.33 Ti1.33 Ta1.33 Nb1.33 Al1",
          "Hf2 Zr2 Ti2 Ta2 Nb2 Mo1",
          "Hf1.33 Zr1.33 Ti1.33 Ta1.33 Nb1.33 Mo1",
          "Hf3.33 Zr3.33 Ti3.33 Ta3.33 Nb3.33 Al1",
          "Hf1 Zr1 Ti1 Ta1 Nb1 Mo1",
          "Hf4 Zr4 Ti4 Ta4 Nb4 Mo1",
          "Hf1 Zr1 Ti1 Ta1 Nb1",
          "Hf1.02 Zr1.01 Ti1.07 Ta1.08 Nb1",
          "Hf1 Zr1 Ti1 Ta1 Nb1 Al1",
          "Hf1.5 Zr2.5 Ti2.5 Ta2.5 Nb2.5 Al1"
         ],
         "legendgroup": "35",
         "marker": {
          "color": "#FC0080",
          "symbol": "circle"
         },
         "mode": "markers",
         "name": "35",
         "showlegend": true,
         "type": "scattergl",
         "x": [
          60.9919319152832,
          60.42034149169922,
          63.894493103027344,
          64.21177673339844,
          61.57769775390625,
          64.34814453125,
          63.36123275756836,
          63.04405212402344,
          63.14157485961914,
          60.15291213989258,
          60.683799743652344
         ],
         "xaxis": "x",
         "y": [
          -30.363784790039062,
          -30.937843322753906,
          -26.904630661010742,
          -26.111881256103516,
          -29.926008224487305,
          -25.735532760620117,
          -28.146591186523438,
          -29.08597183227539,
          -29.16653060913086,
          -31.27007293701172,
          -29.8200740814209
         ],
         "yaxis": "y"
        },
        {
         "hovertemplate": "<b>%{hovertext}</b><br><br>Cluster #=36<br>37D->2D TSNE1=%{x}<br>37D->2D TSNE2=%{y}<extra></extra>",
         "hovertext": [
          "Ti1.42 Nb1.42 W1.42 Mo1.42 Cr1",
          "Ti1 Nb1 W1 Mo1 Cr1",
          "Ti2.25 Nb2.25 W2.25 Mo2.25 Cr1",
          "Ti1 Nb1 W1 Mo1",
          "Ti4.75 Nb4.75 W4.75 Mo4.75 Cr1"
         ],
         "legendgroup": "36",
         "marker": {
          "color": "#B2828D",
          "symbol": "circle"
         },
         "mode": "markers",
         "name": "36",
         "showlegend": true,
         "type": "scattergl",
         "x": [
          54.766666412353516,
          55.07842254638672,
          54.27975845336914,
          53.51860809326172,
          53.80651092529297
         ],
         "xaxis": "x",
         "y": [
          9.380990028381348,
          9.602815628051758,
          9.06467342376709,
          8.615069389343262,
          8.63355541229248
         ],
         "yaxis": "y"
        },
        {
         "hovertemplate": "<b>%{hovertext}</b><br><br>Cluster #=37<br>37D->2D TSNE1=%{x}<br>37D->2D TSNE2=%{y}<extra></extra>",
         "hovertext": [
          "Ti1 Fe1 Ni1 Cu1 Al1",
          "Ti1.5 Fe1 Ni1.33 Cu1.33 Al1.5"
         ],
         "legendgroup": "37",
         "marker": {
          "color": "#6C7C32",
          "symbol": "circle"
         },
         "mode": "markers",
         "name": "37",
         "showlegend": true,
         "type": "scattergl",
         "x": [
          2.629944324493408,
          2.8417305946350098
         ],
         "xaxis": "x",
         "y": [
          -5.403777122497559,
          -5.4482741355896
         ],
         "yaxis": "y"
        },
        {
         "hovertemplate": "<b>%{hovertext}</b><br><br>Cluster #=38<br>37D->2D TSNE1=%{x}<br>37D->2D TSNE2=%{y}<extra></extra>",
         "hovertext": [
          "W42.24 Fe1 Ni2.43",
          "Zr0.05 W26.69 Re1 C0.05",
          "Ti1 W38 C1",
          "W30 Fe1 Ni2.33",
          "W63.76 Fe1 Ni2.34",
          "W112.94 Fe1 Ni2.34",
          "W30.51 Fe1 Ni2.3",
          "Ti1 W64.67 C1"
         ],
         "legendgroup": "38",
         "marker": {
          "color": "#778AAE",
          "symbol": "circle"
         },
         "mode": "markers",
         "name": "38",
         "showlegend": true,
         "type": "scattergl",
         "x": [
          48.80022430419922,
          46.69392776489258,
          47.13408279418945,
          49.36493682861328,
          47.94978332519531,
          47.460140228271484,
          49.33021545410156,
          47.10017395019531
         ],
         "xaxis": "x",
         "y": [
          64.3691635131836,
          65.38909149169922,
          66.03771209716797,
          63.970306396484375,
          64.9629898071289,
          65.27942657470703,
          64.00505828857422,
          65.79656219482422
         ],
         "yaxis": "y"
        },
        {
         "hovertemplate": "<b>%{hovertext}</b><br><br>Cluster #=39<br>37D->2D TSNE1=%{x}<br>37D->2D TSNE2=%{y}<extra></extra>",
         "hovertext": [
          "Cr1 Fe2 Ni2 Al1",
          "Cr1 Fe1.94 Ni1.94 Al1"
         ],
         "legendgroup": "39",
         "marker": {
          "color": "#862A16",
          "symbol": "circle"
         },
         "mode": "markers",
         "name": "39",
         "showlegend": true,
         "type": "scattergl",
         "x": [
          -49.197906494140625,
          -49.19679641723633
         ],
         "xaxis": "x",
         "y": [
          -49.61832046508789,
          -49.6197624206543
         ],
         "yaxis": "y"
        },
        {
         "hovertemplate": "<b>%{hovertext}</b><br><br>Cluster #=40<br>37D->2D TSNE1=%{x}<br>37D->2D TSNE2=%{y}<extra></extra>",
         "hovertext": [
          "Mg1 Fe1 Cu1 Zn1 Al13 Si3",
          "Mg1 Mn1 Cu1 Zn1 Al13 Si3",
          "Mg1 Zr1 Cu1 Zn1 Al13 Si3",
          "Mg1 Cr1 Cu1 Zn1 Al13 Si3",
          "Mg1 Ni1 Cu1 Zn1 Al13 Si3"
         ],
         "legendgroup": "40",
         "marker": {
          "color": "#A777F1",
          "symbol": "circle"
         },
         "mode": "markers",
         "name": "40",
         "showlegend": true,
         "type": "scattergl",
         "x": [
          7.513209819793701,
          7.5438666343688965,
          7.17372989654541,
          6.894697666168213,
          7.100555896759033
         ],
         "xaxis": "x",
         "y": [
          -58.351470947265625,
          -58.73423385620117,
          -58.905311584472656,
          -58.60186767578125,
          -58.2747688293457
         ],
         "yaxis": "y"
        },
        {
         "hovertemplate": "<b>%{hovertext}</b><br><br>Cluster #=41<br>37D->2D TSNE1=%{x}<br>37D->2D TSNE2=%{y}<extra></extra>",
         "hovertext": [
          "W6.32 Ni9.2 Cu1 B3.48",
          "W1.82 Ni2.93 B1"
         ],
         "legendgroup": "41",
         "marker": {
          "color": "#620042",
          "symbol": "circle"
         },
         "mode": "markers",
         "name": "41",
         "showlegend": true,
         "type": "scattergl",
         "x": [
          -15.252570152282715,
          -15.195685386657715
         ],
         "xaxis": "x",
         "y": [
          66.6554183959961,
          66.60751342773438
         ],
         "yaxis": "y"
        },
        {
         "hovertemplate": "<b>%{hovertext}</b><br><br>Cluster #=42<br>37D->2D TSNE1=%{x}<br>37D->2D TSNE2=%{y}<extra></extra>",
         "hovertext": [
          "Ti2 Cr2 Fe2 Ni2 Cu1",
          "Ti10.17 Cr10.17 Fe10.17 Ni10.17 Cu1",
          "Ti1.34 Cr1.34 Fe1.34 Ni1.34 Cu1",
          "Ti3.98 Cr3.98 Fe3.98 Ni3.98 Cu1",
          "Ti1 Cr1 Fe1 Ni1 Cu1"
         ],
         "legendgroup": "42",
         "marker": {
          "color": "#1616A7",
          "symbol": "circle"
         },
         "mode": "markers",
         "name": "42",
         "showlegend": true,
         "type": "scattergl",
         "x": [
          1.8981462717056274,
          0.9333682060241699,
          2.421740770339966,
          1.2274127006530762,
          2.64811110496521
         ],
         "xaxis": "x",
         "y": [
          19.375741958618164,
          20.037227630615234,
          18.999404907226562,
          19.843313217163086,
          18.82868003845215
         ],
         "yaxis": "y"
        },
        {
         "hovertemplate": "<b>%{hovertext}</b><br><br>Cluster #=43<br>37D->2D TSNE1=%{x}<br>37D->2D TSNE2=%{y}<extra></extra>",
         "hovertext": [
          "W3 Fe3.8 B2.2 C1",
          "W2 Fe2.53 B1.13 C1",
          "W4.29 Fe5.43 B3.57 C1",
          "W2.31 Fe2.92 B1.46 C1"
         ],
         "legendgroup": "43",
         "marker": {
          "color": "#DA60CA",
          "symbol": "circle"
         },
         "mode": "markers",
         "name": "43",
         "showlegend": true,
         "type": "scattergl",
         "x": [
          -10.315640449523926,
          -10.66042423248291,
          -10.114619255065918,
          -10.568581581115723
         ],
         "xaxis": "x",
         "y": [
          91.16998291015625,
          91.81499481201172,
          90.7947769165039,
          91.64083862304688
         ],
         "yaxis": "y"
        },
        {
         "hovertemplate": "<b>%{hovertext}</b><br><br>Cluster #=44<br>37D->2D TSNE1=%{x}<br>37D->2D TSNE2=%{y}<extra></extra>",
         "hovertext": [
          "Ti2.51 Cr5 Fe5 Co7.51 Ni7.51 Al1",
          "Ti2.5 Cr5 Fe5 Co7.5 Ni7.5 Al1",
          "Ti1 Cr2 Fe2 Co3 Ni3"
         ],
         "legendgroup": "44",
         "marker": {
          "color": "#6C4516",
          "symbol": "circle"
         },
         "mode": "markers",
         "name": "44",
         "showlegend": true,
         "type": "scattergl",
         "x": [
          -19.035297393798828,
          -19.04501724243164,
          -18.719528198242188
         ],
         "xaxis": "x",
         "y": [
          19.881959915161133,
          19.884483337402344,
          19.93377113342285
         ],
         "yaxis": "y"
        },
        {
         "hovertemplate": "<b>%{hovertext}</b><br><br>Cluster #=45<br>37D->2D TSNE1=%{x}<br>37D->2D TSNE2=%{y}<extra></extra>",
         "hovertext": [
          "Cr1 Mn3 Fe4.97 Co1 B0.03",
          "Cr1 Mn3 Fe5 Co1",
          "Cr5.88 Mn17.65 Fe28.41 Co5.88 B1",
          "Cr16.67 Mn50 Fe82.33 Co16.67 B1"
         ],
         "legendgroup": "45",
         "marker": {
          "color": "#0D2A63",
          "symbol": "circle"
         },
         "mode": "markers",
         "name": "45",
         "showlegend": true,
         "type": "scattergl",
         "x": [
          -83.6275634765625,
          -83.64640808105469,
          -84.02256774902344,
          -83.90591430664062
         ],
         "xaxis": "x",
         "y": [
          38.62849044799805,
          38.840728759765625,
          38.53620147705078,
          38.82609939575195
         ],
         "yaxis": "y"
        },
        {
         "hovertemplate": "<b>%{hovertext}</b><br><br>Cluster #=46<br>37D->2D TSNE1=%{x}<br>37D->2D TSNE2=%{y}<extra></extra>",
         "hovertext": [
          "Hf12.5 Ti21 Nb1 Si16",
          "Hf10 Ti21 Nb1 Si16",
          "Hf7.5 Ti21 Nb1 Si16"
         ],
         "legendgroup": "46",
         "marker": {
          "color": "#AF0038",
          "symbol": "circle"
         },
         "mode": "markers",
         "name": "46",
         "showlegend": true,
         "type": "scattergl",
         "x": [
          35.19089126586914,
          35.061004638671875,
          34.9381217956543
         ],
         "xaxis": "x",
         "y": [
          -74.42382049560547,
          -74.18151092529297,
          -73.8967056274414
         ],
         "yaxis": "y"
        },
        {
         "hovertemplate": "<b>%{hovertext}</b><br><br>Cluster #=47<br>37D->2D TSNE1=%{x}<br>37D->2D TSNE2=%{y}<extra></extra>",
         "hovertext": [
          "Cr1.25 Fe1.25 Ni1 Cu1.25 Al1.25",
          "Cr1 Fe1 Ni1 Cu1 Al1",
          "Cr1.67 Fe1.67 Ni1 Cu1.67 Al1.67",
          "Cr1 Fe1 Ni1.2 Cu1 Al1",
          "Cr1 Fe1 Ni1.4 Cu1 Al1"
         ],
         "legendgroup": "47",
         "marker": {
          "color": "#2E91E5",
          "symbol": "circle"
         },
         "mode": "markers",
         "name": "47",
         "showlegend": true,
         "type": "scattergl",
         "x": [
          -57.435203552246094,
          -58.18998718261719,
          -57.18411636352539,
          -58.91905212402344,
          -59.227935791015625
         ],
         "xaxis": "x",
         "y": [
          -23.673797607421875,
          -23.251867294311523,
          -23.934667587280273,
          -22.833532333374023,
          -22.60660171508789
         ],
         "yaxis": "y"
        },
        {
         "hovertemplate": "<b>%{hovertext}</b><br><br>Cluster #=48<br>37D->2D TSNE1=%{x}<br>37D->2D TSNE2=%{y}<extra></extra>",
         "hovertext": [
          "Cr1 Fe1 Ni2 Al1",
          "Cr1.25 Fe1.25 Ni2.75 Al1",
          "Cr2 Fe2 Ni4 Al1",
          "Cr1.67 Fe1.67 Ni4 Al1",
          "Cr1.43 Fe1.43 Ni3.29 Al1",
          "Cr1.11 Fe1.11 Ni2.33 Al1",
          "Cr3.33 Fe3.33 Ni6.64 Al1"
         ],
         "legendgroup": "48",
         "marker": {
          "color": "#E15F99",
          "symbol": "circle"
         },
         "mode": "markers",
         "name": "48",
         "showlegend": true,
         "type": "scattergl",
         "x": [
          -52.532535552978516,
          -53.21772384643555,
          -54.335853576660156,
          -53.9164924621582,
          -53.66321563720703,
          -52.81652069091797,
          -54.846744537353516
         ],
         "xaxis": "x",
         "y": [
          -44.57599639892578,
          -43.855796813964844,
          -42.89578628540039,
          -43.06218338012695,
          -43.40686798095703,
          -44.277015686035156,
          -42.421234130859375
         ],
         "yaxis": "y"
        },
        {
         "hovertemplate": "<b>%{hovertext}</b><br><br>Cluster #=49<br>37D->2D TSNE1=%{x}<br>37D->2D TSNE2=%{y}<extra></extra>",
         "hovertext": [
          "Y1 Ti2 Cr2 Co2 Ni2 Cu2 Al2",
          "Y1 Ti1 Cr1 Co1 Ni1 Cu1 Al1",
          "Y1 Ti1.25 Cr1.25 Co1.25 Ni1.25 Cu1.25 Al1.25"
         ],
         "legendgroup": "49",
         "marker": {
          "color": "#1CA71C",
          "symbol": "circle"
         },
         "mode": "markers",
         "name": "49",
         "showlegend": true,
         "type": "scattergl",
         "x": [
          7.189421653747559,
          7.200301170349121,
          7.1976823806762695
         ],
         "xaxis": "x",
         "y": [
          -10.808022499084473,
          -11.375563621520996,
          -11.223946571350098
         ],
         "yaxis": "y"
        },
        {
         "hovertemplate": "<b>%{hovertext}</b><br><br>Cluster #=50<br>37D->2D TSNE1=%{x}<br>37D->2D TSNE2=%{y}<extra></extra>",
         "hovertext": [
          "Mo6.18 B1.91 Si1",
          "Mo5 B2 Si1"
         ],
         "legendgroup": "50",
         "marker": {
          "color": "#FB0D0D",
          "symbol": "circle"
         },
         "mode": "markers",
         "name": "50",
         "showlegend": true,
         "type": "scattergl",
         "x": [
          19.643972396850586,
          19.616378784179688
         ],
         "xaxis": "x",
         "y": [
          59.494571685791016,
          59.43487548828125
         ],
         "yaxis": "y"
        },
        {
         "hovertemplate": "<b>%{hovertext}</b><br><br>Cluster #=51<br>37D->2D TSNE1=%{x}<br>37D->2D TSNE2=%{y}<extra></extra>",
         "hovertext": [
          "Hf2.25 Zr2.25 Ti2.25 Nb2.25 Al1",
          "Hf1 Zr1 Ti1 Nb1",
          "Hf4.75 Zr4.75 Ti4.75 Nb4.75 Al1",
          "Hf1.83 Zr1.83 Ti1.83 Nb1.83 Al1",
          "Hf8.08 Zr8.08 Ti8.08 Nb8.08 Al1",
          "Hf3.32 Zr3.32 Ti3.32 Nb3.32 Al1"
         ],
         "legendgroup": "51",
         "marker": {
          "color": "#DA16FF",
          "symbol": "circle"
         },
         "mode": "markers",
         "name": "51",
         "showlegend": true,
         "type": "scattergl",
         "x": [
          73.36560821533203,
          72.23461151123047,
          72.48426818847656,
          73.70604705810547,
          72.33790588378906,
          72.85374450683594
         ],
         "xaxis": "x",
         "y": [
          -38.041133880615234,
          -36.240108489990234,
          -37.173885345458984,
          -38.33036804199219,
          -36.71588134765625,
          -37.57246398925781
         ],
         "yaxis": "y"
        },
        {
         "hovertemplate": "<b>%{hovertext}</b><br><br>Cluster #=52<br>37D->2D TSNE1=%{x}<br>37D->2D TSNE2=%{y}<extra></extra>",
         "hovertext": [
          "Cr1.43 Mn1.43 Fe1.43 Ni1.43 Al1",
          "Cr1.25 Mn1.25 Fe1.25 Ni1.25 Al1",
          "Cr1.67 Mn1.67 Fe1.67 Ni1.67 Al1",
          "Cr2 Mn2 Fe2 Ni2 Al1"
         ],
         "legendgroup": "52",
         "marker": {
          "color": "#222A2A",
          "symbol": "circle"
         },
         "mode": "markers",
         "name": "52",
         "showlegend": true,
         "type": "scattergl",
         "x": [
          -78.25634002685547,
          -78.0858383178711,
          -78.47331237792969,
          -78.70382690429688
         ],
         "xaxis": "x",
         "y": [
          18.319595336914062,
          18.419261932373047,
          18.1529483795166,
          18.002460479736328
         ],
         "yaxis": "y"
        },
        {
         "hovertemplate": "<b>%{hovertext}</b><br><br>Cluster #=53<br>37D->2D TSNE1=%{x}<br>37D->2D TSNE2=%{y}<extra></extra>",
         "hovertext": [
          "Ti2.2 Nb5.2 Mo1 Si1.6",
          "Ti1.47 Nb3.13 Mo1 Si1.07",
          "Ti1.38 Nb2.62 Mo1.25 Si1",
          "Ti4.4 Nb11.4 Mo1 Si3.2"
         ],
         "legendgroup": "53",
         "marker": {
          "color": "#B68100",
          "symbol": "circle"
         },
         "mode": "markers",
         "name": "53",
         "showlegend": true,
         "type": "scattergl",
         "x": [
          71.65807342529297,
          71.54623413085938,
          71.62914276123047,
          71.88125610351562
         ],
         "xaxis": "x",
         "y": [
          18.936180114746094,
          18.2489070892334,
          17.855121612548828,
          19.46556282043457
         ],
         "yaxis": "y"
        },
        {
         "hovertemplate": "<b>%{hovertext}</b><br><br>Cluster #=54<br>37D->2D TSNE1=%{x}<br>37D->2D TSNE2=%{y}<extra></extra>",
         "hovertext": [
          "Hf1 Zr1 Ti1 Nb1 O2",
          "Hf1 Zr1 Ti1 Nb1 O1.5"
         ],
         "legendgroup": "54",
         "marker": {
          "color": "#750D86",
          "symbol": "circle"
         },
         "mode": "markers",
         "name": "54",
         "showlegend": true,
         "type": "scattergl",
         "x": [
          71.99835205078125,
          72.00371551513672
         ],
         "xaxis": "x",
         "y": [
          -43.75181579589844,
          -43.534786224365234
         ],
         "yaxis": "y"
        },
        {
         "hovertemplate": "<b>%{hovertext}</b><br><br>Cluster #=55<br>37D->2D TSNE1=%{x}<br>37D->2D TSNE2=%{y}<extra></extra>",
         "hovertext": [
          "Ti1 Ta1 Nb1 V1",
          "Ti1.05 Ta1.27 Nb1.29 V1",
          "Ti2 Ta2 Nb2 V2 Al1",
          "Ti4 Ta4 Nb4 V4 Al1"
         ],
         "legendgroup": "55",
         "marker": {
          "color": "#EB663B",
          "symbol": "circle"
         },
         "mode": "markers",
         "name": "55",
         "showlegend": true,
         "type": "scattergl",
         "x": [
          46.03147506713867,
          45.93053436279297,
          45.70992660522461,
          45.88206481933594
         ],
         "xaxis": "x",
         "y": [
          17.4146671295166,
          17.47146224975586,
          16.3114070892334,
          16.893959045410156
         ],
         "yaxis": "y"
        },
        {
         "hovertemplate": "<b>%{hovertext}</b><br><br>Cluster #=56<br>37D->2D TSNE1=%{x}<br>37D->2D TSNE2=%{y}<extra></extra>",
         "hovertext": [
          "Hf2.01 Ti2.01 Nb2.01 V1 Mo1 Si1.41",
          "Hf3.38 Ti3.38 Nb3.38 V1.68 Mo1.68 Si1",
          "Hf2 Ti2 Nb2 V1 Mo1 Si1.01",
          "Hf2 Ti2 Nb2 V1 Mo1 Si1.4",
          "Hf3.33 Ti3.33 Nb3.33 V1.67 Mo1.67 Si1",
          "Hf2 Ti2 Nb2 V1 Mo1 Si1"
         ],
         "legendgroup": "56",
         "marker": {
          "color": "#511CFB",
          "symbol": "circle"
         },
         "mode": "markers",
         "name": "56",
         "showlegend": true,
         "type": "scattergl",
         "x": [
          93.31610107421875,
          91.84371948242188,
          92.62019348144531,
          93.19973754882812,
          91.86763763427734,
          92.6312484741211
         ],
         "xaxis": "x",
         "y": [
          -14.675300598144531,
          -13.801332473754883,
          -14.372576713562012,
          -14.846293449401855,
          -13.811053276062012,
          -14.308929443359375
         ],
         "yaxis": "y"
        },
        {
         "hovertemplate": "<b>%{hovertext}</b><br><br>Cluster #=57<br>37D->2D TSNE1=%{x}<br>37D->2D TSNE2=%{y}<extra></extra>",
         "hovertext": [
          "Fe2 Co1 Ni2 Cu2 Al2",
          "Fe4.96 Co1 Ni4.96 Cu4.96 Al4.96"
         ],
         "legendgroup": "57",
         "marker": {
          "color": "#00A08B",
          "symbol": "circle"
         },
         "mode": "markers",
         "name": "57",
         "showlegend": true,
         "type": "scattergl",
         "x": [
          -43.637569427490234,
          -43.731014251708984
         ],
         "xaxis": "x",
         "y": [
          -24.50592613220215,
          -24.62018585205078
         ],
         "yaxis": "y"
        },
        {
         "hovertemplate": "<b>%{hovertext}</b><br><br>Cluster #=58<br>37D->2D TSNE1=%{x}<br>37D->2D TSNE2=%{y}<extra></extra>",
         "hovertext": [
          "Ta3.5 Nb2 W2 Mo1.5 Re1",
          "Ta2 Nb1.33 W1.33 Mo1 Re1"
         ],
         "legendgroup": "58",
         "marker": {
          "color": "#FB00D1",
          "symbol": "circle"
         },
         "mode": "markers",
         "name": "58",
         "showlegend": true,
         "type": "scattergl",
         "x": [
          39.893043518066406,
          40.26511001586914
         ],
         "xaxis": "x",
         "y": [
          43.57328796386719,
          43.85554504394531
         ],
         "yaxis": "y"
        },
        {
         "hovertemplate": "<b>%{hovertext}</b><br><br>Cluster #=59<br>37D->2D TSNE1=%{x}<br>37D->2D TSNE2=%{y}<extra></extra>",
         "hovertext": [
          "Zr1 Ti2 Ta1 Nb2 Al2",
          "Zr1 Ti2.04 Ta1.14 Nb2.1 Al2.19"
         ],
         "legendgroup": "59",
         "marker": {
          "color": "#FC0080",
          "symbol": "circle"
         },
         "mode": "markers",
         "name": "59",
         "showlegend": true,
         "type": "scattergl",
         "x": [
          25.907365798950195,
          25.880746841430664
         ],
         "xaxis": "x",
         "y": [
          -35.08346939086914,
          -35.00214767456055
         ],
         "yaxis": "y"
        },
        {
         "hovertemplate": "<b>%{hovertext}</b><br><br>Cluster #=60<br>37D->2D TSNE1=%{x}<br>37D->2D TSNE2=%{y}<extra></extra>",
         "hovertext": [
          "Cr2.49 Fe3.74 Ni1.25 Al1",
          "Cr4.97 Fe7.44 Ni2.48 Al1"
         ],
         "legendgroup": "60",
         "marker": {
          "color": "#B2828D",
          "symbol": "circle"
         },
         "mode": "markers",
         "name": "60",
         "showlegend": true,
         "type": "scattergl",
         "x": [
          -7.483184814453125,
          -7.4761152267456055
         ],
         "xaxis": "x",
         "y": [
          19.22597312927246,
          19.231910705566406
         ],
         "yaxis": "y"
        },
        {
         "hovertemplate": "<b>%{hovertext}</b><br><br>Cluster #=61<br>37D->2D TSNE1=%{x}<br>37D->2D TSNE2=%{y}<extra></extra>",
         "hovertext": [
          "Li1 Mg1 Zn1 Al16 Sn1",
          "Li1 Mg1 Cu1 Zn1 Al16"
         ],
         "legendgroup": "61",
         "marker": {
          "color": "#6C7C32",
          "symbol": "circle"
         },
         "mode": "markers",
         "name": "61",
         "showlegend": true,
         "type": "scattergl",
         "x": [
          6.667832851409912,
          6.674521446228027
         ],
         "xaxis": "x",
         "y": [
          -55.36721420288086,
          -55.38258361816406
         ],
         "yaxis": "y"
        },
        {
         "hovertemplate": "<b>%{hovertext}</b><br><br>Cluster #=62<br>37D->2D TSNE1=%{x}<br>37D->2D TSNE2=%{y}<extra></extra>",
         "hovertext": [
          "Zr3.33 Ti3.33 Ta1 Nb3.33",
          "Zr5 Ti5 Ta2.5 Nb5 Al1",
          "Zr2.59 Ti2.53 Ta1 Nb2.89",
          "Zr2 Ti2 Ta1 Nb2"
         ],
         "legendgroup": "62",
         "marker": {
          "color": "#778AAE",
          "symbol": "circle"
         },
         "mode": "markers",
         "name": "62",
         "showlegend": true,
         "type": "scattergl",
         "x": [
          37.54701232910156,
          38.16767501831055,
          37.60231018066406,
          37.81283950805664
         ],
         "xaxis": "x",
         "y": [
          -31.111852645874023,
          -32.64097213745117,
          -31.315587997436523,
          -31.7965145111084
         ],
         "yaxis": "y"
        },
        {
         "hovertemplate": "<b>%{hovertext}</b><br><br>Cluster #=63<br>37D->2D TSNE1=%{x}<br>37D->2D TSNE2=%{y}<extra></extra>",
         "hovertext": [
          "Mn1 Fe1 Co1 Ni1 Cu1",
          "Mn5 Fe5 Co5 Ni5 Cu5 Sn1",
          "Mn12.5 Fe12.5 Co12.5 Ni12.5 Cu12.5 Sn1",
          "Mn20 Fe20 Co20 Ni20 Cu20 Sn1",
          "Mn33.33 Fe33.33 Co33.33 Ni33.33 Cu33.33 Sn1",
          "Mn10 Fe10 Co10 Ni10 Cu10 Sn1"
         ],
         "legendgroup": "63",
         "marker": {
          "color": "#862A16",
          "symbol": "circle"
         },
         "mode": "markers",
         "name": "63",
         "showlegend": true,
         "type": "scattergl",
         "x": [
          -88.46726989746094,
          -89.2857437133789,
          -89.23291778564453,
          -88.43801879882812,
          -88.93270874023438,
          -88.76435852050781
         ],
         "xaxis": "x",
         "y": [
          5.112401008605957,
          4.316381931304932,
          4.878429889678955,
          4.626622676849365,
          5.193650722503662,
          4.344839096069336
         ],
         "yaxis": "y"
        },
        {
         "hovertemplate": "<b>%{hovertext}</b><br><br>Cluster #=64<br>37D->2D TSNE1=%{x}<br>37D->2D TSNE2=%{y}<extra></extra>",
         "hovertext": [
          "Cr1 Fe1 Ni1 Cu1 Al1.99",
          "Cr1 Fe1 Ni1 Cu1 Al1.5"
         ],
         "legendgroup": "64",
         "marker": {
          "color": "#A777F1",
          "symbol": "circle"
         },
         "mode": "markers",
         "name": "64",
         "showlegend": true,
         "type": "scattergl",
         "x": [
          -57.351707458496094,
          -57.23884963989258
         ],
         "xaxis": "x",
         "y": [
          -26.46979522705078,
          -26.31048583984375
         ],
         "yaxis": "y"
        },
        {
         "hovertemplate": "<b>%{hovertext}</b><br><br>Cluster #=65<br>37D->2D TSNE1=%{x}<br>37D->2D TSNE2=%{y}<extra></extra>",
         "hovertext": [
          "Nb15 Fe1 Co1 Ni1 Cu1",
          "Nb11.6 Fe1 Co1 Ni1 Cu1"
         ],
         "legendgroup": "65",
         "marker": {
          "color": "#620042",
          "symbol": "circle"
         },
         "mode": "markers",
         "name": "65",
         "showlegend": true,
         "type": "scattergl",
         "x": [
          76.6587905883789,
          76.57550048828125
         ],
         "xaxis": "x",
         "y": [
          22.570783615112305,
          22.703834533691406
         ],
         "yaxis": "y"
        },
        {
         "hovertemplate": "<b>%{hovertext}</b><br><br>Cluster #=66<br>37D->2D TSNE1=%{x}<br>37D->2D TSNE2=%{y}<extra></extra>",
         "hovertext": [
          "Zr1 Ti3.2 Nb1.5 Cr2 Al2.3",
          "Zr1 Ti2.7 Nb1.5 Cr2 Al2.8",
          "Zr1 Ti2.2 Nb1.5 Cr2 Al3.3"
         ],
         "legendgroup": "66",
         "marker": {
          "color": "#1616A7",
          "symbol": "circle"
         },
         "mode": "markers",
         "name": "66",
         "showlegend": true,
         "type": "scattergl",
         "x": [
          25.091691970825195,
          25.587116241455078,
          25.90164566040039
         ],
         "xaxis": "x",
         "y": [
          -21.986265182495117,
          -22.20526695251465,
          -22.28316307067871
         ],
         "yaxis": "y"
        },
        {
         "hovertemplate": "<b>%{hovertext}</b><br><br>Cluster #=67<br>37D->2D TSNE1=%{x}<br>37D->2D TSNE2=%{y}<extra></extra>",
         "hovertext": [
          "Ta1 Co7.12 B4.38",
          "Ta1 Co9.83 B5.83",
          "Ta1 Co6.22 B3.89",
          "Ta1 Co8.29 B5",
          "Ta1 Co5.5 B3.5",
          "Ta3 Co28.5 Ni1 B17.5"
         ],
         "legendgroup": "67",
         "marker": {
          "color": "#DA60CA",
          "symbol": "circle"
         },
         "mode": "markers",
         "name": "67",
         "showlegend": true,
         "type": "scattergl",
         "x": [
          3.388746500015259,
          2.8087024688720703,
          3.7565557956695557,
          3.0115692615509033,
          3.9284088611602783,
          3.220569372177124
         ],
         "xaxis": "x",
         "y": [
          74.20809173583984,
          73.69768524169922,
          73.67395782470703,
          74.06547546386719,
          74.06597900390625,
          73.35359191894531
         ],
         "yaxis": "y"
        },
        {
         "hovertemplate": "<b>%{hovertext}</b><br><br>Cluster #=68<br>37D->2D TSNE1=%{x}<br>37D->2D TSNE2=%{y}<extra></extra>",
         "hovertext": [
          "Ti8 Nb8 Al1 Si3",
          "Ti2.83 Nb2.83 Si1"
         ],
         "legendgroup": "68",
         "marker": {
          "color": "#6C4516",
          "symbol": "circle"
         },
         "mode": "markers",
         "name": "68",
         "showlegend": true,
         "type": "scattergl",
         "x": [
          69.92240905761719,
          69.82941436767578
         ],
         "xaxis": "x",
         "y": [
          21.505460739135742,
          21.586227416992188
         ],
         "yaxis": "y"
        },
        {
         "hovertemplate": "<b>%{hovertext}</b><br><br>Cluster #=69<br>37D->2D TSNE1=%{x}<br>37D->2D TSNE2=%{y}<extra></extra>",
         "hovertext": [
          "Zr1 Ti10 Nb10 V10 Al10",
          "Ti1 Nb1 V1 Al1",
          "Zr1 Ti4 Nb4 V4 Al4",
          "Zr1 Ti2 Nb2 V2 Al2"
         ],
         "legendgroup": "69",
         "marker": {
          "color": "#0D2A63",
          "symbol": "circle"
         },
         "mode": "markers",
         "name": "69",
         "showlegend": true,
         "type": "scattergl",
         "x": [
          31.96878433227539,
          31.800947189331055,
          32.358253479003906,
          33.00525665283203
         ],
         "xaxis": "x",
         "y": [
          -12.735339164733887,
          -12.701337814331055,
          -12.821893692016602,
          -12.964692115783691
         ],
         "yaxis": "y"
        },
        {
         "hovertemplate": "<b>%{hovertext}</b><br><br>Cluster #=70<br>37D->2D TSNE1=%{x}<br>37D->2D TSNE2=%{y}<extra></extra>",
         "hovertext": [
          "Fe1.33 Co1.33 Ni1.33 Si1",
          "Fe2 Co2 Ni2 Si1"
         ],
         "legendgroup": "70",
         "marker": {
          "color": "#AF0038",
          "symbol": "circle"
         },
         "mode": "markers",
         "name": "70",
         "showlegend": true,
         "type": "scattergl",
         "x": [
          -26.77335548400879,
          -27.060413360595703
         ],
         "xaxis": "x",
         "y": [
          49.839176177978516,
          49.73090362548828
         ],
         "yaxis": "y"
        },
        {
         "hovertemplate": "<b>%{hovertext}</b><br><br>Cluster #=71<br>37D->2D TSNE1=%{x}<br>37D->2D TSNE2=%{y}<extra></extra>",
         "hovertext": [
          "Ti3.33 Nb3.33 V3.33 Mo3.33 Cr3.33 Al1.67 Si1",
          "Ti2 Nb2 V2 Mo2 Cr2 Al1"
         ],
         "legendgroup": "71",
         "marker": {
          "color": "#2E91E5",
          "symbol": "circle"
         },
         "mode": "markers",
         "name": "71",
         "showlegend": true,
         "type": "scattergl",
         "x": [
          25.932714462280273,
          25.941728591918945
         ],
         "xaxis": "x",
         "y": [
          -2.4870147705078125,
          -2.506613254547119
         ],
         "yaxis": "y"
        },
        {
         "hovertemplate": "<b>%{hovertext}</b><br><br>Cluster #=72<br>37D->2D TSNE1=%{x}<br>37D->2D TSNE2=%{y}<extra></extra>",
         "hovertext": [
          "Ti20.2 Ta1.03 Nb7.01 Fe1",
          "Ti19.07 Ta1 Nb6.81 Fe1.46",
          "Ti41.7 Ta2.06 Nb14.06 Fe1",
          "Ti20.83 Ta1 Nb6.83"
         ],
         "legendgroup": "72",
         "marker": {
          "color": "#E15F99",
          "symbol": "circle"
         },
         "mode": "markers",
         "name": "72",
         "showlegend": true,
         "type": "scattergl",
         "x": [
          24.21459197998047,
          24.203773498535156,
          24.054115295410156,
          24.04352378845215
         ],
         "xaxis": "x",
         "y": [
          -51.38261032104492,
          -51.20741653442383,
          -51.54597091674805,
          -51.67811965942383
         ],
         "yaxis": "y"
        },
        {
         "hovertemplate": "<b>%{hovertext}</b><br><br>Cluster #=73<br>37D->2D TSNE1=%{x}<br>37D->2D TSNE2=%{y}<extra></extra>",
         "hovertext": [
          "Cr4.67 Fe1 Ni4.67 Cu4.5 Al1.83",
          "Cr5.8 Fe1 Ni5.2 Cu5.8 Al2.2",
          "Cr7 Fe1 Ni5 Cu5 Al2",
          "Cr7 Fe1 Ni4.8 Cu5.2 Al2",
          "Cr4.67 Fe1 Ni5.17 Cu3.67 Al2.17",
          "Cr6.2 Fe1 Ni6.2 Cu4.2 Al2.4",
          "Cr6.2 Fe1 Ni6.4 Cu4 Al2.4",
          "Cr4 Fe1 Ni3.57 Cu4.14 Al1.57",
          "Cr7 Fe1 Ni5.2 Cu4.8 Al2"
         ],
         "legendgroup": "73",
         "marker": {
          "color": "#1CA71C",
          "symbol": "circle"
         },
         "mode": "markers",
         "name": "73",
         "showlegend": true,
         "type": "scattergl",
         "x": [
          -91.05224609375,
          -91.08246612548828,
          -92.9256820678711,
          -92.8143081665039,
          -92.59430694580078,
          -92.9424057006836,
          -92.99446868896484,
          -91.06214141845703,
          -93.03591918945312
         ],
         "xaxis": "x",
         "y": [
          -32.196319580078125,
          -31.848312377929688,
          -31.021465301513672,
          -30.924556732177734,
          -33.567626953125,
          -33.52357864379883,
          -33.60816955566406,
          -31.796178817749023,
          -31.140338897705078
         ],
         "yaxis": "y"
        },
        {
         "hovertemplate": "<b>%{hovertext}</b><br><br>Cluster #=74<br>37D->2D TSNE1=%{x}<br>37D->2D TSNE2=%{y}<extra></extra>",
         "hovertext": [
          "Nb1 Mo1 Cr1 Co1",
          "Ti1 Nb2.5 Mo2.5 Cr2.5 Co2.5",
          "Ti1 Nb2 Mo2 Cr2 Co2",
          "Ti0.02 Nb1 Mo1 Cr1 Co1",
          "Ti1 Nb5 Mo5 Cr5 Co5"
         ],
         "legendgroup": "74",
         "marker": {
          "color": "#FB0D0D",
          "symbol": "circle"
         },
         "mode": "markers",
         "name": "74",
         "showlegend": true,
         "type": "scattergl",
         "x": [
          14.500833511352539,
          15.386143684387207,
          15.577731132507324,
          14.68277359008789,
          14.888642311096191
         ],
         "xaxis": "x",
         "y": [
          -22.226360321044922,
          -21.78645133972168,
          -21.61445426940918,
          -22.37783432006836,
          -21.92101287841797
         ],
         "yaxis": "y"
        },
        {
         "hovertemplate": "<b>%{hovertext}</b><br><br>Cluster #=75<br>37D->2D TSNE1=%{x}<br>37D->2D TSNE2=%{y}<extra></extra>",
         "hovertext": [
          "Cr1.5 Fe2.92 Co1.5 Ni1.5 Al1",
          "Cr1 Fe1.99 Co1 Ni1 Al1"
         ],
         "legendgroup": "75",
         "marker": {
          "color": "#DA16FF",
          "symbol": "circle"
         },
         "mode": "markers",
         "name": "75",
         "showlegend": true,
         "type": "scattergl",
         "x": [
          -21.225467681884766,
          -21.227455139160156
         ],
         "xaxis": "x",
         "y": [
          -16.342710494995117,
          -16.44537925720215
         ],
         "yaxis": "y"
        },
        {
         "hovertemplate": "<b>%{hovertext}</b><br><br>Cluster #=76<br>37D->2D TSNE1=%{x}<br>37D->2D TSNE2=%{y}<extra></extra>",
         "hovertext": [
          "Ti1.5 V1 Mo1 Cr1 Fe1",
          "Ti1.99 V1 Mo1 Cr1 Fe1"
         ],
         "legendgroup": "76",
         "marker": {
          "color": "#222A2A",
          "symbol": "circle"
         },
         "mode": "markers",
         "name": "76",
         "showlegend": true,
         "type": "scattergl",
         "x": [
          17.972198486328125,
          17.77150535583496
         ],
         "xaxis": "x",
         "y": [
          0.21145807206630707,
          0.3373691439628601
         ],
         "yaxis": "y"
        },
        {
         "hovertemplate": "<b>%{hovertext}</b><br><br>Cluster #=77<br>37D->2D TSNE1=%{x}<br>37D->2D TSNE2=%{y}<extra></extra>",
         "hovertext": [
          "Ti2 V2 Cr2 Fe2 Ni2 Cu2 Al1",
          "Ti1 V1 Cr1 Fe1 Ni1 Cu1 Al1.5",
          "Ti1 V1 Cr1 Fe1 Ni1 Cu1 Al1"
         ],
         "legendgroup": "77",
         "marker": {
          "color": "#B68100",
          "symbol": "circle"
         },
         "mode": "markers",
         "name": "77",
         "showlegend": true,
         "type": "scattergl",
         "x": [
          9.013673782348633,
          9.937066078186035,
          9.640152931213379
         ],
         "xaxis": "x",
         "y": [
          17.14459800720215,
          16.626615524291992,
          16.78032875061035
         ],
         "yaxis": "y"
        },
        {
         "hovertemplate": "<b>%{hovertext}</b><br><br>Cluster #=78<br>37D->2D TSNE1=%{x}<br>37D->2D TSNE2=%{y}<extra></extra>",
         "hovertext": [
          "Ti20 Ta20 Mo20 Cr20 Al20 Si1",
          "Ti1 Ta1 Mo1 Cr1 Al1"
         ],
         "legendgroup": "78",
         "marker": {
          "color": "#750D86",
          "symbol": "circle"
         },
         "mode": "markers",
         "name": "78",
         "showlegend": true,
         "type": "scattergl",
         "x": [
          29.06299591064453,
          29.063434600830078
         ],
         "xaxis": "x",
         "y": [
          12.186806678771973,
          12.188066482543945
         ],
         "yaxis": "y"
        },
        {
         "hovertemplate": "<b>%{hovertext}</b><br><br>Cluster #=79<br>37D->2D TSNE1=%{x}<br>37D->2D TSNE2=%{y}<extra></extra>",
         "hovertext": [
          "Fe1 Co1.99 Ni1 Cu1 Al1",
          "Fe1 Co1.5 Ni1 Cu1 Al1"
         ],
         "legendgroup": "79",
         "marker": {
          "color": "#EB663B",
          "symbol": "circle"
         },
         "mode": "markers",
         "name": "79",
         "showlegend": true,
         "type": "scattergl",
         "x": [
          -41.08624267578125,
          -40.95625305175781
         ],
         "xaxis": "x",
         "y": [
          -19.714632034301758,
          -20.459182739257812
         ],
         "yaxis": "y"
        },
        {
         "hovertemplate": "<b>%{hovertext}</b><br><br>Cluster #=80<br>37D->2D TSNE1=%{x}<br>37D->2D TSNE2=%{y}<extra></extra>",
         "hovertext": [
          "Ti1 Mn9.33 Fe10.33 Ni5 Al8",
          "Mn1.87 Fe2.07 Ni1 Al1.6",
          "Ti1 Mn35 Fe38.75 Ni18.75 Al30"
         ],
         "legendgroup": "80",
         "marker": {
          "color": "#511CFB",
          "symbol": "circle"
         },
         "mode": "markers",
         "name": "80",
         "showlegend": true,
         "type": "scattergl",
         "x": [
          -90.41618347167969,
          -90.409423828125,
          -90.4116439819336
         ],
         "xaxis": "x",
         "y": [
          29.769798278808594,
          29.7755126953125,
          29.772253036499023
         ],
         "yaxis": "y"
        },
        {
         "hovertemplate": "<b>%{hovertext}</b><br><br>Cluster #=81<br>37D->2D TSNE1=%{x}<br>37D->2D TSNE2=%{y}<extra></extra>",
         "hovertext": [
          "Ti3.01 V2.01 Fe2.01 Co2.01 Ni2.01 Cu1",
          "Ti4 V2 Fe2 Co2 Ni2 Cu1",
          "Ti2 V2 Fe2 Co2 Ni2 Cu1"
         ],
         "legendgroup": "81",
         "marker": {
          "color": "#00A08B",
          "symbol": "circle"
         },
         "mode": "markers",
         "name": "81",
         "showlegend": true,
         "type": "scattergl",
         "x": [
          14.495519638061523,
          14.699810981750488,
          14.236442565917969
         ],
         "xaxis": "x",
         "y": [
          32.56398010253906,
          32.160804748535156,
          33.379146575927734
         ],
         "yaxis": "y"
        },
        {
         "hovertemplate": "<b>%{hovertext}</b><br><br>Cluster #=82<br>37D->2D TSNE1=%{x}<br>37D->2D TSNE2=%{y}<extra></extra>",
         "hovertext": [
          "Mn1.33 Ni1.33 Cu1.33 Zn1",
          "Mn1 Ni1 Cu1 Zn1"
         ],
         "legendgroup": "82",
         "marker": {
          "color": "#FB00D1",
          "symbol": "circle"
         },
         "mode": "markers",
         "name": "82",
         "showlegend": true,
         "type": "scattergl",
         "x": [
          -87.09793090820312,
          -87.04331970214844
         ],
         "xaxis": "x",
         "y": [
          -2.2790300846099854,
          -2.193117380142212
         ],
         "yaxis": "y"
        },
        {
         "hovertemplate": "<b>%{hovertext}</b><br><br>Cluster #=83<br>37D->2D TSNE1=%{x}<br>37D->2D TSNE2=%{y}<extra></extra>",
         "hovertext": [
          "Ta1 Nb1 W1 Mo1",
          "Ta4 Nb4 W4 Mo4 Si1",
          "Ta1.33 Nb1.33 W1.33 Mo1.33 Si1",
          "Ti1 Ta2.88 Nb2.88 W2.88 Mo2.88",
          "Ti1 Ta1 Nb1 W1 Mo1",
          "Ti1 Ta1.33 Nb1.33 W1.33 Mo1.33",
          "Ti1 Ta4 Nb4 W4 Mo4",
          "Ta2 Nb2 W2 Mo2 Si1",
          "Ti1 Ta2 Nb2 W2 Mo2"
         ],
         "legendgroup": "83",
         "marker": {
          "color": "#FC0080",
          "symbol": "circle"
         },
         "mode": "markers",
         "name": "83",
         "showlegend": true,
         "type": "scattergl",
         "x": [
          40.86924362182617,
          40.00413513183594,
          38.87162780761719,
          41.1217155456543,
          41.447017669677734,
          41.364925384521484,
          41.05391311645508,
          39.18260192871094,
          41.22120666503906
         ],
         "xaxis": "x",
         "y": [
          35.984317779541016,
          35.97966003417969,
          35.99074935913086,
          34.3599739074707,
          32.27491760253906,
          32.770301818847656,
          34.83260726928711,
          35.995201110839844,
          33.69696044921875
         ],
         "yaxis": "y"
        },
        {
         "hovertemplate": "<b>%{hovertext}</b><br><br>Cluster #=84<br>37D->2D TSNE1=%{x}<br>37D->2D TSNE2=%{y}<extra></extra>",
         "hovertext": [
          "W1 Cr20 Mn20 Fe20 Cu20 Al20",
          "W1 Cr10 Mn10 Fe10 Cu10 Al10",
          "Cr1 Mn1 Fe1 Cu1 Al1"
         ],
         "legendgroup": "84",
         "marker": {
          "color": "#B2828D",
          "symbol": "circle"
         },
         "mode": "markers",
         "name": "84",
         "showlegend": true,
         "type": "scattergl",
         "x": [
          -53.78627395629883,
          -53.71879196166992,
          -53.846553802490234
         ],
         "xaxis": "x",
         "y": [
          -30.522714614868164,
          -30.556976318359375,
          -30.49404525756836
         ],
         "yaxis": "y"
        },
        {
         "hovertemplate": "<b>%{hovertext}</b><br><br>Cluster #=85<br>37D->2D TSNE1=%{x}<br>37D->2D TSNE2=%{y}<extra></extra>",
         "hovertext": [
          "Zr1 Ti1.02 Nb1.15",
          "Zr1 Ti1 Nb1"
         ],
         "legendgroup": "85",
         "marker": {
          "color": "#6C7C32",
          "symbol": "circle"
         },
         "mode": "markers",
         "name": "85",
         "showlegend": true,
         "type": "scattergl",
         "x": [
          36.934242248535156,
          37.14384460449219
         ],
         "xaxis": "x",
         "y": [
          -25.425703048706055,
          -25.35978126525879
         ],
         "yaxis": "y"
        },
        {
         "hovertemplate": "<b>%{hovertext}</b><br><br>Cluster #=86<br>37D->2D TSNE1=%{x}<br>37D->2D TSNE2=%{y}<extra></extra>",
         "hovertext": [
          "Zr8.5 Ti8.5 Ta1 Nb1 Mo1",
          "Zr9 Ti9 Ta1 Nb1",
          "Zr9 Ti9 Nb1 Mo1"
         ],
         "legendgroup": "86",
         "marker": {
          "color": "#778AAE",
          "symbol": "circle"
         },
         "mode": "markers",
         "name": "86",
         "showlegend": true,
         "type": "scattergl",
         "x": [
          40.2310676574707,
          40.30800247192383,
          40.11846923828125
         ],
         "xaxis": "x",
         "y": [
          -42.66748046875,
          -42.88193130493164,
          -42.91034698486328
         ],
         "yaxis": "y"
        },
        {
         "hovertemplate": "<b>%{hovertext}</b><br><br>Cluster #=87<br>37D->2D TSNE1=%{x}<br>37D->2D TSNE2=%{y}<extra></extra>",
         "hovertext": [
          "Ti5 Ta5 V5 Mo5 Al1",
          "Ti1 Ta1 V1 Mo1"
         ],
         "legendgroup": "87",
         "marker": {
          "color": "#862A16",
          "symbol": "circle"
         },
         "mode": "markers",
         "name": "87",
         "showlegend": true,
         "type": "scattergl",
         "x": [
          36.4084358215332,
          36.32692337036133
         ],
         "xaxis": "x",
         "y": [
          13.363265991210938,
          13.596702575683594
         ],
         "yaxis": "y"
        },
        {
         "hovertemplate": "<b>%{hovertext}</b><br><br>Cluster #=88<br>37D->2D TSNE1=%{x}<br>37D->2D TSNE2=%{y}<extra></extra>",
         "hovertext": [
          "Ta4 Nb1 V3.5 W3.5",
          "Ta2.67 Nb1 V2.33 W2"
         ],
         "legendgroup": "88",
         "marker": {
          "color": "#A777F1",
          "symbol": "circle"
         },
         "mode": "markers",
         "name": "88",
         "showlegend": true,
         "type": "scattergl",
         "x": [
          48.90385818481445,
          48.69873809814453
         ],
         "xaxis": "x",
         "y": [
          26.49789047241211,
          26.159563064575195
         ],
         "yaxis": "y"
        },
        {
         "hovertemplate": "<b>%{hovertext}</b><br><br>Cluster #=89<br>37D->2D TSNE1=%{x}<br>37D->2D TSNE2=%{y}<extra></extra>",
         "hovertext": [
          "Cr1 Fe1 Co1 Ni1 Al1 C1.5",
          "Cr1 Fe1 Co1 Ni1 Al1 C1"
         ],
         "legendgroup": "89",
         "marker": {
          "color": "#620042",
          "symbol": "circle"
         },
         "mode": "markers",
         "name": "89",
         "showlegend": true,
         "type": "scattergl",
         "x": [
          -1.768912434577942,
          -1.8729054927825928
         ],
         "xaxis": "x",
         "y": [
          -15.749173164367676,
          -15.842581748962402
         ],
         "yaxis": "y"
        },
        {
         "hovertemplate": "<b>%{hovertext}</b><br><br>Cluster #=90<br>37D->2D TSNE1=%{x}<br>37D->2D TSNE2=%{y}<extra></extra>",
         "hovertext": [
          "Ti1 Ta7.18 W5.18 Mo1.82 Cr7.09 Co5.91 Ni58 Al4.73",
          "Hf2.8 Zr0.01 Ti0.8 Ta6.6 W18.8 Mo1 Cr16.2 Co18.6 Ni123 Al11.4 B0.03 C0.14"
         ],
         "legendgroup": "90",
         "marker": {
          "color": "#1616A7",
          "symbol": "circle"
         },
         "mode": "markers",
         "name": "90",
         "showlegend": true,
         "type": "scattergl",
         "x": [
          -9.426497459411621,
          -9.487546920776367
         ],
         "xaxis": "x",
         "y": [
          55.45173645019531,
          55.42921829223633
         ],
         "yaxis": "y"
        },
        {
         "hovertemplate": "<b>%{hovertext}</b><br><br>Cluster #=91<br>37D->2D TSNE1=%{x}<br>37D->2D TSNE2=%{y}<extra></extra>",
         "hovertext": [
          "Mo4 B1 Si1.25",
          "Mo4.64 B1 Si1.5"
         ],
         "legendgroup": "91",
         "marker": {
          "color": "#DA60CA",
          "symbol": "circle"
         },
         "mode": "markers",
         "name": "91",
         "showlegend": true,
         "type": "scattergl",
         "x": [
          19.011919021606445,
          18.94355583190918
         ],
         "xaxis": "x",
         "y": [
          58.12610626220703,
          57.975093841552734
         ],
         "yaxis": "y"
        },
        {
         "hovertemplate": "<b>%{hovertext}</b><br><br>Cluster #=92<br>37D->2D TSNE1=%{x}<br>37D->2D TSNE2=%{y}<extra></extra>",
         "hovertext": [
          "Ti1 Ta3.33 V3.33 W3.33 Cr3.33",
          "Ti1 Ta5.88 V5.88 W5.88 Cr5.88",
          "Ta1 V1 W1 Cr1"
         ],
         "legendgroup": "92",
         "marker": {
          "color": "#6C4516",
          "symbol": "circle"
         },
         "mode": "markers",
         "name": "92",
         "showlegend": true,
         "type": "scattergl",
         "x": [
          30.914077758789062,
          30.927011489868164,
          30.929956436157227
         ],
         "xaxis": "x",
         "y": [
          30.247703552246094,
          30.027006149291992,
          29.829681396484375
         ],
         "yaxis": "y"
        },
        {
         "hovertemplate": "<b>%{hovertext}</b><br><br>Cluster #=93<br>37D->2D TSNE1=%{x}<br>37D->2D TSNE2=%{y}<extra></extra>",
         "hovertext": [
          "Zr1 Ti2 Ta1 Nb2 Mo1 Al2",
          "Zr1 Ti1.94 Ta1.31 Nb2.14 Mo1.22 Al1.99"
         ],
         "legendgroup": "93",
         "marker": {
          "color": "#0D2A63",
          "symbol": "circle"
         },
         "mode": "markers",
         "name": "93",
         "showlegend": true,
         "type": "scattergl",
         "x": [
          27.736501693725586,
          27.881898880004883
         ],
         "xaxis": "x",
         "y": [
          -36.089141845703125,
          -36.123199462890625
         ],
         "yaxis": "y"
        },
        {
         "hovertemplate": "<b>%{hovertext}</b><br><br>Cluster #=94<br>37D->2D TSNE1=%{x}<br>37D->2D TSNE2=%{y}<extra></extra>",
         "hovertext": [
          "Mo1.07 Cr1.79 Fe7.86 Co2.57 Ni1",
          "Mo1 Cr2.5 Fe11 Co3.5 Ni2"
         ],
         "legendgroup": "94",
         "marker": {
          "color": "#AF0038",
          "symbol": "circle"
         },
         "mode": "markers",
         "name": "94",
         "showlegend": true,
         "type": "scattergl",
         "x": [
          -24.192493438720703,
          -24.36153793334961
         ],
         "xaxis": "x",
         "y": [
          -7.492009162902832,
          -7.190051078796387
         ],
         "yaxis": "y"
        },
        {
         "hovertemplate": "<b>%{hovertext}</b><br><br>Cluster #=95<br>37D->2D TSNE1=%{x}<br>37D->2D TSNE2=%{y}<extra></extra>",
         "hovertext": [
          "Cr5 Mn1 Fe5 Co5 Pd5 Ni5",
          "Cr1.67 Mn1 Fe1.67 Co1.67 Pd1.67 Ni1.67",
          "Cr1 Fe1 Co1 Pd1 Ni1",
          "Cr1.25 Mn1 Fe1.25 Co1.25 Pd1.25 Ni1.25",
          "Cr2.5 Mn1 Fe2.5 Co2.5 Pd2.5 Ni2.5"
         ],
         "legendgroup": "95",
         "marker": {
          "color": "#2E91E5",
          "symbol": "circle"
         },
         "mode": "markers",
         "name": "95",
         "showlegend": true,
         "type": "scattergl",
         "x": [
          -34.9152717590332,
          -35.73300552368164,
          -34.633018493652344,
          -35.9631462097168,
          -35.34278106689453
         ],
         "xaxis": "x",
         "y": [
          69.38826751708984,
          69.07421875,
          69.49179077148438,
          68.98219299316406,
          69.22662353515625
         ],
         "yaxis": "y"
        },
        {
         "hovertemplate": "<b>%{hovertext}</b><br><br>Cluster #=96<br>37D->2D TSNE1=%{x}<br>37D->2D TSNE2=%{y}<extra></extra>",
         "hovertext": [
          "Li25.33 Ca0.33 Mg30 Al10 Si1",
          "Li38 Ca1 Mg48 Al15 Si1",
          "Li2.6 Ca0.03 Mg3 Al1 Si0.03"
         ],
         "legendgroup": "96",
         "marker": {
          "color": "#E15F99",
          "symbol": "circle"
         },
         "mode": "markers",
         "name": "96",
         "showlegend": true,
         "type": "scattergl",
         "x": [
          6.70225715637207,
          6.447274208068848,
          6.718101501464844
         ],
         "xaxis": "x",
         "y": [
          -97.51921081542969,
          -97.5340576171875,
          -97.60344696044922
         ],
         "yaxis": "y"
        },
        {
         "hovertemplate": "<b>%{hovertext}</b><br><br>Cluster #=97<br>37D->2D TSNE1=%{x}<br>37D->2D TSNE2=%{y}<extra></extra>",
         "hovertext": [
          "Cr10 Mn10 Fe10 Ni10 C1",
          "Cr1 Mn1 Fe1 Ni1"
         ],
         "legendgroup": "97",
         "marker": {
          "color": "#1CA71C",
          "symbol": "circle"
         },
         "mode": "markers",
         "name": "97",
         "showlegend": true,
         "type": "scattergl",
         "x": [
          -81.41372680664062,
          -81.42880249023438
         ],
         "xaxis": "x",
         "y": [
          17.660785675048828,
          17.659347534179688
         ],
         "yaxis": "y"
        },
        {
         "hovertemplate": "<b>%{hovertext}</b><br><br>Cluster #=98<br>37D->2D TSNE1=%{x}<br>37D->2D TSNE2=%{y}<extra></extra>",
         "hovertext": [
          "Cr6.8 Fe1 Co3.4 Ni2 Al6.8",
          "Cr6.8 Fe1 Co4.4 Ni2 Al5.8"
         ],
         "legendgroup": "98",
         "marker": {
          "color": "#FB0D0D",
          "symbol": "circle"
         },
         "mode": "markers",
         "name": "98",
         "showlegend": true,
         "type": "scattergl",
         "x": [
          -3.9496679306030273,
          -3.9591734409332275
         ],
         "xaxis": "x",
         "y": [
          -68.60913848876953,
          -68.70155334472656
         ],
         "yaxis": "y"
        },
        {
         "hovertemplate": "<b>%{hovertext}</b><br><br>Cluster #=99<br>37D->2D TSNE1=%{x}<br>37D->2D TSNE2=%{y}<extra></extra>",
         "hovertext": [
          "W5 Re1 Fe10.5 Ni24.5",
          "W1 Fe3 Ni7",
          "W1 Re1 Fe3 Ni7",
          "W1 Fe2.1 Ni4.9",
          "W2.5 Re1 Fe5.25 Ni12.25"
         ],
         "legendgroup": "99",
         "marker": {
          "color": "#DA16FF",
          "symbol": "circle"
         },
         "mode": "markers",
         "name": "99",
         "showlegend": true,
         "type": "scattergl",
         "x": [
          -5.759187698364258,
          -5.30027961730957,
          -6.325615882873535,
          -5.423685073852539,
          -5.940014362335205
         ],
         "xaxis": "x",
         "y": [
          60.48556900024414,
          60.839962005615234,
          61.006248474121094,
          60.51481628417969,
          60.82062530517578
         ],
         "yaxis": "y"
        },
        {
         "hovertemplate": "<b>%{hovertext}</b><br><br>Cluster #=100<br>37D->2D TSNE1=%{x}<br>37D->2D TSNE2=%{y}<extra></extra>",
         "hovertext": [
          "Hf12.25 Zr12.25 Ti12.25 Ta6.12 Nb6.12 N1",
          "Hf2 Zr2 Ti2 Ta1 Nb1",
          "Hf12.25 Zr12.25 Ti12.25 Ta6.12 Nb6.12 O1"
         ],
         "legendgroup": "100",
         "marker": {
          "color": "#222A2A",
          "symbol": "circle"
         },
         "mode": "markers",
         "name": "100",
         "showlegend": true,
         "type": "scattergl",
         "x": [
          53.02787399291992,
          53.00871276855469,
          53.0305061340332
         ],
         "xaxis": "x",
         "y": [
          -51.78166961669922,
          -51.800697326660156,
          -51.78105926513672
         ],
         "yaxis": "y"
        },
        {
         "hovertemplate": "<b>%{hovertext}</b><br><br>Cluster #=101<br>37D->2D TSNE1=%{x}<br>37D->2D TSNE2=%{y}<extra></extra>",
         "hovertext": [
          "Ti1.5 Cr1 Fe1 Ni1 Cu1 Al1",
          "Ti1 Cr1 Fe1 Ni1 Cu1 Al1"
         ],
         "legendgroup": "101",
         "marker": {
          "color": "#B68100",
          "symbol": "circle"
         },
         "mode": "markers",
         "name": "101",
         "showlegend": true,
         "type": "scattergl",
         "x": [
          4.554744720458984,
          4.225807189941406
         ],
         "xaxis": "x",
         "y": [
          -1.9579488039016724,
          -1.920912265777588
         ],
         "yaxis": "y"
        },
        {
         "hovertemplate": "<b>%{hovertext}</b><br><br>Cluster #=102<br>37D->2D TSNE1=%{x}<br>37D->2D TSNE2=%{y}<extra></extra>",
         "hovertext": [
          "W3.33 Fe2 Co1 Ni2",
          "W2.69 Fe2 Co1 Ni2",
          "W4.09 Fe2 Co1 Ni2",
          "W5 Fe2 Co1 Ni2",
          "W2.14 Fe2 Co1 Ni2"
         ],
         "legendgroup": "102",
         "marker": {
          "color": "#750D86",
          "symbol": "circle"
         },
         "mode": "markers",
         "name": "102",
         "showlegend": true,
         "type": "scattergl",
         "x": [
          -18.948017120361328,
          -19.330907821655273,
          -18.56053352355957,
          -18.29950523376465,
          -19.58824920654297
         ],
         "xaxis": "x",
         "y": [
          72.77175903320312,
          72.83821105957031,
          72.69277954101562,
          72.64751434326172,
          72.89073181152344
         ],
         "yaxis": "y"
        },
        {
         "hovertemplate": "<b>%{hovertext}</b><br><br>Cluster #=103<br>37D->2D TSNE1=%{x}<br>37D->2D TSNE2=%{y}<extra></extra>",
         "hovertext": [
          "Zr4.17 Ti4.17 Nb4.17 V4.17 Al1",
          "Zr1 Ti1 Nb1 V1"
         ],
         "legendgroup": "103",
         "marker": {
          "color": "#EB663B",
          "symbol": "circle"
         },
         "mode": "markers",
         "name": "103",
         "showlegend": true,
         "type": "scattergl",
         "x": [
          48.52143859863281,
          48.424495697021484
         ],
         "xaxis": "x",
         "y": [
          -10.404518127441406,
          -10.208356857299805
         ],
         "yaxis": "y"
        },
        {
         "hovertemplate": "<b>%{hovertext}</b><br><br>Cluster #=104<br>37D->2D TSNE1=%{x}<br>37D->2D TSNE2=%{y}<extra></extra>",
         "hovertext": [
          "Ti2 Nb2 V2 Mo1 Cr3",
          "Ti2 Nb2 V2 Mo1 Cr4"
         ],
         "legendgroup": "104",
         "marker": {
          "color": "#511CFB",
          "symbol": "circle"
         },
         "mode": "markers",
         "name": "104",
         "showlegend": true,
         "type": "scattergl",
         "x": [
          26.52313804626465,
          26.264657974243164
         ],
         "xaxis": "x",
         "y": [
          -5.4539408683776855,
          -5.535888671875
         ],
         "yaxis": "y"
        },
        {
         "hovertemplate": "<b>%{hovertext}</b><br><br>Cluster #=105<br>37D->2D TSNE1=%{x}<br>37D->2D TSNE2=%{y}<extra></extra>",
         "hovertext": [
          "V1.99 Cr1 Fe1 Co1 Ni1",
          "V1.5 Cr1 Fe1 Co1 Ni1"
         ],
         "legendgroup": "105",
         "marker": {
          "color": "#00A08B",
          "symbol": "circle"
         },
         "mode": "markers",
         "name": "105",
         "showlegend": true,
         "type": "scattergl",
         "x": [
          -47.735565185546875,
          -47.604942321777344
         ],
         "xaxis": "x",
         "y": [
          11.97295093536377,
          12.246901512145996
         ],
         "yaxis": "y"
        },
        {
         "hovertemplate": "<b>%{hovertext}</b><br><br>Cluster #=106<br>37D->2D TSNE1=%{x}<br>37D->2D TSNE2=%{y}<extra></extra>",
         "hovertext": [
          "Cr6 Fe1.4 Co2 Ni1.2 Cu1 Al8.4",
          "Cr5.5 Fe1 Co1 Ni1 Cu1 Al7.17",
          "Cr6.2 Fe1.6 Co2 Ni1.4 Cu1 Al7.8",
          "Cr5.17 Fe1.5 Co1.67 Ni1.33 Cu1 Al6"
         ],
         "legendgroup": "106",
         "marker": {
          "color": "#FB00D1",
          "symbol": "circle"
         },
         "mode": "markers",
         "name": "106",
         "showlegend": true,
         "type": "scattergl",
         "x": [
          -3.7349629402160645,
          -3.7192492485046387,
          -3.7382895946502686,
          -3.7464051246643066
         ],
         "xaxis": "x",
         "y": [
          -65.50663757324219,
          -65.18502807617188,
          -65.85379028320312,
          -66.1855239868164
         ],
         "yaxis": "y"
        },
        {
         "hovertemplate": "<b>%{hovertext}</b><br><br>Cluster #=107<br>37D->2D TSNE1=%{x}<br>37D->2D TSNE2=%{y}<extra></extra>",
         "hovertext": [
          "Ti2 Ta1 Nb1 V1 Mo1",
          "Ti1.5 Ta1 Nb1 V1 Mo1"
         ],
         "legendgroup": "107",
         "marker": {
          "color": "#FC0080",
          "symbol": "circle"
         },
         "mode": "markers",
         "name": "107",
         "showlegend": true,
         "type": "scattergl",
         "x": [
          37.824459075927734,
          37.63090515136719
         ],
         "xaxis": "x",
         "y": [
          17.827558517456055,
          18.044708251953125
         ],
         "yaxis": "y"
        },
        {
         "hovertemplate": "<b>%{hovertext}</b><br><br>Cluster #=108<br>37D->2D TSNE1=%{x}<br>37D->2D TSNE2=%{y}<extra></extra>",
         "hovertext": [
          "Ta1 Nb5 W5 Mo5 Re2.5 C1",
          "Ta1.2 Nb2 W2 Mo2 Re1 C1.2",
          "Ta1 Nb2 W2 Mo2 Re1 C1",
          "Ta1 Nb2.5 W2.5 Mo2.5 Re1.25 C1"
         ],
         "legendgroup": "108",
         "marker": {
          "color": "#B2828D",
          "symbol": "circle"
         },
         "mode": "markers",
         "name": "108",
         "showlegend": true,
         "type": "scattergl",
         "x": [
          42.07582473754883,
          41.80813217163086,
          41.84989547729492,
          41.91789245605469
         ],
         "xaxis": "x",
         "y": [
          49.69953536987305,
          48.43143081665039,
          48.590576171875,
          48.89911651611328
         ],
         "yaxis": "y"
        },
        {
         "hovertemplate": "<b>%{hovertext}</b><br><br>Cluster #=109<br>37D->2D TSNE1=%{x}<br>37D->2D TSNE2=%{y}<extra></extra>",
         "hovertext": [
          "Hf1.67 Zr1.67 Ti1.67 Ta1",
          "Hf2 Zr2 Ti2 Ta1",
          "Hf2.5 Zr2.5 Ti2.5 Ta1"
         ],
         "legendgroup": "109",
         "marker": {
          "color": "#6C7C32",
          "symbol": "circle"
         },
         "mode": "markers",
         "name": "109",
         "showlegend": true,
         "type": "scattergl",
         "x": [
          49.534751892089844,
          49.76998519897461,
          50.11275100708008
         ],
         "xaxis": "x",
         "y": [
          -53.88239288330078,
          -54.15345001220703,
          -54.36297607421875
         ],
         "yaxis": "y"
        },
        {
         "hovertemplate": "<b>%{hovertext}</b><br><br>Cluster #=110<br>37D->2D TSNE1=%{x}<br>37D->2D TSNE2=%{y}<extra></extra>",
         "hovertext": [
          "Ti3.33 Ni2.33 C1",
          "Ti5 Ni4 C1",
          "Ti2.5 Ni1.5 C1",
          "Ti10 Ni9 C1"
         ],
         "legendgroup": "110",
         "marker": {
          "color": "#778AAE",
          "symbol": "circle"
         },
         "mode": "markers",
         "name": "110",
         "showlegend": true,
         "type": "scattergl",
         "x": [
          15.735727310180664,
          15.523435592651367,
          15.893052101135254,
          15.35633373260498
         ],
         "xaxis": "x",
         "y": [
          -10.715096473693848,
          -10.562355995178223,
          -10.831910133361816,
          -10.44144344329834
         ],
         "yaxis": "y"
        },
        {
         "hovertemplate": "<b>%{hovertext}</b><br><br>Cluster #=111<br>37D->2D TSNE1=%{x}<br>37D->2D TSNE2=%{y}<extra></extra>",
         "hovertext": [
          "Ta1 Nb1 V1 W1 Mo1 Cr1",
          "Ta1.62 Nb1.57 V1 W1.56 Mo1.54 Cr1.47"
         ],
         "legendgroup": "111",
         "marker": {
          "color": "#862A16",
          "symbol": "circle"
         },
         "mode": "markers",
         "name": "111",
         "showlegend": true,
         "type": "scattergl",
         "x": [
          34.05729675292969,
          34.16942596435547
         ],
         "xaxis": "x",
         "y": [
          26.15244483947754,
          26.002944946289062
         ],
         "yaxis": "y"
        },
        {
         "hovertemplate": "<b>%{hovertext}</b><br><br>Cluster #=112<br>37D->2D TSNE1=%{x}<br>37D->2D TSNE2=%{y}<extra></extra>",
         "hovertext": [
          "Cr5.36 Mn31.09 Fe36 Ni10.18 Al6.73 C1",
          "Cr1 Mn5.8 Fe6.73 Ni1.88 Al1.25"
         ],
         "legendgroup": "112",
         "marker": {
          "color": "#A777F1",
          "symbol": "circle"
         },
         "mode": "markers",
         "name": "112",
         "showlegend": true,
         "type": "scattergl",
         "x": [
          -85.71336364746094,
          -85.7038803100586
         ],
         "xaxis": "x",
         "y": [
          35.07984924316406,
          35.0915412902832
         ],
         "yaxis": "y"
        },
        {
         "hovertemplate": "<b>%{hovertext}</b><br><br>Cluster #=113<br>37D->2D TSNE1=%{x}<br>37D->2D TSNE2=%{y}<extra></extra>",
         "hovertext": [
          "Cr2.4 Mn5.6 Fe7 Ni4 Al1",
          "Cr1.2 Mn2.3 Fe3.5 Ni2 Al1"
         ],
         "legendgroup": "113",
         "marker": {
          "color": "#620042",
          "symbol": "circle"
         },
         "mode": "markers",
         "name": "113",
         "showlegend": true,
         "type": "scattergl",
         "x": [
          -85.15625,
          -84.91409301757812
         ],
         "xaxis": "x",
         "y": [
          30.89821434020996,
          30.67397117614746
         ],
         "yaxis": "y"
        }
       ],
       "layout": {
        "legend": {
         "title": {
          "text": "Cluster #"
         },
         "tracegroupgap": 0
        },
        "margin": {
         "t": 60
        },
        "template": {
         "data": {
          "bar": [
           {
            "error_x": {
             "color": "#2a3f5f"
            },
            "error_y": {
             "color": "#2a3f5f"
            },
            "marker": {
             "line": {
              "color": "white",
              "width": 0.5
             },
             "pattern": {
              "fillmode": "overlay",
              "size": 10,
              "solidity": 0.2
             }
            },
            "type": "bar"
           }
          ],
          "barpolar": [
           {
            "marker": {
             "line": {
              "color": "white",
              "width": 0.5
             },
             "pattern": {
              "fillmode": "overlay",
              "size": 10,
              "solidity": 0.2
             }
            },
            "type": "barpolar"
           }
          ],
          "carpet": [
           {
            "aaxis": {
             "endlinecolor": "#2a3f5f",
             "gridcolor": "#C8D4E3",
             "linecolor": "#C8D4E3",
             "minorgridcolor": "#C8D4E3",
             "startlinecolor": "#2a3f5f"
            },
            "baxis": {
             "endlinecolor": "#2a3f5f",
             "gridcolor": "#C8D4E3",
             "linecolor": "#C8D4E3",
             "minorgridcolor": "#C8D4E3",
             "startlinecolor": "#2a3f5f"
            },
            "type": "carpet"
           }
          ],
          "choropleth": [
           {
            "colorbar": {
             "outlinewidth": 0,
             "ticks": ""
            },
            "type": "choropleth"
           }
          ],
          "contour": [
           {
            "colorbar": {
             "outlinewidth": 0,
             "ticks": ""
            },
            "colorscale": [
             [
              0,
              "#0d0887"
             ],
             [
              0.1111111111111111,
              "#46039f"
             ],
             [
              0.2222222222222222,
              "#7201a8"
             ],
             [
              0.3333333333333333,
              "#9c179e"
             ],
             [
              0.4444444444444444,
              "#bd3786"
             ],
             [
              0.5555555555555556,
              "#d8576b"
             ],
             [
              0.6666666666666666,
              "#ed7953"
             ],
             [
              0.7777777777777778,
              "#fb9f3a"
             ],
             [
              0.8888888888888888,
              "#fdca26"
             ],
             [
              1,
              "#f0f921"
             ]
            ],
            "type": "contour"
           }
          ],
          "contourcarpet": [
           {
            "colorbar": {
             "outlinewidth": 0,
             "ticks": ""
            },
            "type": "contourcarpet"
           }
          ],
          "heatmap": [
           {
            "colorbar": {
             "outlinewidth": 0,
             "ticks": ""
            },
            "colorscale": [
             [
              0,
              "#0d0887"
             ],
             [
              0.1111111111111111,
              "#46039f"
             ],
             [
              0.2222222222222222,
              "#7201a8"
             ],
             [
              0.3333333333333333,
              "#9c179e"
             ],
             [
              0.4444444444444444,
              "#bd3786"
             ],
             [
              0.5555555555555556,
              "#d8576b"
             ],
             [
              0.6666666666666666,
              "#ed7953"
             ],
             [
              0.7777777777777778,
              "#fb9f3a"
             ],
             [
              0.8888888888888888,
              "#fdca26"
             ],
             [
              1,
              "#f0f921"
             ]
            ],
            "type": "heatmap"
           }
          ],
          "heatmapgl": [
           {
            "colorbar": {
             "outlinewidth": 0,
             "ticks": ""
            },
            "colorscale": [
             [
              0,
              "#0d0887"
             ],
             [
              0.1111111111111111,
              "#46039f"
             ],
             [
              0.2222222222222222,
              "#7201a8"
             ],
             [
              0.3333333333333333,
              "#9c179e"
             ],
             [
              0.4444444444444444,
              "#bd3786"
             ],
             [
              0.5555555555555556,
              "#d8576b"
             ],
             [
              0.6666666666666666,
              "#ed7953"
             ],
             [
              0.7777777777777778,
              "#fb9f3a"
             ],
             [
              0.8888888888888888,
              "#fdca26"
             ],
             [
              1,
              "#f0f921"
             ]
            ],
            "type": "heatmapgl"
           }
          ],
          "histogram": [
           {
            "marker": {
             "pattern": {
              "fillmode": "overlay",
              "size": 10,
              "solidity": 0.2
             }
            },
            "type": "histogram"
           }
          ],
          "histogram2d": [
           {
            "colorbar": {
             "outlinewidth": 0,
             "ticks": ""
            },
            "colorscale": [
             [
              0,
              "#0d0887"
             ],
             [
              0.1111111111111111,
              "#46039f"
             ],
             [
              0.2222222222222222,
              "#7201a8"
             ],
             [
              0.3333333333333333,
              "#9c179e"
             ],
             [
              0.4444444444444444,
              "#bd3786"
             ],
             [
              0.5555555555555556,
              "#d8576b"
             ],
             [
              0.6666666666666666,
              "#ed7953"
             ],
             [
              0.7777777777777778,
              "#fb9f3a"
             ],
             [
              0.8888888888888888,
              "#fdca26"
             ],
             [
              1,
              "#f0f921"
             ]
            ],
            "type": "histogram2d"
           }
          ],
          "histogram2dcontour": [
           {
            "colorbar": {
             "outlinewidth": 0,
             "ticks": ""
            },
            "colorscale": [
             [
              0,
              "#0d0887"
             ],
             [
              0.1111111111111111,
              "#46039f"
             ],
             [
              0.2222222222222222,
              "#7201a8"
             ],
             [
              0.3333333333333333,
              "#9c179e"
             ],
             [
              0.4444444444444444,
              "#bd3786"
             ],
             [
              0.5555555555555556,
              "#d8576b"
             ],
             [
              0.6666666666666666,
              "#ed7953"
             ],
             [
              0.7777777777777778,
              "#fb9f3a"
             ],
             [
              0.8888888888888888,
              "#fdca26"
             ],
             [
              1,
              "#f0f921"
             ]
            ],
            "type": "histogram2dcontour"
           }
          ],
          "mesh3d": [
           {
            "colorbar": {
             "outlinewidth": 0,
             "ticks": ""
            },
            "type": "mesh3d"
           }
          ],
          "parcoords": [
           {
            "line": {
             "colorbar": {
              "outlinewidth": 0,
              "ticks": ""
             }
            },
            "type": "parcoords"
           }
          ],
          "pie": [
           {
            "automargin": true,
            "type": "pie"
           }
          ],
          "scatter": [
           {
            "fillpattern": {
             "fillmode": "overlay",
             "size": 10,
             "solidity": 0.2
            },
            "type": "scatter"
           }
          ],
          "scatter3d": [
           {
            "line": {
             "colorbar": {
              "outlinewidth": 0,
              "ticks": ""
             }
            },
            "marker": {
             "colorbar": {
              "outlinewidth": 0,
              "ticks": ""
             }
            },
            "type": "scatter3d"
           }
          ],
          "scattercarpet": [
           {
            "marker": {
             "colorbar": {
              "outlinewidth": 0,
              "ticks": ""
             }
            },
            "type": "scattercarpet"
           }
          ],
          "scattergeo": [
           {
            "marker": {
             "colorbar": {
              "outlinewidth": 0,
              "ticks": ""
             }
            },
            "type": "scattergeo"
           }
          ],
          "scattergl": [
           {
            "marker": {
             "colorbar": {
              "outlinewidth": 0,
              "ticks": ""
             }
            },
            "type": "scattergl"
           }
          ],
          "scattermapbox": [
           {
            "marker": {
             "colorbar": {
              "outlinewidth": 0,
              "ticks": ""
             }
            },
            "type": "scattermapbox"
           }
          ],
          "scatterpolar": [
           {
            "marker": {
             "colorbar": {
              "outlinewidth": 0,
              "ticks": ""
             }
            },
            "type": "scatterpolar"
           }
          ],
          "scatterpolargl": [
           {
            "marker": {
             "colorbar": {
              "outlinewidth": 0,
              "ticks": ""
             }
            },
            "type": "scatterpolargl"
           }
          ],
          "scatterternary": [
           {
            "marker": {
             "colorbar": {
              "outlinewidth": 0,
              "ticks": ""
             }
            },
            "type": "scatterternary"
           }
          ],
          "surface": [
           {
            "colorbar": {
             "outlinewidth": 0,
             "ticks": ""
            },
            "colorscale": [
             [
              0,
              "#0d0887"
             ],
             [
              0.1111111111111111,
              "#46039f"
             ],
             [
              0.2222222222222222,
              "#7201a8"
             ],
             [
              0.3333333333333333,
              "#9c179e"
             ],
             [
              0.4444444444444444,
              "#bd3786"
             ],
             [
              0.5555555555555556,
              "#d8576b"
             ],
             [
              0.6666666666666666,
              "#ed7953"
             ],
             [
              0.7777777777777778,
              "#fb9f3a"
             ],
             [
              0.8888888888888888,
              "#fdca26"
             ],
             [
              1,
              "#f0f921"
             ]
            ],
            "type": "surface"
           }
          ],
          "table": [
           {
            "cells": {
             "fill": {
              "color": "#EBF0F8"
             },
             "line": {
              "color": "white"
             }
            },
            "header": {
             "fill": {
              "color": "#C8D4E3"
             },
             "line": {
              "color": "white"
             }
            },
            "type": "table"
           }
          ]
         },
         "layout": {
          "annotationdefaults": {
           "arrowcolor": "#2a3f5f",
           "arrowhead": 0,
           "arrowwidth": 1
          },
          "autotypenumbers": "strict",
          "coloraxis": {
           "colorbar": {
            "outlinewidth": 0,
            "ticks": ""
           }
          },
          "colorscale": {
           "diverging": [
            [
             0,
             "#8e0152"
            ],
            [
             0.1,
             "#c51b7d"
            ],
            [
             0.2,
             "#de77ae"
            ],
            [
             0.3,
             "#f1b6da"
            ],
            [
             0.4,
             "#fde0ef"
            ],
            [
             0.5,
             "#f7f7f7"
            ],
            [
             0.6,
             "#e6f5d0"
            ],
            [
             0.7,
             "#b8e186"
            ],
            [
             0.8,
             "#7fbc41"
            ],
            [
             0.9,
             "#4d9221"
            ],
            [
             1,
             "#276419"
            ]
           ],
           "sequential": [
            [
             0,
             "#0d0887"
            ],
            [
             0.1111111111111111,
             "#46039f"
            ],
            [
             0.2222222222222222,
             "#7201a8"
            ],
            [
             0.3333333333333333,
             "#9c179e"
            ],
            [
             0.4444444444444444,
             "#bd3786"
            ],
            [
             0.5555555555555556,
             "#d8576b"
            ],
            [
             0.6666666666666666,
             "#ed7953"
            ],
            [
             0.7777777777777778,
             "#fb9f3a"
            ],
            [
             0.8888888888888888,
             "#fdca26"
            ],
            [
             1,
             "#f0f921"
            ]
           ],
           "sequentialminus": [
            [
             0,
             "#0d0887"
            ],
            [
             0.1111111111111111,
             "#46039f"
            ],
            [
             0.2222222222222222,
             "#7201a8"
            ],
            [
             0.3333333333333333,
             "#9c179e"
            ],
            [
             0.4444444444444444,
             "#bd3786"
            ],
            [
             0.5555555555555556,
             "#d8576b"
            ],
            [
             0.6666666666666666,
             "#ed7953"
            ],
            [
             0.7777777777777778,
             "#fb9f3a"
            ],
            [
             0.8888888888888888,
             "#fdca26"
            ],
            [
             1,
             "#f0f921"
            ]
           ]
          },
          "colorway": [
           "#636efa",
           "#EF553B",
           "#00cc96",
           "#ab63fa",
           "#FFA15A",
           "#19d3f3",
           "#FF6692",
           "#B6E880",
           "#FF97FF",
           "#FECB52"
          ],
          "font": {
           "color": "#2a3f5f"
          },
          "geo": {
           "bgcolor": "white",
           "lakecolor": "white",
           "landcolor": "white",
           "showlakes": true,
           "showland": true,
           "subunitcolor": "#C8D4E3"
          },
          "hoverlabel": {
           "align": "left"
          },
          "hovermode": "closest",
          "mapbox": {
           "style": "light"
          },
          "paper_bgcolor": "white",
          "plot_bgcolor": "white",
          "polar": {
           "angularaxis": {
            "gridcolor": "#EBF0F8",
            "linecolor": "#EBF0F8",
            "ticks": ""
           },
           "bgcolor": "white",
           "radialaxis": {
            "gridcolor": "#EBF0F8",
            "linecolor": "#EBF0F8",
            "ticks": ""
           }
          },
          "scene": {
           "xaxis": {
            "backgroundcolor": "white",
            "gridcolor": "#DFE8F3",
            "gridwidth": 2,
            "linecolor": "#EBF0F8",
            "showbackground": true,
            "ticks": "",
            "zerolinecolor": "#EBF0F8"
           },
           "yaxis": {
            "backgroundcolor": "white",
            "gridcolor": "#DFE8F3",
            "gridwidth": 2,
            "linecolor": "#EBF0F8",
            "showbackground": true,
            "ticks": "",
            "zerolinecolor": "#EBF0F8"
           },
           "zaxis": {
            "backgroundcolor": "white",
            "gridcolor": "#DFE8F3",
            "gridwidth": 2,
            "linecolor": "#EBF0F8",
            "showbackground": true,
            "ticks": "",
            "zerolinecolor": "#EBF0F8"
           }
          },
          "shapedefaults": {
           "line": {
            "color": "#2a3f5f"
           }
          },
          "ternary": {
           "aaxis": {
            "gridcolor": "#DFE8F3",
            "linecolor": "#A2B1C6",
            "ticks": ""
           },
           "baxis": {
            "gridcolor": "#DFE8F3",
            "linecolor": "#A2B1C6",
            "ticks": ""
           },
           "bgcolor": "white",
           "caxis": {
            "gridcolor": "#DFE8F3",
            "linecolor": "#A2B1C6",
            "ticks": ""
           }
          },
          "title": {
           "x": 0.05
          },
          "xaxis": {
           "automargin": true,
           "gridcolor": "#EBF0F8",
           "linecolor": "#EBF0F8",
           "ticks": "",
           "title": {
            "standoff": 15
           },
           "zerolinecolor": "#EBF0F8",
           "zerolinewidth": 2
          },
          "yaxis": {
           "automargin": true,
           "gridcolor": "#EBF0F8",
           "linecolor": "#EBF0F8",
           "ticks": "",
           "title": {
            "standoff": 15
           },
           "zerolinecolor": "#EBF0F8",
           "zerolinewidth": 2
          }
         }
        },
        "xaxis": {
         "anchor": "y",
         "domain": [
          0,
          1
         ],
         "title": {
          "text": "37D->2D TSNE1"
         }
        },
        "yaxis": {
         "anchor": "x",
         "domain": [
          0,
          1
         ],
         "title": {
          "text": "37D->2D TSNE2"
         }
        }
       }
      }
     },
     "metadata": {},
     "output_type": "display_data"
    }
   ],
   "source": [
    "allD.showClustersDBSCAN()"
   ]
  },
  {
   "cell_type": "code",
   "execution_count": 27,
   "metadata": {
    "ExecuteTime": {
     "end_time": "2023-03-28T14:50:57.642106Z",
     "start_time": "2023-03-28T14:50:57.607665Z"
    },
    "collapsed": false
   },
   "outputs": [
    {
     "data": {
      "application/vnd.plotly.v1+json": {
       "config": {
        "plotlyServerURL": "https://plot.ly"
       },
       "data": [
        {
         "hovertemplate": "<b>%{hovertext}</b><br><br>Classification=outlier<br>37D->2D TSNE1=%{x}<br>37D->2D TSNE2=%{y}<extra></extra>",
         "hovertext": [
          "Cr5 Fe1 Co13 Ni1",
          "Ta1.5 V1 W8.5 Re1",
          "Ti1 Nb1 W3 Re1",
          "Ta2 W2 Mo1 Re1",
          "Cr1 Mn4 Fe4 Co1",
          "Hf1 Zr1 Ti1.5 Nb1 Mo1",
          "Ta3 Nb1 W1 Mo1",
          "Ti1 Ta1 V1 W1 Cr1",
          "Ti1.67 Ta1.67 V1.67 Mo1.67 Al1",
          "Zr2 Ti1 Nb1 V2",
          "Nb2 W2 Mo2 Re1",
          "Ta1 Nb1 V1 Mo1",
          "Hf1 Zr1.5 Ti1 Nb1 Mo1",
          "Hf4 Zr4 Ti3 Ta1 Nb4",
          "Nd1 Fe1 Co1 Ni1 Cu1 Al1",
          "W1.5 Mo6.33 Co1 Ni1.83 Al6",
          "Ti6 Nb2 V4 Ni1 Al1",
          "Cr1 Mn1 Co1 Ni1",
          "Hf1.5 Ta3 Nb1 V6.5",
          "Cr1.8 Mn2.2 Fe5 Ni1",
          "Ti1 Nb1 Ag1 Zn1 Al1",
          "Zr1 Ti1 Ta1 Nb1 V1",
          "Cr1 Mn3 Fe5 Ni1",
          "Ti1 Ni1 Cu1 Al1",
          "V1 W3 Mo1 Ru1",
          "Li7 Ca2 Mg7 Al3 Si1",
          "Ti1 V23 Cr1",
          "Cr1 Fe1 Co1 Ni1 Ge1",
          "Zr0.09 Ti1 Mo97.63 B14.23 C3.33",
          "Cr2 Fe2 Ni2 Cu1 Al2",
          "V2.5 Mo1 Fe5 Co5 Ni10",
          "V1 Mo1 Cr1 Fe1",
          "Ti1 Nb1 V1 Cr1 Ni1",
          "Cr1 Fe2 Co1 Ni1",
          "Ti1 Ta1.67 V2.67 W2.67",
          "V1 W2 Cr2 Fe2 Ni2",
          "Hf1 Zr1 Ti1 Ta1 Nb1 V1 Mo1",
          "Li2.5 Mg5 Cu2.5 Al5 Sn1",
          "W1 Cr1.17 Fe1.17 Co1.17 Ni1.17 C1",
          "Zr2 Ti2 Ta1 Nb2 Mo1 Cr2",
          "Ti1 Cr1 Ni1 Cu1 Al1",
          "Ta1 Nb3 W1 Ru1",
          "V1 Cr2 Fe2 Co2 Ni2",
          "Ti1 Ta1 Nb1",
          "Hf1 Zr1 Ti1 Ta1 V1",
          "Hf1 Ti1 Ta1 Nb1",
          "Ti1 Nb1 W1 Re1",
          "Ti1 Fe1 Co1 Ni1 Al1",
          "Zr1 Ti3 Ta1 Nb3 Al2",
          "Ti1 Fe1 Co1 Ni1 Cu1",
          "Hf1 Ta5.5 Nb2 V3.5",
          "Nb10 V10 Mo10 Cr10 Al1",
          "Cr1 Fe1 Co1 Ni1 Sn1",
          "Hf1 Zr1 Nb1 V1 Mo1",
          "Zr1 Ti30 Nb54 Al15",
          "Zr1 Ti1 Nb1 Cr1",
          "Ta1 W6.5 Mo1.5 Re3",
          "Ta1 Nb1 V1 W1 Mo1 Cr1 Re1",
          "Hf1 Zr2 Ti2 Nb2 Mo2",
          "Ti1 Mo1 Cr1 Al1",
          "Ta1 V1 W1 Mo1 Cr1",
          "Hf1 Zr1 Ta1 Nb1 Mo1",
          "Cr1.99 Fe1 Co1 Ni1 Al1",
          "Ti1 Cr2 Fe2 Co1 Ni2",
          "Ti1 Nb1 W2",
          "Nb7.5 Fe1 Co1 Ni1 Cu1",
          "Co2.5 Ni2.5 Cu1.5 Al1",
          "Hf1 Zr1 Ti1 Nb1 V1",
          "Cr1 Fe1 Co1 Ni4 Al1",
          "Ta3.5 Nb1 V2.5 W5",
          "Ti1 Nb1 V1 Cr1.5 Al1",
          "Ti1 Fe2 Co2 Ni2 Al1",
          "Zr1 Ti1 V1 Cr1 Fe1 Co1 Ni1 Al1",
          "Ti1 Cr3.33 Fe3.33 Co5 Ni3.33 Al1.33",
          "Ta1 W2 Mo2 Ru1",
          "Ti1 W2 Re1",
          "Zr1.5 Ti1 Nb1 V1 Al1",
          "Ta3 V2.5 W5.5 Mo1",
          "Nb8 W2.33 Cr1 Co11 Al11",
          "Ta1 Nb1 W1 Mo1 Re1",
          "Ti1 Nb1 W1 Cr1",
          "Ta1 V1 W9 Mo1",
          "Ta1.87 Nb1.87 W1.93 Mo1",
          "Cr1 Mn1 Fe1 Co1",
          "Ta1.43 Nb1.38 V1 W1.02",
          "V2 Fe2 Co2 Ni2 Cu1",
          "Ti1 Cr3.33 Fe3.33 Ni6.67",
          "Hf1 Zr1 Ti1 Nb1 O1",
          "Ti1 V1 Cr1 Mn1 Fe1 Co1 Ni1 Cu1 Al5.33",
          "Hf4 Zr4 Ti1 Ta3 Nb4",
          "Cr1 Co9.5 Ni9.5",
          "Hf2.5 Zr3 Ti2 Nb1.5 V1",
          "Hf1 Zr1 Ti1",
          "Ta1 Nb1 W1.9 Mo1",
          "Ti1 Ta1 Nb1 V1 Mo1",
          "Ta1.5 W8 Re1.5 Ru1",
          "Zr1 Ti1 Ta1 Nb1 V1 W1 Mo1 Cr1",
          "Nb1 W1 Mo1",
          "Zr1 Ti1 Nb1 Al1",
          "Hf1 Zr1 Ti1 W1 Mo1",
          "Zr1 Ti1 Ta1 Nb1 V1 Mo1 Cr1",
          "Zr0.08 Ti1 Mo94.25 B35.44 C8.1",
          "Ti3.37 Nb1.79 V1 Cr1.79",
          "Zr1 Ti1 V1 Mo1 Cr1 Fe1 Co1 Ni1",
          "Ti1 Ta1.52 Nb1.36 V1.04 W1.08",
          "Ti1 Ta1 Nb1 V1 Al1",
          "V1 Co1 Ni1",
          "Cr1 Mn1 Fe1 Co1 Ni1 C1",
          "Be2.25 Zr4.12 Ti1.38 Ni1 Cu1.25",
          "V1 Cr1 Fe1 Co1 Ni1",
          "Ti1 Ta1 Mo1 Cr1",
          "Ti4.5 Nb1 Al4.5",
          "Ti1 Ta1 Nb1 Mo1",
          "Zr1 Ti1 V1 Fe1 Ni1 Al1",
          "Zr1 Ti1 Ta1",
          "Zr3.09 Ti69.8 Nb1.27 W1.2 Mo1 Al5.26 Sn3.49 Si0.37",
          "Ti1.33 Ta4.67 V1 W1",
          "Mo1 Cr1 Fe1 Ni1 Cu1",
          "Hf1.5 Zr1 Ti1 Nb1 Mo1",
          "V1 W1 Mo1 Ru1",
          "Ti1 Nb1 Mo1 Cr1 Co1",
          "Ti1 Nb2 W2",
          "W4.54 Cr1 Ni3.38 B2.42",
          "Cr2 Fe1 Co2 Ni2 Cu1 Al2",
          "Ta1 W1 Mo1 Ru1",
          "Ti1 Cr1.33 Fe2.5 Co4.17 Ni6 Al1.67",
          "Hf2 Zr1 Ti2 Nb2 Mo2",
          "Hf2 Ti13 Nb25.5 Cr1 Al1 Si7.5",
          "Zr30.5 Ti1 Cu12.5 Al6",
          "Cr3.2 Fe3.2 Co1.4 Ni1 Cu1.8 Al9.4",
          "Zr2 W1 C2",
          "Zr1 Ti1 V1 Mo1 Fe1 Co1 Ni1",
          "Zr1 Ti2 Nb1 V1",
          "Cr1 Fe1 Co1.99 Ni1 Al1",
          "Ti2 Nb1 W1",
          "Hf1 Ti5 Ta5 V1",
          "Ta1 Nb1 Mo1",
          "Ti9.75 Ta1 Nb7.75 W1 Co5.5",
          "Hf1 Zr1.6 Ti2.22 Ta3.85 Nb3.85",
          "Ti1 V1 Cr1 Fe1 Ni1 Cu1",
          "Ti1 Nb2 W2 Re1",
          "Hf1 Cr14.14 Co7.94 Ni56.1 Al24.65 C0 N0 O0.12",
          "Nb1 W3 Mo1 Ru1",
          "V1 W3 Mo5 Re3",
          "Ti1 Cr1 Co1 Ni1 Cu1 Al1",
          "Ta1 Nb1 W9 Re1",
          "Zr1 Ti1 Ta1 Nb1 Mo1",
          "Hf1 Ti1 Nb1",
          "Ti2 Nb2 Mo2 Cr2 Al1",
          "Y1 Mo7 Cr7.5 Fe20.5 Co3.5 B3 C7.5",
          "Ta5 W1 Fe3 Ni7",
          "Zr1 Ti1 V1 Mo1 Fe1 Ni1",
          "Ti4 Nb2 V1 Cr2 Al1",
          "Cr1 Fe1 Ni1 Cu1.99 Al1",
          "Hf1 Zr1 Ti1 Nb3",
          "Zr1 Ta1 Nb1",
          "Mo4.5 Ni4.5 B1.11 Si1",
          "Hf0.2 Ti1 Ta10 W10 Mo2 Cr8 Re8 Ru8 Ni140.6 Al12 Si0.2",
          "Cr1 Fe1 Ni3 Cu1 Al1",
          "Zr1 Ti3.3 Nb3.3 V1.98 Mo3.3 Cr1 Al1.98",
          "Zr1 Ti3.35 Nb3.35 V2.01 Mo3.35 Cr1",
          "Ta1.5 W8 Mo1.5 Re1",
          "Hf1 Zr1 Ti1 V1 Mo1",
          "Mo1 Cr1.5 Fe2 Co3.5 Ni2",
          "Ti1.5 Ta1 Cr1.83 Co2 Ni2",
          "Cr4 Mn4 Fe4 Ni4 Cu2 Al1",
          "Ti1 Nb1 Mo1 Al1",
          "Zr1 Ti1 Nb1 W1 Mo1",
          "Ti1 W1 Mo1",
          "Ti1 Nb1 V1 Cr1 Ni1 Al7",
          "W1.33 Cr1 Mn1 Fe1 Co1 Ni1",
          "Cr2.01 Fe1 Co2.01 Ni2.01 Cu1 Al6.04",
          "Zr2 Ti2 Nb1 V1",
          "Ta1 W3 Mo1 Re1",
          "W12 Cr1 Fe1.29",
          "Cr1 Co1 Ni1 Cu1 Zn1",
          "Nb1 V1 Mo1 Cr1 Fe1",
          "Zr3.8 Ti4.22 Ta5.78 Nb5.2 Al1",
          "Ti1 Ta1 Nb1 Cr1",
          "Cr1 Mn1 Fe1 Co1 Ni1 Cu1 Al1",
          "Fe1 Co1 Ni1",
          "Mn1 Co1 Ni1",
          "Zr1 Ti1 V1 Fe1 Co1 Ni1 Cu1",
          "Ti9.33 B3 Si1",
          "Cr6.72 Mn6.72 Fe6.72 Ni10.09 Cu1",
          "Ta4 V1.33 W1.67 Mo1",
          "Zr1 Ti1 Nb1 V1 W1 Mo1 Cr1",
          "W1 Mo1 Cr2 Co4 Ni4",
          "Ti1 W1 Mo1 Cr1 Al1",
          "Cr1 Mn1 Fe1 Ni1 Cu1 Al1.5",
          "Ta2.33 Co1 Ni2.22",
          "Zr3.33 Ti5 Nb3.33 Al1",
          "Ti1 Ta1 V1 Mo1 Al1",
          "Zr1 Ti1 V1 Cr1 Fe1 Co1 Ni1 Cu1",
          "Hf1 Zr2 Ti3 Ta1 Nb1",
          "Zr1 Ti1 Nb1 V1 Cr1",
          "Zr1 Ti4 Nb3 Cr2",
          "Hf1 Zr1 Ti1 Ta1 Nb1 W1",
          "Cr2.01 Fe2.01 Co1 Ni2.01 Cu1 Al6.04",
          "Ta1 V1 W1 Mo1",
          "Zr1 Ti1.33 Nb1",
          "Cr2 Fe1 Co2 Ni2 Cu2 Al2",
          "Zr8 Ti6 Ta1 Nb3 Al2",
          "Zr10 Ti8 Ni29.5 Sn1.5 Si1",
          "Cr1 Fe1 Co2.01 Ni3.01 Cu1 Al6.04",
          "Cr1 Fe1 Co1 Ni1 Al6",
          "Hf2 Ti2 Nb2 V2 Si1",
          "Mo1 Cr2 Fe2 Co1 Ni2 Al2",
          "Ti1 Nb1 Mo1 Cr1 Al1",
          "Hf1 Zr1 Ti1 Nb1 Cr1",
          "Ta1 W3 Mo1 Ru1",
          "Ta1 W1 Mo1",
          "Hf1.5 Ti2.5 Ta1 V7",
          "Hf1 Zr1 Ti1 Nb1 Mo1",
          "Ti1 Nb1 V1 Mo1 Fe1",
          "Ta1 Nb2 W2 Ru1",
          "Ti1 Nb2 Ru1",
          "Ti1 V1 Mo1 Cr1 Fe1",
          "Zr1 Ti1 Nb1 V1 Al1",
          "Ti1 Ta1 V1 W1",
          "Hf1.5 Zr2.5 Ti3 Ta1 Nb2",
          "Ti1 Nb1 W1 Ru1",
          "Ti1 Ta1 Nb1 V1 W1",
          "Mo3.62 Ni3.08 Si1",
          "Hf1 Zr1 Ti1 Ta1 Mo1",
          "Fe1 Co1 Ni3 Cu1 Al1",
          "Hf1 Ta1 Nb1",
          "Cr2 Fe2 Co2 Ni1 Cu2 Al2",
          "Ti1 Cr3.33 Fe3.33 Co1.67 Ni5",
          "Ti1.5 V1 Fe1 Co1 Ni1 Cu1",
          "Ti1 Co1 Ni1 Al1",
          "Ta2.5 Nb2.5 V1 W4 Mo2.5",
          "Zr1 Ti3.35 Nb3.35 Mo3.35 Cr1",
          "Cr2.5 Fe1 Co5.5 Ni1",
          "Hf1 Ti4 Ta2.5 V4.5",
          "Hf1 Ti1 Nb1 Al1",
          "Ta1 Nb1 W3 Mo1",
          "Cr1 Fe1 Co1 Cu1",
          "Cr1.2 Fe6.2 Co2.2 Ni1 Cu1.8 Al7.6",
          "Zr0 Ta38.86 Nb0.06 W1 Mo0 Fe0.08 C0 N0 O0",
          "Mo4.14 B1 Si2",
          "Ti1 V2 Fe2 Co2 Ni2 Cu1",
          "W1.2 Cr1 Ni3.38 B2.42",
          "Ti1 Ta4 V5 W2",
          "Hf1 Zr1 Ti1 Ta1 C4",
          "Hf0.02 Cr1.91 Fe4.85 Co1 Ni5.09 Al6",
          "Cr1 Fe2 Co2 Ni2 Cu2 Al2",
          "Mo1 Cr3.33 Fe1 Co5.67 Ni5.67",
          "Ti1 Cr2 Fe1.89 Ni3.67 Al2",
          "Ta8 Ir7 Ni4 B1",
          "Ta1 W1 Mo1 Re1",
          "Fe12.33 Co8.52 Ni8.52 Al6.7 C1",
          "Ti1 Nb2 Cr2 Al45",
          "Hf1 Ti1 Ta1 Al1",
          "Fe1.05 Co1.05 Ni2.16 Al1",
          "Ti1 Ta1 Nb1 V1 W1 Mo1",
          "Cr2 Fe2 Co1 Ni2 Cu1 Al2",
          "Hf2 Zr1 Ti1 Nb2",
          "Li2.5 Mg5 Zn2.5 Al5 Sn1",
          "Cr1 Fe2.99 Co1.99 Ni1 Cu1.99 Al5.97",
          "Li1 Mg1 Zn1 Al1 Sn1",
          "Hf1 Zr1 Ti1 Nb1.5 Mo1",
          "Ti2 Mo2 Cr2 Fe2 Co2 Ni2 Cu2 Al2 B1 Si2",
          "Ti1 W1 Re1",
          "Ti1 V2 Mo2 Cr2 Fe2",
          "Hf1 Zr1 Ti1 Nb1 Mo1.5",
          "Sc1 Hf1 Zr1 Ti1",
          "Cr1 Co2 Ni2",
          "Ti1 Ta1 Mo1",
          "Y1.67 Zr1.67 Ta1.67 Mo14.67 Fe1 Co4 Si8.67",
          "Ti22 Nb10.5 Cr10.5 Co6 Ni1",
          "Hf1 W7.5 Re2.5 Ru1",
          "Zr1 Ti1 Nb1 V2",
          "Zr1 Ti4 Nb1.5 Cr2 Al1.5",
          "Nb1 V1 W3 Ru1",
          "Ti1 Nb1 Mo1 Cr1",
          "Hf1 Zr1 Ti1 Ta1 Nb1 W1 Mo1",
          "Ti1 Ta1 Nb1 Al1",
          "Hf2.5 Zr2.5 Ti1.14 Ta1",
          "Hf1.6 Ti2.53 Nb1.53 V1",
          "Ti1 V1 Cr1 Mn1 Fe1 Co1 Ni1 Cu1 Al2",
          "Zr3.5 Ti4.5 Ta1 Al1",
          "Ti1 Nb2 W2 Ru1",
          "Li2 Mg1 Sc2 Ti3 Al2",
          "Mn4 Fe4 Co1 Ni1",
          "Li6 Ca1 Mg7 Y0.02 Al3.98 Si2",
          "Ti1 Fe1 Co1 Ni1 Cu1 Al1",
          "Ti1 Ta1 W1 Mo1",
          "Ti1 Ta1 W1",
          "Ti1 Nb1 Mo1",
          "W1 Ir22 Al2",
          "Zr1 Ti1 V1 Fe1 Co1 Ni1 Al1",
          "Zr1 Ti1 Ta1 V1 Mo1",
          "Zr1 Ti1 Nb1 Cr3",
          "Zr1 Ti1 V1 Fe1 Ni1 Cu1",
          "Zr3 Ti2 Ta2 Nb1",
          "Ti1 Nb1 V1 Cr1 Ni1 Al10",
          "Ti3.44 Nb2.06 V1 Cr1 Ni1.5 Al1",
          "Mo1 Cr1 Fe1 Co1 Ni1 Al1",
          "Nb2 V2 Mo2 Cr2 Al1",
          "Cr1 Fe1 Ni1.99 Cu1.59 Al1",
          "Hf1.15 Ti9.85 Nb31.31 W1 Mo3.62 Cr2.08 Al3.54 Sn3.85 Ge4.54 Si16",
          "Zr1 Ti1 Ta1 Nb1 V1 Mo1",
          "Zr1 Fe1 Co1 Ni1 Cu1 Al1",
          "Ti1 Nb1 Mo1 Cr1 Fe1",
          "Mn1 Fe1 Co1 Ni1",
          "Zr2 Ti2 Ta1 Nb2 Al1",
          "Ti1 Nb3 W1 Ru1",
          "Zr1 Ta2.13 Ru3.53",
          "Ti1 Cr1 Fe1 Co1 Ni1",
          "Li2.5 Mg5 Cu1 Zn2.5 Al5",
          "Cr1 Fe1 Co3.01 Ni2.01 Cu1 Al6.04",
          "Ta1 V1.33 W4 Mo1.67",
          "Mo1 Cr2 Fe2 Co2 Al2",
          "Ta1 Nb1 W9 Mo1",
          "Ti1 Nb1 V1 Cr1 Ni1 Al5",
          "Cr3.33 Fe3.33 Ni6.67 Cu1.67 Al1",
          "Mo1 Cr2 Fe2 Co2 Ni2 Al1",
          "Y1 Hf1 Zr1 Ti1",
          "Cr1 Fe3.99 Co1 Ni1",
          "Cr1 Fe1 Co1 Ni1.99 Cu1",
          "Cr1 Fe1 Co1 Ni1 Ga1",
          "Ti1.89 Mo1.89 Cr1.89 Al1",
          "Cr1 Fe2.99 Co1 Ni1",
          "Ta2 Nb2 W1 Mo1",
          "Nb1 Mo1 Cr1 Al1",
          "Ti1 Nb1 Ru1",
          "Cr1 Mn1.06 Fe1.75 Co1.83 Ni1.81",
          "Hf1 Zr1 Ti1 Ta1",
          "Cr3.21 Co1 Ni7.21 Cu7.14 Si2",
          "V3 W5.5 Re2.5 Ru1",
          "W1 Cr1.62 Mn1.62 Fe1.62 Co1.62 N1.62",
          "Ti32 Ta1 Nb9 Cr19 Co39",
          "Hf1 Zr1 Nb1",
          "Mn1 Fe1 Ni1",
          "Cr1.67 Fe1 Co3 Ni1",
          "Nb2 V1 W2 Ru1",
          "Hf1 Zr1 Ti1 Ta1 Nb1 V1 N1",
          "Ti6 Nb35 V1 Cr8 Al5",
          "Cr2 Fe2 Co2 Ni1 Cu1 Al2",
          "Ti1 V1 Mo1 Cr1 Al1",
          "Ti1 Nb1 W3 Ru1",
          "Hf1 Ti1 Ta1 Nb1 Mo1",
          "Cr2 Fe2 Co1 Ni2 Cu2 Al2",
          "Ti1 Cr2 Fe2 Ni2 Cu2 Al2",
          "Cr2 Fe2 Co2 Cu1 Al2",
          "Ti40 Nb1 Al5 Si15",
          "Ti4 V7 Mo1 Cr2 Al6",
          "Cr1 Fe1 Co1.99 Ni1 Cu1",
          "V1 Cr1 Fe4.5 Co2 Ni1.5",
          "Cr1.99 Fe1 Co1 Ni1 Cu1",
          "Ti4.5 Ta6 Nb15 Co1 Ni23.5",
          "Be1 Ti1.91 Mo1.91 Cr1.91 Fe1.91 Co1.91 Ni1.91 Cu1.91 Al1.91 Si1.91",
          "Cr1 Mn1 Fe1 Ni1 Cu1",
          "Fe4 Co4 Ni4 Al1",
          "Hf1 Ti1 Nb1 V1",
          "Sc1 Hf1 Zr1 Ta1 Mo1",
          "Ti33 Nb1 Si16",
          "Cr1 Fe1 Co2 Ni2 Al1",
          "Cr1 Co1 Ni1 Cu1 Al1",
          "Ti13 Ta1 Nb42 V12 Mo20 Cr12",
          "Zr1 Ti1.5 Nb1 V1",
          "Ti1 Nb1 W8.5 Mo1.5",
          "Ti1 Nb3 W1 Re1",
          "V2 Cr3 Mn1 Fe7 Co2 Ni5",
          "W1 Cr2 Mn2 Fe2 Cu2 Al2",
          "Mo1 Fe1 Co1 Ni1",
          "Cr1 Fe2 Co2 Ni2 Cu1 Al2",
          "Ti3.38 Nb5.12 Cr1 Al1.12 Si1.88",
          "Hf2 Zr2 Ti1 Nb2 Mo2",
          "Hf1 Zr1 Ti1 Ta1 Nb1 V1 W1 Mo1",
          "Hf3 Mo1 B14 Si10",
          "Hf2 Zr2 Ti1 Ta1 Nb2",
          "Cr1.25 Fe1 Co1.75 Ni1",
          "Ti1 Nb1 W1",
          "Ti1 Fe1 Ni1 Al1",
          "Zr1 Ti1 Nb1 V3 Mo1",
          "Ta1 Nb1 V1 W1",
          "Hf2 Zr2 Ti2 Nb2 V2 Si1",
          "Zr1.27 Ta1.07 Ru1",
          "V2 W1 Cr1 Co4 Ni4",
          "Ti2 V3 Mo1 Cr2 Al2",
          "Hf1 Ti6.5 Ta2.5 Nb2",
          "W3 Mo5 Re3 Ru1",
          "Ti4 Ta3.5 Nb1 V3.5",
          "Cr1 Fe1 Co1 Al2",
          "Ti1 Cr1 Fe1 Ni1 Al1",
          "Fe1 Co3 Ni1 Cu1 Al1",
          "Ti1 V1 Cr1 Mn1 Fe1 Co1 Ni1 Cu1",
          "Nb1 V5.5 W4.5 Mo1",
          "Cr2 Co1 Ni2",
          "Cr1 Fe1.99 Co1 Ni1 Cu1",
          "Ti1 V1 Fe1 Co1 Ni1",
          "Cr2 Fe2 Co2 Ni2 Cu1",
          "Nb5 Fe1 Co1 Ni1 Cu1",
          "Cr2 Fe2 Ni2 Cu2 Al1",
          "Ti2 Nb2 W1",
          "Y1 Sc1 Hf1 Zr1 Ti1",
          "Ti1.33 Ta1 V2 W3.67",
          "Hf2 Zr2 Ti2 Nb1 Mo2",
          "Hf1 Zr1 Ta1 Nb1",
          "Hf1 Zr1 Ti1 Ta1 Nb1 V1",
          "Ti10.78 Mo10.78 Cr10.78 Al1",
          "Ti2 Nb2 V2 Cr1 Al2",
          "Zr1 Ti1 V1 Mo1",
          "Mo1 Cr33 Ni33 Al33",
          "Ti1 V1 Cr1 Mn1 Fe1 Co1 Ni1 Cu1 Al1",
          "Ti1 Nb2 W1",
          "Fe2 Co2 Ni2 Cu1 Al2",
          "Ti1 Ta1 Nb1 W1",
          "Ti1 Ta88.5 W10 C1.5",
          "Ti21 Nb1 Si16",
          "Nb1 V1 W1 Ru1",
          "V2 W41 Mo1 Co4 Ni2",
          "Nb1 Fe2 Co2 Ni2 Cu2",
          "Ti1 Ta2 Nb2 V2 Mo2",
          "Hf2 Zr2 Ti2 Nb2 O1",
          "Hf2 Ti2 Nb2 V1 Mo1",
          "Zr3.18 Ti3.36 Nb3.95 Cr1",
          "W1 Re6 Fe2 Ni8",
          "Ti1 Nb1 V1 Cr1 Al1",
          "Cr1 Co1 Ni1",
          "Mo1 Fe1 Co1 Ni1 Al1",
          "Hf2 Ti6 Ta3 Nb1",
          "Zr1 Ti2 Ta2 Nb3",
          "Mo1 Cr2 Fe2 Co2 Ni1 Al2",
          "Fe1 Co1 Ni1 Cu1 Al1 Si1"
         ],
         "legendgroup": "outlier",
         "marker": {
          "color": "#2E91E5",
          "symbol": "circle"
         },
         "mode": "markers",
         "name": "outlier",
         "showlegend": true,
         "type": "scattergl",
         "x": [
          -25.952484130859375,
          56.91315460205078,
          62.445701599121094,
          48.71148681640625,
          -84.85936737060547,
          72.27338409423828,
          38.456016540527344,
          30.89618682861328,
          36.58790969848633,
          47.64972686767578,
          42.17572021484375,
          37.586429595947266,
          71.2971420288086,
          70.93215942382812,
          -41.20494079589844,
          -7.847455978393555,
          42.912376403808594,
          -41.56789779663086,
          50.11387634277344,
          -82.3068618774414,
          25.799667358398438,
          61.230220794677734,
          -82.5389175415039,
          3.644916534423828,
          53.190956115722656,
          6.764477252960205,
          50.88299560546875,
          -32.23714828491211,
          22.885639190673828,
          -59.65274429321289,
          10.020723342895508,
          19.635639190673828,
          27.348276138305664,
          -25.237756729125977,
          48.15861129760742,
          -34.949745178222656,
          62.04431915283203,
          6.738785266876221,
          -34.737449645996094,
          46.383567810058594,
          7.922853469848633,
          60.519798278808594,
          -46.964839935302734,
          45.62689971923828,
          63.99631118774414,
          64.32195281982422,
          64.708740234375,
          -20.587339401245117,
          25.496795654296875,
          0.5684005618095398,
          48.46454620361328,
          22.513505935668945,
          -32.23714828491211,
          71.00273895263672,
          72.26042938232422,
          46.34234619140625,
          55.79616165161133,
          33.50886917114258,
          73.06515502929688,
          27.29081916809082,
          33.864501953125,
          65.7203369140625,
          -23.023685455322266,
          -15.06303596496582,
          62.26228332519531,
          76.90715789794922,
          -43.26118469238281,
          76.32054138183594,
          -10.166781425476074,
          50.62677764892578,
          29.205215454101562,
          -21.072694778442383,
          16.845577239990234,
          -20.624380111694336,
          50.52093505859375,
          62.690982818603516,
          34.794620513916016,
          50.82463836669922,
          -12.235373497009277,
          40.79997634887695,
          55.774173736572266,
          56.45132827758789,
          41.95609664916992,
          -43.474037170410156,
          46.404476165771484,
          13.38197135925293,
          -55.41238784790039,
          72.02203369140625,
          -28.708160400390625,
          67.58349609375,
          -1.414394497871399,
          74.70896911621094,
          51.45746994018555,
          47.13744354248047,
          37.630210876464844,
          56.81349563598633,
          57.54817581176758,
          42.219078063964844,
          28.87309455871582,
          68.86077117919922,
          58.228424072265625,
          19.94330406188965,
          23.21017074584961,
          18.205474853515625,
          42.905487060546875,
          45.55625534057617,
          1.7746633291244507,
          -47.138526916503906,
          38.05600357055664,
          -47.202449798583984,
          29.550127029418945,
          20.393352508544922,
          36.25837326049805,
          16.830501556396484,
          41.86974334716797,
          19.537412643432617,
          36.59794616699219,
          -59.2431755065918,
          71.37767028808594,
          52.331478118896484,
          16.202449798583984,
          64.05098724365234,
          -15.529226303100586,
          -28.635774612426758,
          50.584720611572266,
          -2.9415199756622314,
          73.29751586914062,
          71.56414794921875,
          37.814456939697266,
          -11.584705352783203,
          54.8427848815918,
          18.519855499267578,
          44.694541931152344,
          -15.957474708557129,
          66.08860778808594,
          29.31072425842285,
          40.23115539550781,
          20.96101951599121,
          45.319976806640625,
          8.64310073852539,
          64.65135192871094,
          -10.113882064819336,
          53.83906173706055,
          46.536460876464844,
          7.177807807922363,
          57.315914154052734,
          45.291080474853516,
          88.60084533691406,
          24.284162521362305,
          -23.787382125854492,
          -1.373307466506958,
          18.883146286010742,
          23.601470947265625,
          -56.56122970581055,
          71.78751373291016,
          45.92841339111328,
          14.279227256774902,
          -9.567475318908691,
          -75.06430053710938,
          36.424739837646484,
          37.60175323486328,
          56.13439178466797,
          56.86732482910156,
          -26.683542251586914,
          -16.7854061126709,
          -79.72563934326172,
          36.74188232421875,
          53.39517593383789,
          52.27239227294922,
          2.423267364501953,
          -41.415557861328125,
          -12.362177848815918,
          45.703086853027344,
          55.67950439453125,
          50.434322357177734,
          -51.163429260253906,
          21.00094223022461,
          44.84053421020508,
          46.1807975769043,
          -35.020179748535156,
          -28.87103271484375,
          -39.971614837646484,
          15.605257987976074,
          20.273773193359375,
          -81.55452728271484,
          36.90018081665039,
          57.17400360107422,
          -0.664351761341095,
          27.83576011657715,
          -55.68122482299805,
          -1.2420566082000732,
          38.60205078125,
          36.642879486083984,
          15.776147842407227,
          53.6639289855957,
          49.22684097290039,
          22.617511749267578,
          61.97804260253906,
          -14.020403861999512,
          35.408836364746094,
          38.16916275024414,
          -30.030494689941406,
          39.12933349609375,
          -10.401731491088867,
          -11.669926643371582,
          -13.245142936706543,
          89.38153839111328,
          -7.289527416229248,
          24.544191360473633,
          71.12047576904297,
          52.71866226196289,
          49.660194396972656,
          50.1729850769043,
          72.1593246459961,
          33.89200973510742,
          59.688751220703125,
          63.38829040527344,
          18.443431854248047,
          34.50856018066406,
          47.474910736083984,
          53.67286682128906,
          61.54133605957031,
          42.827606201171875,
          14.288803100585938,
          65.0206527709961,
          -44.94419860839844,
          65.93282318115234,
          -32.14683532714844,
          -14.743483543395996,
          14.17326545715332,
          -19.71588706970215,
          46.78353500366211,
          41.05199432373047,
          -26.1192684173584,
          48.49744415283203,
          74.4886245727539,
          47.843910217285156,
          -31.1118106842041,
          -17.569547653198242,
          34.69199752807617,
          18.229129791259766,
          13.839426040649414,
          -15.213616371154785,
          49.63706970214844,
          54.851070404052734,
          -48.03916931152344,
          -35.517581939697266,
          -1.0243656635284424,
          -51.97077560424805,
          -0.523268461227417,
          48.56084060668945,
          -24.83344268798828,
          6.540395259857178,
          59.582420349121094,
          -3.8607616424560547,
          39.8490104675293,
          -31.197254180908203,
          71.47016143798828,
          7.336447238922119,
          -17.027698516845703,
          7.856809616088867,
          73.24818420410156,
          6.070660591125488,
          62.92204284667969,
          19.149152755737305,
          72.27770233154297,
          54.420196533203125,
          -1.3217345476150513,
          34.6871223449707,
          16.78459358215332,
          22.030040740966797,
          56.772274017333984,
          47.69636154174805,
          24.61549186706543,
          54.731327056884766,
          23.986087799072266,
          62.060367584228516,
          25.431316375732422,
          48.857200622558594,
          88.97242736816406,
          12.850104331970215,
          40.97287368774414,
          61.56470489501953,
          24.477949142456055,
          -85.52285766601562,
          6.769784927368164,
          1.8193408250808716,
          41.863521575927734,
          43.124935150146484,
          41.13392639160156,
          7.559183120727539,
          16.840011596679688,
          59.49574279785156,
          46.280372619628906,
          15.340153694152832,
          41.74675369262695,
          2.8030056953430176,
          24.304004669189453,
          -7.8608293533325195,
          22.613935470581055,
          -70.13870239257812,
          70.44104766845703,
          59.60752487182617,
          -38.8152961730957,
          23.42112159729004,
          -39.2333984375,
          38.45256423950195,
          63.214271545410156,
          50.484649658203125,
          -15.394479751586914,
          7.154610633850098,
          -11.676460266113281,
          51.39372634887695,
          -12.63022232055664,
          56.856536865234375,
          2.096281051635742,
          -76.91824340820312,
          -9.464452743530273,
          53.81127166748047,
          -24.438615798950195,
          -12.280437469482422,
          -32.23714828491211,
          26.84185218811035,
          -24.864612579345703,
          40.88728713989258,
          24.662580490112305,
          63.4293098449707,
          -40.690834045410156,
          49.12097930908203,
          -89.85884094238281,
          54.052791595458984,
          -42.70222473144531,
          18.44222068786621,
          69.32732391357422,
          -85.96176147460938,
          -26.44357681274414,
          57.42130661010742,
          63.053707122802734,
          75.39558410644531,
          -28.44516944885254,
          29.844221115112305,
          61.434326171875,
          63.25898742675781,
          -32.211875915527344,
          3.6278789043426514,
          -27.278383255004883,
          31.82025909423828,
          30.414609909057617,
          -56.24871063232422,
          -25.525733947753906,
          -55.565650939941406,
          -8.63247013092041,
          5.968216896057129,
          -79.72882843017578,
          -28.84592628479004,
          89.24381256103516,
          66.20150756835938,
          32.080665588378906,
          -1.777241826057434,
          -29.664146423339844,
          38.1757698059082,
          45.250831604003906,
          56.860225677490234,
          64.48829650878906,
          -25.75809097290039,
          -53.34394073486328,
          13.362964630126953,
          -35.43708038330078,
          70.80931091308594,
          71.52207946777344,
          61.960472106933594,
          6.671257019042969,
          68.33186340332031,
          -27.557701110839844,
          64.96509552001953,
          1.1416517496109009,
          50.126102447509766,
          46.461856842041016,
          76.40812683105469,
          50.459197998046875,
          1.4409749507904053,
          30.115320205688477,
          28.35964584350586,
          46.53956985473633,
          48.30862045288086,
          -12.902791976928711,
          -39.19438171386719,
          -40.9130744934082,
          13.583685874938965,
          48.363521575927734,
          -2.6057510375976562,
          -58.10376739501953,
          14.69588851928711,
          -30.07379722595215,
          77.16481018066406,
          -58.46499252319336,
          65.54087829589844,
          54.14873504638672,
          48.66547393798828,
          70.21361541748047,
          67.18411254882812,
          63.05457305908203,
          26.377519607543945,
          30.42900276184082,
          55.88309860229492,
          -48.4425163269043,
          13.140277862548828,
          64.5771713256836,
          -41.88481140136719,
          42.74980163574219,
          34.7318229675293,
          32.521244049072266,
          57.352333068847656,
          49.75975036621094,
          -63.20954513549805,
          37.617637634277344,
          72.04572296142578,
          91.02848815917969,
          36.38404083251953,
          -7.23239803314209,
          29.499975204467773,
          -2.237914562225342,
          -7.856210231781006,
          28.639938354492188,
          45.40867614746094,
          -9.3219575881958,
          -39.706459045410156
         ],
         "xaxis": "x",
         "y": [
          35.27949905395508,
          51.69382095336914,
          39.594722747802734,
          43.475460052490234,
          37.7935676574707,
          -6.279995918273926,
          43.2486457824707,
          30.894933700561523,
          12.668325424194336,
          -8.493339538574219,
          50.32517623901367,
          20.33204460144043,
          -6.475826263427734,
          -35.259605407714844,
          -23.612512588500977,
          -30.895084381103516,
          -12.95776653289795,
          48.606117248535156,
          21.894804000854492,
          34.51755905151367,
          -36.61265563964844,
          -17.24948501586914,
          34.95161437988281,
          -5.677926063537598,
          35.82736587524414,
          -96.79401397705078,
          21.022953033447266,
          21.176422119140625,
          71.24286651611328,
          -23.746740341186523,
          44.19212341308594,
          -0.7660354971885681,
          -7.261811256408691,
          -5.268700122833252,
          29.696229934692383,
          32.440650939941406,
          -19.67984390258789,
          -94.38351440429688,
          30.752262115478516,
          -25.537378311157227,
          -5.410615921020508,
          32.695274353027344,
          13.489080429077148,
          -29.75209617614746,
          -17.818462371826172,
          -30.023014068603516,
          38.7335205078125,
          6.384217262268066,
          -35.354103088378906,
          9.638080596923828,
          24.979568481445312,
          -1.5678528547286987,
          21.176422119140625,
          -10.281295776367188,
          21.092750549316406,
          -25.16144561767578,
          48.28102111816406,
          25.458314895629883,
          -5.287288188934326,
          10.228918075561523,
          27.4371395111084,
          -25.981712341308594,
          -26.95443344116211,
          27.435924530029297,
          38.255126953125,
          23.112167358398438,
          -19.50477409362793,
          -33.79647445678711,
          50.13230514526367,
          29.26167106628418,
          -11.738375663757324,
          6.459272384643555,
          23.32044792175293,
          20.053983688354492,
          40.942264556884766,
          40.570430755615234,
          -13.331194877624512,
          29.794788360595703,
          -78.354736328125,
          44.47507858276367,
          10.124289512634277,
          52.74669647216797,
          38.05976104736328,
          43.93744659423828,
          25.825881958007812,
          35.991878509521484,
          -41.93315124511719,
          -42.95145034790039,
          -36.62666320800781,
          -32.9077033996582,
          36.65978240966797,
          -34.999855041503906,
          -55.44205093383789,
          37.16541290283203,
          18.83631134033203,
          50.907188415527344,
          -17.986644744873047,
          50.874794006347656,
          -33.91752624511719,
          -7.008756160736084,
          -17.776201248168945,
          60.16707229614258,
          -18.809715270996094,
          25.06153106689453,
          26.778905868530273,
          15.76772403717041,
          35.9151611328125,
          51.0028190612793,
          -40.378929138183594,
          13.036298751831055,
          12.733882904052734,
          -44.67337417602539,
          17.26839828491211,
          22.59865951538086,
          -36.49906921386719,
          -72.72030639648438,
          43.2530403137207,
          -12.003429412841797,
          -7.712656021118164,
          35.69578552246094,
          -21.24008560180664,
          36.493309020996094,
          67.07221984863281,
          -26.679012298583984,
          40.85493087768555,
          44.5688591003418,
          -7.862185001373291,
          20.115966796875,
          -40.34963607788086,
          -55.70951461791992,
          -25.43010902404785,
          25.179052352905273,
          -13.318910598754883,
          -25.475923538208008,
          35.92966079711914,
          -52.106719970703125,
          39.040000915527344,
          -18.644668579101562,
          -31.10531234741211,
          17.36281394958496,
          38.507171630859375,
          50.926239013671875,
          36.953277587890625,
          47.67183303833008,
          -10.292470932006836,
          52.379547119140625,
          -35.55202102661133,
          -12.912574768066406,
          4.285406589508057,
          -8.327622413635254,
          55.446475982666016,
          25.30724334716797,
          -18.720809936523438,
          -22.88834571838379,
          -33.58842468261719,
          -32.62258529663086,
          48.27716064453125,
          55.81133270263672,
          -18.782651901245117,
          -0.04663706198334694,
          -0.8164876103401184,
          51.61022186279297,
          -8.16210651397705,
          32.09518051147461,
          17.192049026489258,
          15.754637718200684,
          1.3298944234848022,
          5.8709588050842285,
          9.100456237792969,
          -55.738956451416016,
          39.98933410644531,
          -50.72505569458008,
          -12.492565155029297,
          48.12002182006836,
          64.27427673339844,
          -10.695300102233887,
          -1.1993578672409058,
          -32.422271728515625,
          -27.358592987060547,
          -28.227088928222656,
          48.23826217651367,
          49.01491165161133,
          26.205751419067383,
          -72.6148910522461,
          17.192546844482422,
          43.21821212768555,
          -18.052736282348633,
          35.4229850769043,
          9.804585456848145,
          -27.818695068359375,
          55.3587646484375,
          -25.49696159362793,
          12.35844612121582,
          25.8939208984375,
          -49.13056945800781,
          -11.47520637512207,
          -19.242292404174805,
          -22.25928497314453,
          -51.07876968383789,
          27.81427001953125,
          -25.4475154876709,
          -27.426868438720703,
          -40.524330139160156,
          56.12187576293945,
          -49.885108947753906,
          -53.12125015258789,
          -15.06747055053711,
          -27.02438735961914,
          3.8182761669158936,
          -37.66816711425781,
          37.804561614990234,
          42.11716842651367,
          21.226055145263672,
          -6.932587623596191,
          -3.294529438018799,
          33.15626907348633,
          31.638633728027344,
          -0.08801966160535812,
          -13.27499771118164,
          29.442670822143555,
          -49.167633056640625,
          35.32624435424805,
          26.692543029785156,
          48.29755401611328,
          -24.768775939941406,
          -21.18550682067871,
          -31.54775047302246,
          -27.827003479003906,
          28.125843048095703,
          32.24717330932617,
          6.2375898361206055,
          37.138519287109375,
          0.25957465171813965,
          35.014892578125,
          19.17296600341797,
          -38.95204544067383,
          37.16190719604492,
          -44.588172912597656,
          -51.883514404296875,
          43.87822723388672,
          56.538150787353516,
          34.63801193237305,
          66.03192138671875,
          25.69682502746582,
          -25.441932678222656,
          -55.77738952636719,
          -25.160438537597656,
          35.390380859375,
          -45.15542984008789,
          54.99345397949219,
          43.66185760498047,
          5.976660251617432,
          -54.983489990234375,
          -31.949485778808594,
          44.9648323059082,
          26.01262092590332,
          -24.417158126831055,
          -34.2906379699707,
          -94.12272644042969,
          -51.9660758972168,
          -93.80264282226562,
          -6.904810428619385,
          10.223859786987305,
          40.833370208740234,
          -0.5048295855522156,
          -7.698938369750977,
          -56.89331817626953,
          35.777462005615234,
          15.057639122009277,
          54.4804801940918,
          -18.9390811920166,
          49.908206939697266,
          -8.23658275604248,
          -21.175323486328125,
          35.85277557373047,
          4.785036087036133,
          -21.632034301757812,
          -34.0311164855957,
          -54.951717376708984,
          -13.729619979858398,
          17.162067413330078,
          -42.86457824707031,
          35.38761520385742,
          -22.91853904724121,
          36.56874465942383,
          -96.57473754882812,
          7.709687232971191,
          31.36109733581543,
          29.727460861206055,
          0.2833927571773529,
          25.996368408203125,
          23.042850494384766,
          -16.362751007080078,
          -23.982378005981445,
          26.61001968383789,
          -36.08449172973633,
          -55.782005310058594,
          -18.024744033813477,
          -29.18994903564453,
          -1.5597985982894897,
          -20.748699188232422,
          18.61027717590332,
          -17.27168846130371,
          -22.169490814208984,
          5.188100814819336,
          48.135040283203125,
          -33.57938003540039,
          32.65078353881836,
          -37.757259368896484,
          18.72368812561035,
          -94.21675109863281,
          -49.91697311401367,
          30.90360450744629,
          -34.32084274291992,
          53.05577850341797,
          -55.69316101074219,
          -12.923717498779297,
          -26.232730865478516,
          -57.550758361816406,
          -6.739361763000488,
          35.624027252197266,
          21.176422119140625,
          10.43797492980957,
          -6.209519386291504,
          38.74848175048828,
          2.8885657787323,
          31.32341766357422,
          47.011356353759766,
          -53.16423797607422,
          -32.28742980957031,
          34.79509735107422,
          42.27543640136719,
          -20.09095573425293,
          -33.901371002197266,
          31.27958106994629,
          34.47322463989258,
          34.64273452758789,
          -18.36878776550293,
          22.261816024780273,
          -23.707786560058594,
          6.337761878967285,
          38.17075729370117,
          -25.483234405517578,
          -25.6065731048584,
          -1.830098271369934,
          -45.14593505859375,
          -72.71073913574219,
          5.728663444519043,
          -5.102553367614746,
          -6.234991550445557,
          -8.910600662231445,
          54.699302673339844,
          10.065656661987305,
          15.565037727355957,
          47.529823303222656,
          -14.771069526672363,
          -24.86794662475586,
          -72.51127624511719,
          44.26468276977539,
          -27.706037521362305,
          -1.3305583000183105,
          -12.897397994995117,
          53.786888122558594,
          33.987850189208984,
          -4.555014133453369,
          -30.81802749633789,
          42.902034759521484,
          -24.28055763244629,
          20.624357223510742,
          -8.936455726623535,
          -20.543636322021484,
          11.152460098266602,
          -33.44861602783203,
          32.53883361816406,
          36.16334533691406,
          -5.874457836151123,
          -6.1183695793151855,
          25.857398986816406,
          -33.73216247558594,
          -37.75335693359375,
          35.874969482421875,
          6.034412384033203,
          -52.011775970458984,
          47.66911315917969,
          18.981595993041992,
          -67.9056625366211,
          -66.84467315673828,
          -19.151060104370117,
          17.720497131347656,
          30.910486221313477,
          34.35906219482422,
          -7.00046968460083,
          33.593013763427734,
          -16.749797821044922,
          23.402597427368164,
          -21.624910354614258,
          35.69419860839844,
          -57.249290466308594,
          29.801828384399414,
          -6.93292236328125,
          -32.606712341308594,
          -18.297529220581055,
          10.63579273223877,
          -12.238130569458008,
          -7.475876808166504,
          -57.487159729003906,
          17.374984741210938,
          34.69571304321289,
          -22.053556442260742,
          28.006925582885742,
          43.865936279296875,
          -72.13710021972656,
          34.6552619934082,
          62.89149475097656,
          2.152571201324463,
          19.82232666015625,
          -42.30398178100586,
          -13.36913013458252,
          -25.908830642700195,
          61.46098709106445,
          -11.875850677490234,
          34.65345764160156,
          -30.129440307617188,
          -52.04636001586914,
          -30.54439353942871,
          -27.725948333740234,
          -23.69583511352539
         ],
         "yaxis": "y"
        },
        {
         "hovertemplate": "<b>%{hovertext}</b><br><br>Classification=clustered<br>37D->2D TSNE1=%{x}<br>37D->2D TSNE2=%{y}<extra></extra>",
         "hovertext": [
          "Re1 Co1.17 B1.17",
          "V2.39 Cr1.99 Fe1.99 Co1.99 Ni1.99 Cu1.99 Al1",
          "Ti2 Nb2 V2 Mo1 Cr1",
          "Mo11.4 B1 Si7.4",
          "Ti1.67 Cr1.67 Ni1.67 Cu1.67 Al1",
          "Mn6.34 Ni6.34 Cu6.34 Sn1",
          "Cr2.25 Fe2.25 Co2.25 Ni1 Cu2.25",
          "V1 Cr2 Mn2 Fe2 Co2 Ni2",
          "Ti22.1 V1 Al2.62",
          "Ti1 Cr1 Fe1 Co1 Cu1 Al1",
          "Cr4.76 Fe1 Co4.76 Ni4.76 Al4.76",
          "Cr1 Fe2 Co2 Ni1 Cu1 Al6",
          "Zr4.33 Ti4.67 Ta3.33 Nb3.33 Al1",
          "Fe1.25 Co1.25 Ni1 Cu1.25 Al1.25",
          "Cr1.81 Fe1.54 Co1.54 Ni1.81 Al1",
          "Ti1.33 Nb1.33 V1.33 Mo1.33 Al1",
          "V1 Cr5 Fe5 Co5 Ni5 Cu5 Al2.51",
          "Hf1 Zr1 Ti2 Nb2 Mo1",
          "Hf1 Zr1.8 Ti2 Nb2 Mo1",
          "Ti1 Cr1.99 Fe1.99 Co1.99 Ni1.99 Al2.4",
          "Cr1.43 Fe1.43 Co1.43 Ni1.43 Al1",
          "Fe2 Co2 Ni1 Cu2 Al2",
          "Ti1 Cr2.49 Fe2.49 Co2.49 Ni2.49 Cu2.49 Al1.25",
          "W1 Cr4.8 Mn4.8 Fe4.8 Co4.8 Ni4.8",
          "Zr3.33 Ti3.33 Nb3.33 V1 Mo1.67",
          "Ti2.76 Nb1 Al1",
          "Ti24.5 Nb1 Cr1 Al23.5",
          "Cr1.42 Fe1.42 Co1 Ni1.42 Cu1.42",
          "Mo1 Cr1.05 Mn1.05 Fe1.05 Co1.05 Ni1.05",
          "W1 Cr6.47 Mn6.47 Fe6.47 Co6.47 Ni6.47",
          "V2 Cr2 Fe2 Co2 Ni2 Cu2 Al1",
          "Ti5.03 Cr5.03 Fe5.03 Co7.56 Ni7.56 Al1",
          "Ti23.94 V1 Al2.83",
          "Cr1 Fe1 Co1 Ni1.99 Al1",
          "Mo1 Cr10.17 Fe10.17 Co10.17 Ni10.17",
          "V1 Mo1 Fe1 Co1 Ni1",
          "V1 Cr5 Fe5 Co5 Ni5 Cu5 Al2.5",
          "Ti1 Cr1 Fe1 Co1 Ni1 Cu1 Al1",
          "Ta3.16 Nb3.15 V2.79 W3.15 Mo3.15 Cr1",
          "Cr4.75 Fe4.75 Co4.75 Ni9.25 Cu1 Al1",
          "Cr2.25 Fe1 Co2.25 Ni2.25 Al2.25",
          "Ti1 Cr2.5 Fe2.5 Co2.5 Ni2.5 Cu2.5 Al1.25",
          "Mo1 Cr2.5 Fe2.5 Co2.5 Ni2.5 Al2.5",
          "Cr1 Fe1 Co1 Ni1 Cu1 Al1.3",
          "Mo1 Cr3.33 Fe3.33 Co10 Ni9.67 Al6",
          "Hf7.5 Ti33 Nb1 Si16",
          "Mn1 Fe3 Co3 Ni3",
          "Cr2 Fe2 Co2 Ni2 Al2 C1",
          "W1 Fe1.4 B1.2",
          "Cr10 Mn12.5 Fe20 Ni7.5 Al1",
          "Fe20 Co20 Ni20 Cu20 Sn1",
          "V1 Cr1 Mn1 Fe1 Co1 Ni1",
          "Cr4.4 Fe2 Co2.2 Ni1 Cu1 Al9.4",
          "Cr3.8 Fe1 Co3.8 Ni1 Cu1 Al9.4",
          "Ti1 Cr10 Mn10 Fe10 Co10 Ni10 C1",
          "Mo20.5 B1 Si3.5",
          "Cr2.25 Fe2.25 Co1 Ni2.25 Al2.25",
          "Zr1.99 Ti2.18 Ta1.39 Nb2.5 Mo1.14 Al1",
          "Ti1 Cr5 Fe5 Ni5",
          "Cr1.25 Fe1.25 Ni2.5 Cu1.25 Al1",
          "W1 Ir7.33 Al1.19",
          "Ta6.32 Nb6.32 W6.36 Mo1",
          "Hf18.27 Zr18.27 Ti18.27 Ta4.35 Nb4.35 Mo1",
          "Zr3.33 Ti3.33 Nb3.33 Re1",
          "Fe1 Co1 Ni1.5 Cu1 Al1",
          "Cr1.04 Mn1 Fe1.02 Co1.08 Ni1.09",
          "Cr1 Fe1 Co1 Cu1 Al1.3",
          "Hf1 Zr2 Ti4 Nb1 V2",
          "Hf2 Zr2 Ti2 Ta2 Nb2 Al1",
          "Cr4.4 Fe1 Co5 Ni1 Al8.6",
          "Cr1.25 Fe1.25 Co1.25 Ni1.25 Al1.25 Si1",
          "Cr1 Co1 Ni1 Cu1",
          "Ti1.42 Nb1.42 W1.42 Mo1.42 Cr1",
          "Ti1 Fe1 Ni1 Cu1 Al1",
          "Zr4 Ti4 Nb4 V1 Mo4",
          "Cr4 Fe1.8 Co2.8 Ni1 Cu1 Al9.4",
          "W42.24 Fe1 Ni2.43",
          "Cr1 Fe2 Ni2 Al1",
          "Cr3.33 Fe3.33 Co1 Ni3.33 Al2.33",
          "Cr1.5 Fe2.5 Co2.5 Ni2.5 Al1",
          "Re1.17 Co1 B1.17",
          "Hf1.33 Zr1.33 Ti1.33 Ta1.33 Nb1.33 Al1",
          "Cr1 Mn1 Fe1 Co1 Ni1.1",
          "Cr1 Fe5 Co5 Ni5 Si1",
          "Mg1 Fe1 Cu1 Zn1 Al13 Si3",
          "Cr1 Fe1 Ni1 Al1.12",
          "Zr1 Ti1 Ta1 Nb1",
          "Ti1 Cr10 Fe10 Co10 Ni10 Al3",
          "Mo7.38 B1 Si4.12",
          "Ti2 Nb2 V2 Mo1",
          "Cr1.25 Fe1.25 Co1.25 Ni1.25 Cu1.25 Al1",
          "Cr3.33 Fe3.33 Co3.33 Ni3.33 Al1",
          "Cr1 Fe4.76 Co4.76 Ni4.76 Cu4.76",
          "Zr2 Ti2 Ta1 Nb2 Mo1 Al1",
          "Ti1 Cr2.5 Fe2.5 Ni2.5",
          "W6.32 Ni9.2 Cu1 B3.48",
          "Mo1 Cr1.47 Mn1.47 Fe1.47 Co1.47 Ni1.47",
          "Ti2 Cr2 Fe2 Ni2 Cu1",
          "Cr1.79 Mn1.79 Fe1.79 Co1.79 Ni1.79 Al1",
          "Cr1 Fe1 Co1 Ni1 Al1.25",
          "Hf1.67 Zr1 Ti3.33 Nb3.33 Mo1.67",
          "W3 Fe3.8 B2.2 C1",
          "Ti2.51 Cr5 Fe5 Co7.51 Ni7.51 Al1",
          "Cr1.42 Fe1.42 Ni2.85 Cu1.42 Al1",
          "Cr1 Fe1 Co1 Ni1 Cu1 Al2",
          "Cr1 Fe1 Co1 Ni1 Cu1 Al1.5",
          "Cr1 Fe1 Ni2 Cu1 Al1",
          "Cr1 Mn3 Fe4.97 Co1 B0.03",
          "Hf12.5 Ti21 Nb1 Si16",
          "Cr1.25 Fe1.25 Ni1 Cu1.25 Al1.25",
          "Cr1 Fe1 Ni2 Al1",
          "Ti2.8 Cr2 Fe2 Co2 Ni2 Cu2 Al1",
          "Cr1 Fe1 Co1 Ni1 Al2.5",
          "Y1 Ti2 Cr2 Co2 Ni2 Cu2 Al2",
          "Cr1 Fe1 Ni2 Cu1 Al1.5",
          "Mo6.18 B1.91 Si1",
          "Cr1 Fe4.76 Co4.76 Ni4.76 Al4.76",
          "W1 Ir8 Al1",
          "Ti1 Mo1.25 Cr2.5 Fe2.5 Ni2.5 Al2.5",
          "W1.17 Fe1.17 B1",
          "Hf2.25 Zr2.25 Ti2.25 Nb2.25 Al1",
          "Cr1.43 Mn1.43 Fe1.43 Ni1.43 Al1",
          "Mo1 Cr2.01 Fe2.01 Co2.01 Ni2.01 Al3.01",
          "Fe25 Co25 Ni25 Cu25 Sn1",
          "Cr4.76 Fe4.76 Co1 Ni4.76 Al4.76",
          "Ti2.2 Nb5.2 Mo1 Si1.6",
          "Hf1 Zr1 Ti1 Nb1 O2",
          "Cr2.67 Fe2.67 Co2.67 Ni2.67 Al1",
          "V1 Mo1 Fe1 Co1 Ni1.6",
          "Hf12.5 Ti33 Nb1 Si16",
          "Fe1 Co1 Ni1 Cu1 Al1",
          "Cr5 Fe5 Co5 Ni5 Al5 Si1",
          "Ti23.3 V1 Al2.76",
          "Ti1 Ta1 Nb1 V1",
          "Cr1 Fe1 Co1 Ni1 Al3",
          "Hf2.01 Ti2.01 Nb2.01 V1 Mo1 Si1.41",
          "Ti1 Cr1.67 Fe1.67 Ni1.67",
          "Hf1 Zr2 Ti4 V2",
          "Zr2 Ti2 Nb2 V1 Mo2",
          "Cr1 Fe1 Co1 Ni2.1 Al1",
          "Cr4 Fe5 Co5 Ni5 Al1",
          "Mo1 Cr3.33 Fe3.33 Co3.33 Ni3.33 Al3.33",
          "Fe2 Co1 Ni2 Cu2 Al2",
          "Cr1 Fe1 Co1 Cu1 Al2.8",
          "Ta3.5 Nb2 W2 Mo1.5 Re1",
          "Cr1 Fe1 Co1 Ni2.22 Al1",
          "V1 Cr1.31 Mn1.31 Fe1.31 Co1.31 Ni1.31",
          "Ti1 Nb1 W1 Mo1 Cr1",
          "Zr1 Ti2 Ta1 Nb2 Al2",
          "Cr1.42 Fe1.42 Co1.42 Ni1 Cu1.42",
          "Cr1 Fe1 Co1 Ni1 Al2",
          "Cr3.8 Mn3.8 Fe3.8 Co3.8 Ni3.8 C1",
          "Cr2.49 Fe3.74 Ni1.25 Al1",
          "Cr1.67 Mn1 Fe1.67 Co1.67 Ni1.67 Al1.67",
          "Cr3.34 Mn2 Fe3.34 Co3.34 Ni3.34 Al1",
          "Cr1.25 Fe1.25 Ni2.75 Al1",
          "Ti1 Cr2 Fe2 Co2 Ni2 Cu2",
          "Ti1 Cr2 Fe2 Co2 Ni2 Al2",
          "Cr2 Fe2 Ni4 Al1",
          "Ti1 Cr4.98 Fe4.98 Ni4.98 Al1",
          "Li1 Mg1 Zn1 Al16 Sn1",
          "Cr1 Fe1 Co1 Ni1",
          "Ti1.6 Cr2 Fe2 Co2 Ni2 Cu2 Al1",
          "V1.67 Mo1 Fe1.67 Co1.67 Ni1.67",
          "Cr1 Mn1 Fe1 Co1 Ni1 Al1",
          "Zr3.33 Ti3.33 Ta1 Nb3.33",
          "Cr2.01 Fe3.01 Co2.01 Ni2.01 Cu1 Al2.01",
          "Mn1 Fe1 Co1 Ni1 Cu1",
          "Mo1 Cr2 Fe2 Co3 Ni2 Al2",
          "Cr1 Fe1 Co1 Ni1.5 Al1",
          "Cr1 Fe1 Ni1 Cu1 Al1.99",
          "Ti1.61 Cr2.01 Fe2.01 Co2.01 Ni2.01 Cu2.01 Al1",
          "Nb15 Fe1 Co1 Ni1 Cu1",
          "V1 Cr2.3 Fe2.3 Co2.3 Ni2.3 Cu2.3",
          "Cr2.25 Fe2.25 Co1 Ni2.25 Cu2.25",
          "W1.2 Fe1.8 B1",
          "V1.6 Cr2 Fe2 Co2 Ni2 Cu2 Al1",
          "Mo1 Cr6.67 Fe6.67 Co6.67 Ni6.67",
          "Cr1.23 Mn1.23 Fe1.23 Co1.23 Ni1.23 Al1",
          "Mo1 Cr2 Fe2 Ni2 Al2",
          "V1 Cr1 Fe1 Co1 Ni1 Cu1 Al1",
          "Cr2 Fe2 Co2 Ni2 Cu2 Al1",
          "Zr1 Ti3.2 Nb1.5 Cr2 Al2.3",
          "Cr3.33 Mn3.33 Fe5 Ni1.67 Al1",
          "Ta1 Co7.12 B4.38",
          "Ti8 Nb8 Al1 Si3",
          "Mo1 Cr10 Fe10 Co30 Ni31 Al18",
          "Cr4.4 Fe1.8 Co2.8 Ni1.2 Cu1 Al8.8",
          "Ta1 Co9.83 B5.83",
          "Ti27.63 V1 Al3.27",
          "Cr1.25 Fe1.25 Co1.25 Cu1.25 Al1",
          "Zr1 Ti10 Nb10 V10 Al10",
          "Fe1.33 Co1.33 Ni1.33 Si1",
          "Ti3.33 Nb3.33 V3.33 Mo3.33 Cr3.33 Al1.67 Si1",
          "Cr2.88 Fe1.88 Co1.88 Ni2 Cu1 Al2.88",
          "V1 Cr1.47 Fe1.47 Co1.47 Ni1.47 Cu1.47",
          "Mo109.94 B0.17 Si1",
          "Mo1 Cr2 Fe4 Co2 Ni2 Al2",
          "Cr2 Fe2 Co2 Ni2 Cu1.51 Al1",
          "Ti20.2 Ta1.03 Nb7.01 Fe1",
          "Cr1 Fe1 Co1 Ni1 Al2.99",
          "Ti2.5 Cr5 Fe5 Co7.5 Ni7.5 Al1",
          "Mo1 Cr5 Fe5 Co15 Ni15 Al9",
          "Cr1 Fe2.25 Co2.25 Ni2.25 Cu2.25",
          "Cr4.67 Fe1 Ni4.67 Cu4.5 Al1.83",
          "Cr3.98 Fe3.98 Co3.98 Ni3.98 Al1",
          "Nb1 Mo1 Cr1 Co1",
          "Cr1 Fe1 Co1 Ni1 Cu1 Al1.8",
          "Cr4.2 Fe2.4 Co2.8 Ni1 Cu1 Al8.6",
          "Cr1.42 Fe1 Co1.42 Ni1.42 Cu1.42",
          "Cr5.8 Fe1 Ni5.2 Cu5.8 Al2.2",
          "Mo1 Cr2 Fe2 Co2 Ni4 Al2",
          "Cr1.42 Fe1.42 Co1.42 Ni1 Al1.42",
          "Ti1.5 Fe1 Ni1.33 Cu1.33 Al1.5",
          "Cr3.29 Fe3.29 Co3.29 Ni3.29 Al1",
          "Cr1.5 Fe2.92 Co1.5 Ni1.5 Al1",
          "Ti1.34 Cr1.34 Fe1.34 Co1.34 Cu1 Al1.34",
          "Zr1.33 Ti1.33 Nb1.33 V1 Mo1.33",
          "Cr1 Fe1 Ni1 Cu1 Al1.5",
          "Cr3.32 Fe3.32 Ni6.61 Cu3.32 Al1",
          "Zr3.33 Ti3.33 Nb3.33 V1 Mo2.33",
          "Ti1.5 V1 Mo1 Cr1 Fe1",
          "Re1 Co1.6 B1.4",
          "Ti1 Nb2.5 Mo2.5 Cr2.5 Co2.5",
          "Ti2 V2 Cr2 Fe2 Ni2 Cu2 Al1",
          "Ti19.07 Ta1 Nb6.81 Fe1.46",
          "Ti20 Ta20 Mo20 Cr20 Al20 Si1",
          "Zr2.25 Ti2.25 Ta2.25 Nb2.25 Mo1",
          "Zr5 Ti5 Ta2.5 Nb5 Al1",
          "Ti2.44 Nb2.51 V2.47 Mo2.57 Al1",
          "Ti2 Nb2 V2 Mo1 Cr1.5",
          "Cr1 Fe10 Co10 Ni10 Al9",
          "Ti1.5 Cr1.25 Fe1.25 Co1.25 Ni1.25 Al1",
          "Cr2 Fe4 Co2 Ni2 Cu1 Al2",
          "Ti3.2 Cr2 Fe2 Co2 Ni2 Cu2 Al1",
          "Cr1 Fe1 Co1 Ni2",
          "Ti1 Cr2 Fe2 Co2 Ni2 Cu1 Al1",
          "Ti1.47 Nb3.13 Mo1 Si1.07",
          "V1 Cr3.96 Mn3.96 Fe3.96 Co3.96 Ni3.96",
          "Ti2.49 Cr2.49 Ni2.49 Cu2.49 Al1",
          "Fe1 Co1.99 Ni1 Cu1 Al1",
          "Ti1 Mn9.33 Fe10.33 Ni5 Al8",
          "Zr3.33 Ti3.33 Nb3.33 V1 Mo3.33",
          "Cr1.78 Mn1.78 Fe1.78 Co1.78 Ni1.78 Al1",
          "Zr1.95 Ti2.07 Ta1.05 Nb2.09 Mo1 Al1.74",
          "Cr2 Fe2 Co2 Ni4 Cu1 Al2",
          "Re1.6 Co1 B1.4",
          "Hf5 Zr10 Ti10 Nb10 Mo5 Si1",
          "Zr3.33 Ti3.33 Nb3.33 V1 Mo4.33",
          "Cr10 Fe10 Co10 Ni10 Al1",
          "Cr1.47 Mn1.47 Fe1.47 Co1.47 Ni1.47 Al1",
          "V1 Cr1.34 Mn1.34 Fe1.34 Co1.34 Ni1.34",
          "Mo1 Cr2 Fe1.2 Co2 Ni2 Al2",
          "Cr1.89 Fe1.89 Co1.89 Ni1",
          "Ti3.01 V2.01 Fe2.01 Co2.01 Ni2.01 Cu1",
          "Cr1 Fe1 Co1 Ni1 Al1 Si1",
          "Cr1 Fe1 Co1 Ni2 Al1",
          "Mo1 Cr12 Fe12 Co12 Ni12",
          "Cr3.33 Mn3.33 Fe3.33 Co3.33 Ni3.33 Al1",
          "Cr7 Fe1 Ni5 Cu5 Al2",
          "Cr1 Fe1 Co1 Ni1 Cu1 Al3",
          "Ti1.5 Mo1 Cr2 Fe2 Ni2 Al2",
          "Ti22.68 V1 Al2.68",
          "Cr1.42 Fe1.42 Co1.42 Ni1.42 Al1",
          "Ti2.85 Nb1.28 Al1",
          "Cr2.5 Fe2.5 Co2.5 Ni2.5 Al2.5 C1",
          "Ta1.09 Cr1.82 Mn1.82 Fe1.82 Co1.82 Ni1.82 Al1",
          "Ti1 Cr1.25 Fe1.25 Co1.25 Ni1.25 Al1.25",
          "Zr1 Ti1 Nb1 V1 Mo2",
          "Cr3.33 Mn3.33 Fe4.99 Ni1.66 Al1",
          "Mn1.33 Ni1.33 Cu1.33 Zn1",
          "Mo1 Cr2 Fe2 Co2 Ni2 Al2",
          "Ti2 Nb2 V2 Mo2 Al1",
          "Cr3.98 Fe4.96 Co3.98 Ni4.96 Al1",
          "Fe10 Co10 Ni10 Cu10 Sn1",
          "Ti1 Cr3.98 Fe3.98 Co3.98 Ni3.98 Al4.78",
          "V4 Cr2 Fe2 Co2 Ni2 Cu2 Al1",
          "Cr1.43 Fe1.43 Ni2.86 Cu1.43 Al1",
          "Cr1 Fe1 Ni2 Cu1 Al1.6",
          "Cr4 Fe4 Co4 Ni4 Cu1 Al3",
          "Ta1 Nb1 W1 Mo1",
          "Mo1 Cr2.01 Fe2.01 Co3.01 Ni2.01 Al2.01",
          "Hf1.67 Zr3.33 Ti3.33 Nb3.33 Mo1.67 C1",
          "W1 Cr20 Mn20 Fe20 Cu20 Al20",
          "Zr1 Ti1.02 Nb1.15",
          "Cr3.14 Fe1.14 Co2.86 Ni1 Al6.14",
          "Zr0.05 W26.69 Re1 C0.05",
          "Ti1.05 Ta1.27 Nb1.29 V1",
          "Zr8.5 Ti8.5 Ta1 Nb1 Mo1",
          "Cr1.13 Fe1.13 Ni1.13 Al1",
          "Cr1 Fe1 Co1 Cu1 Al3",
          "Cr1.62 Mn1.62 Fe1.62 Co1.62 Ni1.62 Al1",
          "Ti1 Nb1 V1 Al1",
          "Cr7 Fe1 Ni4.8 Cu5.2 Al2",
          "Ti5 Ta5 V5 Mo5 Al1",
          "Ti1 Ta1 V1 Mo1",
          "Mo1 Cr1.25 Fe1.25 Ni1.25 Al1.25",
          "Zr9 Ti9 Ta1 Nb1",
          "Cr3.32 Mn1 Fe3.32 Co3.32 Ni3.32 Al3.32",
          "Cr2.33 Fe3.33 Co3.33 Ni3.33 Al1",
          "Cr1 Mn3 Fe5 Co1",
          "Cr1.24 Mn1.24 Fe1.24 Co1.24 Ni1.24 Al1",
          "Ti2.25 Nb2.25 W2.25 Mo2.25 Cr1",
          "Ti1 Nb2 Mo2 Cr2 Co2",
          "Cr1 Fe1 Co1 Ni1 Al1.5",
          "Ti1.38 Nb2.62 Mo1.25 Si1",
          "Cr1.67 Fe1.67 Ni4 Al1",
          "Cr1 Fe1 Co1 Ni3 Al1",
          "W2 Fe2.53 B1.13 C1",
          "Cr1 Fe1 Co1 Cu1 Al2",
          "Hf5 Zr10 Ti10 Nb10 Mo5 C1",
          "Ta4 Nb1 V3.5 W3.5",
          "Fe2 Co2 Ni2 Al1",
          "Cr1 Fe1 Co1 Ni1 Al1 C1.5",
          "Ti1 Cr1 Fe1 Co1 Ni1 Al1.2",
          "Cr3.32 Fe3.32 Co3.32 Ni3.32 Cu3.32 Al1",
          "Cr1 Fe1 Ni2 Cu1 Al2",
          "Cr2.62 Mn2.62 Fe2.62 Co2.62 Ni2.62 Al1",
          "Cr3.6 Fe1 Co4 Ni1 Cu1 Al9.4",
          "Ti3.99 Cr1.99 Fe1.99 Co1.99 Ni1.99 Cu1.99 Al1",
          "Hf3.38 Ti3.38 Nb3.38 V1.68 Mo1.68 Si1",
          "Ti1 Ta7.18 W5.18 Mo1.82 Cr7.09 Co5.91 Ni58 Al4.73",
          "Mo4 B1 Si1.25",
          "W1.18 Fe1.45 B1",
          "Ta1 Nb1 V1 W1 Mo1",
          "Cr3.01 Fe2.01 Co2.01 Ni2.01 Cu1 Al2.01",
          "Cr1 Fe1 Co1 Cu1 Al1.99",
          "Cr9.8 Mn9.8 Fe9.8 Co9.8 Ni9.8 Al1",
          "Hf2 Zr2 Ti2 Ta2 Nb2 Mo1",
          "Hf2 Ti2 Nb2 V1 Mo1 Si1.01",
          "Zr1 Mo82 B8 Si9",
          "Cr1 Fe3.33 Co3.33 Ni3.33 Al2.33",
          "Zr2.85 Ti2.69 Nb3.17 Re1",
          "Hf1.67 Zr3.33 Ti3.33 Nb3.33 Mo1.67 Si1",
          "Ti41.7 Ta2.06 Nb14.06 Fe1",
          "Zr3.33 Ti3.33 Nb3.33 V1 Mo1",
          "Nb1 Cr1.33 Fe1.33 Co1.33 Ni1.33 Al1.33",
          "Ta4 Nb4 W4 Mo4 Si1",
          "Cr4.8 Fe2 Co3.6 Ni1 Al8.6",
          "W1 Fe1.64 B1",
          "Ti1 Ta1 Mo1 Cr1 Al1",
          "Cr5 Fe1 Co4.4 Ni1 Al8.6",
          "Zr9 Ti9 Nb1 Mo1",
          "Cr4.76 Fe4.76 Co1 Ni4.76 Cu4.76",
          "Ti1 Ta3.33 V3.33 W3.33 Cr3.33",
          "Ti27.72 V1 Al3.28",
          "Zr1 Ti2 Ta1 Nb2 Mo1 Al2",
          "Cr1.15 Fe1.15 Co1.15 Ni1.15 Al1",
          "Cr2.52 Fe2.52 Co2.52 Ni2.52 Cu1 Al2.27",
          "Cr2.5 Fe2.5 Ni5 Cu2.5 Al1",
          "Mo1.07 Cr1.79 Fe7.86 Co2.57 Ni1",
          "Ti2 Cr2 Fe2 Co2 Cu1 Al2",
          "Ti1 Cr2 Fe2 Co2 Ni2 Al1.8",
          "Cr2 Fe2 Co2 Ni2 Cu1 Al1.51",
          "Ta1 Co6.22 B3.89",
          "Ti1 Cr2 Fe2 Co2 Ni2 Al1",
          "Hf2.8 Zr0.01 Ti0.8 Ta6.6 W18.8 Mo1 Cr16.2 Co18.6 Ni123 Al11.4 B0.03 C0.14",
          "Ti1 Cr3.33 Fe3.33 Ni3.33",
          "Cr5 Fe5 Co5 Ni5 Al5 C1",
          "Mn1 Ni1 Cu1 Zn1",
          "V1 Cr4 Mn4 Fe4 Co4 Ni4",
          "Cr1 Fe1 Co1 Cu1 Al1.5",
          "Cr4 Fe4 Co4 Ni4 Cu1 Al4",
          "Ti27.19 V1 Al3.22",
          "Cr2 Fe2 Co2 Cu2 Al1",
          "Nb1 Cr6.45 Fe6.45 Co6.45 Ni6.45",
          "Cr1.33 Fe1.33 Co1 Ni1.33 Al1.33",
          "Cr2 Fe2 Co4 Ni2 Cu1 Al2",
          "Hf1 Zr1 Ti1 Nb1",
          "Ti1 W38 C1",
          "Cr5 Mn1 Fe5 Co5 Pd5 Ni5",
          "Cr4 Fe2 Co2.6 Ni1 Cu1 Al9.4",
          "Ti4.96 Cr4.96 Ni4.96 Cu4.96 Al1",
          "Cr2.25 Fe2.25 Co2.25 Ni1 Al2.25",
          "Cr4 Fe2.2 Co2.4 Ni1 Cu1 Al9.4",
          "Mo1 Cr2 Fe2 Co2 Ni2 Al4",
          "Fe4 Co4 Ni4 Si1",
          "Zr3.33 Ti3.33 Nb3.33 V3.33 Mo1",
          "Cr4 Fe4 Co1 Ni4 Al4",
          "W1 Fe1.45 B1.18",
          "W4.29 Fe5.43 B3.57 C1",
          "Hf1 Zr2 Ti4 Nb1.5 V2",
          "Ta1 Cr5 Mn5 Fe5 Co5 Ni5 Al2.5",
          "Cr1 Fe1 Co1 Ni1 Cu1 Al2.3",
          "Cr1 Fe1.42 Co1.42 Ni1.42 Cu1.42",
          "Mo4.64 B1 Si1.5",
          "Mo42 B1 Si7",
          "Ti1 W0.1 Mo0.1 Cr14 Fe17 Co17 Ni35 Cu8 Al8",
          "Cr1 Fe1 Ni2.01 Cu1 Al2.5",
          "Cr1.25 Fe1.25 Co1.25 Ni1.25 Al1",
          "Mg1 Mn1 Cu1 Zn1 Al13 Si3",
          "Cr1 Fe1 Ni2 Cu1 Al1.2",
          "Cr4 Fe2 Co2 Ni2 Cu1 Al2",
          "Cr10 Fe10 Co10 Ni10 Al10 C1",
          "Zr3.33 Ti3.33 Nb3.33 V1",
          "Ti1.5 Cr1 Fe1 Co1 Ni1 Al1",
          "Ta1 Cr2.5 Mn2.5 Fe2.5 Co2.5 Ni2.5",
          "Mo1 Cr4.8 Mn4.8 Fe4.8 Co4.8 Ni4.8",
          "Fe1 Co1 Ni2 Cu1 Al1",
          "Cr4.6 Fe1.4 Co4.4 Ni1 Al8.6",
          "Ti0.02 Nb1 Mo1 Cr1 Co1",
          "W30 Fe1 Ni2.33",
          "Cr4.67 Fe1 Ni5.17 Cu3.67 Al2.17",
          "Li25.33 Ca0.33 Mg30 Al10 Si1",
          "Cr3 Fe2.6 Co2.8 Ni1.2 Cu1 Al9.4",
          "Ta3.61 Nb3.58 V2.28 W3.53 Mo3.54 Cr1",
          "Cr1 Fe1 Ni1 Al1.21",
          "Cr1 Fe3 Co3 Ni3",
          "Cr10 Mn10 Fe10 Ni10 C1",
          "Hf1 Zr2 Ti4 Nb2 V2",
          "Ta1 Co8.29 B5",
          "Mo9.62 B1.01 Si1",
          "V1 Cr1.33 Mn1.33 Fe1.33 Co1.33 Ni1.33",
          "Cr5.05 Fe5.05 Ni10.13 Cu5.05 Al1",
          "Ti1 Cr2 Fe2 Co2 Ni2 Al3",
          "Ti10.17 Cr10.17 Fe10.17 Ni10.17 Cu1",
          "Cr6.8 Fe1 Co3.4 Ni2 Al6.8",
          "Cr1 Fe1 Co1 Cu1 Al2.3",
          "Ta1 Cr1.67 Mn1.67 Fe1.67 Co1.67 Ni1.67",
          "Mo1 Cr10 Fe10 Co10 Ni10 Al3",
          "Ti27.28 V1 Al3.23",
          "Cr4.4 Fe1.6 Co4.4 Ni1 Al8.6",
          "W5 Re1 Fe10.5 Ni24.5",
          "Cr1 Fe1 Ni1.99 Cu1 Al1",
          "Cr1 Fe1 Ni1",
          "Cr1 Fe1 Co1 Ni2.5 Al1",
          "Nb1 Cr3.24 Fe3.24 Co3.24 Ni3.24",
          "Re1 Co3.33 B2.33",
          "Cr2 Fe2 Co2 Ni2 Cu2 Al1 B1.2",
          "W1 Cr10 Mn10 Fe10 Cu10 Al10",
          "Hf12.25 Zr12.25 Ti12.25 Ta6.12 Nb6.12 N1",
          "Cr1.33 Mn1.67 Fe2.67 Ni1",
          "Mo31.33 B1 Si1",
          "Mn1.87 Fe2.07 Ni1 Al1.6",
          "Nb1 Cr9.71 Fe9.71 Co9.71 Ni9.71",
          "Cr1 Fe1.94 Ni1.94 Al1",
          "Ta1 Nb1 W1",
          "Cr1 Fe1 Ni1 Cu1",
          "Ti4 V2 Fe2 Co2 Ni2 Cu1",
          "Ti1 Cr12 Fe12 Co12 Ni12 Al2",
          "W2.31 Fe2.92 B1.46 C1",
          "Hf10 Ti33 Nb1 Si16",
          "Cr2 Mn2 Fe2 Co2 Ni2 C1",
          "Ta1.33 Nb1.33 W1.33 Mo1.33 Si1",
          "Zr4.75 Ti4.75 Ta4.75 Nb4.75 Mo1",
          "Cr5.88 Mn17.65 Fe28.41 Co5.88 B1",
          "Zr1 Ti1 Nb1 V1.5 Mo1",
          "V2.5 Mo1 Fe2.5 Co2.5 Ni2.5",
          "Ti1 Nb1 W1 Mo1",
          "Mo45.5 B1 Si3.5",
          "Cr1 Fe1 Ni1 Cu1 Al1",
          "Cr10 Mn10 Fe10 Co10 Ni10 Al1",
          "Cr1.33 Fe1.33 Co1.33 Ni1",
          "Cr1 Fe1 Co1 Ni1 Cu1 Al2.8",
          "Ti1.5 Cr1 Fe1 Ni1 Cu1 Al1",
          "Mo1 Cr2 Fe3 Co2 Ni2 Al2",
          "Cr5 Fe5 Ni10 Cu5 Al1",
          "Fe14.29 Co14.29 Ni14.29 Cu14.29 Sn1",
          "Cr2.5 Fe2.5 Co2.5 Ni2.5 Al2.5 Si1",
          "Cr1.42 Fe1 Co1.42 Ni1.42 Al1.42",
          "V3.2 Cr2 Fe2 Co2 Ni2 Cu2 Al1",
          "Cr1.33 Fe1.33 Co1.33 Al1",
          "Nb1 Cr24.6 Mn24.6 Fe24.6 Co24.6 Ni24.6 C1",
          "Ti1 Cr1.25 Fe1.25 Co1.25 Ni1.25 Al1.5",
          "Ti1 V1 Cr1 Fe1 Ni1 Cu1 Al1.5",
          "Ti1.2 Mo1 Cr2 Fe2 Ni2 Al2",
          "Cr4.6 Fe1.4 Co2.8 Ni1 Cu1 Al9.2",
          "Ti1 Cr5 Fe5 Co5 Ni5",
          "Mo1 Cr2 Fe2 Co4 Ni2 Al2",
          "Mg1 Zr1 Cu1 Zn1 Al13 Si3",
          "Cr1 Mn1 Fe1 Co1 Ni1 Al1.25",
          "Ti20.83 Ta1 Nb6.83",
          "Cr1.67 Mn1 Fe1.67 Co1.67 Pd1.67 Ni1.67",
          "Ti2.83 Nb2.83 Si1",
          "Zr1 Ti1.94 Ta1.31 Nb2.14 Mo1.22 Al1.99",
          "Cr1 Fe1 Ni1.99 Cu1.01 Al1",
          "Cr3.4 Fe2.8 Co3 Ni1.2 Cu1 Al8.6",
          "Cr1.11 Fe1.11 Co1.11 Ni1.11 Al1",
          "Hf1.33 Zr1.33 Ti1.33 Ta1.33 Nb1.33 Mo1",
          "Hf2 Ti2 Nb2 V1 Mo1 Si1.4",
          "Zr1 Ti1 Nb1 V1 Mo1.3",
          "Ti1 Cr5 Fe5 Co5 Ni5 Al4",
          "Cr1 Fe1.42 Co1.42 Ni1.42 Al1.42",
          "Cr1 Fe2.25 Co2.25 Ni2.25 Al2.25",
          "Cr2.25 Fe1 Co2.25 Ni2.25 Cu2.25",
          "Cr1.15 Fe1 Co1 Ni1",
          "Zr2 Ti2 Ta1 Nb2 Mo1 Al2",
          "V2.8 Cr2 Fe2 Co2 Ni2 Cu2 Al1",
          "Ti3.6 Cr2 Fe2 Co2 Ni2 Cu2 Al1",
          "Re1 Co2.25 B1.75",
          "Cr2.11 Fe1 Co2.22 Ni1 Al4.78",
          "Cr1 Fe1 Co1 Ni2.15 Al1",
          "Zr1 Ti1 Nb1 V1 Mo1.5",
          "Mn5 Fe5 Co5 Ni5 Cu5 Sn1",
          "Li1 Mg1 Cu1 Zn1 Al16",
          "Cr1 Fe2.5 Co2.5 Ni2.5 Al1.5",
          "Cr1.34 Mn1.34 Fe1.34 Co1.34 Ni1.34 Al1",
          "Mo46 B1 Si3",
          "Mo14.33 B1.33 Si1",
          "Ti2.4 Cr2 Fe2 Co2 Ni2 Cu2 Al1",
          "Cr4.2 Fe1.6 Co4.6 Ni1 Al8.6",
          "W1 Fe1.33 B1",
          "V1 Mo1 Fe1 Co1 Ni2",
          "Zr1 Mo19.75 B2 Si2.25",
          "Ti1 Cr1 Fe1 Ni1 Cu1 Al1",
          "W3.33 Fe2 Co1 Ni2",
          "W2.69 Fe2 Co1 Ni2",
          "Ti1 Nb1 V1 Mo1",
          "Mo1 Cr3.29 Fe3.29 Co3.29 Ni3.29",
          "Cr2 Mn2.5 Fe4 Ni1.5 Al1",
          "Hf2 Zr2 Ti2 Ta1 Nb1",
          "V1 Fe1 Co1 Ni1",
          "Zr4.17 Ti4.17 Nb4.17 V4.17 Al1",
          "Cr1.33 Fe1.33 Co1.33 Ni1.33 Al1",
          "Ta2 Nb1.33 W1.33 Mo1 Re1",
          "Cr2.66 Fe2.66 Co2.66 Ni2.66 Al1",
          "Cr1.67 Fe1.67 Ni1 Cu1.67 Al1.67",
          "Ti2 Nb2 V2 Mo1 Cr3",
          "V1.99 Cr1 Fe1 Co1 Ni1",
          "Fe1 Co1 Ni1 Al1",
          "Cr3.33 Mn4.17 Fe6.67 Ni2.5 Al1",
          "Ti3.21 Cr2.01 Fe2.01 Co2.01 Ni2.01 Cu2.01 Al1",
          "Cr1 Fe1 Co1 Ni1 Cu1",
          "Y1 Ti1 Cr1 Co1 Ni1 Cu1 Al1",
          "Cr1 Mn1 Fe1 Co1 Ni1.05",
          "Zr0.09 Ti1 Mo97.69 B7.05 C1.71",
          "V3.63 Cr2.01 Fe2.01 Co2.01 Ni2.01 Cu2.01 Al1",
          "Ti2 Ta2 Nb2 V2 Al1",
          "Mo10.38 B1 Si1.12",
          "Cr2.01 Fe2.01 Co2.01 Ni2.01 Cu1 Al3.01",
          "Ti1.34 Cr1.34 Fe1.34 Ni1.34 Cu1",
          "Ti1 Ta2.88 Nb2.88 W2.88 Mo2.88",
          "Cr1.33 Mn1.33 Fe1.33 Co1.33 Ni1.33 Al1",
          "Mo89 B1 Si10",
          "V3.99 Cr1.99 Fe1.99 Co1.99 Ni1.99 Cu1.99 Al1",
          "Ti1 Cr1 Fe1 Co1 Ni1 Al2",
          "Cr1 Fe1.99 Co1 Ni1 Al1",
          "V1.5 Cr1 Fe1 Co1 Ni1",
          "Nb1 Cr4.85 Fe4.85 Co4.85 Ni4.85",
          "Ti2 Nb2 V2 Mo2 Cr2 Al1",
          "Ti1 Cr5 Fe5 Ni5 Al1",
          "Zr1 Mo40.5 B4 Si4.5",
          "Cr3.33 Fe3.33 Co3.33 Ni3.33 Cu1 Al1",
          "V3.6 Cr2 Fe2 Co2 Ni2 Cu2 Al1",
          "W1 Cr4.5 Fe4.5 Co4.5 Ni4.5 C1",
          "V1 Cr2.5 Fe2.5 Co2.5 Ni2.5 Cu2.5 Al1.25",
          "Cr1.61 Mn1.61 Fe1.61 Co1.61 Ni1.61 Al1",
          "Cr4.4 Fe1 Co4.8 Ni1.2 Al8.6",
          "Cr5 Fe5 Co5 Ni5 Al1",
          "W1.82 Ni2.93 B1",
          "Cr6 Fe1.4 Co2 Ni1.2 Cu1 Al8.4",
          "Hf4.75 Zr4.75 Ti4.75 Nb4.75 Al1",
          "Ti2 Cr4 Fe4 Co4 Ni4 Cu2 Al1",
          "Cr4 Fe1.33 Co3.17 Ni1 Al7.17",
          "Hf1.83 Zr1.83 Ti1.83 Nb1.83 Al1",
          "W4.09 Fe2 Co1 Ni2",
          "Ti2 Cr4 Fe4 Co4 Ni4 Cu3 Al1",
          "Cr1.25 Mn1.25 Fe1.25 Ni1.25 Al1",
          "Cr2 Mn2 Fe2 Co2 Ni2 Al1",
          "Ti1.2 Cr2 Fe2 Co2 Ni2 Cu2 Al1",
          "Cr1 Fe1 Ni2.01 Cu1 Al1.2",
          "Cr1.67 Fe1.67 Ni3.34 Cu1.67 Al1",
          "Hf12.25 Zr12.25 Ti12.25 Ta6.12 Nb6.12 O1",
          "Ti2 Ta1 Nb1 V1 Mo1",
          "Fe4.96 Co1 Ni4.96 Cu4.96 Al4.96",
          "Ti1 Mo1 Cr2 Fe2 Ni2 Al2",
          "Cr6.2 Fe1 Ni6.2 Cu4.2 Al2.4",
          "Zr3.33 Ti3.33 Nb3.33 V1 Mo5",
          "Mg1 Cr1 Cu1 Zn1 Al13 Si3",
          "Cr1 Fe1 Co1 Ni1.99 Al1.3",
          "Ta1 Nb5 W5 Mo5 Re2.5 C1",
          "Cr2 Fe2 Ni4 Cu2 Al1",
          "Cr14.78 Mn14.19 Fe14.26 Co14.78 Ni14.56 C1",
          "Ti27.54 V1 Al3.26",
          "Ta2.67 Nb1 V2.33 W2",
          "Mo1 Cr4.8 Fe4.8 Co4.8 Ni4.8",
          "Ti1 Ta1 Nb1 W1 Mo1",
          "Zr6.5 Ti7 Ta4 Nb5 V1 Al1.5",
          "Cr1.1 Fe1.1 Ni2.22 Cu1.1 Al1",
          "Cr9.8 Mn9.8 Fe9.8 Co9.8 Ni9.8 C1",
          "Ti1 Nb1 V1 Mo1 Al1",
          "Cr5.5 Fe1 Co1 Ni1 Cu1 Al7.17",
          "Ti1.5 Ta1 Nb1 V1 Mo1",
          "Cr1 Fe1 Co1 Ni1 Al1.4",
          "Cr16.67 Mn50 Fe82.33 Co16.67 B1",
          "Hf10 Ti21 Nb1 Si16",
          "Ti24.75 W1 Al24 Si0.25",
          "Ta1.2 Nb2 W2 Mo2 Re1 C1.2",
          "Cr1 Fe1 Co1 Ni1 Al1.8",
          "Zr2 Ti2 Nb2 V2 Mo1",
          "Nb1 Cr10 Fe10 Co10 Ni10 Al10",
          "W1 Cr3.8 Mn3.8 Fe3.8 Co3.8 Ni3.8",
          "Hf5.56 Zr5.56 Ti7.06 Ta1 Nb1",
          "Cr5 Mn5 Fe5 Co5 Ni5 Al1",
          "Mo1 Cr5 Fe5 Co5 Ni5 Al5",
          "W5 Fe2 Co1 Ni2",
          "Cr5.05 Mn5.05 Fe5.05 Co5.05 Ni5.05 Al1",
          "Cr3.3 Mn1 Fe3.3 Co3.3 Ni3.3 Al1.65",
          "Zr1 Ti1 Nb1 V1",
          "Cr1 Fe1 Ni1.99 Cu1 Al1.59",
          "Hf1.67 Zr1.67 Ti1.67 Ta1",
          "Fe1 Co1.5 Ni1 Cu1 Al1",
          "Mo1 Cr5 Fe5 Ni5 Al5",
          "Cr1 Fe5 Co5 Ni5 Al4",
          "Fe5 Co5 Ni5 Cu5 Sn1",
          "Cr1.43 Mn1.79 Fe2.86 Ni1.07 Al1",
          "Cr1 Fe1 Co1 Ni1 Cu1 Al1",
          "Ti3.33 Ni2.33 C1",
          "Cr1 Mn1 Fe1 Ni1",
          "Mn12.5 Fe12.5 Co12.5 Ni12.5 Cu12.5 Sn1",
          "Ti1 Cr5 Fe5 Co5 Ni5 Cu5 Al2.51",
          "Ti4 Ta4 Nb4 V4 Al1",
          "Mg1 Ni1 Cu1 Zn1 Al13 Si3",
          "Ti4.4 Nb11.4 Mo1 Si3.2",
          "Ti2 Cr2 Fe2 Co2 Ni2 Cu2 Al1",
          "Mn3 Ni3 Cu3 Al1",
          "Fe1 Co1 Ni1 Cu1 Sn0.02",
          "Cr1 Fe1 Co1 Cu1 Al2.5",
          "Hf3.33 Zr3.33 Ti3.33 Ta3.33 Nb3.33 Al1",
          "V1 Cr4.8 Fe4.8 Co4.8 Ni4.8 Cu4.8",
          "Cr1 Fe1 Ni1 Al1.3",
          "Zr2.59 Ti2.53 Ta1 Nb2.89",
          "Nb1 Cr2.5 Fe2.5 Co2.5 Ni5.25",
          "Cr2 Mn1.2 Fe2 Co2 Ni2 Al1",
          "Cr1 Fe1 Ni1.2 Cu1 Al1",
          "V2.4 Cr2 Fe2 Co2 Ni2 Cu2 Al1",
          "Mo1 Cr5 Fe5 Co5 Ni5",
          "Cr2.12 Fe2.12 Co2.12 Ni4.12 Cu1 Al1",
          "Hf1 Zr1 Ti1 Ta1 Nb1 Mo1",
          "Cr1 Co1 Ni1 Al1",
          "W63.76 Fe1 Ni2.34",
          "Mn20 Fe20 Co20 Ni20 Cu20 Sn1",
          "W1 Cr5 Fe5 Co5 Ni5",
          "Cr1 Fe1 Ni2 Cu1 Al1.8",
          "Cr1.14 Mn1.14 Fe1.14 Co1.14 Ni1.14 Al1",
          "Cr1 Fe1 Co1 Al1",
          "Mo1 Cr2 Fe2 Co2 Ni2",
          "Ti5 Ni4 C1",
          "Cr2 Mn2 Fe3 Ni1 Al1",
          "Ti1 Ta1.33 Nb1.33 W1.33 Mo1.33",
          "Ta1 Nb2 W2 Mo2 Re1 C1",
          "Cr18.53 Mn17.98 Fe17.89 Co17.89 Ni18.44 C1",
          "V1.2 Cr2 Fe2 Co2 Ni2 Cu2 Al1",
          "Zr2 Ti2 Ta1 Nb2",
          "Zr0.08 Ti1 Mo98.79 C0.13",
          "Cr2.38 Fe1.38 Co2.38 Ni1 Al5.38",
          "Cr2 Fe2 Co2 Ni6 Cu1 Al2",
          "Cr1.17 Fe1.11 Co1.11 Ni1.17 Al1",
          "W112.94 Fe1 Ni2.34",
          "Ti1 Nb1 V1 Mo1 Al1.25",
          "Ta1 Cr2.5 Mn2.5 Fe2.5 Co2.5 Ni2.5 Al1.25",
          "Cr1.14 Fe1.14 Co1.14 Ni1.14 Al1",
          "W1 Fe3 Ni7",
          "Cr2 Fe2 Co2 Ni2 Cu1 Al4",
          "Nb1 Cr2 Fe2 Co2 Ni2 Al2",
          "Mo82 B1 Si16",
          "Cr1.43 Mn1.43 Fe1.43 Co1.43 Ni1.43 Al1",
          "Li38 Ca1 Mg48 Al15 Si1",
          "V3.21 Cr2.01 Fe2.01 Co2.01 Ni2.01 Cu2.01 Al1",
          "W1 Cr2.3 Mn2.3 Fe2.3 Co2.3 Ni2.3",
          "Ti1 Ta4 Nb4 W4 Mo4",
          "Cr2.86 Fe1.71 Co2.57 Ni1 Al6.14",
          "Cr1.13 Mn1.13 Fe1.13 Co1.13 Ni1.13 Al1",
          "Mo1 Cr2.3 Mn2.3 Fe2.3 Co2.3 Ni2.3",
          "Hf2 Zr2 Ti2 Ta1",
          "Nb1 Mo29.89 B2.85 Si3.3",
          "Cr1.67 Fe1.67 Co1.67 Ni1.67 Al1",
          "Ti1 Cr3.33 Fe3.33 Co3.33 Ni3.33",
          "Ti1 Cr1 Fe1 Co1.5 Ni1.5",
          "Cr9.8 Fe9.8 Co9.8 Ni9.8 Cu1 Al9.8",
          "Mo1 Cr2.5 Fe11 Co3.5 Ni2",
          "Mo1 Cr2 Fe2 Co2 Ni2 Al3",
          "Ta2 Nb2 W2 Mo2 Si1",
          "Cr6.2 Fe1.6 Co2 Ni1.4 Cu1 Al7.8",
          "Mo1 Cr1 Fe1 Ni1 Al1",
          "Cr1 Mn1 Fe1 Cu1 Al1",
          "Cr2 Fe2 Co2 Ni2 Al1",
          "Ti1 Cr1 Fe1 Co1 Ni1 Al1",
          "Mn3 Ni3 Cu3 Sn1",
          "Zr0 Ti1 Mo84.97 Co0.21 S0.25",
          "Ti2.39 Cr1.99 Fe1.99 Co1.99 Ni1.99 Cu1.99 Al1",
          "Ti2 V2 Fe2 Co2 Ni2 Cu1",
          "V1 Cr3.8 Mn3.8 Fe3.8 Co3.8 Ni3.8",
          "Ta1 Nb1 V1 W1 Mo1 Cr1",
          "Ta1.62 Nb1.57 V1 W1.56 Mo1.54 Cr1.47",
          "W1 Re1 Fe3 Ni7",
          "Zr1 Ti1 Nb1 V1.25 Mo1",
          "W1 Cr2 Fe2 Co2 Ni2",
          "Ti1 Cr2 Fe2 Co2 Ni2",
          "Ti4 Cr2 Fe2 Co2 Ni2 Cu2 Al1",
          "Mo1 Cr10 Fe10 Co10 Ni10 Al10",
          "Cr2.6 Fe2.4 Co2.6 Ni2 Cu1 Al9.4",
          "Ti3.98 Cr3.98 Fe3.98 Ni3.98 Cu1",
          "Zr1 Ti2.04 Ta1.14 Nb2.1 Al2.19",
          "Ti3.63 Cr2.01 Fe2.01 Co2.01 Ni2.01 Cu2.01 Al1",
          "Ti2 Cr4 Fe4 Co4 Ni4 Al1",
          "Cr1 Fe1 Ni1.94 Cu1 Al1",
          "Zr10 Ti10 Nb10 V3 Mo1",
          "Cr1 Mn1 Fe6 Co6 Ni6",
          "Zr1 Ti2.7 Nb1.5 Cr2 Al2.8",
          "Hf4 Zr4 Ti4 Ta4 Nb4 Mo1",
          "Cr2.87 Fe1.88 Co1.88 Ni1.88 Cu1 Al2.87",
          "Cr3.34 Mn1 Fe3.34 Co3.34 Ni3.34 Al1",
          "Ti1 Cr1 Fe1 Ni1 Cu1",
          "Cr5.17 Fe1.5 Co1.67 Ni1.33 Cu1 Al6",
          "Mo1 Cr2.01 Fe2.01 Co2.01 Ni3.01 Al2.01",
          "Cr5.36 Mn31.09 Fe36 Ni10.18 Al6.73 C1",
          "Ti27.11 V1 Al3.21",
          "Cr1 Fe1 Co1 Ni1 Al1 C1",
          "Hf8.08 Zr8.08 Ti8.08 Nb8.08 Al1",
          "Cr1.05 Mn1.05 Fe1.05 Co1.05 Ni1.05 Al1",
          "Mn33.33 Fe33.33 Co33.33 Ni33.33 Cu33.33 Sn1",
          "Ta1 Nb2.5 W2.5 Mo2.5 Re1.25 C1",
          "Cr10.17 Fe10.17 Co10.17 Ni10.17 Al1",
          "Cr3 Fe1.29 Co2.86 Ni1 Al6.14",
          "Fe1 Co1 Ni1 Cu1",
          "Hf1 Zr1 Ti1 Ta1 Nb1",
          "Cr6.2 Fe1 Ni6.4 Cu4 Al2.4",
          "Hf1 Ti2 Nb2 Mo1",
          "Ti2 Nb2 V2 Mo1 Cr4",
          "Hf7.5 Ti21 Nb1 Si16",
          "V1 Mo1 Fe1 Co1 Ni1.2",
          "Fe2 Co2 Ni2 Cu2 Sn1",
          "Cr3.2 Fe2 Co3.4 Ni1 Cu1 Al9.4",
          "Mn6.34 Ni6.34 Cu6.34 Al1",
          "Cr1 Fe1 Ni2 Cu1 Al2.2",
          "Cr4 Fe1 Ni3.57 Cu4.14 Al1.57",
          "Cr3.8 Fe2 Co2.8 Ni1 Cu1 Al9.4",
          "Ti1 Mn35 Fe38.75 Ni18.75 Al30",
          "Hf1 Zr1 Ti1 Nb1 O1.5",
          "Cr1.67 Fe1.67 Ni3.33 Cu1.67 Al1",
          "Cr1 Fe1 Co1 Pd1 Ni1",
          "Cr23.73 Mn24.58 Fe23.37 Co23.61 Ni24.1 C1",
          "Cr1 Fe1 Co1 Ni1.96 Al1",
          "Cr1.44 Fe1.29 Co1.29 Ni1.44 Al1",
          "Cr1.67 Mn1.67 Fe1.67 Ni1.67 Al1",
          "Zr1 Ti1 Nb1 V2 Mo1",
          "Cr2 Fe2 Co2 Ni2 Cu1 Al1.41",
          "Cr2.01 Fe2.01 Co3.01 Ni2.01 Cu1 Al2.01",
          "Cr2.63 Mn2.63 Fe2.63 Co2.63 Ni2.63 Al1",
          "Mo1 Cr4.96 Fe4.96 Ni4.96 Al4.96",
          "Zr1.43 Ti1.43 Nb1.43 V1.43 Mo1",
          "Cr5 Co4.5 Ni5 Cu4.5 Al1",
          "Cr3.33 Fe3.33 Co3.33 Ni3.33 Al3.33 C1",
          "Ti2 Cr4 Fe4 Co4 Ni4 Cu1 Al3",
          "Hf1 Zr2 Ti2 Nb2 Mo1 Si1",
          "Hf1 Zr2 Ti2 Nb2 Mo1 Si1.8",
          "Ti1 Ta5.88 V5.88 W5.88 Cr5.88",
          "Ti4 Nb4 V4 Mo4 Al1",
          "Cr3 Fe2 Co3.6 Ni1 Cu1 Al9.4",
          "Cr4.97 Fe7.44 Ni2.48 Al1",
          "Cr6.8 Fe1 Co4.4 Ni2 Al5.8",
          "Cr2.33 Mn2.33 Fe2.33 Co2.33 Ni2.33 Al1",
          "Cr1 Fe1 Co1 Ni1 Al1",
          "Ti1 Cr5 Fe5 Co5 Ni5 Cu5 Al2.5",
          "Cr1 Fe1 Co1 Cu1 Al1.8",
          "Cr1.36 Fe1.27 Co1.55 Ni1 Al3.91",
          "W30.51 Fe1 Ni2.3",
          "W2.14 Fe2 Co1 Ni2",
          "W1 Fe2.1 Ni4.9",
          "Hf1.02 Zr1.01 Ti1.07 Ta1.08 Nb1",
          "Ti2.5 Ni1.5 C1",
          "Ti2 Cr2 Fe2 Co2 Ni2 Al1",
          "Zr1 Ti1 Nb1",
          "Ta1 Co5.5 B3.5",
          "Zr1 Ti4 Nb4 V4 Al4",
          "Cr1.34 Fe1.34 Co1.34 Ni1.34 Al1",
          "Ti1 V1 Cr1 Fe1 Ni1 Cu1 Al1",
          "Mo10.17 B1 Si5.5",
          "Zr1 Ti1 Nb1 V1 Mo1",
          "Ti2.82 Cr2.01 Fe2.01 Co2.01 Ni2.01 Cu2.01 Al1",
          "V1 Mo1 Fe1 Co1 Ni1.8",
          "Cr3 Fe3 Co3 Al1",
          "V2.82 Cr2.01 Fe2.01 Co2.01 Ni2.01 Cu2.01 Al1",
          "Mo27.33 B1 Si5",
          "Cr1 Fe1 Co1 Ni1 Cu1 Al2.5",
          "Cr3.6 Fe1 Co4.2 Ni1 Cu1 Al9.2",
          "Cr3.33 Fe3.33 Co3.33 Cu3.33 Al1",
          "Mo1 Cr2.01 Fe3.01 Co2.01 Ni2.01 Al2.01",
          "Cr2.4 Mn5.6 Fe7 Ni4 Al1",
          "Ti2 Nb2 V2 Mo1 Cr2",
          "Ti1 Nb1 V1 Mo1 Al1.5",
          "Nb1 Cr2.43 Fe2.43 Co2.43 Ni2.43",
          "Mo40.5 B1 Si8.5",
          "Cr1 Fe2 Co2 Ni2 Al1",
          "Cr1.43 Fe1.43 Ni3.29 Al1",
          "Fe2 Co2 Ni2 Si1",
          "Cr1.89 Fe1.89 Co1.89 Al1",
          "Nb1 Cr4 Fe4 Co4 Ni4 Al4",
          "Zr1 Ti1 Nb1 V1 Mo1.7",
          "Hf1 Zr1 Ti1 Ta1 Nb1 Al1",
          "Li2.6 Ca0.03 Mg3 Al1 Si0.03",
          "Cr2.4 Fe2.6 Co2.4 Ni2.2 Cu1 Al9.4",
          "Cr4.96 Fe4.96 Co4.96 Ni4.96 Al1",
          "Cr4 Fe4 Co4 Ni4 Al1",
          "Ti1 W64.67 C1",
          "Ti1 Cr5.05 Fe5.05 Co5.05 Ni5.05 Al5.05",
          "Cr4.76 Fe4.76 Co4.76 Ni1 Al4.76",
          "Cr4.76 Fe1 Co4.76 Ni4.76 Cu4.76",
          "Fe1.33 Co1.33 Ni1.33 Al1",
          "Cr2.21 Fe2.21 Co2.21 Ni2.21 Cu1 Al1.77",
          "Hf1 Zr1.4 Ti2 Nb2 Mo1",
          "Cr1.2 Mn2.3 Fe3.5 Ni2 Al1",
          "V1 Cr2.49 Fe2.49 Co2.49 Ni2.49 Cu2.49 Al1.25",
          "Zr1 Ti2.2 Nb1.5 Cr2 Al3.3",
          "V1.25 Mo1 Fe1.25 Co1.25 Ni1.25",
          "Mo5 B2 Si1",
          "Cr2 Fe2 Co2 Ni2 Cu1 Al2",
          "Cr1 Fe1 Co3 Ni3.2 Al1.8",
          "Mo1 Cr2 Fe2 Co2 Ni3 Al2",
          "Cr2 Mn2 Fe2 Ni2 Al1",
          "Mo1 Cr6.69 Fe6.69 Co6.69 Ni6.69",
          "Ti1 Cr1.25 Fe1.25 Co1.25 Ni1.25 Cu1.25",
          "Hf1 Zr2 Ti2 Nb2 Mo1 Si1.4",
          "Cr1 Mn5.8 Fe6.73 Ni1.88 Al1.25",
          "Ti1 Cr2 Fe2 Ni2",
          "Cr1 Fe1 Co1 Cu1 Al1",
          "Cr1 Fe1 Ni2 Cu1 Al2.5",
          "Zr1 Ti2 Nb2 V2 Al2",
          "Cr2 Fe2 Co2 Ni2 Cu1 Al1",
          "Cr1.11 Fe1.11 Ni2.33 Al1",
          "Ti4.75 Nb4.75 W4.75 Mo4.75 Cr1",
          "Cr3.6 Fe1 Co5.8 Ni1 Al8.6",
          "Zr5 Ti7.5 Ta4 Nb5 V1 Al2.5",
          "Zr0.09 Ti1.08 Mo106.37 B3.82 C1",
          "Cr2.04 Mn2.04 Fe2.04 Co2.04 Ni2.04 Al1",
          "Cr2.01 Fe2.01 Co2.01 Ni3.01 Cu1 Al2.01",
          "V5 Mo1 Fe5 Co5 Ni5",
          "Zr4 Ti4 Ta4 Nb4 Al1",
          "Mn10 Fe10 Co10 Ni10 Cu10 Sn1",
          "Ti1.99 V1 Mo1 Cr1 Fe1",
          "Cr3.33 Fe3.33 Ni6.64 Al1",
          "Cr1 Mn1 Fe1 Co1 Ni1",
          "V1 Mo1 Fe1 Co1 Ni1.4",
          "Cr1.25 Mn1 Fe1.25 Co1.25 Pd1.25 Ni1.25",
          "V1.61 Cr2.01 Fe2.01 Co2.01 Ni2.01 Cu2.01 Al1",
          "Ti4 Nb4 V4 Mo2 Cr1",
          "Hf3.32 Zr3.32 Ti3.32 Nb3.32 Al1",
          "Ta1 Cr5 Mn5 Fe5 Co5 Ni5",
          "Zr1 Ti1 Nb1 Mo1",
          "Hf5 Zr1 Ti10 Nb10 Mo5",
          "Ti27.81 V1 Al3.29",
          "Hf1 Zr2 Ti2 Nb2 Mo1",
          "Ti1 Mo2 Cr4 Fe4 Ni4 Al4",
          "Cr2 Fe2 Co2 Ni2 Cu2 Al1 B2",
          "Cr1 Fe1 Ni1.4 Cu1 Al1",
          "Nb11.6 Fe1 Co1 Ni1 Cu1",
          "Ti27.37 V1 Al3.24",
          "Hf2 Zr4 Ti8 Nb1 V4",
          "Ti1 Cr5 Fe5 Co5 Ni5 Al9",
          "W1 Fe1.8 B1.2",
          "Ti1 Cr2 Fe2 Co3 Ni3",
          "Hf2.5 Zr2.5 Ti2.5 Ta1",
          "Ta3 Co28.5 Ni1 B17.5",
          "Hf3.33 Ti3.33 Nb3.33 V1.67 Mo1.67 Si1",
          "Ta1 V1 W1 Cr1",
          "Cr1 Fe1 Ni1 Al1",
          "Ti5 Cr5 Fe5 Co7.5 Ni7.5 Al1",
          "Ti1 Ta2 Nb2 W2 Mo2",
          "Cr4.6 Fe1 Co4.8 Ni1 Al8.6",
          "W2.5 Re1 Fe5.25 Ni12.25",
          "Cr1.67 Fe1.67 Co1.67 Ni1.67 Al1.67 Si1",
          "V1 Cr1.05 Fe1.05 Co1.05 Ni1.05 Cu1.05",
          "Mo1 Cr2 Fe1 Co2 Ni2 Al2",
          "Hf1.5 Zr2.5 Ti2.5 Ta2.5 Nb2.5 Al1",
          "Mo5.3 B1 Si3.7",
          "Cr9 Fe10 Co10 Ni10 Al1",
          "Hf2 Ti2 Nb2 V1 Mo1 Si1",
          "Cr5 Fe5 Co5 Ni5 Cu5 Al2.5 B1",
          "Cr2 Fe2 Co1 Ni2 Al2",
          "Ti1 Cr1 Fe1 Co1 Ni1 Cu1",
          "Cr6.34 Fe6.34 Co6.34 Al1",
          "Ti27.45 V1 Al3.25",
          "Cr7 Fe1 Ni5.2 Cu4.8 Al2",
          "Y1 Ti1.25 Cr1.25 Co1.25 Ni1.25 Cu1.25 Al1.25",
          "Ti1 Cr1 Fe1 Co1 Ni1 Al1.5",
          "Nb1 Cr5 Fe5 Co5 Ni10.5",
          "V1 Cr10.25 Fe10.25 Co10.25 Ni10.25 Cu10.25 Al10.25",
          "Ti10 Ni9 C1",
          "Cr2.5 Mn1 Fe2.5 Co2.5 Pd2.5 Ni2.5",
          "Ti1 Nb5 Mo5 Cr5 Co5",
          "Cr4.96 Fe1 Co4.96 Ni4.96 Al4.96",
          "Ti1 Cr1.33 Fe1.33 Co1.33 Ni1.33 Al1.6",
          "Ti1.32 Nb1.32 V1.34 Mo1.34 Al1"
         ],
         "legendgroup": "clustered",
         "marker": {
          "color": "#E15F99",
          "symbol": "circle"
         },
         "mode": "markers",
         "name": "clustered",
         "showlegend": true,
         "type": "scattergl",
         "x": [
          4.978418827056885,
          -46.60498809814453,
          28.86591911315918,
          17.839252471923828,
          8.359329223632812,
          -88.27233123779297,
          -56.24018096923828,
          -53.291011810302734,
          18.30480194091797,
          -3.4901466369628906,
          5.1704206466674805,
          -15.66789722442627,
          40.889892578125,
          -40.5353889465332,
          -13.552093505859375,
          34.476627349853516,
          -41.85792922973633,
          80.6822509765625,
          79.35945892333984,
          -12.249707221984863,
          -11.60372543334961,
          -40.2749137878418,
          -2.018230438232422,
          -43.16175079345703,
          50.455753326416016,
          22.851606369018555,
          20.377344131469727,
          -57.58407974243164,
          -48.654335021972656,
          -43.36205291748047,
          -45.7054443359375,
          -16.676326751708984,
          17.53725814819336,
          -12.291947364807129,
          -29.175933837890625,
          12.505548477172852,
          -41.85701370239258,
          1.8393689393997192,
          35.75444793701172,
          -13.1613130569458,
          4.533118724822998,
          -2.025017738342285,
          -8.199071884155273,
          -32.136966705322266,
          -0.7654446363449097,
          33.464664459228516,
          -30.259016036987305,
          -3.065398931503296,
          -8.203239440917969,
          -82.03993225097656,
          -63.85800552368164,
          -53.90165710449219,
          -7.601534843444824,
          -16.15730857849121,
          -46.67667770385742,
          28.274742126464844,
          -43.07810592651367,
          30.666833877563477,
          -3.570997953414917,
          -73.88185119628906,
          7.5617523193359375,
          42.9840087890625,
          51.570770263671875,
          35.28621292114258,
          -43.74142837524414,
          -41.91670608520508,
          -27.255178451538086,
          44.12409591674805,
          60.9919319152832,
          -11.41391658782959,
          2.8481571674346924,
          -51.38819885253906,
          54.766666412353516,
          2.629944324493408,
          52.65073776245117,
          -8.841415405273438,
          48.80022430419922,
          -49.197906494140625,
          -44.15533447265625,
          -29.042816162109375,
          5.091642379760742,
          60.42034149169922,
          -42.32908630371094,
          -28.629030227661133,
          7.513209819793701,
          -46.54326629638672,
          44.09992980957031,
          -33.426998138427734,
          17.937837600708008,
          30.320032119750977,
          -33.54597091674805,
          -34.30803298950195,
          -62.51626205444336,
          30.540863037109375,
          -2.511162281036377,
          -15.252570152282715,
          -48.4174919128418,
          1.8981462717056274,
          -57.57244110107422,
          -2.1578369140625,
          81.2547607421875,
          -10.315640449523926,
          -19.035297393798828,
          -74.54170227050781,
          -30.538732528686523,
          -31.820817947387695,
          -71.71864318847656,
          -83.6275634765625,
          35.19089126586914,
          -57.435203552246094,
          -52.532535552978516,
          4.805115699768066,
          -7.1003193855285645,
          7.189421653747559,
          -68.16020202636719,
          19.643972396850586,
          -27.409347534179688,
          7.561113357543945,
          -40.03803634643555,
          -9.48283863067627,
          73.36560821533203,
          -78.25634002685547,
          -4.990675926208496,
          -63.70472717285156,
          -44.167869567871094,
          71.65807342529297,
          71.99835205078125,
          -35.00993728637695,
          11.636504173278809,
          34.00638198852539,
          -40.896183013916016,
          1.0073630809783936,
          17.76030158996582,
          46.03147506713867,
          -7.538219928741455,
          93.31610107421875,
          -1.6224312782287598,
          43.97686767578125,
          52.62529373168945,
          -11.716812133789062,
          -29.68898582458496,
          -7.963443279266357,
          -43.637569427490234,
          -23.511077880859375,
          39.893043518066406,
          -11.295791625976562,
          -53.93052673339844,
          55.07842254638672,
          25.907365798950195,
          -56.081825256347656,
          -4.0335564613342285,
          -46.62089920043945,
          -7.483184814453125,
          -61.96663284301758,
          -49.885887145996094,
          -53.21772384643555,
          -2.7404661178588867,
          -11.390848159790039,
          -54.335853576660156,
          -4.371247291564941,
          6.667832851409912,
          -30.713903427124023,
          0.5670885443687439,
          12.638999938964844,
          -61.755279541015625,
          37.54701232910156,
          -23.094093322753906,
          -88.46726989746094,
          -13.733552932739258,
          -13.691225051879883,
          -57.351707458496094,
          0.5703911185264587,
          76.6587905883789,
          -53.197052001953125,
          -58.26310348510742,
          -7.065493106842041,
          -45.009971618652344,
          -28.09677505493164,
          -60.798709869384766,
          -40.79370880126953,
          -44.78579330444336,
          -40.07717514038086,
          25.091691970825195,
          -81.33533477783203,
          3.388746500015259,
          69.92240905761719,
          -1.1632202863693237,
          -9.499247550964355,
          2.8087024688720703,
          19.48031997680664,
          -28.92626953125,
          31.96878433227539,
          -26.77335548400879,
          25.932714462280273,
          -25.98655891418457,
          -52.5019416809082,
          17.961685180664062,
          -19.373905181884766,
          -40.17597579956055,
          24.21459197998047,
          -7.531426429748535,
          -19.04501724243164,
          -0.9367117881774902,
          -58.32230758666992,
          -91.05224609375,
          -33.618228912353516,
          14.500833511352539,
          -30.880939483642578,
          -10.268119812011719,
          -53.6197624206543,
          -91.08246612548828,
          -2.7827491760253906,
          -14.742083549499512,
          2.8417305946350098,
          -34.346248626708984,
          -21.225467681884766,
          -3.5206758975982666,
          53.45392608642578,
          -57.23884963989258,
          -75.7756118774414,
          50.953792572021484,
          17.972198486328125,
          4.838389873504639,
          15.386143684387207,
          9.013673782348633,
          24.203773498535156,
          29.06299591064453,
          44.82410430908203,
          38.16767501831055,
          33.76744842529297,
          28.048465728759766,
          -26.618778228759766,
          -15.176274299621582,
          -22.766109466552734,
          6.3688063621521,
          -13.310226440429688,
          -5.412237644195557,
          71.54623413085938,
          -51.96104049682617,
          8.711380004882812,
          -41.08624267578125,
          -90.41618347167969,
          52.627296447753906,
          -57.6265869140625,
          29.488143920898438,
          -13.94085693359375,
          5.157705307006836,
          79.27713775634766,
          53.886863708496094,
          -32.14695358276367,
          -59.32046890258789,
          -53.65346145629883,
          -3.8806354999542236,
          -29.303871154785156,
          14.495519638061523,
          3.0806376934051514,
          -12.01089859008789,
          -29.557340621948242,
          -53.79753875732422,
          -92.9256820678711,
          -29.493223190307617,
          -39.544342041015625,
          18.027530670166016,
          -11.585182189941406,
          22.855424880981445,
          -3.324971914291382,
          -60.41889572143555,
          -14.183004379272461,
          55.917179107666016,
          -81.33019256591797,
          -87.09793090820312,
          -8.338728904724121,
          33.97715377807617,
          -29.972183227539062,
          -64.3600845336914,
          -11.809026718139648,
          -49.206417083740234,
          -74.49182891845703,
          -67.88545989990234,
          -26.524242401123047,
          40.86924362182617,
          -13.731043815612793,
          77.95946502685547,
          -53.78627395629883,
          36.934242248535156,
          -12.726685523986816,
          46.69392776489258,
          45.93053436279297,
          40.2310676574707,
          -45.32756805419922,
          -23.341459274291992,
          -58.31544494628906,
          31.800947189331055,
          -92.8143081665039,
          36.4084358215332,
          36.32692337036133,
          -40.452823638916016,
          40.30800247192383,
          -61.96771240234375,
          -29.38057518005371,
          -83.64640808105469,
          -60.72911071777344,
          54.27975845336914,
          15.577731132507324,
          -2.7047030925750732,
          71.62914276123047,
          -53.9164924621582,
          -10.240979194641113,
          -10.66042423248291,
          -25.274812698364258,
          78.6832275390625,
          48.90385818481445,
          -24.45969581604004,
          -1.768912434577942,
          -15.048661231994629,
          -40.355098724365234,
          -66.56382751464844,
          -54.677433013916016,
          -16.167591094970703,
          8.533257484436035,
          91.84371948242188,
          -9.426497459411621,
          19.011919021606445,
          -8.733808517456055,
          36.2100715637207,
          -24.007160186767578,
          -25.308292388916016,
          -51.01739501953125,
          63.894493103027344,
          92.62019348144531,
          24.829030990600586,
          -27.79443359375,
          35.23971176147461,
          79.64949798583984,
          24.054115295410156,
          38.198307037353516,
          -10.748004913330078,
          40.00413513183594,
          -13.953683853149414,
          -6.872010707855225,
          29.063434600830078,
          -10.664785385131836,
          40.11846923828125,
          -58.775108337402344,
          30.914077758789062,
          19.86345863342285,
          27.736501693725586,
          -9.13078784942627,
          -27.25640106201172,
          -75.61152648925781,
          -24.192493438720703,
          -3.5770339965820312,
          -11.072693824768066,
          -28.027589797973633,
          3.7565557956695557,
          -15.505331039428711,
          -9.487546920776367,
          -3.120619535446167,
          -4.494760513305664,
          -87.04331970214844,
          -51.95514678955078,
          -26.767213821411133,
          -25.761096954345703,
          17.140714645385742,
          -30.04442596435547,
          -36.51333999633789,
          -6.7170515060424805,
          -17.050081253051758,
          72.23461151123047,
          47.13408279418945,
          -34.9152717590332,
          -8.510149955749512,
          8.957501411437988,
          -14.630278587341309,
          -8.184808731079102,
          -4.903171062469482,
          -28.005481719970703,
          49.64638900756836,
          -44.068485260009766,
          -8.087498664855957,
          -10.114619255065918,
          44.24314880371094,
          -59.76105499267578,
          -30.03318977355957,
          -57.70290756225586,
          18.94355583190918,
          27.81650733947754,
          -12.897638320922852,
          -65.56745910644531,
          -10.729487419128418,
          7.5438666343688965,
          -70.7672348022461,
          -23.59352684020996,
          -5.31105899810791,
          37.86591720581055,
          -15.433774948120117,
          -53.189212799072266,
          -46.88520431518555,
          -44.27862548828125,
          -11.672510147094727,
          14.68277359008789,
          49.36493682861328,
          -92.59430694580078,
          6.70225715637207,
          -12.461359977722168,
          35.76613998413086,
          -47.102718353271484,
          -29.373748779296875,
          -81.41372680664062,
          44.36495590209961,
          3.0115692615509033,
          24.54613494873047,
          -53.654808044433594,
          -75.69084167480469,
          -12.830171585083008,
          0.9333682060241699,
          -3.9496679306030273,
          -24.486995697021484,
          -53.526451110839844,
          -35.497867584228516,
          17.520444869995117,
          -12.047435760498047,
          -5.759187698364258,
          -71.59262084960938,
          -4.14065408706665,
          -10.668595314025879,
          -37.852481842041016,
          4.587213516235352,
          -37.81843948364258,
          -53.71879196166992,
          53.02787399291992,
          -81.98725891113281,
          19.81195068359375,
          -90.409423828125,
          -36.146240234375,
          -49.19679641723633,
          43.18373107910156,
          -58.98362731933594,
          14.699810981750488,
          -32.433231353759766,
          -10.568581581115723,
          33.7782096862793,
          -46.902828216552734,
          38.87162780761719,
          44.43383026123047,
          -84.02256774902344,
          51.66844177246094,
          12.76608657836914,
          53.51860809326172,
          21.098081588745117,
          -58.18998718261719,
          -51.00886917114258,
          -29.063016891479492,
          -29.669069290161133,
          4.554744720458984,
          -18.583389282226562,
          -75.6711196899414,
          -64.08496856689453,
          1.546248197555542,
          4.008524417877197,
          -48.148868560791016,
          -14.44526195526123,
          -45.51771926879883,
          -14.32160758972168,
          9.937066078186035,
          -39.72847366333008,
          -8.932319641113281,
          -17.548477172851562,
          -14.70189094543457,
          7.17372989654541,
          -62.125885009765625,
          24.04352378845215,
          -35.73300552368164,
          69.82941436767578,
          27.881898880004883,
          -71.35501098632812,
          -11.79508113861084,
          -8.762593269348145,
          64.21177673339844,
          93.19973754882812,
          54.75432205200195,
          -11.624568939208984,
          -29.320274353027344,
          -28.895599365234375,
          -52.56489181518555,
          -30.349584579467773,
          29.257614135742188,
          -47.36444091796875,
          7.699645042419434,
          4.684230804443359,
          -12.248147010803223,
          -11.527536392211914,
          55.30855178833008,
          -89.2857437133789,
          6.674521446228027,
          -28.26970863342285,
          -60.080474853515625,
          20.789710998535156,
          23.687620162963867,
          3.4015605449676514,
          -12.261466026306152,
          -8.471027374267578,
          10.827964782714844,
          25.293302536010742,
          4.225807189941406,
          -18.948017120361328,
          -19.330907821655273,
          33.019386291503906,
          -26.153383255004883,
          -82.64131164550781,
          53.00871276855469,
          12.953987121582031,
          48.52143859863281,
          -11.226556777954102,
          40.26511001586914,
          -35.015892028808594,
          -57.18411636352539,
          26.52313804626465,
          -47.735565185546875,
          -26.434120178222656,
          -82.292236328125,
          6.349406719207764,
          -54.97687911987305,
          7.200301170349121,
          -42.76148986816406,
          20.04759979248047,
          -48.82929229736328,
          45.70992660522461,
          24.55449104309082,
          -27.73805809020996,
          2.421740770339966,
          41.1217155456543,
          -60.153167724609375,
          21.54250717163086,
          -49.21403503417969,
          -15.69973087310791,
          -21.227455139160156,
          -47.604942321777344,
          -36.99559783935547,
          25.941728591918945,
          -4.370307922363281,
          25.04488754272461,
          -29.645042419433594,
          -48.81064224243164,
          -33.73039627075195,
          -43.058353424072266,
          -58.370582580566406,
          -11.3584623336792,
          -33.094757080078125,
          -15.195685386657715,
          -3.7349629402160645,
          72.48426818847656,
          -4.992625713348389,
          -13.648468971252441,
          73.70604705810547,
          -18.56053352355957,
          -4.561233997344971,
          -78.0858383178711,
          -56.68252182006836,
          -0.8160695433616638,
          -70.77348327636719,
          -74.9019546508789,
          53.0305061340332,
          37.824459075927734,
          -43.731014251708984,
          -39.881629943847656,
          -92.9424057006836,
          54.20405578613281,
          6.894697666168213,
          -12.708220481872559,
          42.07582473754883,
          -75.263916015625,
          -45.579734802246094,
          18.980178833007812,
          48.69873809814453,
          -27.043344497680664,
          41.447017669677734,
          40.31401062011719,
          -72.29012298583984,
          -45.97896194458008,
          34.3401985168457,
          -3.7192492485046387,
          37.63090515136719,
          -2.399221181869507,
          -83.90591430664062,
          35.061004638671875,
          20.373144149780273,
          41.80813217163086,
          -3.775390386581421,
          50.49410629272461,
          -8.29850959777832,
          -42.85443115234375,
          51.57917785644531,
          -52.10359573364258,
          -7.7683634757995605,
          -18.29950523376465,
          -52.08426284790039,
          -48.34950637817383,
          48.424495697021484,
          -67.90423583984375,
          49.534751892089844,
          -40.95625305175781,
          -44.46564483642578,
          -27.165010452270508,
          -65.35386657714844,
          -82.81915283203125,
          -33.14047622680664,
          15.735727310180664,
          -81.42880249023438,
          -89.23291778564453,
          -38.18815612792969,
          45.88206481933594,
          7.100555896759033,
          71.88125610351562,
          1.8829681873321533,
          -87.85994720458984,
          -63.99995422363281,
          -24.012535095214844,
          61.57769775390625,
          -54.3614387512207,
          -47.54280471801758,
          37.60231018066406,
          -13.311631202697754,
          -49.89081954956055,
          -58.91905212402344,
          -46.60627746582031,
          -27.195383071899414,
          -12.866262435913086,
          64.34814453125,
          5.518854141235352,
          47.94978332519531,
          -88.43801879882812,
          -33.07840347290039,
          -67.23085021972656,
          -61.29712677001953,
          -14.226550102233887,
          -25.54628562927246,
          15.523435592651367,
          -81.864990234375,
          41.364925384521484,
          41.84989547729492,
          -45.29862976074219,
          -44.18358612060547,
          37.81283950805664,
          17.953723907470703,
          -12.458468437194824,
          -9.785100936889648,
          -8.67589282989502,
          47.460140228271484,
          34.373626708984375,
          -60.16555404663086,
          -9.025221824645996,
          -5.30027961730957,
          -27.962181091308594,
          -10.598563194274902,
          28.18266487121582,
          -59.54745101928711,
          6.447274208068848,
          -48.13909912109375,
          -42.152774810791016,
          41.05391311645508,
          -12.636109352111816,
          -61.34389114379883,
          -47.94668197631836,
          49.76998519897461,
          25.60282325744629,
          -12.515737533569336,
          -17.307954788208008,
          -16.460159301757812,
          -7.197834491729736,
          -24.36153793334961,
          -4.990514278411865,
          39.18260192871094,
          -3.7382895946502686,
          -40.358421325683594,
          -53.846553802490234,
          -12.793641090393066,
          -14.823564529418945,
          -88.4108657836914,
          18.066997528076172,
          3.40543532371521,
          14.236442565917969,
          -51.99266052246094,
          34.05729675292969,
          34.16942596435547,
          -6.325615882873535,
          52.30926513671875,
          -33.84833526611328,
          -16.377309799194336,
          8.520773887634277,
          -7.616024494171143,
          -13.532851219177246,
          1.2274127006530762,
          25.880746841430664,
          7.738335132598877,
          -15.721477508544922,
          -71.01779174804688,
          37.9368782043457,
          -29.715049743652344,
          25.587116241455078,
          63.36123275756836,
          -25.964298248291016,
          -48.322444915771484,
          2.64811110496521,
          -3.7464051246643066,
          -3.4095113277435303,
          -85.71336364746094,
          16.934389114379883,
          -1.8729054927825928,
          72.33790588378906,
          -61.62873077392578,
          -88.93270874023438,
          41.91789245605469,
          -32.144256591796875,
          -12.592206001281738,
          -64.39226531982422,
          63.04405212402344,
          -92.99446868896484,
          81.85721588134766,
          26.264657974243164,
          34.9381217956543,
          12.42379093170166,
          -65.9998550415039,
          -13.659682273864746,
          -87.9701919555664,
          -66.05729675292969,
          -91.06214141845703,
          -9.002609252929688,
          -90.4116439819336,
          72.00371551513672,
          -74.88951110839844,
          -34.633018493652344,
          -44.72573471069336,
          -12.535311698913574,
          -12.789088249206543,
          -78.47331237792969,
          50.76915740966797,
          -28.176231384277344,
          -17.422374725341797,
          -54.65597915649414,
          -44.462554931640625,
          51.15510940551758,
          -51.24737548828125,
          -3.7935967445373535,
          -10.115686416625977,
          79.84379577636719,
          80.03273010253906,
          30.927011489868164,
          33.48888397216797,
          -13.78851318359375,
          -7.4761152267456055,
          -3.9591734409332275,
          -55.296993255615234,
          -7.268185615539551,
          -38.19099044799805,
          -25.79826545715332,
          -7.69517183303833,
          49.33021545410156,
          -19.58824920654297,
          -5.423685073852539,
          63.14157485961914,
          15.893052101135254,
          -15.015922546386719,
          37.14384460449219,
          3.9284088611602783,
          32.358253479003906,
          -11.313207626342773,
          9.640152931213379,
          18.134159088134766,
          53.12648391723633,
          4.834942817687988,
          11.203276634216309,
          -14.944337844848633,
          -47.379756927490234,
          28.33971405029297,
          -29.854398727416992,
          -16.19260597229004,
          -30.560871124267578,
          -18.580921173095703,
          -85.15625,
          27.470298767089844,
          34.36546325683594,
          -38.1328239440918,
          28.64340591430664,
          -28.670391082763672,
          -53.66321563720703,
          -27.060413360595703,
          -14.733712196350098,
          -9.306403160095215,
          55.663414001464844,
          60.15291213989258,
          6.718101501464844,
          -13.693252563476562,
          -33.10188293457031,
          -33.59520721435547,
          47.10017395019531,
          -11.717805862426758,
          -14.359796524047852,
          -51.810115814208984,
          -25.5189208984375,
          -27.674909591674805,
          80.05767059326172,
          -84.91409301757812,
          -43.067222595214844,
          25.90164566040039,
          12.524336814880371,
          19.616378784179688,
          -27.93611717224121,
          -1.366196632385254,
          -3.4052469730377197,
          -78.70382690429688,
          -28.108753204345703,
          -2.0847976207733154,
          79.977783203125,
          -85.7038803100586,
          -1.9793916940689087,
          -28.261995315551758,
          -65.55876159667969,
          33.00525665283203,
          -29.103771209716797,
          -52.81652069091797,
          53.80651092529297,
          -11.950057029724121,
          39.83567810058594,
          19.410537719726562,
          -56.51519775390625,
          -13.977370262145996,
          12.88548755645752,
          43.80796432495117,
          -88.76435852050781,
          17.77150535583496,
          -54.846744537353516,
          -43.498165130615234,
          12.126925468444824,
          -35.9631462097168,
          -45.016937255859375,
          29.77644157409668,
          72.85374450683594,
          -52.7635612487793,
          52.649024963378906,
          81.73591613769531,
          20.111553192138672,
          79.18869018554688,
          -40.283260345458984,
          -37.7677116394043,
          -59.227935791015625,
          76.57550048828125,
          18.02197265625,
          44.031097412109375,
          -3.7444236278533936,
          -6.771553993225098,
          -18.719528198242188,
          50.11275100708008,
          3.220569372177124,
          91.86763763427734,
          30.929956436157227,
          -45.72017288208008,
          -16.669208526611328,
          41.22120666503906,
          -11.14400577545166,
          -5.940014362335205,
          2.3232638835906982,
          -52.21645736694336,
          -3.8519089221954346,
          60.683799743652344,
          17.4023380279541,
          -32.17093276977539,
          92.6312484741211,
          -39.42451858520508,
          -42.90916442871094,
          -1.7377161979675293,
          -15.045830726623535,
          18.433141708374023,
          -93.03591918945312,
          7.1976823806762695,
          -15.450732231140137,
          -13.308876991271973,
          -33.35574722290039,
          15.35633373260498,
          -35.34278106689453,
          14.888642311096191,
          5.193810939788818,
          -14.140003204345703,
          34.433387756347656
         ],
         "xaxis": "x",
         "y": [
          67.0443344116211,
          2.6536433696746826,
          -4.547367572784424,
          55.15092086791992,
          -5.297708034515381,
          -3.7155508995056152,
          -7.08599328994751,
          62.480716705322266,
          -72.82588195800781,
          -1.301362156867981,
          -32.500553131103516,
          -52.199378967285156,
          -34.65620803833008,
          -22.223207473754883,
          -10.393303871154785,
          0.010479158721864223,
          -3.5512378215789795,
          -3.4071502685546875,
          -1.3526335954666138,
          2.696629047393799,
          -10.692934036254883,
          -21.72958755493164,
          4.946205139160156,
          39.397220611572266,
          0.5303863286972046,
          -48.986934661865234,
          -44.66012954711914,
          -9.426616668701172,
          43.658973693847656,
          39.32386016845703,
          1.253020167350769,
          18.36116600036621,
          -72.67933654785156,
          45.536746978759766,
          28.206371307373047,
          41.04310989379883,
          -3.553297281265259,
          6.883044242858887,
          26.01132583618164,
          33.322147369384766,
          -31.84576988220215,
          4.945363998413086,
          -26.208097457885742,
          -29.221376419067383,
          43.752140045166016,
          -73.48572540283203,
          48.90419006347656,
          -16.90395736694336,
          86.81825256347656,
          31.936229705810547,
          0.6014983057975769,
          63.971656799316406,
          -57.843143463134766,
          -61.31448745727539,
          48.39686584472656,
          79.09519958496094,
          -52.938392639160156,
          -36.13582992553711,
          22.643264770507812,
          -18.383386611938477,
          25.99782371520996,
          38.41034698486328,
          -54.46243667602539,
          -24.246923446655273,
          -21.760181427001953,
          47.13085174560547,
          -46.2974967956543,
          -15.529078483581543,
          -30.363784790039062,
          -76.53977966308594,
          -21.303958892822266,
          -9.566584587097168,
          9.380990028381348,
          -5.403777122497559,
          1.4018232822418213,
          -58.13892364501953,
          64.3691635131836,
          -49.61832046508789,
          -52.77778625488281,
          10.958171844482422,
          66.59459686279297,
          -30.937843322753906,
          46.72768783569336,
          49.605133056640625,
          -58.351470947265625,
          -56.839603424072266,
          -33.64565658569336,
          15.512067794799805,
          55.76354217529297,
          -3.994736671447754,
          -27.09994888305664,
          16.236547470092773,
          -0.6355053186416626,
          -36.09127426147461,
          21.939268112182617,
          66.6554183959961,
          43.85403060913086,
          19.375741958618164,
          31.304702758789062,
          -39.15614700317383,
          -4.146137237548828,
          91.16998291015625,
          19.881959915161133,
          -17.586442947387695,
          -32.51124954223633,
          -30.067062377929688,
          -21.564739227294922,
          38.62849044799805,
          -74.42382049560547,
          -23.673797607421875,
          -44.57599639892578,
          4.565397262573242,
          -46.25083541870117,
          -10.808022499084473,
          -28.583599090576172,
          59.494571685791016,
          6.27267599105835,
          25.998760223388672,
          -64.92239379882812,
          87.92767333984375,
          -38.041133880615234,
          18.319595336914062,
          -34.36164093017578,
          0.32882624864578247,
          -53.99440383911133,
          18.936180114746094,
          -43.75181579589844,
          14.806388854980469,
          42.94004821777344,
          -73.9185562133789,
          -22.435840606689453,
          -20.942331314086914,
          -72.73121643066406,
          17.4146671295166,
          -46.929481506347656,
          -14.675300598144531,
          21.504196166992188,
          -16.431617736816406,
          0.28276175260543823,
          46.150726318359375,
          12.78958511352539,
          -25.223386764526367,
          -24.50592613220215,
          -50.0098991394043,
          43.57328796386719,
          46.884029388427734,
          63.413291931152344,
          9.602815628051758,
          -35.08346939086914,
          -6.990716934204102,
          -41.25510787963867,
          49.71257400512695,
          19.22597312927246,
          19.189016342163086,
          27.385665893554688,
          -43.855796813964844,
          9.146050453186035,
          3.3563733100891113,
          -42.89578628540039,
          21.999099731445312,
          -55.36721420288086,
          29.10049057006836,
          5.452306747436523,
          39.466190338134766,
          22.859201431274414,
          -31.111852645874023,
          -17.426340103149414,
          5.112401008605957,
          -26.013280868530273,
          44.425987243652344,
          -26.46979522705078,
          5.448776721954346,
          22.570783615112305,
          -4.867616653442383,
          -10.287620544433594,
          88.54484558105469,
          0.10204199701547623,
          27.796316146850586,
          25.32732391357422,
          -63.181121826171875,
          1.547293782234192,
          -5.450206756591797,
          -21.986265182495117,
          29.74386215209961,
          74.20809173583984,
          21.505460739135742,
          43.62925338745117,
          -59.52613067626953,
          73.69768524169922,
          -65.2848129272461,
          -45.377845764160156,
          -12.735339164733887,
          49.839176177978516,
          -2.4870147705078125,
          -28.213502883911133,
          -4.110452651977539,
          75.4749755859375,
          -17.261472702026367,
          -6.738383769989014,
          -51.38261032104492,
          -46.91962814331055,
          19.884483337402344,
          43.81301498413086,
          -4.23700475692749,
          -32.196319580078125,
          17.552087783813477,
          -22.226360321044922,
          -31.916872024536133,
          -59.19123458862305,
          -8.175040245056152,
          -31.848312377929688,
          -26.430431365966797,
          -32.836551666259766,
          -5.4482741355896,
          16.160694122314453,
          -16.342710494995117,
          -1.305195927619934,
          -5.201970100402832,
          -26.31048583984375,
          -13.546104431152344,
          0.7049213647842407,
          0.21145807206630707,
          67.59749603271484,
          -21.78645133972168,
          17.14459800720215,
          -51.20741653442383,
          12.186806678771973,
          -34.840518951416016,
          -32.64097213745117,
          -1.6291961669921875,
          -4.861765384674072,
          6.49043607711792,
          8.3909273147583,
          -17.24588966369629,
          4.004574775695801,
          32.437530517578125,
          6.670435905456543,
          18.2489070892334,
          59.81208419799805,
          -5.205190181732178,
          -19.714632034301758,
          29.769798278808594,
          1.1414673328399658,
          31.22138786315918,
          -35.78589630126953,
          38.88731002807617,
          66.34458923339844,
          -0.4215478301048279,
          1.2857190370559692,
          25.960641860961914,
          28.3148250579834,
          63.176551818847656,
          -30.10226821899414,
          31.95367431640625,
          32.56398010253906,
          -21.347627639770508,
          45.44144821166992,
          28.391618728637695,
          34.87525177001953,
          -31.021465301513672,
          -35.04710388183594,
          -66.10658264160156,
          -72.78258514404297,
          -10.795741081237793,
          -48.989315032958984,
          -17.1187686920166,
          34.960716247558594,
          5.997147560119629,
          -4.4467668533325195,
          29.73652458190918,
          -2.2790300846099854,
          -26.795549392700195,
          -1.1470645666122437,
          13.540409088134766,
          1.3924928903579712,
          -1.1119775772094727,
          7.457054138183594,
          -17.453474044799805,
          -28.92363739013672,
          -20.916879653930664,
          35.984317779541016,
          -26.013689041137695,
          -0.819661021232605,
          -30.522714614868164,
          -25.425703048706055,
          -71.49128723144531,
          65.38909149169922,
          17.47146224975586,
          -42.66748046875,
          -56.65940475463867,
          -50.1550178527832,
          30.064653396606445,
          -12.701337814331055,
          -30.924556732177734,
          13.363265991210938,
          13.596702575683594,
          -62.450889587402344,
          -42.88193130493164,
          19.069700241088867,
          11.865826606750488,
          38.840728759765625,
          25.481611251831055,
          9.06467342376709,
          -21.61445426940918,
          -39.76176834106445,
          17.855121612548828,
          -43.06218338012695,
          49.116268157958984,
          91.81499481201172,
          -48.410465240478516,
          -0.8917563557624817,
          26.49789047241211,
          7.046825885772705,
          -15.749173164367676,
          5.74879264831543,
          -5.446926593780518,
          -30.232154846191406,
          34.03801727294922,
          -61.319942474365234,
          3.2848827838897705,
          -13.801332473754883,
          55.45173645019531,
          58.12610626220703,
          88.0596694946289,
          26.22785186767578,
          -27.128889083862305,
          -48.38149642944336,
          38.02542495727539,
          -26.904630661010742,
          -14.372576713562012,
          69.423583984375,
          8.174304962158203,
          -24.23273277282715,
          1.2488596439361572,
          -51.54597091674805,
          -21.42654800415039,
          -19.69265365600586,
          35.97966003417969,
          -71.93699645996094,
          88.1421890258789,
          12.188066482543945,
          -75.1082992553711,
          -42.91034698486328,
          -10.96052360534668,
          30.247703552246094,
          -64.99223327636719,
          -36.089141845703125,
          -15.43963623046875,
          -21.455018997192383,
          -14.267401695251465,
          -7.492009162902832,
          -1.313502550125122,
          3.571106195449829,
          -20.182397842407227,
          73.67395782470703,
          23.721466064453125,
          55.42921829223633,
          22.285808563232422,
          -17.958053588867188,
          -2.193117380142212,
          59.802677154541016,
          -46.84483337402344,
          -21.98049545288086,
          -67.11022186279297,
          -44.988094329833984,
          26.469676971435547,
          -20.370651245117188,
          -25.195674896240234,
          -36.240108489990234,
          66.03771209716797,
          69.38826751708984,
          -57.81744384765625,
          -5.143085956573486,
          -33.42620849609375,
          -57.50246810913086,
          -35.09619140625,
          49.3110237121582,
          -9.744912147521973,
          -53.851139068603516,
          86.93462371826172,
          90.7947769165039,
          -14.926836013793945,
          34.43693542480469,
          -33.446048736572266,
          -4.8305487632751465,
          57.975093841552734,
          79.46023559570312,
          34.98677062988281,
          -31.074108123779297,
          -12.384993553161621,
          -58.73423385620117,
          -23.59687042236328,
          -27.056943893432617,
          -18.48246192932129,
          -22.33066749572754,
          8.0305814743042,
          47.42843246459961,
          45.103145599365234,
          -21.375255584716797,
          -74.30360412597656,
          -22.37783432006836,
          63.970306396484375,
          -33.567626953125,
          -97.51921081542969,
          -56.49496841430664,
          25.92140007019043,
          -56.84367370605469,
          49.77622985839844,
          17.660785675048828,
          -14.551065444946289,
          74.06547546386719,
          69.8664779663086,
          63.32368850708008,
          -12.998136520385742,
          2.2325751781463623,
          20.037227630615234,
          -68.60913848876953,
          -49.13644027709961,
          47.38205337524414,
          16.383548736572266,
          -66.77855682373047,
          -74.0250473022461,
          60.48556900024414,
          -21.69341278076172,
          23.30777359008789,
          48.05680465698242,
          26.160898208618164,
          68.58360290527344,
          -3.1322896480560303,
          -30.556976318359375,
          -51.78166961669922,
          32.211952209472656,
          75.50048828125,
          29.7755126953125,
          26.591150283813477,
          -49.6197624206543,
          38.48108673095703,
          -11.167943954467773,
          32.160804748535156,
          20.601184844970703,
          91.64083862304688,
          -73.69868469238281,
          50.45753860473633,
          35.99074935913086,
          -34.20377731323242,
          38.53620147705078,
          -6.56029748916626,
          38.55148696899414,
          8.615069389343262,
          76.48790740966797,
          -23.251867294311523,
          38.03632354736328,
          31.81101417541504,
          -34.66041564941406,
          -1.9579488039016724,
          -17.653226852416992,
          -13.01011848449707,
          1.0076473951339722,
          -21.04707145690918,
          -31.309232711791992,
          5.453269004821777,
          -35.82514953613281,
          46.45401382446289,
          5.121278285980225,
          16.626615524291992,
          -65.71174621582031,
          -59.63002014160156,
          25.70170783996582,
          -25.793739318847656,
          -58.905311584472656,
          22.140342712402344,
          -51.67811965942383,
          69.07421875,
          21.586227416992188,
          -36.123199462890625,
          -21.364418029785156,
          -57.535491943359375,
          -16.003572463989258,
          -26.111881256103516,
          -14.846293449401855,
          -5.511054515838623,
          -2.216766357421875,
          5.0037150382995605,
          5.450612545013428,
          -8.910143852233887,
          29.95639419555664,
          -35.6273078918457,
          3.9646739959716797,
          3.5226190090179443,
          68.20094299316406,
          -70.06108093261719,
          46.48270034790039,
          -5.142370223999023,
          4.316381931304932,
          -55.38258361816406,
          9.135193824768066,
          26.876617431640625,
          76.27471923828125,
          70.62663269042969,
          5.07034158706665,
          -74.22429656982422,
          87.5752944946289,
          43.60894775390625,
          68.33111572265625,
          -1.920912265777588,
          72.77175903320312,
          72.83821105957031,
          -2.646660804748535,
          27.872154235839844,
          30.14486312866211,
          -51.800697326660156,
          37.38467788696289,
          -10.404518127441406,
          -11.628397941589355,
          43.85554504394531,
          14.791959762573242,
          -23.934667587280273,
          -5.4539408683776855,
          11.97295093536377,
          6.060734748840332,
          31.020679473876953,
          4.012969493865967,
          -6.695691108703613,
          -11.375563621520996,
          46.57809066772461,
          74.4685287475586,
          6.7374138832092285,
          16.3114070892334,
          69.89787292480469,
          -31.367528915405273,
          18.999404907226562,
          34.3599739074707,
          26.71506118774414,
          76.80042266845703,
          7.469834804534912,
          3.6669437885284424,
          -16.44537925720215,
          12.246901512145996,
          26.340484619140625,
          -2.506613254547119,
          22.002132415771484,
          68.96275329589844,
          -17.39471435546875,
          6.70106840133667,
          30.022565841674805,
          -2.3561782836914062,
          29.97908592224121,
          -76.28843688964844,
          18.734914779663086,
          66.60751342773438,
          -65.50663757324219,
          -37.173885345458984,
          6.8647074699401855,
          -72.00574493408203,
          -38.33036804199219,
          72.69277954101562,
          7.028058052062988,
          18.419261932373047,
          32.406375885009766,
          5.214439392089844,
          -23.587203979492188,
          -16.35744285583496,
          -51.78105926513672,
          17.827558517456055,
          -24.62018585205078,
          -65.34454345703125,
          -33.52357864379883,
          1.2622132301330566,
          -58.60186767578125,
          44.281654357910156,
          49.69953536987305,
          -15.279143333435059,
          47.587860107421875,
          -65.64896392822266,
          26.159563064575195,
          27.64793586730957,
          32.27491760253906,
          -34.56126022338867,
          -20.677703857421875,
          48.13019561767578,
          0.9441933631896973,
          -65.18502807617188,
          18.044708251953125,
          -39.43263244628906,
          38.82609939575195,
          -74.18151092529297,
          -44.65569305419922,
          48.43143081665039,
          -40.923004150390625,
          -9.116119384765625,
          -19.625930786132812,
          39.541011810302734,
          -54.739776611328125,
          36.7209587097168,
          -24.07638931274414,
          72.64751434326172,
          36.74456024169922,
          25.94850730895996,
          -10.208356857299805,
          -28.90065574645996,
          -53.88239288330078,
          -20.459182739257812,
          -58.09309768676758,
          7.17504358291626,
          1.797533631324768,
          29.63631248474121,
          -27.343048095703125,
          -10.715096473693848,
          17.659347534179688,
          4.878429889678955,
          -6.076431751251221,
          16.893959045410156,
          -58.2747688293457,
          19.46556282043457,
          5.482087135314941,
          -4.018087387084961,
          -0.04979328811168671,
          -49.564029693603516,
          -29.926008224487305,
          -6.103839874267578,
          -56.820804595947266,
          -31.315587997436523,
          31.92406463623047,
          27.37350082397461,
          -22.833532333374023,
          2.6502721309661865,
          27.648696899414062,
          34.9894905090332,
          -25.735532760620117,
          -32.8553581237793,
          64.9629898071289,
          4.626622676849365,
          29.879039764404297,
          -29.59237289428711,
          24.119287490844727,
          -35.134193420410156,
          28.14529800415039,
          -10.562355995178223,
          29.220962524414062,
          32.770301818847656,
          48.590576171875,
          47.24492263793945,
          -1.0627237558364868,
          -31.7965145111084,
          75.32528686523438,
          -69.49473571777344,
          48.773704528808594,
          -15.189916610717773,
          65.27942657470703,
          1.6235417127609253,
          34.762454986572266,
          -15.59455680847168,
          60.839962005615234,
          -31.71025848388672,
          -19.690969467163086,
          79.93197631835938,
          27.90077781677246,
          -97.5340576171875,
          5.434232711791992,
          39.96839904785156,
          34.83260726928711,
          -69.07510375976562,
          23.993255615234375,
          44.23368835449219,
          -54.15345001220703,
          69.64069366455078,
          -9.151078224182129,
          25.618459701538086,
          18.42433738708496,
          -19.029804229736328,
          -7.190051078796387,
          -34.36475372314453,
          35.995201110839844,
          -65.85379028320312,
          -62.23414993286133,
          -30.49404525756836,
          -8.565199851989746,
          6.615875720977783,
          -3.6490895748138428,
          75.29525756835938,
          5.072317600250244,
          33.379146575927734,
          59.872352600097656,
          26.15244483947754,
          26.002944946289062,
          61.006248474121094,
          -6.647609233856201,
          30.909452438354492,
          25.236696243286133,
          3.293454647064209,
          -23.054080963134766,
          -52.08628463745117,
          19.843313217163086,
          -35.00214767456055,
          3.507774591445923,
          24.066946029663086,
          -21.62751007080078,
          -22.128360748291016,
          49.203025817871094,
          -22.20526695251465,
          -28.146591186523438,
          -28.227336883544922,
          25.927392959594727,
          18.82868003845215,
          -66.1855239868164,
          -26.613290786743164,
          35.07984924316406,
          -67.25366973876953,
          -15.842581748962402,
          -36.71588134765625,
          23.19081687927246,
          5.193650722503662,
          48.89911651611328,
          25.97821807861328,
          -71.0857925415039,
          -0.22350168228149414,
          -29.08597183227539,
          -33.60816955566406,
          -4.8852314949035645,
          -5.535888671875,
          -73.8967056274414,
          41.65468978881836,
          2.127553701400757,
          -57.35379409790039,
          -3.911832571029663,
          -30.68084144592285,
          -31.796178817749023,
          -57.67642593383789,
          29.772253036499023,
          -43.534786224365234,
          -16.365840911865234,
          69.49179077148438,
          46.8419189453125,
          45.25168228149414,
          -11.219819068908691,
          18.1529483795166,
          -6.238253593444824,
          -19.851316452026367,
          -25.09540367126465,
          34.057212829589844,
          -58.09712219238281,
          -8.495162010192871,
          -9.639538764953613,
          -17.47492218017578,
          4.148853302001953,
          2.013815402984619,
          2.7771809101104736,
          30.027006149291992,
          -2.212714910507202,
          -57.421817779541016,
          19.231910705566406,
          -68.70155334472656,
          33.5291862487793,
          -19.549453735351562,
          -6.075728893280029,
          -47.88203811645508,
          -47.365447998046875,
          64.00505828857422,
          72.89073181152344,
          60.51481628417969,
          -29.16653060913086,
          -10.831910133361816,
          9.02489948272705,
          -25.35978126525879,
          74.06597900390625,
          -12.821893692016602,
          -11.508710861206055,
          16.78032875061035,
          55.533363342285156,
          -6.0559258460998535,
          4.554995059967041,
          43.31404113769531,
          -37.30691146850586,
          3.9932210445404053,
          79.36231994628906,
          -34.02240753173828,
          -61.363006591796875,
          -44.79984664916992,
          -17.6539306640625,
          30.89821434020996,
          -5.135776042938232,
          1.9094271659851074,
          26.099891662597656,
          79.87101745605469,
          10.04371452331543,
          -43.40686798095703,
          49.73090362548828,
          -36.691139221191406,
          -19.645116806030273,
          -4.737526893615723,
          -31.27007293701172,
          -97.60344696044922,
          -51.990116119384766,
          18.698854446411133,
          17.594478607177734,
          65.79656219482422,
          -1.6351932287216187,
          -34.477012634277344,
          -9.420058250427246,
          6.5592169761657715,
          -20.659208297729492,
          -2.5237514972686768,
          30.67397117614746,
          -2.3442089557647705,
          -22.28316307067871,
          40.455894470214844,
          59.43487548828125,
          -22.195507049560547,
          43.5964469909668,
          -26.612289428710938,
          18.002460479736328,
          27.79932975769043,
          9.445809364318848,
          2.549872636795044,
          35.0915412902832,
          21.675756454467773,
          -45.597442626953125,
          -31.078533172607422,
          -12.964692115783691,
          -18.31210708618164,
          -44.277015686035156,
          8.63355541229248,
          -77.7109146118164,
          -34.401912689208984,
          75.08861541748047,
          32.5660400390625,
          38.9047966003418,
          37.781822204589844,
          -33.30791473388672,
          4.344839096069336,
          0.3373691439628601,
          -42.421234130859375,
          46.133060455322266,
          42.39925003051758,
          68.98219299316406,
          0.09920261800289154,
          -4.213741302490234,
          -37.57246398925781,
          47.47473907470703,
          2.204547643661499,
          -4.740272045135498,
          -64.83060455322266,
          -0.9508593678474426,
          -64.30509185791016,
          -3.078608274459839,
          -22.60660171508789,
          22.703834533691406,
          -66.39237976074219,
          -16.10926055908203,
          -40.75972366333008,
          87.6745376586914,
          19.93377113342285,
          -54.36297607421875,
          73.35359191894531,
          -13.811053276062012,
          29.829681396484375,
          -56.746273040771484,
          18.362546920776367,
          33.69696044921875,
          -76.034912109375,
          60.82062530517578,
          -21.198904037475586,
          -3.796201229095459,
          -30.117612838745117,
          -29.8200740814209,
          55.3192253112793,
          25.32485008239746,
          -14.308929443359375,
          -4.672122955322266,
          -52.830970764160156,
          9.559550285339355,
          -37.601951599121094,
          -66.07166290283203,
          -31.140338897705078,
          -11.223946571350098,
          4.4477643966674805,
          32.18092727661133,
          -27.497751235961914,
          -10.44144344329834,
          69.22662353515625,
          -21.92101287841797,
          -32.52433395385742,
          4.958061695098877,
          0.012834119610488415
         ],
         "yaxis": "y"
        }
       ],
       "layout": {
        "legend": {
         "title": {
          "text": "Classification"
         },
         "tracegroupgap": 0
        },
        "margin": {
         "t": 60
        },
        "template": {
         "data": {
          "bar": [
           {
            "error_x": {
             "color": "#2a3f5f"
            },
            "error_y": {
             "color": "#2a3f5f"
            },
            "marker": {
             "line": {
              "color": "white",
              "width": 0.5
             },
             "pattern": {
              "fillmode": "overlay",
              "size": 10,
              "solidity": 0.2
             }
            },
            "type": "bar"
           }
          ],
          "barpolar": [
           {
            "marker": {
             "line": {
              "color": "white",
              "width": 0.5
             },
             "pattern": {
              "fillmode": "overlay",
              "size": 10,
              "solidity": 0.2
             }
            },
            "type": "barpolar"
           }
          ],
          "carpet": [
           {
            "aaxis": {
             "endlinecolor": "#2a3f5f",
             "gridcolor": "#C8D4E3",
             "linecolor": "#C8D4E3",
             "minorgridcolor": "#C8D4E3",
             "startlinecolor": "#2a3f5f"
            },
            "baxis": {
             "endlinecolor": "#2a3f5f",
             "gridcolor": "#C8D4E3",
             "linecolor": "#C8D4E3",
             "minorgridcolor": "#C8D4E3",
             "startlinecolor": "#2a3f5f"
            },
            "type": "carpet"
           }
          ],
          "choropleth": [
           {
            "colorbar": {
             "outlinewidth": 0,
             "ticks": ""
            },
            "type": "choropleth"
           }
          ],
          "contour": [
           {
            "colorbar": {
             "outlinewidth": 0,
             "ticks": ""
            },
            "colorscale": [
             [
              0,
              "#0d0887"
             ],
             [
              0.1111111111111111,
              "#46039f"
             ],
             [
              0.2222222222222222,
              "#7201a8"
             ],
             [
              0.3333333333333333,
              "#9c179e"
             ],
             [
              0.4444444444444444,
              "#bd3786"
             ],
             [
              0.5555555555555556,
              "#d8576b"
             ],
             [
              0.6666666666666666,
              "#ed7953"
             ],
             [
              0.7777777777777778,
              "#fb9f3a"
             ],
             [
              0.8888888888888888,
              "#fdca26"
             ],
             [
              1,
              "#f0f921"
             ]
            ],
            "type": "contour"
           }
          ],
          "contourcarpet": [
           {
            "colorbar": {
             "outlinewidth": 0,
             "ticks": ""
            },
            "type": "contourcarpet"
           }
          ],
          "heatmap": [
           {
            "colorbar": {
             "outlinewidth": 0,
             "ticks": ""
            },
            "colorscale": [
             [
              0,
              "#0d0887"
             ],
             [
              0.1111111111111111,
              "#46039f"
             ],
             [
              0.2222222222222222,
              "#7201a8"
             ],
             [
              0.3333333333333333,
              "#9c179e"
             ],
             [
              0.4444444444444444,
              "#bd3786"
             ],
             [
              0.5555555555555556,
              "#d8576b"
             ],
             [
              0.6666666666666666,
              "#ed7953"
             ],
             [
              0.7777777777777778,
              "#fb9f3a"
             ],
             [
              0.8888888888888888,
              "#fdca26"
             ],
             [
              1,
              "#f0f921"
             ]
            ],
            "type": "heatmap"
           }
          ],
          "heatmapgl": [
           {
            "colorbar": {
             "outlinewidth": 0,
             "ticks": ""
            },
            "colorscale": [
             [
              0,
              "#0d0887"
             ],
             [
              0.1111111111111111,
              "#46039f"
             ],
             [
              0.2222222222222222,
              "#7201a8"
             ],
             [
              0.3333333333333333,
              "#9c179e"
             ],
             [
              0.4444444444444444,
              "#bd3786"
             ],
             [
              0.5555555555555556,
              "#d8576b"
             ],
             [
              0.6666666666666666,
              "#ed7953"
             ],
             [
              0.7777777777777778,
              "#fb9f3a"
             ],
             [
              0.8888888888888888,
              "#fdca26"
             ],
             [
              1,
              "#f0f921"
             ]
            ],
            "type": "heatmapgl"
           }
          ],
          "histogram": [
           {
            "marker": {
             "pattern": {
              "fillmode": "overlay",
              "size": 10,
              "solidity": 0.2
             }
            },
            "type": "histogram"
           }
          ],
          "histogram2d": [
           {
            "colorbar": {
             "outlinewidth": 0,
             "ticks": ""
            },
            "colorscale": [
             [
              0,
              "#0d0887"
             ],
             [
              0.1111111111111111,
              "#46039f"
             ],
             [
              0.2222222222222222,
              "#7201a8"
             ],
             [
              0.3333333333333333,
              "#9c179e"
             ],
             [
              0.4444444444444444,
              "#bd3786"
             ],
             [
              0.5555555555555556,
              "#d8576b"
             ],
             [
              0.6666666666666666,
              "#ed7953"
             ],
             [
              0.7777777777777778,
              "#fb9f3a"
             ],
             [
              0.8888888888888888,
              "#fdca26"
             ],
             [
              1,
              "#f0f921"
             ]
            ],
            "type": "histogram2d"
           }
          ],
          "histogram2dcontour": [
           {
            "colorbar": {
             "outlinewidth": 0,
             "ticks": ""
            },
            "colorscale": [
             [
              0,
              "#0d0887"
             ],
             [
              0.1111111111111111,
              "#46039f"
             ],
             [
              0.2222222222222222,
              "#7201a8"
             ],
             [
              0.3333333333333333,
              "#9c179e"
             ],
             [
              0.4444444444444444,
              "#bd3786"
             ],
             [
              0.5555555555555556,
              "#d8576b"
             ],
             [
              0.6666666666666666,
              "#ed7953"
             ],
             [
              0.7777777777777778,
              "#fb9f3a"
             ],
             [
              0.8888888888888888,
              "#fdca26"
             ],
             [
              1,
              "#f0f921"
             ]
            ],
            "type": "histogram2dcontour"
           }
          ],
          "mesh3d": [
           {
            "colorbar": {
             "outlinewidth": 0,
             "ticks": ""
            },
            "type": "mesh3d"
           }
          ],
          "parcoords": [
           {
            "line": {
             "colorbar": {
              "outlinewidth": 0,
              "ticks": ""
             }
            },
            "type": "parcoords"
           }
          ],
          "pie": [
           {
            "automargin": true,
            "type": "pie"
           }
          ],
          "scatter": [
           {
            "fillpattern": {
             "fillmode": "overlay",
             "size": 10,
             "solidity": 0.2
            },
            "type": "scatter"
           }
          ],
          "scatter3d": [
           {
            "line": {
             "colorbar": {
              "outlinewidth": 0,
              "ticks": ""
             }
            },
            "marker": {
             "colorbar": {
              "outlinewidth": 0,
              "ticks": ""
             }
            },
            "type": "scatter3d"
           }
          ],
          "scattercarpet": [
           {
            "marker": {
             "colorbar": {
              "outlinewidth": 0,
              "ticks": ""
             }
            },
            "type": "scattercarpet"
           }
          ],
          "scattergeo": [
           {
            "marker": {
             "colorbar": {
              "outlinewidth": 0,
              "ticks": ""
             }
            },
            "type": "scattergeo"
           }
          ],
          "scattergl": [
           {
            "marker": {
             "colorbar": {
              "outlinewidth": 0,
              "ticks": ""
             }
            },
            "type": "scattergl"
           }
          ],
          "scattermapbox": [
           {
            "marker": {
             "colorbar": {
              "outlinewidth": 0,
              "ticks": ""
             }
            },
            "type": "scattermapbox"
           }
          ],
          "scatterpolar": [
           {
            "marker": {
             "colorbar": {
              "outlinewidth": 0,
              "ticks": ""
             }
            },
            "type": "scatterpolar"
           }
          ],
          "scatterpolargl": [
           {
            "marker": {
             "colorbar": {
              "outlinewidth": 0,
              "ticks": ""
             }
            },
            "type": "scatterpolargl"
           }
          ],
          "scatterternary": [
           {
            "marker": {
             "colorbar": {
              "outlinewidth": 0,
              "ticks": ""
             }
            },
            "type": "scatterternary"
           }
          ],
          "surface": [
           {
            "colorbar": {
             "outlinewidth": 0,
             "ticks": ""
            },
            "colorscale": [
             [
              0,
              "#0d0887"
             ],
             [
              0.1111111111111111,
              "#46039f"
             ],
             [
              0.2222222222222222,
              "#7201a8"
             ],
             [
              0.3333333333333333,
              "#9c179e"
             ],
             [
              0.4444444444444444,
              "#bd3786"
             ],
             [
              0.5555555555555556,
              "#d8576b"
             ],
             [
              0.6666666666666666,
              "#ed7953"
             ],
             [
              0.7777777777777778,
              "#fb9f3a"
             ],
             [
              0.8888888888888888,
              "#fdca26"
             ],
             [
              1,
              "#f0f921"
             ]
            ],
            "type": "surface"
           }
          ],
          "table": [
           {
            "cells": {
             "fill": {
              "color": "#EBF0F8"
             },
             "line": {
              "color": "white"
             }
            },
            "header": {
             "fill": {
              "color": "#C8D4E3"
             },
             "line": {
              "color": "white"
             }
            },
            "type": "table"
           }
          ]
         },
         "layout": {
          "annotationdefaults": {
           "arrowcolor": "#2a3f5f",
           "arrowhead": 0,
           "arrowwidth": 1
          },
          "autotypenumbers": "strict",
          "coloraxis": {
           "colorbar": {
            "outlinewidth": 0,
            "ticks": ""
           }
          },
          "colorscale": {
           "diverging": [
            [
             0,
             "#8e0152"
            ],
            [
             0.1,
             "#c51b7d"
            ],
            [
             0.2,
             "#de77ae"
            ],
            [
             0.3,
             "#f1b6da"
            ],
            [
             0.4,
             "#fde0ef"
            ],
            [
             0.5,
             "#f7f7f7"
            ],
            [
             0.6,
             "#e6f5d0"
            ],
            [
             0.7,
             "#b8e186"
            ],
            [
             0.8,
             "#7fbc41"
            ],
            [
             0.9,
             "#4d9221"
            ],
            [
             1,
             "#276419"
            ]
           ],
           "sequential": [
            [
             0,
             "#0d0887"
            ],
            [
             0.1111111111111111,
             "#46039f"
            ],
            [
             0.2222222222222222,
             "#7201a8"
            ],
            [
             0.3333333333333333,
             "#9c179e"
            ],
            [
             0.4444444444444444,
             "#bd3786"
            ],
            [
             0.5555555555555556,
             "#d8576b"
            ],
            [
             0.6666666666666666,
             "#ed7953"
            ],
            [
             0.7777777777777778,
             "#fb9f3a"
            ],
            [
             0.8888888888888888,
             "#fdca26"
            ],
            [
             1,
             "#f0f921"
            ]
           ],
           "sequentialminus": [
            [
             0,
             "#0d0887"
            ],
            [
             0.1111111111111111,
             "#46039f"
            ],
            [
             0.2222222222222222,
             "#7201a8"
            ],
            [
             0.3333333333333333,
             "#9c179e"
            ],
            [
             0.4444444444444444,
             "#bd3786"
            ],
            [
             0.5555555555555556,
             "#d8576b"
            ],
            [
             0.6666666666666666,
             "#ed7953"
            ],
            [
             0.7777777777777778,
             "#fb9f3a"
            ],
            [
             0.8888888888888888,
             "#fdca26"
            ],
            [
             1,
             "#f0f921"
            ]
           ]
          },
          "colorway": [
           "#636efa",
           "#EF553B",
           "#00cc96",
           "#ab63fa",
           "#FFA15A",
           "#19d3f3",
           "#FF6692",
           "#B6E880",
           "#FF97FF",
           "#FECB52"
          ],
          "font": {
           "color": "#2a3f5f"
          },
          "geo": {
           "bgcolor": "white",
           "lakecolor": "white",
           "landcolor": "white",
           "showlakes": true,
           "showland": true,
           "subunitcolor": "#C8D4E3"
          },
          "hoverlabel": {
           "align": "left"
          },
          "hovermode": "closest",
          "mapbox": {
           "style": "light"
          },
          "paper_bgcolor": "white",
          "plot_bgcolor": "white",
          "polar": {
           "angularaxis": {
            "gridcolor": "#EBF0F8",
            "linecolor": "#EBF0F8",
            "ticks": ""
           },
           "bgcolor": "white",
           "radialaxis": {
            "gridcolor": "#EBF0F8",
            "linecolor": "#EBF0F8",
            "ticks": ""
           }
          },
          "scene": {
           "xaxis": {
            "backgroundcolor": "white",
            "gridcolor": "#DFE8F3",
            "gridwidth": 2,
            "linecolor": "#EBF0F8",
            "showbackground": true,
            "ticks": "",
            "zerolinecolor": "#EBF0F8"
           },
           "yaxis": {
            "backgroundcolor": "white",
            "gridcolor": "#DFE8F3",
            "gridwidth": 2,
            "linecolor": "#EBF0F8",
            "showbackground": true,
            "ticks": "",
            "zerolinecolor": "#EBF0F8"
           },
           "zaxis": {
            "backgroundcolor": "white",
            "gridcolor": "#DFE8F3",
            "gridwidth": 2,
            "linecolor": "#EBF0F8",
            "showbackground": true,
            "ticks": "",
            "zerolinecolor": "#EBF0F8"
           }
          },
          "shapedefaults": {
           "line": {
            "color": "#2a3f5f"
           }
          },
          "ternary": {
           "aaxis": {
            "gridcolor": "#DFE8F3",
            "linecolor": "#A2B1C6",
            "ticks": ""
           },
           "baxis": {
            "gridcolor": "#DFE8F3",
            "linecolor": "#A2B1C6",
            "ticks": ""
           },
           "bgcolor": "white",
           "caxis": {
            "gridcolor": "#DFE8F3",
            "linecolor": "#A2B1C6",
            "ticks": ""
           }
          },
          "title": {
           "x": 0.05
          },
          "xaxis": {
           "automargin": true,
           "gridcolor": "#EBF0F8",
           "linecolor": "#EBF0F8",
           "ticks": "",
           "title": {
            "standoff": 15
           },
           "zerolinecolor": "#EBF0F8",
           "zerolinewidth": 2
          },
          "yaxis": {
           "automargin": true,
           "gridcolor": "#EBF0F8",
           "linecolor": "#EBF0F8",
           "ticks": "",
           "title": {
            "standoff": 15
           },
           "zerolinecolor": "#EBF0F8",
           "zerolinewidth": 2
          }
         }
        },
        "xaxis": {
         "anchor": "y",
         "domain": [
          0,
          1
         ],
         "title": {
          "text": "37D->2D TSNE1"
         }
        },
        "yaxis": {
         "anchor": "x",
         "domain": [
          0,
          1
         ],
         "title": {
          "text": "37D->2D TSNE2"
         }
        }
       }
      }
     },
     "metadata": {},
     "output_type": "display_data"
    }
   ],
   "source": [
    "allD.showOutliersDBSCAN()"
   ]
  },
  {
   "cell_type": "code",
   "execution_count": 28,
   "metadata": {
    "ExecuteTime": {
     "end_time": "2023-03-28T14:51:10.676010Z",
     "start_time": "2023-03-28T14:51:10.304172Z"
    },
    "collapsed": false
   },
   "outputs": [
    {
     "name": "stdout",
     "output_type": "stream",
     "text": [
      "Running DBSCAN with eps=1.0...\n",
      "Found 1 clusters and 0 outliers.\n",
      "Outlier ratio: 0.0%\n",
      "Running DBSCAN with eps=0.975...\n",
      "Found 1 clusters and 0 outliers.\n",
      "Outlier ratio: 0.0%\n",
      "Running DBSCAN with eps=0.95...\n",
      "Found 1 clusters and 0 outliers.\n",
      "Outlier ratio: 0.0%\n",
      "Running DBSCAN with eps=0.925...\n",
      "Found 1 clusters and 0 outliers.\n",
      "Outlier ratio: 0.0%\n",
      "Running DBSCAN with eps=0.9...\n",
      "Found 1 clusters and 0 outliers.\n",
      "Outlier ratio: 0.0%\n",
      "Running DBSCAN with eps=0.875...\n",
      "Found 1 clusters and 0 outliers.\n",
      "Outlier ratio: 0.0%\n",
      "Running DBSCAN with eps=0.85...\n",
      "Found 1 clusters and 0 outliers.\n",
      "Outlier ratio: 0.0%\n",
      "Running DBSCAN with eps=0.825...\n",
      "Found 1 clusters and 0 outliers.\n",
      "Outlier ratio: 0.0%\n",
      "Running DBSCAN with eps=0.8...\n",
      "Found 1 clusters and 0 outliers.\n",
      "Outlier ratio: 0.0%\n",
      "Running DBSCAN with eps=0.775...\n",
      "Found 1 clusters and 0 outliers.\n",
      "Outlier ratio: 0.0%\n",
      "Running DBSCAN with eps=0.75...\n",
      "Found 1 clusters and 0 outliers.\n",
      "Outlier ratio: 0.0%\n",
      "Running DBSCAN with eps=0.725...\n",
      "Found 1 clusters and 0 outliers.\n",
      "Outlier ratio: 0.0%\n",
      "Running DBSCAN with eps=0.7...\n",
      "Found 1 clusters and 0 outliers.\n",
      "Outlier ratio: 0.0%\n",
      "Running DBSCAN with eps=0.675...\n",
      "Found 1 clusters and 0 outliers.\n",
      "Outlier ratio: 0.0%\n",
      "Running DBSCAN with eps=0.65...\n",
      "Found 1 clusters and 0 outliers.\n",
      "Outlier ratio: 0.0%\n",
      "Running DBSCAN with eps=0.625...\n",
      "Found 2 clusters and 0 outliers.\n",
      "Outlier ratio: 0.0%\n",
      "Running DBSCAN with eps=0.6...\n",
      "Found 2 clusters and 0 outliers.\n",
      "Outlier ratio: 0.0%\n",
      "Running DBSCAN with eps=0.575...\n",
      "Found 3 clusters and 1 outliers.\n",
      "Outlier ratio: 0.1%\n",
      "Running DBSCAN with eps=0.55...\n",
      "Found 3 clusters and 1 outliers.\n",
      "Outlier ratio: 0.1%\n",
      "Running DBSCAN with eps=0.525...\n",
      "Found 3 clusters and 1 outliers.\n",
      "Outlier ratio: 0.1%\n",
      "Running DBSCAN with eps=0.5...\n",
      "Found 4 clusters and 1 outliers.\n",
      "Outlier ratio: 0.1%\n",
      "Running DBSCAN with eps=0.475...\n",
      "Found 4 clusters and 1 outliers.\n",
      "Outlier ratio: 0.1%\n",
      "Running DBSCAN with eps=0.45...\n",
      "Found 4 clusters and 1 outliers.\n",
      "Outlier ratio: 0.1%\n",
      "Running DBSCAN with eps=0.425...\n",
      "Found 6 clusters and 2 outliers.\n",
      "Outlier ratio: 0.2%\n",
      "Running DBSCAN with eps=0.4...\n",
      "Found 8 clusters and 6 outliers.\n",
      "Outlier ratio: 0.5%\n",
      "Running DBSCAN with eps=0.375...\n",
      "Found 10 clusters and 7 outliers.\n",
      "Outlier ratio: 0.5%\n",
      "Running DBSCAN with eps=0.35...\n",
      "Found 12 clusters and 10 outliers.\n",
      "Outlier ratio: 0.8%\n",
      "Running DBSCAN with eps=0.325...\n",
      "Found 13 clusters and 13 outliers.\n",
      "Outlier ratio: 1.0%\n",
      "Running DBSCAN with eps=0.3...\n",
      "Found 14 clusters and 17 outliers.\n",
      "Outlier ratio: 1.3%\n"
     ]
    },
    {
     "data": {
      "text/plain": [
       "(array([0, 1, 0, ..., 0, 0, 0]), 17)"
      ]
     },
     "execution_count": 28,
     "metadata": {},
     "output_type": "execute_result"
    }
   ],
   "source": [
    "allD.getDBSCANautoEpsilon(outlierTargetN=17)"
   ]
  },
  {
   "cell_type": "code",
   "execution_count": 29,
   "metadata": {
    "ExecuteTime": {
     "end_time": "2023-03-28T14:51:11.771880Z",
     "start_time": "2023-03-28T14:51:11.737773Z"
    },
    "collapsed": false
   },
   "outputs": [
    {
     "data": {
      "application/vnd.plotly.v1+json": {
       "config": {
        "plotlyServerURL": "https://plot.ly"
       },
       "data": [
        {
         "hovertemplate": "<b>%{hovertext}</b><br><br>Classification=clustered<br>37D->2D TSNE1=%{x}<br>37D->2D TSNE2=%{y}<extra></extra>",
         "hovertext": [
          "Cr5 Fe1 Co13 Ni1",
          "Re1 Co1.17 B1.17",
          "V2.39 Cr1.99 Fe1.99 Co1.99 Ni1.99 Cu1.99 Al1",
          "Ta1.5 V1 W8.5 Re1",
          "Ti1 Nb1 W3 Re1",
          "Ti2 Nb2 V2 Mo1 Cr1",
          "Ta2 W2 Mo1 Re1",
          "Mo11.4 B1 Si7.4",
          "Ti1.67 Cr1.67 Ni1.67 Cu1.67 Al1",
          "Cr1 Mn4 Fe4 Co1",
          "Hf1 Zr1 Ti1.5 Nb1 Mo1",
          "Mn6.34 Ni6.34 Cu6.34 Sn1",
          "Cr2.25 Fe2.25 Co2.25 Ni1 Cu2.25",
          "V1 Cr2 Mn2 Fe2 Co2 Ni2",
          "Ti22.1 V1 Al2.62",
          "Ti1 Cr1 Fe1 Co1 Cu1 Al1",
          "Cr4.76 Fe1 Co4.76 Ni4.76 Al4.76",
          "Cr1 Fe2 Co2 Ni1 Cu1 Al6",
          "Ta3 Nb1 W1 Mo1",
          "Ti1 Ta1 V1 W1 Cr1",
          "Zr4.33 Ti4.67 Ta3.33 Nb3.33 Al1",
          "Ti1.67 Ta1.67 V1.67 Mo1.67 Al1",
          "Zr2 Ti1 Nb1 V2",
          "Fe1.25 Co1.25 Ni1 Cu1.25 Al1.25",
          "Cr1.81 Fe1.54 Co1.54 Ni1.81 Al1",
          "Ti1.33 Nb1.33 V1.33 Mo1.33 Al1",
          "V1 Cr5 Fe5 Co5 Ni5 Cu5 Al2.51",
          "Nb2 W2 Mo2 Re1",
          "Hf1 Zr1 Ti2 Nb2 Mo1",
          "Ta1 Nb1 V1 Mo1",
          "Hf1 Zr1.8 Ti2 Nb2 Mo1",
          "Hf1 Zr1.5 Ti1 Nb1 Mo1",
          "Ti1 Cr1.99 Fe1.99 Co1.99 Ni1.99 Al2.4",
          "Hf4 Zr4 Ti3 Ta1 Nb4",
          "Nd1 Fe1 Co1 Ni1 Cu1 Al1",
          "Cr1.43 Fe1.43 Co1.43 Ni1.43 Al1",
          "Ti6 Nb2 V4 Ni1 Al1",
          "Fe2 Co2 Ni1 Cu2 Al2",
          "Cr1 Mn1 Co1 Ni1",
          "Ti1 Cr2.49 Fe2.49 Co2.49 Ni2.49 Cu2.49 Al1.25",
          "W1 Cr4.8 Mn4.8 Fe4.8 Co4.8 Ni4.8",
          "Zr3.33 Ti3.33 Nb3.33 V1 Mo1.67",
          "Ti2.76 Nb1 Al1",
          "Ti24.5 Nb1 Cr1 Al23.5",
          "Hf1.5 Ta3 Nb1 V6.5",
          "Cr1.42 Fe1.42 Co1 Ni1.42 Cu1.42",
          "Mo1 Cr1.05 Mn1.05 Fe1.05 Co1.05 Ni1.05",
          "Cr1.8 Mn2.2 Fe5 Ni1",
          "Zr1 Ti1 Ta1 Nb1 V1",
          "Cr1 Mn3 Fe5 Ni1",
          "W1 Cr6.47 Mn6.47 Fe6.47 Co6.47 Ni6.47",
          "V2 Cr2 Fe2 Co2 Ni2 Cu2 Al1",
          "Ti5.03 Cr5.03 Fe5.03 Co7.56 Ni7.56 Al1",
          "Ti1 Ni1 Cu1 Al1",
          "Ti23.94 V1 Al2.83",
          "Cr1 Fe1 Co1 Ni1.99 Al1",
          "Mo1 Cr10.17 Fe10.17 Co10.17 Ni10.17",
          "V1 Mo1 Fe1 Co1 Ni1",
          "V1 Cr5 Fe5 Co5 Ni5 Cu5 Al2.5",
          "V1 W3 Mo1 Ru1",
          "Ti1 Cr1 Fe1 Co1 Ni1 Cu1 Al1",
          "Ta3.16 Nb3.15 V2.79 W3.15 Mo3.15 Cr1",
          "Cr4.75 Fe4.75 Co4.75 Ni9.25 Cu1 Al1",
          "Cr2.25 Fe1 Co2.25 Ni2.25 Al2.25",
          "Ti1 Cr2.5 Fe2.5 Co2.5 Ni2.5 Cu2.5 Al1.25",
          "Mo1 Cr2.5 Fe2.5 Co2.5 Ni2.5 Al2.5",
          "Li7 Ca2 Mg7 Al3 Si1",
          "Cr1 Fe1 Co1 Ni1 Cu1 Al1.3",
          "Mo1 Cr3.33 Fe3.33 Co10 Ni9.67 Al6",
          "Hf7.5 Ti33 Nb1 Si16",
          "Cr1 Fe1 Co1 Ni1 Ge1",
          "Mn1 Fe3 Co3 Ni3",
          "Zr0.09 Ti1 Mo97.63 B14.23 C3.33",
          "Cr2 Fe2 Co2 Ni2 Al2 C1",
          "W1 Fe1.4 B1.2",
          "Cr10 Mn12.5 Fe20 Ni7.5 Al1",
          "Fe20 Co20 Ni20 Cu20 Sn1",
          "V1 Cr1 Mn1 Fe1 Co1 Ni1",
          "Cr2 Fe2 Ni2 Cu1 Al2",
          "V2.5 Mo1 Fe5 Co5 Ni10",
          "Cr4.4 Fe2 Co2.2 Ni1 Cu1 Al9.4",
          "V1 Mo1 Cr1 Fe1",
          "Cr3.8 Fe1 Co3.8 Ni1 Cu1 Al9.4",
          "Ti1 Cr10 Mn10 Fe10 Co10 Ni10 C1",
          "Mo20.5 B1 Si3.5",
          "Cr2.25 Fe2.25 Co1 Ni2.25 Al2.25",
          "Zr1.99 Ti2.18 Ta1.39 Nb2.5 Mo1.14 Al1",
          "Ti1 Cr5 Fe5 Ni5",
          "Ti1 Nb1 V1 Cr1 Ni1",
          "Cr1 Fe2 Co1 Ni1",
          "Ti1 Ta1.67 V2.67 W2.67",
          "V1 W2 Cr2 Fe2 Ni2",
          "Hf1 Zr1 Ti1 Ta1 Nb1 V1 Mo1",
          "Cr1.25 Fe1.25 Ni2.5 Cu1.25 Al1",
          "W1 Ir7.33 Al1.19",
          "Ta6.32 Nb6.32 W6.36 Mo1",
          "Li2.5 Mg5 Cu2.5 Al5 Sn1",
          "Hf18.27 Zr18.27 Ti18.27 Ta4.35 Nb4.35 Mo1",
          "Zr3.33 Ti3.33 Nb3.33 Re1",
          "W1 Cr1.17 Fe1.17 Co1.17 Ni1.17 C1",
          "Fe1 Co1 Ni1.5 Cu1 Al1",
          "Zr2 Ti2 Ta1 Nb2 Mo1 Cr2",
          "Cr1.04 Mn1 Fe1.02 Co1.08 Ni1.09",
          "Ti1 Cr1 Ni1 Cu1 Al1",
          "Ta1 Nb3 W1 Ru1",
          "Cr1 Fe1 Co1 Cu1 Al1.3",
          "Hf1 Zr2 Ti4 Nb1 V2",
          "V1 Cr2 Fe2 Co2 Ni2",
          "Ti1 Ta1 Nb1",
          "Hf2 Zr2 Ti2 Ta2 Nb2 Al1",
          "Cr4.4 Fe1 Co5 Ni1 Al8.6",
          "Cr1.25 Fe1.25 Co1.25 Ni1.25 Al1.25 Si1",
          "Cr1 Co1 Ni1 Cu1",
          "Hf1 Zr1 Ti1 Ta1 V1",
          "Ti1.42 Nb1.42 W1.42 Mo1.42 Cr1",
          "Ti1 Fe1 Ni1 Cu1 Al1",
          "Hf1 Ti1 Ta1 Nb1",
          "Zr4 Ti4 Nb4 V1 Mo4",
          "Cr4 Fe1.8 Co2.8 Ni1 Cu1 Al9.4",
          "W42.24 Fe1 Ni2.43",
          "Ti1 Nb1 W1 Re1",
          "Ti1 Fe1 Co1 Ni1 Al1",
          "Zr1 Ti3 Ta1 Nb3 Al2",
          "Cr1 Fe2 Ni2 Al1",
          "Cr3.33 Fe3.33 Co1 Ni3.33 Al2.33",
          "Cr1.5 Fe2.5 Co2.5 Ni2.5 Al1",
          "Re1.17 Co1 B1.17",
          "Hf1.33 Zr1.33 Ti1.33 Ta1.33 Nb1.33 Al1",
          "Ti1 Fe1 Co1 Ni1 Cu1",
          "Hf1 Ta5.5 Nb2 V3.5",
          "Cr1 Mn1 Fe1 Co1 Ni1.1",
          "Nb10 V10 Mo10 Cr10 Al1",
          "Cr1 Fe5 Co5 Ni5 Si1",
          "Mg1 Fe1 Cu1 Zn1 Al13 Si3",
          "Cr1 Fe1 Ni1 Al1.12",
          "Zr1 Ti1 Ta1 Nb1",
          "Ti1 Cr10 Fe10 Co10 Ni10 Al3",
          "Mo7.38 B1 Si4.12",
          "Ti2 Nb2 V2 Mo1",
          "Cr1.25 Fe1.25 Co1.25 Ni1.25 Cu1.25 Al1",
          "Cr3.33 Fe3.33 Co3.33 Ni3.33 Al1",
          "Cr1 Fe4.76 Co4.76 Ni4.76 Cu4.76",
          "Zr2 Ti2 Ta1 Nb2 Mo1 Al1",
          "Cr1 Fe1 Co1 Ni1 Sn1",
          "Hf1 Zr1 Nb1 V1 Mo1",
          "Ti1 Cr2.5 Fe2.5 Ni2.5",
          "W6.32 Ni9.2 Cu1 B3.48",
          "Zr1 Ti30 Nb54 Al15",
          "Mo1 Cr1.47 Mn1.47 Fe1.47 Co1.47 Ni1.47",
          "Ti2 Cr2 Fe2 Ni2 Cu1",
          "Cr1.79 Mn1.79 Fe1.79 Co1.79 Ni1.79 Al1",
          "Zr1 Ti1 Nb1 Cr1",
          "Ta1 W6.5 Mo1.5 Re3",
          "Cr1 Fe1 Co1 Ni1 Al1.25",
          "Hf1.67 Zr1 Ti3.33 Nb3.33 Mo1.67",
          "W3 Fe3.8 B2.2 C1",
          "Ta1 Nb1 V1 W1 Mo1 Cr1 Re1",
          "Hf1 Zr2 Ti2 Nb2 Mo2",
          "Ti2.51 Cr5 Fe5 Co7.51 Ni7.51 Al1",
          "Ti1 Mo1 Cr1 Al1",
          "Cr1.42 Fe1.42 Ni2.85 Cu1.42 Al1",
          "Cr1 Fe1 Co1 Ni1 Cu1 Al2",
          "Cr1 Fe1 Co1 Ni1 Cu1 Al1.5",
          "Ta1 V1 W1 Mo1 Cr1",
          "Cr1 Fe1 Ni2 Cu1 Al1",
          "Cr1 Mn3 Fe4.97 Co1 B0.03",
          "Hf12.5 Ti21 Nb1 Si16",
          "Cr1.25 Fe1.25 Ni1 Cu1.25 Al1.25",
          "Cr1 Fe1 Ni2 Al1",
          "Ti2.8 Cr2 Fe2 Co2 Ni2 Cu2 Al1",
          "Cr1 Fe1 Co1 Ni1 Al2.5",
          "Y1 Ti2 Cr2 Co2 Ni2 Cu2 Al2",
          "Cr1 Fe1 Ni2 Cu1 Al1.5",
          "Mo6.18 B1.91 Si1",
          "Cr1 Fe4.76 Co4.76 Ni4.76 Al4.76",
          "Hf1 Zr1 Ta1 Nb1 Mo1",
          "W1 Ir8 Al1",
          "Ti1 Mo1.25 Cr2.5 Fe2.5 Ni2.5 Al2.5",
          "W1.17 Fe1.17 B1",
          "Hf2.25 Zr2.25 Ti2.25 Nb2.25 Al1",
          "Cr1.99 Fe1 Co1 Ni1 Al1",
          "Cr1.43 Mn1.43 Fe1.43 Ni1.43 Al1",
          "Mo1 Cr2.01 Fe2.01 Co2.01 Ni2.01 Al3.01",
          "Ti1 Cr2 Fe2 Co1 Ni2",
          "Ti1 Nb1 W2",
          "Fe25 Co25 Ni25 Cu25 Sn1",
          "Cr4.76 Fe4.76 Co1 Ni4.76 Al4.76",
          "Nb7.5 Fe1 Co1 Ni1 Cu1",
          "Ti2.2 Nb5.2 Mo1 Si1.6",
          "Hf1 Zr1 Ti1 Nb1 O2",
          "Cr2.67 Fe2.67 Co2.67 Ni2.67 Al1",
          "Co2.5 Ni2.5 Cu1.5 Al1",
          "V1 Mo1 Fe1 Co1 Ni1.6",
          "Hf12.5 Ti33 Nb1 Si16",
          "Hf1 Zr1 Ti1 Nb1 V1",
          "Fe1 Co1 Ni1 Cu1 Al1",
          "Cr1 Fe1 Co1 Ni4 Al1",
          "Cr5 Fe5 Co5 Ni5 Al5 Si1",
          "Ta3.5 Nb1 V2.5 W5",
          "Ti23.3 V1 Al2.76",
          "Ti1 Ta1 Nb1 V1",
          "Cr1 Fe1 Co1 Ni1 Al3",
          "Hf2.01 Ti2.01 Nb2.01 V1 Mo1 Si1.41",
          "Ti1 Cr1.67 Fe1.67 Ni1.67",
          "Hf1 Zr2 Ti4 V2",
          "Zr2 Ti2 Nb2 V1 Mo2",
          "Cr1 Fe1 Co1 Ni2.1 Al1",
          "Cr4 Fe5 Co5 Ni5 Al1",
          "Ti1 Nb1 V1 Cr1.5 Al1",
          "Ti1 Fe2 Co2 Ni2 Al1",
          "Mo1 Cr3.33 Fe3.33 Co3.33 Ni3.33 Al3.33",
          "Fe2 Co1 Ni2 Cu2 Al2",
          "Cr1 Fe1 Co1 Cu1 Al2.8",
          "Ta3.5 Nb2 W2 Mo1.5 Re1",
          "Zr1 Ti1 V1 Cr1 Fe1 Co1 Ni1 Al1",
          "Ti1 Cr3.33 Fe3.33 Co5 Ni3.33 Al1.33",
          "Cr1 Fe1 Co1 Ni2.22 Al1",
          "V1 Cr1.31 Mn1.31 Fe1.31 Co1.31 Ni1.31",
          "Ta1 W2 Mo2 Ru1",
          "Ti1 Nb1 W1 Mo1 Cr1",
          "Zr1 Ti2 Ta1 Nb2 Al2",
          "Ti1 W2 Re1",
          "Cr1.42 Fe1.42 Co1.42 Ni1 Cu1.42",
          "Zr1.5 Ti1 Nb1 V1 Al1",
          "Cr1 Fe1 Co1 Ni1 Al2",
          "Ta3 V2.5 W5.5 Mo1",
          "Cr3.8 Mn3.8 Fe3.8 Co3.8 Ni3.8 C1",
          "Cr2.49 Fe3.74 Ni1.25 Al1",
          "Cr1.67 Mn1 Fe1.67 Co1.67 Ni1.67 Al1.67",
          "Ta1 Nb1 W1 Mo1 Re1",
          "Cr3.34 Mn2 Fe3.34 Co3.34 Ni3.34 Al1",
          "Cr1.25 Fe1.25 Ni2.75 Al1",
          "Ti1 Cr2 Fe2 Co2 Ni2 Cu2",
          "Ti1 Cr2 Fe2 Co2 Ni2 Al2",
          "Cr2 Fe2 Ni4 Al1",
          "Ti1 Cr4.98 Fe4.98 Ni4.98 Al1",
          "Li1 Mg1 Zn1 Al16 Sn1",
          "Cr1 Fe1 Co1 Ni1",
          "Ti1.6 Cr2 Fe2 Co2 Ni2 Cu2 Al1",
          "V1.67 Mo1 Fe1.67 Co1.67 Ni1.67",
          "Cr1 Mn1 Fe1 Co1 Ni1 Al1",
          "Ti1 Nb1 W1 Cr1",
          "Zr3.33 Ti3.33 Ta1 Nb3.33",
          "Cr2.01 Fe3.01 Co2.01 Ni2.01 Cu1 Al2.01",
          "Mn1 Fe1 Co1 Ni1 Cu1",
          "Ta1 V1 W9 Mo1",
          "Ta1.87 Nb1.87 W1.93 Mo1",
          "Cr1 Mn1 Fe1 Co1",
          "Mo1 Cr2 Fe2 Co3 Ni2 Al2",
          "Cr1 Fe1 Co1 Ni1.5 Al1",
          "Cr1 Fe1 Ni1 Cu1 Al1.99",
          "Ti1.61 Cr2.01 Fe2.01 Co2.01 Ni2.01 Cu2.01 Al1",
          "Nb15 Fe1 Co1 Ni1 Cu1",
          "V1 Cr2.3 Fe2.3 Co2.3 Ni2.3 Cu2.3",
          "Ta1.43 Nb1.38 V1 W1.02",
          "Cr2.25 Fe2.25 Co1 Ni2.25 Cu2.25",
          "W1.2 Fe1.8 B1",
          "V2 Fe2 Co2 Ni2 Cu1",
          "V1.6 Cr2 Fe2 Co2 Ni2 Cu2 Al1",
          "Ti1 Cr3.33 Fe3.33 Ni6.67",
          "Mo1 Cr6.67 Fe6.67 Co6.67 Ni6.67",
          "Hf1 Zr1 Ti1 Nb1 O1",
          "Cr1.23 Mn1.23 Fe1.23 Co1.23 Ni1.23 Al1",
          "Mo1 Cr2 Fe2 Ni2 Al2",
          "V1 Cr1 Fe1 Co1 Ni1 Cu1 Al1",
          "Cr2 Fe2 Co2 Ni2 Cu2 Al1",
          "Ti1 V1 Cr1 Mn1 Fe1 Co1 Ni1 Cu1 Al5.33",
          "Zr1 Ti3.2 Nb1.5 Cr2 Al2.3",
          "Hf4 Zr4 Ti1 Ta3 Nb4",
          "Cr1 Co9.5 Ni9.5",
          "Cr3.33 Mn3.33 Fe5 Ni1.67 Al1",
          "Ta1 Co7.12 B4.38",
          "Ti8 Nb8 Al1 Si3",
          "Mo1 Cr10 Fe10 Co30 Ni31 Al18",
          "Cr4.4 Fe1.8 Co2.8 Ni1.2 Cu1 Al8.8",
          "Hf2.5 Zr3 Ti2 Nb1.5 V1",
          "Ta1 Co9.83 B5.83",
          "Ti27.63 V1 Al3.27",
          "Cr1.25 Fe1.25 Co1.25 Cu1.25 Al1",
          "Zr1 Ti10 Nb10 V10 Al10",
          "Hf1 Zr1 Ti1",
          "Fe1.33 Co1.33 Ni1.33 Si1",
          "Ti3.33 Nb3.33 V3.33 Mo3.33 Cr3.33 Al1.67 Si1",
          "Ta1 Nb1 W1.9 Mo1",
          "Cr2.88 Fe1.88 Co1.88 Ni2 Cu1 Al2.88",
          "Ti1 Ta1 Nb1 V1 Mo1",
          "V1 Cr1.47 Fe1.47 Co1.47 Ni1.47 Cu1.47",
          "Mo109.94 B0.17 Si1",
          "Mo1 Cr2 Fe4 Co2 Ni2 Al2",
          "Ta1.5 W8 Re1.5 Ru1",
          "Cr2 Fe2 Co2 Ni2 Cu1.51 Al1",
          "Ti20.2 Ta1.03 Nb7.01 Fe1",
          "Cr1 Fe1 Co1 Ni1 Al2.99",
          "Zr1 Ti1 Ta1 Nb1 V1 W1 Mo1 Cr1",
          "Ti2.5 Cr5 Fe5 Co7.5 Ni7.5 Al1",
          "Mo1 Cr5 Fe5 Co15 Ni15 Al9",
          "Cr1 Fe2.25 Co2.25 Ni2.25 Cu2.25",
          "Nb1 W1 Mo1",
          "Cr4.67 Fe1 Ni4.67 Cu4.5 Al1.83",
          "Cr3.98 Fe3.98 Co3.98 Ni3.98 Al1",
          "Nb1 Mo1 Cr1 Co1",
          "Zr1 Ti1 Nb1 Al1",
          "Hf1 Zr1 Ti1 W1 Mo1",
          "Cr1 Fe1 Co1 Ni1 Cu1 Al1.8",
          "Zr1 Ti1 Ta1 Nb1 V1 Mo1 Cr1",
          "Cr4.2 Fe2.4 Co2.8 Ni1 Cu1 Al8.6",
          "Cr1.42 Fe1 Co1.42 Ni1.42 Cu1.42",
          "Cr5.8 Fe1 Ni5.2 Cu5.8 Al2.2",
          "Zr0.08 Ti1 Mo94.25 B35.44 C8.1",
          "Mo1 Cr2 Fe2 Co2 Ni4 Al2",
          "Cr1.42 Fe1.42 Co1.42 Ni1 Al1.42",
          "Ti1.5 Fe1 Ni1.33 Cu1.33 Al1.5",
          "Cr3.29 Fe3.29 Co3.29 Ni3.29 Al1",
          "Cr1.5 Fe2.92 Co1.5 Ni1.5 Al1",
          "Ti1.34 Cr1.34 Fe1.34 Co1.34 Cu1 Al1.34",
          "Ti3.37 Nb1.79 V1 Cr1.79",
          "Zr1 Ti1 V1 Mo1 Cr1 Fe1 Co1 Ni1",
          "Ti1 Ta1.52 Nb1.36 V1.04 W1.08",
          "Zr1.33 Ti1.33 Nb1.33 V1 Mo1.33",
          "Cr1 Fe1 Ni1 Cu1 Al1.5",
          "Ti1 Ta1 Nb1 V1 Al1",
          "Cr3.32 Fe3.32 Ni6.61 Cu3.32 Al1",
          "Zr3.33 Ti3.33 Nb3.33 V1 Mo2.33",
          "V1 Co1 Ni1",
          "Cr1 Mn1 Fe1 Co1 Ni1 C1",
          "Ti1.5 V1 Mo1 Cr1 Fe1",
          "Re1 Co1.6 B1.4",
          "Ti1 Nb2.5 Mo2.5 Cr2.5 Co2.5",
          "Ti2 V2 Cr2 Fe2 Ni2 Cu2 Al1",
          "Ti19.07 Ta1 Nb6.81 Fe1.46",
          "V1 Cr1 Fe1 Co1 Ni1",
          "Ti20 Ta20 Mo20 Cr20 Al20 Si1",
          "Ti1 Ta1 Mo1 Cr1",
          "Zr2.25 Ti2.25 Ta2.25 Nb2.25 Mo1",
          "Zr5 Ti5 Ta2.5 Nb5 Al1",
          "Ti2.44 Nb2.51 V2.47 Mo2.57 Al1",
          "Ti4.5 Nb1 Al4.5",
          "Ti2 Nb2 V2 Mo1 Cr1.5",
          "Ti1 Ta1 Nb1 Mo1",
          "Cr1 Fe10 Co10 Ni10 Al9",
          "Zr1 Ti1 V1 Fe1 Ni1 Al1",
          "Ti1.5 Cr1.25 Fe1.25 Co1.25 Ni1.25 Al1",
          "Zr1 Ti1 Ta1",
          "Zr3.09 Ti69.8 Nb1.27 W1.2 Mo1 Al5.26 Sn3.49 Si0.37",
          "Cr2 Fe4 Co2 Ni2 Cu1 Al2",
          "Ti3.2 Cr2 Fe2 Co2 Ni2 Cu2 Al1",
          "Cr1 Fe1 Co1 Ni2",
          "Ti1 Cr2 Fe2 Co2 Ni2 Cu1 Al1",
          "Ti1.33 Ta4.67 V1 W1",
          "Ti1.47 Nb3.13 Mo1 Si1.07",
          "V1 Cr3.96 Mn3.96 Fe3.96 Co3.96 Ni3.96",
          "Ti2.49 Cr2.49 Ni2.49 Cu2.49 Al1",
          "Fe1 Co1.99 Ni1 Cu1 Al1",
          "Ti1 Mn9.33 Fe10.33 Ni5 Al8",
          "Zr3.33 Ti3.33 Nb3.33 V1 Mo3.33",
          "Cr1.78 Mn1.78 Fe1.78 Co1.78 Ni1.78 Al1",
          "Zr1.95 Ti2.07 Ta1.05 Nb2.09 Mo1 Al1.74",
          "Mo1 Cr1 Fe1 Ni1 Cu1",
          "Cr2 Fe2 Co2 Ni4 Cu1 Al2",
          "Re1.6 Co1 B1.4",
          "Hf5 Zr10 Ti10 Nb10 Mo5 Si1",
          "Zr3.33 Ti3.33 Nb3.33 V1 Mo4.33",
          "Cr10 Fe10 Co10 Ni10 Al1",
          "Cr1.47 Mn1.47 Fe1.47 Co1.47 Ni1.47 Al1",
          "V1 Cr1.34 Mn1.34 Fe1.34 Co1.34 Ni1.34",
          "Mo1 Cr2 Fe1.2 Co2 Ni2 Al2",
          "Hf1.5 Zr1 Ti1 Nb1 Mo1",
          "V1 W1 Mo1 Ru1",
          "Ti1 Nb1 Mo1 Cr1 Co1",
          "Ti1 Nb2 W2",
          "W4.54 Cr1 Ni3.38 B2.42",
          "Cr1.89 Fe1.89 Co1.89 Ni1",
          "Ti3.01 V2.01 Fe2.01 Co2.01 Ni2.01 Cu1",
          "Cr1 Fe1 Co1 Ni1 Al1 Si1",
          "Cr1 Fe1 Co1 Ni2 Al1",
          "Cr2 Fe1 Co2 Ni2 Cu1 Al2",
          "Ta1 W1 Mo1 Ru1",
          "Ti1 Cr1.33 Fe2.5 Co4.17 Ni6 Al1.67",
          "Hf2 Zr1 Ti2 Nb2 Mo2",
          "Mo1 Cr12 Fe12 Co12 Ni12",
          "Cr3.33 Mn3.33 Fe3.33 Co3.33 Ni3.33 Al1",
          "Hf2 Ti13 Nb25.5 Cr1 Al1 Si7.5",
          "Cr7 Fe1 Ni5 Cu5 Al2",
          "Cr1 Fe1 Co1 Ni1 Cu1 Al3",
          "Ti1.5 Mo1 Cr2 Fe2 Ni2 Al2",
          "Ti22.68 V1 Al2.68",
          "Cr1.42 Fe1.42 Co1.42 Ni1.42 Al1",
          "Ti2.85 Nb1.28 Al1",
          "Cr3.2 Fe3.2 Co1.4 Ni1 Cu1.8 Al9.4",
          "Cr2.5 Fe2.5 Co2.5 Ni2.5 Al2.5 C1",
          "Ta1.09 Cr1.82 Mn1.82 Fe1.82 Co1.82 Ni1.82 Al1",
          "Ti1 Cr1.25 Fe1.25 Co1.25 Ni1.25 Al1.25",
          "Zr1 Ti1 Nb1 V1 Mo2",
          "Cr3.33 Mn3.33 Fe4.99 Ni1.66 Al1",
          "Zr1 Ti1 V1 Mo1 Fe1 Co1 Ni1",
          "Mn1.33 Ni1.33 Cu1.33 Zn1",
          "Mo1 Cr2 Fe2 Co2 Ni2 Al2",
          "Ti2 Nb2 V2 Mo2 Al1",
          "Zr1 Ti2 Nb1 V1",
          "Cr1 Fe1 Co1.99 Ni1 Al1",
          "Ti2 Nb1 W1",
          "Cr3.98 Fe4.96 Co3.98 Ni4.96 Al1",
          "Fe10 Co10 Ni10 Cu10 Sn1",
          "Hf1 Ti5 Ta5 V1",
          "Ti1 Cr3.98 Fe3.98 Co3.98 Ni3.98 Al4.78",
          "V4 Cr2 Fe2 Co2 Ni2 Cu2 Al1",
          "Ta1 Nb1 Mo1",
          "Cr1.43 Fe1.43 Ni2.86 Cu1.43 Al1",
          "Ti9.75 Ta1 Nb7.75 W1 Co5.5",
          "Hf1 Zr1.6 Ti2.22 Ta3.85 Nb3.85",
          "Ti1 V1 Cr1 Fe1 Ni1 Cu1",
          "Cr1 Fe1 Ni2 Cu1 Al1.6",
          "Ti1 Nb2 W2 Re1",
          "Cr4 Fe4 Co4 Ni4 Cu1 Al3",
          "Ta1 Nb1 W1 Mo1",
          "Hf1 Cr14.14 Co7.94 Ni56.1 Al24.65 C0 N0 O0.12",
          "Nb1 W3 Mo1 Ru1",
          "Mo1 Cr2.01 Fe2.01 Co3.01 Ni2.01 Al2.01",
          "Hf1.67 Zr3.33 Ti3.33 Nb3.33 Mo1.67 C1",
          "W1 Cr20 Mn20 Fe20 Cu20 Al20",
          "V1 W3 Mo5 Re3",
          "Zr1 Ti1.02 Nb1.15",
          "Cr3.14 Fe1.14 Co2.86 Ni1 Al6.14",
          "Zr0.05 W26.69 Re1 C0.05",
          "Ti1.05 Ta1.27 Nb1.29 V1",
          "Ti1 Cr1 Co1 Ni1 Cu1 Al1",
          "Zr8.5 Ti8.5 Ta1 Nb1 Mo1",
          "Cr1.13 Fe1.13 Ni1.13 Al1",
          "Cr1 Fe1 Co1 Cu1 Al3",
          "Cr1.62 Mn1.62 Fe1.62 Co1.62 Ni1.62 Al1",
          "Ti1 Nb1 V1 Al1",
          "Cr7 Fe1 Ni4.8 Cu5.2 Al2",
          "Ti5 Ta5 V5 Mo5 Al1",
          "Ta1 Nb1 W9 Re1",
          "Ti1 Ta1 V1 Mo1",
          "Zr1 Ti1 Ta1 Nb1 Mo1",
          "Hf1 Ti1 Nb1",
          "Mo1 Cr1.25 Fe1.25 Ni1.25 Al1.25",
          "Zr9 Ti9 Ta1 Nb1",
          "Ti2 Nb2 Mo2 Cr2 Al1",
          "Y1 Mo7 Cr7.5 Fe20.5 Co3.5 B3 C7.5",
          "Cr3.32 Mn1 Fe3.32 Co3.32 Ni3.32 Al3.32",
          "Cr2.33 Fe3.33 Co3.33 Ni3.33 Al1",
          "Cr1 Mn3 Fe5 Co1",
          "Ta5 W1 Fe3 Ni7",
          "Cr1.24 Mn1.24 Fe1.24 Co1.24 Ni1.24 Al1",
          "Ti2.25 Nb2.25 W2.25 Mo2.25 Cr1",
          "Ti1 Nb2 Mo2 Cr2 Co2",
          "Zr1 Ti1 V1 Mo1 Fe1 Ni1",
          "Cr1 Fe1 Co1 Ni1 Al1.5",
          "Ti1.38 Nb2.62 Mo1.25 Si1",
          "Cr1.67 Fe1.67 Ni4 Al1",
          "Ti4 Nb2 V1 Cr2 Al1",
          "Cr1 Fe1 Co1 Ni3 Al1",
          "W2 Fe2.53 B1.13 C1",
          "Cr1 Fe1 Ni1 Cu1.99 Al1",
          "Cr1 Fe1 Co1 Cu1 Al2",
          "Hf5 Zr10 Ti10 Nb10 Mo5 C1",
          "Hf1 Zr1 Ti1 Nb3",
          "Zr1 Ta1 Nb1",
          "Mo4.5 Ni4.5 B1.11 Si1",
          "Hf0.2 Ti1 Ta10 W10 Mo2 Cr8 Re8 Ru8 Ni140.6 Al12 Si0.2",
          "Ta4 Nb1 V3.5 W3.5",
          "Fe2 Co2 Ni2 Al1",
          "Cr1 Fe1 Co1 Ni1 Al1 C1.5",
          "Ti1 Cr1 Fe1 Co1 Ni1 Al1.2",
          "Cr3.32 Fe3.32 Co3.32 Ni3.32 Cu3.32 Al1",
          "Cr1 Fe1 Ni2 Cu1 Al2",
          "Cr1 Fe1 Ni3 Cu1 Al1",
          "Cr2.62 Mn2.62 Fe2.62 Co2.62 Ni2.62 Al1",
          "Cr3.6 Fe1 Co4 Ni1 Cu1 Al9.4",
          "Zr1 Ti3.3 Nb3.3 V1.98 Mo3.3 Cr1 Al1.98",
          "Ti3.99 Cr1.99 Fe1.99 Co1.99 Ni1.99 Cu1.99 Al1",
          "Zr1 Ti3.35 Nb3.35 V2.01 Mo3.35 Cr1",
          "Hf3.38 Ti3.38 Nb3.38 V1.68 Mo1.68 Si1",
          "Ti1 Ta7.18 W5.18 Mo1.82 Cr7.09 Co5.91 Ni58 Al4.73",
          "Mo4 B1 Si1.25",
          "Ta1.5 W8 Mo1.5 Re1",
          "W1.18 Fe1.45 B1",
          "Ta1 Nb1 V1 W1 Mo1",
          "Hf1 Zr1 Ti1 V1 Mo1",
          "Cr3.01 Fe2.01 Co2.01 Ni2.01 Cu1 Al2.01",
          "Mo1 Cr1.5 Fe2 Co3.5 Ni2",
          "Cr1 Fe1 Co1 Cu1 Al1.99",
          "Cr9.8 Mn9.8 Fe9.8 Co9.8 Ni9.8 Al1",
          "Hf2 Zr2 Ti2 Ta2 Nb2 Mo1",
          "Hf2 Ti2 Nb2 V1 Mo1 Si1.01",
          "Ti1.5 Ta1 Cr1.83 Co2 Ni2",
          "Zr1 Mo82 B8 Si9",
          "Cr1 Fe3.33 Co3.33 Ni3.33 Al2.33",
          "Zr2.85 Ti2.69 Nb3.17 Re1",
          "Hf1.67 Zr3.33 Ti3.33 Nb3.33 Mo1.67 Si1",
          "Ti41.7 Ta2.06 Nb14.06 Fe1",
          "Zr3.33 Ti3.33 Nb3.33 V1 Mo1",
          "Cr4 Mn4 Fe4 Ni4 Cu2 Al1",
          "Ti1 Nb1 Mo1 Al1",
          "Nb1 Cr1.33 Fe1.33 Co1.33 Ni1.33 Al1.33",
          "Ta4 Nb4 W4 Mo4 Si1",
          "Cr4.8 Fe2 Co3.6 Ni1 Al8.6",
          "Zr1 Ti1 Nb1 W1 Mo1",
          "Ti1 W1 Mo1",
          "Ti1 Nb1 V1 Cr1 Ni1 Al7",
          "W1 Fe1.64 B1",
          "W1.33 Cr1 Mn1 Fe1 Co1 Ni1",
          "Ti1 Ta1 Mo1 Cr1 Al1",
          "Cr2.01 Fe1 Co2.01 Ni2.01 Cu1 Al6.04",
          "Cr5 Fe1 Co4.4 Ni1 Al8.6",
          "Zr9 Ti9 Nb1 Mo1",
          "Cr4.76 Fe4.76 Co1 Ni4.76 Cu4.76",
          "Ti1 Ta3.33 V3.33 W3.33 Cr3.33",
          "Ti27.72 V1 Al3.28",
          "Zr1 Ti2 Ta1 Nb2 Mo1 Al2",
          "Cr1.15 Fe1.15 Co1.15 Ni1.15 Al1",
          "Cr2.52 Fe2.52 Co2.52 Ni2.52 Cu1 Al2.27",
          "Cr2.5 Fe2.5 Ni5 Cu2.5 Al1",
          "Mo1.07 Cr1.79 Fe7.86 Co2.57 Ni1",
          "Zr2 Ti2 Nb1 V1",
          "Ti2 Cr2 Fe2 Co2 Cu1 Al2",
          "Ta1 W3 Mo1 Re1",
          "Ti1 Cr2 Fe2 Co2 Ni2 Al1.8",
          "Cr2 Fe2 Co2 Ni2 Cu1 Al1.51",
          "Ta1 Co6.22 B3.89",
          "Ti1 Cr2 Fe2 Co2 Ni2 Al1",
          "Hf2.8 Zr0.01 Ti0.8 Ta6.6 W18.8 Mo1 Cr16.2 Co18.6 Ni123 Al11.4 B0.03 C0.14",
          "Ti1 Cr3.33 Fe3.33 Ni3.33",
          "Cr5 Fe5 Co5 Ni5 Al5 C1",
          "Mn1 Ni1 Cu1 Zn1",
          "V1 Cr4 Mn4 Fe4 Co4 Ni4",
          "Cr1 Fe1 Co1 Cu1 Al1.5",
          "Cr4 Fe4 Co4 Ni4 Cu1 Al4",
          "Ti27.19 V1 Al3.22",
          "Cr2 Fe2 Co2 Cu2 Al1",
          "Nb1 Cr6.45 Fe6.45 Co6.45 Ni6.45",
          "Cr1.33 Fe1.33 Co1 Ni1.33 Al1.33",
          "W12 Cr1 Fe1.29",
          "Cr2 Fe2 Co4 Ni2 Cu1 Al2",
          "Hf1 Zr1 Ti1 Nb1",
          "Cr1 Co1 Ni1 Cu1 Zn1",
          "Nb1 V1 Mo1 Cr1 Fe1",
          "Ti1 W38 C1",
          "Cr5 Mn1 Fe5 Co5 Pd5 Ni5",
          "Cr4 Fe2 Co2.6 Ni1 Cu1 Al9.4",
          "Ti4.96 Cr4.96 Ni4.96 Cu4.96 Al1",
          "Cr2.25 Fe2.25 Co2.25 Ni1 Al2.25",
          "Cr4 Fe2.2 Co2.4 Ni1 Cu1 Al9.4",
          "Zr3.8 Ti4.22 Ta5.78 Nb5.2 Al1",
          "Ti1 Ta1 Nb1 Cr1",
          "Mo1 Cr2 Fe2 Co2 Ni2 Al4",
          "Cr1 Mn1 Fe1 Co1 Ni1 Cu1 Al1",
          "Fe4 Co4 Ni4 Si1",
          "Zr3.33 Ti3.33 Nb3.33 V3.33 Mo1",
          "Fe1 Co1 Ni1",
          "Cr4 Fe4 Co1 Ni4 Al4",
          "W1 Fe1.45 B1.18",
          "W4.29 Fe5.43 B3.57 C1",
          "Hf1 Zr2 Ti4 Nb1.5 V2",
          "Ta1 Cr5 Mn5 Fe5 Co5 Ni5 Al2.5",
          "Mn1 Co1 Ni1",
          "Zr1 Ti1 V1 Fe1 Co1 Ni1 Cu1",
          "Cr1 Fe1 Co1 Ni1 Cu1 Al2.3",
          "Cr1 Fe1.42 Co1.42 Ni1.42 Cu1.42",
          "Mo4.64 B1 Si1.5",
          "Ti9.33 B3 Si1",
          "Cr6.72 Mn6.72 Fe6.72 Ni10.09 Cu1",
          "Mo42 B1 Si7",
          "Ti1 W0.1 Mo0.1 Cr14 Fe17 Co17 Ni35 Cu8 Al8",
          "Cr1 Fe1 Ni2.01 Cu1 Al2.5",
          "Cr1.25 Fe1.25 Co1.25 Ni1.25 Al1",
          "Mg1 Mn1 Cu1 Zn1 Al13 Si3",
          "Cr1 Fe1 Ni2 Cu1 Al1.2",
          "Cr4 Fe2 Co2 Ni2 Cu1 Al2",
          "Ta4 V1.33 W1.67 Mo1",
          "Zr1 Ti1 Nb1 V1 W1 Mo1 Cr1",
          "W1 Mo1 Cr2 Co4 Ni4",
          "Cr10 Fe10 Co10 Ni10 Al10 C1",
          "Zr3.33 Ti3.33 Nb3.33 V1",
          "Ti1 W1 Mo1 Cr1 Al1",
          "Cr1 Mn1 Fe1 Ni1 Cu1 Al1.5",
          "Ta2.33 Co1 Ni2.22",
          "Ti1.5 Cr1 Fe1 Co1 Ni1 Al1",
          "Ta1 Cr2.5 Mn2.5 Fe2.5 Co2.5 Ni2.5",
          "Mo1 Cr4.8 Mn4.8 Fe4.8 Co4.8 Ni4.8",
          "Zr3.33 Ti5 Nb3.33 Al1",
          "Fe1 Co1 Ni2 Cu1 Al1",
          "Cr4.6 Fe1.4 Co4.4 Ni1 Al8.6",
          "Ti0.02 Nb1 Mo1 Cr1 Co1",
          "W30 Fe1 Ni2.33",
          "Ti1 Ta1 V1 Mo1 Al1",
          "Zr1 Ti1 V1 Cr1 Fe1 Co1 Ni1 Cu1",
          "Cr4.67 Fe1 Ni5.17 Cu3.67 Al2.17",
          "Li25.33 Ca0.33 Mg30 Al10 Si1",
          "Cr3 Fe2.6 Co2.8 Ni1.2 Cu1 Al9.4",
          "Ta3.61 Nb3.58 V2.28 W3.53 Mo3.54 Cr1",
          "Cr1 Fe1 Ni1 Al1.21",
          "Cr1 Fe3 Co3 Ni3",
          "Cr10 Mn10 Fe10 Ni10 C1",
          "Hf1 Zr2 Ti3 Ta1 Nb1",
          "Zr1 Ti1 Nb1 V1 Cr1",
          "Zr1 Ti4 Nb3 Cr2",
          "Hf1 Zr2 Ti4 Nb2 V2",
          "Hf1 Zr1 Ti1 Ta1 Nb1 W1",
          "Cr2.01 Fe2.01 Co1 Ni2.01 Cu1 Al6.04",
          "Ta1 V1 W1 Mo1",
          "Ta1 Co8.29 B5",
          "Mo9.62 B1.01 Si1",
          "V1 Cr1.33 Mn1.33 Fe1.33 Co1.33 Ni1.33",
          "Cr5.05 Fe5.05 Ni10.13 Cu5.05 Al1",
          "Ti1 Cr2 Fe2 Co2 Ni2 Al3",
          "Ti10.17 Cr10.17 Fe10.17 Ni10.17 Cu1",
          "Cr6.8 Fe1 Co3.4 Ni2 Al6.8",
          "Cr1 Fe1 Co1 Cu1 Al2.3",
          "Ta1 Cr1.67 Mn1.67 Fe1.67 Co1.67 Ni1.67",
          "Mo1 Cr10 Fe10 Co10 Ni10 Al3",
          "Zr1 Ti1.33 Nb1",
          "Ti27.28 V1 Al3.23",
          "Cr4.4 Fe1.6 Co4.4 Ni1 Al8.6",
          "Cr2 Fe1 Co2 Ni2 Cu2 Al2",
          "W5 Re1 Fe10.5 Ni24.5",
          "Zr8 Ti6 Ta1 Nb3 Al2",
          "Zr10 Ti8 Ni29.5 Sn1.5 Si1",
          "Cr1 Fe1 Ni1.99 Cu1 Al1",
          "Cr1 Fe1 Ni1",
          "Cr1 Fe1 Co2.01 Ni3.01 Cu1 Al6.04",
          "Cr1 Fe1 Co1 Ni2.5 Al1",
          "Cr1 Fe1 Co1 Ni1 Al6",
          "Hf2 Ti2 Nb2 V2 Si1",
          "Nb1 Cr3.24 Fe3.24 Co3.24 Ni3.24",
          "Re1 Co3.33 B2.33",
          "Cr2 Fe2 Co2 Ni2 Cu2 Al1 B1.2",
          "Mo1 Cr2 Fe2 Co1 Ni2 Al2",
          "Ti1 Nb1 Mo1 Cr1 Al1",
          "Hf1 Zr1 Ti1 Nb1 Cr1",
          "W1 Cr10 Mn10 Fe10 Cu10 Al10",
          "Hf12.25 Zr12.25 Ti12.25 Ta6.12 Nb6.12 N1",
          "Cr1.33 Mn1.67 Fe2.67 Ni1",
          "Ta1 W3 Mo1 Ru1",
          "Mo31.33 B1 Si1",
          "Mn1.87 Fe2.07 Ni1 Al1.6",
          "Nb1 Cr9.71 Fe9.71 Co9.71 Ni9.71",
          "Cr1 Fe1.94 Ni1.94 Al1",
          "Ta1 W1 Mo1",
          "Ta1 Nb1 W1",
          "Cr1 Fe1 Ni1 Cu1",
          "Ti4 V2 Fe2 Co2 Ni2 Cu1",
          "Hf1.5 Ti2.5 Ta1 V7",
          "Hf1 Zr1 Ti1 Nb1 Mo1",
          "Ti1 Cr12 Fe12 Co12 Ni12 Al2",
          "W2.31 Fe2.92 B1.46 C1",
          "Ti1 Nb1 V1 Mo1 Fe1",
          "Ta1 Nb2 W2 Ru1",
          "Hf10 Ti33 Nb1 Si16",
          "Cr2 Mn2 Fe2 Co2 Ni2 C1",
          "Ta1.33 Nb1.33 W1.33 Mo1.33 Si1",
          "Zr4.75 Ti4.75 Ta4.75 Nb4.75 Mo1",
          "Cr5.88 Mn17.65 Fe28.41 Co5.88 B1",
          "Ti1 Nb2 Ru1",
          "Zr1 Ti1 Nb1 V1.5 Mo1",
          "V2.5 Mo1 Fe2.5 Co2.5 Ni2.5",
          "Ti1 V1 Mo1 Cr1 Fe1",
          "Ti1 Nb1 W1 Mo1",
          "Mo45.5 B1 Si3.5",
          "Zr1 Ti1 Nb1 V1 Al1",
          "Cr1 Fe1 Ni1 Cu1 Al1",
          "Cr10 Mn10 Fe10 Co10 Ni10 Al1",
          "Cr1.33 Fe1.33 Co1.33 Ni1",
          "Cr1 Fe1 Co1 Ni1 Cu1 Al2.8",
          "Ti1.5 Cr1 Fe1 Ni1 Cu1 Al1",
          "Mo1 Cr2 Fe3 Co2 Ni2 Al2",
          "Cr5 Fe5 Ni10 Cu5 Al1",
          "Fe14.29 Co14.29 Ni14.29 Cu14.29 Sn1",
          "Cr2.5 Fe2.5 Co2.5 Ni2.5 Al2.5 Si1",
          "Ti1 Ta1 V1 W1",
          "Cr1.42 Fe1 Co1.42 Ni1.42 Al1.42",
          "Hf1.5 Zr2.5 Ti3 Ta1 Nb2",
          "V3.2 Cr2 Fe2 Co2 Ni2 Cu2 Al1",
          "Cr1.33 Fe1.33 Co1.33 Al1",
          "Nb1 Cr24.6 Mn24.6 Fe24.6 Co24.6 Ni24.6 C1",
          "Ti1 Cr1.25 Fe1.25 Co1.25 Ni1.25 Al1.5",
          "Ti1 V1 Cr1 Fe1 Ni1 Cu1 Al1.5",
          "Ti1.2 Mo1 Cr2 Fe2 Ni2 Al2",
          "Ti1 Nb1 W1 Ru1",
          "Cr4.6 Fe1.4 Co2.8 Ni1 Cu1 Al9.2",
          "Ti1 Cr5 Fe5 Co5 Ni5",
          "Mo1 Cr2 Fe2 Co4 Ni2 Al2",
          "Mg1 Zr1 Cu1 Zn1 Al13 Si3",
          "Cr1 Mn1 Fe1 Co1 Ni1 Al1.25",
          "Ti1 Ta1 Nb1 V1 W1",
          "Ti20.83 Ta1 Nb6.83",
          "Cr1.67 Mn1 Fe1.67 Co1.67 Pd1.67 Ni1.67",
          "Ti2.83 Nb2.83 Si1",
          "Zr1 Ti1.94 Ta1.31 Nb2.14 Mo1.22 Al1.99",
          "Cr1 Fe1 Ni1.99 Cu1.01 Al1",
          "Cr3.4 Fe2.8 Co3 Ni1.2 Cu1 Al8.6",
          "Cr1.11 Fe1.11 Co1.11 Ni1.11 Al1",
          "Hf1.33 Zr1.33 Ti1.33 Ta1.33 Nb1.33 Mo1",
          "Mo3.62 Ni3.08 Si1",
          "Hf1 Zr1 Ti1 Ta1 Mo1",
          "Hf2 Ti2 Nb2 V1 Mo1 Si1.4",
          "Zr1 Ti1 Nb1 V1 Mo1.3",
          "Ti1 Cr5 Fe5 Co5 Ni5 Al4",
          "Fe1 Co1 Ni3 Cu1 Al1",
          "Cr1 Fe1.42 Co1.42 Ni1.42 Al1.42",
          "Hf1 Ta1 Nb1",
          "Cr1 Fe2.25 Co2.25 Ni2.25 Al2.25",
          "Cr2.25 Fe1 Co2.25 Ni2.25 Cu2.25",
          "Cr2 Fe2 Co2 Ni1 Cu2 Al2",
          "Cr1.15 Fe1 Co1 Ni1",
          "Zr2 Ti2 Ta1 Nb2 Mo1 Al2",
          "Ti1 Cr3.33 Fe3.33 Co1.67 Ni5",
          "V2.8 Cr2 Fe2 Co2 Ni2 Cu2 Al1",
          "Ti1.5 V1 Fe1 Co1 Ni1 Cu1",
          "Ti3.6 Cr2 Fe2 Co2 Ni2 Cu2 Al1",
          "Re1 Co2.25 B1.75",
          "Cr2.11 Fe1 Co2.22 Ni1 Al4.78",
          "Cr1 Fe1 Co1 Ni2.15 Al1",
          "Zr1 Ti1 Nb1 V1 Mo1.5",
          "Mn5 Fe5 Co5 Ni5 Cu5 Sn1",
          "Li1 Mg1 Cu1 Zn1 Al16",
          "Ti1 Co1 Ni1 Al1",
          "Cr1 Fe2.5 Co2.5 Ni2.5 Al1.5",
          "Cr1.34 Mn1.34 Fe1.34 Co1.34 Ni1.34 Al1",
          "Mo46 B1 Si3",
          "Mo14.33 B1.33 Si1",
          "Ta2.5 Nb2.5 V1 W4 Mo2.5",
          "Ti2.4 Cr2 Fe2 Co2 Ni2 Cu2 Al1",
          "Cr4.2 Fe1.6 Co4.6 Ni1 Al8.6",
          "W1 Fe1.33 B1",
          "Zr1 Ti3.35 Nb3.35 Mo3.35 Cr1",
          "Cr2.5 Fe1 Co5.5 Ni1",
          "V1 Mo1 Fe1 Co1 Ni2",
          "Hf1 Ti4 Ta2.5 V4.5",
          "Zr1 Mo19.75 B2 Si2.25",
          "Ti1 Cr1 Fe1 Ni1 Cu1 Al1",
          "W3.33 Fe2 Co1 Ni2",
          "Hf1 Ti1 Nb1 Al1",
          "W2.69 Fe2 Co1 Ni2",
          "Ta1 Nb1 W3 Mo1",
          "Ti1 Nb1 V1 Mo1",
          "Mo1 Cr3.29 Fe3.29 Co3.29 Ni3.29",
          "Cr1 Fe1 Co1 Cu1",
          "Cr1.2 Fe6.2 Co2.2 Ni1 Cu1.8 Al7.6",
          "Cr2 Mn2.5 Fe4 Ni1.5 Al1",
          "Hf2 Zr2 Ti2 Ta1 Nb1",
          "V1 Fe1 Co1 Ni1",
          "Zr4.17 Ti4.17 Nb4.17 V4.17 Al1",
          "Zr0 Ta38.86 Nb0.06 W1 Mo0 Fe0.08 C0 N0 O0",
          "Cr1.33 Fe1.33 Co1.33 Ni1.33 Al1",
          "Mo4.14 B1 Si2",
          "Ta2 Nb1.33 W1.33 Mo1 Re1",
          "Cr2.66 Fe2.66 Co2.66 Ni2.66 Al1",
          "Cr1.67 Fe1.67 Ni1 Cu1.67 Al1.67",
          "Ti2 Nb2 V2 Mo1 Cr3",
          "V1.99 Cr1 Fe1 Co1 Ni1",
          "Fe1 Co1 Ni1 Al1",
          "Ti1 V2 Fe2 Co2 Ni2 Cu1",
          "W1.2 Cr1 Ni3.38 B2.42",
          "Ti1 Ta4 V5 W2",
          "Cr3.33 Mn4.17 Fe6.67 Ni2.5 Al1",
          "Ti3.21 Cr2.01 Fe2.01 Co2.01 Ni2.01 Cu2.01 Al1",
          "Hf0.02 Cr1.91 Fe4.85 Co1 Ni5.09 Al6",
          "Cr1 Fe1 Co1 Ni1 Cu1",
          "Cr1 Fe2 Co2 Ni2 Cu2 Al2",
          "Mo1 Cr3.33 Fe1 Co5.67 Ni5.67",
          "Y1 Ti1 Cr1 Co1 Ni1 Cu1 Al1",
          "Ti1 Cr2 Fe1.89 Ni3.67 Al2",
          "Cr1 Mn1 Fe1 Co1 Ni1.05",
          "Zr0.09 Ti1 Mo97.69 B7.05 C1.71",
          "V3.63 Cr2.01 Fe2.01 Co2.01 Ni2.01 Cu2.01 Al1",
          "Ti2 Ta2 Nb2 V2 Al1",
          "Mo10.38 B1 Si1.12",
          "Cr2.01 Fe2.01 Co2.01 Ni2.01 Cu1 Al3.01",
          "Ta1 W1 Mo1 Re1",
          "Fe12.33 Co8.52 Ni8.52 Al6.7 C1",
          "Ti1 Nb2 Cr2 Al45",
          "Hf1 Ti1 Ta1 Al1",
          "Fe1.05 Co1.05 Ni2.16 Al1",
          "Ti1.34 Cr1.34 Fe1.34 Ni1.34 Cu1",
          "Ti1 Ta2.88 Nb2.88 W2.88 Mo2.88",
          "Ti1 Ta1 Nb1 V1 W1 Mo1",
          "Cr1.33 Mn1.33 Fe1.33 Co1.33 Ni1.33 Al1",
          "Mo89 B1 Si10",
          "V3.99 Cr1.99 Fe1.99 Co1.99 Ni1.99 Cu1.99 Al1",
          "Ti1 Cr1 Fe1 Co1 Ni1 Al2",
          "Cr1 Fe1.99 Co1 Ni1 Al1",
          "V1.5 Cr1 Fe1 Co1 Ni1",
          "Nb1 Cr4.85 Fe4.85 Co4.85 Ni4.85",
          "Cr2 Fe2 Co1 Ni2 Cu1 Al2",
          "Hf2 Zr1 Ti1 Nb2",
          "Li2.5 Mg5 Zn2.5 Al5 Sn1",
          "Ti2 Nb2 V2 Mo2 Cr2 Al1",
          "Cr1 Fe2.99 Co1.99 Ni1 Cu1.99 Al5.97",
          "Ti1 Cr5 Fe5 Ni5 Al1",
          "Li1 Mg1 Zn1 Al1 Sn1",
          "Zr1 Mo40.5 B4 Si4.5",
          "Cr3.33 Fe3.33 Co3.33 Ni3.33 Cu1 Al1",
          "V3.6 Cr2 Fe2 Co2 Ni2 Cu2 Al1",
          "W1 Cr4.5 Fe4.5 Co4.5 Ni4.5 C1",
          "Hf1 Zr1 Ti1 Nb1.5 Mo1",
          "V1 Cr2.5 Fe2.5 Co2.5 Ni2.5 Cu2.5 Al1.25",
          "Cr1.61 Mn1.61 Fe1.61 Co1.61 Ni1.61 Al1",
          "Ti2 Mo2 Cr2 Fe2 Co2 Ni2 Cu2 Al2 B1 Si2",
          "Cr4.4 Fe1 Co4.8 Ni1.2 Al8.6",
          "Ti1 W1 Re1",
          "Cr5 Fe5 Co5 Ni5 Al1",
          "W1.82 Ni2.93 B1",
          "Ti1 V2 Mo2 Cr2 Fe2",
          "Hf1 Zr1 Ti1 Nb1 Mo1.5",
          "Cr6 Fe1.4 Co2 Ni1.2 Cu1 Al8.4",
          "Hf4.75 Zr4.75 Ti4.75 Nb4.75 Al1",
          "Sc1 Hf1 Zr1 Ti1",
          "Ti2 Cr4 Fe4 Co4 Ni4 Cu2 Al1",
          "Cr4 Fe1.33 Co3.17 Ni1 Al7.17",
          "Hf1.83 Zr1.83 Ti1.83 Nb1.83 Al1",
          "Cr1 Co2 Ni2",
          "W4.09 Fe2 Co1 Ni2",
          "Ti1 Ta1 Mo1",
          "Ti2 Cr4 Fe4 Co4 Ni4 Cu3 Al1",
          "Cr1.25 Mn1.25 Fe1.25 Ni1.25 Al1",
          "Y1.67 Zr1.67 Ta1.67 Mo14.67 Fe1 Co4 Si8.67",
          "Cr2 Mn2 Fe2 Co2 Ni2 Al1",
          "Ti1.2 Cr2 Fe2 Co2 Ni2 Cu2 Al1",
          "Ti22 Nb10.5 Cr10.5 Co6 Ni1",
          "Cr1 Fe1 Ni2.01 Cu1 Al1.2",
          "Cr1.67 Fe1.67 Ni3.34 Cu1.67 Al1",
          "Hf12.25 Zr12.25 Ti12.25 Ta6.12 Nb6.12 O1",
          "Ti2 Ta1 Nb1 V1 Mo1",
          "Fe4.96 Co1 Ni4.96 Cu4.96 Al4.96",
          "Ti1 Mo1 Cr2 Fe2 Ni2 Al2",
          "Cr6.2 Fe1 Ni6.2 Cu4.2 Al2.4",
          "Zr3.33 Ti3.33 Nb3.33 V1 Mo5",
          "Hf1 W7.5 Re2.5 Ru1",
          "Mg1 Cr1 Cu1 Zn1 Al13 Si3",
          "Cr1 Fe1 Co1 Ni1.99 Al1.3",
          "Ta1 Nb5 W5 Mo5 Re2.5 C1",
          "Cr2 Fe2 Ni4 Cu2 Al1",
          "Zr1 Ti1 Nb1 V2",
          "Cr14.78 Mn14.19 Fe14.26 Co14.78 Ni14.56 C1",
          "Zr1 Ti4 Nb1.5 Cr2 Al1.5",
          "Nb1 V1 W3 Ru1",
          "Ti27.54 V1 Al3.26",
          "Ti1 Nb1 Mo1 Cr1",
          "Ta2.67 Nb1 V2.33 W2",
          "Mo1 Cr4.8 Fe4.8 Co4.8 Ni4.8",
          "Ti1 Ta1 Nb1 W1 Mo1",
          "Zr6.5 Ti7 Ta4 Nb5 V1 Al1.5",
          "Cr1.1 Fe1.1 Ni2.22 Cu1.1 Al1",
          "Cr9.8 Mn9.8 Fe9.8 Co9.8 Ni9.8 C1",
          "Hf1 Zr1 Ti1 Ta1 Nb1 W1 Mo1",
          "Ti1 Ta1 Nb1 Al1",
          "Hf2.5 Zr2.5 Ti1.14 Ta1",
          "Hf1.6 Ti2.53 Nb1.53 V1",
          "Ti1 Nb1 V1 Mo1 Al1",
          "Cr5.5 Fe1 Co1 Ni1 Cu1 Al7.17",
          "Ti1 V1 Cr1 Mn1 Fe1 Co1 Ni1 Cu1 Al2",
          "Ti1.5 Ta1 Nb1 V1 Mo1",
          "Cr1 Fe1 Co1 Ni1 Al1.4",
          "Zr3.5 Ti4.5 Ta1 Al1",
          "Cr16.67 Mn50 Fe82.33 Co16.67 B1",
          "Ti1 Nb2 W2 Ru1",
          "Hf10 Ti21 Nb1 Si16",
          "Mn4 Fe4 Co1 Ni1",
          "Ti24.75 W1 Al24 Si0.25",
          "Li6 Ca1 Mg7 Y0.02 Al3.98 Si2",
          "Ti1 Fe1 Co1 Ni1 Cu1 Al1",
          "Ta1.2 Nb2 W2 Mo2 Re1 C1.2",
          "Ti1 Ta1 W1 Mo1",
          "Cr1 Fe1 Co1 Ni1 Al1.8",
          "Zr2 Ti2 Nb2 V2 Mo1",
          "Ti1 Ta1 W1",
          "Nb1 Cr10 Fe10 Co10 Ni10 Al10",
          "Ti1 Nb1 Mo1",
          "W1 Ir22 Al2",
          "W1 Cr3.8 Mn3.8 Fe3.8 Co3.8 Ni3.8",
          "Hf5.56 Zr5.56 Ti7.06 Ta1 Nb1",
          "Cr5 Mn5 Fe5 Co5 Ni5 Al1",
          "Zr1 Ti1 V1 Fe1 Co1 Ni1 Al1",
          "Mo1 Cr5 Fe5 Co5 Ni5 Al5",
          "W5 Fe2 Co1 Ni2",
          "Zr1 Ti1 Ta1 V1 Mo1",
          "Cr5.05 Mn5.05 Fe5.05 Co5.05 Ni5.05 Al1",
          "Cr3.3 Mn1 Fe3.3 Co3.3 Ni3.3 Al1.65",
          "Zr1 Ti1 Nb1 V1",
          "Zr1 Ti1 Nb1 Cr3",
          "Cr1 Fe1 Ni1.99 Cu1 Al1.59",
          "Hf1.67 Zr1.67 Ti1.67 Ta1",
          "Fe1 Co1.5 Ni1 Cu1 Al1",
          "Mo1 Cr5 Fe5 Ni5 Al5",
          "Cr1 Fe5 Co5 Ni5 Al4",
          "Zr1 Ti1 V1 Fe1 Ni1 Cu1",
          "Fe5 Co5 Ni5 Cu5 Sn1",
          "Zr3 Ti2 Ta2 Nb1",
          "Cr1.43 Mn1.79 Fe2.86 Ni1.07 Al1",
          "Cr1 Fe1 Co1 Ni1 Cu1 Al1",
          "Ti3.33 Ni2.33 C1",
          "Ti1 Nb1 V1 Cr1 Ni1 Al10",
          "Cr1 Mn1 Fe1 Ni1",
          "Mn12.5 Fe12.5 Co12.5 Ni12.5 Cu12.5 Sn1",
          "Ti1 Cr5 Fe5 Co5 Ni5 Cu5 Al2.51",
          "Ti4 Ta4 Nb4 V4 Al1",
          "Mg1 Ni1 Cu1 Zn1 Al13 Si3",
          "Ti3.44 Nb2.06 V1 Cr1 Ni1.5 Al1",
          "Ti4.4 Nb11.4 Mo1 Si3.2",
          "Ti2 Cr2 Fe2 Co2 Ni2 Cu2 Al1",
          "Mo1 Cr1 Fe1 Co1 Ni1 Al1",
          "Nb2 V2 Mo2 Cr2 Al1",
          "Mn3 Ni3 Cu3 Al1",
          "Fe1 Co1 Ni1 Cu1 Sn0.02",
          "Cr1 Fe1 Co1 Cu1 Al2.5",
          "Hf3.33 Zr3.33 Ti3.33 Ta3.33 Nb3.33 Al1",
          "Cr1 Fe1 Ni1.99 Cu1.59 Al1",
          "V1 Cr4.8 Fe4.8 Co4.8 Ni4.8 Cu4.8",
          "Cr1 Fe1 Ni1 Al1.3",
          "Zr2.59 Ti2.53 Ta1 Nb2.89",
          "Hf1.15 Ti9.85 Nb31.31 W1 Mo3.62 Cr2.08 Al3.54 Sn3.85 Ge4.54 Si16",
          "Zr1 Ti1 Ta1 Nb1 V1 Mo1",
          "Nb1 Cr2.5 Fe2.5 Co2.5 Ni5.25",
          "Cr2 Mn1.2 Fe2 Co2 Ni2 Al1",
          "Cr1 Fe1 Ni1.2 Cu1 Al1",
          "V2.4 Cr2 Fe2 Co2 Ni2 Cu2 Al1",
          "Mo1 Cr5 Fe5 Co5 Ni5",
          "Cr2.12 Fe2.12 Co2.12 Ni4.12 Cu1 Al1",
          "Hf1 Zr1 Ti1 Ta1 Nb1 Mo1",
          "Cr1 Co1 Ni1 Al1",
          "Zr1 Fe1 Co1 Ni1 Cu1 Al1",
          "W63.76 Fe1 Ni2.34",
          "Mn20 Fe20 Co20 Ni20 Cu20 Sn1",
          "Ti1 Nb1 Mo1 Cr1 Fe1",
          "W1 Cr5 Fe5 Co5 Ni5",
          "Cr1 Fe1 Ni2 Cu1 Al1.8",
          "Mn1 Fe1 Co1 Ni1",
          "Cr1.14 Mn1.14 Fe1.14 Co1.14 Ni1.14 Al1",
          "Cr1 Fe1 Co1 Al1",
          "Zr2 Ti2 Ta1 Nb2 Al1",
          "Ti1 Nb3 W1 Ru1",
          "Mo1 Cr2 Fe2 Co2 Ni2",
          "Ti5 Ni4 C1",
          "Cr2 Mn2 Fe3 Ni1 Al1",
          "Ti1 Ta1.33 Nb1.33 W1.33 Mo1.33",
          "Ta1 Nb2 W2 Mo2 Re1 C1",
          "Cr18.53 Mn17.98 Fe17.89 Co17.89 Ni18.44 C1",
          "Ti1 Cr1 Fe1 Co1 Ni1",
          "V1.2 Cr2 Fe2 Co2 Ni2 Cu2 Al1",
          "Zr2 Ti2 Ta1 Nb2",
          "Zr0.08 Ti1 Mo98.79 C0.13",
          "Cr2.38 Fe1.38 Co2.38 Ni1 Al5.38",
          "Cr2 Fe2 Co2 Ni6 Cu1 Al2",
          "Li2.5 Mg5 Cu1 Zn2.5 Al5",
          "Cr1.17 Fe1.11 Co1.11 Ni1.17 Al1",
          "W112.94 Fe1 Ni2.34",
          "Ti1 Nb1 V1 Mo1 Al1.25",
          "Ta1 Cr2.5 Mn2.5 Fe2.5 Co2.5 Ni2.5 Al1.25",
          "Cr1 Fe1 Co3.01 Ni2.01 Cu1 Al6.04",
          "Cr1.14 Fe1.14 Co1.14 Ni1.14 Al1",
          "Ta1 V1.33 W4 Mo1.67",
          "Mo1 Cr2 Fe2 Co2 Al2",
          "W1 Fe3 Ni7",
          "Cr2 Fe2 Co2 Ni2 Cu1 Al4",
          "Nb1 Cr2 Fe2 Co2 Ni2 Al2",
          "Mo82 B1 Si16",
          "Ta1 Nb1 W9 Mo1",
          "Cr1.43 Mn1.43 Fe1.43 Co1.43 Ni1.43 Al1",
          "Ti1 Nb1 V1 Cr1 Ni1 Al5",
          "Li38 Ca1 Mg48 Al15 Si1",
          "V3.21 Cr2.01 Fe2.01 Co2.01 Ni2.01 Cu2.01 Al1",
          "W1 Cr2.3 Mn2.3 Fe2.3 Co2.3 Ni2.3",
          "Cr3.33 Fe3.33 Ni6.67 Cu1.67 Al1",
          "Ti1 Ta4 Nb4 W4 Mo4",
          "Cr2.86 Fe1.71 Co2.57 Ni1 Al6.14",
          "Cr1.13 Mn1.13 Fe1.13 Co1.13 Ni1.13 Al1",
          "Mo1 Cr2.3 Mn2.3 Fe2.3 Co2.3 Ni2.3",
          "Hf2 Zr2 Ti2 Ta1",
          "Mo1 Cr2 Fe2 Co2 Ni2 Al1",
          "Nb1 Mo29.89 B2.85 Si3.3",
          "Cr1.67 Fe1.67 Co1.67 Ni1.67 Al1",
          "Ti1 Cr3.33 Fe3.33 Co3.33 Ni3.33",
          "Ti1 Cr1 Fe1 Co1.5 Ni1.5",
          "Cr9.8 Fe9.8 Co9.8 Ni9.8 Cu1 Al9.8",
          "Y1 Hf1 Zr1 Ti1",
          "Mo1 Cr2.5 Fe11 Co3.5 Ni2",
          "Mo1 Cr2 Fe2 Co2 Ni2 Al3",
          "Ta2 Nb2 W2 Mo2 Si1",
          "Cr1 Fe3.99 Co1 Ni1",
          "Cr6.2 Fe1.6 Co2 Ni1.4 Cu1 Al7.8",
          "Mo1 Cr1 Fe1 Ni1 Al1",
          "Cr1 Fe1 Co1 Ni1.99 Cu1",
          "Cr1 Fe1 Co1 Ni1 Ga1",
          "Cr1 Mn1 Fe1 Cu1 Al1",
          "Cr2 Fe2 Co2 Ni2 Al1",
          "Ti1.89 Mo1.89 Cr1.89 Al1",
          "Ti1 Cr1 Fe1 Co1 Ni1 Al1",
          "Cr1 Fe2.99 Co1 Ni1",
          "Mn3 Ni3 Cu3 Sn1",
          "Zr0 Ti1 Mo84.97 Co0.21 S0.25",
          "Ti2.39 Cr1.99 Fe1.99 Co1.99 Ni1.99 Cu1.99 Al1",
          "Ti2 V2 Fe2 Co2 Ni2 Cu1",
          "V1 Cr3.8 Mn3.8 Fe3.8 Co3.8 Ni3.8",
          "Ta2 Nb2 W1 Mo1",
          "Ta1 Nb1 V1 W1 Mo1 Cr1",
          "Ta1.62 Nb1.57 V1 W1.56 Mo1.54 Cr1.47",
          "Nb1 Mo1 Cr1 Al1",
          "W1 Re1 Fe3 Ni7",
          "Zr1 Ti1 Nb1 V1.25 Mo1",
          "Ti1 Nb1 Ru1",
          "Cr1 Mn1.06 Fe1.75 Co1.83 Ni1.81",
          "W1 Cr2 Fe2 Co2 Ni2",
          "Ti1 Cr2 Fe2 Co2 Ni2",
          "Ti4 Cr2 Fe2 Co2 Ni2 Cu2 Al1",
          "Mo1 Cr10 Fe10 Co10 Ni10 Al10",
          "Hf1 Zr1 Ti1 Ta1",
          "Cr2.6 Fe2.4 Co2.6 Ni2 Cu1 Al9.4",
          "Ti3.98 Cr3.98 Fe3.98 Ni3.98 Cu1",
          "Zr1 Ti2.04 Ta1.14 Nb2.1 Al2.19",
          "Ti3.63 Cr2.01 Fe2.01 Co2.01 Ni2.01 Cu2.01 Al1",
          "Ti2 Cr4 Fe4 Co4 Ni4 Al1",
          "Cr1 Fe1 Ni1.94 Cu1 Al1",
          "Cr3.21 Co1 Ni7.21 Cu7.14 Si2",
          "Zr10 Ti10 Nb10 V3 Mo1",
          "Cr1 Mn1 Fe6 Co6 Ni6",
          "V3 W5.5 Re2.5 Ru1",
          "W1 Cr1.62 Mn1.62 Fe1.62 Co1.62 N1.62",
          "Zr1 Ti2.7 Nb1.5 Cr2 Al2.8",
          "Hf4 Zr4 Ti4 Ta4 Nb4 Mo1",
          "Hf1 Zr1 Nb1",
          "Cr2.87 Fe1.88 Co1.88 Ni1.88 Cu1 Al2.87",
          "Cr3.34 Mn1 Fe3.34 Co3.34 Ni3.34 Al1",
          "Ti1 Cr1 Fe1 Ni1 Cu1",
          "Cr5.17 Fe1.5 Co1.67 Ni1.33 Cu1 Al6",
          "Mo1 Cr2.01 Fe2.01 Co2.01 Ni3.01 Al2.01",
          "Mn1 Fe1 Ni1",
          "Cr1.67 Fe1 Co3 Ni1",
          "Nb2 V1 W2 Ru1",
          "Hf1 Zr1 Ti1 Ta1 Nb1 V1 N1",
          "Cr5.36 Mn31.09 Fe36 Ni10.18 Al6.73 C1",
          "Ti27.11 V1 Al3.21",
          "Ti6 Nb35 V1 Cr8 Al5",
          "Cr2 Fe2 Co2 Ni1 Cu1 Al2",
          "Cr1 Fe1 Co1 Ni1 Al1 C1",
          "Hf8.08 Zr8.08 Ti8.08 Nb8.08 Al1",
          "Ti1 V1 Mo1 Cr1 Al1",
          "Cr1.05 Mn1.05 Fe1.05 Co1.05 Ni1.05 Al1",
          "Mn33.33 Fe33.33 Co33.33 Ni33.33 Cu33.33 Sn1",
          "Ta1 Nb2.5 W2.5 Mo2.5 Re1.25 C1",
          "Ti1 Nb1 W3 Ru1",
          "Cr10.17 Fe10.17 Co10.17 Ni10.17 Al1",
          "Hf1 Ti1 Ta1 Nb1 Mo1",
          "Cr3 Fe1.29 Co2.86 Ni1 Al6.14",
          "Fe1 Co1 Ni1 Cu1",
          "Hf1 Zr1 Ti1 Ta1 Nb1",
          "Cr6.2 Fe1 Ni6.4 Cu4 Al2.4",
          "Hf1 Ti2 Nb2 Mo1",
          "Ti2 Nb2 V2 Mo1 Cr4",
          "Cr2 Fe2 Co1 Ni2 Cu2 Al2",
          "Hf7.5 Ti21 Nb1 Si16",
          "Ti1 Cr2 Fe2 Ni2 Cu2 Al2",
          "V1 Mo1 Fe1 Co1 Ni1.2",
          "Cr2 Fe2 Co2 Cu1 Al2",
          "Ti40 Nb1 Al5 Si15",
          "Ti4 V7 Mo1 Cr2 Al6",
          "Fe2 Co2 Ni2 Cu2 Sn1",
          "Cr3.2 Fe2 Co3.4 Ni1 Cu1 Al9.4",
          "Mn6.34 Ni6.34 Cu6.34 Al1",
          "Cr1 Fe1 Ni2 Cu1 Al2.2",
          "Cr4 Fe1 Ni3.57 Cu4.14 Al1.57",
          "Cr3.8 Fe2 Co2.8 Ni1 Cu1 Al9.4",
          "Ti1 Mn35 Fe38.75 Ni18.75 Al30",
          "Cr1 Fe1 Co1.99 Ni1 Cu1",
          "V1 Cr1 Fe4.5 Co2 Ni1.5",
          "Hf1 Zr1 Ti1 Nb1 O1.5",
          "Cr1.99 Fe1 Co1 Ni1 Cu1",
          "Cr1.67 Fe1.67 Ni3.33 Cu1.67 Al1",
          "Be1 Ti1.91 Mo1.91 Cr1.91 Fe1.91 Co1.91 Ni1.91 Cu1.91 Al1.91 Si1.91",
          "Cr1 Fe1 Co1 Pd1 Ni1",
          "Cr23.73 Mn24.58 Fe23.37 Co23.61 Ni24.1 C1",
          "Cr1 Mn1 Fe1 Ni1 Cu1",
          "Fe4 Co4 Ni4 Al1",
          "Hf1 Ti1 Nb1 V1",
          "Cr1 Fe1 Co1 Ni1.96 Al1",
          "Cr1.44 Fe1.29 Co1.29 Ni1.44 Al1",
          "Cr1.67 Mn1.67 Fe1.67 Ni1.67 Al1",
          "Zr1 Ti1 Nb1 V2 Mo1",
          "Cr2 Fe2 Co2 Ni2 Cu1 Al1.41",
          "Sc1 Hf1 Zr1 Ta1 Mo1",
          "Ti33 Nb1 Si16",
          "Cr1 Fe1 Co2 Ni2 Al1",
          "Cr2.01 Fe2.01 Co3.01 Ni2.01 Cu1 Al2.01",
          "Cr1 Co1 Ni1 Cu1 Al1",
          "Ti13 Ta1 Nb42 V12 Mo20 Cr12",
          "Cr2.63 Mn2.63 Fe2.63 Co2.63 Ni2.63 Al1",
          "Mo1 Cr4.96 Fe4.96 Ni4.96 Al4.96",
          "Zr1 Ti1.5 Nb1 V1",
          "Ti1 Nb1 W8.5 Mo1.5",
          "Ti1 Nb3 W1 Re1",
          "Zr1.43 Ti1.43 Nb1.43 V1.43 Mo1",
          "Cr5 Co4.5 Ni5 Cu4.5 Al1",
          "V2 Cr3 Mn1 Fe7 Co2 Ni5",
          "Cr3.33 Fe3.33 Co3.33 Ni3.33 Al3.33 C1",
          "Ti2 Cr4 Fe4 Co4 Ni4 Cu1 Al3",
          "Hf1 Zr2 Ti2 Nb2 Mo1 Si1",
          "Hf1 Zr2 Ti2 Nb2 Mo1 Si1.8",
          "Ti1 Ta5.88 V5.88 W5.88 Cr5.88",
          "W1 Cr2 Mn2 Fe2 Cu2 Al2",
          "Ti4 Nb4 V4 Mo4 Al1",
          "Cr3 Fe2 Co3.6 Ni1 Cu1 Al9.4",
          "Cr4.97 Fe7.44 Ni2.48 Al1",
          "Cr6.8 Fe1 Co4.4 Ni2 Al5.8",
          "Cr2.33 Mn2.33 Fe2.33 Co2.33 Ni2.33 Al1",
          "Cr1 Fe1 Co1 Ni1 Al1",
          "Ti1 Cr5 Fe5 Co5 Ni5 Cu5 Al2.5",
          "Cr1 Fe1 Co1 Cu1 Al1.8",
          "Cr1.36 Fe1.27 Co1.55 Ni1 Al3.91",
          "W30.51 Fe1 Ni2.3",
          "Mo1 Fe1 Co1 Ni1",
          "W2.14 Fe2 Co1 Ni2",
          "Cr1 Fe2 Co2 Ni2 Cu1 Al2",
          "Ti3.38 Nb5.12 Cr1 Al1.12 Si1.88",
          "W1 Fe2.1 Ni4.9",
          "Hf1.02 Zr1.01 Ti1.07 Ta1.08 Nb1",
          "Ti2.5 Ni1.5 C1",
          "Hf2 Zr2 Ti1 Nb2 Mo2",
          "Ti2 Cr2 Fe2 Co2 Ni2 Al1",
          "Zr1 Ti1 Nb1",
          "Hf1 Zr1 Ti1 Ta1 Nb1 V1 W1 Mo1",
          "Ta1 Co5.5 B3.5",
          "Zr1 Ti4 Nb4 V4 Al4",
          "Hf2 Zr2 Ti1 Ta1 Nb2",
          "Cr1.34 Fe1.34 Co1.34 Ni1.34 Al1",
          "Ti1 V1 Cr1 Fe1 Ni1 Cu1 Al1",
          "Mo10.17 B1 Si5.5",
          "Cr1.25 Fe1 Co1.75 Ni1",
          "Zr1 Ti1 Nb1 V1 Mo1",
          "Ti2.82 Cr2.01 Fe2.01 Co2.01 Ni2.01 Cu2.01 Al1",
          "Ti1 Nb1 W1",
          "V1 Mo1 Fe1 Co1 Ni1.8",
          "Ti1 Fe1 Ni1 Al1",
          "Cr3 Fe3 Co3 Al1",
          "Zr1 Ti1 Nb1 V3 Mo1",
          "V2.82 Cr2.01 Fe2.01 Co2.01 Ni2.01 Cu2.01 Al1",
          "Ta1 Nb1 V1 W1",
          "Mo27.33 B1 Si5",
          "Cr1 Fe1 Co1 Ni1 Cu1 Al2.5",
          "Cr3.6 Fe1 Co4.2 Ni1 Cu1 Al9.2",
          "Hf2 Zr2 Ti2 Nb2 V2 Si1",
          "Cr3.33 Fe3.33 Co3.33 Cu3.33 Al1",
          "Mo1 Cr2.01 Fe3.01 Co2.01 Ni2.01 Al2.01",
          "Cr2.4 Mn5.6 Fe7 Ni4 Al1",
          "Ti2 Nb2 V2 Mo1 Cr2",
          "Ti1 Nb1 V1 Mo1 Al1.5",
          "Nb1 Cr2.43 Fe2.43 Co2.43 Ni2.43",
          "Mo40.5 B1 Si8.5",
          "Cr1 Fe2 Co2 Ni2 Al1",
          "Cr1.43 Fe1.43 Ni3.29 Al1",
          "V2 W1 Cr1 Co4 Ni4",
          "Fe2 Co2 Ni2 Si1",
          "Cr1.89 Fe1.89 Co1.89 Al1",
          "Nb1 Cr4 Fe4 Co4 Ni4 Al4",
          "Zr1 Ti1 Nb1 V1 Mo1.7",
          "Hf1 Zr1 Ti1 Ta1 Nb1 Al1",
          "Ti2 V3 Mo1 Cr2 Al2",
          "Li2.6 Ca0.03 Mg3 Al1 Si0.03",
          "Hf1 Ti6.5 Ta2.5 Nb2",
          "Cr2.4 Fe2.6 Co2.4 Ni2.2 Cu1 Al9.4",
          "Cr4.96 Fe4.96 Co4.96 Ni4.96 Al1",
          "Cr4 Fe4 Co4 Ni4 Al1",
          "W3 Mo5 Re3 Ru1",
          "Ti4 Ta3.5 Nb1 V3.5",
          "Ti1 W64.67 C1",
          "Ti1 Cr5.05 Fe5.05 Co5.05 Ni5.05 Al5.05",
          "Cr4.76 Fe4.76 Co4.76 Ni1 Al4.76",
          "Cr4.76 Fe1 Co4.76 Ni4.76 Cu4.76",
          "Fe1.33 Co1.33 Ni1.33 Al1",
          "Cr1 Fe1 Co1 Al2",
          "Ti1 Cr1 Fe1 Ni1 Al1",
          "Cr2.21 Fe2.21 Co2.21 Ni2.21 Cu1 Al1.77",
          "Hf1 Zr1.4 Ti2 Nb2 Mo1",
          "Fe1 Co3 Ni1 Cu1 Al1",
          "Ti1 V1 Cr1 Mn1 Fe1 Co1 Ni1 Cu1",
          "Cr1.2 Mn2.3 Fe3.5 Ni2 Al1",
          "V1 Cr2.49 Fe2.49 Co2.49 Ni2.49 Cu2.49 Al1.25",
          "Zr1 Ti2.2 Nb1.5 Cr2 Al3.3",
          "Cr2 Co1 Ni2",
          "Cr1 Fe1.99 Co1 Ni1 Cu1",
          "V1.25 Mo1 Fe1.25 Co1.25 Ni1.25",
          "Mo5 B2 Si1",
          "Cr2 Fe2 Co2 Ni2 Cu1 Al2",
          "Ti1 V1 Fe1 Co1 Ni1",
          "Cr1 Fe1 Co3 Ni3.2 Al1.8",
          "Mo1 Cr2 Fe2 Co2 Ni3 Al2",
          "Cr2 Mn2 Fe2 Ni2 Al1",
          "Mo1 Cr6.69 Fe6.69 Co6.69 Ni6.69",
          "Ti1 Cr1.25 Fe1.25 Co1.25 Ni1.25 Cu1.25",
          "Hf1 Zr2 Ti2 Nb2 Mo1 Si1.4",
          "Cr2 Fe2 Co2 Ni2 Cu1",
          "Cr1 Mn5.8 Fe6.73 Ni1.88 Al1.25",
          "Ti1 Cr2 Fe2 Ni2",
          "Nb5 Fe1 Co1 Ni1 Cu1",
          "Cr1 Fe1 Co1 Cu1 Al1",
          "Cr1 Fe1 Ni2 Cu1 Al2.5",
          "Zr1 Ti2 Nb2 V2 Al2",
          "Cr2 Fe2 Ni2 Cu2 Al1",
          "Ti2 Nb2 W1",
          "Y1 Sc1 Hf1 Zr1 Ti1",
          "Ti1.33 Ta1 V2 W3.67",
          "Hf2 Zr2 Ti2 Nb1 Mo2",
          "Hf1 Zr1 Ta1 Nb1",
          "Cr2 Fe2 Co2 Ni2 Cu1 Al1",
          "Cr1.11 Fe1.11 Ni2.33 Al1",
          "Ti4.75 Nb4.75 W4.75 Mo4.75 Cr1",
          "Cr3.6 Fe1 Co5.8 Ni1 Al8.6",
          "Hf1 Zr1 Ti1 Ta1 Nb1 V1",
          "Ti10.78 Mo10.78 Cr10.78 Al1",
          "Zr5 Ti7.5 Ta4 Nb5 V1 Al2.5",
          "Ti2 Nb2 V2 Cr1 Al2",
          "Zr0.09 Ti1.08 Mo106.37 B3.82 C1",
          "Cr2.04 Mn2.04 Fe2.04 Co2.04 Ni2.04 Al1",
          "Zr1 Ti1 V1 Mo1",
          "Cr2.01 Fe2.01 Co2.01 Ni3.01 Cu1 Al2.01",
          "V5 Mo1 Fe5 Co5 Ni5",
          "Zr4 Ti4 Ta4 Nb4 Al1",
          "Mn10 Fe10 Co10 Ni10 Cu10 Sn1",
          "Ti1.99 V1 Mo1 Cr1 Fe1",
          "Mo1 Cr33 Ni33 Al33",
          "Cr3.33 Fe3.33 Ni6.64 Al1",
          "Cr1 Mn1 Fe1 Co1 Ni1",
          "Ti1 V1 Cr1 Mn1 Fe1 Co1 Ni1 Cu1 Al1",
          "V1 Mo1 Fe1 Co1 Ni1.4",
          "Cr1.25 Mn1 Fe1.25 Co1.25 Pd1.25 Ni1.25",
          "Ti1 Nb2 W1",
          "Fe2 Co2 Ni2 Cu1 Al2",
          "Ti1 Ta1 Nb1 W1",
          "Ti1 Ta88.5 W10 C1.5",
          "Ti21 Nb1 Si16",
          "Nb1 V1 W1 Ru1",
          "V2 W41 Mo1 Co4 Ni2",
          "V1.61 Cr2.01 Fe2.01 Co2.01 Ni2.01 Cu2.01 Al1",
          "Ti4 Nb4 V4 Mo2 Cr1",
          "Hf3.32 Zr3.32 Ti3.32 Nb3.32 Al1",
          "Ta1 Cr5 Mn5 Fe5 Co5 Ni5",
          "Nb1 Fe2 Co2 Ni2 Cu2",
          "Ti1 Ta2 Nb2 V2 Mo2",
          "Hf2 Zr2 Ti2 Nb2 O1",
          "Zr1 Ti1 Nb1 Mo1",
          "Hf5 Zr1 Ti10 Nb10 Mo5",
          "Ti27.81 V1 Al3.29",
          "Hf1 Zr2 Ti2 Nb2 Mo1",
          "Ti1 Mo2 Cr4 Fe4 Ni4 Al4",
          "Cr2 Fe2 Co2 Ni2 Cu2 Al1 B2",
          "Hf2 Ti2 Nb2 V1 Mo1",
          "Cr1 Fe1 Ni1.4 Cu1 Al1",
          "Nb11.6 Fe1 Co1 Ni1 Cu1",
          "Ti27.37 V1 Al3.24",
          "Zr3.18 Ti3.36 Nb3.95 Cr1",
          "Hf2 Zr4 Ti8 Nb1 V4",
          "Ti1 Cr5 Fe5 Co5 Ni5 Al9",
          "W1 Fe1.8 B1.2",
          "Ti1 Cr2 Fe2 Co3 Ni3",
          "Hf2.5 Zr2.5 Ti2.5 Ta1",
          "Ta3 Co28.5 Ni1 B17.5",
          "Hf3.33 Ti3.33 Nb3.33 V1.67 Mo1.67 Si1",
          "Ta1 V1 W1 Cr1",
          "Cr1 Fe1 Ni1 Al1",
          "Ti1 Nb1 V1 Cr1 Al1",
          "Ti5 Cr5 Fe5 Co7.5 Ni7.5 Al1",
          "Ti1 Ta2 Nb2 W2 Mo2",
          "Cr4.6 Fe1 Co4.8 Ni1 Al8.6",
          "W2.5 Re1 Fe5.25 Ni12.25",
          "Cr1.67 Fe1.67 Co1.67 Ni1.67 Al1.67 Si1",
          "Cr1 Co1 Ni1",
          "V1 Cr1.05 Fe1.05 Co1.05 Ni1.05 Cu1.05",
          "Mo1 Cr2 Fe1 Co2 Ni2 Al2",
          "Mo1 Fe1 Co1 Ni1 Al1",
          "Hf1.5 Zr2.5 Ti2.5 Ta2.5 Nb2.5 Al1",
          "Mo5.3 B1 Si3.7",
          "Hf2 Ti6 Ta3 Nb1",
          "Cr9 Fe10 Co10 Ni10 Al1",
          "Hf2 Ti2 Nb2 V1 Mo1 Si1",
          "Zr1 Ti2 Ta2 Nb3",
          "Cr5 Fe5 Co5 Ni5 Cu5 Al2.5 B1",
          "Cr2 Fe2 Co1 Ni2 Al2",
          "Ti1 Cr1 Fe1 Co1 Ni1 Cu1",
          "Mo1 Cr2 Fe2 Co2 Ni1 Al2",
          "Cr6.34 Fe6.34 Co6.34 Al1",
          "Ti27.45 V1 Al3.25",
          "Cr7 Fe1 Ni5.2 Cu4.8 Al2",
          "Y1 Ti1.25 Cr1.25 Co1.25 Ni1.25 Cu1.25 Al1.25",
          "Ti1 Cr1 Fe1 Co1 Ni1 Al1.5",
          "Nb1 Cr5 Fe5 Co5 Ni10.5",
          "V1 Cr10.25 Fe10.25 Co10.25 Ni10.25 Cu10.25 Al10.25",
          "Ti10 Ni9 C1",
          "Cr2.5 Mn1 Fe2.5 Co2.5 Pd2.5 Ni2.5",
          "Ti1 Nb5 Mo5 Cr5 Co5",
          "Cr4.96 Fe1 Co4.96 Ni4.96 Al4.96",
          "Ti1 Cr1.33 Fe1.33 Co1.33 Ni1.33 Al1.6",
          "Ti1.32 Nb1.32 V1.34 Mo1.34 Al1",
          "Fe1 Co1 Ni1 Cu1 Al1 Si1"
         ],
         "legendgroup": "clustered",
         "marker": {
          "color": "#2E91E5",
          "symbol": "circle"
         },
         "mode": "markers",
         "name": "clustered",
         "showlegend": true,
         "type": "scattergl",
         "x": [
          -25.952484130859375,
          4.978418827056885,
          -46.60498809814453,
          56.91315460205078,
          62.445701599121094,
          28.86591911315918,
          48.71148681640625,
          17.839252471923828,
          8.359329223632812,
          -84.85936737060547,
          72.27338409423828,
          -88.27233123779297,
          -56.24018096923828,
          -53.291011810302734,
          18.30480194091797,
          -3.4901466369628906,
          5.1704206466674805,
          -15.66789722442627,
          38.456016540527344,
          30.89618682861328,
          40.889892578125,
          36.58790969848633,
          47.64972686767578,
          -40.5353889465332,
          -13.552093505859375,
          34.476627349853516,
          -41.85792922973633,
          42.17572021484375,
          80.6822509765625,
          37.586429595947266,
          79.35945892333984,
          71.2971420288086,
          -12.249707221984863,
          70.93215942382812,
          -41.20494079589844,
          -11.60372543334961,
          42.912376403808594,
          -40.2749137878418,
          -41.56789779663086,
          -2.018230438232422,
          -43.16175079345703,
          50.455753326416016,
          22.851606369018555,
          20.377344131469727,
          50.11387634277344,
          -57.58407974243164,
          -48.654335021972656,
          -82.3068618774414,
          61.230220794677734,
          -82.5389175415039,
          -43.36205291748047,
          -45.7054443359375,
          -16.676326751708984,
          3.644916534423828,
          17.53725814819336,
          -12.291947364807129,
          -29.175933837890625,
          12.505548477172852,
          -41.85701370239258,
          53.190956115722656,
          1.8393689393997192,
          35.75444793701172,
          -13.1613130569458,
          4.533118724822998,
          -2.025017738342285,
          -8.199071884155273,
          6.764477252960205,
          -32.136966705322266,
          -0.7654446363449097,
          33.464664459228516,
          -32.23714828491211,
          -30.259016036987305,
          22.885639190673828,
          -3.065398931503296,
          -8.203239440917969,
          -82.03993225097656,
          -63.85800552368164,
          -53.90165710449219,
          -59.65274429321289,
          10.020723342895508,
          -7.601534843444824,
          19.635639190673828,
          -16.15730857849121,
          -46.67667770385742,
          28.274742126464844,
          -43.07810592651367,
          30.666833877563477,
          -3.570997953414917,
          27.348276138305664,
          -25.237756729125977,
          48.15861129760742,
          -34.949745178222656,
          62.04431915283203,
          -73.88185119628906,
          7.5617523193359375,
          42.9840087890625,
          6.738785266876221,
          51.570770263671875,
          35.28621292114258,
          -34.737449645996094,
          -43.74142837524414,
          46.383567810058594,
          -41.91670608520508,
          7.922853469848633,
          60.519798278808594,
          -27.255178451538086,
          44.12409591674805,
          -46.964839935302734,
          45.62689971923828,
          60.9919319152832,
          -11.41391658782959,
          2.8481571674346924,
          -51.38819885253906,
          63.99631118774414,
          54.766666412353516,
          2.629944324493408,
          64.32195281982422,
          52.65073776245117,
          -8.841415405273438,
          48.80022430419922,
          64.708740234375,
          -20.587339401245117,
          25.496795654296875,
          -49.197906494140625,
          -44.15533447265625,
          -29.042816162109375,
          5.091642379760742,
          60.42034149169922,
          0.5684005618095398,
          48.46454620361328,
          -42.32908630371094,
          22.513505935668945,
          -28.629030227661133,
          7.513209819793701,
          -46.54326629638672,
          44.09992980957031,
          -33.426998138427734,
          17.937837600708008,
          30.320032119750977,
          -33.54597091674805,
          -34.30803298950195,
          -62.51626205444336,
          30.540863037109375,
          -32.23714828491211,
          71.00273895263672,
          -2.511162281036377,
          -15.252570152282715,
          72.26042938232422,
          -48.4174919128418,
          1.8981462717056274,
          -57.57244110107422,
          46.34234619140625,
          55.79616165161133,
          -2.1578369140625,
          81.2547607421875,
          -10.315640449523926,
          33.50886917114258,
          73.06515502929688,
          -19.035297393798828,
          27.29081916809082,
          -74.54170227050781,
          -30.538732528686523,
          -31.820817947387695,
          33.864501953125,
          -71.71864318847656,
          -83.6275634765625,
          35.19089126586914,
          -57.435203552246094,
          -52.532535552978516,
          4.805115699768066,
          -7.1003193855285645,
          7.189421653747559,
          -68.16020202636719,
          19.643972396850586,
          -27.409347534179688,
          65.7203369140625,
          7.561113357543945,
          -40.03803634643555,
          -9.48283863067627,
          73.36560821533203,
          -23.023685455322266,
          -78.25634002685547,
          -4.990675926208496,
          -15.06303596496582,
          62.26228332519531,
          -63.70472717285156,
          -44.167869567871094,
          76.90715789794922,
          71.65807342529297,
          71.99835205078125,
          -35.00993728637695,
          -43.26118469238281,
          11.636504173278809,
          34.00638198852539,
          76.32054138183594,
          -40.896183013916016,
          -10.166781425476074,
          1.0073630809783936,
          50.62677764892578,
          17.76030158996582,
          46.03147506713867,
          -7.538219928741455,
          93.31610107421875,
          -1.6224312782287598,
          43.97686767578125,
          52.62529373168945,
          -11.716812133789062,
          -29.68898582458496,
          29.205215454101562,
          -21.072694778442383,
          -7.963443279266357,
          -43.637569427490234,
          -23.511077880859375,
          39.893043518066406,
          16.845577239990234,
          -20.624380111694336,
          -11.295791625976562,
          -53.93052673339844,
          50.52093505859375,
          55.07842254638672,
          25.907365798950195,
          62.690982818603516,
          -56.081825256347656,
          34.794620513916016,
          -4.0335564613342285,
          50.82463836669922,
          -46.62089920043945,
          -7.483184814453125,
          -61.96663284301758,
          40.79997634887695,
          -49.885887145996094,
          -53.21772384643555,
          -2.7404661178588867,
          -11.390848159790039,
          -54.335853576660156,
          -4.371247291564941,
          6.667832851409912,
          -30.713903427124023,
          0.5670885443687439,
          12.638999938964844,
          -61.755279541015625,
          55.774173736572266,
          37.54701232910156,
          -23.094093322753906,
          -88.46726989746094,
          56.45132827758789,
          41.95609664916992,
          -43.474037170410156,
          -13.733552932739258,
          -13.691225051879883,
          -57.351707458496094,
          0.5703911185264587,
          76.6587905883789,
          -53.197052001953125,
          46.404476165771484,
          -58.26310348510742,
          -7.065493106842041,
          13.38197135925293,
          -45.009971618652344,
          -55.41238784790039,
          -28.09677505493164,
          72.02203369140625,
          -60.798709869384766,
          -40.79370880126953,
          -44.78579330444336,
          -40.07717514038086,
          -28.708160400390625,
          25.091691970825195,
          67.58349609375,
          -1.414394497871399,
          -81.33533477783203,
          3.388746500015259,
          69.92240905761719,
          -1.1632202863693237,
          -9.499247550964355,
          74.70896911621094,
          2.8087024688720703,
          19.48031997680664,
          -28.92626953125,
          31.96878433227539,
          51.45746994018555,
          -26.77335548400879,
          25.932714462280273,
          47.13744354248047,
          -25.98655891418457,
          37.630210876464844,
          -52.5019416809082,
          17.961685180664062,
          -19.373905181884766,
          56.81349563598633,
          -40.17597579956055,
          24.21459197998047,
          -7.531426429748535,
          57.54817581176758,
          -19.04501724243164,
          -0.9367117881774902,
          -58.32230758666992,
          42.219078063964844,
          -91.05224609375,
          -33.618228912353516,
          14.500833511352539,
          28.87309455871582,
          68.86077117919922,
          -30.880939483642578,
          58.228424072265625,
          -10.268119812011719,
          -53.6197624206543,
          -91.08246612548828,
          19.94330406188965,
          -2.7827491760253906,
          -14.742083549499512,
          2.8417305946350098,
          -34.346248626708984,
          -21.225467681884766,
          -3.5206758975982666,
          23.21017074584961,
          18.205474853515625,
          42.905487060546875,
          53.45392608642578,
          -57.23884963989258,
          45.55625534057617,
          -75.7756118774414,
          50.953792572021484,
          1.7746633291244507,
          -47.138526916503906,
          17.972198486328125,
          4.838389873504639,
          15.386143684387207,
          9.013673782348633,
          24.203773498535156,
          -47.202449798583984,
          29.06299591064453,
          29.550127029418945,
          44.82410430908203,
          38.16767501831055,
          33.76744842529297,
          20.393352508544922,
          28.048465728759766,
          36.25837326049805,
          -26.618778228759766,
          16.830501556396484,
          -15.176274299621582,
          41.86974334716797,
          19.537412643432617,
          -22.766109466552734,
          6.3688063621521,
          -13.310226440429688,
          -5.412237644195557,
          36.59794616699219,
          71.54623413085938,
          -51.96104049682617,
          8.711380004882812,
          -41.08624267578125,
          -90.41618347167969,
          52.627296447753906,
          -57.6265869140625,
          29.488143920898438,
          -59.2431755065918,
          -13.94085693359375,
          5.157705307006836,
          79.27713775634766,
          53.886863708496094,
          -32.14695358276367,
          -59.32046890258789,
          -53.65346145629883,
          -3.8806354999542236,
          71.37767028808594,
          52.331478118896484,
          16.202449798583984,
          64.05098724365234,
          -15.529226303100586,
          -29.303871154785156,
          14.495519638061523,
          3.0806376934051514,
          -12.01089859008789,
          -28.635774612426758,
          50.584720611572266,
          -2.9415199756622314,
          73.29751586914062,
          -29.557340621948242,
          -53.79753875732422,
          71.56414794921875,
          -92.9256820678711,
          -29.493223190307617,
          -39.544342041015625,
          18.027530670166016,
          -11.585182189941406,
          22.855424880981445,
          -11.584705352783203,
          -3.324971914291382,
          -60.41889572143555,
          -14.183004379272461,
          55.917179107666016,
          -81.33019256591797,
          18.519855499267578,
          -87.09793090820312,
          -8.338728904724121,
          33.97715377807617,
          44.694541931152344,
          -15.957474708557129,
          66.08860778808594,
          -29.972183227539062,
          -64.3600845336914,
          29.31072425842285,
          -11.809026718139648,
          -49.206417083740234,
          40.23115539550781,
          -74.49182891845703,
          20.96101951599121,
          45.319976806640625,
          8.64310073852539,
          -67.88545989990234,
          64.65135192871094,
          -26.524242401123047,
          40.86924362182617,
          -10.113882064819336,
          53.83906173706055,
          -13.731043815612793,
          77.95946502685547,
          -53.78627395629883,
          46.536460876464844,
          36.934242248535156,
          -12.726685523986816,
          46.69392776489258,
          45.93053436279297,
          7.177807807922363,
          40.2310676574707,
          -45.32756805419922,
          -23.341459274291992,
          -58.31544494628906,
          31.800947189331055,
          -92.8143081665039,
          36.4084358215332,
          57.315914154052734,
          36.32692337036133,
          45.291080474853516,
          88.60084533691406,
          -40.452823638916016,
          40.30800247192383,
          24.284162521362305,
          -23.787382125854492,
          -61.96771240234375,
          -29.38057518005371,
          -83.64640808105469,
          -1.373307466506958,
          -60.72911071777344,
          54.27975845336914,
          15.577731132507324,
          18.883146286010742,
          -2.7047030925750732,
          71.62914276123047,
          -53.9164924621582,
          23.601470947265625,
          -10.240979194641113,
          -10.66042423248291,
          -56.56122970581055,
          -25.274812698364258,
          78.6832275390625,
          71.78751373291016,
          45.92841339111328,
          14.279227256774902,
          -9.567475318908691,
          48.90385818481445,
          -24.45969581604004,
          -1.768912434577942,
          -15.048661231994629,
          -40.355098724365234,
          -66.56382751464844,
          -75.06430053710938,
          -54.677433013916016,
          -16.167591094970703,
          36.424739837646484,
          8.533257484436035,
          37.60175323486328,
          91.84371948242188,
          -9.426497459411621,
          19.011919021606445,
          56.13439178466797,
          -8.733808517456055,
          36.2100715637207,
          56.86732482910156,
          -24.007160186767578,
          -26.683542251586914,
          -25.308292388916016,
          -51.01739501953125,
          63.894493103027344,
          92.62019348144531,
          -16.7854061126709,
          24.829030990600586,
          -27.79443359375,
          35.23971176147461,
          79.64949798583984,
          24.054115295410156,
          38.198307037353516,
          -79.72563934326172,
          36.74188232421875,
          -10.748004913330078,
          40.00413513183594,
          -13.953683853149414,
          53.39517593383789,
          52.27239227294922,
          2.423267364501953,
          -6.872010707855225,
          -41.415557861328125,
          29.063434600830078,
          -12.362177848815918,
          -10.664785385131836,
          40.11846923828125,
          -58.775108337402344,
          30.914077758789062,
          19.86345863342285,
          27.736501693725586,
          -9.13078784942627,
          -27.25640106201172,
          -75.61152648925781,
          -24.192493438720703,
          45.703086853027344,
          -3.5770339965820312,
          55.67950439453125,
          -11.072693824768066,
          -28.027589797973633,
          3.7565557956695557,
          -15.505331039428711,
          -9.487546920776367,
          -3.120619535446167,
          -4.494760513305664,
          -87.04331970214844,
          -51.95514678955078,
          -26.767213821411133,
          -25.761096954345703,
          17.140714645385742,
          -30.04442596435547,
          -36.51333999633789,
          -6.7170515060424805,
          50.434322357177734,
          -17.050081253051758,
          72.23461151123047,
          -51.163429260253906,
          21.00094223022461,
          47.13408279418945,
          -34.9152717590332,
          -8.510149955749512,
          8.957501411437988,
          -14.630278587341309,
          -8.184808731079102,
          44.84053421020508,
          46.1807975769043,
          -4.903171062469482,
          -35.020179748535156,
          -28.005481719970703,
          49.64638900756836,
          -28.87103271484375,
          -44.068485260009766,
          -8.087498664855957,
          -10.114619255065918,
          44.24314880371094,
          -59.76105499267578,
          -39.971614837646484,
          15.605257987976074,
          -30.03318977355957,
          -57.70290756225586,
          18.94355583190918,
          20.273773193359375,
          -81.55452728271484,
          27.81650733947754,
          -12.897638320922852,
          -65.56745910644531,
          -10.729487419128418,
          7.5438666343688965,
          -70.7672348022461,
          -23.59352684020996,
          36.90018081665039,
          57.17400360107422,
          -0.664351761341095,
          -5.31105899810791,
          37.86591720581055,
          27.83576011657715,
          -55.68122482299805,
          -1.2420566082000732,
          -15.433774948120117,
          -53.189212799072266,
          -46.88520431518555,
          38.60205078125,
          -44.27862548828125,
          -11.672510147094727,
          14.68277359008789,
          49.36493682861328,
          36.642879486083984,
          15.776147842407227,
          -92.59430694580078,
          6.70225715637207,
          -12.461359977722168,
          35.76613998413086,
          -47.102718353271484,
          -29.373748779296875,
          -81.41372680664062,
          53.6639289855957,
          49.22684097290039,
          22.617511749267578,
          44.36495590209961,
          61.97804260253906,
          -14.020403861999512,
          35.408836364746094,
          3.0115692615509033,
          24.54613494873047,
          -53.654808044433594,
          -75.69084167480469,
          -12.830171585083008,
          0.9333682060241699,
          -3.9496679306030273,
          -24.486995697021484,
          -53.526451110839844,
          -35.497867584228516,
          38.16916275024414,
          17.520444869995117,
          -12.047435760498047,
          -30.030494689941406,
          -5.759187698364258,
          39.12933349609375,
          -10.401731491088867,
          -71.59262084960938,
          -4.14065408706665,
          -11.669926643371582,
          -10.668595314025879,
          -13.245142936706543,
          89.38153839111328,
          -37.852481842041016,
          4.587213516235352,
          -37.81843948364258,
          -7.289527416229248,
          24.544191360473633,
          71.12047576904297,
          -53.71879196166992,
          53.02787399291992,
          -81.98725891113281,
          52.71866226196289,
          19.81195068359375,
          -90.409423828125,
          -36.146240234375,
          -49.19679641723633,
          49.660194396972656,
          43.18373107910156,
          -58.98362731933594,
          14.699810981750488,
          50.1729850769043,
          72.1593246459961,
          -32.433231353759766,
          -10.568581581115723,
          33.89200973510742,
          59.688751220703125,
          33.7782096862793,
          -46.902828216552734,
          38.87162780761719,
          44.43383026123047,
          -84.02256774902344,
          63.38829040527344,
          51.66844177246094,
          12.76608657836914,
          18.443431854248047,
          53.51860809326172,
          21.098081588745117,
          34.50856018066406,
          -58.18998718261719,
          -51.00886917114258,
          -29.063016891479492,
          -29.669069290161133,
          4.554744720458984,
          -18.583389282226562,
          -75.6711196899414,
          -64.08496856689453,
          1.546248197555542,
          47.474910736083984,
          4.008524417877197,
          53.67286682128906,
          -48.148868560791016,
          -14.44526195526123,
          -45.51771926879883,
          -14.32160758972168,
          9.937066078186035,
          -39.72847366333008,
          61.54133605957031,
          -8.932319641113281,
          -17.548477172851562,
          -14.70189094543457,
          7.17372989654541,
          -62.125885009765625,
          42.827606201171875,
          24.04352378845215,
          -35.73300552368164,
          69.82941436767578,
          27.881898880004883,
          -71.35501098632812,
          -11.79508113861084,
          -8.762593269348145,
          64.21177673339844,
          14.288803100585938,
          65.0206527709961,
          93.19973754882812,
          54.75432205200195,
          -11.624568939208984,
          -44.94419860839844,
          -29.320274353027344,
          65.93282318115234,
          -28.895599365234375,
          -52.56489181518555,
          -32.14683532714844,
          -30.349584579467773,
          29.257614135742188,
          -14.743483543395996,
          -47.36444091796875,
          14.17326545715332,
          7.699645042419434,
          4.684230804443359,
          -12.248147010803223,
          -11.527536392211914,
          55.30855178833008,
          -89.2857437133789,
          6.674521446228027,
          -19.71588706970215,
          -28.26970863342285,
          -60.080474853515625,
          20.789710998535156,
          23.687620162963867,
          46.78353500366211,
          3.4015605449676514,
          -12.261466026306152,
          -8.471027374267578,
          41.05199432373047,
          -26.1192684173584,
          10.827964782714844,
          48.49744415283203,
          25.293302536010742,
          4.225807189941406,
          -18.948017120361328,
          74.4886245727539,
          -19.330907821655273,
          47.843910217285156,
          33.019386291503906,
          -26.153383255004883,
          -31.1118106842041,
          -17.569547653198242,
          -82.64131164550781,
          53.00871276855469,
          12.953987121582031,
          48.52143859863281,
          34.69199752807617,
          -11.226556777954102,
          18.229129791259766,
          40.26511001586914,
          -35.015892028808594,
          -57.18411636352539,
          26.52313804626465,
          -47.735565185546875,
          -26.434120178222656,
          13.839426040649414,
          -15.213616371154785,
          49.63706970214844,
          -82.292236328125,
          6.349406719207764,
          -48.03916931152344,
          -54.97687911987305,
          -35.517581939697266,
          -1.0243656635284424,
          7.200301170349121,
          -51.97077560424805,
          -42.76148986816406,
          20.04759979248047,
          -48.82929229736328,
          45.70992660522461,
          24.55449104309082,
          -27.73805809020996,
          48.56084060668945,
          -24.83344268798828,
          6.540395259857178,
          59.582420349121094,
          -3.8607616424560547,
          2.421740770339966,
          41.1217155456543,
          39.8490104675293,
          -60.153167724609375,
          21.54250717163086,
          -49.21403503417969,
          -15.69973087310791,
          -21.227455139160156,
          -47.604942321777344,
          -36.99559783935547,
          -31.197254180908203,
          71.47016143798828,
          7.336447238922119,
          25.941728591918945,
          -17.027698516845703,
          -4.370307922363281,
          7.856809616088867,
          25.04488754272461,
          -29.645042419433594,
          -48.81064224243164,
          -33.73039627075195,
          73.24818420410156,
          -43.058353424072266,
          -58.370582580566406,
          6.070660591125488,
          -11.3584623336792,
          62.92204284667969,
          -33.094757080078125,
          -15.195685386657715,
          19.149152755737305,
          72.27770233154297,
          -3.7349629402160645,
          72.48426818847656,
          54.420196533203125,
          -4.992625713348389,
          -13.648468971252441,
          73.70604705810547,
          -1.3217345476150513,
          -18.56053352355957,
          34.6871223449707,
          -4.561233997344971,
          -78.0858383178711,
          16.78459358215332,
          -56.68252182006836,
          -0.8160695433616638,
          22.030040740966797,
          -70.77348327636719,
          -74.9019546508789,
          53.0305061340332,
          37.824459075927734,
          -43.731014251708984,
          -39.881629943847656,
          -92.9424057006836,
          54.20405578613281,
          56.772274017333984,
          6.894697666168213,
          -12.708220481872559,
          42.07582473754883,
          -75.263916015625,
          47.69636154174805,
          -45.579734802246094,
          24.61549186706543,
          54.731327056884766,
          18.980178833007812,
          23.986087799072266,
          48.69873809814453,
          -27.043344497680664,
          41.447017669677734,
          40.31401062011719,
          -72.29012298583984,
          -45.97896194458008,
          62.060367584228516,
          25.431316375732422,
          48.857200622558594,
          88.97242736816406,
          34.3401985168457,
          -3.7192492485046387,
          12.850104331970215,
          37.63090515136719,
          -2.399221181869507,
          40.97287368774414,
          -83.90591430664062,
          61.56470489501953,
          35.061004638671875,
          -85.52285766601562,
          20.373144149780273,
          6.769784927368164,
          1.8193408250808716,
          41.80813217163086,
          41.863521575927734,
          -3.775390386581421,
          50.49410629272461,
          43.124935150146484,
          -8.29850959777832,
          41.13392639160156,
          7.559183120727539,
          -42.85443115234375,
          51.57917785644531,
          -52.10359573364258,
          16.840011596679688,
          -7.7683634757995605,
          -18.29950523376465,
          59.49574279785156,
          -52.08426284790039,
          -48.34950637817383,
          48.424495697021484,
          46.280372619628906,
          -67.90423583984375,
          49.534751892089844,
          -40.95625305175781,
          -44.46564483642578,
          -27.165010452270508,
          15.340153694152832,
          -65.35386657714844,
          41.74675369262695,
          -82.81915283203125,
          -33.14047622680664,
          15.735727310180664,
          2.8030056953430176,
          -81.42880249023438,
          -89.23291778564453,
          -38.18815612792969,
          45.88206481933594,
          7.100555896759033,
          24.304004669189453,
          71.88125610351562,
          1.8829681873321533,
          -7.8608293533325195,
          22.613935470581055,
          -87.85994720458984,
          -63.99995422363281,
          -24.012535095214844,
          61.57769775390625,
          -70.13870239257812,
          -54.3614387512207,
          -47.54280471801758,
          37.60231018066406,
          70.44104766845703,
          59.60752487182617,
          -13.311631202697754,
          -49.89081954956055,
          -58.91905212402344,
          -46.60627746582031,
          -27.195383071899414,
          -12.866262435913086,
          64.34814453125,
          5.518854141235352,
          -38.8152961730957,
          47.94978332519531,
          -88.43801879882812,
          23.42112159729004,
          -33.07840347290039,
          -67.23085021972656,
          -39.2333984375,
          -61.29712677001953,
          -14.226550102233887,
          38.45256423950195,
          63.214271545410156,
          -25.54628562927246,
          15.523435592651367,
          -81.864990234375,
          41.364925384521484,
          41.84989547729492,
          -45.29862976074219,
          -15.394479751586914,
          -44.18358612060547,
          37.81283950805664,
          17.953723907470703,
          -12.458468437194824,
          -9.785100936889648,
          7.154610633850098,
          -8.67589282989502,
          47.460140228271484,
          34.373626708984375,
          -60.16555404663086,
          -11.676460266113281,
          -9.025221824645996,
          51.39372634887695,
          -12.63022232055664,
          -5.30027961730957,
          -27.962181091308594,
          -10.598563194274902,
          28.18266487121582,
          56.856536865234375,
          -59.54745101928711,
          2.096281051635742,
          6.447274208068848,
          -48.13909912109375,
          -42.152774810791016,
          -76.91824340820312,
          41.05391311645508,
          -12.636109352111816,
          -61.34389114379883,
          -47.94668197631836,
          49.76998519897461,
          -9.464452743530273,
          25.60282325744629,
          -12.515737533569336,
          -17.307954788208008,
          -16.460159301757812,
          -7.197834491729736,
          53.81127166748047,
          -24.36153793334961,
          -4.990514278411865,
          39.18260192871094,
          -24.438615798950195,
          -3.7382895946502686,
          -40.358421325683594,
          -12.280437469482422,
          -32.23714828491211,
          -53.846553802490234,
          -12.793641090393066,
          26.84185218811035,
          -14.823564529418945,
          -24.864612579345703,
          -88.4108657836914,
          18.066997528076172,
          3.40543532371521,
          14.236442565917969,
          -51.99266052246094,
          40.88728713989258,
          34.05729675292969,
          34.16942596435547,
          24.662580490112305,
          -6.325615882873535,
          52.30926513671875,
          63.4293098449707,
          -40.690834045410156,
          -33.84833526611328,
          -16.377309799194336,
          8.520773887634277,
          -7.616024494171143,
          49.12097930908203,
          -13.532851219177246,
          1.2274127006530762,
          25.880746841430664,
          7.738335132598877,
          -15.721477508544922,
          -71.01779174804688,
          -89.85884094238281,
          37.9368782043457,
          -29.715049743652344,
          54.052791595458984,
          -42.70222473144531,
          25.587116241455078,
          63.36123275756836,
          69.32732391357422,
          -25.964298248291016,
          -48.322444915771484,
          2.64811110496521,
          -3.7464051246643066,
          -3.4095113277435303,
          -85.96176147460938,
          -26.44357681274414,
          57.42130661010742,
          63.053707122802734,
          -85.71336364746094,
          16.934389114379883,
          75.39558410644531,
          -28.44516944885254,
          -1.8729054927825928,
          72.33790588378906,
          29.844221115112305,
          -61.62873077392578,
          -88.93270874023438,
          41.91789245605469,
          61.434326171875,
          -32.144256591796875,
          63.25898742675781,
          -12.592206001281738,
          -64.39226531982422,
          63.04405212402344,
          -92.99446868896484,
          81.85721588134766,
          26.264657974243164,
          -32.211875915527344,
          34.9381217956543,
          3.6278789043426514,
          12.42379093170166,
          -27.278383255004883,
          31.82025909423828,
          30.414609909057617,
          -65.9998550415039,
          -13.659682273864746,
          -87.9701919555664,
          -66.05729675292969,
          -91.06214141845703,
          -9.002609252929688,
          -90.4116439819336,
          -56.24871063232422,
          -25.525733947753906,
          72.00371551513672,
          -55.565650939941406,
          -74.88951110839844,
          5.968216896057129,
          -34.633018493652344,
          -44.72573471069336,
          -79.72882843017578,
          -28.84592628479004,
          89.24381256103516,
          -12.535311698913574,
          -12.789088249206543,
          -78.47331237792969,
          50.76915740966797,
          -28.176231384277344,
          66.20150756835938,
          32.080665588378906,
          -1.777241826057434,
          -17.422374725341797,
          -29.664146423339844,
          38.1757698059082,
          -54.65597915649414,
          -44.462554931640625,
          45.250831604003906,
          56.860225677490234,
          64.48829650878906,
          51.15510940551758,
          -51.24737548828125,
          -25.75809097290039,
          -3.7935967445373535,
          -10.115686416625977,
          79.84379577636719,
          80.03273010253906,
          30.927011489868164,
          -53.34394073486328,
          33.48888397216797,
          -13.78851318359375,
          -7.4761152267456055,
          -3.9591734409332275,
          -55.296993255615234,
          -7.268185615539551,
          -38.19099044799805,
          -25.79826545715332,
          -7.69517183303833,
          49.33021545410156,
          13.362964630126953,
          -19.58824920654297,
          -35.43708038330078,
          70.80931091308594,
          -5.423685073852539,
          63.14157485961914,
          15.893052101135254,
          71.52207946777344,
          -15.015922546386719,
          37.14384460449219,
          61.960472106933594,
          3.9284088611602783,
          32.358253479003906,
          68.33186340332031,
          -11.313207626342773,
          9.640152931213379,
          18.134159088134766,
          -27.557701110839844,
          53.12648391723633,
          4.834942817687988,
          64.96509552001953,
          11.203276634216309,
          1.1416517496109009,
          -14.944337844848633,
          50.126102447509766,
          -47.379756927490234,
          46.461856842041016,
          28.33971405029297,
          -29.854398727416992,
          -16.19260597229004,
          76.40812683105469,
          -30.560871124267578,
          -18.580921173095703,
          -85.15625,
          27.470298767089844,
          34.36546325683594,
          -38.1328239440918,
          28.64340591430664,
          -28.670391082763672,
          -53.66321563720703,
          1.4409749507904053,
          -27.060413360595703,
          -14.733712196350098,
          -9.306403160095215,
          55.663414001464844,
          60.15291213989258,
          30.115320205688477,
          6.718101501464844,
          28.35964584350586,
          -13.693252563476562,
          -33.10188293457031,
          -33.59520721435547,
          46.53956985473633,
          48.30862045288086,
          47.10017395019531,
          -11.717805862426758,
          -14.359796524047852,
          -51.810115814208984,
          -25.5189208984375,
          -12.902791976928711,
          -39.19438171386719,
          -27.674909591674805,
          80.05767059326172,
          -40.9130744934082,
          13.583685874938965,
          -84.91409301757812,
          -43.067222595214844,
          25.90164566040039,
          -2.6057510375976562,
          -58.10376739501953,
          12.524336814880371,
          19.616378784179688,
          -27.93611717224121,
          14.69588851928711,
          -1.366196632385254,
          -3.4052469730377197,
          -78.70382690429688,
          -28.108753204345703,
          -2.0847976207733154,
          79.977783203125,
          -30.07379722595215,
          -85.7038803100586,
          -1.9793916940689087,
          77.16481018066406,
          -28.261995315551758,
          -65.55876159667969,
          33.00525665283203,
          -58.46499252319336,
          65.54087829589844,
          54.14873504638672,
          48.66547393798828,
          70.21361541748047,
          67.18411254882812,
          -29.103771209716797,
          -52.81652069091797,
          53.80651092529297,
          -11.950057029724121,
          63.05457305908203,
          26.377519607543945,
          39.83567810058594,
          30.42900276184082,
          19.410537719726562,
          -56.51519775390625,
          55.88309860229492,
          -13.977370262145996,
          12.88548755645752,
          43.80796432495117,
          -88.76435852050781,
          17.77150535583496,
          -48.4425163269043,
          -54.846744537353516,
          -43.498165130615234,
          13.140277862548828,
          12.126925468444824,
          -35.9631462097168,
          64.5771713256836,
          -41.88481140136719,
          42.74980163574219,
          34.7318229675293,
          32.521244049072266,
          57.352333068847656,
          49.75975036621094,
          -45.016937255859375,
          29.77644157409668,
          72.85374450683594,
          -52.7635612487793,
          -63.20954513549805,
          37.617637634277344,
          72.04572296142578,
          52.649024963378906,
          81.73591613769531,
          20.111553192138672,
          79.18869018554688,
          -40.283260345458984,
          -37.7677116394043,
          91.02848815917969,
          -59.227935791015625,
          76.57550048828125,
          18.02197265625,
          36.38404083251953,
          44.031097412109375,
          -3.7444236278533936,
          -6.771553993225098,
          -18.719528198242188,
          50.11275100708008,
          3.220569372177124,
          91.86763763427734,
          30.929956436157227,
          -45.72017288208008,
          29.499975204467773,
          -16.669208526611328,
          41.22120666503906,
          -11.14400577545166,
          -5.940014362335205,
          2.3232638835906982,
          -2.237914562225342,
          -52.21645736694336,
          -3.8519089221954346,
          -7.856210231781006,
          60.683799743652344,
          17.4023380279541,
          28.639938354492188,
          -32.17093276977539,
          92.6312484741211,
          45.40867614746094,
          -39.42451858520508,
          -42.90916442871094,
          -1.7377161979675293,
          -9.3219575881958,
          -15.045830726623535,
          18.433141708374023,
          -93.03591918945312,
          7.1976823806762695,
          -15.450732231140137,
          -13.308876991271973,
          -33.35574722290039,
          15.35633373260498,
          -35.34278106689453,
          14.888642311096191,
          5.193810939788818,
          -14.140003204345703,
          34.433387756347656,
          -39.706459045410156
         ],
         "xaxis": "x",
         "y": [
          35.27949905395508,
          67.0443344116211,
          2.6536433696746826,
          51.69382095336914,
          39.594722747802734,
          -4.547367572784424,
          43.475460052490234,
          55.15092086791992,
          -5.297708034515381,
          37.7935676574707,
          -6.279995918273926,
          -3.7155508995056152,
          -7.08599328994751,
          62.480716705322266,
          -72.82588195800781,
          -1.301362156867981,
          -32.500553131103516,
          -52.199378967285156,
          43.2486457824707,
          30.894933700561523,
          -34.65620803833008,
          12.668325424194336,
          -8.493339538574219,
          -22.223207473754883,
          -10.393303871154785,
          0.010479158721864223,
          -3.5512378215789795,
          50.32517623901367,
          -3.4071502685546875,
          20.33204460144043,
          -1.3526335954666138,
          -6.475826263427734,
          2.696629047393799,
          -35.259605407714844,
          -23.612512588500977,
          -10.692934036254883,
          -12.95776653289795,
          -21.72958755493164,
          48.606117248535156,
          4.946205139160156,
          39.397220611572266,
          0.5303863286972046,
          -48.986934661865234,
          -44.66012954711914,
          21.894804000854492,
          -9.426616668701172,
          43.658973693847656,
          34.51755905151367,
          -17.24948501586914,
          34.95161437988281,
          39.32386016845703,
          1.253020167350769,
          18.36116600036621,
          -5.677926063537598,
          -72.67933654785156,
          45.536746978759766,
          28.206371307373047,
          41.04310989379883,
          -3.553297281265259,
          35.82736587524414,
          6.883044242858887,
          26.01132583618164,
          33.322147369384766,
          -31.84576988220215,
          4.945363998413086,
          -26.208097457885742,
          -96.79401397705078,
          -29.221376419067383,
          43.752140045166016,
          -73.48572540283203,
          21.176422119140625,
          48.90419006347656,
          71.24286651611328,
          -16.90395736694336,
          86.81825256347656,
          31.936229705810547,
          0.6014983057975769,
          63.971656799316406,
          -23.746740341186523,
          44.19212341308594,
          -57.843143463134766,
          -0.7660354971885681,
          -61.31448745727539,
          48.39686584472656,
          79.09519958496094,
          -52.938392639160156,
          -36.13582992553711,
          22.643264770507812,
          -7.261811256408691,
          -5.268700122833252,
          29.696229934692383,
          32.440650939941406,
          -19.67984390258789,
          -18.383386611938477,
          25.99782371520996,
          38.41034698486328,
          -94.38351440429688,
          -54.46243667602539,
          -24.246923446655273,
          30.752262115478516,
          -21.760181427001953,
          -25.537378311157227,
          47.13085174560547,
          -5.410615921020508,
          32.695274353027344,
          -46.2974967956543,
          -15.529078483581543,
          13.489080429077148,
          -29.75209617614746,
          -30.363784790039062,
          -76.53977966308594,
          -21.303958892822266,
          -9.566584587097168,
          -17.818462371826172,
          9.380990028381348,
          -5.403777122497559,
          -30.023014068603516,
          1.4018232822418213,
          -58.13892364501953,
          64.3691635131836,
          38.7335205078125,
          6.384217262268066,
          -35.354103088378906,
          -49.61832046508789,
          -52.77778625488281,
          10.958171844482422,
          66.59459686279297,
          -30.937843322753906,
          9.638080596923828,
          24.979568481445312,
          46.72768783569336,
          -1.5678528547286987,
          49.605133056640625,
          -58.351470947265625,
          -56.839603424072266,
          -33.64565658569336,
          15.512067794799805,
          55.76354217529297,
          -3.994736671447754,
          -27.09994888305664,
          16.236547470092773,
          -0.6355053186416626,
          -36.09127426147461,
          21.176422119140625,
          -10.281295776367188,
          21.939268112182617,
          66.6554183959961,
          21.092750549316406,
          43.85403060913086,
          19.375741958618164,
          31.304702758789062,
          -25.16144561767578,
          48.28102111816406,
          -39.15614700317383,
          -4.146137237548828,
          91.16998291015625,
          25.458314895629883,
          -5.287288188934326,
          19.881959915161133,
          10.228918075561523,
          -17.586442947387695,
          -32.51124954223633,
          -30.067062377929688,
          27.4371395111084,
          -21.564739227294922,
          38.62849044799805,
          -74.42382049560547,
          -23.673797607421875,
          -44.57599639892578,
          4.565397262573242,
          -46.25083541870117,
          -10.808022499084473,
          -28.583599090576172,
          59.494571685791016,
          6.27267599105835,
          -25.981712341308594,
          25.998760223388672,
          -64.92239379882812,
          87.92767333984375,
          -38.041133880615234,
          -26.95443344116211,
          18.319595336914062,
          -34.36164093017578,
          27.435924530029297,
          38.255126953125,
          0.32882624864578247,
          -53.99440383911133,
          23.112167358398438,
          18.936180114746094,
          -43.75181579589844,
          14.806388854980469,
          -19.50477409362793,
          42.94004821777344,
          -73.9185562133789,
          -33.79647445678711,
          -22.435840606689453,
          50.13230514526367,
          -20.942331314086914,
          29.26167106628418,
          -72.73121643066406,
          17.4146671295166,
          -46.929481506347656,
          -14.675300598144531,
          21.504196166992188,
          -16.431617736816406,
          0.28276175260543823,
          46.150726318359375,
          12.78958511352539,
          -11.738375663757324,
          6.459272384643555,
          -25.223386764526367,
          -24.50592613220215,
          -50.0098991394043,
          43.57328796386719,
          23.32044792175293,
          20.053983688354492,
          46.884029388427734,
          63.413291931152344,
          40.942264556884766,
          9.602815628051758,
          -35.08346939086914,
          40.570430755615234,
          -6.990716934204102,
          -13.331194877624512,
          -41.25510787963867,
          29.794788360595703,
          49.71257400512695,
          19.22597312927246,
          19.189016342163086,
          44.47507858276367,
          27.385665893554688,
          -43.855796813964844,
          9.146050453186035,
          3.3563733100891113,
          -42.89578628540039,
          21.999099731445312,
          -55.36721420288086,
          29.10049057006836,
          5.452306747436523,
          39.466190338134766,
          22.859201431274414,
          10.124289512634277,
          -31.111852645874023,
          -17.426340103149414,
          5.112401008605957,
          52.74669647216797,
          38.05976104736328,
          43.93744659423828,
          -26.013280868530273,
          44.425987243652344,
          -26.46979522705078,
          5.448776721954346,
          22.570783615112305,
          -4.867616653442383,
          25.825881958007812,
          -10.287620544433594,
          88.54484558105469,
          35.991878509521484,
          0.10204199701547623,
          -41.93315124511719,
          27.796316146850586,
          -42.95145034790039,
          25.32732391357422,
          -63.181121826171875,
          1.547293782234192,
          -5.450206756591797,
          -36.62666320800781,
          -21.986265182495117,
          -32.9077033996582,
          36.65978240966797,
          29.74386215209961,
          74.20809173583984,
          21.505460739135742,
          43.62925338745117,
          -59.52613067626953,
          -34.999855041503906,
          73.69768524169922,
          -65.2848129272461,
          -45.377845764160156,
          -12.735339164733887,
          -55.44205093383789,
          49.839176177978516,
          -2.4870147705078125,
          37.16541290283203,
          -28.213502883911133,
          18.83631134033203,
          -4.110452651977539,
          75.4749755859375,
          -17.261472702026367,
          50.907188415527344,
          -6.738383769989014,
          -51.38261032104492,
          -46.91962814331055,
          -17.986644744873047,
          19.884483337402344,
          43.81301498413086,
          -4.23700475692749,
          50.874794006347656,
          -32.196319580078125,
          17.552087783813477,
          -22.226360321044922,
          -33.91752624511719,
          -7.008756160736084,
          -31.916872024536133,
          -17.776201248168945,
          -59.19123458862305,
          -8.175040245056152,
          -31.848312377929688,
          60.16707229614258,
          -26.430431365966797,
          -32.836551666259766,
          -5.4482741355896,
          16.160694122314453,
          -16.342710494995117,
          -1.305195927619934,
          -18.809715270996094,
          25.06153106689453,
          26.778905868530273,
          -5.201970100402832,
          -26.31048583984375,
          15.76772403717041,
          -13.546104431152344,
          0.7049213647842407,
          35.9151611328125,
          51.0028190612793,
          0.21145807206630707,
          67.59749603271484,
          -21.78645133972168,
          17.14459800720215,
          -51.20741653442383,
          13.036298751831055,
          12.186806678771973,
          12.733882904052734,
          -34.840518951416016,
          -32.64097213745117,
          -1.6291961669921875,
          -44.67337417602539,
          -4.861765384674072,
          17.26839828491211,
          6.49043607711792,
          22.59865951538086,
          8.3909273147583,
          -36.49906921386719,
          -72.72030639648438,
          -17.24588966369629,
          4.004574775695801,
          32.437530517578125,
          6.670435905456543,
          43.2530403137207,
          18.2489070892334,
          59.81208419799805,
          -5.205190181732178,
          -19.714632034301758,
          29.769798278808594,
          1.1414673328399658,
          31.22138786315918,
          -35.78589630126953,
          -12.003429412841797,
          38.88731002807617,
          66.34458923339844,
          -0.4215478301048279,
          1.2857190370559692,
          25.960641860961914,
          28.3148250579834,
          63.176551818847656,
          -30.10226821899414,
          -7.712656021118164,
          35.69578552246094,
          -21.24008560180664,
          36.493309020996094,
          67.07221984863281,
          31.95367431640625,
          32.56398010253906,
          -21.347627639770508,
          45.44144821166992,
          -26.679012298583984,
          40.85493087768555,
          44.5688591003418,
          -7.862185001373291,
          28.391618728637695,
          34.87525177001953,
          20.115966796875,
          -31.021465301513672,
          -35.04710388183594,
          -66.10658264160156,
          -72.78258514404297,
          -10.795741081237793,
          -48.989315032958984,
          -55.70951461791992,
          -17.1187686920166,
          34.960716247558594,
          5.997147560119629,
          -4.4467668533325195,
          29.73652458190918,
          25.179052352905273,
          -2.2790300846099854,
          -26.795549392700195,
          -1.1470645666122437,
          -13.318910598754883,
          -25.475923538208008,
          35.92966079711914,
          13.540409088134766,
          1.3924928903579712,
          -52.106719970703125,
          -1.1119775772094727,
          7.457054138183594,
          39.040000915527344,
          -17.453474044799805,
          -18.644668579101562,
          -31.10531234741211,
          17.36281394958496,
          -28.92363739013672,
          38.507171630859375,
          -20.916879653930664,
          35.984317779541016,
          50.926239013671875,
          36.953277587890625,
          -26.013689041137695,
          -0.819661021232605,
          -30.522714614868164,
          47.67183303833008,
          -25.425703048706055,
          -71.49128723144531,
          65.38909149169922,
          17.47146224975586,
          -10.292470932006836,
          -42.66748046875,
          -56.65940475463867,
          -50.1550178527832,
          30.064653396606445,
          -12.701337814331055,
          -30.924556732177734,
          13.363265991210938,
          52.379547119140625,
          13.596702575683594,
          -35.55202102661133,
          -12.912574768066406,
          -62.450889587402344,
          -42.88193130493164,
          4.285406589508057,
          -8.327622413635254,
          19.069700241088867,
          11.865826606750488,
          38.840728759765625,
          55.446475982666016,
          25.481611251831055,
          9.06467342376709,
          -21.61445426940918,
          25.30724334716797,
          -39.76176834106445,
          17.855121612548828,
          -43.06218338012695,
          -18.720809936523438,
          49.116268157958984,
          91.81499481201172,
          -22.88834571838379,
          -48.410465240478516,
          -0.8917563557624817,
          -33.58842468261719,
          -32.62258529663086,
          48.27716064453125,
          55.81133270263672,
          26.49789047241211,
          7.046825885772705,
          -15.749173164367676,
          5.74879264831543,
          -5.446926593780518,
          -30.232154846191406,
          -18.782651901245117,
          34.03801727294922,
          -61.319942474365234,
          -0.04663706198334694,
          3.2848827838897705,
          -0.8164876103401184,
          -13.801332473754883,
          55.45173645019531,
          58.12610626220703,
          51.61022186279297,
          88.0596694946289,
          26.22785186767578,
          -8.16210651397705,
          -27.128889083862305,
          32.09518051147461,
          -48.38149642944336,
          38.02542495727539,
          -26.904630661010742,
          -14.372576713562012,
          17.192049026489258,
          69.423583984375,
          8.174304962158203,
          -24.23273277282715,
          1.2488596439361572,
          -51.54597091674805,
          -21.42654800415039,
          15.754637718200684,
          1.3298944234848022,
          -19.69265365600586,
          35.97966003417969,
          -71.93699645996094,
          5.8709588050842285,
          9.100456237792969,
          -55.738956451416016,
          88.1421890258789,
          39.98933410644531,
          12.188066482543945,
          -50.72505569458008,
          -75.1082992553711,
          -42.91034698486328,
          -10.96052360534668,
          30.247703552246094,
          -64.99223327636719,
          -36.089141845703125,
          -15.43963623046875,
          -21.455018997192383,
          -14.267401695251465,
          -7.492009162902832,
          -12.492565155029297,
          -1.313502550125122,
          48.12002182006836,
          3.571106195449829,
          -20.182397842407227,
          73.67395782470703,
          23.721466064453125,
          55.42921829223633,
          22.285808563232422,
          -17.958053588867188,
          -2.193117380142212,
          59.802677154541016,
          -46.84483337402344,
          -21.98049545288086,
          -67.11022186279297,
          -44.988094329833984,
          26.469676971435547,
          -20.370651245117188,
          64.27427673339844,
          -25.195674896240234,
          -36.240108489990234,
          -10.695300102233887,
          -1.1993578672409058,
          66.03771209716797,
          69.38826751708984,
          -57.81744384765625,
          -5.143085956573486,
          -33.42620849609375,
          -57.50246810913086,
          -32.422271728515625,
          -27.358592987060547,
          -35.09619140625,
          -28.227088928222656,
          49.3110237121582,
          -9.744912147521973,
          48.23826217651367,
          -53.851139068603516,
          86.93462371826172,
          90.7947769165039,
          -14.926836013793945,
          34.43693542480469,
          49.01491165161133,
          26.205751419067383,
          -33.446048736572266,
          -4.8305487632751465,
          57.975093841552734,
          -72.6148910522461,
          17.192546844482422,
          79.46023559570312,
          34.98677062988281,
          -31.074108123779297,
          -12.384993553161621,
          -58.73423385620117,
          -23.59687042236328,
          -27.056943893432617,
          43.21821212768555,
          -18.052736282348633,
          35.4229850769043,
          -18.48246192932129,
          -22.33066749572754,
          9.804585456848145,
          -27.818695068359375,
          55.3587646484375,
          8.0305814743042,
          47.42843246459961,
          45.103145599365234,
          -25.49696159362793,
          -21.375255584716797,
          -74.30360412597656,
          -22.37783432006836,
          63.970306396484375,
          12.35844612121582,
          25.8939208984375,
          -33.567626953125,
          -97.51921081542969,
          -56.49496841430664,
          25.92140007019043,
          -56.84367370605469,
          49.77622985839844,
          17.660785675048828,
          -49.13056945800781,
          -11.47520637512207,
          -19.242292404174805,
          -14.551065444946289,
          -22.25928497314453,
          -51.07876968383789,
          27.81427001953125,
          74.06547546386719,
          69.8664779663086,
          63.32368850708008,
          -12.998136520385742,
          2.2325751781463623,
          20.037227630615234,
          -68.60913848876953,
          -49.13644027709961,
          47.38205337524414,
          16.383548736572266,
          -25.4475154876709,
          -66.77855682373047,
          -74.0250473022461,
          -27.426868438720703,
          60.48556900024414,
          -40.524330139160156,
          56.12187576293945,
          -21.69341278076172,
          23.30777359008789,
          -49.885108947753906,
          48.05680465698242,
          -53.12125015258789,
          -15.06747055053711,
          26.160898208618164,
          68.58360290527344,
          -3.1322896480560303,
          -27.02438735961914,
          3.8182761669158936,
          -37.66816711425781,
          -30.556976318359375,
          -51.78166961669922,
          32.211952209472656,
          37.804561614990234,
          75.50048828125,
          29.7755126953125,
          26.591150283813477,
          -49.6197624206543,
          42.11716842651367,
          38.48108673095703,
          -11.167943954467773,
          32.160804748535156,
          21.226055145263672,
          -6.932587623596191,
          20.601184844970703,
          91.64083862304688,
          -3.294529438018799,
          33.15626907348633,
          -73.69868469238281,
          50.45753860473633,
          35.99074935913086,
          -34.20377731323242,
          38.53620147705078,
          31.638633728027344,
          -6.56029748916626,
          38.55148696899414,
          -0.08801966160535812,
          8.615069389343262,
          76.48790740966797,
          -13.27499771118164,
          -23.251867294311523,
          38.03632354736328,
          31.81101417541504,
          -34.66041564941406,
          -1.9579488039016724,
          -17.653226852416992,
          -13.01011848449707,
          1.0076473951339722,
          -21.04707145690918,
          29.442670822143555,
          -31.309232711791992,
          -49.167633056640625,
          5.453269004821777,
          -35.82514953613281,
          46.45401382446289,
          5.121278285980225,
          16.626615524291992,
          -65.71174621582031,
          35.32624435424805,
          -59.63002014160156,
          25.70170783996582,
          -25.793739318847656,
          -58.905311584472656,
          22.140342712402344,
          26.692543029785156,
          -51.67811965942383,
          69.07421875,
          21.586227416992188,
          -36.123199462890625,
          -21.364418029785156,
          -57.535491943359375,
          -16.003572463989258,
          -26.111881256103516,
          48.29755401611328,
          -24.768775939941406,
          -14.846293449401855,
          -5.511054515838623,
          -2.216766357421875,
          -21.18550682067871,
          5.0037150382995605,
          -31.54775047302246,
          5.450612545013428,
          -8.910143852233887,
          -27.827003479003906,
          29.95639419555664,
          -35.6273078918457,
          28.125843048095703,
          3.9646739959716797,
          32.24717330932617,
          3.5226190090179443,
          68.20094299316406,
          -70.06108093261719,
          46.48270034790039,
          -5.142370223999023,
          4.316381931304932,
          -55.38258361816406,
          6.2375898361206055,
          9.135193824768066,
          26.876617431640625,
          76.27471923828125,
          70.62663269042969,
          37.138519287109375,
          5.07034158706665,
          -74.22429656982422,
          87.5752944946289,
          0.25957465171813965,
          35.014892578125,
          43.60894775390625,
          19.17296600341797,
          68.33111572265625,
          -1.920912265777588,
          72.77175903320312,
          -38.95204544067383,
          72.83821105957031,
          37.16190719604492,
          -2.646660804748535,
          27.872154235839844,
          -44.588172912597656,
          -51.883514404296875,
          30.14486312866211,
          -51.800697326660156,
          37.38467788696289,
          -10.404518127441406,
          43.87822723388672,
          -11.628397941589355,
          56.538150787353516,
          43.85554504394531,
          14.791959762573242,
          -23.934667587280273,
          -5.4539408683776855,
          11.97295093536377,
          6.060734748840332,
          34.63801193237305,
          66.03192138671875,
          25.69682502746582,
          31.020679473876953,
          4.012969493865967,
          -55.77738952636719,
          -6.695691108703613,
          -25.160438537597656,
          35.390380859375,
          -11.375563621520996,
          -45.15542984008789,
          46.57809066772461,
          74.4685287475586,
          6.7374138832092285,
          16.3114070892334,
          69.89787292480469,
          -31.367528915405273,
          43.66185760498047,
          5.976660251617432,
          -54.983489990234375,
          -31.949485778808594,
          44.9648323059082,
          18.999404907226562,
          34.3599739074707,
          26.01262092590332,
          26.71506118774414,
          76.80042266845703,
          7.469834804534912,
          3.6669437885284424,
          -16.44537925720215,
          12.246901512145996,
          26.340484619140625,
          -24.417158126831055,
          -34.2906379699707,
          -94.12272644042969,
          -2.506613254547119,
          -51.9660758972168,
          22.002132415771484,
          -93.80264282226562,
          68.96275329589844,
          -17.39471435546875,
          6.70106840133667,
          30.022565841674805,
          -6.904810428619385,
          -2.3561782836914062,
          29.97908592224121,
          10.223859786987305,
          -76.28843688964844,
          40.833370208740234,
          18.734914779663086,
          66.60751342773438,
          -0.5048295855522156,
          -7.698938369750977,
          -65.50663757324219,
          -37.173885345458984,
          -56.89331817626953,
          6.8647074699401855,
          -72.00574493408203,
          -38.33036804199219,
          35.777462005615234,
          72.69277954101562,
          15.057639122009277,
          7.028058052062988,
          18.419261932373047,
          54.4804801940918,
          32.406375885009766,
          5.214439392089844,
          -18.9390811920166,
          -23.587203979492188,
          -16.35744285583496,
          -51.78105926513672,
          17.827558517456055,
          -24.62018585205078,
          -65.34454345703125,
          -33.52357864379883,
          1.2622132301330566,
          49.908206939697266,
          -58.60186767578125,
          44.281654357910156,
          49.69953536987305,
          -15.279143333435059,
          -8.23658275604248,
          47.587860107421875,
          -21.175323486328125,
          35.85277557373047,
          -65.64896392822266,
          4.785036087036133,
          26.159563064575195,
          27.64793586730957,
          32.27491760253906,
          -34.56126022338867,
          -20.677703857421875,
          48.13019561767578,
          -21.632034301757812,
          -34.0311164855957,
          -54.951717376708984,
          -13.729619979858398,
          0.9441933631896973,
          -65.18502807617188,
          17.162067413330078,
          18.044708251953125,
          -39.43263244628906,
          -42.86457824707031,
          38.82609939575195,
          35.38761520385742,
          -74.18151092529297,
          36.56874465942383,
          -44.65569305419922,
          -96.57473754882812,
          7.709687232971191,
          48.43143081665039,
          31.36109733581543,
          -40.923004150390625,
          -9.116119384765625,
          29.727460861206055,
          -19.625930786132812,
          0.2833927571773529,
          25.996368408203125,
          39.541011810302734,
          -54.739776611328125,
          36.7209587097168,
          23.042850494384766,
          -24.07638931274414,
          72.64751434326172,
          -16.362751007080078,
          36.74456024169922,
          25.94850730895996,
          -10.208356857299805,
          -23.982378005981445,
          -28.90065574645996,
          -53.88239288330078,
          -20.459182739257812,
          -58.09309768676758,
          7.17504358291626,
          26.61001968383789,
          1.797533631324768,
          -36.08449172973633,
          29.63631248474121,
          -27.343048095703125,
          -10.715096473693848,
          -55.782005310058594,
          17.659347534179688,
          4.878429889678955,
          -6.076431751251221,
          16.893959045410156,
          -58.2747688293457,
          -18.024744033813477,
          19.46556282043457,
          5.482087135314941,
          -29.18994903564453,
          -1.5597985982894897,
          -4.018087387084961,
          -0.04979328811168671,
          -49.564029693603516,
          -29.926008224487305,
          -20.748699188232422,
          -6.103839874267578,
          -56.820804595947266,
          -31.315587997436523,
          18.61027717590332,
          -17.27168846130371,
          31.92406463623047,
          27.37350082397461,
          -22.833532333374023,
          2.6502721309661865,
          27.648696899414062,
          34.9894905090332,
          -25.735532760620117,
          -32.8553581237793,
          -22.169490814208984,
          64.9629898071289,
          4.626622676849365,
          5.188100814819336,
          29.879039764404297,
          -29.59237289428711,
          48.135040283203125,
          24.119287490844727,
          -35.134193420410156,
          -33.57938003540039,
          32.65078353881836,
          28.14529800415039,
          -10.562355995178223,
          29.220962524414062,
          32.770301818847656,
          48.590576171875,
          47.24492263793945,
          18.72368812561035,
          -1.0627237558364868,
          -31.7965145111084,
          75.32528686523438,
          -69.49473571777344,
          48.773704528808594,
          -94.21675109863281,
          -15.189916610717773,
          65.27942657470703,
          1.6235417127609253,
          34.762454986572266,
          -49.91697311401367,
          -15.59455680847168,
          30.90360450744629,
          -34.32084274291992,
          60.839962005615234,
          -31.71025848388672,
          -19.690969467163086,
          79.93197631835938,
          53.05577850341797,
          27.90077781677246,
          -55.69316101074219,
          -97.5340576171875,
          5.434232711791992,
          39.96839904785156,
          -12.923717498779297,
          34.83260726928711,
          -69.07510375976562,
          23.993255615234375,
          44.23368835449219,
          -54.15345001220703,
          -26.232730865478516,
          69.64069366455078,
          -9.151078224182129,
          25.618459701538086,
          18.42433738708496,
          -19.029804229736328,
          -57.550758361816406,
          -7.190051078796387,
          -34.36475372314453,
          35.995201110839844,
          -6.739361763000488,
          -65.85379028320312,
          -62.23414993286133,
          35.624027252197266,
          21.176422119140625,
          -30.49404525756836,
          -8.565199851989746,
          10.43797492980957,
          6.615875720977783,
          -6.209519386291504,
          -3.6490895748138428,
          75.29525756835938,
          5.072317600250244,
          33.379146575927734,
          59.872352600097656,
          38.74848175048828,
          26.15244483947754,
          26.002944946289062,
          2.8885657787323,
          61.006248474121094,
          -6.647609233856201,
          31.32341766357422,
          47.011356353759766,
          30.909452438354492,
          25.236696243286133,
          3.293454647064209,
          -23.054080963134766,
          -53.16423797607422,
          -52.08628463745117,
          19.843313217163086,
          -35.00214767456055,
          3.507774591445923,
          24.066946029663086,
          -21.62751007080078,
          -32.28742980957031,
          -22.128360748291016,
          49.203025817871094,
          34.79509735107422,
          42.27543640136719,
          -22.20526695251465,
          -28.146591186523438,
          -33.901371002197266,
          -28.227336883544922,
          25.927392959594727,
          18.82868003845215,
          -66.1855239868164,
          -26.613290786743164,
          31.27958106994629,
          34.47322463989258,
          34.64273452758789,
          -18.36878776550293,
          35.07984924316406,
          -67.25366973876953,
          22.261816024780273,
          -23.707786560058594,
          -15.842581748962402,
          -36.71588134765625,
          6.337761878967285,
          23.19081687927246,
          5.193650722503662,
          48.89911651611328,
          38.17075729370117,
          25.97821807861328,
          -25.483234405517578,
          -71.0857925415039,
          -0.22350168228149414,
          -29.08597183227539,
          -33.60816955566406,
          -4.8852314949035645,
          -5.535888671875,
          -25.6065731048584,
          -73.8967056274414,
          -1.830098271369934,
          41.65468978881836,
          -45.14593505859375,
          -72.71073913574219,
          5.728663444519043,
          2.127553701400757,
          -57.35379409790039,
          -3.911832571029663,
          -30.68084144592285,
          -31.796178817749023,
          -57.67642593383789,
          29.772253036499023,
          -5.102553367614746,
          -6.234991550445557,
          -43.534786224365234,
          -8.910600662231445,
          -16.365840911865234,
          10.065656661987305,
          69.49179077148438,
          46.8419189453125,
          15.565037727355957,
          47.529823303222656,
          -14.771069526672363,
          45.25168228149414,
          -11.219819068908691,
          18.1529483795166,
          -6.238253593444824,
          -19.851316452026367,
          -24.86794662475586,
          -72.51127624511719,
          44.26468276977539,
          -25.09540367126465,
          -27.706037521362305,
          -1.3305583000183105,
          34.057212829589844,
          -58.09712219238281,
          -12.897397994995117,
          53.786888122558594,
          33.987850189208984,
          -8.495162010192871,
          -9.639538764953613,
          -4.555014133453369,
          -17.47492218017578,
          4.148853302001953,
          2.013815402984619,
          2.7771809101104736,
          30.027006149291992,
          -30.81802749633789,
          -2.212714910507202,
          -57.421817779541016,
          19.231910705566406,
          -68.70155334472656,
          33.5291862487793,
          -19.549453735351562,
          -6.075728893280029,
          -47.88203811645508,
          -47.365447998046875,
          64.00505828857422,
          42.902034759521484,
          72.89073181152344,
          -24.28055763244629,
          20.624357223510742,
          60.51481628417969,
          -29.16653060913086,
          -10.831910133361816,
          -8.936455726623535,
          9.02489948272705,
          -25.35978126525879,
          -20.543636322021484,
          74.06597900390625,
          -12.821893692016602,
          -33.44861602783203,
          -11.508710861206055,
          16.78032875061035,
          55.533363342285156,
          32.53883361816406,
          -6.0559258460998535,
          4.554995059967041,
          36.16334533691406,
          43.31404113769531,
          -5.874457836151123,
          -37.30691146850586,
          -6.1183695793151855,
          3.9932210445404053,
          25.857398986816406,
          79.36231994628906,
          -34.02240753173828,
          -61.363006591796875,
          -33.73216247558594,
          -44.79984664916992,
          -17.6539306640625,
          30.89821434020996,
          -5.135776042938232,
          1.9094271659851074,
          26.099891662597656,
          79.87101745605469,
          10.04371452331543,
          -43.40686798095703,
          35.874969482421875,
          49.73090362548828,
          -36.691139221191406,
          -19.645116806030273,
          -4.737526893615723,
          -31.27007293701172,
          6.034412384033203,
          -97.60344696044922,
          -52.011775970458984,
          -51.990116119384766,
          18.698854446411133,
          17.594478607177734,
          47.66911315917969,
          18.981595993041992,
          65.79656219482422,
          -1.6351932287216187,
          -34.477012634277344,
          -9.420058250427246,
          6.5592169761657715,
          -67.9056625366211,
          -66.84467315673828,
          -20.659208297729492,
          -2.5237514972686768,
          -19.151060104370117,
          17.720497131347656,
          30.67397117614746,
          -2.3442089557647705,
          -22.28316307067871,
          34.35906219482422,
          -7.00046968460083,
          40.455894470214844,
          59.43487548828125,
          -22.195507049560547,
          33.593013763427734,
          43.5964469909668,
          -26.612289428710938,
          18.002460479736328,
          27.79932975769043,
          9.445809364318848,
          2.549872636795044,
          -16.749797821044922,
          35.0915412902832,
          21.675756454467773,
          23.402597427368164,
          -45.597442626953125,
          -31.078533172607422,
          -12.964692115783691,
          -21.624910354614258,
          35.69419860839844,
          -57.249290466308594,
          29.801828384399414,
          -6.93292236328125,
          -32.606712341308594,
          -18.31210708618164,
          -44.277015686035156,
          8.63355541229248,
          -77.7109146118164,
          -18.297529220581055,
          10.63579273223877,
          -34.401912689208984,
          -12.238130569458008,
          75.08861541748047,
          32.5660400390625,
          -7.475876808166504,
          38.9047966003418,
          37.781822204589844,
          -33.30791473388672,
          4.344839096069336,
          0.3373691439628601,
          -57.487159729003906,
          -42.421234130859375,
          46.133060455322266,
          17.374984741210938,
          42.39925003051758,
          68.98219299316406,
          34.69571304321289,
          -22.053556442260742,
          28.006925582885742,
          43.865936279296875,
          -72.13710021972656,
          34.6552619934082,
          62.89149475097656,
          0.09920261800289154,
          -4.213741302490234,
          -37.57246398925781,
          47.47473907470703,
          2.152571201324463,
          19.82232666015625,
          -42.30398178100586,
          2.204547643661499,
          -4.740272045135498,
          -64.83060455322266,
          -0.9508593678474426,
          -64.30509185791016,
          -3.078608274459839,
          -13.36913013458252,
          -22.60660171508789,
          22.703834533691406,
          -66.39237976074219,
          -25.908830642700195,
          -16.10926055908203,
          -40.75972366333008,
          87.6745376586914,
          19.93377113342285,
          -54.36297607421875,
          73.35359191894531,
          -13.811053276062012,
          29.829681396484375,
          -56.746273040771484,
          -11.875850677490234,
          18.362546920776367,
          33.69696044921875,
          -76.034912109375,
          60.82062530517578,
          -21.198904037475586,
          34.65345764160156,
          -3.796201229095459,
          -30.117612838745117,
          -30.129440307617188,
          -29.8200740814209,
          55.3192253112793,
          -52.04636001586914,
          25.32485008239746,
          -14.308929443359375,
          -30.54439353942871,
          -4.672122955322266,
          -52.830970764160156,
          9.559550285339355,
          -27.725948333740234,
          -37.601951599121094,
          -66.07166290283203,
          -31.140338897705078,
          -11.223946571350098,
          4.4477643966674805,
          32.18092727661133,
          -27.497751235961914,
          -10.44144344329834,
          69.22662353515625,
          -21.92101287841797,
          -32.52433395385742,
          4.958061695098877,
          0.012834119610488415,
          -23.69583511352539
         ],
         "yaxis": "y"
        },
        {
         "hovertemplate": "<b>%{hovertext}</b><br><br>Classification=outlier<br>37D->2D TSNE1=%{x}<br>37D->2D TSNE2=%{y}<extra></extra>",
         "hovertext": [
          "W1.5 Mo6.33 Co1 Ni1.83 Al6",
          "Ti1 Nb1 Ag1 Zn1 Al1",
          "Ti1 V23 Cr1",
          "Nb8 W2.33 Cr1 Co11 Al11",
          "Be2.25 Zr4.12 Ti1.38 Ni1 Cu1.25",
          "Zr30.5 Ti1 Cu12.5 Al6",
          "Zr2 W1 C2",
          "Hf1 Zr1 Ti1 Ta1 C4",
          "Ta8 Ir7 Ni4 B1",
          "Li2 Mg1 Sc2 Ti3 Al2",
          "Zr1 Ta2.13 Ru3.53",
          "Ti32 Ta1 Nb9 Cr19 Co39",
          "Ti4.5 Ta6 Nb15 Co1 Ni23.5",
          "Hf3 Mo1 B14 Si10",
          "Zr1.27 Ta1.07 Ru1",
          "Nb1 V5.5 W4.5 Mo1",
          "W1 Re6 Fe2 Ni8"
         ],
         "legendgroup": "outlier",
         "marker": {
          "color": "#E15F99",
          "symbol": "circle"
         },
         "mode": "markers",
         "name": "outlier",
         "showlegend": true,
         "type": "scattergl",
         "x": [
          -7.847455978393555,
          25.799667358398438,
          50.88299560546875,
          -12.235373497009277,
          38.05600357055664,
          37.814456939697266,
          54.8427848815918,
          54.851070404052734,
          -0.523268461227417,
          24.477949142456055,
          50.484649658203125,
          18.44222068786621,
          -8.63247013092041,
          6.671257019042969,
          50.459197998046875,
          48.363521575927734,
          -7.23239803314209
         ],
         "xaxis": "x",
         "y": [
          -30.895084381103516,
          -36.61265563964844,
          21.022953033447266,
          -78.354736328125,
          -40.378929138183594,
          -40.34963607788086,
          -25.43010902404785,
          -25.441932678222656,
          54.99345397949219,
          -22.91853904724121,
          -37.757259368896484,
          -20.09095573425293,
          54.699302673339844,
          11.152460098266602,
          -37.75335693359375,
          30.910486221313477,
          61.46098709106445
         ],
         "yaxis": "y"
        }
       ],
       "layout": {
        "legend": {
         "title": {
          "text": "Classification"
         },
         "tracegroupgap": 0
        },
        "margin": {
         "t": 60
        },
        "template": {
         "data": {
          "bar": [
           {
            "error_x": {
             "color": "#2a3f5f"
            },
            "error_y": {
             "color": "#2a3f5f"
            },
            "marker": {
             "line": {
              "color": "white",
              "width": 0.5
             },
             "pattern": {
              "fillmode": "overlay",
              "size": 10,
              "solidity": 0.2
             }
            },
            "type": "bar"
           }
          ],
          "barpolar": [
           {
            "marker": {
             "line": {
              "color": "white",
              "width": 0.5
             },
             "pattern": {
              "fillmode": "overlay",
              "size": 10,
              "solidity": 0.2
             }
            },
            "type": "barpolar"
           }
          ],
          "carpet": [
           {
            "aaxis": {
             "endlinecolor": "#2a3f5f",
             "gridcolor": "#C8D4E3",
             "linecolor": "#C8D4E3",
             "minorgridcolor": "#C8D4E3",
             "startlinecolor": "#2a3f5f"
            },
            "baxis": {
             "endlinecolor": "#2a3f5f",
             "gridcolor": "#C8D4E3",
             "linecolor": "#C8D4E3",
             "minorgridcolor": "#C8D4E3",
             "startlinecolor": "#2a3f5f"
            },
            "type": "carpet"
           }
          ],
          "choropleth": [
           {
            "colorbar": {
             "outlinewidth": 0,
             "ticks": ""
            },
            "type": "choropleth"
           }
          ],
          "contour": [
           {
            "colorbar": {
             "outlinewidth": 0,
             "ticks": ""
            },
            "colorscale": [
             [
              0,
              "#0d0887"
             ],
             [
              0.1111111111111111,
              "#46039f"
             ],
             [
              0.2222222222222222,
              "#7201a8"
             ],
             [
              0.3333333333333333,
              "#9c179e"
             ],
             [
              0.4444444444444444,
              "#bd3786"
             ],
             [
              0.5555555555555556,
              "#d8576b"
             ],
             [
              0.6666666666666666,
              "#ed7953"
             ],
             [
              0.7777777777777778,
              "#fb9f3a"
             ],
             [
              0.8888888888888888,
              "#fdca26"
             ],
             [
              1,
              "#f0f921"
             ]
            ],
            "type": "contour"
           }
          ],
          "contourcarpet": [
           {
            "colorbar": {
             "outlinewidth": 0,
             "ticks": ""
            },
            "type": "contourcarpet"
           }
          ],
          "heatmap": [
           {
            "colorbar": {
             "outlinewidth": 0,
             "ticks": ""
            },
            "colorscale": [
             [
              0,
              "#0d0887"
             ],
             [
              0.1111111111111111,
              "#46039f"
             ],
             [
              0.2222222222222222,
              "#7201a8"
             ],
             [
              0.3333333333333333,
              "#9c179e"
             ],
             [
              0.4444444444444444,
              "#bd3786"
             ],
             [
              0.5555555555555556,
              "#d8576b"
             ],
             [
              0.6666666666666666,
              "#ed7953"
             ],
             [
              0.7777777777777778,
              "#fb9f3a"
             ],
             [
              0.8888888888888888,
              "#fdca26"
             ],
             [
              1,
              "#f0f921"
             ]
            ],
            "type": "heatmap"
           }
          ],
          "heatmapgl": [
           {
            "colorbar": {
             "outlinewidth": 0,
             "ticks": ""
            },
            "colorscale": [
             [
              0,
              "#0d0887"
             ],
             [
              0.1111111111111111,
              "#46039f"
             ],
             [
              0.2222222222222222,
              "#7201a8"
             ],
             [
              0.3333333333333333,
              "#9c179e"
             ],
             [
              0.4444444444444444,
              "#bd3786"
             ],
             [
              0.5555555555555556,
              "#d8576b"
             ],
             [
              0.6666666666666666,
              "#ed7953"
             ],
             [
              0.7777777777777778,
              "#fb9f3a"
             ],
             [
              0.8888888888888888,
              "#fdca26"
             ],
             [
              1,
              "#f0f921"
             ]
            ],
            "type": "heatmapgl"
           }
          ],
          "histogram": [
           {
            "marker": {
             "pattern": {
              "fillmode": "overlay",
              "size": 10,
              "solidity": 0.2
             }
            },
            "type": "histogram"
           }
          ],
          "histogram2d": [
           {
            "colorbar": {
             "outlinewidth": 0,
             "ticks": ""
            },
            "colorscale": [
             [
              0,
              "#0d0887"
             ],
             [
              0.1111111111111111,
              "#46039f"
             ],
             [
              0.2222222222222222,
              "#7201a8"
             ],
             [
              0.3333333333333333,
              "#9c179e"
             ],
             [
              0.4444444444444444,
              "#bd3786"
             ],
             [
              0.5555555555555556,
              "#d8576b"
             ],
             [
              0.6666666666666666,
              "#ed7953"
             ],
             [
              0.7777777777777778,
              "#fb9f3a"
             ],
             [
              0.8888888888888888,
              "#fdca26"
             ],
             [
              1,
              "#f0f921"
             ]
            ],
            "type": "histogram2d"
           }
          ],
          "histogram2dcontour": [
           {
            "colorbar": {
             "outlinewidth": 0,
             "ticks": ""
            },
            "colorscale": [
             [
              0,
              "#0d0887"
             ],
             [
              0.1111111111111111,
              "#46039f"
             ],
             [
              0.2222222222222222,
              "#7201a8"
             ],
             [
              0.3333333333333333,
              "#9c179e"
             ],
             [
              0.4444444444444444,
              "#bd3786"
             ],
             [
              0.5555555555555556,
              "#d8576b"
             ],
             [
              0.6666666666666666,
              "#ed7953"
             ],
             [
              0.7777777777777778,
              "#fb9f3a"
             ],
             [
              0.8888888888888888,
              "#fdca26"
             ],
             [
              1,
              "#f0f921"
             ]
            ],
            "type": "histogram2dcontour"
           }
          ],
          "mesh3d": [
           {
            "colorbar": {
             "outlinewidth": 0,
             "ticks": ""
            },
            "type": "mesh3d"
           }
          ],
          "parcoords": [
           {
            "line": {
             "colorbar": {
              "outlinewidth": 0,
              "ticks": ""
             }
            },
            "type": "parcoords"
           }
          ],
          "pie": [
           {
            "automargin": true,
            "type": "pie"
           }
          ],
          "scatter": [
           {
            "fillpattern": {
             "fillmode": "overlay",
             "size": 10,
             "solidity": 0.2
            },
            "type": "scatter"
           }
          ],
          "scatter3d": [
           {
            "line": {
             "colorbar": {
              "outlinewidth": 0,
              "ticks": ""
             }
            },
            "marker": {
             "colorbar": {
              "outlinewidth": 0,
              "ticks": ""
             }
            },
            "type": "scatter3d"
           }
          ],
          "scattercarpet": [
           {
            "marker": {
             "colorbar": {
              "outlinewidth": 0,
              "ticks": ""
             }
            },
            "type": "scattercarpet"
           }
          ],
          "scattergeo": [
           {
            "marker": {
             "colorbar": {
              "outlinewidth": 0,
              "ticks": ""
             }
            },
            "type": "scattergeo"
           }
          ],
          "scattergl": [
           {
            "marker": {
             "colorbar": {
              "outlinewidth": 0,
              "ticks": ""
             }
            },
            "type": "scattergl"
           }
          ],
          "scattermapbox": [
           {
            "marker": {
             "colorbar": {
              "outlinewidth": 0,
              "ticks": ""
             }
            },
            "type": "scattermapbox"
           }
          ],
          "scatterpolar": [
           {
            "marker": {
             "colorbar": {
              "outlinewidth": 0,
              "ticks": ""
             }
            },
            "type": "scatterpolar"
           }
          ],
          "scatterpolargl": [
           {
            "marker": {
             "colorbar": {
              "outlinewidth": 0,
              "ticks": ""
             }
            },
            "type": "scatterpolargl"
           }
          ],
          "scatterternary": [
           {
            "marker": {
             "colorbar": {
              "outlinewidth": 0,
              "ticks": ""
             }
            },
            "type": "scatterternary"
           }
          ],
          "surface": [
           {
            "colorbar": {
             "outlinewidth": 0,
             "ticks": ""
            },
            "colorscale": [
             [
              0,
              "#0d0887"
             ],
             [
              0.1111111111111111,
              "#46039f"
             ],
             [
              0.2222222222222222,
              "#7201a8"
             ],
             [
              0.3333333333333333,
              "#9c179e"
             ],
             [
              0.4444444444444444,
              "#bd3786"
             ],
             [
              0.5555555555555556,
              "#d8576b"
             ],
             [
              0.6666666666666666,
              "#ed7953"
             ],
             [
              0.7777777777777778,
              "#fb9f3a"
             ],
             [
              0.8888888888888888,
              "#fdca26"
             ],
             [
              1,
              "#f0f921"
             ]
            ],
            "type": "surface"
           }
          ],
          "table": [
           {
            "cells": {
             "fill": {
              "color": "#EBF0F8"
             },
             "line": {
              "color": "white"
             }
            },
            "header": {
             "fill": {
              "color": "#C8D4E3"
             },
             "line": {
              "color": "white"
             }
            },
            "type": "table"
           }
          ]
         },
         "layout": {
          "annotationdefaults": {
           "arrowcolor": "#2a3f5f",
           "arrowhead": 0,
           "arrowwidth": 1
          },
          "autotypenumbers": "strict",
          "coloraxis": {
           "colorbar": {
            "outlinewidth": 0,
            "ticks": ""
           }
          },
          "colorscale": {
           "diverging": [
            [
             0,
             "#8e0152"
            ],
            [
             0.1,
             "#c51b7d"
            ],
            [
             0.2,
             "#de77ae"
            ],
            [
             0.3,
             "#f1b6da"
            ],
            [
             0.4,
             "#fde0ef"
            ],
            [
             0.5,
             "#f7f7f7"
            ],
            [
             0.6,
             "#e6f5d0"
            ],
            [
             0.7,
             "#b8e186"
            ],
            [
             0.8,
             "#7fbc41"
            ],
            [
             0.9,
             "#4d9221"
            ],
            [
             1,
             "#276419"
            ]
           ],
           "sequential": [
            [
             0,
             "#0d0887"
            ],
            [
             0.1111111111111111,
             "#46039f"
            ],
            [
             0.2222222222222222,
             "#7201a8"
            ],
            [
             0.3333333333333333,
             "#9c179e"
            ],
            [
             0.4444444444444444,
             "#bd3786"
            ],
            [
             0.5555555555555556,
             "#d8576b"
            ],
            [
             0.6666666666666666,
             "#ed7953"
            ],
            [
             0.7777777777777778,
             "#fb9f3a"
            ],
            [
             0.8888888888888888,
             "#fdca26"
            ],
            [
             1,
             "#f0f921"
            ]
           ],
           "sequentialminus": [
            [
             0,
             "#0d0887"
            ],
            [
             0.1111111111111111,
             "#46039f"
            ],
            [
             0.2222222222222222,
             "#7201a8"
            ],
            [
             0.3333333333333333,
             "#9c179e"
            ],
            [
             0.4444444444444444,
             "#bd3786"
            ],
            [
             0.5555555555555556,
             "#d8576b"
            ],
            [
             0.6666666666666666,
             "#ed7953"
            ],
            [
             0.7777777777777778,
             "#fb9f3a"
            ],
            [
             0.8888888888888888,
             "#fdca26"
            ],
            [
             1,
             "#f0f921"
            ]
           ]
          },
          "colorway": [
           "#636efa",
           "#EF553B",
           "#00cc96",
           "#ab63fa",
           "#FFA15A",
           "#19d3f3",
           "#FF6692",
           "#B6E880",
           "#FF97FF",
           "#FECB52"
          ],
          "font": {
           "color": "#2a3f5f"
          },
          "geo": {
           "bgcolor": "white",
           "lakecolor": "white",
           "landcolor": "white",
           "showlakes": true,
           "showland": true,
           "subunitcolor": "#C8D4E3"
          },
          "hoverlabel": {
           "align": "left"
          },
          "hovermode": "closest",
          "mapbox": {
           "style": "light"
          },
          "paper_bgcolor": "white",
          "plot_bgcolor": "white",
          "polar": {
           "angularaxis": {
            "gridcolor": "#EBF0F8",
            "linecolor": "#EBF0F8",
            "ticks": ""
           },
           "bgcolor": "white",
           "radialaxis": {
            "gridcolor": "#EBF0F8",
            "linecolor": "#EBF0F8",
            "ticks": ""
           }
          },
          "scene": {
           "xaxis": {
            "backgroundcolor": "white",
            "gridcolor": "#DFE8F3",
            "gridwidth": 2,
            "linecolor": "#EBF0F8",
            "showbackground": true,
            "ticks": "",
            "zerolinecolor": "#EBF0F8"
           },
           "yaxis": {
            "backgroundcolor": "white",
            "gridcolor": "#DFE8F3",
            "gridwidth": 2,
            "linecolor": "#EBF0F8",
            "showbackground": true,
            "ticks": "",
            "zerolinecolor": "#EBF0F8"
           },
           "zaxis": {
            "backgroundcolor": "white",
            "gridcolor": "#DFE8F3",
            "gridwidth": 2,
            "linecolor": "#EBF0F8",
            "showbackground": true,
            "ticks": "",
            "zerolinecolor": "#EBF0F8"
           }
          },
          "shapedefaults": {
           "line": {
            "color": "#2a3f5f"
           }
          },
          "ternary": {
           "aaxis": {
            "gridcolor": "#DFE8F3",
            "linecolor": "#A2B1C6",
            "ticks": ""
           },
           "baxis": {
            "gridcolor": "#DFE8F3",
            "linecolor": "#A2B1C6",
            "ticks": ""
           },
           "bgcolor": "white",
           "caxis": {
            "gridcolor": "#DFE8F3",
            "linecolor": "#A2B1C6",
            "ticks": ""
           }
          },
          "title": {
           "x": 0.05
          },
          "xaxis": {
           "automargin": true,
           "gridcolor": "#EBF0F8",
           "linecolor": "#EBF0F8",
           "ticks": "",
           "title": {
            "standoff": 15
           },
           "zerolinecolor": "#EBF0F8",
           "zerolinewidth": 2
          },
          "yaxis": {
           "automargin": true,
           "gridcolor": "#EBF0F8",
           "linecolor": "#EBF0F8",
           "ticks": "",
           "title": {
            "standoff": 15
           },
           "zerolinecolor": "#EBF0F8",
           "zerolinewidth": 2
          }
         }
        },
        "xaxis": {
         "anchor": "y",
         "domain": [
          0,
          1
         ],
         "title": {
          "text": "37D->2D TSNE1"
         }
        },
        "yaxis": {
         "anchor": "x",
         "domain": [
          0,
          1
         ],
         "title": {
          "text": "37D->2D TSNE2"
         }
        }
       }
      }
     },
     "metadata": {},
     "output_type": "display_data"
    }
   ],
   "source": [
    "allD.showOutliersDBSCAN()"
   ]
  },
  {
   "cell_type": "code",
   "execution_count": 30,
   "metadata": {
    "ExecuteTime": {
     "end_time": "2023-03-28T14:51:17.746549Z",
     "start_time": "2023-03-28T14:51:17.710641Z"
    },
    "collapsed": false
   },
   "outputs": [],
   "source": [
    "allD.updateOutliersList()"
   ]
  },
  {
   "cell_type": "code",
   "execution_count": 31,
   "metadata": {
    "ExecuteTime": {
     "end_time": "2023-03-28T14:51:19.657990Z",
     "start_time": "2023-03-28T14:51:19.120913Z"
    },
    "collapsed": false
   },
   "outputs": [
    {
     "name": "stdout",
     "output_type": "stream",
     "text": [
      "Outlier W1.5 Mo6.33 Co1 Ni1.83 Al6 | W9 Mo38 Co6 Ni11 Al36     | Co6W9Al36Mo38Ni11\n",
      "matched to:  Adam Krajewski       upload from DOI 10.1038/s41467-019-10533-1 \n",
      "\n",
      "Outlier Ti1 Nb1 Ag1 Zn1 Al1       | Ti20 Nb20 Ag20 Zn20 Al20  | AgAlNbTiZn\n",
      "matched to:  Adam Krajewski       upload from DOI 10.1016/j.msea.2018.12.020 \n",
      "\n",
      "Outlier Ti1 V23 Cr1               | Ti4 V92 Cr4               | V92 Cr4 Ti4\n",
      "matched to:  Marcia Ahn           upload from DOI Natesan_2002_UniaxialCreepBehavior at position F2 \n",
      "\n",
      "Outlier Nb8 W2.33 Cr1 Co11 Al11   | Nb24 W7 Cr3 Co33 Al33     | Co33W07Al33Nb24Cr03\n",
      "matched to:  Adam Krajewski       upload from DOI 10.1038/s41467-019-10533-1 \n",
      "\n",
      "Outlier Be2.25 Zr4.12 Ti1.38 Ni1 Cu1.25 | Be22.5 Zr41.2 Ti13.8 Ni10 Cu12.5 | Zr41.2 Ti13.8 Cu12.5 Ni10 Be22.5\n",
      "matched to:  Hui Sun              upload from DOI 10.1016/j.scriptamat.2013.05.020 at position T1 \n",
      "\n",
      "Outlier Zr30.5 Ti1 Cu12.5 Al6     | Zr61 Ti2 Cu25 Al12        | Zr61Ti2Cu25Al12\n",
      "matched to:  Hui Sun              upload from DOI 10.1007/s11837-015-1563-9 at position T2 \n",
      "\n",
      "Outlier Zr2 W1 C2                 | Zr40 W20 C40              | W0.5ZrC\n",
      "matched to:  Shuang Lin           upload from DOI 10.1038/srep16014 at position T1 \n",
      "\n",
      "Outlier Hf1 Zr1 Ti1 Ta1 C4        | Hf12.5 Zr12.5 Ti12.5 Ta12.5 C50 | (Zr0.25Hf0.25Ta0.25Ti0.25)C\n",
      "matched to:  Hui Sun              upload from DOI 10.1007/s11661-020-06034-2 at position P2 \n",
      "\n",
      "Outlier Ta8 Ir7 Ni4 B1            | Ta40 Ir35 Ni20 B5         | Ir35Ni20Ta40B5\n",
      "matched to:  Shuang Lin           upload from DOI 10.1103/PhysRevMaterials.5.040301 at position T6 \n",
      "\n",
      "Outlier Li2 Mg1 Sc2 Ti3 Al2       | Li20 Mg10 Sc20 Ti30 Al20  | AlLiMg0.5ScTi1.5\n",
      "matched to:  Adam Krajewski       upload from DOI 10.1080/21663831.2014.985855 \n",
      "\n",
      "Outlier Zr1 Ta2.13 Ru3.53         | Zr15 Ta32 Ru53            | Ru53 Ta32 Zr15 \n",
      "matched to:  Marcia Ahn           upload from DOI 10.1016/j.apsusc.2015.06.144 at position T3 \n",
      "\n",
      "Outlier Ti32 Ta1 Nb9 Cr19 Co39    | Ti32 Ta1 Nb9 Cr19 Co39    | Ti32Nb9Ta01Cr19Co39\n",
      "matched to:  Adam Krajewski       upload from DOI 10.1038/s41467-019-10533-1 \n",
      "\n",
      "Outlier Ti4.5 Ta6 Nb15 Co1 Ni23.5 | Ti9 Ta12 Nb30 Co2 Ni47    | Ni47Co02Ta12Ti9Nb30\n",
      "matched to:  Adam Krajewski       upload from DOI 10.1038/s41467-019-10533-1 \n",
      "\n",
      "Outlier Hf3 Mo1 B14 Si10          | Hf10.7 Mo3.6 B50 Si35.7   | MoSi10B14Hf3\n",
      "matched to:  Shuang Lin           upload from DOI 10.1016/j.msea.2011.11.001 at position T1 \n",
      "\n",
      "Outlier Zr1.27 Ta1.07 Ru1         | Zr38 Ta32 Ru30            | Zr38 Ta32 Ru30\n",
      "matched to:  Marcia Ahn           upload from DOI 10.1016/j.apsusc.2015.06.144 at position T3 \n",
      "\n",
      "Outlier Nb1 V5.5 W4.5 Mo1         | Nb8.3 V45.8 W37.5 Mo8.3   | V11Nb2Mo2W9\n",
      "matched to:  Happy Researcher     upload from DOI 10.1016-j.actamat.2021.116800 at position T3 \n",
      "\n",
      "Outlier W1 Re6 Fe2 Ni8            | W5.9 Re35.3 Fe11.8 Ni47.1 | WNi8Fe2Re6\n",
      "matched to:  Shuang Lin           upload from DOI 10.3390/ma14071660 at position T2 \n",
      "\n",
      "Found 17 outlier data sources from all uploaded data.\n"
     ]
    }
   ],
   "source": [
    "allD.findOutlierDataSources();"
   ]
  },
  {
   "cell_type": "code",
   "execution_count": null,
   "metadata": {},
   "outputs": [],
   "source": []
  },
  {
   "cell_type": "code",
   "execution_count": null,
   "metadata": {},
   "outputs": [],
   "source": []
  }
 ],
 "metadata": {
  "kernelspec": {
   "display_name": "Python 3",
   "language": "python",
   "name": "python3"
  },
  "language_info": {
   "codemirror_mode": {
    "name": "ipython",
    "version": 3
   },
   "file_extension": ".py",
   "mimetype": "text/x-python",
   "name": "python",
   "nbconvert_exporter": "python",
   "pygments_lexer": "ipython3",
   "version": "3.11.10"
  }
 },
 "nbformat": 4,
 "nbformat_minor": 0
}

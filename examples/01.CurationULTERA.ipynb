{
 "cells": [
  {
   "cell_type": "markdown",
   "metadata": {
    "collapsed": false
   },
   "source": [
    "# PyQAlloy Basic Usage Examples (over the ULTERA Database)\n",
    "\n",
    "**Welcome to this minimal Jupyter notebook tutorial that shows how to use the PyQAlloy package functions over an established dataset following the expected schema (of the ULTERA Database). It showcases PyQAlloy's deployment over an older snapshot (`CURATED_Dec2022` collection in `ULTERA_internal` sub-database) to curate the dataset with all core methods:**\n",
    "- [Single Composition Analyzer](#Single-Composition-Analyzer) which operates within scope of a single composition, i.e., does not require any study reference, property data, or other compositions from the database.\n",
    "- [Single DOI Analyzer](#Single-DOI-Analyzer) which operates within scope of a single study / reference, which should ideally be a DOI, putting many compositions and properties together.\n",
    "- [All Data (Entire Database) Analyzer](#All-Data-(Entire-Database)-Analyzer) which operates within the scope of the entire database, leveraging multi-study patterns and relationships to curate the data.\n",
    "\n",
    "**Please note that to execute run this notebook, you need to have API credentials either stored in `credentials.json` file, set using `pyqalloy.setCredentials`, or set using `pyqalloy.setCredentialsFromURI`. If you don't have them, you can still follow it along looking at the pre-computed results to learn the usage of `PyQAlloy` over static and explained results.** Tutorials 2 and 3 will later show you how to use a static snapshot of a database (in-memory) and how to use the PyQAlloy package to curate your data conforming to the ULTERA schema standards.\n",
    "\n",
    "Let's start by:\n",
    "- Setting up the ULTERA API credentials. \n",
    "- Importing the `analysis` submodule from `pyqalloy`."
   ]
  },
  {
   "cell_type": "code",
   "execution_count": null,
   "metadata": {},
   "outputs": [],
   "source": [
    "from pyqalloy import setCredentials\n",
    "\n",
    "# Once again, if you don't have them, you can still follow along looking at the pre-computed results in this notebook - just don't run the cells.\n",
    "setCredentials(\n",
    "    name='myname',\n",
    "    dbKey='mydbkey',\n",
    "    dataServer='mycluster.h20x21.mongodb.net'\n",
    ")"
   ]
  },
  {
   "cell_type": "code",
   "execution_count": 1,
   "metadata": {},
   "outputs": [],
   "source": [
    "# All relevant classes for this tutorial are in the analysis submodule\n",
    "from pyqalloy.curation import analysis"
   ]
  },
  {
   "cell_type": "markdown",
   "metadata": {},
   "source": [
    "## Single Composition Analyzer\n",
    "\n",
    "Mehtods of the `SingleCompositionAnalyzer` class explicitly operate within the scope of a single composition, i.e., interpretation of a chemical formula stored in the database and then parsed into several formats (raw, fractional, percentile, relational) defined in ULTERA. \n",
    "\n",
    "In the context of compositionally complex materials (CCMs), like multi-principle element alloys (MPEAs), high-entropy alloys (HEAs), high-entropy ceramics (HECs), Ni-based superalloys, or advanced steels, the most powerful (yet simple) method is the `scanCompositionsAround100` method which, as the name suggests, scans looking for compositions that sum to around `100%` (or `1` in fractional form), yet not exactly `100%`; thus, suggesting either (a) parsing errors or (b) normalization errors.\n",
    "\n",
    "Start by setting up a `SingleCompositionAnalyzer` object called, e.g. `sC`. By default, it will connect to the `'ULTERA_internal'` database's `'CURATED_Dec2022'` collection we use for demonstration purposes in PyQAlloy as of `v0.4.0`."
   ]
  },
  {
   "cell_type": "code",
   "execution_count": 2,
   "metadata": {
    "ExecuteTime": {
     "end_time": "2023-03-28T12:56:42.761768Z",
     "start_time": "2023-03-28T12:56:42.435086Z"
    },
    "collapsed": false
   },
   "outputs": [
    {
     "name": "stdout",
     "output_type": "stream",
     "text": [
      "Loading the database credentials from default location: /Users/adam/VSCode Projects/PyQAlloy-1/pyqalloy/credentials.json\n",
      "Connected to the CURATED_Dec2022 in ULTERA_internal with 6073 data points detected.\n"
     ]
    }
   ],
   "source": [
    "sC = analysis.SingleCompositionAnalyzer()"
   ]
  },
  {
   "cell_type": "markdown",
   "metadata": {},
   "source": [
    "However, you can easily point it to another database, by pointing it to a MongoDB-compatible Collection object or custom server by providing custom `collection`, `database`, and `credentialsFile` arguments, as shown in the commented-out line below."
   ]
  },
  {
   "cell_type": "code",
   "execution_count": 3,
   "metadata": {},
   "outputs": [],
   "source": [
    "# sC = analysis.SingleCompositionAnalyzer(collectionManualOverride=my_mongo_collection_obejct)\n",
    "# sC = analysis.SingleCompositionAnalyzer(database='mydatabase', collection='mycollection', credentialsFile='../mycredentials.json')"
   ]
  },
  {
   "cell_type": "markdown",
   "metadata": {
    "collapsed": false
   },
   "source": [
    "Once connected, the use is quite straightforward and the default values tend to work well for most cases. Start by scanning through all the compositions with `scanCompositionsAround100`, described earlier, looking for the the fraction sums that are close to `100%` but not exactly `100%`. To keep things simple, you can request to limit the results up to `10` results and print them to the console on the fly, so you that you can just visually inspect them as you go."
   ]
  },
  {
   "cell_type": "code",
   "execution_count": 4,
   "metadata": {},
   "outputs": [
    {
     "name": "stdout",
     "output_type": "stream",
     "text": [
      "DOI: 10.1016/j.msea.2017.04.111\n",
      "F:   Cr19 Fe19 Co19 Ni37 Cu4 Al4\n",
      "PF:  Cr18.6 Fe18.6 Co18.6 Ni36.3 Cu3.9 Al3.9\n",
      "Raw:  Al4Co19Cr19Cu4Fe19Ni37\n",
      "RF:  Cr4.75 Fe4.75 Co4.75 Ni9.25 Cu1 Al1\n",
      "[19.0, 19.0, 19.0, 37.0, 4.0, 4.0]\n",
      "-->  102.0\n",
      "\n",
      "DOI: 10.3390/ma12071136\n",
      "F:   Li38 Ca1 Mg48 Al15 Si1\n",
      "PF:  Li36.9 Ca1 Mg46.6 Al14.6 Si1\n",
      "Raw:  Al15Li38Mg48Ca1 Si1\n",
      "RF:  Li38 Ca1 Mg48 Al15 Si1\n",
      "[38.0, 1.0, 48.0, 15.0, 1.0]\n",
      "-->  103.0\n",
      "\n",
      "DOI: 10.1016/j.msea.2012.04.067  --> F9\n",
      "F:   Hf1.4 Zr0.007 Ti0.4 Ta3.3 W9.4 Mo0.5 Cr8.1 Co9.3 Ni61.5 Al5.7 B0.017 C0.07\n",
      "PF:  Hf1.4 Zr0 Ti0.4 Ta3.3 W9.4 Mo0.5 Cr8.1 Co9.3 Ni61.7 Al5.7 B0 C0.1\n",
      "Raw:  Ni61.5 W9.4 Co9.3 Cr8.1 Al5.7 Ta3.3 Hf1.4 Ti0.4 Mo0.5 C0.07 B0.017 Zr0.007\n",
      "RF:  Hf2.8 Zr0.01 Ti0.8 Ta6.6 W18.8 Mo1 Cr16.2 Co18.6 Ni123 Al11.4 B0.03 C0.14\n",
      "[1.4, 0.007, 0.4, 3.3, 9.4, 0.5, 8.1, 9.3, 61.5, 5.7, 0.017, 0.07]\n",
      "-->  99.694\n",
      "\n",
      "DOI: 10.1016/j.ijfatigue.2018.08.029  --> T6\n",
      "F:   Ti86.2 V3.15 Al10.2\n",
      "PF:  Ti86.6 V3.2 Al10.2\n",
      "Raw:  Ti86.2 Al10.2 V3.15\n",
      "RF:  Ti27.37 V1 Al3.24\n",
      "[86.2, 3.15, 10.2]\n",
      "-->  99.55\n",
      "\n",
      "DOI: 10.1016/j.actamat.2016.06.063\n",
      "F:   Mo7 Cr23 Fe23 Co23 Ni23\n",
      "PF:  Mo7.1 Cr23.2 Fe23.2 Co23.2 Ni23.2\n",
      "Raw:  Co23Cr23Fe23Ni23Mo7\n",
      "RF:  Mo1 Cr3.29 Fe3.29 Co3.29 Ni3.29\n",
      "[7.0, 23.0, 23.0, 23.0, 23.0]\n",
      "-->  99.0\n",
      "\n",
      "DOI: 10.1016/j.actamat.2016.11.016\n",
      "F:   Cr16 Fe16 Co16 Ni34.4 Al16\n",
      "PF:  Cr16.3 Fe16.3 Co16.3 Ni35 Al16.3\n",
      "Raw:  Al16Co16Cr16Fe16Ni34.4\n",
      "RF:  Cr1 Fe1 Co1 Ni2.15 Al1\n",
      "[16.0, 16.0, 16.0, 34.4, 16.0]\n",
      "-->  98.4\n",
      "\n",
      "DOI: 10.1016/j.matlet.2017.04.072\n",
      "F:   Cr23 Fe23 Co23 Ni23 Al7\n",
      "PF:  Cr23.2 Fe23.2 Co23.2 Ni23.2 Al7.1\n",
      "Raw:  Al7Co23Cr23Fe23Ni23\n",
      "RF:  Cr3.29 Fe3.29 Co3.29 Ni3.29 Al1\n",
      "[23.0, 23.0, 23.0, 23.0, 7.0]\n",
      "-->  99.0\n",
      "\n",
      "DOI: 10.1016/j.msea.2016.11.019\n",
      "F:   Cr26 Fe26 Ni26 Al23\n",
      "PF:  Cr25.7 Fe25.7 Ni25.7 Al22.8\n",
      "Raw:  Al23Cr26Fe26Ni26\n",
      "RF:  Cr1.13 Fe1.13 Ni1.13 Al1\n",
      "[26.0, 26.0, 26.0, 23.0]\n",
      "-->  101.0\n",
      "\n",
      "DOI: Liu_1999_ProcessingAndHighTemperature  --> F2\n",
      "F:   Hf0.9 Mo91\n",
      "PF:  Hf1 Mo99\n",
      "Raw:  Mo91 Hf0.9\n",
      "RF:  Hf1 Mo101.11\n",
      "[0.9, 91.0]\n",
      "-->  91.9\n",
      "\n",
      "DOI: 10.1016/j.msea.2015.09.089\n",
      "F:   Cr17 Fe17 Ni33 Cu17 Al17\n",
      "PF:  Cr16.8 Fe16.8 Ni32.7 Cu16.8 Al16.8\n",
      "Raw:  Al17Cr17Cu17Fe17Ni33\n",
      "RF:  Cr1 Fe1 Ni1.94 Cu1 Al1\n",
      "[17.0, 17.0, 33.0, 17.0, 17.0]\n",
      "-->  101.0\n",
      "\n"
     ]
    }
   ],
   "source": [
    "sC.scanCompositionsAround100(resultLimit=10, printOnFly=True)"
   ]
  },
  {
   "cell_type": "markdown",
   "metadata": {},
   "source": [
    "You should now see a number of suspecious compositions! For each of them, we get:\n",
    "- `DOI` of the study where the composition was found.\n",
    "- `F` is the interpreted formula created by parsing the chemical formula string provided in the uploaded data.\n",
    "- `PF` is the percentile formula, where all the elements have been normalized to sum to `100%`.\n",
    "- `Raw` is the raw formula provided in the uploaded data, from which the `F`/`PF`/`RF` were derived.\n",
    "- `RF` is the relational formula, where the element ratios are normalized to the lest common one, conveniently expressing relative ratios.\n",
    "\n",
    "Let's have a quick look at three of them!\n",
    "\n",
    "1. The fist, coming from `10.1016/j.msea.2017.04.111`, sums to `102%`. A quick comparison between `F` and `PF` shows that the formula has probably been approximated too much, in order to match `1%` quantization, while it was originally designed to be relational. A quick journey to the abstract of the paper confirms that - it was `Al0.2CrFeCoNi2Cu0.2` or `AlCr5Fe5Co5Ni10Cu1` in the relational form. Comparing that to the `RF` of the database entry, we can quickly see that the fractions of Cu and Al are overestimated, while the rest is underestimated, with Ni being underestimated the most.\n",
    "\n",
    "2. Next one, coming from `10.3390/ma12071136` may seem to follow a similar problem at first, but it is more trivial. A quick look at the abstract reveals that the studies formula was `Al15Li35Mg48Ca1Si1` and someone parsing the publication typed `Li38` instead of `Li35` because the next fraction `Mg48` ended with `8` and human brains are prone to repetition.\n",
    "\n",
    "3. Lastly, the one from `10.1016/j.msea.2012.04.067` adds up to `99.694`, which tipped of the detection algorithm under the `0.2%` uncertainty threshold, but could be accounted as a rounding error without significant effect on the ratio of the elements in the composition and could be considered as a false-positive."
   ]
  },
  {
   "cell_type": "markdown",
   "metadata": {
    "collapsed": false
   },
   "source": [
    "Now, if you saw a lot of anomalies detected which seem like rounding errors, you can re-initialize the `sC` object and run again with custom settings (e.g., `uncertainty=1`, i.e., `+/-1%` passed as close enough to `100%`). There are quite a few settings you can modify, so feel free to explore the documentation or ask for help if you need it."
   ]
  },
  {
   "cell_type": "code",
   "execution_count": 5,
   "metadata": {
    "ExecuteTime": {
     "end_time": "2023-03-28T12:56:47.303422Z",
     "start_time": "2023-03-28T12:56:44.388396Z"
    },
    "collapsed": false
   },
   "outputs": [
    {
     "name": "stdout",
     "output_type": "stream",
     "text": [
      "Loading the database credentials from default location: /Users/adam/VSCode Projects/PyQAlloy-1/pyqalloy/credentials.json\n",
      "Connected to the CURATED_Dec2022 in ULTERA_internal with 6073 data points detected.\n",
      "DOI: 10.1016/j.msea.2017.04.111\n",
      "F:   Cr19 Fe19 Co19 Ni37 Cu4 Al4\n",
      "PF:  Cr18.6 Fe18.6 Co18.6 Ni36.3 Cu3.9 Al3.9\n",
      "Raw:  Al4Co19Cr19Cu4Fe19Ni37\n",
      "RF:  Cr4.75 Fe4.75 Co4.75 Ni9.25 Cu1 Al1\n",
      "[19.0, 19.0, 19.0, 37.0, 4.0, 4.0]\n",
      "-->  102.0\n",
      "\n",
      "DOI: 10.3390/ma12071136\n",
      "F:   Li38 Ca1 Mg48 Al15 Si1\n",
      "PF:  Li36.9 Ca1 Mg46.6 Al14.6 Si1\n",
      "Raw:  Al15Li38Mg48Ca1 Si1\n",
      "RF:  Li38 Ca1 Mg48 Al15 Si1\n",
      "[38.0, 1.0, 48.0, 15.0, 1.0]\n",
      "-->  103.0\n",
      "\n",
      "DOI: 10.1016/j.actamat.2016.11.016\n",
      "F:   Cr16 Fe16 Co16 Ni34.4 Al16\n",
      "PF:  Cr16.3 Fe16.3 Co16.3 Ni35 Al16.3\n",
      "Raw:  Al16Co16Cr16Fe16Ni34.4\n",
      "RF:  Cr1 Fe1 Co1 Ni2.15 Al1\n",
      "[16.0, 16.0, 16.0, 34.4, 16.0]\n",
      "-->  98.4\n",
      "\n",
      "DOI: Liu_1999_ProcessingAndHighTemperature  --> F2\n",
      "F:   Hf0.9 Mo91\n",
      "PF:  Hf1 Mo99\n",
      "Raw:  Mo91 Hf0.9\n",
      "RF:  Hf1 Mo101.11\n",
      "[0.9, 91.0]\n",
      "-->  91.9\n",
      "\n",
      "DOI: 10.1134/S2070205120040231  --> T2\n",
      "F:   Ta1 Nb0.103\n",
      "PF:  Ta90.7 Nb9.3\n",
      "Raw:  TaNb0.103\n",
      "RF:  Ta9.71 Nb1\n",
      "[1.0, 0.103]\n",
      "-->  1.103\n",
      "\n",
      "DOI: 10.1155/2019/2157592\n",
      "F:   Ti0.8 Mn28 Fe31 Ni15 Al24\n",
      "PF:  Ti0.8 Mn28.3 Fe31.4 Ni15.2 Al24.3\n",
      "Raw:  Fe31Mn28 Ni15Al24Ti0.8\n",
      "RF:  Ti1 Mn35 Fe38.75 Ni18.75 Al30\n",
      "[0.8, 28.0, 31.0, 15.0, 24.0]\n",
      "-->  98.8\n",
      "\n",
      "DOI: 10.1016/j.jmst.2014.09.011\n",
      "F:   Ti9 Cr18 Fe17 Ni33 Al18\n",
      "PF:  Ti9.5 Cr18.9 Fe17.9 Ni34.7 Al18.9\n",
      "Raw:  Al18Cr18Fe17Ni33Ti9\n",
      "RF:  Ti1 Cr2 Fe1.89 Ni3.67 Al2\n",
      "[9.0, 18.0, 17.0, 33.0, 18.0]\n",
      "-->  95.0\n",
      "\n",
      "DOI: 10.1016/j.actamat.2016.11.016\n",
      "F:   Cr17 Fe17 Co17 Ni33.3 Al17\n",
      "PF:  Cr16.8 Fe16.8 Co16.8 Ni32.9 Al16.8\n",
      "Raw:  Al17Cr17Co17Fe17Ni33.3\n",
      "RF:  Cr1 Fe1 Co1 Ni1.96 Al1\n",
      "[17.0, 17.0, 17.0, 33.3, 17.0]\n",
      "-->  101.3\n",
      "\n",
      "DOI: 10.1134/S0031918X17060084\n",
      "F:   V13 Cr17 Mn17 Fe17 Co17 Ni17\n",
      "PF:  V13.3 Cr17.3 Mn17.3 Fe17.3 Co17.3 Ni17.3\n",
      "Raw:  Co17Cr17Fe17Mn17Ni17V13\n",
      "RF:  V1 Cr1.31 Mn1.31 Fe1.31 Co1.31 Ni1.31\n",
      "[13.0, 17.0, 17.0, 17.0, 17.0, 17.0]\n",
      "-->  98.0\n",
      "\n",
      "DOI: 10.1134/S2070205120040231  --> T2\n",
      "F:   Ta1 W0.05\n",
      "PF:  Ta95.2 W4.8\n",
      "Raw:  TaW0.05\n",
      "RF:  Ta20 W1\n",
      "[1.0, 0.05]\n",
      "-->  1.05\n",
      "\n"
     ]
    }
   ],
   "source": [
    "sC = analysis.SingleCompositionAnalyzer()\n",
    "sC.scanCompositionsAround100(resultLimit=10, printOnFly=True, uncertainty=1)"
   ]
  },
  {
   "cell_type": "markdown",
   "metadata": {},
   "source": [
    "Now, you will more frequently see some \"far off\" cases that may require deeper interpretation. For instance:\n",
    "\n",
    "1. The `Ta1 Nb0.103` from `10.1134/S2070205120040231` sums to `1.103` and a quick look at its `RF` of `TaNb0.103` can point us to suspect that it was parsed from a formula like `Ta-Nb10`, where fraction of `Ta` has been implicit (being in fact `0.897`) and was not included when the formula was parsed, thus overestimating the fraction of `Ta`. Were did the `.3` come from then? A quick look at the abstract confirms the conjecture about implicit `Ta` fraction, but complicates things because the formulas were mass-based! To some surprise, if we then run another composition `Ta-Nb5` or `Ta95 N5 (wt%)` through `pymatgen` with `from pymatgen.core import Composition; print(Composition.from_weight_dict({'Ta': 0.95, 'Nb': 0.05}))` we get the `Ta90.7 Nb9.3` percentile formula `PyQAlloy` just presented to us based on the `Ta1 Nb0.103`; hence, the datapoint was actually correct all along because someone went to extended lenghts to adjust an implicit weight fraction based formula to a molar fraction relational formula!\n",
    "\n",
    "2. Going forward, the same study on `10.1134/S2070205120040231` appears again and one may be quick to dismiss it as another peticiular false-positive but just like in an M. Night Shyamalan's movie, there can be yet another plot twist comming, i.e, unlike in the last case, here the `RF` is integer based, so the conversion from implicit weight fraction based formula to a molar fraction relational formula is unlikely, what is confirmed when numbers are run - in the case of `Ta-W` system, the person parsing the paper forgot to apply the same method and data contains the error we suspected in the first place!"
   ]
  },
  {
   "cell_type": "markdown",
   "metadata": {
    "collapsed": false
   },
   "source": [
    "For more granular analysis, especially over larger collaborative databases, you may want to only look at compositions that a specific researcher uploaded by initilizing the `sC` with the `name` field specified. This time the `printOnFly` is set to `False`, so that the results are not printed on the fly, but rather stored inside `sC` object for further analysis."
   ]
  },
  {
   "cell_type": "code",
   "execution_count": 6,
   "metadata": {
    "ExecuteTime": {
     "end_time": "2023-03-28T12:56:48.962185Z",
     "start_time": "2023-03-28T12:56:47.304388Z"
    },
    "collapsed": false
   },
   "outputs": [
    {
     "name": "stdout",
     "output_type": "stream",
     "text": [
      "Loading the database credentials from default location: /Users/adam/VSCode Projects/PyQAlloy-1/pyqalloy/credentials.json\n",
      "Connected to the CURATED_Dec2022 in ULTERA_internal with 6073 data points detected.\n"
     ]
    }
   ],
   "source": [
    "sC = analysis.SingleCompositionAnalyzer(name='Adam Krajewski')\n",
    "sC.scanCompositionsAround100(\n",
    "    printOnFly=False, \n",
    "    resultLimit=100, \n",
    "    uncertainty=0.21)"
   ]
  },
  {
   "cell_type": "markdown",
   "metadata": {
    "collapsed": false
   },
   "source": [
    "Now, you can save that list into a file for later analysis!"
   ]
  },
  {
   "cell_type": "code",
   "execution_count": 7,
   "metadata": {},
   "outputs": [],
   "source": [
    "sC.writeResultsToFile('singleComp_Adam.txt')"
   ]
  },
  {
   "cell_type": "markdown",
   "metadata": {},
   "source": [
    "Or, you can also see them by accessing the internal `list` of `str` with result printouts. Let's have a look at the first three of them."
   ]
  },
  {
   "cell_type": "code",
   "execution_count": 8,
   "metadata": {
    "ExecuteTime": {
     "end_time": "2023-03-28T12:56:48.974801Z",
     "start_time": "2023-03-28T12:56:48.962642Z"
    },
    "collapsed": false
   },
   "outputs": [
    {
     "data": {
      "text/plain": [
       "['DOI: 10.1016/j.msea.2017.04.111\\nF:   Cr19 Fe19 Co19 Ni37 Cu4 Al4\\nPF:  Cr18.6 Fe18.6 Co18.6 Ni36.3 Cu3.9 Al3.9\\nRaw:  Al4Co19Cr19Cu4Fe19Ni37\\nRF:  Cr4.75 Fe4.75 Co4.75 Ni9.25 Cu1 Al1\\n[19.0, 19.0, 19.0, 37.0, 4.0, 4.0]\\n-->  102.0\\n',\n",
       " 'DOI: 10.3390/ma12071136\\nF:   Li38 Ca1 Mg48 Al15 Si1\\nPF:  Li36.9 Ca1 Mg46.6 Al14.6 Si1\\nRaw:  Al15Li38Mg48Ca1 Si1\\nRF:  Li38 Ca1 Mg48 Al15 Si1\\n[38.0, 1.0, 48.0, 15.0, 1.0]\\n-->  103.0\\n',\n",
       " 'DOI: 10.1016/j.actamat.2016.06.063\\nF:   Mo7 Cr23 Fe23 Co23 Ni23\\nPF:  Mo7.1 Cr23.2 Fe23.2 Co23.2 Ni23.2\\nRaw:  Co23Cr23Fe23Ni23Mo7\\nRF:  Mo1 Cr3.29 Fe3.29 Co3.29 Ni3.29\\n[7.0, 23.0, 23.0, 23.0, 23.0]\\n-->  99.0\\n']"
      ]
     },
     "execution_count": 8,
     "metadata": {},
     "output_type": "execute_result"
    }
   ],
   "source": [
    "sC.printOuts[:3]"
   ]
  },
  {
   "cell_type": "markdown",
   "metadata": {
    "collapsed": false
   },
   "source": [
    "## Single DOI Analyzer\n",
    "\n",
    "The next context in which we can look at the alloy data in a database is the `SingleDOIAnalyzer` class, which operates within the scope of a single study / reference, which should ideally be a DOI, putting many data points together. \n",
    "\n",
    "It also enables us to deploy more robust methods when it comes to detecting anomalies, including investigation of the distance between nearest neighbors in the compositional space and investigation of patterns they from once projected into lower dimensional spaces."
   ]
  },
  {
   "cell_type": "markdown",
   "metadata": {},
   "source": [
    "Let's start by picking some DOI present in the ULTERA database, like `10.1016/j.jallcom.2008.11.059`, and looking at the data coming from it. To do so, we will initialize the `dDOI` object with the DOI of interest."
   ]
  },
  {
   "cell_type": "code",
   "execution_count": 9,
   "metadata": {},
   "outputs": [],
   "source": [
    "from pyqalloy.curation import analysis"
   ]
  },
  {
   "cell_type": "code",
   "execution_count": 10,
   "metadata": {
    "ExecuteTime": {
     "end_time": "2023-03-28T12:56:49.200115Z",
     "start_time": "2023-03-28T12:56:48.965204Z"
    },
    "collapsed": false
   },
   "outputs": [
    {
     "name": "stdout",
     "output_type": "stream",
     "text": [
      "Loading the database credentials from default location: /Users/adam/VSCode Projects/PyQAlloy-1/pyqalloy/credentials.json\n",
      "Connected to the CURATED_Dec2022 in ULTERA_internal with 6073 data points detected.\n",
      "********  Analyzer Initialized  ********\n"
     ]
    }
   ],
   "source": [
    "doi = '10.1016/j.jallcom.2008.11.059'\n",
    "sDOI = analysis.SingleDOIAnalyzer(doi=doi)"
   ]
  },
  {
   "cell_type": "markdown",
   "metadata": {
    "collapsed": false
   },
   "source": [
    "In the later part of the tutorial, scanning all DOI will be covered. To get a list of all of them, you can call `get_allDOIs` function on any `SingleDOIAnalyzer` object (even initialized without the `doi` field) and store this list for later use. "
   ]
  },
  {
   "cell_type": "code",
   "execution_count": 11,
   "metadata": {
    "ExecuteTime": {
     "end_time": "2023-03-28T12:56:49.283098Z",
     "start_time": "2023-03-28T12:56:49.200764Z"
    },
    "collapsed": false
   },
   "outputs": [],
   "source": [
    "doiList = sDOI.get_allDOIs()"
   ]
  },
  {
   "cell_type": "markdown",
   "metadata": {
    "collapsed": false
   },
   "source": [
    "### NN Distance Analysis\n",
    "\n",
    "First, let's analyze distances between all the compositions in the specified publication and print them out. \n",
    "\n",
    "You will see the L1 distances in the compositional space displayed in the form of (left) absolute value and (right) normalized to maximum value."
   ]
  },
  {
   "cell_type": "code",
   "execution_count": 12,
   "metadata": {
    "ExecuteTime": {
     "end_time": "2023-03-28T12:56:49.345392Z",
     "start_time": "2023-03-28T12:56:49.284188Z"
    },
    "collapsed": false
   },
   "outputs": [
    {
     "name": "stdout",
     "output_type": "stream",
     "text": [
      "--->  10.1016/j.jallcom.2008.11.059\n",
      "0.0866    |  0.9524     <-- F: Ti0.5 Cr1 Fe1 Co1 Ni1 Cu0.5 Al0.5   | PF: Ti9.1 Cr18.2 Fe18.2 Co18.2 Ni18.2 Cu9.1 Al9.1  | Raw: Al0.5CoCrCu0.5FeNiTi0.5   | RF: Ti1 Cr2 Fe2 Co2 Ni2 Cu1 Al1\n",
      "0.0909    |  1.0        <-- F: Ti0.5 Cr1 Fe1 Co1 Ni1 Cu0.25 Al0.75 | PF: Ti9.1 Cr18.2 Fe18.2 Co18.2 Ni18.2 Cu4.5 Al13.6 | Raw: Al0.75CoCrCu0.25FeNiTi0.5 | RF: Ti2 Cr4 Fe4 Co4 Ni4 Cu1 Al3\n",
      "0.0823    |  0.9048     <-- F: Ti0.5 Cr1 Fe1 Co1 Ni1 Cu0.75 Al0.25 | PF: Ti9.1 Cr18.2 Fe18.2 Co18.2 Ni18.2 Cu13.6 Al4.5 | Raw: Al0.25CoCrCu0.75FeNiTi0.5 | RF: Ti2 Cr4 Fe4 Co4 Ni4 Cu3 Al1\n",
      "0.0909    |  1.0        <-- F: Ti0.5 Cr1 Fe1 Co1 Ni1 Cu1           | PF: Ti9.1 Cr18.2 Fe18.2 Co18.2 Ni18.2 Cu18.2       | Raw: CoCrCuFeNiTi0.5           | RF: Ti1 Cr2 Fe2 Co2 Ni2 Cu2    \n",
      "0.0823    |  0.9048     <-- F: Ti0.5 Cr1 Fe1 Co1 Ni1 Cu0.5 Al0.25  | PF: Ti9.5 Cr19 Fe19 Co19 Ni19 Cu9.5 Al4.8          | Raw: Al0.25CoCrCu0.5FeNiTi0.5  | RF: Ti2 Cr4 Fe4 Co4 Ni4 Cu2 Al1\n",
      "\n",
      "\n"
     ]
    }
   ],
   "source": [
    "sDOI.analyze_nnDistances()\n",
    "sDOI.print_nnDistances()"
   ]
  },
  {
   "cell_type": "markdown",
   "metadata": {},
   "source": [
    "The left one is primarily useful for understanding if the distances follow expectations, i.e., are not too low (e.g. 0.001%) or too high, while the right distance metric is useful for gauging the consistency of the data, i.e., is it roughly uniformly spaced or some point appear to be missing or out-of-order far.\n",
    "\n",
    "In the case of the first DOI we looked at, the `'10.1016/j.jallcom.2008.11.059'`, we see that all of them are consistently spaced by around `9%`, what matches our"
   ]
  },
  {
   "cell_type": "markdown",
   "metadata": {
    "collapsed": false
   },
   "source": [
    "You can also set the name of the researcher to get the same results, but only if they have contributed to the data reported for the study of interest, i.e., they are points of contact if the data appears to be abnormal or needs corrections."
   ]
  },
  {
   "cell_type": "code",
   "execution_count": 15,
   "metadata": {
    "ExecuteTime": {
     "end_time": "2023-03-28T12:56:49.350885Z",
     "start_time": "2023-03-28T12:56:49.348882Z"
    },
    "collapsed": false
   },
   "outputs": [],
   "source": [
    "sDOI.setName('Zi-Kui')"
   ]
  },
  {
   "cell_type": "code",
   "execution_count": 16,
   "metadata": {
    "ExecuteTime": {
     "end_time": "2023-03-28T12:56:49.403787Z",
     "start_time": "2023-03-28T12:56:49.350594Z"
    },
    "collapsed": false
   },
   "outputs": [
    {
     "name": "stdout",
     "output_type": "stream",
     "text": [
      "Skipping 10.1016/j.jallcom.2008.11.059. Specified researcher (Zi-Kui) not present in the group ({'Adam Krajewski'})\n",
      "\n"
     ]
    }
   ],
   "source": [
    "sDOI.analyze_nnDistances()\n",
    "sDOI.print_nnDistances()"
   ]
  },
  {
   "cell_type": "markdown",
   "metadata": {},
   "source": [
    "If you are iterating over many DOI, you may not want to see all the verbose output if there is nothing to analyze. In that case, you can set the `skipFailed=True` to mute the output."
   ]
  },
  {
   "cell_type": "code",
   "execution_count": 17,
   "metadata": {},
   "outputs": [],
   "source": [
    "sDOI.analyze_nnDistances()\n",
    "sDOI.print_nnDistances(skipFailed=True)"
   ]
  },
  {
   "cell_type": "markdown",
   "metadata": {},
   "source": [
    "We can now set the name to match any of the researchers by setting it to `None` and iterate over the list of all DOIs to get the distances present in each individual study. Let's go over 20 studies between `50`th and `70`th DOI in the database snapshot, which were tested before preparing this tutorial and are known to contain some interesting patterns.\n",
    "\n",
    "To skip over some of the DOIs for which the data is less likely to be anomalous, we can apply a couple additional options that filter for certain patterns. For instance, `skipNearEquidistant` let's us focus on studies in which the spacing was not uniform (distance is over `nearEquidistantThreshold` fraction of the maximum one for all)."
   ]
  },
  {
   "cell_type": "code",
   "execution_count": 18,
   "metadata": {},
   "outputs": [
    {
     "name": "stdout",
     "output_type": "stream",
     "text": [
      "--->  10.3390/ma14071660\n",
      "0.0488    |  0.078      <-- F: W1 Fe2.1 Ni4.9       | PF: W12.5 Fe26.2 Ni61.3       | Raw: WNi4.9Fe2.1      | RF: W1 Fe2.1 Ni4.9         \n",
      "0.5392    |  0.8627     <-- F: W1 Re6 Fe2 Ni8       | PF: W5.9 Re35.3 Fe11.8 Ni47.1 | Raw: WNi8Fe2Re6       | RF: W1 Re6 Fe2 Ni8         \n",
      "0.625     |  1.0        <-- F: Ta5 W1 Fe3 Ni7       | PF: Ta31.2 W6.2 Fe18.8 Ni43.8 | Raw: WNi7Fe3Ta5       | RF: Ta5 W1 Fe3 Ni7         \n",
      "0.0714    |  0.1143     <-- F: W1 Re1 Fe3 Ni7       | PF: W8.3 Re8.3 Fe25 Ni58.3    | Raw: WNi7Fe3Re        | RF: W1 Re1 Fe3 Ni7         \n",
      "0.0682    |  0.1091     <-- F: W1 Fe3 Ni7           | PF: W9.1 Fe27.3 Ni63.6        | Raw: WNi7Fe3          | RF: W1 Fe3 Ni7             \n",
      "0.0465    |  0.0743     <-- F: W1 Re0.2 Fe2.1 Ni4.9 | PF: W12.2 Re2.4 Fe25.6 Ni59.8 | Raw: WNi4.9Fe2.1Re0.2 | RF: W5 Re1 Fe10.5 Ni24.5   \n",
      "0.0465    |  0.0743     <-- F: W1 Re0.4 Fe2.1 Ni4.9 | PF: W11.9 Re4.8 Fe25 Ni58.3   | Raw: WNi4.9Fe2.1Re0.4 | RF: W2.5 Re1 Fe5.25 Ni12.25\n",
      "\n",
      "\n",
      "--->  10.1016/j.ijrmhm.2020.105451\n",
      "0.5       |  1.0        <-- F: Hf1 Zr1 Nb1               | PF: Hf33.3 Zr33.3 Nb33.3         | Raw: HfNbZr             | RF: Hf1 Zr1 Nb1        \n",
      "0.125     |  0.25       <-- F: Hf1 Zr1 Ta1 Nb1           | PF: Hf25 Zr25 Ta25 Nb25          | Raw: HfNbZrTa           | RF: Hf1 Zr1 Ta1 Nb1    \n",
      "0.125     |  0.25       <-- F: Hf1 Zr1 Ti0.25 Ta0.75 Nb1 | PF: Hf25 Zr25 Ti6.2 Ta18.8 Nb25  | Raw: HfNbZrTa0.75Ti0.25 | RF: Hf4 Zr4 Ti1 Ta3 Nb4\n",
      "0.125     |  0.25       <-- F: Hf1 Zr1 Ti0.5 Ta0.5 Nb1   | PF: Hf25 Zr25 Ti12.5 Ta12.5 Nb25 | Raw: HfNbZrTa0.5Ti0.5   | RF: Hf2 Zr2 Ti1 Ta1 Nb2\n",
      "0.125     |  0.25       <-- F: Hf1 Zr1 Ti0.75 Ta0.25 Nb1 | PF: Hf25 Zr25 Ti18.8 Ta6.2 Nb25  | Raw: HfNbZrTa0.25Ti0.75 | RF: Hf4 Zr4 Ti3 Ta1 Nb4\n",
      "0.125     |  0.25       <-- F: Hf1 Zr1 Ti1 Nb1           | PF: Hf25 Zr25 Ti25 Nb25          | Raw: HfNbZrTi           | RF: Hf1 Zr1 Ti1 Nb1    \n",
      "\n",
      "\n",
      "--->  10.1016/j.jallcom.2021.159505\n",
      "0.06      |  0.1442     <-- F: W0.08 Cr0.184 Mn0.184 Fe0.184 Co0.184 Ni0.184 | PF: W8 Cr18.4 Mn18.4 Fe18.4 Co18.4 Ni18.4  | Raw: Co0.184Cr0.184Fe0.184Mn0.184Ni0.184W0.08 | RF: W1 Cr2.3 Mn2.3 Fe2.3 Co2.3 Ni2.3     \n",
      "0.02      |  0.0481     <-- F: W0.04 Cr0.192 Mn0.192 Fe0.192 Co0.192 Ni0.192 | PF: W4 Cr19.2 Mn19.2 Fe19.2 Co19.2 Ni19.2  | Raw: Co0.192Cr0.192Fe0.192Mn0.192Ni0.192W0.04 | RF: W1 Cr4.8 Mn4.8 Fe4.8 Co4.8 Ni4.8     \n",
      "0.02      |  0.0481     <-- F: W0.03 Cr0.194 Mn0.194 Fe0.194 Co0.194 Ni0.194 | PF: W3 Cr19.4 Mn19.4 Fe19.4 Co19.4 Ni19.4  | Raw: Co0.194Cr0.194Fe0.194Mn0.194Ni0.194W0.03 | RF: W1 Cr6.47 Mn6.47 Fe6.47 Co6.47 Ni6.47\n",
      "0.416     |  1.0        <-- F: W0.11 Cr0.178 Mn0.178 Fe0.178 Co0.178 N0.178  | PF: W11 Cr17.8 Mn17.8 Fe17.8 Co17.8 N17.8  | Raw: Co0.178Cr0.178Fe0.178Mn0.178N0.178W0.11  | RF: W1 Cr1.62 Mn1.62 Fe1.62 Co1.62 N1.62 \n",
      "0.02      |  0.0481     <-- F: W0.05 Cr0.19 Mn0.19 Fe0.19 Co0.19 Ni0.19      | PF: W5 Cr19 Mn19 Fe19 Co19 Ni19            | Raw: Co0.19Cr0.19Fe0.19Mn0.19Ni0.19W0.05      | RF: W1 Cr3.8 Mn3.8 Fe3.8 Co3.8 Ni3.8     \n",
      "0.26      |  0.625      <-- F: W0.21 Cr0.158 Mn0.158 Fe0.158 Co0.158 Ni0.158 | PF: W21 Cr15.8 Mn15.8 Fe15.8 Co15.8 Ni15.8 | Raw: Co0.158Cr0.158Fe0.158Mn0.158Ni0.158W0.21 | RF: W1.33 Cr1 Mn1 Fe1 Co1 Ni1            \n",
      "0.06      |  0.1442     <-- F: Cr1 Mn1 Fe1 Co1 Ni1                           | PF: Cr20 Mn20 Fe20 Co20 Ni20               | Raw: CoCrFeMnNi                               | RF: Cr1 Mn1 Fe1 Co1 Ni1                  \n",
      "\n",
      "\n",
      "--->  10.1016/j.jallcom.2021.159740\n",
      "0.2       |  1.0        <-- F: Ta0.28 Nb0.28 W0.29 Mo0.15    | PF: Ta28 Nb28 W29 Mo15      | Raw: Nb0.28Ta0.28W0.29Mo0.15    | RF: Ta1.87 Nb1.87 W1.93 Mo1\n",
      "0.1       |  0.5        <-- F: Ta1 Nb1 W1                    | PF: Ta33.3 Nb33.3 W33.3     | Raw: NbTaW                      | RF: Ta1 Nb1 W1             \n",
      "0.2       |  1.0        <-- F: Ta0.25 Nb0.25 W0.25 Mo0.25    | PF: Ta25 Nb25 W25 Mo25      | Raw: Nb0.25Ta0.25W0.25Mo0.25    | RF: Ta1 Nb1 W1 Mo1         \n",
      "0.1       |  0.5        <-- F: Ta0.316 Nb0.316 W0.318 Mo0.05 | PF: Ta31.6 Nb31.6 W31.8 Mo5 | Raw: Nb0.316Ta0.316W0.318Mo0.05 | RF: Ta6.32 Nb6.32 W6.36 Mo1\n",
      "\n",
      "\n"
     ]
    }
   ],
   "source": [
    "sDOI.setName(None)\n",
    "for doi in doiList[50:70]:\n",
    "    sDOI.setDOI(doi)\n",
    "    sDOI.analyze_nnDistances()\n",
    "    sDOI.print_nnDistances(\n",
    "        minSamples=3,\n",
    "        skipNearEquidistant=True,\n",
    "        nearEquidistantThreshold=0.5,\n",
    "        skipFailed=True)"
   ]
  },
  {
   "cell_type": "markdown",
   "metadata": {},
   "source": [
    "While the method is capturing quite many correct compositions and requires careful manual inspection by an expert to detect anomalies, it can quicky capture some patterns that may be missed otherwise. The first study we get to look at, `10.3390/ma14071660`, may seem to have ordinary at first, but a close inspection reveals that two of the alloys are quite dissimilar in a consistent fashion while their `Raw` formulas are oddly similar. A quick look into the methods section of the manuscript quickly reveals that the alloys were reported using notation like `W–8Ni–2Fe–6Re` and `W–4.9Ni–2.1Fe` which got incorrectly parsed as `W8Ni2Fe6Re` and `W4.9Ni2.1Fe` and the two events of change in the minor alloying elements present represented major unwarranted compositional change.\n",
    "\n",
    "It is worth noting, however, that such cases of much higher errors can also be attributed to many other patterns, such as authors reporting on one or two alloys used as a reference in the study, such as is the case in the next report from `10.1016/j.ijrmhm.2020.105451` being detected by the method."
   ]
  },
  {
   "cell_type": "markdown",
   "metadata": {},
   "source": [
    "### Projection Pattern Analysis"
   ]
  },
  {
   "cell_type": "code",
   "execution_count": 10,
   "metadata": {},
   "outputs": [
    {
     "name": "stdout",
     "output_type": "stream",
     "text": [
      "Loading the database credentials from default location: /Users/adam/VSCode Projects/PyQAlloy-1/pyqalloy/credentials.json\n",
      "Connected to the CURATED_Dec2022 in ULTERA_internal with 6073 data points detected.\n",
      "********  Analyzer Initialized  ********\n"
     ]
    }
   ],
   "source": [
    "doi = '10.1016/j.jallcom.2008.11.059'\n",
    "sDOI = analysis.SingleDOIAnalyzer(doi=doi)"
   ]
  },
  {
   "cell_type": "code",
   "execution_count": 11,
   "metadata": {
    "ExecuteTime": {
     "end_time": "2023-03-28T12:56:50.887841Z",
     "start_time": "2023-03-28T12:56:49.733113Z"
    },
    "collapsed": false
   },
   "outputs": [
    {
     "data": {
      "application/vnd.plotly.v1+json": {
       "config": {
        "plotlyServerURL": "https://plot.ly"
       },
       "data": [
        {
         "hovertemplate": "<b>%{hovertext}</b><br><br>Alloy Reported (Parsed Formula)=Ti0.5Al0.5Cr1Fe1Co1Cu0.5Ni1<br>PCA1=%{x}<br>PCA2=%{y}<extra></extra>",
         "hovertext": [
          "F: Ti0.5 Cr1 Fe1 Co1 Ni1 Cu0.5 Al0.5<br>PF: Ti9.1 Cr18.2 Fe18.2 Co18.2 Ni18.2 Cu9.1 Al9.1<br>Raw: Al0.5CoCrCu0.5FeNiTi0.5<br>RF: Ti1 Cr2 Fe2 Co2 Ni2 Cu1 Al1"
         ],
         "legendgroup": "Ti0.5Al0.5Cr1Fe1Co1Cu0.5Ni1",
         "marker": {
          "color": "#2E91E5",
          "line": {
           "color": "DarkSlateGrey",
           "width": 2
          },
          "size": 12,
          "symbol": "circle"
         },
         "mode": "markers",
         "name": "Ti0.5Al0.5Cr1Fe1Co1Cu0.5Ni1",
         "orientation": "v",
         "showlegend": true,
         "type": "scatter",
         "x": [
          0.03246058385634368
         ],
         "xaxis": "x",
         "y": [
          0.006499383143587948
         ],
         "yaxis": "y"
        },
        {
         "hovertemplate": "<b>%{hovertext}</b><br><br>Alloy Reported (Parsed Formula)=Ti0.5Al0.75Cr1Fe1Co1Cu0.25Ni1<br>PCA1=%{x}<br>PCA2=%{y}<extra></extra>",
         "hovertext": [
          "F: Ti0.5 Cr1 Fe1 Co1 Ni1 Cu0.25 Al0.75<br>PF: Ti9.1 Cr18.2 Fe18.2 Co18.2 Ni18.2 Cu4.5 Al13.6<br>Raw: Al0.75CoCrCu0.25FeNiTi0.5<br>RF: Ti2 Cr4 Fe4 Co4 Ni4 Cu1 Al3"
         ],
         "legendgroup": "Ti0.5Al0.75Cr1Fe1Co1Cu0.25Ni1",
         "marker": {
          "color": "#E15F99",
          "line": {
           "color": "DarkSlateGrey",
           "width": 2
          },
          "size": 12,
          "symbol": "circle"
         },
         "mode": "markers",
         "name": "Ti0.5Al0.75Cr1Fe1Co1Cu0.25Ni1",
         "orientation": "v",
         "showlegend": true,
         "type": "scatter",
         "x": [
          0.09674288607733636
         ],
         "xaxis": "x",
         "y": [
          0.006368898939053193
         ],
         "yaxis": "y"
        },
        {
         "hovertemplate": "<b>%{hovertext}</b><br><br>Alloy Reported (Parsed Formula)=Ti0.5Al0.25Cr1Fe1Co1Cu0.75Ni1<br>PCA1=%{x}<br>PCA2=%{y}<extra></extra>",
         "hovertext": [
          "F: Ti0.5 Cr1 Fe1 Co1 Ni1 Cu0.75 Al0.25<br>PF: Ti9.1 Cr18.2 Fe18.2 Co18.2 Ni18.2 Cu13.6 Al4.5<br>Raw: Al0.25CoCrCu0.75FeNiTi0.5<br>RF: Ti2 Cr4 Fe4 Co4 Ni4 Cu3 Al1"
         ],
         "legendgroup": "Ti0.5Al0.25Cr1Fe1Co1Cu0.75Ni1",
         "marker": {
          "color": "#1CA71C",
          "line": {
           "color": "DarkSlateGrey",
           "width": 2
          },
          "size": 12,
          "symbol": "circle"
         },
         "mode": "markers",
         "name": "Ti0.5Al0.25Cr1Fe1Co1Cu0.75Ni1",
         "orientation": "v",
         "showlegend": true,
         "type": "scatter",
         "x": [
          -0.03182171836464902
         ],
         "xaxis": "x",
         "y": [
          0.006629867348122692
         ],
         "yaxis": "y"
        },
        {
         "hovertemplate": "<b>%{hovertext}</b><br><br>Alloy Reported (Parsed Formula)=Ti0.5Cr1Fe1Co1Cu1Ni1<br>PCA1=%{x}<br>PCA2=%{y}<extra></extra>",
         "hovertext": [
          "F: Ti0.5 Cr1 Fe1 Co1 Ni1 Cu1<br>PF: Ti9.1 Cr18.2 Fe18.2 Co18.2 Ni18.2 Cu18.2<br>Raw: CoCrCuFeNiTi0.5<br>RF: Ti1 Cr2 Fe2 Co2 Ni2 Cu2"
         ],
         "legendgroup": "Ti0.5Cr1Fe1Co1Cu1Ni1",
         "marker": {
          "color": "#FB0D0D",
          "line": {
           "color": "DarkSlateGrey",
           "width": 2
          },
          "size": 12,
          "symbol": "circle"
         },
         "mode": "markers",
         "name": "Ti0.5Cr1Fe1Co1Cu1Ni1",
         "orientation": "v",
         "showlegend": true,
         "type": "scatter",
         "x": [
          -0.09610402058564176
         ],
         "xaxis": "x",
         "y": [
          0.006760351552657459
         ],
         "yaxis": "y"
        },
        {
         "hovertemplate": "<b>%{hovertext}</b><br><br>Alloy Reported (Parsed Formula)=Ti0.5Al0.25Cr1Fe1Co1Cu0.5Ni1<br>PCA1=%{x}<br>PCA2=%{y}<extra></extra>",
         "hovertext": [
          "F: Ti0.5 Cr1 Fe1 Co1 Ni1 Cu0.5 Al0.25<br>PF: Ti9.5 Cr19 Fe19 Co19 Ni19 Cu9.5 Al4.8<br>Raw: Al0.25CoCrCu0.5FeNiTi0.5<br>RF: Ti2 Cr4 Fe4 Co4 Ni4 Cu2 Al1"
         ],
         "legendgroup": "Ti0.5Al0.25Cr1Fe1Co1Cu0.5Ni1",
         "marker": {
          "color": "#DA16FF",
          "line": {
           "color": "DarkSlateGrey",
           "width": 2
          },
          "size": 12,
          "symbol": "circle"
         },
         "mode": "markers",
         "name": "Ti0.5Al0.25Cr1Fe1Co1Cu0.5Ni1",
         "orientation": "v",
         "showlegend": true,
         "type": "scatter",
         "x": [
          -0.0012777309833893061
         ],
         "xaxis": "x",
         "y": [
          -0.026258500983421282
         ],
         "yaxis": "y"
        }
       ],
       "layout": {
        "height": 400,
        "legend": {
         "title": {
          "text": "Alloy Reported (Parsed Formula)"
         },
         "tracegroupgap": 0
        },
        "template": {
         "data": {
          "bar": [
           {
            "error_x": {
             "color": "#2a3f5f"
            },
            "error_y": {
             "color": "#2a3f5f"
            },
            "marker": {
             "line": {
              "color": "white",
              "width": 0.5
             },
             "pattern": {
              "fillmode": "overlay",
              "size": 10,
              "solidity": 0.2
             }
            },
            "type": "bar"
           }
          ],
          "barpolar": [
           {
            "marker": {
             "line": {
              "color": "white",
              "width": 0.5
             },
             "pattern": {
              "fillmode": "overlay",
              "size": 10,
              "solidity": 0.2
             }
            },
            "type": "barpolar"
           }
          ],
          "carpet": [
           {
            "aaxis": {
             "endlinecolor": "#2a3f5f",
             "gridcolor": "#C8D4E3",
             "linecolor": "#C8D4E3",
             "minorgridcolor": "#C8D4E3",
             "startlinecolor": "#2a3f5f"
            },
            "baxis": {
             "endlinecolor": "#2a3f5f",
             "gridcolor": "#C8D4E3",
             "linecolor": "#C8D4E3",
             "minorgridcolor": "#C8D4E3",
             "startlinecolor": "#2a3f5f"
            },
            "type": "carpet"
           }
          ],
          "choropleth": [
           {
            "colorbar": {
             "outlinewidth": 0,
             "ticks": ""
            },
            "type": "choropleth"
           }
          ],
          "contour": [
           {
            "colorbar": {
             "outlinewidth": 0,
             "ticks": ""
            },
            "colorscale": [
             [
              0,
              "#0d0887"
             ],
             [
              0.1111111111111111,
              "#46039f"
             ],
             [
              0.2222222222222222,
              "#7201a8"
             ],
             [
              0.3333333333333333,
              "#9c179e"
             ],
             [
              0.4444444444444444,
              "#bd3786"
             ],
             [
              0.5555555555555556,
              "#d8576b"
             ],
             [
              0.6666666666666666,
              "#ed7953"
             ],
             [
              0.7777777777777778,
              "#fb9f3a"
             ],
             [
              0.8888888888888888,
              "#fdca26"
             ],
             [
              1,
              "#f0f921"
             ]
            ],
            "type": "contour"
           }
          ],
          "contourcarpet": [
           {
            "colorbar": {
             "outlinewidth": 0,
             "ticks": ""
            },
            "type": "contourcarpet"
           }
          ],
          "heatmap": [
           {
            "colorbar": {
             "outlinewidth": 0,
             "ticks": ""
            },
            "colorscale": [
             [
              0,
              "#0d0887"
             ],
             [
              0.1111111111111111,
              "#46039f"
             ],
             [
              0.2222222222222222,
              "#7201a8"
             ],
             [
              0.3333333333333333,
              "#9c179e"
             ],
             [
              0.4444444444444444,
              "#bd3786"
             ],
             [
              0.5555555555555556,
              "#d8576b"
             ],
             [
              0.6666666666666666,
              "#ed7953"
             ],
             [
              0.7777777777777778,
              "#fb9f3a"
             ],
             [
              0.8888888888888888,
              "#fdca26"
             ],
             [
              1,
              "#f0f921"
             ]
            ],
            "type": "heatmap"
           }
          ],
          "heatmapgl": [
           {
            "colorbar": {
             "outlinewidth": 0,
             "ticks": ""
            },
            "colorscale": [
             [
              0,
              "#0d0887"
             ],
             [
              0.1111111111111111,
              "#46039f"
             ],
             [
              0.2222222222222222,
              "#7201a8"
             ],
             [
              0.3333333333333333,
              "#9c179e"
             ],
             [
              0.4444444444444444,
              "#bd3786"
             ],
             [
              0.5555555555555556,
              "#d8576b"
             ],
             [
              0.6666666666666666,
              "#ed7953"
             ],
             [
              0.7777777777777778,
              "#fb9f3a"
             ],
             [
              0.8888888888888888,
              "#fdca26"
             ],
             [
              1,
              "#f0f921"
             ]
            ],
            "type": "heatmapgl"
           }
          ],
          "histogram": [
           {
            "marker": {
             "pattern": {
              "fillmode": "overlay",
              "size": 10,
              "solidity": 0.2
             }
            },
            "type": "histogram"
           }
          ],
          "histogram2d": [
           {
            "colorbar": {
             "outlinewidth": 0,
             "ticks": ""
            },
            "colorscale": [
             [
              0,
              "#0d0887"
             ],
             [
              0.1111111111111111,
              "#46039f"
             ],
             [
              0.2222222222222222,
              "#7201a8"
             ],
             [
              0.3333333333333333,
              "#9c179e"
             ],
             [
              0.4444444444444444,
              "#bd3786"
             ],
             [
              0.5555555555555556,
              "#d8576b"
             ],
             [
              0.6666666666666666,
              "#ed7953"
             ],
             [
              0.7777777777777778,
              "#fb9f3a"
             ],
             [
              0.8888888888888888,
              "#fdca26"
             ],
             [
              1,
              "#f0f921"
             ]
            ],
            "type": "histogram2d"
           }
          ],
          "histogram2dcontour": [
           {
            "colorbar": {
             "outlinewidth": 0,
             "ticks": ""
            },
            "colorscale": [
             [
              0,
              "#0d0887"
             ],
             [
              0.1111111111111111,
              "#46039f"
             ],
             [
              0.2222222222222222,
              "#7201a8"
             ],
             [
              0.3333333333333333,
              "#9c179e"
             ],
             [
              0.4444444444444444,
              "#bd3786"
             ],
             [
              0.5555555555555556,
              "#d8576b"
             ],
             [
              0.6666666666666666,
              "#ed7953"
             ],
             [
              0.7777777777777778,
              "#fb9f3a"
             ],
             [
              0.8888888888888888,
              "#fdca26"
             ],
             [
              1,
              "#f0f921"
             ]
            ],
            "type": "histogram2dcontour"
           }
          ],
          "mesh3d": [
           {
            "colorbar": {
             "outlinewidth": 0,
             "ticks": ""
            },
            "type": "mesh3d"
           }
          ],
          "parcoords": [
           {
            "line": {
             "colorbar": {
              "outlinewidth": 0,
              "ticks": ""
             }
            },
            "type": "parcoords"
           }
          ],
          "pie": [
           {
            "automargin": true,
            "type": "pie"
           }
          ],
          "scatter": [
           {
            "fillpattern": {
             "fillmode": "overlay",
             "size": 10,
             "solidity": 0.2
            },
            "type": "scatter"
           }
          ],
          "scatter3d": [
           {
            "line": {
             "colorbar": {
              "outlinewidth": 0,
              "ticks": ""
             }
            },
            "marker": {
             "colorbar": {
              "outlinewidth": 0,
              "ticks": ""
             }
            },
            "type": "scatter3d"
           }
          ],
          "scattercarpet": [
           {
            "marker": {
             "colorbar": {
              "outlinewidth": 0,
              "ticks": ""
             }
            },
            "type": "scattercarpet"
           }
          ],
          "scattergeo": [
           {
            "marker": {
             "colorbar": {
              "outlinewidth": 0,
              "ticks": ""
             }
            },
            "type": "scattergeo"
           }
          ],
          "scattergl": [
           {
            "marker": {
             "colorbar": {
              "outlinewidth": 0,
              "ticks": ""
             }
            },
            "type": "scattergl"
           }
          ],
          "scattermapbox": [
           {
            "marker": {
             "colorbar": {
              "outlinewidth": 0,
              "ticks": ""
             }
            },
            "type": "scattermapbox"
           }
          ],
          "scatterpolar": [
           {
            "marker": {
             "colorbar": {
              "outlinewidth": 0,
              "ticks": ""
             }
            },
            "type": "scatterpolar"
           }
          ],
          "scatterpolargl": [
           {
            "marker": {
             "colorbar": {
              "outlinewidth": 0,
              "ticks": ""
             }
            },
            "type": "scatterpolargl"
           }
          ],
          "scatterternary": [
           {
            "marker": {
             "colorbar": {
              "outlinewidth": 0,
              "ticks": ""
             }
            },
            "type": "scatterternary"
           }
          ],
          "surface": [
           {
            "colorbar": {
             "outlinewidth": 0,
             "ticks": ""
            },
            "colorscale": [
             [
              0,
              "#0d0887"
             ],
             [
              0.1111111111111111,
              "#46039f"
             ],
             [
              0.2222222222222222,
              "#7201a8"
             ],
             [
              0.3333333333333333,
              "#9c179e"
             ],
             [
              0.4444444444444444,
              "#bd3786"
             ],
             [
              0.5555555555555556,
              "#d8576b"
             ],
             [
              0.6666666666666666,
              "#ed7953"
             ],
             [
              0.7777777777777778,
              "#fb9f3a"
             ],
             [
              0.8888888888888888,
              "#fdca26"
             ],
             [
              1,
              "#f0f921"
             ]
            ],
            "type": "surface"
           }
          ],
          "table": [
           {
            "cells": {
             "fill": {
              "color": "#EBF0F8"
             },
             "line": {
              "color": "white"
             }
            },
            "header": {
             "fill": {
              "color": "#C8D4E3"
             },
             "line": {
              "color": "white"
             }
            },
            "type": "table"
           }
          ]
         },
         "layout": {
          "annotationdefaults": {
           "arrowcolor": "#2a3f5f",
           "arrowhead": 0,
           "arrowwidth": 1
          },
          "autotypenumbers": "strict",
          "coloraxis": {
           "colorbar": {
            "outlinewidth": 0,
            "ticks": ""
           }
          },
          "colorscale": {
           "diverging": [
            [
             0,
             "#8e0152"
            ],
            [
             0.1,
             "#c51b7d"
            ],
            [
             0.2,
             "#de77ae"
            ],
            [
             0.3,
             "#f1b6da"
            ],
            [
             0.4,
             "#fde0ef"
            ],
            [
             0.5,
             "#f7f7f7"
            ],
            [
             0.6,
             "#e6f5d0"
            ],
            [
             0.7,
             "#b8e186"
            ],
            [
             0.8,
             "#7fbc41"
            ],
            [
             0.9,
             "#4d9221"
            ],
            [
             1,
             "#276419"
            ]
           ],
           "sequential": [
            [
             0,
             "#0d0887"
            ],
            [
             0.1111111111111111,
             "#46039f"
            ],
            [
             0.2222222222222222,
             "#7201a8"
            ],
            [
             0.3333333333333333,
             "#9c179e"
            ],
            [
             0.4444444444444444,
             "#bd3786"
            ],
            [
             0.5555555555555556,
             "#d8576b"
            ],
            [
             0.6666666666666666,
             "#ed7953"
            ],
            [
             0.7777777777777778,
             "#fb9f3a"
            ],
            [
             0.8888888888888888,
             "#fdca26"
            ],
            [
             1,
             "#f0f921"
            ]
           ],
           "sequentialminus": [
            [
             0,
             "#0d0887"
            ],
            [
             0.1111111111111111,
             "#46039f"
            ],
            [
             0.2222222222222222,
             "#7201a8"
            ],
            [
             0.3333333333333333,
             "#9c179e"
            ],
            [
             0.4444444444444444,
             "#bd3786"
            ],
            [
             0.5555555555555556,
             "#d8576b"
            ],
            [
             0.6666666666666666,
             "#ed7953"
            ],
            [
             0.7777777777777778,
             "#fb9f3a"
            ],
            [
             0.8888888888888888,
             "#fdca26"
            ],
            [
             1,
             "#f0f921"
            ]
           ]
          },
          "colorway": [
           "#636efa",
           "#EF553B",
           "#00cc96",
           "#ab63fa",
           "#FFA15A",
           "#19d3f3",
           "#FF6692",
           "#B6E880",
           "#FF97FF",
           "#FECB52"
          ],
          "font": {
           "color": "#2a3f5f"
          },
          "geo": {
           "bgcolor": "white",
           "lakecolor": "white",
           "landcolor": "white",
           "showlakes": true,
           "showland": true,
           "subunitcolor": "#C8D4E3"
          },
          "hoverlabel": {
           "align": "left"
          },
          "hovermode": "closest",
          "mapbox": {
           "style": "light"
          },
          "paper_bgcolor": "white",
          "plot_bgcolor": "white",
          "polar": {
           "angularaxis": {
            "gridcolor": "#EBF0F8",
            "linecolor": "#EBF0F8",
            "ticks": ""
           },
           "bgcolor": "white",
           "radialaxis": {
            "gridcolor": "#EBF0F8",
            "linecolor": "#EBF0F8",
            "ticks": ""
           }
          },
          "scene": {
           "xaxis": {
            "backgroundcolor": "white",
            "gridcolor": "#DFE8F3",
            "gridwidth": 2,
            "linecolor": "#EBF0F8",
            "showbackground": true,
            "ticks": "",
            "zerolinecolor": "#EBF0F8"
           },
           "yaxis": {
            "backgroundcolor": "white",
            "gridcolor": "#DFE8F3",
            "gridwidth": 2,
            "linecolor": "#EBF0F8",
            "showbackground": true,
            "ticks": "",
            "zerolinecolor": "#EBF0F8"
           },
           "zaxis": {
            "backgroundcolor": "white",
            "gridcolor": "#DFE8F3",
            "gridwidth": 2,
            "linecolor": "#EBF0F8",
            "showbackground": true,
            "ticks": "",
            "zerolinecolor": "#EBF0F8"
           }
          },
          "shapedefaults": {
           "line": {
            "color": "#2a3f5f"
           }
          },
          "ternary": {
           "aaxis": {
            "gridcolor": "#DFE8F3",
            "linecolor": "#A2B1C6",
            "ticks": ""
           },
           "baxis": {
            "gridcolor": "#DFE8F3",
            "linecolor": "#A2B1C6",
            "ticks": ""
           },
           "bgcolor": "white",
           "caxis": {
            "gridcolor": "#DFE8F3",
            "linecolor": "#A2B1C6",
            "ticks": ""
           }
          },
          "title": {
           "x": 0.05
          },
          "xaxis": {
           "automargin": true,
           "gridcolor": "#EBF0F8",
           "linecolor": "#EBF0F8",
           "ticks": "",
           "title": {
            "standoff": 15
           },
           "zerolinecolor": "#EBF0F8",
           "zerolinewidth": 2
          },
          "yaxis": {
           "automargin": true,
           "gridcolor": "#EBF0F8",
           "linecolor": "#EBF0F8",
           "ticks": "",
           "title": {
            "standoff": 15
           },
           "zerolinecolor": "#EBF0F8",
           "zerolinewidth": 2
          }
         }
        },
        "title": {
         "text": "<b>10.1016/j.jallcom.2008.11.059</b>  --> <br>parsed by Adam Krajewski"
        },
        "width": 900,
        "xaxis": {
         "anchor": "y",
         "domain": [
          0,
          1
         ],
         "title": {
          "text": "PCA1"
         }
        },
        "yaxis": {
         "anchor": "x",
         "domain": [
          0,
          1
         ],
         "title": {
          "text": "PCA2"
         }
        }
       }
      }
     },
     "metadata": {},
     "output_type": "display_data"
    },
    {
     "data": {
      "text/plain": [
       "<_io.BytesIO at 0x17b7458a0>"
      ]
     },
     "execution_count": 11,
     "metadata": {},
     "output_type": "execute_result"
    }
   ],
   "source": [
    "sDOI.get_compVecs_2DPCA()\n",
    "sDOI.analyze_compVecs_2DPCA()"
   ]
  },
  {
   "cell_type": "code",
   "execution_count": 11,
   "metadata": {
    "ExecuteTime": {
     "end_time": "2023-03-28T12:56:55.734435Z",
     "start_time": "2023-03-28T12:56:55.252918Z"
    },
    "collapsed": false
   },
   "outputs": [
    {
     "data": {
      "application/vnd.plotly.v1+json": {
       "config": {
        "plotlyServerURL": "https://plot.ly"
       },
       "data": [
        {
         "hovertemplate": "<b>%{hovertext}</b><br><br>Alloy Reported (Parsed Formula)=Ti0.5Al0.5Cr1Fe1Co1Cu0.5Ni1<br>PCA1=%{x}<br>PCA2=%{y}<extra></extra>",
         "hovertext": [
          "F: Ti0.5 Cr1 Fe1 Co1 Ni1 Cu0.5 Al0.5<br>PF: Ti9.1 Cr18.2 Fe18.2 Co18.2 Ni18.2 Cu9.1 Al9.1<br>Raw: Al0.5CoCrCu0.5FeNiTi0.5<br>RF: Ti1 Cr2 Fe2 Co2 Ni2 Cu1 Al1"
         ],
         "legendgroup": "Ti0.5Al0.5Cr1Fe1Co1Cu0.5Ni1",
         "marker": {
          "color": "#2E91E5",
          "line": {
           "color": "DarkSlateGrey",
           "width": 2
          },
          "size": 12,
          "symbol": "circle"
         },
         "mode": "markers",
         "name": "Ti0.5Al0.5Cr1Fe1Co1Cu0.5Ni1",
         "orientation": "v",
         "showlegend": true,
         "type": "scatter",
         "x": [
          0.03246058385634367
         ],
         "xaxis": "x",
         "y": [
          0.0064993831435879446
         ],
         "yaxis": "y"
        },
        {
         "hovertemplate": "<b>%{hovertext}</b><br><br>Alloy Reported (Parsed Formula)=Ti0.5Al0.75Cr1Fe1Co1Cu0.25Ni1<br>PCA1=%{x}<br>PCA2=%{y}<extra></extra>",
         "hovertext": [
          "F: Ti0.5 Cr1 Fe1 Co1 Ni1 Cu0.25 Al0.75<br>PF: Ti9.1 Cr18.2 Fe18.2 Co18.2 Ni18.2 Cu4.5 Al13.6<br>Raw: Al0.75CoCrCu0.25FeNiTi0.5<br>RF: Ti2 Cr4 Fe4 Co4 Ni4 Cu1 Al3"
         ],
         "legendgroup": "Ti0.5Al0.75Cr1Fe1Co1Cu0.25Ni1",
         "marker": {
          "color": "#E15F99",
          "line": {
           "color": "DarkSlateGrey",
           "width": 2
          },
          "size": 12,
          "symbol": "circle"
         },
         "mode": "markers",
         "name": "Ti0.5Al0.75Cr1Fe1Co1Cu0.25Ni1",
         "orientation": "v",
         "showlegend": true,
         "type": "scatter",
         "x": [
          0.09674288607733635
         ],
         "xaxis": "x",
         "y": [
          0.006368898939053189
         ],
         "yaxis": "y"
        },
        {
         "hovertemplate": "<b>%{hovertext}</b><br><br>Alloy Reported (Parsed Formula)=Ti0.5Al0.25Cr1Fe1Co1Cu0.75Ni1<br>PCA1=%{x}<br>PCA2=%{y}<extra></extra>",
         "hovertext": [
          "F: Ti0.5 Cr1 Fe1 Co1 Ni1 Cu0.75 Al0.25<br>PF: Ti9.1 Cr18.2 Fe18.2 Co18.2 Ni18.2 Cu13.6 Al4.5<br>Raw: Al0.25CoCrCu0.75FeNiTi0.5<br>RF: Ti2 Cr4 Fe4 Co4 Ni4 Cu3 Al1"
         ],
         "legendgroup": "Ti0.5Al0.25Cr1Fe1Co1Cu0.75Ni1",
         "marker": {
          "color": "#1CA71C",
          "line": {
           "color": "DarkSlateGrey",
           "width": 2
          },
          "size": 12,
          "symbol": "circle"
         },
         "mode": "markers",
         "name": "Ti0.5Al0.25Cr1Fe1Co1Cu0.75Ni1",
         "orientation": "v",
         "showlegend": true,
         "type": "scatter",
         "x": [
          -0.031821718364649025
         ],
         "xaxis": "x",
         "y": [
          0.0066298673481226915
         ],
         "yaxis": "y"
        },
        {
         "hovertemplate": "<b>%{hovertext}</b><br><br>Alloy Reported (Parsed Formula)=Ti0.5Cr1Fe1Co1Cu1Ni1<br>PCA1=%{x}<br>PCA2=%{y}<extra></extra>",
         "hovertext": [
          "F: Ti0.5 Cr1 Fe1 Co1 Ni1 Cu1<br>PF: Ti9.1 Cr18.2 Fe18.2 Co18.2 Ni18.2 Cu18.2<br>Raw: CoCrCuFeNiTi0.5<br>RF: Ti1 Cr2 Fe2 Co2 Ni2 Cu2"
         ],
         "legendgroup": "Ti0.5Cr1Fe1Co1Cu1Ni1",
         "marker": {
          "color": "#FB0D0D",
          "line": {
           "color": "DarkSlateGrey",
           "width": 2
          },
          "size": 12,
          "symbol": "circle"
         },
         "mode": "markers",
         "name": "Ti0.5Cr1Fe1Co1Cu1Ni1",
         "orientation": "v",
         "showlegend": true,
         "type": "scatter",
         "x": [
          -0.09610402058564176
         ],
         "xaxis": "x",
         "y": [
          0.006760351552657456
         ],
         "yaxis": "y"
        },
        {
         "hovertemplate": "<b>%{hovertext}</b><br><br>Alloy Reported (Parsed Formula)=Ti0.5Al0.25Cr1Fe1Co1Cu0.5Ni1<br>PCA1=%{x}<br>PCA2=%{y}<extra></extra>",
         "hovertext": [
          "F: Ti0.5 Cr1 Fe1 Co1 Ni1 Cu0.5 Al0.25<br>PF: Ti9.5 Cr19 Fe19 Co19 Ni19 Cu9.5 Al4.8<br>Raw: Al0.25CoCrCu0.5FeNiTi0.5<br>RF: Ti2 Cr4 Fe4 Co4 Ni4 Cu2 Al1"
         ],
         "legendgroup": "Ti0.5Al0.25Cr1Fe1Co1Cu0.5Ni1",
         "marker": {
          "color": "#DA16FF",
          "line": {
           "color": "DarkSlateGrey",
           "width": 2
          },
          "size": 12,
          "symbol": "circle"
         },
         "mode": "markers",
         "name": "Ti0.5Al0.25Cr1Fe1Co1Cu0.5Ni1",
         "orientation": "v",
         "showlegend": true,
         "type": "scatter",
         "x": [
          -0.0012777309833893046
         ],
         "xaxis": "x",
         "y": [
          -0.02625850098342127
         ],
         "yaxis": "y"
        }
       ],
       "layout": {
        "height": 400,
        "legend": {
         "title": {
          "text": "Alloy Reported (Parsed Formula)"
         },
         "tracegroupgap": 0
        },
        "template": {
         "data": {
          "bar": [
           {
            "error_x": {
             "color": "#2a3f5f"
            },
            "error_y": {
             "color": "#2a3f5f"
            },
            "marker": {
             "line": {
              "color": "white",
              "width": 0.5
             },
             "pattern": {
              "fillmode": "overlay",
              "size": 10,
              "solidity": 0.2
             }
            },
            "type": "bar"
           }
          ],
          "barpolar": [
           {
            "marker": {
             "line": {
              "color": "white",
              "width": 0.5
             },
             "pattern": {
              "fillmode": "overlay",
              "size": 10,
              "solidity": 0.2
             }
            },
            "type": "barpolar"
           }
          ],
          "carpet": [
           {
            "aaxis": {
             "endlinecolor": "#2a3f5f",
             "gridcolor": "#C8D4E3",
             "linecolor": "#C8D4E3",
             "minorgridcolor": "#C8D4E3",
             "startlinecolor": "#2a3f5f"
            },
            "baxis": {
             "endlinecolor": "#2a3f5f",
             "gridcolor": "#C8D4E3",
             "linecolor": "#C8D4E3",
             "minorgridcolor": "#C8D4E3",
             "startlinecolor": "#2a3f5f"
            },
            "type": "carpet"
           }
          ],
          "choropleth": [
           {
            "colorbar": {
             "outlinewidth": 0,
             "ticks": ""
            },
            "type": "choropleth"
           }
          ],
          "contour": [
           {
            "colorbar": {
             "outlinewidth": 0,
             "ticks": ""
            },
            "colorscale": [
             [
              0,
              "#0d0887"
             ],
             [
              0.1111111111111111,
              "#46039f"
             ],
             [
              0.2222222222222222,
              "#7201a8"
             ],
             [
              0.3333333333333333,
              "#9c179e"
             ],
             [
              0.4444444444444444,
              "#bd3786"
             ],
             [
              0.5555555555555556,
              "#d8576b"
             ],
             [
              0.6666666666666666,
              "#ed7953"
             ],
             [
              0.7777777777777778,
              "#fb9f3a"
             ],
             [
              0.8888888888888888,
              "#fdca26"
             ],
             [
              1,
              "#f0f921"
             ]
            ],
            "type": "contour"
           }
          ],
          "contourcarpet": [
           {
            "colorbar": {
             "outlinewidth": 0,
             "ticks": ""
            },
            "type": "contourcarpet"
           }
          ],
          "heatmap": [
           {
            "colorbar": {
             "outlinewidth": 0,
             "ticks": ""
            },
            "colorscale": [
             [
              0,
              "#0d0887"
             ],
             [
              0.1111111111111111,
              "#46039f"
             ],
             [
              0.2222222222222222,
              "#7201a8"
             ],
             [
              0.3333333333333333,
              "#9c179e"
             ],
             [
              0.4444444444444444,
              "#bd3786"
             ],
             [
              0.5555555555555556,
              "#d8576b"
             ],
             [
              0.6666666666666666,
              "#ed7953"
             ],
             [
              0.7777777777777778,
              "#fb9f3a"
             ],
             [
              0.8888888888888888,
              "#fdca26"
             ],
             [
              1,
              "#f0f921"
             ]
            ],
            "type": "heatmap"
           }
          ],
          "heatmapgl": [
           {
            "colorbar": {
             "outlinewidth": 0,
             "ticks": ""
            },
            "colorscale": [
             [
              0,
              "#0d0887"
             ],
             [
              0.1111111111111111,
              "#46039f"
             ],
             [
              0.2222222222222222,
              "#7201a8"
             ],
             [
              0.3333333333333333,
              "#9c179e"
             ],
             [
              0.4444444444444444,
              "#bd3786"
             ],
             [
              0.5555555555555556,
              "#d8576b"
             ],
             [
              0.6666666666666666,
              "#ed7953"
             ],
             [
              0.7777777777777778,
              "#fb9f3a"
             ],
             [
              0.8888888888888888,
              "#fdca26"
             ],
             [
              1,
              "#f0f921"
             ]
            ],
            "type": "heatmapgl"
           }
          ],
          "histogram": [
           {
            "marker": {
             "pattern": {
              "fillmode": "overlay",
              "size": 10,
              "solidity": 0.2
             }
            },
            "type": "histogram"
           }
          ],
          "histogram2d": [
           {
            "colorbar": {
             "outlinewidth": 0,
             "ticks": ""
            },
            "colorscale": [
             [
              0,
              "#0d0887"
             ],
             [
              0.1111111111111111,
              "#46039f"
             ],
             [
              0.2222222222222222,
              "#7201a8"
             ],
             [
              0.3333333333333333,
              "#9c179e"
             ],
             [
              0.4444444444444444,
              "#bd3786"
             ],
             [
              0.5555555555555556,
              "#d8576b"
             ],
             [
              0.6666666666666666,
              "#ed7953"
             ],
             [
              0.7777777777777778,
              "#fb9f3a"
             ],
             [
              0.8888888888888888,
              "#fdca26"
             ],
             [
              1,
              "#f0f921"
             ]
            ],
            "type": "histogram2d"
           }
          ],
          "histogram2dcontour": [
           {
            "colorbar": {
             "outlinewidth": 0,
             "ticks": ""
            },
            "colorscale": [
             [
              0,
              "#0d0887"
             ],
             [
              0.1111111111111111,
              "#46039f"
             ],
             [
              0.2222222222222222,
              "#7201a8"
             ],
             [
              0.3333333333333333,
              "#9c179e"
             ],
             [
              0.4444444444444444,
              "#bd3786"
             ],
             [
              0.5555555555555556,
              "#d8576b"
             ],
             [
              0.6666666666666666,
              "#ed7953"
             ],
             [
              0.7777777777777778,
              "#fb9f3a"
             ],
             [
              0.8888888888888888,
              "#fdca26"
             ],
             [
              1,
              "#f0f921"
             ]
            ],
            "type": "histogram2dcontour"
           }
          ],
          "mesh3d": [
           {
            "colorbar": {
             "outlinewidth": 0,
             "ticks": ""
            },
            "type": "mesh3d"
           }
          ],
          "parcoords": [
           {
            "line": {
             "colorbar": {
              "outlinewidth": 0,
              "ticks": ""
             }
            },
            "type": "parcoords"
           }
          ],
          "pie": [
           {
            "automargin": true,
            "type": "pie"
           }
          ],
          "scatter": [
           {
            "fillpattern": {
             "fillmode": "overlay",
             "size": 10,
             "solidity": 0.2
            },
            "type": "scatter"
           }
          ],
          "scatter3d": [
           {
            "line": {
             "colorbar": {
              "outlinewidth": 0,
              "ticks": ""
             }
            },
            "marker": {
             "colorbar": {
              "outlinewidth": 0,
              "ticks": ""
             }
            },
            "type": "scatter3d"
           }
          ],
          "scattercarpet": [
           {
            "marker": {
             "colorbar": {
              "outlinewidth": 0,
              "ticks": ""
             }
            },
            "type": "scattercarpet"
           }
          ],
          "scattergeo": [
           {
            "marker": {
             "colorbar": {
              "outlinewidth": 0,
              "ticks": ""
             }
            },
            "type": "scattergeo"
           }
          ],
          "scattergl": [
           {
            "marker": {
             "colorbar": {
              "outlinewidth": 0,
              "ticks": ""
             }
            },
            "type": "scattergl"
           }
          ],
          "scattermapbox": [
           {
            "marker": {
             "colorbar": {
              "outlinewidth": 0,
              "ticks": ""
             }
            },
            "type": "scattermapbox"
           }
          ],
          "scatterpolar": [
           {
            "marker": {
             "colorbar": {
              "outlinewidth": 0,
              "ticks": ""
             }
            },
            "type": "scatterpolar"
           }
          ],
          "scatterpolargl": [
           {
            "marker": {
             "colorbar": {
              "outlinewidth": 0,
              "ticks": ""
             }
            },
            "type": "scatterpolargl"
           }
          ],
          "scatterternary": [
           {
            "marker": {
             "colorbar": {
              "outlinewidth": 0,
              "ticks": ""
             }
            },
            "type": "scatterternary"
           }
          ],
          "surface": [
           {
            "colorbar": {
             "outlinewidth": 0,
             "ticks": ""
            },
            "colorscale": [
             [
              0,
              "#0d0887"
             ],
             [
              0.1111111111111111,
              "#46039f"
             ],
             [
              0.2222222222222222,
              "#7201a8"
             ],
             [
              0.3333333333333333,
              "#9c179e"
             ],
             [
              0.4444444444444444,
              "#bd3786"
             ],
             [
              0.5555555555555556,
              "#d8576b"
             ],
             [
              0.6666666666666666,
              "#ed7953"
             ],
             [
              0.7777777777777778,
              "#fb9f3a"
             ],
             [
              0.8888888888888888,
              "#fdca26"
             ],
             [
              1,
              "#f0f921"
             ]
            ],
            "type": "surface"
           }
          ],
          "table": [
           {
            "cells": {
             "fill": {
              "color": "#EBF0F8"
             },
             "line": {
              "color": "white"
             }
            },
            "header": {
             "fill": {
              "color": "#C8D4E3"
             },
             "line": {
              "color": "white"
             }
            },
            "type": "table"
           }
          ]
         },
         "layout": {
          "annotationdefaults": {
           "arrowcolor": "#2a3f5f",
           "arrowhead": 0,
           "arrowwidth": 1
          },
          "autotypenumbers": "strict",
          "coloraxis": {
           "colorbar": {
            "outlinewidth": 0,
            "ticks": ""
           }
          },
          "colorscale": {
           "diverging": [
            [
             0,
             "#8e0152"
            ],
            [
             0.1,
             "#c51b7d"
            ],
            [
             0.2,
             "#de77ae"
            ],
            [
             0.3,
             "#f1b6da"
            ],
            [
             0.4,
             "#fde0ef"
            ],
            [
             0.5,
             "#f7f7f7"
            ],
            [
             0.6,
             "#e6f5d0"
            ],
            [
             0.7,
             "#b8e186"
            ],
            [
             0.8,
             "#7fbc41"
            ],
            [
             0.9,
             "#4d9221"
            ],
            [
             1,
             "#276419"
            ]
           ],
           "sequential": [
            [
             0,
             "#0d0887"
            ],
            [
             0.1111111111111111,
             "#46039f"
            ],
            [
             0.2222222222222222,
             "#7201a8"
            ],
            [
             0.3333333333333333,
             "#9c179e"
            ],
            [
             0.4444444444444444,
             "#bd3786"
            ],
            [
             0.5555555555555556,
             "#d8576b"
            ],
            [
             0.6666666666666666,
             "#ed7953"
            ],
            [
             0.7777777777777778,
             "#fb9f3a"
            ],
            [
             0.8888888888888888,
             "#fdca26"
            ],
            [
             1,
             "#f0f921"
            ]
           ],
           "sequentialminus": [
            [
             0,
             "#0d0887"
            ],
            [
             0.1111111111111111,
             "#46039f"
            ],
            [
             0.2222222222222222,
             "#7201a8"
            ],
            [
             0.3333333333333333,
             "#9c179e"
            ],
            [
             0.4444444444444444,
             "#bd3786"
            ],
            [
             0.5555555555555556,
             "#d8576b"
            ],
            [
             0.6666666666666666,
             "#ed7953"
            ],
            [
             0.7777777777777778,
             "#fb9f3a"
            ],
            [
             0.8888888888888888,
             "#fdca26"
            ],
            [
             1,
             "#f0f921"
            ]
           ]
          },
          "colorway": [
           "#636efa",
           "#EF553B",
           "#00cc96",
           "#ab63fa",
           "#FFA15A",
           "#19d3f3",
           "#FF6692",
           "#B6E880",
           "#FF97FF",
           "#FECB52"
          ],
          "font": {
           "color": "#2a3f5f"
          },
          "geo": {
           "bgcolor": "white",
           "lakecolor": "white",
           "landcolor": "white",
           "showlakes": true,
           "showland": true,
           "subunitcolor": "#C8D4E3"
          },
          "hoverlabel": {
           "align": "left"
          },
          "hovermode": "closest",
          "mapbox": {
           "style": "light"
          },
          "paper_bgcolor": "white",
          "plot_bgcolor": "white",
          "polar": {
           "angularaxis": {
            "gridcolor": "#EBF0F8",
            "linecolor": "#EBF0F8",
            "ticks": ""
           },
           "bgcolor": "white",
           "radialaxis": {
            "gridcolor": "#EBF0F8",
            "linecolor": "#EBF0F8",
            "ticks": ""
           }
          },
          "scene": {
           "xaxis": {
            "backgroundcolor": "white",
            "gridcolor": "#DFE8F3",
            "gridwidth": 2,
            "linecolor": "#EBF0F8",
            "showbackground": true,
            "ticks": "",
            "zerolinecolor": "#EBF0F8"
           },
           "yaxis": {
            "backgroundcolor": "white",
            "gridcolor": "#DFE8F3",
            "gridwidth": 2,
            "linecolor": "#EBF0F8",
            "showbackground": true,
            "ticks": "",
            "zerolinecolor": "#EBF0F8"
           },
           "zaxis": {
            "backgroundcolor": "white",
            "gridcolor": "#DFE8F3",
            "gridwidth": 2,
            "linecolor": "#EBF0F8",
            "showbackground": true,
            "ticks": "",
            "zerolinecolor": "#EBF0F8"
           }
          },
          "shapedefaults": {
           "line": {
            "color": "#2a3f5f"
           }
          },
          "ternary": {
           "aaxis": {
            "gridcolor": "#DFE8F3",
            "linecolor": "#A2B1C6",
            "ticks": ""
           },
           "baxis": {
            "gridcolor": "#DFE8F3",
            "linecolor": "#A2B1C6",
            "ticks": ""
           },
           "bgcolor": "white",
           "caxis": {
            "gridcolor": "#DFE8F3",
            "linecolor": "#A2B1C6",
            "ticks": ""
           }
          },
          "title": {
           "x": 0.05
          },
          "xaxis": {
           "automargin": true,
           "gridcolor": "#EBF0F8",
           "linecolor": "#EBF0F8",
           "ticks": "",
           "title": {
            "standoff": 15
           },
           "zerolinecolor": "#EBF0F8",
           "zerolinewidth": 2
          },
          "yaxis": {
           "automargin": true,
           "gridcolor": "#EBF0F8",
           "linecolor": "#EBF0F8",
           "ticks": "",
           "title": {
            "standoff": 15
           },
           "zerolinecolor": "#EBF0F8",
           "zerolinewidth": 2
          }
         }
        },
        "title": {
         "text": "<b>10.1016/j.jallcom.2008.11.059</b>  --> <br>parsed by Adam Krajewski"
        },
        "width": 900,
        "xaxis": {
         "anchor": "y",
         "domain": [
          0,
          1
         ],
         "title": {
          "text": "PCA1"
         }
        },
        "yaxis": {
         "anchor": "x",
         "domain": [
          0,
          1
         ],
         "title": {
          "text": "PCA2"
         }
        }
       }
      }
     },
     "metadata": {},
     "output_type": "display_data"
    }
   ],
   "source": [
    "for doi in ['10.1016/j.jallcom.2008.11.059', '10.3390/met9010076', '10.1016/j.scriptamat.2018.10.023', '10.1007/978-1-4684-6066-7', '10.3390/e18050189']:\n",
    "    sDOI.setDOI(doi)\n",
    "    sDOI.getCompVecs()\n",
    "    if len(sDOI.compVecs)>1:\n",
    "        sDOI.get_compVecs_2DPCA()\n",
    "        sDOI.analyze_compVecs_2DPCA(showFigure=True)"
   ]
  },
  {
   "cell_type": "code",
   "execution_count": 18,
   "metadata": {
    "ExecuteTime": {
     "end_time": "2023-03-28T12:56:59.311115Z",
     "start_time": "2023-03-28T12:56:58.852500Z"
    },
    "collapsed": false
   },
   "outputs": [
    {
     "data": {
      "application/vnd.plotly.v1+json": {
       "config": {
        "plotlyServerURL": "https://plot.ly"
       },
       "data": [
        {
         "hovertemplate": "<b>%{hovertext}</b><br><br>Alloy Reported=Hf20 Ti20 Ta20 Nb20 Mo20<br>PCA1=%{x}<br>PCA2=%{y}<extra></extra>",
         "hovertext": [
          "Hf20 Ti20 Ta20 Nb20 Mo20"
         ],
         "legendgroup": "Hf20 Ti20 Ta20 Nb20 Mo20",
         "marker": {
          "color": "#2E91E5",
          "line": {
           "color": "DarkSlateGrey",
           "width": 2
          },
          "size": 12,
          "symbol": "circle"
         },
         "mode": "markers",
         "name": "Hf20 Ti20 Ta20 Nb20 Mo20",
         "orientation": "v",
         "showlegend": true,
         "type": "scatter",
         "x": [
          -0.16329931618554522
         ],
         "xaxis": "x",
         "y": [
          2.9401988348447113e-17
         ],
         "yaxis": "y"
        },
        {
         "hovertemplate": "<b>%{hovertext}</b><br><br>Alloy Reported=Hf20 Zr20 Ta20 Nb20 Mo20<br>PCA1=%{x}<br>PCA2=%{y}<extra></extra>",
         "hovertext": [
          "Hf20 Zr20 Ta20 Nb20 Mo20"
         ],
         "legendgroup": "Hf20 Zr20 Ta20 Nb20 Mo20",
         "marker": {
          "color": "#E15F99",
          "line": {
           "color": "DarkSlateGrey",
           "width": 2
          },
          "size": 12,
          "symbol": "circle"
         },
         "mode": "markers",
         "name": "Hf20 Zr20 Ta20 Nb20 Mo20",
         "orientation": "v",
         "showlegend": true,
         "type": "scatter",
         "x": [
          0.08164965809277261
         ],
         "xaxis": "x",
         "y": [
          -0.14142135623730936
         ],
         "yaxis": "y"
        },
        {
         "hovertemplate": "<b>%{hovertext}</b><br><br>Alloy Reported=Hf20 Zr20 Ti20 Nb20 Mo20<br>PCA1=%{x}<br>PCA2=%{y}<extra></extra>",
         "hovertext": [
          "Hf20 Zr20 Ti20 Nb20 Mo20"
         ],
         "legendgroup": "Hf20 Zr20 Ti20 Nb20 Mo20",
         "marker": {
          "color": "#1CA71C",
          "line": {
           "color": "DarkSlateGrey",
           "width": 2
          },
          "size": 12,
          "symbol": "circle"
         },
         "mode": "markers",
         "name": "Hf20 Zr20 Ti20 Nb20 Mo20",
         "orientation": "v",
         "showlegend": true,
         "type": "scatter",
         "x": [
          0.08164965809277262
         ],
         "xaxis": "x",
         "y": [
          0.14142135623730942
         ],
         "yaxis": "y"
        }
       ],
       "layout": {
        "height": 400,
        "legend": {
         "title": {
          "text": "Alloy Reported"
         },
         "tracegroupgap": 0
        },
        "template": {
         "data": {
          "bar": [
           {
            "error_x": {
             "color": "#2a3f5f"
            },
            "error_y": {
             "color": "#2a3f5f"
            },
            "marker": {
             "line": {
              "color": "white",
              "width": 0.5
             },
             "pattern": {
              "fillmode": "overlay",
              "size": 10,
              "solidity": 0.2
             }
            },
            "type": "bar"
           }
          ],
          "barpolar": [
           {
            "marker": {
             "line": {
              "color": "white",
              "width": 0.5
             },
             "pattern": {
              "fillmode": "overlay",
              "size": 10,
              "solidity": 0.2
             }
            },
            "type": "barpolar"
           }
          ],
          "carpet": [
           {
            "aaxis": {
             "endlinecolor": "#2a3f5f",
             "gridcolor": "#C8D4E3",
             "linecolor": "#C8D4E3",
             "minorgridcolor": "#C8D4E3",
             "startlinecolor": "#2a3f5f"
            },
            "baxis": {
             "endlinecolor": "#2a3f5f",
             "gridcolor": "#C8D4E3",
             "linecolor": "#C8D4E3",
             "minorgridcolor": "#C8D4E3",
             "startlinecolor": "#2a3f5f"
            },
            "type": "carpet"
           }
          ],
          "choropleth": [
           {
            "colorbar": {
             "outlinewidth": 0,
             "ticks": ""
            },
            "type": "choropleth"
           }
          ],
          "contour": [
           {
            "colorbar": {
             "outlinewidth": 0,
             "ticks": ""
            },
            "colorscale": [
             [
              0,
              "#0d0887"
             ],
             [
              0.1111111111111111,
              "#46039f"
             ],
             [
              0.2222222222222222,
              "#7201a8"
             ],
             [
              0.3333333333333333,
              "#9c179e"
             ],
             [
              0.4444444444444444,
              "#bd3786"
             ],
             [
              0.5555555555555556,
              "#d8576b"
             ],
             [
              0.6666666666666666,
              "#ed7953"
             ],
             [
              0.7777777777777778,
              "#fb9f3a"
             ],
             [
              0.8888888888888888,
              "#fdca26"
             ],
             [
              1,
              "#f0f921"
             ]
            ],
            "type": "contour"
           }
          ],
          "contourcarpet": [
           {
            "colorbar": {
             "outlinewidth": 0,
             "ticks": ""
            },
            "type": "contourcarpet"
           }
          ],
          "heatmap": [
           {
            "colorbar": {
             "outlinewidth": 0,
             "ticks": ""
            },
            "colorscale": [
             [
              0,
              "#0d0887"
             ],
             [
              0.1111111111111111,
              "#46039f"
             ],
             [
              0.2222222222222222,
              "#7201a8"
             ],
             [
              0.3333333333333333,
              "#9c179e"
             ],
             [
              0.4444444444444444,
              "#bd3786"
             ],
             [
              0.5555555555555556,
              "#d8576b"
             ],
             [
              0.6666666666666666,
              "#ed7953"
             ],
             [
              0.7777777777777778,
              "#fb9f3a"
             ],
             [
              0.8888888888888888,
              "#fdca26"
             ],
             [
              1,
              "#f0f921"
             ]
            ],
            "type": "heatmap"
           }
          ],
          "heatmapgl": [
           {
            "colorbar": {
             "outlinewidth": 0,
             "ticks": ""
            },
            "colorscale": [
             [
              0,
              "#0d0887"
             ],
             [
              0.1111111111111111,
              "#46039f"
             ],
             [
              0.2222222222222222,
              "#7201a8"
             ],
             [
              0.3333333333333333,
              "#9c179e"
             ],
             [
              0.4444444444444444,
              "#bd3786"
             ],
             [
              0.5555555555555556,
              "#d8576b"
             ],
             [
              0.6666666666666666,
              "#ed7953"
             ],
             [
              0.7777777777777778,
              "#fb9f3a"
             ],
             [
              0.8888888888888888,
              "#fdca26"
             ],
             [
              1,
              "#f0f921"
             ]
            ],
            "type": "heatmapgl"
           }
          ],
          "histogram": [
           {
            "marker": {
             "pattern": {
              "fillmode": "overlay",
              "size": 10,
              "solidity": 0.2
             }
            },
            "type": "histogram"
           }
          ],
          "histogram2d": [
           {
            "colorbar": {
             "outlinewidth": 0,
             "ticks": ""
            },
            "colorscale": [
             [
              0,
              "#0d0887"
             ],
             [
              0.1111111111111111,
              "#46039f"
             ],
             [
              0.2222222222222222,
              "#7201a8"
             ],
             [
              0.3333333333333333,
              "#9c179e"
             ],
             [
              0.4444444444444444,
              "#bd3786"
             ],
             [
              0.5555555555555556,
              "#d8576b"
             ],
             [
              0.6666666666666666,
              "#ed7953"
             ],
             [
              0.7777777777777778,
              "#fb9f3a"
             ],
             [
              0.8888888888888888,
              "#fdca26"
             ],
             [
              1,
              "#f0f921"
             ]
            ],
            "type": "histogram2d"
           }
          ],
          "histogram2dcontour": [
           {
            "colorbar": {
             "outlinewidth": 0,
             "ticks": ""
            },
            "colorscale": [
             [
              0,
              "#0d0887"
             ],
             [
              0.1111111111111111,
              "#46039f"
             ],
             [
              0.2222222222222222,
              "#7201a8"
             ],
             [
              0.3333333333333333,
              "#9c179e"
             ],
             [
              0.4444444444444444,
              "#bd3786"
             ],
             [
              0.5555555555555556,
              "#d8576b"
             ],
             [
              0.6666666666666666,
              "#ed7953"
             ],
             [
              0.7777777777777778,
              "#fb9f3a"
             ],
             [
              0.8888888888888888,
              "#fdca26"
             ],
             [
              1,
              "#f0f921"
             ]
            ],
            "type": "histogram2dcontour"
           }
          ],
          "mesh3d": [
           {
            "colorbar": {
             "outlinewidth": 0,
             "ticks": ""
            },
            "type": "mesh3d"
           }
          ],
          "parcoords": [
           {
            "line": {
             "colorbar": {
              "outlinewidth": 0,
              "ticks": ""
             }
            },
            "type": "parcoords"
           }
          ],
          "pie": [
           {
            "automargin": true,
            "type": "pie"
           }
          ],
          "scatter": [
           {
            "fillpattern": {
             "fillmode": "overlay",
             "size": 10,
             "solidity": 0.2
            },
            "type": "scatter"
           }
          ],
          "scatter3d": [
           {
            "line": {
             "colorbar": {
              "outlinewidth": 0,
              "ticks": ""
             }
            },
            "marker": {
             "colorbar": {
              "outlinewidth": 0,
              "ticks": ""
             }
            },
            "type": "scatter3d"
           }
          ],
          "scattercarpet": [
           {
            "marker": {
             "colorbar": {
              "outlinewidth": 0,
              "ticks": ""
             }
            },
            "type": "scattercarpet"
           }
          ],
          "scattergeo": [
           {
            "marker": {
             "colorbar": {
              "outlinewidth": 0,
              "ticks": ""
             }
            },
            "type": "scattergeo"
           }
          ],
          "scattergl": [
           {
            "marker": {
             "colorbar": {
              "outlinewidth": 0,
              "ticks": ""
             }
            },
            "type": "scattergl"
           }
          ],
          "scattermapbox": [
           {
            "marker": {
             "colorbar": {
              "outlinewidth": 0,
              "ticks": ""
             }
            },
            "type": "scattermapbox"
           }
          ],
          "scatterpolar": [
           {
            "marker": {
             "colorbar": {
              "outlinewidth": 0,
              "ticks": ""
             }
            },
            "type": "scatterpolar"
           }
          ],
          "scatterpolargl": [
           {
            "marker": {
             "colorbar": {
              "outlinewidth": 0,
              "ticks": ""
             }
            },
            "type": "scatterpolargl"
           }
          ],
          "scatterternary": [
           {
            "marker": {
             "colorbar": {
              "outlinewidth": 0,
              "ticks": ""
             }
            },
            "type": "scatterternary"
           }
          ],
          "surface": [
           {
            "colorbar": {
             "outlinewidth": 0,
             "ticks": ""
            },
            "colorscale": [
             [
              0,
              "#0d0887"
             ],
             [
              0.1111111111111111,
              "#46039f"
             ],
             [
              0.2222222222222222,
              "#7201a8"
             ],
             [
              0.3333333333333333,
              "#9c179e"
             ],
             [
              0.4444444444444444,
              "#bd3786"
             ],
             [
              0.5555555555555556,
              "#d8576b"
             ],
             [
              0.6666666666666666,
              "#ed7953"
             ],
             [
              0.7777777777777778,
              "#fb9f3a"
             ],
             [
              0.8888888888888888,
              "#fdca26"
             ],
             [
              1,
              "#f0f921"
             ]
            ],
            "type": "surface"
           }
          ],
          "table": [
           {
            "cells": {
             "fill": {
              "color": "#EBF0F8"
             },
             "line": {
              "color": "white"
             }
            },
            "header": {
             "fill": {
              "color": "#C8D4E3"
             },
             "line": {
              "color": "white"
             }
            },
            "type": "table"
           }
          ]
         },
         "layout": {
          "annotationdefaults": {
           "arrowcolor": "#2a3f5f",
           "arrowhead": 0,
           "arrowwidth": 1
          },
          "autotypenumbers": "strict",
          "coloraxis": {
           "colorbar": {
            "outlinewidth": 0,
            "ticks": ""
           }
          },
          "colorscale": {
           "diverging": [
            [
             0,
             "#8e0152"
            ],
            [
             0.1,
             "#c51b7d"
            ],
            [
             0.2,
             "#de77ae"
            ],
            [
             0.3,
             "#f1b6da"
            ],
            [
             0.4,
             "#fde0ef"
            ],
            [
             0.5,
             "#f7f7f7"
            ],
            [
             0.6,
             "#e6f5d0"
            ],
            [
             0.7,
             "#b8e186"
            ],
            [
             0.8,
             "#7fbc41"
            ],
            [
             0.9,
             "#4d9221"
            ],
            [
             1,
             "#276419"
            ]
           ],
           "sequential": [
            [
             0,
             "#0d0887"
            ],
            [
             0.1111111111111111,
             "#46039f"
            ],
            [
             0.2222222222222222,
             "#7201a8"
            ],
            [
             0.3333333333333333,
             "#9c179e"
            ],
            [
             0.4444444444444444,
             "#bd3786"
            ],
            [
             0.5555555555555556,
             "#d8576b"
            ],
            [
             0.6666666666666666,
             "#ed7953"
            ],
            [
             0.7777777777777778,
             "#fb9f3a"
            ],
            [
             0.8888888888888888,
             "#fdca26"
            ],
            [
             1,
             "#f0f921"
            ]
           ],
           "sequentialminus": [
            [
             0,
             "#0d0887"
            ],
            [
             0.1111111111111111,
             "#46039f"
            ],
            [
             0.2222222222222222,
             "#7201a8"
            ],
            [
             0.3333333333333333,
             "#9c179e"
            ],
            [
             0.4444444444444444,
             "#bd3786"
            ],
            [
             0.5555555555555556,
             "#d8576b"
            ],
            [
             0.6666666666666666,
             "#ed7953"
            ],
            [
             0.7777777777777778,
             "#fb9f3a"
            ],
            [
             0.8888888888888888,
             "#fdca26"
            ],
            [
             1,
             "#f0f921"
            ]
           ]
          },
          "colorway": [
           "#636efa",
           "#EF553B",
           "#00cc96",
           "#ab63fa",
           "#FFA15A",
           "#19d3f3",
           "#FF6692",
           "#B6E880",
           "#FF97FF",
           "#FECB52"
          ],
          "font": {
           "color": "#2a3f5f"
          },
          "geo": {
           "bgcolor": "white",
           "lakecolor": "white",
           "landcolor": "white",
           "showlakes": true,
           "showland": true,
           "subunitcolor": "#C8D4E3"
          },
          "hoverlabel": {
           "align": "left"
          },
          "hovermode": "closest",
          "mapbox": {
           "style": "light"
          },
          "paper_bgcolor": "white",
          "plot_bgcolor": "white",
          "polar": {
           "angularaxis": {
            "gridcolor": "#EBF0F8",
            "linecolor": "#EBF0F8",
            "ticks": ""
           },
           "bgcolor": "white",
           "radialaxis": {
            "gridcolor": "#EBF0F8",
            "linecolor": "#EBF0F8",
            "ticks": ""
           }
          },
          "scene": {
           "xaxis": {
            "backgroundcolor": "white",
            "gridcolor": "#DFE8F3",
            "gridwidth": 2,
            "linecolor": "#EBF0F8",
            "showbackground": true,
            "ticks": "",
            "zerolinecolor": "#EBF0F8"
           },
           "yaxis": {
            "backgroundcolor": "white",
            "gridcolor": "#DFE8F3",
            "gridwidth": 2,
            "linecolor": "#EBF0F8",
            "showbackground": true,
            "ticks": "",
            "zerolinecolor": "#EBF0F8"
           },
           "zaxis": {
            "backgroundcolor": "white",
            "gridcolor": "#DFE8F3",
            "gridwidth": 2,
            "linecolor": "#EBF0F8",
            "showbackground": true,
            "ticks": "",
            "zerolinecolor": "#EBF0F8"
           }
          },
          "shapedefaults": {
           "line": {
            "color": "#2a3f5f"
           }
          },
          "ternary": {
           "aaxis": {
            "gridcolor": "#DFE8F3",
            "linecolor": "#A2B1C6",
            "ticks": ""
           },
           "baxis": {
            "gridcolor": "#DFE8F3",
            "linecolor": "#A2B1C6",
            "ticks": ""
           },
           "bgcolor": "white",
           "caxis": {
            "gridcolor": "#DFE8F3",
            "linecolor": "#A2B1C6",
            "ticks": ""
           }
          },
          "title": {
           "x": 0.05
          },
          "xaxis": {
           "automargin": true,
           "gridcolor": "#EBF0F8",
           "linecolor": "#EBF0F8",
           "ticks": "",
           "title": {
            "standoff": 15
           },
           "zerolinecolor": "#EBF0F8",
           "zerolinewidth": 2
          },
          "yaxis": {
           "automargin": true,
           "gridcolor": "#EBF0F8",
           "linecolor": "#EBF0F8",
           "ticks": "",
           "title": {
            "standoff": 15
           },
           "zerolinecolor": "#EBF0F8",
           "zerolinewidth": 2
          }
         }
        },
        "title": {
         "text": "<b>10.3390/e21010015</b>  --> <br>parsed by Adam Krajewski"
        },
        "width": 900,
        "xaxis": {
         "anchor": "y",
         "domain": [
          0,
          1
         ],
         "title": {
          "text": "PCA1"
         }
        },
        "yaxis": {
         "anchor": "x",
         "domain": [
          0,
          1
         ],
         "title": {
          "text": "PCA2"
         }
        }
       }
      }
     },
     "metadata": {},
     "output_type": "display_data"
    }
   ],
   "source": [
    "for doi in doiList[0:10]:\n",
    "    sDOI.setDOI(doi)\n",
    "    sDOI.getCompVecs()\n",
    "    if len(sDOI.compVecs) > 1:\n",
    "        sDOI.get_compVecs_2DPCA()\n",
    "        sDOI.analyze_compVecs_2DPCA(showFigure=True)"
   ]
  },
  {
   "cell_type": "code",
   "execution_count": 19,
   "metadata": {
    "ExecuteTime": {
     "end_time": "2023-03-28T12:57:01.067171Z",
     "start_time": "2023-03-28T12:57:00.310707Z"
    },
    "collapsed": false
   },
   "outputs": [
    {
     "name": "stdout",
     "output_type": "stream",
     "text": [
      "Loading the database credentials from default location: /Users/adam/VSCode Projects/PyQAlloy-1/pyqalloy/credentials.json\n",
      "Connected to the CURATED_Dec2022 in ULTERA_internal with 6073 data points detected.\n",
      "********  Analyzer Initialized  ********\n"
     ]
    },
    {
     "data": {
      "application/vnd.plotly.v1+json": {
       "config": {
        "plotlyServerURL": "https://plot.ly"
       },
       "data": [
        {
         "hovertemplate": "<b>%{hovertext}</b><br><br>Alloy Reported=Hf20 Ti20 Ta20 Nb20 Mo20<br>PCA1=%{x}<br>PCA2=%{y}<extra></extra>",
         "hovertext": [
          "Hf20 Ti20 Ta20 Nb20 Mo20"
         ],
         "legendgroup": "Hf20 Ti20 Ta20 Nb20 Mo20",
         "marker": {
          "color": "#2E91E5",
          "line": {
           "color": "DarkSlateGrey",
           "width": 2
          },
          "size": 12,
          "symbol": "circle"
         },
         "mode": "markers",
         "name": "Hf20 Ti20 Ta20 Nb20 Mo20",
         "orientation": "v",
         "showlegend": true,
         "type": "scatter",
         "x": [
          -0.16329931618554522
         ],
         "xaxis": "x",
         "y": [
          2.9401988348447113e-17
         ],
         "yaxis": "y"
        },
        {
         "hovertemplate": "<b>%{hovertext}</b><br><br>Alloy Reported=Hf20 Zr20 Ta20 Nb20 Mo20<br>PCA1=%{x}<br>PCA2=%{y}<extra></extra>",
         "hovertext": [
          "Hf20 Zr20 Ta20 Nb20 Mo20"
         ],
         "legendgroup": "Hf20 Zr20 Ta20 Nb20 Mo20",
         "marker": {
          "color": "#E15F99",
          "line": {
           "color": "DarkSlateGrey",
           "width": 2
          },
          "size": 12,
          "symbol": "circle"
         },
         "mode": "markers",
         "name": "Hf20 Zr20 Ta20 Nb20 Mo20",
         "orientation": "v",
         "showlegend": true,
         "type": "scatter",
         "x": [
          0.08164965809277261
         ],
         "xaxis": "x",
         "y": [
          -0.14142135623730936
         ],
         "yaxis": "y"
        },
        {
         "hovertemplate": "<b>%{hovertext}</b><br><br>Alloy Reported=Hf20 Zr20 Ti20 Nb20 Mo20<br>PCA1=%{x}<br>PCA2=%{y}<extra></extra>",
         "hovertext": [
          "Hf20 Zr20 Ti20 Nb20 Mo20"
         ],
         "legendgroup": "Hf20 Zr20 Ti20 Nb20 Mo20",
         "marker": {
          "color": "#1CA71C",
          "line": {
           "color": "DarkSlateGrey",
           "width": 2
          },
          "size": 12,
          "symbol": "circle"
         },
         "mode": "markers",
         "name": "Hf20 Zr20 Ti20 Nb20 Mo20",
         "orientation": "v",
         "showlegend": true,
         "type": "scatter",
         "x": [
          0.08164965809277262
         ],
         "xaxis": "x",
         "y": [
          0.14142135623730942
         ],
         "yaxis": "y"
        }
       ],
       "layout": {
        "height": 400,
        "legend": {
         "title": {
          "text": "Alloy Reported"
         },
         "tracegroupgap": 0
        },
        "template": {
         "data": {
          "bar": [
           {
            "error_x": {
             "color": "#2a3f5f"
            },
            "error_y": {
             "color": "#2a3f5f"
            },
            "marker": {
             "line": {
              "color": "white",
              "width": 0.5
             },
             "pattern": {
              "fillmode": "overlay",
              "size": 10,
              "solidity": 0.2
             }
            },
            "type": "bar"
           }
          ],
          "barpolar": [
           {
            "marker": {
             "line": {
              "color": "white",
              "width": 0.5
             },
             "pattern": {
              "fillmode": "overlay",
              "size": 10,
              "solidity": 0.2
             }
            },
            "type": "barpolar"
           }
          ],
          "carpet": [
           {
            "aaxis": {
             "endlinecolor": "#2a3f5f",
             "gridcolor": "#C8D4E3",
             "linecolor": "#C8D4E3",
             "minorgridcolor": "#C8D4E3",
             "startlinecolor": "#2a3f5f"
            },
            "baxis": {
             "endlinecolor": "#2a3f5f",
             "gridcolor": "#C8D4E3",
             "linecolor": "#C8D4E3",
             "minorgridcolor": "#C8D4E3",
             "startlinecolor": "#2a3f5f"
            },
            "type": "carpet"
           }
          ],
          "choropleth": [
           {
            "colorbar": {
             "outlinewidth": 0,
             "ticks": ""
            },
            "type": "choropleth"
           }
          ],
          "contour": [
           {
            "colorbar": {
             "outlinewidth": 0,
             "ticks": ""
            },
            "colorscale": [
             [
              0,
              "#0d0887"
             ],
             [
              0.1111111111111111,
              "#46039f"
             ],
             [
              0.2222222222222222,
              "#7201a8"
             ],
             [
              0.3333333333333333,
              "#9c179e"
             ],
             [
              0.4444444444444444,
              "#bd3786"
             ],
             [
              0.5555555555555556,
              "#d8576b"
             ],
             [
              0.6666666666666666,
              "#ed7953"
             ],
             [
              0.7777777777777778,
              "#fb9f3a"
             ],
             [
              0.8888888888888888,
              "#fdca26"
             ],
             [
              1,
              "#f0f921"
             ]
            ],
            "type": "contour"
           }
          ],
          "contourcarpet": [
           {
            "colorbar": {
             "outlinewidth": 0,
             "ticks": ""
            },
            "type": "contourcarpet"
           }
          ],
          "heatmap": [
           {
            "colorbar": {
             "outlinewidth": 0,
             "ticks": ""
            },
            "colorscale": [
             [
              0,
              "#0d0887"
             ],
             [
              0.1111111111111111,
              "#46039f"
             ],
             [
              0.2222222222222222,
              "#7201a8"
             ],
             [
              0.3333333333333333,
              "#9c179e"
             ],
             [
              0.4444444444444444,
              "#bd3786"
             ],
             [
              0.5555555555555556,
              "#d8576b"
             ],
             [
              0.6666666666666666,
              "#ed7953"
             ],
             [
              0.7777777777777778,
              "#fb9f3a"
             ],
             [
              0.8888888888888888,
              "#fdca26"
             ],
             [
              1,
              "#f0f921"
             ]
            ],
            "type": "heatmap"
           }
          ],
          "heatmapgl": [
           {
            "colorbar": {
             "outlinewidth": 0,
             "ticks": ""
            },
            "colorscale": [
             [
              0,
              "#0d0887"
             ],
             [
              0.1111111111111111,
              "#46039f"
             ],
             [
              0.2222222222222222,
              "#7201a8"
             ],
             [
              0.3333333333333333,
              "#9c179e"
             ],
             [
              0.4444444444444444,
              "#bd3786"
             ],
             [
              0.5555555555555556,
              "#d8576b"
             ],
             [
              0.6666666666666666,
              "#ed7953"
             ],
             [
              0.7777777777777778,
              "#fb9f3a"
             ],
             [
              0.8888888888888888,
              "#fdca26"
             ],
             [
              1,
              "#f0f921"
             ]
            ],
            "type": "heatmapgl"
           }
          ],
          "histogram": [
           {
            "marker": {
             "pattern": {
              "fillmode": "overlay",
              "size": 10,
              "solidity": 0.2
             }
            },
            "type": "histogram"
           }
          ],
          "histogram2d": [
           {
            "colorbar": {
             "outlinewidth": 0,
             "ticks": ""
            },
            "colorscale": [
             [
              0,
              "#0d0887"
             ],
             [
              0.1111111111111111,
              "#46039f"
             ],
             [
              0.2222222222222222,
              "#7201a8"
             ],
             [
              0.3333333333333333,
              "#9c179e"
             ],
             [
              0.4444444444444444,
              "#bd3786"
             ],
             [
              0.5555555555555556,
              "#d8576b"
             ],
             [
              0.6666666666666666,
              "#ed7953"
             ],
             [
              0.7777777777777778,
              "#fb9f3a"
             ],
             [
              0.8888888888888888,
              "#fdca26"
             ],
             [
              1,
              "#f0f921"
             ]
            ],
            "type": "histogram2d"
           }
          ],
          "histogram2dcontour": [
           {
            "colorbar": {
             "outlinewidth": 0,
             "ticks": ""
            },
            "colorscale": [
             [
              0,
              "#0d0887"
             ],
             [
              0.1111111111111111,
              "#46039f"
             ],
             [
              0.2222222222222222,
              "#7201a8"
             ],
             [
              0.3333333333333333,
              "#9c179e"
             ],
             [
              0.4444444444444444,
              "#bd3786"
             ],
             [
              0.5555555555555556,
              "#d8576b"
             ],
             [
              0.6666666666666666,
              "#ed7953"
             ],
             [
              0.7777777777777778,
              "#fb9f3a"
             ],
             [
              0.8888888888888888,
              "#fdca26"
             ],
             [
              1,
              "#f0f921"
             ]
            ],
            "type": "histogram2dcontour"
           }
          ],
          "mesh3d": [
           {
            "colorbar": {
             "outlinewidth": 0,
             "ticks": ""
            },
            "type": "mesh3d"
           }
          ],
          "parcoords": [
           {
            "line": {
             "colorbar": {
              "outlinewidth": 0,
              "ticks": ""
             }
            },
            "type": "parcoords"
           }
          ],
          "pie": [
           {
            "automargin": true,
            "type": "pie"
           }
          ],
          "scatter": [
           {
            "fillpattern": {
             "fillmode": "overlay",
             "size": 10,
             "solidity": 0.2
            },
            "type": "scatter"
           }
          ],
          "scatter3d": [
           {
            "line": {
             "colorbar": {
              "outlinewidth": 0,
              "ticks": ""
             }
            },
            "marker": {
             "colorbar": {
              "outlinewidth": 0,
              "ticks": ""
             }
            },
            "type": "scatter3d"
           }
          ],
          "scattercarpet": [
           {
            "marker": {
             "colorbar": {
              "outlinewidth": 0,
              "ticks": ""
             }
            },
            "type": "scattercarpet"
           }
          ],
          "scattergeo": [
           {
            "marker": {
             "colorbar": {
              "outlinewidth": 0,
              "ticks": ""
             }
            },
            "type": "scattergeo"
           }
          ],
          "scattergl": [
           {
            "marker": {
             "colorbar": {
              "outlinewidth": 0,
              "ticks": ""
             }
            },
            "type": "scattergl"
           }
          ],
          "scattermapbox": [
           {
            "marker": {
             "colorbar": {
              "outlinewidth": 0,
              "ticks": ""
             }
            },
            "type": "scattermapbox"
           }
          ],
          "scatterpolar": [
           {
            "marker": {
             "colorbar": {
              "outlinewidth": 0,
              "ticks": ""
             }
            },
            "type": "scatterpolar"
           }
          ],
          "scatterpolargl": [
           {
            "marker": {
             "colorbar": {
              "outlinewidth": 0,
              "ticks": ""
             }
            },
            "type": "scatterpolargl"
           }
          ],
          "scatterternary": [
           {
            "marker": {
             "colorbar": {
              "outlinewidth": 0,
              "ticks": ""
             }
            },
            "type": "scatterternary"
           }
          ],
          "surface": [
           {
            "colorbar": {
             "outlinewidth": 0,
             "ticks": ""
            },
            "colorscale": [
             [
              0,
              "#0d0887"
             ],
             [
              0.1111111111111111,
              "#46039f"
             ],
             [
              0.2222222222222222,
              "#7201a8"
             ],
             [
              0.3333333333333333,
              "#9c179e"
             ],
             [
              0.4444444444444444,
              "#bd3786"
             ],
             [
              0.5555555555555556,
              "#d8576b"
             ],
             [
              0.6666666666666666,
              "#ed7953"
             ],
             [
              0.7777777777777778,
              "#fb9f3a"
             ],
             [
              0.8888888888888888,
              "#fdca26"
             ],
             [
              1,
              "#f0f921"
             ]
            ],
            "type": "surface"
           }
          ],
          "table": [
           {
            "cells": {
             "fill": {
              "color": "#EBF0F8"
             },
             "line": {
              "color": "white"
             }
            },
            "header": {
             "fill": {
              "color": "#C8D4E3"
             },
             "line": {
              "color": "white"
             }
            },
            "type": "table"
           }
          ]
         },
         "layout": {
          "annotationdefaults": {
           "arrowcolor": "#2a3f5f",
           "arrowhead": 0,
           "arrowwidth": 1
          },
          "autotypenumbers": "strict",
          "coloraxis": {
           "colorbar": {
            "outlinewidth": 0,
            "ticks": ""
           }
          },
          "colorscale": {
           "diverging": [
            [
             0,
             "#8e0152"
            ],
            [
             0.1,
             "#c51b7d"
            ],
            [
             0.2,
             "#de77ae"
            ],
            [
             0.3,
             "#f1b6da"
            ],
            [
             0.4,
             "#fde0ef"
            ],
            [
             0.5,
             "#f7f7f7"
            ],
            [
             0.6,
             "#e6f5d0"
            ],
            [
             0.7,
             "#b8e186"
            ],
            [
             0.8,
             "#7fbc41"
            ],
            [
             0.9,
             "#4d9221"
            ],
            [
             1,
             "#276419"
            ]
           ],
           "sequential": [
            [
             0,
             "#0d0887"
            ],
            [
             0.1111111111111111,
             "#46039f"
            ],
            [
             0.2222222222222222,
             "#7201a8"
            ],
            [
             0.3333333333333333,
             "#9c179e"
            ],
            [
             0.4444444444444444,
             "#bd3786"
            ],
            [
             0.5555555555555556,
             "#d8576b"
            ],
            [
             0.6666666666666666,
             "#ed7953"
            ],
            [
             0.7777777777777778,
             "#fb9f3a"
            ],
            [
             0.8888888888888888,
             "#fdca26"
            ],
            [
             1,
             "#f0f921"
            ]
           ],
           "sequentialminus": [
            [
             0,
             "#0d0887"
            ],
            [
             0.1111111111111111,
             "#46039f"
            ],
            [
             0.2222222222222222,
             "#7201a8"
            ],
            [
             0.3333333333333333,
             "#9c179e"
            ],
            [
             0.4444444444444444,
             "#bd3786"
            ],
            [
             0.5555555555555556,
             "#d8576b"
            ],
            [
             0.6666666666666666,
             "#ed7953"
            ],
            [
             0.7777777777777778,
             "#fb9f3a"
            ],
            [
             0.8888888888888888,
             "#fdca26"
            ],
            [
             1,
             "#f0f921"
            ]
           ]
          },
          "colorway": [
           "#636efa",
           "#EF553B",
           "#00cc96",
           "#ab63fa",
           "#FFA15A",
           "#19d3f3",
           "#FF6692",
           "#B6E880",
           "#FF97FF",
           "#FECB52"
          ],
          "font": {
           "color": "#2a3f5f"
          },
          "geo": {
           "bgcolor": "white",
           "lakecolor": "white",
           "landcolor": "white",
           "showlakes": true,
           "showland": true,
           "subunitcolor": "#C8D4E3"
          },
          "hoverlabel": {
           "align": "left"
          },
          "hovermode": "closest",
          "mapbox": {
           "style": "light"
          },
          "paper_bgcolor": "white",
          "plot_bgcolor": "white",
          "polar": {
           "angularaxis": {
            "gridcolor": "#EBF0F8",
            "linecolor": "#EBF0F8",
            "ticks": ""
           },
           "bgcolor": "white",
           "radialaxis": {
            "gridcolor": "#EBF0F8",
            "linecolor": "#EBF0F8",
            "ticks": ""
           }
          },
          "scene": {
           "xaxis": {
            "backgroundcolor": "white",
            "gridcolor": "#DFE8F3",
            "gridwidth": 2,
            "linecolor": "#EBF0F8",
            "showbackground": true,
            "ticks": "",
            "zerolinecolor": "#EBF0F8"
           },
           "yaxis": {
            "backgroundcolor": "white",
            "gridcolor": "#DFE8F3",
            "gridwidth": 2,
            "linecolor": "#EBF0F8",
            "showbackground": true,
            "ticks": "",
            "zerolinecolor": "#EBF0F8"
           },
           "zaxis": {
            "backgroundcolor": "white",
            "gridcolor": "#DFE8F3",
            "gridwidth": 2,
            "linecolor": "#EBF0F8",
            "showbackground": true,
            "ticks": "",
            "zerolinecolor": "#EBF0F8"
           }
          },
          "shapedefaults": {
           "line": {
            "color": "#2a3f5f"
           }
          },
          "ternary": {
           "aaxis": {
            "gridcolor": "#DFE8F3",
            "linecolor": "#A2B1C6",
            "ticks": ""
           },
           "baxis": {
            "gridcolor": "#DFE8F3",
            "linecolor": "#A2B1C6",
            "ticks": ""
           },
           "bgcolor": "white",
           "caxis": {
            "gridcolor": "#DFE8F3",
            "linecolor": "#A2B1C6",
            "ticks": ""
           }
          },
          "title": {
           "x": 0.05
          },
          "xaxis": {
           "automargin": true,
           "gridcolor": "#EBF0F8",
           "linecolor": "#EBF0F8",
           "ticks": "",
           "title": {
            "standoff": 15
           },
           "zerolinecolor": "#EBF0F8",
           "zerolinewidth": 2
          },
          "yaxis": {
           "automargin": true,
           "gridcolor": "#EBF0F8",
           "linecolor": "#EBF0F8",
           "ticks": "",
           "title": {
            "standoff": 15
           },
           "zerolinecolor": "#EBF0F8",
           "zerolinewidth": 2
          }
         }
        },
        "title": {
         "text": "<b>10.3390/e21010015</b>  --> <br>parsed by Adam Krajewski"
        },
        "width": 900,
        "xaxis": {
         "anchor": "y",
         "domain": [
          0,
          1
         ],
         "title": {
          "text": "PCA1"
         }
        },
        "yaxis": {
         "anchor": "x",
         "domain": [
          0,
          1
         ],
         "title": {
          "text": "PCA2"
         }
        }
       }
      }
     },
     "metadata": {},
     "output_type": "display_data"
    }
   ],
   "source": [
    "sDOI = analysis.SingleDOIAnalyzer(doi='', name='Adam Krajewski')\n",
    "for doi in doiList[0:10]:\n",
    "    sDOI.setName('Adam Krajewski')\n",
    "    sDOI.setDOI(doi)\n",
    "    sDOI.getCompVecs()\n",
    "    if len(sDOI.compVecs) > 1:\n",
    "        sDOI.get_compVecs_2DPCA()\n",
    "        sDOI.analyze_compVecs_2DPCA(showFigure=True)"
   ]
  },
  {
   "cell_type": "code",
   "execution_count": 20,
   "metadata": {
    "ExecuteTime": {
     "end_time": "2023-03-28T12:57:01.575394Z",
     "start_time": "2023-03-28T12:57:01.256216Z"
    },
    "collapsed": false
   },
   "outputs": [
    {
     "name": "stdout",
     "output_type": "stream",
     "text": [
      "Loading the database credentials from default location: /Users/adam/VSCode Projects/PyQAlloy-1/pyqalloy/credentials.json\n",
      "Connected to the CURATED_Dec2022 in ULTERA_internal with 6073 data points detected.\n",
      "********  Analyzer Initialized  ********\n",
      "479 DOIs to process\n"
     ]
    }
   ],
   "source": [
    "doi = '10.1016/j.jallcom.2008.11.059'\n",
    "sDOI = analysis.SingleDOIAnalyzer(doi=doi)\n",
    "sDOI.setName('Hui Sun')\n",
    "doiList = sDOI.get_allDOIs()\n",
    "print(f'{len(doiList)} DOIs to process')"
   ]
  },
  {
   "cell_type": "code",
   "execution_count": 21,
   "metadata": {
    "ExecuteTime": {
     "end_time": "2023-03-28T12:57:30.680686Z",
     "start_time": "2023-03-28T12:57:02.628871Z"
    },
    "collapsed": false
   },
   "outputs": [],
   "source": [
    "toPrintList = []\n",
    "for doi in doiList:\n",
    "    sDOI.setName('Hui Sun')\n",
    "    sDOI.setDOI(doi)\n",
    "    sDOI.getCompVecs()\n",
    "    if len(sDOI.compVecs)>1:\n",
    "        sDOI.get_compVecs_2DPCA()\n",
    "        out = sDOI.analyze_compVecs_2DPCA(showFigure=False)\n",
    "        toPrintList.append(out)\n",
    "    else:\n",
    "        toPrintList.append(f'Skipping {doi:<30} Not enough data for PCA (N>=2).')\n",
    "sDOI.writeManyPlots(toPlotList=toPrintList, workbookPath='SingleDOI_ResultPCA_Hui.xlsx')"
   ]
  },
  {
   "cell_type": "markdown",
   "metadata": {
    "collapsed": false
   },
   "source": [
    "### All Data (Entire Database) Analyzer \n",
    "\n",
    "Set up the allD (all Data) Analyzer Object and initialize it"
   ]
  },
  {
   "cell_type": "code",
   "execution_count": 22,
   "metadata": {
    "ExecuteTime": {
     "end_time": "2023-03-28T12:57:30.682780Z",
     "start_time": "2023-03-28T12:57:30.680353Z"
    },
    "collapsed": false
   },
   "outputs": [],
   "source": [
    "from pyqalloy.curation import analysis"
   ]
  },
  {
   "cell_type": "code",
   "execution_count": 23,
   "metadata": {
    "ExecuteTime": {
     "end_time": "2023-03-28T12:57:35.002650Z",
     "start_time": "2023-03-28T12:57:30.683007Z"
    },
    "collapsed": false
   },
   "outputs": [
    {
     "name": "stdout",
     "output_type": "stream",
     "text": [
      "Loading the database credentials from default location: /Users/adam/VSCode Projects/PyQAlloy-1/pyqalloy/credentials.json\n",
      "Connected to the CURATED_Dec2022 in ULTERA_internal with 6073 data points detected.\n",
      "Updating the list of all unique composition points...\n",
      "Number of unique formulas found: 1311\n",
      "Elements Found: {'Li', 'Ga', 'Hf', 'Al', 'N', 'Fe', 'Co', 'Mn', 'Ru', 'Zr', 'Nb', 'Sn', 'C', 'Y', 'Ir', 'Si', 'Ti', 'Cr', 'S', 'Ge', 'W', 'B', 'Ca', 'Mg', 'O', 'Sc', 'Nd', 'Pd', 'Zn', 'Mo', 'Ag', 'Ta', 'Ni', 'Re', 'Be', 'Cu', 'V'}\n",
      "Done!\n"
     ]
    }
   ],
   "source": [
    "allD = analysis.AllDataAnalyzer()"
   ]
  },
  {
   "cell_type": "code",
   "execution_count": 24,
   "metadata": {
    "ExecuteTime": {
     "end_time": "2023-03-28T14:48:51.161382Z",
     "start_time": "2023-03-28T14:48:46.598664Z"
    },
    "collapsed": false
   },
   "outputs": [
    {
     "data": {
      "text/plain": [
       "array([[ 63.90454  , -32.218098 ],\n",
       "       [ 13.699746 , -11.2030325],\n",
       "       [ 40.180195 ,  47.422024 ],\n",
       "       ...,\n",
       "       [  2.8812213, -55.484604 ],\n",
       "       [  3.2550993, -55.57655  ],\n",
       "       [-77.478714 , -18.556082 ]], dtype=float32)"
      ]
     },
     "execution_count": 24,
     "metadata": {},
     "output_type": "execute_result"
    }
   ],
   "source": [
    "allD.getTSNE(perplexity=5)"
   ]
  },
  {
   "cell_type": "code",
   "execution_count": 25,
   "metadata": {
    "ExecuteTime": {
     "end_time": "2023-03-28T14:48:51.190038Z",
     "start_time": "2023-03-28T14:48:51.165910Z"
    },
    "collapsed": false
   },
   "outputs": [
    {
     "data": {
      "application/vnd.plotly.v1+json": {
       "config": {
        "plotlyServerURL": "https://plot.ly"
       },
       "data": [
        {
         "hovertemplate": "<b>%{hovertext}</b><br><br>37D->2D TSNE1=%{x}<br>37D->2D TSNE2=%{y}<extra></extra>",
         "hovertext": [
          "Hf1 Ta1 Nb1",
          "Ti5 Ni4 C1",
          "Ta1.2 Nb2 W2 Mo2 Re1 C1.2",
          "Cr3.32 Mn1 Fe3.32 Co3.32 Ni3.32 Al3.32",
          "Ti2 Nb2 V2 Mo1 Cr1",
          "Zr1 Ti1 Ta1 Nb1 V1",
          "Cr1 Mn1 Fe1 Ni1 Cu1 Al1.5",
          "Nb1 Cr1.33 Fe1.33 Co1.33 Ni1.33 Al1.33",
          "Ti1 Mo1 Cr1 Al1",
          "W1 Fe1.4 B1.2",
          "Zr3.33 Ti3.33 Ta1 Nb3.33",
          "Cr1.67 Mn1.67 Fe1.67 Ni1.67 Al1",
          "Ti20 Ta20 Mo20 Cr20 Al20 Si1",
          "Ti1.5 V1 Fe1 Co1 Ni1 Cu1",
          "Zr3.33 Ti3.33 Nb3.33 V1 Mo3.33",
          "Cr1 Fe1 Co1 Cu1 Al3",
          "Cr2.25 Fe1 Co2.25 Ni2.25 Al2.25",
          "Ti27.54 V1 Al3.26",
          "Ti1 Nb1 W1 Ru1",
          "Ti1 Cr10 Fe10 Co10 Ni10 Al3",
          "Mo1 Cr2 Fe1 Co2 Ni2 Al2",
          "Ti1 Cr1.67 Fe1.67 Ni1.67",
          "Zr1 Ti1 Nb1 Cr1",
          "Cr2.25 Fe2.25 Co2.25 Ni1 Cu2.25",
          "Zr2 Ti2 Ta1 Nb2",
          "Ti2 Ta2 Nb2 V2 Al1",
          "Cr1 Fe4.76 Co4.76 Ni4.76 Al4.76",
          "Zr1 Ti4 Nb4 V4 Al4",
          "Cr1.78 Mn1.78 Fe1.78 Co1.78 Ni1.78 Al1",
          "Zr1 Ti1 V1 Fe1 Co1 Ni1 Al1",
          "Hf1 Zr1 Ti1 Ta1 Nb1 Mo1",
          "Zr3.33 Ti3.33 Nb3.33 Re1",
          "Hf1 Ti1 Nb1",
          "Hf1 Zr1 Ti1 Nb3",
          "Cr3.3 Mn1 Fe3.3 Co3.3 Ni3.3 Al1.65",
          "Cr1 Fe1 Co1 Ni1 Ga1",
          "Ti1 Fe2 Co2 Ni2 Al1",
          "Nd1 Fe1 Co1 Ni1 Cu1 Al1",
          "Hf7.5 Ti33 Nb1 Si16",
          "Cr4 Fe4 Co1 Ni4 Al4",
          "Li2.6 Ca0.03 Mg3 Al1 Si0.03",
          "Ti1 Fe1 Ni1 Cu1 Al1",
          "Cr1 Fe1 Co1 Cu1 Al1.8",
          "Cr1 Fe1 Co2 Ni2 Al1",
          "Ti4 Nb4 V4 Mo2 Cr1",
          "Fe4 Co4 Ni4 Si1",
          "Cr1.1 Fe1.1 Ni2.22 Cu1.1 Al1",
          "Ta2.5 Nb2.5 V1 W4 Mo2.5",
          "Ti1 Ta1 Nb1 V1 W1 Mo1",
          "V1 Mo1 Fe1 Co1 Ni2",
          "Cr1 Fe2 Co1 Ni1",
          "Ti1 Cr1 Fe1 Co1 Cu1 Al1",
          "Ti1 Cr3.33 Fe3.33 Co1.67 Ni5",
          "W4.54 Cr1 Ni3.38 B2.42",
          "Cr2.4 Mn5.6 Fe7 Ni4 Al1",
          "Cr3.8 Mn3.8 Fe3.8 Co3.8 Ni3.8 C1",
          "Mo1 Cr4.8 Mn4.8 Fe4.8 Co4.8 Ni4.8",
          "Ti3.33 Nb3.33 V3.33 Mo3.33 Cr3.33 Al1.67 Si1",
          "Cr1.17 Fe1.11 Co1.11 Ni1.17 Al1",
          "V1 Cr4.8 Fe4.8 Co4.8 Ni4.8 Cu4.8",
          "Mo1 Cr1.47 Mn1.47 Fe1.47 Co1.47 Ni1.47",
          "Cr2 Fe2 Co2 Ni2 Cu2 Al1",
          "Hf1 Ti4 Ta2.5 V4.5",
          "Hf2 Ti13 Nb25.5 Cr1 Al1 Si7.5",
          "Zr1 Ti1 Ta1 Nb1 V1 W1 Mo1 Cr1",
          "Zr1 Ti1 V1 Mo1 Cr1 Fe1 Co1 Ni1",
          "Hf1 Zr2 Ti2 Nb2 Mo1 Si1",
          "Mg1 Zr1 Cu1 Zn1 Al13 Si3",
          "Nb1 Mo1 Cr1 Co1",
          "W1 Cr5 Fe5 Co5 Ni5",
          "Mo1 Cr2.01 Fe2.01 Co2.01 Ni3.01 Al2.01",
          "Ti1 Ta88.5 W10 C1.5",
          "Cr1 Fe1 Co1 Ni1 Al3",
          "Zr1 Ti1 Ta1",
          "Li38 Ca1 Mg48 Al15 Si1",
          "Zr1 Ti1 V1 Fe1 Ni1 Cu1",
          "Cr1.43 Mn1.43 Fe1.43 Ni1.43 Al1",
          "Hf12.25 Zr12.25 Ti12.25 Ta6.12 Nb6.12 O1",
          "Ti1 Ta1 Nb1 V1",
          "Cr4.4 Fe1.8 Co2.8 Ni1.2 Cu1 Al8.8",
          "Cr1 Mn1 Fe1 Co1 Ni1.1",
          "Cr1.8 Mn2.2 Fe5 Ni1",
          "Ti2 Cr2 Fe2 Co2 Ni2 Cu2 Al1",
          "Ti1 Nb1 V1 Cr1 Ni1 Al5",
          "Ta1 Co5.5 B3.5",
          "Ti1 V1 Mo1 Cr1 Fe1",
          "Ti1.5 Fe1 Ni1.33 Cu1.33 Al1.5",
          "Ti1 Cr2 Fe2 Co1 Ni2",
          "Cr1.42 Fe1.42 Co1 Ni1.42 Cu1.42",
          "W63.76 Fe1 Ni2.34",
          "Ti1 Cr1 Fe1 Co1 Ni1 Al1.5",
          "W1 Cr4.5 Fe4.5 Co4.5 Ni4.5 C1",
          "Cr4 Fe2 Co2.6 Ni1 Cu1 Al9.4",
          "Hf2.5 Zr2.5 Ti2.5 Ta1",
          "Mo1 Cr4.8 Fe4.8 Co4.8 Ni4.8",
          "Ti2.44 Nb2.51 V2.47 Mo2.57 Al1",
          "Cr1 Mn3 Fe4.97 Co1 B0.03",
          "Zr1 Ti1 V1 Cr1 Fe1 Co1 Ni1 Cu1",
          "Ti2 Cr4 Fe4 Co4 Ni4 Al1",
          "Zr1 Ti1 V1 Fe1 Co1 Ni1 Cu1",
          "Cr1 Fe1 Ni1 Cu1 Al1.5",
          "W5 Fe2 Co1 Ni2",
          "Zr3.33 Ti3.33 Nb3.33 V1 Mo1.67",
          "Zr1.95 Ti2.07 Ta1.05 Nb2.09 Mo1 Al1.74",
          "Ta2.33 Co1 Ni2.22",
          "Zr8 Ti6 Ta1 Nb3 Al2",
          "Cr1.25 Fe1.25 Co1.25 Ni1.25 Cu1.25 Al1",
          "Cr1 Fe1 Ni2 Cu1 Al1.6",
          "Hf1.5 Zr1 Ti1 Nb1 Mo1",
          "Ta4 Nb1 V3.5 W3.5",
          "Cr1.25 Fe1.25 Ni1 Cu1.25 Al1.25",
          "Ti1 W1 Re1",
          "Ti1 Ni1 Cu1 Al1",
          "V5 Mo1 Fe5 Co5 Ni5",
          "W112.94 Fe1 Ni2.34",
          "W1 Ir8 Al1",
          "V1 Mo1 Fe1 Co1 Ni1.4",
          "Zr1 Ta2.13 Ru3.53",
          "Hf1.67 Zr1.67 Ti1.67 Ta1",
          "Hf3 Mo1 B14 Si10",
          "Mo1 Cr2.01 Fe2.01 Co3.01 Ni2.01 Al2.01",
          "Zr1 Ti1 Nb1 Mo1",
          "Cr1 Mn5.8 Fe6.73 Ni1.88 Al1.25",
          "Zr1 Ti2.7 Nb1.5 Cr2 Al2.8",
          "Hf1 Ti1 Ta1 Al1",
          "Cr3.33 Fe3.33 Co3.33 Ni3.33 Cu1 Al1",
          "Zr1 Ti1 Nb1 Cr3",
          "Cr1.25 Fe1.25 Co1.25 Cu1.25 Al1",
          "Cr2 Fe2 Ni2 Cu1 Al2",
          "W1.2 Cr1 Ni3.38 B2.42",
          "Hf1 Zr1 Ti1 Ta1 Nb1 V1 N1",
          "Cr1 Fe1 Co1 Ni2",
          "Cr1 Fe1 Co1 Ni1 Al1.8",
          "Mo1 Cr2 Fe2 Co2 Ni2 Al4",
          "Ti1.34 Cr1.34 Fe1.34 Co1.34 Cu1 Al1.34",
          "W3 Fe3.8 B2.2 C1",
          "Zr3.33 Ti3.33 Nb3.33 V1 Mo4.33",
          "Cr1 Fe2.5 Co2.5 Ni2.5 Al1.5",
          "Ta1 Nb1 V1 W1",
          "Mn33.33 Fe33.33 Co33.33 Ni33.33 Cu33.33 Sn1",
          "Cr1 Fe1 Co1 Ni1 Al1.4",
          "Zr1 Mo19.75 B2 Si2.25",
          "Ti1 Ta1 Nb1 Al1",
          "Cr4.6 Fe1.4 Co2.8 Ni1 Cu1 Al9.2",
          "Ti21 Nb1 Si16",
          "Cr1 Fe1 Co1 Ni1 Cu1 Al2.5",
          "Cr2 Fe1 Co2 Ni2 Cu1 Al2",
          "Cr2 Fe2 Co2 Ni2 Cu1 Al1",
          "V1 W3 Mo1 Ru1",
          "Ti1 Fe1 Co1 Ni1 Al1",
          "Hf1 Ti5 Ta5 V1",
          "Hf1.5 Zr2.5 Ti3 Ta1 Nb2",
          "Zr10 Ti8 Ni29.5 Sn1.5 Si1",
          "Ti1 Nb1 W3 Ru1",
          "Mo1 Cr10 Fe10 Co10 Ni10 Al3",
          "Mo1 Cr33 Ni33 Al33",
          "Cr1 Fe2.99 Co1 Ni1",
          "Mo1 Cr10 Fe10 Co10 Ni10 Al10",
          "Cr4 Mn4 Fe4 Ni4 Cu2 Al1",
          "Zr1 Ti1 Nb1 V1 Mo1.3",
          "Cr1.42 Fe1 Co1.42 Ni1.42 Al1.42",
          "Cr1 Fe1 Co1.99 Ni1 Cu1",
          "Mo1 Cr5 Fe5 Co15 Ni15 Al9",
          "Zr1 Ti4 Nb1.5 Cr2 Al1.5",
          "Cr4.4 Fe1 Co4.8 Ni1.2 Al8.6",
          "Ti1 Ta2.88 Nb2.88 W2.88 Mo2.88",
          "Cr1 Fe1 Ni1 Al1.12",
          "Ti1 Ta1.52 Nb1.36 V1.04 W1.08",
          "Ti1 Fe1 Co1 Ni1 Cu1",
          "V4 Cr2 Fe2 Co2 Ni2 Cu2 Al1",
          "Cr4.96 Fe4.96 Co4.96 Ni4.96 Al1",
          "Cr1.25 Mn1 Fe1.25 Co1.25 Pd1.25 Ni1.25",
          "Ti1 W2 Re1",
          "Ti1 Cr5 Fe5 Ni5 Al1",
          "V1.99 Cr1 Fe1 Co1 Ni1",
          "Cr10 Mn12.5 Fe20 Ni7.5 Al1",
          "Hf1 Zr1.8 Ti2 Nb2 Mo1",
          "Fe14.29 Co14.29 Ni14.29 Cu14.29 Sn1",
          "V1 Mo1 Fe1 Co1 Ni1.8",
          "Fe5 Co5 Ni5 Cu5 Sn1",
          "Ta1 Nb1 V1 W1 Mo1",
          "Cr5 Mn5 Fe5 Co5 Ni5 Al1",
          "Hf10 Ti21 Nb1 Si16",
          "Mo1 Cr1.05 Mn1.05 Fe1.05 Co1.05 Ni1.05",
          "Mo1 Cr5 Fe5 Co5 Ni5",
          "Cr1 Fe1 Co3 Ni3.2 Al1.8",
          "Cr3 Fe2.6 Co2.8 Ni1.2 Cu1 Al9.4",
          "Zr4 Ti4 Nb4 V1 Mo4",
          "W5 Re1 Fe10.5 Ni24.5",
          "Cr3.98 Fe3.98 Co3.98 Ni3.98 Al1",
          "Fe1 Co1 Ni3 Cu1 Al1",
          "Cr1 Fe1 Ni1.99 Cu1.01 Al1",
          "Hf1 Zr1 Ti1 Ta1 C4",
          "Zr9 Ti9 Ta1 Nb1",
          "Mo1 Cr12 Fe12 Co12 Ni12",
          "Ti1 Cr3.33 Fe3.33 Ni6.67",
          "Cr5 Fe5 Co5 Ni5 Cu5 Al2.5 B1",
          "Ti1 Cr1 Fe1 Co1.5 Ni1.5",
          "W42.24 Fe1 Ni2.43",
          "Ta1 V1.33 W4 Mo1.67",
          "V3.21 Cr2.01 Fe2.01 Co2.01 Ni2.01 Cu2.01 Al1",
          "W2.5 Re1 Fe5.25 Ni12.25",
          "Ti1 Cr1.25 Fe1.25 Co1.25 Ni1.25 Cu1.25",
          "Zr1 Ti3.35 Nb3.35 Mo3.35 Cr1",
          "Ti1 Cr2.49 Fe2.49 Co2.49 Ni2.49 Cu2.49 Al1.25",
          "Mo42 B1 Si7",
          "Cr1 Mn1 Fe1 Co1 Ni1 C1",
          "Cr1.62 Mn1.62 Fe1.62 Co1.62 Ni1.62 Al1",
          "Mo3.62 Ni3.08 Si1",
          "Ti1 Ta1 W1 Mo1",
          "Cr2 Fe2 Co2 Ni2 Cu1 Al4",
          "Ti2.51 Cr5 Fe5 Co7.51 Ni7.51 Al1",
          "Cr1 Co1 Ni1 Cu1",
          "Zr4.75 Ti4.75 Ta4.75 Nb4.75 Mo1",
          "Fe4 Co4 Ni4 Al1",
          "Zr1 Ti1 Nb1 W1 Mo1",
          "Cr1.42 Fe1.42 Co1.42 Ni1 Cu1.42",
          "Mo1 Cr2.3 Mn2.3 Fe2.3 Co2.3 Ni2.3",
          "Mo27.33 B1 Si5",
          "Ti2.85 Nb1.28 Al1",
          "Ti24.75 W1 Al24 Si0.25",
          "Ti2.25 Nb2.25 W2.25 Mo2.25 Cr1",
          "Cr1 Mn1.06 Fe1.75 Co1.83 Ni1.81",
          "Nb8 W2.33 Cr1 Co11 Al11",
          "Cr1 Fe1 Co1 Ni3 Al1",
          "Cr1.24 Mn1.24 Fe1.24 Co1.24 Ni1.24 Al1",
          "Cr1.23 Mn1.23 Fe1.23 Co1.23 Ni1.23 Al1",
          "Ti2 Mo2 Cr2 Fe2 Co2 Ni2 Cu2 Al2 B1 Si2",
          "Cr1.11 Fe1.11 Co1.11 Ni1.11 Al1",
          "Ti1 Nb1 V1 Al1",
          "Hf1 Cr14.14 Co7.94 Ni56.1 Al24.65 C0 N0 O0.12",
          "Ti1 Ta7.18 W5.18 Mo1.82 Cr7.09 Co5.91 Ni58 Al4.73",
          "Ti1 Ta1 Nb1 V1 Mo1",
          "Cr4.97 Fe7.44 Ni2.48 Al1",
          "Ti1.32 Nb1.32 V1.34 Mo1.34 Al1",
          "Ti20.2 Ta1.03 Nb7.01 Fe1",
          "Cr1.36 Fe1.27 Co1.55 Ni1 Al3.91",
          "Ti2 Nb2 Mo2 Cr2 Al1",
          "Cr2 Fe2 Ni4 Cu2 Al1",
          "Mo1 Cr2 Fe2 Co4 Ni2 Al2",
          "Mo10.38 B1 Si1.12",
          "Mn1 Ni1 Cu1 Zn1",
          "Ti6 Nb35 V1 Cr8 Al5",
          "Hf1 Zr2 Ti2 Nb2 Mo1 Si1.8",
          "Cr2.21 Fe2.21 Co2.21 Ni2.21 Cu1 Al1.77",
          "Fe4.96 Co1 Ni4.96 Cu4.96 Al4.96",
          "Hf1 Zr1 Ti1 Ta1 Nb1 W1",
          "Cr1 Fe1 Ni2 Cu1 Al1.5",
          "Cr1.04 Mn1 Fe1.02 Co1.08 Ni1.09",
          "V3.99 Cr1.99 Fe1.99 Co1.99 Ni1.99 Cu1.99 Al1",
          "Ti10.78 Mo10.78 Cr10.78 Al1",
          "Ti13 Ta1 Nb42 V12 Mo20 Cr12",
          "Mo4.14 B1 Si2",
          "Hf3.33 Ti3.33 Nb3.33 V1.67 Mo1.67 Si1",
          "Cr2.66 Fe2.66 Co2.66 Ni2.66 Al1",
          "Hf5.56 Zr5.56 Ti7.06 Ta1 Nb1",
          "Ti1 Cr1.99 Fe1.99 Co1.99 Ni1.99 Al2.4",
          "Nb1 Fe2 Co2 Ni2 Cu2",
          "Zr1 Ti1 Nb1 V2",
          "Ta1.87 Nb1.87 W1.93 Mo1",
          "Hf2 Zr4 Ti8 Nb1 V4",
          "Zr0 Ta38.86 Nb0.06 W1 Mo0 Fe0.08 C0 N0 O0",
          "Cr5.8 Fe1 Ni5.2 Cu5.8 Al2.2",
          "Cr1 Mn3 Fe5 Ni1",
          "Cr3.29 Fe3.29 Co3.29 Ni3.29 Al1",
          "Ta1 Nb1 W1 Mo1 Re1",
          "Hf2 Zr1 Ti2 Nb2 Mo2",
          "Cr2 Mn2 Fe2 Co2 Ni2 Al1",
          "Ta3.5 Nb2 W2 Mo1.5 Re1",
          "Cr2.33 Fe3.33 Co3.33 Ni3.33 Al1",
          "Ti24.5 Nb1 Cr1 Al23.5",
          "Cr1.44 Fe1.29 Co1.29 Ni1.44 Al1",
          "Fe1 Co1 Ni1 Cu1 Sn0.02",
          "Cr1.33 Mn1.67 Fe2.67 Ni1",
          "Cr5.36 Mn31.09 Fe36 Ni10.18 Al6.73 C1",
          "V1 W1 Mo1 Ru1",
          "Nb1 Cr10 Fe10 Co10 Ni10 Al10",
          "Zr1 Ti2 Ta1 Nb2 Al2",
          "Hf7.5 Ti21 Nb1 Si16",
          "Ti1 Cr1 Fe1 Ni1 Al1",
          "Zr3.5 Ti4.5 Ta1 Al1",
          "Ti1 Cr5 Fe5 Co5 Ni5 Cu5 Al2.5",
          "Ti1 Nb1 Mo1",
          "Mo1 Cr2 Fe3 Co2 Ni2 Al2",
          "Ti1 Cr10 Mn10 Fe10 Co10 Ni10 C1",
          "Ti1 Nb1 Mo1 Cr1 Co1",
          "Mo1 Cr5 Fe5 Ni5 Al5",
          "Zr1 Ta1 Nb1",
          "V1 Cr1 Fe4.5 Co2 Ni1.5",
          "Ti2 Cr2 Fe2 Co2 Ni2 Al1",
          "Cr1 Fe1 Co1 Ni1 Al1",
          "Ti22.1 V1 Al2.62",
          "Cr2 Fe2 Co2 Ni1 Cu2 Al2",
          "Fe20 Co20 Ni20 Cu20 Sn1",
          "Cr1 Fe1 Co1 Cu1 Al1.99",
          "Hf1.5 Zr2.5 Ti2.5 Ta2.5 Nb2.5 Al1",
          "Ti1 Cr2 Fe2 Co2 Ni2 Al3",
          "Hf1 Ti1 Ta1 Nb1",
          "Ti27.45 V1 Al3.25",
          "Zr1 Ti1 V1 Mo1",
          "Cr1 Mn3 Fe5 Co1",
          "Nb1 Cr9.71 Fe9.71 Co9.71 Ni9.71",
          "W1 Fe3 Ni7",
          "V1 Cr2.5 Fe2.5 Co2.5 Ni2.5 Cu2.5 Al1.25",
          "Ti1 V1 Cr1 Fe1 Ni1 Cu1",
          "Ta6.32 Nb6.32 W6.36 Mo1",
          "Ti1 Cr1.33 Fe2.5 Co4.17 Ni6 Al1.67",
          "Ti3.01 V2.01 Fe2.01 Co2.01 Ni2.01 Cu1",
          "Ti4.96 Cr4.96 Ni4.96 Cu4.96 Al1",
          "Fe1 Co1 Ni2 Cu1 Al1",
          "Ti27.28 V1 Al3.23",
          "Ti1 Nb1 Mo1 Al1",
          "Hf2 Zr2 Ti2 Ta2 Nb2 Al1",
          "Zr1 Ti3.3 Nb3.3 V1.98 Mo3.3 Cr1 Al1.98",
          "Cr1.79 Mn1.79 Fe1.79 Co1.79 Ni1.79 Al1",
          "Cr3.33 Mn3.33 Fe4.99 Ni1.66 Al1",
          "Mn1 Fe3 Co3 Ni3",
          "Hf12.25 Zr12.25 Ti12.25 Ta6.12 Nb6.12 N1",
          "Cr1.67 Fe1.67 Ni3.34 Cu1.67 Al1",
          "Cr1 Fe1 Co1.99 Ni1 Al1",
          "V1 Cr1.47 Fe1.47 Co1.47 Ni1.47 Cu1.47",
          "Cr1 Fe5 Co5 Ni5 Si1",
          "Zr3.18 Ti3.36 Nb3.95 Cr1",
          "Cr1 Fe2.25 Co2.25 Ni2.25 Al2.25",
          "Ta2 Nb1.33 W1.33 Mo1 Re1",
          "Cr1.15 Fe1.15 Co1.15 Ni1.15 Al1",
          "Zr1.27 Ta1.07 Ru1",
          "W1 Ir22 Al2",
          "Ti1.5 Cr1 Fe1 Co1 Ni1 Al1",
          "W1 Cr2.3 Mn2.3 Fe2.3 Co2.3 Ni2.3",
          "Hf1.15 Ti9.85 Nb31.31 W1 Mo3.62 Cr2.08 Al3.54 Sn3.85 Ge4.54 Si16",
          "Cr1 Co1 Ni1",
          "Cr6.8 Fe1 Co3.4 Ni2 Al6.8",
          "Ti1 W1 Mo1",
          "Cr1 Fe1 Co1 Ni1 Cu1 Al2.8",
          "Li6 Ca1 Mg7 Y0.02 Al3.98 Si2",
          "Hf1 Zr1 Ti1 Ta1 V1",
          "Zr1.33 Ti1.33 Nb1.33 V1 Mo1.33",
          "Ta1 W2 Mo2 Ru1",
          "Cr4.76 Fe1 Co4.76 Ni4.76 Cu4.76",
          "Ta2 W2 Mo1 Re1",
          "Ti1.5 V1 Mo1 Cr1 Fe1",
          "Hf1 Zr1 Ta1 Nb1",
          "Re1 Co2.25 B1.75",
          "Ti1.89 Mo1.89 Cr1.89 Al1",
          "W1 Cr1.17 Fe1.17 Co1.17 Ni1.17 C1",
          "Cr6.2 Fe1 Ni6.2 Cu4.2 Al2.4",
          "Cr1.99 Fe1 Co1 Ni1 Al1",
          "Ti3.63 Cr2.01 Fe2.01 Co2.01 Ni2.01 Cu2.01 Al1",
          "Ti1 Nb2.5 Mo2.5 Cr2.5 Co2.5",
          "Cr1 Mn1 Fe1 Ni1 Cu1",
          "Ti2.83 Nb2.83 Si1",
          "Ti1 Ta5.88 V5.88 W5.88 Cr5.88",
          "Ti2 Cr4 Fe4 Co4 Ni4 Cu3 Al1",
          "Mn6.34 Ni6.34 Cu6.34 Sn1",
          "Cr1 Fe1.42 Co1.42 Ni1.42 Cu1.42",
          "Ti1 Ta1.67 V2.67 W2.67",
          "Cr3.01 Fe2.01 Co2.01 Ni2.01 Cu1 Al2.01",
          "Hf1 Zr1 Ti1 Nb1",
          "Cr2.6 Fe2.4 Co2.6 Ni2 Cu1 Al9.4",
          "Ta3 V2.5 W5.5 Mo1",
          "Ti1.2 Mo1 Cr2 Fe2 Ni2 Al2",
          "Zr1 Ti1 Nb1 V1 Cr1",
          "Ti1.6 Cr2 Fe2 Co2 Ni2 Cu2 Al1",
          "Cr4.2 Fe2.4 Co2.8 Ni1 Cu1 Al8.6",
          "Cr2 Mn2 Fe2 Co2 Ni2 C1",
          "Ta1 Nb1 W1",
          "Ti1 Cr1 Fe1 Co1 Ni1 Al2",
          "V1 Cr1.05 Fe1.05 Co1.05 Ni1.05 Cu1.05",
          "Cr1.11 Fe1.11 Ni2.33 Al1",
          "Mn12.5 Fe12.5 Co12.5 Ni12.5 Cu12.5 Sn1",
          "V1 Mo1 Fe1 Co1 Ni1.2",
          "Cr1 Fe5 Co5 Ni5 Al4",
          "Cr1 Fe1 Co1 Ni2.15 Al1",
          "Y1 Hf1 Zr1 Ti1",
          "Cr4 Fe4 Co4 Ni4 Cu1 Al3",
          "Ti1 Ta1 Nb1 Cr1",
          "Ti27.63 V1 Al3.27",
          "Cr3.33 Mn4.17 Fe6.67 Ni2.5 Al1",
          "Ti1 Nb1 V1 Cr1.5 Al1",
          "Cr4.67 Fe1 Ni5.17 Cu3.67 Al2.17",
          "Hf1 Zr1 Ti1 Nb1 Mo1",
          "V1 Cr10.25 Fe10.25 Co10.25 Ni10.25 Cu10.25 Al10.25",
          "Cr4.96 Fe1 Co4.96 Ni4.96 Al4.96",
          "Hf1.67 Zr3.33 Ti3.33 Nb3.33 Mo1.67 C1",
          "Cr1 Fe1 Co1 Ni1 Sn1",
          "Cr4 Fe4 Co4 Ni4 Al1",
          "Ti1 Cr3.98 Fe3.98 Co3.98 Ni3.98 Al4.78",
          "Re1 Co1.17 B1.17",
          "Ti1 Cr1 Fe1 Co1 Ni1 Al1",
          "Cr4.4 Fe1 Co5 Ni1 Al8.6",
          "Zr1 Ti1 V1 Mo1 Fe1 Ni1",
          "Fe2 Co2 Ni2 Cu1 Al2",
          "Cr3.8 Fe1 Co3.8 Ni1 Cu1 Al9.4",
          "Cr5 Fe5 Co5 Ni5 Al5 C1",
          "Ti1 Nb1 Mo1 Cr1 Fe1",
          "Ti10.17 Cr10.17 Fe10.17 Ni10.17 Cu1",
          "Cr3.32 Fe3.32 Ni6.61 Cu3.32 Al1",
          "Zr1 Fe1 Co1 Ni1 Cu1 Al1",
          "Cr1.25 Mn1.25 Fe1.25 Ni1.25 Al1",
          "Ta1 Cr1.67 Mn1.67 Fe1.67 Co1.67 Ni1.67",
          "Ti23.94 V1 Al2.83",
          "Cr1 Fe1 Co1 Ni1 Al1 Si1",
          "Cr1 Fe10 Co10 Ni10 Al9",
          "W1.2 Fe1.8 B1",
          "Hf1.67 Zr1 Ti3.33 Nb3.33 Mo1.67",
          "Cr2.63 Mn2.63 Fe2.63 Co2.63 Ni2.63 Al1",
          "Cr3.21 Co1 Ni7.21 Cu7.14 Si2",
          "Hf1.67 Zr3.33 Ti3.33 Nb3.33 Mo1.67 Si1",
          "Zr3 Ti2 Ta2 Nb1",
          "V1 Cr2 Fe2 Co2 Ni2",
          "Nb1 Cr6.45 Fe6.45 Co6.45 Ni6.45",
          "Ta1 Nb1 W9 Mo1",
          "Cr1 Fe1 Ni2.01 Cu1 Al1.2",
          "Nb5 Fe1 Co1 Ni1 Cu1",
          "Hf1.6 Ti2.53 Nb1.53 V1",
          "Ta1 Co6.22 B3.89",
          "Ti1.5 Cr1 Fe1 Ni1 Cu1 Al1",
          "Hf4 Zr4 Ti4 Ta4 Nb4 Mo1",
          "Zr2.85 Ti2.69 Nb3.17 Re1",
          "Fe1 Co1.5 Ni1 Cu1 Al1",
          "Ta1 V1 W1 Mo1 Cr1",
          "Cr10 Fe10 Co10 Ni10 Al1",
          "Ta1 Co8.29 B5",
          "Cr1 Fe1 Co1 Ni1 Al1.25",
          "Ti4.5 Nb1 Al4.5",
          "Ti3.6 Cr2 Fe2 Co2 Ni2 Cu2 Al1",
          "Cr3.2 Fe3.2 Co1.4 Ni1 Cu1.8 Al9.4",
          "Hf1 W7.5 Re2.5 Ru1",
          "Ti1.33 Ta4.67 V1 W1",
          "Cr1 Fe2 Co2 Ni2 Cu2 Al2",
          "Ti1 V1 Cr1 Fe1 Ni1 Cu1 Al1.5",
          "Mg1 Ni1 Cu1 Zn1 Al13 Si3",
          "Zr1 Ti1 Nb1 V1 Mo1.5",
          "Fe2 Co2 Ni2 Al1",
          "Cr2 Fe2 Co1 Ni2 Al2",
          "Hf1 Ti6.5 Ta2.5 Nb2",
          "Hf2.25 Zr2.25 Ti2.25 Nb2.25 Al1",
          "Ti1 Cr1 Co1 Ni1 Cu1 Al1",
          "Zr1 Ti1 Nb1 V1 W1 Mo1 Cr1",
          "W2.31 Fe2.92 B1.46 C1",
          "Hf1 Ti1 Ta1 Nb1 Mo1",
          "Mo1 Cr2 Fe2 Co1 Ni2 Al2",
          "Hf2 Ti2 Nb2 V1 Mo1 Si1.01",
          "Mg1 Mn1 Cu1 Zn1 Al13 Si3",
          "Ti1 Nb1 W1 Cr1",
          "Be1 Ti1.91 Mo1.91 Cr1.91 Fe1.91 Co1.91 Ni1.91 Cu1.91 Al1.91 Si1.91",
          "Zr3.8 Ti4.22 Ta5.78 Nb5.2 Al1",
          "Mo1 Cr6.69 Fe6.69 Co6.69 Ni6.69",
          "Cr5 Fe5 Ni10 Cu5 Al1",
          "Hf2.01 Ti2.01 Nb2.01 V1 Mo1 Si1.41",
          "Cr1 Fe1 Co1 Ni1 Al2",
          "Ti1 Mn35 Fe38.75 Ni18.75 Al30",
          "Hf1 Zr1 Ti1 W1 Mo1",
          "Cr2.01 Fe2.01 Co2.01 Ni2.01 Cu1 Al3.01",
          "Cr10 Mn10 Fe10 Ni10 C1",
          "Hf1 Zr1 Ti1 Ta1",
          "Zr1 Ti1 Nb1 V1",
          "Hf2 Zr2 Ti1 Ta1 Nb2",
          "Cr2 Fe4 Co2 Ni2 Cu1 Al2",
          "Cr1.25 Fe1.25 Ni2.5 Cu1.25 Al1",
          "Cr1 Fe1 Ni2 Al1",
          "Zr1 Ti1.02 Nb1.15",
          "Mo5.3 B1 Si3.7",
          "Ti2.5 Cr5 Fe5 Co7.5 Ni7.5 Al1",
          "Cr9 Fe10 Co10 Ni10 Al1",
          "Hf2 Zr1 Ti1 Nb2",
          "Cr7 Fe1 Ni5.2 Cu4.8 Al2",
          "V3.63 Cr2.01 Fe2.01 Co2.01 Ni2.01 Cu2.01 Al1",
          "Ta1 Nb1 V1 W1 Mo1 Cr1",
          "Cr1.5 Fe2.92 Co1.5 Ni1.5 Al1",
          "Cr4 Fe2 Co2 Ni2 Cu1 Al2",
          "Zr1 Ti1 Ta1 Nb1 V1 Mo1",
          "Zr1 Ti2 Ta1 Nb2 Mo1 Al2",
          "Mo1 Fe1 Co1 Ni1",
          "V1 Cr2 Mn2 Fe2 Co2 Ni2",
          "Cr1 Fe1 Co1 Al1",
          "Cr1.13 Fe1.13 Ni1.13 Al1",
          "Ti3.38 Nb5.12 Cr1 Al1.12 Si1.88",
          "Ti3.21 Cr2.01 Fe2.01 Co2.01 Ni2.01 Cu2.01 Al1",
          "Cr6.2 Fe1.6 Co2 Ni1.4 Cu1 Al7.8",
          "Ti4.5 Ta6 Nb15 Co1 Ni23.5",
          "Ti4 Ta3.5 Nb1 V3.5",
          "W1 Cr4.8 Mn4.8 Fe4.8 Co4.8 Ni4.8",
          "Ti2.39 Cr1.99 Fe1.99 Co1.99 Ni1.99 Cu1.99 Al1",
          "Cr16.67 Mn50 Fe82.33 Co16.67 B1",
          "Cr5 Co4.5 Ni5 Cu4.5 Al1",
          "Cr1.42 Fe1 Co1.42 Ni1.42 Cu1.42",
          "Cr5.05 Mn5.05 Fe5.05 Co5.05 Ni5.05 Al1",
          "Cr1.34 Fe1.34 Co1.34 Ni1.34 Al1",
          "Mo1 Cr2 Fe2 Ni2 Al2",
          "Ta1 Nb1 W1.9 Mo1",
          "Ti1 Cr1.25 Fe1.25 Co1.25 Ni1.25 Al1.25",
          "Cr3.6 Fe1 Co4.2 Ni1 Cu1 Al9.2",
          "Zr2 Ti2 Nb2 V2 Mo1",
          "Mn4 Fe4 Co1 Ni1",
          "Cr4 Fe1.33 Co3.17 Ni1 Al7.17",
          "V2 Cr3 Mn1 Fe7 Co2 Ni5",
          "Hf12.5 Ti21 Nb1 Si16",
          "Cr10 Mn10 Fe10 Co10 Ni10 Al1",
          "V1 Cr5 Fe5 Co5 Ni5 Cu5 Al2.51",
          "Ti1 Nb1 Ru1",
          "Ti5 Cr5 Fe5 Co7.5 Ni7.5 Al1",
          "V2 Cr2 Fe2 Co2 Ni2 Cu2 Al1",
          "Cr2 Fe2 Co1 Ni2 Cu2 Al2",
          "W1.33 Cr1 Mn1 Fe1 Co1 Ni1",
          "Nb2 V1 W2 Ru1",
          "Cr1 Fe1 Ni1 Al1.21",
          "Zr1 Ti10 Nb10 V10 Al10",
          "Cr1.34 Mn1.34 Fe1.34 Co1.34 Ni1.34 Al1",
          "Ti1.38 Nb2.62 Mo1.25 Si1",
          "Zr1.5 Ti1 Nb1 V1 Al1",
          "Fe1 Co1 Ni1 Al1",
          "Zr3.33 Ti3.33 Nb3.33 V1",
          "Cr1 Fe1 Co1 Ni2.1 Al1",
          "Cr1 Fe1 Co2.01 Ni3.01 Cu1 Al6.04",
          "Mo1 Cr2 Fe2 Co2 Ni3 Al2",
          "V1.25 Mo1 Fe1.25 Co1.25 Ni1.25",
          "Mo1 Cr6.67 Fe6.67 Co6.67 Ni6.67",
          "Ta2 Nb2 W2 Mo2 Si1",
          "Cr1.25 Fe1.25 Co1.25 Ni1.25 Al1",
          "Cr23.73 Mn24.58 Fe23.37 Co23.61 Ni24.1 C1",
          "Ti27.81 V1 Al3.29",
          "Cr2.87 Fe1.88 Co1.88 Ni1.88 Cu1 Al2.87",
          "V1 Cr1 Mn1 Fe1 Co1 Ni1",
          "Cr1.33 Fe1.33 Co1.33 Ni1",
          "Ti2.2 Nb5.2 Mo1 Si1.6",
          "Hf2 Zr2 Ti2 Ta1",
          "Hf1 Zr1 Ti1 Nb1 Mo1.5",
          "W6.32 Ni9.2 Cu1 B3.48",
          "Ti1 Nb1 W1 Re1",
          "Ta1 W1 Mo1 Ru1",
          "Cr4 Fe1.8 Co2.8 Ni1 Cu1 Al9.4",
          "Cr1 Fe1 Co1 Ni1 Cu1 Al1.3",
          "Hf4.75 Zr4.75 Ti4.75 Nb4.75 Al1",
          "Ti1 Nb1 W1 Mo1 Cr1",
          "Hf2 Zr2 Ti2 Nb2 V2 Si1",
          "Mo5 B2 Si1",
          "Y1.67 Zr1.67 Ta1.67 Mo14.67 Fe1 Co4 Si8.67",
          "Ti1 V1 Cr1 Fe1 Ni1 Cu1 Al1",
          "V1.6 Cr2 Fe2 Co2 Ni2 Cu2 Al1",
          "Cr1 Fe3.33 Co3.33 Ni3.33 Al2.33",
          "Mo1.07 Cr1.79 Fe7.86 Co2.57 Ni1",
          "Mo20.5 B1 Si3.5",
          "Cr3.33 Fe3.33 Co3.33 Ni3.33 Al3.33 C1",
          "Hf1 Zr2 Ti2 Nb2 Mo1 Si1.4",
          "Ti1 Ta3.33 V3.33 W3.33 Cr3.33",
          "Cr1 Fe1 Ni1.2 Cu1 Al1",
          "Mo46 B1 Si3",
          "Ti1 W0.1 Mo0.1 Cr14 Fe17 Co17 Ni35 Cu8 Al8",
          "V1 Cr1.34 Mn1.34 Fe1.34 Co1.34 Ni1.34",
          "Hf1 Zr2 Ti2 Nb2 Mo1",
          "Cr1 Fe1.99 Co1 Ni1 Al1",
          "Ti1.05 Ta1.27 Nb1.29 V1",
          "Hf1.33 Zr1.33 Ti1.33 Ta1.33 Nb1.33 Mo1",
          "Cr1.67 Fe1.67 Ni1 Cu1.67 Al1.67",
          "Ta1 Cr5 Mn5 Fe5 Co5 Ni5",
          "Ta1 W1 Mo1 Re1",
          "Cr4.4 Fe1.6 Co4.4 Ni1 Al8.6",
          "Zr1 Ti2.04 Ta1.14 Nb2.1 Al2.19",
          "Mo4.5 Ni4.5 B1.11 Si1",
          "Ti1 Cr4.98 Fe4.98 Ni4.98 Al1",
          "Cr3 Fe1.29 Co2.86 Ni1 Al6.14",
          "Ti3.99 Cr1.99 Fe1.99 Co1.99 Ni1.99 Cu1.99 Al1",
          "Zr1 Ti3.2 Nb1.5 Cr2 Al2.3",
          "Ti2.8 Cr2 Fe2 Co2 Ni2 Cu2 Al1",
          "V1.61 Cr2.01 Fe2.01 Co2.01 Ni2.01 Cu2.01 Al1",
          "Mo1 Fe1 Co1 Ni1 Al1",
          "Ta5 W1 Fe3 Ni7",
          "Zr1 Ti1 Nb1 V1.25 Mo1",
          "Ti1 Cr1 Fe1 Ni1 Cu1",
          "Ti1 Nb1 W8.5 Mo1.5",
          "Ti2 Cr2 Fe2 Ni2 Cu1",
          "Cr1 Fe1 Ni2 Cu1 Al2",
          "Cr1.43 Mn1.43 Fe1.43 Co1.43 Ni1.43 Al1",
          "Ti0.02 Nb1 Mo1 Cr1 Co1",
          "W1.18 Fe1.45 B1",
          "Ti4 V2 Fe2 Co2 Ni2 Cu1",
          "Ti1 V1 Fe1 Co1 Ni1",
          "Hf1 Zr1 Ti1 Ta1 Nb1 Al1",
          "Nb11.6 Fe1 Co1 Ni1 Cu1",
          "Ti1 Cr2 Fe2 Co3 Ni3",
          "Ta1 Cr2.5 Mn2.5 Fe2.5 Co2.5 Ni2.5 Al1.25",
          "Ti1 Nb2 Ru1",
          "Nb2 W2 Mo2 Re1",
          "Hf1 Zr1 Ta1 Nb1 Mo1",
          "Ti1 Cr1 Fe1 Co1 Ni1 Cu1",
          "Fe2 Co2 Ni2 Si1",
          "Ti1 Nb5 Mo5 Cr5 Co5",
          "Cr7 Fe1 Ni4.8 Cu5.2 Al2",
          "Nb1 Cr4.85 Fe4.85 Co4.85 Ni4.85",
          "Ti2 Cr2 Fe2 Co2 Cu1 Al2",
          "Cr1 Fe1 Ni2 Cu1 Al2.2",
          "Cr1 Fe3 Co3 Ni3",
          "Ti1.67 Ta1.67 V1.67 Mo1.67 Al1",
          "Ti3.2 Cr2 Fe2 Co2 Ni2 Cu2 Al1",
          "Cr4.67 Fe1 Ni4.67 Cu4.5 Al1.83",
          "Cr3.6 Fe1 Co4 Ni1 Cu1 Al9.4",
          "Zr0.08 Ti1 Mo94.25 B35.44 C8.1",
          "Cr2 Fe2 Co2 Ni2 Cu1 Al1.51",
          "Zr4.33 Ti4.67 Ta3.33 Nb3.33 Al1",
          "Cr4 Fe4 Co4 Ni4 Cu1 Al4",
          "Fe2 Co2 Ni1 Cu2 Al2",
          "Cr1 Fe1 Co1 Al2",
          "Cr2 Fe1 Co2 Ni2 Cu2 Al2",
          "Ti1 Ta1 Mo1 Cr1",
          "Cr1 Fe1 Co1 Ni1 Al1 C1.5",
          "Cr1.33 Fe1.33 Co1.33 Al1",
          "Ta1.5 W8 Re1.5 Ru1",
          "Ti1 Ta4 Nb4 W4 Mo4",
          "Cr2.4 Fe2.6 Co2.4 Ni2.2 Cu1 Al9.4",
          "W1 Cr20 Mn20 Fe20 Cu20 Al20",
          "Cr1 Fe1 Ni1.99 Cu1 Al1.59",
          "V2 W1 Cr1 Co4 Ni4",
          "Nb2 V2 Mo2 Cr2 Al1",
          "Hf2 Ti2 Nb2 V1 Mo1 Si1",
          "V3 W5.5 Re2.5 Ru1",
          "Ti6 Nb2 V4 Ni1 Al1",
          "Cr1.2 Fe6.2 Co2.2 Ni1 Cu1.8 Al7.6",
          "Cr1.15 Fe1 Co1 Ni1",
          "Cr2 Fe2 Ni4 Al1",
          "Ti1.5 Ta1 Cr1.83 Co2 Ni2",
          "Mo1 Cr2.01 Fe2.01 Co2.01 Ni2.01 Al3.01",
          "Zr1 Ti1 V1 Mo1 Fe1 Co1 Ni1",
          "Ti1 Ta1 V1 Mo1 Al1",
          "Hf1 Zr1 Ti1.5 Nb1 Mo1",
          "Hf1 Zr1 Ti1 Ta1 Nb1 W1 Mo1",
          "Hf4 Zr4 Ti1 Ta3 Nb4",
          "Ti1 Nb1 W1 Mo1",
          "V1 Cr1 Fe1 Co1 Ni1",
          "Cr6 Fe1.4 Co2 Ni1.2 Cu1 Al8.4",
          "Cr1 Fe1 Co1 Ni1.99 Al1",
          "Zr1 Ti1 Ta1 Nb1 V1 Mo1 Cr1",
          "Ti2.5 Ni1.5 C1",
          "Ta1.5 V1 W8.5 Re1",
          "Ta1 Co9.83 B5.83",
          "Ti1 Nb2 W2 Re1",
          "Y1 Ti1 Cr1 Co1 Ni1 Cu1 Al1",
          "Cr1 Fe4.76 Co4.76 Ni4.76 Cu4.76",
          "Mn1 Fe1 Co1 Ni1",
          "Cr1.43 Mn1.79 Fe2.86 Ni1.07 Al1",
          "Cr5.88 Mn17.65 Fe28.41 Co5.88 B1",
          "Ti1 Cr1 Fe1 Co1 Ni1 Al1.2",
          "Cr5 Fe5 Co5 Ni5 Al1",
          "Mo9.62 B1.01 Si1",
          "Ti27.37 V1 Al3.24",
          "W1 Re1 Fe3 Ni7",
          "Cr2 Mn2 Fe3 Ni1 Al1",
          "Hf1 Zr1 Ti2 Nb2 Mo1",
          "Ta3.16 Nb3.15 V2.79 W3.15 Mo3.15 Cr1",
          "Cr2.11 Fe1 Co2.22 Ni1 Al4.78",
          "Ti22 Nb10.5 Cr10.5 Co6 Ni1",
          "Li2.5 Mg5 Cu1 Zn2.5 Al5",
          "Cr2.5 Fe1 Co5.5 Ni1",
          "Zr6.5 Ti7 Ta4 Nb5 V1 Al1.5",
          "Ti1.5 Ta1 Nb1 V1 Mo1",
          "Cr6.8 Fe1 Co4.4 Ni2 Al5.8",
          "Ti1 Cr2 Fe2 Co2 Ni2 Al1",
          "Cr1.2 Mn2.3 Fe3.5 Ni2 Al1",
          "Hf1 Zr2 Ti4 Nb1 V2",
          "Cr2.5 Fe2.5 Co2.5 Ni2.5 Al2.5 C1",
          "V1.67 Mo1 Fe1.67 Co1.67 Ni1.67",
          "Cr1 Fe1 Co1 Ni2.5 Al1",
          "Cr2 Mn1.2 Fe2 Co2 Ni2 Al1",
          "Ti2 Cr4 Fe4 Co4 Ni4 Cu2 Al1",
          "Cr1 Fe1 Ni1 Al1.3",
          "Cr1.43 Fe1.43 Ni3.29 Al1",
          "Hf12.5 Ti33 Nb1 Si16",
          "Hf1 Zr2 Ti4 Nb1.5 V2",
          "Zr1 Ti1 Ta1 Nb1 Mo1",
          "Cr3.32 Fe3.32 Co3.32 Ni3.32 Cu3.32 Al1",
          "Ti22.68 V1 Al2.68",
          "Ti1 Nb2 W1",
          "Hf2 Zr2 Ti1 Nb2 Mo2",
          "Cr2 Fe2 Co2 Ni2 Al1",
          "W4.09 Fe2 Co1 Ni2",
          "V1 W2 Cr2 Fe2 Ni2",
          "Ti1 Nb1 V1 Mo1 Al1.25",
          "Zr0 Ti1 Mo84.97 Co0.21 S0.25",
          "Ti1 Nb3 W1 Re1",
          "Ti1.33 Ta1 V2 W3.67",
          "Hf1.02 Zr1.01 Ti1.07 Ta1.08 Nb1",
          "Cr4.6 Fe1 Co4.8 Ni1 Al8.6",
          "Hf2 Zr2 Ti2 Ta1 Nb1",
          "Zr1.43 Ti1.43 Nb1.43 V1.43 Mo1",
          "Cr3.33 Fe3.33 Co1 Ni3.33 Al2.33",
          "Re1.6 Co1 B1.4",
          "Zr1 Ti1 Nb1 V1 Mo1.7",
          "Ta3.5 Nb1 V2.5 W5",
          "Zr0.09 Ti1.08 Mo106.37 B3.82 C1",
          "Cr2 Fe2 Co2 Ni4 Cu1 Al2",
          "Ta1 Nb1 W1 Mo1",
          "Mn1.33 Ni1.33 Cu1.33 Zn1",
          "Mo1 Cr1 Fe1 Co1 Ni1 Al1",
          "Zr4 Ti4 Ta4 Nb4 Al1",
          "Cr3.8 Fe2 Co2.8 Ni1 Cu1 Al9.4",
          "Ti1 Cr2 Fe1.89 Ni3.67 Al2",
          "Ti1 Ta1 Nb1 Mo1",
          "Ti1 Nb1 Mo1 Cr1 Al1",
          "Zr1 Ti3 Ta1 Nb3 Al2",
          "Cr2 Fe2 Co2 Ni2 Cu2 Al1 B2",
          "Cr1 Fe1 Ni1.99 Cu1.59 Al1",
          "Ti1 Mo2 Cr4 Fe4 Ni4 Al4",
          "Hf1 Ti1 Nb1 Al1",
          "Ti2.49 Cr2.49 Ni2.49 Cu2.49 Al1",
          "Fe1.25 Co1.25 Ni1 Cu1.25 Al1.25",
          "Ti1 Nb1 V1 Mo1",
          "Mn10 Fe10 Co10 Ni10 Cu10 Sn1",
          "Hf1.5 Ta3 Nb1 V6.5",
          "Ti4 Ta4 Nb4 V4 Al1",
          "Nb1 V1 W3 Ru1",
          "Hf1 Zr1 Ti1 Nb1.5 Mo1",
          "Mn1 Fe1 Co1 Ni1 Cu1",
          "W2 Fe2.53 B1.13 C1",
          "Ti1 Mo1.25 Cr2.5 Fe2.5 Ni2.5 Al2.5",
          "Fe25 Co25 Ni25 Cu25 Sn1",
          "Ti1 W64.67 C1",
          "V2.8 Cr2 Fe2 Co2 Ni2 Cu2 Al1",
          "Ta1 Nb3 W1 Ru1",
          "Cr1 Fe1 Co3.01 Ni2.01 Cu1 Al6.04",
          "Cr1 Fe1.42 Co1.42 Ni1.42 Al1.42",
          "Nb15 Fe1 Co1 Ni1 Cu1",
          "W1.82 Ni2.93 B1",
          "Hf1 Zr1.6 Ti2.22 Ta3.85 Nb3.85",
          "Ti2.82 Cr2.01 Fe2.01 Co2.01 Ni2.01 Cu2.01 Al1",
          "Ti1 Mn9.33 Fe10.33 Ni5 Al8",
          "Cr2 Fe2 Co2 Ni6 Cu1 Al2",
          "Cr1 Mn1 Fe1 Co1 Ni1",
          "Ti5 Ta5 V5 Mo5 Al1",
          "Cr1.67 Fe1 Co3 Ni1",
          "W1 Cr10 Mn10 Fe10 Cu10 Al10",
          "Ti1 Ta1 Nb1 V1 W1",
          "Hf0.2 Ti1 Ta10 W10 Mo2 Cr8 Re8 Ru8 Ni140.6 Al12 Si0.2",
          "Hf1 Zr1 Ti1 Nb1 Cr1",
          "Cr5 Fe5 Co5 Ni5 Al5 Si1",
          "Cr2.38 Fe1.38 Co2.38 Ni1 Al5.38",
          "Fe2 Co2 Ni2 Cu2 Sn1",
          "Hf1 Zr1.4 Ti2 Nb2 Mo1",
          "Hf2 Zr2 Ti2 Nb2 O1",
          "Cr2.12 Fe2.12 Co2.12 Ni4.12 Cu1 Al1",
          "V1.2 Cr2 Fe2 Co2 Ni2 Cu2 Al1",
          "Ti9.33 B3 Si1",
          "Ti1.67 Cr1.67 Ni1.67 Cu1.67 Al1",
          "Cr2 Fe2 Co2 Ni2 Cu1 Al1.41",
          "Fe2 Co1 Ni2 Cu2 Al2",
          "Zr0.09 Ti1 Mo97.69 B7.05 C1.71",
          "Cr1.25 Fe1.25 Ni2.75 Al1",
          "Li1 Mg1 Cu1 Zn1 Al16",
          "Ti1 Ta1 W1",
          "Ti1 Cr3.33 Fe3.33 Co5 Ni3.33 Al1.33",
          "Cr1.42 Fe1.42 Co1.42 Ni1.42 Al1",
          "Cr5.5 Fe1 Co1 Ni1 Cu1 Al7.17",
          "Hf5 Zr1 Ti10 Nb10 Mo5",
          "Ta1 Cr2.5 Mn2.5 Fe2.5 Co2.5 Ni2.5",
          "Cr2 Fe2 Co2 Ni1 Cu1 Al2",
          "Cr1 Fe1 Co1 Ni1.99 Al1.3",
          "Ti4 V7 Mo1 Cr2 Al6",
          "Hf2 Ti2 Nb2 V1 Mo1 Si1.4",
          "Ti1.61 Cr2.01 Fe2.01 Co2.01 Ni2.01 Cu2.01 Al1",
          "Cr3.33 Fe3.33 Ni6.64 Al1",
          "W1.17 Fe1.17 B1",
          "Cr4.4 Fe2 Co2.2 Ni1 Cu1 Al9.4",
          "Cr1.61 Mn1.61 Fe1.61 Co1.61 Ni1.61 Al1",
          "V2.82 Cr2.01 Fe2.01 Co2.01 Ni2.01 Cu2.01 Al1",
          "Ti1 Nb2 W2",
          "Mo1 Cr2 Fe2 Co2 Al2",
          "V1 Cr2.3 Fe2.3 Co2.3 Ni2.3 Cu2.3",
          "Mn1 Co1 Ni1",
          "Hf2 Ti6 Ta3 Nb1",
          "Nb10 V10 Mo10 Cr10 Al1",
          "Ti1 Nb1 W3 Re1",
          "W1 Re6 Fe2 Ni8",
          "Cr2 Co1 Ni2",
          "Cr3.33 Mn3.33 Fe5 Ni1.67 Al1",
          "Re1.17 Co1 B1.17",
          "Nb1 Cr2 Fe2 Co2 Ni2 Al2",
          "Ti2 Nb1 W1",
          "Ti2 Nb2 V2 Cr1 Al2",
          "Ti27.72 V1 Al3.28",
          "Ta3.61 Nb3.58 V2.28 W3.53 Mo3.54 Cr1",
          "Hf1 Ta5.5 Nb2 V3.5",
          "V1 Mo1 Fe1 Co1 Ni1",
          "Zr1 Ti1 V1 Cr1 Fe1 Co1 Ni1 Al1",
          "Cr1 Fe1 Ni1 Cu1.99 Al1",
          "Zr1 Ti2.2 Nb1.5 Cr2 Al3.3",
          "Ta1 Nb2.5 W2.5 Mo2.5 Re1.25 C1",
          "Fe1 Co1 Ni1",
          "Zr3.33 Ti5 Nb3.33 Al1",
          "Ti1 Cr2 Fe2 Co2 Ni2 Al2",
          "Cr1 Fe1 Co1 Ni1 Cu1 Al1.5",
          "Ta1 Nb5 W5 Mo5 Re2.5 C1",
          "Ti1 Nb1 Ag1 Zn1 Al1",
          "Cr1 Mn1 Fe1 Co1 Ni1.05",
          "Ti1 V2 Fe2 Co2 Ni2 Cu1",
          "Fe1 Co1 Ni1 Cu1 Al1",
          "Zr1 Ti2 Nb1 V1",
          "Ti1 Ta1 Nb1 V1 Al1",
          "W3.33 Fe2 Co1 Ni2",
          "Hf2 Ti2 Nb2 V2 Si1",
          "Ti1 Ta1 V1 W1 Cr1",
          "Fe10 Co10 Ni10 Cu10 Sn1",
          "Mg1 Fe1 Cu1 Zn1 Al13 Si3",
          "V2 W41 Mo1 Co4 Ni2",
          "Co2.5 Ni2.5 Cu1.5 Al1",
          "Mn1.87 Fe2.07 Ni1 Al1.6",
          "Ta1 V1 W1 Mo1",
          "Ti1 Ta1 Nb1",
          "Cr5 Mn1 Fe5 Co5 Pd5 Ni5",
          "Cr14.78 Mn14.19 Fe14.26 Co14.78 Ni14.56 C1",
          "Cr2.25 Fe2.25 Co1 Ni2.25 Al2.25",
          "Cr2 Fe2 Co2 Ni2 Cu1",
          "Ti1 V1 Mo1 Cr1 Al1",
          "Cr2.52 Fe2.52 Co2.52 Ni2.52 Cu1 Al2.27",
          "Cr1.33 Fe1.33 Co1.33 Ni1.33 Al1",
          "Ti3.37 Nb1.79 V1 Cr1.79",
          "Ta1 Cr5 Mn5 Fe5 Co5 Ni5 Al2.5",
          "Ti1.42 Nb1.42 W1.42 Mo1.42 Cr1",
          "Ta1 W6.5 Mo1.5 Re3",
          "Hf1 Zr2 Ti4 Nb2 V2",
          "V3.2 Cr2 Fe2 Co2 Ni2 Cu2 Al1",
          "Cr1 Fe3.99 Co1 Ni1",
          "Ti27.11 V1 Al3.21",
          "Cr1 Fe1 Co1 Cu1 Al1.5",
          "Mo1 Cr2.5 Fe2.5 Co2.5 Ni2.5 Al2.5",
          "Ta4 V1.33 W1.67 Mo1",
          "Ti1 Cr1 Fe1 Ni1 Cu1 Al1",
          "Cr1 Fe1 Co1 Ni1 Al1 C1",
          "Ti2 Nb2 V2 Mo1 Cr1.5",
          "Cr6.2 Fe1 Ni6.4 Cu4 Al2.4",
          "Ti1 Ta1 Mo1",
          "Mo1 Cr2 Fe2 Co2 Ni2 Al1",
          "Ta3 Nb1 W1 Mo1",
          "Li7 Ca2 Mg7 Al3 Si1",
          "Cr2.25 Fe2.25 Co1 Ni2.25 Cu2.25",
          "Cr1 Fe1 Ni1.4 Cu1 Al1",
          "Zr3.09 Ti69.8 Nb1.27 W1.2 Mo1 Al5.26 Sn3.49 Si0.37",
          "Li25.33 Ca0.33 Mg30 Al10 Si1",
          "Cr1 Fe1 Co1 Ni1 Cu1 Al1.8",
          "Ti2.4 Cr2 Fe2 Co2 Ni2 Cu2 Al1",
          "Zr8.5 Ti8.5 Ta1 Nb1 Mo1",
          "Ti2 Ta1 Nb1 V1 Mo1",
          "Mo45.5 B1 Si3.5",
          "Cr1 Fe1 Co1 Ni2 Al1",
          "Ti1 Nb1 W2",
          "Cr5.17 Fe1.5 Co1.67 Ni1.33 Cu1 Al6",
          "Zr1 Ti1 Nb1 Al1",
          "Zr2 Ti2 Ta1 Nb2 Al1",
          "Ti1 Cr5 Fe5 Co5 Ni5 Al9",
          "Mo1 Cr2 Fe2 Co2 Ni2",
          "Ta1 Nb1 W3 Mo1",
          "Zr5 Ti5 Ta2.5 Nb5 Al1",
          "Li2 Mg1 Sc2 Ti3 Al2",
          "Zr2.25 Ti2.25 Ta2.25 Nb2.25 Mo1",
          "Ti1 Ta4 V5 W2",
          "Fe1 Co1 Ni1 Cu1",
          "Ta1 Nb2 W2 Mo2 Re1 C1",
          "Cr1 Fe1 Co1 Cu1 Al2.5",
          "Hf1 Zr1 Ti1 V1 Mo1",
          "Zr1 Ti30 Nb54 Al15",
          "Ti1 Cr2.5 Fe2.5 Ni2.5",
          "V2 Fe2 Co2 Ni2 Cu1",
          "Cr1 Fe1 Co1 Cu1",
          "Ti1 Ta2 Nb2 W2 Mo2",
          "Cr4.2 Fe1.6 Co4.6 Ni1 Al8.6",
          "Cr2.33 Mn2.33 Fe2.33 Co2.33 Ni2.33 Al1",
          "Ti1 Cr1.33 Fe1.33 Co1.33 Ni1.33 Al1.6",
          "Mn5 Fe5 Co5 Ni5 Cu5 Sn1",
          "Cr1 Fe1.99 Co1 Ni1 Cu1",
          "Mo1 Cr4.96 Fe4.96 Ni4.96 Al4.96",
          "Hf1 Zr1 Ti1 Ta1 Nb1",
          "Cr1 Fe1 Co1 Ni1",
          "Mg1 Cr1 Cu1 Zn1 Al13 Si3",
          "Cr1 Fe1 Co1 Ni1 Al2.99",
          "Fe1 Co1 Ni1.5 Cu1 Al1",
          "Ti2 Nb2 V2 Mo2 Cr2 Al1",
          "W1 Cr2 Fe2 Co2 Ni2",
          "Mn3 Ni3 Cu3 Sn1",
          "Ti4.4 Nb11.4 Mo1 Si3.2",
          "Cr1 Mn1 Fe1 Cu1 Al1",
          "Hf2.5 Zr2.5 Ti1.14 Ta1",
          "Ti1 Nb3 W1 Ru1",
          "Hf4 Zr4 Ti3 Ta1 Nb4",
          "Li2.5 Mg5 Zn2.5 Al5 Sn1",
          "Zr0.08 Ti1 Mo98.79 C0.13",
          "Zr1 Ti1 Ta1 Nb1",
          "Ta1 V1 W1 Cr1",
          "Cr1 Mn1 Fe1 Co1 Ni1 Al1",
          "Hf1 Zr1 Ti1 Ta1 Nb1 V1 W1 Mo1",
          "Cr2 Fe2 Co1 Ni2 Cu1 Al2",
          "V1 Cr3.8 Mn3.8 Fe3.8 Co3.8 Ni3.8",
          "Nb1 V5.5 W4.5 Mo1",
          "Cr2 Fe2 Co4 Ni2 Cu1 Al2",
          "V2.5 Mo1 Fe5 Co5 Ni10",
          "W1 Cr1.62 Mn1.62 Fe1.62 Co1.62 N1.62",
          "Zr9 Ti9 Nb1 Mo1",
          "Zr1 Ti1 Nb1 V1 Mo2",
          "Ti1 Nb2 Cr2 Al45",
          "Cr3.98 Fe4.96 Co3.98 Ni4.96 Al1",
          "V1.5 Cr1 Fe1 Co1 Ni1",
          "Cr6.34 Fe6.34 Co6.34 Al1",
          "Nb1 Cr3.24 Fe3.24 Co3.24 Ni3.24",
          "Ti1 V2 Mo2 Cr2 Fe2",
          "Cr1 Fe1 Ni1.94 Cu1 Al1",
          "Nb1 V1 Mo1 Cr1 Fe1",
          "Cr1.99 Fe1 Co1 Ni1 Cu1",
          "Cr1.25 Fe1.25 Co1.25 Ni1.25 Al1.25 Si1",
          "Cr1 Fe1 Co1 Ni1 Cu1",
          "Nb7.5 Fe1 Co1 Ni1 Cu1",
          "Ti40 Nb1 Al5 Si15",
          "Mo109.94 B0.17 Si1",
          "Ti1 Ta1 V1 W1",
          "Be2.25 Zr4.12 Ti1.38 Ni1 Cu1.25",
          "Mo10.17 B1 Si5.5",
          "Hf10 Ti33 Nb1 Si16",
          "Nb1 Cr4 Fe4 Co4 Ni4 Al4",
          "Ti2 Nb2 V2 Mo2 Al1",
          "Ti2 Nb2 V2 Mo1",
          "Cr1 Fe1 Co1 Ni1.96 Al1",
          "Mo1 Cr2.5 Fe11 Co3.5 Ni2",
          "Ti1 Cr5 Fe5 Co5 Ni5 Cu5 Al2.51",
          "Cr6.72 Mn6.72 Fe6.72 Ni10.09 Cu1",
          "Cr1 Fe1 Co1 Cu1 Al2.3",
          "Zr1 Ti1 Nb1 V1 Al1",
          "Cr1 Fe1 Ni1 Cu1 Al1.99",
          "Mo1 Cr2 Fe1.2 Co2 Ni2 Al2",
          "Nb1 W1 Mo1",
          "Zr1 Ti3.35 Nb3.35 V2.01 Mo3.35 Cr1",
          "Ti1 Nb1 V1 Mo1 Al1.5",
          "Cr1 Fe1 Co1 Ni1 Ge1",
          "Ti1 Cr2 Fe2 Co2 Ni2 Cu2",
          "Zr2 Ti2 Ta1 Nb2 Mo1 Al2",
          "Cr1 Fe1 Co1 Cu1 Al1",
          "Cr2.01 Fe1 Co2.01 Ni2.01 Cu1 Al6.04",
          "Ti2 Nb2 V2 Mo1 Cr3",
          "Mo1 Cr2 Fe2 Co2 Ni2 Al3",
          "Ti1 Nb1 V1 Mo1 Al1",
          "Mo14.33 B1.33 Si1",
          "Mo1 Cr2 Fe2 Co2 Ni4 Al2",
          "Cr3 Fe2 Co3.6 Ni1 Cu1 Al9.4",
          "Zr3.33 Ti3.33 Nb3.33 V1 Mo1",
          "Re1 Co3.33 B2.33",
          "W1 Fe1.8 B1.2",
          "Hf2.5 Zr3 Ti2 Nb1.5 V1",
          "Cr1.67 Mn1 Fe1.67 Co1.67 Ni1.67 Al1.67",
          "Ti1 Cr5.05 Fe5.05 Co5.05 Ni5.05 Al5.05",
          "Cr1.67 Fe1.67 Co1.67 Ni1.67 Al1.67 Si1",
          "Fe1.33 Co1.33 Ni1.33 Si1",
          "Cr2.5 Fe2.5 Ni5 Cu2.5 Al1",
          "Ta2.67 Nb1 V2.33 W2",
          "Mo1 Cr10 Fe10 Co30 Ni31 Al18",
          "Cr1 Mn4 Fe4 Co1",
          "Zr3.33 Ti3.33 Nb3.33 V1 Mo2.33",
          "Ti1.5 Mo1 Cr2 Fe2 Ni2 Al2",
          "Li1 Mg1 Zn1 Al16 Sn1",
          "Mo1 Cr5 Fe5 Co5 Ni5 Al5",
          "Ti1 Nb1 V1 Cr1 Al1",
          "Cr1.67 Mn1 Fe1.67 Co1.67 Pd1.67 Ni1.67",
          "Cr4.76 Fe4.76 Co4.76 Ni1 Al4.76",
          "W1 Cr3.8 Mn3.8 Fe3.8 Co3.8 Ni3.8",
          "Ti1 Ta1 Mo1 Cr1 Al1",
          "Mn20 Fe20 Co20 Ni20 Cu20 Sn1",
          "Zr2 Ti2 Nb2 V1 Mo2",
          "W12 Cr1 Fe1.29",
          "Cr1.13 Mn1.13 Fe1.13 Co1.13 Ni1.13 Al1",
          "Hf1 Zr1 Ti1 Ta1 Mo1",
          "Zr1 Ti1.94 Ta1.31 Nb2.14 Mo1.22 Al1.99",
          "Ta1.09 Cr1.82 Mn1.82 Fe1.82 Co1.82 Ni1.82 Al1",
          "Ta1.43 Nb1.38 V1 W1.02",
          "Cr4.76 Fe4.76 Co1 Ni4.76 Al4.76",
          "Ti1 Ta1 V1 Mo1",
          "Ti1 Cr1.25 Fe1.25 Co1.25 Ni1.25 Al1.5",
          "Cr1 Mn1 Fe1 Ni1",
          "V1 Fe1 Co1 Ni1",
          "Ti1 Cr2 Fe2 Ni2",
          "Cr2.01 Fe2.01 Co3.01 Ni2.01 Cu1 Al2.01",
          "Mo1 Cr2.01 Fe3.01 Co2.01 Ni2.01 Al2.01",
          "Ti1 V1 Cr1 Mn1 Fe1 Co1 Ni1 Cu1 Al5.33",
          "Ti1.33 Nb1.33 V1.33 Mo1.33 Al1",
          "Ti10 Ni9 C1",
          "Cr4 Fe1 Ni3.57 Cu4.14 Al1.57",
          "Cr5.05 Fe5.05 Ni10.13 Cu5.05 Al1",
          "Ti1 Cr5 Fe5 Co5 Ni5",
          "Cr1.89 Fe1.89 Co1.89 Ni1",
          "Mo1 Cr1.5 Fe2 Co3.5 Ni2",
          "Nb1 Mo29.89 B2.85 Si3.3",
          "Cr2.5 Fe2.5 Co2.5 Ni2.5 Al2.5 Si1",
          "Ti1 Nb1 V1 Cr1 Ni1",
          "Sc1 Hf1 Zr1 Ti1",
          "Hf1 Zr2 Ti4 V2",
          "Cr3.34 Mn1 Fe3.34 Co3.34 Ni3.34 Al1",
          "Cr2 Fe2 Co2 Ni2 Cu1.51 Al1",
          "Ti1 V1 Cr1 Mn1 Fe1 Co1 Ni1 Cu1",
          "Mo31.33 B1 Si1",
          "Ti1 Cr2 Fe2 Ni2 Cu2 Al2",
          "Ti2 Nb2 W1",
          "Ti1 Ta1 Nb1 W1",
          "Nb1 Cr5 Fe5 Co5 Ni10.5",
          "Cr1.67 Fe1.67 Ni3.33 Cu1.67 Al1",
          "Ta8 Ir7 Ni4 B1",
          "Ti1 Cr1 Fe1 Co1 Ni1 Cu1 Al1",
          "Cr1 Fe1 Co1 Ni1 Al1.5",
          "Ta3 Co28.5 Ni1 B17.5",
          "Cr2 Fe2 Co2 Cu1 Al2",
          "Ta1 W3 Mo1 Re1",
          "Ti1 Cr2 Fe2 Co2 Ni2 Al1.8",
          "Cr1.14 Fe1.14 Co1.14 Ni1.14 Al1",
          "W2.69 Fe2 Co1 Ni2",
          "Ti2 Cr4 Fe4 Co4 Ni4 Cu1 Al3",
          "Ta1 Nb1 Mo1",
          "V1 Cr5 Fe5 Co5 Ni5 Cu5 Al2.5",
          "Mo11.4 B1 Si7.4",
          "Hf5 Zr10 Ti10 Nb10 Mo5 Si1",
          "Ti2 Nb2 V2 Mo1 Cr4",
          "Ta1 Nb1 V1 W1 Mo1 Cr1 Re1",
          "Hf3.33 Zr3.33 Ti3.33 Ta3.33 Nb3.33 Al1",
          "Fe1.05 Co1.05 Ni2.16 Al1",
          "Cr1 Fe1 Co1 Ni1 Al6",
          "Cr2.5 Mn1 Fe2.5 Co2.5 Pd2.5 Ni2.5",
          "Cr1 Mn1 Fe1 Co1 Ni1 Al1.25",
          "Ti5.03 Cr5.03 Fe5.03 Co7.56 Ni7.56 Al1",
          "Cr2 Fe2 Ni2 Cu2 Al1",
          "Cr1 Fe1 Co1 Ni1 Al2.5",
          "Zr5 Ti7.5 Ta4 Nb5 V1 Al2.5",
          "Cr2.86 Fe1.71 Co2.57 Ni1 Al6.14",
          "W1 Mo1 Cr2 Co4 Ni4",
          "W1 Fe1.64 B1",
          "Ti1 Nb1 W1",
          "Ti2 V2 Cr2 Fe2 Ni2 Cu2 Al1",
          "Ti2 Nb2 V2 Mo1 Cr2",
          "Zr1 Ti1 Nb1 V1 Mo1",
          "Cr3.33 Mn3.33 Fe3.33 Co3.33 Ni3.33 Al1",
          "Zr1 Ti1 Nb1 V2 Mo1",
          "Cr2 Mn2 Fe2 Ni2 Al1",
          "Hf8.08 Zr8.08 Ti8.08 Nb8.08 Al1",
          "Cr3.33 Fe3.33 Co3.33 Ni3.33 Al1",
          "V1 W3 Mo5 Re3",
          "Hf1 Zr1 Ti1 Ta1 Nb1 V1 Mo1",
          "Fe1 Co1.99 Ni1 Cu1 Al1",
          "Ti1.99 V1 Mo1 Cr1 Fe1",
          "Ta1 Nb1 W9 Re1",
          "Cr1 Co9.5 Ni9.5",
          "Cr1 Fe2.99 Co1.99 Ni1 Cu1.99 Al5.97",
          "Cr1 Co1 Ni1 Cu1 Al1",
          "Ti1 Nb2 W2 Ru1",
          "Cr1 Fe1 Ni1",
          "W1 Ir7.33 Al1.19",
          "Hf2.8 Zr0.01 Ti0.8 Ta6.6 W18.8 Mo1 Cr16.2 Co18.6 Ni123 Al11.4 B0.03 C0.14",
          "Ta1 V1 W9 Mo1",
          "Cr1 Fe2 Co2 Ni1 Cu1 Al6",
          "Ti1 Ta2 Nb2 V2 Mo2",
          "Cr1 Fe1 Co1 Cu1 Al2.8",
          "Cr2 Fe2 Co2 Ni2 Cu1 Al2",
          "Cr3.2 Fe2 Co3.4 Ni1 Cu1 Al9.4",
          "Hf1 Zr1 Nb1 V1 Mo1",
          "Cr1 Fe1 Co1 Ni1.5 Al1",
          "Zr1 Ti1.5 Nb1 V1",
          "Hf1 Zr2 Ti3 Ta1 Nb1",
          "Cr18.53 Mn17.98 Fe17.89 Co17.89 Ni18.44 C1",
          "Cr1 Fe1 Ni2.01 Cu1 Al2.5",
          "Ti1 Co1 Ni1 Al1",
          "Cr5 Fe1 Co13 Ni1",
          "Ti1 Nb1 V1 Mo1 Fe1",
          "Zr1 Ti2 Nb2 V2 Al2",
          "Ti1 Fe1 Ni1 Al1",
          "Cr1.05 Mn1.05 Fe1.05 Co1.05 Ni1.05 Al1",
          "Ti1.2 Cr2 Fe2 Co2 Ni2 Cu2 Al1",
          "Ta1.5 W8 Mo1.5 Re1",
          "Zr2 Ti2 Nb1 V1",
          "Fe1.33 Co1.33 Ni1.33 Al1",
          "Hf1 Ti1 Nb1 V1",
          "Ti2 V2 Fe2 Co2 Ni2 Cu1",
          "Ta4 Nb4 W4 Mo4 Si1",
          "Cr1 Fe1.94 Ni1.94 Al1",
          "Cr9.8 Mn9.8 Fe9.8 Co9.8 Ni9.8 C1",
          "Hf1 Zr1 Ti1",
          "V1 Cr1.33 Mn1.33 Fe1.33 Co1.33 Ni1.33",
          "W1 Cr2 Mn2 Fe2 Cu2 Al2",
          "Cr3.33 Fe3.33 Co3.33 Cu3.33 Al1",
          "Mo1 Cr2 Fe2 Co2 Ni1 Al2",
          "Ti1 Cr5 Fe5 Ni5",
          "Ti1 Nb2 Mo2 Cr2 Co2",
          "Ti4 Nb4 V4 Mo4 Al1",
          "Nb1 W3 Mo1 Ru1",
          "Mo1 Cr3.29 Fe3.29 Co3.29 Ni3.29",
          "Li2.5 Mg5 Cu2.5 Al5 Sn1",
          "V1 Cr4 Mn4 Fe4 Co4 Ni4",
          "Ta2 Nb2 W1 Mo1",
          "Hf1 Ti2 Nb2 Mo1",
          "Ti33 Nb1 Si16",
          "Cr3.4 Fe2.8 Co3 Ni1.2 Cu1 Al8.6",
          "Cr1 Fe1 Co1 Cu1 Al1.3",
          "V2.39 Cr1.99 Fe1.99 Co1.99 Ni1.99 Cu1.99 Al1",
          "Cr2 Fe2 Co2 Ni2 Cu2 Al1 B1.2",
          "Mo1 Cr1 Fe1 Ni1 Al1",
          "Cr1.67 Fe1.67 Ni4 Al1",
          "Zr1 Ti1 Nb1 V3 Mo1",
          "Mn3 Ni3 Cu3 Al1",
          "W1 Fe2.1 Ni4.9",
          "Mo1 Cr1.25 Fe1.25 Ni1.25 Al1.25",
          "Re1 Co1.6 B1.4",
          "Zr30.5 Ti1 Cu12.5 Al6",
          "Ti1 Cr2 Fe2 Co2 Ni2 Cu1 Al1",
          "Ti1 Nb1 Mo1 Cr1",
          "Cr2.25 Fe2.25 Co2.25 Ni1 Al2.25",
          "Cr1.42 Fe1.42 Co1.42 Ni1 Al1.42",
          "Ti2 V3 Mo1 Cr2 Al2",
          "Ti1 Cr12 Fe12 Co12 Ni12 Al2",
          "Hf1 Zr1 Ti1 Nb1 V1",
          "Ta1 W1 Mo1",
          "Ti1 V1 Cr1 Mn1 Fe1 Co1 Ni1 Cu1 Al2",
          "Ta1 Nb2 W2 Ru1",
          "Ti1 Cr5 Fe5 Co5 Ni5 Al4",
          "Cr1 Fe1 Co1 Ni2.22 Al1",
          "Cr2 Mn2.5 Fe4 Ni1.5 Al1",
          "Zr1 Ti1 Ta1 V1 Mo1",
          "Cr1.25 Fe1 Co1.75 Ni1",
          "Zr2 Ti1 Nb1 V2",
          "Mo1 Cr3.33 Fe1 Co5.67 Ni5.67",
          "Ti1 Fe1 Co1 Ni1 Cu1 Al1",
          "Zr1 Ti4 Nb3 Cr2",
          "Hf2 Zr2 Ti2 Nb1 Mo2",
          "Ti9.75 Ta1 Nb7.75 W1 Co5.5",
          "Cr1.43 Fe1.43 Co1.43 Ni1.43 Al1",
          "Mo1 Cr3.33 Fe3.33 Co3.33 Ni3.33 Al3.33",
          "Ti4 Cr2 Fe2 Co2 Ni2 Cu2 Al1",
          "Zr1.99 Ti2.18 Ta1.39 Nb2.5 Mo1.14 Al1",
          "Fe1 Co1 Ni1 Cu1 Al1 Si1",
          "Hf2 Zr2 Ti2 Ta2 Nb2 Mo1",
          "Cr1.5 Fe2.5 Co2.5 Ni2.5 Al1",
          "Cr1 Fe1 Ni2 Cu1 Al2.5",
          "Zr1 Ti1 V1 Fe1 Ni1 Al1",
          "Cr2.01 Fe3.01 Co2.01 Ni2.01 Cu1 Al2.01",
          "Ti41.7 Ta2.06 Nb14.06 Fe1",
          "Cr1 Fe1 Co1 Cu1 Al2",
          "V1 Mo1 Fe1 Co1 Ni1.6",
          "Zr4.17 Ti4.17 Nb4.17 V4.17 Al1",
          "V1 Cr1 Fe1 Co1 Ni1 Cu1 Al1",
          "Ti32 Ta1 Nb9 Cr19 Co39",
          "Ti1 Cr1 Fe1 Co1 Ni1",
          "Zr0.05 W26.69 Re1 C0.05",
          "Cr4.76 Fe1 Co4.76 Ni4.76 Al4.76",
          "Cr1 Fe2.25 Co2.25 Ni2.25 Cu2.25",
          "Ti1 Cr1 Ni1 Cu1 Al1",
          "Ti1.5 Cr1.25 Fe1.25 Co1.25 Ni1.25 Al1",
          "Cr1.67 Fe1.67 Co1.67 Ni1.67 Al1",
          "Fe1 Co3 Ni1 Cu1 Al1",
          "Mo7.38 B1 Si4.12",
          "Hf2 Ti2 Nb2 V1 Mo1",
          "Cr1 Fe1 Ni2 Cu1 Al1.8",
          "Hf1.5 Ti2.5 Ta1 V7",
          "Zr1 Ti1 Nb1",
          "Mo1 Cr3.33 Fe3.33 Co10 Ni9.67 Al6",
          "Cr1 Fe1 Co1 Ni1 Cu1 Al1",
          "Zr2 Ti2 Ta1 Nb2 Mo1 Cr2",
          "Cr1 Fe1 Co1 Ni4 Al1",
          "Zr3.33 Ti3.33 Nb3.33 V3.33 Mo1",
          "Hf0.02 Cr1.91 Fe4.85 Co1 Ni5.09 Al6",
          "Hf1.83 Zr1.83 Ti1.83 Nb1.83 Al1",
          "Cr3.34 Mn2 Fe3.34 Co3.34 Ni3.34 Al1",
          "Zr1 Ti1.33 Nb1",
          "Ti1 Cr2.5 Fe2.5 Co2.5 Ni2.5 Cu2.5 Al1.25",
          "Cr1 Mn1 Co1 Ni1",
          "Ti2.76 Nb1 Al1",
          "Mo1 Cr2 Fe2 Co2 Ni2 Al2",
          "Ti27.19 V1 Al3.22",
          "Hf1 Zr1 Ti1 Nb1 O1.5",
          "Ti19.07 Ta1 Nb6.81 Fe1.46",
          "Ta1.33 Nb1.33 W1.33 Mo1.33 Si1",
          "Nb1 Mo1 Cr1 Al1",
          "W4.29 Fe5.43 B3.57 C1",
          "Mo1 Cr10.17 Fe10.17 Co10.17 Ni10.17",
          "Cr4.8 Fe2 Co3.6 Ni1 Al8.6",
          "Ti1 Cr2 Fe2 Co2 Ni2",
          "V1 Cr3.96 Mn3.96 Fe3.96 Co3.96 Ni3.96",
          "Cr1 Mn1 Fe1 Co1",
          "Cr1 Fe1 Ni1 Cu1 Al1",
          "Cr2.01 Fe2.01 Co2.01 Ni3.01 Cu1 Al2.01",
          "V1 Cr2.49 Fe2.49 Co2.49 Ni2.49 Cu2.49 Al1.25",
          "Mo40.5 B1 Si8.5",
          "Hf1 Zr1 Nb1",
          "Zr1 Ti2 Ta2 Nb3",
          "W1.5 Mo6.33 Co1 Ni1.83 Al6",
          "Cr1 Fe1 Ni3 Cu1 Al1",
          "Cr2 Fe2 Co2 Ni2 Al2 C1",
          "Cr1 Fe1 Co1 Ni1 Cu1 Al2.3",
          "W30 Fe1 Ni2.33",
          "Cr1 Mn1 Fe1 Co1 Ni1 Cu1 Al1",
          "Cr1 Fe2 Co2 Ni2 Cu1 Al2",
          "Cr1 Fe2 Ni2 Al1",
          "Cr1 Fe1 Ni2 Cu1 Al1.2",
          "Ti8 Nb8 Al1 Si3",
          "Cr4.76 Fe4.76 Co1 Ni4.76 Cu4.76",
          "W1 Fe1.33 B1",
          "Cr1 Co1 Ni1 Cu1 Zn1",
          "Mn1 Fe1 Ni1",
          "Hf5 Zr10 Ti10 Nb10 Mo5 C1",
          "Ti3.98 Cr3.98 Fe3.98 Ni3.98 Cu1",
          "W3 Mo5 Re3 Ru1",
          "Zr10 Ti10 Nb10 V3 Mo1",
          "Mo1 Cr2 Fe2 Co3 Ni2 Al2",
          "Ti1 W1 Mo1 Cr1 Al1",
          "Cr1.33 Fe1.33 Co1 Ni1.33 Al1.33",
          "Cr9.8 Mn9.8 Fe9.8 Co9.8 Ni9.8 Al1",
          "Nb1 Cr2.43 Fe2.43 Co2.43 Ni2.43",
          "Cr4.6 Fe1.4 Co4.4 Ni1 Al8.6",
          "Cr3.6 Fe1 Co5.8 Ni1 Al8.6",
          "Zr3.33 Ti3.33 Nb3.33 V1 Mo5",
          "Zr0.09 Ti1 Mo97.63 B14.23 C3.33",
          "Y1 Sc1 Hf1 Zr1 Ti1",
          "Ti1.47 Nb3.13 Mo1 Si1.07",
          "Cr3.33 Fe3.33 Ni6.67 Cu1.67 Al1",
          "Hf1 Zr1 Ti1 Nb1 O2",
          "Cr1 Fe1 Co1 Ni1 Cu1 Al3",
          "Ti4.75 Nb4.75 W4.75 Mo4.75 Cr1",
          "Ti1 V23 Cr1",
          "Cr1 Fe1 Ni2 Cu1 Al1",
          "V3.6 Cr2 Fe2 Co2 Ni2 Cu2 Al1",
          "Zr2 W1 C2",
          "Cr3.14 Fe1.14 Co2.86 Ni1 Al6.14",
          "Y1 Ti1.25 Cr1.25 Co1.25 Ni1.25 Cu1.25 Al1.25",
          "Fe12.33 Co8.52 Ni8.52 Al6.7 C1",
          "Cr10.17 Fe10.17 Co10.17 Ni10.17 Al1",
          "Hf3.38 Ti3.38 Nb3.38 V1.68 Mo1.68 Si1",
          "Zr1 Mo82 B8 Si9",
          "Zr2.59 Ti2.53 Ta1 Nb2.89",
          "Cr1 Fe1 Co1 Pd1 Ni1",
          "Mo4.64 B1 Si1.5",
          "Cr2.67 Fe2.67 Co2.67 Ni2.67 Al1",
          "Cr3 Fe3 Co3 Al1",
          "Ti1 V1 Cr1 Mn1 Fe1 Co1 Ni1 Cu1 Al1",
          "Cr4.75 Fe4.75 Co4.75 Ni9.25 Cu1 Al1",
          "Hf18.27 Zr18.27 Ti18.27 Ta4.35 Nb4.35 Mo1",
          "Y1 Ti2 Cr2 Co2 Ni2 Cu2 Al2",
          "Cr1 Fe1 Co1 Ni1.99 Cu1",
          "Ti1 Mo1 Cr2 Fe2 Ni2 Al2",
          "Ti1 W38 C1",
          "Cr4 Fe2.2 Co2.4 Ni1 Cu1 Al9.4",
          "Mo82 B1 Si16",
          "Mo6.18 B1.91 Si1",
          "W1 Fe1.45 B1.18",
          "Hf1 Zr2 Ti2 Nb2 Mo2",
          "Cr2.25 Fe1 Co2.25 Ni2.25 Cu2.25",
          "Hf1 Zr1 Ti1 Ta1 Nb1 V1",
          "Mo1 Cr2 Fe4 Co2 Ni2 Al2",
          "Ti1 Cr3.33 Fe3.33 Ni3.33",
          "Cr4 Fe5 Co5 Ni5 Al1",
          "Cr9.8 Fe9.8 Co9.8 Ni9.8 Cu1 Al9.8",
          "Cr2 Fe2 Co2 Cu2 Al1",
          "Cr5 Fe1 Co4.4 Ni1 Al8.6",
          "Mo89 B1 Si10",
          "W1 Cr6.47 Mn6.47 Fe6.47 Co6.47 Ni6.47",
          "Hf3.32 Zr3.32 Ti3.32 Nb3.32 Al1",
          "Ta1.62 Nb1.57 V1 W1.56 Mo1.54 Cr1.47",
          "Ti3.44 Nb2.06 V1 Cr1 Ni1.5 Al1",
          "Mn6.34 Ni6.34 Cu6.34 Al1",
          "Ti20.83 Ta1 Nb6.83",
          "Zr2 Ti2 Ta1 Nb2 Mo1 Al1",
          "V2.4 Cr2 Fe2 Co2 Ni2 Cu2 Al1",
          "Cr1 Mn1 Fe6 Co6 Ni6",
          "Ti1 Ta1 Nb1 W1 Mo1",
          "Hf1.33 Zr1.33 Ti1.33 Ta1.33 Nb1.33 Al1",
          "Nb1 Cr24.6 Mn24.6 Fe24.6 Co24.6 Ni24.6 C1",
          "V2.5 Mo1 Fe2.5 Co2.5 Ni2.5",
          "Ti4 Nb2 V1 Cr2 Al1",
          "Cr7 Fe1 Ni5 Cu5 Al2",
          "Cr1 Fe1 Ni1 Al1",
          "W2.14 Fe2 Co1 Ni2",
          "Cr2.49 Fe3.74 Ni1.25 Al1",
          "Sc1 Hf1 Zr1 Ta1 Mo1",
          "Cr1 Fe1 Ni1.99 Cu1 Al1",
          "Nb1 Cr2.5 Fe2.5 Co2.5 Ni5.25",
          "Cr1.42 Fe1.42 Ni2.85 Cu1.42 Al1",
          "Nb1 V1 W1 Ru1",
          "Cr1.33 Mn1.33 Fe1.33 Co1.33 Ni1.33 Al1",
          "V1 Co1 Ni1",
          "Cr2.04 Mn2.04 Fe2.04 Co2.04 Ni2.04 Al1",
          "Ti3.33 Ni2.33 C1",
          "Li1 Mg1 Zn1 Al1 Sn1",
          "Cr1.89 Fe1.89 Co1.89 Al1",
          "Cr1.81 Fe1.54 Co1.54 Ni1.81 Al1",
          "Ti1 Cr3.33 Fe3.33 Co3.33 Ni3.33",
          "Hf1 Zr1 Ti1 Nb1 O1",
          "Cr2.88 Fe1.88 Co1.88 Ni2 Cu1 Al2.88",
          "Cr1 Fe1 Co1 Ni1 Cu1 Al2",
          "W30.51 Fe1 Ni2.3",
          "Mo1 Cr1 Fe1 Ni1 Cu1",
          "Cr1 Co2 Ni2",
          "Cr1.14 Mn1.14 Fe1.14 Co1.14 Ni1.14 Al1",
          "Ti23.3 V1 Al2.76",
          "Cr1 Fe2 Co2 Ni2 Al1",
          "Cr10 Fe10 Co10 Ni10 Al10 C1",
          "Ta1 W3 Mo1 Ru1",
          "Ti1 Ta1.33 Nb1.33 W1.33 Mo1.33",
          "Zr1 Mo40.5 B4 Si4.5",
          "Cr2.01 Fe2.01 Co1 Ni2.01 Cu1 Al6.04",
          "Ta1 Co7.12 B4.38",
          "Cr2.62 Mn2.62 Fe2.62 Co2.62 Ni2.62 Al1",
          "Ti1.34 Cr1.34 Fe1.34 Ni1.34 Cu1",
          "Zr1 Ti1 Nb1 V1.5 Mo1",
          "Y1 Mo7 Cr7.5 Fe20.5 Co3.5 B3 C7.5",
          "V1 Mo1 Cr1 Fe1",
          "Mo4 B1 Si1.25",
          "Cr1.47 Mn1.47 Fe1.47 Co1.47 Ni1.47 Al1",
          "Cr1 Co1 Ni1 Al1",
          "V1 Cr1.31 Mn1.31 Fe1.31 Co1.31 Ni1.31",
          "Ta1 Nb1 V1 Mo1",
          "Cr1 Fe1 Ni1 Cu1",
          "Hf1 Zr1.5 Ti1 Nb1 Mo1",
          "Ti1 Nb1 V1 Cr1 Ni1 Al7",
          "Ti1 Nb1 V1 Cr1 Ni1 Al10",
          "Cr1.43 Fe1.43 Ni2.86 Cu1.43 Al1"
         ],
         "legendgroup": "",
         "marker": {
          "color": "#2E91E5",
          "symbol": "circle"
         },
         "mode": "markers",
         "name": "",
         "showlegend": false,
         "type": "scattergl",
         "x": [
          63.904541015625,
          13.699746131896973,
          40.18019485473633,
          -63.731353759765625,
          30.987247467041016,
          62.848106384277344,
          -57.388729095458984,
          -10.466943740844727,
          28.46366310119629,
          -6.513219356536865,
          36.91276550292969,
          -80.65398406982422,
          30.045347213745117,
          11.526615142822266,
          53.53002166748047,
          -24.352088928222656,
          4.895731449127197,
          18.18560028076172,
          61.0294075012207,
          -35.22917175292969,
          -2.9602980613708496,
          -0.7063202261924744,
          45.72334671020508,
          -55.76832580566406,
          37.11406707763672,
          46.04065704345703,
          -28.390363693237305,
          32.83129119873047,
          -57.937591552734375,
          15.958902359008789,
          62.93837356567383,
          35.005096435546875,
          89.3991928100586,
          69.59918212890625,
          -49.31209945678711,
          -35.73922348022461,
          -22.180322647094727,
          -41.46946334838867,
          32.535308837890625,
          -45.67291259765625,
          5.8615522384643555,
          12.407003402709961,
          -26.880929946899414,
          -2.107565402984619,
          31.903236389160156,
          -28.16283416748047,
          -74.91107177734375,
          45.08665466308594,
          38.99895477294922,
          10.811907768249512,
          -25.650209426879883,
          -2.8570337295532227,
          -15.239076614379883,
          -16.99290657043457,
          -82.82658386230469,
          -47.92549133300781,
          -47.53269958496094,
          28.00874137878418,
          -8.648494720458984,
          -53.88550567626953,
          -48.938804626464844,
          -38.8458251953125,
          48.70133972167969,
          72.76622772216797,
          58.942138671875,
          16.8709774017334,
          81.33956146240234,
          7.690859317779541,
          13.890068054199219,
          -32.77231979370117,
          -2.558803081512451,
          32.88703155517578,
          -7.227632999420166,
          40.5185432434082,
          5.564004421234131,
          13.748884201049805,
          -80.41146850585938,
          50.74112319946289,
          46.33803176879883,
          -9.744912147521973,
          -43.296234130859375,
          -79.58108520507812,
          -0.5050848722457886,
          2.5604748725891113,
          4.479330062866211,
          20.44156265258789,
          12.305943489074707,
          -15.596674919128418,
          -57.25978088378906,
          46.371559143066406,
          -16.67597198486328,
          -32.535709381103516,
          -8.727391242980957,
          47.965572357177734,
          -35.91059494018555,
          35.95842361450195,
          -80.39456939697266,
          14.348682403564453,
          -16.24266815185547,
          14.105193138122559,
          -58.85038757324219,
          -19.412817001342773,
          51.41034698486328,
          29.065227508544922,
          -2.9271764755249023,
          37.79539108276367,
          -32.997215270996094,
          -70.6781997680664,
          71.96665954589844,
          48.41065216064453,
          -58.73896026611328,
          62.744728088378906,
          11.998027801513672,
          11.275165557861328,
          45.87312698364258,
          9.461212158203125,
          11.764618873596191,
          49.19677734375,
          47.382503509521484,
          3.70896053314209,
          -13.010985374450684,
          53.4451789855957,
          -82.86824035644531,
          25.067983627319336,
          57.61391067504883,
          -30.326290130615234,
          45.69035720825195,
          -30.00908660888672,
          -60.99555969238281,
          -16.689342498779297,
          64.19735717773438,
          -13.7831449508667,
          -3.4335808753967285,
          -4.14647912979126,
          -2.8812415599823,
          -8.40758228302002,
          54.76993942260742,
          -29.279260635375977,
          45.948814392089844,
          -94.7887191772461,
          -1.9583830833435059,
          23.685283660888672,
          24.897911071777344,
          -9.17744255065918,
          31.013071060180664,
          -27.878448486328125,
          -28.596952438354492,
          -29.716367721557617,
          52.27861404418945,
          -21.693801879882812,
          29.00003433227539,
          51.379180908203125,
          -11.70617961883545,
          61.079219818115234,
          -37.3541259765625,
          -49.71026611328125,
          -25.221410751342773,
          -6.992440223693848,
          -82.1458511352539,
          56.532493591308594,
          4.397024631500244,
          -55.796730041503906,
          -1.1938673257827759,
          24.128332138061523,
          -13.011540412902832,
          39.45489501953125,
          -47.852325439453125,
          42.16374969482422,
          -1.413285732269287,
          -48.593650817871094,
          -35.200618743896484,
          -36.15183639526367,
          62.49644470214844,
          -3.0674827098846436,
          -48.54467010498047,
          -79.6185302734375,
          80.66389465332031,
          -63.49031066894531,
          11.10722827911377,
          -64.77540588378906,
          35.1191520690918,
          -52.781551361083984,
          34.238529205322266,
          -49.15623092651367,
          -35.77947235107422,
          -1.3398958444595337,
          -12.697256088256836,
          53.52536392211914,
          -6.994917392730713,
          -35.564231872558594,
          -45.54707336425781,
          -73.95654296875,
          54.6438102722168,
          38.76161575317383,
          -33.59772872924805,
          -55.27959060668945,
          -39.47940444946289,
          -16.540912628173828,
          47.26481628417969,
          50.493812561035156,
          -47.40877914428711,
          -7.332780838012695,
          -3.966423511505127,
          43.148963928222656,
          -4.4557647705078125,
          27.352108001708984,
          -48.600440979003906,
          -58.650352478027344,
          14.606755256652832,
          40.46967315673828,
          -26.58110237121582,
          -19.177682876586914,
          -51.143585205078125,
          43.50644302368164,
          -29.26534080505371,
          54.03947830200195,
          -55.621795654296875,
          -48.50870895385742,
          27.863311767578125,
          22.614151000976562,
          20.428035736083984,
          54.83674621582031,
          -41.69325637817383,
          -11.438459396362305,
          -11.335315704345703,
          -61.53981018066406,
          -61.62699508666992,
          3.2931203842163086,
          -8.674799919128418,
          32.272647857666016,
          -11.285247802734375,
          -10.715850830078125,
          37.31597900390625,
          -6.993449687957764,
          36.6359748840332,
          23.860715866088867,
          -7.425867557525635,
          25.541339874267578,
          -78.52131652832031,
          -13.990354537963867,
          23.1359806060791,
          -87.8453140258789,
          76.5988540649414,
          81.56907653808594,
          -28.096853256225586,
          -43.83932876586914,
          61.70250701904297,
          -70.9517593383789,
          -42.92323684692383,
          -48.611053466796875,
          27.52004051208496,
          40.36874008178711,
          19.231435775756836,
          92.71056365966797,
          -36.728633880615234,
          49.42974090576172,
          -13.510077476501465,
          -62.6123046875,
          49.575958251953125,
          40.03648376464844,
          45.67542266845703,
          32.847774505615234,
          -100.2196044921875,
          -79.7596206665039,
          -36.17932891845703,
          38.91094970703125,
          73.85636901855469,
          -57.02628707885742,
          37.98074722290039,
          -30.44432830810547,
          20.432218551635742,
          -13.05295467376709,
          -63.385345458984375,
          -79.53330993652344,
          -82.87542724609375,
          51.3977165222168,
          -7.985000133514404,
          25.441015243530273,
          33.96411895751953,
          -39.02360534667969,
          39.4276123046875,
          -37.20881652832031,
          43.231380462646484,
          -18.981975555419922,
          -47.81981658935547,
          15.591449737548828,
          -45.66587829589844,
          45.201385498046875,
          -25.88094139099121,
          -16.00359535217285,
          -6.960211277008057,
          17.44304656982422,
          -32.11125946044922,
          -63.259246826171875,
          -26.389514923095703,
          58.85971450805664,
          -14.101302146911621,
          62.47343444824219,
          17.648273468017578,
          57.682403564453125,
          -80.3805160522461,
          -37.40373229980469,
          -6.835577011108398,
          -41.9929313659668,
          10.787382125854492,
          41.016075134277344,
          -3.125128746032715,
          11.154045104980469,
          11.703804969787598,
          -44.857421875,
          16.75409507751465,
          38.986270904541016,
          59.13483428955078,
          38.70174026489258,
          -57.88174819946289,
          -79.20623016357422,
          -30.43693733215332,
          50.73904037475586,
          -78.02604675292969,
          -15.25871753692627,
          -51.979591369628906,
          -28.7273006439209,
          36.09090042114258,
          -29.83212661743164,
          38.35226821899414,
          -9.099241256713867,
          49.172611236572266,
          9.459955215454102,
          -16.465639114379883,
          -42.0234489440918,
          71.60326385498047,
          -3.2549965381622314,
          -4.971811294555664,
          52.80501174926758,
          -27.585174560546875,
          5.814646244049072,
          65.27281951904297,
          55.19216537475586,
          49.6646842956543,
          -51.56544494628906,
          47.816192626953125,
          19.895910263061523,
          65.04939270019531,
          5.555781841278076,
          27.999711990356445,
          -32.08707046508789,
          -102.62911987304688,
          -22.911073684692383,
          4.665985107421875,
          14.693345069885254,
          -82.16946411132812,
          71.04285430908203,
          29.394750595092773,
          -6.598808288574219,
          -86.31653594970703,
          -57.27410125732422,
          47.29082107543945,
          -23.8546199798584,
          69.81446838378906,
          -13.885848999023438,
          49.93440246582031,
          -39.76884841918945,
          50.9959831237793,
          -1.821645975112915,
          -10.514965057373047,
          -48.29182815551758,
          41.211360931396484,
          -16.966232299804688,
          -51.68407440185547,
          -52.940589904785156,
          -94.96935272216797,
          11.867648124694824,
          -28.15549659729004,
          -12.411643028259277,
          51.97573471069336,
          -26.924957275390625,
          45.5764274597168,
          18.670785903930664,
          -79.97746276855469,
          29.778675079345703,
          -102.48761749267578,
          72.79237365722656,
          -32.87885284423828,
          5.5242414474487305,
          79.29205322265625,
          -35.73922348022461,
          -35.54551315307617,
          -12.99264144897461,
          5.892241477966309,
          -15.953699111938477,
          -12.87255573272705,
          17.502655029296875,
          -42.405120849609375,
          -16.242799758911133,
          -4.203193187713623,
          24.520343780517578,
          1.150123119354248,
          -79.24874114990234,
          -39.3797492980957,
          -80.22781372070312,
          -54.48096466064453,
          16.6674747467041,
          3.4910030364990234,
          -27.604127883911133,
          -5.390147686004639,
          82.30612182617188,
          -55.101680755615234,
          -99.994140625,
          81.10012817382812,
          40.4581184387207,
          -48.12812805175781,
          -37.73844528198242,
          56.011131286621094,
          -73.38936614990234,
          78.39666748046875,
          89.78472900390625,
          4.379536151885986,
          10.600046157836914,
          61.70453643798828,
          34.95810317993164,
          -41.81084442138672,
          32.6330680847168,
          -31.81692123413086,
          3.573575973510742,
          -1.716454029083252,
          20.447250366210938,
          4.633718013763428,
          -11.82979679107666,
          56.042293548583984,
          34.69388961791992,
          -35.58049774169922,
          11.909697532653809,
          7.138321876525879,
          57.058372497558594,
          -25.466825485229492,
          -44.602264404296875,
          28.044897079467773,
          70.93412780761719,
          5.606269836425781,
          58.556617736816406,
          -8.608996391296387,
          61.84935760498047,
          -6.42873477935791,
          93.45415496826172,
          7.809238433837891,
          56.360206604003906,
          3.222513198852539,
          44.111942291259766,
          -34.96327590942383,
          -79.21257781982422,
          94.15494537353516,
          -3.6986958980560303,
          -88.26737976074219,
          69.4939956665039,
          -26.455759048461914,
          -83.61761474609375,
          46.95625686645508,
          50.24383544921875,
          66.14279174804688,
          -23.178272247314453,
          -76.78541564941406,
          -52.6748161315918,
          36.642948150634766,
          18.656288146972656,
          -19.187545776367188,
          -31.66356658935547,
          69.2190933227539,
          -100.65035247802734,
          -48.186126708984375,
          32.98293685913086,
          -21.677490234375,
          -23.45896339416504,
          61.11650085449219,
          27.338579177856445,
          13.071647644042969,
          -55.01203918457031,
          -13.565247535705566,
          -46.65599060058594,
          72.02603912353516,
          3.4716362953186035,
          -4.822269439697266,
          -9.952693939208984,
          48.52851867675781,
          -42.90296936035156,
          0.8811072707176208,
          -80.64561462402344,
          -51.010101318359375,
          -53.28840255737305,
          -52.764404296875,
          -11.572619438171387,
          -41.251365661621094,
          45.44490432739258,
          -15.340235710144043,
          -16.280118942260742,
          52.336029052734375,
          -82.53820037841797,
          -14.963271141052246,
          -26.20639991760254,
          34.49171447753906,
          -51.807579040527344,
          -40.81076431274414,
          62.503997802734375,
          -16.749622344970703,
          -44.71092224121094,
          -32.016815185546875,
          -41.30781173706055,
          56.765380859375,
          -48.402626037597656,
          32.44232940673828,
          -60.7095832824707,
          72.77840423583984,
          35.265350341796875,
          -27.40888214111328,
          37.76966094970703,
          -12.573318481445312,
          -12.095856666564941,
          -2.5545291900634766,
          11.662160873413086,
          -34.97549819946289,
          37.34214782714844,
          -10.921563148498535,
          -45.6890983581543,
          19.266128540039062,
          -25.559438705444336,
          -56.00664138793945,
          -29.71475601196289,
          72.8299331665039,
          47.620365142822266,
          72.86576080322266,
          -16.723201751708984,
          64.42100524902344,
          49.72479248046875,
          -9.055998802185059,
          -31.150257110595703,
          70.06005859375,
          55.64197540283203,
          74.25155639648438,
          20.117338180541992,
          18.284469604492188,
          11.654410362243652,
          -43.95399856567383,
          -28.79391098022461,
          -24.449535369873047,
          27.76409339904785,
          -3.541351318359375,
          81.4993667602539,
          29.350753784179688,
          -60.137184143066406,
          20.05394172668457,
          -13.486929893493652,
          -55.43873977661133,
          80.51862335205078,
          -21.674314498901367,
          46.232566833496094,
          62.75383377075195,
          -58.527835845947266,
          -53.721839904785156,
          47.65825653076172,
          -13.463923454284668,
          25.407835006713867,
          14.59754753112793,
          -3.069810628890991,
          -13.791950225830078,
          5.3552422523498535,
          24.577356338500977,
          2.126063108444214,
          -43.961280822753906,
          -6.945444107055664,
          -3.0612716674804688,
          54.22035598754883,
          2.4377596378326416,
          55.98957061767578,
          1.8768303394317627,
          -69.32923889160156,
          -60.08003616333008,
          13.804034233093262,
          -7.051942348480225,
          11.031721115112305,
          10.730761528015137,
          58.23236083984375,
          77.80723571777344,
          -18.863162994384766,
          -60.6004638671875,
          62.49012756347656,
          40.64680862426758,
          64.24979400634766,
          -3.6093897819519043,
          -27.162946701049805,
          14.23996353149414,
          -100.34485626220703,
          -38.172061920166016,
          -2.9290664196014404,
          -68.7995376586914,
          -29.434947967529297,
          37.27447509765625,
          3.490279197692871,
          -100.50544738769531,
          -16.25450325012207,
          20.34107208251953,
          -28.494522094726562,
          39.83349609375,
          -26.075258255004883,
          -40.87944412231445,
          -13.958951950073242,
          -29.947128295898438,
          30.455636978149414,
          -1.6151092052459717,
          -13.770515441894531,
          56.05889129638672,
          39.34107971191406,
          -14.050886154174805,
          -55.49816131591797,
          -70.6982421875,
          0.4820539355278015,
          24.788875579833984,
          93.46833038330078,
          53.15650177001953,
          44.575645446777344,
          -17.916095733642578,
          -31.49185562133789,
          -54.31735610961914,
          -16.814849853515625,
          -4.202977657318115,
          17.162878036499023,
          37.3703498840332,
          72.961669921875,
          61.97007369995117,
          65.43219757080078,
          54.06640625,
          -48.26560974121094,
          -4.824417591094971,
          -13.079513549804688,
          59.66294860839844,
          13.939637184143066,
          56.124794006347656,
          3.4389121532440186,
          64.34395599365234,
          4.6894636154174805,
          -61.864383697509766,
          -40.40354919433594,
          -80.68900299072266,
          -80.8050537109375,
          -16.222394943237305,
          -35.1920051574707,
          23.125633239746094,
          17.240036010742188,
          -7.766376972198486,
          -79.81449127197266,
          81.80487060546875,
          34.69374465942383,
          -13.367003440856934,
          21.619810104370117,
          5.911637783050537,
          -25.524507522583008,
          39.27824783325195,
          37.447181701660156,
          -4.97891092300415,
          -16.02579689025879,
          -82.6132583618164,
          45.770633697509766,
          -3.099202871322632,
          11.508620262145996,
          -11.691729545593262,
          -50.81527328491211,
          -7.0444207191467285,
          -48.84817886352539,
          -53.75588607788086,
          33.24769973754883,
          45.892791748046875,
          44.162933349609375,
          -38.90462875366211,
          17.163583755493164,
          64.0106201171875,
          72.0905990600586,
          -13.270198822021484,
          -19.663990020751953,
          -33.08182907104492,
          36.56901168823242,
          17.24684715270996,
          63.84369659423828,
          47.787113189697266,
          61.37850570678711,
          -13.32119369506836,
          50.72058868408203,
          52.993568420410156,
          -45.84687042236328,
          6.098316192626953,
          57.38745880126953,
          49.74535369873047,
          18.5572452545166,
          -14.87710952758789,
          39.054176330566406,
          -87.7581558227539,
          -6.972663402557373,
          43.006717681884766,
          -9.221586227416992,
          -52.12798309326172,
          36.21615982055664,
          25.877220153808594,
          25.04559326171875,
          -40.400508880615234,
          -72.70845794677734,
          -40.55416488647461,
          72.02841186523438,
          11.691705703735352,
          -41.05317687988281,
          35.19953536987305,
          -94.34523010253906,
          50.025390625,
          46.19921112060547,
          53.84970474243164,
          73.92693328857422,
          -94.32074737548828,
          -8.680768966674805,
          -40.213287353515625,
          -63.09452438354492,
          45.48805236816406,
          -46.55545425415039,
          59.77833938598633,
          -12.101408004760742,
          -30.24633026123047,
          77.89539337158203,
          -16.666616439819336,
          44.68953323364258,
          2.1518394947052,
          -88.2695541381836,
          -10.867549896240234,
          -44.363929748535156,
          37.00686264038086,
          -26.10964012145996,
          -55.4258918762207,
          42.09678649902344,
          -10.850887298583984,
          68.72471618652344,
          1.386346697807312,
          -13.558477401733398,
          -65.41654968261719,
          81.26884460449219,
          69.596923828125,
          -13.453619956970215,
          -43.11370849609375,
          19.422204971313477,
          11.676342964172363,
          -28.67359733581543,
          -43.76762008666992,
          19.113956451416016,
          -53.342281341552734,
          7.118669509887695,
          41.941307067871094,
          -20.75511360168457,
          -11.894046783447266,
          -4.8104729652404785,
          82.72942352294922,
          -54.14427185058594,
          -28.40096664428711,
          -13.353788375854492,
          31.70755386352539,
          94.03075408935547,
          -1.8189291954040527,
          -54.78912353515625,
          -7.804214954376221,
          -7.819052696228027,
          -58.703956604003906,
          -46.57319641113281,
          63.61287307739258,
          -11.940995216369629,
          -52.70777130126953,
          -41.186073303222656,
          28.3266658782959,
          24.68939971923828,
          62.194602966308594,
          -8.76103687286377,
          -3.632384777069092,
          -79.21046447753906,
          6.025152206420898,
          -10.311203956604004,
          65.59823608398438,
          30.954208374023438,
          19.03675651550293,
          34.71726989746094,
          48.03749084472656,
          11.80162239074707,
          15.895936012268066,
          -57.77287292480469,
          25.381689071655273,
          40.311397552490234,
          -29.181793212890625,
          38.314579010009766,
          -12.640183448791504,
          -30.650859832763672,
          40.51120376586914,
          25.428054809570312,
          -43.705047607421875,
          11.211915969848633,
          -41.36861801147461,
          46.35546875,
          45.89908981323242,
          -20.047948837280273,
          90.19803619384766,
          29.2401123046875,
          -63.77992630004883,
          7.4825215339660645,
          48.291439056396484,
          -44.2535285949707,
          -88.26362609863281,
          34.11347961425781,
          45.05183029174805,
          -35.45527267456055,
          -46.63046646118164,
          -44.76200485229492,
          -30.80980682373047,
          31.087024688720703,
          -27.585189819335938,
          -11.474971771240234,
          22.81147575378418,
          -60.17279052734375,
          55.32670974731445,
          54.97934341430664,
          46.018211364746094,
          -47.42009353637695,
          -24.76726722717285,
          16.185117721557617,
          -27.8646240234375,
          -7.392257213592529,
          34.99604034423828,
          10.609014511108398,
          -1.716843605041504,
          30.16730499267578,
          -102.73126983642578,
          35.11646270751953,
          -8.652807235717773,
          36.53861999511719,
          5.828189849853516,
          -58.03894805908203,
          -60.415283203125,
          18.681381225585938,
          5.822082042694092,
          -29.30657386779785,
          0.876899003982544,
          38.70249938964844,
          37.67401123046875,
          20.3787841796875,
          -12.789040565490723,
          61.89677810668945,
          -4.824936866760254,
          28.336708068847656,
          37.53797149658203,
          -3.3964684009552,
          -37.31067657470703,
          46.141754150390625,
          37.36943054199219,
          23.916751861572266,
          43.8057861328125,
          49.18248748779297,
          -63.777137756347656,
          40.23025131225586,
          -25.053634643554688,
          58.677825927734375,
          73.49665069580078,
          -1.3775871992111206,
          11.222346305847168,
          -32.12574005126953,
          39.606082916259766,
          -13.139582633972168,
          -55.69929504394531,
          -15.346426963806152,
          -94.82556915283203,
          -57.661258697509766,
          -45.66275405883789,
          61.28899002075195,
          -32.29701232910156,
          7.2615532875061035,
          -7.219982147216797,
          -44.261680603027344,
          28.017608642578125,
          -32.922611236572266,
          -86.38153076171875,
          73.06673431396484,
          -55.56882858276367,
          46.72854995727539,
          62.408843994140625,
          68.5697021484375,
          6.092680931091309,
          17.131057739257812,
          43.24846649169922,
          29.426536560058594,
          -62.993770599365234,
          62.241294860839844,
          -31.22170066833496,
          -53.51372528076172,
          47.47086715698242,
          -16.36730194091797,
          10.17531967163086,
          -42.992191314697266,
          38.566104888916016,
          57.61978530883789,
          6.997995376586914,
          -31.15934944152832,
          -48.477333068847656,
          -14.321853637695312,
          -38.9195556640625,
          21.23848533630371,
          -73.6224136352539,
          23.196611404418945,
          -55.256248474121094,
          3.2542221546173096,
          -54.52473831176758,
          78.13836669921875,
          30.657630920410156,
          17.161333084106445,
          46.612552642822266,
          36.75082015991211,
          19.320310592651367,
          32.9199104309082,
          -8.996935844421387,
          36.17176818847656,
          32.4475212097168,
          -13.307510375976562,
          -24.644412994384766,
          -37.20562744140625,
          -83.81281280517578,
          -25.55016326904297,
          34.98324966430664,
          -58.98506546020508,
          -2.9890193939208984,
          40.71390914916992,
          39.82045364379883,
          36.553768157958984,
          -35.73922348022461,
          -4.64389181137085,
          28.82675552368164,
          -29.360876083374023,
          -12.777482032775879,
          28.633607864379883,
          -4.202730655670166,
          36.54449462890625,
          22.378618240356445,
          -1.9335519075393677,
          -14.021455764770508,
          38.15357208251953,
          5.441880702972412,
          -5.077546119689941,
          72.51560974121094,
          -63.7098503112793,
          -12.87177848815918,
          2.721013069152832,
          -26.863853454589844,
          -78.99271392822266,
          48.22235107421875,
          -1.2189704179763794,
          -81.73152160644531,
          51.8961296081543,
          -39.506072998046875,
          7.113144874572754,
          -7.077131748199463,
          30.055566787719727,
          -36.00438690185547,
          -13.699106216430664,
          -42.62570571899414,
          30.043392181396484,
          -94.1313247680664,
          53.617774963378906,
          48.886287689208984,
          -62.37743377685547,
          63.709415435791016,
          27.48421287536621,
          -60.866722106933594,
          45.896121978759766,
          -45.7603645324707,
          36.891258239746094,
          -15.521989822387695,
          -83.63436889648438,
          11.22862434387207,
          -0.9780387878417969,
          -16.742868423461914,
          -18.979656219482422,
          -26.384748458862305,
          36.67920684814453,
          13.593660354614258,
          -100.159423828125,
          -79.23424530029297,
          -18.108633041381836,
          -29.74846649169922,
          -27.691938400268555,
          24.14716339111328,
          1.9298830032348633,
          29.582656860351562,
          52.543556213378906,
          45.6207160949707,
          -49.28557205200195,
          -37.85013961791992,
          14.212063789367676,
          19.002368927001953,
          10.587145805358887,
          65.04059600830078,
          41.85683059692383,
          -13.739251136779785,
          -78.01258087158203,
          -2.195441246032715,
          -0.2983247935771942,
          -2.267437696456909,
          3.8944332599639893,
          -28.37302017211914,
          54.855873107910156,
          -12.313572883605957,
          -8.979228973388672,
          -20.42385482788086,
          -11.28937816619873,
          38.207664489746094,
          -40.80992889404297,
          19.120058059692383,
          80.63951110839844,
          28.371313095092773,
          32.549224853515625,
          59.747135162353516,
          -4.039053440093994,
          -13.498144149780273,
          -35.738643646240234,
          -63.493526458740234,
          -16.756750106811523,
          -59.54017639160156,
          -6.749363422393799,
          38.81714630126953,
          -13.72280502319336,
          -1.6319167613983154,
          -5.181108474731445,
          64.49966430664062,
          11.105883598327637,
          29.59014129638672,
          54.961021423339844,
          -54.3572998046875,
          52.7041015625,
          -80.89517211914062,
          69.91598510742188,
          -36.14696502685547,
          45.13018035888672,
          62.61585998535156,
          -42.11456298828125,
          19.66345977783203,
          56.501495361328125,
          -2.354722738265991,
          -17.365156173706055,
          -29.485008239746094,
          61.05672836303711,
          -2.378164291381836,
          9.459803581237793,
          -10.770601272583008,
          55.61613082885742,
          -16.03971290588379,
          37.159671783447266,
          -24.529376983642578,
          -28.141843795776367,
          -13.891626358032227,
          71.5751953125,
          -14.376124382019043,
          46.910892486572266,
          51.370277404785156,
          -46.31165313720703,
          -68.30945587158203,
          -20.822439193725586,
          -25.23636245727539,
          36.07345199584961,
          33.474021911621094,
          13.826908111572266,
          -62.797210693359375,
          -3.2317607402801514,
          55.3390007019043,
          47.336368560791016,
          -26.510055541992188,
          90.066162109375,
          11.212132453918457,
          38.17416763305664,
          -50.64303207397461,
          -47.095703125,
          49.3464241027832,
          -55.565895080566406,
          -55.02546691894531,
          -31.598594665527344,
          -8.442572593688965,
          -2.0954747200012207,
          14.924606323242188,
          35.675289154052734,
          53.009735107421875,
          -36.73109817504883,
          5.49282169342041,
          -53.47111129760742,
          38.90547180175781,
          82.83663940429688,
          30.79714584350586,
          -12.031959533691406,
          -28.36063003540039,
          -45.70649337768555,
          -40.36753845214844,
          -40.947547912597656,
          -54.06939697265625,
          52.07124328613281,
          -86.01141357421875,
          -6.736604690551758,
          -41.01034164428711,
          5.733948230743408,
          36.513877868652344,
          -7.496398448944092,
          25.15835952758789,
          -13.974509239196777,
          -14.090717315673828,
          31.38025665283203,
          -35.553009033203125,
          74.15933227539062,
          48.76900863647461,
          13.99070930480957,
          58.977176666259766,
          -12.742267608642578,
          -12.21253490447998,
          -80.43778991699219,
          61.202125549316406,
          -28.113136291503906,
          49.51976013183594,
          -1.9937115907669067,
          -0.1974857896566391,
          22.172155380249023,
          70.83916473388672,
          20.58941078186035,
          -11.921846389770508,
          -7.2055792808532715,
          5.352023601531982,
          30.26518440246582,
          -39.991920471191406,
          62.348758697509766,
          -30.077783584594727,
          -68.29964447021484,
          16.073331832885742,
          -23.495119094848633,
          23.69455909729004,
          -26.35354995727539,
          11.432357788085938,
          50.336387634277344,
          -43.783721923828125,
          17.94907569885254,
          -15.501405715942383,
          45.10013961791992,
          5.501733303070068,
          -57.8942756652832,
          11.655416488647461,
          -16.199142456054688,
          -12.93908405303955,
          -42.0814094543457,
          19.085174560546875,
          91.87283325195312,
          -70.01136016845703,
          50.14162063598633,
          36.85234832763672,
          -1.0145500898361206,
          -32.65299606323242,
          45.756473541259766,
          -11.305540084838867,
          51.48499298095703,
          -49.42653274536133,
          71.26277923583984,
          -50.80857467651367,
          37.87803649902344,
          -4.4639787673950195,
          -42.723873138427734,
          22.610929489135742,
          -7.509622573852539,
          16.37287139892578,
          69.56353759765625,
          23.87003517150879,
          37.02862548828125,
          26.129150390625,
          -8.244288444519043,
          -33.96542739868164,
          -15.252717018127441,
          -16.907649993896484,
          -53.47690963745117,
          -44.05908966064453,
          -59.45325469970703,
          -14.92364501953125,
          -42.002323150634766,
          28.23038673400879,
          67.07903289794922,
          44.8032112121582,
          -6.92151403427124,
          -77.882568359375,
          -2.852825403213501,
          -28.166263580322266,
          47.845054626464844,
          -34.488311767578125,
          -35.60990524291992,
          -50.6439323425293,
          -73.38445281982422,
          71.13724517822266,
          -58.60689926147461,
          -6.785282135009766,
          -51.01542282104492,
          -83.5809555053711,
          80.0138931274414,
          1.3711397647857666,
          45.133365631103516,
          37.850582122802734,
          -13.013614654541016,
          29.051822662353516,
          -6.360685348510742,
          -51.814937591552734,
          -39.1713981628418,
          -13.69449520111084,
          -11.948284149169922,
          55.08763122558594,
          21.66350555419922,
          52.29575729370117,
          72.7037353515625,
          -80.46788024902344,
          69.55953216552734,
          -27.357194900512695,
          54.36113739013672,
          50.87089538574219,
          -74.32929992675781,
          -48.1658935546875,
          54.635719299316406,
          -13.978082656860352,
          4.8216962814331055,
          -25.806013107299805,
          -31.809890747070312,
          92.68778991699219,
          23.350027084350586,
          36.95178985595703,
          -35.26142501831055,
          19.673913955688477,
          -36.72389221191406,
          -14.230193138122559,
          14.077397346496582,
          -13.652107238769531,
          49.40873718261719,
          5.176786422729492,
          -12.862741470336914,
          -39.98366165161133,
          45.50748062133789,
          -8.414053916931152,
          27.778541564941406,
          20.135940551757812,
          -6.39714241027832,
          73.67462158203125,
          -52.287742614746094,
          64.21697998046875,
          -19.793109893798828,
          -1.812995433807373,
          -30.80067253112793,
          -6.908815860748291,
          -31.104169845581055,
          -14.16933536529541,
          20.85232162475586,
          -43.08308029174805,
          70.42779541015625,
          33.11074447631836,
          23.98451042175293,
          -86.11226654052734,
          23.65324592590332,
          30.136455535888672,
          -45.70780944824219,
          -29.8590030670166,
          39.9475212097168,
          58.51508712768555,
          -46.41197967529297,
          11.375895500183105,
          23.219642639160156,
          -100.48877716064453,
          -47.047325134277344,
          -20.674571990966797,
          -7.0025529861450195,
          64.87511444091797,
          -74.2009506225586,
          -13.700624465942383,
          -77.5088882446289,
          56.69466781616211,
          -60.79792404174805,
          0.8177866339683533,
          -56.867218017578125,
          13.836400032043457,
          6.60650110244751,
          -14.037230491638184,
          -13.874582290649414,
          -17.86455726623535,
          69.57635498046875,
          -25.58390235900879,
          -28.843385696411133,
          47.80908966064453,
          -59.16502380371094,
          -2.283761978149414,
          -62.30900573730469,
          16.892833709716797,
          -29.687686920166016,
          -4.989985942840576,
          51.87025451660156,
          39.822898864746094,
          23.510377883911133,
          -14.445497512817383,
          3.9274144172668457,
          -55.12242889404297,
          2.2701213359832764,
          53.607093811035156,
          -23.953479766845703,
          21.792795181274414,
          19.718711853027344,
          -59.822547912597656,
          5.832650184631348,
          -55.48834228515625,
          37.05518341064453,
          -58.83246612548828,
          71.95512390136719,
          2.881221294403076,
          3.255099296569824,
          -77.47871398925781
         ],
         "xaxis": "x",
         "y": [
          -32.21809768676758,
          -11.203032493591309,
          47.42202377319336,
          18.549890518188477,
          -4.867208003997803,
          -17.338741302490234,
          -28.55946159362793,
          -18.569124221801758,
          9.342192649841309,
          86.02476501464844,
          -31.26862335205078,
          22.838964462280273,
          11.442072868347168,
          31.218585968017578,
          1.0067352056503296,
          -50.04478454589844,
          -31.058874130249023,
          -68.98867797851562,
          34.78459930419922,
          15.027722358703613,
          -28.728179931640625,
          20.95476722717285,
          -26.499826431274414,
          -7.8618388175964355,
          -31.97907829284668,
          16.74781036376953,
          7.3366265296936035,
          -13.523431777954102,
          30.486608505249023,
          23.21030616760254,
          -26.28443145751953,
          -24.128646850585938,
          -13.755203247070312,
          -34.61573791503906,
          24.903961181640625,
          20.877426147460938,
          7.84643030166626,
          -25.550439834594727,
          -77.91126251220703,
          -54.57617950439453,
          -100.50892639160156,
          4.380924701690674,
          -47.80375671386719,
          44.28076934814453,
          -4.5115132331848145,
          48.08698272705078,
          -21.826017379760742,
          37.19486999511719,
          25.809131622314453,
          43.110286712646484,
          -4.820099353790283,
          -2.9145002365112305,
          28.59346580505371,
          67.30010986328125,
          37.07413864135742,
          49.62052536010742,
          45.02942657470703,
          -2.960724115371704,
          -14.037711143493652,
          -6.966306209564209,
          43.610836029052734,
          -6.390905857086182,
          19.774330139160156,
          19.959035873413086,
          -17.26422882080078,
          25.51068687438965,
          1.5753376483917236,
          -58.66743469238281,
          -22.130834579467773,
          30.697834014892578,
          -25.148971557617188,
          43.32954025268555,
          -45.357547760009766,
          -37.228759765625,
          -100.45760345458984,
          26.515939712524414,
          22.976648330688477,
          -53.59556198120117,
          17.86294174194336,
          -58.102264404296875,
          47.13473892211914,
          40.31303405761719,
          4.191123962402344,
          -55.39781188964844,
          69.74595642089844,
          -2.2294704914093018,
          4.192835330963135,
          27.895214080810547,
          -10.11658000946045,
          63.501216888427734,
          5.14906120300293,
          31.269060134887695,
          -56.380592346191406,
          -56.307254791259766,
          26.750072479248047,
          -1.8656935691833496,
          44.58796691894531,
          25.923141479492188,
          24.66045379638672,
          26.187971115112305,
          -26.97056007385254,
          72.9090576171875,
          0.18711361289024353,
          -36.088661193847656,
          55.63630294799805,
          -41.10874938964844,
          -27.51473045349121,
          -29.868206024169922,
          -7.574146747589111,
          27.181795120239258,
          -24.3450984954834,
          40.18112564086914,
          3.3983256816864014,
          36.94605255126953,
          63.803958892822266,
          20.219865798950195,
          41.6098747253418,
          -39.22642135620117,
          -55.82809066772461,
          10.320141792297363,
          -24.732189178466797,
          2.0813021659851074,
          41.33202362060547,
          -23.001628875732422,
          -32.132606506347656,
          -16.992820739746094,
          -25.316404342651367,
          -45.101932525634766,
          -24.166231155395508,
          66.24431610107422,
          -19.01397132873535,
          32.31767272949219,
          -39.79787826538086,
          -33.78609085083008,
          -2.9265594482421875,
          90.49397277832031,
          1.2761695384979248,
          10.25693130493164,
          26.33165168762207,
          7.173529148101807,
          -38.282958984375,
          70.3899154663086,
          -34.52676010131836,
          -58.220375061035156,
          -78.64090728759766,
          -33.913063049316406,
          -26.443716049194336,
          -17.851600646972656,
          35.894752502441406,
          7.77158260345459,
          -53.89783477783203,
          -50.96251678466797,
          55.954627990722656,
          37.64113235473633,
          15.726526260375977,
          -58.62934112548828,
          -5.7387895584106445,
          -21.666276931762695,
          20.607088088989258,
          -5.592336654663086,
          -30.49090003967285,
          -5.915594100952148,
          43.9642333984375,
          -21.93971061706543,
          -75.71138000488281,
          33.963157653808594,
          -57.79324722290039,
          26.677658081054688,
          8.545121192932129,
          5.890018939971924,
          18.27962875366211,
          67.19123840332031,
          39.9336051940918,
          22.49160385131836,
          10.617128372192383,
          37.676265716552734,
          -1.7708572149276733,
          0.31472519040107727,
          42.7344970703125,
          1.1042990684509277,
          25.957042694091797,
          36.754173278808594,
          -78.25119018554688,
          43.39495849609375,
          26.8203125,
          44.43320846557617,
          -55.0483512878418,
          1.2702831029891968,
          60.746620178222656,
          17.07161521911621,
          -24.00135612487793,
          -22.4924373626709,
          -23.688533782958984,
          -43.54103088378906,
          27.839183807373047,
          -42.01179885864258,
          -7.042652606964111,
          19.120502471923828,
          62.95625686645508,
          31.498023986816406,
          3.9556829929351807,
          60.89286422729492,
          8.610588073730469,
          0.03629710525274277,
          3.980699300765991,
          81.29093933105469,
          50.8420524597168,
          29.321569442749023,
          47.50068283081055,
          31.065902709960938,
          -31.15814208984375,
          20.494251251220703,
          -10.63608169555664,
          -35.41521072387695,
          46.42213821411133,
          5.947943210601807,
          -7.7773051261901855,
          44.03369140625,
          81.1240463256836,
          -50.78500747680664,
          -46.439361572265625,
          9.166481971740723,
          47.542964935302734,
          -77.25669860839844,
          48.72242736816406,
          24.721940994262695,
          24.573442459106445,
          9.285439491271973,
          -14.863668441772461,
          -13.391164779663086,
          50.53951644897461,
          55.305294036865234,
          19.271636962890625,
          21.611976623535156,
          -0.20053145289421082,
          -53.244293212890625,
          -45.78428268432617,
          3.6719071865081787,
          -16.481353759765625,
          -24.53486442565918,
          72.03681182861328,
          2.4333863258361816,
          21.995563507080078,
          2.3323512077331543,
          -20.088459014892578,
          -27.140758514404297,
          -22.22087287902832,
          -29.526546478271484,
          47.559547424316406,
          5.899320602416992,
          9.680231094360352,
          -1.577423095703125,
          57.676918029785156,
          -14.724865913391113,
          14.180678367614746,
          -56.66713333129883,
          3.1996092796325684,
          1.4855930805206299,
          -8.64976978302002,
          37.66105651855469,
          -16.505474090576172,
          43.343929290771484,
          -24.216655731201172,
          40.775169372558594,
          15.612517356872559,
          43.74973678588867,
          -7.852290153503418,
          31.723880767822266,
          42.857810974121094,
          13.00143051147461,
          -46.44429397583008,
          -10.416471481323242,
          -0.7480012774467468,
          37.94527816772461,
          41.32151794433594,
          35.830020904541016,
          -18.331192016601562,
          -35.55669021606445,
          -78.42408752441406,
          -66.9705581665039,
          -43.59700012207031,
          -5.347471237182617,
          0.061786774545907974,
          -16.451597213745117,
          48.305667877197266,
          -21.165760040283203,
          -58.852230072021484,
          -33.99071502685547,
          -5.799393653869629,
          9.741140365600586,
          -18.159067153930664,
          -76.06159973144531,
          -28.83190155029297,
          -0.09466416388750076,
          -48.30915832519531,
          -30.056123733520508,
          2.7443037033081055,
          -30.5527400970459,
          -69.4082260131836,
          -7.536022663116455,
          44.81084060668945,
          31.263765335083008,
          61.31589126586914,
          -3.4110705852508545,
          13.041341781616211,
          38.08241653442383,
          44.93608474731445,
          31.460094451904297,
          -1.8466295003890991,
          -24.048938751220703,
          -70.12871551513672,
          1.1258728504180908,
          -30.629383087158203,
          -0.26986435055732727,
          30.571218490600586,
          35.348697662353516,
          48.03709411621094,
          -53.59645462036133,
          -17.51263427734375,
          -24.25462532043457,
          -5.110648155212402,
          48.469383239746094,
          -25.831928253173828,
          6.463510990142822,
          43.1366081237793,
          -14.314215660095215,
          -39.22056198120117,
          20.219982147216797,
          8.761198043823242,
          40.68901443481445,
          18.481531143188477,
          34.7295036315918,
          -66.77024841308594,
          9.209843635559082,
          -34.515464782714844,
          -99.47677612304688,
          -18.758426666259766,
          -5.394244194030762,
          40.55548095703125,
          -10.466867446899414,
          43.05720901489258,
          -2.123049736022949,
          -33.37323760986328,
          64.17394256591797,
          9.516712188720703,
          32.42823791503906,
          -24.9676456451416,
          -25.314836502075195,
          1.1101670265197754,
          -21.56877899169922,
          20.416845321655273,
          21.4700870513916,
          29.253164291381836,
          6.409516334533691,
          1.256790041923523,
          -5.623770713806152,
          30.298398971557617,
          -25.661619186401367,
          -37.200992584228516,
          -50.44590377807617,
          30.35231590270996,
          -65.94039154052734,
          -11.901697158813477,
          4.3247389793396,
          -57.75029373168945,
          50.32654571533203,
          38.16853713989258,
          4.381466388702393,
          -4.802706718444824,
          -44.690589904785156,
          6.772274017333984,
          40.82775115966797,
          8.266201972961426,
          46.01359176635742,
          -59.15186309814453,
          -20.198219299316406,
          -28.70118522644043,
          -68.60098266601562,
          36.790443420410156,
          -12.131540298461914,
          -24.645523071289062,
          -6.840158462524414,
          -27.937183380126953,
          -31.77484130859375,
          -1.1506586074829102,
          20.877426147460938,
          17.116788864135742,
          -0.5851151943206787,
          63.02062225341797,
          7.295063495635986,
          -75.92841339111328,
          25.8653564453125,
          -24.170866012573242,
          -59.98987579345703,
          -16.349830627441406,
          4.4410014152526855,
          18.725557327270508,
          -14.806086540222168,
          -23.692686080932617,
          23.05954360961914,
          46.712406158447266,
          -75.9278564453125,
          -19.27436637878418,
          7.587063789367676,
          87.75059509277344,
          -4.689412593841553,
          33.61329650878906,
          -22.927886962890625,
          0.8146589398384094,
          -36.80531692504883,
          12.267507553100586,
          31.449987411499023,
          52.50763702392578,
          -24.755064010620117,
          23.098310470581055,
          -14.570615768432617,
          69.32765197753906,
          7.147164344787598,
          -28.583654403686523,
          -24.1140079498291,
          -22.428621292114258,
          26.857982635498047,
          23.760332107543945,
          69.5873031616211,
          -38.00611877441406,
          -46.45942306518555,
          1.1365668773651123,
          -54.248695373535156,
          49.36008834838867,
          42.6459846496582,
          -25.924652099609375,
          12.068909645080566,
          -59.042938232421875,
          -5.173364162445068,
          8.240178108215332,
          -53.46083450317383,
          -53.806922912597656,
          -39.008819580078125,
          -5.424169540405273,
          -17.228946685791016,
          90.99378967285156,
          -25.89291763305664,
          -25.64508628845215,
          -15.309893608093262,
          -59.03407287597656,
          10.244080543518066,
          9.109310150146484,
          -33.672122955322266,
          27.224477767944336,
          -14.256532669067383,
          -15.609447479248047,
          -40.116886138916016,
          37.175418853759766,
          -6.783167362213135,
          -30.76826286315918,
          22.670150756835938,
          -55.11347579956055,
          -10.621097564697266,
          -34.28296661376953,
          -16.30430030822754,
          -19.410863876342773,
          -44.97796630859375,
          -25.320552825927734,
          56.29368209838867,
          20.497264862060547,
          23.091888427734375,
          -35.29558181762695,
          -26.252044677734375,
          5.195969104766846,
          25.602296829223633,
          -15.289525032043457,
          -25.516584396362305,
          -17.08121681213379,
          -36.480079650878906,
          41.78314208984375,
          62.320068359375,
          -33.57991027832031,
          -57.474609375,
          20.498987197875977,
          1.919955849647522,
          -63.989383697509766,
          54.517486572265625,
          19.56802749633789,
          39.923397064208984,
          3.5602805614471436,
          44.835166931152344,
          -10.715957641601562,
          -9.119399070739746,
          36.77891540527344,
          -10.577728271484375,
          -63.533607482910156,
          37.23900604248047,
          6.635987758636475,
          -60.0412483215332,
          -9.575551986694336,
          42.80147171020508,
          -71.2427978515625,
          -4.127222537994385,
          -78.12594604492188,
          38.15789031982422,
          -4.595700263977051,
          30.70751190185547,
          19.04692840576172,
          0.08975093066692352,
          -25.87689781188965,
          40.878665924072266,
          34.3718147277832,
          -57.85359191894531,
          -13.42457103729248,
          26.065858840942383,
          17.698091506958008,
          -14.085061073303223,
          7.159783363342285,
          -22.296199798583984,
          45.66645812988281,
          -48.17274856567383,
          -25.14796257019043,
          39.6413688659668,
          27.220821380615234,
          35.441463470458984,
          -11.41889476776123,
          46.97026062011719,
          -68.12055206298828,
          -27.177108764648438,
          63.5892448425293,
          27.607648849487305,
          18.779659271240234,
          -56.097957611083984,
          -7.6002397537231445,
          66.87332916259766,
          37.93305206298828,
          40.47258758544922,
          -56.71237564086914,
          -29.687593460083008,
          -38.12529373168945,
          9.713432312011719,
          -34.79387664794922,
          60.765830993652344,
          55.31721878051758,
          12.26525592803955,
          -0.9846956133842468,
          9.286465644836426,
          -6.971729755401611,
          80.8658676147461,
          -15.821088790893555,
          2.1058032512664795,
          29.472270965576172,
          -23.338701248168945,
          79.14708709716797,
          34.938228607177734,
          62.983245849609375,
          -1.3504267930984497,
          -15.395453453063965,
          17.917409896850586,
          -26.64449691772461,
          -24.63214683532715,
          46.86700439453125,
          43.24079513549805,
          -73.37925720214844,
          -35.47559356689453,
          47.48332595825195,
          22.489322662353516,
          -70.39103698730469,
          0.6817085146903992,
          -22.762372970581055,
          2.8018946647644043,
          -0.9896162152290344,
          -28.771820068359375,
          55.72346496582031,
          -6.996426105499268,
          17.055665969848633,
          53.23640060424805,
          17.79555320739746,
          -31.154476165771484,
          27.055179595947266,
          -21.88888168334961,
          87.27816772460938,
          31.015750885009766,
          32.41524124145508,
          -31.49234962463379,
          22.396732330322266,
          20.526992797851562,
          33.810997009277344,
          31.025529861450195,
          49.331111907958984,
          -26.718591690063477,
          8.687499046325684,
          48.37001419067383,
          -21.760761260986328,
          -26.174972534179688,
          31.699195861816406,
          -2.949721574783325,
          -31.590761184692383,
          48.7530632019043,
          12.934595108032227,
          1.9084593057632446,
          -24.01117706298828,
          -59.9959716796875,
          61.543853759765625,
          -19.65018653869629,
          -35.2631721496582,
          -21.19129753112793,
          -23.53095817565918,
          -67.16663360595703,
          -27.464458465576172,
          12.056041717529297,
          -14.00706672668457,
          -34.265869140625,
          50.358421325683594,
          34.43227005004883,
          -50.361412048339844,
          -31.317848205566406,
          -29.843873977661133,
          35.835819244384766,
          -2.4552292823791504,
          -15.23548698425293,
          34.870994567871094,
          -13.325841903686523,
          -50.597015380859375,
          27.60777473449707,
          -43.108924865722656,
          17.863027572631836,
          -33.046165466308594,
          25.68056869506836,
          12.634272575378418,
          -6.23577356338501,
          -21.646310806274414,
          -33.69999313354492,
          8.72297191619873,
          11.774444580078125,
          -63.640098571777344,
          44.99724578857422,
          -17.2344970703125,
          -11.605613708496094,
          51.146934509277344,
          69.20149993896484,
          37.71121597290039,
          -6.0026326179504395,
          -1.3610717058181763,
          48.67581558227539,
          35.49073791503906,
          44.56687545776367,
          6.432774543762207,
          18.315013885498047,
          72.00724792480469,
          -69.73265075683594,
          60.84206771850586,
          34.924774169921875,
          -3.912325859069824,
          25.687440872192383,
          -69.38398742675781,
          -19.533411026000977,
          -97.00070190429688,
          28.365650177001953,
          -35.081443786621094,
          18.488794326782227,
          -66.8637924194336,
          24.317445755004883,
          36.82099914550781,
          -15.923262596130371,
          -15.43405818939209,
          38.657867431640625,
          47.640132904052734,
          26.385019302368164,
          6.289177417755127,
          -57.87081527709961,
          -43.758827209472656,
          -77.80683135986328,
          -15.319976806640625,
          -36.891544342041016,
          -6.129432201385498,
          -76.0245361328125,
          33.96328353881836,
          -8.798105239868164,
          -7.781976222991943,
          72.989013671875,
          33.78750991821289,
          1.4210232496261597,
          78.45380401611328,
          33.246803283691406,
          30.417850494384766,
          -29.57712745666504,
          -75.59127807617188,
          -53.61727523803711,
          -8.96647834777832,
          -53.51984405517578,
          62.323665618896484,
          -4.736185550689697,
          29.794191360473633,
          78.07714080810547,
          38.65155029296875,
          35.55662536621094,
          2.3784139156341553,
          -27.8283748626709,
          -34.421993255615234,
          -56.246578216552734,
          -45.55875015258789,
          17.49131965637207,
          3.253092050552368,
          -35.85068893432617,
          -9.046754837036133,
          -21.928621292114258,
          -64.61222076416016,
          -39.93146896362305,
          -1.5928452014923096,
          -24.071584701538086,
          -2.8901870250701904,
          6.422581195831299,
          22.643877029418945,
          17.33670997619629,
          35.87627410888672,
          -6.876615524291992,
          7.251674175262451,
          91.17754364013672,
          -65.20122528076172,
          -0.3667556047439575,
          64.30760192871094,
          2.579549551010132,
          32.275604248046875,
          -48.20414733886719,
          6.005049228668213,
          22.255090713500977,
          66.82302856445312,
          -32.41574478149414,
          2.78471040725708,
          37.174034118652344,
          48.401493072509766,
          46.41954803466797,
          13.604652404785156,
          28.127601623535156,
          -31.346044540405273,
          26.58662223815918,
          55.67543411254883,
          -38.60832214355469,
          -19.0495662689209,
          -68.79296875,
          1.4436144828796387,
          -3.0051701068878174,
          -43.18190002441406,
          34.94160461425781,
          -2.1272506713867188,
          -75.8366928100586,
          -1.231014370918274,
          -19.332550048828125,
          -27.00420379638672,
          77.38829803466797,
          -44.22518539428711,
          -55.71894836425781,
          29.61096954345703,
          20.740589141845703,
          -9.88122272491455,
          -63.31318664550781,
          -5.318996429443359,
          46.78612518310547,
          -23.246938705444336,
          43.70064163208008,
          4.6372761726379395,
          -15.785233497619629,
          4.321102619171143,
          -42.58588409423828,
          87.1628646850586,
          -56.36790466308594,
          29.223478317260742,
          2.6059377193450928,
          35.742584228515625,
          -32.792720794677734,
          -5.843413352966309,
          49.5528564453125,
          -53.838008880615234,
          -2.483858108520508,
          38.9742431640625,
          60.68566131591797,
          34.443050384521484,
          35.357120513916016,
          62.57661819458008,
          -18.558998107910156,
          34.998687744140625,
          -12.776299476623535,
          -68.29623413085938,
          25.603679656982422,
          25.679574966430664,
          40.21830749511719,
          23.480743408203125,
          -23.682058334350586,
          -23.091384887695312,
          47.903350830078125,
          47.14102554321289,
          -25.37869644165039,
          3.83681058883667,
          -30.423110961914062,
          48.70355987548828,
          -37.097381591796875,
          46.93751525878906,
          33.65169143676758,
          -24.35348892211914,
          -13.706451416015625,
          16.19856071472168,
          73.10668182373047,
          -15.913010597229004,
          30.111858367919922,
          0.6889848709106445,
          -59.2803955078125,
          61.53496170043945,
          -22.04488182067871,
          37.178428649902344,
          27.4306640625,
          -31.07780647277832,
          68.07844543457031,
          47.62385177612305,
          -53.58241271972656,
          -16.378753662109375,
          5.187350749969482,
          -20.8354434967041,
          -10.691890716552734,
          -19.537094116210938,
          33.50634765625,
          9.491592407226562,
          47.77737045288086,
          -14.943062782287598,
          3.9736547470092773,
          -6.245754718780518,
          -70.63140869140625,
          -46.7287712097168,
          -24.866968154907227,
          42.60142135620117,
          7.505459785461426,
          -14.10278606414795,
          -5.204341411590576,
          -24.968921661376953,
          15.106521606445312,
          -24.9411563873291,
          42.56649398803711,
          -99.68729400634766,
          -11.015409469604492,
          -23.077747344970703,
          -75.94286346435547,
          -100.42697143554688,
          -32.04959487915039,
          3.558950185775757,
          -43.318084716796875,
          18.306997299194336,
          79.33340454101562,
          44.92689514160156,
          37.67861557006836,
          -64.3211441040039,
          -34.24246597290039,
          -33.84645080566406,
          -39.634727478027344,
          26.146007537841797,
          37.26393127441406,
          -32.86802673339844,
          -23.66236114501953,
          -36.115543365478516,
          26.40131378173828,
          -0.9209161996841431,
          47.601104736328125,
          -49.47542190551758,
          -8.194253921508789,
          20.8924617767334,
          21.691560745239258,
          35.067596435546875,
          -44.114219665527344,
          33.30793762207031,
          -73.4447250366211,
          33.00469970703125,
          5.597005844116211,
          6.2202887535095215,
          -7.764776229858398,
          -58.85528564453125,
          -29.48263168334961,
          27.91883659362793,
          -58.67361831665039,
          -45.34839630126953,
          -24.32037925720215,
          -2.9819812774658203,
          32.03455352783203,
          1.1237138509750366,
          19.302978515625,
          -31.302640914916992,
          -56.912967681884766,
          32.03813171386719,
          -36.155330657958984,
          -96.90870666503906,
          78.50411224365234,
          -34.81144714355469,
          29.057559967041016,
          22.233673095703125,
          -20.585315704345703,
          -24.537948608398438,
          59.90216064453125,
          31.52407455444336,
          -24.019319534301758,
          43.85816192626953,
          42.78726577758789,
          -43.550601959228516,
          -4.423600673675537,
          -55.31217956542969,
          14.658539772033691,
          10.91526985168457,
          -36.046348571777344,
          32.141326904296875,
          -2.3699936866760254,
          -22.77088165283203,
          -2.4893181324005127,
          -9.74221420288086,
          -19.249380111694336,
          -7.547224998474121,
          22.80751609802246,
          -77.80838012695312,
          78.65853881835938,
          30.005205154418945,
          -40.82078170776367,
          56.672096252441406,
          -77.8768081665039,
          -18.434690475463867,
          -1.3768903017044067,
          -4.281274795532227,
          44.69505310058594,
          -6.6820573806762695,
          -5.346254825592041,
          22.215307235717773,
          -49.05948257446289,
          -14.02267074584961,
          -27.124902725219727,
          -28.71271514892578,
          49.88631820678711,
          -1.0356000661849976,
          1.7075845003128052,
          20.877426147460938,
          8.380300521850586,
          -35.939422607421875,
          -45.37260818481445,
          -49.03265380859375,
          -5.848907947540283,
          -33.04895782470703,
          0.7320188283920288,
          72.86827087402344,
          -24.945728302001953,
          -55.967472076416016,
          -21.408018112182617,
          64.55528259277344,
          86.84701538085938,
          -35.94429016113281,
          18.668256759643555,
          -1.1044830083847046,
          -19.193233489990234,
          48.403324127197266,
          -15.513056755065918,
          26.827741622924805,
          44.26495361328125,
          43.957054138183594,
          0.4047219157218933,
          -66.30477905273438,
          -55.70241165161133,
          -22.71550941467285,
          -12.302983283996582,
          67.3912124633789,
          -32.926025390625,
          40.123741149902344,
          11.444523811340332,
          6.800013065338135,
          0.1493147909641266,
          62.95493698120117,
          23.30552101135254,
          -25.42030143737793,
          -36.50975799560547,
          33.99517822265625,
          26.29640007019043,
          -54.728553771972656,
          13.826468467712402,
          5.769306182861328,
          22.67046356201172,
          36.54206848144531,
          21.249357223510742,
          -23.93733787536621,
          -16.452709197998047,
          -36.32915115356445,
          -0.20260263979434967,
          -11.025840759277344,
          -24.223480224609375,
          -14.24752426147461,
          26.260147094726562,
          27.69979476928711,
          26.649200439453125,
          71.6587142944336,
          -19.109100341796875,
          -7.507265090942383,
          -58.44999694824219,
          -16.830429077148438,
          24.881834030151367,
          -7.3414506912231445,
          16.228116989135742,
          78.44892120361328,
          8.079354286193848,
          34.8336067199707,
          27.857614517211914,
          32.0657958984375,
          -17.519428253173828,
          55.29191589355469,
          5.6177778244018555,
          -38.612327575683594,
          68.90081024169922,
          -45.00309753417969,
          47.61819076538086,
          4.040163040161133,
          -14.467728614807129,
          73.22050476074219,
          4.571761608123779,
          38.415428161621094,
          -4.597568511962891,
          56.229652404785156,
          -0.8255394697189331,
          -5.944873809814453,
          24.81597900390625,
          -30.23343849182129,
          45.34846115112305,
          -51.442543029785156,
          67.7171630859375,
          21.598970413208008,
          19.045068740844727,
          -22.189788818359375,
          -44.697181701660156,
          -34.84605407714844,
          -68.36310577392578,
          35.46782684326172,
          87.32380676269531,
          35.354610443115234,
          12.748066902160645,
          -5.494405269622803,
          -6.279409885406494,
          34.53086853027344,
          -6.744688510894775,
          22.708799362182617,
          -37.666751861572266,
          15.692225456237793,
          47.09836959838867,
          -19.795318603515625,
          -21.74178123474121,
          -2.0783066749572754,
          51.847862243652344,
          36.732635498046875,
          -50.6298828125,
          -27.58836555480957,
          34.848838806152344,
          23.550872802734375,
          20.22245979309082,
          55.28785705566406,
          52.18125534057617,
          -50.73060989379883,
          20.236347198486328,
          -49.90201187133789,
          -21.64481544494629,
          -55.89801025390625,
          -10.090889930725098,
          43.78284454345703,
          -13.288847923278809,
          -50.925357818603516,
          47.31466293334961,
          -31.9769287109375,
          7.608512878417969,
          28.482521057128906,
          -3.5391199588775635,
          -13.683834075927734,
          4.841722011566162,
          22.555116653442383,
          4.1989922523498535,
          51.033905029296875,
          -12.842775344848633,
          7.702373027801514,
          -15.614343643188477,
          32.31772232055664,
          35.4923095703125,
          -50.724952697753906,
          48.117332458496094,
          -57.38143539428711,
          63.061424255371094,
          -31.577835083007812,
          -44.37890625,
          -26.403366088867188,
          22.74436378479004,
          -21.46166229248047,
          -2.451045513153076,
          36.98454666137695,
          26.404071807861328,
          -97.1999282836914,
          59.832611083984375,
          38.22910690307617,
          -5.473500728607178,
          -78.10538482666016,
          -56.08391571044922,
          -46.148780822753906,
          1.3557987213134766,
          -8.972176551818848,
          -62.533424377441406,
          -43.45281982421875,
          -6.648131370544434,
          1.6893956661224365,
          60.966548919677734,
          -62.75929641723633,
          63.57350540161133,
          -40.75884246826172,
          6.129145622253418,
          4.117916107177734,
          -31.880157470703125,
          -31.285709381103516,
          4.913341045379639,
          20.26874542236328,
          -34.854087829589844,
          41.732906341552734,
          15.333566665649414,
          32.777244567871094,
          -1.6827632188796997,
          46.4365119934082,
          35.96889114379883,
          -16.17928695678711,
          27.349332809448242,
          -8.90182876586914,
          35.44841384887695,
          6.440659999847412,
          -19.898611068725586,
          -6.769890785217285,
          -19.112394332885742,
          -9.776450157165527,
          -23.86911392211914,
          0.6848747730255127,
          -36.398406982421875,
          -25.366971969604492,
          -27.397972106933594,
          12.089897155761719,
          -31.98023796081543,
          22.774017333984375,
          -16.50409507751465,
          -53.402809143066406,
          -48.33965301513672,
          42.25897979736328,
          -10.822683334350586,
          0.4566209614276886,
          -20.30547523498535,
          19.483726501464844,
          63.876434326171875,
          -31.74968719482422,
          -5.016794204711914,
          -0.787624716758728,
          9.115437507629395,
          -8.345831871032715,
          -21.15923500061035,
          56.852691650390625,
          -14.269667625427246,
          -30.528078079223633,
          21.979597091674805,
          -25.248525619506836,
          43.9047737121582,
          -27.799583435058594,
          -26.882179260253906,
          49.74191665649414,
          -10.185247421264648,
          -56.846702575683594,
          -39.3014030456543,
          26.396331787109375,
          -25.323488235473633,
          3.9797253608703613,
          49.010467529296875,
          -50.78489303588867,
          -25.45953369140625,
          -70.45899963378906,
          -44.4169807434082,
          -53.080711364746094,
          35.413639068603516,
          2.3729281425476074,
          90.1004867553711,
          27.702823638916016,
          -71.14290618896484,
          25.822519302368164,
          59.84135055541992,
          44.30046844482422,
          -23.83795738220215,
          38.66654968261719,
          -3.4009158611297607,
          81.59270477294922,
          -34.78341293334961,
          -31.860816955566406,
          -29.541399002075195,
          -19.947546005249023,
          -15.20314884185791,
          -33.37718963623047,
          62.58544921875,
          -28.72610092163086,
          -25.058210372924805,
          -50.72339630126953,
          -24.76514434814453,
          21.38837432861328,
          -11.656539916992188,
          86.7979965209961,
          -11.7763090133667,
          37.54206848144531,
          -1.2622488737106323,
          18.446578979492188,
          47.09659194946289,
          -22.096546173095703,
          -24.731853485107422,
          8.969305992126465,
          -18.92243194580078,
          38.14667510986328,
          32.28483200073242,
          -73.80028533935547,
          -76.78085327148438,
          1.2816135883331299,
          73.60433197021484,
          -58.824424743652344,
          18.094308853149414,
          -14.362074851989746,
          -44.63426208496094,
          -34.88059997558594,
          8.737865447998047,
          21.84650230407715,
          -22.6893367767334,
          5.157985210418701,
          -23.676301956176758,
          -70.78466033935547,
          -5.9250569343566895,
          7.157365798950195,
          23.775604248046875,
          -14.71288013458252,
          71.53181457519531,
          -31.4765625,
          68.30924987792969,
          59.22539520263672,
          14.195592880249023,
          -35.749324798583984,
          15.681230545043945,
          33.194244384765625,
          -56.38844299316406,
          -5.706151962280273,
          35.57646942138672,
          -65.5963363647461,
          64.55313110351562,
          -56.051025390625,
          81.71326446533203,
          60.827392578125,
          86.14155578613281,
          -5.221280097961426,
          -9.913714408874512,
          -18.91307258605957,
          -16.105379104614258,
          22.240835189819336,
          13.949651718139648,
          -17.62782096862793,
          -44.60599899291992,
          -74.99832153320312,
          79.59591674804688,
          39.81120681762695,
          -38.529014587402344,
          25.469316482543945,
          -18.894254684448242,
          1.574676752090454,
          -53.525230407714844,
          -36.356712341308594,
          1.352057933807373,
          48.23944091796875,
          31.90835189819336,
          -31.16682243347168,
          46.495914459228516,
          37.73457717895508,
          -19.491069793701172,
          -26.220293045043945,
          -57.611297607421875,
          73.29840087890625,
          21.60845375061035,
          -25.68726921081543,
          -22.826801300048828,
          31.813194274902344,
          -18.693361282348633,
          34.39113235473633,
          25.915206909179688,
          35.86204147338867,
          31.897029876708984,
          -11.429214477539062,
          -96.56314849853516,
          -35.135231018066406,
          -9.68550968170166,
          26.18160629272461,
          -43.83070373535156,
          -27.17046546936035,
          -32.5601921081543,
          62.619083404541016,
          -12.759611129760742,
          35.85044479370117,
          23.424272537231445,
          -75.97645568847656,
          11.172539710998535,
          -16.93459701538086,
          37.87870788574219,
          32.39330291748047,
          71.04788970947266,
          -49.463314056396484,
          69.78620910644531,
          33.59287643432617,
          17.282333374023438,
          -7.00214147567749,
          -7.769900798797607,
          -2.449676752090454,
          59.38603973388672,
          27.459606170654297,
          -32.12617111206055,
          63.3596076965332,
          20.737703323364258,
          -11.839144706726074,
          -6.30666971206665,
          -55.48460388183594,
          -55.5765495300293,
          -18.556081771850586
         ],
         "yaxis": "y"
        }
       ],
       "layout": {
        "legend": {
         "tracegroupgap": 0
        },
        "margin": {
         "t": 60
        },
        "template": {
         "data": {
          "bar": [
           {
            "error_x": {
             "color": "#2a3f5f"
            },
            "error_y": {
             "color": "#2a3f5f"
            },
            "marker": {
             "line": {
              "color": "white",
              "width": 0.5
             },
             "pattern": {
              "fillmode": "overlay",
              "size": 10,
              "solidity": 0.2
             }
            },
            "type": "bar"
           }
          ],
          "barpolar": [
           {
            "marker": {
             "line": {
              "color": "white",
              "width": 0.5
             },
             "pattern": {
              "fillmode": "overlay",
              "size": 10,
              "solidity": 0.2
             }
            },
            "type": "barpolar"
           }
          ],
          "carpet": [
           {
            "aaxis": {
             "endlinecolor": "#2a3f5f",
             "gridcolor": "#C8D4E3",
             "linecolor": "#C8D4E3",
             "minorgridcolor": "#C8D4E3",
             "startlinecolor": "#2a3f5f"
            },
            "baxis": {
             "endlinecolor": "#2a3f5f",
             "gridcolor": "#C8D4E3",
             "linecolor": "#C8D4E3",
             "minorgridcolor": "#C8D4E3",
             "startlinecolor": "#2a3f5f"
            },
            "type": "carpet"
           }
          ],
          "choropleth": [
           {
            "colorbar": {
             "outlinewidth": 0,
             "ticks": ""
            },
            "type": "choropleth"
           }
          ],
          "contour": [
           {
            "colorbar": {
             "outlinewidth": 0,
             "ticks": ""
            },
            "colorscale": [
             [
              0,
              "#0d0887"
             ],
             [
              0.1111111111111111,
              "#46039f"
             ],
             [
              0.2222222222222222,
              "#7201a8"
             ],
             [
              0.3333333333333333,
              "#9c179e"
             ],
             [
              0.4444444444444444,
              "#bd3786"
             ],
             [
              0.5555555555555556,
              "#d8576b"
             ],
             [
              0.6666666666666666,
              "#ed7953"
             ],
             [
              0.7777777777777778,
              "#fb9f3a"
             ],
             [
              0.8888888888888888,
              "#fdca26"
             ],
             [
              1,
              "#f0f921"
             ]
            ],
            "type": "contour"
           }
          ],
          "contourcarpet": [
           {
            "colorbar": {
             "outlinewidth": 0,
             "ticks": ""
            },
            "type": "contourcarpet"
           }
          ],
          "heatmap": [
           {
            "colorbar": {
             "outlinewidth": 0,
             "ticks": ""
            },
            "colorscale": [
             [
              0,
              "#0d0887"
             ],
             [
              0.1111111111111111,
              "#46039f"
             ],
             [
              0.2222222222222222,
              "#7201a8"
             ],
             [
              0.3333333333333333,
              "#9c179e"
             ],
             [
              0.4444444444444444,
              "#bd3786"
             ],
             [
              0.5555555555555556,
              "#d8576b"
             ],
             [
              0.6666666666666666,
              "#ed7953"
             ],
             [
              0.7777777777777778,
              "#fb9f3a"
             ],
             [
              0.8888888888888888,
              "#fdca26"
             ],
             [
              1,
              "#f0f921"
             ]
            ],
            "type": "heatmap"
           }
          ],
          "heatmapgl": [
           {
            "colorbar": {
             "outlinewidth": 0,
             "ticks": ""
            },
            "colorscale": [
             [
              0,
              "#0d0887"
             ],
             [
              0.1111111111111111,
              "#46039f"
             ],
             [
              0.2222222222222222,
              "#7201a8"
             ],
             [
              0.3333333333333333,
              "#9c179e"
             ],
             [
              0.4444444444444444,
              "#bd3786"
             ],
             [
              0.5555555555555556,
              "#d8576b"
             ],
             [
              0.6666666666666666,
              "#ed7953"
             ],
             [
              0.7777777777777778,
              "#fb9f3a"
             ],
             [
              0.8888888888888888,
              "#fdca26"
             ],
             [
              1,
              "#f0f921"
             ]
            ],
            "type": "heatmapgl"
           }
          ],
          "histogram": [
           {
            "marker": {
             "pattern": {
              "fillmode": "overlay",
              "size": 10,
              "solidity": 0.2
             }
            },
            "type": "histogram"
           }
          ],
          "histogram2d": [
           {
            "colorbar": {
             "outlinewidth": 0,
             "ticks": ""
            },
            "colorscale": [
             [
              0,
              "#0d0887"
             ],
             [
              0.1111111111111111,
              "#46039f"
             ],
             [
              0.2222222222222222,
              "#7201a8"
             ],
             [
              0.3333333333333333,
              "#9c179e"
             ],
             [
              0.4444444444444444,
              "#bd3786"
             ],
             [
              0.5555555555555556,
              "#d8576b"
             ],
             [
              0.6666666666666666,
              "#ed7953"
             ],
             [
              0.7777777777777778,
              "#fb9f3a"
             ],
             [
              0.8888888888888888,
              "#fdca26"
             ],
             [
              1,
              "#f0f921"
             ]
            ],
            "type": "histogram2d"
           }
          ],
          "histogram2dcontour": [
           {
            "colorbar": {
             "outlinewidth": 0,
             "ticks": ""
            },
            "colorscale": [
             [
              0,
              "#0d0887"
             ],
             [
              0.1111111111111111,
              "#46039f"
             ],
             [
              0.2222222222222222,
              "#7201a8"
             ],
             [
              0.3333333333333333,
              "#9c179e"
             ],
             [
              0.4444444444444444,
              "#bd3786"
             ],
             [
              0.5555555555555556,
              "#d8576b"
             ],
             [
              0.6666666666666666,
              "#ed7953"
             ],
             [
              0.7777777777777778,
              "#fb9f3a"
             ],
             [
              0.8888888888888888,
              "#fdca26"
             ],
             [
              1,
              "#f0f921"
             ]
            ],
            "type": "histogram2dcontour"
           }
          ],
          "mesh3d": [
           {
            "colorbar": {
             "outlinewidth": 0,
             "ticks": ""
            },
            "type": "mesh3d"
           }
          ],
          "parcoords": [
           {
            "line": {
             "colorbar": {
              "outlinewidth": 0,
              "ticks": ""
             }
            },
            "type": "parcoords"
           }
          ],
          "pie": [
           {
            "automargin": true,
            "type": "pie"
           }
          ],
          "scatter": [
           {
            "fillpattern": {
             "fillmode": "overlay",
             "size": 10,
             "solidity": 0.2
            },
            "type": "scatter"
           }
          ],
          "scatter3d": [
           {
            "line": {
             "colorbar": {
              "outlinewidth": 0,
              "ticks": ""
             }
            },
            "marker": {
             "colorbar": {
              "outlinewidth": 0,
              "ticks": ""
             }
            },
            "type": "scatter3d"
           }
          ],
          "scattercarpet": [
           {
            "marker": {
             "colorbar": {
              "outlinewidth": 0,
              "ticks": ""
             }
            },
            "type": "scattercarpet"
           }
          ],
          "scattergeo": [
           {
            "marker": {
             "colorbar": {
              "outlinewidth": 0,
              "ticks": ""
             }
            },
            "type": "scattergeo"
           }
          ],
          "scattergl": [
           {
            "marker": {
             "colorbar": {
              "outlinewidth": 0,
              "ticks": ""
             }
            },
            "type": "scattergl"
           }
          ],
          "scattermapbox": [
           {
            "marker": {
             "colorbar": {
              "outlinewidth": 0,
              "ticks": ""
             }
            },
            "type": "scattermapbox"
           }
          ],
          "scatterpolar": [
           {
            "marker": {
             "colorbar": {
              "outlinewidth": 0,
              "ticks": ""
             }
            },
            "type": "scatterpolar"
           }
          ],
          "scatterpolargl": [
           {
            "marker": {
             "colorbar": {
              "outlinewidth": 0,
              "ticks": ""
             }
            },
            "type": "scatterpolargl"
           }
          ],
          "scatterternary": [
           {
            "marker": {
             "colorbar": {
              "outlinewidth": 0,
              "ticks": ""
             }
            },
            "type": "scatterternary"
           }
          ],
          "surface": [
           {
            "colorbar": {
             "outlinewidth": 0,
             "ticks": ""
            },
            "colorscale": [
             [
              0,
              "#0d0887"
             ],
             [
              0.1111111111111111,
              "#46039f"
             ],
             [
              0.2222222222222222,
              "#7201a8"
             ],
             [
              0.3333333333333333,
              "#9c179e"
             ],
             [
              0.4444444444444444,
              "#bd3786"
             ],
             [
              0.5555555555555556,
              "#d8576b"
             ],
             [
              0.6666666666666666,
              "#ed7953"
             ],
             [
              0.7777777777777778,
              "#fb9f3a"
             ],
             [
              0.8888888888888888,
              "#fdca26"
             ],
             [
              1,
              "#f0f921"
             ]
            ],
            "type": "surface"
           }
          ],
          "table": [
           {
            "cells": {
             "fill": {
              "color": "#EBF0F8"
             },
             "line": {
              "color": "white"
             }
            },
            "header": {
             "fill": {
              "color": "#C8D4E3"
             },
             "line": {
              "color": "white"
             }
            },
            "type": "table"
           }
          ]
         },
         "layout": {
          "annotationdefaults": {
           "arrowcolor": "#2a3f5f",
           "arrowhead": 0,
           "arrowwidth": 1
          },
          "autotypenumbers": "strict",
          "coloraxis": {
           "colorbar": {
            "outlinewidth": 0,
            "ticks": ""
           }
          },
          "colorscale": {
           "diverging": [
            [
             0,
             "#8e0152"
            ],
            [
             0.1,
             "#c51b7d"
            ],
            [
             0.2,
             "#de77ae"
            ],
            [
             0.3,
             "#f1b6da"
            ],
            [
             0.4,
             "#fde0ef"
            ],
            [
             0.5,
             "#f7f7f7"
            ],
            [
             0.6,
             "#e6f5d0"
            ],
            [
             0.7,
             "#b8e186"
            ],
            [
             0.8,
             "#7fbc41"
            ],
            [
             0.9,
             "#4d9221"
            ],
            [
             1,
             "#276419"
            ]
           ],
           "sequential": [
            [
             0,
             "#0d0887"
            ],
            [
             0.1111111111111111,
             "#46039f"
            ],
            [
             0.2222222222222222,
             "#7201a8"
            ],
            [
             0.3333333333333333,
             "#9c179e"
            ],
            [
             0.4444444444444444,
             "#bd3786"
            ],
            [
             0.5555555555555556,
             "#d8576b"
            ],
            [
             0.6666666666666666,
             "#ed7953"
            ],
            [
             0.7777777777777778,
             "#fb9f3a"
            ],
            [
             0.8888888888888888,
             "#fdca26"
            ],
            [
             1,
             "#f0f921"
            ]
           ],
           "sequentialminus": [
            [
             0,
             "#0d0887"
            ],
            [
             0.1111111111111111,
             "#46039f"
            ],
            [
             0.2222222222222222,
             "#7201a8"
            ],
            [
             0.3333333333333333,
             "#9c179e"
            ],
            [
             0.4444444444444444,
             "#bd3786"
            ],
            [
             0.5555555555555556,
             "#d8576b"
            ],
            [
             0.6666666666666666,
             "#ed7953"
            ],
            [
             0.7777777777777778,
             "#fb9f3a"
            ],
            [
             0.8888888888888888,
             "#fdca26"
            ],
            [
             1,
             "#f0f921"
            ]
           ]
          },
          "colorway": [
           "#636efa",
           "#EF553B",
           "#00cc96",
           "#ab63fa",
           "#FFA15A",
           "#19d3f3",
           "#FF6692",
           "#B6E880",
           "#FF97FF",
           "#FECB52"
          ],
          "font": {
           "color": "#2a3f5f"
          },
          "geo": {
           "bgcolor": "white",
           "lakecolor": "white",
           "landcolor": "white",
           "showlakes": true,
           "showland": true,
           "subunitcolor": "#C8D4E3"
          },
          "hoverlabel": {
           "align": "left"
          },
          "hovermode": "closest",
          "mapbox": {
           "style": "light"
          },
          "paper_bgcolor": "white",
          "plot_bgcolor": "white",
          "polar": {
           "angularaxis": {
            "gridcolor": "#EBF0F8",
            "linecolor": "#EBF0F8",
            "ticks": ""
           },
           "bgcolor": "white",
           "radialaxis": {
            "gridcolor": "#EBF0F8",
            "linecolor": "#EBF0F8",
            "ticks": ""
           }
          },
          "scene": {
           "xaxis": {
            "backgroundcolor": "white",
            "gridcolor": "#DFE8F3",
            "gridwidth": 2,
            "linecolor": "#EBF0F8",
            "showbackground": true,
            "ticks": "",
            "zerolinecolor": "#EBF0F8"
           },
           "yaxis": {
            "backgroundcolor": "white",
            "gridcolor": "#DFE8F3",
            "gridwidth": 2,
            "linecolor": "#EBF0F8",
            "showbackground": true,
            "ticks": "",
            "zerolinecolor": "#EBF0F8"
           },
           "zaxis": {
            "backgroundcolor": "white",
            "gridcolor": "#DFE8F3",
            "gridwidth": 2,
            "linecolor": "#EBF0F8",
            "showbackground": true,
            "ticks": "",
            "zerolinecolor": "#EBF0F8"
           }
          },
          "shapedefaults": {
           "line": {
            "color": "#2a3f5f"
           }
          },
          "ternary": {
           "aaxis": {
            "gridcolor": "#DFE8F3",
            "linecolor": "#A2B1C6",
            "ticks": ""
           },
           "baxis": {
            "gridcolor": "#DFE8F3",
            "linecolor": "#A2B1C6",
            "ticks": ""
           },
           "bgcolor": "white",
           "caxis": {
            "gridcolor": "#DFE8F3",
            "linecolor": "#A2B1C6",
            "ticks": ""
           }
          },
          "title": {
           "x": 0.05
          },
          "xaxis": {
           "automargin": true,
           "gridcolor": "#EBF0F8",
           "linecolor": "#EBF0F8",
           "ticks": "",
           "title": {
            "standoff": 15
           },
           "zerolinecolor": "#EBF0F8",
           "zerolinewidth": 2
          },
          "yaxis": {
           "automargin": true,
           "gridcolor": "#EBF0F8",
           "linecolor": "#EBF0F8",
           "ticks": "",
           "title": {
            "standoff": 15
           },
           "zerolinecolor": "#EBF0F8",
           "zerolinewidth": 2
          }
         }
        },
        "xaxis": {
         "anchor": "y",
         "domain": [
          0,
          1
         ],
         "title": {
          "text": "37D->2D TSNE1"
         }
        },
        "yaxis": {
         "anchor": "x",
         "domain": [
          0,
          1
         ],
         "title": {
          "text": "37D->2D TSNE2"
         }
        }
       }
      }
     },
     "metadata": {},
     "output_type": "display_data"
    }
   ],
   "source": [
    "allD.showTSNE()"
   ]
  },
  {
   "cell_type": "code",
   "execution_count": 26,
   "metadata": {
    "ExecuteTime": {
     "end_time": "2023-03-28T14:50:51.040161Z",
     "start_time": "2023-03-28T14:50:51.001134Z"
    },
    "collapsed": false
   },
   "outputs": [
    {
     "name": "stdout",
     "output_type": "stream",
     "text": [
      "Found 115 clusters and 427 outliers.\n",
      "Outlier ratio: 32.6%\n"
     ]
    },
    {
     "data": {
      "text/plain": [
       "(array([-1,  0,  1, ..., -1, -1, 20]), 427)"
      ]
     },
     "execution_count": 26,
     "metadata": {},
     "output_type": "execute_result"
    }
   ],
   "source": [
    "allD.getDBSCAN(eps=0.075, min_samples=2)"
   ]
  },
  {
   "cell_type": "code",
   "execution_count": 27,
   "metadata": {
    "ExecuteTime": {
     "end_time": "2023-03-28T14:50:51.438575Z",
     "start_time": "2023-03-28T14:50:51.363435Z"
    },
    "collapsed": false
   },
   "outputs": [
    {
     "data": {
      "application/vnd.plotly.v1+json": {
       "config": {
        "plotlyServerURL": "https://plot.ly"
       },
       "data": [
        {
         "hovertemplate": "<b>%{hovertext}</b><br><br>Cluster #=-1<br>37D->2D TSNE1=%{x}<br>37D->2D TSNE2=%{y}<extra></extra>",
         "hovertext": [
          "Hf1 Ta1 Nb1",
          "Zr1 Ti1 Ta1 Nb1 V1",
          "Cr1 Mn1 Fe1 Ni1 Cu1 Al1.5",
          "Ti1 Mo1 Cr1 Al1",
          "Ti1.5 V1 Fe1 Co1 Ni1 Cu1",
          "Ti1 Nb1 W1 Ru1",
          "Zr1 Ti1 Nb1 Cr1",
          "Zr1 Ti1 V1 Fe1 Co1 Ni1 Al1",
          "Hf1 Ti1 Nb1",
          "Hf1 Zr1 Ti1 Nb3",
          "Cr1 Fe1 Co1 Ni1 Ga1",
          "Ti1 Fe2 Co2 Ni2 Al1",
          "Nd1 Fe1 Co1 Ni1 Cu1 Al1",
          "Cr1 Fe1 Co2 Ni2 Al1",
          "Ta2.5 Nb2.5 V1 W4 Mo2.5",
          "Ti1 Ta1 Nb1 V1 W1 Mo1",
          "Cr1 Fe2 Co1 Ni1",
          "Ti1 Cr3.33 Fe3.33 Co1.67 Ni5",
          "W4.54 Cr1 Ni3.38 B2.42",
          "Hf1 Ti4 Ta2.5 V4.5",
          "Hf2 Ti13 Nb25.5 Cr1 Al1 Si7.5",
          "Zr1 Ti1 Ta1 Nb1 V1 W1 Mo1 Cr1",
          "Zr1 Ti1 V1 Mo1 Cr1 Fe1 Co1 Ni1",
          "Ti1 Ta88.5 W10 C1.5",
          "Zr1 Ti1 Ta1",
          "Zr1 Ti1 V1 Fe1 Ni1 Cu1",
          "Cr1.8 Mn2.2 Fe5 Ni1",
          "Ti1 Nb1 V1 Cr1 Ni1 Al5",
          "Ti1 V1 Mo1 Cr1 Fe1",
          "Ti1 Cr2 Fe2 Co1 Ni2",
          "Zr1 Ti1 V1 Cr1 Fe1 Co1 Ni1 Cu1",
          "Zr1 Ti1 V1 Fe1 Co1 Ni1 Cu1",
          "Ta2.33 Co1 Ni2.22",
          "Zr8 Ti6 Ta1 Nb3 Al2",
          "Hf1.5 Zr1 Ti1 Nb1 Mo1",
          "Ti1 W1 Re1",
          "Ti1 Ni1 Cu1 Al1",
          "Zr1 Ta2.13 Ru3.53",
          "Hf3 Mo1 B14 Si10",
          "Hf1 Ti1 Ta1 Al1",
          "Zr1 Ti1 Nb1 Cr3",
          "Cr2 Fe2 Ni2 Cu1 Al2",
          "W1.2 Cr1 Ni3.38 B2.42",
          "Hf1 Zr1 Ti1 Ta1 Nb1 V1 N1",
          "Ta1 Nb1 V1 W1",
          "Ti1 Ta1 Nb1 Al1",
          "Ti21 Nb1 Si16",
          "Cr2 Fe1 Co2 Ni2 Cu1 Al2",
          "V1 W3 Mo1 Ru1",
          "Ti1 Fe1 Co1 Ni1 Al1",
          "Hf1 Ti5 Ta5 V1",
          "Hf1.5 Zr2.5 Ti3 Ta1 Nb2",
          "Zr10 Ti8 Ni29.5 Sn1.5 Si1",
          "Ti1 Nb1 W3 Ru1",
          "Mo1 Cr33 Ni33 Al33",
          "Cr1 Fe2.99 Co1 Ni1",
          "Cr4 Mn4 Fe4 Ni4 Cu2 Al1",
          "Cr1 Fe1 Co1.99 Ni1 Cu1",
          "Zr1 Ti4 Nb1.5 Cr2 Al1.5",
          "Ti1 Ta1.52 Nb1.36 V1.04 W1.08",
          "Ti1 Fe1 Co1 Ni1 Cu1",
          "Ti1 W2 Re1",
          "Fe1 Co1 Ni3 Cu1 Al1",
          "Hf1 Zr1 Ti1 Ta1 C4",
          "Ti1 Cr3.33 Fe3.33 Ni6.67",
          "Ta1 V1.33 W4 Mo1.67",
          "Zr1 Ti3.35 Nb3.35 Mo3.35 Cr1",
          "Cr1 Mn1 Fe1 Co1 Ni1 C1",
          "Mo3.62 Ni3.08 Si1",
          "Ti1 Ta1 W1 Mo1",
          "Fe4 Co4 Ni4 Al1",
          "Zr1 Ti1 Nb1 W1 Mo1",
          "Cr1 Mn1.06 Fe1.75 Co1.83 Ni1.81",
          "Nb8 W2.33 Cr1 Co11 Al11",
          "Ti2 Mo2 Cr2 Fe2 Co2 Ni2 Cu2 Al2 B1 Si2",
          "Hf1 Cr14.14 Co7.94 Ni56.1 Al24.65 C0 N0 O0.12",
          "Ti1 Ta1 Nb1 V1 Mo1",
          "Ti2 Nb2 Mo2 Cr2 Al1",
          "Ti6 Nb35 V1 Cr8 Al5",
          "Hf1 Zr1 Ti1 Ta1 Nb1 W1",
          "Ti10.78 Mo10.78 Cr10.78 Al1",
          "Ti13 Ta1 Nb42 V12 Mo20 Cr12",
          "Mo4.14 B1 Si2",
          "Nb1 Fe2 Co2 Ni2 Cu2",
          "Zr1 Ti1 Nb1 V2",
          "Ta1.87 Nb1.87 W1.93 Mo1",
          "Zr0 Ta38.86 Nb0.06 W1 Mo0 Fe0.08 C0 N0 O0",
          "Cr1 Mn3 Fe5 Ni1",
          "Ta1 Nb1 W1 Mo1 Re1",
          "Hf2 Zr1 Ti2 Nb2 Mo2",
          "V1 W1 Mo1 Ru1",
          "Ti1 Cr1 Fe1 Ni1 Al1",
          "Zr3.5 Ti4.5 Ta1 Al1",
          "Ti1 Nb1 Mo1",
          "Ti1 Nb1 Mo1 Cr1 Co1",
          "Zr1 Ta1 Nb1",
          "V1 Cr1 Fe4.5 Co2 Ni1.5",
          "Cr2 Fe2 Co2 Ni1 Cu2 Al2",
          "Hf1 Ti1 Ta1 Nb1",
          "Zr1 Ti1 V1 Mo1",
          "Ti1 V1 Cr1 Fe1 Ni1 Cu1",
          "Ti1 Cr1.33 Fe2.5 Co4.17 Ni6 Al1.67",
          "Ti1 Nb1 Mo1 Al1",
          "Zr1 Ti3.3 Nb3.3 V1.98 Mo3.3 Cr1 Al1.98",
          "Cr1 Fe1 Co1.99 Ni1 Al1",
          "Zr3.18 Ti3.36 Nb3.95 Cr1",
          "Zr1.27 Ta1.07 Ru1",
          "W1 Ir22 Al2",
          "Hf1.15 Ti9.85 Nb31.31 W1 Mo3.62 Cr2.08 Al3.54 Sn3.85 Ge4.54 Si16",
          "Cr1 Co1 Ni1",
          "Ti1 W1 Mo1",
          "Li6 Ca1 Mg7 Y0.02 Al3.98 Si2",
          "Hf1 Zr1 Ti1 Ta1 V1",
          "Ta1 W2 Mo2 Ru1",
          "Ta2 W2 Mo1 Re1",
          "Hf1 Zr1 Ta1 Nb1",
          "Ti1.89 Mo1.89 Cr1.89 Al1",
          "W1 Cr1.17 Fe1.17 Co1.17 Ni1.17 C1",
          "Cr1.99 Fe1 Co1 Ni1 Al1",
          "Cr1 Mn1 Fe1 Ni1 Cu1",
          "Ti1 Ta1.67 V2.67 W2.67",
          "Ta3 V2.5 W5.5 Mo1",
          "Zr1 Ti1 Nb1 V1 Cr1",
          "Y1 Hf1 Zr1 Ti1",
          "Ti1 Ta1 Nb1 Cr1",
          "Ti1 Nb1 V1 Cr1.5 Al1",
          "Hf1 Zr1 Ti1 Nb1 Mo1",
          "Cr1 Fe1 Co1 Ni1 Sn1",
          "Zr1 Ti1 V1 Mo1 Fe1 Ni1",
          "Fe2 Co2 Ni2 Cu1 Al2",
          "Ti1 Nb1 Mo1 Cr1 Fe1",
          "Zr1 Fe1 Co1 Ni1 Cu1 Al1",
          "Cr3.21 Co1 Ni7.21 Cu7.14 Si2",
          "Zr3 Ti2 Ta2 Nb1",
          "V1 Cr2 Fe2 Co2 Ni2",
          "Ta1 Nb1 W9 Mo1",
          "Nb5 Fe1 Co1 Ni1 Cu1",
          "Hf1.6 Ti2.53 Nb1.53 V1",
          "Ta1 V1 W1 Mo1 Cr1",
          "Ti4.5 Nb1 Al4.5",
          "Cr3.2 Fe3.2 Co1.4 Ni1 Cu1.8 Al9.4",
          "Hf1 W7.5 Re2.5 Ru1",
          "Ti1.33 Ta4.67 V1 W1",
          "Cr1 Fe2 Co2 Ni2 Cu2 Al2",
          "Hf1 Ti6.5 Ta2.5 Nb2",
          "Ti1 Cr1 Co1 Ni1 Cu1 Al1",
          "Zr1 Ti1 Nb1 V1 W1 Mo1 Cr1",
          "Hf1 Ti1 Ta1 Nb1 Mo1",
          "Mo1 Cr2 Fe2 Co1 Ni2 Al2",
          "Ti1 Nb1 W1 Cr1",
          "Be1 Ti1.91 Mo1.91 Cr1.91 Fe1.91 Co1.91 Ni1.91 Cu1.91 Al1.91 Si1.91",
          "Zr3.8 Ti4.22 Ta5.78 Nb5.2 Al1",
          "Hf1 Zr1 Ti1 W1 Mo1",
          "Hf1 Zr1 Ti1 Ta1",
          "Hf2 Zr2 Ti1 Ta1 Nb2",
          "Hf2 Zr1 Ti1 Nb2",
          "Zr1 Ti1 Ta1 Nb1 V1 Mo1",
          "Mo1 Fe1 Co1 Ni1",
          "Ti3.38 Nb5.12 Cr1 Al1.12 Si1.88",
          "Ti4.5 Ta6 Nb15 Co1 Ni23.5",
          "Ti4 Ta3.5 Nb1 V3.5",
          "Ta1 Nb1 W1.9 Mo1",
          "Mn4 Fe4 Co1 Ni1",
          "V2 Cr3 Mn1 Fe7 Co2 Ni5",
          "Ti1 Nb1 Ru1",
          "Cr2 Fe2 Co1 Ni2 Cu2 Al2",
          "W1.33 Cr1 Mn1 Fe1 Co1 Ni1",
          "Nb2 V1 W2 Ru1",
          "Zr1.5 Ti1 Nb1 V1 Al1",
          "Cr1 Fe1 Co2.01 Ni3.01 Cu1 Al6.04",
          "Hf1 Zr1 Ti1 Nb1 Mo1.5",
          "Ti1 Nb1 W1 Re1",
          "Ta1 W1 Mo1 Ru1",
          "Hf2 Zr2 Ti2 Nb2 V2 Si1",
          "Y1.67 Zr1.67 Ta1.67 Mo14.67 Fe1 Co4 Si8.67",
          "Ta1 W1 Mo1 Re1",
          "Mo4.5 Ni4.5 B1.11 Si1",
          "Mo1 Fe1 Co1 Ni1 Al1",
          "Ta5 W1 Fe3 Ni7",
          "Ti1 Nb1 W8.5 Mo1.5",
          "Ti1 V1 Fe1 Co1 Ni1",
          "Ti1 Nb2 Ru1",
          "Nb2 W2 Mo2 Re1",
          "Hf1 Zr1 Ta1 Nb1 Mo1",
          "Ti1.67 Ta1.67 V1.67 Mo1.67 Al1",
          "Zr0.08 Ti1 Mo94.25 B35.44 C8.1",
          "Cr1 Fe1 Co1 Al2",
          "Cr2 Fe1 Co2 Ni2 Cu2 Al2",
          "Ti1 Ta1 Mo1 Cr1",
          "Ta1.5 W8 Re1.5 Ru1",
          "V2 W1 Cr1 Co4 Ni4",
          "Nb2 V2 Mo2 Cr2 Al1",
          "V3 W5.5 Re2.5 Ru1",
          "Ti6 Nb2 V4 Ni1 Al1",
          "Cr1.2 Fe6.2 Co2.2 Ni1 Cu1.8 Al7.6",
          "Ti1.5 Ta1 Cr1.83 Co2 Ni2",
          "Zr1 Ti1 V1 Mo1 Fe1 Co1 Ni1",
          "Ti1 Ta1 V1 Mo1 Al1",
          "Hf1 Zr1 Ti1.5 Nb1 Mo1",
          "Hf1 Zr1 Ti1 Ta1 Nb1 W1 Mo1",
          "Hf4 Zr4 Ti1 Ta3 Nb4",
          "V1 Cr1 Fe1 Co1 Ni1",
          "Zr1 Ti1 Ta1 Nb1 V1 Mo1 Cr1",
          "Ta1.5 V1 W8.5 Re1",
          "Ti1 Nb2 W2 Re1",
          "Mn1 Fe1 Co1 Ni1",
          "Ti22 Nb10.5 Cr10.5 Co6 Ni1",
          "Li2.5 Mg5 Cu1 Zn2.5 Al5",
          "Cr2.5 Fe1 Co5.5 Ni1",
          "Zr1 Ti1 Ta1 Nb1 Mo1",
          "Ti1 Nb2 W1",
          "Hf2 Zr2 Ti1 Nb2 Mo2",
          "V1 W2 Cr2 Fe2 Ni2",
          "Ti1 Nb3 W1 Re1",
          "Ti1.33 Ta1 V2 W3.67",
          "Ta3.5 Nb1 V2.5 W5",
          "Mo1 Cr1 Fe1 Co1 Ni1 Al1",
          "Ti1 Cr2 Fe1.89 Ni3.67 Al2",
          "Ti1 Ta1 Nb1 Mo1",
          "Ti1 Nb1 Mo1 Cr1 Al1",
          "Zr1 Ti3 Ta1 Nb3 Al2",
          "Cr1 Fe1 Ni1.99 Cu1.59 Al1",
          "Hf1 Ti1 Nb1 Al1",
          "Hf1.5 Ta3 Nb1 V6.5",
          "Nb1 V1 W3 Ru1",
          "Hf1 Zr1 Ti1 Nb1.5 Mo1",
          "Ta1 Nb3 W1 Ru1",
          "Cr1 Fe1 Co3.01 Ni2.01 Cu1 Al6.04",
          "Hf1 Zr1.6 Ti2.22 Ta3.85 Nb3.85",
          "Cr1.67 Fe1 Co3 Ni1",
          "Ti1 Ta1 Nb1 V1 W1",
          "Hf0.2 Ti1 Ta10 W10 Mo2 Cr8 Re8 Ru8 Ni140.6 Al12 Si0.2",
          "Hf1 Zr1 Ti1 Nb1 Cr1",
          "Hf2 Zr2 Ti2 Nb2 O1",
          "Ti9.33 B3 Si1",
          "Ti1 Ta1 W1",
          "Ti1 Cr3.33 Fe3.33 Co5 Ni3.33 Al1.33",
          "Cr2 Fe2 Co2 Ni1 Cu1 Al2",
          "Ti4 V7 Mo1 Cr2 Al6",
          "Ti1 Nb2 W2",
          "Mo1 Cr2 Fe2 Co2 Al2",
          "Mn1 Co1 Ni1",
          "Hf2 Ti6 Ta3 Nb1",
          "Nb10 V10 Mo10 Cr10 Al1",
          "Ti1 Nb1 W3 Re1",
          "W1 Re6 Fe2 Ni8",
          "Cr2 Co1 Ni2",
          "Ti2 Nb1 W1",
          "Ti2 Nb2 V2 Cr1 Al2",
          "Hf1 Ta5.5 Nb2 V3.5",
          "Zr1 Ti1 V1 Cr1 Fe1 Co1 Ni1 Al1",
          "Cr1 Fe1 Ni1 Cu1.99 Al1",
          "Fe1 Co1 Ni1",
          "Zr3.33 Ti5 Nb3.33 Al1",
          "Ti1 Nb1 Ag1 Zn1 Al1",
          "Ti1 V2 Fe2 Co2 Ni2 Cu1",
          "Zr1 Ti2 Nb1 V1",
          "Ti1 Ta1 Nb1 V1 Al1",
          "Hf2 Ti2 Nb2 V2 Si1",
          "Ti1 Ta1 V1 W1 Cr1",
          "V2 W41 Mo1 Co4 Ni2",
          "Co2.5 Ni2.5 Cu1.5 Al1",
          "Ta1 V1 W1 Mo1",
          "Ti1 Ta1 Nb1",
          "Cr2 Fe2 Co2 Ni2 Cu1",
          "Ti1 V1 Mo1 Cr1 Al1",
          "Ti3.37 Nb1.79 V1 Cr1.79",
          "Ta1 W6.5 Mo1.5 Re3",
          "Cr1 Fe3.99 Co1 Ni1",
          "Ta4 V1.33 W1.67 Mo1",
          "Ti1 Ta1 Mo1",
          "Mo1 Cr2 Fe2 Co2 Ni2 Al1",
          "Ta3 Nb1 W1 Mo1",
          "Li7 Ca2 Mg7 Al3 Si1",
          "Zr3.09 Ti69.8 Nb1.27 W1.2 Mo1 Al5.26 Sn3.49 Si0.37",
          "Ti1 Nb1 W2",
          "Zr1 Ti1 Nb1 Al1",
          "Zr2 Ti2 Ta1 Nb2 Al1",
          "Ta1 Nb1 W3 Mo1",
          "Li2 Mg1 Sc2 Ti3 Al2",
          "Ti1 Ta4 V5 W2",
          "Hf1 Zr1 Ti1 V1 Mo1",
          "Zr1 Ti30 Nb54 Al15",
          "V2 Fe2 Co2 Ni2 Cu1",
          "Cr1 Fe1 Co1 Cu1",
          "Cr1 Fe1.99 Co1 Ni1 Cu1",
          "Hf2.5 Zr2.5 Ti1.14 Ta1",
          "Ti1 Nb3 W1 Ru1",
          "Hf4 Zr4 Ti3 Ta1 Nb4",
          "Li2.5 Mg5 Zn2.5 Al5 Sn1",
          "Hf1 Zr1 Ti1 Ta1 Nb1 V1 W1 Mo1",
          "Cr2 Fe2 Co1 Ni2 Cu1 Al2",
          "Nb1 V5.5 W4.5 Mo1",
          "V2.5 Mo1 Fe5 Co5 Ni10",
          "W1 Cr1.62 Mn1.62 Fe1.62 Co1.62 N1.62",
          "Ti1 Nb2 Cr2 Al45",
          "Ti1 V2 Mo2 Cr2 Fe2",
          "Nb1 V1 Mo1 Cr1 Fe1",
          "Cr1.99 Fe1 Co1 Ni1 Cu1",
          "Nb7.5 Fe1 Co1 Ni1 Cu1",
          "Ti40 Nb1 Al5 Si15",
          "Ti1 Ta1 V1 W1",
          "Be2.25 Zr4.12 Ti1.38 Ni1 Cu1.25",
          "Cr6.72 Mn6.72 Fe6.72 Ni10.09 Cu1",
          "Zr1 Ti1 Nb1 V1 Al1",
          "Nb1 W1 Mo1",
          "Zr1 Ti3.35 Nb3.35 V2.01 Mo3.35 Cr1",
          "Cr1 Fe1 Co1 Ni1 Ge1",
          "Cr2.01 Fe1 Co2.01 Ni2.01 Cu1 Al6.04",
          "Hf2.5 Zr3 Ti2 Nb1.5 V1",
          "Cr1 Mn4 Fe4 Co1",
          "Ti1 Nb1 V1 Cr1 Al1",
          "W12 Cr1 Fe1.29",
          "Hf1 Zr1 Ti1 Ta1 Mo1",
          "Ta1.43 Nb1.38 V1 W1.02",
          "Ti1 V1 Cr1 Mn1 Fe1 Co1 Ni1 Cu1 Al5.33",
          "Mo1 Cr1.5 Fe2 Co3.5 Ni2",
          "Ti1 Nb1 V1 Cr1 Ni1",
          "Sc1 Hf1 Zr1 Ti1",
          "Ti1 V1 Cr1 Mn1 Fe1 Co1 Ni1 Cu1",
          "Ti1 Cr2 Fe2 Ni2 Cu2 Al2",
          "Ti2 Nb2 W1",
          "Ti1 Ta1 Nb1 W1",
          "Ta8 Ir7 Ni4 B1",
          "Cr2 Fe2 Co2 Cu1 Al2",
          "Ta1 W3 Mo1 Re1",
          "Ta1 Nb1 Mo1",
          "Ta1 Nb1 V1 W1 Mo1 Cr1 Re1",
          "Fe1.05 Co1.05 Ni2.16 Al1",
          "Cr1 Fe1 Co1 Ni1 Al6",
          "Cr2 Fe2 Ni2 Cu2 Al1",
          "W1 Mo1 Cr2 Co4 Ni4",
          "Ti1 Nb1 W1",
          "V1 W3 Mo5 Re3",
          "Hf1 Zr1 Ti1 Ta1 Nb1 V1 Mo1",
          "Ta1 Nb1 W9 Re1",
          "Cr1 Co9.5 Ni9.5",
          "Cr1 Fe2.99 Co1.99 Ni1 Cu1.99 Al5.97",
          "Cr1 Co1 Ni1 Cu1 Al1",
          "Ti1 Nb2 W2 Ru1",
          "Ta1 V1 W9 Mo1",
          "Ti1 Ta2 Nb2 V2 Mo2",
          "Hf1 Zr1 Nb1 V1 Mo1",
          "Zr1 Ti1.5 Nb1 V1",
          "Hf1 Zr2 Ti3 Ta1 Nb1",
          "Ti1 Co1 Ni1 Al1",
          "Cr5 Fe1 Co13 Ni1",
          "Ti1 Nb1 V1 Mo1 Fe1",
          "Ti1 Fe1 Ni1 Al1",
          "Ta1.5 W8 Mo1.5 Re1",
          "Zr2 Ti2 Nb1 V1",
          "Hf1 Ti1 Nb1 V1",
          "Hf1 Zr1 Ti1",
          "W1 Cr2 Mn2 Fe2 Cu2 Al2",
          "Mo1 Cr2 Fe2 Co2 Ni1 Al2",
          "Nb1 W3 Mo1 Ru1",
          "Li2.5 Mg5 Cu2.5 Al5 Sn1",
          "Ta2 Nb2 W1 Mo1",
          "Ti33 Nb1 Si16",
          "Zr1 Ti1 Nb1 V3 Mo1",
          "Zr30.5 Ti1 Cu12.5 Al6",
          "Ti1 Nb1 Mo1 Cr1",
          "Ti2 V3 Mo1 Cr2 Al2",
          "Hf1 Zr1 Ti1 Nb1 V1",
          "Ta1 W1 Mo1",
          "Ti1 V1 Cr1 Mn1 Fe1 Co1 Ni1 Cu1 Al2",
          "Ta1 Nb2 W2 Ru1",
          "Zr1 Ti1 Ta1 V1 Mo1",
          "Cr1.25 Fe1 Co1.75 Ni1",
          "Zr2 Ti1 Nb1 V2",
          "Mo1 Cr3.33 Fe1 Co5.67 Ni5.67",
          "Ti1 Fe1 Co1 Ni1 Cu1 Al1",
          "Zr1 Ti4 Nb3 Cr2",
          "Hf2 Zr2 Ti2 Nb1 Mo2",
          "Ti9.75 Ta1 Nb7.75 W1 Co5.5",
          "Fe1 Co1 Ni1 Cu1 Al1 Si1",
          "Zr1 Ti1 V1 Fe1 Ni1 Al1",
          "Ti32 Ta1 Nb9 Cr19 Co39",
          "Ti1 Cr1 Fe1 Co1 Ni1",
          "Ti1 Cr1 Ni1 Cu1 Al1",
          "Fe1 Co3 Ni1 Cu1 Al1",
          "Hf2 Ti2 Nb2 V1 Mo1",
          "Hf1.5 Ti2.5 Ta1 V7",
          "Zr2 Ti2 Ta1 Nb2 Mo1 Cr2",
          "Cr1 Fe1 Co1 Ni4 Al1",
          "Hf0.02 Cr1.91 Fe4.85 Co1 Ni5.09 Al6",
          "Zr1 Ti1.33 Nb1",
          "Cr1 Mn1 Co1 Ni1",
          "Nb1 Mo1 Cr1 Al1",
          "Cr1 Mn1 Fe1 Co1",
          "Hf1 Zr1 Nb1",
          "Zr1 Ti2 Ta2 Nb3",
          "W1.5 Mo6.33 Co1 Ni1.83 Al6",
          "Cr1 Fe1 Ni3 Cu1 Al1",
          "Cr1 Mn1 Fe1 Co1 Ni1 Cu1 Al1",
          "Cr1 Fe2 Co2 Ni2 Cu1 Al2",
          "Cr1 Co1 Ni1 Cu1 Zn1",
          "Mn1 Fe1 Ni1",
          "W3 Mo5 Re3 Ru1",
          "Ti1 W1 Mo1 Cr1 Al1",
          "Zr0.09 Ti1 Mo97.63 B14.23 C3.33",
          "Y1 Sc1 Hf1 Zr1 Ti1",
          "Cr3.33 Fe3.33 Ni6.67 Cu1.67 Al1",
          "Ti1 V23 Cr1",
          "Zr2 W1 C2",
          "Fe12.33 Co8.52 Ni8.52 Al6.7 C1",
          "Ti1 V1 Cr1 Mn1 Fe1 Co1 Ni1 Cu1 Al1",
          "Cr1 Fe1 Co1 Ni1.99 Cu1",
          "Hf1 Zr2 Ti2 Nb2 Mo2",
          "Hf1 Zr1 Ti1 Ta1 Nb1 V1",
          "Ti3.44 Nb2.06 V1 Cr1 Ni1.5 Al1",
          "Ti4 Nb2 V1 Cr2 Al1",
          "Sc1 Hf1 Zr1 Ta1 Mo1",
          "Nb1 V1 W1 Ru1",
          "V1 Co1 Ni1",
          "Li1 Mg1 Zn1 Al1 Sn1",
          "Hf1 Zr1 Ti1 Nb1 O1",
          "Mo1 Cr1 Fe1 Ni1 Cu1",
          "Cr1 Co2 Ni2",
          "Ta1 W3 Mo1 Ru1",
          "Cr2.01 Fe2.01 Co1 Ni2.01 Cu1 Al6.04",
          "Y1 Mo7 Cr7.5 Fe20.5 Co3.5 B3 C7.5",
          "V1 Mo1 Cr1 Fe1",
          "Ta1 Nb1 V1 Mo1",
          "Hf1 Zr1.5 Ti1 Nb1 Mo1",
          "Ti1 Nb1 V1 Cr1 Ni1 Al7",
          "Ti1 Nb1 V1 Cr1 Ni1 Al10"
         ],
         "legendgroup": "-1",
         "marker": {
          "color": "#2E91E5",
          "symbol": "circle"
         },
         "mode": "markers",
         "name": "-1",
         "showlegend": true,
         "type": "scattergl",
         "x": [
          63.904541015625,
          62.848106384277344,
          -57.388729095458984,
          28.46366310119629,
          11.526615142822266,
          61.0294075012207,
          45.72334671020508,
          15.958902359008789,
          89.3991928100586,
          69.59918212890625,
          -35.73922348022461,
          -22.180322647094727,
          -41.46946334838867,
          -2.107565402984619,
          45.08665466308594,
          38.99895477294922,
          -25.650209426879883,
          -15.239076614379883,
          -16.99290657043457,
          48.70133972167969,
          72.76622772216797,
          58.942138671875,
          16.8709774017334,
          32.88703155517578,
          40.5185432434082,
          13.748884201049805,
          -79.58108520507812,
          2.5604748725891113,
          20.44156265258789,
          -15.596674919128418,
          14.348682403564453,
          14.105193138122559,
          -2.9271764755249023,
          37.79539108276367,
          71.96665954589844,
          62.744728088378906,
          11.998027801513672,
          49.19677734375,
          3.70896053314209,
          57.61391067504883,
          45.69035720825195,
          -60.99555969238281,
          -16.689342498779297,
          64.19735717773438,
          45.948814392089844,
          24.897911071777344,
          31.013071060180664,
          -28.596952438354492,
          52.27861404418945,
          -21.693801879882812,
          29.00003433227539,
          51.379180908203125,
          -11.70617961883545,
          61.079219818115234,
          -49.71026611328125,
          -25.221410751342773,
          -82.1458511352539,
          -55.796730041503906,
          24.128332138061523,
          42.16374969482422,
          -1.413285732269287,
          62.49644470214844,
          -45.54707336425781,
          54.6438102722168,
          -55.27959060668945,
          50.493812561035156,
          43.148963928222656,
          -48.600440979003906,
          14.606755256652832,
          40.46967315673828,
          -29.26534080505371,
          54.03947830200195,
          -41.69325637817383,
          -11.438459396362305,
          3.2931203842163086,
          -11.285247802734375,
          37.31597900390625,
          25.541339874267578,
          76.5988540649414,
          61.70250701904297,
          27.52004051208496,
          40.36874008178711,
          19.231435775756836,
          -62.6123046875,
          49.575958251953125,
          40.03648376464844,
          32.847774505615234,
          -79.7596206665039,
          38.91094970703125,
          73.85636901855469,
          51.3977165222168,
          -39.02360534667969,
          39.4276123046875,
          43.231380462646484,
          15.591449737548828,
          45.201385498046875,
          -25.88094139099121,
          -32.11125946044922,
          62.47343444824219,
          57.682403564453125,
          10.787382125854492,
          -3.125128746032715,
          38.986270904541016,
          38.70174026489258,
          -15.25871753692627,
          36.09090042114258,
          49.172611236572266,
          9.459955215454102,
          71.60326385498047,
          -3.2549965381622314,
          52.80501174926758,
          5.814646244049072,
          65.27281951904297,
          49.6646842956543,
          47.816192626953125,
          65.04939270019531,
          27.999711990356445,
          -32.08707046508789,
          -22.911073684692383,
          -82.16946411132812,
          47.29082107543945,
          49.93440246582031,
          50.9959831237793,
          51.97573471069336,
          45.5764274597168,
          29.778675079345703,
          72.79237365722656,
          -35.73922348022461,
          17.502655029296875,
          -42.405120849609375,
          24.520343780517578,
          -39.3797492980957,
          -99.994140625,
          40.4581184387207,
          -48.12812805175781,
          56.011131286621094,
          78.39666748046875,
          89.78472900390625,
          32.6330680847168,
          20.447250366210938,
          -11.82979679107666,
          56.042293548583984,
          34.69388961791992,
          -35.58049774169922,
          28.044897079467773,
          5.606269836425781,
          58.556617736816406,
          61.84935760498047,
          -6.42873477935791,
          56.360206604003906,
          3.222513198852539,
          44.111942291259766,
          69.4939956665039,
          46.95625686645508,
          66.14279174804688,
          69.2190933227539,
          61.11650085449219,
          13.071647644042969,
          72.02603912353516,
          -9.952693939208984,
          48.52851867675781,
          45.44490432739258,
          -82.53820037841797,
          -26.20639991760254,
          62.503997802734375,
          -32.016815185546875,
          -41.30781173706055,
          56.765380859375,
          35.265350341796875,
          -12.095856666564941,
          72.86576080322266,
          64.42100524902344,
          49.72479248046875,
          74.25155639648438,
          18.284469604492188,
          47.65825653076172,
          14.59754753112793,
          -6.945444107055664,
          -3.0612716674804688,
          55.98957061767578,
          10.730761528015137,
          62.49012756347656,
          40.64680862426758,
          64.24979400634766,
          37.27447509765625,
          20.34107208251953,
          -13.958951950073242,
          -29.947128295898438,
          30.455636978149414,
          56.05889129638672,
          0.4820539355278015,
          24.788875579833984,
          53.15650177001953,
          44.575645446777344,
          -17.916095733642578,
          -16.814849853515625,
          17.162878036499023,
          37.3703498840332,
          72.961669921875,
          61.97007369995117,
          65.43219757080078,
          -48.26560974121094,
          59.66294860839844,
          56.124794006347656,
          64.34395599365234,
          -40.40354919433594,
          21.619810104370117,
          5.911637783050537,
          -25.524507522583008,
          44.162933349609375,
          64.0106201171875,
          72.0905990600586,
          -33.08182907104492,
          63.84369659423828,
          47.787113189697266,
          49.74535369873047,
          -6.972663402557373,
          -52.12798309326172,
          36.21615982055664,
          25.877220153808594,
          25.04559326171875,
          -72.70845794677734,
          72.02841186523438,
          50.025390625,
          53.84970474243164,
          73.92693328857422,
          59.77833938598633,
          -12.101408004760742,
          44.68953323364258,
          -26.10964012145996,
          42.09678649902344,
          -10.850887298583984,
          68.72471618652344,
          69.596923828125,
          19.422204971313477,
          41.941307067871094,
          -20.75511360168457,
          -28.40096664428711,
          31.70755386352539,
          63.61287307739258,
          -11.940995216369629,
          -41.186073303222656,
          28.3266658782959,
          24.68939971923828,
          62.194602966308594,
          -8.76103687286377,
          -3.632384777069092,
          65.59823608398438,
          30.954208374023438,
          48.03749084472656,
          15.895936012268066,
          -57.77287292480469,
          -29.181793212890625,
          38.314579010009766,
          25.428054809570312,
          11.211915969848633,
          46.35546875,
          45.89908981323242,
          90.19803619384766,
          29.2401123046875,
          48.291439056396484,
          -44.2535285949707,
          34.11347961425781,
          45.05183029174805,
          -30.80980682373047,
          31.087024688720703,
          22.81147575378418,
          54.97934341430664,
          -24.76726722717285,
          34.99604034423828,
          35.11646270751953,
          -8.652807235717773,
          36.53861999511719,
          5.828189849853516,
          18.681381225585938,
          61.89677810668945,
          28.336708068847656,
          37.53797149658203,
          46.141754150390625,
          23.916751861572266,
          49.18248748779297,
          58.677825927734375,
          73.49665069580078,
          11.222346305847168,
          -32.12574005126953,
          -57.661258697509766,
          46.72854995727539,
          62.408843994140625,
          68.5697021484375,
          6.092680931091309,
          62.241294860839844,
          -31.22170066833496,
          47.47086715698242,
          10.17531967163086,
          -42.992191314697266,
          6.997995376586914,
          21.23848533630371,
          23.196611404418945,
          -55.256248474121094,
          78.13836669921875,
          30.657630920410156,
          46.612552642822266,
          36.75082015991211,
          -83.81281280517578,
          34.98324966430664,
          40.71390914916992,
          39.82045364379883,
          -35.73922348022461,
          -12.777482032775879,
          72.51560974121094,
          -81.73152160644531,
          30.055566787719727,
          48.886287689208984,
          63.709415435791016,
          45.896121978759766,
          -26.384748458862305,
          -27.691938400268555,
          29.582656860351562,
          52.543556213378906,
          14.212063789367676,
          10.587145805358887,
          65.04059600830078,
          41.85683059692383,
          -2.195441246032715,
          -28.37302017211914,
          54.855873107910156,
          38.207664489746094,
          32.549224853515625,
          -4.039053440093994,
          -13.498144149780273,
          -59.54017639160156,
          -1.6319167613983154,
          64.49966430664062,
          45.13018035888672,
          62.61585998535156,
          56.501495361328125,
          -2.354722738265991,
          -17.365156173706055,
          -29.485008239746094,
          61.05672836303711,
          55.61613082885742,
          37.159671783447266,
          71.5751953125,
          46.910892486572266,
          51.370277404785156,
          -20.822439193725586,
          -25.23636245727539,
          36.07345199584961,
          13.826908111572266,
          55.3390007019043,
          47.336368560791016,
          90.066162109375,
          49.3464241027832,
          -55.02546691894531,
          -8.442572593688965,
          53.009735107421875,
          5.49282169342041,
          38.90547180175781,
          30.79714584350586,
          52.07124328613281,
          36.513877868652344,
          25.15835952758789,
          31.38025665283203,
          74.15933227539062,
          48.76900863647461,
          13.99070930480957,
          58.977176666259766,
          61.202125549316406,
          -28.113136291503906,
          49.51976013183594,
          -1.9937115907669067,
          -0.1974857896566391,
          22.172155380249023,
          70.83916473388672,
          20.58941078186035,
          -39.991920471191406,
          16.073331832885742,
          17.94907569885254,
          -15.501405715942383,
          11.655416488647461,
          -42.0814094543457,
          91.87283325195312,
          50.14162063598633,
          45.756473541259766,
          -11.305540084838867,
          -49.42653274536133,
          37.87803649902344,
          -42.723873138427734,
          26.129150390625,
          -44.05908966064453,
          67.07903289794922,
          44.8032112121582,
          -6.92151403427124,
          -77.882568359375,
          -34.488311767578125,
          -35.60990524291992,
          -51.01542282104492,
          -83.5809555053711,
          45.133365631103516,
          29.051822662353516,
          21.66350555419922,
          52.29575729370117,
          -80.46788024902344,
          50.87089538574219,
          54.635719299316406,
          -25.806013107299805,
          14.077397346496582,
          -12.862741470336914,
          73.67462158203125,
          64.21697998046875,
          23.98451042175293,
          23.219642639160156,
          64.87511444091797,
          56.69466781616211,
          0.8177866339683533,
          6.60650110244751,
          69.57635498046875,
          -59.16502380371094,
          -2.283761978149414,
          51.87025451660156,
          -14.445497512817383,
          -23.953479766845703,
          21.792795181274414,
          37.05518341064453,
          71.95512390136719,
          2.881221294403076,
          3.255099296569824
         ],
         "xaxis": "x",
         "y": [
          -32.21809768676758,
          -17.338741302490234,
          -28.55946159362793,
          9.342192649841309,
          31.218585968017578,
          34.78459930419922,
          -26.499826431274414,
          23.21030616760254,
          -13.755203247070312,
          -34.61573791503906,
          20.877426147460938,
          7.84643030166626,
          -25.550439834594727,
          44.28076934814453,
          37.19486999511719,
          25.809131622314453,
          -4.820099353790283,
          28.59346580505371,
          67.30010986328125,
          19.774330139160156,
          19.959035873413086,
          -17.26422882080078,
          25.51068687438965,
          43.32954025268555,
          -37.228759765625,
          26.515939712524414,
          40.31303405761719,
          -55.39781188964844,
          -2.2294704914093018,
          27.895214080810547,
          25.923141479492188,
          26.187971115112305,
          55.63630294799805,
          -41.10874938964844,
          -7.574146747589111,
          40.18112564086914,
          3.3983256816864014,
          -39.22642135620117,
          10.320141792297363,
          -32.132606506347656,
          -25.316404342651367,
          -24.166231155395508,
          66.24431610107422,
          -19.01397132873535,
          26.33165168762207,
          -34.52676010131836,
          -78.64090728759766,
          -26.443716049194336,
          35.894752502441406,
          7.77158260345459,
          -53.89783477783203,
          -50.96251678466797,
          55.954627990722656,
          37.64113235473633,
          -58.62934112548828,
          -5.7387895584106445,
          20.607088088989258,
          -5.915594100952148,
          -21.93971061706543,
          26.677658081054688,
          8.545121192932129,
          39.9336051940918,
          -24.00135612487793,
          -23.688533782958984,
          -42.01179885864258,
          31.498023986816406,
          0.03629710525274277,
          50.8420524597168,
          47.50068283081055,
          31.065902709960938,
          46.42213821411133,
          5.947943210601807,
          47.542964935302734,
          -77.25669860839844,
          9.285439491271973,
          50.53951644897461,
          19.271636962890625,
          3.6719071865081787,
          21.995563507080078,
          -22.22087287902832,
          9.680231094360352,
          -1.577423095703125,
          57.676918029785156,
          1.4855930805206299,
          -8.64976978302002,
          37.66105651855469,
          43.343929290771484,
          40.775169372558594,
          43.74973678588867,
          -7.852290153503418,
          35.830020904541016,
          -66.9705581665039,
          -43.59700012207031,
          0.061786774545907974,
          -21.165760040283203,
          -33.99071502685547,
          -5.799393653869629,
          -28.83190155029297,
          -30.5527400970459,
          -7.536022663116455,
          13.041341781616211,
          44.93608474731445,
          1.1258728504180908,
          -0.26986435055732727,
          -24.25462532043457,
          -25.831928253173828,
          -39.22056198120117,
          20.219982147216797,
          18.481531143188477,
          34.7295036315918,
          9.209843635559082,
          -99.47677612304688,
          -18.758426666259766,
          40.55548095703125,
          43.05720901489258,
          -33.37323760986328,
          9.516712188720703,
          32.42823791503906,
          -25.314836502075195,
          20.416845321655273,
          30.298398971557617,
          30.35231590270996,
          -11.901697158813477,
          -59.15186309814453,
          -28.70118522644043,
          -12.131540298461914,
          -6.840158462524414,
          20.877426147460938,
          25.8653564453125,
          -24.170866012573242,
          4.4410014152526855,
          -23.692686080932617,
          -22.927886962890625,
          -36.80531692504883,
          12.267507553100586,
          52.50763702392578,
          23.098310470581055,
          -14.570615768432617,
          26.857982635498047,
          -46.45942306518555,
          -54.248695373535156,
          49.36008834838867,
          42.6459846496582,
          -25.924652099609375,
          -53.806922912597656,
          -5.424169540405273,
          -17.228946685791016,
          -25.89291763305664,
          -25.64508628845215,
          10.244080543518066,
          9.109310150146484,
          -33.672122955322266,
          -6.783167362213135,
          -55.11347579956055,
          -34.28296661376953,
          -35.29558181762695,
          -17.08121681213379,
          41.78314208984375,
          20.498987197875977,
          54.517486572265625,
          19.56802749633789,
          37.23900604248047,
          42.80147171020508,
          -4.127222537994385,
          30.70751190185547,
          -25.87689781188965,
          40.878665924072266,
          34.3718147277832,
          -14.085061073303223,
          -48.17274856567383,
          -7.6002397537231445,
          37.93305206298828,
          40.47258758544922,
          -34.79387664794922,
          55.31721878051758,
          43.24079513549805,
          47.48332595825195,
          -28.771820068359375,
          55.72346496582031,
          53.23640060424805,
          32.41524124145508,
          31.025529861450195,
          49.331111907958984,
          -26.718591690063477,
          12.934595108032227,
          61.543853759765625,
          -67.16663360595703,
          -27.464458465576172,
          12.056041717529297,
          50.358421325683594,
          35.835819244384766,
          -2.4552292823791504,
          34.870994567871094,
          -13.325841903686523,
          -50.597015380859375,
          17.863027572631836,
          25.68056869506836,
          12.634272575378418,
          -6.23577356338501,
          -21.646310806274414,
          -33.69999313354492,
          11.774444580078125,
          -17.2344970703125,
          51.146934509277344,
          37.71121597290039,
          48.67581558227539,
          -19.533411026000977,
          -97.00070190429688,
          28.365650177001953,
          -36.891544342041016,
          33.96328353881836,
          -8.798105239868164,
          33.78750991821289,
          33.246803283691406,
          30.417850494384766,
          29.794191360473633,
          -27.8283748626709,
          -45.55875015258789,
          17.49131965637207,
          3.253092050552368,
          -35.85068893432617,
          -21.928621292114258,
          -39.93146896362305,
          22.643877029418945,
          35.87627410888672,
          -6.876615524291992,
          32.275604248046875,
          -48.20414733886719,
          -32.41574478149414,
          28.127601623535156,
          26.58662223815918,
          55.67543411254883,
          -38.60832214355469,
          -43.18190002441406,
          -75.8366928100586,
          29.61096954345703,
          20.740589141845703,
          -23.246938705444336,
          4.6372761726379395,
          35.742584228515625,
          -32.792720794677734,
          49.5528564453125,
          -53.838008880615234,
          -2.483858108520508,
          38.9742431640625,
          60.68566131591797,
          34.443050384521484,
          34.998687744140625,
          -12.776299476623535,
          25.679574966430664,
          23.480743408203125,
          -23.682058334350586,
          47.14102554321289,
          -25.37869644165039,
          -37.097381591796875,
          33.65169143676758,
          -13.706451416015625,
          16.19856071472168,
          -15.913010597229004,
          30.111858367919922,
          61.53496170043945,
          -22.04488182067871,
          27.4306640625,
          -31.07780647277832,
          -16.378753662109375,
          5.187350749969482,
          -19.537094116210938,
          47.77737045288086,
          -6.245754718780518,
          42.60142135620117,
          15.106521606445312,
          -24.9411563873291,
          42.56649398803711,
          -99.68729400634766,
          -75.94286346435547,
          37.67861557006836,
          -34.24246597290039,
          -33.84645080566406,
          37.26393127441406,
          -23.66236114501953,
          26.40131378173828,
          -8.194253921508789,
          20.8924617767334,
          35.067596435546875,
          -44.114219665527344,
          -7.764776229858398,
          -56.912967681884766,
          32.03813171386719,
          -36.155330657958984,
          -96.90870666503906,
          -20.585315704345703,
          -24.537948608398438,
          31.52407455444336,
          43.85816192626953,
          42.78726577758789,
          -55.31217956542969,
          -2.3699936866760254,
          -2.4893181324005127,
          -9.74221420288086,
          22.80751609802246,
          -77.80838012695312,
          30.005205154418945,
          -40.82078170776367,
          22.215307235717773,
          -14.02267074584961,
          49.88631820678711,
          -1.0356000661849976,
          20.877426147460938,
          -49.03265380859375,
          -35.94429016113281,
          43.957054138183594,
          -12.302983283996582,
          62.95493698120117,
          -25.42030143737793,
          26.29640007019043,
          -36.32915115356445,
          26.649200439453125,
          -7.507265090942383,
          -58.44999694824219,
          16.228116989135742,
          8.079354286193848,
          34.8336067199707,
          27.857614517211914,
          55.29191589355469,
          -45.00309753417969,
          47.61819076538086,
          38.415428161621094,
          24.81597900390625,
          45.34846115112305,
          -51.442543029785156,
          -22.189788818359375,
          35.46782684326172,
          35.354610443115234,
          47.09836959838867,
          -19.795318603515625,
          51.847862243652344,
          36.732635498046875,
          -50.6298828125,
          -27.58836555480957,
          34.848838806152344,
          52.18125534057617,
          20.236347198486328,
          -10.090889930725098,
          -13.288847923278809,
          -50.925357818603516,
          7.608512878417969,
          28.482521057128906,
          -3.5391199588775635,
          4.841722011566162,
          51.033905029296875,
          -12.842775344848633,
          -15.614343643188477,
          -57.38143539428711,
          -31.577835083007812,
          -26.403366088867188,
          36.98454666137695,
          -97.1999282836914,
          38.22910690307617,
          -78.10538482666016,
          -6.648131370544434,
          -40.75884246826172,
          4.117916107177734,
          4.913341045379639,
          -34.854087829589844,
          41.732906341552734,
          15.333566665649414,
          32.777244567871094,
          -16.17928695678711,
          27.349332809448242,
          -8.90182876586914,
          35.44841384887695,
          6.440659999847412,
          -19.898611068725586,
          -6.769890785217285,
          -19.112394332885742,
          -25.366971969604492,
          22.774017333984375,
          -20.30547523498535,
          19.483726501464844,
          -0.787624716758728,
          -21.15923500061035,
          -14.269667625427246,
          21.979597091674805,
          -26.882179260253906,
          49.74191665649414,
          -56.846702575683594,
          -25.323488235473633,
          49.010467529296875,
          2.3729281425476074,
          44.30046844482422,
          -34.78341293334961,
          -31.860816955566406,
          -29.541399002075195,
          -19.947546005249023,
          -28.72610092163086,
          -25.058210372924805,
          -11.7763090133667,
          37.54206848144531,
          47.09659194946289,
          8.969305992126465,
          73.60433197021484,
          -58.824424743652344,
          -14.362074851989746,
          21.84650230407715,
          -23.676301956176758,
          7.157365798950195,
          15.681230545043945,
          35.57646942138672,
          -5.221280097961426,
          -18.91307258605957,
          -18.894254684448242,
          -19.491069793701172,
          -25.68726921081543,
          34.39113235473633,
          35.86204147338867,
          -96.56314849853516,
          -43.83070373535156,
          -12.759611129760742,
          35.85044479370117,
          37.87870788574219,
          -49.463314056396484,
          -7.769900798797607,
          -2.449676752090454,
          20.737703323364258,
          -6.30666971206665,
          -55.48460388183594,
          -55.5765495300293
         ],
         "yaxis": "y"
        },
        {
         "hovertemplate": "<b>%{hovertext}</b><br><br>Cluster #=0<br>37D->2D TSNE1=%{x}<br>37D->2D TSNE2=%{y}<extra></extra>",
         "hovertext": [
          "Ti5 Ni4 C1",
          "Ti2.5 Ni1.5 C1",
          "Ti10 Ni9 C1",
          "Ti3.33 Ni2.33 C1"
         ],
         "legendgroup": "0",
         "marker": {
          "color": "#E15F99",
          "symbol": "circle"
         },
         "mode": "markers",
         "name": "0",
         "showlegend": true,
         "type": "scattergl",
         "x": [
          13.699746131896973,
          13.939637184143066,
          13.593660354614258,
          13.836400032043457
         ],
         "xaxis": "x",
         "y": [
          -11.203032493591309,
          -11.605613708496094,
          -11.025840759277344,
          -11.429214477539062
         ],
         "yaxis": "y"
        },
        {
         "hovertemplate": "<b>%{hovertext}</b><br><br>Cluster #=1<br>37D->2D TSNE1=%{x}<br>37D->2D TSNE2=%{y}<extra></extra>",
         "hovertext": [
          "Ta1.2 Nb2 W2 Mo2 Re1 C1.2",
          "Ta1 Nb2.5 W2.5 Mo2.5 Re1.25 C1",
          "Ta1 Nb5 W5 Mo5 Re2.5 C1",
          "Ta1 Nb2 W2 Mo2 Re1 C1"
         ],
         "legendgroup": "1",
         "marker": {
          "color": "#1CA71C",
          "symbol": "circle"
         },
         "mode": "markers",
         "name": "1",
         "showlegend": true,
         "type": "scattergl",
         "x": [
          40.18019485473633,
          40.311397552490234,
          40.51120376586914,
          40.23025131225586
         ],
         "xaxis": "x",
         "y": [
          47.42202377319336,
          47.903350830078125,
          48.70355987548828,
          47.601104736328125
         ],
         "yaxis": "y"
        },
        {
         "hovertemplate": "<b>%{hovertext}</b><br><br>Cluster #=2<br>37D->2D TSNE1=%{x}<br>37D->2D TSNE2=%{y}<extra></extra>",
         "hovertext": [
          "Cr3.32 Mn1 Fe3.32 Co3.32 Ni3.32 Al3.32",
          "Nb1 Cr1.33 Fe1.33 Co1.33 Ni1.33 Al1.33",
          "Cr2.25 Fe1 Co2.25 Ni2.25 Al2.25",
          "Ti1 Cr10 Fe10 Co10 Ni10 Al3",
          "Mo1 Cr2 Fe1 Co2 Ni2 Al2",
          "Cr2.25 Fe2.25 Co2.25 Ni1 Cu2.25",
          "Cr1 Fe4.76 Co4.76 Ni4.76 Al4.76",
          "Cr1.78 Mn1.78 Fe1.78 Co1.78 Ni1.78 Al1",
          "Cr3.3 Mn1 Fe3.3 Co3.3 Ni3.3 Al1.65",
          "Cr4 Fe4 Co1 Ni4 Al4",
          "Cr3.8 Mn3.8 Fe3.8 Co3.8 Ni3.8 C1",
          "Mo1 Cr4.8 Mn4.8 Fe4.8 Co4.8 Ni4.8",
          "Cr1.17 Fe1.11 Co1.11 Ni1.17 Al1",
          "V1 Cr4.8 Fe4.8 Co4.8 Ni4.8 Cu4.8",
          "Mo1 Cr1.47 Mn1.47 Fe1.47 Co1.47 Ni1.47",
          "Cr2 Fe2 Co2 Ni2 Cu2 Al1",
          "W1 Cr5 Fe5 Co5 Ni5",
          "Mo1 Cr2.01 Fe2.01 Co2.01 Ni3.01 Al2.01",
          "Cr1 Fe1 Co1 Ni1 Al3",
          "Cr4.4 Fe1.8 Co2.8 Ni1.2 Cu1 Al8.8",
          "Cr1 Mn1 Fe1 Co1 Ni1.1",
          "Ti2 Cr2 Fe2 Co2 Ni2 Cu2 Al1",
          "Cr1.42 Fe1.42 Co1 Ni1.42 Cu1.42",
          "Ti1 Cr1 Fe1 Co1 Ni1 Al1.5",
          "W1 Cr4.5 Fe4.5 Co4.5 Ni4.5 C1",
          "Cr4 Fe2 Co2.6 Ni1 Cu1 Al9.4",
          "Mo1 Cr4.8 Fe4.8 Co4.8 Ni4.8",
          "Ti2 Cr4 Fe4 Co4 Ni4 Al1",
          "Cr1.25 Fe1.25 Co1.25 Ni1.25 Cu1.25 Al1",
          "Mo1 Cr2.01 Fe2.01 Co3.01 Ni2.01 Al2.01",
          "Cr3.33 Fe3.33 Co3.33 Ni3.33 Cu1 Al1",
          "Cr1 Fe1 Co1 Ni1 Al1.8",
          "Mo1 Cr2 Fe2 Co2 Ni2 Al4",
          "Cr1 Fe2.5 Co2.5 Ni2.5 Al1.5",
          "Cr1 Fe1 Co1 Ni1 Al1.4",
          "Cr4.6 Fe1.4 Co2.8 Ni1 Cu1 Al9.2",
          "Cr1 Fe1 Co1 Ni1 Cu1 Al2.5",
          "Cr2 Fe2 Co2 Ni2 Cu1 Al1",
          "Mo1 Cr10 Fe10 Co10 Ni10 Al3",
          "Mo1 Cr10 Fe10 Co10 Ni10 Al10",
          "Cr1.42 Fe1 Co1.42 Ni1.42 Al1.42",
          "Cr4.4 Fe1 Co4.8 Ni1.2 Al8.6",
          "Cr1 Fe1 Ni1 Al1.12",
          "V4 Cr2 Fe2 Co2 Ni2 Cu2 Al1",
          "Cr4.96 Fe4.96 Co4.96 Ni4.96 Al1",
          "Fe14.29 Co14.29 Ni14.29 Cu14.29 Sn1",
          "Fe5 Co5 Ni5 Cu5 Sn1",
          "Cr5 Mn5 Fe5 Co5 Ni5 Al1",
          "Mo1 Cr1.05 Mn1.05 Fe1.05 Co1.05 Ni1.05",
          "Mo1 Cr5 Fe5 Co5 Ni5",
          "Cr3 Fe2.6 Co2.8 Ni1.2 Cu1 Al9.4",
          "Cr3.98 Fe3.98 Co3.98 Ni3.98 Al1",
          "Mo1 Cr12 Fe12 Co12 Ni12",
          "Cr5 Fe5 Co5 Ni5 Cu5 Al2.5 B1",
          "V3.21 Cr2.01 Fe2.01 Co2.01 Ni2.01 Cu2.01 Al1",
          "Ti1 Cr1.25 Fe1.25 Co1.25 Ni1.25 Cu1.25",
          "Ti1 Cr2.49 Fe2.49 Co2.49 Ni2.49 Cu2.49 Al1.25",
          "Cr1.62 Mn1.62 Fe1.62 Co1.62 Ni1.62 Al1",
          "Cr2 Fe2 Co2 Ni2 Cu1 Al4",
          "Cr1 Co1 Ni1 Cu1",
          "Cr1.42 Fe1.42 Co1.42 Ni1 Cu1.42",
          "Mo1 Cr2.3 Mn2.3 Fe2.3 Co2.3 Ni2.3",
          "Cr1 Fe1 Co1 Ni3 Al1",
          "Cr1.24 Mn1.24 Fe1.24 Co1.24 Ni1.24 Al1",
          "Cr1.23 Mn1.23 Fe1.23 Co1.23 Ni1.23 Al1",
          "Cr1.11 Fe1.11 Co1.11 Ni1.11 Al1",
          "Cr1.36 Fe1.27 Co1.55 Ni1 Al3.91",
          "Mo1 Cr2 Fe2 Co4 Ni2 Al2",
          "Cr2.21 Fe2.21 Co2.21 Ni2.21 Cu1 Al1.77",
          "Cr1.04 Mn1 Fe1.02 Co1.08 Ni1.09",
          "V3.99 Cr1.99 Fe1.99 Co1.99 Ni1.99 Cu1.99 Al1",
          "Cr2.66 Fe2.66 Co2.66 Ni2.66 Al1",
          "Ti1 Cr1.99 Fe1.99 Co1.99 Ni1.99 Al2.4",
          "Cr3.29 Fe3.29 Co3.29 Ni3.29 Al1",
          "Cr2 Mn2 Fe2 Co2 Ni2 Al1",
          "Cr2.33 Fe3.33 Co3.33 Ni3.33 Al1",
          "Cr1.44 Fe1.29 Co1.29 Ni1.44 Al1",
          "Fe1 Co1 Ni1 Cu1 Sn0.02",
          "Nb1 Cr10 Fe10 Co10 Ni10 Al10",
          "Ti1 Cr5 Fe5 Co5 Ni5 Cu5 Al2.5",
          "Mo1 Cr2 Fe3 Co2 Ni2 Al2",
          "Ti1 Cr10 Mn10 Fe10 Co10 Ni10 C1",
          "Mo1 Cr5 Fe5 Ni5 Al5",
          "Ti2 Cr2 Fe2 Co2 Ni2 Al1",
          "Cr1 Fe1 Co1 Ni1 Al1",
          "Fe20 Co20 Ni20 Cu20 Sn1",
          "Ti1 Cr2 Fe2 Co2 Ni2 Al3",
          "Nb1 Cr9.71 Fe9.71 Co9.71 Ni9.71",
          "V1 Cr2.5 Fe2.5 Co2.5 Ni2.5 Cu2.5 Al1.25",
          "Cr1.79 Mn1.79 Fe1.79 Co1.79 Ni1.79 Al1",
          "V1 Cr1.47 Fe1.47 Co1.47 Ni1.47 Cu1.47",
          "Cr1 Fe2.25 Co2.25 Ni2.25 Al2.25",
          "Cr1.15 Fe1.15 Co1.15 Ni1.15 Al1",
          "Ti1.5 Cr1 Fe1 Co1 Ni1 Al1",
          "W1 Cr2.3 Mn2.3 Fe2.3 Co2.3 Ni2.3",
          "Cr1 Fe1 Co1 Ni1 Cu1 Al2.8",
          "Cr4.76 Fe1 Co4.76 Ni4.76 Cu4.76",
          "Ti3.63 Cr2.01 Fe2.01 Co2.01 Ni2.01 Cu2.01 Al1",
          "Ti2 Cr4 Fe4 Co4 Ni4 Cu3 Al1",
          "Cr1 Fe1.42 Co1.42 Ni1.42 Cu1.42",
          "Cr3.01 Fe2.01 Co2.01 Ni2.01 Cu1 Al2.01",
          "Cr2.6 Fe2.4 Co2.6 Ni2 Cu1 Al9.4",
          "Ti1.2 Mo1 Cr2 Fe2 Ni2 Al2",
          "Ti1.6 Cr2 Fe2 Co2 Ni2 Cu2 Al1",
          "Cr4.2 Fe2.4 Co2.8 Ni1 Cu1 Al8.6",
          "Cr2 Mn2 Fe2 Co2 Ni2 C1",
          "Ti1 Cr1 Fe1 Co1 Ni1 Al2",
          "V1 Cr1.05 Fe1.05 Co1.05 Ni1.05 Cu1.05",
          "Cr1 Fe5 Co5 Ni5 Al4",
          "Cr1 Fe1 Co1 Ni2.15 Al1",
          "Cr4 Fe4 Co4 Ni4 Cu1 Al3",
          "V1 Cr10.25 Fe10.25 Co10.25 Ni10.25 Cu10.25 Al10.25",
          "Cr4.96 Fe1 Co4.96 Ni4.96 Al4.96",
          "Cr4 Fe4 Co4 Ni4 Al1",
          "Ti1 Cr3.98 Fe3.98 Co3.98 Ni3.98 Al4.78",
          "Ti1 Cr1 Fe1 Co1 Ni1 Al1",
          "Cr4.4 Fe1 Co5 Ni1 Al8.6",
          "Cr3.8 Fe1 Co3.8 Ni1 Cu1 Al9.4",
          "Cr5 Fe5 Co5 Ni5 Al5 C1",
          "Ta1 Cr1.67 Mn1.67 Fe1.67 Co1.67 Ni1.67",
          "Cr1 Fe1 Co1 Ni1 Al1 Si1",
          "Cr1 Fe10 Co10 Ni10 Al9",
          "Cr2.63 Mn2.63 Fe2.63 Co2.63 Ni2.63 Al1",
          "Nb1 Cr6.45 Fe6.45 Co6.45 Ni6.45",
          "Cr10 Fe10 Co10 Ni10 Al1",
          "Cr1 Fe1 Co1 Ni1 Al1.25",
          "Ti3.6 Cr2 Fe2 Co2 Ni2 Cu2 Al1",
          "Fe2 Co2 Ni2 Al1",
          "Cr2 Fe2 Co1 Ni2 Al2",
          "Mo1 Cr6.69 Fe6.69 Co6.69 Ni6.69",
          "Cr1 Fe1 Co1 Ni1 Al2",
          "Cr2.01 Fe2.01 Co2.01 Ni2.01 Cu1 Al3.01",
          "Cr2 Fe4 Co2 Ni2 Cu1 Al2",
          "Cr9 Fe10 Co10 Ni10 Al1",
          "V3.63 Cr2.01 Fe2.01 Co2.01 Ni2.01 Cu2.01 Al1",
          "Cr4 Fe2 Co2 Ni2 Cu1 Al2",
          "V1 Cr2 Mn2 Fe2 Co2 Ni2",
          "Cr1 Fe1 Co1 Al1",
          "Cr1.13 Fe1.13 Ni1.13 Al1",
          "Ti3.21 Cr2.01 Fe2.01 Co2.01 Ni2.01 Cu2.01 Al1",
          "W1 Cr4.8 Mn4.8 Fe4.8 Co4.8 Ni4.8",
          "Ti2.39 Cr1.99 Fe1.99 Co1.99 Ni1.99 Cu1.99 Al1",
          "Cr5 Co4.5 Ni5 Cu4.5 Al1",
          "Cr1.42 Fe1 Co1.42 Ni1.42 Cu1.42",
          "Cr5.05 Mn5.05 Fe5.05 Co5.05 Ni5.05 Al1",
          "Cr1.34 Fe1.34 Co1.34 Ni1.34 Al1",
          "Mo1 Cr2 Fe2 Ni2 Al2",
          "Ti1 Cr1.25 Fe1.25 Co1.25 Ni1.25 Al1.25",
          "Cr3.6 Fe1 Co4.2 Ni1 Cu1 Al9.2",
          "Cr4 Fe1.33 Co3.17 Ni1 Al7.17",
          "Cr10 Mn10 Fe10 Co10 Ni10 Al1",
          "V1 Cr5 Fe5 Co5 Ni5 Cu5 Al2.51",
          "V2 Cr2 Fe2 Co2 Ni2 Cu2 Al1",
          "Cr1 Fe1 Ni1 Al1.21",
          "Cr1.34 Mn1.34 Fe1.34 Co1.34 Ni1.34 Al1",
          "Fe1 Co1 Ni1 Al1",
          "Cr1 Fe1 Co1 Ni2.1 Al1",
          "Mo1 Cr2 Fe2 Co2 Ni3 Al2",
          "Mo1 Cr6.67 Fe6.67 Co6.67 Ni6.67",
          "Cr1.25 Fe1.25 Co1.25 Ni1.25 Al1",
          "Cr23.73 Mn24.58 Fe23.37 Co23.61 Ni24.1 C1",
          "Cr2.87 Fe1.88 Co1.88 Ni1.88 Cu1 Al2.87",
          "V1 Cr1 Mn1 Fe1 Co1 Ni1",
          "Cr1.33 Fe1.33 Co1.33 Ni1",
          "Cr4 Fe1.8 Co2.8 Ni1 Cu1 Al9.4",
          "Cr1 Fe1 Co1 Ni1 Cu1 Al1.3",
          "V1.6 Cr2 Fe2 Co2 Ni2 Cu2 Al1",
          "Cr1 Fe3.33 Co3.33 Ni3.33 Al2.33",
          "Cr3.33 Fe3.33 Co3.33 Ni3.33 Al3.33 C1",
          "V1 Cr1.34 Mn1.34 Fe1.34 Co1.34 Ni1.34",
          "Ta1 Cr5 Mn5 Fe5 Co5 Ni5",
          "Cr4.4 Fe1.6 Co4.4 Ni1 Al8.6",
          "Cr3 Fe1.29 Co2.86 Ni1 Al6.14",
          "Ti3.99 Cr1.99 Fe1.99 Co1.99 Ni1.99 Cu1.99 Al1",
          "Ti2.8 Cr2 Fe2 Co2 Ni2 Cu2 Al1",
          "V1.61 Cr2.01 Fe2.01 Co2.01 Ni2.01 Cu2.01 Al1",
          "Cr1.43 Mn1.43 Fe1.43 Co1.43 Ni1.43 Al1",
          "Ta1 Cr2.5 Mn2.5 Fe2.5 Co2.5 Ni2.5 Al1.25",
          "Ti1 Cr1 Fe1 Co1 Ni1 Cu1",
          "Nb1 Cr4.85 Fe4.85 Co4.85 Ni4.85",
          "Ti3.2 Cr2 Fe2 Co2 Ni2 Cu2 Al1",
          "Cr3.6 Fe1 Co4 Ni1 Cu1 Al9.4",
          "Cr2 Fe2 Co2 Ni2 Cu1 Al1.51",
          "Cr4 Fe4 Co4 Ni4 Cu1 Al4",
          "Cr1.33 Fe1.33 Co1.33 Al1",
          "Cr2.4 Fe2.6 Co2.4 Ni2.2 Cu1 Al9.4",
          "Cr1.15 Fe1 Co1 Ni1",
          "Mo1 Cr2.01 Fe2.01 Co2.01 Ni2.01 Al3.01",
          "Cr1 Fe1 Co1 Ni1.99 Al1",
          "Cr1 Fe4.76 Co4.76 Ni4.76 Cu4.76",
          "Ti1 Cr1 Fe1 Co1 Ni1 Al1.2",
          "Cr5 Fe5 Co5 Ni5 Al1",
          "Cr2.11 Fe1 Co2.22 Ni1 Al4.78",
          "Ti1 Cr2 Fe2 Co2 Ni2 Al1",
          "Cr2.5 Fe2.5 Co2.5 Ni2.5 Al2.5 C1",
          "Cr1 Fe1 Co1 Ni2.5 Al1",
          "Cr2 Mn1.2 Fe2 Co2 Ni2 Al1",
          "Ti2 Cr4 Fe4 Co4 Ni4 Cu2 Al1",
          "Cr1 Fe1 Ni1 Al1.3",
          "Cr3.32 Fe3.32 Co3.32 Ni3.32 Cu3.32 Al1",
          "Cr2 Fe2 Co2 Ni2 Al1",
          "Cr4.6 Fe1 Co4.8 Ni1 Al8.6",
          "Cr3.33 Fe3.33 Co1 Ni3.33 Al2.33",
          "Cr2 Fe2 Co2 Ni4 Cu1 Al2",
          "Cr3.8 Fe2 Co2.8 Ni1 Cu1 Al9.4",
          "Cr2 Fe2 Co2 Ni2 Cu2 Al1 B2",
          "Ti1 Mo2 Cr4 Fe4 Ni4 Al4",
          "Ti1 Mo1.25 Cr2.5 Fe2.5 Ni2.5 Al2.5",
          "Fe25 Co25 Ni25 Cu25 Sn1",
          "V2.8 Cr2 Fe2 Co2 Ni2 Cu2 Al1",
          "Cr1 Fe1.42 Co1.42 Ni1.42 Al1.42",
          "Ti2.82 Cr2.01 Fe2.01 Co2.01 Ni2.01 Cu2.01 Al1",
          "Cr2 Fe2 Co2 Ni6 Cu1 Al2",
          "Cr1 Mn1 Fe1 Co1 Ni1",
          "Cr5 Fe5 Co5 Ni5 Al5 Si1",
          "Cr2.38 Fe1.38 Co2.38 Ni1 Al5.38",
          "Fe2 Co2 Ni2 Cu2 Sn1",
          "V1.2 Cr2 Fe2 Co2 Ni2 Cu2 Al1",
          "Cr2 Fe2 Co2 Ni2 Cu1 Al1.41",
          "Cr1.42 Fe1.42 Co1.42 Ni1.42 Al1",
          "Ta1 Cr2.5 Mn2.5 Fe2.5 Co2.5 Ni2.5",
          "Cr1 Fe1 Co1 Ni1.99 Al1.3",
          "Ti1.61 Cr2.01 Fe2.01 Co2.01 Ni2.01 Cu2.01 Al1",
          "Cr4.4 Fe2 Co2.2 Ni1 Cu1 Al9.4",
          "Cr1.61 Mn1.61 Fe1.61 Co1.61 Ni1.61 Al1",
          "V2.82 Cr2.01 Fe2.01 Co2.01 Ni2.01 Cu2.01 Al1",
          "V1 Cr2.3 Fe2.3 Co2.3 Ni2.3 Cu2.3",
          "Nb1 Cr2 Fe2 Co2 Ni2 Al2",
          "Ti1 Cr2 Fe2 Co2 Ni2 Al2",
          "Cr1 Fe1 Co1 Ni1 Cu1 Al1.5",
          "Cr1 Mn1 Fe1 Co1 Ni1.05",
          "Fe10 Co10 Ni10 Cu10 Sn1",
          "Cr14.78 Mn14.19 Fe14.26 Co14.78 Ni14.56 C1",
          "Cr2.25 Fe2.25 Co1 Ni2.25 Al2.25",
          "Cr2.52 Fe2.52 Co2.52 Ni2.52 Cu1 Al2.27",
          "Cr1.33 Fe1.33 Co1.33 Ni1.33 Al1",
          "Ta1 Cr5 Mn5 Fe5 Co5 Ni5 Al2.5",
          "V3.2 Cr2 Fe2 Co2 Ni2 Cu2 Al1",
          "Mo1 Cr2.5 Fe2.5 Co2.5 Ni2.5 Al2.5",
          "Cr2.25 Fe2.25 Co1 Ni2.25 Cu2.25",
          "Cr1 Fe1 Co1 Ni1 Cu1 Al1.8",
          "Ti2.4 Cr2 Fe2 Co2 Ni2 Cu2 Al1",
          "Cr1 Fe1 Co1 Ni2 Al1",
          "Ti1 Cr5 Fe5 Co5 Ni5 Al9",
          "Mo1 Cr2 Fe2 Co2 Ni2",
          "Fe1 Co1 Ni1 Cu1",
          "Cr4.2 Fe1.6 Co4.6 Ni1 Al8.6",
          "Cr2.33 Mn2.33 Fe2.33 Co2.33 Ni2.33 Al1",
          "Ti1 Cr1.33 Fe1.33 Co1.33 Ni1.33 Al1.6",
          "Mo1 Cr4.96 Fe4.96 Ni4.96 Al4.96",
          "Cr1 Fe1 Co1 Ni1",
          "Cr1 Fe1 Co1 Ni1 Al2.99",
          "W1 Cr2 Fe2 Co2 Ni2",
          "Cr1 Mn1 Fe1 Co1 Ni1 Al1",
          "V1 Cr3.8 Mn3.8 Fe3.8 Co3.8 Ni3.8",
          "Cr2 Fe2 Co4 Ni2 Cu1 Al2",
          "Cr3.98 Fe4.96 Co3.98 Ni4.96 Al1",
          "Cr6.34 Fe6.34 Co6.34 Al1",
          "Nb1 Cr3.24 Fe3.24 Co3.24 Ni3.24",
          "Cr1.25 Fe1.25 Co1.25 Ni1.25 Al1.25 Si1",
          "Cr1 Fe1 Co1 Ni1 Cu1",
          "Nb1 Cr4 Fe4 Co4 Ni4 Al4",
          "Cr1 Fe1 Co1 Ni1.96 Al1",
          "Ti1 Cr5 Fe5 Co5 Ni5 Cu5 Al2.51",
          "Mo1 Cr2 Fe1.2 Co2 Ni2 Al2",
          "Ti1 Cr2 Fe2 Co2 Ni2 Cu2",
          "Mo1 Cr2 Fe2 Co2 Ni2 Al3",
          "Mo1 Cr2 Fe2 Co2 Ni4 Al2",
          "Cr3 Fe2 Co3.6 Ni1 Cu1 Al9.4",
          "Cr1.67 Mn1 Fe1.67 Co1.67 Ni1.67 Al1.67",
          "Ti1 Cr5.05 Fe5.05 Co5.05 Ni5.05 Al5.05",
          "Cr1.67 Fe1.67 Co1.67 Ni1.67 Al1.67 Si1",
          "Ti1.5 Mo1 Cr2 Fe2 Ni2 Al2",
          "Mo1 Cr5 Fe5 Co5 Ni5 Al5",
          "Cr4.76 Fe4.76 Co4.76 Ni1 Al4.76",
          "W1 Cr3.8 Mn3.8 Fe3.8 Co3.8 Ni3.8",
          "Cr1.13 Mn1.13 Fe1.13 Co1.13 Ni1.13 Al1",
          "Ta1.09 Cr1.82 Mn1.82 Fe1.82 Co1.82 Ni1.82 Al1",
          "Cr4.76 Fe4.76 Co1 Ni4.76 Al4.76",
          "Ti1 Cr1.25 Fe1.25 Co1.25 Ni1.25 Al1.5",
          "Cr2.01 Fe2.01 Co3.01 Ni2.01 Cu1 Al2.01",
          "Mo1 Cr2.01 Fe3.01 Co2.01 Ni2.01 Al2.01",
          "Ti1 Cr5 Fe5 Co5 Ni5",
          "Cr1.89 Fe1.89 Co1.89 Ni1",
          "Cr2.5 Fe2.5 Co2.5 Ni2.5 Al2.5 Si1",
          "Cr3.34 Mn1 Fe3.34 Co3.34 Ni3.34 Al1",
          "Cr2 Fe2 Co2 Ni2 Cu1.51 Al1",
          "Ti1 Cr1 Fe1 Co1 Ni1 Cu1 Al1",
          "Cr1 Fe1 Co1 Ni1 Al1.5",
          "Ti1 Cr2 Fe2 Co2 Ni2 Al1.8",
          "Cr1.14 Fe1.14 Co1.14 Ni1.14 Al1",
          "Ti2 Cr4 Fe4 Co4 Ni4 Cu1 Al3",
          "V1 Cr5 Fe5 Co5 Ni5 Cu5 Al2.5",
          "Cr1 Mn1 Fe1 Co1 Ni1 Al1.25",
          "Cr1 Fe1 Co1 Ni1 Al2.5",
          "Cr2.86 Fe1.71 Co2.57 Ni1 Al6.14",
          "Cr3.33 Mn3.33 Fe3.33 Co3.33 Ni3.33 Al1",
          "Cr3.33 Fe3.33 Co3.33 Ni3.33 Al1",
          "Cr1 Fe2 Co2 Ni1 Cu1 Al6",
          "Cr2 Fe2 Co2 Ni2 Cu1 Al2",
          "Cr3.2 Fe2 Co3.4 Ni1 Cu1 Al9.4",
          "Cr1 Fe1 Co1 Ni1.5 Al1",
          "Cr18.53 Mn17.98 Fe17.89 Co17.89 Ni18.44 C1",
          "Cr1.05 Mn1.05 Fe1.05 Co1.05 Ni1.05 Al1",
          "Ti1.2 Cr2 Fe2 Co2 Ni2 Cu2 Al1",
          "Fe1.33 Co1.33 Ni1.33 Al1",
          "Cr9.8 Mn9.8 Fe9.8 Co9.8 Ni9.8 C1",
          "V1 Cr1.33 Mn1.33 Fe1.33 Co1.33 Ni1.33",
          "Mo1 Cr3.29 Fe3.29 Co3.29 Ni3.29",
          "V1 Cr4 Mn4 Fe4 Co4 Ni4",
          "Cr3.4 Fe2.8 Co3 Ni1.2 Cu1 Al8.6",
          "V2.39 Cr1.99 Fe1.99 Co1.99 Ni1.99 Cu1.99 Al1",
          "Cr2 Fe2 Co2 Ni2 Cu2 Al1 B1.2",
          "Mo1 Cr1 Fe1 Ni1 Al1",
          "Mo1 Cr1.25 Fe1.25 Ni1.25 Al1.25",
          "Ti1 Cr2 Fe2 Co2 Ni2 Cu1 Al1",
          "Cr2.25 Fe2.25 Co2.25 Ni1 Al2.25",
          "Cr1.42 Fe1.42 Co1.42 Ni1 Al1.42",
          "Ti1 Cr12 Fe12 Co12 Ni12 Al2",
          "Ti1 Cr5 Fe5 Co5 Ni5 Al4",
          "Cr1 Fe1 Co1 Ni2.22 Al1",
          "Cr1.43 Fe1.43 Co1.43 Ni1.43 Al1",
          "Mo1 Cr3.33 Fe3.33 Co3.33 Ni3.33 Al3.33",
          "Ti4 Cr2 Fe2 Co2 Ni2 Cu2 Al1",
          "Cr1.5 Fe2.5 Co2.5 Ni2.5 Al1",
          "Cr2.01 Fe3.01 Co2.01 Ni2.01 Cu1 Al2.01",
          "V1 Cr1 Fe1 Co1 Ni1 Cu1 Al1",
          "Cr4.76 Fe1 Co4.76 Ni4.76 Al4.76",
          "Cr1 Fe2.25 Co2.25 Ni2.25 Cu2.25",
          "Ti1.5 Cr1.25 Fe1.25 Co1.25 Ni1.25 Al1",
          "Cr1.67 Fe1.67 Co1.67 Ni1.67 Al1",
          "Cr1 Fe1 Co1 Ni1 Cu1 Al1",
          "Cr3.34 Mn2 Fe3.34 Co3.34 Ni3.34 Al1",
          "Ti1 Cr2.5 Fe2.5 Co2.5 Ni2.5 Cu2.5 Al1.25",
          "Mo1 Cr2 Fe2 Co2 Ni2 Al2",
          "Mo1 Cr10.17 Fe10.17 Co10.17 Ni10.17",
          "Cr4.8 Fe2 Co3.6 Ni1 Al8.6",
          "Ti1 Cr2 Fe2 Co2 Ni2",
          "V1 Cr3.96 Mn3.96 Fe3.96 Co3.96 Ni3.96",
          "Cr2.01 Fe2.01 Co2.01 Ni3.01 Cu1 Al2.01",
          "V1 Cr2.49 Fe2.49 Co2.49 Ni2.49 Cu2.49 Al1.25",
          "Cr2 Fe2 Co2 Ni2 Al2 C1",
          "Cr1 Fe1 Co1 Ni1 Cu1 Al2.3",
          "Cr4.76 Fe4.76 Co1 Ni4.76 Cu4.76",
          "Mo1 Cr2 Fe2 Co3 Ni2 Al2",
          "Cr1.33 Fe1.33 Co1 Ni1.33 Al1.33",
          "Cr9.8 Mn9.8 Fe9.8 Co9.8 Ni9.8 Al1",
          "Nb1 Cr2.43 Fe2.43 Co2.43 Ni2.43",
          "Cr4.6 Fe1.4 Co4.4 Ni1 Al8.6",
          "Cr3.6 Fe1 Co5.8 Ni1 Al8.6",
          "Cr1 Fe1 Co1 Ni1 Cu1 Al3",
          "V3.6 Cr2 Fe2 Co2 Ni2 Cu2 Al1",
          "Cr3.14 Fe1.14 Co2.86 Ni1 Al6.14",
          "Cr10.17 Fe10.17 Co10.17 Ni10.17 Al1",
          "Cr2.67 Fe2.67 Co2.67 Ni2.67 Al1",
          "Cr3 Fe3 Co3 Al1",
          "Ti1 Mo1 Cr2 Fe2 Ni2 Al2",
          "Cr4 Fe2.2 Co2.4 Ni1 Cu1 Al9.4",
          "Cr2.25 Fe1 Co2.25 Ni2.25 Cu2.25",
          "Mo1 Cr2 Fe4 Co2 Ni2 Al2",
          "Cr4 Fe5 Co5 Ni5 Al1",
          "Cr9.8 Fe9.8 Co9.8 Ni9.8 Cu1 Al9.8",
          "Cr5 Fe1 Co4.4 Ni1 Al8.6",
          "W1 Cr6.47 Mn6.47 Fe6.47 Co6.47 Ni6.47",
          "V2.4 Cr2 Fe2 Co2 Ni2 Cu2 Al1",
          "Nb1 Cr24.6 Mn24.6 Fe24.6 Co24.6 Ni24.6 C1",
          "Cr1 Fe1 Ni1 Al1",
          "Cr1.33 Mn1.33 Fe1.33 Co1.33 Ni1.33 Al1",
          "Cr2.04 Mn2.04 Fe2.04 Co2.04 Ni2.04 Al1",
          "Cr1.89 Fe1.89 Co1.89 Al1",
          "Cr1.81 Fe1.54 Co1.54 Ni1.81 Al1",
          "Ti1 Cr3.33 Fe3.33 Co3.33 Ni3.33",
          "Cr2.88 Fe1.88 Co1.88 Ni2 Cu1 Al2.88",
          "Cr1 Fe1 Co1 Ni1 Cu1 Al2",
          "Cr1.14 Mn1.14 Fe1.14 Co1.14 Ni1.14 Al1",
          "Cr1 Fe2 Co2 Ni2 Al1",
          "Cr10 Fe10 Co10 Ni10 Al10 C1",
          "Cr2.62 Mn2.62 Fe2.62 Co2.62 Ni2.62 Al1",
          "Cr1.47 Mn1.47 Fe1.47 Co1.47 Ni1.47 Al1",
          "Cr1 Co1 Ni1 Al1",
          "V1 Cr1.31 Mn1.31 Fe1.31 Co1.31 Ni1.31",
          "Cr1 Fe1 Ni1 Cu1"
         ],
         "legendgroup": "2",
         "marker": {
          "color": "#FB0D0D",
          "symbol": "circle"
         },
         "mode": "markers",
         "name": "2",
         "showlegend": true,
         "type": "scattergl",
         "x": [
          -63.731353759765625,
          -10.466943740844727,
          4.895731449127197,
          -35.22917175292969,
          -2.9602980613708496,
          -55.76832580566406,
          -28.390363693237305,
          -57.937591552734375,
          -49.31209945678711,
          -45.67291259765625,
          -47.92549133300781,
          -47.53269958496094,
          -8.648494720458984,
          -53.88550567626953,
          -48.938804626464844,
          -38.8458251953125,
          -32.77231979370117,
          -2.558803081512451,
          -7.227632999420166,
          -9.744912147521973,
          -43.296234130859375,
          -0.5050848722457886,
          -57.25978088378906,
          -16.67597198486328,
          -32.535709381103516,
          -8.727391242980957,
          -35.91059494018555,
          -16.24266815185547,
          -32.997215270996094,
          -13.010985374450684,
          -30.326290130615234,
          -3.4335808753967285,
          -4.14647912979126,
          -29.279260635375977,
          -1.9583830833435059,
          -9.17744255065918,
          -27.878448486328125,
          -29.716367721557617,
          -37.3541259765625,
          -6.992440223693848,
          4.397024631500244,
          -13.011540412902832,
          -47.852325439453125,
          -48.593650817871094,
          -35.200618743896484,
          -63.49031066894531,
          -64.77540588378906,
          -52.781551361083984,
          -49.15623092651367,
          -35.77947235107422,
          -12.697256088256836,
          -35.564231872558594,
          -33.59772872924805,
          -39.47940444946289,
          -47.40877914428711,
          -3.966423511505127,
          -4.4557647705078125,
          -58.650352478027344,
          -26.58110237121582,
          -51.143585205078125,
          -55.621795654296875,
          -48.50870895385742,
          -11.335315704345703,
          -61.53981018066406,
          -61.62699508666992,
          -8.674799919128418,
          -7.425867557525635,
          -13.990354537963867,
          -28.096853256225586,
          -42.92323684692383,
          -48.611053466796875,
          -36.728633880615234,
          -13.510077476501465,
          -36.17932891845703,
          -57.02628707885742,
          -30.44432830810547,
          -13.05295467376709,
          -63.385345458984375,
          -7.985000133514404,
          -37.20881652832031,
          -18.981975555419922,
          -47.81981658935547,
          -45.66587829589844,
          -16.00359535217285,
          -6.960211277008057,
          -63.259246826171875,
          -14.101302146911621,
          -37.40373229980469,
          -41.9929313659668,
          -57.88174819946289,
          -51.979591369628906,
          -29.83212661743164,
          -9.099241256713867,
          -16.465639114379883,
          -42.0234489440918,
          -27.585174560546875,
          -51.56544494628906,
          4.665985107421875,
          -6.598808288574219,
          -57.27410125732422,
          -23.8546199798584,
          -13.885848999023438,
          -39.76884841918945,
          -1.821645975112915,
          -10.514965057373047,
          -48.29182815551758,
          -16.966232299804688,
          -51.68407440185547,
          -28.15549659729004,
          -12.411643028259277,
          -26.924957275390625,
          -32.87885284423828,
          5.5242414474487305,
          -35.54551315307617,
          -12.99264144897461,
          -15.953699111938477,
          -12.87255573272705,
          -16.242799758911133,
          -4.203193187713623,
          -54.48096466064453,
          3.4910030364990234,
          -27.604127883911133,
          -55.101680755615234,
          -37.73844528198242,
          -31.81692123413086,
          -1.716454029083252,
          4.633718013763428,
          -25.466825485229492,
          -44.602264404296875,
          -34.96327590942383,
          -3.6986958980560303,
          -26.455759048461914,
          -23.178272247314453,
          -31.66356658935547,
          -48.186126708984375,
          -23.45896339416504,
          -55.01203918457031,
          -13.565247535705566,
          -46.65599060058594,
          3.4716362953186035,
          -42.90296936035156,
          0.8811072707176208,
          -51.010101318359375,
          -53.28840255737305,
          -52.764404296875,
          -11.572619438171387,
          -41.251365661621094,
          -15.340235710144043,
          -16.280118942260742,
          -14.963271141052246,
          -51.807579040527344,
          -40.81076431274414,
          -44.71092224121094,
          -48.402626037597656,
          -60.7095832824707,
          -27.40888214111328,
          -12.573318481445312,
          -2.5545291900634766,
          -34.97549819946289,
          -10.921563148498535,
          -45.6890983581543,
          -25.559438705444336,
          -56.00664138793945,
          -29.71475601196289,
          -9.055998802185059,
          -31.150257110595703,
          -43.95399856567383,
          -28.79391098022461,
          -3.541351318359375,
          -55.43873977661133,
          -53.721839904785156,
          -13.463923454284668,
          -13.791950225830078,
          5.3552422523498535,
          2.126063108444214,
          -43.961280822753906,
          -60.08003616333008,
          -60.6004638671875,
          -3.6093897819519043,
          -38.172061920166016,
          3.490279197692871,
          -16.25450325012207,
          -28.494522094726562,
          -26.075258255004883,
          -13.770515441894531,
          -14.050886154174805,
          -31.49185562133789,
          -4.202977657318115,
          -13.079513549804688,
          -61.864383697509766,
          -16.222394943237305,
          -35.1920051574707,
          -13.367003440856934,
          -16.02579689025879,
          -3.099202871322632,
          -11.691729545593262,
          -50.81527328491211,
          -7.0444207191467285,
          -48.84817886352539,
          -38.90462875366211,
          -13.270198822021484,
          -13.32119369506836,
          -45.84687042236328,
          -14.87710952758789,
          -9.221586227416992,
          -40.400508880615234,
          -40.55416488647461,
          -40.213287353515625,
          -63.09452438354492,
          -46.55545425415039,
          -30.24633026123047,
          2.1518394947052,
          -10.867549896240234,
          -44.363929748535156,
          1.386346697807312,
          -13.558477401733398,
          -65.41654968261719,
          -43.11370849609375,
          -28.67359733581543,
          -11.894046783447266,
          -54.14427185058594,
          -13.353788375854492,
          -1.8189291954040527,
          -7.819052696228027,
          -58.703956604003906,
          -46.57319641113281,
          -52.70777130126953,
          -10.311203956604004,
          -12.640183448791504,
          -30.650859832763672,
          -43.705047607421875,
          -63.77992630004883,
          -46.63046646118164,
          -44.76200485229492,
          -27.585189819335938,
          -11.474971771240234,
          -60.17279052734375,
          -47.42009353637695,
          -7.392257213592529,
          -58.03894805908203,
          -29.30657386779785,
          0.876899003982544,
          -12.789040565490723,
          -3.3964684009552,
          -37.31067657470703,
          -63.777137756347656,
          -13.139582633972168,
          -55.69929504394531,
          -15.346426963806152,
          -45.66275405883789,
          -32.29701232910156,
          -7.219982147216797,
          -32.922611236572266,
          -62.993770599365234,
          -53.51372528076172,
          -16.36730194091797,
          -31.15934944152832,
          -14.321853637695312,
          -38.9195556640625,
          3.2542221546173096,
          -54.52473831176758,
          -8.996935844421387,
          -13.307510375976562,
          -37.20562744140625,
          -2.9890193939208984,
          -4.64389181137085,
          -4.202730655670166,
          -1.9335519075393677,
          -14.021455764770508,
          -63.7098503112793,
          -12.87177848815918,
          2.721013069152832,
          -39.506072998046875,
          -7.077131748199463,
          -13.699106216430664,
          -42.62570571899414,
          -62.37743377685547,
          -60.866722106933594,
          -45.7603645324707,
          -15.521989822387695,
          -16.742868423461914,
          -18.979656219482422,
          -18.108633041381836,
          -29.74846649169922,
          1.9298830032348633,
          -49.28557205200195,
          -37.85013961791992,
          -0.2983247935771942,
          -2.267437696456909,
          -12.313572883605957,
          -8.979228973388672,
          -11.28937816619873,
          -40.80992889404297,
          -63.493526458740234,
          -6.749363422393799,
          -13.72280502319336,
          -54.3572998046875,
          -36.14696502685547,
          -16.03971290588379,
          -28.141843795776367,
          -13.891626358032227,
          -14.376124382019043,
          -46.31165313720703,
          -62.797210693359375,
          -3.2317607402801514,
          -26.510055541992188,
          -47.095703125,
          -55.565895080566406,
          -36.73109817504883,
          -53.47111129760742,
          -12.031959533691406,
          -45.70649337768555,
          -40.36753845214844,
          -40.947547912597656,
          -41.01034164428711,
          -7.496398448944092,
          -13.974509239196777,
          -14.090717315673828,
          -35.553009033203125,
          -12.742267608642578,
          -12.21253490447998,
          -11.921846389770508,
          -7.2055792808532715,
          5.352023601531982,
          -30.077783584594727,
          -23.495119094848633,
          -43.783721923828125,
          5.501733303070068,
          -57.8942756652832,
          -16.199142456054688,
          -12.93908405303955,
          -32.65299606323242,
          -50.80857467651367,
          -4.4639787673950195,
          -7.509622573852539,
          -33.96542739868164,
          -15.252717018127441,
          -16.907649993896484,
          -53.47690963745117,
          -14.92364501953125,
          -42.002323150634766,
          -2.852825403213501,
          -28.166263580322266,
          -58.60689926147461,
          -13.013614654541016,
          -6.360685348510742,
          -51.814937591552734,
          -39.1713981628418,
          -13.69449520111084,
          -11.948284149169922,
          -27.357194900512695,
          -48.1658935546875,
          -13.978082656860352,
          -31.809890747070312,
          -36.72389221191406,
          -14.230193138122559,
          -39.98366165161133,
          -8.414053916931152,
          -52.287742614746094,
          -19.793109893798828,
          -30.80067253112793,
          -6.908815860748291,
          -14.16933536529541,
          -43.08308029174805,
          -45.70780944824219,
          -46.41197967529297,
          -47.047325134277344,
          -60.79792404174805,
          -56.867218017578125,
          -14.037230491638184,
          -13.874582290649414,
          -17.86455726623535,
          -25.58390235900879,
          -28.843385696411133,
          -62.30900573730469,
          -29.687686920166016,
          -4.989985942840576,
          -55.12242889404297,
          -59.822547912597656,
          5.832650184631348,
          -55.48834228515625,
          -58.83246612548828
         ],
         "xaxis": "x",
         "y": [
          18.549890518188477,
          -18.569124221801758,
          -31.058874130249023,
          15.027722358703613,
          -28.728179931640625,
          -7.8618388175964355,
          7.3366265296936035,
          30.486608505249023,
          24.903961181640625,
          -54.57617950439453,
          49.62052536010742,
          45.02942657470703,
          -14.037711143493652,
          -6.966306209564209,
          43.610836029052734,
          -6.390905857086182,
          30.697834014892578,
          -25.148971557617188,
          -45.357547760009766,
          -58.102264404296875,
          47.13473892211914,
          4.191123962402344,
          -10.11658000946045,
          5.14906120300293,
          31.269060134887695,
          -56.380592346191406,
          26.750072479248047,
          24.66045379638672,
          -27.51473045349121,
          -24.732189178466797,
          -16.992820739746094,
          -39.79787826538086,
          -33.78609085083008,
          10.25693130493164,
          -38.282958984375,
          -58.220375061035156,
          -33.913063049316406,
          -17.851600646972656,
          15.726526260375977,
          -21.666276931762695,
          -30.49090003967285,
          -75.71138000488281,
          -57.79324722290039,
          5.890018939971924,
          18.27962875366211,
          0.31472519040107727,
          1.1042990684509277,
          36.754173278808594,
          43.39495849609375,
          26.8203125,
          -55.0483512878418,
          17.07161521911621,
          27.839183807373047,
          -7.042652606964111,
          3.9556829929351807,
          8.610588073730469,
          3.980699300765991,
          29.321569442749023,
          -31.15814208984375,
          -10.63608169555664,
          -7.7773051261901855,
          44.03369140625,
          48.72242736816406,
          24.721940994262695,
          24.573442459106445,
          -14.863668441772461,
          -45.78428268432617,
          -24.53486442565918,
          -20.088459014892578,
          47.559547424316406,
          5.899320602416992,
          14.180678367614746,
          3.1996092796325684,
          15.612517356872559,
          31.723880767822266,
          13.00143051147461,
          -10.416471481323242,
          -0.7480012774467468,
          -18.331192016601562,
          -5.347471237182617,
          -16.451597213745117,
          48.305667877197266,
          -58.852230072021484,
          9.741140365600586,
          -18.159067153930664,
          -0.09466416388750076,
          2.7443037033081055,
          31.263765335083008,
          -3.4110705852508545,
          30.571218490600586,
          -5.110648155212402,
          6.463510990142822,
          -14.314215660095215,
          8.761198043823242,
          40.68901443481445,
          -34.515464782714844,
          -10.466867446899414,
          1.1101670265197754,
          6.409516334533691,
          -5.623770713806152,
          -25.661619186401367,
          -50.44590377807617,
          -65.94039154052734,
          4.3247389793396,
          -57.75029373168945,
          50.32654571533203,
          4.381466388702393,
          -4.802706718444824,
          8.266201972961426,
          46.01359176635742,
          -20.198219299316406,
          -27.937183380126953,
          -31.77484130859375,
          17.116788864135742,
          -0.5851151943206787,
          7.295063495635986,
          -75.92841339111328,
          -59.98987579345703,
          -16.349830627441406,
          46.712406158447266,
          -19.27436637878418,
          7.587063789367676,
          33.61329650878906,
          31.449987411499023,
          23.760332107543945,
          -38.00611877441406,
          1.1365668773651123,
          8.240178108215332,
          -53.46083450317383,
          27.224477767944336,
          -40.116886138916016,
          -30.76826286315918,
          -16.30430030822754,
          23.091888427734375,
          5.195969104766846,
          -25.516584396362305,
          62.320068359375,
          -33.57991027832031,
          -57.474609375,
          1.919955849647522,
          39.923397064208984,
          3.5602805614471436,
          -10.715957641601562,
          -9.119399070739746,
          36.77891540527344,
          -10.577728271484375,
          -63.533607482910156,
          6.635987758636475,
          -60.0412483215332,
          -71.2427978515625,
          38.15789031982422,
          -4.595700263977051,
          0.08975093066692352,
          -57.85359191894531,
          26.065858840942383,
          7.159783363342285,
          45.66645812988281,
          -25.14796257019043,
          27.220821380615234,
          -11.41889476776123,
          46.97026062011719,
          -27.177108764648438,
          63.5892448425293,
          27.607648849487305,
          -56.71237564086914,
          -29.687593460083008,
          -0.9846956133842468,
          9.286465644836426,
          -15.821088790893555,
          62.983245849609375,
          46.86700439453125,
          -73.37925720214844,
          -70.39103698730469,
          0.6817085146903992,
          2.8018946647644043,
          -0.9896162152290344,
          27.055179595947266,
          33.810997009277344,
          8.687499046325684,
          31.699195861816406,
          1.9084593057632446,
          -59.9959716796875,
          -19.65018653869629,
          -21.19129753112793,
          -34.265869140625,
          -50.361412048339844,
          27.60777473449707,
          -33.046165466308594,
          44.99724578857422,
          -1.3610717058181763,
          6.432774543762207,
          18.315013885498047,
          -69.38398742675781,
          24.317445755004883,
          -15.43405818939209,
          47.640132904052734,
          26.385019302368164,
          6.289177417755127,
          -57.87081527709961,
          -6.129432201385498,
          -7.781976222991943,
          -75.59127807617188,
          -53.51984405517578,
          38.65155029296875,
          -56.246578216552734,
          -9.046754837036133,
          -64.61222076416016,
          -65.20122528076172,
          -0.3667556047439575,
          2.579549551010132,
          6.005049228668213,
          2.78471040725708,
          48.401493072509766,
          46.41954803466797,
          -19.0495662689209,
          -68.79296875,
          1.4436144828796387,
          -2.1272506713867188,
          -19.332550048828125,
          -9.88122272491455,
          46.78612518310547,
          43.70064163208008,
          4.321102619171143,
          -56.36790466308594,
          29.223478317260742,
          2.6059377193450928,
          -5.843413352966309,
          -18.558998107910156,
          3.83681058883667,
          -30.423110961914062,
          46.93751525878906,
          0.6889848709106445,
          47.62385177612305,
          -53.58241271972656,
          -20.8354434967041,
          -10.691890716552734,
          33.50634765625,
          3.9736547470092773,
          -24.866968154907227,
          -11.015409469604492,
          -32.04959487915039,
          3.558950185775757,
          44.92689514160156,
          -39.634727478027344,
          26.146007537841797,
          -0.9209161996841431,
          -73.4447250366211,
          33.00469970703125,
          5.597005844116211,
          -58.85528564453125,
          27.91883659362793,
          -45.34839630126953,
          32.03455352783203,
          22.233673095703125,
          59.90216064453125,
          -24.019319534301758,
          14.658539772033691,
          -36.046348571777344,
          32.141326904296875,
          -19.249380111694336,
          -7.547224998474121,
          -18.434690475463867,
          44.69505310058594,
          -5.346254825592041,
          -28.71271514892578,
          8.380300521850586,
          -33.04895782470703,
          -24.945728302001953,
          -55.967472076416016,
          18.668256759643555,
          -1.1044830083847046,
          -19.193233489990234,
          -66.30477905273438,
          -22.71550941467285,
          -32.926025390625,
          40.123741149902344,
          23.30552101135254,
          33.99517822265625,
          -54.728553771972656,
          5.769306182861328,
          -23.93733787536621,
          -16.452709197998047,
          26.260147094726562,
          27.69979476928711,
          -19.109100341796875,
          24.881834030151367,
          -7.3414506912231445,
          5.6177778244018555,
          -38.612327575683594,
          4.040163040161133,
          -14.467728614807129,
          4.571761608123779,
          -4.597568511962891,
          21.598970413208008,
          -44.697181701660156,
          -68.36310577392578,
          34.53086853027344,
          15.692225456237793,
          -50.73060989379883,
          -21.64481544494629,
          -55.89801025390625,
          43.78284454345703,
          47.31466293334961,
          22.555116653442383,
          4.1989922523498535,
          7.702373027801514,
          48.117332458496094,
          63.061424255371094,
          26.404071807861328,
          59.832611083984375,
          -56.08391571044922,
          1.3557987213134766,
          -8.972176551818848,
          -62.533424377441406,
          -62.75929641723633,
          6.129145622253418,
          -31.880157470703125,
          -31.285709381103516,
          20.26874542236328,
          -1.6827632188796997,
          46.4365119934082,
          -9.776450157165527,
          -23.86911392211914,
          0.6848747730255127,
          12.089897155761719,
          -16.50409507751465,
          0.4566209614276886,
          -31.74968719482422,
          -5.016794204711914,
          9.115437507629395,
          -8.345831871032715,
          -27.799583435058594,
          26.396331787109375,
          3.9797253608703613,
          -25.45953369140625,
          27.702823638916016,
          -71.14290618896484,
          25.822519302368164,
          59.84135055541992,
          38.66654968261719,
          -3.4009158611297607,
          -15.20314884185791,
          -33.37718963623047,
          -11.656539916992188,
          -24.731853485107422,
          -18.92243194580078,
          38.14667510986328,
          32.28483200073242,
          -73.80028533935547,
          -76.78085327148438,
          -34.88059997558594,
          5.157985210418701,
          -70.78466033935547,
          23.775604248046875,
          14.195592880249023,
          -35.749324798583984,
          -65.5963363647461,
          -56.051025390625,
          -9.913714408874512,
          -16.105379104614258,
          13.949651718139648,
          -17.62782096862793,
          -74.99832153320312,
          39.81120681762695,
          1.352057933807373,
          46.495914459228516,
          -57.611297607421875,
          25.915206909179688,
          31.897029876708984,
          -35.135231018066406,
          -9.68550968170166,
          26.18160629272461,
          -27.17046546936035,
          -32.5601921081543,
          23.424272537231445,
          11.172539710998535,
          -16.93459701538086,
          33.59287643432617,
          27.459606170654297,
          -32.12617111206055,
          63.3596076965332,
          -11.839144706726074
         ],
         "yaxis": "y"
        },
        {
         "hovertemplate": "<b>%{hovertext}</b><br><br>Cluster #=3<br>37D->2D TSNE1=%{x}<br>37D->2D TSNE2=%{y}<extra></extra>",
         "hovertext": [
          "Ti2 Nb2 V2 Mo1 Cr1",
          "Ti4 Nb4 V4 Mo2 Cr1",
          "Ti2 Nb2 V2 Mo1 Cr1.5",
          "Ti2 Nb2 V2 Mo1",
          "Ti2 Nb2 V2 Mo1 Cr2"
         ],
         "legendgroup": "3",
         "marker": {
          "color": "#DA16FF",
          "symbol": "circle"
         },
         "mode": "markers",
         "name": "3",
         "showlegend": true,
         "type": "scattergl",
         "x": [
          30.987247467041016,
          31.903236389160156,
          30.16730499267578,
          32.4475212097168,
          29.59014129638672
         ],
         "xaxis": "x",
         "y": [
          -4.867208003997803,
          -4.5115132331848145,
          -5.204341411590576,
          -4.281274795532227,
          -5.494405269622803
         ],
         "yaxis": "y"
        },
        {
         "hovertemplate": "<b>%{hovertext}</b><br><br>Cluster #=4<br>37D->2D TSNE1=%{x}<br>37D->2D TSNE2=%{y}<extra></extra>",
         "hovertext": [
          "W1 Fe1.4 B1.2",
          "W1.2 Fe1.8 B1",
          "W1.18 Fe1.45 B1",
          "W1.17 Fe1.17 B1",
          "W1 Fe1.8 B1.2",
          "W1 Fe1.64 B1",
          "W1 Fe1.33 B1",
          "W1 Fe1.45 B1.18"
         ],
         "legendgroup": "4",
         "marker": {
          "color": "#222A2A",
          "symbol": "circle"
         },
         "mode": "markers",
         "name": "4",
         "showlegend": true,
         "type": "scattergl",
         "x": [
          -6.513219356536865,
          -5.390147686004639,
          -7.051942348480225,
          -7.804214954376221,
          -5.077546119689941,
          -5.181108474731445,
          -6.785282135009766,
          -6.39714241027832
         ],
         "xaxis": "x",
         "y": [
          86.02476501464844,
          87.75059509277344,
          87.27816772460938,
          87.1628646850586,
          86.84701538085938,
          87.32380676269531,
          86.7979965209961,
          86.14155578613281
         ],
         "yaxis": "y"
        },
        {
         "hovertemplate": "<b>%{hovertext}</b><br><br>Cluster #=5<br>37D->2D TSNE1=%{x}<br>37D->2D TSNE2=%{y}<extra></extra>",
         "hovertext": [
          "Zr3.33 Ti3.33 Ta1 Nb3.33",
          "Zr2 Ti2 Ta1 Nb2",
          "Zr5 Ti5 Ta2.5 Nb5 Al1",
          "Zr2.59 Ti2.53 Ta1 Nb2.89"
         ],
         "legendgroup": "5",
         "marker": {
          "color": "#B68100",
          "symbol": "circle"
         },
         "mode": "markers",
         "name": "5",
         "showlegend": true,
         "type": "scattergl",
         "x": [
          36.91276550292969,
          37.11406707763672,
          37.36943054199219,
          36.95178985595703
         ],
         "xaxis": "x",
         "y": [
          -31.26862335205078,
          -31.97907829284668,
          -32.86802673339844,
          -31.4765625
         ],
         "yaxis": "y"
        },
        {
         "hovertemplate": "<b>%{hovertext}</b><br><br>Cluster #=6<br>37D->2D TSNE1=%{x}<br>37D->2D TSNE2=%{y}<extra></extra>",
         "hovertext": [
          "Cr1.67 Mn1.67 Fe1.67 Ni1.67 Al1",
          "Cr1.43 Mn1.43 Fe1.43 Ni1.43 Al1",
          "Cr1.25 Mn1.25 Fe1.25 Ni1.25 Al1",
          "Cr2 Mn2 Fe2 Ni2 Al1"
         ],
         "legendgroup": "6",
         "marker": {
          "color": "#750D86",
          "symbol": "circle"
         },
         "mode": "markers",
         "name": "6",
         "showlegend": true,
         "type": "scattergl",
         "x": [
          -80.65398406982422,
          -80.41146850585938,
          -80.22781372070312,
          -80.89517211914062
         ],
         "xaxis": "x",
         "y": [
          22.838964462280273,
          22.976648330688477,
          23.05954360961914,
          22.708799362182617
         ],
         "yaxis": "y"
        },
        {
         "hovertemplate": "<b>%{hovertext}</b><br><br>Cluster #=7<br>37D->2D TSNE1=%{x}<br>37D->2D TSNE2=%{y}<extra></extra>",
         "hovertext": [
          "Ti20 Ta20 Mo20 Cr20 Al20 Si1",
          "Ti1 Ta1 Mo1 Cr1 Al1"
         ],
         "legendgroup": "7",
         "marker": {
          "color": "#EB663B",
          "symbol": "circle"
         },
         "mode": "markers",
         "name": "7",
         "showlegend": true,
         "type": "scattergl",
         "x": [
          30.045347213745117,
          30.043392181396484
         ],
         "xaxis": "x",
         "y": [
          11.442072868347168,
          11.444523811340332
         ],
         "yaxis": "y"
        },
        {
         "hovertemplate": "<b>%{hovertext}</b><br><br>Cluster #=8<br>37D->2D TSNE1=%{x}<br>37D->2D TSNE2=%{y}<extra></extra>",
         "hovertext": [
          "Zr3.33 Ti3.33 Nb3.33 V1 Mo3.33",
          "Zr3.33 Ti3.33 Nb3.33 V1 Mo1.67",
          "Zr1 Ti1 Nb1 Mo1",
          "Zr3.33 Ti3.33 Nb3.33 V1 Mo4.33",
          "Zr1 Ti1 Nb1 V1 Mo1.3",
          "Zr4 Ti4 Nb4 V1 Mo4",
          "Zr1.33 Ti1.33 Nb1.33 V1 Mo1.33",
          "Zr1 Ti1 Nb1 V1 Mo1.5",
          "Zr2 Ti2 Nb2 V2 Mo1",
          "Zr3.33 Ti3.33 Nb3.33 V1",
          "Zr1 Ti1 Nb1 V1.25 Mo1",
          "Zr1.43 Ti1.43 Nb1.43 V1.43 Mo1",
          "Zr1 Ti1 Nb1 V1 Mo1.7",
          "Zr1 Ti1 Nb1 V1 Mo2",
          "Zr3.33 Ti3.33 Nb3.33 V1 Mo1",
          "Zr3.33 Ti3.33 Nb3.33 V1 Mo2.33",
          "Zr2 Ti2 Nb2 V1 Mo2",
          "Zr1 Ti1 Nb1 V1 Mo1",
          "Zr1 Ti1 Nb1 V2 Mo1",
          "Zr3.33 Ti3.33 Nb3.33 V3.33 Mo1",
          "Zr10 Ti10 Nb10 V3 Mo1",
          "Zr3.33 Ti3.33 Nb3.33 V1 Mo5",
          "Zr1 Ti1 Nb1 V1.5 Mo1"
         ],
         "legendgroup": "8",
         "marker": {
          "color": "#511CFB",
          "symbol": "circle"
         },
         "mode": "markers",
         "name": "8",
         "showlegend": true,
         "type": "scattergl",
         "x": [
          53.53002166748047,
          51.41034698486328,
          53.4451789855957,
          54.76993942260742,
          56.532493591308594,
          53.52536392211914,
          55.19216537475586,
          57.058372497558594,
          52.336029052734375,
          37.76966094970703,
          54.22035598754883,
          52.993568420410156,
          57.38745880126953,
          57.61978530883789,
          38.15357208251953,
          51.8961296081543,
          53.617774963378906,
          54.961021423339844,
          52.7041015625,
          51.48499298095703,
          37.850582122802734,
          55.08763122558594,
          53.607093811035156
         ],
         "xaxis": "x",
         "y": [
          1.0067352056503296,
          0.18711361289024353,
          2.0813021659851074,
          1.2761695384979248,
          -5.592336654663086,
          1.2702831029891968,
          -5.394244194030762,
          -5.173364162445068,
          -9.575551986694336,
          -22.296199798583984,
          -6.996426105499268,
          -8.96647834777832,
          -4.736185550689697,
          -4.423600673675537,
          -21.408018112182617,
          0.4047219157218933,
          0.1493147909641266,
          -6.279409885406494,
          -6.744688510894775,
          -10.185247421264648,
          -22.096546173095703,
          1.2816135883331299,
          -7.00214147567749
         ],
         "yaxis": "y"
        },
        {
         "hovertemplate": "<b>%{hovertext}</b><br><br>Cluster #=9<br>37D->2D TSNE1=%{x}<br>37D->2D TSNE2=%{y}<extra></extra>",
         "hovertext": [
          "Cr1 Fe1 Co1 Cu1 Al3",
          "Cr1 Fe1 Co1 Cu1 Al1.8",
          "Cr1.25 Fe1.25 Co1.25 Cu1.25 Al1",
          "Cr1 Fe1 Co1 Cu1 Al1.99",
          "Cr1 Fe1 Co1 Cu1 Al1.5",
          "Cr1 Fe1 Co1 Cu1 Al2.5",
          "Cr1 Fe1 Co1 Cu1 Al2.3",
          "Cr1 Fe1 Co1 Cu1 Al1",
          "Cr1 Fe1 Co1 Cu1 Al2.8",
          "Cr3.33 Fe3.33 Co3.33 Cu3.33 Al1",
          "Cr1 Fe1 Co1 Cu1 Al1.3",
          "Cr1 Fe1 Co1 Cu1 Al2",
          "Cr2 Fe2 Co2 Cu2 Al1"
         ],
         "legendgroup": "9",
         "marker": {
          "color": "#00A08B",
          "symbol": "circle"
         },
         "mode": "markers",
         "name": "9",
         "showlegend": true,
         "type": "scattergl",
         "x": [
          -24.352088928222656,
          -26.880929946899414,
          -30.00908660888672,
          -26.389514923095703,
          -27.8646240234375,
          -25.053634643554688,
          -25.55016326904297,
          -29.360876083374023,
          -24.529376983642578,
          -31.598594665527344,
          -28.36063003540039,
          -26.35354995727539,
          -31.104169845581055
         ],
         "xaxis": "x",
         "y": [
          -50.04478454589844,
          -47.80375671386719,
          -45.101932525634766,
          -48.30915832519531,
          -46.7287712097168,
          -49.47542190551758,
          -49.05948257446289,
          -45.37260818481445,
          -49.90201187133789,
          -44.37890625,
          -46.148780822753906,
          -48.33965301513672,
          -44.60599899291992
         ],
         "yaxis": "y"
        },
        {
         "hovertemplate": "<b>%{hovertext}</b><br><br>Cluster #=10<br>37D->2D TSNE1=%{x}<br>37D->2D TSNE2=%{y}<extra></extra>",
         "hovertext": [
          "Ti27.54 V1 Al3.26",
          "Ti22.1 V1 Al2.62",
          "Ti27.45 V1 Al3.25",
          "Ti27.28 V1 Al3.23",
          "Ti27.63 V1 Al3.27",
          "Ti23.94 V1 Al2.83",
          "Ti27.81 V1 Al3.29",
          "Ti27.37 V1 Al3.24",
          "Ti22.68 V1 Al2.68",
          "Ti27.72 V1 Al3.28",
          "Ti27.11 V1 Al3.21",
          "Ti27.19 V1 Al3.22",
          "Ti23.3 V1 Al2.76"
         ],
         "legendgroup": "10",
         "marker": {
          "color": "#FB00D1",
          "symbol": "circle"
         },
         "mode": "markers",
         "name": "10",
         "showlegend": true,
         "type": "scattergl",
         "x": [
          18.18560028076172,
          17.44304656982422,
          17.648273468017578,
          16.75409507751465,
          18.670785903930664,
          16.6674747467041,
          19.266128540039062,
          17.240036010742188,
          17.163583755493164,
          19.03675651550293,
          16.185117721557617,
          16.37287139892578,
          16.892833709716797
         ],
         "xaxis": "x",
         "y": [
          -68.98867797851562,
          -76.06159973144531,
          -69.4082260131836,
          -70.12871551513672,
          -68.60098266601562,
          -75.9278564453125,
          -68.12055206298828,
          -69.73265075683594,
          -76.0245361328125,
          -68.29623413085938,
          -70.63140869140625,
          -70.45899963378906,
          -75.97645568847656
         ],
         "yaxis": "y"
        },
        {
         "hovertemplate": "<b>%{hovertext}</b><br><br>Cluster #=11<br>37D->2D TSNE1=%{x}<br>37D->2D TSNE2=%{y}<extra></extra>",
         "hovertext": [
          "Ti1 Cr1.67 Fe1.67 Ni1.67",
          "Ti1 Cr5 Fe5 Ni5 Al1",
          "Ti1 Cr4.98 Fe4.98 Ni4.98 Al1",
          "Ti1 Cr2.5 Fe2.5 Ni2.5",
          "Ti1 Cr2 Fe2 Ni2",
          "Cr1 Fe1 Ni1",
          "Ti1 Cr5 Fe5 Ni5",
          "Ti1 Cr3.33 Fe3.33 Ni3.33"
         ],
         "legendgroup": "11",
         "marker": {
          "color": "#FC0080",
          "symbol": "circle"
         },
         "mode": "markers",
         "name": "11",
         "showlegend": true,
         "type": "scattergl",
         "x": [
          -0.7063202261924744,
          -3.0674827098846436,
          -3.069810628890991,
          -1.3775871992111206,
          -0.9780387878417969,
          -2.378164291381836,
          -2.0954747200012207,
          -1.812995433807373
         ],
         "xaxis": "x",
         "y": [
          20.95476722717285,
          22.49160385131836,
          22.489322662353516,
          21.691560745239258,
          21.249357223510742,
          23.550872802734375,
          22.74436378479004,
          22.240835189819336
         ],
         "yaxis": "y"
        },
        {
         "hovertemplate": "<b>%{hovertext}</b><br><br>Cluster #=12<br>37D->2D TSNE1=%{x}<br>37D->2D TSNE2=%{y}<extra></extra>",
         "hovertext": [
          "Ti2 Ta2 Nb2 V2 Al1",
          "Ti1 Ta1 Nb1 V1",
          "Ti1.05 Ta1.27 Nb1.29 V1",
          "Ti4 Ta4 Nb4 V4 Al1"
         ],
         "legendgroup": "12",
         "marker": {
          "color": "#B2828D",
          "symbol": "circle"
         },
         "mode": "markers",
         "name": "12",
         "showlegend": true,
         "type": "scattergl",
         "x": [
          46.04065704345703,
          46.33803176879883,
          46.232566833496094,
          46.19921112060547
         ],
         "xaxis": "x",
         "y": [
          16.74781036376953,
          17.86294174194336,
          17.917409896850586,
          17.33670997619629
         ],
         "yaxis": "y"
        },
        {
         "hovertemplate": "<b>%{hovertext}</b><br><br>Cluster #=13<br>37D->2D TSNE1=%{x}<br>37D->2D TSNE2=%{y}<extra></extra>",
         "hovertext": [
          "Zr1 Ti4 Nb4 V4 Al4",
          "Ti1 Nb1 V1 Al1",
          "Zr1 Ti10 Nb10 V10 Al10",
          "Zr1 Ti2 Nb2 V2 Al2"
         ],
         "legendgroup": "13",
         "marker": {
          "color": "#6C7C32",
          "symbol": "circle"
         },
         "mode": "markers",
         "name": "13",
         "showlegend": true,
         "type": "scattergl",
         "x": [
          32.83129119873047,
          32.272647857666016,
          32.44232940673828,
          33.474021911621094
         ],
         "xaxis": "x",
         "y": [
          -13.523431777954102,
          -13.391164779663086,
          -13.42457103729248,
          -13.683834075927734
         ],
         "yaxis": "y"
        },
        {
         "hovertemplate": "<b>%{hovertext}</b><br><br>Cluster #=14<br>37D->2D TSNE1=%{x}<br>37D->2D TSNE2=%{y}<extra></extra>",
         "hovertext": [
          "Hf1 Zr1 Ti1 Ta1 Nb1 Mo1",
          "Hf1.5 Zr2.5 Ti2.5 Ta2.5 Nb2.5 Al1",
          "Hf2 Zr2 Ti2 Ta2 Nb2 Al1",
          "Hf4 Zr4 Ti4 Ta4 Nb4 Mo1",
          "Hf1.33 Zr1.33 Ti1.33 Ta1.33 Nb1.33 Mo1",
          "Hf1 Zr1 Ti1 Ta1 Nb1 Al1",
          "Hf1.02 Zr1.01 Ti1.07 Ta1.08 Nb1",
          "Hf1 Zr1 Ti1 Ta1 Nb1",
          "Hf3.33 Zr3.33 Ti3.33 Ta3.33 Nb3.33 Al1",
          "Hf2 Zr2 Ti2 Ta2 Nb2 Mo1",
          "Hf1.33 Zr1.33 Ti1.33 Ta1.33 Nb1.33 Al1"
         ],
         "legendgroup": "14",
         "marker": {
          "color": "#778AAE",
          "symbol": "circle"
         },
         "mode": "markers",
         "name": "14",
         "showlegend": true,
         "type": "scattergl",
         "x": [
          62.93837356567383,
          58.85971450805664,
          59.13483428955078,
          61.70453643798828,
          62.75383377075195,
          58.23236083984375,
          61.37850570678711,
          61.28899002075195,
          59.747135162353516,
          62.348758697509766,
          58.51508712768555
         ],
         "xaxis": "x",
         "y": [
          -26.28443145751953,
          -30.056123733520508,
          -30.629383087158203,
          -28.583654403686523,
          -26.64449691772461,
          -31.49234962463379,
          -29.57712745666504,
          -29.48263168334961,
          -30.23343849182129,
          -27.397972106933594,
          -31.16682243347168
         ],
         "yaxis": "y"
        },
        {
         "hovertemplate": "<b>%{hovertext}</b><br><br>Cluster #=15<br>37D->2D TSNE1=%{x}<br>37D->2D TSNE2=%{y}<extra></extra>",
         "hovertext": [
          "Zr3.33 Ti3.33 Nb3.33 Re1",
          "Zr2.85 Ti2.69 Nb3.17 Re1"
         ],
         "legendgroup": "15",
         "marker": {
          "color": "#862A16",
          "symbol": "circle"
         },
         "mode": "markers",
         "name": "15",
         "showlegend": true,
         "type": "scattergl",
         "x": [
          35.005096435546875,
          34.95810317993164
         ],
         "xaxis": "x",
         "y": [
          -24.128646850585938,
          -24.1140079498291
         ],
         "yaxis": "y"
        },
        {
         "hovertemplate": "<b>%{hovertext}</b><br><br>Cluster #=16<br>37D->2D TSNE1=%{x}<br>37D->2D TSNE2=%{y}<extra></extra>",
         "hovertext": [
          "Hf7.5 Ti33 Nb1 Si16",
          "Hf12.5 Ti33 Nb1 Si16",
          "Hf10 Ti33 Nb1 Si16"
         ],
         "legendgroup": "16",
         "marker": {
          "color": "#A777F1",
          "symbol": "circle"
         },
         "mode": "markers",
         "name": "16",
         "showlegend": true,
         "type": "scattergl",
         "x": [
          32.535308837890625,
          33.24769973754883,
          32.9199104309082
         ],
         "xaxis": "x",
         "y": [
          -77.91126251220703,
          -77.80683135986328,
          -77.8768081665039
         ],
         "yaxis": "y"
        },
        {
         "hovertemplate": "<b>%{hovertext}</b><br><br>Cluster #=17<br>37D->2D TSNE1=%{x}<br>37D->2D TSNE2=%{y}<extra></extra>",
         "hovertext": [
          "Li2.6 Ca0.03 Mg3 Al1 Si0.03",
          "Li38 Ca1 Mg48 Al15 Si1",
          "Li25.33 Ca0.33 Mg30 Al10 Si1"
         ],
         "legendgroup": "17",
         "marker": {
          "color": "#620042",
          "symbol": "circle"
         },
         "mode": "markers",
         "name": "17",
         "showlegend": true,
         "type": "scattergl",
         "x": [
          5.8615522384643555,
          5.564004421234131,
          5.822082042694092
         ],
         "xaxis": "x",
         "y": [
          -100.50892639160156,
          -100.45760345458984,
          -100.42697143554688
         ],
         "yaxis": "y"
        },
        {
         "hovertemplate": "<b>%{hovertext}</b><br><br>Cluster #=18<br>37D->2D TSNE1=%{x}<br>37D->2D TSNE2=%{y}<extra></extra>",
         "hovertext": [
          "Ti1 Fe1 Ni1 Cu1 Al1",
          "Ti1.5 Fe1 Ni1.33 Cu1.33 Al1.5"
         ],
         "legendgroup": "18",
         "marker": {
          "color": "#1616A7",
          "symbol": "circle"
         },
         "mode": "markers",
         "name": "18",
         "showlegend": true,
         "type": "scattergl",
         "x": [
          12.407003402709961,
          12.305943489074707
         ],
         "xaxis": "x",
         "y": [
          4.380924701690674,
          4.192835330963135
         ],
         "yaxis": "y"
        },
        {
         "hovertemplate": "<b>%{hovertext}</b><br><br>Cluster #=19<br>37D->2D TSNE1=%{x}<br>37D->2D TSNE2=%{y}<extra></extra>",
         "hovertext": [
          "Fe4 Co4 Ni4 Si1",
          "Mn1 Fe3 Co3 Ni3",
          "Cr1 Fe5 Co5 Ni5 Si1",
          "Cr1 Fe3 Co3 Ni3",
          "Cr1 Mn1 Fe6 Co6 Ni6"
         ],
         "legendgroup": "19",
         "marker": {
          "color": "#DA60CA",
          "symbol": "circle"
         },
         "mode": "markers",
         "name": "19",
         "showlegend": true,
         "type": "scattergl",
         "x": [
          -28.16283416748047,
          -30.43693733215332,
          -28.7273006439209,
          -29.434947967529297,
          -29.8590030670166
         ],
         "xaxis": "x",
         "y": [
          48.08698272705078,
          48.03709411621094,
          48.469383239746094,
          48.7530632019043,
          48.23944091796875
         ],
         "yaxis": "y"
        },
        {
         "hovertemplate": "<b>%{hovertext}</b><br><br>Cluster #=20<br>37D->2D TSNE1=%{x}<br>37D->2D TSNE2=%{y}<extra></extra>",
         "hovertext": [
          "Cr1.1 Fe1.1 Ni2.22 Cu1.1 Al1",
          "Cr1 Fe1 Ni2 Cu1 Al1.6",
          "Cr1 Fe1 Ni1.99 Cu1.01 Al1",
          "Cr2 Fe2 Ni4 Cu2 Al1",
          "Cr1 Fe1 Ni2 Cu1 Al1.5",
          "Cr1.67 Fe1.67 Ni3.34 Cu1.67 Al1",
          "Cr3.32 Fe3.32 Ni6.61 Cu3.32 Al1",
          "Cr1 Fe1 Ni2.01 Cu1 Al1.2",
          "Cr5 Fe5 Ni10 Cu5 Al1",
          "Cr1.25 Fe1.25 Ni2.5 Cu1.25 Al1",
          "Cr1 Fe1 Ni2 Cu1 Al2",
          "Cr1 Fe1 Ni2 Cu1 Al2.2",
          "Cr1 Fe1 Ni1.99 Cu1 Al1.59",
          "Cr1 Fe1 Ni1.94 Cu1 Al1",
          "Cr2.5 Fe2.5 Ni5 Cu2.5 Al1",
          "Cr5.05 Fe5.05 Ni10.13 Cu5.05 Al1",
          "Cr1.67 Fe1.67 Ni3.33 Cu1.67 Al1",
          "Cr1 Fe1 Ni2.01 Cu1 Al2.5",
          "Cr1 Fe1 Ni2 Cu1 Al2.5",
          "Cr1 Fe1 Ni2 Cu1 Al1.8",
          "Cr1 Fe1 Ni2 Cu1 Al1.2",
          "Cr1 Fe1 Ni2 Cu1 Al1",
          "Cr1 Fe1 Ni1.99 Cu1 Al1",
          "Cr1.42 Fe1.42 Ni2.85 Cu1.42 Al1",
          "Cr1.43 Fe1.43 Ni2.86 Cu1.43 Al1"
         ],
         "legendgroup": "20",
         "marker": {
          "color": "#6C4516",
          "symbol": "circle"
         },
         "mode": "markers",
         "name": "20",
         "showlegend": true,
         "type": "scattergl",
         "x": [
          -74.91107177734375,
          -70.6781997680664,
          -73.95654296875,
          -78.52131652832031,
          -70.9517593383789,
          -78.02604675292969,
          -79.24874114990234,
          -73.38936614990234,
          -79.21257781982422,
          -76.78541564941406,
          -69.32923889160156,
          -68.7995376586914,
          -70.6982421875,
          -73.6224136352539,
          -78.99271392822266,
          -79.23424530029297,
          -78.01258087158203,
          -68.30945587158203,
          -68.29964447021484,
          -70.01136016845703,
          -73.38445281982422,
          -74.32929992675781,
          -74.2009506225586,
          -77.5088882446289,
          -77.47871398925781
         ],
         "xaxis": "x",
         "y": [
          -21.826017379760742,
          -29.868206024169922,
          -22.4924373626709,
          -16.481353759765625,
          -29.526546478271484,
          -17.51263427734375,
          -14.806086540222168,
          -24.755064010620117,
          -14.256532669067383,
          -19.410863876342773,
          -31.154476165771484,
          -31.590761184692383,
          -29.843873977661133,
          -22.77088165283203,
          -15.513056755065918,
          -14.24752426147461,
          -17.519428253173828,
          -31.9769287109375,
          -31.98023796081543,
          -30.528078079223633,
          -24.76514434814453,
          -22.6893367767334,
          -22.826801300048828,
          -18.693361282348633,
          -18.556081771850586
         ],
         "yaxis": "y"
        },
        {
         "hovertemplate": "<b>%{hovertext}</b><br><br>Cluster #=21<br>37D->2D TSNE1=%{x}<br>37D->2D TSNE2=%{y}<extra></extra>",
         "hovertext": [
          "V1 Mo1 Fe1 Co1 Ni2",
          "V5 Mo1 Fe5 Co5 Ni5",
          "V1 Mo1 Fe1 Co1 Ni1.4",
          "V1 Mo1 Fe1 Co1 Ni1.8",
          "V1 Mo1 Fe1 Co1 Ni1.2",
          "V1.25 Mo1 Fe1.25 Co1.25 Ni1.25",
          "V1.67 Mo1 Fe1.67 Co1.67 Ni1.67",
          "V1 Mo1 Fe1 Co1 Ni1",
          "V1 Fe1 Co1 Ni1",
          "V1 Mo1 Fe1 Co1 Ni1.6",
          "V2.5 Mo1 Fe2.5 Co2.5 Ni2.5"
         ],
         "legendgroup": "21",
         "marker": {
          "color": "#0D2A63",
          "symbol": "circle"
         },
         "mode": "markers",
         "name": "21",
         "showlegend": true,
         "type": "scattergl",
         "x": [
          10.811907768249512,
          11.275165557861328,
          11.764618873596191,
          11.10722827911377,
          11.867648124694824,
          11.662160873413086,
          11.508620262145996,
          11.80162239074707,
          11.22862434387207,
          11.432357788085938,
          11.375895500183105
         ],
         "xaxis": "x",
         "y": [
          43.110286712646484,
          36.94605255126953,
          41.6098747253418,
          42.7344970703125,
          40.82775115966797,
          39.6413688659668,
          38.657867431640625,
          40.21830749511719,
          36.54206848144531,
          42.25897979736328,
          37.73457717895508
         ],
         "yaxis": "y"
        },
        {
         "hovertemplate": "<b>%{hovertext}</b><br><br>Cluster #=22<br>37D->2D TSNE1=%{x}<br>37D->2D TSNE2=%{y}<extra></extra>",
         "hovertext": [
          "Ti1 Cr1 Fe1 Co1 Cu1 Al1",
          "Ti1.34 Cr1.34 Fe1.34 Co1.34 Cu1 Al1.34",
          "Ti2 Cr2 Fe2 Co2 Cu1 Al2"
         ],
         "legendgroup": "22",
         "marker": {
          "color": "#AF0038",
          "symbol": "circle"
         },
         "mode": "markers",
         "name": "22",
         "showlegend": true,
         "type": "scattergl",
         "x": [
          -2.8570337295532227,
          -2.8812415599823,
          -2.9290664196014404
         ],
         "xaxis": "x",
         "y": [
          -2.9145002365112305,
          -2.9265594482421875,
          -2.949721574783325
         ],
         "yaxis": "y"
        },
        {
         "hovertemplate": "<b>%{hovertext}</b><br><br>Cluster #=23<br>37D->2D TSNE1=%{x}<br>37D->2D TSNE2=%{y}<extra></extra>",
         "hovertext": [
          "Cr2.4 Mn5.6 Fe7 Ni4 Al1",
          "Cr1.2 Mn2.3 Fe3.5 Ni2 Al1"
         ],
         "legendgroup": "23",
         "marker": {
          "color": "#2E91E5",
          "symbol": "circle"
         },
         "mode": "markers",
         "name": "23",
         "showlegend": true,
         "type": "scattergl",
         "x": [
          -82.82658386230469,
          -82.6132583618164
         ],
         "xaxis": "x",
         "y": [
          37.07413864135742,
          36.82099914550781
         ],
         "yaxis": "y"
        },
        {
         "hovertemplate": "<b>%{hovertext}</b><br><br>Cluster #=24<br>37D->2D TSNE1=%{x}<br>37D->2D TSNE2=%{y}<extra></extra>",
         "hovertext": [
          "Ti3.33 Nb3.33 V3.33 Mo3.33 Cr3.33 Al1.67 Si1",
          "Ti2 Nb2 V2 Mo2 Cr2 Al1"
         ],
         "legendgroup": "24",
         "marker": {
          "color": "#E15F99",
          "symbol": "circle"
         },
         "mode": "markers",
         "name": "24",
         "showlegend": true,
         "type": "scattergl",
         "x": [
          28.00874137878418,
          28.017608642578125
         ],
         "xaxis": "x",
         "y": [
          -2.960724115371704,
          -2.9819812774658203
         ],
         "yaxis": "y"
        },
        {
         "hovertemplate": "<b>%{hovertext}</b><br><br>Cluster #=25<br>37D->2D TSNE1=%{x}<br>37D->2D TSNE2=%{y}<extra></extra>",
         "hovertext": [
          "Hf1 Zr2 Ti2 Nb2 Mo1 Si1",
          "Hf1 Zr1.8 Ti2 Nb2 Mo1",
          "Hf1 Zr2 Ti2 Nb2 Mo1 Si1.8",
          "Hf1.67 Zr3.33 Ti3.33 Nb3.33 Mo1.67 C1",
          "Hf1.67 Zr1 Ti3.33 Nb3.33 Mo1.67",
          "Hf1.67 Zr3.33 Ti3.33 Nb3.33 Mo1.67 Si1",
          "Hf1 Zr2 Ti2 Nb2 Mo1 Si1.4",
          "Hf1 Zr2 Ti2 Nb2 Mo1",
          "Hf1 Zr1 Ti2 Nb2 Mo1",
          "Hf1 Zr1.4 Ti2 Nb2 Mo1",
          "Hf5 Zr1 Ti10 Nb10 Mo5",
          "Hf5 Zr10 Ti10 Nb10 Mo5 Si1",
          "Hf1 Ti2 Nb2 Mo1",
          "Hf5 Zr10 Ti10 Nb10 Mo5 C1"
         ],
         "legendgroup": "25",
         "marker": {
          "color": "#1CA71C",
          "symbol": "circle"
         },
         "mode": "markers",
         "name": "25",
         "showlegend": true,
         "type": "scattergl",
         "x": [
          81.33956146240234,
          80.66389465332031,
          81.56907653808594,
          79.29205322265625,
          82.30612182617188,
          81.10012817382812,
          81.4993667602539,
          80.51862335205078,
          81.80487060546875,
          81.26884460449219,
          82.72942352294922,
          80.63951110839844,
          82.83663940429688,
          80.0138931274414
         ],
         "xaxis": "x",
         "y": [
          1.5753376483917236,
          -1.7708572149276733,
          2.3323512077331543,
          -1.1506586074829102,
          -4.689412593841553,
          0.8146589398384094,
          2.1058032512664795,
          -1.3504267930984497,
          -3.912325859069824,
          -3.0051701068878174,
          -5.318996429443359,
          -0.8255394697189331,
          -5.473500728607178,
          -1.2622488737106323
         ],
         "yaxis": "y"
        },
        {
         "hovertemplate": "<b>%{hovertext}</b><br><br>Cluster #=26<br>37D->2D TSNE1=%{x}<br>37D->2D TSNE2=%{y}<extra></extra>",
         "hovertext": [
          "Mg1 Zr1 Cu1 Zn1 Al13 Si3",
          "Mg1 Ni1 Cu1 Zn1 Al13 Si3",
          "Mg1 Mn1 Cu1 Zn1 Al13 Si3",
          "Mg1 Fe1 Cu1 Zn1 Al13 Si3",
          "Mg1 Cr1 Cu1 Zn1 Al13 Si3"
         ],
         "legendgroup": "26",
         "marker": {
          "color": "#FB0D0D",
          "symbol": "circle"
         },
         "mode": "markers",
         "name": "26",
         "showlegend": true,
         "type": "scattergl",
         "x": [
          7.690859317779541,
          7.138321876525879,
          7.809238433837891,
          7.4825215339660645,
          7.2615532875061035
         ],
         "xaxis": "x",
         "y": [
          -58.66743469238281,
          -59.042938232421875,
          -59.03407287597656,
          -59.2803955078125,
          -58.67361831665039
         ],
         "yaxis": "y"
        },
        {
         "hovertemplate": "<b>%{hovertext}</b><br><br>Cluster #=27<br>37D->2D TSNE1=%{x}<br>37D->2D TSNE2=%{y}<extra></extra>",
         "hovertext": [
          "Nb1 Mo1 Cr1 Co1",
          "Ti1 Nb2.5 Mo2.5 Cr2.5 Co2.5",
          "Ti0.02 Nb1 Mo1 Cr1 Co1",
          "Ti1 Nb5 Mo5 Cr5 Co5",
          "Ti1 Nb2 Mo2 Cr2 Co2"
         ],
         "legendgroup": "27",
         "marker": {
          "color": "#DA16FF",
          "symbol": "circle"
         },
         "mode": "markers",
         "name": "27",
         "showlegend": true,
         "type": "scattergl",
         "x": [
          13.890068054199219,
          14.693345069885254,
          13.804034233093262,
          14.23996353149414,
          14.924606323242188
         ],
         "xaxis": "x",
         "y": [
          -22.130834579467773,
          -21.56877899169922,
          -21.88888168334961,
          -21.760761260986328,
          -21.46166229248047
         ],
         "yaxis": "y"
        },
        {
         "hovertemplate": "<b>%{hovertext}</b><br><br>Cluster #=28<br>37D->2D TSNE1=%{x}<br>37D->2D TSNE2=%{y}<extra></extra>",
         "hovertext": [
          "Hf12.25 Zr12.25 Ti12.25 Ta6.12 Nb6.12 O1",
          "Hf12.25 Zr12.25 Ti12.25 Ta6.12 Nb6.12 N1",
          "Hf2 Zr2 Ti2 Ta1 Nb1"
         ],
         "legendgroup": "28",
         "marker": {
          "color": "#222A2A",
          "symbol": "circle"
         },
         "mode": "markers",
         "name": "28",
         "showlegend": true,
         "type": "scattergl",
         "x": [
          50.74112319946289,
          50.73904037475586,
          50.72058868408203
         ],
         "xaxis": "x",
         "y": [
          -53.59556198120117,
          -53.59645462036133,
          -53.61727523803711
         ],
         "yaxis": "y"
        },
        {
         "hovertemplate": "<b>%{hovertext}</b><br><br>Cluster #=29<br>37D->2D TSNE1=%{x}<br>37D->2D TSNE2=%{y}<extra></extra>",
         "hovertext": [
          "Ta1 Co5.5 B3.5",
          "Ta1 Co6.22 B3.89",
          "Ta1 Co8.29 B5",
          "Ta1 Co9.83 B5.83",
          "Ta3 Co28.5 Ni1 B17.5",
          "Ta1 Co7.12 B4.38"
         ],
         "legendgroup": "29",
         "marker": {
          "color": "#B68100",
          "symbol": "circle"
         },
         "mode": "markers",
         "name": "29",
         "showlegend": true,
         "type": "scattergl",
         "x": [
          4.479330062866211,
          4.379536151885986,
          3.573575973510742,
          3.4389121532440186,
          3.8944332599639893,
          3.9274144172668457
         ],
         "xaxis": "x",
         "y": [
          69.74595642089844,
          69.32765197753906,
          69.5873031616211,
          69.20149993896484,
          68.90081024169922,
          69.78620910644531
         ],
         "yaxis": "y"
        },
        {
         "hovertemplate": "<b>%{hovertext}</b><br><br>Cluster #=30<br>37D->2D TSNE1=%{x}<br>37D->2D TSNE2=%{y}<extra></extra>",
         "hovertext": [
          "W63.76 Fe1 Ni2.34",
          "W112.94 Fe1 Ni2.34",
          "W42.24 Fe1 Ni2.43",
          "Ti1 W64.67 C1",
          "Zr0.05 W26.69 Re1 C0.05",
          "W30 Fe1 Ni2.33",
          "Ti1 W38 C1",
          "W30.51 Fe1 Ni2.3"
         ],
         "legendgroup": "30",
         "marker": {
          "color": "#750D86",
          "symbol": "circle"
         },
         "mode": "markers",
         "name": "30",
         "showlegend": true,
         "type": "scattergl",
         "x": [
          46.371559143066406,
          45.87312698364258,
          47.26481628417969,
          45.48805236816406,
          45.10013961791992,
          47.845054626464844,
          45.50748062133789,
          47.80908966064453
         ],
         "xaxis": "x",
         "y": [
          63.501216888427734,
          63.803958892822266,
          62.95625686645508,
          64.30760192871094,
          63.876434326171875,
          62.58544921875,
          64.55313110351562,
          62.619083404541016
         ],
         "yaxis": "y"
        },
        {
         "hovertemplate": "<b>%{hovertext}</b><br><br>Cluster #=31<br>37D->2D TSNE1=%{x}<br>37D->2D TSNE2=%{y}<extra></extra>",
         "hovertext": [
          "Hf2.5 Zr2.5 Ti2.5 Ta1",
          "Hf1.67 Zr1.67 Ti1.67 Ta1",
          "Hf2 Zr2 Ti2 Ta1"
         ],
         "legendgroup": "31",
         "marker": {
          "color": "#EB663B",
          "symbol": "circle"
         },
         "mode": "markers",
         "name": "31",
         "showlegend": true,
         "type": "scattergl",
         "x": [
          47.965572357177734,
          47.382503509521484,
          47.620365142822266
         ],
         "xaxis": "x",
         "y": [
          -56.307254791259766,
          -55.82809066772461,
          -56.097957611083984
         ],
         "yaxis": "y"
        },
        {
         "hovertemplate": "<b>%{hovertext}</b><br><br>Cluster #=32<br>37D->2D TSNE1=%{x}<br>37D->2D TSNE2=%{y}<extra></extra>",
         "hovertext": [
          "Ti2.44 Nb2.51 V2.47 Mo2.57 Al1",
          "Ti1.32 Nb1.32 V1.34 Mo1.34 Al1",
          "Ti1 Nb1 V1 Mo1 Al1.25",
          "Ti1 Nb1 V1 Mo1",
          "Ti2 Nb2 V2 Mo2 Al1",
          "Ti1 Nb1 V1 Mo1 Al1.5",
          "Ti1 Nb1 V1 Mo1 Al1",
          "Ti1.33 Nb1.33 V1.33 Mo1.33 Al1",
          "Ti4 Nb4 V4 Mo4 Al1"
         ],
         "legendgroup": "32",
         "marker": {
          "color": "#511CFB",
          "symbol": "circle"
         },
         "mode": "markers",
         "name": "32",
         "showlegend": true,
         "type": "scattergl",
         "x": [
          35.95842361450195,
          36.6359748840332,
          36.56901168823242,
          35.19953536987305,
          36.17176818847656,
          36.553768157958984,
          36.54449462890625,
          36.67920684814453,
          35.675289154052734
         ],
         "xaxis": "x",
         "y": [
          -1.8656935691833496,
          -0.20053145289421082,
          1.4210232496261597,
          -2.8901870250701904,
          -1.3768903017044067,
          1.7075845003128052,
          0.7320188283920288,
          -0.20260263979434967,
          -2.451045513153076
         ],
         "yaxis": "y"
        },
        {
         "hovertemplate": "<b>%{hovertext}</b><br><br>Cluster #=33<br>37D->2D TSNE1=%{x}<br>37D->2D TSNE2=%{y}<extra></extra>",
         "hovertext": [
          "Cr1 Mn3 Fe4.97 Co1 B0.03",
          "Cr1 Mn3 Fe5 Co1",
          "Cr16.67 Mn50 Fe82.33 Co16.67 B1",
          "Cr5.88 Mn17.65 Fe28.41 Co5.88 B1"
         ],
         "legendgroup": "33",
         "marker": {
          "color": "#00A08B",
          "symbol": "circle"
         },
         "mode": "markers",
         "name": "33",
         "showlegend": true,
         "type": "scattergl",
         "x": [
          -80.39456939697266,
          -80.3805160522461,
          -80.64561462402344,
          -80.8050537109375
         ],
         "xaxis": "x",
         "y": [
          44.58796691894531,
          44.81084060668945,
          44.835166931152344,
          44.56687545776367
         ],
         "yaxis": "y"
        },
        {
         "hovertemplate": "<b>%{hovertext}</b><br><br>Cluster #=34<br>37D->2D TSNE1=%{x}<br>37D->2D TSNE2=%{y}<extra></extra>",
         "hovertext": [
          "Cr1 Fe1 Ni1 Cu1 Al1.5",
          "Cr1 Fe1 Ni1 Cu1 Al1.99"
         ],
         "legendgroup": "34",
         "marker": {
          "color": "#FB00D1",
          "symbol": "circle"
         },
         "mode": "markers",
         "name": "34",
         "showlegend": true,
         "type": "scattergl",
         "x": [
          -58.85038757324219,
          -58.98506546020508
         ],
         "xaxis": "x",
         "y": [
          -26.97056007385254,
          -27.124902725219727
         ],
         "yaxis": "y"
        },
        {
         "hovertemplate": "<b>%{hovertext}</b><br><br>Cluster #=35<br>37D->2D TSNE1=%{x}<br>37D->2D TSNE2=%{y}<extra></extra>",
         "hovertext": [
          "W5 Fe2 Co1 Ni2",
          "W4.09 Fe2 Co1 Ni2",
          "W3.33 Fe2 Co1 Ni2",
          "W2.69 Fe2 Co1 Ni2",
          "W2.14 Fe2 Co1 Ni2"
         ],
         "legendgroup": "35",
         "marker": {
          "color": "#FC0080",
          "symbol": "circle"
         },
         "mode": "markers",
         "name": "35",
         "showlegend": true,
         "type": "scattergl",
         "x": [
          -19.412817001342773,
          -19.663990020751953,
          -20.047948837280273,
          -20.42385482788086,
          -20.674571990966797
         ],
         "xaxis": "x",
         "y": [
          72.9090576171875,
          72.989013671875,
          73.10668182373047,
          73.22050476074219,
          73.29840087890625
         ],
         "yaxis": "y"
        },
        {
         "hovertemplate": "<b>%{hovertext}</b><br><br>Cluster #=36<br>37D->2D TSNE1=%{x}<br>37D->2D TSNE2=%{y}<extra></extra>",
         "hovertext": [
          "Zr1.95 Ti2.07 Ta1.05 Nb2.09 Mo1 Al1.74",
          "Zr2 Ti2 Ta1 Nb2 Mo1 Al2",
          "Zr1.99 Ti2.18 Ta1.39 Nb2.5 Mo1.14 Al1",
          "Zr2 Ti2 Ta1 Nb2 Mo1 Al1"
         ],
         "legendgroup": "36",
         "marker": {
          "color": "#B2828D",
          "symbol": "circle"
         },
         "mode": "markers",
         "name": "36",
         "showlegend": true,
         "type": "scattergl",
         "x": [
          29.065227508544922,
          28.82675552368164,
          30.26518440246582,
          30.136455535888672
         ],
         "xaxis": "x",
         "y": [
          -36.088661193847656,
          -35.939422607421875,
          -36.398406982421875,
          -36.356712341308594
         ],
         "yaxis": "y"
        },
        {
         "hovertemplate": "<b>%{hovertext}</b><br><br>Cluster #=37<br>37D->2D TSNE1=%{x}<br>37D->2D TSNE2=%{y}<extra></extra>",
         "hovertext": [
          "Ta4 Nb1 V3.5 W3.5",
          "Ta2.67 Nb1 V2.33 W2"
         ],
         "legendgroup": "37",
         "marker": {
          "color": "#6C7C32",
          "symbol": "circle"
         },
         "mode": "markers",
         "name": "37",
         "showlegend": true,
         "type": "scattergl",
         "x": [
          48.41065216064453,
          48.22235107421875
         ],
         "xaxis": "x",
         "y": [
          27.181795120239258,
          26.827741622924805
         ],
         "yaxis": "y"
        },
        {
         "hovertemplate": "<b>%{hovertext}</b><br><br>Cluster #=38<br>37D->2D TSNE1=%{x}<br>37D->2D TSNE2=%{y}<extra></extra>",
         "hovertext": [
          "Cr1.25 Fe1.25 Ni1 Cu1.25 Al1.25",
          "Cr1 Fe1 Ni1.2 Cu1 Al1",
          "Cr1.67 Fe1.67 Ni1 Cu1.67 Al1.67",
          "Cr1 Fe1 Ni1.4 Cu1 Al1",
          "Cr1 Fe1 Ni1 Cu1 Al1"
         ],
         "legendgroup": "38",
         "marker": {
          "color": "#778AAE",
          "symbol": "circle"
         },
         "mode": "markers",
         "name": "38",
         "showlegend": true,
         "type": "scattergl",
         "x": [
          -58.73896026611328,
          -60.137184143066406,
          -58.527835845947266,
          -60.415283203125,
          -59.45325469970703
         ],
         "xaxis": "x",
         "y": [
          -24.3450984954834,
          -23.338701248168945,
          -24.63214683532715,
          -23.077747344970703,
          -23.83795738220215
         ],
         "yaxis": "y"
        },
        {
         "hovertemplate": "<b>%{hovertext}</b><br><br>Cluster #=39<br>37D->2D TSNE1=%{x}<br>37D->2D TSNE2=%{y}<extra></extra>",
         "hovertext": [
          "W1 Ir8 Al1",
          "W1 Ir7.33 Al1.19"
         ],
         "legendgroup": "39",
         "marker": {
          "color": "#862A16",
          "symbol": "circle"
         },
         "mode": "markers",
         "name": "39",
         "showlegend": true,
         "type": "scattergl",
         "x": [
          9.461212158203125,
          9.459803581237793
         ],
         "xaxis": "x",
         "y": [
          20.219865798950195,
          20.22245979309082
         ],
         "yaxis": "y"
        },
        {
         "hovertemplate": "<b>%{hovertext}</b><br><br>Cluster #=40<br>37D->2D TSNE1=%{x}<br>37D->2D TSNE2=%{y}<extra></extra>",
         "hovertext": [
          "Cr1 Mn5.8 Fe6.73 Ni1.88 Al1.25",
          "Cr5.36 Mn31.09 Fe36 Ni10.18 Al6.73 C1"
         ],
         "legendgroup": "40",
         "marker": {
          "color": "#A777F1",
          "symbol": "circle"
         },
         "mode": "markers",
         "name": "40",
         "showlegend": true,
         "type": "scattergl",
         "x": [
          -82.86824035644531,
          -82.87542724609375
         ],
         "xaxis": "x",
         "y": [
          41.33202362060547,
          41.32151794433594
         ],
         "yaxis": "y"
        },
        {
         "hovertemplate": "<b>%{hovertext}</b><br><br>Cluster #=41<br>37D->2D TSNE1=%{x}<br>37D->2D TSNE2=%{y}<extra></extra>",
         "hovertext": [
          "Zr1 Ti2.7 Nb1.5 Cr2 Al2.8",
          "Zr1 Ti3.2 Nb1.5 Cr2 Al2.3",
          "Zr1 Ti2.2 Nb1.5 Cr2 Al3.3"
         ],
         "legendgroup": "41",
         "marker": {
          "color": "#620042",
          "symbol": "circle"
         },
         "mode": "markers",
         "name": "41",
         "showlegend": true,
         "type": "scattergl",
         "x": [
          25.067983627319336,
          24.577356338500977,
          25.381689071655273
         ],
         "xaxis": "x",
         "y": [
          -23.001628875732422,
          -22.762372970581055,
          -23.091384887695312
         ],
         "yaxis": "y"
        },
        {
         "hovertemplate": "<b>%{hovertext}</b><br><br>Cluster #=42<br>37D->2D TSNE1=%{x}<br>37D->2D TSNE2=%{y}<extra></extra>",
         "hovertext": [
          "Cr1 Fe1 Co1 Ni2",
          "Ti1 W0.1 Mo0.1 Cr14 Fe17 Co17 Ni35 Cu8 Al8",
          "Cr2.12 Fe2.12 Co2.12 Ni4.12 Cu1 Al1",
          "Nb1 Cr5 Fe5 Co5 Ni10.5",
          "Cr4.75 Fe4.75 Co4.75 Ni9.25 Cu1 Al1",
          "Nb1 Cr2.5 Fe2.5 Co2.5 Ni5.25"
         ],
         "legendgroup": "42",
         "marker": {
          "color": "#1616A7",
          "symbol": "circle"
         },
         "mode": "markers",
         "name": "42",
         "showlegend": true,
         "type": "scattergl",
         "x": [
          -13.7831449508667,
          -13.486929893493652,
          -13.453619956970215,
          -13.739251136779785,
          -13.652107238769531,
          -13.700624465942383
         ],
         "xaxis": "x",
         "y": [
          32.31767272949219,
          34.938228607177734,
          34.94160461425781,
          32.0657958984375,
          33.194244384765625,
          31.813194274902344
         ],
         "yaxis": "y"
        },
        {
         "hovertemplate": "<b>%{hovertext}</b><br><br>Cluster #=43<br>37D->2D TSNE1=%{x}<br>37D->2D TSNE2=%{y}<extra></extra>",
         "hovertext": [
          "W3 Fe3.8 B2.2 C1",
          "W2.31 Fe2.92 B1.46 C1",
          "W2 Fe2.53 B1.13 C1",
          "W4.29 Fe5.43 B3.57 C1"
         ],
         "legendgroup": "43",
         "marker": {
          "color": "#DA60CA",
          "symbol": "circle"
         },
         "mode": "markers",
         "name": "43",
         "showlegend": true,
         "type": "scattergl",
         "x": [
          -8.40758228302002,
          -8.608996391296387,
          -8.680768966674805,
          -8.244288444519043
         ],
         "xaxis": "x",
         "y": [
          90.49397277832031,
          90.99378967285156,
          91.17754364013672,
          90.1004867553711
         ],
         "yaxis": "y"
        },
        {
         "hovertemplate": "<b>%{hovertext}</b><br><br>Cluster #=44<br>37D->2D TSNE1=%{x}<br>37D->2D TSNE2=%{y}<extra></extra>",
         "hovertext": [
          "Mn33.33 Fe33.33 Co33.33 Ni33.33 Cu33.33 Sn1",
          "Mn12.5 Fe12.5 Co12.5 Ni12.5 Cu12.5 Sn1",
          "Mn10 Fe10 Co10 Ni10 Cu10 Sn1",
          "Mn1 Fe1 Co1 Ni1 Cu1",
          "Mn5 Fe5 Co5 Ni5 Cu5 Sn1",
          "Mn20 Fe20 Co20 Ni20 Cu20 Sn1"
         ],
         "legendgroup": "44",
         "marker": {
          "color": "#6C4516",
          "symbol": "circle"
         },
         "mode": "markers",
         "name": "44",
         "showlegend": true,
         "type": "scattergl",
         "x": [
          -94.7887191772461,
          -94.96935272216797,
          -94.34523010253906,
          -94.32074737548828,
          -94.82556915283203,
          -94.1313247680664
         ],
         "xaxis": "x",
         "y": [
          7.173529148101807,
          6.772274017333984,
          6.422581195831299,
          7.251674175262451,
          6.2202887535095215,
          6.800013065338135
         ],
         "yaxis": "y"
        },
        {
         "hovertemplate": "<b>%{hovertext}</b><br><br>Cluster #=45<br>37D->2D TSNE1=%{x}<br>37D->2D TSNE2=%{y}<extra></extra>",
         "hovertext": [
          "Zr1 Mo19.75 B2 Si2.25",
          "Mo42 B1 Si7",
          "Mo27.33 B1 Si5",
          "Mo10.38 B1 Si1.12",
          "Mo20.5 B1 Si3.5",
          "Mo46 B1 Si3",
          "Mo9.62 B1.01 Si1",
          "Zr0 Ti1 Mo84.97 Co0.21 S0.25",
          "Zr0.09 Ti1.08 Mo106.37 B3.82 C1",
          "Zr0.09 Ti1 Mo97.69 B7.05 C1.71",
          "Mo45.5 B1 Si3.5",
          "Zr0.08 Ti1 Mo98.79 C0.13",
          "Mo109.94 B0.17 Si1",
          "Mo14.33 B1.33 Si1",
          "Nb1 Mo29.89 B2.85 Si3.3",
          "Mo31.33 B1 Si1",
          "Mo40.5 B1 Si8.5",
          "Zr1 Mo82 B8 Si9",
          "Mo82 B1 Si16",
          "Mo89 B1 Si10",
          "Zr1 Mo40.5 B4 Si4.5"
         ],
         "legendgroup": "45",
         "marker": {
          "color": "#0D2A63",
          "symbol": "circle"
         },
         "mode": "markers",
         "name": "45",
         "showlegend": true,
         "type": "scattergl",
         "x": [
          23.685283660888672,
          27.352108001708984,
          27.863311767578125,
          23.1359806060791,
          27.76409339904785,
          20.05394172668457,
          23.125633239746094,
          17.24684715270996,
          18.5572452545166,
          19.113956451416016,
          20.3787841796875,
          17.131057739257812,
          17.161333084106445,
          22.378618240356445,
          24.14716339111328,
          19.002368927001953,
          28.23038673400879,
          23.350027084350586,
          27.778541564941406,
          20.85232162475586,
          23.510377883911133
         ],
         "xaxis": "x",
         "y": [
          70.3899154663086,
          81.29093933105469,
          81.1240463256836,
          72.03681182861328,
          80.8658676147461,
          79.14708709716797,
          72.00724792480469,
          78.45380401611328,
          78.07714080810547,
          77.38829803466797,
          79.33340454101562,
          78.50411224365234,
          78.65853881835938,
          72.86827087402344,
          71.6587142944336,
          78.44892120361328,
          81.59270477294922,
          71.53181457519531,
          81.71326446533203,
          79.59591674804688,
          71.04788970947266
         ],
         "yaxis": "y"
        },
        {
         "hovertemplate": "<b>%{hovertext}</b><br><br>Cluster #=46<br>37D->2D TSNE1=%{x}<br>37D->2D TSNE2=%{y}<extra></extra>",
         "hovertext": [
          "Mo1 Cr5 Fe5 Co15 Ni15 Al9",
          "Cr1 Fe1 Co3 Ni3.2 Al1.8",
          "Mo1 Cr10 Fe10 Co30 Ni31 Al18",
          "Mo1 Cr3.33 Fe3.33 Co10 Ni9.67 Al6"
         ],
         "legendgroup": "46",
         "marker": {
          "color": "#AF0038",
          "symbol": "circle"
         },
         "mode": "markers",
         "name": "46",
         "showlegend": true,
         "type": "scattergl",
         "x": [
          -1.1938673257827759,
          -1.3398958444595337,
          -1.2189704179763794,
          -1.0145500898361206
         ],
         "xaxis": "x",
         "y": [
          43.9642333984375,
          44.43320846557617,
          44.26495361328125,
          43.9047737121582
         ],
         "yaxis": "y"
        },
        {
         "hovertemplate": "<b>%{hovertext}</b><br><br>Cluster #=47<br>37D->2D TSNE1=%{x}<br>37D->2D TSNE2=%{y}<extra></extra>",
         "hovertext": [
          "Ti1 Ta2.88 Nb2.88 W2.88 Mo2.88",
          "Ta2 Nb2 W2 Mo2 Si1",
          "Ti1 Ta4 Nb4 W4 Mo4",
          "Ta1 Nb1 W1 Mo1",
          "Ti1 Ta2 Nb2 W2 Mo2",
          "Ta4 Nb4 W4 Mo4 Si1",
          "Ta1.33 Nb1.33 W1.33 Mo1.33 Si1",
          "Ti1 Ta1 Nb1 W1 Mo1",
          "Ti1 Ta1.33 Nb1.33 W1.33 Mo1.33"
         ],
         "legendgroup": "47",
         "marker": {
          "color": "#2E91E5",
          "symbol": "circle"
         },
         "mode": "markers",
         "name": "47",
         "showlegend": true,
         "type": "scattergl",
         "x": [
          39.45489501953125,
          37.34214782714844,
          39.34107971191406,
          39.054176330566406,
          39.606082916259766,
          38.17416763305664,
          37.02862548828125,
          39.9475212097168,
          39.822898864746094
         ],
         "xaxis": "x",
         "y": [
          33.963157653808594,
          35.441463470458984,
          34.43227005004883,
          35.55662536621094,
          33.30793762207031,
          35.4923095703125,
          35.413639068603516,
          31.90835189819336,
          32.39330291748047
         ],
         "yaxis": "y"
        },
        {
         "hovertemplate": "<b>%{hovertext}</b><br><br>Cluster #=48<br>37D->2D TSNE1=%{x}<br>37D->2D TSNE2=%{y}<extra></extra>",
         "hovertext": [
          "Cr1.25 Mn1 Fe1.25 Co1.25 Pd1.25 Ni1.25",
          "Cr5 Mn1 Fe5 Co5 Pd5 Ni5",
          "Cr1.67 Mn1 Fe1.67 Co1.67 Pd1.67 Ni1.67",
          "Cr2.5 Mn1 Fe2.5 Co2.5 Pd2.5 Ni2.5",
          "Cr1 Fe1 Co1 Pd1 Ni1"
         ],
         "legendgroup": "48",
         "marker": {
          "color": "#E15F99",
          "symbol": "circle"
         },
         "mode": "markers",
         "name": "48",
         "showlegend": true,
         "type": "scattergl",
         "x": [
          -36.15183639526367,
          -35.45527267456055,
          -36.00438690185547,
          -35.738643646240234,
          -35.26142501831055
         ],
         "xaxis": "x",
         "y": [
          67.19123840332031,
          68.07844543457031,
          67.3912124633789,
          67.7171630859375,
          68.30924987792969
         ],
         "yaxis": "y"
        },
        {
         "hovertemplate": "<b>%{hovertext}</b><br><br>Cluster #=49<br>37D->2D TSNE1=%{x}<br>37D->2D TSNE2=%{y}<extra></extra>",
         "hovertext": [
          "V1.99 Cr1 Fe1 Co1 Ni1",
          "V1.5 Cr1 Fe1 Co1 Ni1"
         ],
         "legendgroup": "49",
         "marker": {
          "color": "#1CA71C",
          "symbol": "circle"
         },
         "mode": "markers",
         "name": "49",
         "showlegend": true,
         "type": "scattergl",
         "x": [
          -48.54467010498047,
          -48.477333068847656
         ],
         "xaxis": "x",
         "y": [
          10.617128372192383,
          10.91526985168457
         ],
         "yaxis": "y"
        },
        {
         "hovertemplate": "<b>%{hovertext}</b><br><br>Cluster #=50<br>37D->2D TSNE1=%{x}<br>37D->2D TSNE2=%{y}<extra></extra>",
         "hovertext": [
          "Cr10 Mn12.5 Fe20 Ni7.5 Al1",
          "Cr1.33 Mn1.67 Fe2.67 Ni1",
          "Cr3.33 Mn3.33 Fe4.99 Ni1.66 Al1",
          "Cr3.33 Mn4.17 Fe6.67 Ni2.5 Al1",
          "Cr1.43 Mn1.79 Fe2.86 Ni1.07 Al1",
          "Cr2 Mn2 Fe3 Ni1 Al1",
          "Cr3.33 Mn3.33 Fe5 Ni1.67 Al1",
          "Cr2 Mn2.5 Fe4 Ni1.5 Al1"
         ],
         "legendgroup": "50",
         "marker": {
          "color": "#FB0D0D",
          "symbol": "circle"
         },
         "mode": "markers",
         "name": "50",
         "showlegend": true,
         "type": "scattergl",
         "x": [
          -79.6185302734375,
          -79.53330993652344,
          -79.20623016357422,
          -79.97746276855469,
          -80.68900299072266,
          -79.81449127197266,
          -79.21046447753906,
          -80.43778991699219
         ],
         "xaxis": "x",
         "y": [
          37.676265716552734,
          37.94527816772461,
          35.348697662353516,
          36.790443420410156,
          35.49073791503906,
          34.924774169921875,
          35.357120513916016,
          35.96889114379883
         ],
         "yaxis": "y"
        },
        {
         "hovertemplate": "<b>%{hovertext}</b><br><br>Cluster #=51<br>37D->2D TSNE1=%{x}<br>37D->2D TSNE2=%{y}<extra></extra>",
         "hovertext": [
          "Ta1 Nb1 V1 W1 Mo1",
          "Ta3.16 Nb3.15 V2.79 W3.15 Mo3.15 Cr1",
          "Ta3.61 Nb3.58 V2.28 W3.53 Mo3.54 Cr1"
         ],
         "legendgroup": "51",
         "marker": {
          "color": "#DA16FF",
          "symbol": "circle"
         },
         "mode": "markers",
         "name": "51",
         "showlegend": true,
         "type": "scattergl",
         "x": [
          35.1191520690918,
          34.69374465942383,
          34.71726989746094
         ],
         "xaxis": "x",
         "y": [
          25.957042694091797,
          25.687440872192383,
          25.603679656982422
         ],
         "yaxis": "y"
        },
        {
         "hovertemplate": "<b>%{hovertext}</b><br><br>Cluster #=52<br>37D->2D TSNE1=%{x}<br>37D->2D TSNE2=%{y}<extra></extra>",
         "hovertext": [
          "Hf10 Ti21 Nb1 Si16",
          "Hf7.5 Ti21 Nb1 Si16",
          "Hf12.5 Ti21 Nb1 Si16"
         ],
         "legendgroup": "52",
         "marker": {
          "color": "#222A2A",
          "symbol": "circle"
         },
         "mode": "markers",
         "name": "52",
         "showlegend": true,
         "type": "scattergl",
         "x": [
          34.238529205322266,
          33.96411895751953,
          34.49171447753906
         ],
         "xaxis": "x",
         "y": [
          -78.25119018554688,
          -78.42408752441406,
          -78.12594604492188
         ],
         "yaxis": "y"
        },
        {
         "hovertemplate": "<b>%{hovertext}</b><br><br>Cluster #=53<br>37D->2D TSNE1=%{x}<br>37D->2D TSNE2=%{y}<extra></extra>",
         "hovertext": [
          "W5 Re1 Fe10.5 Ni24.5",
          "W2.5 Re1 Fe5.25 Ni12.25",
          "W1 Fe3 Ni7",
          "W1 Re1 Fe3 Ni7",
          "W1 Fe2.1 Ni4.9"
         ],
         "legendgroup": "53",
         "marker": {
          "color": "#B68100",
          "symbol": "circle"
         },
         "mode": "markers",
         "name": "53",
         "showlegend": true,
         "type": "scattergl",
         "x": [
          -6.994917392730713,
          -7.332780838012695,
          -6.835577011108398,
          -7.766376972198486,
          -6.736604690551758
         ],
         "xaxis": "x",
         "y": [
          60.746620178222656,
          60.89286422729492,
          61.31589126586914,
          60.84206771850586,
          60.966548919677734
         ],
         "yaxis": "y"
        },
        {
         "hovertemplate": "<b>%{hovertext}</b><br><br>Cluster #=54<br>37D->2D TSNE1=%{x}<br>37D->2D TSNE2=%{y}<extra></extra>",
         "hovertext": [
          "Zr9 Ti9 Ta1 Nb1",
          "Zr8.5 Ti8.5 Ta1 Nb1 Mo1",
          "Zr9 Ti9 Nb1 Mo1"
         ],
         "legendgroup": "54",
         "marker": {
          "color": "#750D86",
          "symbol": "circle"
         },
         "mode": "markers",
         "name": "54",
         "showlegend": true,
         "type": "scattergl",
         "x": [
          38.76161575317383,
          38.70249938964844,
          38.566104888916016
         ],
         "xaxis": "x",
         "y": [
          -43.54103088378906,
          -43.318084716796875,
          -43.550601959228516
         ],
         "yaxis": "y"
        },
        {
         "hovertemplate": "<b>%{hovertext}</b><br><br>Cluster #=55<br>37D->2D TSNE1=%{x}<br>37D->2D TSNE2=%{y}<extra></extra>",
         "hovertext": [
          "Ti1 Cr1 Fe1 Co1.5 Ni1.5",
          "Ti5 Cr5 Fe5 Co7.5 Ni7.5 Al1",
          "Ti5.03 Cr5.03 Fe5.03 Co7.56 Ni7.56 Al1"
         ],
         "legendgroup": "55",
         "marker": {
          "color": "#EB663B",
          "symbol": "circle"
         },
         "mode": "markers",
         "name": "55",
         "showlegend": true,
         "type": "scattergl",
         "x": [
          -16.540912628173828,
          -16.749622344970703,
          -16.756750106811523
         ],
         "xaxis": "x",
         "y": [
          19.120502471923828,
          19.04692840576172,
          19.045068740844727
         ],
         "yaxis": "y"
        },
        {
         "hovertemplate": "<b>%{hovertext}</b><br><br>Cluster #=56<br>37D->2D TSNE1=%{x}<br>37D->2D TSNE2=%{y}<extra></extra>",
         "hovertext": [
          "Ti2.51 Cr5 Fe5 Co7.51 Ni7.51 Al1",
          "Ti2.5 Cr5 Fe5 Co7.5 Ni7.5 Al1",
          "Ti1 Cr2 Fe2 Co3 Ni3"
         ],
         "legendgroup": "56",
         "marker": {
          "color": "#511CFB",
          "symbol": "circle"
         },
         "mode": "markers",
         "name": "56",
         "showlegend": true,
         "type": "scattergl",
         "x": [
          -19.177682876586914,
          -19.187545776367188,
          -18.863162994384766
         ],
         "xaxis": "x",
         "y": [
          20.494251251220703,
          20.497264862060547,
          20.526992797851562
         ],
         "yaxis": "y"
        },
        {
         "hovertemplate": "<b>%{hovertext}</b><br><br>Cluster #=57<br>37D->2D TSNE1=%{x}<br>37D->2D TSNE2=%{y}<extra></extra>",
         "hovertext": [
          "Zr4.75 Ti4.75 Ta4.75 Nb4.75 Mo1",
          "Zr4.33 Ti4.67 Ta3.33 Nb3.33 Al1",
          "Zr6.5 Ti7 Ta4 Nb5 V1 Al1.5",
          "Zr4 Ti4 Ta4 Nb4 Al1",
          "Zr2.25 Ti2.25 Ta2.25 Nb2.25 Mo1",
          "Zr1 Ti1 Ta1 Nb1",
          "Zr5 Ti7.5 Ta4 Nb5 V1 Al2.5"
         ],
         "legendgroup": "57",
         "marker": {
          "color": "#00A08B",
          "symbol": "circle"
         },
         "mode": "markers",
         "name": "57",
         "showlegend": true,
         "type": "scattergl",
         "x": [
          43.50644302368164,
          39.83349609375,
          39.27824783325195,
          43.006717681884766,
          43.8057861328125,
          43.24846649169922,
          38.81714630126953
         ],
         "xaxis": "x",
         "y": [
          -35.41521072387695,
          -35.2631721496582,
          -35.081443786621094,
          -34.421993255615234,
          -36.115543365478516,
          -34.81144714355469,
          -34.84605407714844
         ],
         "yaxis": "y"
        },
        {
         "hovertemplate": "<b>%{hovertext}</b><br><br>Cluster #=58<br>37D->2D TSNE1=%{x}<br>37D->2D TSNE2=%{y}<extra></extra>",
         "hovertext": [
          "Ti2.85 Nb1.28 Al1",
          "Ti2.76 Nb1 Al1"
         ],
         "legendgroup": "58",
         "marker": {
          "color": "#FB00D1",
          "symbol": "circle"
         },
         "mode": "markers",
         "name": "58",
         "showlegend": true,
         "type": "scattergl",
         "x": [
          22.614151000976562,
          22.610929489135742
         ],
         "xaxis": "x",
         "y": [
          -50.78500747680664,
          -50.78489303588867
         ],
         "yaxis": "y"
        },
        {
         "hovertemplate": "<b>%{hovertext}</b><br><br>Cluster #=59<br>37D->2D TSNE1=%{x}<br>37D->2D TSNE2=%{y}<extra></extra>",
         "hovertext": [
          "Ti24.75 W1 Al24 Si0.25",
          "Ti24.5 Nb1 Cr1 Al23.5"
         ],
         "legendgroup": "59",
         "marker": {
          "color": "#FC0080",
          "symbol": "circle"
         },
         "mode": "markers",
         "name": "59",
         "showlegend": true,
         "type": "scattergl",
         "x": [
          20.428035736083984,
          20.432218551635742
         ],
         "xaxis": "x",
         "y": [
          -46.439361572265625,
          -46.44429397583008
         ],
         "yaxis": "y"
        },
        {
         "hovertemplate": "<b>%{hovertext}</b><br><br>Cluster #=60<br>37D->2D TSNE1=%{x}<br>37D->2D TSNE2=%{y}<extra></extra>",
         "hovertext": [
          "Ti2.25 Nb2.25 W2.25 Mo2.25 Cr1",
          "Ti1 Nb1 W1 Mo1 Cr1",
          "Ti1 Nb1 W1 Mo1",
          "Ti1.42 Nb1.42 W1.42 Mo1.42 Cr1",
          "Ti4.75 Nb4.75 W4.75 Mo4.75 Cr1"
         ],
         "legendgroup": "60",
         "marker": {
          "color": "#B2828D",
          "symbol": "circle"
         },
         "mode": "markers",
         "name": "60",
         "showlegend": true,
         "type": "scattergl",
         "x": [
          54.83674621582031,
          55.64197540283203,
          54.06640625,
          55.32670974731445,
          54.36113739013672
         ],
         "xaxis": "x",
         "y": [
          9.166481971740723,
          9.713432312011719,
          8.72297191619873,
          9.491592407226562,
          8.737865447998047
         ],
         "yaxis": "y"
        },
        {
         "hovertemplate": "<b>%{hovertext}</b><br><br>Cluster #=61<br>37D->2D TSNE1=%{x}<br>37D->2D TSNE2=%{y}<extra></extra>",
         "hovertext": [
          "Ti1 Ta7.18 W5.18 Mo1.82 Cr7.09 Co5.91 Ni58 Al4.73",
          "Hf2.8 Zr0.01 Ti0.8 Ta6.6 W18.8 Mo1 Cr16.2 Co18.6 Ni123 Al11.4 B0.03 C0.14"
         ],
         "legendgroup": "61",
         "marker": {
          "color": "#6C7C32",
          "symbol": "circle"
         },
         "mode": "markers",
         "name": "61",
         "showlegend": true,
         "type": "scattergl",
         "x": [
          -10.715850830078125,
          -10.770601272583008
         ],
         "xaxis": "x",
         "y": [
          55.305294036865234,
          55.28785705566406
         ],
         "yaxis": "y"
        },
        {
         "hovertemplate": "<b>%{hovertext}</b><br><br>Cluster #=62<br>37D->2D TSNE1=%{x}<br>37D->2D TSNE2=%{y}<extra></extra>",
         "hovertext": [
          "Cr4.97 Fe7.44 Ni2.48 Al1",
          "Cr2.49 Fe3.74 Ni1.25 Al1"
         ],
         "legendgroup": "62",
         "marker": {
          "color": "#778AAE",
          "symbol": "circle"
         },
         "mode": "markers",
         "name": "62",
         "showlegend": true,
         "type": "scattergl",
         "x": [
          -6.993449687957764,
          -7.0025529861450195
         ],
         "xaxis": "x",
         "y": [
          21.611976623535156,
          21.60845375061035
         ],
         "yaxis": "y"
        },
        {
         "hovertemplate": "<b>%{hovertext}</b><br><br>Cluster #=63<br>37D->2D TSNE1=%{x}<br>37D->2D TSNE2=%{y}<extra></extra>",
         "hovertext": [
          "Ti20.2 Ta1.03 Nb7.01 Fe1",
          "Ti41.7 Ta2.06 Nb14.06 Fe1",
          "Ti19.07 Ta1 Nb6.81 Fe1.46",
          "Ti20.83 Ta1 Nb6.83"
         ],
         "legendgroup": "63",
         "marker": {
          "color": "#862A16",
          "symbol": "circle"
         },
         "mode": "markers",
         "name": "63",
         "showlegend": true,
         "type": "scattergl",
         "x": [
          23.860715866088867,
          23.69455909729004,
          23.87003517150879,
          23.65324592590332
         ],
         "xaxis": "x",
         "y": [
          -53.244293212890625,
          -53.402809143066406,
          -53.080711364746094,
          -53.525230407714844
         ],
         "yaxis": "y"
        },
        {
         "hovertemplate": "<b>%{hovertext}</b><br><br>Cluster #=64<br>37D->2D TSNE1=%{x}<br>37D->2D TSNE2=%{y}<extra></extra>",
         "hovertext": [
          "Mn1 Ni1 Cu1 Zn1",
          "Mn1.33 Ni1.33 Cu1.33 Zn1"
         ],
         "legendgroup": "64",
         "marker": {
          "color": "#A777F1",
          "symbol": "circle"
         },
         "mode": "markers",
         "name": "64",
         "showlegend": true,
         "type": "scattergl",
         "x": [
          -87.8453140258789,
          -87.7581558227539
         ],
         "xaxis": "x",
         "y": [
          2.4333863258361816,
          2.3784139156341553
         ],
         "yaxis": "y"
        },
        {
         "hovertemplate": "<b>%{hovertext}</b><br><br>Cluster #=65<br>37D->2D TSNE1=%{x}<br>37D->2D TSNE2=%{y}<extra></extra>",
         "hovertext": [
          "Fe4.96 Co1 Ni4.96 Cu4.96 Al4.96",
          "Fe2 Co1 Ni2 Cu2 Al2"
         ],
         "legendgroup": "65",
         "marker": {
          "color": "#620042",
          "symbol": "circle"
         },
         "mode": "markers",
         "name": "65",
         "showlegend": true,
         "type": "scattergl",
         "x": [
          -43.83932876586914,
          -43.76762008666992
         ],
         "xaxis": "x",
         "y": [
          -27.140758514404297,
          -27.00420379638672
         ],
         "yaxis": "y"
        },
        {
         "hovertemplate": "<b>%{hovertext}</b><br><br>Cluster #=66<br>37D->2D TSNE1=%{x}<br>37D->2D TSNE2=%{y}<extra></extra>",
         "hovertext": [
          "Hf3.33 Ti3.33 Nb3.33 V1.67 Mo1.67 Si1",
          "Hf2 Ti2 Nb2 V1 Mo1 Si1.01",
          "Hf2.01 Ti2.01 Nb2.01 V1 Mo1 Si1.41",
          "Hf2 Ti2 Nb2 V1 Mo1 Si1",
          "Hf2 Ti2 Nb2 V1 Mo1 Si1.4",
          "Hf3.38 Ti3.38 Nb3.38 V1.68 Mo1.68 Si1"
         ],
         "legendgroup": "66",
         "marker": {
          "color": "#1616A7",
          "symbol": "circle"
         },
         "mode": "markers",
         "name": "66",
         "showlegend": true,
         "type": "scattergl",
         "x": [
          92.71056365966797,
          93.45415496826172,
          94.15494537353516,
          93.46833038330078,
          94.03075408935547,
          92.68778991699219
         ],
         "xaxis": "x",
         "y": [
          -14.724865913391113,
          -15.309893608093262,
          -15.609447479248047,
          -15.23548698425293,
          -15.785233497619629,
          -14.71288013458252
         ],
         "yaxis": "y"
        },
        {
         "hovertemplate": "<b>%{hovertext}</b><br><br>Cluster #=67<br>37D->2D TSNE1=%{x}<br>37D->2D TSNE2=%{y}<extra></extra>",
         "hovertext": [
          "Hf5.56 Zr5.56 Ti7.06 Ta1 Nb1",
          "Hf18.27 Zr18.27 Ti18.27 Ta4.35 Nb4.35 Mo1"
         ],
         "legendgroup": "67",
         "marker": {
          "color": "#DA60CA",
          "symbol": "circle"
         },
         "mode": "markers",
         "name": "67",
         "showlegend": true,
         "type": "scattergl",
         "x": [
          49.42974090576172,
          49.40873718261719
         ],
         "xaxis": "x",
         "y": [
          -56.66713333129883,
          -56.38844299316406
         ],
         "yaxis": "y"
        },
        {
         "hovertemplate": "<b>%{hovertext}</b><br><br>Cluster #=68<br>37D->2D TSNE1=%{x}<br>37D->2D TSNE2=%{y}<extra></extra>",
         "hovertext": [
          "Hf2 Zr4 Ti8 Nb1 V4",
          "Hf1 Zr2 Ti4 Nb1 V2",
          "Hf1 Zr2 Ti4 Nb1.5 V2",
          "Hf1 Zr2 Ti4 Nb2 V2",
          "Hf1 Zr2 Ti4 V2"
         ],
         "legendgroup": "68",
         "marker": {
          "color": "#6C4516",
          "symbol": "circle"
         },
         "mode": "markers",
         "name": "68",
         "showlegend": true,
         "type": "scattergl",
         "x": [
          45.67542266845703,
          45.770633697509766,
          45.892791748046875,
          46.018211364746094,
          45.6207160949707
         ],
         "xaxis": "x",
         "y": [
          -16.505474090576172,
          -15.923262596130371,
          -15.319976806640625,
          -14.943062782287598,
          -16.830429077148438
         ],
         "yaxis": "y"
        },
        {
         "hovertemplate": "<b>%{hovertext}</b><br><br>Cluster #=69<br>37D->2D TSNE1=%{x}<br>37D->2D TSNE2=%{y}<extra></extra>",
         "hovertext": [
          "Cr5.8 Fe1 Ni5.2 Cu5.8 Al2.2",
          "Cr6.2 Fe1 Ni6.2 Cu4.2 Al2.4",
          "Cr4.67 Fe1 Ni5.17 Cu3.67 Al2.17",
          "Cr7 Fe1 Ni5.2 Cu4.8 Al2",
          "Cr7 Fe1 Ni4.8 Cu5.2 Al2",
          "Cr4.67 Fe1 Ni4.67 Cu4.5 Al1.83",
          "Cr6.2 Fe1 Ni6.4 Cu4 Al2.4",
          "Cr4 Fe1 Ni3.57 Cu4.14 Al1.57",
          "Cr7 Fe1 Ni5 Cu5 Al2"
         ],
         "legendgroup": "69",
         "marker": {
          "color": "#0D2A63",
          "symbol": "circle"
         },
         "mode": "markers",
         "name": "69",
         "showlegend": true,
         "type": "scattergl",
         "x": [
          -100.2196044921875,
          -102.62911987304688,
          -102.48761749267578,
          -100.65035247802734,
          -100.34485626220703,
          -100.50544738769531,
          -102.73126983642578,
          -100.159423828125,
          -100.48877716064453
         ],
         "xaxis": "x",
         "y": [
          -24.216655731201172,
          -24.9676456451416,
          -24.645523071289062,
          -26.252044677734375,
          -26.174972534179688,
          -24.01117706298828,
          -24.968921661376953,
          -24.223480224609375,
          -26.220293045043945
         ],
         "yaxis": "y"
        },
        {
         "hovertemplate": "<b>%{hovertext}</b><br><br>Cluster #=70<br>37D->2D TSNE1=%{x}<br>37D->2D TSNE2=%{y}<extra></extra>",
         "hovertext": [
          "Ta3.5 Nb2 W2 Mo1.5 Re1",
          "Ta2 Nb1.33 W1.33 Mo1 Re1"
         ],
         "legendgroup": "70",
         "marker": {
          "color": "#AF0038",
          "symbol": "circle"
         },
         "mode": "markers",
         "name": "70",
         "showlegend": true,
         "type": "scattergl",
         "x": [
          37.98074722290039,
          38.35226821899414
         ],
         "xaxis": "x",
         "y": [
          42.857810974121094,
          43.1366081237793
         ],
         "yaxis": "y"
        },
        {
         "hovertemplate": "<b>%{hovertext}</b><br><br>Cluster #=71<br>37D->2D TSNE1=%{x}<br>37D->2D TSNE2=%{y}<extra></extra>",
         "hovertext": [
          "Zr1 Ti2 Ta1 Nb2 Al2",
          "Zr1 Ti2.04 Ta1.14 Nb2.1 Al2.19"
         ],
         "legendgroup": "71",
         "marker": {
          "color": "#2E91E5",
          "symbol": "circle"
         },
         "mode": "markers",
         "name": "71",
         "showlegend": true,
         "type": "scattergl",
         "x": [
          25.441015243530273,
          25.407835006713867
         ],
         "xaxis": "x",
         "y": [
          -35.55669021606445,
          -35.47559356689453
         ],
         "yaxis": "y"
        },
        {
         "hovertemplate": "<b>%{hovertext}</b><br><br>Cluster #=72<br>37D->2D TSNE1=%{x}<br>37D->2D TSNE2=%{y}<extra></extra>",
         "hovertext": [
          "Ta6.32 Nb6.32 W6.36 Mo1",
          "Ta1 Nb1 W1"
         ],
         "legendgroup": "72",
         "marker": {
          "color": "#E15F99",
          "symbol": "circle"
         },
         "mode": "markers",
         "name": "72",
         "showlegend": true,
         "type": "scattergl",
         "x": [
          41.016075134277344,
          41.211360931396484
         ],
         "xaxis": "x",
         "y": [
          38.08241653442383,
          38.16853713989258
         ],
         "yaxis": "y"
        },
        {
         "hovertemplate": "<b>%{hovertext}</b><br><br>Cluster #=73<br>37D->2D TSNE1=%{x}<br>37D->2D TSNE2=%{y}<extra></extra>",
         "hovertext": [
          "Ti3.01 V2.01 Fe2.01 Co2.01 Ni2.01 Cu1",
          "Ti4 V2 Fe2 Co2 Ni2 Cu1",
          "Ti2 V2 Fe2 Co2 Ni2 Cu1"
         ],
         "legendgroup": "73",
         "marker": {
          "color": "#1CA71C",
          "symbol": "circle"
         },
         "mode": "markers",
         "name": "73",
         "showlegend": true,
         "type": "scattergl",
         "x": [
          11.154045104980469,
          11.031721115112305,
          11.212132453918457
         ],
         "xaxis": "x",
         "y": [
          31.460094451904297,
          31.015750885009766,
          32.31772232055664
         ],
         "yaxis": "y"
        },
        {
         "hovertemplate": "<b>%{hovertext}</b><br><br>Cluster #=74<br>37D->2D TSNE1=%{x}<br>37D->2D TSNE2=%{y}<extra></extra>",
         "hovertext": [
          "Ti4.96 Cr4.96 Ni4.96 Cu4.96 Al1",
          "Ti2.49 Cr2.49 Ni2.49 Cu2.49 Al1",
          "Ti1.67 Cr1.67 Ni1.67 Cu1.67 Al1"
         ],
         "legendgroup": "74",
         "marker": {
          "color": "#FB0D0D",
          "symbol": "circle"
         },
         "mode": "markers",
         "name": "74",
         "showlegend": true,
         "type": "scattergl",
         "x": [
          11.703804969787598,
          11.691705703735352,
          11.676342964172363
         ],
         "xaxis": "x",
         "y": [
          -1.8466295003890991,
          -1.5928452014923096,
          -1.231014370918274
         ],
         "yaxis": "y"
        },
        {
         "hovertemplate": "<b>%{hovertext}</b><br><br>Cluster #=75<br>37D->2D TSNE1=%{x}<br>37D->2D TSNE2=%{y}<extra></extra>",
         "hovertext": [
          "Fe1 Co1 Ni2 Cu1 Al1",
          "Fe1 Co1 Ni1.5 Cu1 Al1"
         ],
         "legendgroup": "75",
         "marker": {
          "color": "#DA16FF",
          "symbol": "circle"
         },
         "mode": "markers",
         "name": "75",
         "showlegend": true,
         "type": "scattergl",
         "x": [
          -44.857421875,
          -44.261680603027344
         ],
         "xaxis": "x",
         "y": [
          -24.048938751220703,
          -24.32037925720215
         ],
         "yaxis": "y"
        },
        {
         "hovertemplate": "<b>%{hovertext}</b><br><br>Cluster #=76<br>37D->2D TSNE1=%{x}<br>37D->2D TSNE2=%{y}<extra></extra>",
         "hovertext": [
          "Cr6.8 Fe1 Co3.4 Ni2 Al6.8",
          "Cr6.8 Fe1 Co4.4 Ni2 Al5.8"
         ],
         "legendgroup": "76",
         "marker": {
          "color": "#222A2A",
          "symbol": "circle"
         },
         "mode": "markers",
         "name": "76",
         "showlegend": true,
         "type": "scattergl",
         "x": [
          -4.971811294555664,
          -4.97891092300415
         ],
         "xaxis": "x",
         "y": [
          -66.77024841308594,
          -66.8637924194336
         ],
         "yaxis": "y"
        },
        {
         "hovertemplate": "<b>%{hovertext}</b><br><br>Cluster #=77<br>37D->2D TSNE1=%{x}<br>37D->2D TSNE2=%{y}<extra></extra>",
         "hovertext": [
          "Ti1.5 V1 Mo1 Cr1 Fe1",
          "Ti1.99 V1 Mo1 Cr1 Fe1"
         ],
         "legendgroup": "77",
         "marker": {
          "color": "#B68100",
          "symbol": "circle"
         },
         "mode": "markers",
         "name": "77",
         "showlegend": true,
         "type": "scattergl",
         "x": [
          19.895910263061523,
          19.66345977783203
         ],
         "xaxis": "x",
         "y": [
          -2.123049736022949,
          -2.0783066749572754
         ],
         "yaxis": "y"
        },
        {
         "hovertemplate": "<b>%{hovertext}</b><br><br>Cluster #=78<br>37D->2D TSNE1=%{x}<br>37D->2D TSNE2=%{y}<extra></extra>",
         "hovertext": [
          "Re1 Co2.25 B1.75",
          "Re1 Co1.17 B1.17",
          "Re1.6 Co1 B1.4",
          "Re1.17 Co1 B1.17",
          "Re1 Co3.33 B2.33",
          "Re1 Co1.6 B1.4"
         ],
         "legendgroup": "78",
         "marker": {
          "color": "#750D86",
          "symbol": "circle"
         },
         "mode": "markers",
         "name": "78",
         "showlegend": true,
         "type": "scattergl",
         "x": [
          5.555781841278076,
          5.892241477966309,
          6.098316192626953,
          6.025152206420898,
          5.441880702972412,
          5.733948230743408
         ],
         "xaxis": "x",
         "y": [
          64.17394256591797,
          63.02062225341797,
          62.323665618896484,
          62.57661819458008,
          64.55528259277344,
          63.57350540161133
         ],
         "yaxis": "y"
        },
        {
         "hovertemplate": "<b>%{hovertext}</b><br><br>Cluster #=79<br>37D->2D TSNE1=%{x}<br>37D->2D TSNE2=%{y}<extra></extra>",
         "hovertext": [
          "Ti2.83 Nb2.83 Si1",
          "Ti8 Nb8 Al1 Si3"
         ],
         "legendgroup": "79",
         "marker": {
          "color": "#EB663B",
          "symbol": "circle"
         },
         "mode": "markers",
         "name": "79",
         "showlegend": true,
         "type": "scattergl",
         "x": [
          71.04285430908203,
          71.13724517822266
         ],
         "xaxis": "x",
         "y": [
          21.4700870513916,
          21.38837432861328
         ],
         "yaxis": "y"
        },
        {
         "hovertemplate": "<b>%{hovertext}</b><br><br>Cluster #=80<br>37D->2D TSNE1=%{x}<br>37D->2D TSNE2=%{y}<extra></extra>",
         "hovertext": [
          "Ti1 Ta5.88 V5.88 W5.88 Cr5.88",
          "Ti1 Ta3.33 V3.33 W3.33 Cr3.33",
          "Ta1 V1 W1 Cr1"
         ],
         "legendgroup": "80",
         "marker": {
          "color": "#511CFB",
          "symbol": "circle"
         },
         "mode": "markers",
         "name": "80",
         "showlegend": true,
         "type": "scattergl",
         "x": [
          29.394750595092773,
          29.350753784179688,
          29.426536560058594
         ],
         "xaxis": "x",
         "y": [
          29.253164291381836,
          29.472270965576172,
          29.057559967041016
         ],
         "yaxis": "y"
        },
        {
         "hovertemplate": "<b>%{hovertext}</b><br><br>Cluster #=81<br>37D->2D TSNE1=%{x}<br>37D->2D TSNE2=%{y}<extra></extra>",
         "hovertext": [
          "Mn6.34 Ni6.34 Cu6.34 Sn1",
          "Mn3 Ni3 Cu3 Sn1",
          "Mn3 Ni3 Cu3 Al1",
          "Mn6.34 Ni6.34 Cu6.34 Al1"
         ],
         "legendgroup": "81",
         "marker": {
          "color": "#00A08B",
          "symbol": "circle"
         },
         "mode": "markers",
         "name": "81",
         "showlegend": true,
         "type": "scattergl",
         "x": [
          -86.31653594970703,
          -86.38153076171875,
          -86.01141357421875,
          -86.11226654052734
         ],
         "xaxis": "x",
         "y": [
          1.256790041923523,
          1.1237138509750366,
          1.6893956661224365,
          1.574676752090454
         ],
         "yaxis": "y"
        },
        {
         "hovertemplate": "<b>%{hovertext}</b><br><br>Cluster #=82<br>37D->2D TSNE1=%{x}<br>37D->2D TSNE2=%{y}<extra></extra>",
         "hovertext": [
          "Hf1 Zr1 Ti1 Nb1",
          "Hf2.25 Zr2.25 Ti2.25 Nb2.25 Al1",
          "Hf4.75 Zr4.75 Ti4.75 Nb4.75 Al1",
          "Hf8.08 Zr8.08 Ti8.08 Nb8.08 Al1",
          "Hf1.83 Zr1.83 Ti1.83 Nb1.83 Al1",
          "Hf3.32 Zr3.32 Ti3.32 Nb3.32 Al1"
         ],
         "legendgroup": "82",
         "marker": {
          "color": "#FB00D1",
          "symbol": "circle"
         },
         "mode": "markers",
         "name": "82",
         "showlegend": true,
         "type": "scattergl",
         "x": [
          69.81446838378906,
          70.93412780761719,
          70.06005859375,
          69.91598510742188,
          71.26277923583984,
          70.42779541015625
         ],
         "xaxis": "x",
         "y": [
          -37.200992584228516,
          -39.008819580078125,
          -38.12529373168945,
          -37.666751861572266,
          -39.3014030456543,
          -38.529014587402344
         ],
         "yaxis": "y"
        },
        {
         "hovertemplate": "<b>%{hovertext}</b><br><br>Cluster #=83<br>37D->2D TSNE1=%{x}<br>37D->2D TSNE2=%{y}<extra></extra>",
         "hovertext": [
          "Cr1.11 Fe1.11 Ni2.33 Al1",
          "Cr1 Fe1 Ni2 Al1",
          "Cr2 Fe2 Ni4 Al1",
          "Cr1.43 Fe1.43 Ni3.29 Al1",
          "Cr1.25 Fe1.25 Ni2.75 Al1",
          "Cr3.33 Fe3.33 Ni6.64 Al1",
          "Cr1.67 Fe1.67 Ni4 Al1"
         ],
         "legendgroup": "83",
         "marker": {
          "color": "#FC0080",
          "symbol": "circle"
         },
         "mode": "markers",
         "name": "83",
         "showlegend": true,
         "type": "scattergl",
         "x": [
          -52.940589904785156,
          -52.6748161315918,
          -54.31735610961914,
          -53.75588607788086,
          -53.342281341552734,
          -54.78912353515625,
          -54.06939697265625
         ],
         "xaxis": "x",
         "y": [
          -44.690589904785156,
          -44.97796630859375,
          -43.108924865722656,
          -43.758827209472656,
          -44.22518539428711,
          -42.58588409423828,
          -43.45281982421875
         ],
         "yaxis": "y"
        },
        {
         "hovertemplate": "<b>%{hovertext}</b><br><br>Cluster #=84<br>37D->2D TSNE1=%{x}<br>37D->2D TSNE2=%{y}<extra></extra>",
         "hovertext": [
          "Ti10.17 Cr10.17 Fe10.17 Ni10.17 Cu1",
          "Ti1 Cr1 Fe1 Ni1 Cu1",
          "Ti2 Cr2 Fe2 Ni2 Cu1",
          "Ti3.98 Cr3.98 Fe3.98 Ni3.98 Cu1",
          "Ti1.34 Cr1.34 Fe1.34 Ni1.34 Cu1"
         ],
         "legendgroup": "84",
         "marker": {
          "color": "#B2828D",
          "symbol": "circle"
         },
         "mode": "markers",
         "name": "84",
         "showlegend": true,
         "type": "scattergl",
         "x": [
          1.150123119354248,
          2.4377596378326416,
          1.8768303394317627,
          1.3711397647857666,
          2.2701213359832764
         ],
         "xaxis": "x",
         "y": [
          18.725557327270508,
          17.055665969848633,
          17.79555320739746,
          18.446578979492188,
          17.282333374023438
         ],
         "yaxis": "y"
        },
        {
         "hovertemplate": "<b>%{hovertext}</b><br><br>Cluster #=85<br>37D->2D TSNE1=%{x}<br>37D->2D TSNE2=%{y}<extra></extra>",
         "hovertext": [
          "Ti1.5 Cr1 Fe1 Ni1 Cu1 Al1",
          "Ti1 Cr1 Fe1 Ni1 Cu1 Al1"
         ],
         "legendgroup": "85",
         "marker": {
          "color": "#6C7C32",
          "symbol": "circle"
         },
         "mode": "markers",
         "name": "85",
         "showlegend": true,
         "type": "scattergl",
         "x": [
          10.600046157836914,
          10.609014511108398
         ],
         "xaxis": "x",
         "y": [
          7.147164344787598,
          7.505459785461426
         ],
         "yaxis": "y"
        },
        {
         "hovertemplate": "<b>%{hovertext}</b><br><br>Cluster #=86<br>37D->2D TSNE1=%{x}<br>37D->2D TSNE2=%{y}<extra></extra>",
         "hovertext": [
          "Fe1 Co1.5 Ni1 Cu1 Al1",
          "Fe1 Co1.99 Ni1 Cu1 Al1"
         ],
         "legendgroup": "86",
         "marker": {
          "color": "#778AAE",
          "symbol": "circle"
         },
         "mode": "markers",
         "name": "86",
         "showlegend": true,
         "type": "scattergl",
         "x": [
          -41.81084442138672,
          -42.11456298828125
         ],
         "xaxis": "x",
         "y": [
          -22.428621292114258,
          -21.74178123474121
         ],
         "yaxis": "y"
        },
        {
         "hovertemplate": "<b>%{hovertext}</b><br><br>Cluster #=87<br>37D->2D TSNE1=%{x}<br>37D->2D TSNE2=%{y}<extra></extra>",
         "hovertext": [
          "Ti1 V1 Cr1 Fe1 Ni1 Cu1 Al1.5",
          "Ti1 V1 Cr1 Fe1 Ni1 Cu1 Al1",
          "Ti2 V2 Cr2 Fe2 Ni2 Cu2 Al1"
         ],
         "legendgroup": "87",
         "marker": {
          "color": "#862A16",
          "symbol": "circle"
         },
         "mode": "markers",
         "name": "87",
         "showlegend": true,
         "type": "scattergl",
         "x": [
          11.909697532653809,
          11.654410362243652,
          11.105883598327637
         ],
         "xaxis": "x",
         "y": [
          12.068909645080566,
          12.26525592803955,
          12.748066902160645
         ],
         "yaxis": "y"
        },
        {
         "hovertemplate": "<b>%{hovertext}</b><br><br>Cluster #=88<br>37D->2D TSNE1=%{x}<br>37D->2D TSNE2=%{y}<extra></extra>",
         "hovertext": [
          "Ti1 Mn35 Fe38.75 Ni18.75 Al30",
          "Ti1 Mn9.33 Fe10.33 Ni5 Al8",
          "Mn1.87 Fe2.07 Ni1 Al1.6"
         ],
         "legendgroup": "88",
         "marker": {
          "color": "#A777F1",
          "symbol": "circle"
         },
         "mode": "markers",
         "name": "88",
         "showlegend": true,
         "type": "scattergl",
         "x": [
          -88.26737976074219,
          -88.2695541381836,
          -88.26362609863281
         ],
         "xaxis": "x",
         "y": [
          37.175418853759766,
          37.174034118652344,
          37.178428649902344
         ],
         "yaxis": "y"
        },
        {
         "hovertemplate": "<b>%{hovertext}</b><br><br>Cluster #=89<br>37D->2D TSNE1=%{x}<br>37D->2D TSNE2=%{y}<extra></extra>",
         "hovertext": [
          "Cr10 Mn10 Fe10 Ni10 C1",
          "Cr1 Mn1 Fe1 Ni1"
         ],
         "legendgroup": "89",
         "marker": {
          "color": "#620042",
          "symbol": "circle"
         },
         "mode": "markers",
         "name": "89",
         "showlegend": true,
         "type": "scattergl",
         "x": [
          -83.61761474609375,
          -83.63436889648438
         ],
         "xaxis": "x",
         "y": [
          22.670150756835938,
          22.67046356201172
         ],
         "yaxis": "y"
        },
        {
         "hovertemplate": "<b>%{hovertext}</b><br><br>Cluster #=90<br>37D->2D TSNE1=%{x}<br>37D->2D TSNE2=%{y}<extra></extra>",
         "hovertext": [
          "Zr1 Ti1 Nb1 V1",
          "Zr4.17 Ti4.17 Nb4.17 V4.17 Al1"
         ],
         "legendgroup": "90",
         "marker": {
          "color": "#1616A7",
          "symbol": "circle"
         },
         "mode": "markers",
         "name": "90",
         "showlegend": true,
         "type": "scattergl",
         "x": [
          50.24383544921875,
          50.336387634277344
         ],
         "xaxis": "x",
         "y": [
          -10.621097564697266,
          -10.822683334350586
         ],
         "yaxis": "y"
        },
        {
         "hovertemplate": "<b>%{hovertext}</b><br><br>Cluster #=91<br>37D->2D TSNE1=%{x}<br>37D->2D TSNE2=%{y}<extra></extra>",
         "hovertext": [
          "Zr1 Ti1.02 Nb1.15",
          "Zr1 Ti1 Nb1"
         ],
         "legendgroup": "91",
         "marker": {
          "color": "#DA60CA",
          "symbol": "circle"
         },
         "mode": "markers",
         "name": "91",
         "showlegend": true,
         "type": "scattergl",
         "x": [
          36.642948150634766,
          36.85234832763672
         ],
         "xaxis": "x",
         "y": [
          -25.320552825927734,
          -25.248525619506836
         ],
         "yaxis": "y"
        },
        {
         "hovertemplate": "<b>%{hovertext}</b><br><br>Cluster #=92<br>37D->2D TSNE1=%{x}<br>37D->2D TSNE2=%{y}<extra></extra>",
         "hovertext": [
          "Mo5.3 B1 Si3.7",
          "Mo10.17 B1 Si5.5",
          "Mo11.4 B1 Si7.4",
          "Mo7.38 B1 Si4.12"
         ],
         "legendgroup": "92",
         "marker": {
          "color": "#6C4516",
          "symbol": "circle"
         },
         "mode": "markers",
         "name": "92",
         "showlegend": true,
         "type": "scattergl",
         "x": [
          18.656288146972656,
          19.320310592651367,
          19.120058059692383,
          19.085174560546875
         ],
         "xaxis": "x",
         "y": [
          56.29368209838867,
          56.672096252441406,
          56.229652404785156,
          56.852691650390625
         ],
         "yaxis": "y"
        },
        {
         "hovertemplate": "<b>%{hovertext}</b><br><br>Cluster #=93<br>37D->2D TSNE1=%{x}<br>37D->2D TSNE2=%{y}<extra></extra>",
         "hovertext": [
          "Ta1 Nb1 V1 W1 Mo1 Cr1",
          "Ta1.62 Nb1.57 V1 W1.56 Mo1.54 Cr1.47"
         ],
         "legendgroup": "93",
         "marker": {
          "color": "#0D2A63",
          "symbol": "circle"
         },
         "mode": "markers",
         "name": "93",
         "showlegend": true,
         "type": "scattergl",
         "x": [
          32.98293685913086,
          33.11074447631836
         ],
         "xaxis": "x",
         "y": [
          25.602296829223633,
          25.469316482543945
         ],
         "yaxis": "y"
        },
        {
         "hovertemplate": "<b>%{hovertext}</b><br><br>Cluster #=94<br>37D->2D TSNE1=%{x}<br>37D->2D TSNE2=%{y}<extra></extra>",
         "hovertext": [
          "Cr1.5 Fe2.92 Co1.5 Ni1.5 Al1",
          "Cr1 Fe1.99 Co1 Ni1 Al1"
         ],
         "legendgroup": "94",
         "marker": {
          "color": "#AF0038",
          "symbol": "circle"
         },
         "mode": "markers",
         "name": "94",
         "showlegend": true,
         "type": "scattergl",
         "x": [
          -21.677490234375,
          -21.674314498901367
         ],
         "xaxis": "x",
         "y": [
          -15.289525032043457,
          -15.395453453063965
         ],
         "yaxis": "y"
        },
        {
         "hovertemplate": "<b>%{hovertext}</b><br><br>Cluster #=95<br>37D->2D TSNE1=%{x}<br>37D->2D TSNE2=%{y}<extra></extra>",
         "hovertext": [
          "Zr1 Ti2 Ta1 Nb2 Mo1 Al2",
          "Zr1 Ti1.94 Ta1.31 Nb2.14 Mo1.22 Al1.99"
         ],
         "legendgroup": "95",
         "marker": {
          "color": "#2E91E5",
          "symbol": "circle"
         },
         "mode": "markers",
         "name": "95",
         "showlegend": true,
         "type": "scattergl",
         "x": [
          27.338579177856445,
          27.48421287536621
         ],
         "xaxis": "x",
         "y": [
          -36.480079650878906,
          -36.50975799560547
         ],
         "yaxis": "y"
        },
        {
         "hovertemplate": "<b>%{hovertext}</b><br><br>Cluster #=96<br>37D->2D TSNE1=%{x}<br>37D->2D TSNE2=%{y}<extra></extra>",
         "hovertext": [
          "Cr6.2 Fe1.6 Co2 Ni1.4 Cu1 Al7.8",
          "Cr6 Fe1.4 Co2 Ni1.2 Cu1 Al8.4",
          "Cr5.5 Fe1 Co1 Ni1 Cu1 Al7.17",
          "Cr5.17 Fe1.5 Co1.67 Ni1.33 Cu1 Al6"
         ],
         "legendgroup": "96",
         "marker": {
          "color": "#E15F99",
          "symbol": "circle"
         },
         "mode": "markers",
         "name": "96",
         "showlegend": true,
         "type": "scattergl",
         "x": [
          -4.822269439697266,
          -4.824417591094971,
          -4.8104729652404785,
          -4.824936866760254
         ],
         "xaxis": "x",
         "y": [
          -63.989383697509766,
          -63.640098571777344,
          -63.31318664550781,
          -64.3211441040039
         ],
         "yaxis": "y"
        },
        {
         "hovertemplate": "<b>%{hovertext}</b><br><br>Cluster #=97<br>37D->2D TSNE1=%{x}<br>37D->2D TSNE2=%{y}<extra></extra>",
         "hovertext": [
          "Ti1.38 Nb2.62 Mo1.25 Si1",
          "Ti2.2 Nb5.2 Mo1 Si1.6",
          "Ti4.4 Nb11.4 Mo1 Si3.2",
          "Ti1.47 Nb3.13 Mo1 Si1.07"
         ],
         "legendgroup": "97",
         "marker": {
          "color": "#1CA71C",
          "symbol": "circle"
         },
         "mode": "markers",
         "name": "97",
         "showlegend": true,
         "type": "scattergl",
         "x": [
          72.77840423583984,
          72.8299331665039,
          73.06673431396484,
          72.7037353515625
         ],
         "xaxis": "x",
         "y": [
          17.698091506958008,
          18.779659271240234,
          19.302978515625,
          18.094308853149414
         ],
         "yaxis": "y"
        },
        {
         "hovertemplate": "<b>%{hovertext}</b><br><br>Cluster #=98<br>37D->2D TSNE1=%{x}<br>37D->2D TSNE2=%{y}<extra></extra>",
         "hovertext": [
          "W6.32 Ni9.2 Cu1 B3.48",
          "W1.82 Ni2.93 B1"
         ],
         "legendgroup": "98",
         "marker": {
          "color": "#FB0D0D",
          "symbol": "circle"
         },
         "mode": "markers",
         "name": "98",
         "showlegend": true,
         "type": "scattergl",
         "x": [
          -16.723201751708984,
          -16.666616439819336
         ],
         "xaxis": "x",
         "y": [
          66.87332916259766,
          66.82302856445312
         ],
         "yaxis": "y"
        },
        {
         "hovertemplate": "<b>%{hovertext}</b><br><br>Cluster #=99<br>37D->2D TSNE1=%{x}<br>37D->2D TSNE2=%{y}<extra></extra>",
         "hovertext": [
          "Mo5 B2 Si1",
          "Mo6.18 B1.91 Si1"
         ],
         "legendgroup": "99",
         "marker": {
          "color": "#DA16FF",
          "symbol": "circle"
         },
         "mode": "markers",
         "name": "99",
         "showlegend": true,
         "type": "scattergl",
         "x": [
          20.117338180541992,
          20.135940551757812
         ],
         "xaxis": "x",
         "y": [
          60.765830993652344,
          60.827392578125
         ],
         "yaxis": "y"
        },
        {
         "hovertemplate": "<b>%{hovertext}</b><br><br>Cluster #=100<br>37D->2D TSNE1=%{x}<br>37D->2D TSNE2=%{y}<extra></extra>",
         "hovertext": [
          "Mo1.07 Cr1.79 Fe7.86 Co2.57 Ni1",
          "Mo1 Cr2.5 Fe11 Co3.5 Ni2"
         ],
         "legendgroup": "100",
         "marker": {
          "color": "#222A2A",
          "symbol": "circle"
         },
         "mode": "markers",
         "name": "100",
         "showlegend": true,
         "type": "scattergl",
         "x": [
          -24.449535369873047,
          -24.644412994384766
         ],
         "xaxis": "x",
         "y": [
          -6.971729755401611,
          -6.6820573806762695
         ],
         "yaxis": "y"
        },
        {
         "hovertemplate": "<b>%{hovertext}</b><br><br>Cluster #=101<br>37D->2D TSNE1=%{x}<br>37D->2D TSNE2=%{y}<extra></extra>",
         "hovertext": [
          "Nb11.6 Fe1 Co1 Ni1 Cu1",
          "Nb15 Fe1 Co1 Ni1 Cu1"
         ],
         "legendgroup": "101",
         "marker": {
          "color": "#B68100",
          "symbol": "circle"
         },
         "mode": "markers",
         "name": "101",
         "showlegend": true,
         "type": "scattergl",
         "x": [
          77.80723571777344,
          77.89539337158203
         ],
         "xaxis": "x",
         "y": [
          22.396732330322266,
          22.255090713500977
         ],
         "yaxis": "y"
        },
        {
         "hovertemplate": "<b>%{hovertext}</b><br><br>Cluster #=102<br>37D->2D TSNE1=%{x}<br>37D->2D TSNE2=%{y}<extra></extra>",
         "hovertext": [
          "Fe2 Co2 Ni2 Si1",
          "Fe1.33 Co1.33 Ni1.33 Si1"
         ],
         "legendgroup": "102",
         "marker": {
          "color": "#750D86",
          "symbol": "circle"
         },
         "mode": "markers",
         "name": "102",
         "showlegend": true,
         "type": "scattergl",
         "x": [
          -27.162946701049805,
          -26.863853454589844
         ],
         "xaxis": "x",
         "y": [
          48.37001419067383,
          48.403324127197266
         ],
         "yaxis": "y"
        },
        {
         "hovertemplate": "<b>%{hovertext}</b><br><br>Cluster #=103<br>37D->2D TSNE1=%{x}<br>37D->2D TSNE2=%{y}<extra></extra>",
         "hovertext": [
          "Fe2 Co2 Ni1 Cu2 Al2",
          "Fe1.25 Co1.25 Ni1 Cu1.25 Al1.25",
          "Fe1 Co1 Ni1 Cu1 Al1"
         ],
         "legendgroup": "103",
         "marker": {
          "color": "#EB663B",
          "symbol": "circle"
         },
         "mode": "markers",
         "name": "103",
         "showlegend": true,
         "type": "scattergl",
         "x": [
          -40.87944412231445,
          -41.05317687988281,
          -41.36861801147461
         ],
         "xaxis": "x",
         "y": [
          -23.53095817565918,
          -24.071584701538086,
          -24.35348892211914
         ],
         "yaxis": "y"
        },
        {
         "hovertemplate": "<b>%{hovertext}</b><br><br>Cluster #=104<br>37D->2D TSNE1=%{x}<br>37D->2D TSNE2=%{y}<extra></extra>",
         "hovertext": [
          "Cr1 Fe1 Co1 Ni1 Al1 C1.5",
          "Cr1 Fe1 Co1 Ni1 Al1 C1"
         ],
         "legendgroup": "104",
         "marker": {
          "color": "#511CFB",
          "symbol": "circle"
         },
         "mode": "markers",
         "name": "104",
         "showlegend": true,
         "type": "scattergl",
         "x": [
          -1.6151092052459717,
          -1.716843605041504
         ],
         "xaxis": "x",
         "y": [
          -14.00706672668457,
          -14.10278606414795
         ],
         "yaxis": "y"
        },
        {
         "hovertemplate": "<b>%{hovertext}</b><br><br>Cluster #=105<br>37D->2D TSNE1=%{x}<br>37D->2D TSNE2=%{y}<extra></extra>",
         "hovertext": [
          "W1 Cr20 Mn20 Fe20 Cu20 Al20",
          "W1 Cr10 Mn10 Fe10 Cu10 Al10",
          "Cr1 Mn1 Fe1 Cu1 Al1"
         ],
         "legendgroup": "105",
         "marker": {
          "color": "#00A08B",
          "symbol": "circle"
         },
         "mode": "markers",
         "name": "105",
         "showlegend": true,
         "type": "scattergl",
         "x": [
          -55.49816131591797,
          -55.4258918762207,
          -55.56882858276367
         ],
         "xaxis": "x",
         "y": [
          -31.317848205566406,
          -31.346044540405273,
          -31.302640914916992
         ],
         "yaxis": "y"
        },
        {
         "hovertemplate": "<b>%{hovertext}</b><br><br>Cluster #=106<br>37D->2D TSNE1=%{x}<br>37D->2D TSNE2=%{y}<extra></extra>",
         "hovertext": [
          "Y1 Ti1 Cr1 Co1 Ni1 Cu1 Al1",
          "Y1 Ti1.25 Cr1.25 Co1.25 Ni1.25 Cu1.25 Al1.25",
          "Y1 Ti2 Cr2 Co2 Ni2 Cu2 Al2"
         ],
         "legendgroup": "106",
         "marker": {
          "color": "#FB00D1",
          "symbol": "circle"
         },
         "mode": "markers",
         "name": "106",
         "showlegend": true,
         "type": "scattergl",
         "x": [
          4.6894636154174805,
          4.8216962814331055,
          5.176786422729492
         ],
         "xaxis": "x",
         "y": [
          -6.0026326179504395,
          -5.9250569343566895,
          -5.706151962280273
         ],
         "yaxis": "y"
        },
        {
         "hovertemplate": "<b>%{hovertext}</b><br><br>Cluster #=107<br>37D->2D TSNE1=%{x}<br>37D->2D TSNE2=%{y}<extra></extra>",
         "hovertext": [
          "Ti1.5 Ta1 Nb1 V1 Mo1",
          "Ti2 Ta1 Nb1 V1 Mo1"
         ],
         "legendgroup": "107",
         "marker": {
          "color": "#FC0080",
          "symbol": "circle"
         },
         "mode": "markers",
         "name": "107",
         "showlegend": true,
         "type": "scattergl",
         "x": [
          37.447181701660156,
          37.67401123046875
         ],
         "xaxis": "x",
         "y": [
          18.488794326782227,
          18.306997299194336
         ],
         "yaxis": "y"
        },
        {
         "hovertemplate": "<b>%{hovertext}</b><br><br>Cluster #=108<br>37D->2D TSNE1=%{x}<br>37D->2D TSNE2=%{y}<extra></extra>",
         "hovertext": [
          "Ti5 Ta5 V5 Mo5 Al1",
          "Ti1 Ta1 V1 Mo1"
         ],
         "legendgroup": "108",
         "marker": {
          "color": "#B2828D",
          "symbol": "circle"
         },
         "mode": "markers",
         "name": "108",
         "showlegend": true,
         "type": "scattergl",
         "x": [
          37.00686264038086,
          36.891258239746094
         ],
         "xaxis": "x",
         "y": [
          13.604652404785156,
          13.826468467712402
         ],
         "yaxis": "y"
        },
        {
         "hovertemplate": "<b>%{hovertext}</b><br><br>Cluster #=109<br>37D->2D TSNE1=%{x}<br>37D->2D TSNE2=%{y}<extra></extra>",
         "hovertext": [
          "Li1 Mg1 Cu1 Zn1 Al16",
          "Li1 Mg1 Zn1 Al16 Sn1"
         ],
         "legendgroup": "109",
         "marker": {
          "color": "#6C7C32",
          "symbol": "circle"
         },
         "mode": "markers",
         "name": "109",
         "showlegend": true,
         "type": "scattergl",
         "x": [
          7.118669509887695,
          7.113144874572754
         ],
         "xaxis": "x",
         "y": [
          -55.71894836425781,
          -55.70241165161133
         ],
         "yaxis": "y"
        },
        {
         "hovertemplate": "<b>%{hovertext}</b><br><br>Cluster #=110<br>37D->2D TSNE1=%{x}<br>37D->2D TSNE2=%{y}<extra></extra>",
         "hovertext": [
          "Ti2 Nb2 V2 Mo1 Cr3",
          "Ti2 Nb2 V2 Mo1 Cr4"
         ],
         "legendgroup": "110",
         "marker": {
          "color": "#778AAE",
          "symbol": "circle"
         },
         "mode": "markers",
         "name": "110",
         "showlegend": true,
         "type": "scattergl",
         "x": [
          28.633607864379883,
          28.371313095092773
         ],
         "xaxis": "x",
         "y": [
          -5.848907947540283,
          -5.944873809814453
         ],
         "yaxis": "y"
        },
        {
         "hovertemplate": "<b>%{hovertext}</b><br><br>Cluster #=111<br>37D->2D TSNE1=%{x}<br>37D->2D TSNE2=%{y}<extra></extra>",
         "hovertext": [
          "Cr1 Fe1.94 Ni1.94 Al1",
          "Cr1 Fe2 Ni2 Al1"
         ],
         "legendgroup": "111",
         "marker": {
          "color": "#862A16",
          "symbol": "circle"
         },
         "mode": "markers",
         "name": "111",
         "showlegend": true,
         "type": "scattergl",
         "x": [
          -50.64303207397461,
          -50.6439323425293
         ],
         "xaxis": "x",
         "y": [
          -50.724952697753906,
          -50.72339630126953
         ],
         "yaxis": "y"
        },
        {
         "hovertemplate": "<b>%{hovertext}</b><br><br>Cluster #=112<br>37D->2D TSNE1=%{x}<br>37D->2D TSNE2=%{y}<extra></extra>",
         "hovertext": [
          "Hf1 Zr1 Ti1 Nb1 O1.5",
          "Hf1 Zr1 Ti1 Nb1 O2"
         ],
         "legendgroup": "112",
         "marker": {
          "color": "#A777F1",
          "symbol": "circle"
         },
         "mode": "markers",
         "name": "112",
         "showlegend": true,
         "type": "scattergl",
         "x": [
          69.56353759765625,
          69.55953216552734
         ],
         "xaxis": "x",
         "y": [
          -44.4169807434082,
          -44.63426208496094
         ],
         "yaxis": "y"
        },
        {
         "hovertemplate": "<b>%{hovertext}</b><br><br>Cluster #=113<br>37D->2D TSNE1=%{x}<br>37D->2D TSNE2=%{y}<extra></extra>",
         "hovertext": [
          "Mo4.64 B1 Si1.5",
          "Mo4 B1 Si1.25"
         ],
         "legendgroup": "113",
         "marker": {
          "color": "#620042",
          "symbol": "circle"
         },
         "mode": "markers",
         "name": "113",
         "showlegend": true,
         "type": "scattergl",
         "x": [
          19.673913955688477,
          19.718711853027344
         ],
         "xaxis": "x",
         "y": [
          59.22539520263672,
          59.38603973388672
         ],
         "yaxis": "y"
        }
       ],
       "layout": {
        "legend": {
         "title": {
          "text": "Cluster #"
         },
         "tracegroupgap": 0
        },
        "margin": {
         "t": 60
        },
        "template": {
         "data": {
          "bar": [
           {
            "error_x": {
             "color": "#2a3f5f"
            },
            "error_y": {
             "color": "#2a3f5f"
            },
            "marker": {
             "line": {
              "color": "white",
              "width": 0.5
             },
             "pattern": {
              "fillmode": "overlay",
              "size": 10,
              "solidity": 0.2
             }
            },
            "type": "bar"
           }
          ],
          "barpolar": [
           {
            "marker": {
             "line": {
              "color": "white",
              "width": 0.5
             },
             "pattern": {
              "fillmode": "overlay",
              "size": 10,
              "solidity": 0.2
             }
            },
            "type": "barpolar"
           }
          ],
          "carpet": [
           {
            "aaxis": {
             "endlinecolor": "#2a3f5f",
             "gridcolor": "#C8D4E3",
             "linecolor": "#C8D4E3",
             "minorgridcolor": "#C8D4E3",
             "startlinecolor": "#2a3f5f"
            },
            "baxis": {
             "endlinecolor": "#2a3f5f",
             "gridcolor": "#C8D4E3",
             "linecolor": "#C8D4E3",
             "minorgridcolor": "#C8D4E3",
             "startlinecolor": "#2a3f5f"
            },
            "type": "carpet"
           }
          ],
          "choropleth": [
           {
            "colorbar": {
             "outlinewidth": 0,
             "ticks": ""
            },
            "type": "choropleth"
           }
          ],
          "contour": [
           {
            "colorbar": {
             "outlinewidth": 0,
             "ticks": ""
            },
            "colorscale": [
             [
              0,
              "#0d0887"
             ],
             [
              0.1111111111111111,
              "#46039f"
             ],
             [
              0.2222222222222222,
              "#7201a8"
             ],
             [
              0.3333333333333333,
              "#9c179e"
             ],
             [
              0.4444444444444444,
              "#bd3786"
             ],
             [
              0.5555555555555556,
              "#d8576b"
             ],
             [
              0.6666666666666666,
              "#ed7953"
             ],
             [
              0.7777777777777778,
              "#fb9f3a"
             ],
             [
              0.8888888888888888,
              "#fdca26"
             ],
             [
              1,
              "#f0f921"
             ]
            ],
            "type": "contour"
           }
          ],
          "contourcarpet": [
           {
            "colorbar": {
             "outlinewidth": 0,
             "ticks": ""
            },
            "type": "contourcarpet"
           }
          ],
          "heatmap": [
           {
            "colorbar": {
             "outlinewidth": 0,
             "ticks": ""
            },
            "colorscale": [
             [
              0,
              "#0d0887"
             ],
             [
              0.1111111111111111,
              "#46039f"
             ],
             [
              0.2222222222222222,
              "#7201a8"
             ],
             [
              0.3333333333333333,
              "#9c179e"
             ],
             [
              0.4444444444444444,
              "#bd3786"
             ],
             [
              0.5555555555555556,
              "#d8576b"
             ],
             [
              0.6666666666666666,
              "#ed7953"
             ],
             [
              0.7777777777777778,
              "#fb9f3a"
             ],
             [
              0.8888888888888888,
              "#fdca26"
             ],
             [
              1,
              "#f0f921"
             ]
            ],
            "type": "heatmap"
           }
          ],
          "heatmapgl": [
           {
            "colorbar": {
             "outlinewidth": 0,
             "ticks": ""
            },
            "colorscale": [
             [
              0,
              "#0d0887"
             ],
             [
              0.1111111111111111,
              "#46039f"
             ],
             [
              0.2222222222222222,
              "#7201a8"
             ],
             [
              0.3333333333333333,
              "#9c179e"
             ],
             [
              0.4444444444444444,
              "#bd3786"
             ],
             [
              0.5555555555555556,
              "#d8576b"
             ],
             [
              0.6666666666666666,
              "#ed7953"
             ],
             [
              0.7777777777777778,
              "#fb9f3a"
             ],
             [
              0.8888888888888888,
              "#fdca26"
             ],
             [
              1,
              "#f0f921"
             ]
            ],
            "type": "heatmapgl"
           }
          ],
          "histogram": [
           {
            "marker": {
             "pattern": {
              "fillmode": "overlay",
              "size": 10,
              "solidity": 0.2
             }
            },
            "type": "histogram"
           }
          ],
          "histogram2d": [
           {
            "colorbar": {
             "outlinewidth": 0,
             "ticks": ""
            },
            "colorscale": [
             [
              0,
              "#0d0887"
             ],
             [
              0.1111111111111111,
              "#46039f"
             ],
             [
              0.2222222222222222,
              "#7201a8"
             ],
             [
              0.3333333333333333,
              "#9c179e"
             ],
             [
              0.4444444444444444,
              "#bd3786"
             ],
             [
              0.5555555555555556,
              "#d8576b"
             ],
             [
              0.6666666666666666,
              "#ed7953"
             ],
             [
              0.7777777777777778,
              "#fb9f3a"
             ],
             [
              0.8888888888888888,
              "#fdca26"
             ],
             [
              1,
              "#f0f921"
             ]
            ],
            "type": "histogram2d"
           }
          ],
          "histogram2dcontour": [
           {
            "colorbar": {
             "outlinewidth": 0,
             "ticks": ""
            },
            "colorscale": [
             [
              0,
              "#0d0887"
             ],
             [
              0.1111111111111111,
              "#46039f"
             ],
             [
              0.2222222222222222,
              "#7201a8"
             ],
             [
              0.3333333333333333,
              "#9c179e"
             ],
             [
              0.4444444444444444,
              "#bd3786"
             ],
             [
              0.5555555555555556,
              "#d8576b"
             ],
             [
              0.6666666666666666,
              "#ed7953"
             ],
             [
              0.7777777777777778,
              "#fb9f3a"
             ],
             [
              0.8888888888888888,
              "#fdca26"
             ],
             [
              1,
              "#f0f921"
             ]
            ],
            "type": "histogram2dcontour"
           }
          ],
          "mesh3d": [
           {
            "colorbar": {
             "outlinewidth": 0,
             "ticks": ""
            },
            "type": "mesh3d"
           }
          ],
          "parcoords": [
           {
            "line": {
             "colorbar": {
              "outlinewidth": 0,
              "ticks": ""
             }
            },
            "type": "parcoords"
           }
          ],
          "pie": [
           {
            "automargin": true,
            "type": "pie"
           }
          ],
          "scatter": [
           {
            "fillpattern": {
             "fillmode": "overlay",
             "size": 10,
             "solidity": 0.2
            },
            "type": "scatter"
           }
          ],
          "scatter3d": [
           {
            "line": {
             "colorbar": {
              "outlinewidth": 0,
              "ticks": ""
             }
            },
            "marker": {
             "colorbar": {
              "outlinewidth": 0,
              "ticks": ""
             }
            },
            "type": "scatter3d"
           }
          ],
          "scattercarpet": [
           {
            "marker": {
             "colorbar": {
              "outlinewidth": 0,
              "ticks": ""
             }
            },
            "type": "scattercarpet"
           }
          ],
          "scattergeo": [
           {
            "marker": {
             "colorbar": {
              "outlinewidth": 0,
              "ticks": ""
             }
            },
            "type": "scattergeo"
           }
          ],
          "scattergl": [
           {
            "marker": {
             "colorbar": {
              "outlinewidth": 0,
              "ticks": ""
             }
            },
            "type": "scattergl"
           }
          ],
          "scattermapbox": [
           {
            "marker": {
             "colorbar": {
              "outlinewidth": 0,
              "ticks": ""
             }
            },
            "type": "scattermapbox"
           }
          ],
          "scatterpolar": [
           {
            "marker": {
             "colorbar": {
              "outlinewidth": 0,
              "ticks": ""
             }
            },
            "type": "scatterpolar"
           }
          ],
          "scatterpolargl": [
           {
            "marker": {
             "colorbar": {
              "outlinewidth": 0,
              "ticks": ""
             }
            },
            "type": "scatterpolargl"
           }
          ],
          "scatterternary": [
           {
            "marker": {
             "colorbar": {
              "outlinewidth": 0,
              "ticks": ""
             }
            },
            "type": "scatterternary"
           }
          ],
          "surface": [
           {
            "colorbar": {
             "outlinewidth": 0,
             "ticks": ""
            },
            "colorscale": [
             [
              0,
              "#0d0887"
             ],
             [
              0.1111111111111111,
              "#46039f"
             ],
             [
              0.2222222222222222,
              "#7201a8"
             ],
             [
              0.3333333333333333,
              "#9c179e"
             ],
             [
              0.4444444444444444,
              "#bd3786"
             ],
             [
              0.5555555555555556,
              "#d8576b"
             ],
             [
              0.6666666666666666,
              "#ed7953"
             ],
             [
              0.7777777777777778,
              "#fb9f3a"
             ],
             [
              0.8888888888888888,
              "#fdca26"
             ],
             [
              1,
              "#f0f921"
             ]
            ],
            "type": "surface"
           }
          ],
          "table": [
           {
            "cells": {
             "fill": {
              "color": "#EBF0F8"
             },
             "line": {
              "color": "white"
             }
            },
            "header": {
             "fill": {
              "color": "#C8D4E3"
             },
             "line": {
              "color": "white"
             }
            },
            "type": "table"
           }
          ]
         },
         "layout": {
          "annotationdefaults": {
           "arrowcolor": "#2a3f5f",
           "arrowhead": 0,
           "arrowwidth": 1
          },
          "autotypenumbers": "strict",
          "coloraxis": {
           "colorbar": {
            "outlinewidth": 0,
            "ticks": ""
           }
          },
          "colorscale": {
           "diverging": [
            [
             0,
             "#8e0152"
            ],
            [
             0.1,
             "#c51b7d"
            ],
            [
             0.2,
             "#de77ae"
            ],
            [
             0.3,
             "#f1b6da"
            ],
            [
             0.4,
             "#fde0ef"
            ],
            [
             0.5,
             "#f7f7f7"
            ],
            [
             0.6,
             "#e6f5d0"
            ],
            [
             0.7,
             "#b8e186"
            ],
            [
             0.8,
             "#7fbc41"
            ],
            [
             0.9,
             "#4d9221"
            ],
            [
             1,
             "#276419"
            ]
           ],
           "sequential": [
            [
             0,
             "#0d0887"
            ],
            [
             0.1111111111111111,
             "#46039f"
            ],
            [
             0.2222222222222222,
             "#7201a8"
            ],
            [
             0.3333333333333333,
             "#9c179e"
            ],
            [
             0.4444444444444444,
             "#bd3786"
            ],
            [
             0.5555555555555556,
             "#d8576b"
            ],
            [
             0.6666666666666666,
             "#ed7953"
            ],
            [
             0.7777777777777778,
             "#fb9f3a"
            ],
            [
             0.8888888888888888,
             "#fdca26"
            ],
            [
             1,
             "#f0f921"
            ]
           ],
           "sequentialminus": [
            [
             0,
             "#0d0887"
            ],
            [
             0.1111111111111111,
             "#46039f"
            ],
            [
             0.2222222222222222,
             "#7201a8"
            ],
            [
             0.3333333333333333,
             "#9c179e"
            ],
            [
             0.4444444444444444,
             "#bd3786"
            ],
            [
             0.5555555555555556,
             "#d8576b"
            ],
            [
             0.6666666666666666,
             "#ed7953"
            ],
            [
             0.7777777777777778,
             "#fb9f3a"
            ],
            [
             0.8888888888888888,
             "#fdca26"
            ],
            [
             1,
             "#f0f921"
            ]
           ]
          },
          "colorway": [
           "#636efa",
           "#EF553B",
           "#00cc96",
           "#ab63fa",
           "#FFA15A",
           "#19d3f3",
           "#FF6692",
           "#B6E880",
           "#FF97FF",
           "#FECB52"
          ],
          "font": {
           "color": "#2a3f5f"
          },
          "geo": {
           "bgcolor": "white",
           "lakecolor": "white",
           "landcolor": "white",
           "showlakes": true,
           "showland": true,
           "subunitcolor": "#C8D4E3"
          },
          "hoverlabel": {
           "align": "left"
          },
          "hovermode": "closest",
          "mapbox": {
           "style": "light"
          },
          "paper_bgcolor": "white",
          "plot_bgcolor": "white",
          "polar": {
           "angularaxis": {
            "gridcolor": "#EBF0F8",
            "linecolor": "#EBF0F8",
            "ticks": ""
           },
           "bgcolor": "white",
           "radialaxis": {
            "gridcolor": "#EBF0F8",
            "linecolor": "#EBF0F8",
            "ticks": ""
           }
          },
          "scene": {
           "xaxis": {
            "backgroundcolor": "white",
            "gridcolor": "#DFE8F3",
            "gridwidth": 2,
            "linecolor": "#EBF0F8",
            "showbackground": true,
            "ticks": "",
            "zerolinecolor": "#EBF0F8"
           },
           "yaxis": {
            "backgroundcolor": "white",
            "gridcolor": "#DFE8F3",
            "gridwidth": 2,
            "linecolor": "#EBF0F8",
            "showbackground": true,
            "ticks": "",
            "zerolinecolor": "#EBF0F8"
           },
           "zaxis": {
            "backgroundcolor": "white",
            "gridcolor": "#DFE8F3",
            "gridwidth": 2,
            "linecolor": "#EBF0F8",
            "showbackground": true,
            "ticks": "",
            "zerolinecolor": "#EBF0F8"
           }
          },
          "shapedefaults": {
           "line": {
            "color": "#2a3f5f"
           }
          },
          "ternary": {
           "aaxis": {
            "gridcolor": "#DFE8F3",
            "linecolor": "#A2B1C6",
            "ticks": ""
           },
           "baxis": {
            "gridcolor": "#DFE8F3",
            "linecolor": "#A2B1C6",
            "ticks": ""
           },
           "bgcolor": "white",
           "caxis": {
            "gridcolor": "#DFE8F3",
            "linecolor": "#A2B1C6",
            "ticks": ""
           }
          },
          "title": {
           "x": 0.05
          },
          "xaxis": {
           "automargin": true,
           "gridcolor": "#EBF0F8",
           "linecolor": "#EBF0F8",
           "ticks": "",
           "title": {
            "standoff": 15
           },
           "zerolinecolor": "#EBF0F8",
           "zerolinewidth": 2
          },
          "yaxis": {
           "automargin": true,
           "gridcolor": "#EBF0F8",
           "linecolor": "#EBF0F8",
           "ticks": "",
           "title": {
            "standoff": 15
           },
           "zerolinecolor": "#EBF0F8",
           "zerolinewidth": 2
          }
         }
        },
        "xaxis": {
         "anchor": "y",
         "domain": [
          0,
          1
         ],
         "title": {
          "text": "37D->2D TSNE1"
         }
        },
        "yaxis": {
         "anchor": "x",
         "domain": [
          0,
          1
         ],
         "title": {
          "text": "37D->2D TSNE2"
         }
        }
       }
      }
     },
     "metadata": {},
     "output_type": "display_data"
    }
   ],
   "source": [
    "allD.showClustersDBSCAN()"
   ]
  },
  {
   "cell_type": "code",
   "execution_count": 28,
   "metadata": {
    "ExecuteTime": {
     "end_time": "2023-03-28T14:50:57.642106Z",
     "start_time": "2023-03-28T14:50:57.607665Z"
    },
    "collapsed": false
   },
   "outputs": [
    {
     "data": {
      "application/vnd.plotly.v1+json": {
       "config": {
        "plotlyServerURL": "https://plot.ly"
       },
       "data": [
        {
         "hovertemplate": "<b>%{hovertext}</b><br><br>Classification=outlier<br>37D->2D TSNE1=%{x}<br>37D->2D TSNE2=%{y}<extra></extra>",
         "hovertext": [
          "Hf1 Ta1 Nb1",
          "Zr1 Ti1 Ta1 Nb1 V1",
          "Cr1 Mn1 Fe1 Ni1 Cu1 Al1.5",
          "Ti1 Mo1 Cr1 Al1",
          "Ti1.5 V1 Fe1 Co1 Ni1 Cu1",
          "Ti1 Nb1 W1 Ru1",
          "Zr1 Ti1 Nb1 Cr1",
          "Zr1 Ti1 V1 Fe1 Co1 Ni1 Al1",
          "Hf1 Ti1 Nb1",
          "Hf1 Zr1 Ti1 Nb3",
          "Cr1 Fe1 Co1 Ni1 Ga1",
          "Ti1 Fe2 Co2 Ni2 Al1",
          "Nd1 Fe1 Co1 Ni1 Cu1 Al1",
          "Cr1 Fe1 Co2 Ni2 Al1",
          "Ta2.5 Nb2.5 V1 W4 Mo2.5",
          "Ti1 Ta1 Nb1 V1 W1 Mo1",
          "Cr1 Fe2 Co1 Ni1",
          "Ti1 Cr3.33 Fe3.33 Co1.67 Ni5",
          "W4.54 Cr1 Ni3.38 B2.42",
          "Hf1 Ti4 Ta2.5 V4.5",
          "Hf2 Ti13 Nb25.5 Cr1 Al1 Si7.5",
          "Zr1 Ti1 Ta1 Nb1 V1 W1 Mo1 Cr1",
          "Zr1 Ti1 V1 Mo1 Cr1 Fe1 Co1 Ni1",
          "Ti1 Ta88.5 W10 C1.5",
          "Zr1 Ti1 Ta1",
          "Zr1 Ti1 V1 Fe1 Ni1 Cu1",
          "Cr1.8 Mn2.2 Fe5 Ni1",
          "Ti1 Nb1 V1 Cr1 Ni1 Al5",
          "Ti1 V1 Mo1 Cr1 Fe1",
          "Ti1 Cr2 Fe2 Co1 Ni2",
          "Zr1 Ti1 V1 Cr1 Fe1 Co1 Ni1 Cu1",
          "Zr1 Ti1 V1 Fe1 Co1 Ni1 Cu1",
          "Ta2.33 Co1 Ni2.22",
          "Zr8 Ti6 Ta1 Nb3 Al2",
          "Hf1.5 Zr1 Ti1 Nb1 Mo1",
          "Ti1 W1 Re1",
          "Ti1 Ni1 Cu1 Al1",
          "Zr1 Ta2.13 Ru3.53",
          "Hf3 Mo1 B14 Si10",
          "Hf1 Ti1 Ta1 Al1",
          "Zr1 Ti1 Nb1 Cr3",
          "Cr2 Fe2 Ni2 Cu1 Al2",
          "W1.2 Cr1 Ni3.38 B2.42",
          "Hf1 Zr1 Ti1 Ta1 Nb1 V1 N1",
          "Ta1 Nb1 V1 W1",
          "Ti1 Ta1 Nb1 Al1",
          "Ti21 Nb1 Si16",
          "Cr2 Fe1 Co2 Ni2 Cu1 Al2",
          "V1 W3 Mo1 Ru1",
          "Ti1 Fe1 Co1 Ni1 Al1",
          "Hf1 Ti5 Ta5 V1",
          "Hf1.5 Zr2.5 Ti3 Ta1 Nb2",
          "Zr10 Ti8 Ni29.5 Sn1.5 Si1",
          "Ti1 Nb1 W3 Ru1",
          "Mo1 Cr33 Ni33 Al33",
          "Cr1 Fe2.99 Co1 Ni1",
          "Cr4 Mn4 Fe4 Ni4 Cu2 Al1",
          "Cr1 Fe1 Co1.99 Ni1 Cu1",
          "Zr1 Ti4 Nb1.5 Cr2 Al1.5",
          "Ti1 Ta1.52 Nb1.36 V1.04 W1.08",
          "Ti1 Fe1 Co1 Ni1 Cu1",
          "Ti1 W2 Re1",
          "Fe1 Co1 Ni3 Cu1 Al1",
          "Hf1 Zr1 Ti1 Ta1 C4",
          "Ti1 Cr3.33 Fe3.33 Ni6.67",
          "Ta1 V1.33 W4 Mo1.67",
          "Zr1 Ti3.35 Nb3.35 Mo3.35 Cr1",
          "Cr1 Mn1 Fe1 Co1 Ni1 C1",
          "Mo3.62 Ni3.08 Si1",
          "Ti1 Ta1 W1 Mo1",
          "Fe4 Co4 Ni4 Al1",
          "Zr1 Ti1 Nb1 W1 Mo1",
          "Cr1 Mn1.06 Fe1.75 Co1.83 Ni1.81",
          "Nb8 W2.33 Cr1 Co11 Al11",
          "Ti2 Mo2 Cr2 Fe2 Co2 Ni2 Cu2 Al2 B1 Si2",
          "Hf1 Cr14.14 Co7.94 Ni56.1 Al24.65 C0 N0 O0.12",
          "Ti1 Ta1 Nb1 V1 Mo1",
          "Ti2 Nb2 Mo2 Cr2 Al1",
          "Ti6 Nb35 V1 Cr8 Al5",
          "Hf1 Zr1 Ti1 Ta1 Nb1 W1",
          "Ti10.78 Mo10.78 Cr10.78 Al1",
          "Ti13 Ta1 Nb42 V12 Mo20 Cr12",
          "Mo4.14 B1 Si2",
          "Nb1 Fe2 Co2 Ni2 Cu2",
          "Zr1 Ti1 Nb1 V2",
          "Ta1.87 Nb1.87 W1.93 Mo1",
          "Zr0 Ta38.86 Nb0.06 W1 Mo0 Fe0.08 C0 N0 O0",
          "Cr1 Mn3 Fe5 Ni1",
          "Ta1 Nb1 W1 Mo1 Re1",
          "Hf2 Zr1 Ti2 Nb2 Mo2",
          "V1 W1 Mo1 Ru1",
          "Ti1 Cr1 Fe1 Ni1 Al1",
          "Zr3.5 Ti4.5 Ta1 Al1",
          "Ti1 Nb1 Mo1",
          "Ti1 Nb1 Mo1 Cr1 Co1",
          "Zr1 Ta1 Nb1",
          "V1 Cr1 Fe4.5 Co2 Ni1.5",
          "Cr2 Fe2 Co2 Ni1 Cu2 Al2",
          "Hf1 Ti1 Ta1 Nb1",
          "Zr1 Ti1 V1 Mo1",
          "Ti1 V1 Cr1 Fe1 Ni1 Cu1",
          "Ti1 Cr1.33 Fe2.5 Co4.17 Ni6 Al1.67",
          "Ti1 Nb1 Mo1 Al1",
          "Zr1 Ti3.3 Nb3.3 V1.98 Mo3.3 Cr1 Al1.98",
          "Cr1 Fe1 Co1.99 Ni1 Al1",
          "Zr3.18 Ti3.36 Nb3.95 Cr1",
          "Zr1.27 Ta1.07 Ru1",
          "W1 Ir22 Al2",
          "Hf1.15 Ti9.85 Nb31.31 W1 Mo3.62 Cr2.08 Al3.54 Sn3.85 Ge4.54 Si16",
          "Cr1 Co1 Ni1",
          "Ti1 W1 Mo1",
          "Li6 Ca1 Mg7 Y0.02 Al3.98 Si2",
          "Hf1 Zr1 Ti1 Ta1 V1",
          "Ta1 W2 Mo2 Ru1",
          "Ta2 W2 Mo1 Re1",
          "Hf1 Zr1 Ta1 Nb1",
          "Ti1.89 Mo1.89 Cr1.89 Al1",
          "W1 Cr1.17 Fe1.17 Co1.17 Ni1.17 C1",
          "Cr1.99 Fe1 Co1 Ni1 Al1",
          "Cr1 Mn1 Fe1 Ni1 Cu1",
          "Ti1 Ta1.67 V2.67 W2.67",
          "Ta3 V2.5 W5.5 Mo1",
          "Zr1 Ti1 Nb1 V1 Cr1",
          "Y1 Hf1 Zr1 Ti1",
          "Ti1 Ta1 Nb1 Cr1",
          "Ti1 Nb1 V1 Cr1.5 Al1",
          "Hf1 Zr1 Ti1 Nb1 Mo1",
          "Cr1 Fe1 Co1 Ni1 Sn1",
          "Zr1 Ti1 V1 Mo1 Fe1 Ni1",
          "Fe2 Co2 Ni2 Cu1 Al2",
          "Ti1 Nb1 Mo1 Cr1 Fe1",
          "Zr1 Fe1 Co1 Ni1 Cu1 Al1",
          "Cr3.21 Co1 Ni7.21 Cu7.14 Si2",
          "Zr3 Ti2 Ta2 Nb1",
          "V1 Cr2 Fe2 Co2 Ni2",
          "Ta1 Nb1 W9 Mo1",
          "Nb5 Fe1 Co1 Ni1 Cu1",
          "Hf1.6 Ti2.53 Nb1.53 V1",
          "Ta1 V1 W1 Mo1 Cr1",
          "Ti4.5 Nb1 Al4.5",
          "Cr3.2 Fe3.2 Co1.4 Ni1 Cu1.8 Al9.4",
          "Hf1 W7.5 Re2.5 Ru1",
          "Ti1.33 Ta4.67 V1 W1",
          "Cr1 Fe2 Co2 Ni2 Cu2 Al2",
          "Hf1 Ti6.5 Ta2.5 Nb2",
          "Ti1 Cr1 Co1 Ni1 Cu1 Al1",
          "Zr1 Ti1 Nb1 V1 W1 Mo1 Cr1",
          "Hf1 Ti1 Ta1 Nb1 Mo1",
          "Mo1 Cr2 Fe2 Co1 Ni2 Al2",
          "Ti1 Nb1 W1 Cr1",
          "Be1 Ti1.91 Mo1.91 Cr1.91 Fe1.91 Co1.91 Ni1.91 Cu1.91 Al1.91 Si1.91",
          "Zr3.8 Ti4.22 Ta5.78 Nb5.2 Al1",
          "Hf1 Zr1 Ti1 W1 Mo1",
          "Hf1 Zr1 Ti1 Ta1",
          "Hf2 Zr2 Ti1 Ta1 Nb2",
          "Hf2 Zr1 Ti1 Nb2",
          "Zr1 Ti1 Ta1 Nb1 V1 Mo1",
          "Mo1 Fe1 Co1 Ni1",
          "Ti3.38 Nb5.12 Cr1 Al1.12 Si1.88",
          "Ti4.5 Ta6 Nb15 Co1 Ni23.5",
          "Ti4 Ta3.5 Nb1 V3.5",
          "Ta1 Nb1 W1.9 Mo1",
          "Mn4 Fe4 Co1 Ni1",
          "V2 Cr3 Mn1 Fe7 Co2 Ni5",
          "Ti1 Nb1 Ru1",
          "Cr2 Fe2 Co1 Ni2 Cu2 Al2",
          "W1.33 Cr1 Mn1 Fe1 Co1 Ni1",
          "Nb2 V1 W2 Ru1",
          "Zr1.5 Ti1 Nb1 V1 Al1",
          "Cr1 Fe1 Co2.01 Ni3.01 Cu1 Al6.04",
          "Hf1 Zr1 Ti1 Nb1 Mo1.5",
          "Ti1 Nb1 W1 Re1",
          "Ta1 W1 Mo1 Ru1",
          "Hf2 Zr2 Ti2 Nb2 V2 Si1",
          "Y1.67 Zr1.67 Ta1.67 Mo14.67 Fe1 Co4 Si8.67",
          "Ta1 W1 Mo1 Re1",
          "Mo4.5 Ni4.5 B1.11 Si1",
          "Mo1 Fe1 Co1 Ni1 Al1",
          "Ta5 W1 Fe3 Ni7",
          "Ti1 Nb1 W8.5 Mo1.5",
          "Ti1 V1 Fe1 Co1 Ni1",
          "Ti1 Nb2 Ru1",
          "Nb2 W2 Mo2 Re1",
          "Hf1 Zr1 Ta1 Nb1 Mo1",
          "Ti1.67 Ta1.67 V1.67 Mo1.67 Al1",
          "Zr0.08 Ti1 Mo94.25 B35.44 C8.1",
          "Cr1 Fe1 Co1 Al2",
          "Cr2 Fe1 Co2 Ni2 Cu2 Al2",
          "Ti1 Ta1 Mo1 Cr1",
          "Ta1.5 W8 Re1.5 Ru1",
          "V2 W1 Cr1 Co4 Ni4",
          "Nb2 V2 Mo2 Cr2 Al1",
          "V3 W5.5 Re2.5 Ru1",
          "Ti6 Nb2 V4 Ni1 Al1",
          "Cr1.2 Fe6.2 Co2.2 Ni1 Cu1.8 Al7.6",
          "Ti1.5 Ta1 Cr1.83 Co2 Ni2",
          "Zr1 Ti1 V1 Mo1 Fe1 Co1 Ni1",
          "Ti1 Ta1 V1 Mo1 Al1",
          "Hf1 Zr1 Ti1.5 Nb1 Mo1",
          "Hf1 Zr1 Ti1 Ta1 Nb1 W1 Mo1",
          "Hf4 Zr4 Ti1 Ta3 Nb4",
          "V1 Cr1 Fe1 Co1 Ni1",
          "Zr1 Ti1 Ta1 Nb1 V1 Mo1 Cr1",
          "Ta1.5 V1 W8.5 Re1",
          "Ti1 Nb2 W2 Re1",
          "Mn1 Fe1 Co1 Ni1",
          "Ti22 Nb10.5 Cr10.5 Co6 Ni1",
          "Li2.5 Mg5 Cu1 Zn2.5 Al5",
          "Cr2.5 Fe1 Co5.5 Ni1",
          "Zr1 Ti1 Ta1 Nb1 Mo1",
          "Ti1 Nb2 W1",
          "Hf2 Zr2 Ti1 Nb2 Mo2",
          "V1 W2 Cr2 Fe2 Ni2",
          "Ti1 Nb3 W1 Re1",
          "Ti1.33 Ta1 V2 W3.67",
          "Ta3.5 Nb1 V2.5 W5",
          "Mo1 Cr1 Fe1 Co1 Ni1 Al1",
          "Ti1 Cr2 Fe1.89 Ni3.67 Al2",
          "Ti1 Ta1 Nb1 Mo1",
          "Ti1 Nb1 Mo1 Cr1 Al1",
          "Zr1 Ti3 Ta1 Nb3 Al2",
          "Cr1 Fe1 Ni1.99 Cu1.59 Al1",
          "Hf1 Ti1 Nb1 Al1",
          "Hf1.5 Ta3 Nb1 V6.5",
          "Nb1 V1 W3 Ru1",
          "Hf1 Zr1 Ti1 Nb1.5 Mo1",
          "Ta1 Nb3 W1 Ru1",
          "Cr1 Fe1 Co3.01 Ni2.01 Cu1 Al6.04",
          "Hf1 Zr1.6 Ti2.22 Ta3.85 Nb3.85",
          "Cr1.67 Fe1 Co3 Ni1",
          "Ti1 Ta1 Nb1 V1 W1",
          "Hf0.2 Ti1 Ta10 W10 Mo2 Cr8 Re8 Ru8 Ni140.6 Al12 Si0.2",
          "Hf1 Zr1 Ti1 Nb1 Cr1",
          "Hf2 Zr2 Ti2 Nb2 O1",
          "Ti9.33 B3 Si1",
          "Ti1 Ta1 W1",
          "Ti1 Cr3.33 Fe3.33 Co5 Ni3.33 Al1.33",
          "Cr2 Fe2 Co2 Ni1 Cu1 Al2",
          "Ti4 V7 Mo1 Cr2 Al6",
          "Ti1 Nb2 W2",
          "Mo1 Cr2 Fe2 Co2 Al2",
          "Mn1 Co1 Ni1",
          "Hf2 Ti6 Ta3 Nb1",
          "Nb10 V10 Mo10 Cr10 Al1",
          "Ti1 Nb1 W3 Re1",
          "W1 Re6 Fe2 Ni8",
          "Cr2 Co1 Ni2",
          "Ti2 Nb1 W1",
          "Ti2 Nb2 V2 Cr1 Al2",
          "Hf1 Ta5.5 Nb2 V3.5",
          "Zr1 Ti1 V1 Cr1 Fe1 Co1 Ni1 Al1",
          "Cr1 Fe1 Ni1 Cu1.99 Al1",
          "Fe1 Co1 Ni1",
          "Zr3.33 Ti5 Nb3.33 Al1",
          "Ti1 Nb1 Ag1 Zn1 Al1",
          "Ti1 V2 Fe2 Co2 Ni2 Cu1",
          "Zr1 Ti2 Nb1 V1",
          "Ti1 Ta1 Nb1 V1 Al1",
          "Hf2 Ti2 Nb2 V2 Si1",
          "Ti1 Ta1 V1 W1 Cr1",
          "V2 W41 Mo1 Co4 Ni2",
          "Co2.5 Ni2.5 Cu1.5 Al1",
          "Ta1 V1 W1 Mo1",
          "Ti1 Ta1 Nb1",
          "Cr2 Fe2 Co2 Ni2 Cu1",
          "Ti1 V1 Mo1 Cr1 Al1",
          "Ti3.37 Nb1.79 V1 Cr1.79",
          "Ta1 W6.5 Mo1.5 Re3",
          "Cr1 Fe3.99 Co1 Ni1",
          "Ta4 V1.33 W1.67 Mo1",
          "Ti1 Ta1 Mo1",
          "Mo1 Cr2 Fe2 Co2 Ni2 Al1",
          "Ta3 Nb1 W1 Mo1",
          "Li7 Ca2 Mg7 Al3 Si1",
          "Zr3.09 Ti69.8 Nb1.27 W1.2 Mo1 Al5.26 Sn3.49 Si0.37",
          "Ti1 Nb1 W2",
          "Zr1 Ti1 Nb1 Al1",
          "Zr2 Ti2 Ta1 Nb2 Al1",
          "Ta1 Nb1 W3 Mo1",
          "Li2 Mg1 Sc2 Ti3 Al2",
          "Ti1 Ta4 V5 W2",
          "Hf1 Zr1 Ti1 V1 Mo1",
          "Zr1 Ti30 Nb54 Al15",
          "V2 Fe2 Co2 Ni2 Cu1",
          "Cr1 Fe1 Co1 Cu1",
          "Cr1 Fe1.99 Co1 Ni1 Cu1",
          "Hf2.5 Zr2.5 Ti1.14 Ta1",
          "Ti1 Nb3 W1 Ru1",
          "Hf4 Zr4 Ti3 Ta1 Nb4",
          "Li2.5 Mg5 Zn2.5 Al5 Sn1",
          "Hf1 Zr1 Ti1 Ta1 Nb1 V1 W1 Mo1",
          "Cr2 Fe2 Co1 Ni2 Cu1 Al2",
          "Nb1 V5.5 W4.5 Mo1",
          "V2.5 Mo1 Fe5 Co5 Ni10",
          "W1 Cr1.62 Mn1.62 Fe1.62 Co1.62 N1.62",
          "Ti1 Nb2 Cr2 Al45",
          "Ti1 V2 Mo2 Cr2 Fe2",
          "Nb1 V1 Mo1 Cr1 Fe1",
          "Cr1.99 Fe1 Co1 Ni1 Cu1",
          "Nb7.5 Fe1 Co1 Ni1 Cu1",
          "Ti40 Nb1 Al5 Si15",
          "Ti1 Ta1 V1 W1",
          "Be2.25 Zr4.12 Ti1.38 Ni1 Cu1.25",
          "Cr6.72 Mn6.72 Fe6.72 Ni10.09 Cu1",
          "Zr1 Ti1 Nb1 V1 Al1",
          "Nb1 W1 Mo1",
          "Zr1 Ti3.35 Nb3.35 V2.01 Mo3.35 Cr1",
          "Cr1 Fe1 Co1 Ni1 Ge1",
          "Cr2.01 Fe1 Co2.01 Ni2.01 Cu1 Al6.04",
          "Hf2.5 Zr3 Ti2 Nb1.5 V1",
          "Cr1 Mn4 Fe4 Co1",
          "Ti1 Nb1 V1 Cr1 Al1",
          "W12 Cr1 Fe1.29",
          "Hf1 Zr1 Ti1 Ta1 Mo1",
          "Ta1.43 Nb1.38 V1 W1.02",
          "Ti1 V1 Cr1 Mn1 Fe1 Co1 Ni1 Cu1 Al5.33",
          "Mo1 Cr1.5 Fe2 Co3.5 Ni2",
          "Ti1 Nb1 V1 Cr1 Ni1",
          "Sc1 Hf1 Zr1 Ti1",
          "Ti1 V1 Cr1 Mn1 Fe1 Co1 Ni1 Cu1",
          "Ti1 Cr2 Fe2 Ni2 Cu2 Al2",
          "Ti2 Nb2 W1",
          "Ti1 Ta1 Nb1 W1",
          "Ta8 Ir7 Ni4 B1",
          "Cr2 Fe2 Co2 Cu1 Al2",
          "Ta1 W3 Mo1 Re1",
          "Ta1 Nb1 Mo1",
          "Ta1 Nb1 V1 W1 Mo1 Cr1 Re1",
          "Fe1.05 Co1.05 Ni2.16 Al1",
          "Cr1 Fe1 Co1 Ni1 Al6",
          "Cr2 Fe2 Ni2 Cu2 Al1",
          "W1 Mo1 Cr2 Co4 Ni4",
          "Ti1 Nb1 W1",
          "V1 W3 Mo5 Re3",
          "Hf1 Zr1 Ti1 Ta1 Nb1 V1 Mo1",
          "Ta1 Nb1 W9 Re1",
          "Cr1 Co9.5 Ni9.5",
          "Cr1 Fe2.99 Co1.99 Ni1 Cu1.99 Al5.97",
          "Cr1 Co1 Ni1 Cu1 Al1",
          "Ti1 Nb2 W2 Ru1",
          "Ta1 V1 W9 Mo1",
          "Ti1 Ta2 Nb2 V2 Mo2",
          "Hf1 Zr1 Nb1 V1 Mo1",
          "Zr1 Ti1.5 Nb1 V1",
          "Hf1 Zr2 Ti3 Ta1 Nb1",
          "Ti1 Co1 Ni1 Al1",
          "Cr5 Fe1 Co13 Ni1",
          "Ti1 Nb1 V1 Mo1 Fe1",
          "Ti1 Fe1 Ni1 Al1",
          "Ta1.5 W8 Mo1.5 Re1",
          "Zr2 Ti2 Nb1 V1",
          "Hf1 Ti1 Nb1 V1",
          "Hf1 Zr1 Ti1",
          "W1 Cr2 Mn2 Fe2 Cu2 Al2",
          "Mo1 Cr2 Fe2 Co2 Ni1 Al2",
          "Nb1 W3 Mo1 Ru1",
          "Li2.5 Mg5 Cu2.5 Al5 Sn1",
          "Ta2 Nb2 W1 Mo1",
          "Ti33 Nb1 Si16",
          "Zr1 Ti1 Nb1 V3 Mo1",
          "Zr30.5 Ti1 Cu12.5 Al6",
          "Ti1 Nb1 Mo1 Cr1",
          "Ti2 V3 Mo1 Cr2 Al2",
          "Hf1 Zr1 Ti1 Nb1 V1",
          "Ta1 W1 Mo1",
          "Ti1 V1 Cr1 Mn1 Fe1 Co1 Ni1 Cu1 Al2",
          "Ta1 Nb2 W2 Ru1",
          "Zr1 Ti1 Ta1 V1 Mo1",
          "Cr1.25 Fe1 Co1.75 Ni1",
          "Zr2 Ti1 Nb1 V2",
          "Mo1 Cr3.33 Fe1 Co5.67 Ni5.67",
          "Ti1 Fe1 Co1 Ni1 Cu1 Al1",
          "Zr1 Ti4 Nb3 Cr2",
          "Hf2 Zr2 Ti2 Nb1 Mo2",
          "Ti9.75 Ta1 Nb7.75 W1 Co5.5",
          "Fe1 Co1 Ni1 Cu1 Al1 Si1",
          "Zr1 Ti1 V1 Fe1 Ni1 Al1",
          "Ti32 Ta1 Nb9 Cr19 Co39",
          "Ti1 Cr1 Fe1 Co1 Ni1",
          "Ti1 Cr1 Ni1 Cu1 Al1",
          "Fe1 Co3 Ni1 Cu1 Al1",
          "Hf2 Ti2 Nb2 V1 Mo1",
          "Hf1.5 Ti2.5 Ta1 V7",
          "Zr2 Ti2 Ta1 Nb2 Mo1 Cr2",
          "Cr1 Fe1 Co1 Ni4 Al1",
          "Hf0.02 Cr1.91 Fe4.85 Co1 Ni5.09 Al6",
          "Zr1 Ti1.33 Nb1",
          "Cr1 Mn1 Co1 Ni1",
          "Nb1 Mo1 Cr1 Al1",
          "Cr1 Mn1 Fe1 Co1",
          "Hf1 Zr1 Nb1",
          "Zr1 Ti2 Ta2 Nb3",
          "W1.5 Mo6.33 Co1 Ni1.83 Al6",
          "Cr1 Fe1 Ni3 Cu1 Al1",
          "Cr1 Mn1 Fe1 Co1 Ni1 Cu1 Al1",
          "Cr1 Fe2 Co2 Ni2 Cu1 Al2",
          "Cr1 Co1 Ni1 Cu1 Zn1",
          "Mn1 Fe1 Ni1",
          "W3 Mo5 Re3 Ru1",
          "Ti1 W1 Mo1 Cr1 Al1",
          "Zr0.09 Ti1 Mo97.63 B14.23 C3.33",
          "Y1 Sc1 Hf1 Zr1 Ti1",
          "Cr3.33 Fe3.33 Ni6.67 Cu1.67 Al1",
          "Ti1 V23 Cr1",
          "Zr2 W1 C2",
          "Fe12.33 Co8.52 Ni8.52 Al6.7 C1",
          "Ti1 V1 Cr1 Mn1 Fe1 Co1 Ni1 Cu1 Al1",
          "Cr1 Fe1 Co1 Ni1.99 Cu1",
          "Hf1 Zr2 Ti2 Nb2 Mo2",
          "Hf1 Zr1 Ti1 Ta1 Nb1 V1",
          "Ti3.44 Nb2.06 V1 Cr1 Ni1.5 Al1",
          "Ti4 Nb2 V1 Cr2 Al1",
          "Sc1 Hf1 Zr1 Ta1 Mo1",
          "Nb1 V1 W1 Ru1",
          "V1 Co1 Ni1",
          "Li1 Mg1 Zn1 Al1 Sn1",
          "Hf1 Zr1 Ti1 Nb1 O1",
          "Mo1 Cr1 Fe1 Ni1 Cu1",
          "Cr1 Co2 Ni2",
          "Ta1 W3 Mo1 Ru1",
          "Cr2.01 Fe2.01 Co1 Ni2.01 Cu1 Al6.04",
          "Y1 Mo7 Cr7.5 Fe20.5 Co3.5 B3 C7.5",
          "V1 Mo1 Cr1 Fe1",
          "Ta1 Nb1 V1 Mo1",
          "Hf1 Zr1.5 Ti1 Nb1 Mo1",
          "Ti1 Nb1 V1 Cr1 Ni1 Al7",
          "Ti1 Nb1 V1 Cr1 Ni1 Al10"
         ],
         "legendgroup": "outlier",
         "marker": {
          "color": "#2E91E5",
          "symbol": "circle"
         },
         "mode": "markers",
         "name": "outlier",
         "showlegend": true,
         "type": "scattergl",
         "x": [
          63.904541015625,
          62.848106384277344,
          -57.388729095458984,
          28.46366310119629,
          11.526615142822266,
          61.0294075012207,
          45.72334671020508,
          15.958902359008789,
          89.3991928100586,
          69.59918212890625,
          -35.73922348022461,
          -22.180322647094727,
          -41.46946334838867,
          -2.107565402984619,
          45.08665466308594,
          38.99895477294922,
          -25.650209426879883,
          -15.239076614379883,
          -16.99290657043457,
          48.70133972167969,
          72.76622772216797,
          58.942138671875,
          16.8709774017334,
          32.88703155517578,
          40.5185432434082,
          13.748884201049805,
          -79.58108520507812,
          2.5604748725891113,
          20.44156265258789,
          -15.596674919128418,
          14.348682403564453,
          14.105193138122559,
          -2.9271764755249023,
          37.79539108276367,
          71.96665954589844,
          62.744728088378906,
          11.998027801513672,
          49.19677734375,
          3.70896053314209,
          57.61391067504883,
          45.69035720825195,
          -60.99555969238281,
          -16.689342498779297,
          64.19735717773438,
          45.948814392089844,
          24.897911071777344,
          31.013071060180664,
          -28.596952438354492,
          52.27861404418945,
          -21.693801879882812,
          29.00003433227539,
          51.379180908203125,
          -11.70617961883545,
          61.079219818115234,
          -49.71026611328125,
          -25.221410751342773,
          -82.1458511352539,
          -55.796730041503906,
          24.128332138061523,
          42.16374969482422,
          -1.413285732269287,
          62.49644470214844,
          -45.54707336425781,
          54.6438102722168,
          -55.27959060668945,
          50.493812561035156,
          43.148963928222656,
          -48.600440979003906,
          14.606755256652832,
          40.46967315673828,
          -29.26534080505371,
          54.03947830200195,
          -41.69325637817383,
          -11.438459396362305,
          3.2931203842163086,
          -11.285247802734375,
          37.31597900390625,
          25.541339874267578,
          76.5988540649414,
          61.70250701904297,
          27.52004051208496,
          40.36874008178711,
          19.231435775756836,
          -62.6123046875,
          49.575958251953125,
          40.03648376464844,
          32.847774505615234,
          -79.7596206665039,
          38.91094970703125,
          73.85636901855469,
          51.3977165222168,
          -39.02360534667969,
          39.4276123046875,
          43.231380462646484,
          15.591449737548828,
          45.201385498046875,
          -25.88094139099121,
          -32.11125946044922,
          62.47343444824219,
          57.682403564453125,
          10.787382125854492,
          -3.125128746032715,
          38.986270904541016,
          38.70174026489258,
          -15.25871753692627,
          36.09090042114258,
          49.172611236572266,
          9.459955215454102,
          71.60326385498047,
          -3.2549965381622314,
          52.80501174926758,
          5.814646244049072,
          65.27281951904297,
          49.6646842956543,
          47.816192626953125,
          65.04939270019531,
          27.999711990356445,
          -32.08707046508789,
          -22.911073684692383,
          -82.16946411132812,
          47.29082107543945,
          49.93440246582031,
          50.9959831237793,
          51.97573471069336,
          45.5764274597168,
          29.778675079345703,
          72.79237365722656,
          -35.73922348022461,
          17.502655029296875,
          -42.405120849609375,
          24.520343780517578,
          -39.3797492980957,
          -99.994140625,
          40.4581184387207,
          -48.12812805175781,
          56.011131286621094,
          78.39666748046875,
          89.78472900390625,
          32.6330680847168,
          20.447250366210938,
          -11.82979679107666,
          56.042293548583984,
          34.69388961791992,
          -35.58049774169922,
          28.044897079467773,
          5.606269836425781,
          58.556617736816406,
          61.84935760498047,
          -6.42873477935791,
          56.360206604003906,
          3.222513198852539,
          44.111942291259766,
          69.4939956665039,
          46.95625686645508,
          66.14279174804688,
          69.2190933227539,
          61.11650085449219,
          13.071647644042969,
          72.02603912353516,
          -9.952693939208984,
          48.52851867675781,
          45.44490432739258,
          -82.53820037841797,
          -26.20639991760254,
          62.503997802734375,
          -32.016815185546875,
          -41.30781173706055,
          56.765380859375,
          35.265350341796875,
          -12.095856666564941,
          72.86576080322266,
          64.42100524902344,
          49.72479248046875,
          74.25155639648438,
          18.284469604492188,
          47.65825653076172,
          14.59754753112793,
          -6.945444107055664,
          -3.0612716674804688,
          55.98957061767578,
          10.730761528015137,
          62.49012756347656,
          40.64680862426758,
          64.24979400634766,
          37.27447509765625,
          20.34107208251953,
          -13.958951950073242,
          -29.947128295898438,
          30.455636978149414,
          56.05889129638672,
          0.4820539355278015,
          24.788875579833984,
          53.15650177001953,
          44.575645446777344,
          -17.916095733642578,
          -16.814849853515625,
          17.162878036499023,
          37.3703498840332,
          72.961669921875,
          61.97007369995117,
          65.43219757080078,
          -48.26560974121094,
          59.66294860839844,
          56.124794006347656,
          64.34395599365234,
          -40.40354919433594,
          21.619810104370117,
          5.911637783050537,
          -25.524507522583008,
          44.162933349609375,
          64.0106201171875,
          72.0905990600586,
          -33.08182907104492,
          63.84369659423828,
          47.787113189697266,
          49.74535369873047,
          -6.972663402557373,
          -52.12798309326172,
          36.21615982055664,
          25.877220153808594,
          25.04559326171875,
          -72.70845794677734,
          72.02841186523438,
          50.025390625,
          53.84970474243164,
          73.92693328857422,
          59.77833938598633,
          -12.101408004760742,
          44.68953323364258,
          -26.10964012145996,
          42.09678649902344,
          -10.850887298583984,
          68.72471618652344,
          69.596923828125,
          19.422204971313477,
          41.941307067871094,
          -20.75511360168457,
          -28.40096664428711,
          31.70755386352539,
          63.61287307739258,
          -11.940995216369629,
          -41.186073303222656,
          28.3266658782959,
          24.68939971923828,
          62.194602966308594,
          -8.76103687286377,
          -3.632384777069092,
          65.59823608398438,
          30.954208374023438,
          48.03749084472656,
          15.895936012268066,
          -57.77287292480469,
          -29.181793212890625,
          38.314579010009766,
          25.428054809570312,
          11.211915969848633,
          46.35546875,
          45.89908981323242,
          90.19803619384766,
          29.2401123046875,
          48.291439056396484,
          -44.2535285949707,
          34.11347961425781,
          45.05183029174805,
          -30.80980682373047,
          31.087024688720703,
          22.81147575378418,
          54.97934341430664,
          -24.76726722717285,
          34.99604034423828,
          35.11646270751953,
          -8.652807235717773,
          36.53861999511719,
          5.828189849853516,
          18.681381225585938,
          61.89677810668945,
          28.336708068847656,
          37.53797149658203,
          46.141754150390625,
          23.916751861572266,
          49.18248748779297,
          58.677825927734375,
          73.49665069580078,
          11.222346305847168,
          -32.12574005126953,
          -57.661258697509766,
          46.72854995727539,
          62.408843994140625,
          68.5697021484375,
          6.092680931091309,
          62.241294860839844,
          -31.22170066833496,
          47.47086715698242,
          10.17531967163086,
          -42.992191314697266,
          6.997995376586914,
          21.23848533630371,
          23.196611404418945,
          -55.256248474121094,
          78.13836669921875,
          30.657630920410156,
          46.612552642822266,
          36.75082015991211,
          -83.81281280517578,
          34.98324966430664,
          40.71390914916992,
          39.82045364379883,
          -35.73922348022461,
          -12.777482032775879,
          72.51560974121094,
          -81.73152160644531,
          30.055566787719727,
          48.886287689208984,
          63.709415435791016,
          45.896121978759766,
          -26.384748458862305,
          -27.691938400268555,
          29.582656860351562,
          52.543556213378906,
          14.212063789367676,
          10.587145805358887,
          65.04059600830078,
          41.85683059692383,
          -2.195441246032715,
          -28.37302017211914,
          54.855873107910156,
          38.207664489746094,
          32.549224853515625,
          -4.039053440093994,
          -13.498144149780273,
          -59.54017639160156,
          -1.6319167613983154,
          64.49966430664062,
          45.13018035888672,
          62.61585998535156,
          56.501495361328125,
          -2.354722738265991,
          -17.365156173706055,
          -29.485008239746094,
          61.05672836303711,
          55.61613082885742,
          37.159671783447266,
          71.5751953125,
          46.910892486572266,
          51.370277404785156,
          -20.822439193725586,
          -25.23636245727539,
          36.07345199584961,
          13.826908111572266,
          55.3390007019043,
          47.336368560791016,
          90.066162109375,
          49.3464241027832,
          -55.02546691894531,
          -8.442572593688965,
          53.009735107421875,
          5.49282169342041,
          38.90547180175781,
          30.79714584350586,
          52.07124328613281,
          36.513877868652344,
          25.15835952758789,
          31.38025665283203,
          74.15933227539062,
          48.76900863647461,
          13.99070930480957,
          58.977176666259766,
          61.202125549316406,
          -28.113136291503906,
          49.51976013183594,
          -1.9937115907669067,
          -0.1974857896566391,
          22.172155380249023,
          70.83916473388672,
          20.58941078186035,
          -39.991920471191406,
          16.073331832885742,
          17.94907569885254,
          -15.501405715942383,
          11.655416488647461,
          -42.0814094543457,
          91.87283325195312,
          50.14162063598633,
          45.756473541259766,
          -11.305540084838867,
          -49.42653274536133,
          37.87803649902344,
          -42.723873138427734,
          26.129150390625,
          -44.05908966064453,
          67.07903289794922,
          44.8032112121582,
          -6.92151403427124,
          -77.882568359375,
          -34.488311767578125,
          -35.60990524291992,
          -51.01542282104492,
          -83.5809555053711,
          45.133365631103516,
          29.051822662353516,
          21.66350555419922,
          52.29575729370117,
          -80.46788024902344,
          50.87089538574219,
          54.635719299316406,
          -25.806013107299805,
          14.077397346496582,
          -12.862741470336914,
          73.67462158203125,
          64.21697998046875,
          23.98451042175293,
          23.219642639160156,
          64.87511444091797,
          56.69466781616211,
          0.8177866339683533,
          6.60650110244751,
          69.57635498046875,
          -59.16502380371094,
          -2.283761978149414,
          51.87025451660156,
          -14.445497512817383,
          -23.953479766845703,
          21.792795181274414,
          37.05518341064453,
          71.95512390136719,
          2.881221294403076,
          3.255099296569824
         ],
         "xaxis": "x",
         "y": [
          -32.21809768676758,
          -17.338741302490234,
          -28.55946159362793,
          9.342192649841309,
          31.218585968017578,
          34.78459930419922,
          -26.499826431274414,
          23.21030616760254,
          -13.755203247070312,
          -34.61573791503906,
          20.877426147460938,
          7.84643030166626,
          -25.550439834594727,
          44.28076934814453,
          37.19486999511719,
          25.809131622314453,
          -4.820099353790283,
          28.59346580505371,
          67.30010986328125,
          19.774330139160156,
          19.959035873413086,
          -17.26422882080078,
          25.51068687438965,
          43.32954025268555,
          -37.228759765625,
          26.515939712524414,
          40.31303405761719,
          -55.39781188964844,
          -2.2294704914093018,
          27.895214080810547,
          25.923141479492188,
          26.187971115112305,
          55.63630294799805,
          -41.10874938964844,
          -7.574146747589111,
          40.18112564086914,
          3.3983256816864014,
          -39.22642135620117,
          10.320141792297363,
          -32.132606506347656,
          -25.316404342651367,
          -24.166231155395508,
          66.24431610107422,
          -19.01397132873535,
          26.33165168762207,
          -34.52676010131836,
          -78.64090728759766,
          -26.443716049194336,
          35.894752502441406,
          7.77158260345459,
          -53.89783477783203,
          -50.96251678466797,
          55.954627990722656,
          37.64113235473633,
          -58.62934112548828,
          -5.7387895584106445,
          20.607088088989258,
          -5.915594100952148,
          -21.93971061706543,
          26.677658081054688,
          8.545121192932129,
          39.9336051940918,
          -24.00135612487793,
          -23.688533782958984,
          -42.01179885864258,
          31.498023986816406,
          0.03629710525274277,
          50.8420524597168,
          47.50068283081055,
          31.065902709960938,
          46.42213821411133,
          5.947943210601807,
          47.542964935302734,
          -77.25669860839844,
          9.285439491271973,
          50.53951644897461,
          19.271636962890625,
          3.6719071865081787,
          21.995563507080078,
          -22.22087287902832,
          9.680231094360352,
          -1.577423095703125,
          57.676918029785156,
          1.4855930805206299,
          -8.64976978302002,
          37.66105651855469,
          43.343929290771484,
          40.775169372558594,
          43.74973678588867,
          -7.852290153503418,
          35.830020904541016,
          -66.9705581665039,
          -43.59700012207031,
          0.061786774545907974,
          -21.165760040283203,
          -33.99071502685547,
          -5.799393653869629,
          -28.83190155029297,
          -30.5527400970459,
          -7.536022663116455,
          13.041341781616211,
          44.93608474731445,
          1.1258728504180908,
          -0.26986435055732727,
          -24.25462532043457,
          -25.831928253173828,
          -39.22056198120117,
          20.219982147216797,
          18.481531143188477,
          34.7295036315918,
          9.209843635559082,
          -99.47677612304688,
          -18.758426666259766,
          40.55548095703125,
          43.05720901489258,
          -33.37323760986328,
          9.516712188720703,
          32.42823791503906,
          -25.314836502075195,
          20.416845321655273,
          30.298398971557617,
          30.35231590270996,
          -11.901697158813477,
          -59.15186309814453,
          -28.70118522644043,
          -12.131540298461914,
          -6.840158462524414,
          20.877426147460938,
          25.8653564453125,
          -24.170866012573242,
          4.4410014152526855,
          -23.692686080932617,
          -22.927886962890625,
          -36.80531692504883,
          12.267507553100586,
          52.50763702392578,
          23.098310470581055,
          -14.570615768432617,
          26.857982635498047,
          -46.45942306518555,
          -54.248695373535156,
          49.36008834838867,
          42.6459846496582,
          -25.924652099609375,
          -53.806922912597656,
          -5.424169540405273,
          -17.228946685791016,
          -25.89291763305664,
          -25.64508628845215,
          10.244080543518066,
          9.109310150146484,
          -33.672122955322266,
          -6.783167362213135,
          -55.11347579956055,
          -34.28296661376953,
          -35.29558181762695,
          -17.08121681213379,
          41.78314208984375,
          20.498987197875977,
          54.517486572265625,
          19.56802749633789,
          37.23900604248047,
          42.80147171020508,
          -4.127222537994385,
          30.70751190185547,
          -25.87689781188965,
          40.878665924072266,
          34.3718147277832,
          -14.085061073303223,
          -48.17274856567383,
          -7.6002397537231445,
          37.93305206298828,
          40.47258758544922,
          -34.79387664794922,
          55.31721878051758,
          43.24079513549805,
          47.48332595825195,
          -28.771820068359375,
          55.72346496582031,
          53.23640060424805,
          32.41524124145508,
          31.025529861450195,
          49.331111907958984,
          -26.718591690063477,
          12.934595108032227,
          61.543853759765625,
          -67.16663360595703,
          -27.464458465576172,
          12.056041717529297,
          50.358421325683594,
          35.835819244384766,
          -2.4552292823791504,
          34.870994567871094,
          -13.325841903686523,
          -50.597015380859375,
          17.863027572631836,
          25.68056869506836,
          12.634272575378418,
          -6.23577356338501,
          -21.646310806274414,
          -33.69999313354492,
          11.774444580078125,
          -17.2344970703125,
          51.146934509277344,
          37.71121597290039,
          48.67581558227539,
          -19.533411026000977,
          -97.00070190429688,
          28.365650177001953,
          -36.891544342041016,
          33.96328353881836,
          -8.798105239868164,
          33.78750991821289,
          33.246803283691406,
          30.417850494384766,
          29.794191360473633,
          -27.8283748626709,
          -45.55875015258789,
          17.49131965637207,
          3.253092050552368,
          -35.85068893432617,
          -21.928621292114258,
          -39.93146896362305,
          22.643877029418945,
          35.87627410888672,
          -6.876615524291992,
          32.275604248046875,
          -48.20414733886719,
          -32.41574478149414,
          28.127601623535156,
          26.58662223815918,
          55.67543411254883,
          -38.60832214355469,
          -43.18190002441406,
          -75.8366928100586,
          29.61096954345703,
          20.740589141845703,
          -23.246938705444336,
          4.6372761726379395,
          35.742584228515625,
          -32.792720794677734,
          49.5528564453125,
          -53.838008880615234,
          -2.483858108520508,
          38.9742431640625,
          60.68566131591797,
          34.443050384521484,
          34.998687744140625,
          -12.776299476623535,
          25.679574966430664,
          23.480743408203125,
          -23.682058334350586,
          47.14102554321289,
          -25.37869644165039,
          -37.097381591796875,
          33.65169143676758,
          -13.706451416015625,
          16.19856071472168,
          -15.913010597229004,
          30.111858367919922,
          61.53496170043945,
          -22.04488182067871,
          27.4306640625,
          -31.07780647277832,
          -16.378753662109375,
          5.187350749969482,
          -19.537094116210938,
          47.77737045288086,
          -6.245754718780518,
          42.60142135620117,
          15.106521606445312,
          -24.9411563873291,
          42.56649398803711,
          -99.68729400634766,
          -75.94286346435547,
          37.67861557006836,
          -34.24246597290039,
          -33.84645080566406,
          37.26393127441406,
          -23.66236114501953,
          26.40131378173828,
          -8.194253921508789,
          20.8924617767334,
          35.067596435546875,
          -44.114219665527344,
          -7.764776229858398,
          -56.912967681884766,
          32.03813171386719,
          -36.155330657958984,
          -96.90870666503906,
          -20.585315704345703,
          -24.537948608398438,
          31.52407455444336,
          43.85816192626953,
          42.78726577758789,
          -55.31217956542969,
          -2.3699936866760254,
          -2.4893181324005127,
          -9.74221420288086,
          22.80751609802246,
          -77.80838012695312,
          30.005205154418945,
          -40.82078170776367,
          22.215307235717773,
          -14.02267074584961,
          49.88631820678711,
          -1.0356000661849976,
          20.877426147460938,
          -49.03265380859375,
          -35.94429016113281,
          43.957054138183594,
          -12.302983283996582,
          62.95493698120117,
          -25.42030143737793,
          26.29640007019043,
          -36.32915115356445,
          26.649200439453125,
          -7.507265090942383,
          -58.44999694824219,
          16.228116989135742,
          8.079354286193848,
          34.8336067199707,
          27.857614517211914,
          55.29191589355469,
          -45.00309753417969,
          47.61819076538086,
          38.415428161621094,
          24.81597900390625,
          45.34846115112305,
          -51.442543029785156,
          -22.189788818359375,
          35.46782684326172,
          35.354610443115234,
          47.09836959838867,
          -19.795318603515625,
          51.847862243652344,
          36.732635498046875,
          -50.6298828125,
          -27.58836555480957,
          34.848838806152344,
          52.18125534057617,
          20.236347198486328,
          -10.090889930725098,
          -13.288847923278809,
          -50.925357818603516,
          7.608512878417969,
          28.482521057128906,
          -3.5391199588775635,
          4.841722011566162,
          51.033905029296875,
          -12.842775344848633,
          -15.614343643188477,
          -57.38143539428711,
          -31.577835083007812,
          -26.403366088867188,
          36.98454666137695,
          -97.1999282836914,
          38.22910690307617,
          -78.10538482666016,
          -6.648131370544434,
          -40.75884246826172,
          4.117916107177734,
          4.913341045379639,
          -34.854087829589844,
          41.732906341552734,
          15.333566665649414,
          32.777244567871094,
          -16.17928695678711,
          27.349332809448242,
          -8.90182876586914,
          35.44841384887695,
          6.440659999847412,
          -19.898611068725586,
          -6.769890785217285,
          -19.112394332885742,
          -25.366971969604492,
          22.774017333984375,
          -20.30547523498535,
          19.483726501464844,
          -0.787624716758728,
          -21.15923500061035,
          -14.269667625427246,
          21.979597091674805,
          -26.882179260253906,
          49.74191665649414,
          -56.846702575683594,
          -25.323488235473633,
          49.010467529296875,
          2.3729281425476074,
          44.30046844482422,
          -34.78341293334961,
          -31.860816955566406,
          -29.541399002075195,
          -19.947546005249023,
          -28.72610092163086,
          -25.058210372924805,
          -11.7763090133667,
          37.54206848144531,
          47.09659194946289,
          8.969305992126465,
          73.60433197021484,
          -58.824424743652344,
          -14.362074851989746,
          21.84650230407715,
          -23.676301956176758,
          7.157365798950195,
          15.681230545043945,
          35.57646942138672,
          -5.221280097961426,
          -18.91307258605957,
          -18.894254684448242,
          -19.491069793701172,
          -25.68726921081543,
          34.39113235473633,
          35.86204147338867,
          -96.56314849853516,
          -43.83070373535156,
          -12.759611129760742,
          35.85044479370117,
          37.87870788574219,
          -49.463314056396484,
          -7.769900798797607,
          -2.449676752090454,
          20.737703323364258,
          -6.30666971206665,
          -55.48460388183594,
          -55.5765495300293
         ],
         "yaxis": "y"
        },
        {
         "hovertemplate": "<b>%{hovertext}</b><br><br>Classification=clustered<br>37D->2D TSNE1=%{x}<br>37D->2D TSNE2=%{y}<extra></extra>",
         "hovertext": [
          "Ti5 Ni4 C1",
          "Ta1.2 Nb2 W2 Mo2 Re1 C1.2",
          "Cr3.32 Mn1 Fe3.32 Co3.32 Ni3.32 Al3.32",
          "Ti2 Nb2 V2 Mo1 Cr1",
          "Nb1 Cr1.33 Fe1.33 Co1.33 Ni1.33 Al1.33",
          "W1 Fe1.4 B1.2",
          "Zr3.33 Ti3.33 Ta1 Nb3.33",
          "Cr1.67 Mn1.67 Fe1.67 Ni1.67 Al1",
          "Ti20 Ta20 Mo20 Cr20 Al20 Si1",
          "Zr3.33 Ti3.33 Nb3.33 V1 Mo3.33",
          "Cr1 Fe1 Co1 Cu1 Al3",
          "Cr2.25 Fe1 Co2.25 Ni2.25 Al2.25",
          "Ti27.54 V1 Al3.26",
          "Ti1 Cr10 Fe10 Co10 Ni10 Al3",
          "Mo1 Cr2 Fe1 Co2 Ni2 Al2",
          "Ti1 Cr1.67 Fe1.67 Ni1.67",
          "Cr2.25 Fe2.25 Co2.25 Ni1 Cu2.25",
          "Zr2 Ti2 Ta1 Nb2",
          "Ti2 Ta2 Nb2 V2 Al1",
          "Cr1 Fe4.76 Co4.76 Ni4.76 Al4.76",
          "Zr1 Ti4 Nb4 V4 Al4",
          "Cr1.78 Mn1.78 Fe1.78 Co1.78 Ni1.78 Al1",
          "Hf1 Zr1 Ti1 Ta1 Nb1 Mo1",
          "Zr3.33 Ti3.33 Nb3.33 Re1",
          "Cr3.3 Mn1 Fe3.3 Co3.3 Ni3.3 Al1.65",
          "Hf7.5 Ti33 Nb1 Si16",
          "Cr4 Fe4 Co1 Ni4 Al4",
          "Li2.6 Ca0.03 Mg3 Al1 Si0.03",
          "Ti1 Fe1 Ni1 Cu1 Al1",
          "Cr1 Fe1 Co1 Cu1 Al1.8",
          "Ti4 Nb4 V4 Mo2 Cr1",
          "Fe4 Co4 Ni4 Si1",
          "Cr1.1 Fe1.1 Ni2.22 Cu1.1 Al1",
          "V1 Mo1 Fe1 Co1 Ni2",
          "Ti1 Cr1 Fe1 Co1 Cu1 Al1",
          "Cr2.4 Mn5.6 Fe7 Ni4 Al1",
          "Cr3.8 Mn3.8 Fe3.8 Co3.8 Ni3.8 C1",
          "Mo1 Cr4.8 Mn4.8 Fe4.8 Co4.8 Ni4.8",
          "Ti3.33 Nb3.33 V3.33 Mo3.33 Cr3.33 Al1.67 Si1",
          "Cr1.17 Fe1.11 Co1.11 Ni1.17 Al1",
          "V1 Cr4.8 Fe4.8 Co4.8 Ni4.8 Cu4.8",
          "Mo1 Cr1.47 Mn1.47 Fe1.47 Co1.47 Ni1.47",
          "Cr2 Fe2 Co2 Ni2 Cu2 Al1",
          "Hf1 Zr2 Ti2 Nb2 Mo1 Si1",
          "Mg1 Zr1 Cu1 Zn1 Al13 Si3",
          "Nb1 Mo1 Cr1 Co1",
          "W1 Cr5 Fe5 Co5 Ni5",
          "Mo1 Cr2.01 Fe2.01 Co2.01 Ni3.01 Al2.01",
          "Cr1 Fe1 Co1 Ni1 Al3",
          "Li38 Ca1 Mg48 Al15 Si1",
          "Cr1.43 Mn1.43 Fe1.43 Ni1.43 Al1",
          "Hf12.25 Zr12.25 Ti12.25 Ta6.12 Nb6.12 O1",
          "Ti1 Ta1 Nb1 V1",
          "Cr4.4 Fe1.8 Co2.8 Ni1.2 Cu1 Al8.8",
          "Cr1 Mn1 Fe1 Co1 Ni1.1",
          "Ti2 Cr2 Fe2 Co2 Ni2 Cu2 Al1",
          "Ta1 Co5.5 B3.5",
          "Ti1.5 Fe1 Ni1.33 Cu1.33 Al1.5",
          "Cr1.42 Fe1.42 Co1 Ni1.42 Cu1.42",
          "W63.76 Fe1 Ni2.34",
          "Ti1 Cr1 Fe1 Co1 Ni1 Al1.5",
          "W1 Cr4.5 Fe4.5 Co4.5 Ni4.5 C1",
          "Cr4 Fe2 Co2.6 Ni1 Cu1 Al9.4",
          "Hf2.5 Zr2.5 Ti2.5 Ta1",
          "Mo1 Cr4.8 Fe4.8 Co4.8 Ni4.8",
          "Ti2.44 Nb2.51 V2.47 Mo2.57 Al1",
          "Cr1 Mn3 Fe4.97 Co1 B0.03",
          "Ti2 Cr4 Fe4 Co4 Ni4 Al1",
          "Cr1 Fe1 Ni1 Cu1 Al1.5",
          "W5 Fe2 Co1 Ni2",
          "Zr3.33 Ti3.33 Nb3.33 V1 Mo1.67",
          "Zr1.95 Ti2.07 Ta1.05 Nb2.09 Mo1 Al1.74",
          "Cr1.25 Fe1.25 Co1.25 Ni1.25 Cu1.25 Al1",
          "Cr1 Fe1 Ni2 Cu1 Al1.6",
          "Ta4 Nb1 V3.5 W3.5",
          "Cr1.25 Fe1.25 Ni1 Cu1.25 Al1.25",
          "V5 Mo1 Fe5 Co5 Ni5",
          "W112.94 Fe1 Ni2.34",
          "W1 Ir8 Al1",
          "V1 Mo1 Fe1 Co1 Ni1.4",
          "Hf1.67 Zr1.67 Ti1.67 Ta1",
          "Mo1 Cr2.01 Fe2.01 Co3.01 Ni2.01 Al2.01",
          "Zr1 Ti1 Nb1 Mo1",
          "Cr1 Mn5.8 Fe6.73 Ni1.88 Al1.25",
          "Zr1 Ti2.7 Nb1.5 Cr2 Al2.8",
          "Cr3.33 Fe3.33 Co3.33 Ni3.33 Cu1 Al1",
          "Cr1.25 Fe1.25 Co1.25 Cu1.25 Al1",
          "Cr1 Fe1 Co1 Ni2",
          "Cr1 Fe1 Co1 Ni1 Al1.8",
          "Mo1 Cr2 Fe2 Co2 Ni2 Al4",
          "Ti1.34 Cr1.34 Fe1.34 Co1.34 Cu1 Al1.34",
          "W3 Fe3.8 B2.2 C1",
          "Zr3.33 Ti3.33 Nb3.33 V1 Mo4.33",
          "Cr1 Fe2.5 Co2.5 Ni2.5 Al1.5",
          "Mn33.33 Fe33.33 Co33.33 Ni33.33 Cu33.33 Sn1",
          "Cr1 Fe1 Co1 Ni1 Al1.4",
          "Zr1 Mo19.75 B2 Si2.25",
          "Cr4.6 Fe1.4 Co2.8 Ni1 Cu1 Al9.2",
          "Cr1 Fe1 Co1 Ni1 Cu1 Al2.5",
          "Cr2 Fe2 Co2 Ni2 Cu1 Al1",
          "Mo1 Cr10 Fe10 Co10 Ni10 Al3",
          "Mo1 Cr10 Fe10 Co10 Ni10 Al10",
          "Zr1 Ti1 Nb1 V1 Mo1.3",
          "Cr1.42 Fe1 Co1.42 Ni1.42 Al1.42",
          "Mo1 Cr5 Fe5 Co15 Ni15 Al9",
          "Cr4.4 Fe1 Co4.8 Ni1.2 Al8.6",
          "Ti1 Ta2.88 Nb2.88 W2.88 Mo2.88",
          "Cr1 Fe1 Ni1 Al1.12",
          "V4 Cr2 Fe2 Co2 Ni2 Cu2 Al1",
          "Cr4.96 Fe4.96 Co4.96 Ni4.96 Al1",
          "Cr1.25 Mn1 Fe1.25 Co1.25 Pd1.25 Ni1.25",
          "Ti1 Cr5 Fe5 Ni5 Al1",
          "V1.99 Cr1 Fe1 Co1 Ni1",
          "Cr10 Mn12.5 Fe20 Ni7.5 Al1",
          "Hf1 Zr1.8 Ti2 Nb2 Mo1",
          "Fe14.29 Co14.29 Ni14.29 Cu14.29 Sn1",
          "V1 Mo1 Fe1 Co1 Ni1.8",
          "Fe5 Co5 Ni5 Cu5 Sn1",
          "Ta1 Nb1 V1 W1 Mo1",
          "Cr5 Mn5 Fe5 Co5 Ni5 Al1",
          "Hf10 Ti21 Nb1 Si16",
          "Mo1 Cr1.05 Mn1.05 Fe1.05 Co1.05 Ni1.05",
          "Mo1 Cr5 Fe5 Co5 Ni5",
          "Cr1 Fe1 Co3 Ni3.2 Al1.8",
          "Cr3 Fe2.6 Co2.8 Ni1.2 Cu1 Al9.4",
          "Zr4 Ti4 Nb4 V1 Mo4",
          "W5 Re1 Fe10.5 Ni24.5",
          "Cr3.98 Fe3.98 Co3.98 Ni3.98 Al1",
          "Cr1 Fe1 Ni1.99 Cu1.01 Al1",
          "Zr9 Ti9 Ta1 Nb1",
          "Mo1 Cr12 Fe12 Co12 Ni12",
          "Cr5 Fe5 Co5 Ni5 Cu5 Al2.5 B1",
          "Ti1 Cr1 Fe1 Co1.5 Ni1.5",
          "W42.24 Fe1 Ni2.43",
          "V3.21 Cr2.01 Fe2.01 Co2.01 Ni2.01 Cu2.01 Al1",
          "W2.5 Re1 Fe5.25 Ni12.25",
          "Ti1 Cr1.25 Fe1.25 Co1.25 Ni1.25 Cu1.25",
          "Ti1 Cr2.49 Fe2.49 Co2.49 Ni2.49 Cu2.49 Al1.25",
          "Mo42 B1 Si7",
          "Cr1.62 Mn1.62 Fe1.62 Co1.62 Ni1.62 Al1",
          "Cr2 Fe2 Co2 Ni2 Cu1 Al4",
          "Ti2.51 Cr5 Fe5 Co7.51 Ni7.51 Al1",
          "Cr1 Co1 Ni1 Cu1",
          "Zr4.75 Ti4.75 Ta4.75 Nb4.75 Mo1",
          "Cr1.42 Fe1.42 Co1.42 Ni1 Cu1.42",
          "Mo1 Cr2.3 Mn2.3 Fe2.3 Co2.3 Ni2.3",
          "Mo27.33 B1 Si5",
          "Ti2.85 Nb1.28 Al1",
          "Ti24.75 W1 Al24 Si0.25",
          "Ti2.25 Nb2.25 W2.25 Mo2.25 Cr1",
          "Cr1 Fe1 Co1 Ni3 Al1",
          "Cr1.24 Mn1.24 Fe1.24 Co1.24 Ni1.24 Al1",
          "Cr1.23 Mn1.23 Fe1.23 Co1.23 Ni1.23 Al1",
          "Cr1.11 Fe1.11 Co1.11 Ni1.11 Al1",
          "Ti1 Nb1 V1 Al1",
          "Ti1 Ta7.18 W5.18 Mo1.82 Cr7.09 Co5.91 Ni58 Al4.73",
          "Cr4.97 Fe7.44 Ni2.48 Al1",
          "Ti1.32 Nb1.32 V1.34 Mo1.34 Al1",
          "Ti20.2 Ta1.03 Nb7.01 Fe1",
          "Cr1.36 Fe1.27 Co1.55 Ni1 Al3.91",
          "Cr2 Fe2 Ni4 Cu2 Al1",
          "Mo1 Cr2 Fe2 Co4 Ni2 Al2",
          "Mo10.38 B1 Si1.12",
          "Mn1 Ni1 Cu1 Zn1",
          "Hf1 Zr2 Ti2 Nb2 Mo1 Si1.8",
          "Cr2.21 Fe2.21 Co2.21 Ni2.21 Cu1 Al1.77",
          "Fe4.96 Co1 Ni4.96 Cu4.96 Al4.96",
          "Cr1 Fe1 Ni2 Cu1 Al1.5",
          "Cr1.04 Mn1 Fe1.02 Co1.08 Ni1.09",
          "V3.99 Cr1.99 Fe1.99 Co1.99 Ni1.99 Cu1.99 Al1",
          "Hf3.33 Ti3.33 Nb3.33 V1.67 Mo1.67 Si1",
          "Cr2.66 Fe2.66 Co2.66 Ni2.66 Al1",
          "Hf5.56 Zr5.56 Ti7.06 Ta1 Nb1",
          "Ti1 Cr1.99 Fe1.99 Co1.99 Ni1.99 Al2.4",
          "Hf2 Zr4 Ti8 Nb1 V4",
          "Cr5.8 Fe1 Ni5.2 Cu5.8 Al2.2",
          "Cr3.29 Fe3.29 Co3.29 Ni3.29 Al1",
          "Cr2 Mn2 Fe2 Co2 Ni2 Al1",
          "Ta3.5 Nb2 W2 Mo1.5 Re1",
          "Cr2.33 Fe3.33 Co3.33 Ni3.33 Al1",
          "Ti24.5 Nb1 Cr1 Al23.5",
          "Cr1.44 Fe1.29 Co1.29 Ni1.44 Al1",
          "Fe1 Co1 Ni1 Cu1 Sn0.02",
          "Cr1.33 Mn1.67 Fe2.67 Ni1",
          "Cr5.36 Mn31.09 Fe36 Ni10.18 Al6.73 C1",
          "Nb1 Cr10 Fe10 Co10 Ni10 Al10",
          "Zr1 Ti2 Ta1 Nb2 Al2",
          "Hf7.5 Ti21 Nb1 Si16",
          "Ti1 Cr5 Fe5 Co5 Ni5 Cu5 Al2.5",
          "Mo1 Cr2 Fe3 Co2 Ni2 Al2",
          "Ti1 Cr10 Mn10 Fe10 Co10 Ni10 C1",
          "Mo1 Cr5 Fe5 Ni5 Al5",
          "Ti2 Cr2 Fe2 Co2 Ni2 Al1",
          "Cr1 Fe1 Co1 Ni1 Al1",
          "Ti22.1 V1 Al2.62",
          "Fe20 Co20 Ni20 Cu20 Sn1",
          "Cr1 Fe1 Co1 Cu1 Al1.99",
          "Hf1.5 Zr2.5 Ti2.5 Ta2.5 Nb2.5 Al1",
          "Ti1 Cr2 Fe2 Co2 Ni2 Al3",
          "Ti27.45 V1 Al3.25",
          "Cr1 Mn3 Fe5 Co1",
          "Nb1 Cr9.71 Fe9.71 Co9.71 Ni9.71",
          "W1 Fe3 Ni7",
          "V1 Cr2.5 Fe2.5 Co2.5 Ni2.5 Cu2.5 Al1.25",
          "Ta6.32 Nb6.32 W6.36 Mo1",
          "Ti3.01 V2.01 Fe2.01 Co2.01 Ni2.01 Cu1",
          "Ti4.96 Cr4.96 Ni4.96 Cu4.96 Al1",
          "Fe1 Co1 Ni2 Cu1 Al1",
          "Ti27.28 V1 Al3.23",
          "Hf2 Zr2 Ti2 Ta2 Nb2 Al1",
          "Cr1.79 Mn1.79 Fe1.79 Co1.79 Ni1.79 Al1",
          "Cr3.33 Mn3.33 Fe4.99 Ni1.66 Al1",
          "Mn1 Fe3 Co3 Ni3",
          "Hf12.25 Zr12.25 Ti12.25 Ta6.12 Nb6.12 N1",
          "Cr1.67 Fe1.67 Ni3.34 Cu1.67 Al1",
          "V1 Cr1.47 Fe1.47 Co1.47 Ni1.47 Cu1.47",
          "Cr1 Fe5 Co5 Ni5 Si1",
          "Cr1 Fe2.25 Co2.25 Ni2.25 Al2.25",
          "Ta2 Nb1.33 W1.33 Mo1 Re1",
          "Cr1.15 Fe1.15 Co1.15 Ni1.15 Al1",
          "Ti1.5 Cr1 Fe1 Co1 Ni1 Al1",
          "W1 Cr2.3 Mn2.3 Fe2.3 Co2.3 Ni2.3",
          "Cr6.8 Fe1 Co3.4 Ni2 Al6.8",
          "Cr1 Fe1 Co1 Ni1 Cu1 Al2.8",
          "Zr1.33 Ti1.33 Nb1.33 V1 Mo1.33",
          "Cr4.76 Fe1 Co4.76 Ni4.76 Cu4.76",
          "Ti1.5 V1 Mo1 Cr1 Fe1",
          "Re1 Co2.25 B1.75",
          "Cr6.2 Fe1 Ni6.2 Cu4.2 Al2.4",
          "Ti3.63 Cr2.01 Fe2.01 Co2.01 Ni2.01 Cu2.01 Al1",
          "Ti1 Nb2.5 Mo2.5 Cr2.5 Co2.5",
          "Ti2.83 Nb2.83 Si1",
          "Ti1 Ta5.88 V5.88 W5.88 Cr5.88",
          "Ti2 Cr4 Fe4 Co4 Ni4 Cu3 Al1",
          "Mn6.34 Ni6.34 Cu6.34 Sn1",
          "Cr1 Fe1.42 Co1.42 Ni1.42 Cu1.42",
          "Cr3.01 Fe2.01 Co2.01 Ni2.01 Cu1 Al2.01",
          "Hf1 Zr1 Ti1 Nb1",
          "Cr2.6 Fe2.4 Co2.6 Ni2 Cu1 Al9.4",
          "Ti1.2 Mo1 Cr2 Fe2 Ni2 Al2",
          "Ti1.6 Cr2 Fe2 Co2 Ni2 Cu2 Al1",
          "Cr4.2 Fe2.4 Co2.8 Ni1 Cu1 Al8.6",
          "Cr2 Mn2 Fe2 Co2 Ni2 C1",
          "Ta1 Nb1 W1",
          "Ti1 Cr1 Fe1 Co1 Ni1 Al2",
          "V1 Cr1.05 Fe1.05 Co1.05 Ni1.05 Cu1.05",
          "Cr1.11 Fe1.11 Ni2.33 Al1",
          "Mn12.5 Fe12.5 Co12.5 Ni12.5 Cu12.5 Sn1",
          "V1 Mo1 Fe1 Co1 Ni1.2",
          "Cr1 Fe5 Co5 Ni5 Al4",
          "Cr1 Fe1 Co1 Ni2.15 Al1",
          "Cr4 Fe4 Co4 Ni4 Cu1 Al3",
          "Ti27.63 V1 Al3.27",
          "Cr3.33 Mn4.17 Fe6.67 Ni2.5 Al1",
          "Cr4.67 Fe1 Ni5.17 Cu3.67 Al2.17",
          "V1 Cr10.25 Fe10.25 Co10.25 Ni10.25 Cu10.25 Al10.25",
          "Cr4.96 Fe1 Co4.96 Ni4.96 Al4.96",
          "Hf1.67 Zr3.33 Ti3.33 Nb3.33 Mo1.67 C1",
          "Cr4 Fe4 Co4 Ni4 Al1",
          "Ti1 Cr3.98 Fe3.98 Co3.98 Ni3.98 Al4.78",
          "Re1 Co1.17 B1.17",
          "Ti1 Cr1 Fe1 Co1 Ni1 Al1",
          "Cr4.4 Fe1 Co5 Ni1 Al8.6",
          "Cr3.8 Fe1 Co3.8 Ni1 Cu1 Al9.4",
          "Cr5 Fe5 Co5 Ni5 Al5 C1",
          "Ti10.17 Cr10.17 Fe10.17 Ni10.17 Cu1",
          "Cr3.32 Fe3.32 Ni6.61 Cu3.32 Al1",
          "Cr1.25 Mn1.25 Fe1.25 Ni1.25 Al1",
          "Ta1 Cr1.67 Mn1.67 Fe1.67 Co1.67 Ni1.67",
          "Ti23.94 V1 Al2.83",
          "Cr1 Fe1 Co1 Ni1 Al1 Si1",
          "Cr1 Fe10 Co10 Ni10 Al9",
          "W1.2 Fe1.8 B1",
          "Hf1.67 Zr1 Ti3.33 Nb3.33 Mo1.67",
          "Cr2.63 Mn2.63 Fe2.63 Co2.63 Ni2.63 Al1",
          "Hf1.67 Zr3.33 Ti3.33 Nb3.33 Mo1.67 Si1",
          "Nb1 Cr6.45 Fe6.45 Co6.45 Ni6.45",
          "Cr1 Fe1 Ni2.01 Cu1 Al1.2",
          "Ta1 Co6.22 B3.89",
          "Ti1.5 Cr1 Fe1 Ni1 Cu1 Al1",
          "Hf4 Zr4 Ti4 Ta4 Nb4 Mo1",
          "Zr2.85 Ti2.69 Nb3.17 Re1",
          "Fe1 Co1.5 Ni1 Cu1 Al1",
          "Cr10 Fe10 Co10 Ni10 Al1",
          "Ta1 Co8.29 B5",
          "Cr1 Fe1 Co1 Ni1 Al1.25",
          "Ti3.6 Cr2 Fe2 Co2 Ni2 Cu2 Al1",
          "Ti1 V1 Cr1 Fe1 Ni1 Cu1 Al1.5",
          "Mg1 Ni1 Cu1 Zn1 Al13 Si3",
          "Zr1 Ti1 Nb1 V1 Mo1.5",
          "Fe2 Co2 Ni2 Al1",
          "Cr2 Fe2 Co1 Ni2 Al2",
          "Hf2.25 Zr2.25 Ti2.25 Nb2.25 Al1",
          "W2.31 Fe2.92 B1.46 C1",
          "Hf2 Ti2 Nb2 V1 Mo1 Si1.01",
          "Mg1 Mn1 Cu1 Zn1 Al13 Si3",
          "Mo1 Cr6.69 Fe6.69 Co6.69 Ni6.69",
          "Cr5 Fe5 Ni10 Cu5 Al1",
          "Hf2.01 Ti2.01 Nb2.01 V1 Mo1 Si1.41",
          "Cr1 Fe1 Co1 Ni1 Al2",
          "Ti1 Mn35 Fe38.75 Ni18.75 Al30",
          "Cr2.01 Fe2.01 Co2.01 Ni2.01 Cu1 Al3.01",
          "Cr10 Mn10 Fe10 Ni10 C1",
          "Zr1 Ti1 Nb1 V1",
          "Cr2 Fe4 Co2 Ni2 Cu1 Al2",
          "Cr1.25 Fe1.25 Ni2.5 Cu1.25 Al1",
          "Cr1 Fe1 Ni2 Al1",
          "Zr1 Ti1.02 Nb1.15",
          "Mo5.3 B1 Si3.7",
          "Ti2.5 Cr5 Fe5 Co7.5 Ni7.5 Al1",
          "Cr9 Fe10 Co10 Ni10 Al1",
          "Cr7 Fe1 Ni5.2 Cu4.8 Al2",
          "V3.63 Cr2.01 Fe2.01 Co2.01 Ni2.01 Cu2.01 Al1",
          "Ta1 Nb1 V1 W1 Mo1 Cr1",
          "Cr1.5 Fe2.92 Co1.5 Ni1.5 Al1",
          "Cr4 Fe2 Co2 Ni2 Cu1 Al2",
          "Zr1 Ti2 Ta1 Nb2 Mo1 Al2",
          "V1 Cr2 Mn2 Fe2 Co2 Ni2",
          "Cr1 Fe1 Co1 Al1",
          "Cr1.13 Fe1.13 Ni1.13 Al1",
          "Ti3.21 Cr2.01 Fe2.01 Co2.01 Ni2.01 Cu2.01 Al1",
          "Cr6.2 Fe1.6 Co2 Ni1.4 Cu1 Al7.8",
          "W1 Cr4.8 Mn4.8 Fe4.8 Co4.8 Ni4.8",
          "Ti2.39 Cr1.99 Fe1.99 Co1.99 Ni1.99 Cu1.99 Al1",
          "Cr16.67 Mn50 Fe82.33 Co16.67 B1",
          "Cr5 Co4.5 Ni5 Cu4.5 Al1",
          "Cr1.42 Fe1 Co1.42 Ni1.42 Cu1.42",
          "Cr5.05 Mn5.05 Fe5.05 Co5.05 Ni5.05 Al1",
          "Cr1.34 Fe1.34 Co1.34 Ni1.34 Al1",
          "Mo1 Cr2 Fe2 Ni2 Al2",
          "Ti1 Cr1.25 Fe1.25 Co1.25 Ni1.25 Al1.25",
          "Cr3.6 Fe1 Co4.2 Ni1 Cu1 Al9.2",
          "Zr2 Ti2 Nb2 V2 Mo1",
          "Cr4 Fe1.33 Co3.17 Ni1 Al7.17",
          "Hf12.5 Ti21 Nb1 Si16",
          "Cr10 Mn10 Fe10 Co10 Ni10 Al1",
          "V1 Cr5 Fe5 Co5 Ni5 Cu5 Al2.51",
          "Ti5 Cr5 Fe5 Co7.5 Ni7.5 Al1",
          "V2 Cr2 Fe2 Co2 Ni2 Cu2 Al1",
          "Cr1 Fe1 Ni1 Al1.21",
          "Zr1 Ti10 Nb10 V10 Al10",
          "Cr1.34 Mn1.34 Fe1.34 Co1.34 Ni1.34 Al1",
          "Ti1.38 Nb2.62 Mo1.25 Si1",
          "Fe1 Co1 Ni1 Al1",
          "Zr3.33 Ti3.33 Nb3.33 V1",
          "Cr1 Fe1 Co1 Ni2.1 Al1",
          "Mo1 Cr2 Fe2 Co2 Ni3 Al2",
          "V1.25 Mo1 Fe1.25 Co1.25 Ni1.25",
          "Mo1 Cr6.67 Fe6.67 Co6.67 Ni6.67",
          "Ta2 Nb2 W2 Mo2 Si1",
          "Cr1.25 Fe1.25 Co1.25 Ni1.25 Al1",
          "Cr23.73 Mn24.58 Fe23.37 Co23.61 Ni24.1 C1",
          "Ti27.81 V1 Al3.29",
          "Cr2.87 Fe1.88 Co1.88 Ni1.88 Cu1 Al2.87",
          "V1 Cr1 Mn1 Fe1 Co1 Ni1",
          "Cr1.33 Fe1.33 Co1.33 Ni1",
          "Ti2.2 Nb5.2 Mo1 Si1.6",
          "Hf2 Zr2 Ti2 Ta1",
          "W6.32 Ni9.2 Cu1 B3.48",
          "Cr4 Fe1.8 Co2.8 Ni1 Cu1 Al9.4",
          "Cr1 Fe1 Co1 Ni1 Cu1 Al1.3",
          "Hf4.75 Zr4.75 Ti4.75 Nb4.75 Al1",
          "Ti1 Nb1 W1 Mo1 Cr1",
          "Mo5 B2 Si1",
          "Ti1 V1 Cr1 Fe1 Ni1 Cu1 Al1",
          "V1.6 Cr2 Fe2 Co2 Ni2 Cu2 Al1",
          "Cr1 Fe3.33 Co3.33 Ni3.33 Al2.33",
          "Mo1.07 Cr1.79 Fe7.86 Co2.57 Ni1",
          "Mo20.5 B1 Si3.5",
          "Cr3.33 Fe3.33 Co3.33 Ni3.33 Al3.33 C1",
          "Hf1 Zr2 Ti2 Nb2 Mo1 Si1.4",
          "Ti1 Ta3.33 V3.33 W3.33 Cr3.33",
          "Cr1 Fe1 Ni1.2 Cu1 Al1",
          "Mo46 B1 Si3",
          "Ti1 W0.1 Mo0.1 Cr14 Fe17 Co17 Ni35 Cu8 Al8",
          "V1 Cr1.34 Mn1.34 Fe1.34 Co1.34 Ni1.34",
          "Hf1 Zr2 Ti2 Nb2 Mo1",
          "Cr1 Fe1.99 Co1 Ni1 Al1",
          "Ti1.05 Ta1.27 Nb1.29 V1",
          "Hf1.33 Zr1.33 Ti1.33 Ta1.33 Nb1.33 Mo1",
          "Cr1.67 Fe1.67 Ni1 Cu1.67 Al1.67",
          "Ta1 Cr5 Mn5 Fe5 Co5 Ni5",
          "Cr4.4 Fe1.6 Co4.4 Ni1 Al8.6",
          "Zr1 Ti2.04 Ta1.14 Nb2.1 Al2.19",
          "Ti1 Cr4.98 Fe4.98 Ni4.98 Al1",
          "Cr3 Fe1.29 Co2.86 Ni1 Al6.14",
          "Ti3.99 Cr1.99 Fe1.99 Co1.99 Ni1.99 Cu1.99 Al1",
          "Zr1 Ti3.2 Nb1.5 Cr2 Al2.3",
          "Ti2.8 Cr2 Fe2 Co2 Ni2 Cu2 Al1",
          "V1.61 Cr2.01 Fe2.01 Co2.01 Ni2.01 Cu2.01 Al1",
          "Zr1 Ti1 Nb1 V1.25 Mo1",
          "Ti1 Cr1 Fe1 Ni1 Cu1",
          "Ti2 Cr2 Fe2 Ni2 Cu1",
          "Cr1 Fe1 Ni2 Cu1 Al2",
          "Cr1.43 Mn1.43 Fe1.43 Co1.43 Ni1.43 Al1",
          "Ti0.02 Nb1 Mo1 Cr1 Co1",
          "W1.18 Fe1.45 B1",
          "Ti4 V2 Fe2 Co2 Ni2 Cu1",
          "Hf1 Zr1 Ti1 Ta1 Nb1 Al1",
          "Nb11.6 Fe1 Co1 Ni1 Cu1",
          "Ti1 Cr2 Fe2 Co3 Ni3",
          "Ta1 Cr2.5 Mn2.5 Fe2.5 Co2.5 Ni2.5 Al1.25",
          "Ti1 Cr1 Fe1 Co1 Ni1 Cu1",
          "Fe2 Co2 Ni2 Si1",
          "Ti1 Nb5 Mo5 Cr5 Co5",
          "Cr7 Fe1 Ni4.8 Cu5.2 Al2",
          "Nb1 Cr4.85 Fe4.85 Co4.85 Ni4.85",
          "Ti2 Cr2 Fe2 Co2 Cu1 Al2",
          "Cr1 Fe1 Ni2 Cu1 Al2.2",
          "Cr1 Fe3 Co3 Ni3",
          "Ti3.2 Cr2 Fe2 Co2 Ni2 Cu2 Al1",
          "Cr4.67 Fe1 Ni4.67 Cu4.5 Al1.83",
          "Cr3.6 Fe1 Co4 Ni1 Cu1 Al9.4",
          "Cr2 Fe2 Co2 Ni2 Cu1 Al1.51",
          "Zr4.33 Ti4.67 Ta3.33 Nb3.33 Al1",
          "Cr4 Fe4 Co4 Ni4 Cu1 Al4",
          "Fe2 Co2 Ni1 Cu2 Al2",
          "Cr1 Fe1 Co1 Ni1 Al1 C1.5",
          "Cr1.33 Fe1.33 Co1.33 Al1",
          "Ti1 Ta4 Nb4 W4 Mo4",
          "Cr2.4 Fe2.6 Co2.4 Ni2.2 Cu1 Al9.4",
          "W1 Cr20 Mn20 Fe20 Cu20 Al20",
          "Cr1 Fe1 Ni1.99 Cu1 Al1.59",
          "Hf2 Ti2 Nb2 V1 Mo1 Si1",
          "Cr1.15 Fe1 Co1 Ni1",
          "Cr2 Fe2 Ni4 Al1",
          "Mo1 Cr2.01 Fe2.01 Co2.01 Ni2.01 Al3.01",
          "Ti1 Nb1 W1 Mo1",
          "Cr6 Fe1.4 Co2 Ni1.2 Cu1 Al8.4",
          "Cr1 Fe1 Co1 Ni1.99 Al1",
          "Ti2.5 Ni1.5 C1",
          "Ta1 Co9.83 B5.83",
          "Y1 Ti1 Cr1 Co1 Ni1 Cu1 Al1",
          "Cr1 Fe4.76 Co4.76 Ni4.76 Cu4.76",
          "Cr1.43 Mn1.79 Fe2.86 Ni1.07 Al1",
          "Cr5.88 Mn17.65 Fe28.41 Co5.88 B1",
          "Ti1 Cr1 Fe1 Co1 Ni1 Al1.2",
          "Cr5 Fe5 Co5 Ni5 Al1",
          "Mo9.62 B1.01 Si1",
          "Ti27.37 V1 Al3.24",
          "W1 Re1 Fe3 Ni7",
          "Cr2 Mn2 Fe3 Ni1 Al1",
          "Hf1 Zr1 Ti2 Nb2 Mo1",
          "Ta3.16 Nb3.15 V2.79 W3.15 Mo3.15 Cr1",
          "Cr2.11 Fe1 Co2.22 Ni1 Al4.78",
          "Zr6.5 Ti7 Ta4 Nb5 V1 Al1.5",
          "Ti1.5 Ta1 Nb1 V1 Mo1",
          "Cr6.8 Fe1 Co4.4 Ni2 Al5.8",
          "Ti1 Cr2 Fe2 Co2 Ni2 Al1",
          "Cr1.2 Mn2.3 Fe3.5 Ni2 Al1",
          "Hf1 Zr2 Ti4 Nb1 V2",
          "Cr2.5 Fe2.5 Co2.5 Ni2.5 Al2.5 C1",
          "V1.67 Mo1 Fe1.67 Co1.67 Ni1.67",
          "Cr1 Fe1 Co1 Ni2.5 Al1",
          "Cr2 Mn1.2 Fe2 Co2 Ni2 Al1",
          "Ti2 Cr4 Fe4 Co4 Ni4 Cu2 Al1",
          "Cr1 Fe1 Ni1 Al1.3",
          "Cr1.43 Fe1.43 Ni3.29 Al1",
          "Hf12.5 Ti33 Nb1 Si16",
          "Hf1 Zr2 Ti4 Nb1.5 V2",
          "Cr3.32 Fe3.32 Co3.32 Ni3.32 Cu3.32 Al1",
          "Ti22.68 V1 Al2.68",
          "Cr2 Fe2 Co2 Ni2 Al1",
          "W4.09 Fe2 Co1 Ni2",
          "Ti1 Nb1 V1 Mo1 Al1.25",
          "Zr0 Ti1 Mo84.97 Co0.21 S0.25",
          "Hf1.02 Zr1.01 Ti1.07 Ta1.08 Nb1",
          "Cr4.6 Fe1 Co4.8 Ni1 Al8.6",
          "Hf2 Zr2 Ti2 Ta1 Nb1",
          "Zr1.43 Ti1.43 Nb1.43 V1.43 Mo1",
          "Cr3.33 Fe3.33 Co1 Ni3.33 Al2.33",
          "Re1.6 Co1 B1.4",
          "Zr1 Ti1 Nb1 V1 Mo1.7",
          "Zr0.09 Ti1.08 Mo106.37 B3.82 C1",
          "Cr2 Fe2 Co2 Ni4 Cu1 Al2",
          "Ta1 Nb1 W1 Mo1",
          "Mn1.33 Ni1.33 Cu1.33 Zn1",
          "Zr4 Ti4 Ta4 Nb4 Al1",
          "Cr3.8 Fe2 Co2.8 Ni1 Cu1 Al9.4",
          "Cr2 Fe2 Co2 Ni2 Cu2 Al1 B2",
          "Ti1 Mo2 Cr4 Fe4 Ni4 Al4",
          "Ti2.49 Cr2.49 Ni2.49 Cu2.49 Al1",
          "Fe1.25 Co1.25 Ni1 Cu1.25 Al1.25",
          "Ti1 Nb1 V1 Mo1",
          "Mn10 Fe10 Co10 Ni10 Cu10 Sn1",
          "Ti4 Ta4 Nb4 V4 Al1",
          "Mn1 Fe1 Co1 Ni1 Cu1",
          "W2 Fe2.53 B1.13 C1",
          "Ti1 Mo1.25 Cr2.5 Fe2.5 Ni2.5 Al2.5",
          "Fe25 Co25 Ni25 Cu25 Sn1",
          "Ti1 W64.67 C1",
          "V2.8 Cr2 Fe2 Co2 Ni2 Cu2 Al1",
          "Cr1 Fe1.42 Co1.42 Ni1.42 Al1.42",
          "Nb15 Fe1 Co1 Ni1 Cu1",
          "W1.82 Ni2.93 B1",
          "Ti2.82 Cr2.01 Fe2.01 Co2.01 Ni2.01 Cu2.01 Al1",
          "Ti1 Mn9.33 Fe10.33 Ni5 Al8",
          "Cr2 Fe2 Co2 Ni6 Cu1 Al2",
          "Cr1 Mn1 Fe1 Co1 Ni1",
          "Ti5 Ta5 V5 Mo5 Al1",
          "W1 Cr10 Mn10 Fe10 Cu10 Al10",
          "Cr5 Fe5 Co5 Ni5 Al5 Si1",
          "Cr2.38 Fe1.38 Co2.38 Ni1 Al5.38",
          "Fe2 Co2 Ni2 Cu2 Sn1",
          "Hf1 Zr1.4 Ti2 Nb2 Mo1",
          "Cr2.12 Fe2.12 Co2.12 Ni4.12 Cu1 Al1",
          "V1.2 Cr2 Fe2 Co2 Ni2 Cu2 Al1",
          "Ti1.67 Cr1.67 Ni1.67 Cu1.67 Al1",
          "Cr2 Fe2 Co2 Ni2 Cu1 Al1.41",
          "Fe2 Co1 Ni2 Cu2 Al2",
          "Zr0.09 Ti1 Mo97.69 B7.05 C1.71",
          "Cr1.25 Fe1.25 Ni2.75 Al1",
          "Li1 Mg1 Cu1 Zn1 Al16",
          "Cr1.42 Fe1.42 Co1.42 Ni1.42 Al1",
          "Cr5.5 Fe1 Co1 Ni1 Cu1 Al7.17",
          "Hf5 Zr1 Ti10 Nb10 Mo5",
          "Ta1 Cr2.5 Mn2.5 Fe2.5 Co2.5 Ni2.5",
          "Cr1 Fe1 Co1 Ni1.99 Al1.3",
          "Hf2 Ti2 Nb2 V1 Mo1 Si1.4",
          "Ti1.61 Cr2.01 Fe2.01 Co2.01 Ni2.01 Cu2.01 Al1",
          "Cr3.33 Fe3.33 Ni6.64 Al1",
          "W1.17 Fe1.17 B1",
          "Cr4.4 Fe2 Co2.2 Ni1 Cu1 Al9.4",
          "Cr1.61 Mn1.61 Fe1.61 Co1.61 Ni1.61 Al1",
          "V2.82 Cr2.01 Fe2.01 Co2.01 Ni2.01 Cu2.01 Al1",
          "V1 Cr2.3 Fe2.3 Co2.3 Ni2.3 Cu2.3",
          "Cr3.33 Mn3.33 Fe5 Ni1.67 Al1",
          "Re1.17 Co1 B1.17",
          "Nb1 Cr2 Fe2 Co2 Ni2 Al2",
          "Ti27.72 V1 Al3.28",
          "Ta3.61 Nb3.58 V2.28 W3.53 Mo3.54 Cr1",
          "V1 Mo1 Fe1 Co1 Ni1",
          "Zr1 Ti2.2 Nb1.5 Cr2 Al3.3",
          "Ta1 Nb2.5 W2.5 Mo2.5 Re1.25 C1",
          "Ti1 Cr2 Fe2 Co2 Ni2 Al2",
          "Cr1 Fe1 Co1 Ni1 Cu1 Al1.5",
          "Ta1 Nb5 W5 Mo5 Re2.5 C1",
          "Cr1 Mn1 Fe1 Co1 Ni1.05",
          "Fe1 Co1 Ni1 Cu1 Al1",
          "W3.33 Fe2 Co1 Ni2",
          "Fe10 Co10 Ni10 Cu10 Sn1",
          "Mg1 Fe1 Cu1 Zn1 Al13 Si3",
          "Mn1.87 Fe2.07 Ni1 Al1.6",
          "Cr5 Mn1 Fe5 Co5 Pd5 Ni5",
          "Cr14.78 Mn14.19 Fe14.26 Co14.78 Ni14.56 C1",
          "Cr2.25 Fe2.25 Co1 Ni2.25 Al2.25",
          "Cr2.52 Fe2.52 Co2.52 Ni2.52 Cu1 Al2.27",
          "Cr1.33 Fe1.33 Co1.33 Ni1.33 Al1",
          "Ta1 Cr5 Mn5 Fe5 Co5 Ni5 Al2.5",
          "Ti1.42 Nb1.42 W1.42 Mo1.42 Cr1",
          "Hf1 Zr2 Ti4 Nb2 V2",
          "V3.2 Cr2 Fe2 Co2 Ni2 Cu2 Al1",
          "Ti27.11 V1 Al3.21",
          "Cr1 Fe1 Co1 Cu1 Al1.5",
          "Mo1 Cr2.5 Fe2.5 Co2.5 Ni2.5 Al2.5",
          "Ti1 Cr1 Fe1 Ni1 Cu1 Al1",
          "Cr1 Fe1 Co1 Ni1 Al1 C1",
          "Ti2 Nb2 V2 Mo1 Cr1.5",
          "Cr6.2 Fe1 Ni6.4 Cu4 Al2.4",
          "Cr2.25 Fe2.25 Co1 Ni2.25 Cu2.25",
          "Cr1 Fe1 Ni1.4 Cu1 Al1",
          "Li25.33 Ca0.33 Mg30 Al10 Si1",
          "Cr1 Fe1 Co1 Ni1 Cu1 Al1.8",
          "Ti2.4 Cr2 Fe2 Co2 Ni2 Cu2 Al1",
          "Zr8.5 Ti8.5 Ta1 Nb1 Mo1",
          "Ti2 Ta1 Nb1 V1 Mo1",
          "Mo45.5 B1 Si3.5",
          "Cr1 Fe1 Co1 Ni2 Al1",
          "Cr5.17 Fe1.5 Co1.67 Ni1.33 Cu1 Al6",
          "Ti1 Cr5 Fe5 Co5 Ni5 Al9",
          "Mo1 Cr2 Fe2 Co2 Ni2",
          "Zr5 Ti5 Ta2.5 Nb5 Al1",
          "Zr2.25 Ti2.25 Ta2.25 Nb2.25 Mo1",
          "Fe1 Co1 Ni1 Cu1",
          "Ta1 Nb2 W2 Mo2 Re1 C1",
          "Cr1 Fe1 Co1 Cu1 Al2.5",
          "Ti1 Cr2.5 Fe2.5 Ni2.5",
          "Ti1 Ta2 Nb2 W2 Mo2",
          "Cr4.2 Fe1.6 Co4.6 Ni1 Al8.6",
          "Cr2.33 Mn2.33 Fe2.33 Co2.33 Ni2.33 Al1",
          "Ti1 Cr1.33 Fe1.33 Co1.33 Ni1.33 Al1.6",
          "Mn5 Fe5 Co5 Ni5 Cu5 Sn1",
          "Mo1 Cr4.96 Fe4.96 Ni4.96 Al4.96",
          "Hf1 Zr1 Ti1 Ta1 Nb1",
          "Cr1 Fe1 Co1 Ni1",
          "Mg1 Cr1 Cu1 Zn1 Al13 Si3",
          "Cr1 Fe1 Co1 Ni1 Al2.99",
          "Fe1 Co1 Ni1.5 Cu1 Al1",
          "Ti2 Nb2 V2 Mo2 Cr2 Al1",
          "W1 Cr2 Fe2 Co2 Ni2",
          "Mn3 Ni3 Cu3 Sn1",
          "Ti4.4 Nb11.4 Mo1 Si3.2",
          "Cr1 Mn1 Fe1 Cu1 Al1",
          "Zr0.08 Ti1 Mo98.79 C0.13",
          "Zr1 Ti1 Ta1 Nb1",
          "Ta1 V1 W1 Cr1",
          "Cr1 Mn1 Fe1 Co1 Ni1 Al1",
          "V1 Cr3.8 Mn3.8 Fe3.8 Co3.8 Ni3.8",
          "Cr2 Fe2 Co4 Ni2 Cu1 Al2",
          "Zr9 Ti9 Nb1 Mo1",
          "Zr1 Ti1 Nb1 V1 Mo2",
          "Cr3.98 Fe4.96 Co3.98 Ni4.96 Al1",
          "V1.5 Cr1 Fe1 Co1 Ni1",
          "Cr6.34 Fe6.34 Co6.34 Al1",
          "Nb1 Cr3.24 Fe3.24 Co3.24 Ni3.24",
          "Cr1 Fe1 Ni1.94 Cu1 Al1",
          "Cr1.25 Fe1.25 Co1.25 Ni1.25 Al1.25 Si1",
          "Cr1 Fe1 Co1 Ni1 Cu1",
          "Mo109.94 B0.17 Si1",
          "Mo10.17 B1 Si5.5",
          "Hf10 Ti33 Nb1 Si16",
          "Nb1 Cr4 Fe4 Co4 Ni4 Al4",
          "Ti2 Nb2 V2 Mo2 Al1",
          "Ti2 Nb2 V2 Mo1",
          "Cr1 Fe1 Co1 Ni1.96 Al1",
          "Mo1 Cr2.5 Fe11 Co3.5 Ni2",
          "Ti1 Cr5 Fe5 Co5 Ni5 Cu5 Al2.51",
          "Cr1 Fe1 Co1 Cu1 Al2.3",
          "Cr1 Fe1 Ni1 Cu1 Al1.99",
          "Mo1 Cr2 Fe1.2 Co2 Ni2 Al2",
          "Ti1 Nb1 V1 Mo1 Al1.5",
          "Ti1 Cr2 Fe2 Co2 Ni2 Cu2",
          "Zr2 Ti2 Ta1 Nb2 Mo1 Al2",
          "Cr1 Fe1 Co1 Cu1 Al1",
          "Ti2 Nb2 V2 Mo1 Cr3",
          "Mo1 Cr2 Fe2 Co2 Ni2 Al3",
          "Ti1 Nb1 V1 Mo1 Al1",
          "Mo14.33 B1.33 Si1",
          "Mo1 Cr2 Fe2 Co2 Ni4 Al2",
          "Cr3 Fe2 Co3.6 Ni1 Cu1 Al9.4",
          "Zr3.33 Ti3.33 Nb3.33 V1 Mo1",
          "Re1 Co3.33 B2.33",
          "W1 Fe1.8 B1.2",
          "Cr1.67 Mn1 Fe1.67 Co1.67 Ni1.67 Al1.67",
          "Ti1 Cr5.05 Fe5.05 Co5.05 Ni5.05 Al5.05",
          "Cr1.67 Fe1.67 Co1.67 Ni1.67 Al1.67 Si1",
          "Fe1.33 Co1.33 Ni1.33 Si1",
          "Cr2.5 Fe2.5 Ni5 Cu2.5 Al1",
          "Ta2.67 Nb1 V2.33 W2",
          "Mo1 Cr10 Fe10 Co30 Ni31 Al18",
          "Zr3.33 Ti3.33 Nb3.33 V1 Mo2.33",
          "Ti1.5 Mo1 Cr2 Fe2 Ni2 Al2",
          "Li1 Mg1 Zn1 Al16 Sn1",
          "Mo1 Cr5 Fe5 Co5 Ni5 Al5",
          "Cr1.67 Mn1 Fe1.67 Co1.67 Pd1.67 Ni1.67",
          "Cr4.76 Fe4.76 Co4.76 Ni1 Al4.76",
          "W1 Cr3.8 Mn3.8 Fe3.8 Co3.8 Ni3.8",
          "Ti1 Ta1 Mo1 Cr1 Al1",
          "Mn20 Fe20 Co20 Ni20 Cu20 Sn1",
          "Zr2 Ti2 Nb2 V1 Mo2",
          "Cr1.13 Mn1.13 Fe1.13 Co1.13 Ni1.13 Al1",
          "Zr1 Ti1.94 Ta1.31 Nb2.14 Mo1.22 Al1.99",
          "Ta1.09 Cr1.82 Mn1.82 Fe1.82 Co1.82 Ni1.82 Al1",
          "Cr4.76 Fe4.76 Co1 Ni4.76 Al4.76",
          "Ti1 Ta1 V1 Mo1",
          "Ti1 Cr1.25 Fe1.25 Co1.25 Ni1.25 Al1.5",
          "Cr1 Mn1 Fe1 Ni1",
          "V1 Fe1 Co1 Ni1",
          "Ti1 Cr2 Fe2 Ni2",
          "Cr2.01 Fe2.01 Co3.01 Ni2.01 Cu1 Al2.01",
          "Mo1 Cr2.01 Fe3.01 Co2.01 Ni2.01 Al2.01",
          "Ti1.33 Nb1.33 V1.33 Mo1.33 Al1",
          "Ti10 Ni9 C1",
          "Cr4 Fe1 Ni3.57 Cu4.14 Al1.57",
          "Cr5.05 Fe5.05 Ni10.13 Cu5.05 Al1",
          "Ti1 Cr5 Fe5 Co5 Ni5",
          "Cr1.89 Fe1.89 Co1.89 Ni1",
          "Nb1 Mo29.89 B2.85 Si3.3",
          "Cr2.5 Fe2.5 Co2.5 Ni2.5 Al2.5 Si1",
          "Hf1 Zr2 Ti4 V2",
          "Cr3.34 Mn1 Fe3.34 Co3.34 Ni3.34 Al1",
          "Cr2 Fe2 Co2 Ni2 Cu1.51 Al1",
          "Mo31.33 B1 Si1",
          "Nb1 Cr5 Fe5 Co5 Ni10.5",
          "Cr1.67 Fe1.67 Ni3.33 Cu1.67 Al1",
          "Ti1 Cr1 Fe1 Co1 Ni1 Cu1 Al1",
          "Cr1 Fe1 Co1 Ni1 Al1.5",
          "Ta3 Co28.5 Ni1 B17.5",
          "Ti1 Cr2 Fe2 Co2 Ni2 Al1.8",
          "Cr1.14 Fe1.14 Co1.14 Ni1.14 Al1",
          "W2.69 Fe2 Co1 Ni2",
          "Ti2 Cr4 Fe4 Co4 Ni4 Cu1 Al3",
          "V1 Cr5 Fe5 Co5 Ni5 Cu5 Al2.5",
          "Mo11.4 B1 Si7.4",
          "Hf5 Zr10 Ti10 Nb10 Mo5 Si1",
          "Ti2 Nb2 V2 Mo1 Cr4",
          "Hf3.33 Zr3.33 Ti3.33 Ta3.33 Nb3.33 Al1",
          "Cr2.5 Mn1 Fe2.5 Co2.5 Pd2.5 Ni2.5",
          "Cr1 Mn1 Fe1 Co1 Ni1 Al1.25",
          "Ti5.03 Cr5.03 Fe5.03 Co7.56 Ni7.56 Al1",
          "Cr1 Fe1 Co1 Ni1 Al2.5",
          "Zr5 Ti7.5 Ta4 Nb5 V1 Al2.5",
          "Cr2.86 Fe1.71 Co2.57 Ni1 Al6.14",
          "W1 Fe1.64 B1",
          "Ti2 V2 Cr2 Fe2 Ni2 Cu2 Al1",
          "Ti2 Nb2 V2 Mo1 Cr2",
          "Zr1 Ti1 Nb1 V1 Mo1",
          "Cr3.33 Mn3.33 Fe3.33 Co3.33 Ni3.33 Al1",
          "Zr1 Ti1 Nb1 V2 Mo1",
          "Cr2 Mn2 Fe2 Ni2 Al1",
          "Hf8.08 Zr8.08 Ti8.08 Nb8.08 Al1",
          "Cr3.33 Fe3.33 Co3.33 Ni3.33 Al1",
          "Fe1 Co1.99 Ni1 Cu1 Al1",
          "Ti1.99 V1 Mo1 Cr1 Fe1",
          "Cr1 Fe1 Ni1",
          "W1 Ir7.33 Al1.19",
          "Hf2.8 Zr0.01 Ti0.8 Ta6.6 W18.8 Mo1 Cr16.2 Co18.6 Ni123 Al11.4 B0.03 C0.14",
          "Cr1 Fe2 Co2 Ni1 Cu1 Al6",
          "Cr1 Fe1 Co1 Cu1 Al2.8",
          "Cr2 Fe2 Co2 Ni2 Cu1 Al2",
          "Cr3.2 Fe2 Co3.4 Ni1 Cu1 Al9.4",
          "Cr1 Fe1 Co1 Ni1.5 Al1",
          "Cr18.53 Mn17.98 Fe17.89 Co17.89 Ni18.44 C1",
          "Cr1 Fe1 Ni2.01 Cu1 Al2.5",
          "Zr1 Ti2 Nb2 V2 Al2",
          "Cr1.05 Mn1.05 Fe1.05 Co1.05 Ni1.05 Al1",
          "Ti1.2 Cr2 Fe2 Co2 Ni2 Cu2 Al1",
          "Fe1.33 Co1.33 Ni1.33 Al1",
          "Ti2 V2 Fe2 Co2 Ni2 Cu1",
          "Ta4 Nb4 W4 Mo4 Si1",
          "Cr1 Fe1.94 Ni1.94 Al1",
          "Cr9.8 Mn9.8 Fe9.8 Co9.8 Ni9.8 C1",
          "V1 Cr1.33 Mn1.33 Fe1.33 Co1.33 Ni1.33",
          "Cr3.33 Fe3.33 Co3.33 Cu3.33 Al1",
          "Ti1 Cr5 Fe5 Ni5",
          "Ti1 Nb2 Mo2 Cr2 Co2",
          "Ti4 Nb4 V4 Mo4 Al1",
          "Mo1 Cr3.29 Fe3.29 Co3.29 Ni3.29",
          "V1 Cr4 Mn4 Fe4 Co4 Ni4",
          "Hf1 Ti2 Nb2 Mo1",
          "Cr3.4 Fe2.8 Co3 Ni1.2 Cu1 Al8.6",
          "Cr1 Fe1 Co1 Cu1 Al1.3",
          "V2.39 Cr1.99 Fe1.99 Co1.99 Ni1.99 Cu1.99 Al1",
          "Cr2 Fe2 Co2 Ni2 Cu2 Al1 B1.2",
          "Mo1 Cr1 Fe1 Ni1 Al1",
          "Cr1.67 Fe1.67 Ni4 Al1",
          "Mn3 Ni3 Cu3 Al1",
          "W1 Fe2.1 Ni4.9",
          "Mo1 Cr1.25 Fe1.25 Ni1.25 Al1.25",
          "Re1 Co1.6 B1.4",
          "Ti1 Cr2 Fe2 Co2 Ni2 Cu1 Al1",
          "Cr2.25 Fe2.25 Co2.25 Ni1 Al2.25",
          "Cr1.42 Fe1.42 Co1.42 Ni1 Al1.42",
          "Ti1 Cr12 Fe12 Co12 Ni12 Al2",
          "Ti1 Cr5 Fe5 Co5 Ni5 Al4",
          "Cr1 Fe1 Co1 Ni2.22 Al1",
          "Cr2 Mn2.5 Fe4 Ni1.5 Al1",
          "Cr1.43 Fe1.43 Co1.43 Ni1.43 Al1",
          "Mo1 Cr3.33 Fe3.33 Co3.33 Ni3.33 Al3.33",
          "Ti4 Cr2 Fe2 Co2 Ni2 Cu2 Al1",
          "Zr1.99 Ti2.18 Ta1.39 Nb2.5 Mo1.14 Al1",
          "Hf2 Zr2 Ti2 Ta2 Nb2 Mo1",
          "Cr1.5 Fe2.5 Co2.5 Ni2.5 Al1",
          "Cr1 Fe1 Ni2 Cu1 Al2.5",
          "Cr2.01 Fe3.01 Co2.01 Ni2.01 Cu1 Al2.01",
          "Ti41.7 Ta2.06 Nb14.06 Fe1",
          "Cr1 Fe1 Co1 Cu1 Al2",
          "V1 Mo1 Fe1 Co1 Ni1.6",
          "Zr4.17 Ti4.17 Nb4.17 V4.17 Al1",
          "V1 Cr1 Fe1 Co1 Ni1 Cu1 Al1",
          "Zr0.05 W26.69 Re1 C0.05",
          "Cr4.76 Fe1 Co4.76 Ni4.76 Al4.76",
          "Cr1 Fe2.25 Co2.25 Ni2.25 Cu2.25",
          "Ti1.5 Cr1.25 Fe1.25 Co1.25 Ni1.25 Al1",
          "Cr1.67 Fe1.67 Co1.67 Ni1.67 Al1",
          "Mo7.38 B1 Si4.12",
          "Cr1 Fe1 Ni2 Cu1 Al1.8",
          "Zr1 Ti1 Nb1",
          "Mo1 Cr3.33 Fe3.33 Co10 Ni9.67 Al6",
          "Cr1 Fe1 Co1 Ni1 Cu1 Al1",
          "Zr3.33 Ti3.33 Nb3.33 V3.33 Mo1",
          "Hf1.83 Zr1.83 Ti1.83 Nb1.83 Al1",
          "Cr3.34 Mn2 Fe3.34 Co3.34 Ni3.34 Al1",
          "Ti1 Cr2.5 Fe2.5 Co2.5 Ni2.5 Cu2.5 Al1.25",
          "Ti2.76 Nb1 Al1",
          "Mo1 Cr2 Fe2 Co2 Ni2 Al2",
          "Ti27.19 V1 Al3.22",
          "Hf1 Zr1 Ti1 Nb1 O1.5",
          "Ti19.07 Ta1 Nb6.81 Fe1.46",
          "Ta1.33 Nb1.33 W1.33 Mo1.33 Si1",
          "W4.29 Fe5.43 B3.57 C1",
          "Mo1 Cr10.17 Fe10.17 Co10.17 Ni10.17",
          "Cr4.8 Fe2 Co3.6 Ni1 Al8.6",
          "Ti1 Cr2 Fe2 Co2 Ni2",
          "V1 Cr3.96 Mn3.96 Fe3.96 Co3.96 Ni3.96",
          "Cr1 Fe1 Ni1 Cu1 Al1",
          "Cr2.01 Fe2.01 Co2.01 Ni3.01 Cu1 Al2.01",
          "V1 Cr2.49 Fe2.49 Co2.49 Ni2.49 Cu2.49 Al1.25",
          "Mo40.5 B1 Si8.5",
          "Cr2 Fe2 Co2 Ni2 Al2 C1",
          "Cr1 Fe1 Co1 Ni1 Cu1 Al2.3",
          "W30 Fe1 Ni2.33",
          "Cr1 Fe2 Ni2 Al1",
          "Cr1 Fe1 Ni2 Cu1 Al1.2",
          "Ti8 Nb8 Al1 Si3",
          "Cr4.76 Fe4.76 Co1 Ni4.76 Cu4.76",
          "W1 Fe1.33 B1",
          "Hf5 Zr10 Ti10 Nb10 Mo5 C1",
          "Ti3.98 Cr3.98 Fe3.98 Ni3.98 Cu1",
          "Zr10 Ti10 Nb10 V3 Mo1",
          "Mo1 Cr2 Fe2 Co3 Ni2 Al2",
          "Cr1.33 Fe1.33 Co1 Ni1.33 Al1.33",
          "Cr9.8 Mn9.8 Fe9.8 Co9.8 Ni9.8 Al1",
          "Nb1 Cr2.43 Fe2.43 Co2.43 Ni2.43",
          "Cr4.6 Fe1.4 Co4.4 Ni1 Al8.6",
          "Cr3.6 Fe1 Co5.8 Ni1 Al8.6",
          "Zr3.33 Ti3.33 Nb3.33 V1 Mo5",
          "Ti1.47 Nb3.13 Mo1 Si1.07",
          "Hf1 Zr1 Ti1 Nb1 O2",
          "Cr1 Fe1 Co1 Ni1 Cu1 Al3",
          "Ti4.75 Nb4.75 W4.75 Mo4.75 Cr1",
          "Cr1 Fe1 Ni2 Cu1 Al1",
          "V3.6 Cr2 Fe2 Co2 Ni2 Cu2 Al1",
          "Cr3.14 Fe1.14 Co2.86 Ni1 Al6.14",
          "Y1 Ti1.25 Cr1.25 Co1.25 Ni1.25 Cu1.25 Al1.25",
          "Cr10.17 Fe10.17 Co10.17 Ni10.17 Al1",
          "Hf3.38 Ti3.38 Nb3.38 V1.68 Mo1.68 Si1",
          "Zr1 Mo82 B8 Si9",
          "Zr2.59 Ti2.53 Ta1 Nb2.89",
          "Cr1 Fe1 Co1 Pd1 Ni1",
          "Mo4.64 B1 Si1.5",
          "Cr2.67 Fe2.67 Co2.67 Ni2.67 Al1",
          "Cr3 Fe3 Co3 Al1",
          "Cr4.75 Fe4.75 Co4.75 Ni9.25 Cu1 Al1",
          "Hf18.27 Zr18.27 Ti18.27 Ta4.35 Nb4.35 Mo1",
          "Y1 Ti2 Cr2 Co2 Ni2 Cu2 Al2",
          "Ti1 Mo1 Cr2 Fe2 Ni2 Al2",
          "Ti1 W38 C1",
          "Cr4 Fe2.2 Co2.4 Ni1 Cu1 Al9.4",
          "Mo82 B1 Si16",
          "Mo6.18 B1.91 Si1",
          "W1 Fe1.45 B1.18",
          "Cr2.25 Fe1 Co2.25 Ni2.25 Cu2.25",
          "Mo1 Cr2 Fe4 Co2 Ni2 Al2",
          "Ti1 Cr3.33 Fe3.33 Ni3.33",
          "Cr4 Fe5 Co5 Ni5 Al1",
          "Cr9.8 Fe9.8 Co9.8 Ni9.8 Cu1 Al9.8",
          "Cr2 Fe2 Co2 Cu2 Al1",
          "Cr5 Fe1 Co4.4 Ni1 Al8.6",
          "Mo89 B1 Si10",
          "W1 Cr6.47 Mn6.47 Fe6.47 Co6.47 Ni6.47",
          "Hf3.32 Zr3.32 Ti3.32 Nb3.32 Al1",
          "Ta1.62 Nb1.57 V1 W1.56 Mo1.54 Cr1.47",
          "Mn6.34 Ni6.34 Cu6.34 Al1",
          "Ti20.83 Ta1 Nb6.83",
          "Zr2 Ti2 Ta1 Nb2 Mo1 Al1",
          "V2.4 Cr2 Fe2 Co2 Ni2 Cu2 Al1",
          "Cr1 Mn1 Fe6 Co6 Ni6",
          "Ti1 Ta1 Nb1 W1 Mo1",
          "Hf1.33 Zr1.33 Ti1.33 Ta1.33 Nb1.33 Al1",
          "Nb1 Cr24.6 Mn24.6 Fe24.6 Co24.6 Ni24.6 C1",
          "V2.5 Mo1 Fe2.5 Co2.5 Ni2.5",
          "Cr7 Fe1 Ni5 Cu5 Al2",
          "Cr1 Fe1 Ni1 Al1",
          "W2.14 Fe2 Co1 Ni2",
          "Cr2.49 Fe3.74 Ni1.25 Al1",
          "Cr1 Fe1 Ni1.99 Cu1 Al1",
          "Nb1 Cr2.5 Fe2.5 Co2.5 Ni5.25",
          "Cr1.42 Fe1.42 Ni2.85 Cu1.42 Al1",
          "Cr1.33 Mn1.33 Fe1.33 Co1.33 Ni1.33 Al1",
          "Cr2.04 Mn2.04 Fe2.04 Co2.04 Ni2.04 Al1",
          "Ti3.33 Ni2.33 C1",
          "Cr1.89 Fe1.89 Co1.89 Al1",
          "Cr1.81 Fe1.54 Co1.54 Ni1.81 Al1",
          "Ti1 Cr3.33 Fe3.33 Co3.33 Ni3.33",
          "Cr2.88 Fe1.88 Co1.88 Ni2 Cu1 Al2.88",
          "Cr1 Fe1 Co1 Ni1 Cu1 Al2",
          "W30.51 Fe1 Ni2.3",
          "Cr1.14 Mn1.14 Fe1.14 Co1.14 Ni1.14 Al1",
          "Ti23.3 V1 Al2.76",
          "Cr1 Fe2 Co2 Ni2 Al1",
          "Cr10 Fe10 Co10 Ni10 Al10 C1",
          "Ti1 Ta1.33 Nb1.33 W1.33 Mo1.33",
          "Zr1 Mo40.5 B4 Si4.5",
          "Ta1 Co7.12 B4.38",
          "Cr2.62 Mn2.62 Fe2.62 Co2.62 Ni2.62 Al1",
          "Ti1.34 Cr1.34 Fe1.34 Ni1.34 Cu1",
          "Zr1 Ti1 Nb1 V1.5 Mo1",
          "Mo4 B1 Si1.25",
          "Cr1.47 Mn1.47 Fe1.47 Co1.47 Ni1.47 Al1",
          "Cr1 Co1 Ni1 Al1",
          "V1 Cr1.31 Mn1.31 Fe1.31 Co1.31 Ni1.31",
          "Cr1 Fe1 Ni1 Cu1",
          "Cr1.43 Fe1.43 Ni2.86 Cu1.43 Al1"
         ],
         "legendgroup": "clustered",
         "marker": {
          "color": "#E15F99",
          "symbol": "circle"
         },
         "mode": "markers",
         "name": "clustered",
         "showlegend": true,
         "type": "scattergl",
         "x": [
          13.699746131896973,
          40.18019485473633,
          -63.731353759765625,
          30.987247467041016,
          -10.466943740844727,
          -6.513219356536865,
          36.91276550292969,
          -80.65398406982422,
          30.045347213745117,
          53.53002166748047,
          -24.352088928222656,
          4.895731449127197,
          18.18560028076172,
          -35.22917175292969,
          -2.9602980613708496,
          -0.7063202261924744,
          -55.76832580566406,
          37.11406707763672,
          46.04065704345703,
          -28.390363693237305,
          32.83129119873047,
          -57.937591552734375,
          62.93837356567383,
          35.005096435546875,
          -49.31209945678711,
          32.535308837890625,
          -45.67291259765625,
          5.8615522384643555,
          12.407003402709961,
          -26.880929946899414,
          31.903236389160156,
          -28.16283416748047,
          -74.91107177734375,
          10.811907768249512,
          -2.8570337295532227,
          -82.82658386230469,
          -47.92549133300781,
          -47.53269958496094,
          28.00874137878418,
          -8.648494720458984,
          -53.88550567626953,
          -48.938804626464844,
          -38.8458251953125,
          81.33956146240234,
          7.690859317779541,
          13.890068054199219,
          -32.77231979370117,
          -2.558803081512451,
          -7.227632999420166,
          5.564004421234131,
          -80.41146850585938,
          50.74112319946289,
          46.33803176879883,
          -9.744912147521973,
          -43.296234130859375,
          -0.5050848722457886,
          4.479330062866211,
          12.305943489074707,
          -57.25978088378906,
          46.371559143066406,
          -16.67597198486328,
          -32.535709381103516,
          -8.727391242980957,
          47.965572357177734,
          -35.91059494018555,
          35.95842361450195,
          -80.39456939697266,
          -16.24266815185547,
          -58.85038757324219,
          -19.412817001342773,
          51.41034698486328,
          29.065227508544922,
          -32.997215270996094,
          -70.6781997680664,
          48.41065216064453,
          -58.73896026611328,
          11.275165557861328,
          45.87312698364258,
          9.461212158203125,
          11.764618873596191,
          47.382503509521484,
          -13.010985374450684,
          53.4451789855957,
          -82.86824035644531,
          25.067983627319336,
          -30.326290130615234,
          -30.00908660888672,
          -13.7831449508667,
          -3.4335808753967285,
          -4.14647912979126,
          -2.8812415599823,
          -8.40758228302002,
          54.76993942260742,
          -29.279260635375977,
          -94.7887191772461,
          -1.9583830833435059,
          23.685283660888672,
          -9.17744255065918,
          -27.878448486328125,
          -29.716367721557617,
          -37.3541259765625,
          -6.992440223693848,
          56.532493591308594,
          4.397024631500244,
          -1.1938673257827759,
          -13.011540412902832,
          39.45489501953125,
          -47.852325439453125,
          -48.593650817871094,
          -35.200618743896484,
          -36.15183639526367,
          -3.0674827098846436,
          -48.54467010498047,
          -79.6185302734375,
          80.66389465332031,
          -63.49031066894531,
          11.10722827911377,
          -64.77540588378906,
          35.1191520690918,
          -52.781551361083984,
          34.238529205322266,
          -49.15623092651367,
          -35.77947235107422,
          -1.3398958444595337,
          -12.697256088256836,
          53.52536392211914,
          -6.994917392730713,
          -35.564231872558594,
          -73.95654296875,
          38.76161575317383,
          -33.59772872924805,
          -39.47940444946289,
          -16.540912628173828,
          47.26481628417969,
          -47.40877914428711,
          -7.332780838012695,
          -3.966423511505127,
          -4.4557647705078125,
          27.352108001708984,
          -58.650352478027344,
          -26.58110237121582,
          -19.177682876586914,
          -51.143585205078125,
          43.50644302368164,
          -55.621795654296875,
          -48.50870895385742,
          27.863311767578125,
          22.614151000976562,
          20.428035736083984,
          54.83674621582031,
          -11.335315704345703,
          -61.53981018066406,
          -61.62699508666992,
          -8.674799919128418,
          32.272647857666016,
          -10.715850830078125,
          -6.993449687957764,
          36.6359748840332,
          23.860715866088867,
          -7.425867557525635,
          -78.52131652832031,
          -13.990354537963867,
          23.1359806060791,
          -87.8453140258789,
          81.56907653808594,
          -28.096853256225586,
          -43.83932876586914,
          -70.9517593383789,
          -42.92323684692383,
          -48.611053466796875,
          92.71056365966797,
          -36.728633880615234,
          49.42974090576172,
          -13.510077476501465,
          45.67542266845703,
          -100.2196044921875,
          -36.17932891845703,
          -57.02628707885742,
          37.98074722290039,
          -30.44432830810547,
          20.432218551635742,
          -13.05295467376709,
          -63.385345458984375,
          -79.53330993652344,
          -82.87542724609375,
          -7.985000133514404,
          25.441015243530273,
          33.96411895751953,
          -37.20881652832031,
          -18.981975555419922,
          -47.81981658935547,
          -45.66587829589844,
          -16.00359535217285,
          -6.960211277008057,
          17.44304656982422,
          -63.259246826171875,
          -26.389514923095703,
          58.85971450805664,
          -14.101302146911621,
          17.648273468017578,
          -80.3805160522461,
          -37.40373229980469,
          -6.835577011108398,
          -41.9929313659668,
          41.016075134277344,
          11.154045104980469,
          11.703804969787598,
          -44.857421875,
          16.75409507751465,
          59.13483428955078,
          -57.88174819946289,
          -79.20623016357422,
          -30.43693733215332,
          50.73904037475586,
          -78.02604675292969,
          -51.979591369628906,
          -28.7273006439209,
          -29.83212661743164,
          38.35226821899414,
          -9.099241256713867,
          -16.465639114379883,
          -42.0234489440918,
          -4.971811294555664,
          -27.585174560546875,
          55.19216537475586,
          -51.56544494628906,
          19.895910263061523,
          5.555781841278076,
          -102.62911987304688,
          4.665985107421875,
          14.693345069885254,
          71.04285430908203,
          29.394750595092773,
          -6.598808288574219,
          -86.31653594970703,
          -57.27410125732422,
          -23.8546199798584,
          69.81446838378906,
          -13.885848999023438,
          -39.76884841918945,
          -1.821645975112915,
          -10.514965057373047,
          -48.29182815551758,
          41.211360931396484,
          -16.966232299804688,
          -51.68407440185547,
          -52.940589904785156,
          -94.96935272216797,
          11.867648124694824,
          -28.15549659729004,
          -12.411643028259277,
          -26.924957275390625,
          18.670785903930664,
          -79.97746276855469,
          -102.48761749267578,
          -32.87885284423828,
          5.5242414474487305,
          79.29205322265625,
          -35.54551315307617,
          -12.99264144897461,
          5.892241477966309,
          -15.953699111938477,
          -12.87255573272705,
          -16.242799758911133,
          -4.203193187713623,
          1.150123119354248,
          -79.24874114990234,
          -80.22781372070312,
          -54.48096466064453,
          16.6674747467041,
          3.4910030364990234,
          -27.604127883911133,
          -5.390147686004639,
          82.30612182617188,
          -55.101680755615234,
          81.10012817382812,
          -37.73844528198242,
          -73.38936614990234,
          4.379536151885986,
          10.600046157836914,
          61.70453643798828,
          34.95810317993164,
          -41.81084442138672,
          -31.81692123413086,
          3.573575973510742,
          -1.716454029083252,
          4.633718013763428,
          11.909697532653809,
          7.138321876525879,
          57.058372497558594,
          -25.466825485229492,
          -44.602264404296875,
          70.93412780761719,
          -8.608996391296387,
          93.45415496826172,
          7.809238433837891,
          -34.96327590942383,
          -79.21257781982422,
          94.15494537353516,
          -3.6986958980560303,
          -88.26737976074219,
          -26.455759048461914,
          -83.61761474609375,
          50.24383544921875,
          -23.178272247314453,
          -76.78541564941406,
          -52.6748161315918,
          36.642948150634766,
          18.656288146972656,
          -19.187545776367188,
          -31.66356658935547,
          -100.65035247802734,
          -48.186126708984375,
          32.98293685913086,
          -21.677490234375,
          -23.45896339416504,
          27.338579177856445,
          -55.01203918457031,
          -13.565247535705566,
          -46.65599060058594,
          3.4716362953186035,
          -4.822269439697266,
          -42.90296936035156,
          0.8811072707176208,
          -80.64561462402344,
          -51.010101318359375,
          -53.28840255737305,
          -52.764404296875,
          -11.572619438171387,
          -41.251365661621094,
          -15.340235710144043,
          -16.280118942260742,
          52.336029052734375,
          -14.963271141052246,
          34.49171447753906,
          -51.807579040527344,
          -40.81076431274414,
          -16.749622344970703,
          -44.71092224121094,
          -48.402626037597656,
          32.44232940673828,
          -60.7095832824707,
          72.77840423583984,
          -27.40888214111328,
          37.76966094970703,
          -12.573318481445312,
          -2.5545291900634766,
          11.662160873413086,
          -34.97549819946289,
          37.34214782714844,
          -10.921563148498535,
          -45.6890983581543,
          19.266128540039062,
          -25.559438705444336,
          -56.00664138793945,
          -29.71475601196289,
          72.8299331665039,
          47.620365142822266,
          -16.723201751708984,
          -9.055998802185059,
          -31.150257110595703,
          70.06005859375,
          55.64197540283203,
          20.117338180541992,
          11.654410362243652,
          -43.95399856567383,
          -28.79391098022461,
          -24.449535369873047,
          27.76409339904785,
          -3.541351318359375,
          81.4993667602539,
          29.350753784179688,
          -60.137184143066406,
          20.05394172668457,
          -13.486929893493652,
          -55.43873977661133,
          80.51862335205078,
          -21.674314498901367,
          46.232566833496094,
          62.75383377075195,
          -58.527835845947266,
          -53.721839904785156,
          -13.463923454284668,
          25.407835006713867,
          -3.069810628890991,
          -13.791950225830078,
          5.3552422523498535,
          24.577356338500977,
          2.126063108444214,
          -43.961280822753906,
          54.22035598754883,
          2.4377596378326416,
          1.8768303394317627,
          -69.32923889160156,
          -60.08003616333008,
          13.804034233093262,
          -7.051942348480225,
          11.031721115112305,
          58.23236083984375,
          77.80723571777344,
          -18.863162994384766,
          -60.6004638671875,
          -3.6093897819519043,
          -27.162946701049805,
          14.23996353149414,
          -100.34485626220703,
          -38.172061920166016,
          -2.9290664196014404,
          -68.7995376586914,
          -29.434947967529297,
          3.490279197692871,
          -100.50544738769531,
          -16.25450325012207,
          -28.494522094726562,
          39.83349609375,
          -26.075258255004883,
          -40.87944412231445,
          -1.6151092052459717,
          -13.770515441894531,
          39.34107971191406,
          -14.050886154174805,
          -55.49816131591797,
          -70.6982421875,
          93.46833038330078,
          -31.49185562133789,
          -54.31735610961914,
          -4.202977657318115,
          54.06640625,
          -4.824417591094971,
          -13.079513549804688,
          13.939637184143066,
          3.4389121532440186,
          4.6894636154174805,
          -61.864383697509766,
          -80.68900299072266,
          -80.8050537109375,
          -16.222394943237305,
          -35.1920051574707,
          23.125633239746094,
          17.240036010742188,
          -7.766376972198486,
          -79.81449127197266,
          81.80487060546875,
          34.69374465942383,
          -13.367003440856934,
          39.27824783325195,
          37.447181701660156,
          -4.97891092300415,
          -16.02579689025879,
          -82.6132583618164,
          45.770633697509766,
          -3.099202871322632,
          11.508620262145996,
          -11.691729545593262,
          -50.81527328491211,
          -7.0444207191467285,
          -48.84817886352539,
          -53.75588607788086,
          33.24769973754883,
          45.892791748046875,
          -38.90462875366211,
          17.163583755493164,
          -13.270198822021484,
          -19.663990020751953,
          36.56901168823242,
          17.24684715270996,
          61.37850570678711,
          -13.32119369506836,
          50.72058868408203,
          52.993568420410156,
          -45.84687042236328,
          6.098316192626953,
          57.38745880126953,
          18.5572452545166,
          -14.87710952758789,
          39.054176330566406,
          -87.7581558227539,
          43.006717681884766,
          -9.221586227416992,
          -40.400508880615234,
          -40.55416488647461,
          11.691705703735352,
          -41.05317687988281,
          35.19953536987305,
          -94.34523010253906,
          46.19921112060547,
          -94.32074737548828,
          -8.680768966674805,
          -40.213287353515625,
          -63.09452438354492,
          45.48805236816406,
          -46.55545425415039,
          -30.24633026123047,
          77.89539337158203,
          -16.666616439819336,
          2.1518394947052,
          -88.2695541381836,
          -10.867549896240234,
          -44.363929748535156,
          37.00686264038086,
          -55.4258918762207,
          1.386346697807312,
          -13.558477401733398,
          -65.41654968261719,
          81.26884460449219,
          -13.453619956970215,
          -43.11370849609375,
          11.676342964172363,
          -28.67359733581543,
          -43.76762008666992,
          19.113956451416016,
          -53.342281341552734,
          7.118669509887695,
          -11.894046783447266,
          -4.8104729652404785,
          82.72942352294922,
          -54.14427185058594,
          -13.353788375854492,
          94.03075408935547,
          -1.8189291954040527,
          -54.78912353515625,
          -7.804214954376221,
          -7.819052696228027,
          -58.703956604003906,
          -46.57319641113281,
          -52.70777130126953,
          -79.21046447753906,
          6.025152206420898,
          -10.311203956604004,
          19.03675651550293,
          34.71726989746094,
          11.80162239074707,
          25.381689071655273,
          40.311397552490234,
          -12.640183448791504,
          -30.650859832763672,
          40.51120376586914,
          -43.705047607421875,
          -41.36861801147461,
          -20.047948837280273,
          -63.77992630004883,
          7.4825215339660645,
          -88.26362609863281,
          -35.45527267456055,
          -46.63046646118164,
          -44.76200485229492,
          -27.585189819335938,
          -11.474971771240234,
          -60.17279052734375,
          55.32670974731445,
          46.018211364746094,
          -47.42009353637695,
          16.185117721557617,
          -27.8646240234375,
          -7.392257213592529,
          10.609014511108398,
          -1.716843605041504,
          30.16730499267578,
          -102.73126983642578,
          -58.03894805908203,
          -60.415283203125,
          5.822082042694092,
          -29.30657386779785,
          0.876899003982544,
          38.70249938964844,
          37.67401123046875,
          20.3787841796875,
          -12.789040565490723,
          -4.824936866760254,
          -3.3964684009552,
          -37.31067657470703,
          37.36943054199219,
          43.8057861328125,
          -63.777137756347656,
          40.23025131225586,
          -25.053634643554688,
          -1.3775871992111206,
          39.606082916259766,
          -13.139582633972168,
          -55.69929504394531,
          -15.346426963806152,
          -94.82556915283203,
          -45.66275405883789,
          61.28899002075195,
          -32.29701232910156,
          7.2615532875061035,
          -7.219982147216797,
          -44.261680603027344,
          28.017608642578125,
          -32.922611236572266,
          -86.38153076171875,
          73.06673431396484,
          -55.56882858276367,
          17.131057739257812,
          43.24846649169922,
          29.426536560058594,
          -62.993770599365234,
          -53.51372528076172,
          -16.36730194091797,
          38.566104888916016,
          57.61978530883789,
          -31.15934944152832,
          -48.477333068847656,
          -14.321853637695312,
          -38.9195556640625,
          -73.6224136352539,
          3.2542221546173096,
          -54.52473831176758,
          17.161333084106445,
          19.320310592651367,
          32.9199104309082,
          -8.996935844421387,
          36.17176818847656,
          32.4475212097168,
          -13.307510375976562,
          -24.644412994384766,
          -37.20562744140625,
          -25.55016326904297,
          -58.98506546020508,
          -2.9890193939208984,
          36.553768157958984,
          -4.64389181137085,
          28.82675552368164,
          -29.360876083374023,
          28.633607864379883,
          -4.202730655670166,
          36.54449462890625,
          22.378618240356445,
          -1.9335519075393677,
          -14.021455764770508,
          38.15357208251953,
          5.441880702972412,
          -5.077546119689941,
          -63.7098503112793,
          -12.87177848815918,
          2.721013069152832,
          -26.863853454589844,
          -78.99271392822266,
          48.22235107421875,
          -1.2189704179763794,
          51.8961296081543,
          -39.506072998046875,
          7.113144874572754,
          -7.077131748199463,
          -36.00438690185547,
          -13.699106216430664,
          -42.62570571899414,
          30.043392181396484,
          -94.1313247680664,
          53.617774963378906,
          -62.37743377685547,
          27.48421287536621,
          -60.866722106933594,
          -45.7603645324707,
          36.891258239746094,
          -15.521989822387695,
          -83.63436889648438,
          11.22862434387207,
          -0.9780387878417969,
          -16.742868423461914,
          -18.979656219482422,
          36.67920684814453,
          13.593660354614258,
          -100.159423828125,
          -79.23424530029297,
          -18.108633041381836,
          -29.74846649169922,
          24.14716339111328,
          1.9298830032348633,
          45.6207160949707,
          -49.28557205200195,
          -37.85013961791992,
          19.002368927001953,
          -13.739251136779785,
          -78.01258087158203,
          -0.2983247935771942,
          -2.267437696456909,
          3.8944332599639893,
          -12.313572883605957,
          -8.979228973388672,
          -20.42385482788086,
          -11.28937816619873,
          -40.80992889404297,
          19.120058059692383,
          80.63951110839844,
          28.371313095092773,
          59.747135162353516,
          -35.738643646240234,
          -63.493526458740234,
          -16.756750106811523,
          -6.749363422393799,
          38.81714630126953,
          -13.72280502319336,
          -5.181108474731445,
          11.105883598327637,
          29.59014129638672,
          54.961021423339844,
          -54.3572998046875,
          52.7041015625,
          -80.89517211914062,
          69.91598510742188,
          -36.14696502685547,
          -42.11456298828125,
          19.66345977783203,
          -2.378164291381836,
          9.459803581237793,
          -10.770601272583008,
          -16.03971290588379,
          -24.529376983642578,
          -28.141843795776367,
          -13.891626358032227,
          -14.376124382019043,
          -46.31165313720703,
          -68.30945587158203,
          33.474021911621094,
          -62.797210693359375,
          -3.2317607402801514,
          -26.510055541992188,
          11.212132453918457,
          38.17416763305664,
          -50.64303207397461,
          -47.095703125,
          -55.565895080566406,
          -31.598594665527344,
          -2.0954747200012207,
          14.924606323242188,
          35.675289154052734,
          -36.73109817504883,
          -53.47111129760742,
          82.83663940429688,
          -12.031959533691406,
          -28.36063003540039,
          -45.70649337768555,
          -40.36753845214844,
          -40.947547912597656,
          -54.06939697265625,
          -86.01141357421875,
          -6.736604690551758,
          -41.01034164428711,
          5.733948230743408,
          -7.496398448944092,
          -13.974509239196777,
          -14.090717315673828,
          -35.553009033203125,
          -12.742267608642578,
          -12.21253490447998,
          -80.43778991699219,
          -11.921846389770508,
          -7.2055792808532715,
          5.352023601531982,
          30.26518440246582,
          62.348758697509766,
          -30.077783584594727,
          -68.29964447021484,
          -23.495119094848633,
          23.69455909729004,
          -26.35354995727539,
          11.432357788085938,
          50.336387634277344,
          -43.783721923828125,
          45.10013961791992,
          5.501733303070068,
          -57.8942756652832,
          -16.199142456054688,
          -12.93908405303955,
          19.085174560546875,
          -70.01136016845703,
          36.85234832763672,
          -1.0145500898361206,
          -32.65299606323242,
          51.48499298095703,
          71.26277923583984,
          -50.80857467651367,
          -4.4639787673950195,
          22.610929489135742,
          -7.509622573852539,
          16.37287139892578,
          69.56353759765625,
          23.87003517150879,
          37.02862548828125,
          -8.244288444519043,
          -33.96542739868164,
          -15.252717018127441,
          -16.907649993896484,
          -53.47690963745117,
          -59.45325469970703,
          -14.92364501953125,
          -42.002323150634766,
          28.23038673400879,
          -2.852825403213501,
          -28.166263580322266,
          47.845054626464844,
          -50.6439323425293,
          -73.38445281982422,
          71.13724517822266,
          -58.60689926147461,
          -6.785282135009766,
          80.0138931274414,
          1.3711397647857666,
          37.850582122802734,
          -13.013614654541016,
          -6.360685348510742,
          -51.814937591552734,
          -39.1713981628418,
          -13.69449520111084,
          -11.948284149169922,
          55.08763122558594,
          72.7037353515625,
          69.55953216552734,
          -27.357194900512695,
          54.36113739013672,
          -74.32929992675781,
          -48.1658935546875,
          -13.978082656860352,
          4.8216962814331055,
          -31.809890747070312,
          92.68778991699219,
          23.350027084350586,
          36.95178985595703,
          -35.26142501831055,
          19.673913955688477,
          -36.72389221191406,
          -14.230193138122559,
          -13.652107238769531,
          49.40873718261719,
          5.176786422729492,
          -39.98366165161133,
          45.50748062133789,
          -8.414053916931152,
          27.778541564941406,
          20.135940551757812,
          -6.39714241027832,
          -52.287742614746094,
          -19.793109893798828,
          -1.812995433807373,
          -30.80067253112793,
          -6.908815860748291,
          -31.104169845581055,
          -14.16933536529541,
          20.85232162475586,
          -43.08308029174805,
          70.42779541015625,
          33.11074447631836,
          -86.11226654052734,
          23.65324592590332,
          30.136455535888672,
          -45.70780944824219,
          -29.8590030670166,
          39.9475212097168,
          58.51508712768555,
          -46.41197967529297,
          11.375895500183105,
          -100.48877716064453,
          -47.047325134277344,
          -20.674571990966797,
          -7.0025529861450195,
          -74.2009506225586,
          -13.700624465942383,
          -77.5088882446289,
          -60.79792404174805,
          -56.867218017578125,
          13.836400032043457,
          -14.037230491638184,
          -13.874582290649414,
          -17.86455726623535,
          -25.58390235900879,
          -28.843385696411133,
          47.80908966064453,
          -62.30900573730469,
          16.892833709716797,
          -29.687686920166016,
          -4.989985942840576,
          39.822898864746094,
          23.510377883911133,
          3.9274144172668457,
          -55.12242889404297,
          2.2701213359832764,
          53.607093811035156,
          19.718711853027344,
          -59.822547912597656,
          5.832650184631348,
          -55.48834228515625,
          -58.83246612548828,
          -77.47871398925781
         ],
         "xaxis": "x",
         "y": [
          -11.203032493591309,
          47.42202377319336,
          18.549890518188477,
          -4.867208003997803,
          -18.569124221801758,
          86.02476501464844,
          -31.26862335205078,
          22.838964462280273,
          11.442072868347168,
          1.0067352056503296,
          -50.04478454589844,
          -31.058874130249023,
          -68.98867797851562,
          15.027722358703613,
          -28.728179931640625,
          20.95476722717285,
          -7.8618388175964355,
          -31.97907829284668,
          16.74781036376953,
          7.3366265296936035,
          -13.523431777954102,
          30.486608505249023,
          -26.28443145751953,
          -24.128646850585938,
          24.903961181640625,
          -77.91126251220703,
          -54.57617950439453,
          -100.50892639160156,
          4.380924701690674,
          -47.80375671386719,
          -4.5115132331848145,
          48.08698272705078,
          -21.826017379760742,
          43.110286712646484,
          -2.9145002365112305,
          37.07413864135742,
          49.62052536010742,
          45.02942657470703,
          -2.960724115371704,
          -14.037711143493652,
          -6.966306209564209,
          43.610836029052734,
          -6.390905857086182,
          1.5753376483917236,
          -58.66743469238281,
          -22.130834579467773,
          30.697834014892578,
          -25.148971557617188,
          -45.357547760009766,
          -100.45760345458984,
          22.976648330688477,
          -53.59556198120117,
          17.86294174194336,
          -58.102264404296875,
          47.13473892211914,
          4.191123962402344,
          69.74595642089844,
          4.192835330963135,
          -10.11658000946045,
          63.501216888427734,
          5.14906120300293,
          31.269060134887695,
          -56.380592346191406,
          -56.307254791259766,
          26.750072479248047,
          -1.8656935691833496,
          44.58796691894531,
          24.66045379638672,
          -26.97056007385254,
          72.9090576171875,
          0.18711361289024353,
          -36.088661193847656,
          -27.51473045349121,
          -29.868206024169922,
          27.181795120239258,
          -24.3450984954834,
          36.94605255126953,
          63.803958892822266,
          20.219865798950195,
          41.6098747253418,
          -55.82809066772461,
          -24.732189178466797,
          2.0813021659851074,
          41.33202362060547,
          -23.001628875732422,
          -16.992820739746094,
          -45.101932525634766,
          32.31767272949219,
          -39.79787826538086,
          -33.78609085083008,
          -2.9265594482421875,
          90.49397277832031,
          1.2761695384979248,
          10.25693130493164,
          7.173529148101807,
          -38.282958984375,
          70.3899154663086,
          -58.220375061035156,
          -33.913063049316406,
          -17.851600646972656,
          15.726526260375977,
          -21.666276931762695,
          -5.592336654663086,
          -30.49090003967285,
          43.9642333984375,
          -75.71138000488281,
          33.963157653808594,
          -57.79324722290039,
          5.890018939971924,
          18.27962875366211,
          67.19123840332031,
          22.49160385131836,
          10.617128372192383,
          37.676265716552734,
          -1.7708572149276733,
          0.31472519040107727,
          42.7344970703125,
          1.1042990684509277,
          25.957042694091797,
          36.754173278808594,
          -78.25119018554688,
          43.39495849609375,
          26.8203125,
          44.43320846557617,
          -55.0483512878418,
          1.2702831029891968,
          60.746620178222656,
          17.07161521911621,
          -22.4924373626709,
          -43.54103088378906,
          27.839183807373047,
          -7.042652606964111,
          19.120502471923828,
          62.95625686645508,
          3.9556829929351807,
          60.89286422729492,
          8.610588073730469,
          3.980699300765991,
          81.29093933105469,
          29.321569442749023,
          -31.15814208984375,
          20.494251251220703,
          -10.63608169555664,
          -35.41521072387695,
          -7.7773051261901855,
          44.03369140625,
          81.1240463256836,
          -50.78500747680664,
          -46.439361572265625,
          9.166481971740723,
          48.72242736816406,
          24.721940994262695,
          24.573442459106445,
          -14.863668441772461,
          -13.391164779663086,
          55.305294036865234,
          21.611976623535156,
          -0.20053145289421082,
          -53.244293212890625,
          -45.78428268432617,
          -16.481353759765625,
          -24.53486442565918,
          72.03681182861328,
          2.4333863258361816,
          2.3323512077331543,
          -20.088459014892578,
          -27.140758514404297,
          -29.526546478271484,
          47.559547424316406,
          5.899320602416992,
          -14.724865913391113,
          14.180678367614746,
          -56.66713333129883,
          3.1996092796325684,
          -16.505474090576172,
          -24.216655731201172,
          15.612517356872559,
          31.723880767822266,
          42.857810974121094,
          13.00143051147461,
          -46.44429397583008,
          -10.416471481323242,
          -0.7480012774467468,
          37.94527816772461,
          41.32151794433594,
          -18.331192016601562,
          -35.55669021606445,
          -78.42408752441406,
          -5.347471237182617,
          -16.451597213745117,
          48.305667877197266,
          -58.852230072021484,
          9.741140365600586,
          -18.159067153930664,
          -76.06159973144531,
          -0.09466416388750076,
          -48.30915832519531,
          -30.056123733520508,
          2.7443037033081055,
          -69.4082260131836,
          44.81084060668945,
          31.263765335083008,
          61.31589126586914,
          -3.4110705852508545,
          38.08241653442383,
          31.460094451904297,
          -1.8466295003890991,
          -24.048938751220703,
          -70.12871551513672,
          -30.629383087158203,
          30.571218490600586,
          35.348697662353516,
          48.03709411621094,
          -53.59645462036133,
          -17.51263427734375,
          -5.110648155212402,
          48.469383239746094,
          6.463510990142822,
          43.1366081237793,
          -14.314215660095215,
          8.761198043823242,
          40.68901443481445,
          -66.77024841308594,
          -34.515464782714844,
          -5.394244194030762,
          -10.466867446899414,
          -2.123049736022949,
          64.17394256591797,
          -24.9676456451416,
          1.1101670265197754,
          -21.56877899169922,
          21.4700870513916,
          29.253164291381836,
          6.409516334533691,
          1.256790041923523,
          -5.623770713806152,
          -25.661619186401367,
          -37.200992584228516,
          -50.44590377807617,
          -65.94039154052734,
          4.3247389793396,
          -57.75029373168945,
          50.32654571533203,
          38.16853713989258,
          4.381466388702393,
          -4.802706718444824,
          -44.690589904785156,
          6.772274017333984,
          40.82775115966797,
          8.266201972961426,
          46.01359176635742,
          -20.198219299316406,
          -68.60098266601562,
          36.790443420410156,
          -24.645523071289062,
          -27.937183380126953,
          -31.77484130859375,
          -1.1506586074829102,
          17.116788864135742,
          -0.5851151943206787,
          63.02062225341797,
          7.295063495635986,
          -75.92841339111328,
          -59.98987579345703,
          -16.349830627441406,
          18.725557327270508,
          -14.806086540222168,
          23.05954360961914,
          46.712406158447266,
          -75.9278564453125,
          -19.27436637878418,
          7.587063789367676,
          87.75059509277344,
          -4.689412593841553,
          33.61329650878906,
          0.8146589398384094,
          31.449987411499023,
          -24.755064010620117,
          69.32765197753906,
          7.147164344787598,
          -28.583654403686523,
          -24.1140079498291,
          -22.428621292114258,
          23.760332107543945,
          69.5873031616211,
          -38.00611877441406,
          1.1365668773651123,
          12.068909645080566,
          -59.042938232421875,
          -5.173364162445068,
          8.240178108215332,
          -53.46083450317383,
          -39.008819580078125,
          90.99378967285156,
          -15.309893608093262,
          -59.03407287597656,
          27.224477767944336,
          -14.256532669067383,
          -15.609447479248047,
          -40.116886138916016,
          37.175418853759766,
          -30.76826286315918,
          22.670150756835938,
          -10.621097564697266,
          -16.30430030822754,
          -19.410863876342773,
          -44.97796630859375,
          -25.320552825927734,
          56.29368209838867,
          20.497264862060547,
          23.091888427734375,
          -26.252044677734375,
          5.195969104766846,
          25.602296829223633,
          -15.289525032043457,
          -25.516584396362305,
          -36.480079650878906,
          62.320068359375,
          -33.57991027832031,
          -57.474609375,
          1.919955849647522,
          -63.989383697509766,
          39.923397064208984,
          3.5602805614471436,
          44.835166931152344,
          -10.715957641601562,
          -9.119399070739746,
          36.77891540527344,
          -10.577728271484375,
          -63.533607482910156,
          6.635987758636475,
          -60.0412483215332,
          -9.575551986694336,
          -71.2427978515625,
          -78.12594604492188,
          38.15789031982422,
          -4.595700263977051,
          19.04692840576172,
          0.08975093066692352,
          -57.85359191894531,
          -13.42457103729248,
          26.065858840942383,
          17.698091506958008,
          7.159783363342285,
          -22.296199798583984,
          45.66645812988281,
          -25.14796257019043,
          39.6413688659668,
          27.220821380615234,
          35.441463470458984,
          -11.41889476776123,
          46.97026062011719,
          -68.12055206298828,
          -27.177108764648438,
          63.5892448425293,
          27.607648849487305,
          18.779659271240234,
          -56.097957611083984,
          66.87332916259766,
          -56.71237564086914,
          -29.687593460083008,
          -38.12529373168945,
          9.713432312011719,
          60.765830993652344,
          12.26525592803955,
          -0.9846956133842468,
          9.286465644836426,
          -6.971729755401611,
          80.8658676147461,
          -15.821088790893555,
          2.1058032512664795,
          29.472270965576172,
          -23.338701248168945,
          79.14708709716797,
          34.938228607177734,
          62.983245849609375,
          -1.3504267930984497,
          -15.395453453063965,
          17.917409896850586,
          -26.64449691772461,
          -24.63214683532715,
          46.86700439453125,
          -73.37925720214844,
          -35.47559356689453,
          22.489322662353516,
          -70.39103698730469,
          0.6817085146903992,
          -22.762372970581055,
          2.8018946647644043,
          -0.9896162152290344,
          -6.996426105499268,
          17.055665969848633,
          17.79555320739746,
          -31.154476165771484,
          27.055179595947266,
          -21.88888168334961,
          87.27816772460938,
          31.015750885009766,
          -31.49234962463379,
          22.396732330322266,
          20.526992797851562,
          33.810997009277344,
          8.687499046325684,
          48.37001419067383,
          -21.760761260986328,
          -26.174972534179688,
          31.699195861816406,
          -2.949721574783325,
          -31.590761184692383,
          48.7530632019043,
          1.9084593057632446,
          -24.01117706298828,
          -59.9959716796875,
          -19.65018653869629,
          -35.2631721496582,
          -21.19129753112793,
          -23.53095817565918,
          -14.00706672668457,
          -34.265869140625,
          34.43227005004883,
          -50.361412048339844,
          -31.317848205566406,
          -29.843873977661133,
          -15.23548698425293,
          27.60777473449707,
          -43.108924865722656,
          -33.046165466308594,
          8.72297191619873,
          -63.640098571777344,
          44.99724578857422,
          -11.605613708496094,
          69.20149993896484,
          -6.0026326179504395,
          -1.3610717058181763,
          35.49073791503906,
          44.56687545776367,
          6.432774543762207,
          18.315013885498047,
          72.00724792480469,
          -69.73265075683594,
          60.84206771850586,
          34.924774169921875,
          -3.912325859069824,
          25.687440872192383,
          -69.38398742675781,
          -35.081443786621094,
          18.488794326782227,
          -66.8637924194336,
          24.317445755004883,
          36.82099914550781,
          -15.923262596130371,
          -15.43405818939209,
          38.657867431640625,
          47.640132904052734,
          26.385019302368164,
          6.289177417755127,
          -57.87081527709961,
          -43.758827209472656,
          -77.80683135986328,
          -15.319976806640625,
          -6.129432201385498,
          -76.0245361328125,
          -7.781976222991943,
          72.989013671875,
          1.4210232496261597,
          78.45380401611328,
          -29.57712745666504,
          -75.59127807617188,
          -53.61727523803711,
          -8.96647834777832,
          -53.51984405517578,
          62.323665618896484,
          -4.736185550689697,
          78.07714080810547,
          38.65155029296875,
          35.55662536621094,
          2.3784139156341553,
          -34.421993255615234,
          -56.246578216552734,
          -9.046754837036133,
          -64.61222076416016,
          -1.5928452014923096,
          -24.071584701538086,
          -2.8901870250701904,
          6.422581195831299,
          17.33670997619629,
          7.251674175262451,
          91.17754364013672,
          -65.20122528076172,
          -0.3667556047439575,
          64.30760192871094,
          2.579549551010132,
          6.005049228668213,
          22.255090713500977,
          66.82302856445312,
          2.78471040725708,
          37.174034118652344,
          48.401493072509766,
          46.41954803466797,
          13.604652404785156,
          -31.346044540405273,
          -19.0495662689209,
          -68.79296875,
          1.4436144828796387,
          -3.0051701068878174,
          34.94160461425781,
          -2.1272506713867188,
          -1.231014370918274,
          -19.332550048828125,
          -27.00420379638672,
          77.38829803466797,
          -44.22518539428711,
          -55.71894836425781,
          -9.88122272491455,
          -63.31318664550781,
          -5.318996429443359,
          46.78612518310547,
          43.70064163208008,
          -15.785233497619629,
          4.321102619171143,
          -42.58588409423828,
          87.1628646850586,
          -56.36790466308594,
          29.223478317260742,
          2.6059377193450928,
          -5.843413352966309,
          35.357120513916016,
          62.57661819458008,
          -18.558998107910156,
          -68.29623413085938,
          25.603679656982422,
          40.21830749511719,
          -23.091384887695312,
          47.903350830078125,
          3.83681058883667,
          -30.423110961914062,
          48.70355987548828,
          46.93751525878906,
          -24.35348892211914,
          73.10668182373047,
          0.6889848709106445,
          -59.2803955078125,
          37.178428649902344,
          68.07844543457031,
          47.62385177612305,
          -53.58241271972656,
          -20.8354434967041,
          -10.691890716552734,
          33.50634765625,
          9.491592407226562,
          -14.943062782287598,
          3.9736547470092773,
          -70.63140869140625,
          -46.7287712097168,
          -24.866968154907227,
          7.505459785461426,
          -14.10278606414795,
          -5.204341411590576,
          -24.968921661376953,
          -11.015409469604492,
          -23.077747344970703,
          -100.42697143554688,
          -32.04959487915039,
          3.558950185775757,
          -43.318084716796875,
          18.306997299194336,
          79.33340454101562,
          44.92689514160156,
          -64.3211441040039,
          -39.634727478027344,
          26.146007537841797,
          -32.86802673339844,
          -36.115543365478516,
          -0.9209161996841431,
          47.601104736328125,
          -49.47542190551758,
          21.691560745239258,
          33.30793762207031,
          -73.4447250366211,
          33.00469970703125,
          5.597005844116211,
          6.2202887535095215,
          -58.85528564453125,
          -29.48263168334961,
          27.91883659362793,
          -58.67361831665039,
          -45.34839630126953,
          -24.32037925720215,
          -2.9819812774658203,
          32.03455352783203,
          1.1237138509750366,
          19.302978515625,
          -31.302640914916992,
          78.50411224365234,
          -34.81144714355469,
          29.057559967041016,
          22.233673095703125,
          59.90216064453125,
          -24.019319534301758,
          -43.550601959228516,
          -4.423600673675537,
          14.658539772033691,
          10.91526985168457,
          -36.046348571777344,
          32.141326904296875,
          -22.77088165283203,
          -19.249380111694336,
          -7.547224998474121,
          78.65853881835938,
          56.672096252441406,
          -77.8768081665039,
          -18.434690475463867,
          -1.3768903017044067,
          -4.281274795532227,
          44.69505310058594,
          -6.6820573806762695,
          -5.346254825592041,
          -49.05948257446289,
          -27.124902725219727,
          -28.71271514892578,
          1.7075845003128052,
          8.380300521850586,
          -35.939422607421875,
          -45.37260818481445,
          -5.848907947540283,
          -33.04895782470703,
          0.7320188283920288,
          72.86827087402344,
          -24.945728302001953,
          -55.967472076416016,
          -21.408018112182617,
          64.55528259277344,
          86.84701538085938,
          18.668256759643555,
          -1.1044830083847046,
          -19.193233489990234,
          48.403324127197266,
          -15.513056755065918,
          26.827741622924805,
          44.26495361328125,
          0.4047219157218933,
          -66.30477905273438,
          -55.70241165161133,
          -22.71550941467285,
          67.3912124633789,
          -32.926025390625,
          40.123741149902344,
          11.444523811340332,
          6.800013065338135,
          0.1493147909641266,
          23.30552101135254,
          -36.50975799560547,
          33.99517822265625,
          -54.728553771972656,
          13.826468467712402,
          5.769306182861328,
          22.67046356201172,
          36.54206848144531,
          21.249357223510742,
          -23.93733787536621,
          -16.452709197998047,
          -0.20260263979434967,
          -11.025840759277344,
          -24.223480224609375,
          -14.24752426147461,
          26.260147094726562,
          27.69979476928711,
          71.6587142944336,
          -19.109100341796875,
          -16.830429077148438,
          24.881834030151367,
          -7.3414506912231445,
          78.44892120361328,
          32.0657958984375,
          -17.519428253173828,
          5.6177778244018555,
          -38.612327575683594,
          68.90081024169922,
          4.040163040161133,
          -14.467728614807129,
          73.22050476074219,
          4.571761608123779,
          -4.597568511962891,
          56.229652404785156,
          -0.8255394697189331,
          -5.944873809814453,
          -30.23343849182129,
          67.7171630859375,
          21.598970413208008,
          19.045068740844727,
          -44.697181701660156,
          -34.84605407714844,
          -68.36310577392578,
          87.32380676269531,
          12.748066902160645,
          -5.494405269622803,
          -6.279409885406494,
          34.53086853027344,
          -6.744688510894775,
          22.708799362182617,
          -37.666751861572266,
          15.692225456237793,
          -21.74178123474121,
          -2.0783066749572754,
          23.550872802734375,
          20.22245979309082,
          55.28785705566406,
          -50.73060989379883,
          -49.90201187133789,
          -21.64481544494629,
          -55.89801025390625,
          43.78284454345703,
          47.31466293334961,
          -31.9769287109375,
          -13.683834075927734,
          22.555116653442383,
          4.1989922523498535,
          7.702373027801514,
          32.31772232055664,
          35.4923095703125,
          -50.724952697753906,
          48.117332458496094,
          63.061424255371094,
          -44.37890625,
          22.74436378479004,
          -21.46166229248047,
          -2.451045513153076,
          26.404071807861328,
          59.832611083984375,
          -5.473500728607178,
          -56.08391571044922,
          -46.148780822753906,
          1.3557987213134766,
          -8.972176551818848,
          -62.533424377441406,
          -43.45281982421875,
          1.6893956661224365,
          60.966548919677734,
          -62.75929641723633,
          63.57350540161133,
          6.129145622253418,
          -31.880157470703125,
          -31.285709381103516,
          20.26874542236328,
          -1.6827632188796997,
          46.4365119934082,
          35.96889114379883,
          -9.776450157165527,
          -23.86911392211914,
          0.6848747730255127,
          -36.398406982421875,
          -27.397972106933594,
          12.089897155761719,
          -31.98023796081543,
          -16.50409507751465,
          -53.402809143066406,
          -48.33965301513672,
          42.25897979736328,
          -10.822683334350586,
          0.4566209614276886,
          63.876434326171875,
          -31.74968719482422,
          -5.016794204711914,
          9.115437507629395,
          -8.345831871032715,
          56.852691650390625,
          -30.528078079223633,
          -25.248525619506836,
          43.9047737121582,
          -27.799583435058594,
          -10.185247421264648,
          -39.3014030456543,
          26.396331787109375,
          3.9797253608703613,
          -50.78489303588867,
          -25.45953369140625,
          -70.45899963378906,
          -44.4169807434082,
          -53.080711364746094,
          35.413639068603516,
          90.1004867553711,
          27.702823638916016,
          -71.14290618896484,
          25.822519302368164,
          59.84135055541992,
          -23.83795738220215,
          38.66654968261719,
          -3.4009158611297607,
          81.59270477294922,
          -15.20314884185791,
          -33.37718963623047,
          62.58544921875,
          -50.72339630126953,
          -24.76514434814453,
          21.38837432861328,
          -11.656539916992188,
          86.7979965209961,
          -1.2622488737106323,
          18.446578979492188,
          -22.096546173095703,
          -24.731853485107422,
          -18.92243194580078,
          38.14667510986328,
          32.28483200073242,
          -73.80028533935547,
          -76.78085327148438,
          1.2816135883331299,
          18.094308853149414,
          -44.63426208496094,
          -34.88059997558594,
          8.737865447998047,
          -22.6893367767334,
          5.157985210418701,
          -70.78466033935547,
          -5.9250569343566895,
          23.775604248046875,
          -14.71288013458252,
          71.53181457519531,
          -31.4765625,
          68.30924987792969,
          59.22539520263672,
          14.195592880249023,
          -35.749324798583984,
          33.194244384765625,
          -56.38844299316406,
          -5.706151962280273,
          -65.5963363647461,
          64.55313110351562,
          -56.051025390625,
          81.71326446533203,
          60.827392578125,
          86.14155578613281,
          -9.913714408874512,
          -16.105379104614258,
          22.240835189819336,
          13.949651718139648,
          -17.62782096862793,
          -44.60599899291992,
          -74.99832153320312,
          79.59591674804688,
          39.81120681762695,
          -38.529014587402344,
          25.469316482543945,
          1.574676752090454,
          -53.525230407714844,
          -36.356712341308594,
          1.352057933807373,
          48.23944091796875,
          31.90835189819336,
          -31.16682243347168,
          46.495914459228516,
          37.73457717895508,
          -26.220293045043945,
          -57.611297607421875,
          73.29840087890625,
          21.60845375061035,
          -22.826801300048828,
          31.813194274902344,
          -18.693361282348633,
          25.915206909179688,
          31.897029876708984,
          -11.429214477539062,
          -35.135231018066406,
          -9.68550968170166,
          26.18160629272461,
          -27.17046546936035,
          -32.5601921081543,
          62.619083404541016,
          23.424272537231445,
          -75.97645568847656,
          11.172539710998535,
          -16.93459701538086,
          32.39330291748047,
          71.04788970947266,
          69.78620910644531,
          33.59287643432617,
          17.282333374023438,
          -7.00214147567749,
          59.38603973388672,
          27.459606170654297,
          -32.12617111206055,
          63.3596076965332,
          -11.839144706726074,
          -18.556081771850586
         ],
         "yaxis": "y"
        }
       ],
       "layout": {
        "legend": {
         "title": {
          "text": "Classification"
         },
         "tracegroupgap": 0
        },
        "margin": {
         "t": 60
        },
        "template": {
         "data": {
          "bar": [
           {
            "error_x": {
             "color": "#2a3f5f"
            },
            "error_y": {
             "color": "#2a3f5f"
            },
            "marker": {
             "line": {
              "color": "white",
              "width": 0.5
             },
             "pattern": {
              "fillmode": "overlay",
              "size": 10,
              "solidity": 0.2
             }
            },
            "type": "bar"
           }
          ],
          "barpolar": [
           {
            "marker": {
             "line": {
              "color": "white",
              "width": 0.5
             },
             "pattern": {
              "fillmode": "overlay",
              "size": 10,
              "solidity": 0.2
             }
            },
            "type": "barpolar"
           }
          ],
          "carpet": [
           {
            "aaxis": {
             "endlinecolor": "#2a3f5f",
             "gridcolor": "#C8D4E3",
             "linecolor": "#C8D4E3",
             "minorgridcolor": "#C8D4E3",
             "startlinecolor": "#2a3f5f"
            },
            "baxis": {
             "endlinecolor": "#2a3f5f",
             "gridcolor": "#C8D4E3",
             "linecolor": "#C8D4E3",
             "minorgridcolor": "#C8D4E3",
             "startlinecolor": "#2a3f5f"
            },
            "type": "carpet"
           }
          ],
          "choropleth": [
           {
            "colorbar": {
             "outlinewidth": 0,
             "ticks": ""
            },
            "type": "choropleth"
           }
          ],
          "contour": [
           {
            "colorbar": {
             "outlinewidth": 0,
             "ticks": ""
            },
            "colorscale": [
             [
              0,
              "#0d0887"
             ],
             [
              0.1111111111111111,
              "#46039f"
             ],
             [
              0.2222222222222222,
              "#7201a8"
             ],
             [
              0.3333333333333333,
              "#9c179e"
             ],
             [
              0.4444444444444444,
              "#bd3786"
             ],
             [
              0.5555555555555556,
              "#d8576b"
             ],
             [
              0.6666666666666666,
              "#ed7953"
             ],
             [
              0.7777777777777778,
              "#fb9f3a"
             ],
             [
              0.8888888888888888,
              "#fdca26"
             ],
             [
              1,
              "#f0f921"
             ]
            ],
            "type": "contour"
           }
          ],
          "contourcarpet": [
           {
            "colorbar": {
             "outlinewidth": 0,
             "ticks": ""
            },
            "type": "contourcarpet"
           }
          ],
          "heatmap": [
           {
            "colorbar": {
             "outlinewidth": 0,
             "ticks": ""
            },
            "colorscale": [
             [
              0,
              "#0d0887"
             ],
             [
              0.1111111111111111,
              "#46039f"
             ],
             [
              0.2222222222222222,
              "#7201a8"
             ],
             [
              0.3333333333333333,
              "#9c179e"
             ],
             [
              0.4444444444444444,
              "#bd3786"
             ],
             [
              0.5555555555555556,
              "#d8576b"
             ],
             [
              0.6666666666666666,
              "#ed7953"
             ],
             [
              0.7777777777777778,
              "#fb9f3a"
             ],
             [
              0.8888888888888888,
              "#fdca26"
             ],
             [
              1,
              "#f0f921"
             ]
            ],
            "type": "heatmap"
           }
          ],
          "heatmapgl": [
           {
            "colorbar": {
             "outlinewidth": 0,
             "ticks": ""
            },
            "colorscale": [
             [
              0,
              "#0d0887"
             ],
             [
              0.1111111111111111,
              "#46039f"
             ],
             [
              0.2222222222222222,
              "#7201a8"
             ],
             [
              0.3333333333333333,
              "#9c179e"
             ],
             [
              0.4444444444444444,
              "#bd3786"
             ],
             [
              0.5555555555555556,
              "#d8576b"
             ],
             [
              0.6666666666666666,
              "#ed7953"
             ],
             [
              0.7777777777777778,
              "#fb9f3a"
             ],
             [
              0.8888888888888888,
              "#fdca26"
             ],
             [
              1,
              "#f0f921"
             ]
            ],
            "type": "heatmapgl"
           }
          ],
          "histogram": [
           {
            "marker": {
             "pattern": {
              "fillmode": "overlay",
              "size": 10,
              "solidity": 0.2
             }
            },
            "type": "histogram"
           }
          ],
          "histogram2d": [
           {
            "colorbar": {
             "outlinewidth": 0,
             "ticks": ""
            },
            "colorscale": [
             [
              0,
              "#0d0887"
             ],
             [
              0.1111111111111111,
              "#46039f"
             ],
             [
              0.2222222222222222,
              "#7201a8"
             ],
             [
              0.3333333333333333,
              "#9c179e"
             ],
             [
              0.4444444444444444,
              "#bd3786"
             ],
             [
              0.5555555555555556,
              "#d8576b"
             ],
             [
              0.6666666666666666,
              "#ed7953"
             ],
             [
              0.7777777777777778,
              "#fb9f3a"
             ],
             [
              0.8888888888888888,
              "#fdca26"
             ],
             [
              1,
              "#f0f921"
             ]
            ],
            "type": "histogram2d"
           }
          ],
          "histogram2dcontour": [
           {
            "colorbar": {
             "outlinewidth": 0,
             "ticks": ""
            },
            "colorscale": [
             [
              0,
              "#0d0887"
             ],
             [
              0.1111111111111111,
              "#46039f"
             ],
             [
              0.2222222222222222,
              "#7201a8"
             ],
             [
              0.3333333333333333,
              "#9c179e"
             ],
             [
              0.4444444444444444,
              "#bd3786"
             ],
             [
              0.5555555555555556,
              "#d8576b"
             ],
             [
              0.6666666666666666,
              "#ed7953"
             ],
             [
              0.7777777777777778,
              "#fb9f3a"
             ],
             [
              0.8888888888888888,
              "#fdca26"
             ],
             [
              1,
              "#f0f921"
             ]
            ],
            "type": "histogram2dcontour"
           }
          ],
          "mesh3d": [
           {
            "colorbar": {
             "outlinewidth": 0,
             "ticks": ""
            },
            "type": "mesh3d"
           }
          ],
          "parcoords": [
           {
            "line": {
             "colorbar": {
              "outlinewidth": 0,
              "ticks": ""
             }
            },
            "type": "parcoords"
           }
          ],
          "pie": [
           {
            "automargin": true,
            "type": "pie"
           }
          ],
          "scatter": [
           {
            "fillpattern": {
             "fillmode": "overlay",
             "size": 10,
             "solidity": 0.2
            },
            "type": "scatter"
           }
          ],
          "scatter3d": [
           {
            "line": {
             "colorbar": {
              "outlinewidth": 0,
              "ticks": ""
             }
            },
            "marker": {
             "colorbar": {
              "outlinewidth": 0,
              "ticks": ""
             }
            },
            "type": "scatter3d"
           }
          ],
          "scattercarpet": [
           {
            "marker": {
             "colorbar": {
              "outlinewidth": 0,
              "ticks": ""
             }
            },
            "type": "scattercarpet"
           }
          ],
          "scattergeo": [
           {
            "marker": {
             "colorbar": {
              "outlinewidth": 0,
              "ticks": ""
             }
            },
            "type": "scattergeo"
           }
          ],
          "scattergl": [
           {
            "marker": {
             "colorbar": {
              "outlinewidth": 0,
              "ticks": ""
             }
            },
            "type": "scattergl"
           }
          ],
          "scattermapbox": [
           {
            "marker": {
             "colorbar": {
              "outlinewidth": 0,
              "ticks": ""
             }
            },
            "type": "scattermapbox"
           }
          ],
          "scatterpolar": [
           {
            "marker": {
             "colorbar": {
              "outlinewidth": 0,
              "ticks": ""
             }
            },
            "type": "scatterpolar"
           }
          ],
          "scatterpolargl": [
           {
            "marker": {
             "colorbar": {
              "outlinewidth": 0,
              "ticks": ""
             }
            },
            "type": "scatterpolargl"
           }
          ],
          "scatterternary": [
           {
            "marker": {
             "colorbar": {
              "outlinewidth": 0,
              "ticks": ""
             }
            },
            "type": "scatterternary"
           }
          ],
          "surface": [
           {
            "colorbar": {
             "outlinewidth": 0,
             "ticks": ""
            },
            "colorscale": [
             [
              0,
              "#0d0887"
             ],
             [
              0.1111111111111111,
              "#46039f"
             ],
             [
              0.2222222222222222,
              "#7201a8"
             ],
             [
              0.3333333333333333,
              "#9c179e"
             ],
             [
              0.4444444444444444,
              "#bd3786"
             ],
             [
              0.5555555555555556,
              "#d8576b"
             ],
             [
              0.6666666666666666,
              "#ed7953"
             ],
             [
              0.7777777777777778,
              "#fb9f3a"
             ],
             [
              0.8888888888888888,
              "#fdca26"
             ],
             [
              1,
              "#f0f921"
             ]
            ],
            "type": "surface"
           }
          ],
          "table": [
           {
            "cells": {
             "fill": {
              "color": "#EBF0F8"
             },
             "line": {
              "color": "white"
             }
            },
            "header": {
             "fill": {
              "color": "#C8D4E3"
             },
             "line": {
              "color": "white"
             }
            },
            "type": "table"
           }
          ]
         },
         "layout": {
          "annotationdefaults": {
           "arrowcolor": "#2a3f5f",
           "arrowhead": 0,
           "arrowwidth": 1
          },
          "autotypenumbers": "strict",
          "coloraxis": {
           "colorbar": {
            "outlinewidth": 0,
            "ticks": ""
           }
          },
          "colorscale": {
           "diverging": [
            [
             0,
             "#8e0152"
            ],
            [
             0.1,
             "#c51b7d"
            ],
            [
             0.2,
             "#de77ae"
            ],
            [
             0.3,
             "#f1b6da"
            ],
            [
             0.4,
             "#fde0ef"
            ],
            [
             0.5,
             "#f7f7f7"
            ],
            [
             0.6,
             "#e6f5d0"
            ],
            [
             0.7,
             "#b8e186"
            ],
            [
             0.8,
             "#7fbc41"
            ],
            [
             0.9,
             "#4d9221"
            ],
            [
             1,
             "#276419"
            ]
           ],
           "sequential": [
            [
             0,
             "#0d0887"
            ],
            [
             0.1111111111111111,
             "#46039f"
            ],
            [
             0.2222222222222222,
             "#7201a8"
            ],
            [
             0.3333333333333333,
             "#9c179e"
            ],
            [
             0.4444444444444444,
             "#bd3786"
            ],
            [
             0.5555555555555556,
             "#d8576b"
            ],
            [
             0.6666666666666666,
             "#ed7953"
            ],
            [
             0.7777777777777778,
             "#fb9f3a"
            ],
            [
             0.8888888888888888,
             "#fdca26"
            ],
            [
             1,
             "#f0f921"
            ]
           ],
           "sequentialminus": [
            [
             0,
             "#0d0887"
            ],
            [
             0.1111111111111111,
             "#46039f"
            ],
            [
             0.2222222222222222,
             "#7201a8"
            ],
            [
             0.3333333333333333,
             "#9c179e"
            ],
            [
             0.4444444444444444,
             "#bd3786"
            ],
            [
             0.5555555555555556,
             "#d8576b"
            ],
            [
             0.6666666666666666,
             "#ed7953"
            ],
            [
             0.7777777777777778,
             "#fb9f3a"
            ],
            [
             0.8888888888888888,
             "#fdca26"
            ],
            [
             1,
             "#f0f921"
            ]
           ]
          },
          "colorway": [
           "#636efa",
           "#EF553B",
           "#00cc96",
           "#ab63fa",
           "#FFA15A",
           "#19d3f3",
           "#FF6692",
           "#B6E880",
           "#FF97FF",
           "#FECB52"
          ],
          "font": {
           "color": "#2a3f5f"
          },
          "geo": {
           "bgcolor": "white",
           "lakecolor": "white",
           "landcolor": "white",
           "showlakes": true,
           "showland": true,
           "subunitcolor": "#C8D4E3"
          },
          "hoverlabel": {
           "align": "left"
          },
          "hovermode": "closest",
          "mapbox": {
           "style": "light"
          },
          "paper_bgcolor": "white",
          "plot_bgcolor": "white",
          "polar": {
           "angularaxis": {
            "gridcolor": "#EBF0F8",
            "linecolor": "#EBF0F8",
            "ticks": ""
           },
           "bgcolor": "white",
           "radialaxis": {
            "gridcolor": "#EBF0F8",
            "linecolor": "#EBF0F8",
            "ticks": ""
           }
          },
          "scene": {
           "xaxis": {
            "backgroundcolor": "white",
            "gridcolor": "#DFE8F3",
            "gridwidth": 2,
            "linecolor": "#EBF0F8",
            "showbackground": true,
            "ticks": "",
            "zerolinecolor": "#EBF0F8"
           },
           "yaxis": {
            "backgroundcolor": "white",
            "gridcolor": "#DFE8F3",
            "gridwidth": 2,
            "linecolor": "#EBF0F8",
            "showbackground": true,
            "ticks": "",
            "zerolinecolor": "#EBF0F8"
           },
           "zaxis": {
            "backgroundcolor": "white",
            "gridcolor": "#DFE8F3",
            "gridwidth": 2,
            "linecolor": "#EBF0F8",
            "showbackground": true,
            "ticks": "",
            "zerolinecolor": "#EBF0F8"
           }
          },
          "shapedefaults": {
           "line": {
            "color": "#2a3f5f"
           }
          },
          "ternary": {
           "aaxis": {
            "gridcolor": "#DFE8F3",
            "linecolor": "#A2B1C6",
            "ticks": ""
           },
           "baxis": {
            "gridcolor": "#DFE8F3",
            "linecolor": "#A2B1C6",
            "ticks": ""
           },
           "bgcolor": "white",
           "caxis": {
            "gridcolor": "#DFE8F3",
            "linecolor": "#A2B1C6",
            "ticks": ""
           }
          },
          "title": {
           "x": 0.05
          },
          "xaxis": {
           "automargin": true,
           "gridcolor": "#EBF0F8",
           "linecolor": "#EBF0F8",
           "ticks": "",
           "title": {
            "standoff": 15
           },
           "zerolinecolor": "#EBF0F8",
           "zerolinewidth": 2
          },
          "yaxis": {
           "automargin": true,
           "gridcolor": "#EBF0F8",
           "linecolor": "#EBF0F8",
           "ticks": "",
           "title": {
            "standoff": 15
           },
           "zerolinecolor": "#EBF0F8",
           "zerolinewidth": 2
          }
         }
        },
        "xaxis": {
         "anchor": "y",
         "domain": [
          0,
          1
         ],
         "title": {
          "text": "37D->2D TSNE1"
         }
        },
        "yaxis": {
         "anchor": "x",
         "domain": [
          0,
          1
         ],
         "title": {
          "text": "37D->2D TSNE2"
         }
        }
       }
      }
     },
     "metadata": {},
     "output_type": "display_data"
    }
   ],
   "source": [
    "allD.showOutliersDBSCAN()"
   ]
  },
  {
   "cell_type": "code",
   "execution_count": 29,
   "metadata": {
    "ExecuteTime": {
     "end_time": "2023-03-28T14:51:10.676010Z",
     "start_time": "2023-03-28T14:51:10.304172Z"
    },
    "collapsed": false
   },
   "outputs": [
    {
     "name": "stdout",
     "output_type": "stream",
     "text": [
      "Running DBSCAN with eps=1.0...\n",
      "Found 1 clusters and 0 outliers.\n",
      "Outlier ratio: 0.0%\n",
      "Running DBSCAN with eps=0.975...\n",
      "Found 1 clusters and 0 outliers.\n",
      "Outlier ratio: 0.0%\n",
      "Running DBSCAN with eps=0.95...\n",
      "Found 1 clusters and 0 outliers.\n",
      "Outlier ratio: 0.0%\n",
      "Running DBSCAN with eps=0.925...\n",
      "Found 1 clusters and 0 outliers.\n",
      "Outlier ratio: 0.0%\n",
      "Running DBSCAN with eps=0.9...\n",
      "Found 1 clusters and 0 outliers.\n",
      "Outlier ratio: 0.0%\n",
      "Running DBSCAN with eps=0.875...\n",
      "Found 1 clusters and 0 outliers.\n",
      "Outlier ratio: 0.0%\n",
      "Running DBSCAN with eps=0.85...\n",
      "Found 1 clusters and 0 outliers.\n",
      "Outlier ratio: 0.0%\n",
      "Running DBSCAN with eps=0.825...\n",
      "Found 1 clusters and 0 outliers.\n",
      "Outlier ratio: 0.0%\n",
      "Running DBSCAN with eps=0.8...\n",
      "Found 1 clusters and 0 outliers.\n",
      "Outlier ratio: 0.0%\n",
      "Running DBSCAN with eps=0.775...\n",
      "Found 1 clusters and 0 outliers.\n",
      "Outlier ratio: 0.0%\n",
      "Running DBSCAN with eps=0.75...\n",
      "Found 1 clusters and 0 outliers.\n",
      "Outlier ratio: 0.0%\n",
      "Running DBSCAN with eps=0.725...\n",
      "Found 1 clusters and 0 outliers.\n",
      "Outlier ratio: 0.0%\n",
      "Running DBSCAN with eps=0.7...\n",
      "Found 1 clusters and 0 outliers.\n",
      "Outlier ratio: 0.0%\n",
      "Running DBSCAN with eps=0.675...\n",
      "Found 1 clusters and 0 outliers.\n",
      "Outlier ratio: 0.0%\n",
      "Running DBSCAN with eps=0.65...\n",
      "Found 1 clusters and 0 outliers.\n",
      "Outlier ratio: 0.0%\n",
      "Running DBSCAN with eps=0.625...\n",
      "Found 2 clusters and 0 outliers.\n",
      "Outlier ratio: 0.0%\n",
      "Running DBSCAN with eps=0.6...\n",
      "Found 2 clusters and 0 outliers.\n",
      "Outlier ratio: 0.0%\n",
      "Running DBSCAN with eps=0.575...\n",
      "Found 3 clusters and 1 outliers.\n",
      "Outlier ratio: 0.1%\n",
      "Running DBSCAN with eps=0.55...\n",
      "Found 3 clusters and 1 outliers.\n",
      "Outlier ratio: 0.1%\n",
      "Running DBSCAN with eps=0.525...\n",
      "Found 3 clusters and 1 outliers.\n",
      "Outlier ratio: 0.1%\n",
      "Running DBSCAN with eps=0.5...\n",
      "Found 4 clusters and 1 outliers.\n",
      "Outlier ratio: 0.1%\n",
      "Running DBSCAN with eps=0.475...\n",
      "Found 4 clusters and 1 outliers.\n",
      "Outlier ratio: 0.1%\n",
      "Running DBSCAN with eps=0.45...\n",
      "Found 4 clusters and 1 outliers.\n",
      "Outlier ratio: 0.1%\n",
      "Running DBSCAN with eps=0.425...\n",
      "Found 6 clusters and 2 outliers.\n",
      "Outlier ratio: 0.2%\n",
      "Running DBSCAN with eps=0.4...\n",
      "Found 8 clusters and 6 outliers.\n",
      "Outlier ratio: 0.5%\n",
      "Running DBSCAN with eps=0.375...\n",
      "Found 10 clusters and 7 outliers.\n",
      "Outlier ratio: 0.5%\n",
      "Running DBSCAN with eps=0.35...\n",
      "Found 12 clusters and 10 outliers.\n",
      "Outlier ratio: 0.8%\n",
      "Running DBSCAN with eps=0.325...\n",
      "Found 13 clusters and 13 outliers.\n",
      "Outlier ratio: 1.0%\n",
      "Running DBSCAN with eps=0.3...\n",
      "Found 14 clusters and 17 outliers.\n",
      "Outlier ratio: 1.3%\n"
     ]
    },
    {
     "data": {
      "text/plain": [
       "(array([0, 1, 0, ..., 0, 0, 0]), 17)"
      ]
     },
     "execution_count": 29,
     "metadata": {},
     "output_type": "execute_result"
    }
   ],
   "source": [
    "allD.getDBSCANautoEpsilon(outlierTargetN=17)"
   ]
  },
  {
   "cell_type": "code",
   "execution_count": 30,
   "metadata": {
    "ExecuteTime": {
     "end_time": "2023-03-28T14:51:11.771880Z",
     "start_time": "2023-03-28T14:51:11.737773Z"
    },
    "collapsed": false
   },
   "outputs": [
    {
     "data": {
      "application/vnd.plotly.v1+json": {
       "config": {
        "plotlyServerURL": "https://plot.ly"
       },
       "data": [
        {
         "hovertemplate": "<b>%{hovertext}</b><br><br>Classification=clustered<br>37D->2D TSNE1=%{x}<br>37D->2D TSNE2=%{y}<extra></extra>",
         "hovertext": [
          "Hf1 Ta1 Nb1",
          "Ti5 Ni4 C1",
          "Ta1.2 Nb2 W2 Mo2 Re1 C1.2",
          "Cr3.32 Mn1 Fe3.32 Co3.32 Ni3.32 Al3.32",
          "Ti2 Nb2 V2 Mo1 Cr1",
          "Zr1 Ti1 Ta1 Nb1 V1",
          "Cr1 Mn1 Fe1 Ni1 Cu1 Al1.5",
          "Nb1 Cr1.33 Fe1.33 Co1.33 Ni1.33 Al1.33",
          "Ti1 Mo1 Cr1 Al1",
          "W1 Fe1.4 B1.2",
          "Zr3.33 Ti3.33 Ta1 Nb3.33",
          "Cr1.67 Mn1.67 Fe1.67 Ni1.67 Al1",
          "Ti20 Ta20 Mo20 Cr20 Al20 Si1",
          "Ti1.5 V1 Fe1 Co1 Ni1 Cu1",
          "Zr3.33 Ti3.33 Nb3.33 V1 Mo3.33",
          "Cr1 Fe1 Co1 Cu1 Al3",
          "Cr2.25 Fe1 Co2.25 Ni2.25 Al2.25",
          "Ti27.54 V1 Al3.26",
          "Ti1 Nb1 W1 Ru1",
          "Ti1 Cr10 Fe10 Co10 Ni10 Al3",
          "Mo1 Cr2 Fe1 Co2 Ni2 Al2",
          "Ti1 Cr1.67 Fe1.67 Ni1.67",
          "Zr1 Ti1 Nb1 Cr1",
          "Cr2.25 Fe2.25 Co2.25 Ni1 Cu2.25",
          "Zr2 Ti2 Ta1 Nb2",
          "Ti2 Ta2 Nb2 V2 Al1",
          "Cr1 Fe4.76 Co4.76 Ni4.76 Al4.76",
          "Zr1 Ti4 Nb4 V4 Al4",
          "Cr1.78 Mn1.78 Fe1.78 Co1.78 Ni1.78 Al1",
          "Zr1 Ti1 V1 Fe1 Co1 Ni1 Al1",
          "Hf1 Zr1 Ti1 Ta1 Nb1 Mo1",
          "Zr3.33 Ti3.33 Nb3.33 Re1",
          "Hf1 Ti1 Nb1",
          "Hf1 Zr1 Ti1 Nb3",
          "Cr3.3 Mn1 Fe3.3 Co3.3 Ni3.3 Al1.65",
          "Cr1 Fe1 Co1 Ni1 Ga1",
          "Ti1 Fe2 Co2 Ni2 Al1",
          "Nd1 Fe1 Co1 Ni1 Cu1 Al1",
          "Hf7.5 Ti33 Nb1 Si16",
          "Cr4 Fe4 Co1 Ni4 Al4",
          "Li2.6 Ca0.03 Mg3 Al1 Si0.03",
          "Ti1 Fe1 Ni1 Cu1 Al1",
          "Cr1 Fe1 Co1 Cu1 Al1.8",
          "Cr1 Fe1 Co2 Ni2 Al1",
          "Ti4 Nb4 V4 Mo2 Cr1",
          "Fe4 Co4 Ni4 Si1",
          "Cr1.1 Fe1.1 Ni2.22 Cu1.1 Al1",
          "Ta2.5 Nb2.5 V1 W4 Mo2.5",
          "Ti1 Ta1 Nb1 V1 W1 Mo1",
          "V1 Mo1 Fe1 Co1 Ni2",
          "Cr1 Fe2 Co1 Ni1",
          "Ti1 Cr1 Fe1 Co1 Cu1 Al1",
          "Ti1 Cr3.33 Fe3.33 Co1.67 Ni5",
          "W4.54 Cr1 Ni3.38 B2.42",
          "Cr2.4 Mn5.6 Fe7 Ni4 Al1",
          "Cr3.8 Mn3.8 Fe3.8 Co3.8 Ni3.8 C1",
          "Mo1 Cr4.8 Mn4.8 Fe4.8 Co4.8 Ni4.8",
          "Ti3.33 Nb3.33 V3.33 Mo3.33 Cr3.33 Al1.67 Si1",
          "Cr1.17 Fe1.11 Co1.11 Ni1.17 Al1",
          "V1 Cr4.8 Fe4.8 Co4.8 Ni4.8 Cu4.8",
          "Mo1 Cr1.47 Mn1.47 Fe1.47 Co1.47 Ni1.47",
          "Cr2 Fe2 Co2 Ni2 Cu2 Al1",
          "Hf1 Ti4 Ta2.5 V4.5",
          "Hf2 Ti13 Nb25.5 Cr1 Al1 Si7.5",
          "Zr1 Ti1 Ta1 Nb1 V1 W1 Mo1 Cr1",
          "Zr1 Ti1 V1 Mo1 Cr1 Fe1 Co1 Ni1",
          "Hf1 Zr2 Ti2 Nb2 Mo1 Si1",
          "Mg1 Zr1 Cu1 Zn1 Al13 Si3",
          "Nb1 Mo1 Cr1 Co1",
          "W1 Cr5 Fe5 Co5 Ni5",
          "Mo1 Cr2.01 Fe2.01 Co2.01 Ni3.01 Al2.01",
          "Ti1 Ta88.5 W10 C1.5",
          "Cr1 Fe1 Co1 Ni1 Al3",
          "Zr1 Ti1 Ta1",
          "Li38 Ca1 Mg48 Al15 Si1",
          "Zr1 Ti1 V1 Fe1 Ni1 Cu1",
          "Cr1.43 Mn1.43 Fe1.43 Ni1.43 Al1",
          "Hf12.25 Zr12.25 Ti12.25 Ta6.12 Nb6.12 O1",
          "Ti1 Ta1 Nb1 V1",
          "Cr4.4 Fe1.8 Co2.8 Ni1.2 Cu1 Al8.8",
          "Cr1 Mn1 Fe1 Co1 Ni1.1",
          "Cr1.8 Mn2.2 Fe5 Ni1",
          "Ti2 Cr2 Fe2 Co2 Ni2 Cu2 Al1",
          "Ti1 Nb1 V1 Cr1 Ni1 Al5",
          "Ta1 Co5.5 B3.5",
          "Ti1 V1 Mo1 Cr1 Fe1",
          "Ti1.5 Fe1 Ni1.33 Cu1.33 Al1.5",
          "Ti1 Cr2 Fe2 Co1 Ni2",
          "Cr1.42 Fe1.42 Co1 Ni1.42 Cu1.42",
          "W63.76 Fe1 Ni2.34",
          "Ti1 Cr1 Fe1 Co1 Ni1 Al1.5",
          "W1 Cr4.5 Fe4.5 Co4.5 Ni4.5 C1",
          "Cr4 Fe2 Co2.6 Ni1 Cu1 Al9.4",
          "Hf2.5 Zr2.5 Ti2.5 Ta1",
          "Mo1 Cr4.8 Fe4.8 Co4.8 Ni4.8",
          "Ti2.44 Nb2.51 V2.47 Mo2.57 Al1",
          "Cr1 Mn3 Fe4.97 Co1 B0.03",
          "Zr1 Ti1 V1 Cr1 Fe1 Co1 Ni1 Cu1",
          "Ti2 Cr4 Fe4 Co4 Ni4 Al1",
          "Zr1 Ti1 V1 Fe1 Co1 Ni1 Cu1",
          "Cr1 Fe1 Ni1 Cu1 Al1.5",
          "W5 Fe2 Co1 Ni2",
          "Zr3.33 Ti3.33 Nb3.33 V1 Mo1.67",
          "Zr1.95 Ti2.07 Ta1.05 Nb2.09 Mo1 Al1.74",
          "Ta2.33 Co1 Ni2.22",
          "Zr8 Ti6 Ta1 Nb3 Al2",
          "Cr1.25 Fe1.25 Co1.25 Ni1.25 Cu1.25 Al1",
          "Cr1 Fe1 Ni2 Cu1 Al1.6",
          "Hf1.5 Zr1 Ti1 Nb1 Mo1",
          "Ta4 Nb1 V3.5 W3.5",
          "Cr1.25 Fe1.25 Ni1 Cu1.25 Al1.25",
          "Ti1 W1 Re1",
          "Ti1 Ni1 Cu1 Al1",
          "V5 Mo1 Fe5 Co5 Ni5",
          "W112.94 Fe1 Ni2.34",
          "W1 Ir8 Al1",
          "V1 Mo1 Fe1 Co1 Ni1.4",
          "Hf1.67 Zr1.67 Ti1.67 Ta1",
          "Mo1 Cr2.01 Fe2.01 Co3.01 Ni2.01 Al2.01",
          "Zr1 Ti1 Nb1 Mo1",
          "Cr1 Mn5.8 Fe6.73 Ni1.88 Al1.25",
          "Zr1 Ti2.7 Nb1.5 Cr2 Al2.8",
          "Hf1 Ti1 Ta1 Al1",
          "Cr3.33 Fe3.33 Co3.33 Ni3.33 Cu1 Al1",
          "Zr1 Ti1 Nb1 Cr3",
          "Cr1.25 Fe1.25 Co1.25 Cu1.25 Al1",
          "Cr2 Fe2 Ni2 Cu1 Al2",
          "W1.2 Cr1 Ni3.38 B2.42",
          "Hf1 Zr1 Ti1 Ta1 Nb1 V1 N1",
          "Cr1 Fe1 Co1 Ni2",
          "Cr1 Fe1 Co1 Ni1 Al1.8",
          "Mo1 Cr2 Fe2 Co2 Ni2 Al4",
          "Ti1.34 Cr1.34 Fe1.34 Co1.34 Cu1 Al1.34",
          "W3 Fe3.8 B2.2 C1",
          "Zr3.33 Ti3.33 Nb3.33 V1 Mo4.33",
          "Cr1 Fe2.5 Co2.5 Ni2.5 Al1.5",
          "Ta1 Nb1 V1 W1",
          "Mn33.33 Fe33.33 Co33.33 Ni33.33 Cu33.33 Sn1",
          "Cr1 Fe1 Co1 Ni1 Al1.4",
          "Zr1 Mo19.75 B2 Si2.25",
          "Ti1 Ta1 Nb1 Al1",
          "Cr4.6 Fe1.4 Co2.8 Ni1 Cu1 Al9.2",
          "Ti21 Nb1 Si16",
          "Cr1 Fe1 Co1 Ni1 Cu1 Al2.5",
          "Cr2 Fe1 Co2 Ni2 Cu1 Al2",
          "Cr2 Fe2 Co2 Ni2 Cu1 Al1",
          "V1 W3 Mo1 Ru1",
          "Ti1 Fe1 Co1 Ni1 Al1",
          "Hf1 Ti5 Ta5 V1",
          "Hf1.5 Zr2.5 Ti3 Ta1 Nb2",
          "Zr10 Ti8 Ni29.5 Sn1.5 Si1",
          "Ti1 Nb1 W3 Ru1",
          "Mo1 Cr10 Fe10 Co10 Ni10 Al3",
          "Mo1 Cr33 Ni33 Al33",
          "Cr1 Fe2.99 Co1 Ni1",
          "Mo1 Cr10 Fe10 Co10 Ni10 Al10",
          "Cr4 Mn4 Fe4 Ni4 Cu2 Al1",
          "Zr1 Ti1 Nb1 V1 Mo1.3",
          "Cr1.42 Fe1 Co1.42 Ni1.42 Al1.42",
          "Cr1 Fe1 Co1.99 Ni1 Cu1",
          "Mo1 Cr5 Fe5 Co15 Ni15 Al9",
          "Zr1 Ti4 Nb1.5 Cr2 Al1.5",
          "Cr4.4 Fe1 Co4.8 Ni1.2 Al8.6",
          "Ti1 Ta2.88 Nb2.88 W2.88 Mo2.88",
          "Cr1 Fe1 Ni1 Al1.12",
          "Ti1 Ta1.52 Nb1.36 V1.04 W1.08",
          "Ti1 Fe1 Co1 Ni1 Cu1",
          "V4 Cr2 Fe2 Co2 Ni2 Cu2 Al1",
          "Cr4.96 Fe4.96 Co4.96 Ni4.96 Al1",
          "Cr1.25 Mn1 Fe1.25 Co1.25 Pd1.25 Ni1.25",
          "Ti1 W2 Re1",
          "Ti1 Cr5 Fe5 Ni5 Al1",
          "V1.99 Cr1 Fe1 Co1 Ni1",
          "Cr10 Mn12.5 Fe20 Ni7.5 Al1",
          "Hf1 Zr1.8 Ti2 Nb2 Mo1",
          "Fe14.29 Co14.29 Ni14.29 Cu14.29 Sn1",
          "V1 Mo1 Fe1 Co1 Ni1.8",
          "Fe5 Co5 Ni5 Cu5 Sn1",
          "Ta1 Nb1 V1 W1 Mo1",
          "Cr5 Mn5 Fe5 Co5 Ni5 Al1",
          "Hf10 Ti21 Nb1 Si16",
          "Mo1 Cr1.05 Mn1.05 Fe1.05 Co1.05 Ni1.05",
          "Mo1 Cr5 Fe5 Co5 Ni5",
          "Cr1 Fe1 Co3 Ni3.2 Al1.8",
          "Cr3 Fe2.6 Co2.8 Ni1.2 Cu1 Al9.4",
          "Zr4 Ti4 Nb4 V1 Mo4",
          "W5 Re1 Fe10.5 Ni24.5",
          "Cr3.98 Fe3.98 Co3.98 Ni3.98 Al1",
          "Fe1 Co1 Ni3 Cu1 Al1",
          "Cr1 Fe1 Ni1.99 Cu1.01 Al1",
          "Zr9 Ti9 Ta1 Nb1",
          "Mo1 Cr12 Fe12 Co12 Ni12",
          "Ti1 Cr3.33 Fe3.33 Ni6.67",
          "Cr5 Fe5 Co5 Ni5 Cu5 Al2.5 B1",
          "Ti1 Cr1 Fe1 Co1.5 Ni1.5",
          "W42.24 Fe1 Ni2.43",
          "Ta1 V1.33 W4 Mo1.67",
          "V3.21 Cr2.01 Fe2.01 Co2.01 Ni2.01 Cu2.01 Al1",
          "W2.5 Re1 Fe5.25 Ni12.25",
          "Ti1 Cr1.25 Fe1.25 Co1.25 Ni1.25 Cu1.25",
          "Zr1 Ti3.35 Nb3.35 Mo3.35 Cr1",
          "Ti1 Cr2.49 Fe2.49 Co2.49 Ni2.49 Cu2.49 Al1.25",
          "Mo42 B1 Si7",
          "Cr1 Mn1 Fe1 Co1 Ni1 C1",
          "Cr1.62 Mn1.62 Fe1.62 Co1.62 Ni1.62 Al1",
          "Mo3.62 Ni3.08 Si1",
          "Ti1 Ta1 W1 Mo1",
          "Cr2 Fe2 Co2 Ni2 Cu1 Al4",
          "Ti2.51 Cr5 Fe5 Co7.51 Ni7.51 Al1",
          "Cr1 Co1 Ni1 Cu1",
          "Zr4.75 Ti4.75 Ta4.75 Nb4.75 Mo1",
          "Fe4 Co4 Ni4 Al1",
          "Zr1 Ti1 Nb1 W1 Mo1",
          "Cr1.42 Fe1.42 Co1.42 Ni1 Cu1.42",
          "Mo1 Cr2.3 Mn2.3 Fe2.3 Co2.3 Ni2.3",
          "Mo27.33 B1 Si5",
          "Ti2.85 Nb1.28 Al1",
          "Ti24.75 W1 Al24 Si0.25",
          "Ti2.25 Nb2.25 W2.25 Mo2.25 Cr1",
          "Cr1 Mn1.06 Fe1.75 Co1.83 Ni1.81",
          "Cr1 Fe1 Co1 Ni3 Al1",
          "Cr1.24 Mn1.24 Fe1.24 Co1.24 Ni1.24 Al1",
          "Cr1.23 Mn1.23 Fe1.23 Co1.23 Ni1.23 Al1",
          "Ti2 Mo2 Cr2 Fe2 Co2 Ni2 Cu2 Al2 B1 Si2",
          "Cr1.11 Fe1.11 Co1.11 Ni1.11 Al1",
          "Ti1 Nb1 V1 Al1",
          "Hf1 Cr14.14 Co7.94 Ni56.1 Al24.65 C0 N0 O0.12",
          "Ti1 Ta7.18 W5.18 Mo1.82 Cr7.09 Co5.91 Ni58 Al4.73",
          "Ti1 Ta1 Nb1 V1 Mo1",
          "Cr4.97 Fe7.44 Ni2.48 Al1",
          "Ti1.32 Nb1.32 V1.34 Mo1.34 Al1",
          "Ti20.2 Ta1.03 Nb7.01 Fe1",
          "Cr1.36 Fe1.27 Co1.55 Ni1 Al3.91",
          "Ti2 Nb2 Mo2 Cr2 Al1",
          "Cr2 Fe2 Ni4 Cu2 Al1",
          "Mo1 Cr2 Fe2 Co4 Ni2 Al2",
          "Mo10.38 B1 Si1.12",
          "Mn1 Ni1 Cu1 Zn1",
          "Ti6 Nb35 V1 Cr8 Al5",
          "Hf1 Zr2 Ti2 Nb2 Mo1 Si1.8",
          "Cr2.21 Fe2.21 Co2.21 Ni2.21 Cu1 Al1.77",
          "Fe4.96 Co1 Ni4.96 Cu4.96 Al4.96",
          "Hf1 Zr1 Ti1 Ta1 Nb1 W1",
          "Cr1 Fe1 Ni2 Cu1 Al1.5",
          "Cr1.04 Mn1 Fe1.02 Co1.08 Ni1.09",
          "V3.99 Cr1.99 Fe1.99 Co1.99 Ni1.99 Cu1.99 Al1",
          "Ti10.78 Mo10.78 Cr10.78 Al1",
          "Ti13 Ta1 Nb42 V12 Mo20 Cr12",
          "Mo4.14 B1 Si2",
          "Hf3.33 Ti3.33 Nb3.33 V1.67 Mo1.67 Si1",
          "Cr2.66 Fe2.66 Co2.66 Ni2.66 Al1",
          "Hf5.56 Zr5.56 Ti7.06 Ta1 Nb1",
          "Ti1 Cr1.99 Fe1.99 Co1.99 Ni1.99 Al2.4",
          "Nb1 Fe2 Co2 Ni2 Cu2",
          "Zr1 Ti1 Nb1 V2",
          "Ta1.87 Nb1.87 W1.93 Mo1",
          "Hf2 Zr4 Ti8 Nb1 V4",
          "Zr0 Ta38.86 Nb0.06 W1 Mo0 Fe0.08 C0 N0 O0",
          "Cr5.8 Fe1 Ni5.2 Cu5.8 Al2.2",
          "Cr1 Mn3 Fe5 Ni1",
          "Cr3.29 Fe3.29 Co3.29 Ni3.29 Al1",
          "Ta1 Nb1 W1 Mo1 Re1",
          "Hf2 Zr1 Ti2 Nb2 Mo2",
          "Cr2 Mn2 Fe2 Co2 Ni2 Al1",
          "Ta3.5 Nb2 W2 Mo1.5 Re1",
          "Cr2.33 Fe3.33 Co3.33 Ni3.33 Al1",
          "Ti24.5 Nb1 Cr1 Al23.5",
          "Cr1.44 Fe1.29 Co1.29 Ni1.44 Al1",
          "Fe1 Co1 Ni1 Cu1 Sn0.02",
          "Cr1.33 Mn1.67 Fe2.67 Ni1",
          "Cr5.36 Mn31.09 Fe36 Ni10.18 Al6.73 C1",
          "V1 W1 Mo1 Ru1",
          "Nb1 Cr10 Fe10 Co10 Ni10 Al10",
          "Zr1 Ti2 Ta1 Nb2 Al2",
          "Hf7.5 Ti21 Nb1 Si16",
          "Ti1 Cr1 Fe1 Ni1 Al1",
          "Zr3.5 Ti4.5 Ta1 Al1",
          "Ti1 Cr5 Fe5 Co5 Ni5 Cu5 Al2.5",
          "Ti1 Nb1 Mo1",
          "Mo1 Cr2 Fe3 Co2 Ni2 Al2",
          "Ti1 Cr10 Mn10 Fe10 Co10 Ni10 C1",
          "Ti1 Nb1 Mo1 Cr1 Co1",
          "Mo1 Cr5 Fe5 Ni5 Al5",
          "Zr1 Ta1 Nb1",
          "V1 Cr1 Fe4.5 Co2 Ni1.5",
          "Ti2 Cr2 Fe2 Co2 Ni2 Al1",
          "Cr1 Fe1 Co1 Ni1 Al1",
          "Ti22.1 V1 Al2.62",
          "Cr2 Fe2 Co2 Ni1 Cu2 Al2",
          "Fe20 Co20 Ni20 Cu20 Sn1",
          "Cr1 Fe1 Co1 Cu1 Al1.99",
          "Hf1.5 Zr2.5 Ti2.5 Ta2.5 Nb2.5 Al1",
          "Ti1 Cr2 Fe2 Co2 Ni2 Al3",
          "Hf1 Ti1 Ta1 Nb1",
          "Ti27.45 V1 Al3.25",
          "Zr1 Ti1 V1 Mo1",
          "Cr1 Mn3 Fe5 Co1",
          "Nb1 Cr9.71 Fe9.71 Co9.71 Ni9.71",
          "W1 Fe3 Ni7",
          "V1 Cr2.5 Fe2.5 Co2.5 Ni2.5 Cu2.5 Al1.25",
          "Ti1 V1 Cr1 Fe1 Ni1 Cu1",
          "Ta6.32 Nb6.32 W6.36 Mo1",
          "Ti1 Cr1.33 Fe2.5 Co4.17 Ni6 Al1.67",
          "Ti3.01 V2.01 Fe2.01 Co2.01 Ni2.01 Cu1",
          "Ti4.96 Cr4.96 Ni4.96 Cu4.96 Al1",
          "Fe1 Co1 Ni2 Cu1 Al1",
          "Ti27.28 V1 Al3.23",
          "Ti1 Nb1 Mo1 Al1",
          "Hf2 Zr2 Ti2 Ta2 Nb2 Al1",
          "Zr1 Ti3.3 Nb3.3 V1.98 Mo3.3 Cr1 Al1.98",
          "Cr1.79 Mn1.79 Fe1.79 Co1.79 Ni1.79 Al1",
          "Cr3.33 Mn3.33 Fe4.99 Ni1.66 Al1",
          "Mn1 Fe3 Co3 Ni3",
          "Hf12.25 Zr12.25 Ti12.25 Ta6.12 Nb6.12 N1",
          "Cr1.67 Fe1.67 Ni3.34 Cu1.67 Al1",
          "Cr1 Fe1 Co1.99 Ni1 Al1",
          "V1 Cr1.47 Fe1.47 Co1.47 Ni1.47 Cu1.47",
          "Cr1 Fe5 Co5 Ni5 Si1",
          "Zr3.18 Ti3.36 Nb3.95 Cr1",
          "Cr1 Fe2.25 Co2.25 Ni2.25 Al2.25",
          "Ta2 Nb1.33 W1.33 Mo1 Re1",
          "Cr1.15 Fe1.15 Co1.15 Ni1.15 Al1",
          "W1 Ir22 Al2",
          "Ti1.5 Cr1 Fe1 Co1 Ni1 Al1",
          "W1 Cr2.3 Mn2.3 Fe2.3 Co2.3 Ni2.3",
          "Hf1.15 Ti9.85 Nb31.31 W1 Mo3.62 Cr2.08 Al3.54 Sn3.85 Ge4.54 Si16",
          "Cr1 Co1 Ni1",
          "Cr6.8 Fe1 Co3.4 Ni2 Al6.8",
          "Ti1 W1 Mo1",
          "Cr1 Fe1 Co1 Ni1 Cu1 Al2.8",
          "Li6 Ca1 Mg7 Y0.02 Al3.98 Si2",
          "Hf1 Zr1 Ti1 Ta1 V1",
          "Zr1.33 Ti1.33 Nb1.33 V1 Mo1.33",
          "Ta1 W2 Mo2 Ru1",
          "Cr4.76 Fe1 Co4.76 Ni4.76 Cu4.76",
          "Ta2 W2 Mo1 Re1",
          "Ti1.5 V1 Mo1 Cr1 Fe1",
          "Hf1 Zr1 Ta1 Nb1",
          "Re1 Co2.25 B1.75",
          "Ti1.89 Mo1.89 Cr1.89 Al1",
          "W1 Cr1.17 Fe1.17 Co1.17 Ni1.17 C1",
          "Cr6.2 Fe1 Ni6.2 Cu4.2 Al2.4",
          "Cr1.99 Fe1 Co1 Ni1 Al1",
          "Ti3.63 Cr2.01 Fe2.01 Co2.01 Ni2.01 Cu2.01 Al1",
          "Ti1 Nb2.5 Mo2.5 Cr2.5 Co2.5",
          "Cr1 Mn1 Fe1 Ni1 Cu1",
          "Ti2.83 Nb2.83 Si1",
          "Ti1 Ta5.88 V5.88 W5.88 Cr5.88",
          "Ti2 Cr4 Fe4 Co4 Ni4 Cu3 Al1",
          "Mn6.34 Ni6.34 Cu6.34 Sn1",
          "Cr1 Fe1.42 Co1.42 Ni1.42 Cu1.42",
          "Ti1 Ta1.67 V2.67 W2.67",
          "Cr3.01 Fe2.01 Co2.01 Ni2.01 Cu1 Al2.01",
          "Hf1 Zr1 Ti1 Nb1",
          "Cr2.6 Fe2.4 Co2.6 Ni2 Cu1 Al9.4",
          "Ta3 V2.5 W5.5 Mo1",
          "Ti1.2 Mo1 Cr2 Fe2 Ni2 Al2",
          "Zr1 Ti1 Nb1 V1 Cr1",
          "Ti1.6 Cr2 Fe2 Co2 Ni2 Cu2 Al1",
          "Cr4.2 Fe2.4 Co2.8 Ni1 Cu1 Al8.6",
          "Cr2 Mn2 Fe2 Co2 Ni2 C1",
          "Ta1 Nb1 W1",
          "Ti1 Cr1 Fe1 Co1 Ni1 Al2",
          "V1 Cr1.05 Fe1.05 Co1.05 Ni1.05 Cu1.05",
          "Cr1.11 Fe1.11 Ni2.33 Al1",
          "Mn12.5 Fe12.5 Co12.5 Ni12.5 Cu12.5 Sn1",
          "V1 Mo1 Fe1 Co1 Ni1.2",
          "Cr1 Fe5 Co5 Ni5 Al4",
          "Cr1 Fe1 Co1 Ni2.15 Al1",
          "Y1 Hf1 Zr1 Ti1",
          "Cr4 Fe4 Co4 Ni4 Cu1 Al3",
          "Ti1 Ta1 Nb1 Cr1",
          "Ti27.63 V1 Al3.27",
          "Cr3.33 Mn4.17 Fe6.67 Ni2.5 Al1",
          "Ti1 Nb1 V1 Cr1.5 Al1",
          "Cr4.67 Fe1 Ni5.17 Cu3.67 Al2.17",
          "Hf1 Zr1 Ti1 Nb1 Mo1",
          "V1 Cr10.25 Fe10.25 Co10.25 Ni10.25 Cu10.25 Al10.25",
          "Cr4.96 Fe1 Co4.96 Ni4.96 Al4.96",
          "Hf1.67 Zr3.33 Ti3.33 Nb3.33 Mo1.67 C1",
          "Cr1 Fe1 Co1 Ni1 Sn1",
          "Cr4 Fe4 Co4 Ni4 Al1",
          "Ti1 Cr3.98 Fe3.98 Co3.98 Ni3.98 Al4.78",
          "Re1 Co1.17 B1.17",
          "Ti1 Cr1 Fe1 Co1 Ni1 Al1",
          "Cr4.4 Fe1 Co5 Ni1 Al8.6",
          "Zr1 Ti1 V1 Mo1 Fe1 Ni1",
          "Fe2 Co2 Ni2 Cu1 Al2",
          "Cr3.8 Fe1 Co3.8 Ni1 Cu1 Al9.4",
          "Cr5 Fe5 Co5 Ni5 Al5 C1",
          "Ti1 Nb1 Mo1 Cr1 Fe1",
          "Ti10.17 Cr10.17 Fe10.17 Ni10.17 Cu1",
          "Cr3.32 Fe3.32 Ni6.61 Cu3.32 Al1",
          "Zr1 Fe1 Co1 Ni1 Cu1 Al1",
          "Cr1.25 Mn1.25 Fe1.25 Ni1.25 Al1",
          "Ta1 Cr1.67 Mn1.67 Fe1.67 Co1.67 Ni1.67",
          "Ti23.94 V1 Al2.83",
          "Cr1 Fe1 Co1 Ni1 Al1 Si1",
          "Cr1 Fe10 Co10 Ni10 Al9",
          "W1.2 Fe1.8 B1",
          "Hf1.67 Zr1 Ti3.33 Nb3.33 Mo1.67",
          "Cr2.63 Mn2.63 Fe2.63 Co2.63 Ni2.63 Al1",
          "Cr3.21 Co1 Ni7.21 Cu7.14 Si2",
          "Hf1.67 Zr3.33 Ti3.33 Nb3.33 Mo1.67 Si1",
          "Zr3 Ti2 Ta2 Nb1",
          "V1 Cr2 Fe2 Co2 Ni2",
          "Nb1 Cr6.45 Fe6.45 Co6.45 Ni6.45",
          "Ta1 Nb1 W9 Mo1",
          "Cr1 Fe1 Ni2.01 Cu1 Al1.2",
          "Nb5 Fe1 Co1 Ni1 Cu1",
          "Hf1.6 Ti2.53 Nb1.53 V1",
          "Ta1 Co6.22 B3.89",
          "Ti1.5 Cr1 Fe1 Ni1 Cu1 Al1",
          "Hf4 Zr4 Ti4 Ta4 Nb4 Mo1",
          "Zr2.85 Ti2.69 Nb3.17 Re1",
          "Fe1 Co1.5 Ni1 Cu1 Al1",
          "Ta1 V1 W1 Mo1 Cr1",
          "Cr10 Fe10 Co10 Ni10 Al1",
          "Ta1 Co8.29 B5",
          "Cr1 Fe1 Co1 Ni1 Al1.25",
          "Ti4.5 Nb1 Al4.5",
          "Ti3.6 Cr2 Fe2 Co2 Ni2 Cu2 Al1",
          "Cr3.2 Fe3.2 Co1.4 Ni1 Cu1.8 Al9.4",
          "Hf1 W7.5 Re2.5 Ru1",
          "Ti1.33 Ta4.67 V1 W1",
          "Cr1 Fe2 Co2 Ni2 Cu2 Al2",
          "Ti1 V1 Cr1 Fe1 Ni1 Cu1 Al1.5",
          "Mg1 Ni1 Cu1 Zn1 Al13 Si3",
          "Zr1 Ti1 Nb1 V1 Mo1.5",
          "Fe2 Co2 Ni2 Al1",
          "Cr2 Fe2 Co1 Ni2 Al2",
          "Hf1 Ti6.5 Ta2.5 Nb2",
          "Hf2.25 Zr2.25 Ti2.25 Nb2.25 Al1",
          "Ti1 Cr1 Co1 Ni1 Cu1 Al1",
          "Zr1 Ti1 Nb1 V1 W1 Mo1 Cr1",
          "W2.31 Fe2.92 B1.46 C1",
          "Hf1 Ti1 Ta1 Nb1 Mo1",
          "Mo1 Cr2 Fe2 Co1 Ni2 Al2",
          "Hf2 Ti2 Nb2 V1 Mo1 Si1.01",
          "Mg1 Mn1 Cu1 Zn1 Al13 Si3",
          "Ti1 Nb1 W1 Cr1",
          "Be1 Ti1.91 Mo1.91 Cr1.91 Fe1.91 Co1.91 Ni1.91 Cu1.91 Al1.91 Si1.91",
          "Zr3.8 Ti4.22 Ta5.78 Nb5.2 Al1",
          "Mo1 Cr6.69 Fe6.69 Co6.69 Ni6.69",
          "Cr5 Fe5 Ni10 Cu5 Al1",
          "Hf2.01 Ti2.01 Nb2.01 V1 Mo1 Si1.41",
          "Cr1 Fe1 Co1 Ni1 Al2",
          "Ti1 Mn35 Fe38.75 Ni18.75 Al30",
          "Hf1 Zr1 Ti1 W1 Mo1",
          "Cr2.01 Fe2.01 Co2.01 Ni2.01 Cu1 Al3.01",
          "Cr10 Mn10 Fe10 Ni10 C1",
          "Hf1 Zr1 Ti1 Ta1",
          "Zr1 Ti1 Nb1 V1",
          "Hf2 Zr2 Ti1 Ta1 Nb2",
          "Cr2 Fe4 Co2 Ni2 Cu1 Al2",
          "Cr1.25 Fe1.25 Ni2.5 Cu1.25 Al1",
          "Cr1 Fe1 Ni2 Al1",
          "Zr1 Ti1.02 Nb1.15",
          "Mo5.3 B1 Si3.7",
          "Ti2.5 Cr5 Fe5 Co7.5 Ni7.5 Al1",
          "Cr9 Fe10 Co10 Ni10 Al1",
          "Hf2 Zr1 Ti1 Nb2",
          "Cr7 Fe1 Ni5.2 Cu4.8 Al2",
          "V3.63 Cr2.01 Fe2.01 Co2.01 Ni2.01 Cu2.01 Al1",
          "Ta1 Nb1 V1 W1 Mo1 Cr1",
          "Cr1.5 Fe2.92 Co1.5 Ni1.5 Al1",
          "Cr4 Fe2 Co2 Ni2 Cu1 Al2",
          "Zr1 Ti1 Ta1 Nb1 V1 Mo1",
          "Zr1 Ti2 Ta1 Nb2 Mo1 Al2",
          "Mo1 Fe1 Co1 Ni1",
          "V1 Cr2 Mn2 Fe2 Co2 Ni2",
          "Cr1 Fe1 Co1 Al1",
          "Cr1.13 Fe1.13 Ni1.13 Al1",
          "Ti3.38 Nb5.12 Cr1 Al1.12 Si1.88",
          "Ti3.21 Cr2.01 Fe2.01 Co2.01 Ni2.01 Cu2.01 Al1",
          "Cr6.2 Fe1.6 Co2 Ni1.4 Cu1 Al7.8",
          "Ti4 Ta3.5 Nb1 V3.5",
          "W1 Cr4.8 Mn4.8 Fe4.8 Co4.8 Ni4.8",
          "Ti2.39 Cr1.99 Fe1.99 Co1.99 Ni1.99 Cu1.99 Al1",
          "Cr16.67 Mn50 Fe82.33 Co16.67 B1",
          "Cr5 Co4.5 Ni5 Cu4.5 Al1",
          "Cr1.42 Fe1 Co1.42 Ni1.42 Cu1.42",
          "Cr5.05 Mn5.05 Fe5.05 Co5.05 Ni5.05 Al1",
          "Cr1.34 Fe1.34 Co1.34 Ni1.34 Al1",
          "Mo1 Cr2 Fe2 Ni2 Al2",
          "Ta1 Nb1 W1.9 Mo1",
          "Ti1 Cr1.25 Fe1.25 Co1.25 Ni1.25 Al1.25",
          "Cr3.6 Fe1 Co4.2 Ni1 Cu1 Al9.2",
          "Zr2 Ti2 Nb2 V2 Mo1",
          "Mn4 Fe4 Co1 Ni1",
          "Cr4 Fe1.33 Co3.17 Ni1 Al7.17",
          "V2 Cr3 Mn1 Fe7 Co2 Ni5",
          "Hf12.5 Ti21 Nb1 Si16",
          "Cr10 Mn10 Fe10 Co10 Ni10 Al1",
          "V1 Cr5 Fe5 Co5 Ni5 Cu5 Al2.51",
          "Ti1 Nb1 Ru1",
          "Ti5 Cr5 Fe5 Co7.5 Ni7.5 Al1",
          "V2 Cr2 Fe2 Co2 Ni2 Cu2 Al1",
          "Cr2 Fe2 Co1 Ni2 Cu2 Al2",
          "W1.33 Cr1 Mn1 Fe1 Co1 Ni1",
          "Nb2 V1 W2 Ru1",
          "Cr1 Fe1 Ni1 Al1.21",
          "Zr1 Ti10 Nb10 V10 Al10",
          "Cr1.34 Mn1.34 Fe1.34 Co1.34 Ni1.34 Al1",
          "Ti1.38 Nb2.62 Mo1.25 Si1",
          "Zr1.5 Ti1 Nb1 V1 Al1",
          "Fe1 Co1 Ni1 Al1",
          "Zr3.33 Ti3.33 Nb3.33 V1",
          "Cr1 Fe1 Co1 Ni2.1 Al1",
          "Cr1 Fe1 Co2.01 Ni3.01 Cu1 Al6.04",
          "Mo1 Cr2 Fe2 Co2 Ni3 Al2",
          "V1.25 Mo1 Fe1.25 Co1.25 Ni1.25",
          "Mo1 Cr6.67 Fe6.67 Co6.67 Ni6.67",
          "Ta2 Nb2 W2 Mo2 Si1",
          "Cr1.25 Fe1.25 Co1.25 Ni1.25 Al1",
          "Cr23.73 Mn24.58 Fe23.37 Co23.61 Ni24.1 C1",
          "Ti27.81 V1 Al3.29",
          "Cr2.87 Fe1.88 Co1.88 Ni1.88 Cu1 Al2.87",
          "V1 Cr1 Mn1 Fe1 Co1 Ni1",
          "Cr1.33 Fe1.33 Co1.33 Ni1",
          "Ti2.2 Nb5.2 Mo1 Si1.6",
          "Hf2 Zr2 Ti2 Ta1",
          "Hf1 Zr1 Ti1 Nb1 Mo1.5",
          "W6.32 Ni9.2 Cu1 B3.48",
          "Ti1 Nb1 W1 Re1",
          "Ta1 W1 Mo1 Ru1",
          "Cr4 Fe1.8 Co2.8 Ni1 Cu1 Al9.4",
          "Cr1 Fe1 Co1 Ni1 Cu1 Al1.3",
          "Hf4.75 Zr4.75 Ti4.75 Nb4.75 Al1",
          "Ti1 Nb1 W1 Mo1 Cr1",
          "Hf2 Zr2 Ti2 Nb2 V2 Si1",
          "Mo5 B2 Si1",
          "Y1.67 Zr1.67 Ta1.67 Mo14.67 Fe1 Co4 Si8.67",
          "Ti1 V1 Cr1 Fe1 Ni1 Cu1 Al1",
          "V1.6 Cr2 Fe2 Co2 Ni2 Cu2 Al1",
          "Cr1 Fe3.33 Co3.33 Ni3.33 Al2.33",
          "Mo1.07 Cr1.79 Fe7.86 Co2.57 Ni1",
          "Mo20.5 B1 Si3.5",
          "Cr3.33 Fe3.33 Co3.33 Ni3.33 Al3.33 C1",
          "Hf1 Zr2 Ti2 Nb2 Mo1 Si1.4",
          "Ti1 Ta3.33 V3.33 W3.33 Cr3.33",
          "Cr1 Fe1 Ni1.2 Cu1 Al1",
          "Mo46 B1 Si3",
          "Ti1 W0.1 Mo0.1 Cr14 Fe17 Co17 Ni35 Cu8 Al8",
          "V1 Cr1.34 Mn1.34 Fe1.34 Co1.34 Ni1.34",
          "Hf1 Zr2 Ti2 Nb2 Mo1",
          "Cr1 Fe1.99 Co1 Ni1 Al1",
          "Ti1.05 Ta1.27 Nb1.29 V1",
          "Hf1.33 Zr1.33 Ti1.33 Ta1.33 Nb1.33 Mo1",
          "Cr1.67 Fe1.67 Ni1 Cu1.67 Al1.67",
          "Ta1 Cr5 Mn5 Fe5 Co5 Ni5",
          "Ta1 W1 Mo1 Re1",
          "Cr4.4 Fe1.6 Co4.4 Ni1 Al8.6",
          "Zr1 Ti2.04 Ta1.14 Nb2.1 Al2.19",
          "Mo4.5 Ni4.5 B1.11 Si1",
          "Ti1 Cr4.98 Fe4.98 Ni4.98 Al1",
          "Cr3 Fe1.29 Co2.86 Ni1 Al6.14",
          "Ti3.99 Cr1.99 Fe1.99 Co1.99 Ni1.99 Cu1.99 Al1",
          "Zr1 Ti3.2 Nb1.5 Cr2 Al2.3",
          "Ti2.8 Cr2 Fe2 Co2 Ni2 Cu2 Al1",
          "V1.61 Cr2.01 Fe2.01 Co2.01 Ni2.01 Cu2.01 Al1",
          "Mo1 Fe1 Co1 Ni1 Al1",
          "Ta5 W1 Fe3 Ni7",
          "Zr1 Ti1 Nb1 V1.25 Mo1",
          "Ti1 Cr1 Fe1 Ni1 Cu1",
          "Ti1 Nb1 W8.5 Mo1.5",
          "Ti2 Cr2 Fe2 Ni2 Cu1",
          "Cr1 Fe1 Ni2 Cu1 Al2",
          "Cr1.43 Mn1.43 Fe1.43 Co1.43 Ni1.43 Al1",
          "Ti0.02 Nb1 Mo1 Cr1 Co1",
          "W1.18 Fe1.45 B1",
          "Ti4 V2 Fe2 Co2 Ni2 Cu1",
          "Ti1 V1 Fe1 Co1 Ni1",
          "Hf1 Zr1 Ti1 Ta1 Nb1 Al1",
          "Nb11.6 Fe1 Co1 Ni1 Cu1",
          "Ti1 Cr2 Fe2 Co3 Ni3",
          "Ta1 Cr2.5 Mn2.5 Fe2.5 Co2.5 Ni2.5 Al1.25",
          "Ti1 Nb2 Ru1",
          "Nb2 W2 Mo2 Re1",
          "Hf1 Zr1 Ta1 Nb1 Mo1",
          "Ti1 Cr1 Fe1 Co1 Ni1 Cu1",
          "Fe2 Co2 Ni2 Si1",
          "Ti1 Nb5 Mo5 Cr5 Co5",
          "Cr7 Fe1 Ni4.8 Cu5.2 Al2",
          "Nb1 Cr4.85 Fe4.85 Co4.85 Ni4.85",
          "Ti2 Cr2 Fe2 Co2 Cu1 Al2",
          "Cr1 Fe1 Ni2 Cu1 Al2.2",
          "Cr1 Fe3 Co3 Ni3",
          "Ti1.67 Ta1.67 V1.67 Mo1.67 Al1",
          "Ti3.2 Cr2 Fe2 Co2 Ni2 Cu2 Al1",
          "Cr4.67 Fe1 Ni4.67 Cu4.5 Al1.83",
          "Cr3.6 Fe1 Co4 Ni1 Cu1 Al9.4",
          "Zr0.08 Ti1 Mo94.25 B35.44 C8.1",
          "Cr2 Fe2 Co2 Ni2 Cu1 Al1.51",
          "Zr4.33 Ti4.67 Ta3.33 Nb3.33 Al1",
          "Cr4 Fe4 Co4 Ni4 Cu1 Al4",
          "Fe2 Co2 Ni1 Cu2 Al2",
          "Cr1 Fe1 Co1 Al2",
          "Cr2 Fe1 Co2 Ni2 Cu2 Al2",
          "Ti1 Ta1 Mo1 Cr1",
          "Cr1 Fe1 Co1 Ni1 Al1 C1.5",
          "Cr1.33 Fe1.33 Co1.33 Al1",
          "Ta1.5 W8 Re1.5 Ru1",
          "Ti1 Ta4 Nb4 W4 Mo4",
          "Cr2.4 Fe2.6 Co2.4 Ni2.2 Cu1 Al9.4",
          "W1 Cr20 Mn20 Fe20 Cu20 Al20",
          "Cr1 Fe1 Ni1.99 Cu1 Al1.59",
          "V2 W1 Cr1 Co4 Ni4",
          "Nb2 V2 Mo2 Cr2 Al1",
          "Hf2 Ti2 Nb2 V1 Mo1 Si1",
          "V3 W5.5 Re2.5 Ru1",
          "Ti6 Nb2 V4 Ni1 Al1",
          "Cr1.2 Fe6.2 Co2.2 Ni1 Cu1.8 Al7.6",
          "Cr1.15 Fe1 Co1 Ni1",
          "Cr2 Fe2 Ni4 Al1",
          "Ti1.5 Ta1 Cr1.83 Co2 Ni2",
          "Mo1 Cr2.01 Fe2.01 Co2.01 Ni2.01 Al3.01",
          "Zr1 Ti1 V1 Mo1 Fe1 Co1 Ni1",
          "Ti1 Ta1 V1 Mo1 Al1",
          "Hf1 Zr1 Ti1.5 Nb1 Mo1",
          "Hf1 Zr1 Ti1 Ta1 Nb1 W1 Mo1",
          "Hf4 Zr4 Ti1 Ta3 Nb4",
          "Ti1 Nb1 W1 Mo1",
          "V1 Cr1 Fe1 Co1 Ni1",
          "Cr6 Fe1.4 Co2 Ni1.2 Cu1 Al8.4",
          "Cr1 Fe1 Co1 Ni1.99 Al1",
          "Zr1 Ti1 Ta1 Nb1 V1 Mo1 Cr1",
          "Ti2.5 Ni1.5 C1",
          "Ta1.5 V1 W8.5 Re1",
          "Ta1 Co9.83 B5.83",
          "Ti1 Nb2 W2 Re1",
          "Y1 Ti1 Cr1 Co1 Ni1 Cu1 Al1",
          "Cr1 Fe4.76 Co4.76 Ni4.76 Cu4.76",
          "Mn1 Fe1 Co1 Ni1",
          "Cr1.43 Mn1.79 Fe2.86 Ni1.07 Al1",
          "Cr5.88 Mn17.65 Fe28.41 Co5.88 B1",
          "Ti1 Cr1 Fe1 Co1 Ni1 Al1.2",
          "Cr5 Fe5 Co5 Ni5 Al1",
          "Mo9.62 B1.01 Si1",
          "Ti27.37 V1 Al3.24",
          "W1 Re1 Fe3 Ni7",
          "Cr2 Mn2 Fe3 Ni1 Al1",
          "Hf1 Zr1 Ti2 Nb2 Mo1",
          "Ta3.16 Nb3.15 V2.79 W3.15 Mo3.15 Cr1",
          "Cr2.11 Fe1 Co2.22 Ni1 Al4.78",
          "Ti22 Nb10.5 Cr10.5 Co6 Ni1",
          "Li2.5 Mg5 Cu1 Zn2.5 Al5",
          "Cr2.5 Fe1 Co5.5 Ni1",
          "Zr6.5 Ti7 Ta4 Nb5 V1 Al1.5",
          "Ti1.5 Ta1 Nb1 V1 Mo1",
          "Cr6.8 Fe1 Co4.4 Ni2 Al5.8",
          "Ti1 Cr2 Fe2 Co2 Ni2 Al1",
          "Cr1.2 Mn2.3 Fe3.5 Ni2 Al1",
          "Hf1 Zr2 Ti4 Nb1 V2",
          "Cr2.5 Fe2.5 Co2.5 Ni2.5 Al2.5 C1",
          "V1.67 Mo1 Fe1.67 Co1.67 Ni1.67",
          "Cr1 Fe1 Co1 Ni2.5 Al1",
          "Cr2 Mn1.2 Fe2 Co2 Ni2 Al1",
          "Ti2 Cr4 Fe4 Co4 Ni4 Cu2 Al1",
          "Cr1 Fe1 Ni1 Al1.3",
          "Cr1.43 Fe1.43 Ni3.29 Al1",
          "Hf12.5 Ti33 Nb1 Si16",
          "Hf1 Zr2 Ti4 Nb1.5 V2",
          "Zr1 Ti1 Ta1 Nb1 Mo1",
          "Cr3.32 Fe3.32 Co3.32 Ni3.32 Cu3.32 Al1",
          "Ti22.68 V1 Al2.68",
          "Ti1 Nb2 W1",
          "Hf2 Zr2 Ti1 Nb2 Mo2",
          "Cr2 Fe2 Co2 Ni2 Al1",
          "W4.09 Fe2 Co1 Ni2",
          "V1 W2 Cr2 Fe2 Ni2",
          "Ti1 Nb1 V1 Mo1 Al1.25",
          "Zr0 Ti1 Mo84.97 Co0.21 S0.25",
          "Ti1 Nb3 W1 Re1",
          "Ti1.33 Ta1 V2 W3.67",
          "Hf1.02 Zr1.01 Ti1.07 Ta1.08 Nb1",
          "Cr4.6 Fe1 Co4.8 Ni1 Al8.6",
          "Hf2 Zr2 Ti2 Ta1 Nb1",
          "Zr1.43 Ti1.43 Nb1.43 V1.43 Mo1",
          "Cr3.33 Fe3.33 Co1 Ni3.33 Al2.33",
          "Re1.6 Co1 B1.4",
          "Zr1 Ti1 Nb1 V1 Mo1.7",
          "Ta3.5 Nb1 V2.5 W5",
          "Zr0.09 Ti1.08 Mo106.37 B3.82 C1",
          "Cr2 Fe2 Co2 Ni4 Cu1 Al2",
          "Ta1 Nb1 W1 Mo1",
          "Mn1.33 Ni1.33 Cu1.33 Zn1",
          "Mo1 Cr1 Fe1 Co1 Ni1 Al1",
          "Zr4 Ti4 Ta4 Nb4 Al1",
          "Cr3.8 Fe2 Co2.8 Ni1 Cu1 Al9.4",
          "Ti1 Cr2 Fe1.89 Ni3.67 Al2",
          "Ti1 Ta1 Nb1 Mo1",
          "Ti1 Nb1 Mo1 Cr1 Al1",
          "Zr1 Ti3 Ta1 Nb3 Al2",
          "Cr2 Fe2 Co2 Ni2 Cu2 Al1 B2",
          "Cr1 Fe1 Ni1.99 Cu1.59 Al1",
          "Ti1 Mo2 Cr4 Fe4 Ni4 Al4",
          "Hf1 Ti1 Nb1 Al1",
          "Ti2.49 Cr2.49 Ni2.49 Cu2.49 Al1",
          "Fe1.25 Co1.25 Ni1 Cu1.25 Al1.25",
          "Ti1 Nb1 V1 Mo1",
          "Mn10 Fe10 Co10 Ni10 Cu10 Sn1",
          "Hf1.5 Ta3 Nb1 V6.5",
          "Ti4 Ta4 Nb4 V4 Al1",
          "Nb1 V1 W3 Ru1",
          "Hf1 Zr1 Ti1 Nb1.5 Mo1",
          "Mn1 Fe1 Co1 Ni1 Cu1",
          "W2 Fe2.53 B1.13 C1",
          "Ti1 Mo1.25 Cr2.5 Fe2.5 Ni2.5 Al2.5",
          "Fe25 Co25 Ni25 Cu25 Sn1",
          "Ti1 W64.67 C1",
          "V2.8 Cr2 Fe2 Co2 Ni2 Cu2 Al1",
          "Ta1 Nb3 W1 Ru1",
          "Cr1 Fe1 Co3.01 Ni2.01 Cu1 Al6.04",
          "Cr1 Fe1.42 Co1.42 Ni1.42 Al1.42",
          "Nb15 Fe1 Co1 Ni1 Cu1",
          "W1.82 Ni2.93 B1",
          "Hf1 Zr1.6 Ti2.22 Ta3.85 Nb3.85",
          "Ti2.82 Cr2.01 Fe2.01 Co2.01 Ni2.01 Cu2.01 Al1",
          "Ti1 Mn9.33 Fe10.33 Ni5 Al8",
          "Cr2 Fe2 Co2 Ni6 Cu1 Al2",
          "Cr1 Mn1 Fe1 Co1 Ni1",
          "Ti5 Ta5 V5 Mo5 Al1",
          "Cr1.67 Fe1 Co3 Ni1",
          "W1 Cr10 Mn10 Fe10 Cu10 Al10",
          "Ti1 Ta1 Nb1 V1 W1",
          "Hf0.2 Ti1 Ta10 W10 Mo2 Cr8 Re8 Ru8 Ni140.6 Al12 Si0.2",
          "Hf1 Zr1 Ti1 Nb1 Cr1",
          "Cr5 Fe5 Co5 Ni5 Al5 Si1",
          "Cr2.38 Fe1.38 Co2.38 Ni1 Al5.38",
          "Fe2 Co2 Ni2 Cu2 Sn1",
          "Hf1 Zr1.4 Ti2 Nb2 Mo1",
          "Hf2 Zr2 Ti2 Nb2 O1",
          "Cr2.12 Fe2.12 Co2.12 Ni4.12 Cu1 Al1",
          "V1.2 Cr2 Fe2 Co2 Ni2 Cu2 Al1",
          "Ti9.33 B3 Si1",
          "Ti1.67 Cr1.67 Ni1.67 Cu1.67 Al1",
          "Cr2 Fe2 Co2 Ni2 Cu1 Al1.41",
          "Fe2 Co1 Ni2 Cu2 Al2",
          "Zr0.09 Ti1 Mo97.69 B7.05 C1.71",
          "Cr1.25 Fe1.25 Ni2.75 Al1",
          "Li1 Mg1 Cu1 Zn1 Al16",
          "Ti1 Ta1 W1",
          "Ti1 Cr3.33 Fe3.33 Co5 Ni3.33 Al1.33",
          "Cr1.42 Fe1.42 Co1.42 Ni1.42 Al1",
          "Cr5.5 Fe1 Co1 Ni1 Cu1 Al7.17",
          "Hf5 Zr1 Ti10 Nb10 Mo5",
          "Ta1 Cr2.5 Mn2.5 Fe2.5 Co2.5 Ni2.5",
          "Cr2 Fe2 Co2 Ni1 Cu1 Al2",
          "Cr1 Fe1 Co1 Ni1.99 Al1.3",
          "Ti4 V7 Mo1 Cr2 Al6",
          "Hf2 Ti2 Nb2 V1 Mo1 Si1.4",
          "Ti1.61 Cr2.01 Fe2.01 Co2.01 Ni2.01 Cu2.01 Al1",
          "Cr3.33 Fe3.33 Ni6.64 Al1",
          "W1.17 Fe1.17 B1",
          "Cr4.4 Fe2 Co2.2 Ni1 Cu1 Al9.4",
          "Cr1.61 Mn1.61 Fe1.61 Co1.61 Ni1.61 Al1",
          "V2.82 Cr2.01 Fe2.01 Co2.01 Ni2.01 Cu2.01 Al1",
          "Ti1 Nb2 W2",
          "Mo1 Cr2 Fe2 Co2 Al2",
          "V1 Cr2.3 Fe2.3 Co2.3 Ni2.3 Cu2.3",
          "Mn1 Co1 Ni1",
          "Hf2 Ti6 Ta3 Nb1",
          "Nb10 V10 Mo10 Cr10 Al1",
          "Ti1 Nb1 W3 Re1",
          "Cr2 Co1 Ni2",
          "Cr3.33 Mn3.33 Fe5 Ni1.67 Al1",
          "Re1.17 Co1 B1.17",
          "Nb1 Cr2 Fe2 Co2 Ni2 Al2",
          "Ti2 Nb1 W1",
          "Ti2 Nb2 V2 Cr1 Al2",
          "Ti27.72 V1 Al3.28",
          "Ta3.61 Nb3.58 V2.28 W3.53 Mo3.54 Cr1",
          "Hf1 Ta5.5 Nb2 V3.5",
          "V1 Mo1 Fe1 Co1 Ni1",
          "Zr1 Ti1 V1 Cr1 Fe1 Co1 Ni1 Al1",
          "Cr1 Fe1 Ni1 Cu1.99 Al1",
          "Zr1 Ti2.2 Nb1.5 Cr2 Al3.3",
          "Ta1 Nb2.5 W2.5 Mo2.5 Re1.25 C1",
          "Fe1 Co1 Ni1",
          "Zr3.33 Ti5 Nb3.33 Al1",
          "Ti1 Cr2 Fe2 Co2 Ni2 Al2",
          "Cr1 Fe1 Co1 Ni1 Cu1 Al1.5",
          "Ta1 Nb5 W5 Mo5 Re2.5 C1",
          "Cr1 Mn1 Fe1 Co1 Ni1.05",
          "Ti1 V2 Fe2 Co2 Ni2 Cu1",
          "Fe1 Co1 Ni1 Cu1 Al1",
          "Zr1 Ti2 Nb1 V1",
          "Ti1 Ta1 Nb1 V1 Al1",
          "W3.33 Fe2 Co1 Ni2",
          "Hf2 Ti2 Nb2 V2 Si1",
          "Ti1 Ta1 V1 W1 Cr1",
          "Fe10 Co10 Ni10 Cu10 Sn1",
          "Mg1 Fe1 Cu1 Zn1 Al13 Si3",
          "V2 W41 Mo1 Co4 Ni2",
          "Co2.5 Ni2.5 Cu1.5 Al1",
          "Mn1.87 Fe2.07 Ni1 Al1.6",
          "Ta1 V1 W1 Mo1",
          "Ti1 Ta1 Nb1",
          "Cr5 Mn1 Fe5 Co5 Pd5 Ni5",
          "Cr14.78 Mn14.19 Fe14.26 Co14.78 Ni14.56 C1",
          "Cr2.25 Fe2.25 Co1 Ni2.25 Al2.25",
          "Cr2 Fe2 Co2 Ni2 Cu1",
          "Ti1 V1 Mo1 Cr1 Al1",
          "Cr2.52 Fe2.52 Co2.52 Ni2.52 Cu1 Al2.27",
          "Cr1.33 Fe1.33 Co1.33 Ni1.33 Al1",
          "Ti3.37 Nb1.79 V1 Cr1.79",
          "Ta1 Cr5 Mn5 Fe5 Co5 Ni5 Al2.5",
          "Ti1.42 Nb1.42 W1.42 Mo1.42 Cr1",
          "Ta1 W6.5 Mo1.5 Re3",
          "Hf1 Zr2 Ti4 Nb2 V2",
          "V3.2 Cr2 Fe2 Co2 Ni2 Cu2 Al1",
          "Cr1 Fe3.99 Co1 Ni1",
          "Ti27.11 V1 Al3.21",
          "Cr1 Fe1 Co1 Cu1 Al1.5",
          "Mo1 Cr2.5 Fe2.5 Co2.5 Ni2.5 Al2.5",
          "Ta4 V1.33 W1.67 Mo1",
          "Ti1 Cr1 Fe1 Ni1 Cu1 Al1",
          "Cr1 Fe1 Co1 Ni1 Al1 C1",
          "Ti2 Nb2 V2 Mo1 Cr1.5",
          "Cr6.2 Fe1 Ni6.4 Cu4 Al2.4",
          "Ti1 Ta1 Mo1",
          "Mo1 Cr2 Fe2 Co2 Ni2 Al1",
          "Ta3 Nb1 W1 Mo1",
          "Li7 Ca2 Mg7 Al3 Si1",
          "Cr2.25 Fe2.25 Co1 Ni2.25 Cu2.25",
          "Cr1 Fe1 Ni1.4 Cu1 Al1",
          "Zr3.09 Ti69.8 Nb1.27 W1.2 Mo1 Al5.26 Sn3.49 Si0.37",
          "Li25.33 Ca0.33 Mg30 Al10 Si1",
          "Cr1 Fe1 Co1 Ni1 Cu1 Al1.8",
          "Ti2.4 Cr2 Fe2 Co2 Ni2 Cu2 Al1",
          "Zr8.5 Ti8.5 Ta1 Nb1 Mo1",
          "Ti2 Ta1 Nb1 V1 Mo1",
          "Mo45.5 B1 Si3.5",
          "Cr1 Fe1 Co1 Ni2 Al1",
          "Ti1 Nb1 W2",
          "Cr5.17 Fe1.5 Co1.67 Ni1.33 Cu1 Al6",
          "Zr1 Ti1 Nb1 Al1",
          "Zr2 Ti2 Ta1 Nb2 Al1",
          "Ti1 Cr5 Fe5 Co5 Ni5 Al9",
          "Mo1 Cr2 Fe2 Co2 Ni2",
          "Ta1 Nb1 W3 Mo1",
          "Zr5 Ti5 Ta2.5 Nb5 Al1",
          "Zr2.25 Ti2.25 Ta2.25 Nb2.25 Mo1",
          "Ti1 Ta4 V5 W2",
          "Fe1 Co1 Ni1 Cu1",
          "Ta1 Nb2 W2 Mo2 Re1 C1",
          "Cr1 Fe1 Co1 Cu1 Al2.5",
          "Hf1 Zr1 Ti1 V1 Mo1",
          "Zr1 Ti30 Nb54 Al15",
          "Ti1 Cr2.5 Fe2.5 Ni2.5",
          "V2 Fe2 Co2 Ni2 Cu1",
          "Cr1 Fe1 Co1 Cu1",
          "Ti1 Ta2 Nb2 W2 Mo2",
          "Cr4.2 Fe1.6 Co4.6 Ni1 Al8.6",
          "Cr2.33 Mn2.33 Fe2.33 Co2.33 Ni2.33 Al1",
          "Ti1 Cr1.33 Fe1.33 Co1.33 Ni1.33 Al1.6",
          "Mn5 Fe5 Co5 Ni5 Cu5 Sn1",
          "Cr1 Fe1.99 Co1 Ni1 Cu1",
          "Mo1 Cr4.96 Fe4.96 Ni4.96 Al4.96",
          "Hf1 Zr1 Ti1 Ta1 Nb1",
          "Cr1 Fe1 Co1 Ni1",
          "Mg1 Cr1 Cu1 Zn1 Al13 Si3",
          "Cr1 Fe1 Co1 Ni1 Al2.99",
          "Fe1 Co1 Ni1.5 Cu1 Al1",
          "Ti2 Nb2 V2 Mo2 Cr2 Al1",
          "W1 Cr2 Fe2 Co2 Ni2",
          "Mn3 Ni3 Cu3 Sn1",
          "Ti4.4 Nb11.4 Mo1 Si3.2",
          "Cr1 Mn1 Fe1 Cu1 Al1",
          "Hf2.5 Zr2.5 Ti1.14 Ta1",
          "Ti1 Nb3 W1 Ru1",
          "Hf4 Zr4 Ti3 Ta1 Nb4",
          "Li2.5 Mg5 Zn2.5 Al5 Sn1",
          "Zr0.08 Ti1 Mo98.79 C0.13",
          "Zr1 Ti1 Ta1 Nb1",
          "Ta1 V1 W1 Cr1",
          "Cr1 Mn1 Fe1 Co1 Ni1 Al1",
          "Hf1 Zr1 Ti1 Ta1 Nb1 V1 W1 Mo1",
          "Cr2 Fe2 Co1 Ni2 Cu1 Al2",
          "V1 Cr3.8 Mn3.8 Fe3.8 Co3.8 Ni3.8",
          "Cr2 Fe2 Co4 Ni2 Cu1 Al2",
          "V2.5 Mo1 Fe5 Co5 Ni10",
          "W1 Cr1.62 Mn1.62 Fe1.62 Co1.62 N1.62",
          "Zr9 Ti9 Nb1 Mo1",
          "Zr1 Ti1 Nb1 V1 Mo2",
          "Ti1 Nb2 Cr2 Al45",
          "Cr3.98 Fe4.96 Co3.98 Ni4.96 Al1",
          "V1.5 Cr1 Fe1 Co1 Ni1",
          "Cr6.34 Fe6.34 Co6.34 Al1",
          "Nb1 Cr3.24 Fe3.24 Co3.24 Ni3.24",
          "Ti1 V2 Mo2 Cr2 Fe2",
          "Cr1 Fe1 Ni1.94 Cu1 Al1",
          "Nb1 V1 Mo1 Cr1 Fe1",
          "Cr1.99 Fe1 Co1 Ni1 Cu1",
          "Cr1.25 Fe1.25 Co1.25 Ni1.25 Al1.25 Si1",
          "Cr1 Fe1 Co1 Ni1 Cu1",
          "Nb7.5 Fe1 Co1 Ni1 Cu1",
          "Ti40 Nb1 Al5 Si15",
          "Mo109.94 B0.17 Si1",
          "Ti1 Ta1 V1 W1",
          "Mo10.17 B1 Si5.5",
          "Hf10 Ti33 Nb1 Si16",
          "Nb1 Cr4 Fe4 Co4 Ni4 Al4",
          "Ti2 Nb2 V2 Mo2 Al1",
          "Ti2 Nb2 V2 Mo1",
          "Cr1 Fe1 Co1 Ni1.96 Al1",
          "Mo1 Cr2.5 Fe11 Co3.5 Ni2",
          "Ti1 Cr5 Fe5 Co5 Ni5 Cu5 Al2.51",
          "Cr6.72 Mn6.72 Fe6.72 Ni10.09 Cu1",
          "Cr1 Fe1 Co1 Cu1 Al2.3",
          "Zr1 Ti1 Nb1 V1 Al1",
          "Cr1 Fe1 Ni1 Cu1 Al1.99",
          "Mo1 Cr2 Fe1.2 Co2 Ni2 Al2",
          "Nb1 W1 Mo1",
          "Zr1 Ti3.35 Nb3.35 V2.01 Mo3.35 Cr1",
          "Ti1 Nb1 V1 Mo1 Al1.5",
          "Cr1 Fe1 Co1 Ni1 Ge1",
          "Ti1 Cr2 Fe2 Co2 Ni2 Cu2",
          "Zr2 Ti2 Ta1 Nb2 Mo1 Al2",
          "Cr1 Fe1 Co1 Cu1 Al1",
          "Cr2.01 Fe1 Co2.01 Ni2.01 Cu1 Al6.04",
          "Ti2 Nb2 V2 Mo1 Cr3",
          "Mo1 Cr2 Fe2 Co2 Ni2 Al3",
          "Ti1 Nb1 V1 Mo1 Al1",
          "Mo14.33 B1.33 Si1",
          "Mo1 Cr2 Fe2 Co2 Ni4 Al2",
          "Cr3 Fe2 Co3.6 Ni1 Cu1 Al9.4",
          "Zr3.33 Ti3.33 Nb3.33 V1 Mo1",
          "Re1 Co3.33 B2.33",
          "W1 Fe1.8 B1.2",
          "Hf2.5 Zr3 Ti2 Nb1.5 V1",
          "Cr1.67 Mn1 Fe1.67 Co1.67 Ni1.67 Al1.67",
          "Ti1 Cr5.05 Fe5.05 Co5.05 Ni5.05 Al5.05",
          "Cr1.67 Fe1.67 Co1.67 Ni1.67 Al1.67 Si1",
          "Fe1.33 Co1.33 Ni1.33 Si1",
          "Cr2.5 Fe2.5 Ni5 Cu2.5 Al1",
          "Ta2.67 Nb1 V2.33 W2",
          "Mo1 Cr10 Fe10 Co30 Ni31 Al18",
          "Cr1 Mn4 Fe4 Co1",
          "Zr3.33 Ti3.33 Nb3.33 V1 Mo2.33",
          "Ti1.5 Mo1 Cr2 Fe2 Ni2 Al2",
          "Li1 Mg1 Zn1 Al16 Sn1",
          "Mo1 Cr5 Fe5 Co5 Ni5 Al5",
          "Ti1 Nb1 V1 Cr1 Al1",
          "Cr1.67 Mn1 Fe1.67 Co1.67 Pd1.67 Ni1.67",
          "Cr4.76 Fe4.76 Co4.76 Ni1 Al4.76",
          "W1 Cr3.8 Mn3.8 Fe3.8 Co3.8 Ni3.8",
          "Ti1 Ta1 Mo1 Cr1 Al1",
          "Mn20 Fe20 Co20 Ni20 Cu20 Sn1",
          "Zr2 Ti2 Nb2 V1 Mo2",
          "W12 Cr1 Fe1.29",
          "Cr1.13 Mn1.13 Fe1.13 Co1.13 Ni1.13 Al1",
          "Hf1 Zr1 Ti1 Ta1 Mo1",
          "Zr1 Ti1.94 Ta1.31 Nb2.14 Mo1.22 Al1.99",
          "Ta1.09 Cr1.82 Mn1.82 Fe1.82 Co1.82 Ni1.82 Al1",
          "Ta1.43 Nb1.38 V1 W1.02",
          "Cr4.76 Fe4.76 Co1 Ni4.76 Al4.76",
          "Ti1 Ta1 V1 Mo1",
          "Ti1 Cr1.25 Fe1.25 Co1.25 Ni1.25 Al1.5",
          "Cr1 Mn1 Fe1 Ni1",
          "V1 Fe1 Co1 Ni1",
          "Ti1 Cr2 Fe2 Ni2",
          "Cr2.01 Fe2.01 Co3.01 Ni2.01 Cu1 Al2.01",
          "Mo1 Cr2.01 Fe3.01 Co2.01 Ni2.01 Al2.01",
          "Ti1 V1 Cr1 Mn1 Fe1 Co1 Ni1 Cu1 Al5.33",
          "Ti1.33 Nb1.33 V1.33 Mo1.33 Al1",
          "Ti10 Ni9 C1",
          "Cr4 Fe1 Ni3.57 Cu4.14 Al1.57",
          "Cr5.05 Fe5.05 Ni10.13 Cu5.05 Al1",
          "Ti1 Cr5 Fe5 Co5 Ni5",
          "Cr1.89 Fe1.89 Co1.89 Ni1",
          "Mo1 Cr1.5 Fe2 Co3.5 Ni2",
          "Nb1 Mo29.89 B2.85 Si3.3",
          "Cr2.5 Fe2.5 Co2.5 Ni2.5 Al2.5 Si1",
          "Ti1 Nb1 V1 Cr1 Ni1",
          "Sc1 Hf1 Zr1 Ti1",
          "Hf1 Zr2 Ti4 V2",
          "Cr3.34 Mn1 Fe3.34 Co3.34 Ni3.34 Al1",
          "Cr2 Fe2 Co2 Ni2 Cu1.51 Al1",
          "Ti1 V1 Cr1 Mn1 Fe1 Co1 Ni1 Cu1",
          "Mo31.33 B1 Si1",
          "Ti1 Cr2 Fe2 Ni2 Cu2 Al2",
          "Ti2 Nb2 W1",
          "Ti1 Ta1 Nb1 W1",
          "Nb1 Cr5 Fe5 Co5 Ni10.5",
          "Cr1.67 Fe1.67 Ni3.33 Cu1.67 Al1",
          "Ti1 Cr1 Fe1 Co1 Ni1 Cu1 Al1",
          "Cr1 Fe1 Co1 Ni1 Al1.5",
          "Ta3 Co28.5 Ni1 B17.5",
          "Cr2 Fe2 Co2 Cu1 Al2",
          "Ta1 W3 Mo1 Re1",
          "Ti1 Cr2 Fe2 Co2 Ni2 Al1.8",
          "Cr1.14 Fe1.14 Co1.14 Ni1.14 Al1",
          "W2.69 Fe2 Co1 Ni2",
          "Ti2 Cr4 Fe4 Co4 Ni4 Cu1 Al3",
          "Ta1 Nb1 Mo1",
          "V1 Cr5 Fe5 Co5 Ni5 Cu5 Al2.5",
          "Mo11.4 B1 Si7.4",
          "Hf5 Zr10 Ti10 Nb10 Mo5 Si1",
          "Ti2 Nb2 V2 Mo1 Cr4",
          "Ta1 Nb1 V1 W1 Mo1 Cr1 Re1",
          "Hf3.33 Zr3.33 Ti3.33 Ta3.33 Nb3.33 Al1",
          "Fe1.05 Co1.05 Ni2.16 Al1",
          "Cr1 Fe1 Co1 Ni1 Al6",
          "Cr2.5 Mn1 Fe2.5 Co2.5 Pd2.5 Ni2.5",
          "Cr1 Mn1 Fe1 Co1 Ni1 Al1.25",
          "Ti5.03 Cr5.03 Fe5.03 Co7.56 Ni7.56 Al1",
          "Cr2 Fe2 Ni2 Cu2 Al1",
          "Cr1 Fe1 Co1 Ni1 Al2.5",
          "Zr5 Ti7.5 Ta4 Nb5 V1 Al2.5",
          "Cr2.86 Fe1.71 Co2.57 Ni1 Al6.14",
          "W1 Mo1 Cr2 Co4 Ni4",
          "W1 Fe1.64 B1",
          "Ti1 Nb1 W1",
          "Ti2 V2 Cr2 Fe2 Ni2 Cu2 Al1",
          "Ti2 Nb2 V2 Mo1 Cr2",
          "Zr1 Ti1 Nb1 V1 Mo1",
          "Cr3.33 Mn3.33 Fe3.33 Co3.33 Ni3.33 Al1",
          "Zr1 Ti1 Nb1 V2 Mo1",
          "Cr2 Mn2 Fe2 Ni2 Al1",
          "Hf8.08 Zr8.08 Ti8.08 Nb8.08 Al1",
          "Cr3.33 Fe3.33 Co3.33 Ni3.33 Al1",
          "V1 W3 Mo5 Re3",
          "Hf1 Zr1 Ti1 Ta1 Nb1 V1 Mo1",
          "Fe1 Co1.99 Ni1 Cu1 Al1",
          "Ti1.99 V1 Mo1 Cr1 Fe1",
          "Ta1 Nb1 W9 Re1",
          "Cr1 Co9.5 Ni9.5",
          "Cr1 Fe2.99 Co1.99 Ni1 Cu1.99 Al5.97",
          "Cr1 Co1 Ni1 Cu1 Al1",
          "Ti1 Nb2 W2 Ru1",
          "Cr1 Fe1 Ni1",
          "W1 Ir7.33 Al1.19",
          "Hf2.8 Zr0.01 Ti0.8 Ta6.6 W18.8 Mo1 Cr16.2 Co18.6 Ni123 Al11.4 B0.03 C0.14",
          "Ta1 V1 W9 Mo1",
          "Cr1 Fe2 Co2 Ni1 Cu1 Al6",
          "Ti1 Ta2 Nb2 V2 Mo2",
          "Cr1 Fe1 Co1 Cu1 Al2.8",
          "Cr2 Fe2 Co2 Ni2 Cu1 Al2",
          "Cr3.2 Fe2 Co3.4 Ni1 Cu1 Al9.4",
          "Hf1 Zr1 Nb1 V1 Mo1",
          "Cr1 Fe1 Co1 Ni1.5 Al1",
          "Zr1 Ti1.5 Nb1 V1",
          "Hf1 Zr2 Ti3 Ta1 Nb1",
          "Cr18.53 Mn17.98 Fe17.89 Co17.89 Ni18.44 C1",
          "Cr1 Fe1 Ni2.01 Cu1 Al2.5",
          "Ti1 Co1 Ni1 Al1",
          "Cr5 Fe1 Co13 Ni1",
          "Ti1 Nb1 V1 Mo1 Fe1",
          "Zr1 Ti2 Nb2 V2 Al2",
          "Ti1 Fe1 Ni1 Al1",
          "Cr1.05 Mn1.05 Fe1.05 Co1.05 Ni1.05 Al1",
          "Ti1.2 Cr2 Fe2 Co2 Ni2 Cu2 Al1",
          "Ta1.5 W8 Mo1.5 Re1",
          "Zr2 Ti2 Nb1 V1",
          "Fe1.33 Co1.33 Ni1.33 Al1",
          "Hf1 Ti1 Nb1 V1",
          "Ti2 V2 Fe2 Co2 Ni2 Cu1",
          "Ta4 Nb4 W4 Mo4 Si1",
          "Cr1 Fe1.94 Ni1.94 Al1",
          "Cr9.8 Mn9.8 Fe9.8 Co9.8 Ni9.8 C1",
          "Hf1 Zr1 Ti1",
          "V1 Cr1.33 Mn1.33 Fe1.33 Co1.33 Ni1.33",
          "W1 Cr2 Mn2 Fe2 Cu2 Al2",
          "Cr3.33 Fe3.33 Co3.33 Cu3.33 Al1",
          "Mo1 Cr2 Fe2 Co2 Ni1 Al2",
          "Ti1 Cr5 Fe5 Ni5",
          "Ti1 Nb2 Mo2 Cr2 Co2",
          "Ti4 Nb4 V4 Mo4 Al1",
          "Nb1 W3 Mo1 Ru1",
          "Mo1 Cr3.29 Fe3.29 Co3.29 Ni3.29",
          "Li2.5 Mg5 Cu2.5 Al5 Sn1",
          "V1 Cr4 Mn4 Fe4 Co4 Ni4",
          "Ta2 Nb2 W1 Mo1",
          "Hf1 Ti2 Nb2 Mo1",
          "Ti33 Nb1 Si16",
          "Cr3.4 Fe2.8 Co3 Ni1.2 Cu1 Al8.6",
          "Cr1 Fe1 Co1 Cu1 Al1.3",
          "V2.39 Cr1.99 Fe1.99 Co1.99 Ni1.99 Cu1.99 Al1",
          "Cr2 Fe2 Co2 Ni2 Cu2 Al1 B1.2",
          "Mo1 Cr1 Fe1 Ni1 Al1",
          "Cr1.67 Fe1.67 Ni4 Al1",
          "Zr1 Ti1 Nb1 V3 Mo1",
          "Mn3 Ni3 Cu3 Al1",
          "W1 Fe2.1 Ni4.9",
          "Mo1 Cr1.25 Fe1.25 Ni1.25 Al1.25",
          "Re1 Co1.6 B1.4",
          "Ti1 Cr2 Fe2 Co2 Ni2 Cu1 Al1",
          "Ti1 Nb1 Mo1 Cr1",
          "Cr2.25 Fe2.25 Co2.25 Ni1 Al2.25",
          "Cr1.42 Fe1.42 Co1.42 Ni1 Al1.42",
          "Ti2 V3 Mo1 Cr2 Al2",
          "Ti1 Cr12 Fe12 Co12 Ni12 Al2",
          "Hf1 Zr1 Ti1 Nb1 V1",
          "Ta1 W1 Mo1",
          "Ti1 V1 Cr1 Mn1 Fe1 Co1 Ni1 Cu1 Al2",
          "Ta1 Nb2 W2 Ru1",
          "Ti1 Cr5 Fe5 Co5 Ni5 Al4",
          "Cr1 Fe1 Co1 Ni2.22 Al1",
          "Cr2 Mn2.5 Fe4 Ni1.5 Al1",
          "Zr1 Ti1 Ta1 V1 Mo1",
          "Cr1.25 Fe1 Co1.75 Ni1",
          "Zr2 Ti1 Nb1 V2",
          "Mo1 Cr3.33 Fe1 Co5.67 Ni5.67",
          "Ti1 Fe1 Co1 Ni1 Cu1 Al1",
          "Zr1 Ti4 Nb3 Cr2",
          "Hf2 Zr2 Ti2 Nb1 Mo2",
          "Ti9.75 Ta1 Nb7.75 W1 Co5.5",
          "Cr1.43 Fe1.43 Co1.43 Ni1.43 Al1",
          "Mo1 Cr3.33 Fe3.33 Co3.33 Ni3.33 Al3.33",
          "Ti4 Cr2 Fe2 Co2 Ni2 Cu2 Al1",
          "Zr1.99 Ti2.18 Ta1.39 Nb2.5 Mo1.14 Al1",
          "Fe1 Co1 Ni1 Cu1 Al1 Si1",
          "Hf2 Zr2 Ti2 Ta2 Nb2 Mo1",
          "Cr1.5 Fe2.5 Co2.5 Ni2.5 Al1",
          "Cr1 Fe1 Ni2 Cu1 Al2.5",
          "Zr1 Ti1 V1 Fe1 Ni1 Al1",
          "Cr2.01 Fe3.01 Co2.01 Ni2.01 Cu1 Al2.01",
          "Ti41.7 Ta2.06 Nb14.06 Fe1",
          "Cr1 Fe1 Co1 Cu1 Al2",
          "V1 Mo1 Fe1 Co1 Ni1.6",
          "Zr4.17 Ti4.17 Nb4.17 V4.17 Al1",
          "V1 Cr1 Fe1 Co1 Ni1 Cu1 Al1",
          "Ti1 Cr1 Fe1 Co1 Ni1",
          "Zr0.05 W26.69 Re1 C0.05",
          "Cr4.76 Fe1 Co4.76 Ni4.76 Al4.76",
          "Cr1 Fe2.25 Co2.25 Ni2.25 Cu2.25",
          "Ti1 Cr1 Ni1 Cu1 Al1",
          "Ti1.5 Cr1.25 Fe1.25 Co1.25 Ni1.25 Al1",
          "Cr1.67 Fe1.67 Co1.67 Ni1.67 Al1",
          "Fe1 Co3 Ni1 Cu1 Al1",
          "Mo7.38 B1 Si4.12",
          "Hf2 Ti2 Nb2 V1 Mo1",
          "Cr1 Fe1 Ni2 Cu1 Al1.8",
          "Hf1.5 Ti2.5 Ta1 V7",
          "Zr1 Ti1 Nb1",
          "Mo1 Cr3.33 Fe3.33 Co10 Ni9.67 Al6",
          "Cr1 Fe1 Co1 Ni1 Cu1 Al1",
          "Zr2 Ti2 Ta1 Nb2 Mo1 Cr2",
          "Cr1 Fe1 Co1 Ni4 Al1",
          "Zr3.33 Ti3.33 Nb3.33 V3.33 Mo1",
          "Hf0.02 Cr1.91 Fe4.85 Co1 Ni5.09 Al6",
          "Hf1.83 Zr1.83 Ti1.83 Nb1.83 Al1",
          "Cr3.34 Mn2 Fe3.34 Co3.34 Ni3.34 Al1",
          "Zr1 Ti1.33 Nb1",
          "Ti1 Cr2.5 Fe2.5 Co2.5 Ni2.5 Cu2.5 Al1.25",
          "Cr1 Mn1 Co1 Ni1",
          "Ti2.76 Nb1 Al1",
          "Mo1 Cr2 Fe2 Co2 Ni2 Al2",
          "Ti27.19 V1 Al3.22",
          "Hf1 Zr1 Ti1 Nb1 O1.5",
          "Ti19.07 Ta1 Nb6.81 Fe1.46",
          "Ta1.33 Nb1.33 W1.33 Mo1.33 Si1",
          "Nb1 Mo1 Cr1 Al1",
          "W4.29 Fe5.43 B3.57 C1",
          "Mo1 Cr10.17 Fe10.17 Co10.17 Ni10.17",
          "Cr4.8 Fe2 Co3.6 Ni1 Al8.6",
          "Ti1 Cr2 Fe2 Co2 Ni2",
          "V1 Cr3.96 Mn3.96 Fe3.96 Co3.96 Ni3.96",
          "Cr1 Mn1 Fe1 Co1",
          "Cr1 Fe1 Ni1 Cu1 Al1",
          "Cr2.01 Fe2.01 Co2.01 Ni3.01 Cu1 Al2.01",
          "V1 Cr2.49 Fe2.49 Co2.49 Ni2.49 Cu2.49 Al1.25",
          "Mo40.5 B1 Si8.5",
          "Hf1 Zr1 Nb1",
          "Zr1 Ti2 Ta2 Nb3",
          "Cr1 Fe1 Ni3 Cu1 Al1",
          "Cr2 Fe2 Co2 Ni2 Al2 C1",
          "Cr1 Fe1 Co1 Ni1 Cu1 Al2.3",
          "W30 Fe1 Ni2.33",
          "Cr1 Mn1 Fe1 Co1 Ni1 Cu1 Al1",
          "Cr1 Fe2 Co2 Ni2 Cu1 Al2",
          "Cr1 Fe2 Ni2 Al1",
          "Cr1 Fe1 Ni2 Cu1 Al1.2",
          "Ti8 Nb8 Al1 Si3",
          "Cr4.76 Fe4.76 Co1 Ni4.76 Cu4.76",
          "W1 Fe1.33 B1",
          "Cr1 Co1 Ni1 Cu1 Zn1",
          "Mn1 Fe1 Ni1",
          "Hf5 Zr10 Ti10 Nb10 Mo5 C1",
          "Ti3.98 Cr3.98 Fe3.98 Ni3.98 Cu1",
          "W3 Mo5 Re3 Ru1",
          "Zr10 Ti10 Nb10 V3 Mo1",
          "Mo1 Cr2 Fe2 Co3 Ni2 Al2",
          "Ti1 W1 Mo1 Cr1 Al1",
          "Cr1.33 Fe1.33 Co1 Ni1.33 Al1.33",
          "Cr9.8 Mn9.8 Fe9.8 Co9.8 Ni9.8 Al1",
          "Nb1 Cr2.43 Fe2.43 Co2.43 Ni2.43",
          "Cr4.6 Fe1.4 Co4.4 Ni1 Al8.6",
          "Cr3.6 Fe1 Co5.8 Ni1 Al8.6",
          "Zr3.33 Ti3.33 Nb3.33 V1 Mo5",
          "Zr0.09 Ti1 Mo97.63 B14.23 C3.33",
          "Y1 Sc1 Hf1 Zr1 Ti1",
          "Ti1.47 Nb3.13 Mo1 Si1.07",
          "Cr3.33 Fe3.33 Ni6.67 Cu1.67 Al1",
          "Hf1 Zr1 Ti1 Nb1 O2",
          "Cr1 Fe1 Co1 Ni1 Cu1 Al3",
          "Ti4.75 Nb4.75 W4.75 Mo4.75 Cr1",
          "Cr1 Fe1 Ni2 Cu1 Al1",
          "V3.6 Cr2 Fe2 Co2 Ni2 Cu2 Al1",
          "Cr3.14 Fe1.14 Co2.86 Ni1 Al6.14",
          "Y1 Ti1.25 Cr1.25 Co1.25 Ni1.25 Cu1.25 Al1.25",
          "Fe12.33 Co8.52 Ni8.52 Al6.7 C1",
          "Cr10.17 Fe10.17 Co10.17 Ni10.17 Al1",
          "Hf3.38 Ti3.38 Nb3.38 V1.68 Mo1.68 Si1",
          "Zr1 Mo82 B8 Si9",
          "Zr2.59 Ti2.53 Ta1 Nb2.89",
          "Cr1 Fe1 Co1 Pd1 Ni1",
          "Mo4.64 B1 Si1.5",
          "Cr2.67 Fe2.67 Co2.67 Ni2.67 Al1",
          "Cr3 Fe3 Co3 Al1",
          "Ti1 V1 Cr1 Mn1 Fe1 Co1 Ni1 Cu1 Al1",
          "Cr4.75 Fe4.75 Co4.75 Ni9.25 Cu1 Al1",
          "Hf18.27 Zr18.27 Ti18.27 Ta4.35 Nb4.35 Mo1",
          "Y1 Ti2 Cr2 Co2 Ni2 Cu2 Al2",
          "Cr1 Fe1 Co1 Ni1.99 Cu1",
          "Ti1 Mo1 Cr2 Fe2 Ni2 Al2",
          "Ti1 W38 C1",
          "Cr4 Fe2.2 Co2.4 Ni1 Cu1 Al9.4",
          "Mo82 B1 Si16",
          "Mo6.18 B1.91 Si1",
          "W1 Fe1.45 B1.18",
          "Hf1 Zr2 Ti2 Nb2 Mo2",
          "Cr2.25 Fe1 Co2.25 Ni2.25 Cu2.25",
          "Hf1 Zr1 Ti1 Ta1 Nb1 V1",
          "Mo1 Cr2 Fe4 Co2 Ni2 Al2",
          "Ti1 Cr3.33 Fe3.33 Ni3.33",
          "Cr4 Fe5 Co5 Ni5 Al1",
          "Cr9.8 Fe9.8 Co9.8 Ni9.8 Cu1 Al9.8",
          "Cr2 Fe2 Co2 Cu2 Al1",
          "Cr5 Fe1 Co4.4 Ni1 Al8.6",
          "Mo89 B1 Si10",
          "W1 Cr6.47 Mn6.47 Fe6.47 Co6.47 Ni6.47",
          "Hf3.32 Zr3.32 Ti3.32 Nb3.32 Al1",
          "Ta1.62 Nb1.57 V1 W1.56 Mo1.54 Cr1.47",
          "Ti3.44 Nb2.06 V1 Cr1 Ni1.5 Al1",
          "Mn6.34 Ni6.34 Cu6.34 Al1",
          "Ti20.83 Ta1 Nb6.83",
          "Zr2 Ti2 Ta1 Nb2 Mo1 Al1",
          "V2.4 Cr2 Fe2 Co2 Ni2 Cu2 Al1",
          "Cr1 Mn1 Fe6 Co6 Ni6",
          "Ti1 Ta1 Nb1 W1 Mo1",
          "Hf1.33 Zr1.33 Ti1.33 Ta1.33 Nb1.33 Al1",
          "Nb1 Cr24.6 Mn24.6 Fe24.6 Co24.6 Ni24.6 C1",
          "V2.5 Mo1 Fe2.5 Co2.5 Ni2.5",
          "Ti4 Nb2 V1 Cr2 Al1",
          "Cr7 Fe1 Ni5 Cu5 Al2",
          "Cr1 Fe1 Ni1 Al1",
          "W2.14 Fe2 Co1 Ni2",
          "Cr2.49 Fe3.74 Ni1.25 Al1",
          "Sc1 Hf1 Zr1 Ta1 Mo1",
          "Cr1 Fe1 Ni1.99 Cu1 Al1",
          "Nb1 Cr2.5 Fe2.5 Co2.5 Ni5.25",
          "Cr1.42 Fe1.42 Ni2.85 Cu1.42 Al1",
          "Nb1 V1 W1 Ru1",
          "Cr1.33 Mn1.33 Fe1.33 Co1.33 Ni1.33 Al1",
          "V1 Co1 Ni1",
          "Cr2.04 Mn2.04 Fe2.04 Co2.04 Ni2.04 Al1",
          "Ti3.33 Ni2.33 C1",
          "Li1 Mg1 Zn1 Al1 Sn1",
          "Cr1.89 Fe1.89 Co1.89 Al1",
          "Cr1.81 Fe1.54 Co1.54 Ni1.81 Al1",
          "Ti1 Cr3.33 Fe3.33 Co3.33 Ni3.33",
          "Hf1 Zr1 Ti1 Nb1 O1",
          "Cr2.88 Fe1.88 Co1.88 Ni2 Cu1 Al2.88",
          "Cr1 Fe1 Co1 Ni1 Cu1 Al2",
          "W30.51 Fe1 Ni2.3",
          "Mo1 Cr1 Fe1 Ni1 Cu1",
          "Cr1 Co2 Ni2",
          "Cr1.14 Mn1.14 Fe1.14 Co1.14 Ni1.14 Al1",
          "Ti23.3 V1 Al2.76",
          "Cr1 Fe2 Co2 Ni2 Al1",
          "Cr10 Fe10 Co10 Ni10 Al10 C1",
          "Ta1 W3 Mo1 Ru1",
          "Ti1 Ta1.33 Nb1.33 W1.33 Mo1.33",
          "Zr1 Mo40.5 B4 Si4.5",
          "Cr2.01 Fe2.01 Co1 Ni2.01 Cu1 Al6.04",
          "Ta1 Co7.12 B4.38",
          "Cr2.62 Mn2.62 Fe2.62 Co2.62 Ni2.62 Al1",
          "Ti1.34 Cr1.34 Fe1.34 Ni1.34 Cu1",
          "Zr1 Ti1 Nb1 V1.5 Mo1",
          "Y1 Mo7 Cr7.5 Fe20.5 Co3.5 B3 C7.5",
          "V1 Mo1 Cr1 Fe1",
          "Mo4 B1 Si1.25",
          "Cr1.47 Mn1.47 Fe1.47 Co1.47 Ni1.47 Al1",
          "Cr1 Co1 Ni1 Al1",
          "V1 Cr1.31 Mn1.31 Fe1.31 Co1.31 Ni1.31",
          "Ta1 Nb1 V1 Mo1",
          "Cr1 Fe1 Ni1 Cu1",
          "Hf1 Zr1.5 Ti1 Nb1 Mo1",
          "Ti1 Nb1 V1 Cr1 Ni1 Al7",
          "Ti1 Nb1 V1 Cr1 Ni1 Al10",
          "Cr1.43 Fe1.43 Ni2.86 Cu1.43 Al1"
         ],
         "legendgroup": "clustered",
         "marker": {
          "color": "#2E91E5",
          "symbol": "circle"
         },
         "mode": "markers",
         "name": "clustered",
         "showlegend": true,
         "type": "scattergl",
         "x": [
          63.904541015625,
          13.699746131896973,
          40.18019485473633,
          -63.731353759765625,
          30.987247467041016,
          62.848106384277344,
          -57.388729095458984,
          -10.466943740844727,
          28.46366310119629,
          -6.513219356536865,
          36.91276550292969,
          -80.65398406982422,
          30.045347213745117,
          11.526615142822266,
          53.53002166748047,
          -24.352088928222656,
          4.895731449127197,
          18.18560028076172,
          61.0294075012207,
          -35.22917175292969,
          -2.9602980613708496,
          -0.7063202261924744,
          45.72334671020508,
          -55.76832580566406,
          37.11406707763672,
          46.04065704345703,
          -28.390363693237305,
          32.83129119873047,
          -57.937591552734375,
          15.958902359008789,
          62.93837356567383,
          35.005096435546875,
          89.3991928100586,
          69.59918212890625,
          -49.31209945678711,
          -35.73922348022461,
          -22.180322647094727,
          -41.46946334838867,
          32.535308837890625,
          -45.67291259765625,
          5.8615522384643555,
          12.407003402709961,
          -26.880929946899414,
          -2.107565402984619,
          31.903236389160156,
          -28.16283416748047,
          -74.91107177734375,
          45.08665466308594,
          38.99895477294922,
          10.811907768249512,
          -25.650209426879883,
          -2.8570337295532227,
          -15.239076614379883,
          -16.99290657043457,
          -82.82658386230469,
          -47.92549133300781,
          -47.53269958496094,
          28.00874137878418,
          -8.648494720458984,
          -53.88550567626953,
          -48.938804626464844,
          -38.8458251953125,
          48.70133972167969,
          72.76622772216797,
          58.942138671875,
          16.8709774017334,
          81.33956146240234,
          7.690859317779541,
          13.890068054199219,
          -32.77231979370117,
          -2.558803081512451,
          32.88703155517578,
          -7.227632999420166,
          40.5185432434082,
          5.564004421234131,
          13.748884201049805,
          -80.41146850585938,
          50.74112319946289,
          46.33803176879883,
          -9.744912147521973,
          -43.296234130859375,
          -79.58108520507812,
          -0.5050848722457886,
          2.5604748725891113,
          4.479330062866211,
          20.44156265258789,
          12.305943489074707,
          -15.596674919128418,
          -57.25978088378906,
          46.371559143066406,
          -16.67597198486328,
          -32.535709381103516,
          -8.727391242980957,
          47.965572357177734,
          -35.91059494018555,
          35.95842361450195,
          -80.39456939697266,
          14.348682403564453,
          -16.24266815185547,
          14.105193138122559,
          -58.85038757324219,
          -19.412817001342773,
          51.41034698486328,
          29.065227508544922,
          -2.9271764755249023,
          37.79539108276367,
          -32.997215270996094,
          -70.6781997680664,
          71.96665954589844,
          48.41065216064453,
          -58.73896026611328,
          62.744728088378906,
          11.998027801513672,
          11.275165557861328,
          45.87312698364258,
          9.461212158203125,
          11.764618873596191,
          47.382503509521484,
          -13.010985374450684,
          53.4451789855957,
          -82.86824035644531,
          25.067983627319336,
          57.61391067504883,
          -30.326290130615234,
          45.69035720825195,
          -30.00908660888672,
          -60.99555969238281,
          -16.689342498779297,
          64.19735717773438,
          -13.7831449508667,
          -3.4335808753967285,
          -4.14647912979126,
          -2.8812415599823,
          -8.40758228302002,
          54.76993942260742,
          -29.279260635375977,
          45.948814392089844,
          -94.7887191772461,
          -1.9583830833435059,
          23.685283660888672,
          24.897911071777344,
          -9.17744255065918,
          31.013071060180664,
          -27.878448486328125,
          -28.596952438354492,
          -29.716367721557617,
          52.27861404418945,
          -21.693801879882812,
          29.00003433227539,
          51.379180908203125,
          -11.70617961883545,
          61.079219818115234,
          -37.3541259765625,
          -49.71026611328125,
          -25.221410751342773,
          -6.992440223693848,
          -82.1458511352539,
          56.532493591308594,
          4.397024631500244,
          -55.796730041503906,
          -1.1938673257827759,
          24.128332138061523,
          -13.011540412902832,
          39.45489501953125,
          -47.852325439453125,
          42.16374969482422,
          -1.413285732269287,
          -48.593650817871094,
          -35.200618743896484,
          -36.15183639526367,
          62.49644470214844,
          -3.0674827098846436,
          -48.54467010498047,
          -79.6185302734375,
          80.66389465332031,
          -63.49031066894531,
          11.10722827911377,
          -64.77540588378906,
          35.1191520690918,
          -52.781551361083984,
          34.238529205322266,
          -49.15623092651367,
          -35.77947235107422,
          -1.3398958444595337,
          -12.697256088256836,
          53.52536392211914,
          -6.994917392730713,
          -35.564231872558594,
          -45.54707336425781,
          -73.95654296875,
          38.76161575317383,
          -33.59772872924805,
          -55.27959060668945,
          -39.47940444946289,
          -16.540912628173828,
          47.26481628417969,
          50.493812561035156,
          -47.40877914428711,
          -7.332780838012695,
          -3.966423511505127,
          43.148963928222656,
          -4.4557647705078125,
          27.352108001708984,
          -48.600440979003906,
          -58.650352478027344,
          14.606755256652832,
          40.46967315673828,
          -26.58110237121582,
          -19.177682876586914,
          -51.143585205078125,
          43.50644302368164,
          -29.26534080505371,
          54.03947830200195,
          -55.621795654296875,
          -48.50870895385742,
          27.863311767578125,
          22.614151000976562,
          20.428035736083984,
          54.83674621582031,
          -41.69325637817383,
          -11.335315704345703,
          -61.53981018066406,
          -61.62699508666992,
          3.2931203842163086,
          -8.674799919128418,
          32.272647857666016,
          -11.285247802734375,
          -10.715850830078125,
          37.31597900390625,
          -6.993449687957764,
          36.6359748840332,
          23.860715866088867,
          -7.425867557525635,
          25.541339874267578,
          -78.52131652832031,
          -13.990354537963867,
          23.1359806060791,
          -87.8453140258789,
          76.5988540649414,
          81.56907653808594,
          -28.096853256225586,
          -43.83932876586914,
          61.70250701904297,
          -70.9517593383789,
          -42.92323684692383,
          -48.611053466796875,
          27.52004051208496,
          40.36874008178711,
          19.231435775756836,
          92.71056365966797,
          -36.728633880615234,
          49.42974090576172,
          -13.510077476501465,
          -62.6123046875,
          49.575958251953125,
          40.03648376464844,
          45.67542266845703,
          32.847774505615234,
          -100.2196044921875,
          -79.7596206665039,
          -36.17932891845703,
          38.91094970703125,
          73.85636901855469,
          -57.02628707885742,
          37.98074722290039,
          -30.44432830810547,
          20.432218551635742,
          -13.05295467376709,
          -63.385345458984375,
          -79.53330993652344,
          -82.87542724609375,
          51.3977165222168,
          -7.985000133514404,
          25.441015243530273,
          33.96411895751953,
          -39.02360534667969,
          39.4276123046875,
          -37.20881652832031,
          43.231380462646484,
          -18.981975555419922,
          -47.81981658935547,
          15.591449737548828,
          -45.66587829589844,
          45.201385498046875,
          -25.88094139099121,
          -16.00359535217285,
          -6.960211277008057,
          17.44304656982422,
          -32.11125946044922,
          -63.259246826171875,
          -26.389514923095703,
          58.85971450805664,
          -14.101302146911621,
          62.47343444824219,
          17.648273468017578,
          57.682403564453125,
          -80.3805160522461,
          -37.40373229980469,
          -6.835577011108398,
          -41.9929313659668,
          10.787382125854492,
          41.016075134277344,
          -3.125128746032715,
          11.154045104980469,
          11.703804969787598,
          -44.857421875,
          16.75409507751465,
          38.986270904541016,
          59.13483428955078,
          38.70174026489258,
          -57.88174819946289,
          -79.20623016357422,
          -30.43693733215332,
          50.73904037475586,
          -78.02604675292969,
          -15.25871753692627,
          -51.979591369628906,
          -28.7273006439209,
          36.09090042114258,
          -29.83212661743164,
          38.35226821899414,
          -9.099241256713867,
          9.459955215454102,
          -16.465639114379883,
          -42.0234489440918,
          71.60326385498047,
          -3.2549965381622314,
          -4.971811294555664,
          52.80501174926758,
          -27.585174560546875,
          5.814646244049072,
          65.27281951904297,
          55.19216537475586,
          49.6646842956543,
          -51.56544494628906,
          47.816192626953125,
          19.895910263061523,
          65.04939270019531,
          5.555781841278076,
          27.999711990356445,
          -32.08707046508789,
          -102.62911987304688,
          -22.911073684692383,
          4.665985107421875,
          14.693345069885254,
          -82.16946411132812,
          71.04285430908203,
          29.394750595092773,
          -6.598808288574219,
          -86.31653594970703,
          -57.27410125732422,
          47.29082107543945,
          -23.8546199798584,
          69.81446838378906,
          -13.885848999023438,
          49.93440246582031,
          -39.76884841918945,
          50.9959831237793,
          -1.821645975112915,
          -10.514965057373047,
          -48.29182815551758,
          41.211360931396484,
          -16.966232299804688,
          -51.68407440185547,
          -52.940589904785156,
          -94.96935272216797,
          11.867648124694824,
          -28.15549659729004,
          -12.411643028259277,
          51.97573471069336,
          -26.924957275390625,
          45.5764274597168,
          18.670785903930664,
          -79.97746276855469,
          29.778675079345703,
          -102.48761749267578,
          72.79237365722656,
          -32.87885284423828,
          5.5242414474487305,
          79.29205322265625,
          -35.73922348022461,
          -35.54551315307617,
          -12.99264144897461,
          5.892241477966309,
          -15.953699111938477,
          -12.87255573272705,
          17.502655029296875,
          -42.405120849609375,
          -16.242799758911133,
          -4.203193187713623,
          24.520343780517578,
          1.150123119354248,
          -79.24874114990234,
          -39.3797492980957,
          -80.22781372070312,
          -54.48096466064453,
          16.6674747467041,
          3.4910030364990234,
          -27.604127883911133,
          -5.390147686004639,
          82.30612182617188,
          -55.101680755615234,
          -99.994140625,
          81.10012817382812,
          40.4581184387207,
          -48.12812805175781,
          -37.73844528198242,
          56.011131286621094,
          -73.38936614990234,
          78.39666748046875,
          89.78472900390625,
          4.379536151885986,
          10.600046157836914,
          61.70453643798828,
          34.95810317993164,
          -41.81084442138672,
          32.6330680847168,
          -31.81692123413086,
          3.573575973510742,
          -1.716454029083252,
          20.447250366210938,
          4.633718013763428,
          -11.82979679107666,
          56.042293548583984,
          34.69388961791992,
          -35.58049774169922,
          11.909697532653809,
          7.138321876525879,
          57.058372497558594,
          -25.466825485229492,
          -44.602264404296875,
          28.044897079467773,
          70.93412780761719,
          5.606269836425781,
          58.556617736816406,
          -8.608996391296387,
          61.84935760498047,
          -6.42873477935791,
          93.45415496826172,
          7.809238433837891,
          56.360206604003906,
          3.222513198852539,
          44.111942291259766,
          -34.96327590942383,
          -79.21257781982422,
          94.15494537353516,
          -3.6986958980560303,
          -88.26737976074219,
          69.4939956665039,
          -26.455759048461914,
          -83.61761474609375,
          46.95625686645508,
          50.24383544921875,
          66.14279174804688,
          -23.178272247314453,
          -76.78541564941406,
          -52.6748161315918,
          36.642948150634766,
          18.656288146972656,
          -19.187545776367188,
          -31.66356658935547,
          69.2190933227539,
          -100.65035247802734,
          -48.186126708984375,
          32.98293685913086,
          -21.677490234375,
          -23.45896339416504,
          61.11650085449219,
          27.338579177856445,
          13.071647644042969,
          -55.01203918457031,
          -13.565247535705566,
          -46.65599060058594,
          72.02603912353516,
          3.4716362953186035,
          -4.822269439697266,
          48.52851867675781,
          -42.90296936035156,
          0.8811072707176208,
          -80.64561462402344,
          -51.010101318359375,
          -53.28840255737305,
          -52.764404296875,
          -11.572619438171387,
          -41.251365661621094,
          45.44490432739258,
          -15.340235710144043,
          -16.280118942260742,
          52.336029052734375,
          -82.53820037841797,
          -14.963271141052246,
          -26.20639991760254,
          34.49171447753906,
          -51.807579040527344,
          -40.81076431274414,
          62.503997802734375,
          -16.749622344970703,
          -44.71092224121094,
          -32.016815185546875,
          -41.30781173706055,
          56.765380859375,
          -48.402626037597656,
          32.44232940673828,
          -60.7095832824707,
          72.77840423583984,
          35.265350341796875,
          -27.40888214111328,
          37.76966094970703,
          -12.573318481445312,
          -12.095856666564941,
          -2.5545291900634766,
          11.662160873413086,
          -34.97549819946289,
          37.34214782714844,
          -10.921563148498535,
          -45.6890983581543,
          19.266128540039062,
          -25.559438705444336,
          -56.00664138793945,
          -29.71475601196289,
          72.8299331665039,
          47.620365142822266,
          72.86576080322266,
          -16.723201751708984,
          64.42100524902344,
          49.72479248046875,
          -9.055998802185059,
          -31.150257110595703,
          70.06005859375,
          55.64197540283203,
          74.25155639648438,
          20.117338180541992,
          18.284469604492188,
          11.654410362243652,
          -43.95399856567383,
          -28.79391098022461,
          -24.449535369873047,
          27.76409339904785,
          -3.541351318359375,
          81.4993667602539,
          29.350753784179688,
          -60.137184143066406,
          20.05394172668457,
          -13.486929893493652,
          -55.43873977661133,
          80.51862335205078,
          -21.674314498901367,
          46.232566833496094,
          62.75383377075195,
          -58.527835845947266,
          -53.721839904785156,
          47.65825653076172,
          -13.463923454284668,
          25.407835006713867,
          14.59754753112793,
          -3.069810628890991,
          -13.791950225830078,
          5.3552422523498535,
          24.577356338500977,
          2.126063108444214,
          -43.961280822753906,
          -6.945444107055664,
          -3.0612716674804688,
          54.22035598754883,
          2.4377596378326416,
          55.98957061767578,
          1.8768303394317627,
          -69.32923889160156,
          -60.08003616333008,
          13.804034233093262,
          -7.051942348480225,
          11.031721115112305,
          10.730761528015137,
          58.23236083984375,
          77.80723571777344,
          -18.863162994384766,
          -60.6004638671875,
          62.49012756347656,
          40.64680862426758,
          64.24979400634766,
          -3.6093897819519043,
          -27.162946701049805,
          14.23996353149414,
          -100.34485626220703,
          -38.172061920166016,
          -2.9290664196014404,
          -68.7995376586914,
          -29.434947967529297,
          37.27447509765625,
          3.490279197692871,
          -100.50544738769531,
          -16.25450325012207,
          20.34107208251953,
          -28.494522094726562,
          39.83349609375,
          -26.075258255004883,
          -40.87944412231445,
          -13.958951950073242,
          -29.947128295898438,
          30.455636978149414,
          -1.6151092052459717,
          -13.770515441894531,
          56.05889129638672,
          39.34107971191406,
          -14.050886154174805,
          -55.49816131591797,
          -70.6982421875,
          0.4820539355278015,
          24.788875579833984,
          93.46833038330078,
          53.15650177001953,
          44.575645446777344,
          -17.916095733642578,
          -31.49185562133789,
          -54.31735610961914,
          -16.814849853515625,
          -4.202977657318115,
          17.162878036499023,
          37.3703498840332,
          72.961669921875,
          61.97007369995117,
          65.43219757080078,
          54.06640625,
          -48.26560974121094,
          -4.824417591094971,
          -13.079513549804688,
          59.66294860839844,
          13.939637184143066,
          56.124794006347656,
          3.4389121532440186,
          64.34395599365234,
          4.6894636154174805,
          -61.864383697509766,
          -40.40354919433594,
          -80.68900299072266,
          -80.8050537109375,
          -16.222394943237305,
          -35.1920051574707,
          23.125633239746094,
          17.240036010742188,
          -7.766376972198486,
          -79.81449127197266,
          81.80487060546875,
          34.69374465942383,
          -13.367003440856934,
          21.619810104370117,
          5.911637783050537,
          -25.524507522583008,
          39.27824783325195,
          37.447181701660156,
          -4.97891092300415,
          -16.02579689025879,
          -82.6132583618164,
          45.770633697509766,
          -3.099202871322632,
          11.508620262145996,
          -11.691729545593262,
          -50.81527328491211,
          -7.0444207191467285,
          -48.84817886352539,
          -53.75588607788086,
          33.24769973754883,
          45.892791748046875,
          44.162933349609375,
          -38.90462875366211,
          17.163583755493164,
          64.0106201171875,
          72.0905990600586,
          -13.270198822021484,
          -19.663990020751953,
          -33.08182907104492,
          36.56901168823242,
          17.24684715270996,
          63.84369659423828,
          47.787113189697266,
          61.37850570678711,
          -13.32119369506836,
          50.72058868408203,
          52.993568420410156,
          -45.84687042236328,
          6.098316192626953,
          57.38745880126953,
          49.74535369873047,
          18.5572452545166,
          -14.87710952758789,
          39.054176330566406,
          -87.7581558227539,
          -6.972663402557373,
          43.006717681884766,
          -9.221586227416992,
          -52.12798309326172,
          36.21615982055664,
          25.877220153808594,
          25.04559326171875,
          -40.400508880615234,
          -72.70845794677734,
          -40.55416488647461,
          72.02841186523438,
          11.691705703735352,
          -41.05317687988281,
          35.19953536987305,
          -94.34523010253906,
          50.025390625,
          46.19921112060547,
          53.84970474243164,
          73.92693328857422,
          -94.32074737548828,
          -8.680768966674805,
          -40.213287353515625,
          -63.09452438354492,
          45.48805236816406,
          -46.55545425415039,
          59.77833938598633,
          -12.101408004760742,
          -30.24633026123047,
          77.89539337158203,
          -16.666616439819336,
          44.68953323364258,
          2.1518394947052,
          -88.2695541381836,
          -10.867549896240234,
          -44.363929748535156,
          37.00686264038086,
          -26.10964012145996,
          -55.4258918762207,
          42.09678649902344,
          -10.850887298583984,
          68.72471618652344,
          1.386346697807312,
          -13.558477401733398,
          -65.41654968261719,
          81.26884460449219,
          69.596923828125,
          -13.453619956970215,
          -43.11370849609375,
          19.422204971313477,
          11.676342964172363,
          -28.67359733581543,
          -43.76762008666992,
          19.113956451416016,
          -53.342281341552734,
          7.118669509887695,
          41.941307067871094,
          -20.75511360168457,
          -11.894046783447266,
          -4.8104729652404785,
          82.72942352294922,
          -54.14427185058594,
          -28.40096664428711,
          -13.353788375854492,
          31.70755386352539,
          94.03075408935547,
          -1.8189291954040527,
          -54.78912353515625,
          -7.804214954376221,
          -7.819052696228027,
          -58.703956604003906,
          -46.57319641113281,
          63.61287307739258,
          -11.940995216369629,
          -52.70777130126953,
          -41.186073303222656,
          28.3266658782959,
          24.68939971923828,
          62.194602966308594,
          -3.632384777069092,
          -79.21046447753906,
          6.025152206420898,
          -10.311203956604004,
          65.59823608398438,
          30.954208374023438,
          19.03675651550293,
          34.71726989746094,
          48.03749084472656,
          11.80162239074707,
          15.895936012268066,
          -57.77287292480469,
          25.381689071655273,
          40.311397552490234,
          -29.181793212890625,
          38.314579010009766,
          -12.640183448791504,
          -30.650859832763672,
          40.51120376586914,
          -43.705047607421875,
          11.211915969848633,
          -41.36861801147461,
          46.35546875,
          45.89908981323242,
          -20.047948837280273,
          90.19803619384766,
          29.2401123046875,
          -63.77992630004883,
          7.4825215339660645,
          48.291439056396484,
          -44.2535285949707,
          -88.26362609863281,
          34.11347961425781,
          45.05183029174805,
          -35.45527267456055,
          -46.63046646118164,
          -44.76200485229492,
          -30.80980682373047,
          31.087024688720703,
          -27.585189819335938,
          -11.474971771240234,
          22.81147575378418,
          -60.17279052734375,
          55.32670974731445,
          54.97934341430664,
          46.018211364746094,
          -47.42009353637695,
          -24.76726722717285,
          16.185117721557617,
          -27.8646240234375,
          -7.392257213592529,
          34.99604034423828,
          10.609014511108398,
          -1.716843605041504,
          30.16730499267578,
          -102.73126983642578,
          35.11646270751953,
          -8.652807235717773,
          36.53861999511719,
          5.828189849853516,
          -58.03894805908203,
          -60.415283203125,
          18.681381225585938,
          5.822082042694092,
          -29.30657386779785,
          0.876899003982544,
          38.70249938964844,
          37.67401123046875,
          20.3787841796875,
          -12.789040565490723,
          61.89677810668945,
          -4.824936866760254,
          28.336708068847656,
          37.53797149658203,
          -3.3964684009552,
          -37.31067657470703,
          46.141754150390625,
          37.36943054199219,
          43.8057861328125,
          49.18248748779297,
          -63.777137756347656,
          40.23025131225586,
          -25.053634643554688,
          58.677825927734375,
          73.49665069580078,
          -1.3775871992111206,
          11.222346305847168,
          -32.12574005126953,
          39.606082916259766,
          -13.139582633972168,
          -55.69929504394531,
          -15.346426963806152,
          -94.82556915283203,
          -57.661258697509766,
          -45.66275405883789,
          61.28899002075195,
          -32.29701232910156,
          7.2615532875061035,
          -7.219982147216797,
          -44.261680603027344,
          28.017608642578125,
          -32.922611236572266,
          -86.38153076171875,
          73.06673431396484,
          -55.56882858276367,
          46.72854995727539,
          62.408843994140625,
          68.5697021484375,
          6.092680931091309,
          17.131057739257812,
          43.24846649169922,
          29.426536560058594,
          -62.993770599365234,
          62.241294860839844,
          -31.22170066833496,
          -53.51372528076172,
          -16.36730194091797,
          10.17531967163086,
          -42.992191314697266,
          38.566104888916016,
          57.61978530883789,
          6.997995376586914,
          -31.15934944152832,
          -48.477333068847656,
          -14.321853637695312,
          -38.9195556640625,
          21.23848533630371,
          -73.6224136352539,
          23.196611404418945,
          -55.256248474121094,
          3.2542221546173096,
          -54.52473831176758,
          78.13836669921875,
          30.657630920410156,
          17.161333084106445,
          46.612552642822266,
          19.320310592651367,
          32.9199104309082,
          -8.996935844421387,
          36.17176818847656,
          32.4475212097168,
          -13.307510375976562,
          -24.644412994384766,
          -37.20562744140625,
          -83.81281280517578,
          -25.55016326904297,
          34.98324966430664,
          -58.98506546020508,
          -2.9890193939208984,
          40.71390914916992,
          39.82045364379883,
          36.553768157958984,
          -35.73922348022461,
          -4.64389181137085,
          28.82675552368164,
          -29.360876083374023,
          -12.777482032775879,
          28.633607864379883,
          -4.202730655670166,
          36.54449462890625,
          22.378618240356445,
          -1.9335519075393677,
          -14.021455764770508,
          38.15357208251953,
          5.441880702972412,
          -5.077546119689941,
          72.51560974121094,
          -63.7098503112793,
          -12.87177848815918,
          2.721013069152832,
          -26.863853454589844,
          -78.99271392822266,
          48.22235107421875,
          -1.2189704179763794,
          -81.73152160644531,
          51.8961296081543,
          -39.506072998046875,
          7.113144874572754,
          -7.077131748199463,
          30.055566787719727,
          -36.00438690185547,
          -13.699106216430664,
          -42.62570571899414,
          30.043392181396484,
          -94.1313247680664,
          53.617774963378906,
          48.886287689208984,
          -62.37743377685547,
          63.709415435791016,
          27.48421287536621,
          -60.866722106933594,
          45.896121978759766,
          -45.7603645324707,
          36.891258239746094,
          -15.521989822387695,
          -83.63436889648438,
          11.22862434387207,
          -0.9780387878417969,
          -16.742868423461914,
          -18.979656219482422,
          -26.384748458862305,
          36.67920684814453,
          13.593660354614258,
          -100.159423828125,
          -79.23424530029297,
          -18.108633041381836,
          -29.74846649169922,
          -27.691938400268555,
          24.14716339111328,
          1.9298830032348633,
          29.582656860351562,
          52.543556213378906,
          45.6207160949707,
          -49.28557205200195,
          -37.85013961791992,
          14.212063789367676,
          19.002368927001953,
          10.587145805358887,
          65.04059600830078,
          41.85683059692383,
          -13.739251136779785,
          -78.01258087158203,
          -0.2983247935771942,
          -2.267437696456909,
          3.8944332599639893,
          -28.37302017211914,
          54.855873107910156,
          -12.313572883605957,
          -8.979228973388672,
          -20.42385482788086,
          -11.28937816619873,
          38.207664489746094,
          -40.80992889404297,
          19.120058059692383,
          80.63951110839844,
          28.371313095092773,
          32.549224853515625,
          59.747135162353516,
          -4.039053440093994,
          -13.498144149780273,
          -35.738643646240234,
          -63.493526458740234,
          -16.756750106811523,
          -59.54017639160156,
          -6.749363422393799,
          38.81714630126953,
          -13.72280502319336,
          -1.6319167613983154,
          -5.181108474731445,
          64.49966430664062,
          11.105883598327637,
          29.59014129638672,
          54.961021423339844,
          -54.3572998046875,
          52.7041015625,
          -80.89517211914062,
          69.91598510742188,
          -36.14696502685547,
          45.13018035888672,
          62.61585998535156,
          -42.11456298828125,
          19.66345977783203,
          56.501495361328125,
          -2.354722738265991,
          -17.365156173706055,
          -29.485008239746094,
          61.05672836303711,
          -2.378164291381836,
          9.459803581237793,
          -10.770601272583008,
          55.61613082885742,
          -16.03971290588379,
          37.159671783447266,
          -24.529376983642578,
          -28.141843795776367,
          -13.891626358032227,
          71.5751953125,
          -14.376124382019043,
          46.910892486572266,
          51.370277404785156,
          -46.31165313720703,
          -68.30945587158203,
          -20.822439193725586,
          -25.23636245727539,
          36.07345199584961,
          33.474021911621094,
          13.826908111572266,
          -62.797210693359375,
          -3.2317607402801514,
          55.3390007019043,
          47.336368560791016,
          -26.510055541992188,
          90.066162109375,
          11.212132453918457,
          38.17416763305664,
          -50.64303207397461,
          -47.095703125,
          49.3464241027832,
          -55.565895080566406,
          -55.02546691894531,
          -31.598594665527344,
          -8.442572593688965,
          -2.0954747200012207,
          14.924606323242188,
          35.675289154052734,
          53.009735107421875,
          -36.73109817504883,
          5.49282169342041,
          -53.47111129760742,
          38.90547180175781,
          82.83663940429688,
          30.79714584350586,
          -12.031959533691406,
          -28.36063003540039,
          -45.70649337768555,
          -40.36753845214844,
          -40.947547912597656,
          -54.06939697265625,
          52.07124328613281,
          -86.01141357421875,
          -6.736604690551758,
          -41.01034164428711,
          5.733948230743408,
          -7.496398448944092,
          25.15835952758789,
          -13.974509239196777,
          -14.090717315673828,
          31.38025665283203,
          -35.553009033203125,
          74.15933227539062,
          48.76900863647461,
          13.99070930480957,
          58.977176666259766,
          -12.742267608642578,
          -12.21253490447998,
          -80.43778991699219,
          61.202125549316406,
          -28.113136291503906,
          49.51976013183594,
          -1.9937115907669067,
          -0.1974857896566391,
          22.172155380249023,
          70.83916473388672,
          20.58941078186035,
          -11.921846389770508,
          -7.2055792808532715,
          5.352023601531982,
          30.26518440246582,
          -39.991920471191406,
          62.348758697509766,
          -30.077783584594727,
          -68.29964447021484,
          16.073331832885742,
          -23.495119094848633,
          23.69455909729004,
          -26.35354995727539,
          11.432357788085938,
          50.336387634277344,
          -43.783721923828125,
          -15.501405715942383,
          45.10013961791992,
          5.501733303070068,
          -57.8942756652832,
          11.655416488647461,
          -16.199142456054688,
          -12.93908405303955,
          -42.0814094543457,
          19.085174560546875,
          91.87283325195312,
          -70.01136016845703,
          50.14162063598633,
          36.85234832763672,
          -1.0145500898361206,
          -32.65299606323242,
          45.756473541259766,
          -11.305540084838867,
          51.48499298095703,
          -49.42653274536133,
          71.26277923583984,
          -50.80857467651367,
          37.87803649902344,
          -4.4639787673950195,
          -42.723873138427734,
          22.610929489135742,
          -7.509622573852539,
          16.37287139892578,
          69.56353759765625,
          23.87003517150879,
          37.02862548828125,
          26.129150390625,
          -8.244288444519043,
          -33.96542739868164,
          -15.252717018127441,
          -16.907649993896484,
          -53.47690963745117,
          -44.05908966064453,
          -59.45325469970703,
          -14.92364501953125,
          -42.002323150634766,
          28.23038673400879,
          67.07903289794922,
          44.8032112121582,
          -77.882568359375,
          -2.852825403213501,
          -28.166263580322266,
          47.845054626464844,
          -34.488311767578125,
          -35.60990524291992,
          -50.6439323425293,
          -73.38445281982422,
          71.13724517822266,
          -58.60689926147461,
          -6.785282135009766,
          -51.01542282104492,
          -83.5809555053711,
          80.0138931274414,
          1.3711397647857666,
          45.133365631103516,
          37.850582122802734,
          -13.013614654541016,
          29.051822662353516,
          -6.360685348510742,
          -51.814937591552734,
          -39.1713981628418,
          -13.69449520111084,
          -11.948284149169922,
          55.08763122558594,
          21.66350555419922,
          52.29575729370117,
          72.7037353515625,
          -80.46788024902344,
          69.55953216552734,
          -27.357194900512695,
          54.36113739013672,
          -74.32929992675781,
          -48.1658935546875,
          -13.978082656860352,
          4.8216962814331055,
          -25.806013107299805,
          -31.809890747070312,
          92.68778991699219,
          23.350027084350586,
          36.95178985595703,
          -35.26142501831055,
          19.673913955688477,
          -36.72389221191406,
          -14.230193138122559,
          14.077397346496582,
          -13.652107238769531,
          49.40873718261719,
          5.176786422729492,
          -12.862741470336914,
          -39.98366165161133,
          45.50748062133789,
          -8.414053916931152,
          27.778541564941406,
          20.135940551757812,
          -6.39714241027832,
          73.67462158203125,
          -52.287742614746094,
          64.21697998046875,
          -19.793109893798828,
          -1.812995433807373,
          -30.80067253112793,
          -6.908815860748291,
          -31.104169845581055,
          -14.16933536529541,
          20.85232162475586,
          -43.08308029174805,
          70.42779541015625,
          33.11074447631836,
          23.98451042175293,
          -86.11226654052734,
          23.65324592590332,
          30.136455535888672,
          -45.70780944824219,
          -29.8590030670166,
          39.9475212097168,
          58.51508712768555,
          -46.41197967529297,
          11.375895500183105,
          23.219642639160156,
          -100.48877716064453,
          -47.047325134277344,
          -20.674571990966797,
          -7.0025529861450195,
          64.87511444091797,
          -74.2009506225586,
          -13.700624465942383,
          -77.5088882446289,
          56.69466781616211,
          -60.79792404174805,
          0.8177866339683533,
          -56.867218017578125,
          13.836400032043457,
          6.60650110244751,
          -14.037230491638184,
          -13.874582290649414,
          -17.86455726623535,
          69.57635498046875,
          -25.58390235900879,
          -28.843385696411133,
          47.80908966064453,
          -59.16502380371094,
          -2.283761978149414,
          -62.30900573730469,
          16.892833709716797,
          -29.687686920166016,
          -4.989985942840576,
          51.87025451660156,
          39.822898864746094,
          23.510377883911133,
          -14.445497512817383,
          3.9274144172668457,
          -55.12242889404297,
          2.2701213359832764,
          53.607093811035156,
          -23.953479766845703,
          21.792795181274414,
          19.718711853027344,
          -59.822547912597656,
          5.832650184631348,
          -55.48834228515625,
          37.05518341064453,
          -58.83246612548828,
          71.95512390136719,
          2.881221294403076,
          3.255099296569824,
          -77.47871398925781
         ],
         "xaxis": "x",
         "y": [
          -32.21809768676758,
          -11.203032493591309,
          47.42202377319336,
          18.549890518188477,
          -4.867208003997803,
          -17.338741302490234,
          -28.55946159362793,
          -18.569124221801758,
          9.342192649841309,
          86.02476501464844,
          -31.26862335205078,
          22.838964462280273,
          11.442072868347168,
          31.218585968017578,
          1.0067352056503296,
          -50.04478454589844,
          -31.058874130249023,
          -68.98867797851562,
          34.78459930419922,
          15.027722358703613,
          -28.728179931640625,
          20.95476722717285,
          -26.499826431274414,
          -7.8618388175964355,
          -31.97907829284668,
          16.74781036376953,
          7.3366265296936035,
          -13.523431777954102,
          30.486608505249023,
          23.21030616760254,
          -26.28443145751953,
          -24.128646850585938,
          -13.755203247070312,
          -34.61573791503906,
          24.903961181640625,
          20.877426147460938,
          7.84643030166626,
          -25.550439834594727,
          -77.91126251220703,
          -54.57617950439453,
          -100.50892639160156,
          4.380924701690674,
          -47.80375671386719,
          44.28076934814453,
          -4.5115132331848145,
          48.08698272705078,
          -21.826017379760742,
          37.19486999511719,
          25.809131622314453,
          43.110286712646484,
          -4.820099353790283,
          -2.9145002365112305,
          28.59346580505371,
          67.30010986328125,
          37.07413864135742,
          49.62052536010742,
          45.02942657470703,
          -2.960724115371704,
          -14.037711143493652,
          -6.966306209564209,
          43.610836029052734,
          -6.390905857086182,
          19.774330139160156,
          19.959035873413086,
          -17.26422882080078,
          25.51068687438965,
          1.5753376483917236,
          -58.66743469238281,
          -22.130834579467773,
          30.697834014892578,
          -25.148971557617188,
          43.32954025268555,
          -45.357547760009766,
          -37.228759765625,
          -100.45760345458984,
          26.515939712524414,
          22.976648330688477,
          -53.59556198120117,
          17.86294174194336,
          -58.102264404296875,
          47.13473892211914,
          40.31303405761719,
          4.191123962402344,
          -55.39781188964844,
          69.74595642089844,
          -2.2294704914093018,
          4.192835330963135,
          27.895214080810547,
          -10.11658000946045,
          63.501216888427734,
          5.14906120300293,
          31.269060134887695,
          -56.380592346191406,
          -56.307254791259766,
          26.750072479248047,
          -1.8656935691833496,
          44.58796691894531,
          25.923141479492188,
          24.66045379638672,
          26.187971115112305,
          -26.97056007385254,
          72.9090576171875,
          0.18711361289024353,
          -36.088661193847656,
          55.63630294799805,
          -41.10874938964844,
          -27.51473045349121,
          -29.868206024169922,
          -7.574146747589111,
          27.181795120239258,
          -24.3450984954834,
          40.18112564086914,
          3.3983256816864014,
          36.94605255126953,
          63.803958892822266,
          20.219865798950195,
          41.6098747253418,
          -55.82809066772461,
          -24.732189178466797,
          2.0813021659851074,
          41.33202362060547,
          -23.001628875732422,
          -32.132606506347656,
          -16.992820739746094,
          -25.316404342651367,
          -45.101932525634766,
          -24.166231155395508,
          66.24431610107422,
          -19.01397132873535,
          32.31767272949219,
          -39.79787826538086,
          -33.78609085083008,
          -2.9265594482421875,
          90.49397277832031,
          1.2761695384979248,
          10.25693130493164,
          26.33165168762207,
          7.173529148101807,
          -38.282958984375,
          70.3899154663086,
          -34.52676010131836,
          -58.220375061035156,
          -78.64090728759766,
          -33.913063049316406,
          -26.443716049194336,
          -17.851600646972656,
          35.894752502441406,
          7.77158260345459,
          -53.89783477783203,
          -50.96251678466797,
          55.954627990722656,
          37.64113235473633,
          15.726526260375977,
          -58.62934112548828,
          -5.7387895584106445,
          -21.666276931762695,
          20.607088088989258,
          -5.592336654663086,
          -30.49090003967285,
          -5.915594100952148,
          43.9642333984375,
          -21.93971061706543,
          -75.71138000488281,
          33.963157653808594,
          -57.79324722290039,
          26.677658081054688,
          8.545121192932129,
          5.890018939971924,
          18.27962875366211,
          67.19123840332031,
          39.9336051940918,
          22.49160385131836,
          10.617128372192383,
          37.676265716552734,
          -1.7708572149276733,
          0.31472519040107727,
          42.7344970703125,
          1.1042990684509277,
          25.957042694091797,
          36.754173278808594,
          -78.25119018554688,
          43.39495849609375,
          26.8203125,
          44.43320846557617,
          -55.0483512878418,
          1.2702831029891968,
          60.746620178222656,
          17.07161521911621,
          -24.00135612487793,
          -22.4924373626709,
          -43.54103088378906,
          27.839183807373047,
          -42.01179885864258,
          -7.042652606964111,
          19.120502471923828,
          62.95625686645508,
          31.498023986816406,
          3.9556829929351807,
          60.89286422729492,
          8.610588073730469,
          0.03629710525274277,
          3.980699300765991,
          81.29093933105469,
          50.8420524597168,
          29.321569442749023,
          47.50068283081055,
          31.065902709960938,
          -31.15814208984375,
          20.494251251220703,
          -10.63608169555664,
          -35.41521072387695,
          46.42213821411133,
          5.947943210601807,
          -7.7773051261901855,
          44.03369140625,
          81.1240463256836,
          -50.78500747680664,
          -46.439361572265625,
          9.166481971740723,
          47.542964935302734,
          48.72242736816406,
          24.721940994262695,
          24.573442459106445,
          9.285439491271973,
          -14.863668441772461,
          -13.391164779663086,
          50.53951644897461,
          55.305294036865234,
          19.271636962890625,
          21.611976623535156,
          -0.20053145289421082,
          -53.244293212890625,
          -45.78428268432617,
          3.6719071865081787,
          -16.481353759765625,
          -24.53486442565918,
          72.03681182861328,
          2.4333863258361816,
          21.995563507080078,
          2.3323512077331543,
          -20.088459014892578,
          -27.140758514404297,
          -22.22087287902832,
          -29.526546478271484,
          47.559547424316406,
          5.899320602416992,
          9.680231094360352,
          -1.577423095703125,
          57.676918029785156,
          -14.724865913391113,
          14.180678367614746,
          -56.66713333129883,
          3.1996092796325684,
          1.4855930805206299,
          -8.64976978302002,
          37.66105651855469,
          -16.505474090576172,
          43.343929290771484,
          -24.216655731201172,
          40.775169372558594,
          15.612517356872559,
          43.74973678588867,
          -7.852290153503418,
          31.723880767822266,
          42.857810974121094,
          13.00143051147461,
          -46.44429397583008,
          -10.416471481323242,
          -0.7480012774467468,
          37.94527816772461,
          41.32151794433594,
          35.830020904541016,
          -18.331192016601562,
          -35.55669021606445,
          -78.42408752441406,
          -66.9705581665039,
          -43.59700012207031,
          -5.347471237182617,
          0.061786774545907974,
          -16.451597213745117,
          48.305667877197266,
          -21.165760040283203,
          -58.852230072021484,
          -33.99071502685547,
          -5.799393653869629,
          9.741140365600586,
          -18.159067153930664,
          -76.06159973144531,
          -28.83190155029297,
          -0.09466416388750076,
          -48.30915832519531,
          -30.056123733520508,
          2.7443037033081055,
          -30.5527400970459,
          -69.4082260131836,
          -7.536022663116455,
          44.81084060668945,
          31.263765335083008,
          61.31589126586914,
          -3.4110705852508545,
          13.041341781616211,
          38.08241653442383,
          44.93608474731445,
          31.460094451904297,
          -1.8466295003890991,
          -24.048938751220703,
          -70.12871551513672,
          1.1258728504180908,
          -30.629383087158203,
          -0.26986435055732727,
          30.571218490600586,
          35.348697662353516,
          48.03709411621094,
          -53.59645462036133,
          -17.51263427734375,
          -24.25462532043457,
          -5.110648155212402,
          48.469383239746094,
          -25.831928253173828,
          6.463510990142822,
          43.1366081237793,
          -14.314215660095215,
          20.219982147216797,
          8.761198043823242,
          40.68901443481445,
          18.481531143188477,
          34.7295036315918,
          -66.77024841308594,
          9.209843635559082,
          -34.515464782714844,
          -99.47677612304688,
          -18.758426666259766,
          -5.394244194030762,
          40.55548095703125,
          -10.466867446899414,
          43.05720901489258,
          -2.123049736022949,
          -33.37323760986328,
          64.17394256591797,
          9.516712188720703,
          32.42823791503906,
          -24.9676456451416,
          -25.314836502075195,
          1.1101670265197754,
          -21.56877899169922,
          20.416845321655273,
          21.4700870513916,
          29.253164291381836,
          6.409516334533691,
          1.256790041923523,
          -5.623770713806152,
          30.298398971557617,
          -25.661619186401367,
          -37.200992584228516,
          -50.44590377807617,
          30.35231590270996,
          -65.94039154052734,
          -11.901697158813477,
          4.3247389793396,
          -57.75029373168945,
          50.32654571533203,
          38.16853713989258,
          4.381466388702393,
          -4.802706718444824,
          -44.690589904785156,
          6.772274017333984,
          40.82775115966797,
          8.266201972961426,
          46.01359176635742,
          -59.15186309814453,
          -20.198219299316406,
          -28.70118522644043,
          -68.60098266601562,
          36.790443420410156,
          -12.131540298461914,
          -24.645523071289062,
          -6.840158462524414,
          -27.937183380126953,
          -31.77484130859375,
          -1.1506586074829102,
          20.877426147460938,
          17.116788864135742,
          -0.5851151943206787,
          63.02062225341797,
          7.295063495635986,
          -75.92841339111328,
          25.8653564453125,
          -24.170866012573242,
          -59.98987579345703,
          -16.349830627441406,
          4.4410014152526855,
          18.725557327270508,
          -14.806086540222168,
          -23.692686080932617,
          23.05954360961914,
          46.712406158447266,
          -75.9278564453125,
          -19.27436637878418,
          7.587063789367676,
          87.75059509277344,
          -4.689412593841553,
          33.61329650878906,
          -22.927886962890625,
          0.8146589398384094,
          -36.80531692504883,
          12.267507553100586,
          31.449987411499023,
          52.50763702392578,
          -24.755064010620117,
          23.098310470581055,
          -14.570615768432617,
          69.32765197753906,
          7.147164344787598,
          -28.583654403686523,
          -24.1140079498291,
          -22.428621292114258,
          26.857982635498047,
          23.760332107543945,
          69.5873031616211,
          -38.00611877441406,
          -46.45942306518555,
          1.1365668773651123,
          -54.248695373535156,
          49.36008834838867,
          42.6459846496582,
          -25.924652099609375,
          12.068909645080566,
          -59.042938232421875,
          -5.173364162445068,
          8.240178108215332,
          -53.46083450317383,
          -53.806922912597656,
          -39.008819580078125,
          -5.424169540405273,
          -17.228946685791016,
          90.99378967285156,
          -25.89291763305664,
          -25.64508628845215,
          -15.309893608093262,
          -59.03407287597656,
          10.244080543518066,
          9.109310150146484,
          -33.672122955322266,
          27.224477767944336,
          -14.256532669067383,
          -15.609447479248047,
          -40.116886138916016,
          37.175418853759766,
          -6.783167362213135,
          -30.76826286315918,
          22.670150756835938,
          -55.11347579956055,
          -10.621097564697266,
          -34.28296661376953,
          -16.30430030822754,
          -19.410863876342773,
          -44.97796630859375,
          -25.320552825927734,
          56.29368209838867,
          20.497264862060547,
          23.091888427734375,
          -35.29558181762695,
          -26.252044677734375,
          5.195969104766846,
          25.602296829223633,
          -15.289525032043457,
          -25.516584396362305,
          -17.08121681213379,
          -36.480079650878906,
          41.78314208984375,
          62.320068359375,
          -33.57991027832031,
          -57.474609375,
          20.498987197875977,
          1.919955849647522,
          -63.989383697509766,
          19.56802749633789,
          39.923397064208984,
          3.5602805614471436,
          44.835166931152344,
          -10.715957641601562,
          -9.119399070739746,
          36.77891540527344,
          -10.577728271484375,
          -63.533607482910156,
          37.23900604248047,
          6.635987758636475,
          -60.0412483215332,
          -9.575551986694336,
          42.80147171020508,
          -71.2427978515625,
          -4.127222537994385,
          -78.12594604492188,
          38.15789031982422,
          -4.595700263977051,
          30.70751190185547,
          19.04692840576172,
          0.08975093066692352,
          -25.87689781188965,
          40.878665924072266,
          34.3718147277832,
          -57.85359191894531,
          -13.42457103729248,
          26.065858840942383,
          17.698091506958008,
          -14.085061073303223,
          7.159783363342285,
          -22.296199798583984,
          45.66645812988281,
          -48.17274856567383,
          -25.14796257019043,
          39.6413688659668,
          27.220821380615234,
          35.441463470458984,
          -11.41889476776123,
          46.97026062011719,
          -68.12055206298828,
          -27.177108764648438,
          63.5892448425293,
          27.607648849487305,
          18.779659271240234,
          -56.097957611083984,
          -7.6002397537231445,
          66.87332916259766,
          37.93305206298828,
          40.47258758544922,
          -56.71237564086914,
          -29.687593460083008,
          -38.12529373168945,
          9.713432312011719,
          -34.79387664794922,
          60.765830993652344,
          55.31721878051758,
          12.26525592803955,
          -0.9846956133842468,
          9.286465644836426,
          -6.971729755401611,
          80.8658676147461,
          -15.821088790893555,
          2.1058032512664795,
          29.472270965576172,
          -23.338701248168945,
          79.14708709716797,
          34.938228607177734,
          62.983245849609375,
          -1.3504267930984497,
          -15.395453453063965,
          17.917409896850586,
          -26.64449691772461,
          -24.63214683532715,
          46.86700439453125,
          43.24079513549805,
          -73.37925720214844,
          -35.47559356689453,
          47.48332595825195,
          22.489322662353516,
          -70.39103698730469,
          0.6817085146903992,
          -22.762372970581055,
          2.8018946647644043,
          -0.9896162152290344,
          -28.771820068359375,
          55.72346496582031,
          -6.996426105499268,
          17.055665969848633,
          53.23640060424805,
          17.79555320739746,
          -31.154476165771484,
          27.055179595947266,
          -21.88888168334961,
          87.27816772460938,
          31.015750885009766,
          32.41524124145508,
          -31.49234962463379,
          22.396732330322266,
          20.526992797851562,
          33.810997009277344,
          31.025529861450195,
          49.331111907958984,
          -26.718591690063477,
          8.687499046325684,
          48.37001419067383,
          -21.760761260986328,
          -26.174972534179688,
          31.699195861816406,
          -2.949721574783325,
          -31.590761184692383,
          48.7530632019043,
          12.934595108032227,
          1.9084593057632446,
          -24.01117706298828,
          -59.9959716796875,
          61.543853759765625,
          -19.65018653869629,
          -35.2631721496582,
          -21.19129753112793,
          -23.53095817565918,
          -67.16663360595703,
          -27.464458465576172,
          12.056041717529297,
          -14.00706672668457,
          -34.265869140625,
          50.358421325683594,
          34.43227005004883,
          -50.361412048339844,
          -31.317848205566406,
          -29.843873977661133,
          35.835819244384766,
          -2.4552292823791504,
          -15.23548698425293,
          34.870994567871094,
          -13.325841903686523,
          -50.597015380859375,
          27.60777473449707,
          -43.108924865722656,
          17.863027572631836,
          -33.046165466308594,
          25.68056869506836,
          12.634272575378418,
          -6.23577356338501,
          -21.646310806274414,
          -33.69999313354492,
          8.72297191619873,
          11.774444580078125,
          -63.640098571777344,
          44.99724578857422,
          -17.2344970703125,
          -11.605613708496094,
          51.146934509277344,
          69.20149993896484,
          37.71121597290039,
          -6.0026326179504395,
          -1.3610717058181763,
          48.67581558227539,
          35.49073791503906,
          44.56687545776367,
          6.432774543762207,
          18.315013885498047,
          72.00724792480469,
          -69.73265075683594,
          60.84206771850586,
          34.924774169921875,
          -3.912325859069824,
          25.687440872192383,
          -69.38398742675781,
          -19.533411026000977,
          -97.00070190429688,
          28.365650177001953,
          -35.081443786621094,
          18.488794326782227,
          -66.8637924194336,
          24.317445755004883,
          36.82099914550781,
          -15.923262596130371,
          -15.43405818939209,
          38.657867431640625,
          47.640132904052734,
          26.385019302368164,
          6.289177417755127,
          -57.87081527709961,
          -43.758827209472656,
          -77.80683135986328,
          -15.319976806640625,
          -36.891544342041016,
          -6.129432201385498,
          -76.0245361328125,
          33.96328353881836,
          -8.798105239868164,
          -7.781976222991943,
          72.989013671875,
          33.78750991821289,
          1.4210232496261597,
          78.45380401611328,
          33.246803283691406,
          30.417850494384766,
          -29.57712745666504,
          -75.59127807617188,
          -53.61727523803711,
          -8.96647834777832,
          -53.51984405517578,
          62.323665618896484,
          -4.736185550689697,
          29.794191360473633,
          78.07714080810547,
          38.65155029296875,
          35.55662536621094,
          2.3784139156341553,
          -27.8283748626709,
          -34.421993255615234,
          -56.246578216552734,
          -45.55875015258789,
          17.49131965637207,
          3.253092050552368,
          -35.85068893432617,
          -9.046754837036133,
          -21.928621292114258,
          -64.61222076416016,
          -39.93146896362305,
          -1.5928452014923096,
          -24.071584701538086,
          -2.8901870250701904,
          6.422581195831299,
          22.643877029418945,
          17.33670997619629,
          35.87627410888672,
          -6.876615524291992,
          7.251674175262451,
          91.17754364013672,
          -65.20122528076172,
          -0.3667556047439575,
          64.30760192871094,
          2.579549551010132,
          32.275604248046875,
          -48.20414733886719,
          6.005049228668213,
          22.255090713500977,
          66.82302856445312,
          -32.41574478149414,
          2.78471040725708,
          37.174034118652344,
          48.401493072509766,
          46.41954803466797,
          13.604652404785156,
          28.127601623535156,
          -31.346044540405273,
          26.58662223815918,
          55.67543411254883,
          -38.60832214355469,
          -19.0495662689209,
          -68.79296875,
          1.4436144828796387,
          -3.0051701068878174,
          -43.18190002441406,
          34.94160461425781,
          -2.1272506713867188,
          -75.8366928100586,
          -1.231014370918274,
          -19.332550048828125,
          -27.00420379638672,
          77.38829803466797,
          -44.22518539428711,
          -55.71894836425781,
          29.61096954345703,
          20.740589141845703,
          -9.88122272491455,
          -63.31318664550781,
          -5.318996429443359,
          46.78612518310547,
          -23.246938705444336,
          43.70064163208008,
          4.6372761726379395,
          -15.785233497619629,
          4.321102619171143,
          -42.58588409423828,
          87.1628646850586,
          -56.36790466308594,
          29.223478317260742,
          2.6059377193450928,
          35.742584228515625,
          -32.792720794677734,
          -5.843413352966309,
          49.5528564453125,
          -53.838008880615234,
          -2.483858108520508,
          38.9742431640625,
          34.443050384521484,
          35.357120513916016,
          62.57661819458008,
          -18.558998107910156,
          34.998687744140625,
          -12.776299476623535,
          -68.29623413085938,
          25.603679656982422,
          25.679574966430664,
          40.21830749511719,
          23.480743408203125,
          -23.682058334350586,
          -23.091384887695312,
          47.903350830078125,
          47.14102554321289,
          -25.37869644165039,
          3.83681058883667,
          -30.423110961914062,
          48.70355987548828,
          46.93751525878906,
          33.65169143676758,
          -24.35348892211914,
          -13.706451416015625,
          16.19856071472168,
          73.10668182373047,
          -15.913010597229004,
          30.111858367919922,
          0.6889848709106445,
          -59.2803955078125,
          61.53496170043945,
          -22.04488182067871,
          37.178428649902344,
          27.4306640625,
          -31.07780647277832,
          68.07844543457031,
          47.62385177612305,
          -53.58241271972656,
          -16.378753662109375,
          5.187350749969482,
          -20.8354434967041,
          -10.691890716552734,
          -19.537094116210938,
          33.50634765625,
          9.491592407226562,
          47.77737045288086,
          -14.943062782287598,
          3.9736547470092773,
          -6.245754718780518,
          -70.63140869140625,
          -46.7287712097168,
          -24.866968154907227,
          42.60142135620117,
          7.505459785461426,
          -14.10278606414795,
          -5.204341411590576,
          -24.968921661376953,
          15.106521606445312,
          -24.9411563873291,
          42.56649398803711,
          -99.68729400634766,
          -11.015409469604492,
          -23.077747344970703,
          -75.94286346435547,
          -100.42697143554688,
          -32.04959487915039,
          3.558950185775757,
          -43.318084716796875,
          18.306997299194336,
          79.33340454101562,
          44.92689514160156,
          37.67861557006836,
          -64.3211441040039,
          -34.24246597290039,
          -33.84645080566406,
          -39.634727478027344,
          26.146007537841797,
          37.26393127441406,
          -32.86802673339844,
          -36.115543365478516,
          26.40131378173828,
          -0.9209161996841431,
          47.601104736328125,
          -49.47542190551758,
          -8.194253921508789,
          20.8924617767334,
          21.691560745239258,
          35.067596435546875,
          -44.114219665527344,
          33.30793762207031,
          -73.4447250366211,
          33.00469970703125,
          5.597005844116211,
          6.2202887535095215,
          -7.764776229858398,
          -58.85528564453125,
          -29.48263168334961,
          27.91883659362793,
          -58.67361831665039,
          -45.34839630126953,
          -24.32037925720215,
          -2.9819812774658203,
          32.03455352783203,
          1.1237138509750366,
          19.302978515625,
          -31.302640914916992,
          -56.912967681884766,
          32.03813171386719,
          -36.155330657958984,
          -96.90870666503906,
          78.50411224365234,
          -34.81144714355469,
          29.057559967041016,
          22.233673095703125,
          -20.585315704345703,
          -24.537948608398438,
          59.90216064453125,
          -24.019319534301758,
          43.85816192626953,
          42.78726577758789,
          -43.550601959228516,
          -4.423600673675537,
          -55.31217956542969,
          14.658539772033691,
          10.91526985168457,
          -36.046348571777344,
          32.141326904296875,
          -2.3699936866760254,
          -22.77088165283203,
          -2.4893181324005127,
          -9.74221420288086,
          -19.249380111694336,
          -7.547224998474121,
          22.80751609802246,
          -77.80838012695312,
          78.65853881835938,
          30.005205154418945,
          56.672096252441406,
          -77.8768081665039,
          -18.434690475463867,
          -1.3768903017044067,
          -4.281274795532227,
          44.69505310058594,
          -6.6820573806762695,
          -5.346254825592041,
          22.215307235717773,
          -49.05948257446289,
          -14.02267074584961,
          -27.124902725219727,
          -28.71271514892578,
          49.88631820678711,
          -1.0356000661849976,
          1.7075845003128052,
          20.877426147460938,
          8.380300521850586,
          -35.939422607421875,
          -45.37260818481445,
          -49.03265380859375,
          -5.848907947540283,
          -33.04895782470703,
          0.7320188283920288,
          72.86827087402344,
          -24.945728302001953,
          -55.967472076416016,
          -21.408018112182617,
          64.55528259277344,
          86.84701538085938,
          -35.94429016113281,
          18.668256759643555,
          -1.1044830083847046,
          -19.193233489990234,
          48.403324127197266,
          -15.513056755065918,
          26.827741622924805,
          44.26495361328125,
          43.957054138183594,
          0.4047219157218933,
          -66.30477905273438,
          -55.70241165161133,
          -22.71550941467285,
          -12.302983283996582,
          67.3912124633789,
          -32.926025390625,
          40.123741149902344,
          11.444523811340332,
          6.800013065338135,
          0.1493147909641266,
          62.95493698120117,
          23.30552101135254,
          -25.42030143737793,
          -36.50975799560547,
          33.99517822265625,
          26.29640007019043,
          -54.728553771972656,
          13.826468467712402,
          5.769306182861328,
          22.67046356201172,
          36.54206848144531,
          21.249357223510742,
          -23.93733787536621,
          -16.452709197998047,
          -36.32915115356445,
          -0.20260263979434967,
          -11.025840759277344,
          -24.223480224609375,
          -14.24752426147461,
          26.260147094726562,
          27.69979476928711,
          26.649200439453125,
          71.6587142944336,
          -19.109100341796875,
          -7.507265090942383,
          -58.44999694824219,
          -16.830429077148438,
          24.881834030151367,
          -7.3414506912231445,
          16.228116989135742,
          78.44892120361328,
          8.079354286193848,
          34.8336067199707,
          27.857614517211914,
          32.0657958984375,
          -17.519428253173828,
          5.6177778244018555,
          -38.612327575683594,
          68.90081024169922,
          -45.00309753417969,
          47.61819076538086,
          4.040163040161133,
          -14.467728614807129,
          73.22050476074219,
          4.571761608123779,
          38.415428161621094,
          -4.597568511962891,
          56.229652404785156,
          -0.8255394697189331,
          -5.944873809814453,
          24.81597900390625,
          -30.23343849182129,
          45.34846115112305,
          -51.442543029785156,
          67.7171630859375,
          21.598970413208008,
          19.045068740844727,
          -22.189788818359375,
          -44.697181701660156,
          -34.84605407714844,
          -68.36310577392578,
          35.46782684326172,
          87.32380676269531,
          35.354610443115234,
          12.748066902160645,
          -5.494405269622803,
          -6.279409885406494,
          34.53086853027344,
          -6.744688510894775,
          22.708799362182617,
          -37.666751861572266,
          15.692225456237793,
          47.09836959838867,
          -19.795318603515625,
          -21.74178123474121,
          -2.0783066749572754,
          51.847862243652344,
          36.732635498046875,
          -50.6298828125,
          -27.58836555480957,
          34.848838806152344,
          23.550872802734375,
          20.22245979309082,
          55.28785705566406,
          52.18125534057617,
          -50.73060989379883,
          20.236347198486328,
          -49.90201187133789,
          -21.64481544494629,
          -55.89801025390625,
          -10.090889930725098,
          43.78284454345703,
          -13.288847923278809,
          -50.925357818603516,
          47.31466293334961,
          -31.9769287109375,
          7.608512878417969,
          28.482521057128906,
          -3.5391199588775635,
          -13.683834075927734,
          4.841722011566162,
          22.555116653442383,
          4.1989922523498535,
          51.033905029296875,
          -12.842775344848633,
          7.702373027801514,
          -15.614343643188477,
          32.31772232055664,
          35.4923095703125,
          -50.724952697753906,
          48.117332458496094,
          -57.38143539428711,
          63.061424255371094,
          -31.577835083007812,
          -44.37890625,
          -26.403366088867188,
          22.74436378479004,
          -21.46166229248047,
          -2.451045513153076,
          36.98454666137695,
          26.404071807861328,
          -97.1999282836914,
          59.832611083984375,
          38.22910690307617,
          -5.473500728607178,
          -78.10538482666016,
          -56.08391571044922,
          -46.148780822753906,
          1.3557987213134766,
          -8.972176551818848,
          -62.533424377441406,
          -43.45281982421875,
          -6.648131370544434,
          1.6893956661224365,
          60.966548919677734,
          -62.75929641723633,
          63.57350540161133,
          6.129145622253418,
          4.117916107177734,
          -31.880157470703125,
          -31.285709381103516,
          4.913341045379639,
          20.26874542236328,
          -34.854087829589844,
          41.732906341552734,
          15.333566665649414,
          32.777244567871094,
          -1.6827632188796997,
          46.4365119934082,
          35.96889114379883,
          -16.17928695678711,
          27.349332809448242,
          -8.90182876586914,
          35.44841384887695,
          6.440659999847412,
          -19.898611068725586,
          -6.769890785217285,
          -19.112394332885742,
          -9.776450157165527,
          -23.86911392211914,
          0.6848747730255127,
          -36.398406982421875,
          -25.366971969604492,
          -27.397972106933594,
          12.089897155761719,
          -31.98023796081543,
          22.774017333984375,
          -16.50409507751465,
          -53.402809143066406,
          -48.33965301513672,
          42.25897979736328,
          -10.822683334350586,
          0.4566209614276886,
          19.483726501464844,
          63.876434326171875,
          -31.74968719482422,
          -5.016794204711914,
          -0.787624716758728,
          9.115437507629395,
          -8.345831871032715,
          -21.15923500061035,
          56.852691650390625,
          -14.269667625427246,
          -30.528078079223633,
          21.979597091674805,
          -25.248525619506836,
          43.9047737121582,
          -27.799583435058594,
          -26.882179260253906,
          49.74191665649414,
          -10.185247421264648,
          -56.846702575683594,
          -39.3014030456543,
          26.396331787109375,
          -25.323488235473633,
          3.9797253608703613,
          49.010467529296875,
          -50.78489303588867,
          -25.45953369140625,
          -70.45899963378906,
          -44.4169807434082,
          -53.080711364746094,
          35.413639068603516,
          2.3729281425476074,
          90.1004867553711,
          27.702823638916016,
          -71.14290618896484,
          25.822519302368164,
          59.84135055541992,
          44.30046844482422,
          -23.83795738220215,
          38.66654968261719,
          -3.4009158611297607,
          81.59270477294922,
          -34.78341293334961,
          -31.860816955566406,
          -19.947546005249023,
          -15.20314884185791,
          -33.37718963623047,
          62.58544921875,
          -28.72610092163086,
          -25.058210372924805,
          -50.72339630126953,
          -24.76514434814453,
          21.38837432861328,
          -11.656539916992188,
          86.7979965209961,
          -11.7763090133667,
          37.54206848144531,
          -1.2622488737106323,
          18.446578979492188,
          47.09659194946289,
          -22.096546173095703,
          -24.731853485107422,
          8.969305992126465,
          -18.92243194580078,
          38.14667510986328,
          32.28483200073242,
          -73.80028533935547,
          -76.78085327148438,
          1.2816135883331299,
          73.60433197021484,
          -58.824424743652344,
          18.094308853149414,
          -14.362074851989746,
          -44.63426208496094,
          -34.88059997558594,
          8.737865447998047,
          -22.6893367767334,
          5.157985210418701,
          -70.78466033935547,
          -5.9250569343566895,
          7.157365798950195,
          23.775604248046875,
          -14.71288013458252,
          71.53181457519531,
          -31.4765625,
          68.30924987792969,
          59.22539520263672,
          14.195592880249023,
          -35.749324798583984,
          15.681230545043945,
          33.194244384765625,
          -56.38844299316406,
          -5.706151962280273,
          35.57646942138672,
          -65.5963363647461,
          64.55313110351562,
          -56.051025390625,
          81.71326446533203,
          60.827392578125,
          86.14155578613281,
          -5.221280097961426,
          -9.913714408874512,
          -18.91307258605957,
          -16.105379104614258,
          22.240835189819336,
          13.949651718139648,
          -17.62782096862793,
          -44.60599899291992,
          -74.99832153320312,
          79.59591674804688,
          39.81120681762695,
          -38.529014587402344,
          25.469316482543945,
          -18.894254684448242,
          1.574676752090454,
          -53.525230407714844,
          -36.356712341308594,
          1.352057933807373,
          48.23944091796875,
          31.90835189819336,
          -31.16682243347168,
          46.495914459228516,
          37.73457717895508,
          -19.491069793701172,
          -26.220293045043945,
          -57.611297607421875,
          73.29840087890625,
          21.60845375061035,
          -25.68726921081543,
          -22.826801300048828,
          31.813194274902344,
          -18.693361282348633,
          34.39113235473633,
          25.915206909179688,
          35.86204147338867,
          31.897029876708984,
          -11.429214477539062,
          -96.56314849853516,
          -35.135231018066406,
          -9.68550968170166,
          26.18160629272461,
          -43.83070373535156,
          -27.17046546936035,
          -32.5601921081543,
          62.619083404541016,
          -12.759611129760742,
          35.85044479370117,
          23.424272537231445,
          -75.97645568847656,
          11.172539710998535,
          -16.93459701538086,
          37.87870788574219,
          32.39330291748047,
          71.04788970947266,
          -49.463314056396484,
          69.78620910644531,
          33.59287643432617,
          17.282333374023438,
          -7.00214147567749,
          -7.769900798797607,
          -2.449676752090454,
          59.38603973388672,
          27.459606170654297,
          -32.12617111206055,
          63.3596076965332,
          20.737703323364258,
          -11.839144706726074,
          -6.30666971206665,
          -55.48460388183594,
          -55.5765495300293,
          -18.556081771850586
         ],
         "yaxis": "y"
        },
        {
         "hovertemplate": "<b>%{hovertext}</b><br><br>Classification=outlier<br>37D->2D TSNE1=%{x}<br>37D->2D TSNE2=%{y}<extra></extra>",
         "hovertext": [
          "Zr1 Ta2.13 Ru3.53",
          "Hf3 Mo1 B14 Si10",
          "Hf1 Zr1 Ti1 Ta1 C4",
          "Nb8 W2.33 Cr1 Co11 Al11",
          "Zr1.27 Ta1.07 Ru1",
          "Ti4.5 Ta6 Nb15 Co1 Ni23.5",
          "W1 Re6 Fe2 Ni8",
          "Ti1 Nb1 Ag1 Zn1 Al1",
          "Li2 Mg1 Sc2 Ti3 Al2",
          "Nb1 V5.5 W4.5 Mo1",
          "Be2.25 Zr4.12 Ti1.38 Ni1 Cu1.25",
          "Ta8 Ir7 Ni4 B1",
          "Zr30.5 Ti1 Cu12.5 Al6",
          "Ti32 Ta1 Nb9 Cr19 Co39",
          "W1.5 Mo6.33 Co1 Ni1.83 Al6",
          "Ti1 V23 Cr1",
          "Zr2 W1 C2"
         ],
         "legendgroup": "outlier",
         "marker": {
          "color": "#E15F99",
          "symbol": "circle"
         },
         "mode": "markers",
         "name": "outlier",
         "showlegend": true,
         "type": "scattergl",
         "x": [
          49.19677734375,
          3.70896053314209,
          54.6438102722168,
          -11.438459396362305,
          49.172611236572266,
          -9.952693939208984,
          -8.76103687286377,
          25.428054809570312,
          23.916751861572266,
          47.47086715698242,
          36.75082015991211,
          -2.195441246032715,
          36.513877868652344,
          17.94907569885254,
          -6.92151403427124,
          50.87089538574219,
          54.635719299316406
         ],
         "xaxis": "x",
         "y": [
          -39.22642135620117,
          10.320141792297363,
          -23.688533782958984,
          -77.25669860839844,
          -39.22056198120117,
          54.517486572265625,
          60.68566131591797,
          -37.097381591796875,
          -23.66236114501953,
          31.52407455444336,
          -40.82078170776367,
          55.29191589355469,
          -40.75884246826172,
          -20.30547523498535,
          -29.541399002075195,
          21.84650230407715,
          -23.676301956176758
         ],
         "yaxis": "y"
        }
       ],
       "layout": {
        "legend": {
         "title": {
          "text": "Classification"
         },
         "tracegroupgap": 0
        },
        "margin": {
         "t": 60
        },
        "template": {
         "data": {
          "bar": [
           {
            "error_x": {
             "color": "#2a3f5f"
            },
            "error_y": {
             "color": "#2a3f5f"
            },
            "marker": {
             "line": {
              "color": "white",
              "width": 0.5
             },
             "pattern": {
              "fillmode": "overlay",
              "size": 10,
              "solidity": 0.2
             }
            },
            "type": "bar"
           }
          ],
          "barpolar": [
           {
            "marker": {
             "line": {
              "color": "white",
              "width": 0.5
             },
             "pattern": {
              "fillmode": "overlay",
              "size": 10,
              "solidity": 0.2
             }
            },
            "type": "barpolar"
           }
          ],
          "carpet": [
           {
            "aaxis": {
             "endlinecolor": "#2a3f5f",
             "gridcolor": "#C8D4E3",
             "linecolor": "#C8D4E3",
             "minorgridcolor": "#C8D4E3",
             "startlinecolor": "#2a3f5f"
            },
            "baxis": {
             "endlinecolor": "#2a3f5f",
             "gridcolor": "#C8D4E3",
             "linecolor": "#C8D4E3",
             "minorgridcolor": "#C8D4E3",
             "startlinecolor": "#2a3f5f"
            },
            "type": "carpet"
           }
          ],
          "choropleth": [
           {
            "colorbar": {
             "outlinewidth": 0,
             "ticks": ""
            },
            "type": "choropleth"
           }
          ],
          "contour": [
           {
            "colorbar": {
             "outlinewidth": 0,
             "ticks": ""
            },
            "colorscale": [
             [
              0,
              "#0d0887"
             ],
             [
              0.1111111111111111,
              "#46039f"
             ],
             [
              0.2222222222222222,
              "#7201a8"
             ],
             [
              0.3333333333333333,
              "#9c179e"
             ],
             [
              0.4444444444444444,
              "#bd3786"
             ],
             [
              0.5555555555555556,
              "#d8576b"
             ],
             [
              0.6666666666666666,
              "#ed7953"
             ],
             [
              0.7777777777777778,
              "#fb9f3a"
             ],
             [
              0.8888888888888888,
              "#fdca26"
             ],
             [
              1,
              "#f0f921"
             ]
            ],
            "type": "contour"
           }
          ],
          "contourcarpet": [
           {
            "colorbar": {
             "outlinewidth": 0,
             "ticks": ""
            },
            "type": "contourcarpet"
           }
          ],
          "heatmap": [
           {
            "colorbar": {
             "outlinewidth": 0,
             "ticks": ""
            },
            "colorscale": [
             [
              0,
              "#0d0887"
             ],
             [
              0.1111111111111111,
              "#46039f"
             ],
             [
              0.2222222222222222,
              "#7201a8"
             ],
             [
              0.3333333333333333,
              "#9c179e"
             ],
             [
              0.4444444444444444,
              "#bd3786"
             ],
             [
              0.5555555555555556,
              "#d8576b"
             ],
             [
              0.6666666666666666,
              "#ed7953"
             ],
             [
              0.7777777777777778,
              "#fb9f3a"
             ],
             [
              0.8888888888888888,
              "#fdca26"
             ],
             [
              1,
              "#f0f921"
             ]
            ],
            "type": "heatmap"
           }
          ],
          "heatmapgl": [
           {
            "colorbar": {
             "outlinewidth": 0,
             "ticks": ""
            },
            "colorscale": [
             [
              0,
              "#0d0887"
             ],
             [
              0.1111111111111111,
              "#46039f"
             ],
             [
              0.2222222222222222,
              "#7201a8"
             ],
             [
              0.3333333333333333,
              "#9c179e"
             ],
             [
              0.4444444444444444,
              "#bd3786"
             ],
             [
              0.5555555555555556,
              "#d8576b"
             ],
             [
              0.6666666666666666,
              "#ed7953"
             ],
             [
              0.7777777777777778,
              "#fb9f3a"
             ],
             [
              0.8888888888888888,
              "#fdca26"
             ],
             [
              1,
              "#f0f921"
             ]
            ],
            "type": "heatmapgl"
           }
          ],
          "histogram": [
           {
            "marker": {
             "pattern": {
              "fillmode": "overlay",
              "size": 10,
              "solidity": 0.2
             }
            },
            "type": "histogram"
           }
          ],
          "histogram2d": [
           {
            "colorbar": {
             "outlinewidth": 0,
             "ticks": ""
            },
            "colorscale": [
             [
              0,
              "#0d0887"
             ],
             [
              0.1111111111111111,
              "#46039f"
             ],
             [
              0.2222222222222222,
              "#7201a8"
             ],
             [
              0.3333333333333333,
              "#9c179e"
             ],
             [
              0.4444444444444444,
              "#bd3786"
             ],
             [
              0.5555555555555556,
              "#d8576b"
             ],
             [
              0.6666666666666666,
              "#ed7953"
             ],
             [
              0.7777777777777778,
              "#fb9f3a"
             ],
             [
              0.8888888888888888,
              "#fdca26"
             ],
             [
              1,
              "#f0f921"
             ]
            ],
            "type": "histogram2d"
           }
          ],
          "histogram2dcontour": [
           {
            "colorbar": {
             "outlinewidth": 0,
             "ticks": ""
            },
            "colorscale": [
             [
              0,
              "#0d0887"
             ],
             [
              0.1111111111111111,
              "#46039f"
             ],
             [
              0.2222222222222222,
              "#7201a8"
             ],
             [
              0.3333333333333333,
              "#9c179e"
             ],
             [
              0.4444444444444444,
              "#bd3786"
             ],
             [
              0.5555555555555556,
              "#d8576b"
             ],
             [
              0.6666666666666666,
              "#ed7953"
             ],
             [
              0.7777777777777778,
              "#fb9f3a"
             ],
             [
              0.8888888888888888,
              "#fdca26"
             ],
             [
              1,
              "#f0f921"
             ]
            ],
            "type": "histogram2dcontour"
           }
          ],
          "mesh3d": [
           {
            "colorbar": {
             "outlinewidth": 0,
             "ticks": ""
            },
            "type": "mesh3d"
           }
          ],
          "parcoords": [
           {
            "line": {
             "colorbar": {
              "outlinewidth": 0,
              "ticks": ""
             }
            },
            "type": "parcoords"
           }
          ],
          "pie": [
           {
            "automargin": true,
            "type": "pie"
           }
          ],
          "scatter": [
           {
            "fillpattern": {
             "fillmode": "overlay",
             "size": 10,
             "solidity": 0.2
            },
            "type": "scatter"
           }
          ],
          "scatter3d": [
           {
            "line": {
             "colorbar": {
              "outlinewidth": 0,
              "ticks": ""
             }
            },
            "marker": {
             "colorbar": {
              "outlinewidth": 0,
              "ticks": ""
             }
            },
            "type": "scatter3d"
           }
          ],
          "scattercarpet": [
           {
            "marker": {
             "colorbar": {
              "outlinewidth": 0,
              "ticks": ""
             }
            },
            "type": "scattercarpet"
           }
          ],
          "scattergeo": [
           {
            "marker": {
             "colorbar": {
              "outlinewidth": 0,
              "ticks": ""
             }
            },
            "type": "scattergeo"
           }
          ],
          "scattergl": [
           {
            "marker": {
             "colorbar": {
              "outlinewidth": 0,
              "ticks": ""
             }
            },
            "type": "scattergl"
           }
          ],
          "scattermapbox": [
           {
            "marker": {
             "colorbar": {
              "outlinewidth": 0,
              "ticks": ""
             }
            },
            "type": "scattermapbox"
           }
          ],
          "scatterpolar": [
           {
            "marker": {
             "colorbar": {
              "outlinewidth": 0,
              "ticks": ""
             }
            },
            "type": "scatterpolar"
           }
          ],
          "scatterpolargl": [
           {
            "marker": {
             "colorbar": {
              "outlinewidth": 0,
              "ticks": ""
             }
            },
            "type": "scatterpolargl"
           }
          ],
          "scatterternary": [
           {
            "marker": {
             "colorbar": {
              "outlinewidth": 0,
              "ticks": ""
             }
            },
            "type": "scatterternary"
           }
          ],
          "surface": [
           {
            "colorbar": {
             "outlinewidth": 0,
             "ticks": ""
            },
            "colorscale": [
             [
              0,
              "#0d0887"
             ],
             [
              0.1111111111111111,
              "#46039f"
             ],
             [
              0.2222222222222222,
              "#7201a8"
             ],
             [
              0.3333333333333333,
              "#9c179e"
             ],
             [
              0.4444444444444444,
              "#bd3786"
             ],
             [
              0.5555555555555556,
              "#d8576b"
             ],
             [
              0.6666666666666666,
              "#ed7953"
             ],
             [
              0.7777777777777778,
              "#fb9f3a"
             ],
             [
              0.8888888888888888,
              "#fdca26"
             ],
             [
              1,
              "#f0f921"
             ]
            ],
            "type": "surface"
           }
          ],
          "table": [
           {
            "cells": {
             "fill": {
              "color": "#EBF0F8"
             },
             "line": {
              "color": "white"
             }
            },
            "header": {
             "fill": {
              "color": "#C8D4E3"
             },
             "line": {
              "color": "white"
             }
            },
            "type": "table"
           }
          ]
         },
         "layout": {
          "annotationdefaults": {
           "arrowcolor": "#2a3f5f",
           "arrowhead": 0,
           "arrowwidth": 1
          },
          "autotypenumbers": "strict",
          "coloraxis": {
           "colorbar": {
            "outlinewidth": 0,
            "ticks": ""
           }
          },
          "colorscale": {
           "diverging": [
            [
             0,
             "#8e0152"
            ],
            [
             0.1,
             "#c51b7d"
            ],
            [
             0.2,
             "#de77ae"
            ],
            [
             0.3,
             "#f1b6da"
            ],
            [
             0.4,
             "#fde0ef"
            ],
            [
             0.5,
             "#f7f7f7"
            ],
            [
             0.6,
             "#e6f5d0"
            ],
            [
             0.7,
             "#b8e186"
            ],
            [
             0.8,
             "#7fbc41"
            ],
            [
             0.9,
             "#4d9221"
            ],
            [
             1,
             "#276419"
            ]
           ],
           "sequential": [
            [
             0,
             "#0d0887"
            ],
            [
             0.1111111111111111,
             "#46039f"
            ],
            [
             0.2222222222222222,
             "#7201a8"
            ],
            [
             0.3333333333333333,
             "#9c179e"
            ],
            [
             0.4444444444444444,
             "#bd3786"
            ],
            [
             0.5555555555555556,
             "#d8576b"
            ],
            [
             0.6666666666666666,
             "#ed7953"
            ],
            [
             0.7777777777777778,
             "#fb9f3a"
            ],
            [
             0.8888888888888888,
             "#fdca26"
            ],
            [
             1,
             "#f0f921"
            ]
           ],
           "sequentialminus": [
            [
             0,
             "#0d0887"
            ],
            [
             0.1111111111111111,
             "#46039f"
            ],
            [
             0.2222222222222222,
             "#7201a8"
            ],
            [
             0.3333333333333333,
             "#9c179e"
            ],
            [
             0.4444444444444444,
             "#bd3786"
            ],
            [
             0.5555555555555556,
             "#d8576b"
            ],
            [
             0.6666666666666666,
             "#ed7953"
            ],
            [
             0.7777777777777778,
             "#fb9f3a"
            ],
            [
             0.8888888888888888,
             "#fdca26"
            ],
            [
             1,
             "#f0f921"
            ]
           ]
          },
          "colorway": [
           "#636efa",
           "#EF553B",
           "#00cc96",
           "#ab63fa",
           "#FFA15A",
           "#19d3f3",
           "#FF6692",
           "#B6E880",
           "#FF97FF",
           "#FECB52"
          ],
          "font": {
           "color": "#2a3f5f"
          },
          "geo": {
           "bgcolor": "white",
           "lakecolor": "white",
           "landcolor": "white",
           "showlakes": true,
           "showland": true,
           "subunitcolor": "#C8D4E3"
          },
          "hoverlabel": {
           "align": "left"
          },
          "hovermode": "closest",
          "mapbox": {
           "style": "light"
          },
          "paper_bgcolor": "white",
          "plot_bgcolor": "white",
          "polar": {
           "angularaxis": {
            "gridcolor": "#EBF0F8",
            "linecolor": "#EBF0F8",
            "ticks": ""
           },
           "bgcolor": "white",
           "radialaxis": {
            "gridcolor": "#EBF0F8",
            "linecolor": "#EBF0F8",
            "ticks": ""
           }
          },
          "scene": {
           "xaxis": {
            "backgroundcolor": "white",
            "gridcolor": "#DFE8F3",
            "gridwidth": 2,
            "linecolor": "#EBF0F8",
            "showbackground": true,
            "ticks": "",
            "zerolinecolor": "#EBF0F8"
           },
           "yaxis": {
            "backgroundcolor": "white",
            "gridcolor": "#DFE8F3",
            "gridwidth": 2,
            "linecolor": "#EBF0F8",
            "showbackground": true,
            "ticks": "",
            "zerolinecolor": "#EBF0F8"
           },
           "zaxis": {
            "backgroundcolor": "white",
            "gridcolor": "#DFE8F3",
            "gridwidth": 2,
            "linecolor": "#EBF0F8",
            "showbackground": true,
            "ticks": "",
            "zerolinecolor": "#EBF0F8"
           }
          },
          "shapedefaults": {
           "line": {
            "color": "#2a3f5f"
           }
          },
          "ternary": {
           "aaxis": {
            "gridcolor": "#DFE8F3",
            "linecolor": "#A2B1C6",
            "ticks": ""
           },
           "baxis": {
            "gridcolor": "#DFE8F3",
            "linecolor": "#A2B1C6",
            "ticks": ""
           },
           "bgcolor": "white",
           "caxis": {
            "gridcolor": "#DFE8F3",
            "linecolor": "#A2B1C6",
            "ticks": ""
           }
          },
          "title": {
           "x": 0.05
          },
          "xaxis": {
           "automargin": true,
           "gridcolor": "#EBF0F8",
           "linecolor": "#EBF0F8",
           "ticks": "",
           "title": {
            "standoff": 15
           },
           "zerolinecolor": "#EBF0F8",
           "zerolinewidth": 2
          },
          "yaxis": {
           "automargin": true,
           "gridcolor": "#EBF0F8",
           "linecolor": "#EBF0F8",
           "ticks": "",
           "title": {
            "standoff": 15
           },
           "zerolinecolor": "#EBF0F8",
           "zerolinewidth": 2
          }
         }
        },
        "xaxis": {
         "anchor": "y",
         "domain": [
          0,
          1
         ],
         "title": {
          "text": "37D->2D TSNE1"
         }
        },
        "yaxis": {
         "anchor": "x",
         "domain": [
          0,
          1
         ],
         "title": {
          "text": "37D->2D TSNE2"
         }
        }
       }
      }
     },
     "metadata": {},
     "output_type": "display_data"
    }
   ],
   "source": [
    "allD.showOutliersDBSCAN()"
   ]
  },
  {
   "cell_type": "code",
   "execution_count": 31,
   "metadata": {
    "ExecuteTime": {
     "end_time": "2023-03-28T14:51:17.746549Z",
     "start_time": "2023-03-28T14:51:17.710641Z"
    },
    "collapsed": false
   },
   "outputs": [],
   "source": [
    "allD.updateOutliersList()"
   ]
  },
  {
   "cell_type": "code",
   "execution_count": 32,
   "metadata": {
    "ExecuteTime": {
     "end_time": "2023-03-28T14:51:19.657990Z",
     "start_time": "2023-03-28T14:51:19.120913Z"
    },
    "collapsed": false
   },
   "outputs": [
    {
     "name": "stdout",
     "output_type": "stream",
     "text": [
      "Outlier Zr1 Ta2.13 Ru3.53         | Zr15 Ta32 Ru53            | Ru53 Ta32 Zr15 \n",
      "matched to:  Marcia Ahn           upload from DOI 10.1016/j.apsusc.2015.06.144 at position T3 \n",
      "\n",
      "Outlier Hf3 Mo1 B14 Si10          | Hf10.7 Mo3.6 B50 Si35.7   | MoSi10B14Hf3\n",
      "matched to:  Shuang Lin           upload from DOI 10.1016/j.msea.2011.11.001 at position T1 \n",
      "\n",
      "Outlier Hf1 Zr1 Ti1 Ta1 C4        | Hf12.5 Zr12.5 Ti12.5 Ta12.5 C50 | (Zr0.25Hf0.25Ta0.25Ti0.25)C\n",
      "matched to:  Hui Sun              upload from DOI 10.1007/s11661-020-06034-2 at position P2 \n",
      "\n",
      "Outlier Nb8 W2.33 Cr1 Co11 Al11   | Nb24 W7 Cr3 Co33 Al33     | Co33W07Al33Nb24Cr03\n",
      "matched to:  Adam Krajewski       upload from DOI 10.1038/s41467-019-10533-1 \n",
      "\n",
      "Outlier Zr1.27 Ta1.07 Ru1         | Zr38 Ta32 Ru30            | Zr38 Ta32 Ru30\n",
      "matched to:  Marcia Ahn           upload from DOI 10.1016/j.apsusc.2015.06.144 at position T3 \n",
      "\n",
      "Outlier Ti4.5 Ta6 Nb15 Co1 Ni23.5 | Ti9 Ta12 Nb30 Co2 Ni47    | Ni47Co02Ta12Ti9Nb30\n",
      "matched to:  Adam Krajewski       upload from DOI 10.1038/s41467-019-10533-1 \n",
      "\n",
      "Outlier W1 Re6 Fe2 Ni8            | W5.9 Re35.3 Fe11.8 Ni47.1 | WNi8Fe2Re6\n",
      "matched to:  Shuang Lin           upload from DOI 10.3390/ma14071660 at position T2 \n",
      "\n",
      "Outlier Ti1 Nb1 Ag1 Zn1 Al1       | Ti20 Nb20 Ag20 Zn20 Al20  | AgAlNbTiZn\n",
      "matched to:  Adam Krajewski       upload from DOI 10.1016/j.msea.2018.12.020 \n",
      "\n",
      "Outlier Li2 Mg1 Sc2 Ti3 Al2       | Li20 Mg10 Sc20 Ti30 Al20  | AlLiMg0.5ScTi1.5\n",
      "matched to:  Adam Krajewski       upload from DOI 10.1080/21663831.2014.985855 \n",
      "\n",
      "Outlier Nb1 V5.5 W4.5 Mo1         | Nb8.3 V45.8 W37.5 Mo8.3   | V11Nb2Mo2W9\n",
      "matched to:  Happy Researcher     upload from DOI 10.1016-j.actamat.2021.116800 at position T3 \n",
      "\n",
      "Outlier Be2.25 Zr4.12 Ti1.38 Ni1 Cu1.25 | Be22.5 Zr41.2 Ti13.8 Ni10 Cu12.5 | Zr41.2 Ti13.8 Cu12.5 Ni10 Be22.5\n",
      "matched to:  Hui Sun              upload from DOI 10.1016/j.scriptamat.2013.05.020 at position T1 \n",
      "\n",
      "Outlier Ta8 Ir7 Ni4 B1            | Ta40 Ir35 Ni20 B5         | Ir35Ni20Ta40B5\n",
      "matched to:  Shuang Lin           upload from DOI 10.1103/PhysRevMaterials.5.040301 at position T6 \n",
      "\n",
      "Outlier Zr30.5 Ti1 Cu12.5 Al6     | Zr61 Ti2 Cu25 Al12        | Zr61Ti2Cu25Al12\n",
      "matched to:  Hui Sun              upload from DOI 10.1007/s11837-015-1563-9 at position T2 \n",
      "\n",
      "Outlier Ti32 Ta1 Nb9 Cr19 Co39    | Ti32 Ta1 Nb9 Cr19 Co39    | Ti32Nb9Ta01Cr19Co39\n",
      "matched to:  Adam Krajewski       upload from DOI 10.1038/s41467-019-10533-1 \n",
      "\n",
      "Outlier W1.5 Mo6.33 Co1 Ni1.83 Al6 | W9 Mo38 Co6 Ni11 Al36     | Co6W9Al36Mo38Ni11\n",
      "matched to:  Adam Krajewski       upload from DOI 10.1038/s41467-019-10533-1 \n",
      "\n",
      "Outlier Ti1 V23 Cr1               | Ti4 V92 Cr4               | V92 Cr4 Ti4\n",
      "matched to:  Marcia Ahn           upload from DOI Natesan_2002_UniaxialCreepBehavior at position F2 \n",
      "\n",
      "Outlier Zr2 W1 C2                 | Zr40 W20 C40              | W0.5ZrC\n",
      "matched to:  Shuang Lin           upload from DOI 10.1038/srep16014 at position T1 \n",
      "\n",
      "Found 17 outlier data sources from all uploaded data.\n"
     ]
    }
   ],
   "source": [
    "allD.findOutlierDataSources();"
   ]
  }
 ],
 "metadata": {
  "kernelspec": {
   "display_name": "Python 3",
   "language": "python",
   "name": "python3"
  },
  "language_info": {
   "codemirror_mode": {
    "name": "ipython",
    "version": 3
   },
   "file_extension": ".py",
   "mimetype": "text/x-python",
   "name": "python",
   "nbconvert_exporter": "python",
   "pygments_lexer": "ipython3",
   "version": "3.11.10"
  }
 },
 "nbformat": 4,
 "nbformat_minor": 0
}

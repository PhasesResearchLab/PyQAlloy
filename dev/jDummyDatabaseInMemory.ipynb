{
 "cells": [
  {
   "cell_type": "code",
   "execution_count": 2,
   "metadata": {
    "collapsed": true,
    "ExecuteTime": {
     "start_time": "2023-03-18T20:29:48.707444Z",
     "end_time": "2023-03-18T20:29:49.807722Z"
    }
   },
   "outputs": [],
   "source": [
    "from pyqalloy.curation import analysis\n",
    "\n",
    "import bson\n",
    "from montydb import MontyClient"
   ]
  },
  {
   "cell_type": "code",
   "execution_count": 3,
   "outputs": [
    {
     "name": "stdout",
     "output_type": "stream",
     "text": [
      "Connected to the CURATED_Dec2022 in ULTERA_internal with 6073 data points detected.\n"
     ]
    }
   ],
   "source": [
    "sC = analysis.SingleCompositionAnalyzer()"
   ],
   "metadata": {
    "collapsed": false,
    "ExecuteTime": {
     "start_time": "2023-03-18T20:29:49.808325Z",
     "end_time": "2023-03-18T20:29:50.556338Z"
    }
   }
  },
  {
   "cell_type": "code",
   "execution_count": 4,
   "outputs": [],
   "source": [
    "#with open('ULTERA_sample.bson', 'wb+') as f:\n",
    "    #for doc in sC.collection.find():\n",
    "        #f.write(bson.BSON.encode(doc))"
   ],
   "metadata": {
    "collapsed": false,
    "ExecuteTime": {
     "start_time": "2023-03-18T20:29:52.782440Z",
     "end_time": "2023-03-18T20:29:52.786382Z"
    }
   }
  },
  {
   "cell_type": "code",
   "execution_count": 5,
   "outputs": [],
   "source": [
    "sampleCollection = MontyClient(\":memory:\").db.test"
   ],
   "metadata": {
    "collapsed": false,
    "ExecuteTime": {
     "start_time": "2023-03-18T20:29:54.425166Z",
     "end_time": "2023-03-18T20:29:54.428775Z"
    }
   }
  },
  {
   "cell_type": "code",
   "execution_count": 6,
   "outputs": [],
   "source": [
    "with open('../ULTERA_sample.bson', 'rb+') as f:\n",
    "    sampleCollection.insert_many(bson.decode_all(f.read()))"
   ],
   "metadata": {
    "collapsed": false,
    "ExecuteTime": {
     "start_time": "2023-03-18T20:29:56.412348Z",
     "end_time": "2023-03-18T20:29:56.484187Z"
    }
   }
  },
  {
   "cell_type": "code",
   "execution_count": 7,
   "outputs": [
    {
     "data": {
      "text/plain": "{'_id': ObjectId('635997c429377cf4308b62b0'),\n 'meta': {'source': 'LIT',\n  'name': 'Shuang Lin',\n  'email': 'spl5745@psu.edu',\n  'directFetch': 'T',\n  'handFetch': 'F',\n  'timeStamp': datetime.datetime(2022, 10, 26, 16, 25),\n  'dataSheetName': 'newupload-ductility.xlsx'},\n 'material': {'rawFormula': 'Ti0.75NbTaMoW',\n  'formula': 'Ti0.75 Ta1 Nb1 W1 Mo1',\n  'compositionDictionary': {'Ti': 0.15789473684210525,\n   'Nb': 0.21052631578947367,\n   'Ta': 0.21052631578947367,\n   'Mo': 0.21052631578947367,\n   'W': 0.21052631578947367},\n  'percentileFormula': 'Ti15.8 Ta21.1 Nb21.1 W21.1 Mo21.1',\n  'relationalFormula': 'Ti1 Ta1.33 Nb1.33 W1.33 Mo1.33',\n  'compositionVector': [0.0,\n   0.0,\n   0.0,\n   0.0,\n   0.0,\n   0.1579,\n   0.2105,\n   0.0,\n   0.2105,\n   0.0,\n   0.2105,\n   0.2105,\n   0.0,\n   0.0,\n   0.0,\n   0.0,\n   0.0,\n   0.0,\n   0.0,\n   0.0],\n  'anonymizedFormula': 'A0.75BCDE',\n  'reducedFormula': 'Ta1Ti0.75Nb1Mo1W1',\n  'system': 'Mo-Nb-Ta-Ti-W',\n  'elements': ['Mo', 'Nb', 'Ta', 'Ti', 'W'],\n  'nComponents': 5,\n  'structure': ['BCC'],\n  'nPhases': 1,\n  'observationTemperature': 298.0,\n  'singleSolidSolution': True,\n  'solidSolution': True},\n 'property': {'name': 'compressive ductility', 'value': 8.4, 'source': 'EXP'},\n 'reference': {'doi': '10.1016/j.actamat.2021.116800',\n  'pointer': 'TC1',\n  'doiCount': 238},\n 'structuralProperties': {'LC': {'SQusf': 0.8903263157894736,\n   'G111C': 87.12473684210525,\n   'DFTC12': 155.31736842105263,\n   'DFTGvb': 28.810842105263156,\n   'NfUnfill': 0.0,\n   'Heat_Sublimation': 708494.5789473683,\n   'Ion_Pot_2': 15.515263157894736,\n   'Va_Activa': 4.172631578947368,\n   'Ele_Conduc': 1.1373684210526316,\n   'G_wiki': 88.63157894736841,\n   'NdVal': 3.6842105263157894,\n   'Period': 5.2631578947368425,\n   'price [$/kg]': 101.42631578947368,\n   'PP_radius_s': 1.2173684210526314,\n   'Gb2pih': 15.744942105263156,\n   'Ion_Pot_1': 6.855263157894735,\n   'V0_Miedema': 10.209473684210526,\n   'EleNeg_Pauling': 1.8473684210526313,\n   'EleNeg_Miedema': 4.294736842105263,\n   'DFTBvG': 3.49378947368421,\n   'DFTpoisson': 0.3455421052631579,\n   'DFTC44': 74.57526315789474,\n   'NfVal': 5.894736842105263,\n   'DFTv0': 17.223263157894735,\n   'NsUnfill': 0.42105263157894735,\n   'S298': 34.09684210526316,\n   'Heat_Capacity': 24570.931578947366,\n   'NdUnfill': 6.315789473684211,\n   'Y_wiki': 235.36842105263156,\n   'Cauchy': 187.91315789473683,\n   'DFTC33': 343.98842105263157,\n   'GGB32': 14.215268421052631,\n   'MeltingT': 2966.8421052631575,\n   'Electron_Affinity': 0.6021052631578947,\n   'DFTb': 2.8335263157894737,\n   'DFTYoung': 212.78,\n   'BGsq': 1.8141210526315787,\n   'Radius_vDW': 206.99999999999997,\n   'DFTC13': 154.13631578947368,\n   'DFTGV': 1345.6068421052632,\n   'ISIS': 9.51457894736842,\n   'SQGusfp': 14.292547368421051,\n   'CohEnergy': 7.374210526315789,\n   'Heat_Fusion': 27936.98947368421,\n   'KGS': 17.248031578947366,\n   'Mass': 124.11631578947366,\n   'DFTC11': 341.67210526315785,\n   'Radius_Coval': 162.10526315789474,\n   'replacementLevel': 0.15789473684210525,\n   'MaxR_Ele_in_Solid': 0.5294736842105263,\n   'WorkFunc': 4.41,\n   'No_Spectral_lines': 480.63157894736844,\n   'DFTBh': 217.16894736842102,\n   'density0K [g/cm^3]': 12.009195814688939,\n   'Va_Form': 2.9473684210526314,\n   'SpaceGroup': 223.4736842105263,\n   'NUnfill': 6.7368421052631575,\n   'KIC': 208.11052631578946,\n   'DebyeT': 353.6842105263158,\n   'PackingEff': 0.689697,\n   'normUSFE': 4.115631578947369,\n   'NDFTC44': 74.7221052631579,\n   'price [$/cm^3]': 1.4614140184601916,\n   'VaporHeat': 662.0526315789473,\n   'Nval': 11.157894736842106,\n   'Group': 5.2631578947368425,\n   'NsVal': 1.5789473684210527,\n   'EleDensity_Miedema': 4.8110526315789475,\n   'NDFTC12': 154.53105263157894,\n   'PP_radius_p': 1.506842105263158,\n   'M_Num2': 49.526315789473685,\n   'BoilingT': 5054.0,\n   'Ion_Pot_3': 26.274736842105263,\n   'NDFTCxx': 81.0721052631579,\n   'NpVal': 0.0,\n   'ratio_bh': 1.2308313684210526,\n   'USFE': 0.8712631578947367,\n   'NDFTC11': 342.44421052631577,\n   'atomicNumber': 51.89473684210526,\n   'Therm_Conduc': 0.9273684210526314,\n   'B_wiki': 208.94736842105266,\n   'NpUnfill': 0.0,\n   'GvsqY': 5.253368421052631,\n   'DFTGh': 80.55421052631579},\n  'LC_BCC': {'SQusf': 0.8903263157894736,\n   'G111C': 87.12473684210525,\n   'DFTC12': 155.31736842105263,\n   'DFTGvb': 28.810842105263156,\n   'NfUnfill': 0.0,\n   'Heat_Sublimation': 708494.5789473683,\n   'Ion_Pot_2': 15.515263157894736,\n   'Surf': 2.5873684210526315,\n   'Va_Activa': 4.172631578947368,\n   'Ele_Conduc': 1.1373684210526316,\n   'G_wiki': 88.63157894736841,\n   'NdVal': 3.6842105263157894,\n   'Period': 5.2631578947368425,\n   'price [$/kg]': 101.42631578947368,\n   'PP_radius_s': 1.2173684210526314,\n   'Gb2pih': 15.744942105263156,\n   'Ion_Pot_1': 6.855263157894735,\n   'V0_Miedema': 10.209473684210526,\n   'EleNeg_Pauling': 1.8473684210526313,\n   'EleNeg_Miedema': 4.294736842105263,\n   'DFTBvG': 3.49378947368421,\n   'DFTpoisson': 0.3455421052631579,\n   'DFTC44': 74.57526315789474,\n   'NfVal': 5.894736842105263,\n   'DFTv0': 17.223263157894735,\n   'NsUnfill': 0.42105263157894735,\n   'S298': 34.09684210526316,\n   'Heat_Capacity': 24570.931578947366,\n   'NdUnfill': 6.315789473684211,\n   'Y_wiki': 235.36842105263156,\n   'Cauchy': 187.91315789473683,\n   'DFTC33': 343.98842105263157,\n   'GGB32': 14.215268421052631,\n   'MeltingT': 2966.8421052631575,\n   'Electron_Affinity': 0.6021052631578947,\n   'DFTb': 2.8335263157894737,\n   'DFTYoung': 212.78,\n   'BGsq': 1.8141210526315787,\n   'Radius_vDW': 206.99999999999997,\n   'DFTC13': 154.13631578947368,\n   'DFTGV': 1345.6068421052632,\n   'ISIS': 9.51457894736842,\n   'SQGusfp': 14.292547368421051,\n   'CohEnergy': 7.374210526315789,\n   'Heat_Fusion': 27936.98947368421,\n   'KGS': 17.248031578947366,\n   'Mass': 124.11631578947366,\n   'DFTC11': 341.67210526315785,\n   'Radius_Coval': 162.10526315789474,\n   'replacementLevel': 0.15789473684210525,\n   'MaxR_Ele_in_Solid': 0.5294736842105263,\n   'WorkFunc': 4.41,\n   'No_Spectral_lines': 480.63157894736844,\n   'DFTBh': 217.16894736842102,\n   'density0K [g/cm^3]': 12.009195814688939,\n   'Va_Form': 2.9473684210526314,\n   'SpaceGroup': 223.4736842105263,\n   'NUnfill': 6.7368421052631575,\n   'KIC': 208.11052631578946,\n   'DebyeT': 353.6842105263158,\n   'PackingEff': 0.689697,\n   'normUSFE': 4.115631578947369,\n   'NDFTC44': 74.7221052631579,\n   'price [$/cm^3]': 1.4614140184601916,\n   'VaporHeat': 662.0526315789473,\n   'Nval': 11.157894736842106,\n   'Group': 5.2631578947368425,\n   'NsVal': 1.5789473684210527,\n   'EleDensity_Miedema': 4.8110526315789475,\n   'NDFTC12': 154.53105263157894,\n   'FTscale': 81.45705263157893,\n   'PP_radius_p': 1.506842105263158,\n   'M_Num2': 49.526315789473685,\n   'BoilingT': 5054.0,\n   'Ion_Pot_3': 26.274736842105263,\n   'NDFTCxx': 81.0721052631579,\n   'NpVal': 0.0,\n   'ratio_bh': 1.2308313684210526,\n   'USFE': 0.8712631578947367,\n   'NDFTC11': 342.44421052631577,\n   'atomicNumber': 51.89473684210526,\n   'Therm_Conduc': 0.9273684210526314,\n   'B_wiki': 208.94736842105266,\n   'NpUnfill': 0.0,\n   'GvsqY': 5.253368421052631,\n   'DFTGh': 80.55421052631579},\n  'LC_FCC': {'SQusf': 0.8622684210526316,\n   'G111C': 85.21894736842104,\n   'DFTC12': 156.98631578947368,\n   'DFTGvb': 29.873473684210524,\n   'NfUnfill': 0.0,\n   'Heat_Sublimation': 708494.5789473683,\n   'Ion_Pot_2': 15.515263157894736,\n   'Va_Activa': 4.1284210526315785,\n   'Ele_Conduc': 1.1373684210526316,\n   'G_wiki': 88.63157894736841,\n   'NdVal': 3.6842105263157894,\n   'Period': 5.2631578947368425,\n   'price [$/kg]': 101.42631578947368,\n   'PP_radius_s': 1.2173684210526314,\n   'Gb2pih': 14.989305263157895,\n   'Ion_Pot_1': 6.855263157894735,\n   'V0_Miedema': 10.209473684210526,\n   'EleNeg_Pauling': 1.8473684210526313,\n   'EleNeg_Miedema': 4.294736842105263,\n   'DFTBvG': 3.562947368421052,\n   'DFTpoisson': 0.34906315789473685,\n   'DFTC44': 76.92473684210526,\n   'NfVal': 5.894736842105263,\n   'DFTv0': 17.21915789473684,\n   'NsUnfill': 0.42105263157894735,\n   'S298': 34.09684210526316,\n   'Heat_Capacity': 24570.931578947366,\n   'NdUnfill': 6.315789473684211,\n   'Y_wiki': 235.36842105263156,\n   'Cauchy': 178.73,\n   'DFTC33': 335.7163157894737,\n   'GGB32': 13.80426842105263,\n   'MeltingT': 2966.8421052631575,\n   'Electron_Affinity': 0.6021052631578947,\n   'DFTb': 2.6358421052631575,\n   'DFTYoung': 209.8163157894737,\n   'BGsq': 1.8347894736842103,\n   'Radius_vDW': 206.99999999999997,\n   'DFTC13': 156.98631578947368,\n   'DFTGV': 1324.4994736842104,\n   'ISIS': 9.301421052631579,\n   'SQGusfp': 13.932342105263157,\n   'CohEnergy': 7.374210526315789,\n   'Heat_Fusion': 27936.98947368421,\n   'KGS': 15.4516,\n   'Mass': 124.11631578947366,\n   'DFTC11': 335.7163157894737,\n   'Radius_Coval': 162.10526315789474,\n   'replacementLevel': 0.8421052631578947,\n   'MaxR_Ele_in_Solid': 0.5294736842105263,\n   'WorkFunc': 4.41,\n   'No_Spectral_lines': 480.63157894736844,\n   'DFTBh': 216.56421052631578,\n   'density0K [g/cm^3]': 12.010288197914662,\n   'Va_Form': 2.933157894736842,\n   'SpaceGroup': 223.4736842105263,\n   'NUnfill': 6.7368421052631575,\n   'KIC': 206.1857894736842,\n   'DebyeT': 353.6842105263158,\n   'PackingEff': 0.689697,\n   'normUSFE': 4.0611578947368425,\n   'NDFTC44': 76.92473684210526,\n   'price [$/cm^3]': 1.4614267993439325,\n   'VaporHeat': 662.0526315789473,\n   'Nval': 11.157894736842106,\n   'Group': 5.2631578947368425,\n   'NsVal': 1.5789473684210527,\n   'EleDensity_Miedema': 4.8110526315789475,\n   'NDFTC12': 156.98631578947368,\n   'PP_radius_p': 1.506842105263158,\n   'M_Num2': 49.526315789473685,\n   'BoilingT': 5054.0,\n   'Ion_Pot_3': 26.274736842105263,\n   'NDFTCxx': 81.07368421052631,\n   'NpVal': 0.0,\n   'ratio_bh': 1.1430126842105262,\n   'USFE': 0.850736842105263,\n   'NDFTC11': 335.7163157894737,\n   'atomicNumber': 51.89473684210526,\n   'Therm_Conduc': 0.9273684210526314,\n   'B_wiki': 208.94736842105266,\n   'NpUnfill': 0.0,\n   'GvsqY': 5.190052631578947,\n   'DFTGh': 79.34157894736842},\n  'LC_HCP': {'SQusf': 0.8903263157894736,\n   'G111C': 87.12473684210525,\n   'DFTC12': 155.31736842105263,\n   'DFTGvb': 28.810842105263156,\n   'NfUnfill': 0.0,\n   'Heat_Sublimation': 708494.5789473683,\n   'Ion_Pot_2': 15.515263157894736,\n   'Surf': 2.5873684210526315,\n   'Va_Activa': 4.172631578947368,\n   'Ele_Conduc': 1.1373684210526316,\n   'G_wiki': 88.63157894736841,\n   'NdVal': 3.6842105263157894,\n   'Period': 5.2631578947368425,\n   'price [$/kg]': 101.42631578947368,\n   'PP_radius_s': 1.2173684210526314,\n   'Gb2pih': 15.744942105263156,\n   'Ion_Pot_1': 6.855263157894735,\n   'V0_Miedema': 10.209473684210526,\n   'EleNeg_Pauling': 1.8473684210526313,\n   'EleNeg_Miedema': 4.294736842105263,\n   'DFTBvG': 3.49378947368421,\n   'DFTpoisson': 0.3455421052631579,\n   'DFTC44': 74.57526315789474,\n   'NfVal': 5.894736842105263,\n   'DFTv0': 17.223263157894735,\n   'NsUnfill': 0.42105263157894735,\n   'S298': 34.09684210526316,\n   'Heat_Capacity': 24570.931578947366,\n   'NdUnfill': 6.315789473684211,\n   'Y_wiki': 235.36842105263156,\n   'Cauchy': 187.91315789473683,\n   'DFTC33': 343.98842105263157,\n   'GGB32': 14.215268421052631,\n   'MeltingT': 2966.8421052631575,\n   'Electron_Affinity': 0.6021052631578947,\n   'DFTb': 2.8335263157894737,\n   'DFTYoung': 212.78,\n   'BGsq': 1.8141210526315787,\n   'Radius_vDW': 206.99999999999997,\n   'DFTC13': 154.13631578947368,\n   'DFTGV': 1345.6068421052632,\n   'ISIS': 9.51457894736842,\n   'SQGusfp': 14.292547368421051,\n   'CohEnergy': 7.374210526315789,\n   'Heat_Fusion': 27936.98947368421,\n   'KGS': 17.248031578947366,\n   'Mass': 124.11631578947366,\n   'DFTC11': 341.67210526315785,\n   'Radius_Coval': 162.10526315789474,\n   'replacementLevel': 0.8421052631578947,\n   'MaxR_Ele_in_Solid': 0.5294736842105263,\n   'WorkFunc': 4.41,\n   'No_Spectral_lines': 480.63157894736844,\n   'DFTBh': 217.16894736842102,\n   'density0K [g/cm^3]': 12.009195814688939,\n   'Va_Form': 2.9473684210526314,\n   'SpaceGroup': 223.4736842105263,\n   'NUnfill': 6.7368421052631575,\n   'KIC': 208.11052631578946,\n   'DebyeT': 353.6842105263158,\n   'PackingEff': 0.689697,\n   'normUSFE': 4.115631578947369,\n   'NDFTC44': 74.7221052631579,\n   'price [$/cm^3]': 1.4614140184601916,\n   'VaporHeat': 662.0526315789473,\n   'Nval': 11.157894736842106,\n   'Group': 5.2631578947368425,\n   'NsVal': 1.5789473684210527,\n   'EleDensity_Miedema': 4.8110526315789475,\n   'NDFTC12': 154.53105263157894,\n   'FTscale': 81.45705263157893,\n   'PP_radius_p': 1.506842105263158,\n   'M_Num2': 49.526315789473685,\n   'BoilingT': 5054.0,\n   'Ion_Pot_3': 26.274736842105263,\n   'NDFTCxx': 81.0721052631579,\n   'NpVal': 0.0,\n   'ratio_bh': 1.2308313684210526,\n   'USFE': 0.8712631578947367,\n   'NDFTC11': 342.44421052631577,\n   'atomicNumber': 51.89473684210526,\n   'Therm_Conduc': 0.9273684210526314,\n   'B_wiki': 208.94736842105266,\n   'NpUnfill': 0.0,\n   'GvsqY': 5.253368421052631,\n   'DFTGh': 80.55421052631579}},\n 'compositionalProperties': {'CH_Energy': -0.06879974274258865,\n  'Smix [R]': 1.6035681031705153,\n  'Smix [eV/(K atom)]': -0.00013817946345020334,\n  'StableConfigurations': [{'Mo-60752ce9b003796270e9acf8-OQMD-1214989': 0.0},\n   {'NbMo-60752fb9b003796270ea4c0e-OQMD-1339212': -0.03657282143831253},\n   {'TaMo-607536f7b003796270ebbfe0-OQMD-306083': -0.10681084543466568},\n   {'TiMo-60dc18ad462eba2707c71823-aflow:eb191a4f61ae5f8f': -0.164898581802845},\n   {'Mo3W5-60dacc10462eba2707b11638-aflow:6f414033c9f3fb48': -0.2629643641412258},\n   {'MoW3-60dbbc06462eba2707ba3ac7-aflow:a28120259bc14e11': -0.14872963447123766},\n   {'MoW7-60dc2295462eba2707c8a982-aflow:f3ee91866b44fa49': -0.3084457516670227},\n   {'Nb-60752ce4b003796270e9ac3f-OQMD-1214814': 0.0},\n   {'NbW3-60da2b07462eba2707a3aea3-aflow:24037176218aa67f': -0.1550840400159359},\n   {'NbW7-60dbba54462eba2707b9ed71-aflow:a0cd0e571a559f46': -0.3179071508347988},\n   {'Ta-60752ce7b003796270e9ac5d-OQMD-1214841': 0.0},\n   {'TaW-60752fbeb003796270ea4ccc-OQMD-1339466': -0.08890116959810257},\n   {'TaW5-60da3bed462eba2707a5c16a-aflow:2f9ed9644474f732': -0.36376848071813583},\n   {'Ti-60752ce7b003796270e9ac62-OQMD-1214846': 0.0},\n   {'TiW7-60da92b4462eba2707ad738a-aflow:5ad7ab868b03d20c': -0.45175525173544884},\n   {'TiW5-60dc0db0462eba2707c59f9b-aflow:e2c8063ca6a9b673': -0.3631399795413017},\n   {'W-60752ce7b003796270e9ac68-OQMD-1214851': 0.0}],\n  'TM[K]_HongV2_1': {'mean': 2209,\n   'minimum': 1686,\n   'maximum': 2811,\n   'standard error': 376},\n  'OxideStableConfigurations': [{'Mo-60752ce9b003796270e9acf8-OQMD-1214989': 0.0},\n   {'MoO2-6075bbdeb003796270f60c46-mvc-5806': -2.298665139824152},\n   {'Nb-60752ce4b003796270e9ac3f-OQMD-1214814': 0.0},\n   {'NbO2-60dad559462eba2707b1b36f-aflow:72b8071038f9ce21': -2.8646898008883},\n   {'NbO-60dc2d74462eba2707cac27c-aflow:ffc76a88cfd8d994': -2.188452173024416},\n   {'O2-6075ada9b003796270f432f7-mp-1065697': 0.0},\n   {'TaO2-60752bddb003796270e95e55-OQMD-11337': -3.0499036349356174},\n   {'TaO-60752d15b003796270e9bec0-OQMD-1223670': -1.8193808384239674},\n   {'TiO2-60753701b003796270ebc3d8-OQMD-3070': -3.3817782439291477},\n   {'TiO-60dbdee6462eba2707be8094-aflow:ba93df18a35c8901': -2.8285753317177296},\n   {'WO2-6075bbe7b003796270f60d12-mvc-6389': -2.413039479404688},\n   {'WO3-60dbdafc462eba2707bdc231-aflow:b661bc5e72e97851': -2.623262483626604},\n   {'Ta-60752ce7b003796270e9ac5d-OQMD-1214841': 0.0},\n   {'Ti-60752ce7b003796270e9ac62-OQMD-1214846': 0.0},\n   {'W-60752ce7b003796270e9ac68-OQMD-1214851': 0.0}]}}"
     },
     "execution_count": 7,
     "metadata": {},
     "output_type": "execute_result"
    }
   ],
   "source": [
    "sampleCollection.find_one({})"
   ],
   "metadata": {
    "collapsed": false,
    "ExecuteTime": {
     "start_time": "2023-03-18T20:29:58.974088Z",
     "end_time": "2023-03-18T20:29:58.976362Z"
    }
   }
  },
  {
   "cell_type": "code",
   "execution_count": 8,
   "outputs": [
    {
     "data": {
      "text/plain": "300"
     },
     "execution_count": 8,
     "metadata": {},
     "output_type": "execute_result"
    }
   ],
   "source": [
    "sampleCollection.count_documents({})"
   ],
   "metadata": {
    "collapsed": false,
    "ExecuteTime": {
     "start_time": "2023-03-18T20:30:11.845318Z",
     "end_time": "2023-03-18T20:30:11.860342Z"
    }
   }
  },
  {
   "cell_type": "code",
   "execution_count": null,
   "outputs": [],
   "source": [],
   "metadata": {
    "collapsed": false
   }
  }
 ],
 "metadata": {
  "kernelspec": {
   "display_name": "Python 3",
   "language": "python",
   "name": "python3"
  },
  "language_info": {
   "codemirror_mode": {
    "name": "ipython",
    "version": 2
   },
   "file_extension": ".py",
   "mimetype": "text/x-python",
   "name": "python",
   "nbconvert_exporter": "python",
   "pygments_lexer": "ipython2",
   "version": "2.7.6"
  }
 },
 "nbformat": 4,
 "nbformat_minor": 0
}

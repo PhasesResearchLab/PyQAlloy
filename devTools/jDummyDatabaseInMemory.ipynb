{
 "cells": [
  {
   "cell_type": "code",
   "execution_count": 10,
   "metadata": {
    "collapsed": true,
    "ExecuteTime": {
     "end_time": "2023-11-20T17:02:15.138972Z",
     "start_time": "2023-11-20T17:02:15.132022Z"
    }
   },
   "outputs": [],
   "source": [
    "from pyqalloy.curation import analysis\n",
    "\n",
    "import bson\n",
    "from montydb import MontyClient\n",
    "from importlib import resources"
   ]
  },
  {
   "cell_type": "code",
   "execution_count": 2,
   "outputs": [
    {
     "name": "stdout",
     "output_type": "stream",
     "text": [
      "Connected to the CURATED_Dec2022 in ULTERA_internal with 6073 data points detected.\n"
     ]
    }
   ],
   "source": [
    "sC = analysis.SingleCompositionAnalyzer()"
   ],
   "metadata": {
    "collapsed": false,
    "ExecuteTime": {
     "end_time": "2023-11-18T02:54:59.527281Z",
     "start_time": "2023-11-18T02:54:58.479814Z"
    }
   }
  },
  {
   "cell_type": "code",
   "execution_count": 3,
   "outputs": [],
   "source": [
    "#with open('ULTERA_sample.bson', 'wb+') as f:\n",
    "    #for doc in sC.collection.find():\n",
    "        #f.write(bson.BSON.encode(doc))"
   ],
   "metadata": {
    "collapsed": false,
    "ExecuteTime": {
     "end_time": "2023-11-18T02:55:00.532299Z",
     "start_time": "2023-11-18T02:55:00.528017Z"
    }
   }
  },
  {
   "cell_type": "code",
   "execution_count": 2,
   "outputs": [],
   "source": [
    "sampleCollection = MontyClient(\":memory:\").db.test"
   ],
   "metadata": {
    "collapsed": false,
    "ExecuteTime": {
     "end_time": "2023-11-20T17:01:14.663543Z",
     "start_time": "2023-11-20T17:01:14.659055Z"
    }
   }
  },
  {
   "cell_type": "code",
   "execution_count": null,
   "outputs": [],
   "source": [],
   "metadata": {
    "collapsed": false
   }
  },
  {
   "cell_type": "code",
   "execution_count": 3,
   "outputs": [],
   "source": [
    "with open('../ULTERA_sample.bson', 'rb+') as f:\n",
    "    sampleCollection.insert_many(bson.decode_all(f.read()))"
   ],
   "metadata": {
    "collapsed": false,
    "ExecuteTime": {
     "end_time": "2023-11-20T17:01:16.118222Z",
     "start_time": "2023-11-20T17:01:16.008037Z"
    }
   }
  },
  {
   "cell_type": "code",
   "execution_count": 19,
   "outputs": [
    {
     "data": {
      "text/plain": "{'_id': ObjectId('635997c429377cf4308b62b0'),\n 'meta': {'source': 'LIT',\n  'name': 'Shuang Lin',\n  'email': 'spl5745@psu.edu',\n  'directFetch': 'T',\n  'handFetch': 'F',\n  'timeStamp': datetime.datetime(2022, 10, 26, 16, 25),\n  'dataSheetName': 'newupload-ductility.xlsx'},\n 'material': {'rawFormula': 'Ti0.75NbTaMoW',\n  'formula': 'Ti0.75 Ta1 Nb1 W1 Mo1',\n  'compositionDictionary': {'Ti': 0.15789473684210525,\n   'Nb': 0.21052631578947367,\n   'Ta': 0.21052631578947367,\n   'Mo': 0.21052631578947367,\n   'W': 0.21052631578947367},\n  'percentileFormula': 'Ti15.8 Ta21.1 Nb21.1 W21.1 Mo21.1',\n  'relationalFormula': 'Ti1 Ta1.33 Nb1.33 W1.33 Mo1.33',\n  'compositionVector': [0.0,\n   0.0,\n   0.0,\n   0.0,\n   0.0,\n   0.1579,\n   0.2105,\n   0.0,\n   0.2105,\n   0.0,\n   0.2105,\n   0.2105,\n   0.0,\n   0.0,\n   0.0,\n   0.0,\n   0.0,\n   0.0,\n   0.0,\n   0.0],\n  'anonymizedFormula': 'A0.75BCDE',\n  'reducedFormula': 'Ta1Ti0.75Nb1Mo1W1',\n  'system': 'Mo-Nb-Ta-Ti-W',\n  'elements': ['Mo', 'Nb', 'Ta', 'Ti', 'W'],\n  'nComponents': 5,\n  'structure': ['BCC'],\n  'nPhases': 1,\n  'observationTemperature': 298.0,\n  'singleSolidSolution': True,\n  'solidSolution': True},\n 'property': {'name': 'compressive ductility', 'value': 8.4, 'source': 'EXP'},\n 'reference': {'doi': '10.1016/j.actamat.2021.116800',\n  'pointer': 'TC1',\n  'doiCount': 238},\n 'structuralProperties': {'LC': {'SQusf': 0.8903263157894736,\n   'G111C': 87.12473684210525,\n   'DFTC12': 155.31736842105263,\n   'DFTGvb': 28.810842105263156,\n   'NfUnfill': 0.0,\n   'Heat_Sublimation': 708494.5789473683,\n   'Ion_Pot_2': 15.515263157894736,\n   'Va_Activa': 4.172631578947368,\n   'Ele_Conduc': 1.1373684210526316,\n   'G_wiki': 88.63157894736841,\n   'NdVal': 3.6842105263157894,\n   'Period': 5.2631578947368425,\n   'price [$/kg]': 101.42631578947368,\n   'PP_radius_s': 1.2173684210526314,\n   'Gb2pih': 15.744942105263156,\n   'Ion_Pot_1': 6.855263157894735,\n   'V0_Miedema': 10.209473684210526,\n   'EleNeg_Pauling': 1.8473684210526313,\n   'EleNeg_Miedema': 4.294736842105263,\n   'DFTBvG': 3.49378947368421,\n   'DFTpoisson': 0.3455421052631579,\n   'DFTC44': 74.57526315789474,\n   'NfVal': 5.894736842105263,\n   'DFTv0': 17.223263157894735,\n   'NsUnfill': 0.42105263157894735,\n   'S298': 34.09684210526316,\n   'Heat_Capacity': 24570.931578947366,\n   'NdUnfill': 6.315789473684211,\n   'Y_wiki': 235.36842105263156,\n   'Cauchy': 187.91315789473683,\n   'DFTC33': 343.98842105263157,\n   'GGB32': 14.215268421052631,\n   'MeltingT': 2966.8421052631575,\n   'Electron_Affinity': 0.6021052631578947,\n   'DFTb': 2.8335263157894737,\n   'DFTYoung': 212.78,\n   'BGsq': 1.8141210526315787,\n   'Radius_vDW': 206.99999999999997,\n   'DFTC13': 154.13631578947368,\n   'DFTGV': 1345.6068421052632,\n   'ISIS': 9.51457894736842,\n   'SQGusfp': 14.292547368421051,\n   'CohEnergy': 7.374210526315789,\n   'Heat_Fusion': 27936.98947368421,\n   'KGS': 17.248031578947366,\n   'Mass': 124.11631578947366,\n   'DFTC11': 341.67210526315785,\n   'Radius_Coval': 162.10526315789474,\n   'replacementLevel': 0.15789473684210525,\n   'MaxR_Ele_in_Solid': 0.5294736842105263,\n   'WorkFunc': 4.41,\n   'No_Spectral_lines': 480.63157894736844,\n   'DFTBh': 217.16894736842102,\n   'density0K [g/cm^3]': 12.009195814688939,\n   'Va_Form': 2.9473684210526314,\n   'SpaceGroup': 223.4736842105263,\n   'NUnfill': 6.7368421052631575,\n   'KIC': 208.11052631578946,\n   'DebyeT': 353.6842105263158,\n   'PackingEff': 0.689697,\n   'normUSFE': 4.115631578947369,\n   'NDFTC44': 74.7221052631579,\n   'price [$/cm^3]': 1.4614140184601916,\n   'VaporHeat': 662.0526315789473,\n   'Nval': 11.157894736842106,\n   'Group': 5.2631578947368425,\n   'NsVal': 1.5789473684210527,\n   'EleDensity_Miedema': 4.8110526315789475,\n   'NDFTC12': 154.53105263157894,\n   'PP_radius_p': 1.506842105263158,\n   'M_Num2': 49.526315789473685,\n   'BoilingT': 5054.0,\n   'Ion_Pot_3': 26.274736842105263,\n   'NDFTCxx': 81.0721052631579,\n   'NpVal': 0.0,\n   'ratio_bh': 1.2308313684210526,\n   'USFE': 0.8712631578947367,\n   'NDFTC11': 342.44421052631577,\n   'atomicNumber': 51.89473684210526,\n   'Therm_Conduc': 0.9273684210526314,\n   'B_wiki': 208.94736842105266,\n   'NpUnfill': 0.0,\n   'GvsqY': 5.253368421052631,\n   'DFTGh': 80.55421052631579},\n  'LC_BCC': {'SQusf': 0.8903263157894736,\n   'G111C': 87.12473684210525,\n   'DFTC12': 155.31736842105263,\n   'DFTGvb': 28.810842105263156,\n   'NfUnfill': 0.0,\n   'Heat_Sublimation': 708494.5789473683,\n   'Ion_Pot_2': 15.515263157894736,\n   'Surf': 2.5873684210526315,\n   'Va_Activa': 4.172631578947368,\n   'Ele_Conduc': 1.1373684210526316,\n   'G_wiki': 88.63157894736841,\n   'NdVal': 3.6842105263157894,\n   'Period': 5.2631578947368425,\n   'price [$/kg]': 101.42631578947368,\n   'PP_radius_s': 1.2173684210526314,\n   'Gb2pih': 15.744942105263156,\n   'Ion_Pot_1': 6.855263157894735,\n   'V0_Miedema': 10.209473684210526,\n   'EleNeg_Pauling': 1.8473684210526313,\n   'EleNeg_Miedema': 4.294736842105263,\n   'DFTBvG': 3.49378947368421,\n   'DFTpoisson': 0.3455421052631579,\n   'DFTC44': 74.57526315789474,\n   'NfVal': 5.894736842105263,\n   'DFTv0': 17.223263157894735,\n   'NsUnfill': 0.42105263157894735,\n   'S298': 34.09684210526316,\n   'Heat_Capacity': 24570.931578947366,\n   'NdUnfill': 6.315789473684211,\n   'Y_wiki': 235.36842105263156,\n   'Cauchy': 187.91315789473683,\n   'DFTC33': 343.98842105263157,\n   'GGB32': 14.215268421052631,\n   'MeltingT': 2966.8421052631575,\n   'Electron_Affinity': 0.6021052631578947,\n   'DFTb': 2.8335263157894737,\n   'DFTYoung': 212.78,\n   'BGsq': 1.8141210526315787,\n   'Radius_vDW': 206.99999999999997,\n   'DFTC13': 154.13631578947368,\n   'DFTGV': 1345.6068421052632,\n   'ISIS': 9.51457894736842,\n   'SQGusfp': 14.292547368421051,\n   'CohEnergy': 7.374210526315789,\n   'Heat_Fusion': 27936.98947368421,\n   'KGS': 17.248031578947366,\n   'Mass': 124.11631578947366,\n   'DFTC11': 341.67210526315785,\n   'Radius_Coval': 162.10526315789474,\n   'replacementLevel': 0.15789473684210525,\n   'MaxR_Ele_in_Solid': 0.5294736842105263,\n   'WorkFunc': 4.41,\n   'No_Spectral_lines': 480.63157894736844,\n   'DFTBh': 217.16894736842102,\n   'density0K [g/cm^3]': 12.009195814688939,\n   'Va_Form': 2.9473684210526314,\n   'SpaceGroup': 223.4736842105263,\n   'NUnfill': 6.7368421052631575,\n   'KIC': 208.11052631578946,\n   'DebyeT': 353.6842105263158,\n   'PackingEff': 0.689697,\n   'normUSFE': 4.115631578947369,\n   'NDFTC44': 74.7221052631579,\n   'price [$/cm^3]': 1.4614140184601916,\n   'VaporHeat': 662.0526315789473,\n   'Nval': 11.157894736842106,\n   'Group': 5.2631578947368425,\n   'NsVal': 1.5789473684210527,\n   'EleDensity_Miedema': 4.8110526315789475,\n   'NDFTC12': 154.53105263157894,\n   'FTscale': 81.45705263157893,\n   'PP_radius_p': 1.506842105263158,\n   'M_Num2': 49.526315789473685,\n   'BoilingT': 5054.0,\n   'Ion_Pot_3': 26.274736842105263,\n   'NDFTCxx': 81.0721052631579,\n   'NpVal': 0.0,\n   'ratio_bh': 1.2308313684210526,\n   'USFE': 0.8712631578947367,\n   'NDFTC11': 342.44421052631577,\n   'atomicNumber': 51.89473684210526,\n   'Therm_Conduc': 0.9273684210526314,\n   'B_wiki': 208.94736842105266,\n   'NpUnfill': 0.0,\n   'GvsqY': 5.253368421052631,\n   'DFTGh': 80.55421052631579},\n  'LC_FCC': {'SQusf': 0.8622684210526316,\n   'G111C': 85.21894736842104,\n   'DFTC12': 156.98631578947368,\n   'DFTGvb': 29.873473684210524,\n   'NfUnfill': 0.0,\n   'Heat_Sublimation': 708494.5789473683,\n   'Ion_Pot_2': 15.515263157894736,\n   'Va_Activa': 4.1284210526315785,\n   'Ele_Conduc': 1.1373684210526316,\n   'G_wiki': 88.63157894736841,\n   'NdVal': 3.6842105263157894,\n   'Period': 5.2631578947368425,\n   'price [$/kg]': 101.42631578947368,\n   'PP_radius_s': 1.2173684210526314,\n   'Gb2pih': 14.989305263157895,\n   'Ion_Pot_1': 6.855263157894735,\n   'V0_Miedema': 10.209473684210526,\n   'EleNeg_Pauling': 1.8473684210526313,\n   'EleNeg_Miedema': 4.294736842105263,\n   'DFTBvG': 3.562947368421052,\n   'DFTpoisson': 0.34906315789473685,\n   'DFTC44': 76.92473684210526,\n   'NfVal': 5.894736842105263,\n   'DFTv0': 17.21915789473684,\n   'NsUnfill': 0.42105263157894735,\n   'S298': 34.09684210526316,\n   'Heat_Capacity': 24570.931578947366,\n   'NdUnfill': 6.315789473684211,\n   'Y_wiki': 235.36842105263156,\n   'Cauchy': 178.73,\n   'DFTC33': 335.7163157894737,\n   'GGB32': 13.80426842105263,\n   'MeltingT': 2966.8421052631575,\n   'Electron_Affinity': 0.6021052631578947,\n   'DFTb': 2.6358421052631575,\n   'DFTYoung': 209.8163157894737,\n   'BGsq': 1.8347894736842103,\n   'Radius_vDW': 206.99999999999997,\n   'DFTC13': 156.98631578947368,\n   'DFTGV': 1324.4994736842104,\n   'ISIS': 9.301421052631579,\n   'SQGusfp': 13.932342105263157,\n   'CohEnergy': 7.374210526315789,\n   'Heat_Fusion': 27936.98947368421,\n   'KGS': 15.4516,\n   'Mass': 124.11631578947366,\n   'DFTC11': 335.7163157894737,\n   'Radius_Coval': 162.10526315789474,\n   'replacementLevel': 0.8421052631578947,\n   'MaxR_Ele_in_Solid': 0.5294736842105263,\n   'WorkFunc': 4.41,\n   'No_Spectral_lines': 480.63157894736844,\n   'DFTBh': 216.56421052631578,\n   'density0K [g/cm^3]': 12.010288197914662,\n   'Va_Form': 2.933157894736842,\n   'SpaceGroup': 223.4736842105263,\n   'NUnfill': 6.7368421052631575,\n   'KIC': 206.1857894736842,\n   'DebyeT': 353.6842105263158,\n   'PackingEff': 0.689697,\n   'normUSFE': 4.0611578947368425,\n   'NDFTC44': 76.92473684210526,\n   'price [$/cm^3]': 1.4614267993439325,\n   'VaporHeat': 662.0526315789473,\n   'Nval': 11.157894736842106,\n   'Group': 5.2631578947368425,\n   'NsVal': 1.5789473684210527,\n   'EleDensity_Miedema': 4.8110526315789475,\n   'NDFTC12': 156.98631578947368,\n   'PP_radius_p': 1.506842105263158,\n   'M_Num2': 49.526315789473685,\n   'BoilingT': 5054.0,\n   'Ion_Pot_3': 26.274736842105263,\n   'NDFTCxx': 81.07368421052631,\n   'NpVal': 0.0,\n   'ratio_bh': 1.1430126842105262,\n   'USFE': 0.850736842105263,\n   'NDFTC11': 335.7163157894737,\n   'atomicNumber': 51.89473684210526,\n   'Therm_Conduc': 0.9273684210526314,\n   'B_wiki': 208.94736842105266,\n   'NpUnfill': 0.0,\n   'GvsqY': 5.190052631578947,\n   'DFTGh': 79.34157894736842},\n  'LC_HCP': {'SQusf': 0.8903263157894736,\n   'G111C': 87.12473684210525,\n   'DFTC12': 155.31736842105263,\n   'DFTGvb': 28.810842105263156,\n   'NfUnfill': 0.0,\n   'Heat_Sublimation': 708494.5789473683,\n   'Ion_Pot_2': 15.515263157894736,\n   'Surf': 2.5873684210526315,\n   'Va_Activa': 4.172631578947368,\n   'Ele_Conduc': 1.1373684210526316,\n   'G_wiki': 88.63157894736841,\n   'NdVal': 3.6842105263157894,\n   'Period': 5.2631578947368425,\n   'price [$/kg]': 101.42631578947368,\n   'PP_radius_s': 1.2173684210526314,\n   'Gb2pih': 15.744942105263156,\n   'Ion_Pot_1': 6.855263157894735,\n   'V0_Miedema': 10.209473684210526,\n   'EleNeg_Pauling': 1.8473684210526313,\n   'EleNeg_Miedema': 4.294736842105263,\n   'DFTBvG': 3.49378947368421,\n   'DFTpoisson': 0.3455421052631579,\n   'DFTC44': 74.57526315789474,\n   'NfVal': 5.894736842105263,\n   'DFTv0': 17.223263157894735,\n   'NsUnfill': 0.42105263157894735,\n   'S298': 34.09684210526316,\n   'Heat_Capacity': 24570.931578947366,\n   'NdUnfill': 6.315789473684211,\n   'Y_wiki': 235.36842105263156,\n   'Cauchy': 187.91315789473683,\n   'DFTC33': 343.98842105263157,\n   'GGB32': 14.215268421052631,\n   'MeltingT': 2966.8421052631575,\n   'Electron_Affinity': 0.6021052631578947,\n   'DFTb': 2.8335263157894737,\n   'DFTYoung': 212.78,\n   'BGsq': 1.8141210526315787,\n   'Radius_vDW': 206.99999999999997,\n   'DFTC13': 154.13631578947368,\n   'DFTGV': 1345.6068421052632,\n   'ISIS': 9.51457894736842,\n   'SQGusfp': 14.292547368421051,\n   'CohEnergy': 7.374210526315789,\n   'Heat_Fusion': 27936.98947368421,\n   'KGS': 17.248031578947366,\n   'Mass': 124.11631578947366,\n   'DFTC11': 341.67210526315785,\n   'Radius_Coval': 162.10526315789474,\n   'replacementLevel': 0.8421052631578947,\n   'MaxR_Ele_in_Solid': 0.5294736842105263,\n   'WorkFunc': 4.41,\n   'No_Spectral_lines': 480.63157894736844,\n   'DFTBh': 217.16894736842102,\n   'density0K [g/cm^3]': 12.009195814688939,\n   'Va_Form': 2.9473684210526314,\n   'SpaceGroup': 223.4736842105263,\n   'NUnfill': 6.7368421052631575,\n   'KIC': 208.11052631578946,\n   'DebyeT': 353.6842105263158,\n   'PackingEff': 0.689697,\n   'normUSFE': 4.115631578947369,\n   'NDFTC44': 74.7221052631579,\n   'price [$/cm^3]': 1.4614140184601916,\n   'VaporHeat': 662.0526315789473,\n   'Nval': 11.157894736842106,\n   'Group': 5.2631578947368425,\n   'NsVal': 1.5789473684210527,\n   'EleDensity_Miedema': 4.8110526315789475,\n   'NDFTC12': 154.53105263157894,\n   'FTscale': 81.45705263157893,\n   'PP_radius_p': 1.506842105263158,\n   'M_Num2': 49.526315789473685,\n   'BoilingT': 5054.0,\n   'Ion_Pot_3': 26.274736842105263,\n   'NDFTCxx': 81.0721052631579,\n   'NpVal': 0.0,\n   'ratio_bh': 1.2308313684210526,\n   'USFE': 0.8712631578947367,\n   'NDFTC11': 342.44421052631577,\n   'atomicNumber': 51.89473684210526,\n   'Therm_Conduc': 0.9273684210526314,\n   'B_wiki': 208.94736842105266,\n   'NpUnfill': 0.0,\n   'GvsqY': 5.253368421052631,\n   'DFTGh': 80.55421052631579}},\n 'compositionalProperties': {'CH_Energy': -0.06879974274258865,\n  'Smix [R]': 1.6035681031705153,\n  'Smix [eV/(K atom)]': -0.00013817946345020334,\n  'StableConfigurations': [{'Mo-60752ce9b003796270e9acf8-OQMD-1214989': 0.0},\n   {'NbMo-60752fb9b003796270ea4c0e-OQMD-1339212': -0.03657282143831253},\n   {'TaMo-607536f7b003796270ebbfe0-OQMD-306083': -0.10681084543466568},\n   {'TiMo-60dc18ad462eba2707c71823-aflow:eb191a4f61ae5f8f': -0.164898581802845},\n   {'Mo3W5-60dacc10462eba2707b11638-aflow:6f414033c9f3fb48': -0.2629643641412258},\n   {'MoW3-60dbbc06462eba2707ba3ac7-aflow:a28120259bc14e11': -0.14872963447123766},\n   {'MoW7-60dc2295462eba2707c8a982-aflow:f3ee91866b44fa49': -0.3084457516670227},\n   {'Nb-60752ce4b003796270e9ac3f-OQMD-1214814': 0.0},\n   {'NbW3-60da2b07462eba2707a3aea3-aflow:24037176218aa67f': -0.1550840400159359},\n   {'NbW7-60dbba54462eba2707b9ed71-aflow:a0cd0e571a559f46': -0.3179071508347988},\n   {'Ta-60752ce7b003796270e9ac5d-OQMD-1214841': 0.0},\n   {'TaW-60752fbeb003796270ea4ccc-OQMD-1339466': -0.08890116959810257},\n   {'TaW5-60da3bed462eba2707a5c16a-aflow:2f9ed9644474f732': -0.36376848071813583},\n   {'Ti-60752ce7b003796270e9ac62-OQMD-1214846': 0.0},\n   {'TiW7-60da92b4462eba2707ad738a-aflow:5ad7ab868b03d20c': -0.45175525173544884},\n   {'TiW5-60dc0db0462eba2707c59f9b-aflow:e2c8063ca6a9b673': -0.3631399795413017},\n   {'W-60752ce7b003796270e9ac68-OQMD-1214851': 0.0}],\n  'TM[K]_HongV2_1': {'mean': 2209,\n   'minimum': 1686,\n   'maximum': 2811,\n   'standard error': 376},\n  'OxideStableConfigurations': [{'Mo-60752ce9b003796270e9acf8-OQMD-1214989': 0.0},\n   {'MoO2-6075bbdeb003796270f60c46-mvc-5806': -2.298665139824152},\n   {'Nb-60752ce4b003796270e9ac3f-OQMD-1214814': 0.0},\n   {'NbO2-60dad559462eba2707b1b36f-aflow:72b8071038f9ce21': -2.8646898008883},\n   {'NbO-60dc2d74462eba2707cac27c-aflow:ffc76a88cfd8d994': -2.188452173024416},\n   {'O2-6075ada9b003796270f432f7-mp-1065697': 0.0},\n   {'TaO2-60752bddb003796270e95e55-OQMD-11337': -3.0499036349356174},\n   {'TaO-60752d15b003796270e9bec0-OQMD-1223670': -1.8193808384239674},\n   {'TiO2-60753701b003796270ebc3d8-OQMD-3070': -3.3817782439291477},\n   {'TiO-60dbdee6462eba2707be8094-aflow:ba93df18a35c8901': -2.8285753317177296},\n   {'WO2-6075bbe7b003796270f60d12-mvc-6389': -2.413039479404688},\n   {'WO3-60dbdafc462eba2707bdc231-aflow:b661bc5e72e97851': -2.623262483626604},\n   {'Ta-60752ce7b003796270e9ac5d-OQMD-1214841': 0.0},\n   {'Ti-60752ce7b003796270e9ac62-OQMD-1214846': 0.0},\n   {'W-60752ce7b003796270e9ac68-OQMD-1214851': 0.0}]}}"
     },
     "execution_count": 19,
     "metadata": {},
     "output_type": "execute_result"
    }
   ],
   "source": [
    "sampleCollection.find_one({'_id': bson.ObjectId('635997c429377cf4308b62b0')})"
   ],
   "metadata": {
    "collapsed": false,
    "ExecuteTime": {
     "end_time": "2023-11-20T17:18:14.325867Z",
     "start_time": "2023-11-20T17:18:14.322884Z"
    }
   }
  },
  {
   "cell_type": "code",
   "execution_count": 5,
   "outputs": [
    {
     "data": {
      "text/plain": "300"
     },
     "execution_count": 5,
     "metadata": {},
     "output_type": "execute_result"
    }
   ],
   "source": [
    "sampleCollection.count_documents({})"
   ],
   "metadata": {
    "collapsed": false,
    "ExecuteTime": {
     "end_time": "2023-11-20T17:01:30.512526Z",
     "start_time": "2023-11-20T17:01:30.508598Z"
    }
   }
  },
  {
   "cell_type": "code",
   "execution_count": 6,
   "outputs": [
    {
     "name": "stdout",
     "output_type": "stream",
     "text": [
      "157\n"
     ]
    }
   ],
   "source": [
    "doiSet = set()\n",
    "for e in sampleCollection.find({'reference.doi': {'$ne': None}}, {'reference.doi': 1}):\n",
    "    doiSet.add(e['reference']['doi'])\n",
    "print(len(doiSet))"
   ],
   "metadata": {
    "collapsed": false,
    "ExecuteTime": {
     "end_time": "2023-11-20T17:01:35.771244Z",
     "start_time": "2023-11-20T17:01:35.765622Z"
    }
   }
  },
  {
   "cell_type": "code",
   "execution_count": 7,
   "outputs": [],
   "source": [
    "sC = analysis.SingleCompositionAnalyzer(collectionManualOverride=sampleCollection)"
   ],
   "metadata": {
    "collapsed": false,
    "ExecuteTime": {
     "end_time": "2023-11-20T17:01:41.212982Z",
     "start_time": "2023-11-20T17:01:41.210043Z"
    }
   }
  },
  {
   "cell_type": "code",
   "execution_count": 8,
   "outputs": [
    {
     "data": {
      "text/plain": "300"
     },
     "execution_count": 8,
     "metadata": {},
     "output_type": "execute_result"
    }
   ],
   "source": [
    "sC.collection.count_documents({})"
   ],
   "metadata": {
    "collapsed": false,
    "ExecuteTime": {
     "end_time": "2023-11-20T17:01:41.724298Z",
     "start_time": "2023-11-20T17:01:41.720606Z"
    }
   }
  },
  {
   "cell_type": "code",
   "execution_count": 11,
   "outputs": [],
   "source": [
    "sC.scanCompositionsAround100(resultLimit=10, printOnFly=True, uncertainty=0.5)"
   ],
   "metadata": {
    "collapsed": false,
    "ExecuteTime": {
     "end_time": "2023-11-20T17:05:16.293595Z",
     "start_time": "2023-11-20T17:05:16.291967Z"
    }
   }
  },
  {
   "cell_type": "code",
   "execution_count": 14,
   "outputs": [
    {
     "data": {
      "text/plain": "{'collectionManualOverrideSet': True,\n 'collection': MontyCollection(MontyDatabase(MontyClient(repository=':memory:', document_class=builtins.dict, storage_engine=MontyStorage(engine: 'MemoryStorage')), 'db'), 'test'),\n 'ultera_database_uri': None,\n 'ultera_client': None,\n 'name': None,\n 'formulas': {'Ca1',\n  'Cd1',\n  'Co1 Ni1',\n  'Cr0.1 Fe0.1 Co0.1 Ni0.1 Al0.6',\n  'Cr0.2 Fe1 Co1 Ni1 Si0.2',\n  'Cr0.2 Mn0.2 Fe0.2 Co0.2 Ni0.2',\n  'Cr0.2125 Fe0.2125 Co0.2125 Ni0.2125 Al0.15',\n  'Cr1 Co1 Ni1',\n  'Cr1 Co2 Ni2',\n  'Cr1 Fe1 Co1 Cu1 Al1.5',\n  'Cr1 Fe1 Co1 Ni1',\n  'Cr1 Fe1 Co1 Ni1 Al0.25',\n  'Cr1 Fe1 Co1 Ni1 Al0.3',\n  'Cr1 Fe1 Co1 Ni1 Al0.5',\n  'Cr1 Fe1 Co1 Ni1 Al1',\n  'Cr1 Fe1 Co1 Ni1 Al1 C0.2',\n  'Cr1 Fe1 Co1 Ni1 Al1 C1.5',\n  'Cr1 Fe1 Co1 Ni1 Al1 Si0.8',\n  'Cr1 Fe1 Co1 Ni1 Al2',\n  'Cr1 Fe1 Co1 Ni1 Al2.5',\n  'Cr1 Fe1 Co1 Ni1 Cu1 Al1',\n  'Cr1 Fe1 Co1 Ni1 Cu1 Al1.8',\n  'Cr1 Fe1 Co1 Ni1 Cu1 Al2',\n  'Cr1 Fe1 Ni2 Al1',\n  'Cr1 Fe1 Ni2 Cu0.5 Al0.3',\n  'Cr1 Fe1 Ni2.2 Al0.8',\n  'Cr1 Mn1 Fe1 Co1 Ni1',\n  'Cr1 Mn1 Fe1 Co1 Ni1 Al0.3',\n  'Cr1 Mn1 Fe1 Co1 Ni1 Al0.43',\n  'Cr1 Mn1 Fe1 Co1 Ni1 C0.5',\n  'Cr1 Mn1 Fe1 Co1 Ni1 Cu1 Al1',\n  'Cr1 Mn1 Fe1 Cu1 Al1',\n  'Cr1 Mn1 Fe1 Ni1 Cu1',\n  'Cr1 Mn1 Fe1.5 Ni0.5 Al0.5',\n  'Cr1 Mn3 Fe5 Co1',\n  'Cr1 Mn4 Fe4 Co1',\n  'Cr12.5 Fe12.5 Co12.5 Ni12.5 Cu12.5 Al37.5',\n  'Cr14.3 Fe7.1 Co14.3 Ni14.3 Cu7.1 Al42.9',\n  'Cr15.9 Fe15.9 Co15.9 Ni15.9 Cu15.9 Al20.6',\n  'Cr16 Fe16 Co16 Ni34.4 Al16',\n  'Cr17 Fe17 Co17 Ni33 Cu8 Al8',\n  'Cr18.4 Mn18.4 Fe18.4 Co18.4 Ni18.4 Al7.9',\n  'Cr18.9 Fe18.9 Co18.9 Ni18.9 Cu7.5 Al17',\n  'Cr19 Fe19 Co19 Ni37 Cu4 Al4',\n  'Cr19.2 Fe19.2 Co19.2 Ni19.2 Cu9.6 Al13.5',\n  'Cr19.6 Mn19.6 Fe19.6 Co19.6 Ni19.6 C2',\n  'Cr19.9 Mn19.1 Fe19.5 Co20.6 Ni20.9',\n  'Cr20 Fe11 Co12 Ni5 Cu5 Al47',\n  'Cr20 Fe9 Co14 Ni5 Cu5 Al47',\n  'Cr20.8 Fe20.8 Ni16.7 Cu20.8 Al20.8',\n  'Cr22 Fe8 Co22 Ni5 Al43',\n  'Cr22.5 Fe22.5 Co10 Ni22.5 Cu22.5',\n  'Cr23 Fe15 Co15 Ni16 Cu8 Al23',\n  'Cr23 Fe23 Co23 Ni23 Al7',\n  'Cr25 Fe16.7 Co16.7 Ni16.7 Cu8.3 Al16.7',\n  'Cr30 Fe7 Co10 Ni6 Cu5 Al42',\n  'Cr5 Fe2 Co11 Ni2',\n  'Cr5 Fe4 Co7 Ni4',\n  'Cr9 Mn11 Fe25 Ni5',\n  'Cu1',\n  'Fe1 Co1 Ni1',\n  'Fe1 Co1 Ni1 Al0.25',\n  'Fe1 Co1 Ni1 Al1',\n  'Hf0.5 Zr1 Ti1 Nb1 Mo0.5 C0.1',\n  'Hf0.5 Zr1 Ti1 Nb1 Mo0.5 Si0.1',\n  'Hf0.5 Zr1 Ti2 Nb0.5 V1',\n  'Hf0.96 Cr13.57 Co7.62 Ni53.86 Al23.66 C0.0012 N0.0017 O0.12',\n  'Hf1 Ti1 Nb1 V0.5 Mo0.5 Si0.3',\n  'Hf1 Ti1 Nb1 V0.5 Mo0.5 Si0.5',\n  'Hf1 Ti1 Ta1 Nb1',\n  'Hf1 Zr1 Ta1 Nb1',\n  'Hf1 Zr1 Ta1 Nb1 Mo1',\n  'Hf1 Zr1 Ti1',\n  'Hf1 Zr1 Ti1 Nb1 Mo1',\n  'Hf1 Zr1 Ti1 Nb1 O2',\n  'Hf1 Zr1 Ti1 Nb1 V1',\n  'Hf1 Zr1 Ti1 Nb1 V1 Si0.5',\n  'Hf1 Zr1 Ti1 Ta1 Mo1',\n  'Hf1 Zr1 Ti1 Ta1 Nb1',\n  'Hf1 Zr1 Ti1 Ta1 Nb1 Al1',\n  'Hf1 Zr1 Ti1 Ta1 Nb1 Mo1',\n  'Hf1 Zr1 Ti1 Ta1 Nb1 W1 Mo1',\n  'Hf1.4 Zr0.007 Ti0.4 Ta3.3 W9.4 Mo0.5 Cr8.1 Co9.3 Ni61.5 Al5.7 B0.017 C0.07',\n  'Hf1.5 Mo98.5',\n  'Hf12.5 Ti21 Nb1 Si16',\n  'Hf2 W15 Re5 Ru2',\n  'Hf22.2 Ti22.2 Nb22.2 V11.1 Mo11.1 Si11.2',\n  'Li30 Ca5 Mg35 Y0.1 Al19.9 Si10',\n  'Mg1 Mn1 Cu1 Zn1 Al13 Si3',\n  'Mn1 Co1 Ni1',\n  'Mn1 Fe1 Ni1',\n  'Mo0.15 Cr1 Fe1 Co1 Ni1',\n  'Mo0.2 Cr1 Fe1 Co1 Ni1 Al1',\n  'Mo0.3 Cr1 Fe1 Co1 Ni1 Al1',\n  'Mo0.72 B0.28',\n  'Mo1',\n  'Mo1 Cr12 Fe12 Co12 Ni12',\n  'Mo3 Cr10 Fe3 Co17 Ni17',\n  'Mo5 Cr12.5 Fe55 Co17.5 Ni10',\n  'Mo7 Cr23 Fe23 Co23 Ni23',\n  'Nb0.412 Cr1 Fe1 Co1 Ni1',\n  'Nb1',\n  'Nb1 Mo1 Cr1 Co1',\n  'Nb1 Ru1',\n  'Nb1 V1 W3 Ru1',\n  'Nb1 W1 Mo1 Re0.5',\n  'Nb2.7 Mo80.7 B7.7 Si8.9',\n  'Nb62.5 Si37.5',\n  'Pr1',\n  'Re1',\n  'Sc1 Hf1 Zr1 Ti1',\n  'Sm1',\n  'Ta1',\n  'Ta1 Nb1 V1 W1 Mo1',\n  'Ta1 Nb1 V1 W1 Mo1 Cr1',\n  'Ta1 Nb1 W1 Mo1',\n  'Ta6 Co57 Ni2 B35',\n  'Ta7 Nb4 W4 Mo3 Re2',\n  'Ta9 Co56 B35',\n  'Ti0.3 Cr1 Fe1 Co0.5 Ni1.5',\n  'Ti0.3 Cr1 Fe1 Co1 Ni1',\n  'Ti0.3 Ta1 V1 W1 Cr1',\n  'Ti0.5 Cr1 Fe1 Co1 Ni1 Al0.25',\n  'Ti0.5 Cr1 Fe1 Co1 Ni1 Cu0.5 Al0.5',\n  'Ti0.5 Ta1 Nb1 W1 Mo1',\n  'Ti0.6 Cr1 Fe1 Ni1',\n  'Ti0.75 Ta1 Nb1 W1 Mo1',\n  'Ti1 Cr1 Fe1 Co1 Ni1',\n  'Ti1 Cr1 Fe1 Co1 Ni1 Al0.5',\n  'Ti1 Cr1 Fe1 Co1 Ni1 Al1',\n  'Ti1 Cr1 Fe1 Co1 Ni1 Al2',\n  'Ti1 Cr1 Fe1 Co1 Ni1 Cu1 Al1',\n  'Ti1 Cr12 Fe12 Co12 Ni12 Al2',\n  'Ti1 Fe1 Ni1 Cu1 Al1',\n  'Ti1 Nb1 Mo1 Al1',\n  'Ti1 Nb1 V1 Al1',\n  'Ti1 Nb1 V1 Cr0.5 Al1',\n  'Ti1 Nb1 V1 Cr1 Ni1 Al10',\n  'Ti1 Nb1 V1 Cr1 Ni1 Al7',\n  'Ti1 Nb1 V1 Mo1 Al0.25',\n  'Ti1 Nb1 W2',\n  'Ti1 Ta1 Nb1',\n  'Ti1 Ta1 Nb1 V1',\n  'Ti1 Ta1 Nb1 V1 Al0.5',\n  'Ti1 Ta1 Nb1 V1 W1 Mo1',\n  'Ti1 Ta1 Nb1 W1 Mo1',\n  'Ti1 Ta1 W1 Mo1',\n  'Ti1 V23 Cr1',\n  'Ti1 V24',\n  'Ti1.125 Fe0.75 Ni1 Cu1 Al1.125',\n  'Ti1.5 Ta1 Nb1 V1 Mo1',\n  'Ti11 Nb21 Mo10 Si8',\n  'Ti11.1 V22.2 Mo22.2 Cr22.2 Fe22.2',\n  'Ti2 Ru1',\n  'Ti22 Nb47 Mo15 Si16',\n  'Ti23.8 Cr23.8 Ni23.8 Cu23.8 Al4.8',\n  'Ti32.33 Mo32.33 Cr32.33 Al3',\n  'Ti6 Cr8 Fe15 Co25 Ni36 Al10',\n  'Ti7.5 V7.5 Cr7.5 Mn7.5 Fe7.5 Co7.5 Ni7.5 Cu7.5 Al40',\n  'Ti8 Ta23 Nb23 W23 Mo23',\n  'Ti86.2 V3.15 Al10.2',\n  'V0.25 Cr1 Mn1 Fe1 Co1 Ni1',\n  'V1',\n  'V1 Co1 Ni1',\n  'V2 Cr3 Mn1 Fe7 Co2 Ni5',\n  'W0.08 Cr0.184 Mn0.184 Fe0.184 Co0.184 Ni0.184',\n  'W92.5 Fe2.19 Ni5.33',\n  'Y1 Hf1 Zr1 Ti1',\n  'Yb1',\n  'Zr0.001 Ta97.141 Nb0.15 W2.5 Mo0.009 Fe0.19 C0.003 N0.002 O0.004',\n  'Zr0.165 W96.07 Re3.6 C0.165',\n  'Zr0.5 Ti1 Nb1 V1 Al1',\n  'Zr1 Ti1 Nb1 Al1',\n  'Zr1 Ti1 Nb1 Cr3',\n  'Zr1 Ti1 Nb1 V0.3 Mo0.5',\n  'Zr1 Ti1 Nb1 V0.3 Mo0.7',\n  'Zr1 Ti1 Nb1 V0.3 Mo1.3',\n  'Zr1 Ti1 Nb1 V1',\n  'Zr1 Ti1 Nb1 V1 Al1',\n  'Zr1 Ti1 Nb1 V1 Cr1',\n  'Zr1 Ti1 Nb1 V1 Mo0.7',\n  'Zr1 Ti1 Nb1 V2',\n  'Zr1 Ti1 Nb1 V3 Mo1',\n  'Zr1 Ti1 Ta0.5 Nb1',\n  'Zr1 Ti1 Ta0.5 Nb1 Mo0.5 Al0.5',\n  'Zr1 Ti1 Ta0.5 Nb1 Mo0.5 Cr1',\n  'Zr1 Ti1 Ta1 Nb1 Mo1',\n  'Zr1 Ti1.5 Ta0.8 Nb1 V0.2 Al0.5',\n  'Zr15 Ta32 Ru53'},\n 'printOuts': ['DOI: 10.1016/j.actamat.2016.06.063\\nF:   Mo7 Cr23 Fe23 Co23 Ni23\\nPF:  Mo7.1 Cr23.2 Fe23.2 Co23.2 Ni23.2\\nRaw:  Co23Cr23Fe23Ni23Mo7\\nRF:  Mo1 Cr3.29 Fe3.29 Co3.29 Ni3.29\\n[7.0, 23.0, 23.0, 23.0, 23.0]\\n-->  99.0\\n',\n  'DOI: 10.1016/j.actamat.2016.11.016\\nF:   Cr16 Fe16 Co16 Ni34.4 Al16\\nPF:  Cr16.3 Fe16.3 Co16.3 Ni35 Al16.3\\nRaw:  Al16Co16Cr16Fe16Ni34.4\\nRF:  Cr1 Fe1 Co1 Ni2.15 Al1\\n[16.0, 16.0, 16.0, 34.4, 16.0]\\n-->  98.4\\n',\n  'DOI: 10.1016/j.msea.2017.04.111\\nF:   Cr19 Fe19 Co19 Ni37 Cu4 Al4\\nPF:  Cr18.6 Fe18.6 Co18.6 Ni36.3 Cu3.9 Al3.9\\nRaw:  Al4Co19Cr19Cu4Fe19Ni37\\nRF:  Cr4.75 Fe4.75 Co4.75 Ni9.25 Cu1 Al1\\n[19.0, 19.0, 19.0, 37.0, 4.0, 4.0]\\n-->  102.0\\n',\n  'DOI: 10.1016/j.matlet.2017.04.072\\nF:   Cr23 Fe23 Co23 Ni23 Al7\\nPF:  Cr23.2 Fe23.2 Co23.2 Ni23.2 Al7.1\\nRaw:  Al7Co23Cr23Fe23Ni23\\nRF:  Cr3.29 Fe3.29 Co3.29 Ni3.29 Al1\\n[23.0, 23.0, 23.0, 23.0, 7.0]\\n-->  99.0\\n']}"
     },
     "execution_count": 14,
     "metadata": {},
     "output_type": "execute_result"
    }
   ],
   "source": [
    "sC.__dict__"
   ],
   "metadata": {
    "collapsed": false,
    "ExecuteTime": {
     "end_time": "2023-11-20T17:05:28.292442Z",
     "start_time": "2023-11-20T17:05:28.289427Z"
    }
   }
  },
  {
   "cell_type": "code",
   "execution_count": null,
   "outputs": [],
   "source": [],
   "metadata": {
    "collapsed": false
   }
  }
 ],
 "metadata": {
  "kernelspec": {
   "display_name": "Python 3",
   "language": "python",
   "name": "python3"
  },
  "language_info": {
   "codemirror_mode": {
    "name": "ipython",
    "version": 2
   },
   "file_extension": ".py",
   "mimetype": "text/x-python",
   "name": "python",
   "nbconvert_exporter": "python",
   "pygments_lexer": "ipython2",
   "version": "2.7.6"
  }
 },
 "nbformat": 4,
 "nbformat_minor": 0
}

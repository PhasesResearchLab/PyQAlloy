{
 "cells": [
  {
   "cell_type": "markdown",
   "source": [
    "# PyQAlloy Custom Dataset from BSON\n",
    "\n",
    "Welcome to a minimal Jupyter notebook that shows how to use the PyQAlloy package with a Binary JSON (BSON) document native to MongoDB (or plain JSON). \n",
    "\n",
    "_Unlike_ in the case of the longer `UserCuration.ipynb` tutorial, you do not need ULTERA ([ultera.org](https://ultera.org)) access, as we will utilize a persisted snapshot of the database stored in this repository under `devTools/ULTERA_sample.bson` and containing a 300-document subset of the ULTERA data.\n",
    "\n",
    "This notebook should also allow for plug-an-play compatibility with ULTERA Database snapshots stored in Zenodo repository at [doi.org/10.5281/zenodo.7566415](https://doi.org/10.5281/zenodo.7566415) or any data conforming to the ULTERA schema standards.\n",
    "\n",
    "## Single Composition Scope Example\n",
    "\n",
    "***We will now go through an example for a single composition scope, but you can pass the to any of the methods described in the `pyqalloy.curation.analysis` module, which are covered in the main `UserCuration.ipynb` tutorial.***\n",
    "\n",
    "Start by importing PyQAlloy and MontyDB. The latter will pretend to be a MongoDB client and allow us to load the BSON file. It is singificantly faster than the actual MongoDB client, but does not support all the features of MongoDB. For the purposes of this tutorial, it is sufficient, but in production environments, you should use the actual MongoDB as, for instance, its performance-critical aggregation framework is not supported by MontyDB."
   ],
   "metadata": {
    "collapsed": false
   }
  },
  {
   "cell_type": "code",
   "execution_count": 1,
   "outputs": [],
   "source": [
    "from pyqalloy.curation.analysis import SingleCompositionAnalyzer\n",
    "from montydb import MontyClient\n",
    "import bson"
   ],
   "metadata": {
    "collapsed": false,
    "ExecuteTime": {
     "end_time": "2023-11-21T14:52:18.033611Z",
     "start_time": "2023-11-21T14:52:16.946479Z"
    }
   }
  },
  {
   "cell_type": "markdown",
   "source": [
    "Set up the `customCollection` with a convenient one-liner below"
   ],
   "metadata": {
    "collapsed": false
   }
  },
  {
   "cell_type": "code",
   "execution_count": 2,
   "outputs": [],
   "source": [
    "customCollection = MontyClient(\":memory:\").db.test"
   ],
   "metadata": {
    "collapsed": false,
    "ExecuteTime": {
     "end_time": "2023-11-21T14:52:18.036812Z",
     "start_time": "2023-11-21T14:52:18.034733Z"
    }
   }
  },
  {
   "cell_type": "markdown",
   "source": [
    "And load the BSON file into the collection. Please note if need to be in the root directory of the repository or adjust the path to the BSON file."
   ],
   "metadata": {
    "collapsed": false
   }
  },
  {
   "cell_type": "code",
   "execution_count": 3,
   "outputs": [],
   "source": [
    "with open('devTools/ULTERA_sample.bson', 'rb+') as f:\n",
    "    customCollection.insert_many(bson.decode_all(f.read()))"
   ],
   "metadata": {
    "collapsed": false,
    "ExecuteTime": {
     "end_time": "2023-11-21T14:52:18.131744Z",
     "start_time": "2023-11-21T14:52:18.037556Z"
    }
   }
  },
  {
   "cell_type": "markdown",
   "source": [
    "Set up the sC (single Composition) Analyzer Object with our custom collection:"
   ],
   "metadata": {
    "collapsed": false
   }
  },
  {
   "cell_type": "code",
   "execution_count": 4,
   "outputs": [],
   "source": [
    "sC = SingleCompositionAnalyzer(collectionManualOverride=customCollection)"
   ],
   "metadata": {
    "collapsed": false,
    "ExecuteTime": {
     "end_time": "2023-11-21T14:52:18.133748Z",
     "start_time": "2023-11-21T14:52:18.132293Z"
    }
   }
  },
  {
   "cell_type": "markdown",
   "source": [
    "Now let's see if it works!\n",
    "\n",
    "Scan through all the compositions, looking for the ones that are close to 100 but not exactly 100. Request up to 10 results and then stop."
   ],
   "metadata": {
    "collapsed": false
   }
  },
  {
   "cell_type": "code",
   "execution_count": 5,
   "outputs": [
    {
     "name": "stdout",
     "output_type": "stream",
     "text": [
      "DOI: 10.1016/j.msea.2012.04.067  --> F9\n",
      "F:   Hf1.4 Zr0.007 Ti0.4 Ta3.3 W9.4 Mo0.5 Cr8.1 Co9.3 Ni61.5 Al5.7 B0.017 C0.07\n",
      "PF:  Hf1.4 Zr0 Ti0.4 Ta3.3 W9.4 Mo0.5 Cr8.1 Co9.3 Ni61.7 Al5.7 B0 C0.1\n",
      "Raw:  Ni61.5 W9.4 Co9.3 Cr8.1 Al5.7 Ta3.3 Hf1.4 Ti0.4 Mo0.5 C0.07 B0.017 Zr0.007\n",
      "RF:  Hf2.8 Zr0.01 Ti0.8 Ta6.6 W18.8 Mo1 Cr16.2 Co18.6 Ni123 Al11.4 B0.03 C0.14\n",
      "[1.4, 0.007, 0.4, 3.3, 9.4, 0.5, 8.1, 9.3, 61.5, 5.7, 0.017, 0.07]\n",
      "-->  99.694\n",
      "\n",
      "DOI: 10.1016/j.ijfatigue.2018.08.029  --> T6\n",
      "F:   Ti86.2 V3.15 Al10.2\n",
      "PF:  Ti86.6 V3.2 Al10.2\n",
      "Raw:  Ti86.2 Al10.2 V3.15\n",
      "RF:  Ti27.37 V1 Al3.24\n",
      "[86.2, 3.15, 10.2]\n",
      "-->  99.55\n",
      "\n",
      "DOI: 10.1016/j.actamat.2016.06.063\n",
      "F:   Mo7 Cr23 Fe23 Co23 Ni23\n",
      "PF:  Mo7.1 Cr23.2 Fe23.2 Co23.2 Ni23.2\n",
      "Raw:  Co23Cr23Fe23Ni23Mo7\n",
      "RF:  Mo1 Cr3.29 Fe3.29 Co3.29 Ni3.29\n",
      "[7.0, 23.0, 23.0, 23.0, 23.0]\n",
      "-->  99.0\n",
      "\n",
      "DOI: 10.1016/j.actamat.2016.11.016\n",
      "F:   Cr16 Fe16 Co16 Ni34.4 Al16\n",
      "PF:  Cr16.3 Fe16.3 Co16.3 Ni35 Al16.3\n",
      "Raw:  Al16Co16Cr16Fe16Ni34.4\n",
      "RF:  Cr1 Fe1 Co1 Ni2.15 Al1\n",
      "[16.0, 16.0, 16.0, 34.4, 16.0]\n",
      "-->  98.4\n",
      "\n",
      "DOI: 10.1016/j.msea.2017.04.111\n",
      "F:   Cr19 Fe19 Co19 Ni37 Cu4 Al4\n",
      "PF:  Cr18.6 Fe18.6 Co18.6 Ni36.3 Cu3.9 Al3.9\n",
      "Raw:  Al4Co19Cr19Cu4Fe19Ni37\n",
      "RF:  Cr4.75 Fe4.75 Co4.75 Ni9.25 Cu1 Al1\n",
      "[19.0, 19.0, 19.0, 37.0, 4.0, 4.0]\n",
      "-->  102.0\n",
      "\n",
      "DOI: 10.1016/j.matlet.2017.04.072\n",
      "F:   Cr23 Fe23 Co23 Ni23 Al7\n",
      "PF:  Cr23.2 Fe23.2 Co23.2 Ni23.2 Al7.1\n",
      "Raw:  Al7Co23Cr23Fe23Ni23\n",
      "RF:  Cr3.29 Fe3.29 Co3.29 Ni3.29 Al1\n",
      "[23.0, 23.0, 23.0, 23.0, 7.0]\n",
      "-->  99.0\n"
     ]
    }
   ],
   "source": [
    "sC.scanCompositionsAround100(resultLimit=10, \n",
    "                             printOnFly=True)"
   ],
   "metadata": {
    "collapsed": false,
    "ExecuteTime": {
     "end_time": "2023-11-21T14:52:18.173054Z",
     "start_time": "2023-11-21T14:52:18.154614Z"
    }
   }
  },
  {
   "cell_type": "markdown",
   "source": [
    "If some of the above seem like simple numerical precision propblems, you can re-initialize the sC object and run it again with custom settings (uncertainty=1, i.e., +/-1% passed as close enough to 100%). There are quite a few you can modify to your needs."
   ],
   "metadata": {
    "collapsed": false
   }
  },
  {
   "cell_type": "code",
   "execution_count": 6,
   "outputs": [
    {
     "name": "stdout",
     "output_type": "stream",
     "text": [
      "DOI: 10.1016/j.actamat.2016.11.016\n",
      "F:   Cr16 Fe16 Co16 Ni34.4 Al16\n",
      "PF:  Cr16.3 Fe16.3 Co16.3 Ni35 Al16.3\n",
      "Raw:  Al16Co16Cr16Fe16Ni34.4\n",
      "RF:  Cr1 Fe1 Co1 Ni2.15 Al1\n",
      "[16.0, 16.0, 16.0, 34.4, 16.0]\n",
      "-->  98.4\n",
      "\n",
      "DOI: 10.1016/j.msea.2017.04.111\n",
      "F:   Cr19 Fe19 Co19 Ni37 Cu4 Al4\n",
      "PF:  Cr18.6 Fe18.6 Co18.6 Ni36.3 Cu3.9 Al3.9\n",
      "Raw:  Al4Co19Cr19Cu4Fe19Ni37\n",
      "RF:  Cr4.75 Fe4.75 Co4.75 Ni9.25 Cu1 Al1\n",
      "[19.0, 19.0, 19.0, 37.0, 4.0, 4.0]\n",
      "-->  102.0\n"
     ]
    }
   ],
   "source": [
    "sC = SingleCompositionAnalyzer(collectionManualOverride=customCollection)\n",
    "sC.scanCompositionsAround100(resultLimit=10, \n",
    "                             printOnFly=True, \n",
    "                             uncertainty=1)"
   ],
   "metadata": {
    "collapsed": false,
    "ExecuteTime": {
     "end_time": "2023-11-21T14:52:18.178559Z",
     "start_time": "2023-11-21T14:52:18.177113Z"
    }
   }
  },
  {
   "cell_type": "markdown",
   "source": [
    "Lastly, run the same procedure, but **only look at compositions that a specific researcher uploaded (not necessarily parsed themselves)** by initializing the sC with a name specified. ?\n",
    "\n",
    "This time the printOnFly is set to False, so that the results are not printed on the fly, but rather stored in a list."
   ],
   "metadata": {
    "collapsed": false
   }
  },
  {
   "cell_type": "code",
   "execution_count": 7,
   "outputs": [],
   "source": [
    "sC = SingleCompositionAnalyzer(name='Adam Krajewski', \n",
    "                               collectionManualOverride=customCollection)\n",
    "sC.scanCompositionsAround100(printOnFly=False, \n",
    "                             resultLimit=10, \n",
    "                             uncertainty=0.21)"
   ],
   "metadata": {
    "collapsed": false,
    "ExecuteTime": {
     "end_time": "2023-11-21T14:52:18.204486Z",
     "start_time": "2023-11-21T14:52:18.201271Z"
    }
   }
  },
  {
   "cell_type": "code",
   "execution_count": 8,
   "outputs": [
    {
     "data": {
      "text/plain": "['DOI: 10.1016/j.actamat.2016.06.063\\nF:   Mo7 Cr23 Fe23 Co23 Ni23\\nPF:  Mo7.1 Cr23.2 Fe23.2 Co23.2 Ni23.2\\nRaw:  Co23Cr23Fe23Ni23Mo7\\nRF:  Mo1 Cr3.29 Fe3.29 Co3.29 Ni3.29\\n[7.0, 23.0, 23.0, 23.0, 23.0]\\n-->  99.0\\n',\n 'DOI: 10.1016/j.actamat.2016.11.016\\nF:   Cr16 Fe16 Co16 Ni34.4 Al16\\nPF:  Cr16.3 Fe16.3 Co16.3 Ni35 Al16.3\\nRaw:  Al16Co16Cr16Fe16Ni34.4\\nRF:  Cr1 Fe1 Co1 Ni2.15 Al1\\n[16.0, 16.0, 16.0, 34.4, 16.0]\\n-->  98.4\\n',\n 'DOI: 10.1016/j.msea.2017.04.111\\nF:   Cr19 Fe19 Co19 Ni37 Cu4 Al4\\nPF:  Cr18.6 Fe18.6 Co18.6 Ni36.3 Cu3.9 Al3.9\\nRaw:  Al4Co19Cr19Cu4Fe19Ni37\\nRF:  Cr4.75 Fe4.75 Co4.75 Ni9.25 Cu1 Al1\\n[19.0, 19.0, 19.0, 37.0, 4.0, 4.0]\\n-->  102.0\\n',\n 'DOI: 10.1016/j.matlet.2017.04.072\\nF:   Cr23 Fe23 Co23 Ni23 Al7\\nPF:  Cr23.2 Fe23.2 Co23.2 Ni23.2 Al7.1\\nRaw:  Al7Co23Cr23Fe23Ni23\\nRF:  Cr3.29 Fe3.29 Co3.29 Ni3.29 Al1\\n[23.0, 23.0, 23.0, 23.0, 7.0]\\n-->  99.0\\n']"
     },
     "execution_count": 8,
     "metadata": {},
     "output_type": "execute_result"
    }
   ],
   "source": [
    "sC.printOuts"
   ],
   "metadata": {
    "collapsed": false,
    "ExecuteTime": {
     "end_time": "2023-11-21T14:52:18.207250Z",
     "start_time": "2023-11-21T14:52:18.204450Z"
    }
   }
  },
  {
   "cell_type": "markdown",
   "source": [
    "And now, save that list for later analysis!"
   ],
   "metadata": {
    "collapsed": false
   }
  },
  {
   "cell_type": "code",
   "execution_count": 9,
   "outputs": [],
   "source": [
    "sC.writeResultsToFile('customSingleComp_Adam.txt')"
   ],
   "metadata": {
    "collapsed": false,
    "ExecuteTime": {
     "end_time": "2023-11-21T14:52:18.209390Z",
     "start_time": "2023-11-21T14:52:18.206662Z"
    }
   }
  },
  {
   "cell_type": "markdown",
   "source": [
    "***Now, you know how to utilize a custom dataset with PyQAlloy!***"
   ],
   "metadata": {
    "collapsed": false
   }
  },
  {
   "cell_type": "code",
   "execution_count": 9,
   "outputs": [],
   "source": [],
   "metadata": {
    "collapsed": false,
    "ExecuteTime": {
     "end_time": "2023-11-21T14:52:18.211200Z",
     "start_time": "2023-11-21T14:52:18.209883Z"
    }
   }
  }
 ],
 "metadata": {
  "kernelspec": {
   "display_name": "Python 3",
   "language": "python",
   "name": "python3"
  },
  "language_info": {
   "codemirror_mode": {
    "name": "ipython",
    "version": 2
   },
   "file_extension": ".py",
   "mimetype": "text/x-python",
   "name": "python",
   "nbconvert_exporter": "python",
   "pygments_lexer": "ipython2",
   "version": "2.7.6"
  }
 },
 "nbformat": 4,
 "nbformat_minor": 0
}
